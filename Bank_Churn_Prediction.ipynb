{
 "cells": [
  {
   "cell_type": "markdown",
   "source": [
    "# 1. Подготовка данных"
   ],
   "metadata": {
    "collapsed": false
   }
  },
  {
   "cell_type": "code",
   "execution_count": 1,
   "outputs": [],
   "source": [
    "import warnings\n",
    "warnings.filterwarnings('ignore')\n",
    "\n",
    "import optuna\n",
    "import mlflow\n",
    "import joblib\n",
    "import pandas as pd\n",
    "import xgboost as xgb\n",
    "import numpy as np\n",
    "import matplotlib.pyplot as plt\n",
    "\n",
    "from imblearn.over_sampling import SMOTE\n",
    "from imblearn.pipeline import Pipeline\n",
    "from sklearn.model_selection import train_test_split, cross_val_score\n",
    "from sklearn.preprocessing import OneHotEncoder, StandardScaler, PowerTransformer\n",
    "from sklearn.compose import ColumnTransformer\n",
    "from sklearn.impute import SimpleImputer\n",
    "from sklearn.ensemble import RandomForestClassifier\n",
    "from sklearn.linear_model import LogisticRegression\n",
    "from sklearn.svm import SVC\n",
    "from sklearn.metrics import roc_auc_score, roc_curve, confusion_matrix, f1_score, balanced_accuracy_score\n",
    "\n",
    "mlflow.set_tracking_uri(\"http://127.0.0.1:8000\")\n",
    "client=mlflow.MlflowClient(tracking_uri='http://127.0.0.1:8000')\n",
    "# optuna.logging.set_verbosity(optuna.logging.WARNING)"
   ],
   "metadata": {
    "collapsed": false,
    "ExecuteTime": {
     "end_time": "2023-12-03T15:49:06.694900700Z",
     "start_time": "2023-12-03T15:49:01.077216900Z"
    }
   }
  },
  {
   "cell_type": "code",
   "execution_count": 2,
   "outputs": [],
   "source": [
    "df = pd.read_csv('Churn.csv')"
   ],
   "metadata": {
    "collapsed": false,
    "ExecuteTime": {
     "end_time": "2023-12-03T15:49:08.351626900Z",
     "start_time": "2023-12-03T15:49:08.275555500Z"
    }
   }
  },
  {
   "cell_type": "code",
   "execution_count": 3,
   "outputs": [
    {
     "data": {
      "text/plain": "      RowNumber  CustomerId    Surname  CreditScore Geography  Gender  Age  \\\n0             1    15634602   Hargrave          619    France  Female   42   \n1             2    15647311       Hill          608     Spain  Female   41   \n2             3    15619304       Onio          502    France  Female   42   \n3             4    15701354       Boni          699    France  Female   39   \n4             5    15737888   Mitchell          850     Spain  Female   43   \n...         ...         ...        ...          ...       ...     ...  ...   \n9995       9996    15606229   Obijiaku          771    France    Male   39   \n9996       9997    15569892  Johnstone          516    France    Male   35   \n9997       9998    15584532        Liu          709    France  Female   36   \n9998       9999    15682355  Sabbatini          772   Germany    Male   42   \n9999      10000    15628319     Walker          792    France  Female   28   \n\n      Tenure    Balance  NumOfProducts  HasCrCard  IsActiveMember  \\\n0        2.0       0.00              1          1               1   \n1        1.0   83807.86              1          0               1   \n2        8.0  159660.80              3          1               0   \n3        1.0       0.00              2          0               0   \n4        2.0  125510.82              1          1               1   \n...      ...        ...            ...        ...             ...   \n9995     5.0       0.00              2          1               0   \n9996    10.0   57369.61              1          1               1   \n9997     7.0       0.00              1          0               1   \n9998     3.0   75075.31              2          1               0   \n9999     NaN  130142.79              1          1               0   \n\n      EstimatedSalary  Exited  \n0           101348.88       1  \n1           112542.58       0  \n2           113931.57       1  \n3            93826.63       0  \n4            79084.10       0  \n...               ...     ...  \n9995         96270.64       0  \n9996        101699.77       0  \n9997         42085.58       1  \n9998         92888.52       1  \n9999         38190.78       0  \n\n[10000 rows x 14 columns]",
      "text/html": "<div>\n<style scoped>\n    .dataframe tbody tr th:only-of-type {\n        vertical-align: middle;\n    }\n\n    .dataframe tbody tr th {\n        vertical-align: top;\n    }\n\n    .dataframe thead th {\n        text-align: right;\n    }\n</style>\n<table border=\"1\" class=\"dataframe\">\n  <thead>\n    <tr style=\"text-align: right;\">\n      <th></th>\n      <th>RowNumber</th>\n      <th>CustomerId</th>\n      <th>Surname</th>\n      <th>CreditScore</th>\n      <th>Geography</th>\n      <th>Gender</th>\n      <th>Age</th>\n      <th>Tenure</th>\n      <th>Balance</th>\n      <th>NumOfProducts</th>\n      <th>HasCrCard</th>\n      <th>IsActiveMember</th>\n      <th>EstimatedSalary</th>\n      <th>Exited</th>\n    </tr>\n  </thead>\n  <tbody>\n    <tr>\n      <th>0</th>\n      <td>1</td>\n      <td>15634602</td>\n      <td>Hargrave</td>\n      <td>619</td>\n      <td>France</td>\n      <td>Female</td>\n      <td>42</td>\n      <td>2.0</td>\n      <td>0.00</td>\n      <td>1</td>\n      <td>1</td>\n      <td>1</td>\n      <td>101348.88</td>\n      <td>1</td>\n    </tr>\n    <tr>\n      <th>1</th>\n      <td>2</td>\n      <td>15647311</td>\n      <td>Hill</td>\n      <td>608</td>\n      <td>Spain</td>\n      <td>Female</td>\n      <td>41</td>\n      <td>1.0</td>\n      <td>83807.86</td>\n      <td>1</td>\n      <td>0</td>\n      <td>1</td>\n      <td>112542.58</td>\n      <td>0</td>\n    </tr>\n    <tr>\n      <th>2</th>\n      <td>3</td>\n      <td>15619304</td>\n      <td>Onio</td>\n      <td>502</td>\n      <td>France</td>\n      <td>Female</td>\n      <td>42</td>\n      <td>8.0</td>\n      <td>159660.80</td>\n      <td>3</td>\n      <td>1</td>\n      <td>0</td>\n      <td>113931.57</td>\n      <td>1</td>\n    </tr>\n    <tr>\n      <th>3</th>\n      <td>4</td>\n      <td>15701354</td>\n      <td>Boni</td>\n      <td>699</td>\n      <td>France</td>\n      <td>Female</td>\n      <td>39</td>\n      <td>1.0</td>\n      <td>0.00</td>\n      <td>2</td>\n      <td>0</td>\n      <td>0</td>\n      <td>93826.63</td>\n      <td>0</td>\n    </tr>\n    <tr>\n      <th>4</th>\n      <td>5</td>\n      <td>15737888</td>\n      <td>Mitchell</td>\n      <td>850</td>\n      <td>Spain</td>\n      <td>Female</td>\n      <td>43</td>\n      <td>2.0</td>\n      <td>125510.82</td>\n      <td>1</td>\n      <td>1</td>\n      <td>1</td>\n      <td>79084.10</td>\n      <td>0</td>\n    </tr>\n    <tr>\n      <th>...</th>\n      <td>...</td>\n      <td>...</td>\n      <td>...</td>\n      <td>...</td>\n      <td>...</td>\n      <td>...</td>\n      <td>...</td>\n      <td>...</td>\n      <td>...</td>\n      <td>...</td>\n      <td>...</td>\n      <td>...</td>\n      <td>...</td>\n      <td>...</td>\n    </tr>\n    <tr>\n      <th>9995</th>\n      <td>9996</td>\n      <td>15606229</td>\n      <td>Obijiaku</td>\n      <td>771</td>\n      <td>France</td>\n      <td>Male</td>\n      <td>39</td>\n      <td>5.0</td>\n      <td>0.00</td>\n      <td>2</td>\n      <td>1</td>\n      <td>0</td>\n      <td>96270.64</td>\n      <td>0</td>\n    </tr>\n    <tr>\n      <th>9996</th>\n      <td>9997</td>\n      <td>15569892</td>\n      <td>Johnstone</td>\n      <td>516</td>\n      <td>France</td>\n      <td>Male</td>\n      <td>35</td>\n      <td>10.0</td>\n      <td>57369.61</td>\n      <td>1</td>\n      <td>1</td>\n      <td>1</td>\n      <td>101699.77</td>\n      <td>0</td>\n    </tr>\n    <tr>\n      <th>9997</th>\n      <td>9998</td>\n      <td>15584532</td>\n      <td>Liu</td>\n      <td>709</td>\n      <td>France</td>\n      <td>Female</td>\n      <td>36</td>\n      <td>7.0</td>\n      <td>0.00</td>\n      <td>1</td>\n      <td>0</td>\n      <td>1</td>\n      <td>42085.58</td>\n      <td>1</td>\n    </tr>\n    <tr>\n      <th>9998</th>\n      <td>9999</td>\n      <td>15682355</td>\n      <td>Sabbatini</td>\n      <td>772</td>\n      <td>Germany</td>\n      <td>Male</td>\n      <td>42</td>\n      <td>3.0</td>\n      <td>75075.31</td>\n      <td>2</td>\n      <td>1</td>\n      <td>0</td>\n      <td>92888.52</td>\n      <td>1</td>\n    </tr>\n    <tr>\n      <th>9999</th>\n      <td>10000</td>\n      <td>15628319</td>\n      <td>Walker</td>\n      <td>792</td>\n      <td>France</td>\n      <td>Female</td>\n      <td>28</td>\n      <td>NaN</td>\n      <td>130142.79</td>\n      <td>1</td>\n      <td>1</td>\n      <td>0</td>\n      <td>38190.78</td>\n      <td>0</td>\n    </tr>\n  </tbody>\n</table>\n<p>10000 rows × 14 columns</p>\n</div>"
     },
     "execution_count": 3,
     "metadata": {},
     "output_type": "execute_result"
    }
   ],
   "source": [
    "df"
   ],
   "metadata": {
    "collapsed": false,
    "ExecuteTime": {
     "end_time": "2023-12-03T15:49:09.296186600Z",
     "start_time": "2023-12-03T15:49:09.251005500Z"
    }
   }
  },
  {
   "cell_type": "code",
   "execution_count": 4,
   "outputs": [
    {
     "name": "stdout",
     "output_type": "stream",
     "text": [
      "<class 'pandas.core.frame.DataFrame'>\n",
      "RangeIndex: 10000 entries, 0 to 9999\n",
      "Data columns (total 14 columns):\n",
      " #   Column           Non-Null Count  Dtype  \n",
      "---  ------           --------------  -----  \n",
      " 0   RowNumber        10000 non-null  int64  \n",
      " 1   CustomerId       10000 non-null  int64  \n",
      " 2   Surname          10000 non-null  object \n",
      " 3   CreditScore      10000 non-null  int64  \n",
      " 4   Geography        10000 non-null  object \n",
      " 5   Gender           10000 non-null  object \n",
      " 6   Age              10000 non-null  int64  \n",
      " 7   Tenure           9091 non-null   float64\n",
      " 8   Balance          10000 non-null  float64\n",
      " 9   NumOfProducts    10000 non-null  int64  \n",
      " 10  HasCrCard        10000 non-null  int64  \n",
      " 11  IsActiveMember   10000 non-null  int64  \n",
      " 12  EstimatedSalary  10000 non-null  float64\n",
      " 13  Exited           10000 non-null  int64  \n",
      "dtypes: float64(3), int64(8), object(3)\n",
      "memory usage: 1.1+ MB\n"
     ]
    }
   ],
   "source": [
    "df.info()"
   ],
   "metadata": {
    "collapsed": false,
    "ExecuteTime": {
     "end_time": "2023-12-03T15:49:12.387295700Z",
     "start_time": "2023-12-03T15:49:12.259363Z"
    }
   }
  },
  {
   "cell_type": "code",
   "execution_count": 5,
   "outputs": [
    {
     "data": {
      "text/plain": "0"
     },
     "execution_count": 5,
     "metadata": {},
     "output_type": "execute_result"
    }
   ],
   "source": [
    "# проверим наличие явных дубликатов:\n",
    "df.duplicated().sum()"
   ],
   "metadata": {
    "collapsed": false,
    "ExecuteTime": {
     "end_time": "2023-12-03T15:49:13.236332500Z",
     "start_time": "2023-12-03T15:49:13.172756600Z"
    }
   }
  },
  {
   "cell_type": "code",
   "execution_count": 6,
   "outputs": [
    {
     "data": {
      "text/plain": "Geography\nFrance     5014\nGermany    2509\nSpain      2477\nName: count, dtype: int64"
     },
     "metadata": {},
     "output_type": "display_data"
    },
    {
     "data": {
      "text/plain": "Tenure\n1.0     952\n2.0     950\n8.0     933\n3.0     928\n5.0     927\n7.0     925\n4.0     885\n9.0     882\n6.0     881\n10.0    446\n0.0     382\nName: count, dtype: int64"
     },
     "metadata": {},
     "output_type": "display_data"
    },
    {
     "data": {
      "text/plain": "NumOfProducts\n1    5084\n2    4590\n3     266\n4      60\nName: count, dtype: int64"
     },
     "metadata": {},
     "output_type": "display_data"
    },
    {
     "data": {
      "text/plain": "Gender\nMale      5457\nFemale    4543\nName: count, dtype: int64"
     },
     "metadata": {},
     "output_type": "display_data"
    },
    {
     "data": {
      "text/plain": "HasCrCard\n1    7055\n0    2945\nName: count, dtype: int64"
     },
     "metadata": {},
     "output_type": "display_data"
    },
    {
     "data": {
      "text/plain": "IsActiveMember\n1    5151\n0    4849\nName: count, dtype: int64"
     },
     "metadata": {},
     "output_type": "display_data"
    }
   ],
   "source": [
    "# посмотрим уникальные значения в категориальных признаках:\n",
    "cat_columns = ['Geography', 'Tenure', 'NumOfProducts', 'Gender', 'HasCrCard', 'IsActiveMember']\n",
    "for col in cat_columns:\n",
    "    display(df[col].value_counts())"
   ],
   "metadata": {
    "collapsed": false,
    "ExecuteTime": {
     "end_time": "2023-12-03T15:49:13.802454600Z",
     "start_time": "2023-12-03T15:49:13.650925400Z"
    }
   }
  },
  {
   "cell_type": "code",
   "execution_count": 7,
   "outputs": [
    {
     "data": {
      "text/plain": "Exited\n0    7963\n1    2037\nName: count, dtype: int64"
     },
     "execution_count": 7,
     "metadata": {},
     "output_type": "execute_result"
    }
   ],
   "source": [
    "# посчитаем классы в целевом признаке:\n",
    "df['Exited'].value_counts()"
   ],
   "metadata": {
    "collapsed": false,
    "ExecuteTime": {
     "end_time": "2023-12-03T15:49:14.099900400Z",
     "start_time": "2023-12-03T15:49:14.049433200Z"
    }
   }
  },
  {
   "cell_type": "markdown",
   "source": [
    "Можно отметить, что дубликаты в датасете отсутствуют, в столбце Tenure есть около тысячи пропусков, а также несколько столбцов лучше вообще удалить, из них:\n",
    "\n",
    "- RowNumber - это индекс строки в данных, важной информации не содержит;\n",
    "- CustomerId - уникальный идентификатор клиента, по нему мы проверили дубликаты и теперь его можно удалить;\n",
    "- Surname - фамилия, которая тоже не имеет связи с оттоком клиентов.\n",
    "\n",
    "После проверки датасета на сбалансированность классов в таргете мы видим, что объектов отрицательного класса намного больше (почти в четыре раза), но все равно уходит примерно 20% клиентов. В столбце Geography находятся всего 3 уникальных значения: France, Germany и Spain. В столбце Tenure (сколько лет человек является клиентом банка) есть 909 пропусков. Заполним их значением -1, добавив логический параметр add_indicator=True. Есть несколько бинарных признаков (HasCrCard, IsActiveMember), которывыделим в отдельную категорию признаков."
   ],
   "metadata": {
    "collapsed": false
   }
  },
  {
   "cell_type": "code",
   "execution_count": 8,
   "outputs": [],
   "source": [
    "# удалим ненужные столбцы:\n",
    "df.drop([\"RowNumber\", \"CustomerId\", \"Surname\"], axis=1, inplace=True)"
   ],
   "metadata": {
    "collapsed": false,
    "ExecuteTime": {
     "end_time": "2023-12-03T15:49:14.844669600Z",
     "start_time": "2023-12-03T15:49:14.779754300Z"
    }
   }
  },
  {
   "cell_type": "code",
   "execution_count": 9,
   "outputs": [
    {
     "data": {
      "text/plain": "      CreditScore Geography  Gender  Age  Tenure    Balance  NumOfProducts  \\\n0             619    France  Female   42     2.0       0.00              1   \n1             608     Spain  Female   41     1.0   83807.86              1   \n2             502    France  Female   42     8.0  159660.80              3   \n3             699    France  Female   39     1.0       0.00              2   \n4             850     Spain  Female   43     2.0  125510.82              1   \n...           ...       ...     ...  ...     ...        ...            ...   \n9995          771    France    Male   39     5.0       0.00              2   \n9996          516    France    Male   35    10.0   57369.61              1   \n9997          709    France  Female   36     7.0       0.00              1   \n9998          772   Germany    Male   42     3.0   75075.31              2   \n9999          792    France  Female   28     NaN  130142.79              1   \n\n      HasCrCard  IsActiveMember  EstimatedSalary  Exited  \n0             1               1        101348.88       1  \n1             0               1        112542.58       0  \n2             1               0        113931.57       1  \n3             0               0         93826.63       0  \n4             1               1         79084.10       0  \n...         ...             ...              ...     ...  \n9995          1               0         96270.64       0  \n9996          1               1        101699.77       0  \n9997          0               1         42085.58       1  \n9998          1               0         92888.52       1  \n9999          1               0         38190.78       0  \n\n[10000 rows x 11 columns]",
      "text/html": "<div>\n<style scoped>\n    .dataframe tbody tr th:only-of-type {\n        vertical-align: middle;\n    }\n\n    .dataframe tbody tr th {\n        vertical-align: top;\n    }\n\n    .dataframe thead th {\n        text-align: right;\n    }\n</style>\n<table border=\"1\" class=\"dataframe\">\n  <thead>\n    <tr style=\"text-align: right;\">\n      <th></th>\n      <th>CreditScore</th>\n      <th>Geography</th>\n      <th>Gender</th>\n      <th>Age</th>\n      <th>Tenure</th>\n      <th>Balance</th>\n      <th>NumOfProducts</th>\n      <th>HasCrCard</th>\n      <th>IsActiveMember</th>\n      <th>EstimatedSalary</th>\n      <th>Exited</th>\n    </tr>\n  </thead>\n  <tbody>\n    <tr>\n      <th>0</th>\n      <td>619</td>\n      <td>France</td>\n      <td>Female</td>\n      <td>42</td>\n      <td>2.0</td>\n      <td>0.00</td>\n      <td>1</td>\n      <td>1</td>\n      <td>1</td>\n      <td>101348.88</td>\n      <td>1</td>\n    </tr>\n    <tr>\n      <th>1</th>\n      <td>608</td>\n      <td>Spain</td>\n      <td>Female</td>\n      <td>41</td>\n      <td>1.0</td>\n      <td>83807.86</td>\n      <td>1</td>\n      <td>0</td>\n      <td>1</td>\n      <td>112542.58</td>\n      <td>0</td>\n    </tr>\n    <tr>\n      <th>2</th>\n      <td>502</td>\n      <td>France</td>\n      <td>Female</td>\n      <td>42</td>\n      <td>8.0</td>\n      <td>159660.80</td>\n      <td>3</td>\n      <td>1</td>\n      <td>0</td>\n      <td>113931.57</td>\n      <td>1</td>\n    </tr>\n    <tr>\n      <th>3</th>\n      <td>699</td>\n      <td>France</td>\n      <td>Female</td>\n      <td>39</td>\n      <td>1.0</td>\n      <td>0.00</td>\n      <td>2</td>\n      <td>0</td>\n      <td>0</td>\n      <td>93826.63</td>\n      <td>0</td>\n    </tr>\n    <tr>\n      <th>4</th>\n      <td>850</td>\n      <td>Spain</td>\n      <td>Female</td>\n      <td>43</td>\n      <td>2.0</td>\n      <td>125510.82</td>\n      <td>1</td>\n      <td>1</td>\n      <td>1</td>\n      <td>79084.10</td>\n      <td>0</td>\n    </tr>\n    <tr>\n      <th>...</th>\n      <td>...</td>\n      <td>...</td>\n      <td>...</td>\n      <td>...</td>\n      <td>...</td>\n      <td>...</td>\n      <td>...</td>\n      <td>...</td>\n      <td>...</td>\n      <td>...</td>\n      <td>...</td>\n    </tr>\n    <tr>\n      <th>9995</th>\n      <td>771</td>\n      <td>France</td>\n      <td>Male</td>\n      <td>39</td>\n      <td>5.0</td>\n      <td>0.00</td>\n      <td>2</td>\n      <td>1</td>\n      <td>0</td>\n      <td>96270.64</td>\n      <td>0</td>\n    </tr>\n    <tr>\n      <th>9996</th>\n      <td>516</td>\n      <td>France</td>\n      <td>Male</td>\n      <td>35</td>\n      <td>10.0</td>\n      <td>57369.61</td>\n      <td>1</td>\n      <td>1</td>\n      <td>1</td>\n      <td>101699.77</td>\n      <td>0</td>\n    </tr>\n    <tr>\n      <th>9997</th>\n      <td>709</td>\n      <td>France</td>\n      <td>Female</td>\n      <td>36</td>\n      <td>7.0</td>\n      <td>0.00</td>\n      <td>1</td>\n      <td>0</td>\n      <td>1</td>\n      <td>42085.58</td>\n      <td>1</td>\n    </tr>\n    <tr>\n      <th>9998</th>\n      <td>772</td>\n      <td>Germany</td>\n      <td>Male</td>\n      <td>42</td>\n      <td>3.0</td>\n      <td>75075.31</td>\n      <td>2</td>\n      <td>1</td>\n      <td>0</td>\n      <td>92888.52</td>\n      <td>1</td>\n    </tr>\n    <tr>\n      <th>9999</th>\n      <td>792</td>\n      <td>France</td>\n      <td>Female</td>\n      <td>28</td>\n      <td>NaN</td>\n      <td>130142.79</td>\n      <td>1</td>\n      <td>1</td>\n      <td>0</td>\n      <td>38190.78</td>\n      <td>0</td>\n    </tr>\n  </tbody>\n</table>\n<p>10000 rows × 11 columns</p>\n</div>"
     },
     "execution_count": 9,
     "metadata": {},
     "output_type": "execute_result"
    }
   ],
   "source": [
    "df"
   ],
   "metadata": {
    "collapsed": false,
    "ExecuteTime": {
     "end_time": "2023-12-03T15:49:15.425035700Z",
     "start_time": "2023-12-03T15:49:15.327404Z"
    }
   }
  },
  {
   "cell_type": "code",
   "execution_count": 10,
   "outputs": [
    {
     "name": "stdout",
     "output_type": "stream",
     "text": [
      "<class 'pandas.core.frame.DataFrame'>\n",
      "RangeIndex: 10000 entries, 0 to 9999\n",
      "Data columns (total 11 columns):\n",
      " #   Column           Non-Null Count  Dtype  \n",
      "---  ------           --------------  -----  \n",
      " 0   CreditScore      10000 non-null  int64  \n",
      " 1   Geography        10000 non-null  object \n",
      " 2   Gender           10000 non-null  object \n",
      " 3   Age              10000 non-null  int64  \n",
      " 4   Tenure           9091 non-null   float64\n",
      " 5   Balance          10000 non-null  float64\n",
      " 6   NumOfProducts    10000 non-null  int64  \n",
      " 7   HasCrCard        10000 non-null  int64  \n",
      " 8   IsActiveMember   10000 non-null  int64  \n",
      " 9   EstimatedSalary  10000 non-null  float64\n",
      " 10  Exited           10000 non-null  int64  \n",
      "dtypes: float64(3), int64(6), object(2)\n",
      "memory usage: 859.5+ KB\n"
     ]
    }
   ],
   "source": [
    "df.info()"
   ],
   "metadata": {
    "collapsed": false,
    "ExecuteTime": {
     "end_time": "2023-12-03T15:49:15.928309Z",
     "start_time": "2023-12-03T15:49:15.773524900Z"
    }
   }
  },
  {
   "cell_type": "code",
   "execution_count": 11,
   "outputs": [],
   "source": [
    "# сохраним признаки и целевой признак в отдельных переменных:\n",
    "y = df['Exited']\n",
    "X = df.drop('Exited', axis=1)"
   ],
   "metadata": {
    "collapsed": false,
    "ExecuteTime": {
     "end_time": "2023-12-03T15:49:16.446117200Z",
     "start_time": "2023-12-03T15:49:16.402529100Z"
    }
   }
  },
  {
   "cell_type": "code",
   "execution_count": 12,
   "outputs": [],
   "source": [
    "# разобьем исходные данные на обучающую и тестовую выборки в соотношении 4:1:\n",
    "X_train, X_test, y_train, y_test = train_test_split(X, y, test_size=0.2, random_state=12345, stratify=y)"
   ],
   "metadata": {
    "collapsed": false,
    "ExecuteTime": {
     "end_time": "2023-12-03T15:49:17.049990300Z",
     "start_time": "2023-12-03T15:49:17.002683700Z"
    }
   }
  },
  {
   "cell_type": "code",
   "execution_count": 13,
   "outputs": [
    {
     "name": "stdout",
     "output_type": "stream",
     "text": [
      "Размер обучающей выборки: (8000, 10)\n",
      "Размер тестовой выборки: (2000, 10)\n"
     ]
    }
   ],
   "source": [
    "# посмотрим на размеры выборок:\n",
    "print('Размер обучающей выборки:', X_train.shape)\n",
    "print('Размер тестовой выборки:', X_test.shape)"
   ],
   "metadata": {
    "collapsed": false,
    "ExecuteTime": {
     "end_time": "2023-12-03T15:49:17.478960100Z",
     "start_time": "2023-12-03T15:49:17.404936400Z"
    }
   }
  },
  {
   "cell_type": "code",
   "execution_count": 14,
   "outputs": [],
   "source": [
    "# внесем в переменные списки все численные и категориальные признаки:\n",
    "categorical_features = X_train.select_dtypes(include=['object']).columns.tolist()\n",
    "numeric_features = X_train.select_dtypes(exclude=['object']).columns.tolist()\n",
    "binary_features = ['HasCrCard', 'IsActiveMember']\n",
    "numeric_features = list(set(numeric_features) - set(binary_features))"
   ],
   "metadata": {
    "collapsed": false,
    "ExecuteTime": {
     "end_time": "2023-12-03T15:49:17.690556700Z",
     "start_time": "2023-12-03T15:49:17.649146400Z"
    }
   }
  },
  {
   "cell_type": "code",
   "execution_count": 15,
   "outputs": [
    {
     "data": {
      "text/plain": "['Balance', 'Age', 'EstimatedSalary', 'CreditScore', 'NumOfProducts', 'Tenure']"
     },
     "execution_count": 15,
     "metadata": {},
     "output_type": "execute_result"
    }
   ],
   "source": [
    "numeric_features"
   ],
   "metadata": {
    "collapsed": false,
    "ExecuteTime": {
     "end_time": "2023-12-03T15:49:17.902008300Z",
     "start_time": "2023-12-03T15:49:17.851343800Z"
    }
   }
  },
  {
   "cell_type": "code",
   "execution_count": 16,
   "outputs": [
    {
     "data": {
      "text/plain": "['Geography', 'Gender']"
     },
     "execution_count": 16,
     "metadata": {},
     "output_type": "execute_result"
    }
   ],
   "source": [
    "categorical_features"
   ],
   "metadata": {
    "collapsed": false,
    "ExecuteTime": {
     "end_time": "2023-12-03T15:49:18.277012200Z",
     "start_time": "2023-12-03T15:49:18.236053900Z"
    }
   }
  },
  {
   "cell_type": "code",
   "execution_count": 17,
   "outputs": [
    {
     "data": {
      "text/plain": "['HasCrCard', 'IsActiveMember']"
     },
     "execution_count": 17,
     "metadata": {},
     "output_type": "execute_result"
    }
   ],
   "source": [
    "binary_features"
   ],
   "metadata": {
    "collapsed": false,
    "ExecuteTime": {
     "end_time": "2023-12-03T15:49:18.608866700Z",
     "start_time": "2023-12-03T15:49:18.506763700Z"
    }
   }
  },
  {
   "cell_type": "markdown",
   "source": [
    "# 2. Обучение модели без учёта дисбаланса классов (XGBoost)"
   ],
   "metadata": {
    "collapsed": false
   }
  },
  {
   "cell_type": "markdown",
   "source": [
    "Для автоматизации процесса подготовим численный и категориальный пайплайны.\n",
    "- Для категориальных признаков (Geography, Gender) используем One Hot Encoding.\n",
    "- Для заполнения пропусков используем SimpleImputer.\n",
    "- Выполним трансформацию Йео-Джонсона.\n",
    "- Для моделей логистической регрессии и SVM выполним масштабирование данных; для моделей, основанных на деревьях, выполнять его не будем.\n",
    "- Объединим пайплайны классом ColumnTransformer."
   ],
   "metadata": {
    "collapsed": false
   }
  },
  {
   "cell_type": "code",
   "execution_count": 82,
   "outputs": [],
   "source": [
    "cat_pipeline = Pipeline([\n",
    "    ('enc', OneHotEncoder(handle_unknown='error', drop='first'))\n",
    "])\n",
    "\n",
    "num_pipeline = Pipeline([\n",
    "    ('imp', SimpleImputer(fill_value=-1, add_indicator=True)),\n",
    "    ('pt', PowerTransformer()) \n",
    "])\n",
    "\n",
    "preprocessor = ColumnTransformer([\n",
    "    (\"cat\", cat_pipeline, categorical_features),\n",
    "    (\"num\", num_pipeline, numeric_features)\n",
    "\n",
    "], remainder='passthrough')\n",
    "\n",
    "pipe = Pipeline([\n",
    "    ('preprocessor', preprocessor),\n",
    "    ('model', xgb.XGBClassifier(random_state=12345))\n",
    "])"
   ],
   "metadata": {
    "collapsed": false,
    "ExecuteTime": {
     "end_time": "2023-12-04T14:33:37.702945400Z",
     "start_time": "2023-12-04T14:33:37.585895300Z"
    }
   }
  },
  {
   "cell_type": "code",
   "execution_count": 83,
   "outputs": [],
   "source": [
    "def optuna_optimize(trial):\n",
    "    param_grid = {\n",
    "        'model__n_estimators': trial.suggest_int('model__n_estimators', 50, 500),\n",
    "        'model__max_depth': trial.suggest_int('model__max_depth', 2, 6),\n",
    "        'model__learning_rate': trial.suggest_float('model__learning_rate', 0.01, 1.5),\n",
    "        'model__gamma': trial.suggest_float('model__gamma', 0.0, 20.0),\n",
    "        'model__reg_lambda': trial.suggest_float('model__reg_lambda', 0.0, 1.0),\n",
    "        'model__min_child_weight': trial.suggest_float('model__min_child_weight', 0.0, 5.0)\n",
    "    }\n",
    "\n",
    "    pipe.set_params(**param_grid)\n",
    "    score = cross_val_score(pipe, X_train, y_train, cv=5, scoring='f1').mean()\n",
    "    return score"
   ],
   "metadata": {
    "collapsed": false,
    "ExecuteTime": {
     "end_time": "2023-12-04T14:33:40.871384100Z",
     "start_time": "2023-12-04T14:33:40.793992100Z"
    }
   }
  },
  {
   "cell_type": "code",
   "execution_count": 84,
   "outputs": [
    {
     "name": "stderr",
     "output_type": "stream",
     "text": [
      "[I 2023-12-04 17:33:43,732] A new study created in memory with name: XGBoost Optuna Optimization Imbalanced\n"
     ]
    }
   ],
   "source": [
    "study_xgb = optuna.create_study(study_name=\"XGBoost Optuna Optimization Imbalanced\",\n",
    "                                direction='maximize')"
   ],
   "metadata": {
    "collapsed": false,
    "ExecuteTime": {
     "end_time": "2023-12-04T14:33:43.844057100Z",
     "start_time": "2023-12-04T14:33:43.732018400Z"
    }
   }
  },
  {
   "cell_type": "code",
   "execution_count": 85,
   "outputs": [
    {
     "name": "stderr",
     "output_type": "stream",
     "text": [
      "[I 2023-12-04 17:34:02,750] Trial 0 finished with value: 0.5660578946814843 and parameters: {'model__n_estimators': 471, 'model__max_depth': 2, 'model__learning_rate': 0.74641411203765, 'model__gamma': 9.71843630884499, 'model__reg_lambda': 0.6488534469007943, 'model__min_child_weight': 1.5036565259026402}. Best is trial 0 with value: 0.5660578946814843.\n",
      "[I 2023-12-04 17:34:04,015] Trial 1 finished with value: 0.5540979852475949 and parameters: {'model__n_estimators': 346, 'model__max_depth': 4, 'model__learning_rate': 1.45526974157027, 'model__gamma': 14.912621244805798, 'model__reg_lambda': 0.5021997693012973, 'model__min_child_weight': 3.1493220135538413}. Best is trial 0 with value: 0.5660578946814843.\n",
      "[I 2023-12-04 17:34:04,791] Trial 2 finished with value: 0.5745985616402695 and parameters: {'model__n_estimators': 56, 'model__max_depth': 3, 'model__learning_rate': 1.3452890664511121, 'model__gamma': 17.476725969324843, 'model__reg_lambda': 0.13684046433186148, 'model__min_child_weight': 3.7708397590447538}. Best is trial 2 with value: 0.5745985616402695.\n",
      "[I 2023-12-04 17:34:05,746] Trial 3 finished with value: 0.5705966404070101 and parameters: {'model__n_estimators': 120, 'model__max_depth': 6, 'model__learning_rate': 1.4960330936884418, 'model__gamma': 19.525548736645987, 'model__reg_lambda': 0.15209397220364695, 'model__min_child_weight': 0.5266432808498456}. Best is trial 2 with value: 0.5745985616402695.\n",
      "[I 2023-12-04 17:34:06,902] Trial 4 finished with value: 0.5730905488405255 and parameters: {'model__n_estimators': 327, 'model__max_depth': 4, 'model__learning_rate': 0.9090366183697896, 'model__gamma': 19.028341316846447, 'model__reg_lambda': 0.46757034738527825, 'model__min_child_weight': 3.6627056877960507}. Best is trial 2 with value: 0.5745985616402695.\n",
      "[I 2023-12-04 17:34:07,660] Trial 5 finished with value: 0.5513775735143833 and parameters: {'model__n_estimators': 65, 'model__max_depth': 2, 'model__learning_rate': 0.9215420420723709, 'model__gamma': 18.338079572420014, 'model__reg_lambda': 0.5744341593746363, 'model__min_child_weight': 4.926911662361012}. Best is trial 2 with value: 0.5745985616402695.\n",
      "[I 2023-12-04 17:34:08,829] Trial 6 finished with value: 0.5733886616161495 and parameters: {'model__n_estimators': 346, 'model__max_depth': 6, 'model__learning_rate': 0.5888349798483514, 'model__gamma': 2.5277218840683124, 'model__reg_lambda': 0.06353325836727097, 'model__min_child_weight': 2.7737273922656835}. Best is trial 2 with value: 0.5745985616402695.\n",
      "[I 2023-12-04 17:34:10,043] Trial 7 finished with value: 0.5603780502195952 and parameters: {'model__n_estimators': 394, 'model__max_depth': 2, 'model__learning_rate': 0.6241597531253471, 'model__gamma': 13.803871425204896, 'model__reg_lambda': 0.8237478494164152, 'model__min_child_weight': 0.009319831813062174}. Best is trial 2 with value: 0.5745985616402695.\n",
      "[I 2023-12-04 17:34:11,037] Trial 8 finished with value: 0.5542018978670462 and parameters: {'model__n_estimators': 192, 'model__max_depth': 3, 'model__learning_rate': 0.0894122173044305, 'model__gamma': 4.41769605407254, 'model__reg_lambda': 0.14642528124458665, 'model__min_child_weight': 4.455220750161574}. Best is trial 2 with value: 0.5745985616402695.\n",
      "[I 2023-12-04 17:34:11,932] Trial 9 finished with value: 0.5705311501964558 and parameters: {'model__n_estimators': 165, 'model__max_depth': 5, 'model__learning_rate': 0.6921212622232521, 'model__gamma': 8.294459749932411, 'model__reg_lambda': 0.524472048580799, 'model__min_child_weight': 4.693371145949202}. Best is trial 2 with value: 0.5745985616402695.\n",
      "[I 2023-12-04 17:34:12,973] Trial 10 finished with value: 0.5636056277935992 and parameters: {'model__n_estimators': 245, 'model__max_depth': 3, 'model__learning_rate': 1.2436427232715426, 'model__gamma': 14.069980968529403, 'model__reg_lambda': 0.28593539077626845, 'model__min_child_weight': 1.850830600456424}. Best is trial 2 with value: 0.5745985616402695.\n",
      "[I 2023-12-04 17:34:14,076] Trial 11 finished with value: 0.587095092552761 and parameters: {'model__n_estimators': 257, 'model__max_depth': 6, 'model__learning_rate': 0.4144212451317556, 'model__gamma': 1.6379065424478982, 'model__reg_lambda': 0.008171484706956014, 'model__min_child_weight': 3.0336606948128004}. Best is trial 11 with value: 0.587095092552761.\n",
      "[I 2023-12-04 17:34:14,919] Trial 12 finished with value: 0.5765186807606828 and parameters: {'model__n_estimators': 55, 'model__max_depth': 5, 'model__learning_rate': 0.25890083809533465, 'model__gamma': 1.0579864189653225, 'model__reg_lambda': 0.0029558272200558375, 'model__min_child_weight': 3.559871264869048}. Best is trial 11 with value: 0.587095092552761.\n",
      "[I 2023-12-04 17:34:16,109] Trial 13 finished with value: 0.5809563019376356 and parameters: {'model__n_estimators': 251, 'model__max_depth': 5, 'model__learning_rate': 0.24274356936271024, 'model__gamma': 0.4380088549536959, 'model__reg_lambda': 0.005186236100438688, 'model__min_child_weight': 2.386971547339731}. Best is trial 11 with value: 0.587095092552761.\n",
      "[I 2023-12-04 17:34:17,343] Trial 14 finished with value: 0.5715018342342003 and parameters: {'model__n_estimators': 269, 'model__max_depth': 5, 'model__learning_rate': 0.3474681623443568, 'model__gamma': 0.3149850786473234, 'model__reg_lambda': 0.3108748376653804, 'model__min_child_weight': 2.334562474165089}. Best is trial 11 with value: 0.587095092552761.\n",
      "[I 2023-12-04 17:34:18,638] Trial 15 finished with value: 0.5715193307200905 and parameters: {'model__n_estimators': 213, 'model__max_depth': 6, 'model__learning_rate': 0.044601716585725704, 'model__gamma': 4.482083450192507, 'model__reg_lambda': 0.01324604276042076, 'model__min_child_weight': 2.3540218769406875}. Best is trial 11 with value: 0.587095092552761.\n",
      "[I 2023-12-04 17:34:19,726] Trial 16 finished with value: 0.5676022728980793 and parameters: {'model__n_estimators': 293, 'model__max_depth': 5, 'model__learning_rate': 0.4036780007941183, 'model__gamma': 5.792319815722412, 'model__reg_lambda': 0.2927557772985437, 'model__min_child_weight': 2.894517784387753}. Best is trial 11 with value: 0.587095092552761.\n",
      "[I 2023-12-04 17:34:21,871] Trial 17 finished with value: 0.5511172339117875 and parameters: {'model__n_estimators': 419, 'model__max_depth': 6, 'model__learning_rate': 0.2053807390913217, 'model__gamma': 0.06657534052367176, 'model__reg_lambda': 0.21556942021703243, 'model__min_child_weight': 1.6833250616285809}. Best is trial 11 with value: 0.587095092552761.\n",
      "[I 2023-12-04 17:34:22,783] Trial 18 finished with value: 0.5779093249175605 and parameters: {'model__n_estimators': 133, 'model__max_depth': 5, 'model__learning_rate': 0.44316243998361277, 'model__gamma': 3.572248676064369, 'model__reg_lambda': 0.07996685353828303, 'model__min_child_weight': 4.132646866083885}. Best is trial 11 with value: 0.587095092552761.\n",
      "[I 2023-12-04 17:34:23,821] Trial 19 finished with value: 0.5739700961589458 and parameters: {'model__n_estimators': 232, 'model__max_depth': 6, 'model__learning_rate': 0.502813917178541, 'model__gamma': 7.043013892970854, 'model__reg_lambda': 0.38567395468155874, 'model__min_child_weight': 2.3066577226998235}. Best is trial 11 with value: 0.587095092552761.\n",
      "[I 2023-12-04 17:34:25,018] Trial 20 finished with value: 0.5691134644480194 and parameters: {'model__n_estimators': 300, 'model__max_depth': 4, 'model__learning_rate': 0.21131245008642094, 'model__gamma': 2.4170515115826694, 'model__reg_lambda': 0.19254868691225419, 'model__min_child_weight': 3.3401504950038055}. Best is trial 11 with value: 0.587095092552761.\n",
      "[I 2023-12-04 17:34:25,937] Trial 21 finished with value: 0.576091163744316 and parameters: {'model__n_estimators': 137, 'model__max_depth': 5, 'model__learning_rate': 0.44808377516326414, 'model__gamma': 3.2337853198539652, 'model__reg_lambda': 0.07755865129147255, 'model__min_child_weight': 4.176905553681599}. Best is trial 11 with value: 0.587095092552761.\n",
      "[I 2023-12-04 17:34:26,919] Trial 22 finished with value: 0.5646139216807275 and parameters: {'model__n_estimators': 119, 'model__max_depth': 5, 'model__learning_rate': 0.3470088473488535, 'model__gamma': 2.109831832065952, 'model__reg_lambda': 0.002838943923658281, 'model__min_child_weight': 4.07361215136277}. Best is trial 11 with value: 0.587095092552761.\n",
      "[I 2023-12-04 17:34:28,069] Trial 23 finished with value: 0.5844185398864548 and parameters: {'model__n_estimators': 173, 'model__max_depth': 5, 'model__learning_rate': 0.535358755096121, 'model__gamma': 3.9703552340653756, 'model__reg_lambda': 0.10801786820107817, 'model__min_child_weight': 3.1425428054052214}. Best is trial 11 with value: 0.587095092552761.\n",
      "[I 2023-12-04 17:34:29,201] Trial 24 finished with value: 0.5740364052908691 and parameters: {'model__n_estimators': 185, 'model__max_depth': 6, 'model__learning_rate': 0.569341418863987, 'model__gamma': 5.402973140979187, 'model__reg_lambda': 0.09092709178340926, 'model__min_child_weight': 3.0788363688068676}. Best is trial 11 with value: 0.587095092552761.\n",
      "[I 2023-12-04 17:34:30,451] Trial 25 finished with value: 0.5818900083923463 and parameters: {'model__n_estimators': 268, 'model__max_depth': 4, 'model__learning_rate': 0.27717701684680063, 'model__gamma': 1.2849896741578326, 'model__reg_lambda': 0.21568223948630977, 'model__min_child_weight': 2.7299139091925717}. Best is trial 11 with value: 0.587095092552761.\n",
      "[I 2023-12-04 17:34:31,584] Trial 26 finished with value: 0.5681683252702225 and parameters: {'model__n_estimators': 217, 'model__max_depth': 4, 'model__learning_rate': 0.48987187694576856, 'model__gamma': 1.9329455218941662, 'model__reg_lambda': 0.22159001264352002, 'model__min_child_weight': 3.4263510387850875}. Best is trial 11 with value: 0.587095092552761.\n",
      "[I 2023-12-04 17:34:32,943] Trial 27 finished with value: 0.5643358970129922 and parameters: {'model__n_estimators': 313, 'model__max_depth': 4, 'model__learning_rate': 0.10772766791228539, 'model__gamma': 3.675918921773461, 'model__reg_lambda': 0.24243652226497597, 'model__min_child_weight': 2.7428085696866873}. Best is trial 11 with value: 0.587095092552761.\n",
      "[I 2023-12-04 17:34:34,361] Trial 28 finished with value: 0.580697864554909 and parameters: {'model__n_estimators': 378, 'model__max_depth': 4, 'model__learning_rate': 0.34058761749668065, 'model__gamma': 1.4931411708259135, 'model__reg_lambda': 0.14020610465325384, 'model__min_child_weight': 3.018455048118823}. Best is trial 11 with value: 0.587095092552761.\n",
      "[I 2023-12-04 17:34:35,894] Trial 29 finished with value: 0.5817349817253973 and parameters: {'model__n_estimators': 495, 'model__max_depth': 3, 'model__learning_rate': 0.7412417072073123, 'model__gamma': 6.267366845086262, 'model__reg_lambda': 0.3921298188161009, 'model__min_child_weight': 1.893726717280018}. Best is trial 11 with value: 0.587095092552761.\n",
      "[I 2023-12-04 17:34:37,076] Trial 30 finished with value: 0.5794836516347706 and parameters: {'model__n_estimators': 274, 'model__max_depth': 6, 'model__learning_rate': 0.5289939935861024, 'model__gamma': 7.817664632552187, 'model__reg_lambda': 0.1720281454179139, 'model__min_child_weight': 2.6440443607783193}. Best is trial 11 with value: 0.587095092552761.\n",
      "[I 2023-12-04 17:34:38,625] Trial 31 finished with value: 0.5791366309690495 and parameters: {'model__n_estimators': 488, 'model__max_depth': 3, 'model__learning_rate': 0.727913980942543, 'model__gamma': 5.816384466109104, 'model__reg_lambda': 0.35404654860708695, 'model__min_child_weight': 2.09708948230921}. Best is trial 11 with value: 0.587095092552761.\n",
      "[I 2023-12-04 17:34:40,064] Trial 32 finished with value: 0.5785982640587235 and parameters: {'model__n_estimators': 427, 'model__max_depth': 3, 'model__learning_rate': 0.8379413633782963, 'model__gamma': 3.041372733231311, 'model__reg_lambda': 0.40340644988409063, 'model__min_child_weight': 1.3373311608744998}. Best is trial 11 with value: 0.587095092552761.\n",
      "[I 2023-12-04 17:34:41,535] Trial 33 finished with value: 0.5743875196356575 and parameters: {'model__n_estimators': 453, 'model__max_depth': 4, 'model__learning_rate': 0.6493241971332797, 'model__gamma': 4.566139998059451, 'model__reg_lambda': 0.21334798924812426, 'model__min_child_weight': 3.104923785399094}. Best is trial 11 with value: 0.587095092552761.\n",
      "[I 2023-12-04 17:34:42,877] Trial 34 finished with value: 0.5823912805508403 and parameters: {'model__n_estimators': 361, 'model__max_depth': 2, 'model__learning_rate': 0.76791502617368, 'model__gamma': 1.5433465461107723, 'model__reg_lambda': 0.11006579186881801, 'model__min_child_weight': 3.334847457973793}. Best is trial 11 with value: 0.587095092552761.\n",
      "[I 2023-12-04 17:34:44,199] Trial 35 finished with value: 0.5745612750443139 and parameters: {'model__n_estimators': 350, 'model__max_depth': 2, 'model__learning_rate': 0.5663237253134419, 'model__gamma': 1.3110842440998876, 'model__reg_lambda': 0.11295875163574985, 'model__min_child_weight': 3.4160496484265335}. Best is trial 11 with value: 0.587095092552761.\n",
      "[I 2023-12-04 17:34:45,581] Trial 36 finished with value: 0.5692692264491365 and parameters: {'model__n_estimators': 332, 'model__max_depth': 2, 'model__learning_rate': 0.386319512207874, 'model__gamma': 1.3002149731996078, 'model__reg_lambda': 0.13259584288163107, 'model__min_child_weight': 3.8279502538297994}. Best is trial 11 with value: 0.587095092552761.\n",
      "[I 2023-12-04 17:34:46,952] Trial 37 finished with value: 0.5667707997001246 and parameters: {'model__n_estimators': 366, 'model__max_depth': 6, 'model__learning_rate': 0.8016362496815371, 'model__gamma': 2.678276111659173, 'model__reg_lambda': 0.06237161387142716, 'model__min_child_weight': 3.269863374655591}. Best is trial 11 with value: 0.587095092552761.\n",
      "[I 2023-12-04 17:34:47,924] Trial 38 finished with value: 0.5810113616416243 and parameters: {'model__n_estimators': 94, 'model__max_depth': 2, 'model__learning_rate': 0.6703164400992389, 'model__gamma': 0.12790698177986548, 'model__reg_lambda': 0.17401258512250628, 'model__min_child_weight': 2.84384925675394}. Best is trial 11 with value: 0.587095092552761.\n",
      "[I 2023-12-04 17:34:49,170] Trial 39 finished with value: 0.5768993591923968 and parameters: {'model__n_estimators': 287, 'model__max_depth': 4, 'model__learning_rate': 0.4958133928830946, 'model__gamma': 1.9793576464457248, 'model__reg_lambda': 0.0576738276539753, 'model__min_child_weight': 2.6416504614292697}. Best is trial 11 with value: 0.587095092552761.\n",
      "[I 2023-12-04 17:34:50,196] Trial 40 finished with value: 0.5690500216577066 and parameters: {'model__n_estimators': 169, 'model__max_depth': 3, 'model__learning_rate': 0.6226756879604858, 'model__gamma': 3.857165274009864, 'model__reg_lambda': 0.12237110800808353, 'model__min_child_weight': 3.684465900597271}. Best is trial 11 with value: 0.587095092552761.\n",
      "[I 2023-12-04 17:34:51,739] Trial 41 finished with value: 0.5775357315528108 and parameters: {'model__n_estimators': 476, 'model__max_depth': 3, 'model__learning_rate': 0.7527259831486183, 'model__gamma': 2.6877287928672002, 'model__reg_lambda': 0.24319465458154185, 'model__min_child_weight': 3.1598218804767697}. Best is trial 11 with value: 0.587095092552761.\n",
      "[I 2023-12-04 17:34:53,235] Trial 42 finished with value: 0.5594649403501589 and parameters: {'model__n_estimators': 415, 'model__max_depth': 2, 'model__learning_rate': 0.928215626307247, 'model__gamma': 10.115329626399802, 'model__reg_lambda': 0.17413339989679982, 'model__min_child_weight': 2.6117207054978993}. Best is trial 11 with value: 0.587095092552761.\n",
      "[I 2023-12-04 17:34:54,441] Trial 43 finished with value: 0.5829732441820916 and parameters: {'model__n_estimators': 261, 'model__max_depth': 3, 'model__learning_rate': 0.5879848254602611, 'model__gamma': 1.205770967760004, 'model__reg_lambda': 0.26975140383851093, 'model__min_child_weight': 3.0810591853361675}. Best is trial 11 with value: 0.587095092552761.\n",
      "[I 2023-12-04 17:34:55,623] Trial 44 finished with value: 0.5772258125980836 and parameters: {'model__n_estimators': 253, 'model__max_depth': 2, 'model__learning_rate': 0.5967912049434625, 'model__gamma': 1.0651883906496677, 'model__reg_lambda': 0.05339208313962705, 'model__min_child_weight': 2.9503926695994265}. Best is trial 11 with value: 0.587095092552761.\n",
      "[I 2023-12-04 17:34:56,758] Trial 45 finished with value: 0.5774386614524437 and parameters: {'model__n_estimators': 212, 'model__max_depth': 3, 'model__learning_rate': 0.3240029260995728, 'model__gamma': 0.9344181966136832, 'model__reg_lambda': 0.16309215483597472, 'model__min_child_weight': 3.5290732874378903}. Best is trial 11 with value: 0.587095092552761.\n",
      "[I 2023-12-04 17:34:58,123] Trial 46 finished with value: 0.5808042738822768 and parameters: {'model__n_estimators': 314, 'model__max_depth': 5, 'model__learning_rate': 0.44912015559275426, 'model__gamma': 2.0653138813952365, 'model__reg_lambda': 0.11133607812056515, 'model__min_child_weight': 3.1305983996583913}. Best is trial 11 with value: 0.587095092552761.\n",
      "[I 2023-12-04 17:34:59,390] Trial 47 finished with value: 0.5782680762113198 and parameters: {'model__n_estimators': 265, 'model__max_depth': 4, 'model__learning_rate': 0.2871432143535245, 'model__gamma': 0.7108771277853385, 'model__reg_lambda': 0.25082551013711546, 'model__min_child_weight': 3.7425200572565713}. Best is trial 11 with value: 0.587095092552761.\n",
      "[I 2023-12-04 17:35:00,594] Trial 48 finished with value: 0.5634096060715678 and parameters: {'model__n_estimators': 239, 'model__max_depth': 3, 'model__learning_rate': 0.16288521578093212, 'model__gamma': 2.943823131440623, 'model__reg_lambda': 0.03322704563061726, 'model__min_child_weight': 3.2960279617183925}. Best is trial 11 with value: 0.587095092552761.\n",
      "[I 2023-12-04 17:35:01,685] Trial 49 finished with value: 0.5712002185554379 and parameters: {'model__n_estimators': 182, 'model__max_depth': 5, 'model__learning_rate': 0.2656729270668147, 'model__gamma': 4.449072509493547, 'model__reg_lambda': 0.27881296084395635, 'model__min_child_weight': 2.9208899787904485}. Best is trial 11 with value: 0.587095092552761.\n",
      "[I 2023-12-04 17:35:02,922] Trial 50 finished with value: 0.571276761994258 and parameters: {'model__n_estimators': 201, 'model__max_depth': 4, 'model__learning_rate': 0.400213552977406, 'model__gamma': 0.2930618023574647, 'model__reg_lambda': 0.09479239925478558, 'model__min_child_weight': 2.4900114230216865}. Best is trial 11 with value: 0.587095092552761.\n",
      "[I 2023-12-04 17:35:04,409] Trial 51 finished with value: 0.5829325622571704 and parameters: {'model__n_estimators': 456, 'model__max_depth': 3, 'model__learning_rate': 0.7067287937169964, 'model__gamma': 1.6999635212107747, 'model__reg_lambda': 0.2880266511698259, 'model__min_child_weight': 2.0789952095695314}. Best is trial 11 with value: 0.587095092552761.\n",
      "[I 2023-12-04 17:35:05,914] Trial 52 finished with value: 0.5717083549594151 and parameters: {'model__n_estimators': 456, 'model__max_depth': 2, 'model__learning_rate': 0.6579915680216872, 'model__gamma': 1.6334139534585028, 'model__reg_lambda': 0.31874826111344157, 'model__min_child_weight': 2.791241969651293}. Best is trial 11 with value: 0.587095092552761.\n",
      "[I 2023-12-04 17:35:07,671] Trial 53 finished with value: 0.5582495147608539 and parameters: {'model__n_estimators': 385, 'model__max_depth': 3, 'model__learning_rate': 0.5480507283785047, 'model__gamma': 0.1018027121965106, 'model__reg_lambda': 0.20667028872211757, 'model__min_child_weight': 2.4780256355089305}. Best is trial 11 with value: 0.587095092552761.\n",
      "[I 2023-12-04 17:35:08,824] Trial 54 finished with value: 0.5731561350828289 and parameters: {'model__n_estimators': 229, 'model__max_depth': 2, 'model__learning_rate': 0.6956623833157849, 'model__gamma': 2.483338581544211, 'model__reg_lambda': 0.27728154508345615, 'model__min_child_weight': 3.2697247763304227}. Best is trial 11 with value: 0.587095092552761.\n",
      "[I 2023-12-04 17:35:10,164] Trial 55 finished with value: 0.5738473710721743 and parameters: {'model__n_estimators': 333, 'model__max_depth': 6, 'model__learning_rate': 0.6049689108747137, 'model__gamma': 0.9577411743438238, 'model__reg_lambda': 0.03785425850076218, 'model__min_child_weight': 2.145408806379887}. Best is trial 11 with value: 0.587095092552761.\n",
      "[I 2023-12-04 17:35:11,411] Trial 56 finished with value: 0.5742151379945135 and parameters: {'model__n_estimators': 290, 'model__max_depth': 4, 'model__learning_rate': 0.5258266195185594, 'model__gamma': 3.4406718392077127, 'model__reg_lambda': 0.14695333431744262, 'model__min_child_weight': 3.529638989417997}. Best is trial 11 with value: 0.587095092552761.\n",
      "[I 2023-12-04 17:35:12,418] Trial 57 finished with value: 0.5781012035700067 and parameters: {'model__n_estimators': 151, 'model__max_depth': 3, 'model__learning_rate': 0.8603568555280623, 'model__gamma': 2.1433750574808537, 'model__reg_lambda': 0.1932602789002557, 'model__min_child_weight': 2.9064019542875337}. Best is trial 11 with value: 0.587095092552761.\n",
      "[I 2023-12-04 17:35:13,644] Trial 58 finished with value: 0.5885013056163386 and parameters: {'model__n_estimators': 260, 'model__max_depth': 5, 'model__learning_rate': 0.44178653631239506, 'model__gamma': 1.5915859280585753, 'model__reg_lambda': 0.09347658969720626, 'model__min_child_weight': 2.6898550925292377}. Best is trial 58 with value: 0.5885013056163386.\n",
      "[I 2023-12-04 17:35:14,893] Trial 59 finished with value: 0.5755769525477465 and parameters: {'model__n_estimators': 308, 'model__max_depth': 5, 'model__learning_rate': 0.4870534789374174, 'model__gamma': 4.1419196937565195, 'model__reg_lambda': 0.02158567699782135, 'model__min_child_weight': 3.052412845054209}. Best is trial 58 with value: 0.5885013056163386.\n",
      "[I 2023-12-04 17:35:16,281] Trial 60 finished with value: 0.5809377528789292 and parameters: {'model__n_estimators': 400, 'model__max_depth': 5, 'model__learning_rate': 0.5724484951232389, 'model__gamma': 3.105884694546175, 'model__reg_lambda': 0.08655174358558794, 'model__min_child_weight': 2.55641099892771}. Best is trial 58 with value: 0.5885013056163386.\n",
      "[I 2023-12-04 17:35:17,493] Trial 61 finished with value: 0.5796233579900146 and parameters: {'model__n_estimators': 255, 'model__max_depth': 5, 'model__learning_rate': 0.44713004674398593, 'model__gamma': 1.6213922758841741, 'model__reg_lambda': 0.11739907356570475, 'model__min_child_weight': 2.7820618434832998}. Best is trial 58 with value: 0.5885013056163386.\n",
      "[I 2023-12-04 17:35:18,774] Trial 62 finished with value: 0.5838040719474332 and parameters: {'model__n_estimators': 276, 'model__max_depth': 6, 'model__learning_rate': 0.427259893209434, 'model__gamma': 0.8045009279584237, 'model__reg_lambda': 0.0011898132059839717, 'model__min_child_weight': 2.741286273665682}. Best is trial 58 with value: 0.5885013056163386.\n",
      "[I 2023-12-04 17:35:19,743] Trial 63 finished with value: 0.5766185748174557 and parameters: {'model__n_estimators': 79, 'model__max_depth': 6, 'model__learning_rate': 0.4228572043817109, 'model__gamma': 2.3487382334562685, 'model__reg_lambda': 0.041738568315784166, 'model__min_child_weight': 3.244775670221876}. Best is trial 58 with value: 0.5885013056163386.\n",
      "[I 2023-12-04 17:35:21,139] Trial 64 finished with value: 0.565155303517878 and parameters: {'model__n_estimators': 360, 'model__max_depth': 6, 'model__learning_rate': 0.6155353633458819, 'model__gamma': 0.6921256529319577, 'model__reg_lambda': 0.011227500082490904, 'model__min_child_weight': 2.288293541434559}. Best is trial 58 with value: 0.5885013056163386.\n",
      "[I 2023-12-04 17:35:22,388] Trial 65 finished with value: 0.5722963746354391 and parameters: {'model__n_estimators': 283, 'model__max_depth': 6, 'model__learning_rate': 0.7091714884970259, 'model__gamma': 1.6726990263065984, 'model__reg_lambda': 0.08418175867980145, 'model__min_child_weight': 3.05900077642836}. Best is trial 58 with value: 0.5885013056163386.\n",
      "[I 2023-12-04 17:35:24,423] Trial 66 finished with value: 0.5507360013062939 and parameters: {'model__n_estimators': 222, 'model__max_depth': 6, 'model__learning_rate': 0.3774865755088503, 'model__gamma': 0.010522096795248626, 'model__reg_lambda': 0.14612045997755835, 'model__min_child_weight': 2.9178339489646934}. Best is trial 58 with value: 0.5885013056163386.\n",
      "[I 2023-12-04 17:35:25,948] Trial 67 finished with value: 0.5723524278914847 and parameters: {'model__n_estimators': 433, 'model__max_depth': 6, 'model__learning_rate': 0.479114615151415, 'model__gamma': 0.7822263704546333, 'model__reg_lambda': 0.06482484849822326, 'model__min_child_weight': 2.7085836635249936}. Best is trial 58 with value: 0.5885013056163386.\n",
      "[I 2023-12-04 17:35:27,036] Trial 68 finished with value: 0.5787368182729764 and parameters: {'model__n_estimators': 196, 'model__max_depth': 5, 'model__learning_rate': 0.5455342175455462, 'model__gamma': 3.579680983517819, 'model__reg_lambda': 0.03374733504391972, 'model__min_child_weight': 3.381183899306073}. Best is trial 58 with value: 0.5885013056163386.\n",
      "[I 2023-12-04 17:35:28,338] Trial 69 finished with value: 0.5830589653101792 and parameters: {'model__n_estimators': 343, 'model__max_depth': 6, 'model__learning_rate': 0.7806623475532861, 'model__gamma': 4.981656771877782, 'model__reg_lambda': 0.09955275863975555, 'model__min_child_weight': 2.3903177711306007}. Best is trial 58 with value: 0.5885013056163386.\n",
      "[I 2023-12-04 17:35:29,468] Trial 70 finished with value: 0.582926322196822 and parameters: {'model__n_estimators': 241, 'model__max_depth': 6, 'model__learning_rate': 0.6567973027157846, 'model__gamma': 5.075330022970707, 'model__reg_lambda': 0.003586747840104265, 'model__min_child_weight': 2.185900616734286}. Best is trial 58 with value: 0.5885013056163386.\n",
      "[I 2023-12-04 17:35:30,646] Trial 71 finished with value: 0.584097606870054 and parameters: {'model__n_estimators': 240, 'model__max_depth': 6, 'model__learning_rate': 0.6560517060195129, 'model__gamma': 4.931338967748848, 'model__reg_lambda': 0.06914412642738844, 'model__min_child_weight': 2.451108902940292}. Best is trial 58 with value: 0.5885013056163386.\n",
      "[I 2023-12-04 17:35:31,833] Trial 72 finished with value: 0.5746649674644912 and parameters: {'model__n_estimators': 261, 'model__max_depth': 6, 'model__learning_rate': 0.5289523591361104, 'model__gamma': 4.866302908689006, 'model__reg_lambda': 0.06637812107557431, 'model__min_child_weight': 2.4876849741073928}. Best is trial 58 with value: 0.5885013056163386.\n",
      "[I 2023-12-04 17:35:33,099] Trial 73 finished with value: 0.5805702346304333 and parameters: {'model__n_estimators': 321, 'model__max_depth': 6, 'model__learning_rate': 0.6869661825162104, 'model__gamma': 4.032643356324252, 'model__reg_lambda': 0.09632984217368064, 'model__min_child_weight': 2.4085073529840404}. Best is trial 58 with value: 0.5885013056163386.\n",
      "[I 2023-12-04 17:35:34,353] Trial 74 finished with value: 0.5695942844465798 and parameters: {'model__n_estimators': 301, 'model__max_depth': 6, 'model__learning_rate': 0.585130477940156, 'model__gamma': 3.2829281277857927, 'model__reg_lambda': 0.12996116516652478, 'model__min_child_weight': 2.016719424400791}. Best is trial 58 with value: 0.5885013056163386.\n",
      "[I 2023-12-04 17:35:35,595] Trial 75 finished with value: 0.575435777118128 and parameters: {'model__n_estimators': 279, 'model__max_depth': 6, 'model__learning_rate': 0.47291356051246736, 'model__gamma': 2.7554788151382437, 'model__reg_lambda': 0.04050454013788465, 'model__min_child_weight': 2.288652967638049}. Best is trial 58 with value: 0.5885013056163386.\n",
      "[I 2023-12-04 17:35:36,680] Trial 76 finished with value: 0.5753128825345215 and parameters: {'model__n_estimators': 171, 'model__max_depth': 6, 'model__learning_rate': 0.4064323464575857, 'model__gamma': 3.9861339033412717, 'model__reg_lambda': 0.17758011930690598, 'model__min_child_weight': 2.651267359618459}. Best is trial 58 with value: 0.5885013056163386.\n",
      "[I 2023-12-04 17:35:37,821] Trial 77 finished with value: 0.5692635031303623 and parameters: {'model__n_estimators': 210, 'model__max_depth': 6, 'model__learning_rate': 0.6350490202050045, 'model__gamma': 2.239162583014786, 'model__reg_lambda': 0.07526570859995199, 'model__min_child_weight': 2.5510010092753634}. Best is trial 58 with value: 0.5885013056163386.\n",
      "[I 2023-12-04 17:35:38,995] Trial 78 finished with value: 0.5699941803590585 and parameters: {'model__n_estimators': 231, 'model__max_depth': 6, 'model__learning_rate': 0.36126383614019697, 'model__gamma': 5.2883550917790645, 'model__reg_lambda': 0.0034360618626561173, 'model__min_child_weight': 2.792170080820463}. Best is trial 58 with value: 0.5885013056163386.\n",
      "[I 2023-12-04 17:35:40,145] Trial 79 finished with value: 0.5825262249365024 and parameters: {'model__n_estimators': 246, 'model__max_depth': 5, 'model__learning_rate': 0.735098195989625, 'model__gamma': 4.596092236376528, 'model__reg_lambda': 0.1452605194243401, 'model__min_child_weight': 2.418469207570239}. Best is trial 58 with value: 0.5885013056163386.\n",
      "[I 2023-12-04 17:35:41,594] Trial 80 finished with value: 0.5740385053936667 and parameters: {'model__n_estimators': 343, 'model__max_depth': 6, 'model__learning_rate': 0.3144631343730893, 'model__gamma': 0.5826308059038467, 'model__reg_lambda': 0.10342867505658215, 'model__min_child_weight': 1.8411348859722652}. Best is trial 58 with value: 0.5885013056163386.\n",
      "[I 2023-12-04 17:35:42,756] Trial 81 finished with value: 0.5816661953830492 and parameters: {'model__n_estimators': 243, 'model__max_depth': 6, 'model__learning_rate': 0.6596219038742175, 'model__gamma': 4.976498508353256, 'model__reg_lambda': 0.001366277310190664, 'model__min_child_weight': 2.1085242794014305}. Best is trial 58 with value: 0.5885013056163386.\n",
      "[I 2023-12-04 17:35:43,973] Trial 82 finished with value: 0.577763140764216 and parameters: {'model__n_estimators': 270, 'model__max_depth': 6, 'model__learning_rate': 0.5068238606807118, 'model__gamma': 6.142175115052527, 'model__reg_lambda': 0.05334905273404635, 'model__min_child_weight': 2.196648462783277}. Best is trial 58 with value: 0.5885013056163386.\n",
      "[I 2023-12-04 17:35:44,943] Trial 83 finished with value: 0.5758764538538896 and parameters: {'model__n_estimators': 119, 'model__max_depth': 6, 'model__learning_rate': 0.5879632448534462, 'model__gamma': 2.9436886750825213, 'model__reg_lambda': 0.03492281357315007, 'model__min_child_weight': 2.2787828812702227}. Best is trial 58 with value: 0.5885013056163386.\n",
      "[I 2023-12-04 17:35:46,125] Trial 84 finished with value: 0.5668041208694505 and parameters: {'model__n_estimators': 239, 'model__max_depth': 6, 'model__learning_rate': 0.778481627305078, 'model__gamma': 1.3480638972798769, 'model__reg_lambda': 0.02225162807599805, 'model__min_child_weight': 2.9889403770188894}. Best is trial 58 with value: 0.5885013056163386.\n",
      "[I 2023-12-04 17:35:47,372] Trial 85 finished with value: 0.5757278932478348 and parameters: {'model__n_estimators': 295, 'model__max_depth': 6, 'model__learning_rate': 0.6277543354614485, 'model__gamma': 3.698113334156952, 'model__reg_lambda': 0.07905043602597231, 'model__min_child_weight': 2.587521101021978}. Best is trial 58 with value: 0.5885013056163386.\n",
      "[I 2023-12-04 17:35:48,590] Trial 86 finished with value: 0.5723609729556256 and parameters: {'model__n_estimators': 260, 'model__max_depth': 5, 'model__learning_rate': 0.6945716958620888, 'model__gamma': 2.095445128700653, 'model__reg_lambda': 0.12201084678243836, 'model__min_child_weight': 2.7092901507971123}. Best is trial 58 with value: 0.5885013056163386.\n",
      "[I 2023-12-04 17:35:49,689] Trial 87 finished with value: 0.5755404904991839 and parameters: {'model__n_estimators': 203, 'model__max_depth': 6, 'model__learning_rate': 0.4560051331630262, 'model__gamma': 6.742653824742945, 'model__reg_lambda': 0.06065688958191338, 'model__min_child_weight': 3.16688114405153}. Best is trial 58 with value: 0.5885013056163386.\n",
      "[I 2023-12-04 17:35:50,903] Trial 88 finished with value: 0.5815054655734703 and parameters: {'model__n_estimators': 276, 'model__max_depth': 6, 'model__learning_rate': 0.552530685648685, 'model__gamma': 5.046051824557622, 'model__reg_lambda': 0.1545811301209896, 'model__min_child_weight': 2.354946852660863}. Best is trial 58 with value: 0.5885013056163386.\n",
      "[I 2023-12-04 17:35:52,055] Trial 89 finished with value: 0.5720677410715747 and parameters: {'model__n_estimators': 229, 'model__max_depth': 3, 'model__learning_rate': 0.43105110937456875, 'model__gamma': 2.7090804832925763, 'model__reg_lambda': 0.105854870738982, 'model__min_child_weight': 1.9492521963125526}. Best is trial 58 with value: 0.5885013056163386.\n",
      "[I 2023-12-04 17:35:53,122] Trial 90 finished with value: 0.5832584023960965 and parameters: {'model__n_estimators': 179, 'model__max_depth': 5, 'model__learning_rate': 0.5171703137945582, 'model__gamma': 1.8508746872182864, 'model__reg_lambda': 0.19207073154035453, 'model__min_child_weight': 2.2073374824252703}. Best is trial 58 with value: 0.5885013056163386.\n",
      "[I 2023-12-04 17:35:54,162] Trial 91 finished with value: 0.5715176258278584 and parameters: {'model__n_estimators': 138, 'model__max_depth': 5, 'model__learning_rate': 0.5123299533963392, 'model__gamma': 1.1589751505154933, 'model__reg_lambda': 0.0232393233966493, 'model__min_child_weight': 2.1866796126902766}. Best is trial 58 with value: 0.5885013056163386.\n",
      "[I 2023-12-04 17:35:55,204] Trial 92 finished with value: 0.5869609062708657 and parameters: {'model__n_estimators': 157, 'model__max_depth': 5, 'model__learning_rate': 0.6638550527063259, 'model__gamma': 1.7913267756728384, 'model__reg_lambda': 0.19405013731415252, 'model__min_child_weight': 2.8520859787000794}. Best is trial 58 with value: 0.5885013056163386.\n",
      "[I 2023-12-04 17:35:56,163] Trial 93 finished with value: 0.5797692600078014 and parameters: {'model__n_estimators': 107, 'model__max_depth': 5, 'model__learning_rate': 0.5620013159640238, 'model__gamma': 2.0097596615600857, 'model__reg_lambda': 0.18717899420687392, 'model__min_child_weight': 2.892851305656352}. Best is trial 58 with value: 0.5885013056163386.\n",
      "[I 2023-12-04 17:35:57,302] Trial 94 finished with value: 0.5764970101626803 and parameters: {'model__n_estimators': 155, 'model__max_depth': 5, 'model__learning_rate': 0.37880182181749317, 'model__gamma': 0.455081228172298, 'model__reg_lambda': 0.23893559936187306, 'model__min_child_weight': 2.8423634934085826}. Best is trial 58 with value: 0.5885013056163386.\n",
      "[I 2023-12-04 17:35:58,384] Trial 95 finished with value: 0.57931096612712 and parameters: {'model__n_estimators': 184, 'model__max_depth': 5, 'model__learning_rate': 0.7196319485808315, 'model__gamma': 1.663370811231776, 'model__reg_lambda': 0.2064507944379319, 'model__min_child_weight': 3.02528025620602}. Best is trial 58 with value: 0.5885013056163386.\n",
      "[I 2023-12-04 17:35:59,438] Trial 96 finished with value: 0.5799274248045159 and parameters: {'model__n_estimators': 163, 'model__max_depth': 5, 'model__learning_rate': 0.605833266519207, 'model__gamma': 3.3276486348299548, 'model__reg_lambda': 0.16503660779037782, 'model__min_child_weight': 2.5963790669350155}. Best is trial 58 with value: 0.5885013056163386.\n",
      "[I 2023-12-04 17:36:00,495] Trial 97 finished with value: 0.5808403464690854 and parameters: {'model__n_estimators': 145, 'model__max_depth': 4, 'model__learning_rate': 0.46955728995226415, 'model__gamma': 0.9357572342147575, 'model__reg_lambda': 0.26189860744008747, 'model__min_child_weight': 2.7453896859100215}. Best is trial 58 with value: 0.5885013056163386.\n",
      "[I 2023-12-04 17:36:01,642] Trial 98 finished with value: 0.5719869289068616 and parameters: {'model__n_estimators': 219, 'model__max_depth': 5, 'model__learning_rate': 0.4156815555973781, 'model__gamma': 2.4693019792525557, 'model__reg_lambda': 0.12468811320367434, 'model__min_child_weight': 2.459182048823573}. Best is trial 58 with value: 0.5885013056163386.\n",
      "[I 2023-12-04 17:36:02,724] Trial 99 finished with value: 0.5809666350770893 and parameters: {'model__n_estimators': 172, 'model__max_depth': 5, 'model__learning_rate': 0.5197550727059475, 'model__gamma': 1.7017921003228298, 'model__reg_lambda': 0.22904036859824206, 'model__min_child_weight': 3.217468706689235}. Best is trial 58 with value: 0.5885013056163386.\n",
      "[I 2023-12-04 17:36:03,875] Trial 100 finished with value: 0.5632963266159889 and parameters: {'model__n_estimators': 192, 'model__max_depth': 4, 'model__learning_rate': 0.640540842885774, 'model__gamma': 0.4687523954503048, 'model__reg_lambda': 0.20653835914755722, 'model__min_child_weight': 2.962323682639893}. Best is trial 58 with value: 0.5885013056163386.\n",
      "[I 2023-12-04 17:36:05,071] Trial 101 finished with value: 0.5773882776537232 and parameters: {'model__n_estimators': 253, 'model__max_depth': 5, 'model__learning_rate': 0.7468847432977959, 'model__gamma': 1.1171259482451643, 'model__reg_lambda': 0.08130697620607809, 'model__min_child_weight': 2.2260362617717098}. Best is trial 58 with value: 0.5885013056163386.\n",
      "[I 2023-12-04 17:36:06,147] Trial 102 finished with value: 0.5801792415649258 and parameters: {'model__n_estimators': 180, 'model__max_depth': 6, 'model__learning_rate': 0.6677788087303601, 'model__gamma': 5.5856695823835025, 'model__reg_lambda': 0.058771859284295555, 'model__min_child_weight': 2.353104963183021}. Best is trial 58 with value: 0.5885013056163386.\n",
      "[I 2023-12-04 17:36:07,140] Trial 103 finished with value: 0.5760175637326956 and parameters: {'model__n_estimators': 131, 'model__max_depth': 3, 'model__learning_rate': 0.6789298836095381, 'model__gamma': 3.120971254431975, 'model__reg_lambda': 0.09567000238494901, 'model__min_child_weight': 2.0394796784700184}. Best is trial 58 with value: 0.5885013056163386.\n",
      "[I 2023-12-04 17:36:08,288] Trial 104 finished with value: 0.5728670831638729 and parameters: {'model__n_estimators': 222, 'model__max_depth': 6, 'model__learning_rate': 0.5948991826781195, 'model__gamma': 2.4499628184086784, 'model__reg_lambda': 0.018975141502730344, 'model__min_child_weight': 2.6579123121274297}. Best is trial 58 with value: 0.5885013056163386.\n",
      "[I 2023-12-04 17:36:09,516] Trial 105 finished with value: 0.5620288097596643 and parameters: {'model__n_estimators': 267, 'model__max_depth': 5, 'model__learning_rate': 0.7914117282480679, 'model__gamma': 1.334112125491398, 'model__reg_lambda': 0.1413057765436051, 'model__min_child_weight': 2.4940669787546836}. Best is trial 58 with value: 0.5885013056163386.\n",
      "[I 2023-12-04 17:36:10,646] Trial 106 finished with value: 0.5797216522458526 and parameters: {'model__n_estimators': 208, 'model__max_depth': 6, 'model__learning_rate': 0.6336624996585138, 'model__gamma': 4.374391859959156, 'model__reg_lambda': 0.04514446691641644, 'model__min_child_weight': 3.126586387009703}. Best is trial 58 with value: 0.5885013056163386.\n",
      "[I 2023-12-04 17:36:11,670] Trial 107 finished with value: 0.5719195090065897 and parameters: {'model__n_estimators': 160, 'model__max_depth': 3, 'model__learning_rate': 0.7075635727885623, 'model__gamma': 3.7694310186343776, 'model__reg_lambda': 0.30221861772821423, 'model__min_child_weight': 2.814757254950337}. Best is trial 58 with value: 0.5885013056163386.\n",
      "[I 2023-12-04 17:36:12,936] Trial 108 finished with value: 0.5819055538260756 and parameters: {'model__n_estimators': 303, 'model__max_depth': 6, 'model__learning_rate': 0.5598185220909698, 'model__gamma': 1.8522389545367337, 'model__reg_lambda': 0.19167405855134373, 'model__min_child_weight': 2.370370782847104}. Best is trial 58 with value: 0.5885013056163386.\n",
      "[I 2023-12-04 17:36:14,142] Trial 109 finished with value: 0.5776998660276588 and parameters: {'model__n_estimators': 250, 'model__max_depth': 6, 'model__learning_rate': 0.49442424480686264, 'model__gamma': 2.7909157567548113, 'model__reg_lambda': 0.0027573133515486326, 'model__min_child_weight': 2.5726767233522536}. Best is trial 58 with value: 0.5885013056163386.\n",
      "[I 2023-12-04 17:36:16,217] Trial 110 finished with value: 0.5388171828957837 and parameters: {'model__n_estimators': 283, 'model__max_depth': 5, 'model__learning_rate': 0.5341052131335866, 'model__gamma': 0.015468321046008926, 'model__reg_lambda': 0.158643670360068, 'model__min_child_weight': 2.699894719993295}. Best is trial 58 with value: 0.5885013056163386.\n",
      "[I 2023-12-04 17:36:17,400] Trial 111 finished with value: 0.5777490640240158 and parameters: {'model__n_estimators': 243, 'model__max_depth': 5, 'model__learning_rate': 0.82240027297691, 'model__gamma': 4.641552344755633, 'model__reg_lambda': 0.13974309962382248, 'model__min_child_weight': 2.3813823747174476}. Best is trial 58 with value: 0.5885013056163386.\n",
      "[I 2023-12-04 17:36:18,556] Trial 112 finished with value: 0.5851170560350847 and parameters: {'model__n_estimators': 235, 'model__max_depth': 5, 'model__learning_rate': 0.7366881231885802, 'model__gamma': 3.46967573416584, 'model__reg_lambda': 0.10598847950249402, 'model__min_child_weight': 2.1389805142740723}. Best is trial 58 with value: 0.5885013056163386.\n",
      "[I 2023-12-04 17:36:19,689] Trial 113 finished with value: 0.5844619201268018 and parameters: {'model__n_estimators': 234, 'model__max_depth': 5, 'model__learning_rate': 0.7487508904780252, 'model__gamma': 4.302290265998398, 'model__reg_lambda': 0.09824133072834228, 'model__min_child_weight': 2.109975206994046}. Best is trial 58 with value: 0.5885013056163386.\n",
      "[I 2023-12-04 17:36:21,172] Trial 114 finished with value: 0.5783153179940672 and parameters: {'model__n_estimators': 449, 'model__max_depth': 5, 'model__learning_rate': 0.7625980851073054, 'model__gamma': 3.521378529236462, 'model__reg_lambda': 0.10749050248425664, 'model__min_child_weight': 1.7864441447266102}. Best is trial 58 with value: 0.5885013056163386.\n",
      "[I 2023-12-04 17:36:22,326] Trial 115 finished with value: 0.5785747430977517 and parameters: {'model__n_estimators': 232, 'model__max_depth': 5, 'model__learning_rate': 0.7300909749990631, 'model__gamma': 4.061292004063257, 'model__reg_lambda': 0.12319235355783816, 'model__min_child_weight': 2.1112817433107027}. Best is trial 58 with value: 0.5885013056163386.\n",
      "[I 2023-12-04 17:36:23,773] Trial 116 finished with value: 0.5736864838230408 and parameters: {'model__n_estimators': 403, 'model__max_depth': 5, 'model__learning_rate': 0.7660716918694485, 'model__gamma': 2.230550061207834, 'model__reg_lambda': 0.07539171492743536, 'model__min_child_weight': 2.02062528388609}. Best is trial 58 with value: 0.5885013056163386.\n",
      "[I 2023-12-04 17:36:24,925] Trial 117 finished with value: 0.550706694179038 and parameters: {'model__n_estimators': 192, 'model__max_depth': 5, 'model__learning_rate': 0.8638439805775127, 'model__gamma': 0.7266073071810487, 'model__reg_lambda': 0.1705605871095336, 'model__min_child_weight': 1.9215915759091946}. Best is trial 58 with value: 0.5885013056163386.\n",
      "[I 2023-12-04 17:36:26,139] Trial 118 finished with value: 0.5712888723852696 and parameters: {'model__n_estimators': 261, 'model__max_depth': 5, 'model__learning_rate': 0.7977488070951002, 'model__gamma': 1.4774717426113184, 'model__reg_lambda': 0.09077992377999602, 'model__min_child_weight': 1.602588117329319}. Best is trial 58 with value: 0.5885013056163386.\n",
      "[I 2023-12-04 17:36:27,251] Trial 119 finished with value: 0.5742902552693555 and parameters: {'model__n_estimators': 217, 'model__max_depth': 4, 'model__learning_rate': 0.70255956194423, 'model__gamma': 2.7125073857704445, 'model__reg_lambda': 0.21898843443060045, 'model__min_child_weight': 2.291621029346578}. Best is trial 58 with value: 0.5885013056163386.\n",
      "[I 2023-12-04 17:36:28,480] Trial 120 finished with value: 0.5672988665378245 and parameters: {'model__n_estimators': 275, 'model__max_depth': 4, 'model__learning_rate': 0.43846008001646736, 'model__gamma': 3.222735553266571, 'model__reg_lambda': 0.0626521192717748, 'model__min_child_weight': 2.8547892234394356}. Best is trial 58 with value: 0.5885013056163386.\n",
      "[I 2023-12-04 17:36:29,633] Trial 121 finished with value: 0.5819463235807307 and parameters: {'model__n_estimators': 235, 'model__max_depth': 5, 'model__learning_rate': 0.6623327529888565, 'model__gamma': 5.151360905707718, 'model__reg_lambda': 0.036889771328233775, 'model__min_child_weight': 2.201604133491965}. Best is trial 58 with value: 0.5885013056163386.\n",
      "[I 2023-12-04 17:36:30,883] Trial 122 finished with value: 0.5860858681880093 and parameters: {'model__n_estimators': 250, 'model__max_depth': 6, 'model__learning_rate': 0.602309779208772, 'model__gamma': 5.619977829005765, 'model__reg_lambda': 0.047999339160546946, 'model__min_child_weight': 2.1012581146609155}. Best is trial 58 with value: 0.5885013056163386.\n",
      "[I 2023-12-04 17:36:32,063] Trial 123 finished with value: 0.5833699951547943 and parameters: {'model__n_estimators': 256, 'model__max_depth': 5, 'model__learning_rate': 0.6130222655129666, 'model__gamma': 4.276564858434904, 'model__reg_lambda': 0.09593099139985045, 'model__min_child_weight': 2.0888090096097134}. Best is trial 58 with value: 0.5885013056163386.\n",
      "[I 2023-12-04 17:36:33,236] Trial 124 finished with value: 0.5829957907388478 and parameters: {'model__n_estimators': 255, 'model__max_depth': 5, 'model__learning_rate': 0.6097699253711384, 'model__gamma': 5.714082520309928, 'model__reg_lambda': 0.10022459205785507, 'model__min_child_weight': 1.970454114120769}. Best is trial 58 with value: 0.5885013056163386.\n",
      "[I 2023-12-04 17:36:34,416] Trial 125 finished with value: 0.5838499039897308 and parameters: {'model__n_estimators': 252, 'model__max_depth': 5, 'model__learning_rate': 0.6004618255279126, 'model__gamma': 5.812336700764467, 'model__reg_lambda': 0.10246740934868342, 'model__min_child_weight': 1.9729494102347975}. Best is trial 58 with value: 0.5885013056163386.\n",
      "[I 2023-12-04 17:36:35,614] Trial 126 finished with value: 0.5853337885664239 and parameters: {'model__n_estimators': 268, 'model__max_depth': 5, 'model__learning_rate': 0.5714753065895329, 'model__gamma': 4.124936878071034, 'model__reg_lambda': 0.046750406784724176, 'model__min_child_weight': 1.8123138237875065}. Best is trial 58 with value: 0.5885013056163386.\n",
      "[I 2023-12-04 17:36:36,846] Trial 127 finished with value: 0.5825670331585735 and parameters: {'model__n_estimators': 291, 'model__max_depth': 5, 'model__learning_rate': 0.5458171749641775, 'model__gamma': 4.402518615341132, 'model__reg_lambda': 0.048054506916188115, 'model__min_child_weight': 1.8162903577492697}. Best is trial 58 with value: 0.5885013056163386.\n",
      "[I 2023-12-04 17:36:38,071] Trial 128 finished with value: 0.5813766429628584 and parameters: {'model__n_estimators': 270, 'model__max_depth': 5, 'model__learning_rate': 0.5722034078652608, 'model__gamma': 4.0573252124783785, 'model__reg_lambda': 0.0699160816486313, 'model__min_child_weight': 1.6887410832841787}. Best is trial 58 with value: 0.5885013056163386.\n",
      "[I 2023-12-04 17:36:39,302] Trial 129 finished with value: 0.5763982388571761 and parameters: {'model__n_estimators': 284, 'model__max_depth': 5, 'model__learning_rate': 0.48068286317213976, 'model__gamma': 5.941324724973328, 'model__reg_lambda': 0.027065433614107348, 'model__min_child_weight': 1.9477931946836722}. Best is trial 58 with value: 0.5885013056163386.\n",
      "[I 2023-12-04 17:36:40,468] Trial 130 finished with value: 0.5818339118867238 and parameters: {'model__n_estimators': 249, 'model__max_depth': 5, 'model__learning_rate': 0.6348879898118418, 'model__gamma': 5.432478059808398, 'model__reg_lambda': 0.11585794912940832, 'model__min_child_weight': 1.8884368830000353}. Best is trial 58 with value: 0.5885013056163386.\n",
      "[I 2023-12-04 17:36:41,643] Trial 131 finished with value: 0.5860054612420911 and parameters: {'model__n_estimators': 261, 'model__max_depth': 5, 'model__learning_rate': 0.604237776421503, 'model__gamma': 4.4787459318811775, 'model__reg_lambda': 0.09073460292241504, 'model__min_child_weight': 2.0469468679442966}. Best is trial 58 with value: 0.5885013056163386.\n",
      "[I 2023-12-04 17:36:42,769] Trial 132 finished with value: 0.5913002878364643 and parameters: {'model__n_estimators': 227, 'model__max_depth': 5, 'model__learning_rate': 0.589543260324131, 'model__gamma': 4.6017124013131445, 'model__reg_lambda': 0.08056114918548997, 'model__min_child_weight': 2.0455386370326196}. Best is trial 132 with value: 0.5913002878364643.\n",
      "[I 2023-12-04 17:36:43,947] Trial 133 finished with value: 0.5817088244259151 and parameters: {'model__n_estimators': 263, 'model__max_depth': 5, 'model__learning_rate': 0.6081889573879243, 'model__gamma': 4.3650157907108165, 'model__reg_lambda': 0.08530031299173686, 'model__min_child_weight': 2.086324192949921}. Best is trial 132 with value: 0.5913002878364643.\n",
      "[I 2023-12-04 17:36:45,144] Trial 134 finished with value: 0.5910158803710055 and parameters: {'model__n_estimators': 224, 'model__max_depth': 5, 'model__learning_rate': 0.5771932163058162, 'model__gamma': 3.7343179191756137, 'model__reg_lambda': 0.04886344969094851, 'model__min_child_weight': 1.7470453610972518}. Best is trial 132 with value: 0.5913002878364643.\n",
      "[I 2023-12-04 17:36:46,359] Trial 135 finished with value: 0.5858840295710568 and parameters: {'model__n_estimators': 225, 'model__max_depth': 5, 'model__learning_rate': 0.5646938301455829, 'model__gamma': 4.84076695640564, 'model__reg_lambda': 0.04706142184069392, 'model__min_child_weight': 1.7110033823896587}. Best is trial 132 with value: 0.5913002878364643.\n",
      "[I 2023-12-04 17:36:47,548] Trial 136 finished with value: 0.585092739012971 and parameters: {'model__n_estimators': 226, 'model__max_depth': 5, 'model__learning_rate': 0.5767560133954198, 'model__gamma': 4.788134935557164, 'model__reg_lambda': 0.050965025923893584, 'model__min_child_weight': 1.4959655766372952}. Best is trial 132 with value: 0.5913002878364643.\n",
      "[I 2023-12-04 17:36:48,672] Trial 137 finished with value: 0.580188266135462 and parameters: {'model__n_estimators': 223, 'model__max_depth': 5, 'model__learning_rate': 0.5711855260957633, 'model__gamma': 4.664395437093841, 'model__reg_lambda': 0.04969825748613877, 'model__min_child_weight': 1.3071057579892098}. Best is trial 132 with value: 0.5913002878364643.\n",
      "[I 2023-12-04 17:36:49,795] Trial 138 finished with value: 0.5725562783380209 and parameters: {'model__n_estimators': 211, 'model__max_depth': 5, 'model__learning_rate': 0.6713327052545417, 'model__gamma': 4.852928099136727, 'model__reg_lambda': 0.02553290426440033, 'model__min_child_weight': 1.4531388766236708}. Best is trial 132 with value: 0.5913002878364643.\n",
      "[I 2023-12-04 17:36:50,921] Trial 139 finished with value: 0.5835047290868924 and parameters: {'model__n_estimators': 228, 'model__max_depth': 5, 'model__learning_rate': 0.5053962001326042, 'model__gamma': 3.717505757864786, 'model__reg_lambda': 0.06931711069426366, 'model__min_child_weight': 1.7689445933283878}. Best is trial 132 with value: 0.5913002878364643.\n",
      "[I 2023-12-04 17:36:52,137] Trial 140 finished with value: 0.5869873628809792 and parameters: {'model__n_estimators': 204, 'model__max_depth': 5, 'model__learning_rate': 0.5352647671714883, 'model__gamma': 5.2689023990876445, 'model__reg_lambda': 0.053146783473186146, 'model__min_child_weight': 1.6682741250741278}. Best is trial 132 with value: 0.5913002878364643.\n",
      "[I 2023-12-04 17:36:53,243] Trial 141 finished with value: 0.5798796665568476 and parameters: {'model__n_estimators': 201, 'model__max_depth': 5, 'model__learning_rate': 0.5440808742627435, 'model__gamma': 5.3442372349355995, 'model__reg_lambda': 0.04479989519738846, 'model__min_child_weight': 1.7108336719315196}. Best is trial 132 with value: 0.5913002878364643.\n",
      "[I 2023-12-04 17:36:54,400] Trial 142 finished with value: 0.5813407936154323 and parameters: {'model__n_estimators': 235, 'model__max_depth': 5, 'model__learning_rate': 0.5722001185234649, 'model__gamma': 4.747120603856679, 'model__reg_lambda': 0.07074832950604458, 'model__min_child_weight': 1.6093019247455116}. Best is trial 132 with value: 0.5913002878364643.\n",
      "[I 2023-12-04 17:36:55,542] Trial 143 finished with value: 0.5837749525397344 and parameters: {'model__n_estimators': 242, 'model__max_depth': 5, 'model__learning_rate': 0.6432575064635532, 'model__gamma': 4.012636834109207, 'model__reg_lambda': 0.01892389625855366, 'model__min_child_weight': 1.777534301748545}. Best is trial 132 with value: 0.5913002878364643.\n",
      "[I 2023-12-04 17:36:56,665] Trial 144 finished with value: 0.5780000007292352 and parameters: {'model__n_estimators': 202, 'model__max_depth': 5, 'model__learning_rate': 0.461464806656366, 'model__gamma': 3.5714711485351422, 'model__reg_lambda': 0.05646955727415068, 'model__min_child_weight': 1.5976645320294}. Best is trial 132 with value: 0.5913002878364643.\n",
      "[I 2023-12-04 17:36:57,847] Trial 145 finished with value: 0.5824986742367768 and parameters: {'model__n_estimators': 226, 'model__max_depth': 5, 'model__learning_rate': 0.5353807759725014, 'model__gamma': 6.3766359811345765, 'model__reg_lambda': 0.13515276361919557, 'model__min_child_weight': 1.874804751901252}. Best is trial 132 with value: 0.5913002878364643.\n",
      "[I 2023-12-04 17:36:58,984] Trial 146 finished with value: 0.5870821593764641 and parameters: {'model__n_estimators': 215, 'model__max_depth': 5, 'model__learning_rate': 0.5843141898285288, 'model__gamma': 5.41998198366975, 'model__reg_lambda': 0.08222804375637516, 'model__min_child_weight': 1.8672798662366261}. Best is trial 132 with value: 0.5913002878364643.\n",
      "[I 2023-12-04 17:37:00,167] Trial 147 finished with value: 0.5909748454954562 and parameters: {'model__n_estimators': 215, 'model__max_depth': 5, 'model__learning_rate': 0.5866613472439178, 'model__gamma': 5.667185671447818, 'model__reg_lambda': 0.08429913088771082, 'model__min_child_weight': 1.5317918575567322}. Best is trial 132 with value: 0.5913002878364643.\n",
      "[I 2023-12-04 17:37:01,316] Trial 148 finished with value: 0.5810403884666575 and parameters: {'model__n_estimators': 210, 'model__max_depth': 5, 'model__learning_rate': 0.5914033144039881, 'model__gamma': 5.435318241466557, 'model__reg_lambda': 0.03559240771741018, 'model__min_child_weight': 1.454697964947349}. Best is trial 132 with value: 0.5913002878364643.\n",
      "[I 2023-12-04 17:37:02,455] Trial 149 finished with value: 0.5848288547141944 and parameters: {'model__n_estimators': 217, 'model__max_depth': 5, 'model__learning_rate': 0.5014668044842971, 'model__gamma': 6.477842506371292, 'model__reg_lambda': 0.0802144239309189, 'model__min_child_weight': 1.6665731433350388}. Best is trial 132 with value: 0.5913002878364643.\n",
      "[I 2023-12-04 17:37:03,581] Trial 150 finished with value: 0.5874714866824006 and parameters: {'model__n_estimators': 215, 'model__max_depth': 5, 'model__learning_rate': 0.5165956252806102, 'model__gamma': 6.1483199574955005, 'model__reg_lambda': 0.020597397669210545, 'model__min_child_weight': 1.6863276046057214}. Best is trial 132 with value: 0.5913002878364643.\n",
      "[I 2023-12-04 17:37:04,749] Trial 151 finished with value: 0.5919021390709232 and parameters: {'model__n_estimators': 220, 'model__max_depth': 5, 'model__learning_rate': 0.5028727439771857, 'model__gamma': 6.098786570633445, 'model__reg_lambda': 0.020327205314186816, 'model__min_child_weight': 1.6629745451236901}. Best is trial 151 with value: 0.5919021390709232.\n",
      "[I 2023-12-04 17:37:05,974] Trial 152 finished with value: 0.5806797739921581 and parameters: {'model__n_estimators': 218, 'model__max_depth': 5, 'model__learning_rate': 0.5570535994195984, 'model__gamma': 5.689998489231745, 'model__reg_lambda': 0.030542617345807176, 'model__min_child_weight': 1.5010953001101737}. Best is trial 151 with value: 0.5919021390709232.\n",
      "[I 2023-12-04 17:37:07,169] Trial 153 finished with value: 0.5845894441200914 and parameters: {'model__n_estimators': 189, 'model__max_depth': 5, 'model__learning_rate': 0.4937338138841442, 'model__gamma': 6.1138089576465955, 'model__reg_lambda': 0.0009435892403704196, 'model__min_child_weight': 1.5587300071507062}. Best is trial 151 with value: 0.5919021390709232.\n",
      "[I 2023-12-04 17:37:08,267] Trial 154 finished with value: 0.5811380700277856 and parameters: {'model__n_estimators': 197, 'model__max_depth': 5, 'model__learning_rate': 0.527467165684358, 'model__gamma': 6.690915075369006, 'model__reg_lambda': 0.04924724093729597, 'model__min_child_weight': 1.7089611095386987}. Best is trial 151 with value: 0.5919021390709232.\n",
      "[I 2023-12-04 17:37:09,394] Trial 155 finished with value: 0.5856106510780562 and parameters: {'model__n_estimators': 209, 'model__max_depth': 5, 'model__learning_rate': 0.5762790447949707, 'model__gamma': 5.140366413872158, 'model__reg_lambda': 0.014634252244000001, 'model__min_child_weight': 1.387821025105322}. Best is trial 151 with value: 0.5919021390709232.\n",
      "[I 2023-12-04 17:37:10,529] Trial 156 finished with value: 0.5728763874482848 and parameters: {'model__n_estimators': 211, 'model__max_depth': 5, 'model__learning_rate': 0.46679137072362503, 'model__gamma': 7.37940912248982, 'model__reg_lambda': 0.012723571185119853, 'model__min_child_weight': 1.384765095112128}. Best is trial 151 with value: 0.5919021390709232.\n",
      "[I 2023-12-04 17:37:11,616] Trial 157 finished with value: 0.5815481675979577 and parameters: {'model__n_estimators': 204, 'model__max_depth': 5, 'model__learning_rate': 0.6164456453368969, 'model__gamma': 6.0693097237685585, 'model__reg_lambda': 0.020870840681010958, 'model__min_child_weight': 1.2923729438621894}. Best is trial 151 with value: 0.5919021390709232.\n",
      "[I 2023-12-04 17:37:12,775] Trial 158 finished with value: 0.5825989335971065 and parameters: {'model__n_estimators': 238, 'model__max_depth': 5, 'model__learning_rate': 0.530216278894308, 'model__gamma': 5.289421365423049, 'model__reg_lambda': 0.07781599307085701, 'model__min_child_weight': 1.6722475333294422}. Best is trial 151 with value: 0.5919021390709232.\n",
      "[I 2023-12-04 17:37:13,942] Trial 159 finished with value: 0.566296223488701 and parameters: {'model__n_estimators': 245, 'model__max_depth': 5, 'model__learning_rate': 0.40096691779274607, 'model__gamma': 5.720991574182033, 'model__reg_lambda': 0.038983964462724306, 'model__min_child_weight': 1.8257033647019394}. Best is trial 151 with value: 0.5919021390709232.\n",
      "[I 2023-12-04 17:37:15,066] Trial 160 finished with value: 0.5784681912211037 and parameters: {'model__n_estimators': 218, 'model__max_depth': 5, 'model__learning_rate': 0.5856287167455168, 'model__gamma': 7.0239805271174625, 'model__reg_lambda': 0.0006885196324657936, 'model__min_child_weight': 1.8407229458727343}. Best is trial 151 with value: 0.5919021390709232.\n",
      "[I 2023-12-04 17:37:16,201] Trial 161 finished with value: 0.5762030833805426 and parameters: {'model__n_estimators': 225, 'model__max_depth': 5, 'model__learning_rate': 0.5646582250268654, 'model__gamma': 5.128856031996109, 'model__reg_lambda': 0.05210091830693509, 'model__min_child_weight': 1.5252462464612604}. Best is trial 151 with value: 0.5919021390709232.\n",
      "[I 2023-12-04 17:37:17,368] Trial 162 finished with value: 0.5803029093950374 and parameters: {'model__n_estimators': 231, 'model__max_depth': 5, 'model__learning_rate': 0.630089834571295, 'model__gamma': 4.9238968683152855, 'model__reg_lambda': 0.055871810567354095, 'model__min_child_weight': 1.3935752881254144}. Best is trial 151 with value: 0.5919021390709232.\n",
      "[I 2023-12-04 17:37:18,565] Trial 163 finished with value: 0.5781312082065396 and parameters: {'model__n_estimators': 225, 'model__max_depth': 5, 'model__learning_rate': 0.5065331543670438, 'model__gamma': 4.601811338035608, 'model__reg_lambda': 0.027682914823931898, 'model__min_child_weight': 1.1959355721917668}. Best is trial 151 with value: 0.5919021390709232.\n",
      "[I 2023-12-04 17:37:19,655] Trial 164 finished with value: 0.586599223850502 and parameters: {'model__n_estimators': 207, 'model__max_depth': 5, 'model__learning_rate': 0.5764503563920784, 'model__gamma': 5.4219531290955, 'model__reg_lambda': 0.12037081843537717, 'model__min_child_weight': 1.589877520988495}. Best is trial 151 with value: 0.5919021390709232.\n",
      "[I 2023-12-04 17:37:20,745] Trial 165 finished with value: 0.5743503009313868 and parameters: {'model__n_estimators': 195, 'model__max_depth': 5, 'model__learning_rate': 0.5527078615479868, 'model__gamma': 6.32119835618118, 'model__reg_lambda': 0.1198664925236011, 'model__min_child_weight': 1.7362886735100107}. Best is trial 151 with value: 0.5919021390709232.\n",
      "[I 2023-12-04 17:37:21,854] Trial 166 finished with value: 0.5751459513502437 and parameters: {'model__n_estimators': 214, 'model__max_depth': 5, 'model__learning_rate': 0.45325829336763523, 'model__gamma': 5.492963683001573, 'model__reg_lambda': 0.07765107722492769, 'model__min_child_weight': 1.6324764050182854}. Best is trial 151 with value: 0.5919021390709232.\n",
      "[I 2023-12-04 17:37:23,040] Trial 167 finished with value: 0.5862047991406447 and parameters: {'model__n_estimators': 205, 'model__max_depth': 5, 'model__learning_rate': 0.6384207268222877, 'model__gamma': 6.149117287963865, 'model__reg_lambda': 0.11771017131964374, 'model__min_child_weight': 1.9014889882823833}. Best is trial 151 with value: 0.5919021390709232.\n",
      "[I 2023-12-04 17:37:24,219] Trial 168 finished with value: 0.5843163514995778 and parameters: {'model__n_estimators': 205, 'model__max_depth': 5, 'model__learning_rate': 0.6038337680596778, 'model__gamma': 5.918238966559792, 'model__reg_lambda': 0.13280601070760686, 'model__min_child_weight': 1.7457123500227283}. Best is trial 151 with value: 0.5919021390709232.\n",
      "[I 2023-12-04 17:37:25,290] Trial 169 finished with value: 0.5816930863805151 and parameters: {'model__n_estimators': 182, 'model__max_depth': 5, 'model__learning_rate': 0.6466372745650901, 'model__gamma': 6.45539758119831, 'model__reg_lambda': 0.020285040907319928, 'model__min_child_weight': 1.899752283158606}. Best is trial 151 with value: 0.5919021390709232.\n",
      "[I 2023-12-04 17:37:26,380] Trial 170 finished with value: 0.5870588814703089 and parameters: {'model__n_estimators': 193, 'model__max_depth': 5, 'model__learning_rate': 0.5292305924958083, 'model__gamma': 6.884030080763384, 'model__reg_lambda': 0.08914255270232167, 'model__min_child_weight': 1.5911104262261444}. Best is trial 151 with value: 0.5919021390709232.\n",
      "[I 2023-12-04 17:37:27,452] Trial 171 finished with value: 0.5861751178768386 and parameters: {'model__n_estimators': 187, 'model__max_depth': 5, 'model__learning_rate': 0.527330167187976, 'model__gamma': 6.071609753808699, 'model__reg_lambda': 0.0814176212147413, 'model__min_child_weight': 1.575364655524956}. Best is trial 151 with value: 0.5919021390709232.\n",
      "[I 2023-12-04 17:37:28,503] Trial 172 finished with value: 0.5846465413358717 and parameters: {'model__n_estimators': 174, 'model__max_depth': 5, 'model__learning_rate': 0.5178563867480233, 'model__gamma': 6.9177263634809325, 'model__reg_lambda': 0.08625792813085872, 'model__min_child_weight': 1.6006682087100295}. Best is trial 151 with value: 0.5919021390709232.\n",
      "[I 2023-12-04 17:37:29,596] Trial 173 finished with value: 0.5768025103383569 and parameters: {'model__n_estimators': 192, 'model__max_depth': 5, 'model__learning_rate': 0.4802946057063967, 'model__gamma': 6.010738821861987, 'model__reg_lambda': 0.1150997958506327, 'model__min_child_weight': 1.5482336395535325}. Best is trial 151 with value: 0.5919021390709232.\n",
      "[I 2023-12-04 17:37:30,676] Trial 174 finished with value: 0.5842480413596591 and parameters: {'model__n_estimators': 201, 'model__max_depth': 5, 'model__learning_rate': 0.5360773380424785, 'model__gamma': 7.215032974700433, 'model__reg_lambda': 0.15452182052164365, 'model__min_child_weight': 1.655035132543765}. Best is trial 151 with value: 0.5919021390709232.\n",
      "[I 2023-12-04 17:37:31,748] Trial 175 finished with value: 0.5800334480641094 and parameters: {'model__n_estimators': 189, 'model__max_depth': 5, 'model__learning_rate': 0.5916490788681983, 'model__gamma': 6.613193816862836, 'model__reg_lambda': 0.06635140903967587, 'model__min_child_weight': 1.2089048342610809}. Best is trial 151 with value: 0.5919021390709232.\n",
      "[I 2023-12-04 17:37:32,868] Trial 176 finished with value: 0.5729900698928062 and parameters: {'model__n_estimators': 206, 'model__max_depth': 5, 'model__learning_rate': 0.4286583232398477, 'model__gamma': 5.54146025572904, 'model__reg_lambda': 0.485150393668491, 'model__min_child_weight': 1.4098945879376772}. Best is trial 151 with value: 0.5919021390709232.\n",
      "[I 2023-12-04 17:37:33,967] Trial 177 finished with value: 0.5826979478567929 and parameters: {'model__n_estimators': 211, 'model__max_depth': 5, 'model__learning_rate': 0.629875945225326, 'model__gamma': 6.315195093832731, 'model__reg_lambda': 0.09180711495149593, 'model__min_child_weight': 1.512816815306585}. Best is trial 151 with value: 0.5919021390709232.\n",
      "[I 2023-12-04 17:37:35,008] Trial 178 finished with value: 0.5707439511343885 and parameters: {'model__n_estimators': 163, 'model__max_depth': 5, 'model__learning_rate': 0.4877078241720889, 'model__gamma': 5.240317768378775, 'model__reg_lambda': 0.4329845290876235, 'model__min_child_weight': 1.9917362806727728}. Best is trial 151 with value: 0.5919021390709232.\n",
      "[I 2023-12-04 17:37:36,084] Trial 179 finished with value: 0.587470267751572 and parameters: {'model__n_estimators': 185, 'model__max_depth': 5, 'model__learning_rate': 0.5526615123479316, 'model__gamma': 5.945064431769022, 'model__reg_lambda': 0.06664958933610589, 'model__min_child_weight': 1.733408280252867}. Best is trial 151 with value: 0.5919021390709232.\n",
      "[I 2023-12-04 17:37:37,139] Trial 180 finished with value: 0.5730713286496095 and parameters: {'model__n_estimators': 182, 'model__max_depth': 5, 'model__learning_rate': 0.5468142110522027, 'model__gamma': 7.6379202136819835, 'model__reg_lambda': 0.12858741670118862, 'model__min_child_weight': 1.765369670570427}. Best is trial 151 with value: 0.5919021390709232.\n",
      "[I 2023-12-04 17:37:38,244] Trial 181 finished with value: 0.5798200201688274 and parameters: {'model__n_estimators': 196, 'model__max_depth': 5, 'model__learning_rate': 0.5856316064124201, 'model__gamma': 5.910520250133241, 'model__reg_lambda': 0.06641834699006254, 'model__min_child_weight': 1.875720336509754}. Best is trial 151 with value: 0.5919021390709232.\n",
      "[I 2023-12-04 17:37:39,299] Trial 182 finished with value: 0.5889217224296893 and parameters: {'model__n_estimators': 176, 'model__max_depth': 5, 'model__learning_rate': 0.519317819529817, 'model__gamma': 6.8041165110054305, 'model__reg_lambda': 0.09086390696589963, 'model__min_child_weight': 1.655194395335186}. Best is trial 151 with value: 0.5919021390709232.\n",
      "[I 2023-12-04 17:37:40,344] Trial 183 finished with value: 0.5872409376595209 and parameters: {'model__n_estimators': 171, 'model__max_depth': 5, 'model__learning_rate': 0.5103765911215647, 'model__gamma': 6.749439944069708, 'model__reg_lambda': 0.08852845673339733, 'model__min_child_weight': 1.6837578534250444}. Best is trial 151 with value: 0.5919021390709232.\n",
      "[I 2023-12-04 17:37:41,359] Trial 184 finished with value: 0.5841744308782849 and parameters: {'model__n_estimators': 148, 'model__max_depth': 5, 'model__learning_rate': 0.5074033010977611, 'model__gamma': 6.868398148664029, 'model__reg_lambda': 0.10697225734954902, 'model__min_child_weight': 1.6152845712426562}. Best is trial 151 with value: 0.5919021390709232.\n",
      "[I 2023-12-04 17:37:42,426] Trial 185 finished with value: 0.5790562505617647 and parameters: {'model__n_estimators': 172, 'model__max_depth': 5, 'model__learning_rate': 0.4547628363975945, 'model__gamma': 8.049394247159421, 'model__reg_lambda': 0.08978347493971406, 'model__min_child_weight': 1.9780684553986099}. Best is trial 151 with value: 0.5919021390709232.\n",
      "[I 2023-12-04 17:37:43,478] Trial 186 finished with value: 0.5782827250988418 and parameters: {'model__n_estimators': 173, 'model__max_depth': 5, 'model__learning_rate': 0.5268181845557418, 'model__gamma': 7.365657090751693, 'model__reg_lambda': 0.14209527616610168, 'model__min_child_weight': 1.5632096428057511}. Best is trial 151 with value: 0.5919021390709232.\n",
      "[I 2023-12-04 17:37:44,514] Trial 187 finished with value: 0.5767262080466867 and parameters: {'model__n_estimators': 163, 'model__max_depth': 5, 'model__learning_rate': 0.48268937387616623, 'model__gamma': 6.746531098738844, 'model__reg_lambda': 0.116755086862178, 'model__min_child_weight': 1.8416972866494878}. Best is trial 151 with value: 0.5919021390709232.\n",
      "[I 2023-12-04 17:37:45,561] Trial 188 finished with value: 0.5717300941457453 and parameters: {'model__n_estimators': 183, 'model__max_depth': 5, 'model__learning_rate': 0.392721701800619, 'model__gamma': 6.406489907001319, 'model__reg_lambda': 0.08596671671031168, 'model__min_child_weight': 1.6983472421873642}. Best is trial 151 with value: 0.5919021390709232.\n",
      "[I 2023-12-04 17:37:46,652] Trial 189 finished with value: 0.57421274445965 and parameters: {'model__n_estimators': 177, 'model__max_depth': 5, 'model__learning_rate': 0.4339487790857472, 'model__gamma': 6.0842540119678725, 'model__reg_lambda': 0.07107575819023101, 'model__min_child_weight': 1.7471813563113399}. Best is trial 151 with value: 0.5919021390709232.\n",
      "[I 2023-12-04 17:37:47,743] Trial 190 finished with value: 0.5800849294654878 and parameters: {'model__n_estimators': 197, 'model__max_depth': 5, 'model__learning_rate': 0.5114958910112892, 'model__gamma': 5.60107385630345, 'model__reg_lambda': 0.15811878575937055, 'model__min_child_weight': 2.0135143787627943}. Best is trial 151 with value: 0.5919021390709232.\n",
      "[I 2023-12-04 17:37:48,833] Trial 191 finished with value: 0.5831385808582344 and parameters: {'model__n_estimators': 188, 'model__max_depth': 5, 'model__learning_rate': 0.5534110011009894, 'model__gamma': 6.149854205461237, 'model__reg_lambda': 0.34342676692711105, 'model__min_child_weight': 1.6993515668922754}. Best is trial 151 with value: 0.5919021390709232.\n",
      "[I 2023-12-04 17:37:49,946] Trial 192 finished with value: 0.5804941017206602 and parameters: {'model__n_estimators': 217, 'model__max_depth': 5, 'model__learning_rate': 0.6191089861816499, 'model__gamma': 7.008877931213724, 'model__reg_lambda': 0.040735967997583916, 'model__min_child_weight': 1.5416524572163854}. Best is trial 151 with value: 0.5919021390709232.\n",
      "[I 2023-12-04 17:37:50,964] Trial 193 finished with value: 0.5852590535720499 and parameters: {'model__n_estimators': 150, 'model__max_depth': 5, 'model__learning_rate': 0.550043309865222, 'model__gamma': 5.660756262307029, 'model__reg_lambda': 0.05934139251679036, 'model__min_child_weight': 1.928583665089038}. Best is trial 151 with value: 0.5919021390709232.\n",
      "[I 2023-12-04 17:37:51,990] Trial 194 finished with value: 0.5810888272170359 and parameters: {'model__n_estimators': 161, 'model__max_depth': 5, 'model__learning_rate': 0.5937778559483537, 'model__gamma': 6.513818700435664, 'model__reg_lambda': 0.10471975573024425, 'model__min_child_weight': 1.6468732096323893}. Best is trial 151 with value: 0.5919021390709232.\n",
      "[I 2023-12-04 17:37:53,070] Trial 195 finished with value: 0.5807830373939155 and parameters: {'model__n_estimators': 200, 'model__max_depth': 5, 'model__learning_rate': 0.664841367727626, 'model__gamma': 5.1931966763620885, 'model__reg_lambda': 0.08456351930041417, 'model__min_child_weight': 1.8029231617404242}. Best is trial 151 with value: 0.5919021390709232.\n",
      "[I 2023-12-04 17:37:54,203] Trial 196 finished with value: 0.576484077612324 and parameters: {'model__n_estimators': 221, 'model__max_depth': 5, 'model__learning_rate': 0.5297905637491245, 'model__gamma': 8.684821959035366, 'model__reg_lambda': 0.03440334919817913, 'model__min_child_weight': 1.8961943113423678}. Best is trial 151 with value: 0.5919021390709232.\n",
      "[I 2023-12-04 17:37:55,288] Trial 197 finished with value: 0.5706350048408753 and parameters: {'model__n_estimators': 187, 'model__max_depth': 5, 'model__learning_rate': 0.4870988335910704, 'model__gamma': 5.747138530776804, 'model__reg_lambda': 0.562181474655185, 'model__min_child_weight': 1.472778560776013}. Best is trial 151 with value: 0.5919021390709232.\n",
      "[I 2023-12-04 17:37:56,342] Trial 198 finished with value: 0.5807221650897516 and parameters: {'model__n_estimators': 167, 'model__max_depth': 5, 'model__learning_rate': 0.5731074650421191, 'model__gamma': 4.7734212754110485, 'model__reg_lambda': 0.06077992642534307, 'model__min_child_weight': 1.7276625093028584}. Best is trial 151 with value: 0.5919021390709232.\n",
      "[I 2023-12-04 17:37:57,510] Trial 199 finished with value: 0.5876375304640049 and parameters: {'model__n_estimators': 244, 'model__max_depth': 5, 'model__learning_rate': 0.6215431940039794, 'model__gamma': 6.254549509305003, 'model__reg_lambda': 0.12982701146202966, 'model__min_child_weight': 1.5953619693409717}. Best is trial 151 with value: 0.5919021390709232.\n"
     ]
    }
   ],
   "source": [
    "study_xgb.optimize(optuna_optimize, n_trials=200)"
   ],
   "metadata": {
    "collapsed": false,
    "ExecuteTime": {
     "end_time": "2023-12-04T14:37:57.526799700Z",
     "start_time": "2023-12-04T14:33:59.656015100Z"
    }
   }
  },
  {
   "cell_type": "code",
   "execution_count": 86,
   "outputs": [
    {
     "name": "stdout",
     "output_type": "stream",
     "text": [
      "Наилучшие значения гиперпараметров XGBoost: {'model__n_estimators': 220, 'model__max_depth': 5, 'model__learning_rate': 0.5028727439771857, 'model__gamma': 6.098786570633445, 'model__reg_lambda': 0.020327205314186816, 'model__min_child_weight': 1.6629745451236901}\n",
      "f1_score на обучающем наборе: 0.592\n"
     ]
    }
   ],
   "source": [
    "print(\"Наилучшие значения гиперпараметров XGBoost: {}\".format(study_xgb.best_params))\n",
    "print(\"f1_score на обучающем наборе: {:.3f}\". format(study_xgb.best_value))"
   ],
   "metadata": {
    "collapsed": false,
    "ExecuteTime": {
     "end_time": "2023-12-04T14:45:57.966341600Z",
     "start_time": "2023-12-04T14:45:57.924643600Z"
    }
   }
  },
  {
   "cell_type": "code",
   "execution_count": 87,
   "outputs": [],
   "source": [
    "with mlflow.start_run(nested=True,\n",
    "                      run_name='xgb_pipeline_imbalanced'):\n",
    "\n",
    "    best_params = study_xgb.best_params\n",
    "    best_score = study_xgb.best_value\n",
    "    mlflow.log_params(best_params)\n",
    "\n",
    "    pipe.set_params(**best_params)\n",
    "    pipe.fit(X_train, y_train)\n",
    "    pred_proba = pipe.predict_proba(X_test)[:, 1]\n",
    "    roc_auc_xgb_imb = roc_auc_score(y_test, pred_proba)\n",
    "    \n",
    "    mlflow.log_metrics({\n",
    "        'f1_cv': best_score,\n",
    "        'roc_auc': roc_auc_xgb_imb,\n",
    "        'balanced_accuracy': balanced_accuracy_score(y_test, np.round(pred_proba)),\n",
    "        'f1': f1_score(y_test, np.round(pred_proba))\n",
    "    })\n",
    "\n",
    "    mlflow.sklearn.log_model(pipe, 'xgb_pipeline_imbalanced')"
   ],
   "metadata": {
    "collapsed": false,
    "ExecuteTime": {
     "end_time": "2023-12-04T14:46:16.382597500Z",
     "start_time": "2023-12-04T14:46:07.329030200Z"
    }
   }
  },
  {
   "cell_type": "markdown",
   "source": [
    "# 3. Обучение моделей с учётом дисбаланса классов\n",
    "## 3.1 Назначение разных весов классам (cost-sensitive learning)\n",
    "### 3.1.1 Модель XGBoost"
   ],
   "metadata": {
    "collapsed": false
   }
  },
  {
   "cell_type": "code",
   "execution_count": 88,
   "outputs": [],
   "source": [
    "cat_pipeline = Pipeline([\n",
    "    ('enc', OneHotEncoder(handle_unknown='error', drop='first'))\n",
    "])\n",
    "\n",
    "num_pipeline = Pipeline([\n",
    "    ('imp', SimpleImputer(fill_value=-1, add_indicator=True)),\n",
    "    ('pt', PowerTransformer())\n",
    "])\n",
    "\n",
    "preprocessor = ColumnTransformer([\n",
    "    (\"cat\", cat_pipeline, categorical_features),\n",
    "    (\"num\", num_pipeline, numeric_features)\n",
    "\n",
    "], remainder='passthrough')"
   ],
   "metadata": {
    "collapsed": false,
    "ExecuteTime": {
     "end_time": "2023-12-04T14:46:17.911509700Z",
     "start_time": "2023-12-04T14:46:17.875960100Z"
    }
   }
  },
  {
   "cell_type": "code",
   "execution_count": 89,
   "outputs": [],
   "source": [
    "def optuna_optimize(trial):\n",
    "    param = {\n",
    "        'n_estimators': trial.suggest_int('n_estimators', 50, 500),\n",
    "        'max_depth': trial.suggest_int('max_depth', 2, 6),\n",
    "        'learning_rate': trial.suggest_float('learning_rate', 0.01, 1.0),\n",
    "        'gamma': trial.suggest_float('gamma', 0.0, 20.0),\n",
    "        'reg_lambda': trial.suggest_float('reg_lambda', 0.0, 1.0),\n",
    "        'min_child_weight': trial.suggest_float('min_child_weight', 0.0, 5.0)\n",
    "    }\n",
    "\n",
    "    estimator = xgb.XGBClassifier(**param, \n",
    "                                  scale_pos_weight=3.91,\n",
    "                                  random_state=12345)\n",
    "    \n",
    "    xgb_pipe = Pipeline([\n",
    "        ('preprocessor', preprocessor),\n",
    "        ('model', estimator)\n",
    "    ])\n",
    "\n",
    "    score = cross_val_score(xgb_pipe, X_train, y_train, cv=5, scoring='f1').mean()\n",
    "    return score"
   ],
   "metadata": {
    "collapsed": false,
    "ExecuteTime": {
     "end_time": "2023-12-04T14:46:20.012965500Z",
     "start_time": "2023-12-04T14:46:19.965616400Z"
    }
   }
  },
  {
   "cell_type": "code",
   "execution_count": 90,
   "outputs": [
    {
     "name": "stderr",
     "output_type": "stream",
     "text": [
      "[I 2023-12-04 17:46:21,398] A new study created in memory with name: XGBoost Optuna Optimization Class Weight\n"
     ]
    }
   ],
   "source": [
    "study_xgb_cw = optuna.create_study(study_name=\"XGBoost Optuna Optimization Class Weight\",\n",
    "                                direction='maximize')"
   ],
   "metadata": {
    "collapsed": false,
    "ExecuteTime": {
     "end_time": "2023-12-04T14:46:21.474698400Z",
     "start_time": "2023-12-04T14:46:21.400283400Z"
    }
   }
  },
  {
   "cell_type": "code",
   "execution_count": 91,
   "outputs": [
    {
     "name": "stderr",
     "output_type": "stream",
     "text": [
      "[I 2023-12-04 17:46:28,218] Trial 0 finished with value: 0.5953900684310964 and parameters: {'n_estimators': 460, 'max_depth': 4, 'learning_rate': 0.22589545516795845, 'gamma': 17.687559738058248, 'reg_lambda': 0.7939903365269861, 'min_child_weight': 3.7626717608950466}. Best is trial 0 with value: 0.5953900684310964.\n",
      "[I 2023-12-04 17:46:29,845] Trial 1 finished with value: 0.5908321509845277 and parameters: {'n_estimators': 425, 'max_depth': 5, 'learning_rate': 0.6818046979914402, 'gamma': 15.954565785992301, 'reg_lambda': 0.12823958556784998, 'min_child_weight': 3.8164604239643065}. Best is trial 0 with value: 0.5953900684310964.\n",
      "[I 2023-12-04 17:46:30,850] Trial 2 finished with value: 0.5824828185014514 and parameters: {'n_estimators': 159, 'max_depth': 3, 'learning_rate': 0.8502248337918363, 'gamma': 16.851154883483186, 'reg_lambda': 0.35138550712591277, 'min_child_weight': 0.004267508239342299}. Best is trial 0 with value: 0.5953900684310964.\n",
      "[I 2023-12-04 17:46:31,897] Trial 3 finished with value: 0.5957619107884382 and parameters: {'n_estimators': 229, 'max_depth': 4, 'learning_rate': 0.4052262126391119, 'gamma': 14.447652636409728, 'reg_lambda': 0.39952430788332527, 'min_child_weight': 4.633567873062866}. Best is trial 3 with value: 0.5957619107884382.\n",
      "[I 2023-12-04 17:46:32,859] Trial 4 finished with value: 0.5931111236148106 and parameters: {'n_estimators': 207, 'max_depth': 2, 'learning_rate': 0.6406198918827113, 'gamma': 15.05039656330909, 'reg_lambda': 0.3206270168559928, 'min_child_weight': 3.4418801241556625}. Best is trial 3 with value: 0.5957619107884382.\n",
      "[I 2023-12-04 17:46:33,858] Trial 5 finished with value: 0.5830082661381363 and parameters: {'n_estimators': 200, 'max_depth': 5, 'learning_rate': 0.8410933148132841, 'gamma': 3.50123164270723, 'reg_lambda': 0.6091829012174198, 'min_child_weight': 2.1572475974741594}. Best is trial 3 with value: 0.5957619107884382.\n",
      "[I 2023-12-04 17:46:34,751] Trial 6 finished with value: 0.5975759878183626 and parameters: {'n_estimators': 159, 'max_depth': 3, 'learning_rate': 0.5828430661363831, 'gamma': 6.180627230538642, 'reg_lambda': 0.634030956230926, 'min_child_weight': 1.671070251294256}. Best is trial 6 with value: 0.5975759878183626.\n",
      "[I 2023-12-04 17:46:35,914] Trial 7 finished with value: 0.5935287029860048 and parameters: {'n_estimators': 316, 'max_depth': 3, 'learning_rate': 0.1754733048916799, 'gamma': 16.14739607274982, 'reg_lambda': 0.3690705080994129, 'min_child_weight': 4.92729940712583}. Best is trial 6 with value: 0.5975759878183626.\n",
      "[I 2023-12-04 17:46:36,890] Trial 8 finished with value: 0.6037264612610056 and parameters: {'n_estimators': 194, 'max_depth': 2, 'learning_rate': 0.36407958086636116, 'gamma': 3.047361920912046, 'reg_lambda': 0.24121592034156403, 'min_child_weight': 1.246279396588665}. Best is trial 8 with value: 0.6037264612610056.\n",
      "[I 2023-12-04 17:46:37,896] Trial 9 finished with value: 0.5953408183106088 and parameters: {'n_estimators': 226, 'max_depth': 4, 'learning_rate': 0.4084901613206317, 'gamma': 11.971624817887147, 'reg_lambda': 0.20381889166846667, 'min_child_weight': 1.783356587762216}. Best is trial 8 with value: 0.6037264612610056.\n",
      "[I 2023-12-04 17:46:39,193] Trial 10 finished with value: 0.5962129576001879 and parameters: {'n_estimators': 73, 'max_depth': 6, 'learning_rate': 0.02180003302054012, 'gamma': 0.028092731442450614, 'reg_lambda': 0.030479987744394144, 'min_child_weight': 0.8126725362122285}. Best is trial 8 with value: 0.6037264612610056.\n",
      "[I 2023-12-04 17:46:40,027] Trial 11 finished with value: 0.6001804633076618 and parameters: {'n_estimators': 90, 'max_depth': 2, 'learning_rate': 0.5491305767250689, 'gamma': 6.557318130196376, 'reg_lambda': 0.613638399115694, 'min_child_weight': 1.4534963510586316}. Best is trial 8 with value: 0.6037264612610056.\n",
      "[I 2023-12-04 17:46:40,811] Trial 12 finished with value: 0.5958274840205399 and parameters: {'n_estimators': 61, 'max_depth': 2, 'learning_rate': 0.4416239427691058, 'gamma': 7.944237351622469, 'reg_lambda': 0.924560674202171, 'min_child_weight': 1.1477607504150635}. Best is trial 8 with value: 0.6037264612610056.\n",
      "[I 2023-12-04 17:46:42,127] Trial 13 finished with value: 0.5958178017498799 and parameters: {'n_estimators': 322, 'max_depth': 2, 'learning_rate': 0.9985342529103312, 'gamma': 4.568827660849455, 'reg_lambda': 0.5313710371993763, 'min_child_weight': 2.739396175945692}. Best is trial 8 with value: 0.6037264612610056.\n",
      "[I 2023-12-04 17:46:43,007] Trial 14 finished with value: 0.5975477758751039 and parameters: {'n_estimators': 118, 'max_depth': 2, 'learning_rate': 0.5155886254712057, 'gamma': 9.659436437802905, 'reg_lambda': 0.6905857858518838, 'min_child_weight': 1.082514719496496}. Best is trial 8 with value: 0.6037264612610056.\n",
      "[I 2023-12-04 17:46:43,947] Trial 15 finished with value: 0.5962082998453593 and parameters: {'n_estimators': 132, 'max_depth': 3, 'learning_rate': 0.31053658191233635, 'gamma': 19.714230228559266, 'reg_lambda': 0.4752381908848251, 'min_child_weight': 2.4903694299133883}. Best is trial 8 with value: 0.6037264612610056.\n",
      "[I 2023-12-04 17:46:45,092] Trial 16 finished with value: 0.5996021622709581 and parameters: {'n_estimators': 301, 'max_depth': 2, 'learning_rate': 0.5188203707834931, 'gamma': 2.6974067433184614, 'reg_lambda': 0.243424239018742, 'min_child_weight': 0.34226734954974347}. Best is trial 8 with value: 0.6037264612610056.\n",
      "[I 2023-12-04 17:46:46,386] Trial 17 finished with value: 0.5967358089453778 and parameters: {'n_estimators': 371, 'max_depth': 3, 'learning_rate': 0.3399427275301426, 'gamma': 6.849064221298452, 'reg_lambda': 0.4856101014736979, 'min_child_weight': 0.6489044816047902}. Best is trial 8 with value: 0.6037264612610056.\n",
      "[I 2023-12-04 17:46:47,291] Trial 18 finished with value: 0.6002076462577428 and parameters: {'n_estimators': 90, 'max_depth': 5, 'learning_rate': 0.5629759396484616, 'gamma': 9.425391052104672, 'reg_lambda': 0.08904124839306485, 'min_child_weight': 1.417007926934398}. Best is trial 8 with value: 0.6037264612610056.\n",
      "[I 2023-12-04 17:46:48,436] Trial 19 finished with value: 0.5904045135667114 and parameters: {'n_estimators': 262, 'max_depth': 6, 'learning_rate': 0.6590842862563078, 'gamma': 10.888619873778435, 'reg_lambda': 0.01413022160721239, 'min_child_weight': 1.4945718624022701}. Best is trial 8 with value: 0.6037264612610056.\n",
      "[I 2023-12-04 17:46:49,548] Trial 20 finished with value: 0.5947208812789748 and parameters: {'n_estimators': 168, 'max_depth': 5, 'learning_rate': 0.45088890002423615, 'gamma': 9.102170000838715, 'reg_lambda': 0.13110033448033676, 'min_child_weight': 0.6013540146575092}. Best is trial 8 with value: 0.6037264612610056.\n",
      "[I 2023-12-04 17:46:50,507] Trial 21 finished with value: 0.5964728798630734 and parameters: {'n_estimators': 87, 'max_depth': 5, 'learning_rate': 0.5317140217536759, 'gamma': 5.477996500707341, 'reg_lambda': 0.24378151392272962, 'min_child_weight': 1.3093932263400851}. Best is trial 8 with value: 0.6037264612610056.\n",
      "[I 2023-12-04 17:46:51,447] Trial 22 finished with value: 0.5938620575168765 and parameters: {'n_estimators': 98, 'max_depth': 4, 'learning_rate': 0.5996561057384857, 'gamma': 7.482425624050952, 'reg_lambda': 0.13443737144083873, 'min_child_weight': 1.9625075773625285}. Best is trial 8 with value: 0.6037264612610056.\n",
      "[I 2023-12-04 17:46:52,368] Trial 23 finished with value: 0.6053088341386145 and parameters: {'n_estimators': 52, 'max_depth': 6, 'learning_rate': 0.32188224445564945, 'gamma': 8.25501740053546, 'reg_lambda': 0.2897924248202428, 'min_child_weight': 1.4102075786316621}. Best is trial 23 with value: 0.6053088341386145.\n",
      "[I 2023-12-04 17:46:53,291] Trial 24 finished with value: 0.6003820165539147 and parameters: {'n_estimators': 59, 'max_depth': 6, 'learning_rate': 0.31102085944870955, 'gamma': 11.768531619325792, 'reg_lambda': 0.2915162004010834, 'min_child_weight': 1.0507931826889103}. Best is trial 23 with value: 0.6053088341386145.\n",
      "[I 2023-12-04 17:46:54,343] Trial 25 finished with value: 0.6039711300946635 and parameters: {'n_estimators': 53, 'max_depth': 6, 'learning_rate': 0.28094010621878546, 'gamma': 12.379710223712369, 'reg_lambda': 0.23695555246053368, 'min_child_weight': 0.9747462195104375}. Best is trial 23 with value: 0.6053088341386145.\n",
      "[I 2023-12-04 17:46:56,428] Trial 26 finished with value: 0.60480797759804 and parameters: {'n_estimators': 138, 'max_depth': 6, 'learning_rate': 0.20358705316651546, 'gamma': 12.328184968627786, 'reg_lambda': 0.24376301105261222, 'min_child_weight': 0.8968227312017975}. Best is trial 23 with value: 0.6053088341386145.\n",
      "[I 2023-12-04 17:46:57,892] Trial 27 finished with value: 0.5984677003284891 and parameters: {'n_estimators': 129, 'max_depth': 6, 'learning_rate': 0.227958292441646, 'gamma': 13.486076012496813, 'reg_lambda': 0.39973830856248627, 'min_child_weight': 0.3744924691113425}. Best is trial 23 with value: 0.6053088341386145.\n",
      "[I 2023-12-04 17:46:59,436] Trial 28 finished with value: 0.605192708130866 and parameters: {'n_estimators': 60, 'max_depth': 6, 'learning_rate': 0.10378045338691413, 'gamma': 12.682035978482643, 'reg_lambda': 0.20924874470611418, 'min_child_weight': 0.8922692431244642}. Best is trial 23 with value: 0.6053088341386145.\n",
      "[I 2023-12-04 17:47:01,016] Trial 29 finished with value: 0.6083997885289995 and parameters: {'n_estimators': 130, 'max_depth': 6, 'learning_rate': 0.14233815456845497, 'gamma': 10.64465899993409, 'reg_lambda': 0.17139776349068758, 'min_child_weight': 0.03452656601209092}. Best is trial 29 with value: 0.6083997885289995.\n",
      "[I 2023-12-04 17:47:02,300] Trial 30 finished with value: 0.605970358741311 and parameters: {'n_estimators': 112, 'max_depth': 6, 'learning_rate': 0.1325655606543528, 'gamma': 10.327607666257991, 'reg_lambda': 0.19264642390974132, 'min_child_weight': 0.2532979209495947}. Best is trial 29 with value: 0.6083997885289995.\n",
      "[I 2023-12-04 17:47:03,464] Trial 31 finished with value: 0.6082702866477655 and parameters: {'n_estimators': 117, 'max_depth': 6, 'learning_rate': 0.13598613618342678, 'gamma': 10.485066347413138, 'reg_lambda': 0.16216815585180122, 'min_child_weight': 0.024753988467167698}. Best is trial 29 with value: 0.6083997885289995.\n",
      "[I 2023-12-04 17:47:06,421] Trial 32 finished with value: 0.6090964700576121 and parameters: {'n_estimators': 468, 'max_depth': 6, 'learning_rate': 0.09076458970486811, 'gamma': 8.383396252150803, 'reg_lambda': 0.16662997633021984, 'min_child_weight': 0.173393933029472}. Best is trial 32 with value: 0.6090964700576121.\n",
      "[I 2023-12-04 17:47:08,818] Trial 33 finished with value: 0.6028752085537334 and parameters: {'n_estimators': 446, 'max_depth': 5, 'learning_rate': 0.10967366388528407, 'gamma': 10.872965649726453, 'reg_lambda': 0.14752922538084487, 'min_child_weight': 0.04013251835183637}. Best is trial 32 with value: 0.6090964700576121.\n",
      "[I 2023-12-04 17:47:10,674] Trial 34 finished with value: 0.6084075948888754 and parameters: {'n_estimators': 483, 'max_depth': 6, 'learning_rate': 0.1277886717488479, 'gamma': 10.539962424779686, 'reg_lambda': 0.07037744739570648, 'min_child_weight': 0.00454767832454861}. Best is trial 32 with value: 0.6090964700576121.\n",
      "[I 2023-12-04 17:47:12,943] Trial 35 finished with value: 0.6038383803066923 and parameters: {'n_estimators': 400, 'max_depth': 5, 'learning_rate': 0.022294261571574006, 'gamma': 8.602305887914131, 'reg_lambda': 0.05915595924235896, 'min_child_weight': 0.014156918941640041}. Best is trial 32 with value: 0.6090964700576121.\n",
      "[I 2023-12-04 17:47:14,864] Trial 36 finished with value: 0.608734653948919 and parameters: {'n_estimators': 499, 'max_depth': 6, 'learning_rate': 0.08330133238902557, 'gamma': 10.328907249769893, 'reg_lambda': 0.06985889273104784, 'min_child_weight': 0.44093852994648}. Best is trial 32 with value: 0.6090964700576121.\n",
      "[I 2023-12-04 17:47:16,844] Trial 37 finished with value: 0.5998642607065642 and parameters: {'n_estimators': 487, 'max_depth': 5, 'learning_rate': 0.051161208511254025, 'gamma': 14.23367139656595, 'reg_lambda': 0.08068432691519212, 'min_child_weight': 0.5963114425220939}. Best is trial 32 with value: 0.6090964700576121.\n",
      "[I 2023-12-04 17:47:18,696] Trial 38 finished with value: 0.608984054942675 and parameters: {'n_estimators': 496, 'max_depth': 6, 'learning_rate': 0.2416779590295028, 'gamma': 8.95007025453481, 'reg_lambda': 0.02997781463609439, 'min_child_weight': 0.36469060890758154}. Best is trial 32 with value: 0.6090964700576121.\n",
      "[I 2023-12-04 17:47:20,343] Trial 39 finished with value: 0.5986973711927683 and parameters: {'n_estimators': 498, 'max_depth': 5, 'learning_rate': 0.24082631515505776, 'gamma': 9.093063884172158, 'reg_lambda': 0.08154548177674005, 'min_child_weight': 0.4582512253055784}. Best is trial 32 with value: 0.6090964700576121.\n",
      "[I 2023-12-04 17:47:22,920] Trial 40 finished with value: 0.6068840597812738 and parameters: {'n_estimators': 471, 'max_depth': 6, 'learning_rate': 0.06738253694555288, 'gamma': 7.334829065456145, 'reg_lambda': 0.0012835997052143, 'min_child_weight': 0.26332629653059625}. Best is trial 32 with value: 0.6090964700576121.\n",
      "[I 2023-12-04 17:47:24,496] Trial 41 finished with value: 0.6035988620888092 and parameters: {'n_estimators': 442, 'max_depth': 6, 'learning_rate': 0.17380236655064088, 'gamma': 11.08255132329343, 'reg_lambda': 0.09371207582590765, 'min_child_weight': 0.6525462790263226}. Best is trial 32 with value: 0.6090964700576121.\n",
      "[I 2023-12-04 17:47:26,387] Trial 42 finished with value: 0.6078291703535821 and parameters: {'n_estimators': 409, 'max_depth': 6, 'learning_rate': 0.07815487941970489, 'gamma': 9.990468691675401, 'reg_lambda': 0.03877513424655298, 'min_child_weight': 0.20824559574992835}. Best is trial 32 with value: 0.6090964700576121.\n",
      "[I 2023-12-04 17:47:28,043] Trial 43 finished with value: 0.6036697247527432 and parameters: {'n_estimators': 468, 'max_depth': 6, 'learning_rate': 0.15850802515866447, 'gamma': 8.370084823018907, 'reg_lambda': 0.10516949833340462, 'min_child_weight': 0.44297421513961366}. Best is trial 32 with value: 0.6090964700576121.\n",
      "[I 2023-12-04 17:47:29,491] Trial 44 finished with value: 0.6033836434912877 and parameters: {'n_estimators': 377, 'max_depth': 6, 'learning_rate': 0.19373146801443275, 'gamma': 11.378176644813344, 'reg_lambda': 0.05496713420092382, 'min_child_weight': 0.7407390891313543}. Best is trial 32 with value: 0.6090964700576121.\n",
      "[I 2023-12-04 17:47:31,075] Trial 45 finished with value: 0.6005684837231096 and parameters: {'n_estimators': 431, 'max_depth': 5, 'learning_rate': 0.09433914048942196, 'gamma': 9.726930891318872, 'reg_lambda': 0.15952709737624066, 'min_child_weight': 0.17725948844224879}. Best is trial 32 with value: 0.6090964700576121.\n",
      "[I 2023-12-04 17:47:33,843] Trial 46 finished with value: 0.6074304249757825 and parameters: {'n_estimators': 482, 'max_depth': 6, 'learning_rate': 0.02437978197947535, 'gamma': 8.73960050452691, 'reg_lambda': 0.01868504813698369, 'min_child_weight': 0.4587548799318948}. Best is trial 32 with value: 0.6090964700576121.\n",
      "[I 2023-12-04 17:47:35,626] Trial 47 finished with value: 0.601932689200043 and parameters: {'n_estimators': 500, 'max_depth': 6, 'learning_rate': 0.2503072631843911, 'gamma': 13.143070058823932, 'reg_lambda': 0.11543370873683878, 'min_child_weight': 0.7448037992502576}. Best is trial 32 with value: 0.6090964700576121.\n",
      "[I 2023-12-04 17:47:37,210] Trial 48 finished with value: 0.5951445933242673 and parameters: {'n_estimators': 465, 'max_depth': 4, 'learning_rate': 0.15193833774133503, 'gamma': 11.537350524186913, 'reg_lambda': 0.057531155083351784, 'min_child_weight': 0.013110511116210977}. Best is trial 32 with value: 0.6090964700576121.\n",
      "[I 2023-12-04 17:47:38,890] Trial 49 finished with value: 0.6002510530732967 and parameters: {'n_estimators': 452, 'max_depth': 5, 'learning_rate': 0.1935877010601813, 'gamma': 10.210781862218624, 'reg_lambda': 0.0005173496677897682, 'min_child_weight': 0.4770050025787135}. Best is trial 32 with value: 0.6090964700576121.\n",
      "[I 2023-12-04 17:47:40,644] Trial 50 finished with value: 0.6057526642764056 and parameters: {'n_estimators': 417, 'max_depth': 6, 'learning_rate': 0.1235934382097028, 'gamma': 7.83154995388629, 'reg_lambda': 0.16936883223840532, 'min_child_weight': 0.24105229174455473}. Best is trial 32 with value: 0.6090964700576121.\n",
      "[I 2023-12-04 17:47:42,156] Trial 51 finished with value: 0.6045250774553913 and parameters: {'n_estimators': 386, 'max_depth': 6, 'learning_rate': 0.13109322986664773, 'gamma': 10.458813574591215, 'reg_lambda': 0.17005359599682962, 'min_child_weight': 0.08004991738621296}. Best is trial 32 with value: 0.6090964700576121.\n",
      "[I 2023-12-04 17:47:43,745] Trial 52 finished with value: 0.6077137332257531 and parameters: {'n_estimators': 341, 'max_depth': 6, 'learning_rate': 0.06324614997996664, 'gamma': 9.329257731832545, 'reg_lambda': 0.1203045290498442, 'min_child_weight': 0.19673293853512924}. Best is trial 32 with value: 0.6090964700576121.\n",
      "[I 2023-12-04 17:47:45,008] Trial 53 finished with value: 0.6085064161007916 and parameters: {'n_estimators': 238, 'max_depth': 6, 'learning_rate': 0.1573329251653683, 'gamma': 10.670860690973942, 'reg_lambda': 0.17906570534568012, 'min_child_weight': 0.014950912780394236}. Best is trial 32 with value: 0.6090964700576121.\n",
      "[I 2023-12-04 17:47:46,249] Trial 54 finished with value: 0.6052504441746713 and parameters: {'n_estimators': 246, 'max_depth': 6, 'learning_rate': 0.17059010513535333, 'gamma': 11.92760339558696, 'reg_lambda': 0.07176686534664428, 'min_child_weight': 0.3582275490866078}. Best is trial 32 with value: 0.6090964700576121.\n",
      "[I 2023-12-04 17:47:47,406] Trial 55 finished with value: 0.5985739162061515 and parameters: {'n_estimators': 217, 'max_depth': 5, 'learning_rate': 0.26594815131051647, 'gamma': 9.746966261479752, 'reg_lambda': 0.20230907475805093, 'min_child_weight': 0.562715245245861}. Best is trial 32 with value: 0.6090964700576121.\n",
      "[I 2023-12-04 17:47:48,959] Trial 56 finished with value: 0.6020145322628614 and parameters: {'n_estimators': 431, 'max_depth': 6, 'learning_rate': 0.2195413768706314, 'gamma': 6.989159006931738, 'reg_lambda': 0.04370141535111055, 'min_child_weight': 0.7899223785233781}. Best is trial 32 with value: 0.6090964700576121.\n",
      "[I 2023-12-04 17:47:50,241] Trial 57 finished with value: 0.6054688339600601 and parameters: {'n_estimators': 182, 'max_depth': 6, 'learning_rate': 0.08819422266204607, 'gamma': 8.012697560108274, 'reg_lambda': 0.1233532215249096, 'min_child_weight': 1.2206441720645373}. Best is trial 32 with value: 0.6090964700576121.\n",
      "[I 2023-12-04 17:47:51,985] Trial 58 finished with value: 0.6044859224143809 and parameters: {'n_estimators': 289, 'max_depth': 5, 'learning_rate': 0.035589379509899474, 'gamma': 5.949396666129928, 'reg_lambda': 0.09459765616635576, 'min_child_weight': 0.3107634602746954}. Best is trial 32 with value: 0.6090964700576121.\n",
      "[I 2023-12-04 17:47:53,377] Trial 59 finished with value: 0.6027763961796139 and parameters: {'n_estimators': 346, 'max_depth': 6, 'learning_rate': 0.20673128843165653, 'gamma': 8.874407442601024, 'reg_lambda': 0.04066857308823643, 'min_child_weight': 0.9242304080140651}. Best is trial 32 with value: 0.6090964700576121.\n",
      "[I 2023-12-04 17:47:55,193] Trial 60 finished with value: 0.6076312415544604 and parameters: {'n_estimators': 482, 'max_depth': 6, 'learning_rate': 0.060150183477712366, 'gamma': 10.796017605642906, 'reg_lambda': 0.28747653329821965, 'min_child_weight': 0.517236284339148}. Best is trial 32 with value: 0.6090964700576121.\n",
      "[I 2023-12-04 17:47:56,337] Trial 61 finished with value: 0.607888802108983 and parameters: {'n_estimators': 148, 'max_depth': 6, 'learning_rate': 0.12499781929924766, 'gamma': 10.166674250966734, 'reg_lambda': 0.1505852813378118, 'min_child_weight': 0.0360030896948586}. Best is trial 32 with value: 0.6090964700576121.\n",
      "[I 2023-12-04 17:47:57,479] Trial 62 finished with value: 0.6055812012475945 and parameters: {'n_estimators': 165, 'max_depth': 6, 'learning_rate': 0.1431103780988749, 'gamma': 11.324312291768566, 'reg_lambda': 0.18180117449895505, 'min_child_weight': 0.15744237178184656}. Best is trial 32 with value: 0.6090964700576121.\n",
      "[I 2023-12-04 17:47:58,705] Trial 63 finished with value: 0.6069332046948613 and parameters: {'n_estimators': 186, 'max_depth': 6, 'learning_rate': 0.09510804624080801, 'gamma': 9.38791567773016, 'reg_lambda': 0.13959812542802075, 'min_child_weight': 0.01669132339008951}. Best is trial 32 with value: 0.6090964700576121.\n",
      "[I 2023-12-04 17:48:01,325] Trial 64 finished with value: 0.607843714544755 and parameters: {'n_estimators': 269, 'max_depth': 6, 'learning_rate': 0.01256208776835803, 'gamma': 10.599865354200851, 'reg_lambda': 0.2276693618119854, 'min_child_weight': 0.35066092914986824}. Best is trial 32 with value: 0.6090964700576121.\n",
      "[I 2023-12-04 17:48:02,917] Trial 65 finished with value: 0.6051732465549906 and parameters: {'n_estimators': 460, 'max_depth': 6, 'learning_rate': 0.1732122326350592, 'gamma': 11.93030885045501, 'reg_lambda': 0.19704420418385907, 'min_child_weight': 0.6399661146559744}. Best is trial 32 with value: 0.6090964700576121.\n",
      "[I 2023-12-04 17:48:04,138] Trial 66 finished with value: 0.6046534104197099 and parameters: {'n_estimators': 248, 'max_depth': 6, 'learning_rate': 0.28906500965527004, 'gamma': 7.622100788660589, 'reg_lambda': 0.10597532215993491, 'min_child_weight': 0.18165369616930188}. Best is trial 32 with value: 0.6090964700576121.\n",
      "[I 2023-12-04 17:48:05,138] Trial 67 finished with value: 0.5982635864044282 and parameters: {'n_estimators': 104, 'max_depth': 5, 'learning_rate': 0.236634137950279, 'gamma': 8.655154955885038, 'reg_lambda': 0.2647970769472271, 'min_child_weight': 1.1139269153179492}. Best is trial 32 with value: 0.6090964700576121.\n",
      "[I 2023-12-04 17:48:06,165] Trial 68 finished with value: 0.6049584517422629 and parameters: {'n_estimators': 74, 'max_depth': 6, 'learning_rate': 0.10988684107197443, 'gamma': 10.813633327743858, 'reg_lambda': 0.1687314356198364, 'min_child_weight': 0.3595289872944966}. Best is trial 32 with value: 0.6090964700576121.\n",
      "[I 2023-12-04 17:48:07,765] Trial 69 finished with value: 0.5928597921440857 and parameters: {'n_estimators': 488, 'max_depth': 3, 'learning_rate': 0.1486134180062353, 'gamma': 9.635505459411299, 'reg_lambda': 0.22246721881507034, 'min_child_weight': 0.14754413502513164}. Best is trial 32 with value: 0.6090964700576121.\n",
      "[I 2023-12-04 17:48:08,924] Trial 70 finished with value: 0.6062479935874624 and parameters: {'n_estimators': 122, 'max_depth': 6, 'learning_rate': 0.07073002408562265, 'gamma': 12.406781733381166, 'reg_lambda': 0.33173524081156136, 'min_child_weight': 0.7692893112730355}. Best is trial 32 with value: 0.6090964700576121.\n",
      "[I 2023-12-04 17:48:10,171] Trial 71 finished with value: 0.6083618394535388 and parameters: {'n_estimators': 212, 'max_depth': 6, 'learning_rate': 0.11240272966904037, 'gamma': 10.133089295035667, 'reg_lambda': 0.12585541463848426, 'min_child_weight': 0.004691715790950131}. Best is trial 32 with value: 0.6090964700576121.\n",
      "[I 2023-12-04 17:48:11,351] Trial 72 finished with value: 0.6120990551566801 and parameters: {'n_estimators': 203, 'max_depth': 6, 'learning_rate': 0.1984781560510692, 'gamma': 10.070402397532018, 'reg_lambda': 0.07576651134189578, 'min_child_weight': 0.3205803257232248}. Best is trial 72 with value: 0.6120990551566801.\n",
      "[I 2023-12-04 17:48:12,550] Trial 73 finished with value: 0.6021565988769505 and parameters: {'n_estimators': 218, 'max_depth': 6, 'learning_rate': 0.1949383547890079, 'gamma': 8.99565418301962, 'reg_lambda': 0.03444117646072459, 'min_child_weight': 0.3150503181320216}. Best is trial 72 with value: 0.6120990551566801.\n",
      "[I 2023-12-04 17:48:13,783] Trial 74 finished with value: 0.6084422930175737 and parameters: {'n_estimators': 203, 'max_depth': 6, 'learning_rate': 0.10730630660756443, 'gamma': 11.164761708102642, 'reg_lambda': 0.06763484118030086, 'min_child_weight': 0.5512205399048011}. Best is trial 72 with value: 0.6120990551566801.\n",
      "[I 2023-12-04 17:48:15,217] Trial 75 finished with value: 0.6070641713089743 and parameters: {'n_estimators': 201, 'max_depth': 6, 'learning_rate': 0.046562198815114655, 'gamma': 11.325105541835025, 'reg_lambda': 0.07571248192561446, 'min_child_weight': 0.5301886660417987}. Best is trial 72 with value: 0.6120990551566801.\n",
      "[I 2023-12-04 17:48:16,598] Trial 76 finished with value: 0.6041089091128165 and parameters: {'n_estimators': 234, 'max_depth': 6, 'learning_rate': 0.1696213260145328, 'gamma': 8.319275482289626, 'reg_lambda': 0.022805572048421735, 'min_child_weight': 0.6765355857181723}. Best is trial 72 with value: 0.6120990551566801.\n",
      "[I 2023-12-04 17:48:17,690] Trial 77 finished with value: 0.598229377053826 and parameters: {'n_estimators': 176, 'max_depth': 5, 'learning_rate': 0.22540162310036443, 'gamma': 11.669107846490457, 'reg_lambda': 0.06526643071383599, 'min_child_weight': 0.41222535775037616}. Best is trial 72 with value: 0.6120990551566801.\n",
      "[I 2023-12-04 17:48:19,099] Trial 78 finished with value: 0.6096678174358046 and parameters: {'n_estimators': 282, 'max_depth': 6, 'learning_rate': 0.08562794620890526, 'gamma': 9.685998393061597, 'reg_lambda': 0.09473078728589901, 'min_child_weight': 1.0321412328844928}. Best is trial 72 with value: 0.6120990551566801.\n",
      "[I 2023-12-04 17:48:20,459] Trial 79 finished with value: 0.6065303122016091 and parameters: {'n_estimators': 233, 'max_depth': 6, 'learning_rate': 0.08366176926516687, 'gamma': 9.302189600164485, 'reg_lambda': 0.004773254786551426, 'min_child_weight': 0.9865144860884882}. Best is trial 72 with value: 0.6120990551566801.\n",
      "[I 2023-12-04 17:48:22,131] Trial 80 finished with value: 0.6091687152575463 and parameters: {'n_estimators': 307, 'max_depth': 6, 'learning_rate': 0.04305288043021704, 'gamma': 9.828319687671584, 'reg_lambda': 0.09478672016493131, 'min_child_weight': 0.5599051740359074}. Best is trial 72 with value: 0.6120990551566801.\n",
      "[I 2023-12-04 17:48:23,694] Trial 81 finished with value: 0.6074175944287015 and parameters: {'n_estimators': 290, 'max_depth': 6, 'learning_rate': 0.04989632208563724, 'gamma': 10.08122388667562, 'reg_lambda': 0.10125969214114933, 'min_child_weight': 0.8499452582863416}. Best is trial 72 with value: 0.6120990551566801.\n",
      "[I 2023-12-04 17:48:25,187] Trial 82 finished with value: 0.6069912907841631 and parameters: {'n_estimators': 320, 'max_depth': 6, 'learning_rate': 0.08723589567858486, 'gamma': 9.650299451578645, 'reg_lambda': 0.08384682498326652, 'min_child_weight': 0.5510160169499454}. Best is trial 72 with value: 0.6120990551566801.\n",
      "[I 2023-12-04 17:48:27,430] Trial 83 finished with value: 0.6070793713142912 and parameters: {'n_estimators': 256, 'max_depth': 6, 'learning_rate': 0.014416042493671496, 'gamma': 11.068345265496088, 'reg_lambda': 0.05530719567820263, 'min_child_weight': 0.25928230144652664}. Best is trial 72 with value: 0.6120990551566801.\n",
      "[I 2023-12-04 17:48:28,823] Trial 84 finished with value: 0.6083276683683477 and parameters: {'n_estimators': 279, 'max_depth': 6, 'learning_rate': 0.11017217996245887, 'gamma': 8.237840436394919, 'reg_lambda': 0.03592189608478919, 'min_child_weight': 0.6049246291683524}. Best is trial 72 with value: 0.6120990551566801.\n",
      "[I 2023-12-04 17:48:30,801] Trial 85 finished with value: 0.6082937270171586 and parameters: {'n_estimators': 480, 'max_depth': 6, 'learning_rate': 0.04181985803399989, 'gamma': 9.19987651684093, 'reg_lambda': 0.1362438061826264, 'min_child_weight': 0.45484241274639564}. Best is trial 72 with value: 0.6120990551566801.\n",
      "[I 2023-12-04 17:48:32,406] Trial 86 finished with value: 0.6050498061685495 and parameters: {'n_estimators': 307, 'max_depth': 6, 'learning_rate': 0.15392912386517363, 'gamma': 9.829851294695002, 'reg_lambda': 0.10429349052222052, 'min_child_weight': 1.0457624068352513}. Best is trial 72 with value: 0.6120990551566801.\n",
      "[I 2023-12-04 17:48:33,563] Trial 87 finished with value: 0.60332150774531 and parameters: {'n_estimators': 195, 'max_depth': 5, 'learning_rate': 0.18356872914809105, 'gamma': 8.733469247985166, 'reg_lambda': 0.0715120824578682, 'min_child_weight': 0.7271172434834303}. Best is trial 72 with value: 0.6120990551566801.\n",
      "[I 2023-12-04 17:48:35,335] Trial 88 finished with value: 0.6078531378877315 and parameters: {'n_estimators': 496, 'max_depth': 6, 'learning_rate': 0.08137445448289649, 'gamma': 10.535685386015963, 'reg_lambda': 0.018542460437989274, 'min_child_weight': 0.14111244175120743}. Best is trial 72 with value: 0.6120990551566801.\n",
      "[I 2023-12-04 17:48:36,919] Trial 89 finished with value: 0.6001315909033693 and parameters: {'n_estimators': 447, 'max_depth': 3, 'learning_rate': 0.1272676443718886, 'gamma': 7.535010412489772, 'reg_lambda': 0.15465809950507875, 'min_child_weight': 0.2864598624838962}. Best is trial 72 with value: 0.6120990551566801.\n",
      "[I 2023-12-04 17:48:38,623] Trial 90 finished with value: 0.5974719271633324 and parameters: {'n_estimators': 472, 'max_depth': 4, 'learning_rate': 0.06111491430936958, 'gamma': 11.01524043643429, 'reg_lambda': 0.12507745883624635, 'min_child_weight': 0.9179737616205537}. Best is trial 72 with value: 0.6120990551566801.\n",
      "[I 2023-12-04 17:48:39,892] Trial 91 finished with value: 0.6062074611065473 and parameters: {'n_estimators': 238, 'max_depth': 6, 'learning_rate': 0.15011339933535287, 'gamma': 10.61198451886985, 'reg_lambda': 0.19030273210035747, 'min_child_weight': 0.4135155365903712}. Best is trial 72 with value: 0.6120990551566801.\n",
      "[I 2023-12-04 17:48:40,972] Trial 92 finished with value: 0.6063116608253368 and parameters: {'n_estimators': 154, 'max_depth': 6, 'learning_rate': 0.2126022158433588, 'gamma': 11.47899761452118, 'reg_lambda': 0.08171890126147949, 'min_child_weight': 0.1953437022929047}. Best is trial 72 with value: 0.6120990551566801.\n",
      "[I 2023-12-04 17:48:42,322] Trial 93 finished with value: 0.6084581075694092 and parameters: {'n_estimators': 263, 'max_depth': 6, 'learning_rate': 0.10036406184901847, 'gamma': 9.985996581551479, 'reg_lambda': 0.05061473641889194, 'min_child_weight': 0.5072380062210737}. Best is trial 72 with value: 0.6120990551566801.\n",
      "[I 2023-12-04 17:48:43,967] Trial 94 finished with value: 0.6079398997487182 and parameters: {'n_estimators': 223, 'max_depth': 6, 'learning_rate': 0.032580215981055705, 'gamma': 9.92762910055186, 'reg_lambda': 0.05050636143584822, 'min_child_weight': 0.5503992733708498}. Best is trial 72 with value: 0.6120990551566801.\n",
      "[I 2023-12-04 17:48:45,333] Trial 95 finished with value: 0.6065543191714614 and parameters: {'n_estimators': 261, 'max_depth': 6, 'learning_rate': 0.0985609211249842, 'gamma': 9.050730279937447, 'reg_lambda': 0.01885763181345794, 'min_child_weight': 0.8409091245748171}. Best is trial 72 with value: 0.6120990551566801.\n",
      "[I 2023-12-04 17:48:46,774] Trial 96 finished with value: 0.6029865374834366 and parameters: {'n_estimators': 339, 'max_depth': 6, 'learning_rate': 0.12590268892615272, 'gamma': 10.281018375374684, 'reg_lambda': 0.05001491987059015, 'min_child_weight': 0.6535417536877728}. Best is trial 72 with value: 0.6120990551566801.\n",
      "[I 2023-12-04 17:48:48,226] Trial 97 finished with value: 0.6053070857097451 and parameters: {'n_estimators': 275, 'max_depth': 6, 'learning_rate': 0.07046326250552443, 'gamma': 9.488328455611814, 'reg_lambda': 0.1460134039642821, 'min_child_weight': 0.3045040846993936}. Best is trial 72 with value: 0.6120990551566801.\n",
      "[I 2023-12-04 17:48:49,548] Trial 98 finished with value: 0.6048763219505473 and parameters: {'n_estimators': 296, 'max_depth': 6, 'learning_rate': 0.1781563253675034, 'gamma': 12.183201671262749, 'reg_lambda': 0.10721448312733539, 'min_child_weight': 0.12528581106081424}. Best is trial 72 with value: 0.6120990551566801.\n",
      "[I 2023-12-04 17:48:51,430] Trial 99 finished with value: 0.608751372933849 and parameters: {'n_estimators': 458, 'max_depth': 6, 'learning_rate': 0.10259951129552722, 'gamma': 8.07906355842955, 'reg_lambda': 0.00045624943123967476, 'min_child_weight': 0.4680145918945063}. Best is trial 72 with value: 0.6120990551566801.\n",
      "[I 2023-12-04 17:48:53,113] Trial 100 finished with value: 0.6068946728859642 and parameters: {'n_estimators': 248, 'max_depth': 6, 'learning_rate': 0.0382927224086632, 'gamma': 7.931195021001624, 'reg_lambda': 0.005020836802540424, 'min_child_weight': 0.4938634097991005}. Best is trial 72 with value: 0.6120990551566801.\n",
      "[I 2023-12-04 17:48:54,805] Trial 101 finished with value: 0.6058005432137892 and parameters: {'n_estimators': 460, 'max_depth': 6, 'learning_rate': 0.10343370698276953, 'gamma': 8.649632431381711, 'reg_lambda': 0.03246124008730923, 'min_child_weight': 0.3954615739827135}. Best is trial 72 with value: 0.6120990551566801.\n",
      "[I 2023-12-04 17:48:56,515] Trial 102 finished with value: 0.6058404019608268 and parameters: {'n_estimators': 487, 'max_depth': 6, 'learning_rate': 0.13099947779887428, 'gamma': 7.113879370065198, 'reg_lambda': 0.08838704359732649, 'min_child_weight': 0.6973268291051326}. Best is trial 72 with value: 0.6120990551566801.\n",
      "[I 2023-12-04 17:48:58,140] Trial 103 finished with value: 0.6038374979689294 and parameters: {'n_estimators': 437, 'max_depth': 6, 'learning_rate': 0.15983433642598874, 'gamma': 8.133131108120944, 'reg_lambda': 0.07054874439976384, 'min_child_weight': 0.1335862420556521}. Best is trial 72 with value: 0.6120990551566801.\n",
      "[I 2023-12-04 17:49:01,360] Trial 104 finished with value: 0.6083106761916918 and parameters: {'n_estimators': 455, 'max_depth': 6, 'learning_rate': 0.011061456773147016, 'gamma': 9.828092613151115, 'reg_lambda': 0.055780783310067826, 'min_child_weight': 0.38143421302363306}. Best is trial 72 with value: 0.6120990551566801.\n",
      "[I 2023-12-04 17:49:03,154] Trial 105 finished with value: 0.6064255222029427 and parameters: {'n_estimators': 474, 'max_depth': 6, 'learning_rate': 0.0627609491714135, 'gamma': 11.08573579324741, 'reg_lambda': 0.023325071454131693, 'min_child_weight': 0.23665721121099292}. Best is trial 72 with value: 0.6120990551566801.\n",
      "[I 2023-12-04 17:49:04,951] Trial 106 finished with value: 0.6053784723641463 and parameters: {'n_estimators': 494, 'max_depth': 6, 'learning_rate': 0.08734368424446352, 'gamma': 9.036376829034753, 'reg_lambda': 0.11932568228280649, 'min_child_weight': 0.8060168679432526}. Best is trial 72 with value: 0.6120990551566801.\n",
      "[I 2023-12-04 17:49:06,565] Trial 107 finished with value: 0.6059228837887964 and parameters: {'n_estimators': 357, 'max_depth': 6, 'learning_rate': 0.11101392719593871, 'gamma': 10.361147035944663, 'reg_lambda': 0.0009125953297217104, 'min_child_weight': 0.5821438146136132}. Best is trial 72 with value: 0.6120990551566801.\n",
      "[I 2023-12-04 17:49:07,831] Trial 108 finished with value: 0.6029821809623286 and parameters: {'n_estimators': 210, 'max_depth': 6, 'learning_rate': 0.18967782577680853, 'gamma': 8.350708176408459, 'reg_lambda': 0.08998140519741774, 'min_child_weight': 0.48744699849503437}. Best is trial 72 with value: 0.6120990551566801.\n",
      "[I 2023-12-04 17:49:09,230] Trial 109 finished with value: 0.6041660406483491 and parameters: {'n_estimators': 306, 'max_depth': 6, 'learning_rate': 0.13938615807489405, 'gamma': 9.446657856578042, 'reg_lambda': 0.0379531092721742, 'min_child_weight': 0.10289572466092528}. Best is trial 72 with value: 0.6120990551566801.\n",
      "[I 2023-12-04 17:49:11,088] Trial 110 finished with value: 0.6071942654832749 and parameters: {'n_estimators': 475, 'max_depth': 6, 'learning_rate': 0.05184315398206779, 'gamma': 9.965159805279432, 'reg_lambda': 0.06173794694098468, 'min_child_weight': 0.2849536177397335}. Best is trial 72 with value: 0.6120990551566801.\n",
      "[I 2023-12-04 17:49:12,400] Trial 111 finished with value: 0.6049516520325741 and parameters: {'n_estimators': 266, 'max_depth': 6, 'learning_rate': 0.15651807481120766, 'gamma': 10.582557956586992, 'reg_lambda': 0.13458836428286253, 'min_child_weight': 0.05883595783811102}. Best is trial 72 with value: 0.6120990551566801.\n",
      "[I 2023-12-04 17:49:13,705] Trial 112 finished with value: 0.6060498097883853 and parameters: {'n_estimators': 283, 'max_depth': 6, 'learning_rate': 0.20493753587739005, 'gamma': 11.648759475850365, 'reg_lambda': 0.17251264526415988, 'min_child_weight': 0.24775552177895405}. Best is trial 72 with value: 0.6120990551566801.\n",
      "[I 2023-12-04 17:49:14,963] Trial 113 finished with value: 0.6079751729813997 and parameters: {'n_estimators': 203, 'max_depth': 6, 'learning_rate': 0.11729771386904006, 'gamma': 10.979620180768283, 'reg_lambda': 0.09222759756804173, 'min_child_weight': 0.38619143814808266}. Best is trial 72 with value: 0.6120990551566801.\n",
      "[I 2023-12-04 17:49:16,792] Trial 114 finished with value: 0.609059115284196 and parameters: {'n_estimators': 500, 'max_depth': 6, 'learning_rate': 0.0776798051233281, 'gamma': 9.467829522912918, 'reg_lambda': 0.1125863455575707, 'min_child_weight': 0.08619430930410775}. Best is trial 72 with value: 0.6120990551566801.\n",
      "[I 2023-12-04 17:49:18,614] Trial 115 finished with value: 0.606776806771167 and parameters: {'n_estimators': 499, 'max_depth': 6, 'learning_rate': 0.07432941630411476, 'gamma': 8.695616108464172, 'reg_lambda': 0.10963392950727782, 'min_child_weight': 0.00128743979988577}. Best is trial 72 with value: 0.6120990551566801.\n",
      "[I 2023-12-04 17:49:20,318] Trial 116 finished with value: 0.6057783428532962 and parameters: {'n_estimators': 464, 'max_depth': 6, 'learning_rate': 0.09329780636361994, 'gamma': 9.409244238811592, 'reg_lambda': 0.0366114546647866, 'min_child_weight': 0.1884129250775859}. Best is trial 72 with value: 0.6120990551566801.\n",
      "[I 2023-12-04 17:49:22,389] Trial 117 finished with value: 0.6075206637530478 and parameters: {'n_estimators': 490, 'max_depth': 6, 'learning_rate': 0.047385030803792125, 'gamma': 10.178601628934368, 'reg_lambda': 0.0674667322908711, 'min_child_weight': 0.6083963072793359}. Best is trial 72 with value: 0.6120990551566801.\n",
      "[I 2023-12-04 17:49:24,571] Trial 118 finished with value: 0.6081523916318987 and parameters: {'n_estimators': 410, 'max_depth': 6, 'learning_rate': 0.026497922954663272, 'gamma': 7.766310263570765, 'reg_lambda': 0.14760573818671638, 'min_child_weight': 0.49111605035755057}. Best is trial 72 with value: 0.6120990551566801.\n",
      "[I 2023-12-04 17:49:26,256] Trial 119 finished with value: 0.6044605863445507 and parameters: {'n_estimators': 477, 'max_depth': 6, 'learning_rate': 0.1332992311994686, 'gamma': 8.905079087515565, 'reg_lambda': 0.11089822899496572, 'min_child_weight': 0.71971847703735}. Best is trial 72 with value: 0.6120990551566801.\n",
      "[I 2023-12-04 17:49:27,435] Trial 120 finished with value: 0.5966212791216801 and parameters: {'n_estimators': 185, 'max_depth': 4, 'learning_rate': 0.10181386087684419, 'gamma': 9.67287945283456, 'reg_lambda': 0.07721912269826309, 'min_child_weight': 0.11771609768427779}. Best is trial 72 with value: 0.6120990551566801.\n",
      "[I 2023-12-04 17:49:28,709] Trial 121 finished with value: 0.6046351516814676 and parameters: {'n_estimators': 254, 'max_depth': 6, 'learning_rate': 0.167387059200537, 'gamma': 10.75167408425591, 'reg_lambda': 0.21122865567741378, 'min_child_weight': 0.33681717460014804}. Best is trial 72 with value: 0.6120990551566801.\n",
      "[I 2023-12-04 17:49:29,822] Trial 122 finished with value: 0.6069546537803205 and parameters: {'n_estimators': 143, 'max_depth': 6, 'learning_rate': 0.14281705095376612, 'gamma': 11.33279141710765, 'reg_lambda': 0.17849221690019565, 'min_child_weight': 0.10216503980449565}. Best is trial 72 with value: 0.6120990551566801.\n",
      "[I 2023-12-04 17:49:31,615] Trial 123 finished with value: 0.6080797825524401 and parameters: {'n_estimators': 500, 'max_depth': 6, 'learning_rate': 0.0767457143062853, 'gamma': 10.323352974445193, 'reg_lambda': 0.1300796406014147, 'min_child_weight': 0.23940955120338353}. Best is trial 72 with value: 0.6120990551566801.\n",
      "[I 2023-12-04 17:49:33,054] Trial 124 finished with value: 0.605421075166939 and parameters: {'n_estimators': 330, 'max_depth': 6, 'learning_rate': 0.12172837282833128, 'gamma': 9.280502630200385, 'reg_lambda': 0.16187423477267157, 'min_child_weight': 0.4377806937835893}. Best is trial 72 with value: 0.6120990551566801.\n",
      "[I 2023-12-04 17:49:34,667] Trial 125 finished with value: 0.6025282357500488 and parameters: {'n_estimators': 485, 'max_depth': 6, 'learning_rate': 0.2546301391065623, 'gamma': 12.008535520715022, 'reg_lambda': 0.04461437208796759, 'min_child_weight': 0.008056596030690172}. Best is trial 72 with value: 0.6120990551566801.\n",
      "[I 2023-12-04 17:49:36,037] Trial 126 finished with value: 0.6083775849391364 and parameters: {'n_estimators': 169, 'max_depth': 6, 'learning_rate': 0.06335826316277839, 'gamma': 8.449060903780023, 'reg_lambda': 0.021571475427281515, 'min_child_weight': 0.34907206696123405}. Best is trial 72 with value: 0.6120990551566801.\n",
      "[I 2023-12-04 17:49:37,399] Trial 127 finished with value: 0.607399654501293 and parameters: {'n_estimators': 240, 'max_depth': 6, 'learning_rate': 0.09159958523911645, 'gamma': 9.902306596946445, 'reg_lambda': 0.10380791299290346, 'min_child_weight': 0.22558323832800514}. Best is trial 72 with value: 0.6120990551566801.\n",
      "[I 2023-12-04 17:49:39,089] Trial 128 finished with value: 0.6027048517228057 and parameters: {'n_estimators': 449, 'max_depth': 6, 'learning_rate': 0.2248140149681363, 'gamma': 10.502194367236424, 'reg_lambda': 0.1923091931193363, 'min_child_weight': 0.11270783764558655}. Best is trial 72 with value: 0.6120990551566801.\n",
      "[I 2023-12-04 17:49:40,385] Trial 129 finished with value: 0.6057741249561446 and parameters: {'n_estimators': 273, 'max_depth': 6, 'learning_rate': 0.16429377159055975, 'gamma': 12.766966700655159, 'reg_lambda': 0.06192699017776594, 'min_child_weight': 0.5252123431216054}. Best is trial 72 with value: 0.6120990551566801.\n",
      "[I 2023-12-04 17:49:41,979] Trial 130 finished with value: 0.600906900312903 and parameters: {'n_estimators': 467, 'max_depth': 6, 'learning_rate': 0.18734434073687933, 'gamma': 11.164612437014721, 'reg_lambda': 0.14997853881366394, 'min_child_weight': 0.9738117384108169}. Best is trial 72 with value: 0.6120990551566801.\n",
      "[I 2023-12-04 17:49:43,789] Trial 131 finished with value: 0.6023066586743997 and parameters: {'n_estimators': 488, 'max_depth': 6, 'learning_rate': 0.0742976952738476, 'gamma': 8.47867795121797, 'reg_lambda': 0.019526324374040546, 'min_child_weight': 0.3255760200888904}. Best is trial 72 with value: 0.6120990551566801.\n",
      "[I 2023-12-04 17:49:45,167] Trial 132 finished with value: 0.6114677800390665 and parameters: {'n_estimators': 178, 'max_depth': 6, 'learning_rate': 0.05594150095157239, 'gamma': 9.045191179772965, 'reg_lambda': 0.08575996920794177, 'min_child_weight': 0.39516721487991013}. Best is trial 72 with value: 0.6120990551566801.\n",
      "[I 2023-12-04 17:49:46,787] Trial 133 finished with value: 0.6092417380556674 and parameters: {'n_estimators': 208, 'max_depth': 6, 'learning_rate': 0.03499000804892788, 'gamma': 9.1538219644805, 'reg_lambda': 0.08951344496907694, 'min_child_weight': 0.6746770032005416}. Best is trial 72 with value: 0.6120990551566801.\n",
      "[I 2023-12-04 17:49:48,638] Trial 134 finished with value: 0.606556038289981 and parameters: {'n_estimators': 225, 'max_depth': 6, 'learning_rate': 0.029043359883607338, 'gamma': 9.094553687929489, 'reg_lambda': 0.08751975572316537, 'min_child_weight': 0.6518833719923883}. Best is trial 72 with value: 0.6120990551566801.\n",
      "[I 2023-12-04 17:49:50,129] Trial 135 finished with value: 0.6051734904743673 and parameters: {'n_estimators': 189, 'max_depth': 6, 'learning_rate': 0.04812254277284084, 'gamma': 8.005385140162447, 'reg_lambda': 0.05335896975804191, 'min_child_weight': 0.757060344422755}. Best is trial 72 with value: 0.6120990551566801.\n",
      "[I 2023-12-04 17:49:51,371] Trial 136 finished with value: 0.6081968991597686 and parameters: {'n_estimators': 197, 'max_depth': 6, 'learning_rate': 0.10821068224368229, 'gamma': 9.590193997705866, 'reg_lambda': 0.12192232588268896, 'min_child_weight': 0.8815280031300163}. Best is trial 72 with value: 0.6120990551566801.\n",
      "[I 2023-12-04 17:49:53,607] Trial 137 finished with value: 0.6037240643904376 and parameters: {'n_estimators': 177, 'max_depth': 6, 'learning_rate': 0.014393215942090781, 'gamma': 7.423408003197153, 'reg_lambda': 0.07820034682287028, 'min_child_weight': 0.5883627289291246}. Best is trial 72 with value: 0.6120990551566801.\n",
      "[I 2023-12-04 17:49:55,132] Trial 138 finished with value: 0.6070118246123302 and parameters: {'n_estimators': 210, 'max_depth': 6, 'learning_rate': 0.05665939967131965, 'gamma': 8.912273487580057, 'reg_lambda': 0.09514104237737286, 'min_child_weight': 0.4289846750417988}. Best is trial 72 with value: 0.6120990551566801.\n",
      "[I 2023-12-04 17:49:56,684] Trial 139 finished with value: 0.6072661193793857 and parameters: {'n_estimators': 229, 'max_depth': 6, 'learning_rate': 0.03921185948058831, 'gamma': 10.133118639690334, 'reg_lambda': 0.0014068608544433867, 'min_child_weight': 0.5064742097535462}. Best is trial 72 with value: 0.6120990551566801.\n",
      "[I 2023-12-04 17:49:57,828] Trial 140 finished with value: 0.5969005361819308 and parameters: {'n_estimators': 162, 'max_depth': 2, 'learning_rate': 0.0897034101989389, 'gamma': 6.576868806085339, 'reg_lambda': 0.04484986332942141, 'min_child_weight': 1.1502352997789536}. Best is trial 72 with value: 0.6120990551566801.\n",
      "[I 2023-12-04 17:49:58,946] Trial 141 finished with value: 0.6048012666621077 and parameters: {'n_estimators': 129, 'max_depth': 6, 'learning_rate': 0.1240153909274145, 'gamma': 9.751510732241183, 'reg_lambda': 0.1320783989111394, 'min_child_weight': 0.1903075856143891}. Best is trial 72 with value: 0.6120990551566801.\n",
      "[I 2023-12-04 17:50:00,616] Trial 142 finished with value: 0.6055674120994757 and parameters: {'n_estimators': 479, 'max_depth': 6, 'learning_rate': 0.14097061664644125, 'gamma': 10.756061623398768, 'reg_lambda': 0.11087085932959628, 'min_child_weight': 0.2916386022290148}. Best is trial 72 with value: 0.6120990551566801.\n",
      "[I 2023-12-04 17:50:01,980] Trial 143 finished with value: 0.6049586187281915 and parameters: {'n_estimators': 218, 'max_depth': 6, 'learning_rate': 0.07562706132977275, 'gamma': 9.365221537547765, 'reg_lambda': 0.06969596381868934, 'min_child_weight': 1.700677104455153}. Best is trial 72 with value: 0.6120990551566801.\n",
      "[I 2023-12-04 17:50:03,234] Trial 144 finished with value: 0.6096769446269908 and parameters: {'n_estimators': 205, 'max_depth': 6, 'learning_rate': 0.11059510666380294, 'gamma': 10.203908919583638, 'reg_lambda': 0.029045882847155743, 'min_child_weight': 0.42764908999421}. Best is trial 72 with value: 0.6120990551566801.\n",
      "[I 2023-12-04 17:50:04,505] Trial 145 finished with value: 0.607622697145892 and parameters: {'n_estimators': 201, 'max_depth': 6, 'learning_rate': 0.10161413326829052, 'gamma': 8.749785367818053, 'reg_lambda': 0.026065885932357966, 'min_child_weight': 0.6669623330466588}. Best is trial 72 with value: 0.6120990551566801.\n",
      "[I 2023-12-04 17:50:05,887] Trial 146 finished with value: 0.6073476440448469 and parameters: {'n_estimators': 209, 'max_depth': 6, 'learning_rate': 0.061357801078350295, 'gamma': 10.036090210528803, 'reg_lambda': 0.049585912604655974, 'min_child_weight': 0.4133660666649512}. Best is trial 72 with value: 0.6120990551566801.\n",
      "[I 2023-12-04 17:50:07,029] Trial 147 finished with value: 0.5962542227153473 and parameters: {'n_estimators': 173, 'max_depth': 3, 'learning_rate': 0.11448985794208656, 'gamma': 9.134590577604925, 'reg_lambda': 0.09087530692936938, 'min_child_weight': 0.8057126920892541}. Best is trial 72 with value: 0.6120990551566801.\n",
      "[I 2023-12-04 17:50:08,806] Trial 148 finished with value: 0.6084867996615623 and parameters: {'n_estimators': 192, 'max_depth': 6, 'learning_rate': 0.02837660430074951, 'gamma': 8.16859555261461, 'reg_lambda': 0.02086038576105527, 'min_child_weight': 0.5551764716944457}. Best is trial 72 with value: 0.6120990551566801.\n",
      "[I 2023-12-04 17:50:10,914] Trial 149 finished with value: 0.5989939741478978 and parameters: {'n_estimators': 183, 'max_depth': 6, 'learning_rate': 0.010554085030283475, 'gamma': 7.958327631489276, 'reg_lambda': 0.03434616916880366, 'min_child_weight': 0.5594535214782973}. Best is trial 72 with value: 0.6120990551566801.\n",
      "[I 2023-12-04 17:50:13,015] Trial 150 finished with value: 0.608684205527585 and parameters: {'n_estimators': 193, 'max_depth': 6, 'learning_rate': 0.03322825546465635, 'gamma': 8.328352074984489, 'reg_lambda': 0.002037424931174491, 'min_child_weight': 1.338311533834182}. Best is trial 72 with value: 0.6120990551566801.\n",
      "[I 2023-12-04 17:50:14,878] Trial 151 finished with value: 0.6063216996983224 and parameters: {'n_estimators': 189, 'max_depth': 6, 'learning_rate': 0.03258740459490892, 'gamma': 7.178144421477139, 'reg_lambda': 0.0026558073760705597, 'min_child_weight': 1.302879745872375}. Best is trial 72 with value: 0.6120990551566801.\n",
      "[I 2023-12-04 17:50:16,637] Trial 152 finished with value: 0.6076997759018578 and parameters: {'n_estimators': 198, 'max_depth': 6, 'learning_rate': 0.04011360593434601, 'gamma': 8.294935478415903, 'reg_lambda': 0.018962086623235473, 'min_child_weight': 1.0344624128456286}. Best is trial 72 with value: 0.6120990551566801.\n",
      "[I 2023-12-04 17:50:18,234] Trial 153 finished with value: 0.6070045301282642 and parameters: {'n_estimators': 219, 'max_depth': 6, 'learning_rate': 0.08013242824560737, 'gamma': 8.546495609895253, 'reg_lambda': 0.058789315529445905, 'min_child_weight': 0.7157292984837056}. Best is trial 72 with value: 0.6120990551566801.\n",
      "[I 2023-12-04 17:50:19,836] Trial 154 finished with value: 0.6067694874451213 and parameters: {'n_estimators': 241, 'max_depth': 6, 'learning_rate': 0.04894009912392212, 'gamma': 7.692726555052975, 'reg_lambda': 0.03358356574780067, 'min_child_weight': 0.9127134961607339}. Best is trial 72 with value: 0.6120990551566801.\n",
      "[I 2023-12-04 17:50:20,985] Trial 155 finished with value: 0.6022776404345688 and parameters: {'n_estimators': 192, 'max_depth': 6, 'learning_rate': 0.3669830057748813, 'gamma': 9.57839678969092, 'reg_lambda': 0.07125751691675472, 'min_child_weight': 1.4303891482429794}. Best is trial 72 with value: 0.6120990551566801.\n",
      "[I 2023-12-04 17:50:22,723] Trial 156 finished with value: 0.6074290520455295 and parameters: {'n_estimators': 157, 'max_depth': 6, 'learning_rate': 0.02865312670531299, 'gamma': 9.16924429555528, 'reg_lambda': 0.0240767993653854, 'min_child_weight': 1.5599200618984579}. Best is trial 72 with value: 0.6120990551566801.\n",
      "[I 2023-12-04 17:50:24,122] Trial 157 finished with value: 0.6078647516974247 and parameters: {'n_estimators': 180, 'max_depth': 6, 'learning_rate': 0.0600507559359982, 'gamma': 8.432916121605611, 'reg_lambda': 0.09008645460001383, 'min_child_weight': 0.47150645780948564}. Best is trial 72 with value: 0.6120990551566801.\n",
      "[I 2023-12-04 17:50:25,646] Trial 158 finished with value: 0.6067641675195052 and parameters: {'n_estimators': 204, 'max_depth': 6, 'learning_rate': 0.08072103490414265, 'gamma': 8.831165636123863, 'reg_lambda': 0.0029868496826612875, 'min_child_weight': 0.610225367975429}. Best is trial 72 with value: 0.6120990551566801.\n",
      "[I 2023-12-04 17:50:27,196] Trial 159 finished with value: 0.6071668806096755 and parameters: {'n_estimators': 257, 'max_depth': 6, 'learning_rate': 0.10277908852468663, 'gamma': 7.404942654188632, 'reg_lambda': 0.05429123190561415, 'min_child_weight': 1.1755865195274584}. Best is trial 72 with value: 0.6120990551566801.\n",
      "[I 2023-12-04 17:50:28,396] Trial 160 finished with value: 0.5991240772937004 and parameters: {'n_estimators': 231, 'max_depth': 6, 'learning_rate': 0.4757238131992321, 'gamma': 10.300174091730712, 'reg_lambda': 0.39959136881993385, 'min_child_weight': 0.8112405073191881}. Best is trial 72 with value: 0.6120990551566801.\n",
      "[I 2023-12-04 17:50:30,326] Trial 161 finished with value: 0.6084312196546519 and parameters: {'n_estimators': 492, 'max_depth': 6, 'learning_rate': 0.06652687368009214, 'gamma': 9.70945042834596, 'reg_lambda': 0.0701744621146457, 'min_child_weight': 0.4174889795277699}. Best is trial 72 with value: 0.6120990551566801.\n",
      "[I 2023-12-04 17:50:32,259] Trial 162 finished with value: 0.6089308849627371 and parameters: {'n_estimators': 493, 'max_depth': 6, 'learning_rate': 0.06014317292929932, 'gamma': 9.44411358307907, 'reg_lambda': 0.04091557630806902, 'min_child_weight': 0.3953710399388929}. Best is trial 72 with value: 0.6120990551566801.\n",
      "[I 2023-12-04 17:50:35,153] Trial 163 finished with value: 0.605070478208134 and parameters: {'n_estimators': 288, 'max_depth': 6, 'learning_rate': 0.01005229223624958, 'gamma': 8.15668362428925, 'reg_lambda': 0.04005142447087623, 'min_child_weight': 0.3230089005164105}. Best is trial 72 with value: 0.6120990551566801.\n",
      "[I 2023-12-04 17:50:36,798] Trial 164 finished with value: 0.6063494991407704 and parameters: {'n_estimators': 216, 'max_depth': 6, 'learning_rate': 0.03574291764786267, 'gamma': 9.073518395161646, 'reg_lambda': 0.10703988937772294, 'min_child_weight': 0.5401222038587151}. Best is trial 72 with value: 0.6120990551566801.\n",
      "[I 2023-12-04 17:50:38,572] Trial 165 finished with value: 0.6054321433172867 and parameters: {'n_estimators': 499, 'max_depth': 6, 'learning_rate': 0.09463748603533449, 'gamma': 9.934170869341953, 'reg_lambda': 0.02749203486410276, 'min_child_weight': 0.7016395735128286}. Best is trial 72 with value: 0.6120990551566801.\n",
      "[I 2023-12-04 17:50:40,302] Trial 166 finished with value: 0.6082497051226137 and parameters: {'n_estimators': 388, 'max_depth': 6, 'learning_rate': 0.05592112277232224, 'gamma': 9.552993594991312, 'reg_lambda': 0.050226151664022736, 'min_child_weight': 0.25122630398208373}. Best is trial 72 with value: 0.6120990551566801.\n",
      "[I 2023-12-04 17:50:41,542] Trial 167 finished with value: 0.6083002584209407 and parameters: {'n_estimators': 170, 'max_depth': 6, 'learning_rate': 0.08168163201091455, 'gamma': 10.880954610224641, 'reg_lambda': 0.08273052913541877, 'min_child_weight': 1.9554698425599315}. Best is trial 72 with value: 0.6120990551566801.\n",
      "[I 2023-12-04 17:50:42,886] Trial 168 finished with value: 0.6080354876133823 and parameters: {'n_estimators': 192, 'max_depth': 6, 'learning_rate': 0.14538473919257972, 'gamma': 10.376056320736634, 'reg_lambda': 0.35768860636413935, 'min_child_weight': 0.3790316844146681}. Best is trial 72 with value: 0.6120990551566801.\n",
      "[I 2023-12-04 17:50:44,621] Trial 169 finished with value: 0.608231831863111 and parameters: {'n_estimators': 483, 'max_depth': 6, 'learning_rate': 0.12376737331003401, 'gamma': 8.051907052304525, 'reg_lambda': 0.018848088230858775, 'min_child_weight': 0.4970429645544241}. Best is trial 72 with value: 0.6120990551566801.\n",
      "[I 2023-12-04 17:50:46,416] Trial 170 finished with value: 0.6064545383579454 and parameters: {'n_estimators': 206, 'max_depth': 6, 'learning_rate': 0.027345461740577247, 'gamma': 9.243754860440795, 'reg_lambda': 0.13566286122362117, 'min_child_weight': 0.16994045330721963}. Best is trial 72 with value: 0.6120990551566801.\n",
      "[I 2023-12-04 17:50:48,250] Trial 171 finished with value: 0.6056796695595134 and parameters: {'n_estimators': 492, 'max_depth': 6, 'learning_rate': 0.06724795055161592, 'gamma': 9.743588613875756, 'reg_lambda': 0.06550271558329315, 'min_child_weight': 0.4123426468862292}. Best is trial 72 with value: 0.6120990551566801.\n",
      "[I 2023-12-04 17:50:50,107] Trial 172 finished with value: 0.6080366460700227 and parameters: {'n_estimators': 473, 'max_depth': 6, 'learning_rate': 0.0605843614672191, 'gamma': 8.756265586075088, 'reg_lambda': 0.07674428410171825, 'min_child_weight': 0.4434692172056248}. Best is trial 72 with value: 0.6120990551566801.\n",
      "[I 2023-12-04 17:50:51,848] Trial 173 finished with value: 0.6028597953233094 and parameters: {'n_estimators': 492, 'max_depth': 6, 'learning_rate': 0.09474252403625404, 'gamma': 10.076817553572084, 'reg_lambda': 0.11679843899280958, 'min_child_weight': 0.6164713886443054}. Best is trial 72 with value: 0.6120990551566801.\n",
      "[I 2023-12-04 17:50:53,801] Trial 174 finished with value: 0.6080415458522553 and parameters: {'n_estimators': 500, 'max_depth': 6, 'learning_rate': 0.04893285122507835, 'gamma': 9.509771233153756, 'reg_lambda': 0.4647172253511114, 'min_child_weight': 0.2721477466666876}. Best is trial 72 with value: 0.6120990551566801.\n",
      "[I 2023-12-04 17:50:55,496] Trial 175 finished with value: 0.6072167510849302 and parameters: {'n_estimators': 466, 'max_depth': 6, 'learning_rate': 0.10747541595782395, 'gamma': 8.671326054478524, 'reg_lambda': 0.04436237428376186, 'min_child_weight': 0.37836260223971024}. Best is trial 72 with value: 0.6120990551566801.\n",
      "[I 2023-12-04 17:50:57,241] Trial 176 finished with value: 0.6073619036766756 and parameters: {'n_estimators': 456, 'max_depth': 6, 'learning_rate': 0.07254628820949124, 'gamma': 10.630121950091738, 'reg_lambda': 0.09269629627922765, 'min_child_weight': 0.5689514747361697}. Best is trial 72 with value: 0.6120990551566801.\n",
      "[I 2023-12-04 17:50:59,253] Trial 177 finished with value: 0.6082042745536073 and parameters: {'n_estimators': 484, 'max_depth': 6, 'learning_rate': 0.03697644871773839, 'gamma': 9.92395514027208, 'reg_lambda': 0.0013118496222480195, 'min_child_weight': 2.5947969162391207}. Best is trial 72 with value: 0.6120990551566801.\n",
      "[I 2023-12-04 17:51:01,200] Trial 178 finished with value: 0.6050336234709827 and parameters: {'n_estimators': 476, 'max_depth': 6, 'learning_rate': 0.11505656745538863, 'gamma': 11.49913946004451, 'reg_lambda': 0.2530232963883102, 'min_child_weight': 0.7249915687402193}. Best is trial 72 with value: 0.6120990551566801.\n",
      "[I 2023-12-04 17:51:02,480] Trial 179 finished with value: 0.6046154948847018 and parameters: {'n_estimators': 265, 'max_depth': 6, 'learning_rate': 0.27016148473328183, 'gamma': 9.232046708498336, 'reg_lambda': 0.06667005259939246, 'min_child_weight': 1.0649056981007052}. Best is trial 72 with value: 0.6120990551566801.\n",
      "[I 2023-12-04 17:51:03,878] Trial 180 finished with value: 0.6077484819239753 and parameters: {'n_estimators': 250, 'max_depth': 6, 'learning_rate': 0.08694677076401998, 'gamma': 7.829750098700722, 'reg_lambda': 0.10325152056928805, 'min_child_weight': 0.34039664641703254}. Best is trial 72 with value: 0.6120990551566801.\n",
      "[I 2023-12-04 17:51:05,559] Trial 181 finished with value: 0.6041670187853091 and parameters: {'n_estimators': 490, 'max_depth': 6, 'learning_rate': 0.14158944215489908, 'gamma': 10.45577182434911, 'reg_lambda': 0.0396433774270951, 'min_child_weight': 0.12511967558197296}. Best is trial 72 with value: 0.6120990551566801.\n",
      "[I 2023-12-04 17:51:07,646] Trial 182 finished with value: 0.6056805628602755 and parameters: {'n_estimators': 482, 'max_depth': 6, 'learning_rate': 0.17338537174644114, 'gamma': 11.008132176544253, 'reg_lambda': 0.06761451721648437, 'min_child_weight': 0.002999399126146646}. Best is trial 72 with value: 0.6120990551566801.\n",
      "[I 2023-12-04 17:51:09,630] Trial 183 finished with value: 0.6057140882638979 and parameters: {'n_estimators': 468, 'max_depth': 6, 'learning_rate': 0.06746864944426281, 'gamma': 9.663677546038148, 'reg_lambda': 0.01954977004891087, 'min_child_weight': 0.21665896629883874}. Best is trial 72 with value: 0.6120990551566801.\n",
      "[I 2023-12-04 17:51:11,588] Trial 184 finished with value: 0.6051760345339077 and parameters: {'n_estimators': 492, 'max_depth': 6, 'learning_rate': 0.12750940866634833, 'gamma': 10.21525195454433, 'reg_lambda': 0.08109331183227275, 'min_child_weight': 0.10944104468759462}. Best is trial 72 with value: 0.6120990551566801.\n",
      "[I 2023-12-04 17:51:12,830] Trial 185 finished with value: 0.6054419381161836 and parameters: {'n_estimators': 195, 'max_depth': 6, 'learning_rate': 0.20118931872613394, 'gamma': 10.651897846043946, 'reg_lambda': 0.15371638998759415, 'min_child_weight': 0.4703619628687641}. Best is trial 72 with value: 0.6120990551566801.\n",
      "[I 2023-12-04 17:51:14,091] Trial 186 finished with value: 0.6021668680985193 and parameters: {'n_estimators': 184, 'max_depth': 6, 'learning_rate': 0.1558769584712587, 'gamma': 8.893093627808316, 'reg_lambda': 0.056101046133299526, 'min_child_weight': 1.3336037345480487}. Best is trial 72 with value: 0.6120990551566801.\n",
      "[I 2023-12-04 17:51:15,426] Trial 187 finished with value: 0.605046891645259 and parameters: {'n_estimators': 226, 'max_depth': 6, 'learning_rate': 0.10251577100889836, 'gamma': 9.486169932021255, 'reg_lambda': 0.11164359886974684, 'min_child_weight': 0.2702295009468732}. Best is trial 72 with value: 0.6120990551566801.\n",
      "[I 2023-12-04 17:51:17,076] Trial 188 finished with value: 0.6062461002949197 and parameters: {'n_estimators': 297, 'max_depth': 6, 'learning_rate': 0.0424721112619845, 'gamma': 11.152451664521754, 'reg_lambda': 0.31225056319157146, 'min_child_weight': 0.6169073987215493}. Best is trial 72 with value: 0.6120990551566801.\n",
      "[I 2023-12-04 17:51:18,447] Trial 189 finished with value: 0.6092534143972188 and parameters: {'n_estimators': 208, 'max_depth': 6, 'learning_rate': 0.07964741870458403, 'gamma': 8.490795615377477, 'reg_lambda': 0.03573023737774293, 'min_child_weight': 0.5048659874186249}. Best is trial 72 with value: 0.6120990551566801.\n",
      "[I 2023-12-04 17:51:19,802] Trial 190 finished with value: 0.6067115388090452 and parameters: {'n_estimators': 217, 'max_depth': 6, 'learning_rate': 0.08812569869421473, 'gamma': 8.460878787721843, 'reg_lambda': 0.0006037746952338753, 'min_child_weight': 0.8379573465104678}. Best is trial 72 with value: 0.6120990551566801.\n",
      "[I 2023-12-04 17:51:21,691] Trial 191 finished with value: 0.6055555714335601 and parameters: {'n_estimators': 500, 'max_depth': 6, 'learning_rate': 0.06869189427376957, 'gamma': 8.28402602938107, 'reg_lambda': 0.03475507050335469, 'min_child_weight': 0.520637446147272}. Best is trial 72 with value: 0.6120990551566801.\n",
      "[I 2023-12-04 17:51:22,968] Trial 192 finished with value: 0.6062117690971124 and parameters: {'n_estimators': 207, 'max_depth': 6, 'learning_rate': 0.1173026576323706, 'gamma': 9.13607334307674, 'reg_lambda': 0.05251367590540812, 'min_child_weight': 0.3945512012336721}. Best is trial 72 with value: 0.6120990551566801.\n",
      "[I 2023-12-04 17:51:24,746] Trial 193 finished with value: 0.6082986785908461 and parameters: {'n_estimators': 177, 'max_depth': 6, 'learning_rate': 0.02333834274892368, 'gamma': 10.055593864416254, 'reg_lambda': 0.08981227335402951, 'min_child_weight': 0.18705959315465623}. Best is trial 72 with value: 0.6120990551566801.\n",
      "[I 2023-12-04 17:51:25,950] Trial 194 finished with value: 0.6094428678819137 and parameters: {'n_estimators': 197, 'max_depth': 6, 'learning_rate': 0.2357920906347911, 'gamma': 6.891329224210483, 'reg_lambda': 0.03666194800745597, 'min_child_weight': 0.3267314393093859}. Best is trial 72 with value: 0.6120990551566801.\n",
      "[I 2023-12-04 17:51:27,132] Trial 195 finished with value: 0.6025041141500763 and parameters: {'n_estimators': 198, 'max_depth': 6, 'learning_rate': 0.2507015097392814, 'gamma': 6.916344091086013, 'reg_lambda': 0.02191437132499452, 'min_child_weight': 0.5193687586234089}. Best is trial 72 with value: 0.6120990551566801.\n",
      "[I 2023-12-04 17:51:28,341] Trial 196 finished with value: 0.5979357247245113 and parameters: {'n_estimators': 206, 'max_depth': 6, 'learning_rate': 0.21736036506473036, 'gamma': 6.44659432300132, 'reg_lambda': 0.0391682727906141, 'min_child_weight': 0.6861735319950645}. Best is trial 72 with value: 0.6120990551566801.\n",
      "[I 2023-12-04 17:51:30,060] Trial 197 finished with value: 0.6053771160735615 and parameters: {'n_estimators': 423, 'max_depth': 6, 'learning_rate': 0.24439258650788476, 'gamma': 7.631555795246891, 'reg_lambda': 0.06265176702280453, 'min_child_weight': 0.3246616742565322}. Best is trial 72 with value: 0.6120990551566801.\n",
      "[I 2023-12-04 17:51:31,756] Trial 198 finished with value: 0.6091879669268424 and parameters: {'n_estimators': 314, 'max_depth': 6, 'learning_rate': 0.049000724308643134, 'gamma': 7.520203236576249, 'reg_lambda': 0.21230014264607242, 'min_child_weight': 0.40406681894427066}. Best is trial 72 with value: 0.6120990551566801.\n",
      "[I 2023-12-04 17:51:33,098] Trial 199 finished with value: 0.5989078360854712 and parameters: {'n_estimators': 303, 'max_depth': 6, 'learning_rate': 0.31361378498395853, 'gamma': 7.216803999672079, 'reg_lambda': 0.1770238207006351, 'min_child_weight': 2.2202947797689188}. Best is trial 72 with value: 0.6120990551566801.\n"
     ]
    }
   ],
   "source": [
    "study_xgb_cw.optimize(optuna_optimize, n_trials=200)"
   ],
   "metadata": {
    "collapsed": false,
    "ExecuteTime": {
     "end_time": "2023-12-04T14:51:33.113030300Z",
     "start_time": "2023-12-04T14:46:25.458074700Z"
    }
   }
  },
  {
   "cell_type": "code",
   "execution_count": 92,
   "outputs": [
    {
     "name": "stdout",
     "output_type": "stream",
     "text": [
      "Наилучшие значения гиперпараметров XGBoost: {'n_estimators': 203, 'max_depth': 6, 'learning_rate': 0.1984781560510692, 'gamma': 10.070402397532018, 'reg_lambda': 0.07576651134189578, 'min_child_weight': 0.3205803257232248}\n",
      "f1_score на обучающем наборе: 0.612\n"
     ]
    }
   ],
   "source": [
    "print(\"Наилучшие значения гиперпараметров XGBoost: {}\".format(study_xgb_cw.best_params))\n",
    "print(\"f1_score на обучающем наборе: {:.3f}\". format(study_xgb_cw.best_value))"
   ],
   "metadata": {
    "collapsed": false,
    "ExecuteTime": {
     "end_time": "2023-12-04T17:14:09.134192900Z",
     "start_time": "2023-12-04T17:14:09.089991800Z"
    }
   }
  },
  {
   "cell_type": "code",
   "execution_count": 93,
   "outputs": [],
   "source": [
    "with mlflow.start_run(nested=True,\n",
    "                      run_name='xgb_pipeline_class_weight'):\n",
    "\n",
    "    best_params = study_xgb_cw.best_params\n",
    "    best_score = study_xgb_cw.best_value\n",
    "    mlflow.log_params(best_params)\n",
    "\n",
    "    xgb_pipe_cw = Pipeline([\n",
    "        ('preprocessor', preprocessor),\n",
    "        ('model', xgb.XGBClassifier(**best_params,\n",
    "                                    scale_pos_weight=3.91,\n",
    "                                    random_state=12345))\n",
    "    ])\n",
    "\n",
    "    xgb_pipe_cw.fit(X_train, y_train) \n",
    "\n",
    "    pred_proba = xgb_pipe_cw.predict_proba(X_test)[:, 1]\n",
    "    roc_auc_xgb_cw = roc_auc_score(y_test, pred_proba)\n",
    "    \n",
    "    mlflow.log_metrics({\n",
    "        'f1_cv': best_score,\n",
    "        'roc_auc': roc_auc_xgb_cw,\n",
    "        'balanced_accuracy': balanced_accuracy_score(y_test, np.round(pred_proba, 0)),\n",
    "        'f1': f1_score(y_test, np.round(pred_proba, 0))\n",
    "    })\n",
    "\n",
    "    mlflow.sklearn.log_model(xgb_pipe_cw, 'xgb_pipeline_class_weight')"
   ],
   "metadata": {
    "collapsed": false,
    "ExecuteTime": {
     "end_time": "2023-12-04T17:14:31.505189600Z",
     "start_time": "2023-12-04T17:14:16.104877800Z"
    }
   }
  },
  {
   "cell_type": "markdown",
   "source": [
    "### 3.1.2 Случайный лес"
   ],
   "metadata": {
    "collapsed": false
   }
  },
  {
   "cell_type": "code",
   "execution_count": 30,
   "outputs": [],
   "source": [
    "def optuna_optimize(trial):\n",
    "    param = {\n",
    "        'n_estimators': trial.suggest_int('n_estimators', 50, 300), # увеличить\n",
    "        'max_depth': trial.suggest_int('max_depth', 2, 10), # увеличить\n",
    "        'min_samples_leaf': trial.suggest_int('min_samples_leaf', 2, 8)\n",
    "    }\n",
    "\n",
    "    estimator = RandomForestClassifier(**param, \n",
    "                                       class_weight='balanced',\n",
    "                                       random_state=12345)\n",
    "\n",
    "    rf_pipe = Pipeline([\n",
    "        ('preprocessor', preprocessor),\n",
    "        ('model', estimator)\n",
    "    ])\n",
    "\n",
    "    score = cross_val_score(rf_pipe, X_train, y_train, cv=5, scoring='f1').mean()\n",
    "    return score"
   ],
   "metadata": {
    "collapsed": false,
    "ExecuteTime": {
     "end_time": "2023-12-03T16:03:21.729107800Z",
     "start_time": "2023-12-03T16:03:21.489659500Z"
    }
   }
  },
  {
   "cell_type": "code",
   "execution_count": 31,
   "outputs": [
    {
     "name": "stderr",
     "output_type": "stream",
     "text": [
      "[I 2023-12-03 19:03:26,018] A new study created in memory with name: RandomForest Optuna Optimization Class Weight\n"
     ]
    }
   ],
   "source": [
    "study_rf = optuna.create_study(study_name=\"RandomForest Optuna Optimization Class Weight\",\n",
    "                                direction='maximize')"
   ],
   "metadata": {
    "collapsed": false,
    "ExecuteTime": {
     "end_time": "2023-12-03T16:03:26.172797700Z",
     "start_time": "2023-12-03T16:03:26.022158800Z"
    }
   }
  },
  {
   "cell_type": "code",
   "execution_count": 32,
   "outputs": [
    {
     "name": "stderr",
     "output_type": "stream",
     "text": [
      "[I 2023-12-03 19:04:15,029] Trial 0 finished with value: 0.6129528236831954 and parameters: {'n_estimators': 282, 'max_depth': 9, 'min_samples_leaf': 2}. Best is trial 0 with value: 0.6129528236831954.\n",
      "[I 2023-12-03 19:04:23,223] Trial 1 finished with value: 0.5704366166341595 and parameters: {'n_estimators': 83, 'max_depth': 4, 'min_samples_leaf': 8}. Best is trial 0 with value: 0.6129528236831954.\n",
      "[I 2023-12-03 19:04:52,478] Trial 2 finished with value: 0.6128616973663606 and parameters: {'n_estimators': 210, 'max_depth': 10, 'min_samples_leaf': 2}. Best is trial 0 with value: 0.6129528236831954.\n",
      "[I 2023-12-03 19:05:09,459] Trial 3 finished with value: 0.6130349884904934 and parameters: {'n_estimators': 155, 'max_depth': 8, 'min_samples_leaf': 3}. Best is trial 3 with value: 0.6130349884904934.\n",
      "[I 2023-12-03 19:05:33,595] Trial 4 finished with value: 0.6153872154709722 and parameters: {'n_estimators': 192, 'max_depth': 10, 'min_samples_leaf': 6}. Best is trial 4 with value: 0.6153872154709722.\n",
      "[I 2023-12-03 19:05:51,064] Trial 5 finished with value: 0.5951016243546897 and parameters: {'n_estimators': 199, 'max_depth': 6, 'min_samples_leaf': 6}. Best is trial 4 with value: 0.6153872154709722.\n",
      "[I 2023-12-03 19:06:11,947] Trial 6 finished with value: 0.5943535713882004 and parameters: {'n_estimators': 236, 'max_depth': 6, 'min_samples_leaf': 2}. Best is trial 4 with value: 0.6153872154709722.\n",
      "[I 2023-12-03 19:06:24,418] Trial 7 finished with value: 0.5406796699061053 and parameters: {'n_estimators': 283, 'max_depth': 2, 'min_samples_leaf': 6}. Best is trial 4 with value: 0.6153872154709722.\n",
      "[I 2023-12-03 19:06:33,866] Trial 8 finished with value: 0.5595448808188945 and parameters: {'n_estimators': 167, 'max_depth': 3, 'min_samples_leaf': 8}. Best is trial 4 with value: 0.6153872154709722.\n",
      "[I 2023-12-03 19:06:38,629] Trial 9 finished with value: 0.5547537906286724 and parameters: {'n_estimators': 78, 'max_depth': 3, 'min_samples_leaf': 3}. Best is trial 4 with value: 0.6153872154709722.\n",
      "[I 2023-12-03 19:06:53,535] Trial 10 finished with value: 0.6042194744141387 and parameters: {'n_estimators': 151, 'max_depth': 7, 'min_samples_leaf': 5}. Best is trial 4 with value: 0.6153872154709722.\n",
      "[I 2023-12-03 19:07:07,161] Trial 11 finished with value: 0.6070678203727911 and parameters: {'n_estimators': 125, 'max_depth': 8, 'min_samples_leaf': 4}. Best is trial 4 with value: 0.6153872154709722.\n",
      "[I 2023-12-03 19:07:22,959] Trial 12 finished with value: 0.6156082444512069 and parameters: {'n_estimators': 124, 'max_depth': 10, 'min_samples_leaf': 6}. Best is trial 12 with value: 0.6156082444512069.\n",
      "[I 2023-12-03 19:07:38,366] Trial 13 finished with value: 0.6123428515672282 and parameters: {'n_estimators': 116, 'max_depth': 10, 'min_samples_leaf': 6}. Best is trial 12 with value: 0.6156082444512069.\n",
      "[I 2023-12-03 19:07:45,320] Trial 14 finished with value: 0.6106304112736398 and parameters: {'n_estimators': 50, 'max_depth': 10, 'min_samples_leaf': 7}. Best is trial 12 with value: 0.6156082444512069.\n",
      "[I 2023-12-03 19:08:09,296] Trial 15 finished with value: 0.6103639134333281 and parameters: {'n_estimators': 225, 'max_depth': 8, 'min_samples_leaf': 5}. Best is trial 12 with value: 0.6156082444512069.\n",
      "[I 2023-12-03 19:08:23,269] Trial 16 finished with value: 0.6114480877368818 and parameters: {'n_estimators': 123, 'max_depth': 9, 'min_samples_leaf': 7}. Best is trial 12 with value: 0.6156082444512069.\n",
      "[I 2023-12-03 19:08:38,007] Trial 17 finished with value: 0.585309286414318 and parameters: {'n_estimators': 186, 'max_depth': 5, 'min_samples_leaf': 7}. Best is trial 12 with value: 0.6156082444512069.\n",
      "[I 2023-12-03 19:09:08,074] Trial 18 finished with value: 0.6156830015131136 and parameters: {'n_estimators': 248, 'max_depth': 9, 'min_samples_leaf': 4}. Best is trial 18 with value: 0.6156830015131136.\n",
      "[I 2023-12-03 19:09:38,673] Trial 19 finished with value: 0.6157163753718466 and parameters: {'n_estimators': 251, 'max_depth': 9, 'min_samples_leaf': 4}. Best is trial 19 with value: 0.6157163753718466.\n",
      "[I 2023-12-03 19:10:03,242] Trial 20 finished with value: 0.6030691747879862 and parameters: {'n_estimators': 255, 'max_depth': 7, 'min_samples_leaf': 4}. Best is trial 19 with value: 0.6157163753718466.\n",
      "[I 2023-12-03 19:10:34,365] Trial 21 finished with value: 0.6174506858190171 and parameters: {'n_estimators': 257, 'max_depth': 9, 'min_samples_leaf': 4}. Best is trial 21 with value: 0.6174506858190171.\n",
      "[I 2023-12-03 19:11:06,561] Trial 22 finished with value: 0.6170013955236746 and parameters: {'n_estimators': 263, 'max_depth': 9, 'min_samples_leaf': 4}. Best is trial 21 with value: 0.6174506858190171.\n",
      "[I 2023-12-03 19:11:36,234] Trial 23 finished with value: 0.6033437237534189 and parameters: {'n_estimators': 293, 'max_depth': 7, 'min_samples_leaf': 3}. Best is trial 21 with value: 0.6174506858190171.\n",
      "[I 2023-12-03 19:12:07,326] Trial 24 finished with value: 0.6172149174707362 and parameters: {'n_estimators': 264, 'max_depth': 9, 'min_samples_leaf': 4}. Best is trial 21 with value: 0.6174506858190171.\n",
      "[I 2023-12-03 19:12:36,830] Trial 25 finished with value: 0.612961623384616 and parameters: {'n_estimators': 270, 'max_depth': 8, 'min_samples_leaf': 5}. Best is trial 21 with value: 0.6174506858190171.\n",
      "[I 2023-12-03 19:13:03,875] Trial 26 finished with value: 0.614148602243389 and parameters: {'n_estimators': 221, 'max_depth': 9, 'min_samples_leaf': 3}. Best is trial 21 with value: 0.6174506858190171.\n",
      "[I 2023-12-03 19:13:33,660] Trial 27 finished with value: 0.6022044900384333 and parameters: {'n_estimators': 300, 'max_depth': 7, 'min_samples_leaf': 5}. Best is trial 21 with value: 0.6174506858190171.\n",
      "[I 2023-12-03 19:14:03,001] Trial 28 finished with value: 0.6114496869952796 and parameters: {'n_estimators': 265, 'max_depth': 8, 'min_samples_leaf': 4}. Best is trial 21 with value: 0.6174506858190171.\n",
      "[I 2023-12-03 19:14:36,883] Trial 29 finished with value: 0.6153724583227091 and parameters: {'n_estimators': 276, 'max_depth': 9, 'min_samples_leaf': 3}. Best is trial 21 with value: 0.6174506858190171.\n",
      "[I 2023-12-03 19:14:57,381] Trial 30 finished with value: 0.595349678708468 and parameters: {'n_estimators': 233, 'max_depth': 6, 'min_samples_leaf': 4}. Best is trial 21 with value: 0.6174506858190171.\n",
      "[I 2023-12-03 19:15:28,782] Trial 31 finished with value: 0.6174506858190171 and parameters: {'n_estimators': 257, 'max_depth': 9, 'min_samples_leaf': 4}. Best is trial 21 with value: 0.6174506858190171.\n",
      "[I 2023-12-03 19:16:00,611] Trial 32 finished with value: 0.6116558496093846 and parameters: {'n_estimators': 262, 'max_depth': 9, 'min_samples_leaf': 5}. Best is trial 21 with value: 0.6174506858190171.\n",
      "[I 2023-12-03 19:16:29,493] Trial 33 finished with value: 0.6143525793208473 and parameters: {'n_estimators': 242, 'max_depth': 9, 'min_samples_leaf': 4}. Best is trial 21 with value: 0.6174506858190171.\n",
      "[I 2023-12-03 19:16:58,160] Trial 34 finished with value: 0.6128616973663606 and parameters: {'n_estimators': 210, 'max_depth': 10, 'min_samples_leaf': 2}. Best is trial 21 with value: 0.6174506858190171.\n",
      "[I 2023-12-03 19:17:25,622] Trial 35 finished with value: 0.6139446442566081 and parameters: {'n_estimators': 282, 'max_depth': 8, 'min_samples_leaf': 3}. Best is trial 21 with value: 0.6174506858190171.\n",
      "[I 2023-12-03 19:17:53,841] Trial 36 finished with value: 0.6143841583391157 and parameters: {'n_estimators': 219, 'max_depth': 10, 'min_samples_leaf': 5}. Best is trial 21 with value: 0.6174506858190171.\n",
      "[I 2023-12-03 19:18:15,905] Trial 37 finished with value: 0.5848497820253444 and parameters: {'n_estimators': 287, 'max_depth': 5, 'min_samples_leaf': 4}. Best is trial 21 with value: 0.6174506858190171.\n",
      "[I 2023-12-03 19:18:38,360] Trial 38 finished with value: 0.6138150330572374 and parameters: {'n_estimators': 202, 'max_depth': 8, 'min_samples_leaf': 2}. Best is trial 21 with value: 0.6174506858190171.\n",
      "[I 2023-12-03 19:19:13,716] Trial 39 finished with value: 0.616411281430748 and parameters: {'n_estimators': 262, 'max_depth': 10, 'min_samples_leaf': 3}. Best is trial 21 with value: 0.6174506858190171.\n",
      "[I 2023-12-03 19:19:41,928] Trial 40 finished with value: 0.615692367041208 and parameters: {'n_estimators': 234, 'max_depth': 9, 'min_samples_leaf': 4}. Best is trial 21 with value: 0.6174506858190171.\n",
      "[I 2023-12-03 19:20:17,531] Trial 41 finished with value: 0.6167641803870161 and parameters: {'n_estimators': 263, 'max_depth': 10, 'min_samples_leaf': 3}. Best is trial 21 with value: 0.6174506858190171.\n",
      "[I 2023-12-03 19:20:54,279] Trial 42 finished with value: 0.6191346346943231 and parameters: {'n_estimators': 273, 'max_depth': 10, 'min_samples_leaf': 3}. Best is trial 42 with value: 0.6191346346943231.\n",
      "[I 2023-12-03 19:21:27,876] Trial 43 finished with value: 0.6153724583227091 and parameters: {'n_estimators': 276, 'max_depth': 9, 'min_samples_leaf': 3}. Best is trial 42 with value: 0.6191346346943231.\n",
      "[I 2023-12-03 19:22:01,229] Trial 44 finished with value: 0.6118803705784457 and parameters: {'n_estimators': 300, 'max_depth': 8, 'min_samples_leaf': 4}. Best is trial 42 with value: 0.6191346346943231.\n",
      "[I 2023-12-03 19:22:31,871] Trial 45 finished with value: 0.612122319553802 and parameters: {'n_estimators': 248, 'max_depth': 9, 'min_samples_leaf': 2}. Best is trial 42 with value: 0.6191346346943231.\n",
      "[I 2023-12-03 19:23:08,636] Trial 46 finished with value: 0.6148070623658122 and parameters: {'n_estimators': 286, 'max_depth': 10, 'min_samples_leaf': 5}. Best is trial 42 with value: 0.6191346346943231.\n",
      "[I 2023-12-03 19:23:33,276] Trial 47 finished with value: 0.603564333387512 and parameters: {'n_estimators': 241, 'max_depth': 7, 'min_samples_leaf': 4}. Best is trial 42 with value: 0.6191346346943231.\n",
      "[I 2023-12-03 19:24:10,250] Trial 48 finished with value: 0.6181557169341337 and parameters: {'n_estimators': 274, 'max_depth': 10, 'min_samples_leaf': 3}. Best is trial 42 with value: 0.6191346346943231.\n",
      "[I 2023-12-03 19:24:34,321] Trial 49 finished with value: 0.613573042358016 and parameters: {'n_estimators': 178, 'max_depth': 10, 'min_samples_leaf': 2}. Best is trial 42 with value: 0.6191346346943231.\n",
      "[I 2023-12-03 19:25:10,840] Trial 50 finished with value: 0.6175574352217941 and parameters: {'n_estimators': 272, 'max_depth': 10, 'min_samples_leaf': 3}. Best is trial 42 with value: 0.6191346346943231.\n",
      "[I 2023-12-03 19:25:47,776] Trial 51 finished with value: 0.6181557169341337 and parameters: {'n_estimators': 274, 'max_depth': 10, 'min_samples_leaf': 3}. Best is trial 42 with value: 0.6191346346943231.\n",
      "[I 2023-12-03 19:26:24,398] Trial 52 finished with value: 0.6167764312571284 and parameters: {'n_estimators': 277, 'max_depth': 10, 'min_samples_leaf': 3}. Best is trial 42 with value: 0.6191346346943231.\n",
      "[I 2023-12-03 19:27:02,821] Trial 53 finished with value: 0.61659436416435 and parameters: {'n_estimators': 292, 'max_depth': 10, 'min_samples_leaf': 3}. Best is trial 42 with value: 0.6191346346943231.\n",
      "[I 2023-12-03 19:27:37,235] Trial 54 finished with value: 0.6160289358976725 and parameters: {'n_estimators': 254, 'max_depth': 10, 'min_samples_leaf': 3}. Best is trial 42 with value: 0.6191346346943231.\n",
      "[I 2023-12-03 19:27:49,679] Trial 55 finished with value: 0.5423668477533935 and parameters: {'n_estimators': 273, 'max_depth': 2, 'min_samples_leaf': 2}. Best is trial 42 with value: 0.6191346346943231.\n",
      "[I 2023-12-03 19:28:10,947] Trial 56 finished with value: 0.6134028611399852 and parameters: {'n_estimators': 150, 'max_depth': 10, 'min_samples_leaf': 2}. Best is trial 42 with value: 0.6191346346943231.\n",
      "[I 2023-12-03 19:28:23,971] Trial 57 finished with value: 0.5557064244783287 and parameters: {'n_estimators': 232, 'max_depth': 3, 'min_samples_leaf': 3}. Best is trial 42 with value: 0.6191346346943231.\n",
      "[I 2023-12-03 19:28:57,421] Trial 58 finished with value: 0.6160289358976725 and parameters: {'n_estimators': 254, 'max_depth': 10, 'min_samples_leaf': 3}. Best is trial 42 with value: 0.6191346346943231.\n",
      "[I 2023-12-03 19:29:32,200] Trial 59 finished with value: 0.61726851629929 and parameters: {'n_estimators': 291, 'max_depth': 9, 'min_samples_leaf': 3}. Best is trial 42 with value: 0.6191346346943231.\n",
      "[I 2023-12-03 19:30:04,569] Trial 60 finished with value: 0.6123638099730586 and parameters: {'n_estimators': 242, 'max_depth': 10, 'min_samples_leaf': 2}. Best is trial 42 with value: 0.6191346346943231.\n",
      "[I 2023-12-03 19:30:41,448] Trial 61 finished with value: 0.6162545913864799 and parameters: {'n_estimators': 293, 'max_depth': 9, 'min_samples_leaf': 3}. Best is trial 42 with value: 0.6191346346943231.\n",
      "[I 2023-12-03 19:31:18,675] Trial 62 finished with value: 0.6165883146439196 and parameters: {'n_estimators': 281, 'max_depth': 10, 'min_samples_leaf': 3}. Best is trial 42 with value: 0.6191346346943231.\n",
      "[I 2023-12-03 19:31:51,545] Trial 63 finished with value: 0.615276652377869 and parameters: {'n_estimators': 272, 'max_depth': 9, 'min_samples_leaf': 3}. Best is trial 42 with value: 0.6191346346943231.\n",
      "[I 2023-12-03 19:32:03,433] Trial 64 finished with value: 0.6102722402557479 and parameters: {'n_estimators': 97, 'max_depth': 9, 'min_samples_leaf': 8}. Best is trial 42 with value: 0.6191346346943231.\n",
      "[I 2023-12-03 19:32:41,057] Trial 65 finished with value: 0.6153851423083261 and parameters: {'n_estimators': 292, 'max_depth': 10, 'min_samples_leaf': 4}. Best is trial 42 with value: 0.6191346346943231.\n",
      "[I 2023-12-03 19:33:10,998] Trial 66 finished with value: 0.6144943536965866 and parameters: {'n_estimators': 269, 'max_depth': 8, 'min_samples_leaf': 3}. Best is trial 42 with value: 0.6191346346943231.\n",
      "[I 2023-12-03 19:33:27,752] Trial 67 finished with value: 0.5679935709247497 and parameters: {'n_estimators': 256, 'max_depth': 4, 'min_samples_leaf': 3}. Best is trial 42 with value: 0.6191346346943231.\n",
      "[I 2023-12-03 19:34:00,611] Trial 68 finished with value: 0.6176636422561821 and parameters: {'n_estimators': 279, 'max_depth': 9, 'min_samples_leaf': 4}. Best is trial 42 with value: 0.6191346346943231.\n",
      "[I 2023-12-03 19:34:30,310] Trial 69 finished with value: 0.6126644265183329 and parameters: {'n_estimators': 227, 'max_depth': 10, 'min_samples_leaf': 4}. Best is trial 42 with value: 0.6191346346943231.\n",
      "[I 2023-12-03 19:35:04,044] Trial 70 finished with value: 0.6165961598797661 and parameters: {'n_estimators': 281, 'max_depth': 9, 'min_samples_leaf': 4}. Best is trial 42 with value: 0.6191346346943231.\n",
      "[I 2023-12-03 19:35:39,832] Trial 71 finished with value: 0.6167006774811028 and parameters: {'n_estimators': 287, 'max_depth': 9, 'min_samples_leaf': 3}. Best is trial 42 with value: 0.6191346346943231.\n",
      "[I 2023-12-03 19:36:12,661] Trial 72 finished with value: 0.6161362396096038 and parameters: {'n_estimators': 270, 'max_depth': 9, 'min_samples_leaf': 4}. Best is trial 42 with value: 0.6191346346943231.\n",
      "[I 2023-12-03 19:36:46,020] Trial 73 finished with value: 0.6135946811967653 and parameters: {'n_estimators': 300, 'max_depth': 8, 'min_samples_leaf': 3}. Best is trial 42 with value: 0.6191346346943231.\n",
      "[I 2023-12-03 19:37:18,611] Trial 74 finished with value: 0.6154342972918446 and parameters: {'n_estimators': 246, 'max_depth': 10, 'min_samples_leaf': 5}. Best is trial 42 with value: 0.6191346346943231.\n",
      "[I 2023-12-03 19:37:51,206] Trial 75 finished with value: 0.612855929815027 and parameters: {'n_estimators': 258, 'max_depth': 9, 'min_samples_leaf': 2}. Best is trial 42 with value: 0.6191346346943231.\n",
      "[I 2023-12-03 19:37:57,373] Trial 76 finished with value: 0.6074342828609718 and parameters: {'n_estimators': 50, 'max_depth': 8, 'min_samples_leaf': 4}. Best is trial 42 with value: 0.6191346346943231.\n",
      "[I 2023-12-03 19:38:31,187] Trial 77 finished with value: 0.6142339630822456 and parameters: {'n_estimators': 279, 'max_depth': 9, 'min_samples_leaf': 3}. Best is trial 42 with value: 0.6191346346943231.\n",
      "[I 2023-12-03 19:38:55,354] Trial 78 finished with value: 0.5982449585080551 and parameters: {'n_estimators': 266, 'max_depth': 6, 'min_samples_leaf': 5}. Best is trial 42 with value: 0.6191346346943231.\n",
      "[I 2023-12-03 19:39:33,817] Trial 79 finished with value: 0.6149909686403952 and parameters: {'n_estimators': 287, 'max_depth': 10, 'min_samples_leaf': 4}. Best is trial 42 with value: 0.6191346346943231.\n",
      "[I 2023-12-03 19:39:50,579] Trial 80 finished with value: 0.6153498870458914 and parameters: {'n_estimators': 139, 'max_depth': 9, 'min_samples_leaf': 4}. Best is trial 42 with value: 0.6191346346943231.\n",
      "[I 2023-12-03 19:40:21,271] Trial 81 finished with value: 0.6170962138709151 and parameters: {'n_estimators': 260, 'max_depth': 9, 'min_samples_leaf': 4}. Best is trial 42 with value: 0.6191346346943231.\n",
      "[I 2023-12-03 19:40:56,599] Trial 82 finished with value: 0.6152177083761813 and parameters: {'n_estimators': 267, 'max_depth': 10, 'min_samples_leaf': 4}. Best is trial 42 with value: 0.6191346346943231.\n",
      "[I 2023-12-03 19:41:27,019] Trial 83 finished with value: 0.6129416049007065 and parameters: {'n_estimators': 275, 'max_depth': 8, 'min_samples_leaf': 5}. Best is trial 42 with value: 0.6191346346943231.\n",
      "[I 2023-12-03 19:41:46,777] Trial 84 finished with value: 0.5845286877553177 and parameters: {'n_estimators': 250, 'max_depth': 5, 'min_samples_leaf': 3}. Best is trial 42 with value: 0.6191346346943231.\n",
      "[I 2023-12-03 19:42:21,707] Trial 85 finished with value: 0.6187539844522227 and parameters: {'n_estimators': 293, 'max_depth': 9, 'min_samples_leaf': 6}. Best is trial 42 with value: 0.6191346346943231.\n",
      "[I 2023-12-03 19:42:57,204] Trial 86 finished with value: 0.6178417205295832 and parameters: {'n_estimators': 294, 'max_depth': 9, 'min_samples_leaf': 6}. Best is trial 42 with value: 0.6191346346943231.\n",
      "[I 2023-12-03 19:43:35,210] Trial 87 finished with value: 0.6131652891660233 and parameters: {'n_estimators': 300, 'max_depth': 10, 'min_samples_leaf': 6}. Best is trial 42 with value: 0.6191346346943231.\n",
      "[I 2023-12-03 19:44:10,531] Trial 88 finished with value: 0.6142681413731587 and parameters: {'n_estimators': 278, 'max_depth': 10, 'min_samples_leaf': 6}. Best is trial 42 with value: 0.6191346346943231.\n",
      "[I 2023-12-03 19:44:44,945] Trial 89 finished with value: 0.6139634988272017 and parameters: {'n_estimators': 296, 'max_depth': 9, 'min_samples_leaf': 7}. Best is trial 42 with value: 0.6191346346943231.\n",
      "[I 2023-12-03 19:45:19,304] Trial 90 finished with value: 0.6186424094561407 and parameters: {'n_estimators': 284, 'max_depth': 9, 'min_samples_leaf': 6}. Best is trial 42 with value: 0.6191346346943231.\n",
      "[I 2023-12-03 19:45:53,026] Trial 91 finished with value: 0.6186424094561407 and parameters: {'n_estimators': 284, 'max_depth': 9, 'min_samples_leaf': 6}. Best is trial 42 with value: 0.6191346346943231.\n",
      "[I 2023-12-03 19:46:25,986] Trial 92 finished with value: 0.6170115506908632 and parameters: {'n_estimators': 285, 'max_depth': 9, 'min_samples_leaf': 6}. Best is trial 42 with value: 0.6191346346943231.\n",
      "[I 2023-12-03 19:46:57,130] Trial 93 finished with value: 0.6127523854590606 and parameters: {'n_estimators': 284, 'max_depth': 8, 'min_samples_leaf': 6}. Best is trial 42 with value: 0.6191346346943231.\n",
      "[I 2023-12-03 19:47:32,331] Trial 94 finished with value: 0.6191233877545327 and parameters: {'n_estimators': 290, 'max_depth': 10, 'min_samples_leaf': 7}. Best is trial 42 with value: 0.6191346346943231.\n",
      "[I 2023-12-03 19:48:09,589] Trial 95 finished with value: 0.6181586983759858 and parameters: {'n_estimators': 294, 'max_depth': 10, 'min_samples_leaf': 7}. Best is trial 42 with value: 0.6191346346943231.\n",
      "[I 2023-12-03 19:48:46,825] Trial 96 finished with value: 0.6181586983759858 and parameters: {'n_estimators': 294, 'max_depth': 10, 'min_samples_leaf': 7}. Best is trial 42 with value: 0.6191346346943231.\n",
      "[I 2023-12-03 19:49:23,758] Trial 97 finished with value: 0.6191233877545327 and parameters: {'n_estimators': 290, 'max_depth': 10, 'min_samples_leaf': 7}. Best is trial 42 with value: 0.6191346346943231.\n",
      "[I 2023-12-03 19:49:58,702] Trial 98 finished with value: 0.6191225795300402 and parameters: {'n_estimators': 288, 'max_depth': 10, 'min_samples_leaf': 7}. Best is trial 42 with value: 0.6191346346943231.\n",
      "[I 2023-12-03 19:50:35,053] Trial 99 finished with value: 0.6191233877545327 and parameters: {'n_estimators': 290, 'max_depth': 10, 'min_samples_leaf': 7}. Best is trial 42 with value: 0.6191346346943231.\n"
     ]
    }
   ],
   "source": [
    "study_rf.optimize(optuna_optimize, n_trials=100)"
   ],
   "metadata": {
    "collapsed": false,
    "ExecuteTime": {
     "end_time": "2023-12-03T16:50:35.112285300Z",
     "start_time": "2023-12-03T16:03:28.144971300Z"
    }
   }
  },
  {
   "cell_type": "code",
   "execution_count": 33,
   "outputs": [
    {
     "name": "stdout",
     "output_type": "stream",
     "text": [
      "Наилучшие значения гиперпараметров Random Forest: {'n_estimators': 273, 'max_depth': 10, 'min_samples_leaf': 3}\n",
      "f1_score на обучающем наборе: 0.619\n"
     ]
    }
   ],
   "source": [
    "print(\"Наилучшие значения гиперпараметров Random Forest: {}\".format(study_rf.best_params))\n",
    "print(\"f1_score на обучающем наборе: {:.3f}\". format(study_rf.best_value))"
   ],
   "metadata": {
    "collapsed": false,
    "ExecuteTime": {
     "end_time": "2023-12-03T16:50:35.183440200Z",
     "start_time": "2023-12-03T16:50:35.069626900Z"
    }
   }
  },
  {
   "cell_type": "code",
   "execution_count": 34,
   "outputs": [],
   "source": [
    "with mlflow.start_run(nested=True,\n",
    "                      run_name='rf_pipeline_class_weight'):\n",
    "\n",
    "    best_params = study_rf.best_params\n",
    "    best_score = study_rf.best_value\n",
    "    mlflow.log_params(best_params)\n",
    "\n",
    "    rf_pipe_cw = Pipeline([\n",
    "        ('preprocessor', preprocessor),\n",
    "        ('model', RandomForestClassifier(**best_params,\n",
    "                                         class_weight='balanced',\n",
    "                                         random_state=12345))\n",
    "    ])\n",
    "\n",
    "    rf_pipe_cw.fit(X_train, y_train)\n",
    "\n",
    "    pred_proba = rf_pipe_cw.predict_proba(X_test)[:, 1]\n",
    "    roc_auc_rf_cw = roc_auc_score(y_test, pred_proba)\n",
    "    \n",
    "    mlflow.log_metrics({\n",
    "        'f1_cv': best_score,\n",
    "        'roc_auc': roc_auc_rf_cw,\n",
    "        'balanced_accuracy': balanced_accuracy_score(y_test, np.round(pred_proba, 0)),\n",
    "        'f1': f1_score(y_test, np.round(pred_proba, 0))\n",
    "    })\n",
    "    \n",
    "    mlflow.sklearn.log_model(rf_pipe_cw, 'rf_pipeline_class_weight')"
   ],
   "metadata": {
    "collapsed": false,
    "ExecuteTime": {
     "end_time": "2023-12-03T16:50:53.923039500Z",
     "start_time": "2023-12-03T16:50:35.102175300Z"
    }
   }
  },
  {
   "cell_type": "markdown",
   "source": [
    "### 3.1.3 Логистическая регрессия"
   ],
   "metadata": {
    "collapsed": false
   }
  },
  {
   "cell_type": "code",
   "execution_count": 35,
   "outputs": [],
   "source": [
    "cat_pipeline = Pipeline([\n",
    "    ('enc', OneHotEncoder(handle_unknown='error', drop='first'))\n",
    "])\n",
    "\n",
    "num_pipeline = Pipeline([\n",
    "    ('imp', SimpleImputer(fill_value=-1, add_indicator=True)),\n",
    "    ('pt', PowerTransformer()),\n",
    "    ('scal', StandardScaler())\n",
    "])\n",
    "\n",
    "preprocessor = ColumnTransformer([\n",
    "    (\"cat\", cat_pipeline, categorical_features),\n",
    "    (\"num\", num_pipeline, numeric_features)\n",
    "], remainder='passthrough')"
   ],
   "metadata": {
    "collapsed": false,
    "ExecuteTime": {
     "end_time": "2023-12-03T16:50:54.052252200Z",
     "start_time": "2023-12-03T16:50:53.937235800Z"
    }
   }
  },
  {
   "cell_type": "code",
   "execution_count": 36,
   "outputs": [],
   "source": [
    "def optuna_optimize(trial):\n",
    "    param = {\n",
    "        'solver': trial.suggest_categorical('solver', ['lbfgs', 'saga'])\n",
    "    }\n",
    "    \n",
    "    if param['solver'] == 'lbfgs':\n",
    "        param['penalty'] = 'l2' \n",
    "\n",
    "    if param['solver'] == 'saga':\n",
    "        param['penalty'] = 'elasticnet' \n",
    "        param['C'] = trial.suggest_float('C', 0.01, 100) \n",
    "        param['l1_ratio'] = trial.suggest_float('l1_ratio', 0, 1)\n",
    "        param['max_iter'] = 1000 \n",
    "        \n",
    "    estimator = LogisticRegression(**param,  \n",
    "                                   class_weight='balanced',\n",
    "                                   random_state=12345)\n",
    "\n",
    "    log_reg_pipe = Pipeline([\n",
    "        ('preprocessor', preprocessor),\n",
    "        ('model', estimator)\n",
    "    ])\n",
    "    \n",
    "    score = cross_val_score(log_reg_pipe, X_train, y_train, cv=5, scoring='f1').mean()\n",
    "    return score"
   ],
   "metadata": {
    "collapsed": false,
    "ExecuteTime": {
     "end_time": "2023-12-03T16:50:54.052252200Z",
     "start_time": "2023-12-03T16:50:53.963359500Z"
    }
   }
  },
  {
   "cell_type": "code",
   "execution_count": 37,
   "outputs": [
    {
     "name": "stderr",
     "output_type": "stream",
     "text": [
      "[I 2023-12-03 19:50:53,993] A new study created in memory with name: LogisticRegression Optuna Optimization Class Weight\n"
     ]
    }
   ],
   "source": [
    "study_log_reg = optuna.create_study(study_name=\"LogisticRegression Optuna Optimization Class Weight\",\n",
    "                                direction='maximize')"
   ],
   "metadata": {
    "collapsed": false,
    "ExecuteTime": {
     "end_time": "2023-12-03T16:50:54.067298Z",
     "start_time": "2023-12-03T16:50:54.001809Z"
    }
   }
  },
  {
   "cell_type": "code",
   "execution_count": 38,
   "outputs": [
    {
     "name": "stderr",
     "output_type": "stream",
     "text": [
      "[I 2023-12-03 19:50:55,547] Trial 0 finished with value: 0.4910843408008952 and parameters: {'solver': 'saga', 'C': 67.02152461160023, 'l1_ratio': 0.48430614419966944}. Best is trial 0 with value: 0.4910843408008952.\n",
      "[I 2023-12-03 19:50:56,538] Trial 1 finished with value: 0.49096987218775245 and parameters: {'solver': 'lbfgs'}. Best is trial 0 with value: 0.4910843408008952.\n",
      "[I 2023-12-03 19:50:57,876] Trial 2 finished with value: 0.4910843408008952 and parameters: {'solver': 'saga', 'C': 93.08613334558326, 'l1_ratio': 0.5952099843733135}. Best is trial 0 with value: 0.4910843408008952.\n",
      "[I 2023-12-03 19:50:58,942] Trial 3 finished with value: 0.4910843408008952 and parameters: {'solver': 'saga', 'C': 70.91930011977306, 'l1_ratio': 0.5447158408363525}. Best is trial 0 with value: 0.4910843408008952.\n",
      "[I 2023-12-03 19:51:00,384] Trial 4 finished with value: 0.4910843408008952 and parameters: {'solver': 'saga', 'C': 83.00028713380922, 'l1_ratio': 0.7763211702600279}. Best is trial 0 with value: 0.4910843408008952.\n",
      "[I 2023-12-03 19:51:01,576] Trial 5 finished with value: 0.4910843408008952 and parameters: {'solver': 'saga', 'C': 13.434167405434405, 'l1_ratio': 0.5434576046537715}. Best is trial 0 with value: 0.4910843408008952.\n",
      "[I 2023-12-03 19:51:02,829] Trial 6 finished with value: 0.4910843408008952 and parameters: {'solver': 'saga', 'C': 55.36954280764344, 'l1_ratio': 0.031807331293191576}. Best is trial 0 with value: 0.4910843408008952.\n",
      "[I 2023-12-03 19:51:03,717] Trial 7 finished with value: 0.49096987218775245 and parameters: {'solver': 'lbfgs'}. Best is trial 0 with value: 0.4910843408008952.\n",
      "[I 2023-12-03 19:51:04,657] Trial 8 finished with value: 0.49096987218775245 and parameters: {'solver': 'lbfgs'}. Best is trial 0 with value: 0.4910843408008952.\n",
      "[I 2023-12-03 19:51:06,095] Trial 9 finished with value: 0.4910843408008952 and parameters: {'solver': 'saga', 'C': 96.52345394448558, 'l1_ratio': 0.3622356448703421}. Best is trial 0 with value: 0.4910843408008952.\n",
      "[I 2023-12-03 19:51:07,119] Trial 10 finished with value: 0.49096987218775245 and parameters: {'solver': 'lbfgs'}. Best is trial 0 with value: 0.4910843408008952.\n",
      "[I 2023-12-03 19:51:08,359] Trial 11 finished with value: 0.4910843408008952 and parameters: {'solver': 'saga', 'C': 99.53414371436425, 'l1_ratio': 0.9644532889066106}. Best is trial 0 with value: 0.4910843408008952.\n",
      "[I 2023-12-03 19:51:09,814] Trial 12 finished with value: 0.4910843408008952 and parameters: {'solver': 'saga', 'C': 72.4814943751663, 'l1_ratio': 0.381700826884754}. Best is trial 0 with value: 0.4910843408008952.\n",
      "[I 2023-12-03 19:51:11,235] Trial 13 finished with value: 0.4910843408008952 and parameters: {'solver': 'saga', 'C': 46.91075079148373, 'l1_ratio': 0.6696971007298165}. Best is trial 0 with value: 0.4910843408008952.\n",
      "[I 2023-12-03 19:51:12,504] Trial 14 finished with value: 0.4910843408008952 and parameters: {'solver': 'saga', 'C': 81.72411478695962, 'l1_ratio': 0.3270053022778616}. Best is trial 0 with value: 0.4910843408008952.\n",
      "[I 2023-12-03 19:51:13,857] Trial 15 finished with value: 0.4910843408008952 and parameters: {'solver': 'saga', 'C': 54.98751520899876, 'l1_ratio': 0.7222882106984563}. Best is trial 0 with value: 0.4910843408008952.\n",
      "[I 2023-12-03 19:51:15,163] Trial 16 finished with value: 0.4910843408008952 and parameters: {'solver': 'saga', 'C': 99.5554070342576, 'l1_ratio': 0.5091102505770271}. Best is trial 0 with value: 0.4910843408008952.\n",
      "[I 2023-12-03 19:51:16,496] Trial 17 finished with value: 0.4910843408008952 and parameters: {'solver': 'saga', 'C': 39.57046701024833, 'l1_ratio': 0.22590739411870908}. Best is trial 0 with value: 0.4910843408008952.\n",
      "[I 2023-12-03 19:51:17,477] Trial 18 finished with value: 0.49096987218775245 and parameters: {'solver': 'lbfgs'}. Best is trial 0 with value: 0.4910843408008952.\n",
      "[I 2023-12-03 19:51:19,041] Trial 19 finished with value: 0.4910843408008952 and parameters: {'solver': 'saga', 'C': 66.6408699026898, 'l1_ratio': 0.6490990666430956}. Best is trial 0 with value: 0.4910843408008952.\n",
      "[I 2023-12-03 19:51:20,516] Trial 20 finished with value: 0.4910843408008952 and parameters: {'solver': 'saga', 'C': 85.47148273755413, 'l1_ratio': 0.8540202406275373}. Best is trial 0 with value: 0.4910843408008952.\n",
      "[I 2023-12-03 19:51:21,916] Trial 21 finished with value: 0.4910843408008952 and parameters: {'solver': 'saga', 'C': 67.27791823328972, 'l1_ratio': 0.572660520906024}. Best is trial 0 with value: 0.4910843408008952.\n",
      "[I 2023-12-03 19:51:23,154] Trial 22 finished with value: 0.4910843408008952 and parameters: {'solver': 'saga', 'C': 73.77202475030828, 'l1_ratio': 0.46627492121708114}. Best is trial 0 with value: 0.4910843408008952.\n",
      "[I 2023-12-03 19:51:24,546] Trial 23 finished with value: 0.4910843408008952 and parameters: {'solver': 'saga', 'C': 87.71798880888068, 'l1_ratio': 0.5824857013587706}. Best is trial 0 with value: 0.4910843408008952.\n",
      "[I 2023-12-03 19:51:25,968] Trial 24 finished with value: 0.4910843408008952 and parameters: {'solver': 'saga', 'C': 60.582262938326934, 'l1_ratio': 0.46371358172967087}. Best is trial 0 with value: 0.4910843408008952.\n",
      "[I 2023-12-03 19:51:27,449] Trial 25 finished with value: 0.4910843408008952 and parameters: {'solver': 'saga', 'C': 76.02336137946727, 'l1_ratio': 0.6486794526472278}. Best is trial 0 with value: 0.4910843408008952.\n",
      "[I 2023-12-03 19:51:28,273] Trial 26 finished with value: 0.49096987218775245 and parameters: {'solver': 'lbfgs'}. Best is trial 0 with value: 0.4910843408008952.\n",
      "[I 2023-12-03 19:51:29,616] Trial 27 finished with value: 0.4910843408008952 and parameters: {'solver': 'saga', 'C': 90.37752450489181, 'l1_ratio': 0.5970399304429002}. Best is trial 0 with value: 0.4910843408008952.\n",
      "[I 2023-12-03 19:51:30,780] Trial 28 finished with value: 0.4910843408008952 and parameters: {'solver': 'saga', 'C': 78.30778253267563, 'l1_ratio': 0.7713437074633973}. Best is trial 0 with value: 0.4910843408008952.\n",
      "[I 2023-12-03 19:51:31,710] Trial 29 finished with value: 0.49096987218775245 and parameters: {'solver': 'lbfgs'}. Best is trial 0 with value: 0.4910843408008952.\n",
      "[I 2023-12-03 19:51:33,174] Trial 30 finished with value: 0.4910843408008952 and parameters: {'solver': 'saga', 'C': 63.987890228711954, 'l1_ratio': 0.4556100869620634}. Best is trial 0 with value: 0.4910843408008952.\n",
      "[I 2023-12-03 19:51:34,358] Trial 31 finished with value: 0.4910843408008952 and parameters: {'solver': 'saga', 'C': 84.03112124687716, 'l1_ratio': 0.7860436801085814}. Best is trial 0 with value: 0.4910843408008952.\n",
      "[I 2023-12-03 19:51:35,713] Trial 32 finished with value: 0.4910843408008952 and parameters: {'solver': 'saga', 'C': 90.91533788495315, 'l1_ratio': 0.6932957423887216}. Best is trial 0 with value: 0.4910843408008952.\n",
      "[I 2023-12-03 19:51:37,112] Trial 33 finished with value: 0.4910843408008952 and parameters: {'solver': 'saga', 'C': 78.17469631790009, 'l1_ratio': 0.5461774138449202}. Best is trial 0 with value: 0.4910843408008952.\n",
      "[I 2023-12-03 19:51:38,445] Trial 34 finished with value: 0.4910843408008952 and parameters: {'solver': 'saga', 'C': 91.86609105171306, 'l1_ratio': 0.8455473701695181}. Best is trial 0 with value: 0.4910843408008952.\n",
      "[I 2023-12-03 19:51:39,796] Trial 35 finished with value: 0.4910843408008952 and parameters: {'solver': 'saga', 'C': 70.46581612718062, 'l1_ratio': 0.6244621749421638}. Best is trial 0 with value: 0.4910843408008952.\n",
      "[I 2023-12-03 19:51:40,722] Trial 36 finished with value: 0.49096987218775245 and parameters: {'solver': 'lbfgs'}. Best is trial 0 with value: 0.4910843408008952.\n",
      "[I 2023-12-03 19:51:42,042] Trial 37 finished with value: 0.4910843408008952 and parameters: {'solver': 'saga', 'C': 82.43723078351933, 'l1_ratio': 0.7169180037392813}. Best is trial 0 with value: 0.4910843408008952.\n",
      "[I 2023-12-03 19:51:43,340] Trial 38 finished with value: 0.4910843408008952 and parameters: {'solver': 'saga', 'C': 7.223157719292118, 'l1_ratio': 0.5286096366082776}. Best is trial 0 with value: 0.4910843408008952.\n",
      "[I 2023-12-03 19:51:44,076] Trial 39 finished with value: 0.49096987218775245 and parameters: {'solver': 'lbfgs'}. Best is trial 0 with value: 0.4910843408008952.\n",
      "[I 2023-12-03 19:51:45,573] Trial 40 finished with value: 0.4910843408008952 and parameters: {'solver': 'saga', 'C': 71.89144140180098, 'l1_ratio': 0.5853314418824148}. Best is trial 0 with value: 0.4910843408008952.\n",
      "[I 2023-12-03 19:51:46,957] Trial 41 finished with value: 0.4910843408008952 and parameters: {'solver': 'saga', 'C': 9.795103916252437, 'l1_ratio': 0.5041429517760335}. Best is trial 0 with value: 0.4910843408008952.\n",
      "[I 2023-12-03 19:51:48,259] Trial 42 finished with value: 0.4910843408008952 and parameters: {'solver': 'saga', 'C': 93.51529005019327, 'l1_ratio': 0.4037671214580267}. Best is trial 0 with value: 0.4910843408008952.\n",
      "[I 2023-12-03 19:51:49,553] Trial 43 finished with value: 0.4910843408008952 and parameters: {'solver': 'saga', 'C': 16.34403935009729, 'l1_ratio': 0.5492193241138347}. Best is trial 0 with value: 0.4910843408008952.\n",
      "[I 2023-12-03 19:51:50,900] Trial 44 finished with value: 0.4910843408008952 and parameters: {'solver': 'saga', 'C': 60.04222189877949, 'l1_ratio': 0.618178874865707}. Best is trial 0 with value: 0.4910843408008952.\n",
      "[I 2023-12-03 19:51:52,314] Trial 45 finished with value: 0.4910843408008952 and parameters: {'solver': 'saga', 'C': 94.84736996870483, 'l1_ratio': 0.4022829938236665}. Best is trial 0 with value: 0.4910843408008952.\n",
      "[I 2023-12-03 19:51:53,682] Trial 46 finished with value: 0.4910843408008952 and parameters: {'solver': 'saga', 'C': 78.96744222261069, 'l1_ratio': 0.9654630598331723}. Best is trial 0 with value: 0.4910843408008952.\n",
      "[I 2023-12-03 19:51:54,884] Trial 47 finished with value: 0.4910843408008952 and parameters: {'solver': 'saga', 'C': 84.57399936761759, 'l1_ratio': 0.6754228802706002}. Best is trial 0 with value: 0.4910843408008952.\n",
      "[I 2023-12-03 19:51:55,971] Trial 48 finished with value: 0.49096987218775245 and parameters: {'solver': 'lbfgs'}. Best is trial 0 with value: 0.4910843408008952.\n",
      "[I 2023-12-03 19:51:56,978] Trial 49 finished with value: 0.4910843408008952 and parameters: {'solver': 'saga', 'C': 97.12236860265321, 'l1_ratio': 0.31561480359199856}. Best is trial 0 with value: 0.4910843408008952.\n",
      "[I 2023-12-03 19:51:58,263] Trial 50 finished with value: 0.4910843408008952 and parameters: {'solver': 'saga', 'C': 53.03591293304581, 'l1_ratio': 0.5154038730458165}. Best is trial 0 with value: 0.4910843408008952.\n",
      "[I 2023-12-03 19:51:59,576] Trial 51 finished with value: 0.4910843408008952 and parameters: {'solver': 'saga', 'C': 43.608396519177525, 'l1_ratio': 0.13981354595696338}. Best is trial 0 with value: 0.4910843408008952.\n",
      "[I 2023-12-03 19:52:00,813] Trial 52 finished with value: 0.4910843408008952 and parameters: {'solver': 'saga', 'C': 57.54624354336109, 'l1_ratio': 0.007231063170965779}. Best is trial 0 with value: 0.4910843408008952.\n",
      "[I 2023-12-03 19:52:02,016] Trial 53 finished with value: 0.4910843408008952 and parameters: {'solver': 'saga', 'C': 51.313286464852396, 'l1_ratio': 0.44455122034062766}. Best is trial 0 with value: 0.4910843408008952.\n",
      "[I 2023-12-03 19:52:03,223] Trial 54 finished with value: 0.4910843408008952 and parameters: {'solver': 'saga', 'C': 67.77823044089317, 'l1_ratio': 0.35487067189226695}. Best is trial 0 with value: 0.4910843408008952.\n",
      "[I 2023-12-03 19:52:04,550] Trial 55 finished with value: 0.4910843408008952 and parameters: {'solver': 'saga', 'C': 73.8626875766686, 'l1_ratio': 0.2789378932474357}. Best is trial 0 with value: 0.4910843408008952.\n",
      "[I 2023-12-03 19:52:05,907] Trial 56 finished with value: 0.4910843408008952 and parameters: {'solver': 'saga', 'C': 64.26281683835981, 'l1_ratio': 0.6229516217395026}. Best is trial 0 with value: 0.4910843408008952.\n",
      "[I 2023-12-03 19:52:07,060] Trial 57 finished with value: 0.4910843408008952 and parameters: {'solver': 'saga', 'C': 35.95976732811104, 'l1_ratio': 0.92164523127378}. Best is trial 0 with value: 0.4910843408008952.\n",
      "[I 2023-12-03 19:52:07,924] Trial 58 finished with value: 0.49096987218775245 and parameters: {'solver': 'lbfgs'}. Best is trial 0 with value: 0.4910843408008952.\n",
      "[I 2023-12-03 19:52:09,191] Trial 59 finished with value: 0.4910843408008952 and parameters: {'solver': 'saga', 'C': 87.34173634759125, 'l1_ratio': 0.49865603517582124}. Best is trial 0 with value: 0.4910843408008952.\n",
      "[I 2023-12-03 19:52:10,423] Trial 60 finished with value: 0.4910843408008952 and parameters: {'solver': 'saga', 'C': 69.63116946643059, 'l1_ratio': 0.5657647477902152}. Best is trial 0 with value: 0.4910843408008952.\n",
      "[I 2023-12-03 19:52:11,729] Trial 61 finished with value: 0.4910843408008952 and parameters: {'solver': 'saga', 'C': 79.7081298603634, 'l1_ratio': 0.4117088378027485}. Best is trial 0 with value: 0.4910843408008952.\n",
      "[I 2023-12-03 19:52:12,950] Trial 62 finished with value: 0.4910843408008952 and parameters: {'solver': 'saga', 'C': 98.75077610514818, 'l1_ratio': 0.47500493609649086}. Best is trial 0 with value: 0.4910843408008952.\n",
      "[I 2023-12-03 19:52:14,179] Trial 63 finished with value: 0.4910843408008952 and parameters: {'solver': 'saga', 'C': 99.98171353457289, 'l1_ratio': 0.6582319483729442}. Best is trial 0 with value: 0.4910843408008952.\n",
      "[I 2023-12-03 19:52:15,606] Trial 64 finished with value: 0.4910843408008952 and parameters: {'solver': 'saga', 'C': 87.27515196881012, 'l1_ratio': 0.3648991447401368}. Best is trial 0 with value: 0.4910843408008952.\n",
      "[I 2023-12-03 19:52:16,990] Trial 65 finished with value: 0.4910843408008952 and parameters: {'solver': 'saga', 'C': 90.27966105482098, 'l1_ratio': 0.5607543183296354}. Best is trial 0 with value: 0.4910843408008952.\n",
      "[I 2023-12-03 19:52:18,273] Trial 66 finished with value: 0.4910843408008952 and parameters: {'solver': 'saga', 'C': 75.54986221357224, 'l1_ratio': 0.4409504084911965}. Best is trial 0 with value: 0.4910843408008952.\n",
      "[I 2023-12-03 19:52:19,577] Trial 67 finished with value: 0.4910843408008952 and parameters: {'solver': 'saga', 'C': 96.09326482115607, 'l1_ratio': 0.5004885257785104}. Best is trial 0 with value: 0.4910843408008952.\n",
      "[I 2023-12-03 19:52:20,358] Trial 68 finished with value: 0.49096987218775245 and parameters: {'solver': 'lbfgs'}. Best is trial 0 with value: 0.4910843408008952.\n",
      "[I 2023-12-03 19:52:21,671] Trial 69 finished with value: 0.4910843408008952 and parameters: {'solver': 'saga', 'C': 82.46867198111819, 'l1_ratio': 0.5946069360990613}. Best is trial 0 with value: 0.4910843408008952.\n",
      "[I 2023-12-03 19:52:22,784] Trial 70 finished with value: 0.4910843408008952 and parameters: {'solver': 'saga', 'C': 63.01689757444737, 'l1_ratio': 0.5391752353023788}. Best is trial 0 with value: 0.4910843408008952.\n",
      "[I 2023-12-03 19:52:24,062] Trial 71 finished with value: 0.4910843408008952 and parameters: {'solver': 'saga', 'C': 93.37869024332383, 'l1_ratio': 0.7244043482355362}. Best is trial 0 with value: 0.4910843408008952.\n",
      "[I 2023-12-03 19:52:25,314] Trial 72 finished with value: 0.4910843408008952 and parameters: {'solver': 'saga', 'C': 88.7209707251526, 'l1_ratio': 0.7605359588659069}. Best is trial 0 with value: 0.4910843408008952.\n",
      "[I 2023-12-03 19:52:26,594] Trial 73 finished with value: 0.4910843408008952 and parameters: {'solver': 'saga', 'C': 95.3207762836996, 'l1_ratio': 0.8367952120011479}. Best is trial 0 with value: 0.4910843408008952.\n",
      "[I 2023-12-03 19:52:27,637] Trial 74 finished with value: 0.4910843408008952 and parameters: {'solver': 'saga', 'C': 91.28899855802368, 'l1_ratio': 0.6395926269899719}. Best is trial 0 with value: 0.4910843408008952.\n",
      "[I 2023-12-03 19:52:29,028] Trial 75 finished with value: 0.4910843408008952 and parameters: {'solver': 'saga', 'C': 85.86033169041933, 'l1_ratio': 0.6886626967331707}. Best is trial 0 with value: 0.4910843408008952.\n",
      "[I 2023-12-03 19:52:30,369] Trial 76 finished with value: 0.4910843408008952 and parameters: {'solver': 'saga', 'C': 99.05174003817727, 'l1_ratio': 0.6070975227413209}. Best is trial 0 with value: 0.4910843408008952.\n",
      "[I 2023-12-03 19:52:31,591] Trial 77 finished with value: 0.4910843408008952 and parameters: {'solver': 'saga', 'C': 55.701894995519325, 'l1_ratio': 0.8105596681814545}. Best is trial 0 with value: 0.4910843408008952.\n",
      "[I 2023-12-03 19:52:32,907] Trial 78 finished with value: 0.4910843408008952 and parameters: {'solver': 'saga', 'C': 82.12640469533697, 'l1_ratio': 0.8820661147565237}. Best is trial 0 with value: 0.4910843408008952.\n",
      "[I 2023-12-03 19:52:33,774] Trial 79 finished with value: 0.49096987218775245 and parameters: {'solver': 'lbfgs'}. Best is trial 0 with value: 0.4910843408008952.\n",
      "[I 2023-12-03 19:52:35,224] Trial 80 finished with value: 0.4910843408008952 and parameters: {'solver': 'saga', 'C': 71.54155337796475, 'l1_ratio': 0.4844805032672054}. Best is trial 0 with value: 0.4910843408008952.\n",
      "[I 2023-12-03 19:52:36,505] Trial 81 finished with value: 0.4910843408008952 and parameters: {'solver': 'saga', 'C': 76.55716847679065, 'l1_ratio': 0.5249402039427316}. Best is trial 0 with value: 0.4910843408008952.\n",
      "[I 2023-12-03 19:52:37,944] Trial 82 finished with value: 0.4910843408008952 and parameters: {'solver': 'saga', 'C': 79.98308171257518, 'l1_ratio': 0.9950629145050587}. Best is trial 0 with value: 0.4910843408008952.\n",
      "[I 2023-12-03 19:52:39,497] Trial 83 finished with value: 0.4910843408008952 and parameters: {'solver': 'saga', 'C': 67.25663252314081, 'l1_ratio': 0.4670870180163678}. Best is trial 0 with value: 0.4910843408008952.\n",
      "[I 2023-12-03 19:52:40,765] Trial 84 finished with value: 0.4910843408008952 and parameters: {'solver': 'saga', 'C': 73.08246117602607, 'l1_ratio': 0.5528031989189042}. Best is trial 0 with value: 0.4910843408008952.\n",
      "[I 2023-12-03 19:52:42,068] Trial 85 finished with value: 0.4910843408008952 and parameters: {'solver': 'saga', 'C': 95.68626731373891, 'l1_ratio': 0.5921447839733102}. Best is trial 0 with value: 0.4910843408008952.\n",
      "[I 2023-12-03 19:52:43,467] Trial 86 finished with value: 0.4910843408008952 and parameters: {'solver': 'saga', 'C': 92.13687332462548, 'l1_ratio': 0.5271946698327735}. Best is trial 0 with value: 0.4910843408008952.\n",
      "[I 2023-12-03 19:52:44,837] Trial 87 finished with value: 0.4910843408008952 and parameters: {'solver': 'saga', 'C': 84.42970517690698, 'l1_ratio': 0.6575188658820221}. Best is trial 0 with value: 0.4910843408008952.\n",
      "[I 2023-12-03 19:52:46,120] Trial 88 finished with value: 0.4910843408008952 and parameters: {'solver': 'saga', 'C': 75.3241033961405, 'l1_ratio': 0.43846605367086966}. Best is trial 0 with value: 0.4910843408008952.\n",
      "[I 2023-12-03 19:52:47,502] Trial 89 finished with value: 0.4910843408008952 and parameters: {'solver': 'saga', 'C': 70.04589821264385, 'l1_ratio': 0.5807747393493583}. Best is trial 0 with value: 0.4910843408008952.\n",
      "[I 2023-12-03 19:52:48,449] Trial 90 finished with value: 0.49096987218775245 and parameters: {'solver': 'lbfgs'}. Best is trial 0 with value: 0.4910843408008952.\n",
      "[I 2023-12-03 19:52:49,711] Trial 91 finished with value: 0.4910843408008952 and parameters: {'solver': 'saga', 'C': 61.68067619888642, 'l1_ratio': 0.7335785251803235}. Best is trial 0 with value: 0.4910843408008952.\n",
      "[I 2023-12-03 19:52:51,066] Trial 92 finished with value: 0.4910843408008952 and parameters: {'solver': 'saga', 'C': 63.59332659279885, 'l1_ratio': 0.6191167144068449}. Best is trial 0 with value: 0.4910843408008952.\n",
      "[I 2023-12-03 19:52:52,254] Trial 93 finished with value: 0.4910843408008952 and parameters: {'solver': 'saga', 'C': 47.551589072371385, 'l1_ratio': 0.6936356285701146}. Best is trial 0 with value: 0.4910843408008952.\n",
      "[I 2023-12-03 19:52:53,578] Trial 94 finished with value: 0.4910843408008952 and parameters: {'solver': 'saga', 'C': 32.68306937668292, 'l1_ratio': 0.5675761457430795}. Best is trial 0 with value: 0.4910843408008952.\n",
      "[I 2023-12-03 19:52:54,837] Trial 95 finished with value: 0.4910843408008952 and parameters: {'solver': 'saga', 'C': 59.180077408371545, 'l1_ratio': 0.26568738667621805}. Best is trial 0 with value: 0.4910843408008952.\n",
      "[I 2023-12-03 19:52:56,032] Trial 96 finished with value: 0.4910843408008952 and parameters: {'solver': 'saga', 'C': 66.51145845095922, 'l1_ratio': 0.5121118479783873}. Best is trial 0 with value: 0.4910843408008952.\n",
      "[I 2023-12-03 19:52:57,432] Trial 97 finished with value: 0.4910843408008952 and parameters: {'solver': 'saga', 'C': 56.52282173915914, 'l1_ratio': 0.6474778899986096}. Best is trial 0 with value: 0.4910843408008952.\n",
      "[I 2023-12-03 19:52:58,776] Trial 98 finished with value: 0.4910843408008952 and parameters: {'solver': 'saga', 'C': 53.430258826146286, 'l1_ratio': 0.15013915203658706}. Best is trial 0 with value: 0.4910843408008952.\n",
      "[I 2023-12-03 19:53:00,094] Trial 99 finished with value: 0.4910843408008952 and parameters: {'solver': 'saga', 'C': 88.969385427636, 'l1_ratio': 0.4858821904759742}. Best is trial 0 with value: 0.4910843408008952.\n"
     ]
    }
   ],
   "source": [
    "study_log_reg.optimize(optuna_optimize, n_trials=100)"
   ],
   "metadata": {
    "collapsed": false,
    "ExecuteTime": {
     "end_time": "2023-12-03T16:53:00.170428900Z",
     "start_time": "2023-12-03T16:50:54.036439Z"
    }
   }
  },
  {
   "cell_type": "code",
   "execution_count": 39,
   "outputs": [
    {
     "name": "stdout",
     "output_type": "stream",
     "text": [
      "Наилучшие значения гиперпараметров Logistic Regression: {'solver': 'saga', 'C': 67.02152461160023, 'l1_ratio': 0.48430614419966944}\n",
      "f1_score на обучающем наборе: 0.491\n"
     ]
    }
   ],
   "source": [
    "print(\"Наилучшие значения гиперпараметров Logistic Regression: {}\".format(study_log_reg.best_params))\n",
    "print(\"f1_score на обучающем наборе: {:.3f}\". format(study_log_reg.best_value))"
   ],
   "metadata": {
    "collapsed": false,
    "ExecuteTime": {
     "end_time": "2023-12-03T16:53:00.232740700Z",
     "start_time": "2023-12-03T16:53:00.119811700Z"
    }
   }
  },
  {
   "cell_type": "code",
   "execution_count": 40,
   "outputs": [],
   "source": [
    "with mlflow.start_run(nested=True,\n",
    "                      run_name='log_reg_pipeline_class_weight'):\n",
    "\n",
    "    best_params = study_log_reg.best_params\n",
    "    best_score = study_log_reg.best_value\n",
    "    mlflow.log_params(best_params)\n",
    "\n",
    "    log_reg_pipe_cw = Pipeline([\n",
    "        ('preprocessor', preprocessor),\n",
    "        ('model', LogisticRegression(**best_params,\n",
    "                                     class_weight='balanced',\n",
    "                                     random_state=12345))\n",
    "    ])\n",
    "\n",
    "    log_reg_pipe_cw.fit(X_train, y_train)\n",
    "\n",
    "    pred_proba = log_reg_pipe_cw.predict_proba(X_test)[:, 1]\n",
    "    roc_auc_lr_cw = roc_auc_score(y_test, pred_proba)\n",
    "    \n",
    "    mlflow.log_metrics({\n",
    "        'f1_cv': best_score,\n",
    "        'roc_auc': roc_auc_lr_cw,\n",
    "        'balanced_accuracy': balanced_accuracy_score(y_test, np.round(pred_proba, 0)),\n",
    "        'f1': f1_score(y_test, np.round(pred_proba, 0))\n",
    "    })\n",
    "    \n",
    "    mlflow.sklearn.log_model(log_reg_pipe_cw, 'log_reg_pipeline_class_weight')"
   ],
   "metadata": {
    "collapsed": false,
    "ExecuteTime": {
     "end_time": "2023-12-03T16:53:09.573429600Z",
     "start_time": "2023-12-03T16:53:00.151850900Z"
    }
   }
  },
  {
   "cell_type": "markdown",
   "source": [
    "### 3.1.4 Метод опорных векторов"
   ],
   "metadata": {
    "collapsed": false
   }
  },
  {
   "cell_type": "code",
   "execution_count": 41,
   "outputs": [],
   "source": [
    "def optuna_optimize(trial):\n",
    "\n",
    "    param = {\n",
    "        'C': trial.suggest_float('C', 0.01, 3)  # какие значения может принимать С \n",
    "    }\n",
    " \n",
    "    estimator = SVC(**param, \n",
    "                    class_weight='balanced',\n",
    "                    random_state=12345,\n",
    "                    probability=True)\n",
    "    \n",
    "    svc_pipe = Pipeline([\n",
    "        ('preprocessor', preprocessor),\n",
    "        ('model', estimator)\n",
    "    ])\n",
    "    \n",
    "    score = cross_val_score(svc_pipe, X_train, y_train, cv=5, scoring='f1').mean()\n",
    "    return score"
   ],
   "metadata": {
    "collapsed": false,
    "ExecuteTime": {
     "end_time": "2023-12-03T16:53:09.662864900Z",
     "start_time": "2023-12-03T16:53:09.584777Z"
    }
   }
  },
  {
   "cell_type": "code",
   "execution_count": 42,
   "outputs": [
    {
     "name": "stderr",
     "output_type": "stream",
     "text": [
      "[I 2023-12-03 19:53:09,607] A new study created in memory with name: SVC Optuna Optimization Class Weight\n"
     ]
    }
   ],
   "source": [
    "study_svc = optuna.create_study(study_name=\"SVC Optuna Optimization Class Weight\",\n",
    "                                    direction='maximize')"
   ],
   "metadata": {
    "collapsed": false,
    "ExecuteTime": {
     "end_time": "2023-12-03T16:53:09.662864900Z",
     "start_time": "2023-12-03T16:53:09.607054500Z"
    }
   }
  },
  {
   "cell_type": "code",
   "execution_count": 43,
   "outputs": [
    {
     "name": "stderr",
     "output_type": "stream",
     "text": [
      "[I 2023-12-03 19:54:48,015] Trial 0 finished with value: 0.579142140068793 and parameters: {'C': 1.5822154292987414}. Best is trial 0 with value: 0.579142140068793.\n",
      "[I 2023-12-03 19:56:27,095] Trial 1 finished with value: 0.5790597560663812 and parameters: {'C': 2.432172199409803}. Best is trial 0 with value: 0.579142140068793.\n",
      "[I 2023-12-03 19:58:15,785] Trial 2 finished with value: 0.578245022286653 and parameters: {'C': 1.8930135702679165}. Best is trial 0 with value: 0.579142140068793.\n",
      "[I 2023-12-03 20:00:16,159] Trial 3 finished with value: 0.5767165618889847 and parameters: {'C': 1.27964322402352}. Best is trial 0 with value: 0.579142140068793.\n",
      "[I 2023-12-03 20:02:00,707] Trial 4 finished with value: 0.57168004167917 and parameters: {'C': 0.6283721219958383}. Best is trial 0 with value: 0.579142140068793.\n",
      "[I 2023-12-03 20:03:34,218] Trial 5 finished with value: 0.5782320328367022 and parameters: {'C': 2.7757710749444917}. Best is trial 0 with value: 0.579142140068793.\n",
      "[I 2023-12-03 20:05:14,507] Trial 6 finished with value: 0.5775891658356949 and parameters: {'C': 1.49525599048686}. Best is trial 0 with value: 0.579142140068793.\n",
      "[I 2023-12-03 20:07:08,769] Trial 7 finished with value: 0.5649825375499867 and parameters: {'C': 0.3474631244120373}. Best is trial 0 with value: 0.579142140068793.\n",
      "[I 2023-12-03 20:08:57,729] Trial 8 finished with value: 0.5759272996171256 and parameters: {'C': 1.221495255299977}. Best is trial 0 with value: 0.579142140068793.\n",
      "[I 2023-12-03 20:10:58,421] Trial 9 finished with value: 0.5783606473481601 and parameters: {'C': 1.10190913945824}. Best is trial 0 with value: 0.579142140068793.\n"
     ]
    }
   ],
   "source": [
    "study_svc.optimize(optuna_optimize, n_trials=10)"
   ],
   "metadata": {
    "collapsed": false,
    "ExecuteTime": {
     "end_time": "2023-12-03T17:10:58.519908800Z",
     "start_time": "2023-12-03T16:53:09.623493300Z"
    }
   }
  },
  {
   "cell_type": "code",
   "execution_count": 44,
   "outputs": [
    {
     "name": "stdout",
     "output_type": "stream",
     "text": [
      "Наилучшие значения гиперпараметров SVC: {'C': 1.5822154292987414}\n",
      "f1_score на обучающем наборе: 0.579\n"
     ]
    }
   ],
   "source": [
    "print(\"Наилучшие значения гиперпараметров SVC: {}\".format(study_svc.best_params))\n",
    "print(\"f1_score на обучающем наборе: {:.3f}\". format(study_svc.best_value))"
   ],
   "metadata": {
    "collapsed": false,
    "ExecuteTime": {
     "end_time": "2023-12-03T17:10:58.667325Z",
     "start_time": "2023-12-03T17:10:58.529262100Z"
    }
   }
  },
  {
   "cell_type": "code",
   "execution_count": 45,
   "outputs": [],
   "source": [
    "with mlflow.start_run(nested=True,\n",
    "                      run_name='svc_pipeline_class_weight'):\n",
    "\n",
    "    best_params = study_svc.best_params\n",
    "    best_score = study_svc.best_value\n",
    "    mlflow.log_params(best_params)\n",
    "\n",
    "    svc_pipe_cw = Pipeline([\n",
    "        ('preprocessor', preprocessor),\n",
    "        ('model', SVC(**best_params,\n",
    "                      class_weight='balanced',\n",
    "                      random_state=12345,\n",
    "                      probability=True))\n",
    "    ])\n",
    "\n",
    "    svc_pipe_cw.fit(X_train, y_train)\n",
    "\n",
    "    pred_proba = svc_pipe_cw.predict_proba(X_test)[:, 1]\n",
    "    roc_auc_svc_cw = roc_auc_score(y_test, pred_proba)\n",
    "    \n",
    "    mlflow.log_metrics({\n",
    "        'f1_cv': best_score,\n",
    "        'roc_auc': roc_auc_svc_cw,\n",
    "        'balanced_accuracy': balanced_accuracy_score(y_test, np.round(pred_proba, 0)),\n",
    "        'f1': f1_score(y_test, np.round(pred_proba, 0))\n",
    "    })\n",
    "    \n",
    "    mlflow.sklearn.log_model(svc_pipe_cw, 'svc_pipeline_class_weight')"
   ],
   "metadata": {
    "collapsed": false,
    "ExecuteTime": {
     "end_time": "2023-12-03T17:11:47.132035200Z",
     "start_time": "2023-12-03T17:10:58.560931400Z"
    }
   }
  },
  {
   "cell_type": "markdown",
   "source": [
    "## 3.2 Генерация синтетических данных (SMOTE)\n",
    "### 3.2.1 Модель XGBoost"
   ],
   "metadata": {
    "collapsed": false
   }
  },
  {
   "cell_type": "code",
   "execution_count": 94,
   "outputs": [],
   "source": [
    "cat_pipeline = Pipeline([\n",
    "    ('enc', OneHotEncoder(handle_unknown='error', drop='first'))\n",
    "])\n",
    "\n",
    "num_pipeline = Pipeline([\n",
    "    ('imp', SimpleImputer(fill_value=-1, add_indicator=True)),\n",
    "    ('pt', PowerTransformer())\n",
    "])\n",
    "\n",
    "preprocessor = ColumnTransformer([\n",
    "    (\"cat\", cat_pipeline, categorical_features),\n",
    "    (\"num\", num_pipeline, numeric_features)\n",
    "], remainder='passthrough')"
   ],
   "metadata": {
    "collapsed": false,
    "ExecuteTime": {
     "end_time": "2023-12-04T17:15:04.462412800Z",
     "start_time": "2023-12-04T17:15:04.263769700Z"
    }
   }
  },
  {
   "cell_type": "code",
   "execution_count": 95,
   "outputs": [],
   "source": [
    "def optuna_optimize(trial):\n",
    "    param = {\n",
    "        'n_estimators': trial.suggest_int('n_estimators', 50, 500),\n",
    "        'max_depth': trial.suggest_int('max_depth', 2, 6),\n",
    "        'learning_rate': trial.suggest_float('learning_rate', 0.01, 1.0),\n",
    "        'gamma': trial.suggest_float('gamma', 0.0, 20.0),\n",
    "        'reg_lambda': trial.suggest_float('reg_lambda', 0.0, 1.0),\n",
    "        'min_child_weight': trial.suggest_float('min_child_weight', 0.0, 5.0)\n",
    "    }\n",
    "\n",
    "    estimator = xgb.XGBClassifier(**param,\n",
    "                                  random_state=12345)\n",
    "\n",
    "    xgb_pipe = Pipeline([\n",
    "        ('preprocessor', preprocessor),\n",
    "        ('smote', SMOTE(random_state=12345)),\n",
    "        ('model', estimator)\n",
    "    ])\n",
    "\n",
    "    score = cross_val_score(xgb_pipe, X_train, y_train, cv=5, scoring='f1').mean()\n",
    "    return score"
   ],
   "metadata": {
    "collapsed": false,
    "ExecuteTime": {
     "end_time": "2023-12-04T17:15:05.808485300Z",
     "start_time": "2023-12-04T17:15:05.712052400Z"
    }
   }
  },
  {
   "cell_type": "code",
   "execution_count": 96,
   "outputs": [
    {
     "name": "stderr",
     "output_type": "stream",
     "text": [
      "[I 2023-12-04 20:15:07,407] A new study created in memory with name: XGBoost Optuna Optimization SMOTE\n"
     ]
    }
   ],
   "source": [
    "study_xgb_smote = optuna.create_study(study_name=\"XGBoost Optuna Optimization SMOTE\",\n",
    "                                direction='maximize')"
   ],
   "metadata": {
    "collapsed": false,
    "ExecuteTime": {
     "end_time": "2023-12-04T17:15:07.543993300Z",
     "start_time": "2023-12-04T17:15:07.398257400Z"
    }
   }
  },
  {
   "cell_type": "code",
   "execution_count": 97,
   "outputs": [
    {
     "name": "stderr",
     "output_type": "stream",
     "text": [
      "[I 2023-12-04 20:15:16,648] Trial 0 finished with value: 0.6023076356448274 and parameters: {'n_estimators': 422, 'max_depth': 5, 'learning_rate': 0.849491087014439, 'gamma': 5.62029439218427, 'reg_lambda': 0.5143094757748312, 'min_child_weight': 3.0304963369931053}. Best is trial 0 with value: 0.6023076356448274.\n",
      "[I 2023-12-04 20:15:18,421] Trial 1 finished with value: 0.621790046732062 and parameters: {'n_estimators': 406, 'max_depth': 5, 'learning_rate': 0.5143291119496445, 'gamma': 10.43890057239639, 'reg_lambda': 0.2173128765046709, 'min_child_weight': 4.395579444953174}. Best is trial 1 with value: 0.621790046732062.\n",
      "[I 2023-12-04 20:15:20,360] Trial 2 finished with value: 0.6132017128895362 and parameters: {'n_estimators': 464, 'max_depth': 3, 'learning_rate': 0.5229473107010482, 'gamma': 3.3300784465674482, 'reg_lambda': 0.17232763767788473, 'min_child_weight': 3.44437626532872}. Best is trial 1 with value: 0.621790046732062.\n",
      "[I 2023-12-04 20:15:21,516] Trial 3 finished with value: 0.6042105881174888 and parameters: {'n_estimators': 75, 'max_depth': 5, 'learning_rate': 0.8118003160938688, 'gamma': 4.588149558203165, 'reg_lambda': 0.39471405814552185, 'min_child_weight': 4.261287557047269}. Best is trial 1 with value: 0.621790046732062.\n",
      "[I 2023-12-04 20:15:22,964] Trial 4 finished with value: 0.6112747040166405 and parameters: {'n_estimators': 265, 'max_depth': 5, 'learning_rate': 0.7942336123961328, 'gamma': 15.610967083873241, 'reg_lambda': 0.80890477163724, 'min_child_weight': 4.534546419844263}. Best is trial 1 with value: 0.621790046732062.\n",
      "[I 2023-12-04 20:15:24,552] Trial 5 finished with value: 0.6106690264803926 and parameters: {'n_estimators': 252, 'max_depth': 6, 'learning_rate': 0.5197170172267538, 'gamma': 6.5130656757465655, 'reg_lambda': 0.16339322351532648, 'min_child_weight': 3.3954218541394487}. Best is trial 1 with value: 0.621790046732062.\n",
      "[I 2023-12-04 20:15:25,819] Trial 6 finished with value: 0.6173788131131384 and parameters: {'n_estimators': 152, 'max_depth': 2, 'learning_rate': 0.3625644585959011, 'gamma': 3.9304262430062464, 'reg_lambda': 0.7848672233294693, 'min_child_weight': 0.738692455948487}. Best is trial 1 with value: 0.621790046732062.\n",
      "[I 2023-12-04 20:15:27,627] Trial 7 finished with value: 0.6160056548800833 and parameters: {'n_estimators': 341, 'max_depth': 4, 'learning_rate': 0.07862288406922135, 'gamma': 11.073991628612296, 'reg_lambda': 0.8898377666239505, 'min_child_weight': 1.083674683079795}. Best is trial 1 with value: 0.621790046732062.\n",
      "[I 2023-12-04 20:15:29,484] Trial 8 finished with value: 0.61232245635863 and parameters: {'n_estimators': 386, 'max_depth': 4, 'learning_rate': 0.530167611758734, 'gamma': 18.337573354598106, 'reg_lambda': 0.3107761177654106, 'min_child_weight': 4.444568157908566}. Best is trial 1 with value: 0.621790046732062.\n",
      "[I 2023-12-04 20:15:31,133] Trial 9 finished with value: 0.6045174036801869 and parameters: {'n_estimators': 348, 'max_depth': 6, 'learning_rate': 0.5307932084212594, 'gamma': 2.807229478668871, 'reg_lambda': 0.6687129158144741, 'min_child_weight': 1.7750675693962081}. Best is trial 1 with value: 0.621790046732062.\n",
      "[I 2023-12-04 20:15:33,054] Trial 10 finished with value: 0.6080269479483495 and parameters: {'n_estimators': 491, 'max_depth': 3, 'learning_rate': 0.2640829451129708, 'gamma': 10.453016571091146, 'reg_lambda': 0.007978049570093293, 'min_child_weight': 0.04847993604640699}. Best is trial 1 with value: 0.621790046732062.\n",
      "[I 2023-12-04 20:15:34,413] Trial 11 finished with value: 0.6167674335582499 and parameters: {'n_estimators': 121, 'max_depth': 2, 'learning_rate': 0.3217348178634366, 'gamma': 0.16766770030286882, 'reg_lambda': 0.9974960410159642, 'min_child_weight': 2.156738304015383}. Best is trial 1 with value: 0.621790046732062.\n",
      "[I 2023-12-04 20:15:35,828] Trial 12 finished with value: 0.6092067280810058 and parameters: {'n_estimators': 175, 'max_depth': 2, 'learning_rate': 0.35302529034860364, 'gamma': 7.9533238556302805, 'reg_lambda': 0.60731658566734, 'min_child_weight': 4.9982146011592725}. Best is trial 1 with value: 0.621790046732062.\n",
      "[I 2023-12-04 20:15:37,182] Trial 13 finished with value: 0.6077481804098934 and parameters: {'n_estimators': 202, 'max_depth': 3, 'learning_rate': 0.6594784137121426, 'gamma': 12.160492470406325, 'reg_lambda': 0.7201340909922199, 'min_child_weight': 1.4086990431993027}. Best is trial 1 with value: 0.621790046732062.\n",
      "[I 2023-12-04 20:15:38,597] Trial 14 finished with value: 0.6067609387456295 and parameters: {'n_estimators': 160, 'max_depth': 5, 'learning_rate': 0.6736717858536677, 'gamma': 8.14267077549716, 'reg_lambda': 0.5132151855157379, 'min_child_weight': 2.6100064114150396}. Best is trial 1 with value: 0.621790046732062.\n",
      "[I 2023-12-04 20:15:40,163] Trial 15 finished with value: 0.5959937680391819 and parameters: {'n_estimators': 313, 'max_depth': 2, 'learning_rate': 0.9811959005359644, 'gamma': 12.60164379049586, 'reg_lambda': 0.40283714180529406, 'min_child_weight': 0.3648410236879515}. Best is trial 1 with value: 0.621790046732062.\n",
      "[I 2023-12-04 20:15:41,572] Trial 16 finished with value: 0.6091214225437204 and parameters: {'n_estimators': 230, 'max_depth': 4, 'learning_rate': 0.38212335205725556, 'gamma': 8.76225203814238, 'reg_lambda': 0.725136050294005, 'min_child_weight': 0.8353787630296783}. Best is trial 1 with value: 0.621790046732062.\n",
      "[I 2023-12-04 20:15:42,754] Trial 17 finished with value: 0.612648974429998 and parameters: {'n_estimators': 56, 'max_depth': 3, 'learning_rate': 0.16563686107601183, 'gamma': 13.762975478701966, 'reg_lambda': 0.6068713060611438, 'min_child_weight': 1.8285474396889603}. Best is trial 1 with value: 0.621790046732062.\n",
      "[I 2023-12-04 20:15:44,086] Trial 18 finished with value: 0.612464591408447 and parameters: {'n_estimators': 123, 'max_depth': 4, 'learning_rate': 0.41052766121647594, 'gamma': 9.339618168035027, 'reg_lambda': 0.27776109114374575, 'min_child_weight': 2.5078948693244794}. Best is trial 1 with value: 0.621790046732062.\n",
      "[I 2023-12-04 20:15:46,667] Trial 19 finished with value: 0.5904321692155261 and parameters: {'n_estimators': 414, 'max_depth': 6, 'learning_rate': 0.217886444528898, 'gamma': 0.25859358140113287, 'reg_lambda': 0.8234193119269181, 'min_child_weight': 0.8896908918757809}. Best is trial 1 with value: 0.621790046732062.\n",
      "[I 2023-12-04 20:15:49,832] Trial 20 finished with value: 0.6144281168489185 and parameters: {'n_estimators': 304, 'max_depth': 5, 'learning_rate': 0.017836440365959605, 'gamma': 6.5829566527576935, 'reg_lambda': 0.9752789796599431, 'min_child_weight': 3.8161007340414494}. Best is trial 1 with value: 0.621790046732062.\n",
      "[I 2023-12-04 20:15:51,243] Trial 21 finished with value: 0.613614581786579 and parameters: {'n_estimators': 105, 'max_depth': 2, 'learning_rate': 0.3112493215606261, 'gamma': 0.41440998457111644, 'reg_lambda': 0.9980363913180726, 'min_child_weight': 1.95075255629355}. Best is trial 1 with value: 0.621790046732062.\n",
      "[I 2023-12-04 20:15:52,583] Trial 22 finished with value: 0.614857309639483 and parameters: {'n_estimators': 131, 'max_depth': 2, 'learning_rate': 0.4115793265946669, 'gamma': 2.373431795045648, 'reg_lambda': 0.905769667591374, 'min_child_weight': 2.828534277188381}. Best is trial 1 with value: 0.621790046732062.\n",
      "[I 2023-12-04 20:15:54,158] Trial 23 finished with value: 0.6180280240334781 and parameters: {'n_estimators': 187, 'max_depth': 2, 'learning_rate': 0.2854744240628685, 'gamma': 1.5609261010923605, 'reg_lambda': 0.8527305191429271, 'min_child_weight': 2.108191855341875}. Best is trial 1 with value: 0.621790046732062.\n",
      "[I 2023-12-04 20:15:55,647] Trial 24 finished with value: 0.6160683505045513 and parameters: {'n_estimators': 217, 'max_depth': 3, 'learning_rate': 0.1760770667192485, 'gamma': 4.675557815576413, 'reg_lambda': 0.8008822308833978, 'min_child_weight': 2.226849015495785}. Best is trial 1 with value: 0.621790046732062.\n",
      "[I 2023-12-04 20:15:56,990] Trial 25 finished with value: 0.6173039135637917 and parameters: {'n_estimators': 178, 'max_depth': 2, 'learning_rate': 0.4423639811447203, 'gamma': 2.1459186965126307, 'reg_lambda': 0.742570080643725, 'min_child_weight': 1.5141761639338362}. Best is trial 1 with value: 0.621790046732062.\n",
      "[I 2023-12-04 20:15:58,500] Trial 26 finished with value: 0.6090875564724134 and parameters: {'n_estimators': 243, 'max_depth': 3, 'learning_rate': 0.28348216705418455, 'gamma': 7.456629064426546, 'reg_lambda': 0.8899966224583779, 'min_child_weight': 2.3355706340350633}. Best is trial 1 with value: 0.621790046732062.\n",
      "[I 2023-12-04 20:15:59,845] Trial 27 finished with value: 0.6153141266159095 and parameters: {'n_estimators': 161, 'max_depth': 4, 'learning_rate': 0.4498613484132752, 'gamma': 4.317622669737862, 'reg_lambda': 0.6173833999595147, 'min_child_weight': 2.865878513370318}. Best is trial 1 with value: 0.621790046732062.\n",
      "[I 2023-12-04 20:16:01,568] Trial 28 finished with value: 0.6139435020086502 and parameters: {'n_estimators': 298, 'max_depth': 2, 'learning_rate': 0.21268271379832046, 'gamma': 9.561703495185004, 'reg_lambda': 0.6630378744655308, 'min_child_weight': 1.3760190940710444}. Best is trial 1 with value: 0.621790046732062.\n",
      "[I 2023-12-04 20:16:03,534] Trial 29 finished with value: 0.6197233192625804 and parameters: {'n_estimators': 433, 'max_depth': 5, 'learning_rate': 0.359819856722215, 'gamma': 6.694648745145741, 'reg_lambda': 0.5672560897023577, 'min_child_weight': 3.095561522778305}. Best is trial 1 with value: 0.621790046732062.\n",
      "[I 2023-12-04 20:16:05,402] Trial 30 finished with value: 0.6103603907964552 and parameters: {'n_estimators': 444, 'max_depth': 5, 'learning_rate': 0.6021729370114016, 'gamma': 5.797744848368909, 'reg_lambda': 0.5478282650078989, 'min_child_weight': 2.966325955482543}. Best is trial 1 with value: 0.621790046732062.\n",
      "[I 2023-12-04 20:16:07,561] Trial 31 finished with value: 0.609844056728281 and parameters: {'n_estimators': 384, 'max_depth': 6, 'learning_rate': 0.3746118822167117, 'gamma': 5.56075565850774, 'reg_lambda': 0.4566662909419289, 'min_child_weight': 3.172882436118048}. Best is trial 1 with value: 0.621790046732062.\n",
      "[I 2023-12-04 20:16:09,564] Trial 32 finished with value: 0.6168173918082243 and parameters: {'n_estimators': 474, 'max_depth': 5, 'learning_rate': 0.45517161014520213, 'gamma': 3.4238763788487985, 'reg_lambda': 0.5136018419419184, 'min_child_weight': 3.6874127027172534}. Best is trial 1 with value: 0.621790046732062.\n",
      "[I 2023-12-04 20:16:11,469] Trial 33 finished with value: 0.6134195183407777 and parameters: {'n_estimators': 426, 'max_depth': 4, 'learning_rate': 0.34496733914442945, 'gamma': 1.4546704361105567, 'reg_lambda': 0.7493427832022169, 'min_child_weight': 3.897400350399753}. Best is trial 1 with value: 0.621790046732062.\n",
      "[I 2023-12-04 20:16:13,291] Trial 34 finished with value: 0.6129606758732523 and parameters: {'n_estimators': 373, 'max_depth': 5, 'learning_rate': 0.2663640125873241, 'gamma': 3.8588371842179248, 'reg_lambda': 0.5571603957803111, 'min_child_weight': 3.278078389058167}. Best is trial 1 with value: 0.621790046732062.\n",
      "[I 2023-12-04 20:16:15,364] Trial 35 finished with value: 0.6080947505725096 and parameters: {'n_estimators': 500, 'max_depth': 6, 'learning_rate': 0.4709793208117093, 'gamma': 5.280579006266073, 'reg_lambda': 0.4401783709015551, 'min_child_weight': 3.529475316929502}. Best is trial 1 with value: 0.621790046732062.\n",
      "[I 2023-12-04 20:16:16,658] Trial 36 finished with value: 0.6153550270003368 and parameters: {'n_estimators': 85, 'max_depth': 5, 'learning_rate': 0.3769059806767949, 'gamma': 6.720790581929293, 'reg_lambda': 0.8247200365867237, 'min_child_weight': 4.112188454344655}. Best is trial 1 with value: 0.621790046732062.\n",
      "[I 2023-12-04 20:16:18,316] Trial 37 finished with value: 0.6136942112202736 and parameters: {'n_estimators': 281, 'max_depth': 5, 'learning_rate': 0.5119233302155884, 'gamma': 3.964784617535555, 'reg_lambda': 0.3255902979995356, 'min_child_weight': 3.2138910385376476}. Best is trial 1 with value: 0.621790046732062.\n",
      "[I 2023-12-04 20:16:20,176] Trial 38 finished with value: 0.62078872906744 and parameters: {'n_estimators': 441, 'max_depth': 3, 'learning_rate': 0.3097022642946202, 'gamma': 2.9532427637010885, 'reg_lambda': 0.47721965794876625, 'min_child_weight': 3.6267647963955993}. Best is trial 1 with value: 0.621790046732062.\n",
      "[I 2023-12-04 20:16:22,300] Trial 39 finished with value: 0.6225247283581832 and parameters: {'n_estimators': 447, 'max_depth': 3, 'learning_rate': 0.3000528989734149, 'gamma': 1.8599282968378348, 'reg_lambda': 0.4683511433994568, 'min_child_weight': 3.505852481774958}. Best is trial 39 with value: 0.6225247283581832.\n",
      "[I 2023-12-04 20:16:24,400] Trial 40 finished with value: 0.6192410030892528 and parameters: {'n_estimators': 454, 'max_depth': 3, 'learning_rate': 0.1203300753583448, 'gamma': 3.056991629864811, 'reg_lambda': 0.45720558953538853, 'min_child_weight': 3.5530929015865493}. Best is trial 39 with value: 0.6225247283581832.\n",
      "[I 2023-12-04 20:16:26,663] Trial 41 finished with value: 0.6169143609158856 and parameters: {'n_estimators': 457, 'max_depth': 3, 'learning_rate': 0.08238751690762619, 'gamma': 3.2625474523259994, 'reg_lambda': 0.45925888484302824, 'min_child_weight': 3.450055196093239}. Best is trial 39 with value: 0.6225247283581832.\n",
      "[I 2023-12-04 20:16:28,755] Trial 42 finished with value: 0.6214568918284924 and parameters: {'n_estimators': 424, 'max_depth': 3, 'learning_rate': 0.1267872762432663, 'gamma': 2.787091309918664, 'reg_lambda': 0.39659067711040885, 'min_child_weight': 4.099429255491733}. Best is trial 39 with value: 0.6225247283581832.\n",
      "[I 2023-12-04 20:16:30,659] Trial 43 finished with value: 0.6160829683523636 and parameters: {'n_estimators': 406, 'max_depth': 3, 'learning_rate': 0.22098153476628535, 'gamma': 4.771998907555784, 'reg_lambda': 0.37703716542126753, 'min_child_weight': 4.09508780692703}. Best is trial 39 with value: 0.6225247283581832.\n",
      "[I 2023-12-04 20:16:32,682] Trial 44 finished with value: 0.6133748950366371 and parameters: {'n_estimators': 434, 'max_depth': 4, 'learning_rate': 0.30075830167370876, 'gamma': 1.4966157621655385, 'reg_lambda': 0.2283748362504875, 'min_child_weight': 4.410216259622364}. Best is trial 39 with value: 0.6225247283581832.\n",
      "[I 2023-12-04 20:16:34,523] Trial 45 finished with value: 0.6150563298884983 and parameters: {'n_estimators': 358, 'max_depth': 3, 'learning_rate': 0.3267629696793775, 'gamma': 2.430520546727139, 'reg_lambda': 0.3569541714255771, 'min_child_weight': 4.736049645494634}. Best is trial 39 with value: 0.6225247283581832.\n",
      "[I 2023-12-04 20:16:36,392] Trial 46 finished with value: 0.6185926109338217 and parameters: {'n_estimators': 399, 'max_depth': 4, 'learning_rate': 0.2559377223227509, 'gamma': 7.221801632601656, 'reg_lambda': 0.41494801998830866, 'min_child_weight': 3.9558142050878518}. Best is trial 39 with value: 0.6225247283581832.\n",
      "[I 2023-12-04 20:16:38,460] Trial 47 finished with value: 0.6153830331894328 and parameters: {'n_estimators': 474, 'max_depth': 4, 'learning_rate': 0.17295791528860338, 'gamma': 5.685132168282847, 'reg_lambda': 0.38422683416595427, 'min_child_weight': 4.130305648240609}. Best is trial 39 with value: 0.6225247283581832.\n",
      "[I 2023-12-04 20:16:40,144] Trial 48 finished with value: 0.6156960087849119 and parameters: {'n_estimators': 335, 'max_depth': 3, 'learning_rate': 0.3343749254546919, 'gamma': 8.101426691692627, 'reg_lambda': 0.4764412382177614, 'min_child_weight': 4.3475489521214135}. Best is trial 39 with value: 0.6225247283581832.\n",
      "[I 2023-12-04 20:16:42,098] Trial 49 finished with value: 0.6005181190982343 and parameters: {'n_estimators': 481, 'max_depth': 3, 'learning_rate': 0.5594362462974982, 'gamma': 10.739912962160858, 'reg_lambda': 0.507186494554369, 'min_child_weight': 3.6487916198127173}. Best is trial 39 with value: 0.6225247283581832.\n",
      "[I 2023-12-04 20:16:44,317] Trial 50 finished with value: 0.6008670176578703 and parameters: {'n_estimators': 421, 'max_depth': 6, 'learning_rate': 0.41257145691995695, 'gamma': 3.688837425843997, 'reg_lambda': 0.1135876807501699, 'min_child_weight': 3.80939667293096}. Best is trial 39 with value: 0.6225247283581832.\n",
      "[I 2023-12-04 20:16:46,489] Trial 51 finished with value: 0.6137600089394822 and parameters: {'n_estimators': 448, 'max_depth': 3, 'learning_rate': 0.12163116201087396, 'gamma': 3.0061374155318736, 'reg_lambda': 0.4727188906572496, 'min_child_weight': 3.4242052340602673}. Best is trial 39 with value: 0.6225247283581832.\n",
      "[I 2023-12-04 20:16:48,916] Trial 52 finished with value: 0.6182116010514418 and parameters: {'n_estimators': 452, 'max_depth': 3, 'learning_rate': 0.09506080069080583, 'gamma': 0.8731816370301746, 'reg_lambda': 0.4393295245928767, 'min_child_weight': 3.5996546207700266}. Best is trial 39 with value: 0.6225247283581832.\n",
      "[I 2023-12-04 20:16:50,923] Trial 53 finished with value: 0.620708526646983 and parameters: {'n_estimators': 395, 'max_depth': 3, 'learning_rate': 0.13626382531808492, 'gamma': 2.7568840624823117, 'reg_lambda': 0.5546744957961701, 'min_child_weight': 4.537718048713199}. Best is trial 39 with value: 0.6225247283581832.\n",
      "[I 2023-12-04 20:16:54,462] Trial 54 finished with value: 0.6091576547446609 and parameters: {'n_estimators': 391, 'max_depth': 4, 'learning_rate': 0.01198432399324069, 'gamma': 2.0093426772442706, 'reg_lambda': 0.5541254491270005, 'min_child_weight': 4.628055413372145}. Best is trial 39 with value: 0.6225247283581832.\n",
      "[I 2023-12-04 20:16:56,465] Trial 55 finished with value: 0.6207386550807221 and parameters: {'n_estimators': 372, 'max_depth': 3, 'learning_rate': 0.22816877173071645, 'gamma': 1.0848970614404618, 'reg_lambda': 0.3481675813295469, 'min_child_weight': 4.304984798200581}. Best is trial 39 with value: 0.6225247283581832.\n",
      "[I 2023-12-04 20:16:58,411] Trial 56 finished with value: 0.6130749751714549 and parameters: {'n_estimators': 361, 'max_depth': 3, 'learning_rate': 0.24196510032616042, 'gamma': 0.9225724723468862, 'reg_lambda': 0.3146908387765767, 'min_child_weight': 4.28102032367177}. Best is trial 39 with value: 0.6225247283581832.\n",
      "[I 2023-12-04 20:17:01,508] Trial 57 finished with value: 0.6163538999664804 and parameters: {'n_estimators': 411, 'max_depth': 3, 'learning_rate': 0.193291473475801, 'gamma': 2.4393508411584377, 'reg_lambda': 0.3585634622787147, 'min_child_weight': 4.572583349690724}. Best is trial 39 with value: 0.6225247283581832.\n",
      "[I 2023-12-04 20:17:03,952] Trial 58 finished with value: 0.6021556075881379 and parameters: {'n_estimators': 326, 'max_depth': 3, 'learning_rate': 0.14309387975238352, 'gamma': 0.18897196030986696, 'reg_lambda': 0.41031026396537085, 'min_child_weight': 4.846155824017336}. Best is trial 39 with value: 0.6225247283581832.\n",
      "[I 2023-12-04 20:17:06,013] Trial 59 finished with value: 0.6237041993075773 and parameters: {'n_estimators': 376, 'max_depth': 3, 'learning_rate': 0.1518670450897149, 'gamma': 1.0588767770898295, 'reg_lambda': 0.2814495961396368, 'min_child_weight': 4.4450291874762105}. Best is trial 59 with value: 0.6237041993075773.\n",
      "[I 2023-12-04 20:17:08,839] Trial 60 finished with value: 0.617595826951009 and parameters: {'n_estimators': 368, 'max_depth': 4, 'learning_rate': 0.05623500950329148, 'gamma': 1.0185768101727013, 'reg_lambda': 0.26562557769584366, 'min_child_weight': 4.276579361184995}. Best is trial 59 with value: 0.6237041993075773.\n",
      "[I 2023-12-04 20:17:10,873] Trial 61 finished with value: 0.6157220387516913 and parameters: {'n_estimators': 381, 'max_depth': 3, 'learning_rate': 0.15664632028315262, 'gamma': 1.6685551634473383, 'reg_lambda': 0.3430588459731171, 'min_child_weight': 4.486915541632187}. Best is trial 59 with value: 0.6237041993075773.\n",
      "[I 2023-12-04 20:17:12,830] Trial 62 finished with value: 0.6217309604659766 and parameters: {'n_estimators': 401, 'max_depth': 3, 'learning_rate': 0.21098299491114308, 'gamma': 2.688100270417987, 'reg_lambda': 0.2930397148563348, 'min_child_weight': 4.508687187641865}. Best is trial 59 with value: 0.6237041993075773.\n",
      "[I 2023-12-04 20:17:14,995] Trial 63 finished with value: 0.6201070962242745 and parameters: {'n_estimators': 436, 'max_depth': 3, 'learning_rate': 0.19659614994507632, 'gamma': 0.7466535512132464, 'reg_lambda': 0.2867467025421496, 'min_child_weight': 4.184690254853269}. Best is trial 59 with value: 0.6237041993075773.\n",
      "[I 2023-12-04 20:17:17,229] Trial 64 finished with value: 0.610967032958012 and parameters: {'n_estimators': 351, 'max_depth': 2, 'learning_rate': 0.22668647186225094, 'gamma': 0.07916320251577336, 'reg_lambda': 0.24296829342215476, 'min_child_weight': 4.905574537011411}. Best is trial 59 with value: 0.6237041993075773.\n",
      "[I 2023-12-04 20:17:19,226] Trial 65 finished with value: 0.6232778569179874 and parameters: {'n_estimators': 420, 'max_depth': 3, 'learning_rate': 0.26731521424474486, 'gamma': 1.9910182533392637, 'reg_lambda': 0.34285252059195237, 'min_child_weight': 3.973996151741341}. Best is trial 59 with value: 0.6237041993075773.\n",
      "[I 2023-12-04 20:17:21,298] Trial 66 finished with value: 0.6086738566646479 and parameters: {'n_estimators': 466, 'max_depth': 2, 'learning_rate': 0.2736739706632166, 'gamma': 1.887135306034679, 'reg_lambda': 0.2981885980519643, 'min_child_weight': 3.959835670261503}. Best is trial 59 with value: 0.6237041993075773.\n",
      "[I 2023-12-04 20:17:23,222] Trial 67 finished with value: 0.6151034056852748 and parameters: {'n_estimators': 417, 'max_depth': 3, 'learning_rate': 0.30686427525116167, 'gamma': 2.336167887538502, 'reg_lambda': 0.19608524680506212, 'min_child_weight': 4.7219819036997235}. Best is trial 59 with value: 0.6237041993075773.\n",
      "[I 2023-12-04 20:17:26,598] Trial 68 finished with value: 0.6201251824357403 and parameters: {'n_estimators': 488, 'max_depth': 3, 'learning_rate': 0.19225235535253787, 'gamma': 3.3939273075072025, 'reg_lambda': 0.3131797058668787, 'min_child_weight': 3.7930075792259204}. Best is trial 59 with value: 0.6237041993075773.\n",
      "[I 2023-12-04 20:17:28,438] Trial 69 finished with value: 0.6174393726305993 and parameters: {'n_estimators': 408, 'max_depth': 3, 'learning_rate': 0.2677659553880126, 'gamma': 4.357086187713071, 'reg_lambda': 0.3946776098266246, 'min_child_weight': 3.99973614435681}. Best is trial 59 with value: 0.6237041993075773.\n",
      "[I 2023-12-04 20:17:30,542] Trial 70 finished with value: 0.6146568116927016 and parameters: {'n_estimators': 440, 'max_depth': 2, 'learning_rate': 0.1653509085289512, 'gamma': 2.950374351802783, 'reg_lambda': 0.4224538100688601, 'min_child_weight': 4.417110718787641}. Best is trial 59 with value: 0.6237041993075773.\n",
      "[I 2023-12-04 20:17:32,468] Trial 71 finished with value: 0.6190907408685707 and parameters: {'n_estimators': 376, 'max_depth': 3, 'learning_rate': 0.25719269074591206, 'gamma': 1.2842551416061454, 'reg_lambda': 0.34686026169322903, 'min_child_weight': 4.2574643380617205}. Best is trial 59 with value: 0.6237041993075773.\n",
      "[I 2023-12-04 20:17:34,734] Trial 72 finished with value: 0.6201757371618275 and parameters: {'n_estimators': 427, 'max_depth': 3, 'learning_rate': 0.2369956906059899, 'gamma': 1.949043889955152, 'reg_lambda': 0.36880708639713256, 'min_child_weight': 4.333406179911866}. Best is trial 59 with value: 0.6237041993075773.\n",
      "[I 2023-12-04 20:17:36,815] Trial 73 finished with value: 0.6098307500192807 and parameters: {'n_estimators': 396, 'max_depth': 3, 'learning_rate': 0.2112941198397981, 'gamma': 0.577166462288393, 'reg_lambda': 0.2662919591453794, 'min_child_weight': 4.084726515336668}. Best is trial 59 with value: 0.6237041993075773.\n",
      "[I 2023-12-04 20:17:38,750] Trial 74 finished with value: 0.6207249922632235 and parameters: {'n_estimators': 342, 'max_depth': 3, 'learning_rate': 0.18548059791357802, 'gamma': 1.3065277630582297, 'reg_lambda': 0.3312941890839288, 'min_child_weight': 3.839675137558537}. Best is trial 59 with value: 0.6237041993075773.\n",
      "[I 2023-12-04 20:17:42,444] Trial 75 finished with value: 0.5726624295187982 and parameters: {'n_estimators': 421, 'max_depth': 4, 'learning_rate': 0.22914961267346595, 'gamma': 0.021183772889604935, 'reg_lambda': 0.3955801867101804, 'min_child_weight': 4.663401064959585}. Best is trial 59 with value: 0.6237041993075773.\n",
      "[I 2023-12-04 20:17:44,459] Trial 76 finished with value: 0.6114583830573566 and parameters: {'n_estimators': 464, 'max_depth': 3, 'learning_rate': 0.3228954871984877, 'gamma': 2.6600344020047886, 'reg_lambda': 0.30395607712866946, 'min_child_weight': 4.476488893336878}. Best is trial 59 with value: 0.6237041993075773.\n",
      "[I 2023-12-04 20:17:46,229] Trial 77 finished with value: 0.6170485400782104 and parameters: {'n_estimators': 319, 'max_depth': 4, 'learning_rate': 0.2854030082061685, 'gamma': 2.122729203450963, 'reg_lambda': 0.33920243760148694, 'min_child_weight': 4.029961613707597}. Best is trial 59 with value: 0.6237041993075773.\n",
      "[I 2023-12-04 20:17:48,241] Trial 78 finished with value: 0.6150953128038829 and parameters: {'n_estimators': 383, 'max_depth': 3, 'learning_rate': 0.10267504893122884, 'gamma': 3.9454530881787644, 'reg_lambda': 0.3754816665170644, 'min_child_weight': 3.712345039639448}. Best is trial 59 with value: 0.6237041993075773.\n",
      "[I 2023-12-04 20:17:50,341] Trial 79 finished with value: 0.6071767834017542 and parameters: {'n_estimators': 403, 'max_depth': 2, 'learning_rate': 0.1531315634687628, 'gamma': 1.302949218995031, 'reg_lambda': 0.42352256564867236, 'min_child_weight': 4.210681089745567}. Best is trial 59 with value: 0.6237041993075773.\n",
      "[I 2023-12-04 20:17:52,298] Trial 80 finished with value: 0.6168329753371034 and parameters: {'n_estimators': 365, 'max_depth': 3, 'learning_rate': 0.25357060920161806, 'gamma': 0.6539235927673019, 'reg_lambda': 0.2875332479345807, 'min_child_weight': 3.9293183411186927}. Best is trial 59 with value: 0.6237041993075773.\n",
      "[I 2023-12-04 20:17:54,252] Trial 81 finished with value: 0.617731518998405 and parameters: {'n_estimators': 349, 'max_depth': 3, 'learning_rate': 0.1807670885227059, 'gamma': 2.0013176441895912, 'reg_lambda': 0.3365556474261876, 'min_child_weight': 3.9015252451073743}. Best is trial 59 with value: 0.6237041993075773.\n",
      "[I 2023-12-04 20:17:56,173] Trial 82 finished with value: 0.6260148770866565 and parameters: {'n_estimators': 280, 'max_depth': 3, 'learning_rate': 0.12590060383127358, 'gamma': 1.3644328880081138, 'reg_lambda': 0.3267487220370654, 'min_child_weight': 4.167040370933535}. Best is trial 82 with value: 0.6260148770866565.\n",
      "[I 2023-12-04 20:17:57,977] Trial 83 finished with value: 0.6219905846482717 and parameters: {'n_estimators': 297, 'max_depth': 3, 'learning_rate': 0.13477127135639302, 'gamma': 3.419374143030864, 'reg_lambda': 0.24942728924826985, 'min_child_weight': 4.420504851648575}. Best is trial 82 with value: 0.6260148770866565.\n",
      "[I 2023-12-04 20:17:59,767] Trial 84 finished with value: 0.61467096373317 and parameters: {'n_estimators': 268, 'max_depth': 3, 'learning_rate': 0.11814235460104275, 'gamma': 2.986293811842198, 'reg_lambda': 0.23785407535361092, 'min_child_weight': 4.425174926389845}. Best is trial 82 with value: 0.6260148770866565.\n",
      "[I 2023-12-04 20:18:01,748] Trial 85 finished with value: 0.6173909040067203 and parameters: {'n_estimators': 293, 'max_depth': 3, 'learning_rate': 0.0764597368141095, 'gamma': 3.3690694170355355, 'reg_lambda': 0.2005970998392875, 'min_child_weight': 4.172576955466696}. Best is trial 82 with value: 0.6260148770866565.\n",
      "[I 2023-12-04 20:18:03,403] Trial 86 finished with value: 0.6103120009197918 and parameters: {'n_estimators': 251, 'max_depth': 3, 'learning_rate': 0.14314858109067977, 'gamma': 4.920998640047431, 'reg_lambda': 0.2553531499683045, 'min_child_weight': 4.569705612561014}. Best is trial 82 with value: 0.6260148770866565.\n",
      "[I 2023-12-04 20:18:05,672] Trial 87 finished with value: 0.6195001555788269 and parameters: {'n_estimators': 225, 'max_depth': 4, 'learning_rate': 0.04911583232529412, 'gamma': 2.5893488387301558, 'reg_lambda': 0.48850631191254634, 'min_child_weight': 3.719551813610048}. Best is trial 82 with value: 0.6260148770866565.\n",
      "[I 2023-12-04 20:18:07,741] Trial 88 finished with value: 0.6202672618958278 and parameters: {'n_estimators': 441, 'max_depth': 3, 'learning_rate': 0.35145714839046294, 'gamma': 1.7630868560974642, 'reg_lambda': 0.2776736893076535, 'min_child_weight': 3.3110894457919713}. Best is trial 82 with value: 0.6260148770866565.\n",
      "[I 2023-12-04 20:18:09,426] Trial 89 finished with value: 0.6071878910488347 and parameters: {'n_estimators': 282, 'max_depth': 2, 'learning_rate': 0.12103003058627604, 'gamma': 4.171605163364945, 'reg_lambda': 0.3049984172681184, 'min_child_weight': 4.046843478349186}. Best is trial 82 with value: 0.6260148770866565.\n",
      "[I 2023-12-04 20:18:11,409] Trial 90 finished with value: 0.6139421263575346 and parameters: {'n_estimators': 427, 'max_depth': 3, 'learning_rate': 0.29532239416848544, 'gamma': 3.794312075065739, 'reg_lambda': 0.22777113903215013, 'min_child_weight': 4.374408509748805}. Best is trial 82 with value: 0.6260148770866565.\n",
      "[I 2023-12-04 20:18:13,473] Trial 91 finished with value: 0.6168611109431216 and parameters: {'n_estimators': 411, 'max_depth': 3, 'learning_rate': 0.20476547687411278, 'gamma': 1.3526717024178032, 'reg_lambda': 0.37543838885299796, 'min_child_weight': 4.256670761437916}. Best is trial 82 with value: 0.6260148770866565.\n",
      "[I 2023-12-04 20:18:15,584] Trial 92 finished with value: 0.6118619886157373 and parameters: {'n_estimators': 304, 'max_depth': 3, 'learning_rate': 0.16702217642084227, 'gamma': 0.4333137826486413, 'reg_lambda': 0.4426934919019987, 'min_child_weight': 4.812257368047961}. Best is trial 82 with value: 0.6260148770866565.\n",
      "[I 2023-12-04 20:18:17,600] Trial 93 finished with value: 0.6142933205146951 and parameters: {'n_estimators': 261, 'max_depth': 3, 'learning_rate': 0.22026440542347236, 'gamma': 0.9717306354952819, 'reg_lambda': 0.32132891763176374, 'min_child_weight': 4.654007684843701}. Best is trial 82 with value: 0.6260148770866565.\n",
      "[I 2023-12-04 20:18:19,682] Trial 94 finished with value: 0.6181522374202306 and parameters: {'n_estimators': 393, 'max_depth': 3, 'learning_rate': 0.13706143194097434, 'gamma': 2.5954879191525873, 'reg_lambda': 0.40431065110880055, 'min_child_weight': 4.541588035481527}. Best is trial 82 with value: 0.6260148770866565.\n",
      "[I 2023-12-04 20:18:21,467] Trial 95 finished with value: 0.6134015238442623 and parameters: {'n_estimators': 330, 'max_depth': 3, 'learning_rate': 0.24809233554157367, 'gamma': 3.4513968950049603, 'reg_lambda': 0.2738066747217914, 'min_child_weight': 4.140721187845145}. Best is trial 82 with value: 0.6260148770866565.\n",
      "[I 2023-12-04 20:18:23,778] Trial 96 finished with value: 0.6207305531713662 and parameters: {'n_estimators': 461, 'max_depth': 3, 'learning_rate': 0.10578749309117125, 'gamma': 1.6719759264745424, 'reg_lambda': 0.3470465673459714, 'min_child_weight': 4.334542884071264}. Best is trial 82 with value: 0.6260148770866565.\n",
      "[I 2023-12-04 20:18:25,865] Trial 97 finished with value: 0.6171403233055748 and parameters: {'n_estimators': 451, 'max_depth': 3, 'learning_rate': 0.19961618349978855, 'gamma': 2.258327076050886, 'reg_lambda': 0.35832302929688853, 'min_child_weight': 4.949033328107492}. Best is trial 82 with value: 0.6260148770866565.\n",
      "[I 2023-12-04 20:18:27,857] Trial 98 finished with value: 0.6209563737538364 and parameters: {'n_estimators': 433, 'max_depth': 3, 'learning_rate': 0.3099934141467643, 'gamma': 3.057922838789319, 'reg_lambda': 0.5283976941651257, 'min_child_weight': 4.773186476169114}. Best is trial 82 with value: 0.6260148770866565.\n",
      "[I 2023-12-04 20:18:29,812] Trial 99 finished with value: 0.6157855962504482 and parameters: {'n_estimators': 433, 'max_depth': 4, 'learning_rate': 0.3231425214840514, 'gamma': 3.0587688751922166, 'reg_lambda': 0.5300070075942184, 'min_child_weight': 4.800943456310431}. Best is trial 82 with value: 0.6260148770866565.\n",
      "[I 2023-12-04 20:18:31,387] Trial 100 finished with value: 0.6172863431650606 and parameters: {'n_estimators': 237, 'max_depth': 3, 'learning_rate': 0.30046948578058186, 'gamma': 4.411496725179174, 'reg_lambda': 0.49503996961137664, 'min_child_weight': 4.743875732180113}. Best is trial 82 with value: 0.6260148770866565.\n",
      "[I 2023-12-04 20:18:33,454] Trial 101 finished with value: 0.6210203715165418 and parameters: {'n_estimators': 416, 'max_depth': 3, 'learning_rate': 0.1693656884793705, 'gamma': 2.234501666802325, 'reg_lambda': 0.47270395955233047, 'min_child_weight': 4.46245724962788}. Best is trial 82 with value: 0.6260148770866565.\n",
      "[I 2023-12-04 20:18:35,624] Trial 102 finished with value: 0.6222851198059542 and parameters: {'n_estimators': 471, 'max_depth': 3, 'learning_rate': 0.16940741589393848, 'gamma': 2.650648050867175, 'reg_lambda': 0.4725802479433889, 'min_child_weight': 4.48926863589671}. Best is trial 82 with value: 0.6260148770866565.\n",
      "[I 2023-12-04 20:18:37,772] Trial 103 finished with value: 0.6225734567492678 and parameters: {'n_estimators': 476, 'max_depth': 3, 'learning_rate': 0.15779759300496748, 'gamma': 2.3456911278432817, 'reg_lambda': 0.5209132013141319, 'min_child_weight': 4.4673475710235815}. Best is trial 82 with value: 0.6260148770866565.\n",
      "[I 2023-12-04 20:18:39,974] Trial 104 finished with value: 0.6207707111796316 and parameters: {'n_estimators': 481, 'max_depth': 3, 'learning_rate': 0.16673202979266366, 'gamma': 1.6605970303823334, 'reg_lambda': 0.4665826823088918, 'min_child_weight': 4.465031976877039}. Best is trial 82 with value: 0.6260148770866565.\n",
      "[I 2023-12-04 20:18:42,208] Trial 105 finished with value: 0.6177720518800651 and parameters: {'n_estimators': 476, 'max_depth': 3, 'learning_rate': 0.13249855210567915, 'gamma': 2.3456767291700316, 'reg_lambda': 0.44914228906829196, 'min_child_weight': 4.631936503891702}. Best is trial 82 with value: 0.6260148770866565.\n",
      "[I 2023-12-04 20:18:44,972] Trial 106 finished with value: 0.6016799146805073 and parameters: {'n_estimators': 497, 'max_depth': 6, 'learning_rate': 0.1832682116613929, 'gamma': 0.6579101762694479, 'reg_lambda': 0.4910416300156728, 'min_child_weight': 4.504588348840008}. Best is trial 82 with value: 0.6260148770866565.\n",
      "[I 2023-12-04 20:18:47,262] Trial 107 finished with value: 0.6219408230519384 and parameters: {'n_estimators': 469, 'max_depth': 3, 'learning_rate': 0.09650631413917454, 'gamma': 2.164037565912917, 'reg_lambda': 0.4323392765357967, 'min_child_weight': 4.198867836157421}. Best is trial 82 with value: 0.6260148770866565.\n",
      "[I 2023-12-04 20:18:49,565] Trial 108 finished with value: 0.6173179668390363 and parameters: {'n_estimators': 466, 'max_depth': 3, 'learning_rate': 0.08357583984737865, 'gamma': 3.478841593906595, 'reg_lambda': 0.420397501300922, 'min_child_weight': 4.2438499652630135}. Best is trial 82 with value: 0.6260148770866565.\n",
      "[I 2023-12-04 20:18:51,746] Trial 109 finished with value: 0.6175378501773832 and parameters: {'n_estimators': 489, 'max_depth': 3, 'learning_rate': 0.15041562574310433, 'gamma': 2.6287281976558976, 'reg_lambda': 0.390920401005903, 'min_child_weight': 4.082294195406032}. Best is trial 82 with value: 0.6260148770866565.\n",
      "[I 2023-12-04 20:18:54,043] Trial 110 finished with value: 0.6206959141078787 and parameters: {'n_estimators': 447, 'max_depth': 3, 'learning_rate': 0.10233246661086391, 'gamma': 1.6772849723224228, 'reg_lambda': 0.4351254396971064, 'min_child_weight': 4.171584902339489}. Best is trial 82 with value: 0.6260148770866565.\n",
      "[I 2023-12-04 20:18:55,712] Trial 111 finished with value: 0.619852693866373 and parameters: {'n_estimators': 208, 'max_depth': 3, 'learning_rate': 0.15347847883092294, 'gamma': 2.1079635568082096, 'reg_lambda': 0.4702714007165694, 'min_child_weight': 4.40411916453677}. Best is trial 82 with value: 0.6260148770866565.\n",
      "[I 2023-12-04 20:18:58,059] Trial 112 finished with value: 0.6247766807119153 and parameters: {'n_estimators': 471, 'max_depth': 3, 'learning_rate': 0.12820984778089933, 'gamma': 0.9801733587514788, 'reg_lambda': 0.5234238135182671, 'min_child_weight': 4.354146343785435}. Best is trial 82 with value: 0.6260148770866565.\n",
      "[I 2023-12-04 20:19:00,848] Trial 113 finished with value: 0.6208355158278025 and parameters: {'n_estimators': 470, 'max_depth': 3, 'learning_rate': 0.06562801319401414, 'gamma': 0.9816789463223797, 'reg_lambda': 0.5286934268539001, 'min_child_weight': 4.339226284558932}. Best is trial 82 with value: 0.6260148770866565.\n",
      "[I 2023-12-04 20:19:04,023] Trial 114 finished with value: 0.6176387601974257 and parameters: {'n_estimators': 482, 'max_depth': 3, 'learning_rate': 0.04591220116362843, 'gamma': 0.5435447920626979, 'reg_lambda': 0.5168006365062323, 'min_child_weight': 4.596706552853697}. Best is trial 82 with value: 0.6260148770866565.\n",
      "[I 2023-12-04 20:19:06,386] Trial 115 finished with value: 0.6224304982896426 and parameters: {'n_estimators': 456, 'max_depth': 3, 'learning_rate': 0.09094413350866037, 'gamma': 1.3977548846889711, 'reg_lambda': 0.5770491660287601, 'min_child_weight': 3.9864590238187563}. Best is trial 82 with value: 0.6260148770866565.\n",
      "[I 2023-12-04 20:19:09,434] Trial 116 finished with value: 0.6196866987786852 and parameters: {'n_estimators': 456, 'max_depth': 3, 'learning_rate': 0.03860064253623455, 'gamma': 1.2929565027581242, 'reg_lambda': 0.5776266456537246, 'min_child_weight': 3.983398835483127}. Best is trial 82 with value: 0.6260148770866565.\n",
      "[I 2023-12-04 20:19:12,441] Trial 117 finished with value: 0.610997682524396 and parameters: {'n_estimators': 497, 'max_depth': 3, 'learning_rate': 0.07931238908814577, 'gamma': 0.3648047103979255, 'reg_lambda': 0.5743073143661908, 'min_child_weight': 4.22017404919226}. Best is trial 82 with value: 0.6260148770866565.\n",
      "[I 2023-12-04 20:19:15,017] Trial 118 finished with value: 0.6174630275474623 and parameters: {'n_estimators': 458, 'max_depth': 3, 'learning_rate': 0.11171991699143853, 'gamma': 1.5979274206346654, 'reg_lambda': 0.5069117176470492, 'min_child_weight': 4.671123863453396}. Best is trial 82 with value: 0.6260148770866565.\n",
      "[I 2023-12-04 20:19:17,499] Trial 119 finished with value: 0.6206874436666995 and parameters: {'n_estimators': 474, 'max_depth': 3, 'learning_rate': 0.09249543896081079, 'gamma': 1.1076495852774837, 'reg_lambda': 0.3002739298329116, 'min_child_weight': 4.353457184675584}. Best is trial 82 with value: 0.6260148770866565.\n",
      "[I 2023-12-04 20:19:21,498] Trial 120 finished with value: 0.587682067635608 and parameters: {'n_estimators': 487, 'max_depth': 4, 'learning_rate': 0.11324394848604835, 'gamma': 0.02699017538441928, 'reg_lambda': 0.5848438923336297, 'min_child_weight': 3.871471841965688}. Best is trial 82 with value: 0.6260148770866565.\n",
      "[I 2023-12-04 20:19:23,562] Trial 121 finished with value: 0.6198359515847489 and parameters: {'n_estimators': 402, 'max_depth': 3, 'learning_rate': 0.13369260483297857, 'gamma': 2.524775998719651, 'reg_lambda': 0.5480823777532885, 'min_child_weight': 4.049272089491958}. Best is trial 82 with value: 0.6260148770866565.\n",
      "[I 2023-12-04 20:19:26,280] Trial 122 finished with value: 0.6176845913826234 and parameters: {'n_estimators': 443, 'max_depth': 3, 'learning_rate': 0.06999610634771315, 'gamma': 2.854198421628545, 'reg_lambda': 0.25179742331274396, 'min_child_weight': 4.182785421370506}. Best is trial 82 with value: 0.6260148770866565.\n",
      "[I 2023-12-04 20:19:28,304] Trial 123 finished with value: 0.6187076578035677 and parameters: {'n_estimators': 426, 'max_depth': 3, 'learning_rate': 0.13228485723977018, 'gamma': 10.224804517681825, 'reg_lambda': 0.3217304851985371, 'min_child_weight': 3.774005205583225}. Best is trial 82 with value: 0.6260148770866565.\n",
      "[I 2023-12-04 20:19:30,391] Trial 124 finished with value: 0.6252396917790656 and parameters: {'n_estimators': 451, 'max_depth': 3, 'learning_rate': 0.2034197801520226, 'gamma': 1.9977082920304499, 'reg_lambda': 0.40635626987285517, 'min_child_weight': 4.538234053138386}. Best is trial 82 with value: 0.6260148770866565.\n",
      "[I 2023-12-04 20:19:32,450] Trial 125 finished with value: 0.6208654659154514 and parameters: {'n_estimators': 463, 'max_depth': 3, 'learning_rate': 0.20539468518546003, 'gamma': 1.9329868051263528, 'reg_lambda': 0.6214397268573348, 'min_child_weight': 4.500416140086678}. Best is trial 82 with value: 0.6260148770866565.\n",
      "[I 2023-12-04 20:19:34,544] Trial 126 finished with value: 0.6216820518367627 and parameters: {'n_estimators': 450, 'max_depth': 3, 'learning_rate': 0.17998885498207193, 'gamma': 1.4204525131594077, 'reg_lambda': 0.45147832410260325, 'min_child_weight': 4.569027146542003}. Best is trial 82 with value: 0.6260148770866565.\n",
      "[I 2023-12-04 20:19:36,775] Trial 127 finished with value: 0.6182486371516694 and parameters: {'n_estimators': 437, 'max_depth': 3, 'learning_rate': 0.149710373408715, 'gamma': 0.7384818802663093, 'reg_lambda': 0.49785032952158204, 'min_child_weight': 4.891691649941664}. Best is trial 82 with value: 0.6260148770866565.\n",
      "[I 2023-12-04 20:19:39,230] Trial 128 finished with value: 0.6192172107014047 and parameters: {'n_estimators': 471, 'max_depth': 3, 'learning_rate': 0.09030755051471498, 'gamma': 1.9607748015165876, 'reg_lambda': 0.4248290067065076, 'min_child_weight': 4.721063285025408}. Best is trial 82 with value: 0.6260148770866565.\n",
      "[I 2023-12-04 20:19:41,203] Trial 129 finished with value: 0.6065028705419299 and parameters: {'n_estimators': 453, 'max_depth': 2, 'learning_rate': 0.23723996836761524, 'gamma': 8.990501568840827, 'reg_lambda': 0.37968919004133445, 'min_child_weight': 4.286047522226972}. Best is trial 82 with value: 0.6260148770866565.\n",
      "[I 2023-12-04 20:19:43,380] Trial 130 finished with value: 0.6223696615894998 and parameters: {'n_estimators': 482, 'max_depth': 5, 'learning_rate': 0.21116169364254722, 'gamma': 3.870700173146371, 'reg_lambda': 0.287779057683174, 'min_child_weight': 4.41473196407898}. Best is trial 82 with value: 0.6260148770866565.\n",
      "[I 2023-12-04 20:19:45,555] Trial 131 finished with value: 0.6144838147137609 and parameters: {'n_estimators': 482, 'max_depth': 5, 'learning_rate': 0.2036233392213076, 'gamma': 3.6736655233557514, 'reg_lambda': 0.286026881954107, 'min_child_weight': 4.43841275027453}. Best is trial 82 with value: 0.6260148770866565.\n",
      "[I 2023-12-04 20:19:47,765] Trial 132 finished with value: 0.6151598279227658 and parameters: {'n_estimators': 500, 'max_depth': 5, 'learning_rate': 0.18259761522044768, 'gamma': 4.00861127938361, 'reg_lambda': 0.26239160819501567, 'min_child_weight': 4.360815800636456}. Best is trial 82 with value: 0.6260148770866565.\n",
      "[I 2023-12-04 20:19:49,597] Trial 133 finished with value: 0.6177045466072824 and parameters: {'n_estimators': 291, 'max_depth': 5, 'learning_rate': 0.22107216684666617, 'gamma': 2.324317774915494, 'reg_lambda': 0.32463610527372944, 'min_child_weight': 4.992548915913326}. Best is trial 82 with value: 0.6260148770866565.\n",
      "[I 2023-12-04 20:19:51,806] Trial 134 finished with value: 0.6202064431848991 and parameters: {'n_estimators': 476, 'max_depth': 5, 'learning_rate': 0.16933948046495462, 'gamma': 3.1800556776795914, 'reg_lambda': 0.22947636661741594, 'min_child_weight': 4.549223844240634}. Best is trial 82 with value: 0.6260148770866565.\n",
      "[I 2023-12-04 20:19:54,978] Trial 135 finished with value: 0.617680641910346 and parameters: {'n_estimators': 463, 'max_depth': 3, 'learning_rate': 0.02781923532977819, 'gamma': 1.2114814754633454, 'reg_lambda': 0.20891481722086008, 'min_child_weight': 3.9475836524552133}. Best is trial 82 with value: 0.6260148770866565.\n",
      "[I 2023-12-04 20:19:57,188] Trial 136 finished with value: 0.6091202348109771 and parameters: {'n_estimators': 490, 'max_depth': 5, 'learning_rate': 0.2630730885167678, 'gamma': 1.7398360639766772, 'reg_lambda': 0.28672622500559986, 'min_child_weight': 4.253368855927233}. Best is trial 82 with value: 0.6260148770866565.\n",
      "[I 2023-12-04 20:19:59,026] Trial 137 finished with value: 0.6203966632718103 and parameters: {'n_estimators': 309, 'max_depth': 3, 'learning_rate': 0.15305121839325345, 'gamma': 3.3504711577544706, 'reg_lambda': 0.1761851187409016, 'min_child_weight': 4.118188350545932}. Best is trial 82 with value: 0.6260148770866565.\n",
      "[I 2023-12-04 20:20:01,710] Trial 138 finished with value: 0.6173276440753945 and parameters: {'n_estimators': 446, 'max_depth': 5, 'learning_rate': 0.06306270512349348, 'gamma': 2.802049960974692, 'reg_lambda': 0.35841098682120026, 'min_child_weight': 4.659749133753518}. Best is trial 82 with value: 0.6260148770866565.\n",
      "[I 2023-12-04 20:20:03,766] Trial 139 finished with value: 0.6165646500291624 and parameters: {'n_estimators': 410, 'max_depth': 3, 'learning_rate': 0.1952727450867805, 'gamma': 2.093177970284088, 'reg_lambda': 0.3043502554934389, 'min_child_weight': 4.460893439774853}. Best is trial 82 with value: 0.6260148770866565.\n",
      "[I 2023-12-04 20:20:06,080] Trial 140 finished with value: 0.6181996717418754 and parameters: {'n_estimators': 390, 'max_depth': 3, 'learning_rate': 0.12238826618762302, 'gamma': 0.8000690066761316, 'reg_lambda': 0.2583681100881525, 'min_child_weight': 3.5241353960335604}. Best is trial 82 with value: 0.6260148770866565.\n",
      "[I 2023-12-04 20:20:08,212] Trial 141 finished with value: 0.6176511142760889 and parameters: {'n_estimators': 452, 'max_depth': 3, 'learning_rate': 0.18195990647967122, 'gamma': 1.3874681416770722, 'reg_lambda': 0.44038707128277826, 'min_child_weight': 4.532100835063358}. Best is trial 82 with value: 0.6260148770866565.\n",
      "[I 2023-12-04 20:20:10,188] Trial 142 finished with value: 0.6066621708610258 and parameters: {'n_estimators': 469, 'max_depth': 3, 'learning_rate': 0.235948961510902, 'gamma': 11.145899384336287, 'reg_lambda': 0.4105525286458951, 'min_child_weight': 4.593206256684259}. Best is trial 82 with value: 0.6260148770866565.\n",
      "[I 2023-12-04 20:20:12,211] Trial 143 finished with value: 0.6169492181860892 and parameters: {'n_estimators': 419, 'max_depth': 3, 'learning_rate': 0.21596342586281272, 'gamma': 1.501501049884542, 'reg_lambda': 0.4829609751709572, 'min_child_weight': 4.393820653416148}. Best is trial 82 with value: 0.6260148770866565.\n",
      "[I 2023-12-04 20:20:13,976] Trial 144 finished with value: 0.6192370196717418 and parameters: {'n_estimators': 277, 'max_depth': 3, 'learning_rate': 0.2771687493038735, 'gamma': 1.0861581411867967, 'reg_lambda': 0.46018180012459003, 'min_child_weight': 4.316281320387708}. Best is trial 82 with value: 0.6260148770866565.\n",
      "[I 2023-12-04 20:20:16,193] Trial 145 finished with value: 0.613094858379468 and parameters: {'n_estimators': 459, 'max_depth': 3, 'learning_rate': 0.4900926310321809, 'gamma': 2.474403099951786, 'reg_lambda': 0.4553848933624005, 'min_child_weight': 4.821434308494776}. Best is trial 82 with value: 0.6260148770866565.\n",
      "[I 2023-12-04 20:20:18,517] Trial 146 finished with value: 0.62068243739857 and parameters: {'n_estimators': 430, 'max_depth': 3, 'learning_rate': 0.10156172344046041, 'gamma': 1.8471401252755655, 'reg_lambda': 0.3936311340416019, 'min_child_weight': 4.175686807759369}. Best is trial 82 with value: 0.6260148770866565.\n",
      "[I 2023-12-04 20:20:20,636] Trial 147 finished with value: 0.6168998333554292 and parameters: {'n_estimators': 443, 'max_depth': 3, 'learning_rate': 0.157591893918203, 'gamma': 4.876696055751885, 'reg_lambda': 0.5428117813662545, 'min_child_weight': 4.707753965286374}. Best is trial 82 with value: 0.6260148770866565.\n",
      "[I 2023-12-04 20:20:22,773] Trial 148 finished with value: 0.6216593713713296 and parameters: {'n_estimators': 481, 'max_depth': 3, 'learning_rate': 0.14009862150776087, 'gamma': 2.730894565345813, 'reg_lambda': 0.5108704538849531, 'min_child_weight': 4.038137271044124}. Best is trial 82 with value: 0.6260148770866565.\n",
      "[I 2023-12-04 20:20:25,112] Trial 149 finished with value: 0.6205307220845782 and parameters: {'n_estimators': 454, 'max_depth': 3, 'learning_rate': 0.17225060823319643, 'gamma': 0.5124610029524467, 'reg_lambda': 0.4845721645334462, 'min_child_weight': 4.54166806714623}. Best is trial 82 with value: 0.6260148770866565.\n",
      "[I 2023-12-04 20:20:27,290] Trial 150 finished with value: 0.6208292501442334 and parameters: {'n_estimators': 470, 'max_depth': 3, 'learning_rate': 0.19482499350149188, 'gamma': 1.5440629566004072, 'reg_lambda': 0.439501272424112, 'min_child_weight': 4.39115125213589}. Best is trial 82 with value: 0.6260148770866565.\n",
      "[I 2023-12-04 20:20:29,489] Trial 151 finished with value: 0.618067263296586 and parameters: {'n_estimators': 478, 'max_depth': 3, 'learning_rate': 0.13816219182051193, 'gamma': 2.652311997556502, 'reg_lambda': 0.5157385620574161, 'min_child_weight': 3.9694101018222763}. Best is trial 82 with value: 0.6260148770866565.\n",
      "[I 2023-12-04 20:20:31,731] Trial 152 finished with value: 0.61690787474342 and parameters: {'n_estimators': 491, 'max_depth': 3, 'learning_rate': 0.12255410167077196, 'gamma': 2.084693625898347, 'reg_lambda': 0.4970545392014404, 'min_child_weight': 4.050348732084937}. Best is trial 82 with value: 0.6260148770866565.\n",
      "[I 2023-12-04 20:20:33,884] Trial 153 finished with value: 0.6103681377548842 and parameters: {'n_estimators': 481, 'max_depth': 3, 'learning_rate': 0.14669246257837357, 'gamma': 3.6272549947594896, 'reg_lambda': 0.5266421874292478, 'min_child_weight': 4.245161788030954}. Best is trial 82 with value: 0.6260148770866565.\n",
      "[I 2023-12-04 20:20:36,105] Trial 154 finished with value: 0.6190025480904072 and parameters: {'n_estimators': 465, 'max_depth': 3, 'learning_rate': 0.09857840078091207, 'gamma': 3.030127082062937, 'reg_lambda': 0.4569883406300805, 'min_child_weight': 3.834649431502869}. Best is trial 82 with value: 0.6260148770866565.\n",
      "[I 2023-12-04 20:20:38,399] Trial 155 finished with value: 0.616727791007154 and parameters: {'n_estimators': 487, 'max_depth': 3, 'learning_rate': 0.17744093487319398, 'gamma': 0.9837900125113732, 'reg_lambda': 0.5376203391050812, 'min_child_weight': 4.128489159965604}. Best is trial 82 with value: 0.6260148770866565.\n",
      "[I 2023-12-04 20:20:40,436] Trial 156 finished with value: 0.6219964028546665 and parameters: {'n_estimators': 438, 'max_depth': 3, 'learning_rate': 0.24912099741588536, 'gamma': 2.351505688612484, 'reg_lambda': 0.5062106728062984, 'min_child_weight': 4.59608781420357}. Best is trial 82 with value: 0.6260148770866565.\n",
      "[I 2023-12-04 20:20:42,352] Trial 157 finished with value: 0.609576615854769 and parameters: {'n_estimators': 439, 'max_depth': 3, 'learning_rate': 0.24478280182901077, 'gamma': 9.75598481191827, 'reg_lambda': 0.24374211942437213, 'min_child_weight': 4.611195324681786}. Best is trial 82 with value: 0.6260148770866565.\n",
      "[I 2023-12-04 20:20:45,883] Trial 158 finished with value: 0.6166540634636869 and parameters: {'n_estimators': 51, 'max_depth': 3, 'learning_rate': 0.26189237557004563, 'gamma': 2.3461178352226275, 'reg_lambda': 0.3397413127020867, 'min_child_weight': 4.452045418661379}. Best is trial 82 with value: 0.6260148770866565.\n",
      "[I 2023-12-04 20:20:48,262] Trial 159 finished with value: 0.6192267649587795 and parameters: {'n_estimators': 262, 'max_depth': 6, 'learning_rate': 0.22652059202500016, 'gamma': 5.935661484804352, 'reg_lambda': 0.27487240904079074, 'min_child_weight': 4.338848702404833}. Best is trial 82 with value: 0.6260148770866565.\n",
      "[I 2023-12-04 20:20:50,287] Trial 160 finished with value: 0.6227974450924456 and parameters: {'n_estimators': 421, 'max_depth': 3, 'learning_rate': 0.2108169923518612, 'gamma': 1.4153695916749616, 'reg_lambda': 0.41663384607988396, 'min_child_weight': 4.787763084131561}. Best is trial 82 with value: 0.6260148770866565.\n",
      "[I 2023-12-04 20:20:52,207] Trial 161 finished with value: 0.6196068682930032 and parameters: {'n_estimators': 418, 'max_depth': 3, 'learning_rate': 0.2110775206522532, 'gamma': 1.488569566595992, 'reg_lambda': 0.4016659085704317, 'min_child_weight': 4.773808424917013}. Best is trial 82 with value: 0.6260148770866565.\n",
      "[I 2023-12-04 20:20:54,176] Trial 162 finished with value: 0.6140839763584895 and parameters: {'n_estimators': 404, 'max_depth': 3, 'learning_rate': 0.2796038145901799, 'gamma': 1.8780776502584842, 'reg_lambda': 0.47624934048637907, 'min_child_weight': 4.861260844822413}. Best is trial 82 with value: 0.6260148770866565.\n",
      "[I 2023-12-04 20:20:56,243] Trial 163 finished with value: 0.6160205295400036 and parameters: {'n_estimators': 450, 'max_depth': 3, 'learning_rate': 0.2440521818348519, 'gamma': 1.1911495451262726, 'reg_lambda': 0.42411745031546855, 'min_child_weight': 4.660787366249195}. Best is trial 82 with value: 0.6260148770866565.\n",
      "[I 2023-12-04 20:20:58,492] Trial 164 finished with value: 0.6147613745823817 and parameters: {'n_estimators': 434, 'max_depth': 3, 'learning_rate': 0.18854587885448115, 'gamma': 0.2825844444656005, 'reg_lambda': 0.36364982413112457, 'min_child_weight': 4.549941545498747}. Best is trial 82 with value: 0.6260148770866565.\n",
      "[I 2023-12-04 20:21:00,479] Trial 165 finished with value: 0.6196972986087517 and parameters: {'n_estimators': 425, 'max_depth': 3, 'learning_rate': 0.20821395017396793, 'gamma': 2.0481111233231197, 'reg_lambda': 0.556136374229463, 'min_child_weight': 4.464025859526281}. Best is trial 82 with value: 0.6260148770866565.\n",
      "[I 2023-12-04 20:21:02,910] Trial 166 finished with value: 0.6083345505816474 and parameters: {'n_estimators': 442, 'max_depth': 5, 'learning_rate': 0.1625803163190538, 'gamma': 0.7012506546789028, 'reg_lambda': 0.3149848612567988, 'min_child_weight': 4.705280079120088}. Best is trial 82 with value: 0.6260148770866565.\n",
      "[I 2023-12-04 20:21:04,905] Trial 167 finished with value: 0.6032759002767974 and parameters: {'n_estimators': 460, 'max_depth': 3, 'learning_rate': 0.5474274935328824, 'gamma': 2.3205534892790327, 'reg_lambda': 0.381902378604798, 'min_child_weight': 4.245189269583733}. Best is trial 82 with value: 0.6260148770866565.\n",
      "[I 2023-12-04 20:21:07,007] Trial 168 finished with value: 0.6170643279641477 and parameters: {'n_estimators': 381, 'max_depth': 3, 'learning_rate': 0.11197480002001545, 'gamma': 1.6329238052466404, 'reg_lambda': 0.43587292017056134, 'min_child_weight': 4.614482729497428}. Best is trial 82 with value: 0.6260148770866565.\n",
      "[I 2023-12-04 20:21:09,178] Trial 169 finished with value: 0.6150501557316398 and parameters: {'n_estimators': 412, 'max_depth': 3, 'learning_rate': 0.08266249122583152, 'gamma': 3.1896716581676308, 'reg_lambda': 0.21872769709411627, 'min_child_weight': 4.893367207730913}. Best is trial 82 with value: 0.6260148770866565.\n",
      "[I 2023-12-04 20:21:11,201] Trial 170 finished with value: 0.6140640865826981 and parameters: {'n_estimators': 430, 'max_depth': 3, 'learning_rate': 0.2258704570441929, 'gamma': 3.9730907292594666, 'reg_lambda': 0.4600324437429501, 'min_child_weight': 4.39812436062866}. Best is trial 82 with value: 0.6260148770866565.\n",
      "[I 2023-12-04 20:21:13,350] Trial 171 finished with value: 0.6197133925282521 and parameters: {'n_estimators': 472, 'max_depth': 3, 'learning_rate': 0.13989323172466644, 'gamma': 2.779924959935574, 'reg_lambda': 0.5043138784234212, 'min_child_weight': 4.04147082202457}. Best is trial 82 with value: 0.6260148770866565.\n",
      "[I 2023-12-04 20:21:15,443] Trial 172 finished with value: 0.6173734857331086 and parameters: {'n_estimators': 447, 'max_depth': 3, 'learning_rate': 0.1680588665850726, 'gamma': 2.581106432800979, 'reg_lambda': 0.5114857467408687, 'min_child_weight': 4.184628794062296}. Best is trial 82 with value: 0.6260148770866565.\n",
      "[I 2023-12-04 20:21:17,790] Trial 173 finished with value: 0.612954018517172 and parameters: {'n_estimators': 459, 'max_depth': 3, 'learning_rate': 0.18847985199836703, 'gamma': 1.2940473309306815, 'reg_lambda': 0.4973420273311218, 'min_child_weight': 3.7457291678058993}. Best is trial 82 with value: 0.6260148770866565.\n",
      "[I 2023-12-04 20:21:19,534] Trial 174 finished with value: 0.6170845492399548 and parameters: {'n_estimators': 186, 'max_depth': 3, 'learning_rate': 0.12125861970921713, 'gamma': 2.097311394082803, 'reg_lambda': 0.596068992944833, 'min_child_weight': 4.50921147144127}. Best is trial 82 with value: 0.6260148770866565.\n",
      "[I 2023-12-04 20:21:21,288] Trial 175 finished with value: 0.6163179544554704 and parameters: {'n_estimators': 287, 'max_depth': 3, 'learning_rate': 0.1403272917019015, 'gamma': 3.3884918214747493, 'reg_lambda': 0.5650197238195726, 'min_child_weight': 4.325193622154032}. Best is trial 82 with value: 0.6260148770866565.\n",
      "[I 2023-12-04 20:21:23,238] Trial 176 finished with value: 0.6164980665837395 and parameters: {'n_estimators': 397, 'max_depth': 3, 'learning_rate': 0.25062006869511466, 'gamma': 2.7511869899777475, 'reg_lambda': 0.5241784323300139, 'min_child_weight': 3.905506306759687}. Best is trial 82 with value: 0.6260148770866565.\n",
      "[I 2023-12-04 20:21:25,440] Trial 177 finished with value: 0.6192820136707481 and parameters: {'n_estimators': 476, 'max_depth': 3, 'learning_rate': 0.2072955358900576, 'gamma': 0.943884457384878, 'reg_lambda': 0.47599042745115516, 'min_child_weight': 4.277006728182062}. Best is trial 82 with value: 0.6260148770866565.\n",
      "[I 2023-12-04 20:21:27,199] Trial 178 finished with value: 0.6222588207458475 and parameters: {'n_estimators': 271, 'max_depth': 3, 'learning_rate': 0.1623539204742755, 'gamma': 1.773081064469796, 'reg_lambda': 0.41269429984987827, 'min_child_weight': 4.427284074222199}. Best is trial 82 with value: 0.6260148770866565.\n",
      "[I 2023-12-04 20:21:29,046] Trial 179 finished with value: 0.6225457450994659 and parameters: {'n_estimators': 279, 'max_depth': 3, 'learning_rate': 0.17212905038255402, 'gamma': 1.7888913917352238, 'reg_lambda': 0.4139701541380116, 'min_child_weight': 4.429279812776933}. Best is trial 82 with value: 0.6260148770866565.\n",
      "[I 2023-12-04 20:21:30,696] Trial 180 finished with value: 0.6124007780349617 and parameters: {'n_estimators': 271, 'max_depth': 5, 'learning_rate': 0.4336566644843393, 'gamma': 1.8720308236697103, 'reg_lambda': 0.4194894334680351, 'min_child_weight': 4.444572581229429}. Best is trial 82 with value: 0.6260148770866565.\n",
      "[I 2023-12-04 20:21:32,438] Trial 181 finished with value: 0.6220073430366201 and parameters: {'n_estimators': 253, 'max_depth': 3, 'learning_rate': 0.17291008434682462, 'gamma': 1.552827122758361, 'reg_lambda': 0.40060979280494996, 'min_child_weight': 4.556640140880595}. Best is trial 82 with value: 0.6260148770866565.\n",
      "[I 2023-12-04 20:21:34,235] Trial 182 finished with value: 0.623862846948654 and parameters: {'n_estimators': 250, 'max_depth': 3, 'learning_rate': 0.15249632509802025, 'gamma': 1.6417809366448828, 'reg_lambda': 0.38747243077010096, 'min_child_weight': 4.395761330682325}. Best is trial 82 with value: 0.6260148770866565.\n",
      "[I 2023-12-04 20:21:36,005] Trial 183 finished with value: 0.6209949215822403 and parameters: {'n_estimators': 254, 'max_depth': 3, 'learning_rate': 0.15264108126768572, 'gamma': 1.6480358207924244, 'reg_lambda': 0.37551518047346455, 'min_child_weight': 4.354177263975395}. Best is trial 82 with value: 0.6260148770866565.\n",
      "[I 2023-12-04 20:21:37,773] Trial 184 finished with value: 0.620955336801587 and parameters: {'n_estimators': 231, 'max_depth': 3, 'learning_rate': 0.16293085183623549, 'gamma': 0.9723042072914381, 'reg_lambda': 0.4044402170836103, 'min_child_weight': 4.736863894657783}. Best is trial 82 with value: 0.6260148770866565.\n",
      "[I 2023-12-04 20:21:39,418] Trial 185 finished with value: 0.6102994164997559 and parameters: {'n_estimators': 246, 'max_depth': 3, 'learning_rate': 0.5139320491022814, 'gamma': 2.2194326630385905, 'reg_lambda': 0.4100520116335198, 'min_child_weight': 4.600413190716803}. Best is trial 82 with value: 0.6260148770866565.\n",
      "[I 2023-12-04 20:21:41,537] Trial 186 finished with value: 0.6136854013579512 and parameters: {'n_estimators': 258, 'max_depth': 3, 'learning_rate': 0.10194995773130577, 'gamma': 0.4522069251795884, 'reg_lambda': 0.38276063395141313, 'min_child_weight': 3.1484070803747835}. Best is trial 82 with value: 0.6260148770866565.\n",
      "[I 2023-12-04 20:21:43,477] Trial 187 finished with value: 0.6178846462220162 and parameters: {'n_estimators': 274, 'max_depth': 3, 'learning_rate': 0.1205703352568412, 'gamma': 1.368238763469539, 'reg_lambda': 0.35601429771733295, 'min_child_weight': 4.409502005023569}. Best is trial 82 with value: 0.6260148770866565.\n",
      "[I 2023-12-04 20:21:45,645] Trial 188 finished with value: 0.6214060837102984 and parameters: {'n_estimators': 280, 'max_depth': 3, 'learning_rate': 0.06296165323633504, 'gamma': 1.8019566815505947, 'reg_lambda': 0.43237519203414554, 'min_child_weight': 4.197410288992456}. Best is trial 82 with value: 0.6260148770866565.\n",
      "[I 2023-12-04 20:21:47,242] Trial 189 finished with value: 0.6124430496925413 and parameters: {'n_estimators': 242, 'max_depth': 3, 'learning_rate': 0.19080885869818276, 'gamma': 8.470375029772917, 'reg_lambda': 0.40209844335618083, 'min_child_weight': 2.7696469039276077}. Best is trial 82 with value: 0.6260148770866565.\n",
      "[I 2023-12-04 20:21:48,963] Trial 190 finished with value: 0.613040765870486 and parameters: {'n_estimators': 302, 'max_depth': 3, 'learning_rate': 0.16129476506049412, 'gamma': 7.567608688300135, 'reg_lambda': 0.3664036755207231, 'min_child_weight': 3.3832555720939013}. Best is trial 82 with value: 0.6260148770866565.\n",
      "[I 2023-12-04 20:21:50,630] Trial 191 finished with value: 0.6196577009911078 and parameters: {'n_estimators': 261, 'max_depth': 3, 'learning_rate': 0.21804942637412034, 'gamma': 2.3138444250470047, 'reg_lambda': 0.2996519700784628, 'min_child_weight': 4.497656990031521}. Best is trial 82 with value: 0.6260148770866565.\n",
      "[I 2023-12-04 20:21:52,300] Trial 192 finished with value: 0.6206603880559243 and parameters: {'n_estimators': 268, 'max_depth': 3, 'learning_rate': 0.3712560237727408, 'gamma': 1.8165863942258174, 'reg_lambda': 0.4235068650421334, 'min_child_weight': 4.5125773193123075}. Best is trial 82 with value: 0.6260148770866565.\n",
      "[I 2023-12-04 20:21:54,011] Trial 193 finished with value: 0.6213743464661737 and parameters: {'n_estimators': 218, 'max_depth': 3, 'learning_rate': 0.1770799645917454, 'gamma': 1.2758359269061352, 'reg_lambda': 0.33327530126293353, 'min_child_weight': 4.2929358305200696}. Best is trial 82 with value: 0.6260148770866565.\n",
      "[I 2023-12-04 20:21:55,798] Trial 194 finished with value: 0.6153724606968553 and parameters: {'n_estimators': 294, 'max_depth': 3, 'learning_rate': 0.19981326902835667, 'gamma': 2.3783497326812304, 'reg_lambda': 0.38588737937578743, 'min_child_weight': 4.638293561233335}. Best is trial 82 with value: 0.6260148770866565.\n",
      "[I 2023-12-04 20:21:57,744] Trial 195 finished with value: 0.6161478982237021 and parameters: {'n_estimators': 247, 'max_depth': 3, 'learning_rate': 0.13449345097081059, 'gamma': 0.8412367351283798, 'reg_lambda': 0.27321256060795945, 'min_child_weight': 4.393692237079228}. Best is trial 82 with value: 0.6260148770866565.\n",
      "[I 2023-12-04 20:21:59,387] Trial 196 finished with value: 0.6121646779388837 and parameters: {'n_estimators': 284, 'max_depth': 3, 'learning_rate': 0.48939300965074156, 'gamma': 4.517625034943875, 'reg_lambda': 0.44863615175899174, 'min_child_weight': 4.532737247345355}. Best is trial 82 with value: 0.6260148770866565.\n",
      "[I 2023-12-04 20:22:01,087] Trial 197 finished with value: 0.6219401797138898 and parameters: {'n_estimators': 273, 'max_depth': 3, 'learning_rate': 0.23228979133655547, 'gamma': 3.0027047573353602, 'reg_lambda': 0.24388793436689002, 'min_child_weight': 4.1366417823048405}. Best is trial 82 with value: 0.6260148770866565.\n",
      "[I 2023-12-04 20:22:02,600] Trial 198 finished with value: 0.6166823028280423 and parameters: {'n_estimators': 141, 'max_depth': 3, 'learning_rate': 0.29238263474752013, 'gamma': 2.959840431113937, 'reg_lambda': 0.1832288336989097, 'min_child_weight': 4.180085879761853}. Best is trial 82 with value: 0.6260148770866565.\n",
      "[I 2023-12-04 20:22:04,292] Trial 199 finished with value: 0.6189336965353002 and parameters: {'n_estimators': 268, 'max_depth': 5, 'learning_rate': 0.24970232218804286, 'gamma': 11.152808854293548, 'reg_lambda': 0.241959499186509, 'min_child_weight': 4.083578284143483}. Best is trial 82 with value: 0.6260148770866565.\n"
     ]
    }
   ],
   "source": [
    "study_xgb_smote.optimize(optuna_optimize, n_trials=200)"
   ],
   "metadata": {
    "collapsed": false,
    "ExecuteTime": {
     "end_time": "2023-12-04T17:22:04.328864200Z",
     "start_time": "2023-12-04T17:15:12.846335900Z"
    }
   }
  },
  {
   "cell_type": "code",
   "execution_count": 98,
   "outputs": [
    {
     "name": "stdout",
     "output_type": "stream",
     "text": [
      "Наилучшие значения гиперпараметров XGBoost: {'n_estimators': 280, 'max_depth': 3, 'learning_rate': 0.12590060383127358, 'gamma': 1.3644328880081138, 'reg_lambda': 0.3267487220370654, 'min_child_weight': 4.167040370933535}\n",
      "f1_score на обучающем наборе: 0.626\n"
     ]
    }
   ],
   "source": [
    "print(\"Наилучшие значения гиперпараметров XGBoost: {}\".format(study_xgb_smote.best_params))\n",
    "print(\"f1_score на обучающем наборе: {:.3f}\". format(study_xgb_smote.best_value))"
   ],
   "metadata": {
    "collapsed": false,
    "ExecuteTime": {
     "end_time": "2023-12-04T17:22:55.144780100Z",
     "start_time": "2023-12-04T17:22:54.982415400Z"
    }
   }
  },
  {
   "cell_type": "code",
   "execution_count": 99,
   "outputs": [],
   "source": [
    "with mlflow.start_run(nested=True,\n",
    "                      run_name='xgb_pipeline_smote'):\n",
    "\n",
    "    best_params = study_xgb_smote.best_params\n",
    "    best_score = study_xgb_smote.best_value\n",
    "    mlflow.log_params(best_params)\n",
    "\n",
    "    xgb_pipe_sm = Pipeline([\n",
    "        ('preprocessor', preprocessor),\n",
    "        ('smote', SMOTE(random_state=12345)),\n",
    "        ('model', xgb.XGBClassifier(**best_params,\n",
    "                                    random_state=12345))\n",
    "    ])\n",
    "\n",
    "    xgb_pipe_sm.fit(X_train, y_train)\n",
    "\n",
    "    pred_proba = xgb_pipe_sm.predict_proba(X_test)[:, 1]\n",
    "    roc_auc_xgb_sm = roc_auc_score(y_test, pred_proba)\n",
    "    \n",
    "    mlflow.log_metrics({\n",
    "        'f1_cv': best_score,\n",
    "        'roc_auc': roc_auc_xgb_sm,\n",
    "        'balanced_accuracy': balanced_accuracy_score(y_test, np.round(pred_proba, 0)),\n",
    "        'f1': f1_score(y_test, np.round(pred_proba, 0))\n",
    "    })\n",
    "\n",
    "    mlflow.sklearn.log_model(xgb_pipe_sm, 'xgb_pipeline_smote')"
   ],
   "metadata": {
    "collapsed": false,
    "ExecuteTime": {
     "end_time": "2023-12-04T17:23:16.082034800Z",
     "start_time": "2023-12-04T17:23:02.137719900Z"
    }
   }
  },
  {
   "cell_type": "markdown",
   "source": [
    "### 3.2.2 Случайный лес"
   ],
   "metadata": {
    "collapsed": false
   }
  },
  {
   "cell_type": "code",
   "execution_count": 52,
   "outputs": [],
   "source": [
    "def optuna_optimize(trial):\n",
    "    param = {\n",
    "        'n_estimators': trial.suggest_int('n_estimators', 50, 300),\n",
    "        'max_depth': trial.suggest_int('max_depth', 2, 10),\n",
    "        'min_samples_leaf': trial.suggest_int('min_samples_leaf', 2, 8)\n",
    "    }\n",
    "\n",
    "    estimator = RandomForestClassifier(**param,\n",
    "                                       random_state=12345)\n",
    "\n",
    "    rf_pipe = Pipeline([\n",
    "        ('preprocessor', preprocessor),\n",
    "        ('smote', SMOTE(random_state=12345)),\n",
    "        ('model', estimator)\n",
    "    ])\n",
    "\n",
    "    score = cross_val_score(rf_pipe, X_train, y_train, cv=5, scoring='f1').mean()\n",
    "    return score"
   ],
   "metadata": {
    "collapsed": false,
    "ExecuteTime": {
     "end_time": "2023-12-03T17:51:49.300010700Z",
     "start_time": "2023-12-03T17:51:49.169158600Z"
    }
   }
  },
  {
   "cell_type": "code",
   "execution_count": 53,
   "outputs": [
    {
     "name": "stderr",
     "output_type": "stream",
     "text": [
      "[I 2023-12-03 20:51:53,411] A new study created in memory with name: RandomForest Optuna Optimization SMOTE\n"
     ]
    }
   ],
   "source": [
    "study_rf_smote = optuna.create_study(study_name=\"RandomForest Optuna Optimization SMOTE\",\n",
    "                               direction='maximize')"
   ],
   "metadata": {
    "collapsed": false,
    "ExecuteTime": {
     "end_time": "2023-12-03T17:51:53.647233900Z",
     "start_time": "2023-12-03T17:51:53.411604Z"
    }
   }
  },
  {
   "cell_type": "code",
   "execution_count": 54,
   "outputs": [
    {
     "name": "stderr",
     "output_type": "stream",
     "text": [
      "[I 2023-12-03 20:52:48,101] Trial 0 finished with value: 0.6103503598971308 and parameters: {'n_estimators': 177, 'max_depth': 10, 'min_samples_leaf': 3}. Best is trial 0 with value: 0.6103503598971308.\n",
      "[I 2023-12-03 20:53:57,357] Trial 1 finished with value: 0.6120323701928718 and parameters: {'n_estimators': 268, 'max_depth': 10, 'min_samples_leaf': 6}. Best is trial 1 with value: 0.6120323701928718.\n",
      "[I 2023-12-03 20:54:11,690] Trial 2 finished with value: 0.6069136414767107 and parameters: {'n_estimators': 110, 'max_depth': 10, 'min_samples_leaf': 7}. Best is trial 1 with value: 0.6120323701928718.\n",
      "[I 2023-12-03 20:54:27,806] Trial 3 finished with value: 0.5884352491828644 and parameters: {'n_estimators': 188, 'max_depth': 5, 'min_samples_leaf': 5}. Best is trial 1 with value: 0.6120323701928718.\n",
      "[I 2023-12-03 20:54:34,695] Trial 4 finished with value: 0.5622070047463282 and parameters: {'n_estimators': 115, 'max_depth': 3, 'min_samples_leaf': 6}. Best is trial 1 with value: 0.6120323701928718.\n",
      "[I 2023-12-03 20:54:49,721] Trial 5 finished with value: 0.5639158708046523 and parameters: {'n_estimators': 282, 'max_depth': 3, 'min_samples_leaf': 3}. Best is trial 1 with value: 0.6120323701928718.\n",
      "[I 2023-12-03 20:54:57,390] Trial 6 finished with value: 0.5928174837695902 and parameters: {'n_estimators': 82, 'max_depth': 6, 'min_samples_leaf': 3}. Best is trial 1 with value: 0.6120323701928718.\n",
      "[I 2023-12-03 20:55:17,993] Trial 7 finished with value: 0.5881110725871503 and parameters: {'n_estimators': 270, 'max_depth': 5, 'min_samples_leaf': 8}. Best is trial 1 with value: 0.6120323701928718.\n",
      "[I 2023-12-03 20:55:33,915] Trial 8 finished with value: 0.5967979631934778 and parameters: {'n_estimators': 179, 'max_depth': 6, 'min_samples_leaf': 2}. Best is trial 1 with value: 0.6120323701928718.\n",
      "[I 2023-12-03 20:56:03,025] Trial 9 finished with value: 0.6098565328477449 and parameters: {'n_estimators': 237, 'max_depth': 10, 'min_samples_leaf': 8}. Best is trial 1 with value: 0.6120323701928718.\n",
      "[I 2023-12-03 20:56:26,809] Trial 10 finished with value: 0.6092227666684724 and parameters: {'n_estimators': 222, 'max_depth': 8, 'min_samples_leaf': 5}. Best is trial 1 with value: 0.6120323701928718.\n",
      "[I 2023-12-03 20:56:43,409] Trial 11 finished with value: 0.6041066504615425 and parameters: {'n_estimators': 152, 'max_depth': 8, 'min_samples_leaf': 4}. Best is trial 1 with value: 0.6120323701928718.\n",
      "[I 2023-12-03 20:57:15,443] Trial 12 finished with value: 0.6085608943393608 and parameters: {'n_estimators': 300, 'max_depth': 8, 'min_samples_leaf': 6}. Best is trial 1 with value: 0.6120323701928718.\n",
      "[I 2023-12-03 20:57:43,022] Trial 13 finished with value: 0.6074445273043461 and parameters: {'n_estimators': 233, 'max_depth': 9, 'min_samples_leaf': 2}. Best is trial 1 with value: 0.6120323701928718.\n",
      "[I 2023-12-03 20:57:50,374] Trial 14 finished with value: 0.6082159638073515 and parameters: {'n_estimators': 54, 'max_depth': 10, 'min_samples_leaf': 4}. Best is trial 1 with value: 0.6120323701928718.\n",
      "[I 2023-12-03 20:58:07,599] Trial 15 finished with value: 0.6118372858484726 and parameters: {'n_estimators': 145, 'max_depth': 9, 'min_samples_leaf': 6}. Best is trial 1 with value: 0.6120323701928718.\n",
      "[I 2023-12-03 20:58:21,809] Trial 16 finished with value: 0.6020671802798727 and parameters: {'n_estimators': 144, 'max_depth': 7, 'min_samples_leaf': 6}. Best is trial 1 with value: 0.6120323701928718.\n",
      "[I 2023-12-03 20:58:46,480] Trial 17 finished with value: 0.6086547600319288 and parameters: {'n_estimators': 208, 'max_depth': 9, 'min_samples_leaf': 7}. Best is trial 1 with value: 0.6120323701928718.\n",
      "[I 2023-12-03 20:59:03,790] Trial 18 finished with value: 0.6092546298149737 and parameters: {'n_estimators': 147, 'max_depth': 9, 'min_samples_leaf': 7}. Best is trial 1 with value: 0.6120323701928718.\n",
      "[I 2023-12-03 20:59:28,155] Trial 19 finished with value: 0.5997927181248401 and parameters: {'n_estimators': 247, 'max_depth': 7, 'min_samples_leaf': 5}. Best is trial 1 with value: 0.6120323701928718.\n",
      "[I 2023-12-03 20:59:39,029] Trial 20 finished with value: 0.5496904811339054 and parameters: {'n_estimators': 259, 'max_depth': 2, 'min_samples_leaf': 6}. Best is trial 1 with value: 0.6120323701928718.\n",
      "[I 2023-12-03 21:00:03,915] Trial 21 finished with value: 0.6094291400254152 and parameters: {'n_estimators': 195, 'max_depth': 10, 'min_samples_leaf': 4}. Best is trial 1 with value: 0.6120323701928718.\n",
      "[I 2023-12-03 21:00:18,388] Trial 22 finished with value: 0.605278448094419 and parameters: {'n_estimators': 121, 'max_depth': 9, 'min_samples_leaf': 5}. Best is trial 1 with value: 0.6120323701928718.\n",
      "[I 2023-12-03 21:00:39,792] Trial 23 finished with value: 0.6105158688582659 and parameters: {'n_estimators': 166, 'max_depth': 10, 'min_samples_leaf': 3}. Best is trial 1 with value: 0.6120323701928718.\n",
      "[I 2023-12-03 21:00:59,012] Trial 24 finished with value: 0.6082613780242785 and parameters: {'n_estimators': 166, 'max_depth': 9, 'min_samples_leaf': 7}. Best is trial 1 with value: 0.6120323701928718.\n",
      "[I 2023-12-03 21:01:13,208] Trial 25 finished with value: 0.6074335454084194 and parameters: {'n_estimators': 130, 'max_depth': 8, 'min_samples_leaf': 6}. Best is trial 1 with value: 0.6120323701928718.\n",
      "[I 2023-12-03 21:01:22,356] Trial 26 finished with value: 0.6018646045171405 and parameters: {'n_estimators': 90, 'max_depth': 7, 'min_samples_leaf': 4}. Best is trial 1 with value: 0.6120323701928718.\n",
      "[I 2023-12-03 21:01:48,458] Trial 27 finished with value: 0.6118875754252572 and parameters: {'n_estimators': 209, 'max_depth': 10, 'min_samples_leaf': 5}. Best is trial 1 with value: 0.6120323701928718.\n",
      "[I 2023-12-03 21:02:12,727] Trial 28 finished with value: 0.6088788686765952 and parameters: {'n_estimators': 209, 'max_depth': 9, 'min_samples_leaf': 6}. Best is trial 1 with value: 0.6120323701928718.\n",
      "[I 2023-12-03 21:02:49,586] Trial 29 finished with value: 0.6121792667089481 and parameters: {'n_estimators': 297, 'max_depth': 10, 'min_samples_leaf': 5}. Best is trial 29 with value: 0.6121792667089481.\n",
      "[I 2023-12-03 21:03:26,150] Trial 30 finished with value: 0.611205641445715 and parameters: {'n_estimators': 296, 'max_depth': 10, 'min_samples_leaf': 5}. Best is trial 29 with value: 0.6121792667089481.\n",
      "[I 2023-12-03 21:03:57,722] Trial 31 finished with value: 0.6085576002485479 and parameters: {'n_estimators': 273, 'max_depth': 9, 'min_samples_leaf': 5}. Best is trial 29 with value: 0.6121792667089481.\n",
      "[I 2023-12-03 21:04:29,236] Trial 32 finished with value: 0.6126667675046191 and parameters: {'n_estimators': 255, 'max_depth': 10, 'min_samples_leaf': 6}. Best is trial 32 with value: 0.6126667675046191.\n",
      "[I 2023-12-03 21:05:01,160] Trial 33 finished with value: 0.6107859980420874 and parameters: {'n_estimators': 257, 'max_depth': 10, 'min_samples_leaf': 5}. Best is trial 32 with value: 0.6126667675046191.\n",
      "[I 2023-12-03 21:05:35,918] Trial 34 finished with value: 0.6115752314989922 and parameters: {'n_estimators': 283, 'max_depth': 10, 'min_samples_leaf': 7}. Best is trial 32 with value: 0.6126667675046191.\n",
      "[I 2023-12-03 21:06:08,457] Trial 35 finished with value: 0.6126718092953309 and parameters: {'n_estimators': 254, 'max_depth': 10, 'min_samples_leaf': 6}. Best is trial 35 with value: 0.6126718092953309.\n",
      "[I 2023-12-03 21:06:36,056] Trial 36 finished with value: 0.6058916200192371 and parameters: {'n_estimators': 260, 'max_depth': 8, 'min_samples_leaf': 7}. Best is trial 35 with value: 0.6126718092953309.\n",
      "[I 2023-12-03 21:07:11,542] Trial 37 finished with value: 0.6106829638888684 and parameters: {'n_estimators': 287, 'max_depth': 10, 'min_samples_leaf': 6}. Best is trial 35 with value: 0.6126718092953309.\n",
      "[I 2023-12-03 21:07:27,428] Trial 38 finished with value: 0.579264927980464 and parameters: {'n_estimators': 244, 'max_depth': 4, 'min_samples_leaf': 7}. Best is trial 35 with value: 0.6126718092953309.\n",
      "[I 2023-12-03 21:08:00,246] Trial 39 finished with value: 0.6097718710605486 and parameters: {'n_estimators': 269, 'max_depth': 10, 'min_samples_leaf': 8}. Best is trial 35 with value: 0.6126718092953309.\n",
      "[I 2023-12-03 21:08:17,079] Trial 40 finished with value: 0.5891915599433654 and parameters: {'n_estimators': 221, 'max_depth': 5, 'min_samples_leaf': 6}. Best is trial 35 with value: 0.6126718092953309.\n",
      "[I 2023-12-03 21:08:51,827] Trial 41 finished with value: 0.6117855138845814 and parameters: {'n_estimators': 279, 'max_depth': 10, 'min_samples_leaf': 5}. Best is trial 35 with value: 0.6126718092953309.\n",
      "[I 2023-12-03 21:09:20,980] Trial 42 finished with value: 0.6096468284479647 and parameters: {'n_estimators': 251, 'max_depth': 9, 'min_samples_leaf': 5}. Best is trial 35 with value: 0.6126718092953309.\n",
      "[I 2023-12-03 21:09:50,090] Trial 43 finished with value: 0.6092130313754535 and parameters: {'n_estimators': 233, 'max_depth': 10, 'min_samples_leaf': 4}. Best is trial 35 with value: 0.6126718092953309.\n",
      "[I 2023-12-03 21:10:18,404] Trial 44 finished with value: 0.6081155604052538 and parameters: {'n_estimators': 267, 'max_depth': 8, 'min_samples_leaf': 6}. Best is trial 35 with value: 0.6126718092953309.\n",
      "[I 2023-12-03 21:10:54,619] Trial 45 finished with value: 0.6110222207376934 and parameters: {'n_estimators': 292, 'max_depth': 10, 'min_samples_leaf': 5}. Best is trial 35 with value: 0.6126718092953309.\n",
      "[I 2023-12-03 21:11:20,440] Trial 46 finished with value: 0.6105665566041072 and parameters: {'n_estimators': 222, 'max_depth': 9, 'min_samples_leaf': 6}. Best is trial 35 with value: 0.6126718092953309.\n",
      "[I 2023-12-03 21:11:45,017] Trial 47 finished with value: 0.6082450045741069 and parameters: {'n_estimators': 194, 'max_depth': 10, 'min_samples_leaf': 4}. Best is trial 35 with value: 0.6126718092953309.\n",
      "[I 2023-12-03 21:12:12,948] Trial 48 finished with value: 0.6090257387748401 and parameters: {'n_estimators': 240, 'max_depth': 9, 'min_samples_leaf': 5}. Best is trial 35 with value: 0.6126718092953309.\n",
      "[I 2023-12-03 21:12:30,904] Trial 49 finished with value: 0.5764718303821811 and parameters: {'n_estimators': 279, 'max_depth': 4, 'min_samples_leaf': 6}. Best is trial 35 with value: 0.6126718092953309.\n",
      "[I 2023-12-03 21:12:53,513] Trial 50 finished with value: 0.6046994297427956 and parameters: {'n_estimators': 210, 'max_depth': 8, 'min_samples_leaf': 7}. Best is trial 35 with value: 0.6126718092953309.\n",
      "[I 2023-12-03 21:13:16,208] Trial 51 finished with value: 0.6105792300069891 and parameters: {'n_estimators': 180, 'max_depth': 10, 'min_samples_leaf': 6}. Best is trial 35 with value: 0.6126718092953309.\n",
      "[I 2023-12-03 21:13:28,248] Trial 52 finished with value: 0.6119310952019399 and parameters: {'n_estimators': 100, 'max_depth': 9, 'min_samples_leaf': 6}. Best is trial 35 with value: 0.6126718092953309.\n",
      "[I 2023-12-03 21:13:54,803] Trial 53 finished with value: 0.6105089787510637 and parameters: {'n_estimators': 229, 'max_depth': 9, 'min_samples_leaf': 6}. Best is trial 35 with value: 0.6126718092953309.\n",
      "[I 2023-12-03 21:14:02,216] Trial 54 finished with value: 0.6105682260809667 and parameters: {'n_estimators': 55, 'max_depth': 10, 'min_samples_leaf': 5}. Best is trial 35 with value: 0.6126718092953309.\n",
      "[I 2023-12-03 21:14:14,925] Trial 55 finished with value: 0.6068951974605385 and parameters: {'n_estimators': 99, 'max_depth': 10, 'min_samples_leaf': 6}. Best is trial 35 with value: 0.6126718092953309.\n",
      "[I 2023-12-03 21:14:45,098] Trial 56 finished with value: 0.6083743317075394 and parameters: {'n_estimators': 260, 'max_depth': 9, 'min_samples_leaf': 7}. Best is trial 35 with value: 0.6126718092953309.\n",
      "[I 2023-12-03 21:15:21,338] Trial 57 finished with value: 0.6110222207376934 and parameters: {'n_estimators': 292, 'max_depth': 10, 'min_samples_leaf': 5}. Best is trial 35 with value: 0.6126718092953309.\n",
      "[I 2023-12-03 21:15:27,949] Trial 58 finished with value: 0.59275978724908 and parameters: {'n_estimators': 70, 'max_depth': 6, 'min_samples_leaf': 6}. Best is trial 35 with value: 0.6126718092953309.\n",
      "[I 2023-12-03 21:15:57,182] Trial 59 finished with value: 0.608387898123867 and parameters: {'n_estimators': 250, 'max_depth': 9, 'min_samples_leaf': 4}. Best is trial 35 with value: 0.6126718092953309.\n",
      "[I 2023-12-03 21:16:26,050] Trial 60 finished with value: 0.5996899436592743 and parameters: {'n_estimators': 299, 'max_depth': 7, 'min_samples_leaf': 5}. Best is trial 35 with value: 0.6126718092953309.\n",
      "[I 2023-12-03 21:16:42,356] Trial 61 finished with value: 0.6130420515434699 and parameters: {'n_estimators': 138, 'max_depth': 9, 'min_samples_leaf': 6}. Best is trial 61 with value: 0.6130420515434699.\n",
      "[I 2023-12-03 21:16:58,060] Trial 62 finished with value: 0.6123191178703341 and parameters: {'n_estimators': 133, 'max_depth': 9, 'min_samples_leaf': 6}. Best is trial 61 with value: 0.6130420515434699.\n",
      "[I 2023-12-03 21:17:13,471] Trial 63 finished with value: 0.6072451132112459 and parameters: {'n_estimators': 136, 'max_depth': 8, 'min_samples_leaf': 6}. Best is trial 61 with value: 0.6130420515434699.\n",
      "[I 2023-12-03 21:17:26,783] Trial 64 finished with value: 0.6109258444502325 and parameters: {'n_estimators': 110, 'max_depth': 9, 'min_samples_leaf': 6}. Best is trial 61 with value: 0.6130420515434699.\n",
      "[I 2023-12-03 21:17:45,782] Trial 65 finished with value: 0.6076838230933079 and parameters: {'n_estimators': 160, 'max_depth': 9, 'min_samples_leaf': 7}. Best is trial 61 with value: 0.6130420515434699.\n",
      "[I 2023-12-03 21:17:59,864] Trial 66 finished with value: 0.6113634642663951 and parameters: {'n_estimators': 118, 'max_depth': 9, 'min_samples_leaf': 6}. Best is trial 61 with value: 0.6130420515434699.\n",
      "[I 2023-12-03 21:18:10,461] Trial 67 finished with value: 0.6038719559198248 and parameters: {'n_estimators': 95, 'max_depth': 8, 'min_samples_leaf': 7}. Best is trial 61 with value: 0.6130420515434699.\n",
      "[I 2023-12-03 21:18:27,427] Trial 68 finished with value: 0.6098060724685005 and parameters: {'n_estimators': 135, 'max_depth': 10, 'min_samples_leaf': 6}. Best is trial 61 with value: 0.6130420515434699.\n",
      "[I 2023-12-03 21:18:40,318] Trial 69 finished with value: 0.609400585785583 and parameters: {'n_estimators': 108, 'max_depth': 9, 'min_samples_leaf': 7}. Best is trial 61 with value: 0.6130420515434699.\n",
      "[I 2023-12-03 21:18:51,148] Trial 70 finished with value: 0.6120526422252768 and parameters: {'n_estimators': 84, 'max_depth': 10, 'min_samples_leaf': 6}. Best is trial 61 with value: 0.6130420515434699.\n",
      "[I 2023-12-03 21:19:01,756] Trial 71 finished with value: 0.6095457597609011 and parameters: {'n_estimators': 82, 'max_depth': 10, 'min_samples_leaf': 6}. Best is trial 61 with value: 0.6130420515434699.\n",
      "[I 2023-12-03 21:19:10,741] Trial 72 finished with value: 0.6099414009896595 and parameters: {'n_estimators': 68, 'max_depth': 10, 'min_samples_leaf': 6}. Best is trial 61 with value: 0.6130420515434699.\n",
      "[I 2023-12-03 21:19:22,852] Trial 73 finished with value: 0.6110855626475408 and parameters: {'n_estimators': 101, 'max_depth': 9, 'min_samples_leaf': 6}. Best is trial 61 with value: 0.6130420515434699.\n",
      "[I 2023-12-03 21:19:28,352] Trial 74 finished with value: 0.5398726145319176 and parameters: {'n_estimators': 123, 'max_depth': 2, 'min_samples_leaf': 6}. Best is trial 61 with value: 0.6130420515434699.\n",
      "[I 2023-12-03 21:19:47,778] Trial 75 finished with value: 0.6098435170984287 and parameters: {'n_estimators': 156, 'max_depth': 10, 'min_samples_leaf': 7}. Best is trial 61 with value: 0.6130420515434699.\n",
      "[I 2023-12-03 21:19:58,779] Trial 76 finished with value: 0.6092902998864492 and parameters: {'n_estimators': 85, 'max_depth': 10, 'min_samples_leaf': 6}. Best is trial 61 with value: 0.6130420515434699.\n",
      "[I 2023-12-03 21:20:13,957] Trial 77 finished with value: 0.6042194164872444 and parameters: {'n_estimators': 127, 'max_depth': 9, 'min_samples_leaf': 5}. Best is trial 61 with value: 0.6130420515434699.\n",
      "[I 2023-12-03 21:20:22,531] Trial 78 finished with value: 0.6096974380943692 and parameters: {'n_estimators': 65, 'max_depth': 10, 'min_samples_leaf': 6}. Best is trial 61 with value: 0.6130420515434699.\n",
      "[I 2023-12-03 21:20:56,249] Trial 79 finished with value: 0.6123500138469695 and parameters: {'n_estimators': 275, 'max_depth': 10, 'min_samples_leaf': 7}. Best is trial 61 with value: 0.6130420515434699.\n",
      "[I 2023-12-03 21:21:31,282] Trial 80 finished with value: 0.6093022384619344 and parameters: {'n_estimators': 287, 'max_depth': 10, 'min_samples_leaf': 8}. Best is trial 61 with value: 0.6130420515434699.\n",
      "[I 2023-12-03 21:22:04,760] Trial 81 finished with value: 0.6108967294404147 and parameters: {'n_estimators': 273, 'max_depth': 10, 'min_samples_leaf': 7}. Best is trial 61 with value: 0.6130420515434699.\n",
      "[I 2023-12-03 21:22:38,395] Trial 82 finished with value: 0.6123500138469695 and parameters: {'n_estimators': 275, 'max_depth': 10, 'min_samples_leaf': 7}. Best is trial 61 with value: 0.6130420515434699.\n",
      "[I 2023-12-03 21:23:10,922] Trial 83 finished with value: 0.6103653428706376 and parameters: {'n_estimators': 267, 'max_depth': 10, 'min_samples_leaf': 8}. Best is trial 61 with value: 0.6130420515434699.\n",
      "[I 2023-12-03 21:23:41,931] Trial 84 finished with value: 0.6102244612581323 and parameters: {'n_estimators': 253, 'max_depth': 10, 'min_samples_leaf': 7}. Best is trial 61 with value: 0.6130420515434699.\n",
      "[I 2023-12-03 21:24:16,202] Trial 85 finished with value: 0.6109687603983777 and parameters: {'n_estimators': 280, 'max_depth': 10, 'min_samples_leaf': 7}. Best is trial 61 with value: 0.6130420515434699.\n",
      "[I 2023-12-03 21:24:48,814] Trial 86 finished with value: 0.6105472861364718 and parameters: {'n_estimators': 264, 'max_depth': 10, 'min_samples_leaf': 8}. Best is trial 61 with value: 0.6130420515434699.\n",
      "[I 2023-12-03 21:25:10,281] Trial 87 finished with value: 0.6097876376020942 and parameters: {'n_estimators': 173, 'max_depth': 10, 'min_samples_leaf': 7}. Best is trial 61 with value: 0.6130420515434699.\n",
      "[I 2023-12-03 21:25:42,331] Trial 88 finished with value: 0.6085563139895257 and parameters: {'n_estimators': 277, 'max_depth': 9, 'min_samples_leaf': 5}. Best is trial 61 with value: 0.6130420515434699.\n",
      "[I 2023-12-03 21:26:18,270] Trial 89 finished with value: 0.6108969872992206 and parameters: {'n_estimators': 286, 'max_depth': 10, 'min_samples_leaf': 3}. Best is trial 61 with value: 0.6130420515434699.\n",
      "[I 2023-12-03 21:26:49,431] Trial 90 finished with value: 0.60957860619628 and parameters: {'n_estimators': 245, 'max_depth': 10, 'min_samples_leaf': 2}. Best is trial 61 with value: 0.6130420515434699.\n",
      "[I 2023-12-03 21:27:06,818] Trial 91 finished with value: 0.6121935246827986 and parameters: {'n_estimators': 147, 'max_depth': 9, 'min_samples_leaf': 6}. Best is trial 61 with value: 0.6130420515434699.\n",
      "[I 2023-12-03 21:27:23,437] Trial 92 finished with value: 0.6121450743633625 and parameters: {'n_estimators': 140, 'max_depth': 9, 'min_samples_leaf': 6}. Best is trial 61 with value: 0.6130420515434699.\n",
      "[I 2023-12-03 21:27:40,996] Trial 93 finished with value: 0.6122059004201234 and parameters: {'n_estimators': 149, 'max_depth': 9, 'min_samples_leaf': 6}. Best is trial 61 with value: 0.6130420515434699.\n",
      "[I 2023-12-03 21:27:56,368] Trial 94 finished with value: 0.6082388427545883 and parameters: {'n_estimators': 142, 'max_depth': 8, 'min_samples_leaf': 6}. Best is trial 61 with value: 0.6130420515434699.\n",
      "[I 2023-12-03 21:28:13,318] Trial 95 finished with value: 0.6116066355366723 and parameters: {'n_estimators': 144, 'max_depth': 9, 'min_samples_leaf': 6}. Best is trial 61 with value: 0.6130420515434699.\n",
      "[I 2023-12-03 21:28:29,658] Trial 96 finished with value: 0.6053335841186327 and parameters: {'n_estimators': 150, 'max_depth': 8, 'min_samples_leaf': 5}. Best is trial 61 with value: 0.6130420515434699.\n",
      "[I 2023-12-03 21:28:46,100] Trial 97 finished with value: 0.6115037897658029 and parameters: {'n_estimators': 139, 'max_depth': 9, 'min_samples_leaf': 6}. Best is trial 61 with value: 0.6130420515434699.\n",
      "[I 2023-12-03 21:29:00,323] Trial 98 finished with value: 0.5940618687686193 and parameters: {'n_estimators': 160, 'max_depth': 6, 'min_samples_leaf': 7}. Best is trial 61 with value: 0.6130420515434699.\n",
      "[I 2023-12-03 21:29:14,872] Trial 99 finished with value: 0.6048249432522772 and parameters: {'n_estimators': 132, 'max_depth': 8, 'min_samples_leaf': 5}. Best is trial 61 with value: 0.6130420515434699.\n"
     ]
    }
   ],
   "source": [
    "study_rf_smote.optimize(optuna_optimize, n_trials=100)"
   ],
   "metadata": {
    "collapsed": false,
    "ExecuteTime": {
     "end_time": "2023-12-03T18:29:14.894108300Z",
     "start_time": "2023-12-03T17:51:58.026905200Z"
    }
   }
  },
  {
   "cell_type": "code",
   "execution_count": 55,
   "outputs": [
    {
     "name": "stdout",
     "output_type": "stream",
     "text": [
      "Наилучшие значения гиперпараметров RandomForest: {'n_estimators': 138, 'max_depth': 9, 'min_samples_leaf': 6}\n",
      "f1_score на обучающем наборе: 0.613\n"
     ]
    }
   ],
   "source": [
    "print(\"Наилучшие значения гиперпараметров RandomForest: {}\".format(study_rf_smote.best_params))\n",
    "print(\"f1_score на обучающем наборе: {:.3f}\". format(study_rf_smote.best_value))"
   ],
   "metadata": {
    "collapsed": false,
    "ExecuteTime": {
     "end_time": "2023-12-03T19:14:02.442762600Z",
     "start_time": "2023-12-03T19:14:02.404240100Z"
    }
   }
  },
  {
   "cell_type": "code",
   "execution_count": 56,
   "outputs": [],
   "source": [
    "with mlflow.start_run(nested=True,\n",
    "                      run_name='rf_pipeline_smote'):\n",
    "\n",
    "    best_params = study_rf_smote.best_params\n",
    "    best_score = study_rf_smote.best_value\n",
    "    mlflow.log_params(best_params)\n",
    "\n",
    "    rf_pipe_sm = Pipeline([\n",
    "        ('preprocessor', preprocessor),\n",
    "        ('smote', SMOTE(random_state=12345)),\n",
    "        ('model', RandomForestClassifier(**best_params,\n",
    "                                         random_state=12345))\n",
    "    ])\n",
    "\n",
    "    rf_pipe_sm.fit(X_train, y_train)\n",
    "\n",
    "    pred_proba = rf_pipe_sm.predict_proba(X_test)[:, 1]\n",
    "    roc_auc_rf_sm = roc_auc_score(y_test, pred_proba)\n",
    "    \n",
    "    mlflow.log_metrics({\n",
    "        'f1_cv': best_score,\n",
    "        'roc_auc': roc_auc_rf_sm,\n",
    "        'balanced_accuracy': balanced_accuracy_score(y_test, np.round(pred_proba, 0)),\n",
    "        'f1': f1_score(y_test, np.round(pred_proba, 0))\n",
    "    })\n",
    "    \n",
    "    mlflow.sklearn.log_model(rf_pipe_sm, 'rf_pipeline_smote')"
   ],
   "metadata": {
    "collapsed": false,
    "ExecuteTime": {
     "end_time": "2023-12-03T19:14:15.460946800Z",
     "start_time": "2023-12-03T19:14:04.151734100Z"
    }
   }
  },
  {
   "cell_type": "markdown",
   "source": [
    "### 3.2.3 Логистическая регрессия"
   ],
   "metadata": {
    "collapsed": false
   }
  },
  {
   "cell_type": "code",
   "execution_count": 57,
   "outputs": [],
   "source": [
    "cat_pipeline = Pipeline([\n",
    "    ('enc', OneHotEncoder(handle_unknown='error', drop='first'))\n",
    "])\n",
    "\n",
    "num_pipeline = Pipeline([\n",
    "    ('imp', SimpleImputer(fill_value=-1, add_indicator=True)),\n",
    "    ('pt', PowerTransformer()),\n",
    "    ('scal', StandardScaler())\n",
    "])\n",
    "\n",
    "preprocessor = ColumnTransformer([\n",
    "    (\"cat\", cat_pipeline, categorical_features),\n",
    "    (\"num\", num_pipeline, numeric_features)\n",
    "], remainder='passthrough')"
   ],
   "metadata": {
    "collapsed": false,
    "ExecuteTime": {
     "end_time": "2023-12-03T19:14:15.501799100Z",
     "start_time": "2023-12-03T19:14:15.469706Z"
    }
   }
  },
  {
   "cell_type": "code",
   "execution_count": 58,
   "outputs": [],
   "source": [
    "def optuna_optimize(trial):\n",
    "    param = {\n",
    "        'solver': trial.suggest_categorical('solver', ['lbfgs', 'saga'])\n",
    "    }\n",
    "\n",
    "    if param['solver'] == 'lbfgs':\n",
    "        param['penalty'] = 'l2' \n",
    "\n",
    "    if param['solver'] == 'saga':\n",
    "        param['penalty'] = 'elasticnet' \n",
    "        param['C'] = trial.suggest_float('C', 0.01, 100) # какие тут значения?\n",
    "        param['l1_ratio'] = trial.suggest_float('l1_ratio', 0, 1)\n",
    "        param['max_iter'] = 1000 \n",
    "\n",
    "    estimator = LogisticRegression(**param,\n",
    "                                   random_state=12345)\n",
    "\n",
    "    log_reg_pipe = Pipeline([\n",
    "        ('preprocessor', preprocessor),\n",
    "        ('smote', SMOTE(random_state=12345)),\n",
    "        ('model', estimator)\n",
    "    ])\n",
    "\n",
    "    score = cross_val_score(log_reg_pipe, X_train, y_train, cv=5, scoring='f1').mean()\n",
    "    return score"
   ],
   "metadata": {
    "collapsed": false,
    "ExecuteTime": {
     "end_time": "2023-12-03T19:14:15.555443100Z",
     "start_time": "2023-12-03T19:14:15.485008900Z"
    }
   }
  },
  {
   "cell_type": "code",
   "execution_count": 59,
   "outputs": [
    {
     "name": "stderr",
     "output_type": "stream",
     "text": [
      "[I 2023-12-03 22:14:15,500] A new study created in memory with name: LogisticRegression Optuna Optimization SMOTE\n"
     ]
    }
   ],
   "source": [
    "study_log_reg_smote = optuna.create_study(study_name=\"LogisticRegression Optuna Optimization SMOTE\",\n",
    "                                    direction='maximize')"
   ],
   "metadata": {
    "collapsed": false,
    "ExecuteTime": {
     "end_time": "2023-12-03T19:14:15.569837400Z",
     "start_time": "2023-12-03T19:14:15.498188400Z"
    }
   }
  },
  {
   "cell_type": "code",
   "execution_count": 60,
   "outputs": [
    {
     "name": "stderr",
     "output_type": "stream",
     "text": [
      "[I 2023-12-03 22:14:17,727] Trial 0 finished with value: 0.4931691414132686 and parameters: {'solver': 'lbfgs'}. Best is trial 0 with value: 0.4931691414132686.\n",
      "[I 2023-12-03 22:14:18,392] Trial 1 finished with value: 0.4931691414132686 and parameters: {'solver': 'lbfgs'}. Best is trial 0 with value: 0.4931691414132686.\n",
      "[I 2023-12-03 22:14:19,045] Trial 2 finished with value: 0.4931691414132686 and parameters: {'solver': 'lbfgs'}. Best is trial 0 with value: 0.4931691414132686.\n",
      "[I 2023-12-03 22:14:19,907] Trial 3 finished with value: 0.49305864444463354 and parameters: {'solver': 'saga', 'C': 8.305205815636853, 'l1_ratio': 0.09785984244984902}. Best is trial 0 with value: 0.4931691414132686.\n",
      "[I 2023-12-03 22:14:20,761] Trial 4 finished with value: 0.49305864444463354 and parameters: {'solver': 'saga', 'C': 31.790984080876587, 'l1_ratio': 0.5396807007680371}. Best is trial 0 with value: 0.4931691414132686.\n",
      "[I 2023-12-03 22:14:21,466] Trial 5 finished with value: 0.4931691414132686 and parameters: {'solver': 'lbfgs'}. Best is trial 0 with value: 0.4931691414132686.\n",
      "[I 2023-12-03 22:14:22,509] Trial 6 finished with value: 0.49305864444463354 and parameters: {'solver': 'saga', 'C': 75.34954788591718, 'l1_ratio': 0.014087476007757171}. Best is trial 0 with value: 0.4931691414132686.\n",
      "[I 2023-12-03 22:14:23,257] Trial 7 finished with value: 0.4931691414132686 and parameters: {'solver': 'lbfgs'}. Best is trial 0 with value: 0.4931691414132686.\n",
      "[I 2023-12-03 22:14:24,623] Trial 8 finished with value: 0.4931691414132686 and parameters: {'solver': 'lbfgs'}. Best is trial 0 with value: 0.4931691414132686.\n",
      "[I 2023-12-03 22:14:25,650] Trial 9 finished with value: 0.4931691414132686 and parameters: {'solver': 'lbfgs'}. Best is trial 0 with value: 0.4931691414132686.\n",
      "[I 2023-12-03 22:14:26,601] Trial 10 finished with value: 0.49305864444463354 and parameters: {'solver': 'saga', 'C': 97.70448320845352, 'l1_ratio': 0.9267838159616275}. Best is trial 0 with value: 0.4931691414132686.\n",
      "[I 2023-12-03 22:14:27,272] Trial 11 finished with value: 0.4931691414132686 and parameters: {'solver': 'lbfgs'}. Best is trial 0 with value: 0.4931691414132686.\n",
      "[I 2023-12-03 22:14:27,955] Trial 12 finished with value: 0.4931691414132686 and parameters: {'solver': 'lbfgs'}. Best is trial 0 with value: 0.4931691414132686.\n",
      "[I 2023-12-03 22:14:28,913] Trial 13 finished with value: 0.4931691414132686 and parameters: {'solver': 'lbfgs'}. Best is trial 0 with value: 0.4931691414132686.\n",
      "[I 2023-12-03 22:14:29,795] Trial 14 finished with value: 0.4931691414132686 and parameters: {'solver': 'lbfgs'}. Best is trial 0 with value: 0.4931691414132686.\n",
      "[I 2023-12-03 22:14:30,707] Trial 15 finished with value: 0.4931691414132686 and parameters: {'solver': 'lbfgs'}. Best is trial 0 with value: 0.4931691414132686.\n",
      "[I 2023-12-03 22:14:31,511] Trial 16 finished with value: 0.4931691414132686 and parameters: {'solver': 'lbfgs'}. Best is trial 0 with value: 0.4931691414132686.\n",
      "[I 2023-12-03 22:14:32,421] Trial 17 finished with value: 0.4931691414132686 and parameters: {'solver': 'lbfgs'}. Best is trial 0 with value: 0.4931691414132686.\n",
      "[I 2023-12-03 22:14:33,618] Trial 18 finished with value: 0.49305864444463354 and parameters: {'solver': 'saga', 'C': 46.08594515244077, 'l1_ratio': 0.896924484078568}. Best is trial 0 with value: 0.4931691414132686.\n",
      "[I 2023-12-03 22:14:34,468] Trial 19 finished with value: 0.4931691414132686 and parameters: {'solver': 'lbfgs'}. Best is trial 0 with value: 0.4931691414132686.\n",
      "[I 2023-12-03 22:14:35,382] Trial 20 finished with value: 0.4931691414132686 and parameters: {'solver': 'lbfgs'}. Best is trial 0 with value: 0.4931691414132686.\n",
      "[I 2023-12-03 22:14:36,255] Trial 21 finished with value: 0.4931691414132686 and parameters: {'solver': 'lbfgs'}. Best is trial 0 with value: 0.4931691414132686.\n",
      "[I 2023-12-03 22:14:37,104] Trial 22 finished with value: 0.4931691414132686 and parameters: {'solver': 'lbfgs'}. Best is trial 0 with value: 0.4931691414132686.\n",
      "[I 2023-12-03 22:14:37,972] Trial 23 finished with value: 0.4931691414132686 and parameters: {'solver': 'lbfgs'}. Best is trial 0 with value: 0.4931691414132686.\n",
      "[I 2023-12-03 22:14:38,883] Trial 24 finished with value: 0.4931691414132686 and parameters: {'solver': 'lbfgs'}. Best is trial 0 with value: 0.4931691414132686.\n",
      "[I 2023-12-03 22:14:39,770] Trial 25 finished with value: 0.4931691414132686 and parameters: {'solver': 'lbfgs'}. Best is trial 0 with value: 0.4931691414132686.\n",
      "[I 2023-12-03 22:14:40,936] Trial 26 finished with value: 0.49305864444463354 and parameters: {'solver': 'saga', 'C': 3.3986096261819654, 'l1_ratio': 0.38461329934236854}. Best is trial 0 with value: 0.4931691414132686.\n",
      "[I 2023-12-03 22:14:41,873] Trial 27 finished with value: 0.4931691414132686 and parameters: {'solver': 'lbfgs'}. Best is trial 0 with value: 0.4931691414132686.\n",
      "[I 2023-12-03 22:14:42,770] Trial 28 finished with value: 0.4931691414132686 and parameters: {'solver': 'lbfgs'}. Best is trial 0 with value: 0.4931691414132686.\n",
      "[I 2023-12-03 22:14:44,046] Trial 29 finished with value: 0.49305864444463354 and parameters: {'solver': 'saga', 'C': 65.4926496160856, 'l1_ratio': 0.6259477236945759}. Best is trial 0 with value: 0.4931691414132686.\n",
      "[I 2023-12-03 22:14:44,955] Trial 30 finished with value: 0.4931691414132686 and parameters: {'solver': 'lbfgs'}. Best is trial 0 with value: 0.4931691414132686.\n",
      "[I 2023-12-03 22:14:45,923] Trial 31 finished with value: 0.4931691414132686 and parameters: {'solver': 'lbfgs'}. Best is trial 0 with value: 0.4931691414132686.\n",
      "[I 2023-12-03 22:14:46,856] Trial 32 finished with value: 0.4931691414132686 and parameters: {'solver': 'lbfgs'}. Best is trial 0 with value: 0.4931691414132686.\n",
      "[I 2023-12-03 22:14:47,740] Trial 33 finished with value: 0.4931691414132686 and parameters: {'solver': 'lbfgs'}. Best is trial 0 with value: 0.4931691414132686.\n",
      "[I 2023-12-03 22:14:48,931] Trial 34 finished with value: 0.49305864444463354 and parameters: {'solver': 'saga', 'C': 34.13822733197978, 'l1_ratio': 0.2652842657367389}. Best is trial 0 with value: 0.4931691414132686.\n",
      "[I 2023-12-03 22:14:49,839] Trial 35 finished with value: 0.4931691414132686 and parameters: {'solver': 'lbfgs'}. Best is trial 0 with value: 0.4931691414132686.\n",
      "[I 2023-12-03 22:14:50,741] Trial 36 finished with value: 0.4931691414132686 and parameters: {'solver': 'lbfgs'}. Best is trial 0 with value: 0.4931691414132686.\n",
      "[I 2023-12-03 22:14:51,868] Trial 37 finished with value: 0.49305864444463354 and parameters: {'solver': 'saga', 'C': 94.45902562660683, 'l1_ratio': 0.7251694733593765}. Best is trial 0 with value: 0.4931691414132686.\n",
      "[I 2023-12-03 22:14:52,775] Trial 38 finished with value: 0.4931691414132686 and parameters: {'solver': 'lbfgs'}. Best is trial 0 with value: 0.4931691414132686.\n",
      "[I 2023-12-03 22:14:53,684] Trial 39 finished with value: 0.4931691414132686 and parameters: {'solver': 'lbfgs'}. Best is trial 0 with value: 0.4931691414132686.\n",
      "[I 2023-12-03 22:14:54,570] Trial 40 finished with value: 0.4931691414132686 and parameters: {'solver': 'lbfgs'}. Best is trial 0 with value: 0.4931691414132686.\n",
      "[I 2023-12-03 22:14:55,411] Trial 41 finished with value: 0.4931691414132686 and parameters: {'solver': 'lbfgs'}. Best is trial 0 with value: 0.4931691414132686.\n",
      "[I 2023-12-03 22:14:56,285] Trial 42 finished with value: 0.4931691414132686 and parameters: {'solver': 'lbfgs'}. Best is trial 0 with value: 0.4931691414132686.\n",
      "[I 2023-12-03 22:14:57,183] Trial 43 finished with value: 0.4931691414132686 and parameters: {'solver': 'lbfgs'}. Best is trial 0 with value: 0.4931691414132686.\n",
      "[I 2023-12-03 22:14:58,087] Trial 44 finished with value: 0.4931691414132686 and parameters: {'solver': 'lbfgs'}. Best is trial 0 with value: 0.4931691414132686.\n",
      "[I 2023-12-03 22:14:59,052] Trial 45 finished with value: 0.4931691414132686 and parameters: {'solver': 'lbfgs'}. Best is trial 0 with value: 0.4931691414132686.\n",
      "[I 2023-12-03 22:15:00,012] Trial 46 finished with value: 0.4931691414132686 and parameters: {'solver': 'lbfgs'}. Best is trial 0 with value: 0.4931691414132686.\n",
      "[I 2023-12-03 22:15:01,263] Trial 47 finished with value: 0.49305864444463354 and parameters: {'solver': 'saga', 'C': 61.29104432340605, 'l1_ratio': 0.34629308554179156}. Best is trial 0 with value: 0.4931691414132686.\n",
      "[I 2023-12-03 22:15:02,145] Trial 48 finished with value: 0.4931691414132686 and parameters: {'solver': 'lbfgs'}. Best is trial 0 with value: 0.4931691414132686.\n",
      "[I 2023-12-03 22:15:03,075] Trial 49 finished with value: 0.4931691414132686 and parameters: {'solver': 'lbfgs'}. Best is trial 0 with value: 0.4931691414132686.\n",
      "[I 2023-12-03 22:15:04,045] Trial 50 finished with value: 0.4931691414132686 and parameters: {'solver': 'lbfgs'}. Best is trial 0 with value: 0.4931691414132686.\n",
      "[I 2023-12-03 22:15:05,003] Trial 51 finished with value: 0.4931691414132686 and parameters: {'solver': 'lbfgs'}. Best is trial 0 with value: 0.4931691414132686.\n",
      "[I 2023-12-03 22:15:05,913] Trial 52 finished with value: 0.4931691414132686 and parameters: {'solver': 'lbfgs'}. Best is trial 0 with value: 0.4931691414132686.\n",
      "[I 2023-12-03 22:15:06,837] Trial 53 finished with value: 0.4931691414132686 and parameters: {'solver': 'lbfgs'}. Best is trial 0 with value: 0.4931691414132686.\n",
      "[I 2023-12-03 22:15:07,771] Trial 54 finished with value: 0.4931691414132686 and parameters: {'solver': 'lbfgs'}. Best is trial 0 with value: 0.4931691414132686.\n",
      "[I 2023-12-03 22:15:08,609] Trial 55 finished with value: 0.4931691414132686 and parameters: {'solver': 'lbfgs'}. Best is trial 0 with value: 0.4931691414132686.\n",
      "[I 2023-12-03 22:15:09,512] Trial 56 finished with value: 0.4931691414132686 and parameters: {'solver': 'lbfgs'}. Best is trial 0 with value: 0.4931691414132686.\n",
      "[I 2023-12-03 22:15:10,442] Trial 57 finished with value: 0.4931691414132686 and parameters: {'solver': 'lbfgs'}. Best is trial 0 with value: 0.4931691414132686.\n",
      "[I 2023-12-03 22:15:11,622] Trial 58 finished with value: 0.49305864444463354 and parameters: {'solver': 'saga', 'C': 21.96580810394407, 'l1_ratio': 0.7462093429125424}. Best is trial 0 with value: 0.4931691414132686.\n",
      "[I 2023-12-03 22:15:12,514] Trial 59 finished with value: 0.4931691414132686 and parameters: {'solver': 'lbfgs'}. Best is trial 0 with value: 0.4931691414132686.\n",
      "[I 2023-12-03 22:15:13,414] Trial 60 finished with value: 0.4931691414132686 and parameters: {'solver': 'lbfgs'}. Best is trial 0 with value: 0.4931691414132686.\n",
      "[I 2023-12-03 22:15:14,381] Trial 61 finished with value: 0.4931691414132686 and parameters: {'solver': 'lbfgs'}. Best is trial 0 with value: 0.4931691414132686.\n",
      "[I 2023-12-03 22:15:15,295] Trial 62 finished with value: 0.4931691414132686 and parameters: {'solver': 'lbfgs'}. Best is trial 0 with value: 0.4931691414132686.\n",
      "[I 2023-12-03 22:15:16,196] Trial 63 finished with value: 0.4931691414132686 and parameters: {'solver': 'lbfgs'}. Best is trial 0 with value: 0.4931691414132686.\n",
      "[I 2023-12-03 22:15:17,141] Trial 64 finished with value: 0.4931691414132686 and parameters: {'solver': 'lbfgs'}. Best is trial 0 with value: 0.4931691414132686.\n",
      "[I 2023-12-03 22:15:18,087] Trial 65 finished with value: 0.4931691414132686 and parameters: {'solver': 'lbfgs'}. Best is trial 0 with value: 0.4931691414132686.\n",
      "[I 2023-12-03 22:15:19,097] Trial 66 finished with value: 0.4931691414132686 and parameters: {'solver': 'lbfgs'}. Best is trial 0 with value: 0.4931691414132686.\n",
      "[I 2023-12-03 22:15:20,325] Trial 67 finished with value: 0.49305864444463354 and parameters: {'solver': 'saga', 'C': 79.05218539779268, 'l1_ratio': 0.18117899789831748}. Best is trial 0 with value: 0.4931691414132686.\n",
      "[I 2023-12-03 22:15:21,275] Trial 68 finished with value: 0.4931691414132686 and parameters: {'solver': 'lbfgs'}. Best is trial 0 with value: 0.4931691414132686.\n",
      "[I 2023-12-03 22:15:22,225] Trial 69 finished with value: 0.4931691414132686 and parameters: {'solver': 'lbfgs'}. Best is trial 0 with value: 0.4931691414132686.\n",
      "[I 2023-12-03 22:15:23,174] Trial 70 finished with value: 0.4931691414132686 and parameters: {'solver': 'lbfgs'}. Best is trial 0 with value: 0.4931691414132686.\n",
      "[I 2023-12-03 22:15:24,138] Trial 71 finished with value: 0.4931691414132686 and parameters: {'solver': 'lbfgs'}. Best is trial 0 with value: 0.4931691414132686.\n",
      "[I 2023-12-03 22:15:25,068] Trial 72 finished with value: 0.4931691414132686 and parameters: {'solver': 'lbfgs'}. Best is trial 0 with value: 0.4931691414132686.\n",
      "[I 2023-12-03 22:15:25,973] Trial 73 finished with value: 0.4931691414132686 and parameters: {'solver': 'lbfgs'}. Best is trial 0 with value: 0.4931691414132686.\n",
      "[I 2023-12-03 22:15:26,958] Trial 74 finished with value: 0.4931691414132686 and parameters: {'solver': 'lbfgs'}. Best is trial 0 with value: 0.4931691414132686.\n",
      "[I 2023-12-03 22:15:27,925] Trial 75 finished with value: 0.4931691414132686 and parameters: {'solver': 'lbfgs'}. Best is trial 0 with value: 0.4931691414132686.\n",
      "[I 2023-12-03 22:15:28,891] Trial 76 finished with value: 0.4931691414132686 and parameters: {'solver': 'lbfgs'}. Best is trial 0 with value: 0.4931691414132686.\n",
      "[I 2023-12-03 22:15:30,122] Trial 77 finished with value: 0.49305864444463354 and parameters: {'solver': 'saga', 'C': 48.66502433638069, 'l1_ratio': 0.45163886154487176}. Best is trial 0 with value: 0.4931691414132686.\n",
      "[I 2023-12-03 22:15:31,071] Trial 78 finished with value: 0.4931691414132686 and parameters: {'solver': 'lbfgs'}. Best is trial 0 with value: 0.4931691414132686.\n",
      "[I 2023-12-03 22:15:32,016] Trial 79 finished with value: 0.4931691414132686 and parameters: {'solver': 'lbfgs'}. Best is trial 0 with value: 0.4931691414132686.\n",
      "[I 2023-12-03 22:15:32,945] Trial 80 finished with value: 0.4931691414132686 and parameters: {'solver': 'lbfgs'}. Best is trial 0 with value: 0.4931691414132686.\n",
      "[I 2023-12-03 22:15:33,896] Trial 81 finished with value: 0.4931691414132686 and parameters: {'solver': 'lbfgs'}. Best is trial 0 with value: 0.4931691414132686.\n",
      "[I 2023-12-03 22:15:34,882] Trial 82 finished with value: 0.4931691414132686 and parameters: {'solver': 'lbfgs'}. Best is trial 0 with value: 0.4931691414132686.\n",
      "[I 2023-12-03 22:15:35,830] Trial 83 finished with value: 0.4931691414132686 and parameters: {'solver': 'lbfgs'}. Best is trial 0 with value: 0.4931691414132686.\n",
      "[I 2023-12-03 22:15:36,878] Trial 84 finished with value: 0.4931691414132686 and parameters: {'solver': 'lbfgs'}. Best is trial 0 with value: 0.4931691414132686.\n",
      "[I 2023-12-03 22:15:37,818] Trial 85 finished with value: 0.4931691414132686 and parameters: {'solver': 'lbfgs'}. Best is trial 0 with value: 0.4931691414132686.\n",
      "[I 2023-12-03 22:15:38,797] Trial 86 finished with value: 0.4931691414132686 and parameters: {'solver': 'lbfgs'}. Best is trial 0 with value: 0.4931691414132686.\n",
      "[I 2023-12-03 22:15:39,711] Trial 87 finished with value: 0.4931691414132686 and parameters: {'solver': 'lbfgs'}. Best is trial 0 with value: 0.4931691414132686.\n",
      "[I 2023-12-03 22:15:40,615] Trial 88 finished with value: 0.4931691414132686 and parameters: {'solver': 'lbfgs'}. Best is trial 0 with value: 0.4931691414132686.\n",
      "[I 2023-12-03 22:15:41,876] Trial 89 finished with value: 0.4933857529051826 and parameters: {'solver': 'saga', 'C': 0.47450450382498843, 'l1_ratio': 0.2606391937344135}. Best is trial 89 with value: 0.4933857529051826.\n",
      "[I 2023-12-03 22:15:43,168] Trial 90 finished with value: 0.49305864444463354 and parameters: {'solver': 'saga', 'C': 2.1527582651887798, 'l1_ratio': 0.2409247129326378}. Best is trial 89 with value: 0.4933857529051826.\n",
      "[I 2023-12-03 22:15:44,424] Trial 91 finished with value: 0.49305864444463354 and parameters: {'solver': 'saga', 'C': 18.76193421656769, 'l1_ratio': 0.021641132749179892}. Best is trial 89 with value: 0.4933857529051826.\n",
      "[I 2023-12-03 22:15:45,656] Trial 92 finished with value: 0.49305864444463354 and parameters: {'solver': 'saga', 'C': 12.770312962123533, 'l1_ratio': 0.15428155222709533}. Best is trial 89 with value: 0.4933857529051826.\n",
      "[I 2023-12-03 22:15:46,841] Trial 93 finished with value: 0.4933857529051826 and parameters: {'solver': 'saga', 'C': 0.9705367647860967, 'l1_ratio': 0.3053501621953596}. Best is trial 89 with value: 0.4933857529051826.\n",
      "[I 2023-12-03 22:15:48,103] Trial 94 finished with value: 0.49327525593654775 and parameters: {'solver': 'saga', 'C': 0.5258241980193941, 'l1_ratio': 0.3081358013064063}. Best is trial 89 with value: 0.4933857529051826.\n",
      "[I 2023-12-03 22:15:49,314] Trial 95 finished with value: 0.49371916263486015 and parameters: {'solver': 'saga', 'C': 0.3608624865251586, 'l1_ratio': 0.33049717795254374}. Best is trial 95 with value: 0.49371916263486015.\n",
      "[I 2023-12-03 22:15:50,597] Trial 96 finished with value: 0.49327525593654775 and parameters: {'solver': 'saga', 'C': 0.7716472604573096, 'l1_ratio': 0.30872032364830865}. Best is trial 95 with value: 0.49371916263486015.\n",
      "[I 2023-12-03 22:15:51,815] Trial 97 finished with value: 0.49327525593654775 and parameters: {'solver': 'saga', 'C': 0.5125281006532327, 'l1_ratio': 0.31258599032477147}. Best is trial 95 with value: 0.49371916263486015.\n",
      "[I 2023-12-03 22:15:53,079] Trial 98 finished with value: 0.4933857529051826 and parameters: {'solver': 'saga', 'C': 0.9605332984867102, 'l1_ratio': 0.31600919260713617}. Best is trial 95 with value: 0.49371916263486015.\n",
      "[I 2023-12-03 22:15:54,306] Trial 99 finished with value: 0.49327525593654775 and parameters: {'solver': 'saga', 'C': 0.6213379150755831, 'l1_ratio': 0.3103475900160623}. Best is trial 95 with value: 0.49371916263486015.\n"
     ]
    }
   ],
   "source": [
    "study_log_reg_smote.optimize(optuna_optimize, n_trials=100)"
   ],
   "metadata": {
    "collapsed": false,
    "ExecuteTime": {
     "end_time": "2023-12-03T19:15:54.317812100Z",
     "start_time": "2023-12-03T19:14:15.919359200Z"
    }
   }
  },
  {
   "cell_type": "code",
   "execution_count": 61,
   "outputs": [
    {
     "name": "stdout",
     "output_type": "stream",
     "text": [
      "Наилучшие значения гиперпараметров Logistic Regression: {'solver': 'saga', 'C': 0.3608624865251586, 'l1_ratio': 0.33049717795254374}\n",
      "f1_score на обучающем наборе: 0.494\n"
     ]
    }
   ],
   "source": [
    "print(\"Наилучшие значения гиперпараметров Logistic Regression: {}\".format(study_log_reg_smote.best_params))\n",
    "print(\"f1_score на обучающем наборе: {:.3f}\". format(study_log_reg_smote.best_value))"
   ],
   "metadata": {
    "collapsed": false,
    "ExecuteTime": {
     "end_time": "2023-12-03T19:16:26.005245700Z",
     "start_time": "2023-12-03T19:16:25.983764600Z"
    }
   }
  },
  {
   "cell_type": "code",
   "execution_count": 62,
   "outputs": [],
   "source": [
    "with mlflow.start_run(nested=True,\n",
    "                      run_name='log_reg_pipeline_smote'):\n",
    "\n",
    "    best_params = study_log_reg_smote.best_params\n",
    "    best_score = study_log_reg_smote.best_value\n",
    "    mlflow.log_params(best_params)\n",
    "\n",
    "    log_reg_pipe_sm = Pipeline([\n",
    "        ('preprocessor', preprocessor),\n",
    "        ('smote', SMOTE(random_state=12345)),\n",
    "        ('model', LogisticRegression(**best_params,\n",
    "                                     random_state=12345))\n",
    "    ])\n",
    "\n",
    "    log_reg_pipe_sm.fit(X_train, y_train)\n",
    "\n",
    "    pred_proba = log_reg_pipe_sm.predict_proba(X_test)[:, 1]\n",
    "    roc_auc_lr_sm = roc_auc_score(y_test, pred_proba)\n",
    "    \n",
    "    mlflow.log_metrics({\n",
    "        'f1_cv': best_score,\n",
    "        'roc_auc': roc_auc_lr_sm,\n",
    "        'balanced_accuracy': balanced_accuracy_score(y_test, np.round(pred_proba, 0)),\n",
    "        'f1': f1_score(y_test, np.round(pred_proba, 0))\n",
    "    })\n",
    "\n",
    "    mlflow.sklearn.log_model(log_reg_pipe_sm, 'log_reg_pipeline_smote')"
   ],
   "metadata": {
    "collapsed": false,
    "ExecuteTime": {
     "end_time": "2023-12-03T19:16:35.916486200Z",
     "start_time": "2023-12-03T19:16:27.222103900Z"
    }
   }
  },
  {
   "cell_type": "markdown",
   "source": [
    "### 3.2.4 Метод опорных векторов"
   ],
   "metadata": {
    "collapsed": false
   }
  },
  {
   "cell_type": "code",
   "execution_count": 63,
   "outputs": [],
   "source": [
    "def optuna_optimize(trial):\n",
    "\n",
    "    param = {\n",
    "        'C': trial.suggest_float('C', 0.01, 3)  \n",
    "    }\n",
    "\n",
    "    estimator = SVC(**param,\n",
    "                    random_state=12345,\n",
    "                    probability=True)\n",
    "\n",
    "    svc_pipe = Pipeline([\n",
    "        ('preprocessor', preprocessor),\n",
    "        ('smote', SMOTE(random_state=12345)),\n",
    "        ('model', estimator)\n",
    "    ])\n",
    "\n",
    "    score = cross_val_score(svc_pipe, X_train, y_train, cv=5, scoring='f1').mean()\n",
    "    \n",
    "    return score"
   ],
   "metadata": {
    "collapsed": false,
    "ExecuteTime": {
     "end_time": "2023-12-03T19:16:35.947654500Z",
     "start_time": "2023-12-03T19:16:35.917571500Z"
    }
   }
  },
  {
   "cell_type": "code",
   "execution_count": 64,
   "outputs": [
    {
     "name": "stderr",
     "output_type": "stream",
     "text": [
      "[I 2023-12-03 22:16:35,929] A new study created in memory with name: SVC Optuna Optimization SMOTE\n"
     ]
    }
   ],
   "source": [
    "study_svc_smote = optuna.create_study(study_name=\"SVC Optuna Optimization SMOTE\",\n",
    "                                direction='maximize')"
   ],
   "metadata": {
    "collapsed": false,
    "ExecuteTime": {
     "end_time": "2023-12-03T19:16:36.056773600Z",
     "start_time": "2023-12-03T19:16:35.929680200Z"
    }
   }
  },
  {
   "cell_type": "code",
   "execution_count": 65,
   "outputs": [
    {
     "name": "stderr",
     "output_type": "stream",
     "text": [
      "[I 2023-12-03 22:18:50,575] Trial 0 finished with value: 0.5724173492475945 and parameters: {'C': 2.9554302116902584}. Best is trial 0 with value: 0.5724173492475945.\n",
      "[I 2023-12-03 22:20:52,327] Trial 1 finished with value: 0.5740840432406829 and parameters: {'C': 0.5359950852368323}. Best is trial 1 with value: 0.5740840432406829.\n",
      "[I 2023-12-03 22:22:38,386] Trial 2 finished with value: 0.5751424123849702 and parameters: {'C': 1.0838838883886295}. Best is trial 2 with value: 0.5751424123849702.\n",
      "[I 2023-12-03 22:24:44,968] Trial 3 finished with value: 0.5744834251792236 and parameters: {'C': 0.6677958178338622}. Best is trial 2 with value: 0.5751424123849702.\n",
      "[I 2023-12-03 22:26:30,410] Trial 4 finished with value: 0.572260890753646 and parameters: {'C': 0.3453776325964547}. Best is trial 2 with value: 0.5751424123849702.\n",
      "[I 2023-12-03 22:28:16,563] Trial 5 finished with value: 0.5758239962302796 and parameters: {'C': 1.5845043585181544}. Best is trial 5 with value: 0.5758239962302796.\n",
      "[I 2023-12-03 22:29:58,493] Trial 6 finished with value: 0.573246166581687 and parameters: {'C': 2.374672338090212}. Best is trial 5 with value: 0.5758239962302796.\n",
      "[I 2023-12-03 22:31:41,053] Trial 7 finished with value: 0.5747494040228538 and parameters: {'C': 0.8363191839434557}. Best is trial 5 with value: 0.5758239962302796.\n",
      "[I 2023-12-03 22:33:22,850] Trial 8 finished with value: 0.5718003631829685 and parameters: {'C': 2.6399177897285186}. Best is trial 5 with value: 0.5758239962302796.\n",
      "[I 2023-12-03 22:35:06,962] Trial 9 finished with value: 0.5729868937454717 and parameters: {'C': 2.8507523737183895}. Best is trial 5 with value: 0.5758239962302796.\n"
     ]
    }
   ],
   "source": [
    "study_svc_smote.optimize(optuna_optimize, n_trials=10)"
   ],
   "metadata": {
    "collapsed": false,
    "ExecuteTime": {
     "end_time": "2023-12-03T19:35:07.009548400Z",
     "start_time": "2023-12-03T19:16:35.948855600Z"
    }
   }
  },
  {
   "cell_type": "code",
   "execution_count": 66,
   "outputs": [
    {
     "name": "stdout",
     "output_type": "stream",
     "text": [
      "Наилучшие значения гиперпараметров SVC: {'C': 1.5845043585181544}\n",
      "f1_score на обучающем наборе: 0.576\n"
     ]
    }
   ],
   "source": [
    "print(\"Наилучшие значения гиперпараметров SVC: {}\".format(study_svc_smote.best_params))\n",
    "print(\"f1_score на обучающем наборе: {:.3f}\". format(study_svc_smote.best_value))"
   ],
   "metadata": {
    "collapsed": false,
    "ExecuteTime": {
     "end_time": "2023-12-03T19:35:07.026130600Z",
     "start_time": "2023-12-03T19:35:07.007249Z"
    }
   }
  },
  {
   "cell_type": "code",
   "execution_count": 67,
   "outputs": [],
   "source": [
    "with mlflow.start_run(nested=True,\n",
    "                      run_name='svc_pipeline_smote'):\n",
    "\n",
    "    best_params = study_svc_smote.best_params\n",
    "    best_score = study_svc_smote.best_value\n",
    "    mlflow.log_params(best_params)\n",
    "\n",
    "    svc_pipe_sm = Pipeline([\n",
    "        ('preprocessor', preprocessor),\n",
    "        ('smote', SMOTE(random_state=12345)),\n",
    "        ('model', SVC(**best_params,\n",
    "                      random_state=12345,\n",
    "                      probability=True))\n",
    "    ])\n",
    "\n",
    "    svc_pipe_sm.fit(X_train, y_train)\n",
    "    pred_proba = svc_pipe_sm.predict_proba(X_test)[:, 1]\n",
    "    roc_auc_svc_sm = roc_auc_score(y_test, pred_proba)\n",
    "    \n",
    "    mlflow.log_metrics({\n",
    "        'f1_cv': best_score,\n",
    "        'roc_auc': roc_auc_svc_sm,\n",
    "        'balanced_accuracy': balanced_accuracy_score(y_test, np.round(pred_proba, 0)),\n",
    "        'f1': f1_score(y_test, np.round(pred_proba, 0))\n",
    "    })\n",
    "\n",
    "    mlflow.sklearn.log_model(svc_pipe_sm, 'svc_pipeline_smote')"
   ],
   "metadata": {
    "collapsed": false,
    "ExecuteTime": {
     "end_time": "2023-12-03T19:35:52.756433400Z",
     "start_time": "2023-12-03T19:35:07.059252300Z"
    }
   }
  },
  {
   "cell_type": "code",
   "execution_count": 100,
   "outputs": [],
   "source": [
    "colNames = [\"XGBoost\", \"Random Forest\", \"Logistic Regression\", \"SVC\"]\n",
    "f1_results = {\"Imbalanced\":[study_xgb.best_value, '-', '-', '-'],\n",
    "           \"Class Weight\":[study_xgb_cw.best_value, \n",
    "                           study_rf.best_value, \n",
    "                           study_log_reg.best_value, \n",
    "                           study_svc.best_value],\n",
    "           \"SMOTE\":[study_xgb_smote.best_value, \n",
    "                    study_rf_smote.best_value, \n",
    "                    study_log_reg_smote.best_value, \n",
    "                    study_svc_smote.best_value]}"
   ],
   "metadata": {
    "collapsed": false,
    "ExecuteTime": {
     "end_time": "2023-12-04T17:23:36.891855100Z",
     "start_time": "2023-12-04T17:23:36.736360900Z"
    }
   }
  },
  {
   "cell_type": "code",
   "execution_count": 101,
   "outputs": [],
   "source": [
    "# результаты метрики f1 score на кросс-валидации:\n",
    "f1_table = pd.DataFrame.from_dict(f1_results, orient='index', columns=colNames)"
   ],
   "metadata": {
    "collapsed": false,
    "ExecuteTime": {
     "end_time": "2023-12-04T17:23:39.099361600Z",
     "start_time": "2023-12-04T17:23:39.000806700Z"
    }
   }
  },
  {
   "cell_type": "code",
   "execution_count": 102,
   "outputs": [
    {
     "data": {
      "text/plain": "               XGBoost Random Forest Logistic Regression       SVC\nImbalanced    0.591902             -                   -         -\nClass Weight  0.612099      0.619135            0.491084  0.579142\nSMOTE         0.626015      0.613042            0.493719  0.575824",
      "text/html": "<div>\n<style scoped>\n    .dataframe tbody tr th:only-of-type {\n        vertical-align: middle;\n    }\n\n    .dataframe tbody tr th {\n        vertical-align: top;\n    }\n\n    .dataframe thead th {\n        text-align: right;\n    }\n</style>\n<table border=\"1\" class=\"dataframe\">\n  <thead>\n    <tr style=\"text-align: right;\">\n      <th></th>\n      <th>XGBoost</th>\n      <th>Random Forest</th>\n      <th>Logistic Regression</th>\n      <th>SVC</th>\n    </tr>\n  </thead>\n  <tbody>\n    <tr>\n      <th>Imbalanced</th>\n      <td>0.591902</td>\n      <td>-</td>\n      <td>-</td>\n      <td>-</td>\n    </tr>\n    <tr>\n      <th>Class Weight</th>\n      <td>0.612099</td>\n      <td>0.619135</td>\n      <td>0.491084</td>\n      <td>0.579142</td>\n    </tr>\n    <tr>\n      <th>SMOTE</th>\n      <td>0.626015</td>\n      <td>0.613042</td>\n      <td>0.493719</td>\n      <td>0.575824</td>\n    </tr>\n  </tbody>\n</table>\n</div>"
     },
     "execution_count": 102,
     "metadata": {},
     "output_type": "execute_result"
    }
   ],
   "source": [
    "f1_table"
   ],
   "metadata": {
    "collapsed": false,
    "ExecuteTime": {
     "end_time": "2023-12-04T17:23:44.402348300Z",
     "start_time": "2023-12-04T17:23:44.136325500Z"
    }
   }
  },
  {
   "cell_type": "code",
   "execution_count": 103,
   "outputs": [],
   "source": [
    "roc_auc_results = {\"Imbalanced\":[roc_auc_xgb_imb, '-', '-', '-'],\n",
    "           \"Class Weight\":[roc_auc_xgb_cw,\n",
    "                           roc_auc_rf_cw,\n",
    "                           roc_auc_lr_cw,\n",
    "                           roc_auc_svc_cw],\n",
    "           \"SMOTE\":[roc_auc_xgb_sm,\n",
    "                    roc_auc_rf_sm,\n",
    "                    roc_auc_lr_sm,\n",
    "                    roc_auc_svc_sm]}"
   ],
   "metadata": {
    "collapsed": false,
    "ExecuteTime": {
     "end_time": "2023-12-04T17:24:05.579650700Z",
     "start_time": "2023-12-04T17:24:05.476543400Z"
    }
   }
  },
  {
   "cell_type": "code",
   "execution_count": 104,
   "outputs": [],
   "source": [
    "# результаты метрики roc_auc на тесте:\n",
    "roc_auc_table = pd.DataFrame.from_dict(roc_auc_results, orient='index', columns=colNames)"
   ],
   "metadata": {
    "collapsed": false,
    "ExecuteTime": {
     "end_time": "2023-12-04T17:24:07.347300900Z",
     "start_time": "2023-12-04T17:24:07.194813700Z"
    }
   }
  },
  {
   "cell_type": "code",
   "execution_count": 105,
   "outputs": [
    {
     "data": {
      "text/plain": "               XGBoost Random Forest Logistic Regression       SVC\nImbalanced    0.874799             -                   -         -\nClass Weight  0.867908      0.871343            0.788548  0.844288\nSMOTE         0.866939      0.864353            0.787647  0.828429",
      "text/html": "<div>\n<style scoped>\n    .dataframe tbody tr th:only-of-type {\n        vertical-align: middle;\n    }\n\n    .dataframe tbody tr th {\n        vertical-align: top;\n    }\n\n    .dataframe thead th {\n        text-align: right;\n    }\n</style>\n<table border=\"1\" class=\"dataframe\">\n  <thead>\n    <tr style=\"text-align: right;\">\n      <th></th>\n      <th>XGBoost</th>\n      <th>Random Forest</th>\n      <th>Logistic Regression</th>\n      <th>SVC</th>\n    </tr>\n  </thead>\n  <tbody>\n    <tr>\n      <th>Imbalanced</th>\n      <td>0.874799</td>\n      <td>-</td>\n      <td>-</td>\n      <td>-</td>\n    </tr>\n    <tr>\n      <th>Class Weight</th>\n      <td>0.867908</td>\n      <td>0.871343</td>\n      <td>0.788548</td>\n      <td>0.844288</td>\n    </tr>\n    <tr>\n      <th>SMOTE</th>\n      <td>0.866939</td>\n      <td>0.864353</td>\n      <td>0.787647</td>\n      <td>0.828429</td>\n    </tr>\n  </tbody>\n</table>\n</div>"
     },
     "execution_count": 105,
     "metadata": {},
     "output_type": "execute_result"
    }
   ],
   "source": [
    "roc_auc_table"
   ],
   "metadata": {
    "collapsed": false,
    "ExecuteTime": {
     "end_time": "2023-12-04T17:24:08.753835300Z",
     "start_time": "2023-12-04T17:24:08.642048400Z"
    }
   }
  },
  {
   "cell_type": "markdown",
   "source": [
    "# 4. Тестирование лучшей модели\n"
   ],
   "metadata": {
    "collapsed": false
   }
  },
  {
   "cell_type": "code",
   "execution_count": 74,
   "outputs": [
    {
     "data": {
      "text/plain": "Downloading artifacts:   0%|          | 0/5 [00:00<?, ?it/s]",
      "application/vnd.jupyter.widget-view+json": {
       "version_major": 2,
       "version_minor": 0,
       "model_id": "d8e09c65f9c8437da1cd6b82f7280a92"
      }
     },
     "metadata": {},
     "output_type": "display_data"
    }
   ],
   "source": [
    "best_model = mlflow.sklearn.load_model('runs:/980b9744d00643c88633da47d8a2de6c/xgb_pipeline_smote')"
   ],
   "metadata": {
    "collapsed": false,
    "ExecuteTime": {
     "end_time": "2023-12-03T19:36:52.506247100Z",
     "start_time": "2023-12-03T19:36:51.709756900Z"
    }
   }
  },
  {
   "cell_type": "code",
   "execution_count": 75,
   "outputs": [
    {
     "data": {
      "text/plain": "['best_model.pkl']"
     },
     "execution_count": 75,
     "metadata": {},
     "output_type": "execute_result"
    }
   ],
   "source": [
    "joblib.dump(best_model, 'best_model.pkl')"
   ],
   "metadata": {
    "collapsed": false,
    "ExecuteTime": {
     "end_time": "2023-12-03T19:36:53.106952900Z",
     "start_time": "2023-12-03T19:36:53.011562Z"
    }
   }
  },
  {
   "cell_type": "code",
   "execution_count": 76,
   "outputs": [
    {
     "name": "stdout",
     "output_type": "stream",
     "text": [
      "ROC-AUC score на тестовой выборке: 0.8667882057712568\n",
      "f1 score на тестовой выборке: 0.6361386138613863\n",
      "Balanced accuracy на тестовой выборке: 0.7705270756118213\n"
     ]
    }
   ],
   "source": [
    "pred_proba_xgb_smote = best_model.predict_proba(X_test)[:, 1]\n",
    "print('ROC-AUC score на тестовой выборке:', roc_auc_score(y_test, pred_proba_xgb_smote))\n",
    "print('f1 score на тестовой выборке:', f1_score(y_test, np.round(pred_proba_xgb_smote)))\n",
    "print('Balanced accuracy на тестовой выборке:', balanced_accuracy_score(y_test, np.round(pred_proba_xgb_smote)))"
   ],
   "metadata": {
    "collapsed": false,
    "ExecuteTime": {
     "end_time": "2023-12-03T19:36:54.089020400Z",
     "start_time": "2023-12-03T19:36:54.019432900Z"
    }
   }
  },
  {
   "cell_type": "code",
   "execution_count": 81,
   "outputs": [
    {
     "data": {
      "text/plain": "<Figure size 600x400 with 1 Axes>",
      "image/png": "[encoded data removed]"
     },
     "metadata": {},
     "output_type": "display_data"
    }
   ],
   "source": [
    "fpr, tpr, thresholds = roc_curve(y_test, pred_proba)\n",
    "\n",
    "plt.figure(figsize=(6, 4))\n",
    "\n",
    "plt.plot(fpr, tpr, label=f'XGBClassifier: {round(roc_auc_score(y_test, pred_proba_xgb_smote), 4)}')\n",
    "\n",
    "plt.plot([0, 1], [0, 1], linestyle='--', label='coin')\n",
    "\n",
    "plt.xlim([-0.02, 1.0])\n",
    "plt.ylim([0.0, 1.05])\n",
    "\n",
    "plt.xlabel('False Positive Rate')\n",
    "plt.ylabel('True Positive Rate')\n",
    "\n",
    "plt.title('ROC-кривая')\n",
    "\n",
    "plt.legend()\n",
    "\n",
    "plt.show()"
   ],
   "metadata": {
    "collapsed": false,
    "ExecuteTime": {
     "end_time": "2023-12-04T11:21:51.820862600Z",
     "start_time": "2023-12-04T11:21:51.588455100Z"
    }
   }
  },
  {
   "cell_type": "code",
   "execution_count": null,
   "outputs": [],
   "source": [],
   "metadata": {
    "collapsed": false
   }
  }
 ],
 "metadata": {
  "kernelspec": {
   "display_name": "Python 3",
   "language": "python",
   "name": "python3"
  },
  "language_info": {
   "codemirror_mode": {
    "name": "ipython",
    "version": 2
   },
   "file_extension": ".py",
   "mimetype": "text/x-python",
   "name": "python",
   "nbconvert_exporter": "python",
   "pygments_lexer": "ipython2",
   "version": "2.7.6"
  }
 },
 "nbformat": 4,
 "nbformat_minor": 0
}
