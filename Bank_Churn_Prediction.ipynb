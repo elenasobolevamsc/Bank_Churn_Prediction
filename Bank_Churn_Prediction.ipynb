{
 "cells": [
  {
   "cell_type": "markdown",
   "source": [
    "# 1. Подготовка данных"
   ],
   "metadata": {
    "collapsed": false
   }
  },
  {
   "cell_type": "code",
   "execution_count": 1,
   "outputs": [],
   "source": [
    "import warnings\n",
    "warnings.filterwarnings('ignore')\n",
    "\n",
    "import pandas as pd\n",
    "import xgboost as xgb\n",
    "import optuna\n",
    "import mlflow\n",
    "\n",
    "from imblearn.over_sampling import SMOTE\n",
    "from sklearn.model_selection import train_test_split, GridSearchCV, cross_val_score\n",
    "from sklearn.preprocessing import OneHotEncoder, StandardScaler, PowerTransformer\n",
    "from sklearn.compose import ColumnTransformer\n",
    "from sklearn.impute import SimpleImputer\n",
    "from sklearn.ensemble import RandomForestClassifier\n",
    "from sklearn.linear_model import LogisticRegression\n",
    "from sklearn.metrics import roc_auc_score, roc_curve, confusion_matrix, f1_score\n",
    "from sklearn.utils import compute_sample_weight\n",
    "from sklearn.svm import SVC\n",
    "from imblearn.pipeline import Pipeline\n",
    "\n",
    "mlflow.set_tracking_uri(\"http://127.0.0.1:8000\")\n",
    "client=mlflow.MlflowClient(tracking_uri='http://127.0.0.1:8000')"
   ],
   "metadata": {
    "collapsed": false,
    "ExecuteTime": {
     "end_time": "2023-11-22T11:00:51.179163900Z",
     "start_time": "2023-11-22T11:00:44.357947300Z"
    }
   }
  },
  {
   "cell_type": "code",
   "execution_count": 2,
   "outputs": [],
   "source": [
    "df = pd.read_csv('Churn.csv')"
   ],
   "metadata": {
    "collapsed": false,
    "ExecuteTime": {
     "end_time": "2023-11-22T11:00:53.240478700Z",
     "start_time": "2023-11-22T11:00:53.072886700Z"
    }
   }
  },
  {
   "cell_type": "code",
   "execution_count": 3,
   "outputs": [
    {
     "data": {
      "text/plain": "      RowNumber  CustomerId    Surname  CreditScore Geography  Gender  Age  \\\n0             1    15634602   Hargrave          619    France  Female   42   \n1             2    15647311       Hill          608     Spain  Female   41   \n2             3    15619304       Onio          502    France  Female   42   \n3             4    15701354       Boni          699    France  Female   39   \n4             5    15737888   Mitchell          850     Spain  Female   43   \n...         ...         ...        ...          ...       ...     ...  ...   \n9995       9996    15606229   Obijiaku          771    France    Male   39   \n9996       9997    15569892  Johnstone          516    France    Male   35   \n9997       9998    15584532        Liu          709    France  Female   36   \n9998       9999    15682355  Sabbatini          772   Germany    Male   42   \n9999      10000    15628319     Walker          792    France  Female   28   \n\n      Tenure    Balance  NumOfProducts  HasCrCard  IsActiveMember  \\\n0        2.0       0.00              1          1               1   \n1        1.0   83807.86              1          0               1   \n2        8.0  159660.80              3          1               0   \n3        1.0       0.00              2          0               0   \n4        2.0  125510.82              1          1               1   \n...      ...        ...            ...        ...             ...   \n9995     5.0       0.00              2          1               0   \n9996    10.0   57369.61              1          1               1   \n9997     7.0       0.00              1          0               1   \n9998     3.0   75075.31              2          1               0   \n9999     NaN  130142.79              1          1               0   \n\n      EstimatedSalary  Exited  \n0           101348.88       1  \n1           112542.58       0  \n2           113931.57       1  \n3            93826.63       0  \n4            79084.10       0  \n...               ...     ...  \n9995         96270.64       0  \n9996        101699.77       0  \n9997         42085.58       1  \n9998         92888.52       1  \n9999         38190.78       0  \n\n[10000 rows x 14 columns]",
      "text/html": "<div>\n<style scoped>\n    .dataframe tbody tr th:only-of-type {\n        vertical-align: middle;\n    }\n\n    .dataframe tbody tr th {\n        vertical-align: top;\n    }\n\n    .dataframe thead th {\n        text-align: right;\n    }\n</style>\n<table border=\"1\" class=\"dataframe\">\n  <thead>\n    <tr style=\"text-align: right;\">\n      <th></th>\n      <th>RowNumber</th>\n      <th>CustomerId</th>\n      <th>Surname</th>\n      <th>CreditScore</th>\n      <th>Geography</th>\n      <th>Gender</th>\n      <th>Age</th>\n      <th>Tenure</th>\n      <th>Balance</th>\n      <th>NumOfProducts</th>\n      <th>HasCrCard</th>\n      <th>IsActiveMember</th>\n      <th>EstimatedSalary</th>\n      <th>Exited</th>\n    </tr>\n  </thead>\n  <tbody>\n    <tr>\n      <th>0</th>\n      <td>1</td>\n      <td>15634602</td>\n      <td>Hargrave</td>\n      <td>619</td>\n      <td>France</td>\n      <td>Female</td>\n      <td>42</td>\n      <td>2.0</td>\n      <td>0.00</td>\n      <td>1</td>\n      <td>1</td>\n      <td>1</td>\n      <td>101348.88</td>\n      <td>1</td>\n    </tr>\n    <tr>\n      <th>1</th>\n      <td>2</td>\n      <td>15647311</td>\n      <td>Hill</td>\n      <td>608</td>\n      <td>Spain</td>\n      <td>Female</td>\n      <td>41</td>\n      <td>1.0</td>\n      <td>83807.86</td>\n      <td>1</td>\n      <td>0</td>\n      <td>1</td>\n      <td>112542.58</td>\n      <td>0</td>\n    </tr>\n    <tr>\n      <th>2</th>\n      <td>3</td>\n      <td>15619304</td>\n      <td>Onio</td>\n      <td>502</td>\n      <td>France</td>\n      <td>Female</td>\n      <td>42</td>\n      <td>8.0</td>\n      <td>159660.80</td>\n      <td>3</td>\n      <td>1</td>\n      <td>0</td>\n      <td>113931.57</td>\n      <td>1</td>\n    </tr>\n    <tr>\n      <th>3</th>\n      <td>4</td>\n      <td>15701354</td>\n      <td>Boni</td>\n      <td>699</td>\n      <td>France</td>\n      <td>Female</td>\n      <td>39</td>\n      <td>1.0</td>\n      <td>0.00</td>\n      <td>2</td>\n      <td>0</td>\n      <td>0</td>\n      <td>93826.63</td>\n      <td>0</td>\n    </tr>\n    <tr>\n      <th>4</th>\n      <td>5</td>\n      <td>15737888</td>\n      <td>Mitchell</td>\n      <td>850</td>\n      <td>Spain</td>\n      <td>Female</td>\n      <td>43</td>\n      <td>2.0</td>\n      <td>125510.82</td>\n      <td>1</td>\n      <td>1</td>\n      <td>1</td>\n      <td>79084.10</td>\n      <td>0</td>\n    </tr>\n    <tr>\n      <th>...</th>\n      <td>...</td>\n      <td>...</td>\n      <td>...</td>\n      <td>...</td>\n      <td>...</td>\n      <td>...</td>\n      <td>...</td>\n      <td>...</td>\n      <td>...</td>\n      <td>...</td>\n      <td>...</td>\n      <td>...</td>\n      <td>...</td>\n      <td>...</td>\n    </tr>\n    <tr>\n      <th>9995</th>\n      <td>9996</td>\n      <td>15606229</td>\n      <td>Obijiaku</td>\n      <td>771</td>\n      <td>France</td>\n      <td>Male</td>\n      <td>39</td>\n      <td>5.0</td>\n      <td>0.00</td>\n      <td>2</td>\n      <td>1</td>\n      <td>0</td>\n      <td>96270.64</td>\n      <td>0</td>\n    </tr>\n    <tr>\n      <th>9996</th>\n      <td>9997</td>\n      <td>15569892</td>\n      <td>Johnstone</td>\n      <td>516</td>\n      <td>France</td>\n      <td>Male</td>\n      <td>35</td>\n      <td>10.0</td>\n      <td>57369.61</td>\n      <td>1</td>\n      <td>1</td>\n      <td>1</td>\n      <td>101699.77</td>\n      <td>0</td>\n    </tr>\n    <tr>\n      <th>9997</th>\n      <td>9998</td>\n      <td>15584532</td>\n      <td>Liu</td>\n      <td>709</td>\n      <td>France</td>\n      <td>Female</td>\n      <td>36</td>\n      <td>7.0</td>\n      <td>0.00</td>\n      <td>1</td>\n      <td>0</td>\n      <td>1</td>\n      <td>42085.58</td>\n      <td>1</td>\n    </tr>\n    <tr>\n      <th>9998</th>\n      <td>9999</td>\n      <td>15682355</td>\n      <td>Sabbatini</td>\n      <td>772</td>\n      <td>Germany</td>\n      <td>Male</td>\n      <td>42</td>\n      <td>3.0</td>\n      <td>75075.31</td>\n      <td>2</td>\n      <td>1</td>\n      <td>0</td>\n      <td>92888.52</td>\n      <td>1</td>\n    </tr>\n    <tr>\n      <th>9999</th>\n      <td>10000</td>\n      <td>15628319</td>\n      <td>Walker</td>\n      <td>792</td>\n      <td>France</td>\n      <td>Female</td>\n      <td>28</td>\n      <td>NaN</td>\n      <td>130142.79</td>\n      <td>1</td>\n      <td>1</td>\n      <td>0</td>\n      <td>38190.78</td>\n      <td>0</td>\n    </tr>\n  </tbody>\n</table>\n<p>10000 rows × 14 columns</p>\n</div>"
     },
     "execution_count": 3,
     "metadata": {},
     "output_type": "execute_result"
    }
   ],
   "source": [
    "df"
   ],
   "metadata": {
    "collapsed": false,
    "ExecuteTime": {
     "end_time": "2023-11-22T11:00:54.643556400Z",
     "start_time": "2023-11-22T11:00:54.494700500Z"
    }
   }
  },
  {
   "cell_type": "code",
   "execution_count": 4,
   "outputs": [
    {
     "name": "stdout",
     "output_type": "stream",
     "text": [
      "<class 'pandas.core.frame.DataFrame'>\n",
      "RangeIndex: 10000 entries, 0 to 9999\n",
      "Data columns (total 14 columns):\n",
      " #   Column           Non-Null Count  Dtype  \n",
      "---  ------           --------------  -----  \n",
      " 0   RowNumber        10000 non-null  int64  \n",
      " 1   CustomerId       10000 non-null  int64  \n",
      " 2   Surname          10000 non-null  object \n",
      " 3   CreditScore      10000 non-null  int64  \n",
      " 4   Geography        10000 non-null  object \n",
      " 5   Gender           10000 non-null  object \n",
      " 6   Age              10000 non-null  int64  \n",
      " 7   Tenure           9091 non-null   float64\n",
      " 8   Balance          10000 non-null  float64\n",
      " 9   NumOfProducts    10000 non-null  int64  \n",
      " 10  HasCrCard        10000 non-null  int64  \n",
      " 11  IsActiveMember   10000 non-null  int64  \n",
      " 12  EstimatedSalary  10000 non-null  float64\n",
      " 13  Exited           10000 non-null  int64  \n",
      "dtypes: float64(3), int64(8), object(3)\n",
      "memory usage: 1.1+ MB\n"
     ]
    }
   ],
   "source": [
    "df.info()"
   ],
   "metadata": {
    "collapsed": false,
    "ExecuteTime": {
     "end_time": "2023-11-22T11:00:55.787362300Z",
     "start_time": "2023-11-22T11:00:55.697932700Z"
    }
   }
  },
  {
   "cell_type": "code",
   "execution_count": 5,
   "outputs": [
    {
     "data": {
      "text/plain": "0"
     },
     "execution_count": 5,
     "metadata": {},
     "output_type": "execute_result"
    }
   ],
   "source": [
    "# проверим наличие явных дубликатов:\n",
    "df.duplicated().sum()"
   ],
   "metadata": {
    "collapsed": false,
    "ExecuteTime": {
     "end_time": "2023-11-22T11:00:56.471238300Z",
     "start_time": "2023-11-22T11:00:56.389439100Z"
    }
   }
  },
  {
   "cell_type": "code",
   "execution_count": 6,
   "outputs": [
    {
     "data": {
      "text/plain": "Geography\nFrance     5014\nGermany    2509\nSpain      2477\nName: count, dtype: int64"
     },
     "execution_count": 6,
     "metadata": {},
     "output_type": "execute_result"
    }
   ],
   "source": [
    "# посмотрим уникальные значения в столбце Geography:\n",
    "df['Geography'].value_counts()"
   ],
   "metadata": {
    "collapsed": false,
    "ExecuteTime": {
     "end_time": "2023-11-22T11:00:57.088280200Z",
     "start_time": "2023-11-22T11:00:57.036214800Z"
    }
   }
  },
  {
   "cell_type": "code",
   "execution_count": 7,
   "outputs": [
    {
     "data": {
      "text/plain": "Tenure\n1.0     952\n2.0     950\n8.0     933\n3.0     928\n5.0     927\n7.0     925\n4.0     885\n9.0     882\n6.0     881\n10.0    446\n0.0     382\nName: count, dtype: int64"
     },
     "execution_count": 7,
     "metadata": {},
     "output_type": "execute_result"
    }
   ],
   "source": [
    "# посмотрим уникальные значения в столбце Tenure:\n",
    "df['Tenure'].value_counts().sort_values(ascending=False)"
   ],
   "metadata": {
    "collapsed": false,
    "ExecuteTime": {
     "end_time": "2023-11-22T11:00:57.506467900Z",
     "start_time": "2023-11-22T11:00:57.437446100Z"
    }
   }
  },
  {
   "cell_type": "code",
   "execution_count": 8,
   "outputs": [
    {
     "data": {
      "text/plain": "NumOfProducts\n1    5084\n2    4590\n3     266\n4      60\nName: count, dtype: int64"
     },
     "execution_count": 8,
     "metadata": {},
     "output_type": "execute_result"
    }
   ],
   "source": [
    "# посмотрим уникальные значения в столбце NumOfProducts:\n",
    "df['NumOfProducts'].value_counts()"
   ],
   "metadata": {
    "collapsed": false,
    "ExecuteTime": {
     "end_time": "2023-11-22T11:00:57.921223700Z",
     "start_time": "2023-11-22T11:00:57.828343100Z"
    }
   }
  },
  {
   "cell_type": "code",
   "execution_count": 9,
   "outputs": [
    {
     "data": {
      "text/plain": "HasCrCard\n1    7055\n0    2945\nName: count, dtype: int64"
     },
     "execution_count": 9,
     "metadata": {},
     "output_type": "execute_result"
    }
   ],
   "source": [
    "# посмотрим уникальные значения в столбце HasCrCard:\n",
    "df['HasCrCard'].value_counts()"
   ],
   "metadata": {
    "collapsed": false,
    "ExecuteTime": {
     "end_time": "2023-11-22T11:00:58.362249400Z",
     "start_time": "2023-11-22T11:00:58.163974300Z"
    }
   }
  },
  {
   "cell_type": "code",
   "execution_count": 10,
   "outputs": [
    {
     "data": {
      "text/plain": "IsActiveMember\n1    5151\n0    4849\nName: count, dtype: int64"
     },
     "execution_count": 10,
     "metadata": {},
     "output_type": "execute_result"
    }
   ],
   "source": [
    "# посмотрим уникальные значения в столбце IsActiveMember:\n",
    "df['IsActiveMember'].value_counts()"
   ],
   "metadata": {
    "collapsed": false,
    "ExecuteTime": {
     "end_time": "2023-11-22T11:00:58.863184300Z",
     "start_time": "2023-11-22T11:00:58.422203400Z"
    }
   }
  },
  {
   "cell_type": "code",
   "execution_count": 11,
   "outputs": [
    {
     "data": {
      "text/plain": "Exited\n0    7963\n1    2037\nName: count, dtype: int64"
     },
     "execution_count": 11,
     "metadata": {},
     "output_type": "execute_result"
    }
   ],
   "source": [
    "# посчитаем классы в целевом признаке:\n",
    "df['Exited'].value_counts()"
   ],
   "metadata": {
    "collapsed": false,
    "ExecuteTime": {
     "end_time": "2023-11-22T11:00:59.181083900Z",
     "start_time": "2023-11-22T11:00:58.696330400Z"
    }
   }
  },
  {
   "cell_type": "markdown",
   "source": [
    "Можно отметить, что дубликаты в датасете отсутствуют, в столбце Tenure есть около тысячи пропусков, а также несколько столбцов лучше вообще удалить, из них:\n",
    "\n",
    "- RowNumber - это индекс строки в данных, важной информации не содержит;\n",
    "- CustomerId - уникальный идентификатор клиента, по нему мы проверили дубликаты и теперь его можно удалить;\n",
    "- Surname - фамилия, которая тоже не имеет связи с оттоком клиентов.\n",
    "\n",
    "После проверки датасета на сбалансированность классов в таргете мы видим, что объектов отрицательного класса намного больше, но все равно уходит примерно 20% клиентов. В столбце Geography находятся всего 3 уникальных значения: France, Germany и Spain. В столбце Tenure (сколько лет человек является клиентом банка) есть 909 пропусков. Заполним их значением -1. Есть несколько бинарных признаков (HasCrCard, IsActiveMember), которые затем выделим в отдельную категорию признаков."
   ],
   "metadata": {
    "collapsed": false
   }
  },
  {
   "cell_type": "code",
   "execution_count": 12,
   "outputs": [],
   "source": [
    "# удалим ненужные столбцы:\n",
    "df.drop([\"RowNumber\", \"CustomerId\", \"Surname\"], axis=1, inplace=True)"
   ],
   "metadata": {
    "collapsed": false,
    "ExecuteTime": {
     "end_time": "2023-11-22T11:01:00.425320Z",
     "start_time": "2023-11-22T11:01:00.169852Z"
    }
   }
  },
  {
   "cell_type": "code",
   "execution_count": 13,
   "outputs": [
    {
     "data": {
      "text/plain": "      CreditScore Geography  Gender  Age  Tenure    Balance  NumOfProducts  \\\n0             619    France  Female   42     2.0       0.00              1   \n1             608     Spain  Female   41     1.0   83807.86              1   \n2             502    France  Female   42     8.0  159660.80              3   \n3             699    France  Female   39     1.0       0.00              2   \n4             850     Spain  Female   43     2.0  125510.82              1   \n...           ...       ...     ...  ...     ...        ...            ...   \n9995          771    France    Male   39     5.0       0.00              2   \n9996          516    France    Male   35    10.0   57369.61              1   \n9997          709    France  Female   36     7.0       0.00              1   \n9998          772   Germany    Male   42     3.0   75075.31              2   \n9999          792    France  Female   28     NaN  130142.79              1   \n\n      HasCrCard  IsActiveMember  EstimatedSalary  Exited  \n0             1               1        101348.88       1  \n1             0               1        112542.58       0  \n2             1               0        113931.57       1  \n3             0               0         93826.63       0  \n4             1               1         79084.10       0  \n...         ...             ...              ...     ...  \n9995          1               0         96270.64       0  \n9996          1               1        101699.77       0  \n9997          0               1         42085.58       1  \n9998          1               0         92888.52       1  \n9999          1               0         38190.78       0  \n\n[10000 rows x 11 columns]",
      "text/html": "<div>\n<style scoped>\n    .dataframe tbody tr th:only-of-type {\n        vertical-align: middle;\n    }\n\n    .dataframe tbody tr th {\n        vertical-align: top;\n    }\n\n    .dataframe thead th {\n        text-align: right;\n    }\n</style>\n<table border=\"1\" class=\"dataframe\">\n  <thead>\n    <tr style=\"text-align: right;\">\n      <th></th>\n      <th>CreditScore</th>\n      <th>Geography</th>\n      <th>Gender</th>\n      <th>Age</th>\n      <th>Tenure</th>\n      <th>Balance</th>\n      <th>NumOfProducts</th>\n      <th>HasCrCard</th>\n      <th>IsActiveMember</th>\n      <th>EstimatedSalary</th>\n      <th>Exited</th>\n    </tr>\n  </thead>\n  <tbody>\n    <tr>\n      <th>0</th>\n      <td>619</td>\n      <td>France</td>\n      <td>Female</td>\n      <td>42</td>\n      <td>2.0</td>\n      <td>0.00</td>\n      <td>1</td>\n      <td>1</td>\n      <td>1</td>\n      <td>101348.88</td>\n      <td>1</td>\n    </tr>\n    <tr>\n      <th>1</th>\n      <td>608</td>\n      <td>Spain</td>\n      <td>Female</td>\n      <td>41</td>\n      <td>1.0</td>\n      <td>83807.86</td>\n      <td>1</td>\n      <td>0</td>\n      <td>1</td>\n      <td>112542.58</td>\n      <td>0</td>\n    </tr>\n    <tr>\n      <th>2</th>\n      <td>502</td>\n      <td>France</td>\n      <td>Female</td>\n      <td>42</td>\n      <td>8.0</td>\n      <td>159660.80</td>\n      <td>3</td>\n      <td>1</td>\n      <td>0</td>\n      <td>113931.57</td>\n      <td>1</td>\n    </tr>\n    <tr>\n      <th>3</th>\n      <td>699</td>\n      <td>France</td>\n      <td>Female</td>\n      <td>39</td>\n      <td>1.0</td>\n      <td>0.00</td>\n      <td>2</td>\n      <td>0</td>\n      <td>0</td>\n      <td>93826.63</td>\n      <td>0</td>\n    </tr>\n    <tr>\n      <th>4</th>\n      <td>850</td>\n      <td>Spain</td>\n      <td>Female</td>\n      <td>43</td>\n      <td>2.0</td>\n      <td>125510.82</td>\n      <td>1</td>\n      <td>1</td>\n      <td>1</td>\n      <td>79084.10</td>\n      <td>0</td>\n    </tr>\n    <tr>\n      <th>...</th>\n      <td>...</td>\n      <td>...</td>\n      <td>...</td>\n      <td>...</td>\n      <td>...</td>\n      <td>...</td>\n      <td>...</td>\n      <td>...</td>\n      <td>...</td>\n      <td>...</td>\n      <td>...</td>\n    </tr>\n    <tr>\n      <th>9995</th>\n      <td>771</td>\n      <td>France</td>\n      <td>Male</td>\n      <td>39</td>\n      <td>5.0</td>\n      <td>0.00</td>\n      <td>2</td>\n      <td>1</td>\n      <td>0</td>\n      <td>96270.64</td>\n      <td>0</td>\n    </tr>\n    <tr>\n      <th>9996</th>\n      <td>516</td>\n      <td>France</td>\n      <td>Male</td>\n      <td>35</td>\n      <td>10.0</td>\n      <td>57369.61</td>\n      <td>1</td>\n      <td>1</td>\n      <td>1</td>\n      <td>101699.77</td>\n      <td>0</td>\n    </tr>\n    <tr>\n      <th>9997</th>\n      <td>709</td>\n      <td>France</td>\n      <td>Female</td>\n      <td>36</td>\n      <td>7.0</td>\n      <td>0.00</td>\n      <td>1</td>\n      <td>0</td>\n      <td>1</td>\n      <td>42085.58</td>\n      <td>1</td>\n    </tr>\n    <tr>\n      <th>9998</th>\n      <td>772</td>\n      <td>Germany</td>\n      <td>Male</td>\n      <td>42</td>\n      <td>3.0</td>\n      <td>75075.31</td>\n      <td>2</td>\n      <td>1</td>\n      <td>0</td>\n      <td>92888.52</td>\n      <td>1</td>\n    </tr>\n    <tr>\n      <th>9999</th>\n      <td>792</td>\n      <td>France</td>\n      <td>Female</td>\n      <td>28</td>\n      <td>NaN</td>\n      <td>130142.79</td>\n      <td>1</td>\n      <td>1</td>\n      <td>0</td>\n      <td>38190.78</td>\n      <td>0</td>\n    </tr>\n  </tbody>\n</table>\n<p>10000 rows × 11 columns</p>\n</div>"
     },
     "execution_count": 13,
     "metadata": {},
     "output_type": "execute_result"
    }
   ],
   "source": [
    "df"
   ],
   "metadata": {
    "collapsed": false,
    "ExecuteTime": {
     "end_time": "2023-11-22T11:01:02.135535900Z",
     "start_time": "2023-11-22T11:01:02.031353900Z"
    }
   }
  },
  {
   "cell_type": "code",
   "execution_count": 14,
   "outputs": [
    {
     "name": "stdout",
     "output_type": "stream",
     "text": [
      "<class 'pandas.core.frame.DataFrame'>\n",
      "RangeIndex: 10000 entries, 0 to 9999\n",
      "Data columns (total 11 columns):\n",
      " #   Column           Non-Null Count  Dtype  \n",
      "---  ------           --------------  -----  \n",
      " 0   CreditScore      10000 non-null  int64  \n",
      " 1   Geography        10000 non-null  object \n",
      " 2   Gender           10000 non-null  object \n",
      " 3   Age              10000 non-null  int64  \n",
      " 4   Tenure           9091 non-null   float64\n",
      " 5   Balance          10000 non-null  float64\n",
      " 6   NumOfProducts    10000 non-null  int64  \n",
      " 7   HasCrCard        10000 non-null  int64  \n",
      " 8   IsActiveMember   10000 non-null  int64  \n",
      " 9   EstimatedSalary  10000 non-null  float64\n",
      " 10  Exited           10000 non-null  int64  \n",
      "dtypes: float64(3), int64(6), object(2)\n",
      "memory usage: 859.5+ KB\n"
     ]
    }
   ],
   "source": [
    "df.info()"
   ],
   "metadata": {
    "collapsed": false,
    "ExecuteTime": {
     "end_time": "2023-11-22T11:01:02.689530700Z",
     "start_time": "2023-11-22T11:01:02.613271600Z"
    }
   }
  },
  {
   "cell_type": "code",
   "execution_count": 15,
   "outputs": [],
   "source": [
    "# сохраним признаки и целевой признак в отдельных переменных:\n",
    "y = df['Exited']\n",
    "X = df.drop('Exited', axis=1)"
   ],
   "metadata": {
    "collapsed": false,
    "ExecuteTime": {
     "end_time": "2023-11-22T11:01:03.260429200Z",
     "start_time": "2023-11-22T11:01:03.206075200Z"
    }
   }
  },
  {
   "cell_type": "code",
   "execution_count": 16,
   "outputs": [],
   "source": [
    "# разобьем исходные данные на обучающую и тестовую выборки в соотношении 4:1:\n",
    "X_train, X_test, y_train, y_test = train_test_split(X, y, test_size=0.2, random_state=12345, stratify=y)"
   ],
   "metadata": {
    "collapsed": false,
    "ExecuteTime": {
     "end_time": "2023-11-22T11:01:04.195334500Z",
     "start_time": "2023-11-22T11:01:04.111693900Z"
    }
   }
  },
  {
   "cell_type": "code",
   "execution_count": 17,
   "outputs": [
    {
     "name": "stdout",
     "output_type": "stream",
     "text": [
      "Размер обучающей выборки: (8000, 10)\n",
      "Размер тестовой выборки: (2000, 10)\n"
     ]
    }
   ],
   "source": [
    "# посмотрим на размеры выборок:\n",
    "print('Размер обучающей выборки:', X_train.shape)\n",
    "print('Размер тестовой выборки:', X_test.shape)"
   ],
   "metadata": {
    "collapsed": false,
    "ExecuteTime": {
     "end_time": "2023-11-22T11:01:05.094800Z",
     "start_time": "2023-11-22T11:01:05.016677200Z"
    }
   }
  },
  {
   "cell_type": "markdown",
   "source": [
    "Для автоматизации процесса подготовим численный и категориальный пайплайны.\n",
    "- Попробуем разные стратегии заполнения пропусков для SimpleImputer.\n",
    "- Объединим пайплайны классом ColumnTransformer.\n",
    "-\n",
    "-"
   ],
   "metadata": {
    "collapsed": false
   }
  },
  {
   "cell_type": "code",
   "execution_count": 18,
   "outputs": [],
   "source": [
    "# внесем в переменные списки все численные и категориальные признаки:\n",
    "categorical_features = X_train.select_dtypes(include=['object']).columns.tolist()\n",
    "numeric_features = X_train.select_dtypes(exclude=['object']).columns.tolist()\n",
    "binary_features = ['HasCrCard', 'IsActiveMember']\n",
    "numeric_features = list(set(numeric_features) - set(binary_features))"
   ],
   "metadata": {
    "collapsed": false,
    "ExecuteTime": {
     "end_time": "2023-11-22T11:01:10.211531200Z",
     "start_time": "2023-11-22T11:01:10.139475300Z"
    }
   }
  },
  {
   "cell_type": "code",
   "execution_count": 19,
   "outputs": [
    {
     "data": {
      "text/plain": "['Tenure', 'NumOfProducts', 'EstimatedSalary', 'Balance', 'CreditScore', 'Age']"
     },
     "execution_count": 19,
     "metadata": {},
     "output_type": "execute_result"
    }
   ],
   "source": [
    "numeric_features"
   ],
   "metadata": {
    "collapsed": false,
    "ExecuteTime": {
     "end_time": "2023-11-22T11:01:11.271572800Z",
     "start_time": "2023-11-22T11:01:11.192205Z"
    }
   }
  },
  {
   "cell_type": "code",
   "execution_count": 20,
   "outputs": [
    {
     "data": {
      "text/plain": "['Geography', 'Gender']"
     },
     "execution_count": 20,
     "metadata": {},
     "output_type": "execute_result"
    }
   ],
   "source": [
    "categorical_features"
   ],
   "metadata": {
    "collapsed": false,
    "ExecuteTime": {
     "end_time": "2023-11-22T11:01:11.531476600Z",
     "start_time": "2023-11-22T11:01:11.454061500Z"
    }
   }
  },
  {
   "cell_type": "code",
   "execution_count": 21,
   "outputs": [
    {
     "data": {
      "text/plain": "['HasCrCard', 'IsActiveMember']"
     },
     "execution_count": 21,
     "metadata": {},
     "output_type": "execute_result"
    }
   ],
   "source": [
    "binary_features"
   ],
   "metadata": {
    "collapsed": false,
    "ExecuteTime": {
     "end_time": "2023-11-22T11:01:11.787891500Z",
     "start_time": "2023-11-22T11:01:11.726664100Z"
    }
   }
  },
  {
   "cell_type": "markdown",
   "source": [
    "# 2. Обучение модели без учёта дисбаланса классов (XGBoost)"
   ],
   "metadata": {
    "collapsed": false
   }
  },
  {
   "cell_type": "code",
   "execution_count": 22,
   "outputs": [],
   "source": [
    "pipe_cat = Pipeline([\n",
    "    ('enc', OneHotEncoder(handle_unknown='error', drop='first'))\n",
    "])\n",
    "\n",
    "pipe_num = Pipeline([\n",
    "    ('imp', SimpleImputer(fill_value=-1, add_indicator=True)),\n",
    "    ('pt', PowerTransformer()) \n",
    "])\n",
    "\n",
    "preprocessor = ColumnTransformer([\n",
    "    (\"cat\", pipe_cat, categorical_features),\n",
    "    (\"num\", pipe_num, numeric_features)\n",
    "\n",
    "], remainder='passthrough')\n",
    "\n",
    "pipe = Pipeline([\n",
    "    ('preprocessor', preprocessor),\n",
    "    ('model', xgb.XGBClassifier(random_state=12345))\n",
    "])"
   ],
   "metadata": {
    "collapsed": false,
    "ExecuteTime": {
     "end_time": "2023-11-22T11:01:13.322637100Z",
     "start_time": "2023-11-22T11:01:13.261856900Z"
    }
   }
  },
  {
   "cell_type": "code",
   "execution_count": 23,
   "outputs": [
    {
     "data": {
      "text/plain": "Pipeline(steps=[('preprocessor',\n                 ColumnTransformer(remainder='passthrough',\n                                   transformers=[('cat',\n                                                  Pipeline(steps=[('enc',\n                                                                   OneHotEncoder(drop='first'))]),\n                                                  ['Geography', 'Gender']),\n                                                 ('num',\n                                                  Pipeline(steps=[('imp',\n                                                                   SimpleImputer(add_indicator=True,\n                                                                                 fill_value=-1)),\n                                                                  ('pt',\n                                                                   PowerTransformer())]),\n                                                  ['Balance', 'NumOfProducts',\n                                                   'Age', 'EstimatedSalary',\n                                                   'Tenure',\n                                                   'CreditSco...\n                               feature_types=None, gamma=None, grow_policy=None,\n                               importance_type=None,\n                               interaction_constraints=None, learning_rate=None,\n                               max_bin=None, max_cat_threshold=None,\n                               max_cat_to_onehot=None, max_delta_step=None,\n                               max_depth=None, max_leaves=None,\n                               min_child_weight=None, missing=nan,\n                               monotone_constraints=None, multi_strategy=None,\n                               n_estimators=None, n_jobs=None,\n                               num_parallel_tree=None, random_state=12345, ...))])",
      "text/html": "<style>#sk-container-id-1 {color: black;}#sk-container-id-1 pre{padding: 0;}#sk-container-id-1 div.sk-toggleable {background-color: white;}#sk-container-id-1 label.sk-toggleable__label {cursor: pointer;display: block;width: 100%;margin-bottom: 0;padding: 0.3em;box-sizing: border-box;text-align: center;}#sk-container-id-1 label.sk-toggleable__label-arrow:before {content: \"▸\";float: left;margin-right: 0.25em;color: #696969;}#sk-container-id-1 label.sk-toggleable__label-arrow:hover:before {color: black;}#sk-container-id-1 div.sk-estimator:hover label.sk-toggleable__label-arrow:before {color: black;}#sk-container-id-1 div.sk-toggleable__content {max-height: 0;max-width: 0;overflow: hidden;text-align: left;background-color: #f0f8ff;}#sk-container-id-1 div.sk-toggleable__content pre {margin: 0.2em;color: black;border-radius: 0.25em;background-color: #f0f8ff;}#sk-container-id-1 input.sk-toggleable__control:checked~div.sk-toggleable__content {max-height: 200px;max-width: 100%;overflow: auto;}#sk-container-id-1 input.sk-toggleable__control:checked~label.sk-toggleable__label-arrow:before {content: \"▾\";}#sk-container-id-1 div.sk-estimator input.sk-toggleable__control:checked~label.sk-toggleable__label {background-color: #d4ebff;}#sk-container-id-1 div.sk-label input.sk-toggleable__control:checked~label.sk-toggleable__label {background-color: #d4ebff;}#sk-container-id-1 input.sk-hidden--visually {border: 0;clip: rect(1px 1px 1px 1px);clip: rect(1px, 1px, 1px, 1px);height: 1px;margin: -1px;overflow: hidden;padding: 0;position: absolute;width: 1px;}#sk-container-id-1 div.sk-estimator {font-family: monospace;background-color: #f0f8ff;border: 1px dotted black;border-radius: 0.25em;box-sizing: border-box;margin-bottom: 0.5em;}#sk-container-id-1 div.sk-estimator:hover {background-color: #d4ebff;}#sk-container-id-1 div.sk-parallel-item::after {content: \"\";width: 100%;border-bottom: 1px solid gray;flex-grow: 1;}#sk-container-id-1 div.sk-label:hover label.sk-toggleable__label {background-color: #d4ebff;}#sk-container-id-1 div.sk-serial::before {content: \"\";position: absolute;border-left: 1px solid gray;box-sizing: border-box;top: 0;bottom: 0;left: 50%;z-index: 0;}#sk-container-id-1 div.sk-serial {display: flex;flex-direction: column;align-items: center;background-color: white;padding-right: 0.2em;padding-left: 0.2em;position: relative;}#sk-container-id-1 div.sk-item {position: relative;z-index: 1;}#sk-container-id-1 div.sk-parallel {display: flex;align-items: stretch;justify-content: center;background-color: white;position: relative;}#sk-container-id-1 div.sk-item::before, #sk-container-id-1 div.sk-parallel-item::before {content: \"\";position: absolute;border-left: 1px solid gray;box-sizing: border-box;top: 0;bottom: 0;left: 50%;z-index: -1;}#sk-container-id-1 div.sk-parallel-item {display: flex;flex-direction: column;z-index: 1;position: relative;background-color: white;}#sk-container-id-1 div.sk-parallel-item:first-child::after {align-self: flex-end;width: 50%;}#sk-container-id-1 div.sk-parallel-item:last-child::after {align-self: flex-start;width: 50%;}#sk-container-id-1 div.sk-parallel-item:only-child::after {width: 0;}#sk-container-id-1 div.sk-dashed-wrapped {border: 1px dashed gray;margin: 0 0.4em 0.5em 0.4em;box-sizing: border-box;padding-bottom: 0.4em;background-color: white;}#sk-container-id-1 div.sk-label label {font-family: monospace;font-weight: bold;display: inline-block;line-height: 1.2em;}#sk-container-id-1 div.sk-label-container {text-align: center;}#sk-container-id-1 div.sk-container {/* jupyter's `normalize.less` sets `[hidden] { display: none; }` but bootstrap.min.css set `[hidden] { display: none !important; }` so we also need the `!important` here to be able to override the default hidden behavior on the sphinx rendered scikit-learn.org. See: https://github.com/scikit-learn/scikit-learn/issues/21755 */display: inline-block !important;position: relative;}#sk-container-id-1 div.sk-text-repr-fallback {display: none;}</style><div id=\"sk-container-id-1\" class=\"sk-top-container\"><div class=\"sk-text-repr-fallback\"><pre>Pipeline(steps=[(&#x27;preprocessor&#x27;,\n                 ColumnTransformer(remainder=&#x27;passthrough&#x27;,\n                                   transformers=[(&#x27;cat&#x27;,\n                                                  Pipeline(steps=[(&#x27;enc&#x27;,\n                                                                   OneHotEncoder(drop=&#x27;first&#x27;))]),\n                                                  [&#x27;Geography&#x27;, &#x27;Gender&#x27;]),\n                                                 (&#x27;num&#x27;,\n                                                  Pipeline(steps=[(&#x27;imp&#x27;,\n                                                                   SimpleImputer(add_indicator=True,\n                                                                                 fill_value=-1)),\n                                                                  (&#x27;pt&#x27;,\n                                                                   PowerTransformer())]),\n                                                  [&#x27;Balance&#x27;, &#x27;NumOfProducts&#x27;,\n                                                   &#x27;Age&#x27;, &#x27;EstimatedSalary&#x27;,\n                                                   &#x27;Tenure&#x27;,\n                                                   &#x27;CreditSco...\n                               feature_types=None, gamma=None, grow_policy=None,\n                               importance_type=None,\n                               interaction_constraints=None, learning_rate=None,\n                               max_bin=None, max_cat_threshold=None,\n                               max_cat_to_onehot=None, max_delta_step=None,\n                               max_depth=None, max_leaves=None,\n                               min_child_weight=None, missing=nan,\n                               monotone_constraints=None, multi_strategy=None,\n                               n_estimators=None, n_jobs=None,\n                               num_parallel_tree=None, random_state=12345, ...))])</pre><b>In a Jupyter environment, please rerun this cell to show the HTML representation or trust the notebook. <br />On GitHub, the HTML representation is unable to render, please try loading this page with nbviewer.org.</b></div><div class=\"sk-container\" hidden><div class=\"sk-item sk-dashed-wrapped\"><div class=\"sk-label-container\"><div class=\"sk-label sk-toggleable\"><input class=\"sk-toggleable__control sk-hidden--visually\" id=\"sk-estimator-id-1\" type=\"checkbox\" ><label for=\"sk-estimator-id-1\" class=\"sk-toggleable__label sk-toggleable__label-arrow\">Pipeline</label><div class=\"sk-toggleable__content\"><pre>Pipeline(steps=[(&#x27;preprocessor&#x27;,\n                 ColumnTransformer(remainder=&#x27;passthrough&#x27;,\n                                   transformers=[(&#x27;cat&#x27;,\n                                                  Pipeline(steps=[(&#x27;enc&#x27;,\n                                                                   OneHotEncoder(drop=&#x27;first&#x27;))]),\n                                                  [&#x27;Geography&#x27;, &#x27;Gender&#x27;]),\n                                                 (&#x27;num&#x27;,\n                                                  Pipeline(steps=[(&#x27;imp&#x27;,\n                                                                   SimpleImputer(add_indicator=True,\n                                                                                 fill_value=-1)),\n                                                                  (&#x27;pt&#x27;,\n                                                                   PowerTransformer())]),\n                                                  [&#x27;Balance&#x27;, &#x27;NumOfProducts&#x27;,\n                                                   &#x27;Age&#x27;, &#x27;EstimatedSalary&#x27;,\n                                                   &#x27;Tenure&#x27;,\n                                                   &#x27;CreditSco...\n                               feature_types=None, gamma=None, grow_policy=None,\n                               importance_type=None,\n                               interaction_constraints=None, learning_rate=None,\n                               max_bin=None, max_cat_threshold=None,\n                               max_cat_to_onehot=None, max_delta_step=None,\n                               max_depth=None, max_leaves=None,\n                               min_child_weight=None, missing=nan,\n                               monotone_constraints=None, multi_strategy=None,\n                               n_estimators=None, n_jobs=None,\n                               num_parallel_tree=None, random_state=12345, ...))])</pre></div></div></div><div class=\"sk-serial\"><div class=\"sk-item sk-dashed-wrapped\"><div class=\"sk-label-container\"><div class=\"sk-label sk-toggleable\"><input class=\"sk-toggleable__control sk-hidden--visually\" id=\"sk-estimator-id-2\" type=\"checkbox\" ><label for=\"sk-estimator-id-2\" class=\"sk-toggleable__label sk-toggleable__label-arrow\">preprocessor: ColumnTransformer</label><div class=\"sk-toggleable__content\"><pre>ColumnTransformer(remainder=&#x27;passthrough&#x27;,\n                  transformers=[(&#x27;cat&#x27;,\n                                 Pipeline(steps=[(&#x27;enc&#x27;,\n                                                  OneHotEncoder(drop=&#x27;first&#x27;))]),\n                                 [&#x27;Geography&#x27;, &#x27;Gender&#x27;]),\n                                (&#x27;num&#x27;,\n                                 Pipeline(steps=[(&#x27;imp&#x27;,\n                                                  SimpleImputer(add_indicator=True,\n                                                                fill_value=-1)),\n                                                 (&#x27;pt&#x27;, PowerTransformer())]),\n                                 [&#x27;Balance&#x27;, &#x27;NumOfProducts&#x27;, &#x27;Age&#x27;,\n                                  &#x27;EstimatedSalary&#x27;, &#x27;Tenure&#x27;,\n                                  &#x27;CreditScore&#x27;])])</pre></div></div></div><div class=\"sk-parallel\"><div class=\"sk-parallel-item\"><div class=\"sk-item\"><div class=\"sk-label-container\"><div class=\"sk-label sk-toggleable\"><input class=\"sk-toggleable__control sk-hidden--visually\" id=\"sk-estimator-id-3\" type=\"checkbox\" ><label for=\"sk-estimator-id-3\" class=\"sk-toggleable__label sk-toggleable__label-arrow\">cat</label><div class=\"sk-toggleable__content\"><pre>[&#x27;Geography&#x27;, &#x27;Gender&#x27;]</pre></div></div></div><div class=\"sk-serial\"><div class=\"sk-item\"><div class=\"sk-serial\"><div class=\"sk-item\"><div class=\"sk-estimator sk-toggleable\"><input class=\"sk-toggleable__control sk-hidden--visually\" id=\"sk-estimator-id-4\" type=\"checkbox\" ><label for=\"sk-estimator-id-4\" class=\"sk-toggleable__label sk-toggleable__label-arrow\">OneHotEncoder</label><div class=\"sk-toggleable__content\"><pre>OneHotEncoder(drop=&#x27;first&#x27;)</pre></div></div></div></div></div></div></div></div><div class=\"sk-parallel-item\"><div class=\"sk-item\"><div class=\"sk-label-container\"><div class=\"sk-label sk-toggleable\"><input class=\"sk-toggleable__control sk-hidden--visually\" id=\"sk-estimator-id-5\" type=\"checkbox\" ><label for=\"sk-estimator-id-5\" class=\"sk-toggleable__label sk-toggleable__label-arrow\">num</label><div class=\"sk-toggleable__content\"><pre>[&#x27;Balance&#x27;, &#x27;NumOfProducts&#x27;, &#x27;Age&#x27;, &#x27;EstimatedSalary&#x27;, &#x27;Tenure&#x27;, &#x27;CreditScore&#x27;]</pre></div></div></div><div class=\"sk-serial\"><div class=\"sk-item\"><div class=\"sk-serial\"><div class=\"sk-item\"><div class=\"sk-estimator sk-toggleable\"><input class=\"sk-toggleable__control sk-hidden--visually\" id=\"sk-estimator-id-6\" type=\"checkbox\" ><label for=\"sk-estimator-id-6\" class=\"sk-toggleable__label sk-toggleable__label-arrow\">SimpleImputer</label><div class=\"sk-toggleable__content\"><pre>SimpleImputer(add_indicator=True, fill_value=-1)</pre></div></div></div><div class=\"sk-item\"><div class=\"sk-estimator sk-toggleable\"><input class=\"sk-toggleable__control sk-hidden--visually\" id=\"sk-estimator-id-7\" type=\"checkbox\" ><label for=\"sk-estimator-id-7\" class=\"sk-toggleable__label sk-toggleable__label-arrow\">PowerTransformer</label><div class=\"sk-toggleable__content\"><pre>PowerTransformer()</pre></div></div></div></div></div></div></div></div><div class=\"sk-parallel-item\"><div class=\"sk-item\"><div class=\"sk-label-container\"><div class=\"sk-label sk-toggleable\"><input class=\"sk-toggleable__control sk-hidden--visually\" id=\"sk-estimator-id-8\" type=\"checkbox\" ><label for=\"sk-estimator-id-8\" class=\"sk-toggleable__label sk-toggleable__label-arrow\">remainder</label><div class=\"sk-toggleable__content\"><pre></pre></div></div></div><div class=\"sk-serial\"><div class=\"sk-item\"><div class=\"sk-estimator sk-toggleable\"><input class=\"sk-toggleable__control sk-hidden--visually\" id=\"sk-estimator-id-9\" type=\"checkbox\" ><label for=\"sk-estimator-id-9\" class=\"sk-toggleable__label sk-toggleable__label-arrow\">passthrough</label><div class=\"sk-toggleable__content\"><pre>passthrough</pre></div></div></div></div></div></div></div></div><div class=\"sk-item\"><div class=\"sk-estimator sk-toggleable\"><input class=\"sk-toggleable__control sk-hidden--visually\" id=\"sk-estimator-id-10\" type=\"checkbox\" ><label for=\"sk-estimator-id-10\" class=\"sk-toggleable__label sk-toggleable__label-arrow\">XGBClassifier</label><div class=\"sk-toggleable__content\"><pre>XGBClassifier(base_score=None, booster=None, callbacks=None,\n              colsample_bylevel=None, colsample_bynode=None,\n              colsample_bytree=None, device=None, early_stopping_rounds=None,\n              enable_categorical=False, eval_metric=None, feature_types=None,\n              gamma=None, grow_policy=None, importance_type=None,\n              interaction_constraints=None, learning_rate=None, max_bin=None,\n              max_cat_threshold=None, max_cat_to_onehot=None,\n              max_delta_step=None, max_depth=None, max_leaves=None,\n              min_child_weight=None, missing=nan, monotone_constraints=None,\n              multi_strategy=None, n_estimators=None, n_jobs=None,\n              num_parallel_tree=None, random_state=12345, ...)</pre></div></div></div></div></div></div></div>"
     },
     "execution_count": 23,
     "metadata": {},
     "output_type": "execute_result"
    }
   ],
   "source": [
    "pipe"
   ],
   "metadata": {
    "collapsed": false,
    "ExecuteTime": {
     "end_time": "2023-11-21T16:08:28.672790700Z",
     "start_time": "2023-11-21T16:08:28.503537400Z"
    }
   }
  },
  {
   "cell_type": "code",
   "execution_count": 24,
   "outputs": [],
   "source": [
    "def optuna_optimize(trial):\n",
    "    param_grid = {\n",
    "        'model__n_estimators': trial.suggest_int('model__n_estimators', 50, 250),\n",
    "        'model__max_depth': trial.suggest_int('model__max_depth', 2, 10),\n",
    "        'model__eta': trial.suggest_float('model__eta', 0.01, 1.5)\n",
    "    }\n",
    "\n",
    "    pipe.set_params(**param_grid)\n",
    "    score = cross_val_score(pipe, X_train, y_train, cv=5, scoring='f1').mean()\n",
    "    return score"
   ],
   "metadata": {
    "collapsed": false,
    "ExecuteTime": {
     "end_time": "2023-11-21T16:08:30.123163200Z",
     "start_time": "2023-11-21T16:08:30.029931300Z"
    }
   }
  },
  {
   "cell_type": "code",
   "execution_count": 25,
   "outputs": [
    {
     "name": "stderr",
     "output_type": "stream",
     "text": [
      "[I 2023-11-21 19:08:31,963] A new study created in memory with name: XGBoost Optuna Optimization Imbalanced\n"
     ]
    }
   ],
   "source": [
    "study_xgb = optuna.create_study(study_name=\"XGBoost Optuna Optimization Imbalanced\",\n",
    "                                direction='maximize')"
   ],
   "metadata": {
    "collapsed": false,
    "ExecuteTime": {
     "end_time": "2023-11-21T16:08:32.085972200Z",
     "start_time": "2023-11-21T16:08:31.967748700Z"
    }
   }
  },
  {
   "cell_type": "code",
   "execution_count": 26,
   "outputs": [
    {
     "name": "stderr",
     "output_type": "stream",
     "text": [
      "[I 2023-11-21 19:08:36,569] Trial 0 finished with value: 0.5328481157436518 and parameters: {'model__n_estimators': 212, 'model__max_depth': 8, 'model__eta': 1.139093211207534}. Best is trial 0 with value: 0.5328481157436518.\n",
      "[I 2023-11-21 19:08:37,920] Trial 1 finished with value: 0.5830631477453424 and parameters: {'model__n_estimators': 187, 'model__max_depth': 3, 'model__eta': 0.1889150219662568}. Best is trial 1 with value: 0.5830631477453424.\n",
      "[I 2023-11-21 19:08:39,469] Trial 2 finished with value: 0.5614947767310493 and parameters: {'model__n_estimators': 187, 'model__max_depth': 4, 'model__eta': 0.2730866247457957}. Best is trial 1 with value: 0.5830631477453424.\n",
      "[I 2023-11-21 19:08:40,782] Trial 3 finished with value: 0.5570136427243216 and parameters: {'model__n_estimators': 214, 'model__max_depth': 2, 'model__eta': 1.290343631563269}. Best is trial 1 with value: 0.5830631477453424.\n",
      "[I 2023-11-21 19:08:42,587] Trial 4 finished with value: 0.5153097620111223 and parameters: {'model__n_estimators': 247, 'model__max_depth': 4, 'model__eta': 1.494029586565979}. Best is trial 1 with value: 0.5830631477453424.\n",
      "[I 2023-11-21 19:08:43,854] Trial 5 finished with value: 0.5620924836327805 and parameters: {'model__n_estimators': 244, 'model__max_depth': 2, 'model__eta': 1.029016209293284}. Best is trial 1 with value: 0.5830631477453424.\n",
      "[I 2023-11-21 19:08:45,736] Trial 6 finished with value: 0.5492689095227381 and parameters: {'model__n_estimators': 248, 'model__max_depth': 5, 'model__eta': 0.47007600788097703}. Best is trial 1 with value: 0.5830631477453424.\n",
      "[I 2023-11-21 19:08:46,970] Trial 7 finished with value: 0.5852977461316469 and parameters: {'model__n_estimators': 55, 'model__max_depth': 7, 'model__eta': 0.09927476846097168}. Best is trial 7 with value: 0.5852977461316469.\n",
      "[I 2023-11-21 19:08:49,046] Trial 8 finished with value: 0.5597435414486371 and parameters: {'model__n_estimators': 231, 'model__max_depth': 6, 'model__eta': 0.48163119304336266}. Best is trial 7 with value: 0.5852977461316469.\n",
      "[I 2023-11-21 19:08:50,263] Trial 9 finished with value: 0.5428948594505656 and parameters: {'model__n_estimators': 79, 'model__max_depth': 6, 'model__eta': 1.1527712865620778}. Best is trial 7 with value: 0.5852977461316469.\n",
      "[I 2023-11-21 19:08:52,490] Trial 10 finished with value: 0.5191662591953794 and parameters: {'model__n_estimators': 57, 'model__max_depth': 10, 'model__eta': 0.023599352811456503}. Best is trial 7 with value: 0.5852977461316469.\n",
      "[I 2023-11-21 19:08:58,486] Trial 11 finished with value: 0.5691409156844268 and parameters: {'model__n_estimators': 129, 'model__max_depth': 8, 'model__eta': 0.06401925576751175}. Best is trial 7 with value: 0.5852977461316469.\n",
      "[I 2023-11-21 19:09:02,986] Trial 12 finished with value: 0.5395719937924609 and parameters: {'model__n_estimators': 153, 'model__max_depth': 8, 'model__eta': 0.7343805646006465}. Best is trial 7 with value: 0.5852977461316469.\n",
      "[I 2023-11-21 19:09:05,420] Trial 13 finished with value: 0.580094052335139 and parameters: {'model__n_estimators': 113, 'model__max_depth': 4, 'model__eta': 0.2232939052786187}. Best is trial 7 with value: 0.5852977461316469.\n",
      "[I 2023-11-21 19:09:10,973] Trial 14 finished with value: 0.5595516020194045 and parameters: {'model__n_estimators': 169, 'model__max_depth': 10, 'model__eta': 0.2651855368256666}. Best is trial 7 with value: 0.5852977461316469.\n",
      "[I 2023-11-21 19:09:14,664] Trial 15 finished with value: 0.5709176184113895 and parameters: {'model__n_estimators': 119, 'model__max_depth': 7, 'model__eta': 0.029252181964007237}. Best is trial 7 with value: 0.5852977461316469.\n",
      "[I 2023-11-21 19:09:16,031] Trial 16 finished with value: 0.5666921421889697 and parameters: {'model__n_estimators': 90, 'model__max_depth': 5, 'model__eta': 0.4979605219573404}. Best is trial 7 with value: 0.5852977461316469.\n",
      "[I 2023-11-21 19:09:17,320] Trial 17 finished with value: 0.5612441683337941 and parameters: {'model__n_estimators': 180, 'model__max_depth': 3, 'model__eta': 0.6737205261804268}. Best is trial 7 with value: 0.5852977461316469.\n",
      "[I 2023-11-21 19:09:18,557] Trial 18 finished with value: 0.5754662944050343 and parameters: {'model__n_estimators': 50, 'model__max_depth': 7, 'model__eta': 0.19132918947223335}. Best is trial 7 with value: 0.5852977461316469.\n",
      "[I 2023-11-21 19:09:20,748] Trial 19 finished with value: 0.5584105010318213 and parameters: {'model__n_estimators': 142, 'model__max_depth': 9, 'model__eta': 0.34265436075279254}. Best is trial 7 with value: 0.5852977461316469.\n",
      "[I 2023-11-21 19:09:22,114] Trial 20 finished with value: 0.5839260981421954 and parameters: {'model__n_estimators': 202, 'model__max_depth': 3, 'model__eta': 0.11343405507585495}. Best is trial 7 with value: 0.5852977461316469.\n",
      "[I 2023-11-21 19:09:23,437] Trial 21 finished with value: 0.5829876926429616 and parameters: {'model__n_estimators': 199, 'model__max_depth': 3, 'model__eta': 0.08102744130564668}. Best is trial 7 with value: 0.5852977461316469.\n",
      "[I 2023-11-21 19:09:24,638] Trial 22 finished with value: 0.5833057683808411 and parameters: {'model__n_estimators': 160, 'model__max_depth': 3, 'model__eta': 0.15743807088186063}. Best is trial 7 with value: 0.5852977461316469.\n",
      "[I 2023-11-21 19:09:26,129] Trial 23 finished with value: 0.5478362768593887 and parameters: {'model__n_estimators': 157, 'model__max_depth': 5, 'model__eta': 0.39867197758443257}. Best is trial 7 with value: 0.5852977461316469.\n",
      "[I 2023-11-21 19:09:27,104] Trial 24 finished with value: 0.5713465273224054 and parameters: {'model__n_estimators': 85, 'model__max_depth': 2, 'model__eta': 0.18613708273101762}. Best is trial 7 with value: 0.5852977461316469.\n",
      "[I 2023-11-21 19:09:28,632] Trial 25 finished with value: 0.5547202955912068 and parameters: {'model__n_estimators': 105, 'model__max_depth': 7, 'model__eta': 0.5902410979402564}. Best is trial 7 with value: 0.5852977461316469.\n",
      "[I 2023-11-21 19:09:29,781] Trial 26 finished with value: 0.5800569309512014 and parameters: {'model__n_estimators': 141, 'model__max_depth': 3, 'model__eta': 0.3508397143843613}. Best is trial 7 with value: 0.5852977461316469.\n",
      "[I 2023-11-21 19:09:31,161] Trial 27 finished with value: 0.5882960517208214 and parameters: {'model__n_estimators': 166, 'model__max_depth': 4, 'model__eta': 0.12872229943826174}. Best is trial 27 with value: 0.5882960517208214.\n",
      "[I 2023-11-21 19:09:32,860] Trial 28 finished with value: 0.5729901131633707 and parameters: {'model__n_estimators': 206, 'model__max_depth': 5, 'model__eta': 0.1325666426499591}. Best is trial 27 with value: 0.5882960517208214.\n",
      "[I 2023-11-21 19:09:34,533] Trial 29 finished with value: 0.5450135851760416 and parameters: {'model__n_estimators': 224, 'model__max_depth': 4, 'model__eta': 0.015712136637578145}. Best is trial 27 with value: 0.5882960517208214.\n",
      "[I 2023-11-21 19:09:36,323] Trial 30 finished with value: 0.5549665661427099 and parameters: {'model__n_estimators': 169, 'model__max_depth': 6, 'model__eta': 0.3087994640804872}. Best is trial 27 with value: 0.5882960517208214.\n",
      "[I 2023-11-21 19:09:37,575] Trial 31 finished with value: 0.5814935605203683 and parameters: {'model__n_estimators': 174, 'model__max_depth': 3, 'model__eta': 0.16483405741161117}. Best is trial 27 with value: 0.5882960517208214.\n",
      "[I 2023-11-21 19:09:39,019] Trial 32 finished with value: 0.5832105980291181 and parameters: {'model__n_estimators': 193, 'model__max_depth': 4, 'model__eta': 0.12414877930314197}. Best is trial 27 with value: 0.5882960517208214.\n",
      "[I 2023-11-21 19:09:40,155] Trial 33 finished with value: 0.5763703598515564 and parameters: {'model__n_estimators': 160, 'model__max_depth': 2, 'model__eta': 0.25317381357182145}. Best is trial 27 with value: 0.5882960517208214.\n",
      "[I 2023-11-21 19:09:41,335] Trial 34 finished with value: 0.5784998204346639 and parameters: {'model__n_estimators': 136, 'model__max_depth': 3, 'model__eta': 0.1102955648392734}. Best is trial 27 with value: 0.5882960517208214.\n",
      "[I 2023-11-21 19:09:42,764] Trial 35 finished with value: 0.5733179726628059 and parameters: {'model__n_estimators': 183, 'model__max_depth': 4, 'model__eta': 0.25192755405471495}. Best is trial 27 with value: 0.5882960517208214.\n",
      "[I 2023-11-21 19:09:43,985] Trial 36 finished with value: 0.5754751134590159 and parameters: {'model__n_estimators': 220, 'model__max_depth': 2, 'model__eta': 0.13814931776728262}. Best is trial 27 with value: 0.5882960517208214.\n",
      "[I 2023-11-21 19:09:45,309] Trial 37 finished with value: 0.575611573228425 and parameters: {'model__n_estimators': 203, 'model__max_depth': 3, 'model__eta': 0.3760645302440611}. Best is trial 27 with value: 0.5882960517208214.\n",
      "[I 2023-11-21 19:09:46,414] Trial 38 finished with value: 0.5810119004442906 and parameters: {'model__n_estimators': 69, 'model__max_depth': 5, 'model__eta': 0.21018327843652623}. Best is trial 27 with value: 0.5882960517208214.\n",
      "[I 2023-11-21 19:09:47,579] Trial 39 finished with value: 0.46236997247900424 and parameters: {'model__n_estimators': 99, 'model__max_depth': 4, 'model__eta': 0.01212261784171799}. Best is trial 27 with value: 0.5882960517208214.\n",
      "[I 2023-11-21 19:09:48,733] Trial 40 finished with value: 0.5722575383706032 and parameters: {'model__n_estimators': 191, 'model__max_depth': 2, 'model__eta': 0.8691234488138984}. Best is trial 27 with value: 0.5882960517208214.\n",
      "[I 2023-11-21 19:09:50,190] Trial 41 finished with value: 0.5787255317347668 and parameters: {'model__n_estimators': 196, 'model__max_depth': 4, 'model__eta': 0.11750724462402831}. Best is trial 27 with value: 0.5882960517208214.\n",
      "[I 2023-11-21 19:09:51,584] Trial 42 finished with value: 0.5851501715226088 and parameters: {'model__n_estimators': 212, 'model__max_depth': 3, 'model__eta': 0.1007055976276274}. Best is trial 27 with value: 0.5882960517208214.\n",
      "[I 2023-11-21 19:09:53,092] Trial 43 finished with value: 0.5833610191578055 and parameters: {'model__n_estimators': 233, 'model__max_depth': 3, 'model__eta': 0.0839993624165924}. Best is trial 27 with value: 0.5882960517208214.\n",
      "[I 2023-11-21 19:09:54,414] Trial 44 finished with value: 0.5708986439370907 and parameters: {'model__n_estimators': 234, 'model__max_depth': 2, 'model__eta': 0.0647503717095036}. Best is trial 27 with value: 0.5882960517208214.\n",
      "[I 2023-11-21 19:09:56,734] Trial 45 finished with value: 0.5512645126914576 and parameters: {'model__n_estimators': 235, 'model__max_depth': 6, 'model__eta': 0.25555262784083066}. Best is trial 27 with value: 0.5882960517208214.\n",
      "[I 2023-11-21 19:09:59,226] Trial 46 finished with value: 0.555269781262741 and parameters: {'model__n_estimators': 211, 'model__max_depth': 7, 'model__eta': 0.3052485441188096}. Best is trial 27 with value: 0.5882960517208214.\n",
      "[I 2023-11-21 19:10:02,654] Trial 47 finished with value: 0.5561700882473257 and parameters: {'model__n_estimators': 250, 'model__max_depth': 8, 'model__eta': 0.08220027955783066}. Best is trial 27 with value: 0.5882960517208214.\n",
      "[I 2023-11-21 19:10:04,303] Trial 48 finished with value: 0.5717331974789028 and parameters: {'model__n_estimators': 218, 'model__max_depth': 4, 'model__eta': 0.20606630725703112}. Best is trial 27 with value: 0.5882960517208214.\n",
      "[I 2023-11-21 19:10:08,304] Trial 49 finished with value: 0.571906561145814 and parameters: {'model__n_estimators': 228, 'model__max_depth': 9, 'model__eta': 0.04791631767112842}. Best is trial 27 with value: 0.5882960517208214.\n",
      "[I 2023-11-21 19:10:09,795] Trial 50 finished with value: 0.5034278830563066 and parameters: {'model__n_estimators': 216, 'model__max_depth': 3, 'model__eta': 0.010567007303848491}. Best is trial 27 with value: 0.5882960517208214.\n",
      "[I 2023-11-21 19:10:11,294] Trial 51 finished with value: 0.5821499462395678 and parameters: {'model__n_estimators': 236, 'model__max_depth': 3, 'model__eta': 0.16540545431229223}. Best is trial 27 with value: 0.5882960517208214.\n",
      "[I 2023-11-21 19:10:12,593] Trial 52 finished with value: 0.5816855623916279 and parameters: {'model__n_estimators': 164, 'model__max_depth': 3, 'model__eta': 0.16461246052247133}. Best is trial 27 with value: 0.5882960517208214.\n",
      "[I 2023-11-21 19:10:13,722] Trial 53 finished with value: 0.5636007566348464 and parameters: {'model__n_estimators': 149, 'model__max_depth': 2, 'model__eta': 0.07253967829832393}. Best is trial 27 with value: 0.5882960517208214.\n",
      "[I 2023-11-21 19:10:15,237] Trial 54 finished with value: 0.5684200544824857 and parameters: {'model__n_estimators': 241, 'model__max_depth': 3, 'model__eta': 0.22332425360494443}. Best is trial 27 with value: 0.5882960517208214.\n",
      "[I 2023-11-21 19:10:17,365] Trial 55 finished with value: 0.568103311846332 and parameters: {'model__n_estimators': 208, 'model__max_depth': 6, 'model__eta': 0.31035231992533907}. Best is trial 27 with value: 0.5882960517208214.\n",
      "[I 2023-11-21 19:10:18,447] Trial 56 finished with value: 0.5642547595053358 and parameters: {'model__n_estimators': 123, 'model__max_depth': 2, 'model__eta': 0.08891381199922191}. Best is trial 27 with value: 0.5882960517208214.\n",
      "[I 2023-11-21 19:10:19,941] Trial 57 finished with value: 0.5783392413446193 and parameters: {'model__n_estimators': 180, 'model__max_depth': 4, 'model__eta': 0.1478662625149375}. Best is trial 27 with value: 0.5882960517208214.\n",
      "[I 2023-11-21 19:10:21,515] Trial 58 finished with value: 0.5650450202188432 and parameters: {'model__n_estimators': 148, 'model__max_depth': 5, 'model__eta': 0.21594776638171595}. Best is trial 27 with value: 0.5882960517208214.\n",
      "[I 2023-11-21 19:10:22,851] Trial 59 finished with value: 0.5769277986745686 and parameters: {'model__n_estimators': 174, 'model__max_depth': 3, 'model__eta': 0.42408213727083494}. Best is trial 27 with value: 0.5882960517208214.\n",
      "[I 2023-11-21 19:10:24,397] Trial 60 finished with value: 0.5668622185351266 and parameters: {'model__n_estimators': 188, 'model__max_depth': 4, 'model__eta': 0.286639150109328}. Best is trial 27 with value: 0.5882960517208214.\n",
      "[I 2023-11-21 19:10:25,816] Trial 61 finished with value: 0.5848209784427816 and parameters: {'model__n_estimators': 196, 'model__max_depth': 3, 'model__eta': 0.09961607423330297}. Best is trial 27 with value: 0.5882960517208214.\n",
      "[I 2023-11-21 19:10:27,223] Trial 62 finished with value: 0.5832938802907055 and parameters: {'model__n_estimators': 200, 'model__max_depth': 3, 'model__eta': 0.13333946330094926}. Best is trial 27 with value: 0.5882960517208214.\n",
      "[I 2023-11-21 19:10:29,948] Trial 63 finished with value: 0.5706987265968413 and parameters: {'model__n_estimators': 225, 'model__max_depth': 7, 'model__eta': 0.06558667831813793}. Best is trial 27 with value: 0.5882960517208214.\n",
      "[I 2023-11-21 19:10:31,532] Trial 64 finished with value: 0.5798968612011265 and parameters: {'model__n_estimators': 211, 'model__max_depth': 3, 'model__eta': 0.17926343667279962}. Best is trial 27 with value: 0.5882960517208214.\n",
      "[I 2023-11-21 19:10:33,199] Trial 65 finished with value: 0.572398067036662 and parameters: {'model__n_estimators': 242, 'model__max_depth': 2, 'model__eta': 0.09267144296229071}. Best is trial 27 with value: 0.5882960517208214.\n",
      "[I 2023-11-21 19:10:34,559] Trial 66 finished with value: 0.564110357173683 and parameters: {'model__n_estimators': 177, 'model__max_depth': 3, 'model__eta': 0.04438886367920894}. Best is trial 27 with value: 0.5882960517208214.\n",
      "[I 2023-11-21 19:10:36,002] Trial 67 finished with value: 0.5834779100961512 and parameters: {'model__n_estimators': 165, 'model__max_depth': 4, 'model__eta': 0.1124995360623239}. Best is trial 27 with value: 0.5882960517208214.\n",
      "[I 2023-11-21 19:10:37,479] Trial 68 finished with value: 0.5882838973706902 and parameters: {'model__n_estimators': 169, 'model__max_depth': 4, 'model__eta': 0.1074942174123419}. Best is trial 27 with value: 0.5882960517208214.\n",
      "[I 2023-11-21 19:10:39,138] Trial 69 finished with value: 0.5708353133948896 and parameters: {'model__n_estimators': 170, 'model__max_depth': 5, 'model__eta': 0.24988803931732356}. Best is trial 27 with value: 0.5882960517208214.\n",
      "[I 2023-11-21 19:10:40,684] Trial 70 finished with value: 0.5648685215194995 and parameters: {'model__n_estimators': 187, 'model__max_depth': 4, 'model__eta': 0.3424485557407839}. Best is trial 27 with value: 0.5882960517208214.\n",
      "[I 2023-11-21 19:10:42,141] Trial 71 finished with value: 0.5811707425523046 and parameters: {'model__n_estimators': 166, 'model__max_depth': 4, 'model__eta': 0.09617166762694153}. Best is trial 27 with value: 0.5882960517208214.\n",
      "[I 2023-11-21 19:10:43,677] Trial 72 finished with value: 0.5822399994412617 and parameters: {'model__n_estimators': 184, 'model__max_depth': 4, 'model__eta': 0.12149175142524907}. Best is trial 27 with value: 0.5882960517208214.\n",
      "[I 2023-11-21 19:10:45,349] Trial 73 finished with value: 0.5719563929395826 and parameters: {'model__n_estimators': 156, 'model__max_depth': 5, 'model__eta': 0.03657380052421863}. Best is trial 27 with value: 0.5882960517208214.\n",
      "[I 2023-11-21 19:10:46,680] Trial 74 finished with value: 0.5798972012038186 and parameters: {'model__n_estimators': 132, 'model__max_depth': 4, 'model__eta': 0.19658554190337074}. Best is trial 27 with value: 0.5882960517208214.\n",
      "[I 2023-11-21 19:10:47,669] Trial 75 finished with value: 0.5756671399102015 and parameters: {'model__n_estimators': 67, 'model__max_depth': 3, 'model__eta': 0.15351354139630125}. Best is trial 27 with value: 0.5882960517208214.\n",
      "[I 2023-11-21 19:10:50,094] Trial 76 finished with value: 0.5424052630152761 and parameters: {'model__n_estimators': 204, 'model__max_depth': 6, 'model__eta': 0.010964483258969815}. Best is trial 27 with value: 0.5882960517208214.\n",
      "[I 2023-11-21 19:10:51,782] Trial 77 finished with value: 0.569920831726595 and parameters: {'model__n_estimators': 221, 'model__max_depth': 4, 'model__eta': 0.23156411618988473}. Best is trial 27 with value: 0.5882960517208214.\n",
      "[I 2023-11-21 19:10:54,678] Trial 78 finished with value: 0.5687002426381299 and parameters: {'model__n_estimators': 153, 'model__max_depth': 8, 'model__eta': 0.1115655018282615}. Best is trial 27 with value: 0.5882960517208214.\n",
      "[I 2023-11-21 19:10:56,102] Trial 79 finished with value: 0.5707237214362568 and parameters: {'model__n_estimators': 196, 'model__max_depth': 3, 'model__eta': 0.05573812513101615}. Best is trial 27 with value: 0.5882960517208214.\n",
      "[I 2023-11-21 19:10:57,619] Trial 80 finished with value: 0.569975639941015 and parameters: {'model__n_estimators': 143, 'model__max_depth': 5, 'model__eta': 0.2808415669993491}. Best is trial 27 with value: 0.5882960517208214.\n",
      "[I 2023-11-21 19:10:58,888] Trial 81 finished with value: 0.5768435507814497 and parameters: {'model__n_estimators': 162, 'model__max_depth': 3, 'model__eta': 0.17013892290790233}. Best is trial 27 with value: 0.5882960517208214.\n",
      "[I 2023-11-21 19:11:00,092] Trial 82 finished with value: 0.571064931993677 and parameters: {'model__n_estimators': 170, 'model__max_depth': 2, 'model__eta': 0.12048673406383632}. Best is trial 27 with value: 0.5882960517208214.\n",
      "[I 2023-11-21 19:11:02,162] Trial 83 finished with value: 0.5569077173883976 and parameters: {'model__n_estimators': 156, 'model__max_depth': 7, 'model__eta': 0.19367287926203014}. Best is trial 27 with value: 0.5882960517208214.\n",
      "[I 2023-11-21 19:11:03,702] Trial 84 finished with value: 0.5775379696633252 and parameters: {'model__n_estimators': 177, 'model__max_depth': 4, 'model__eta': 0.055492533513568525}. Best is trial 27 with value: 0.5882960517208214.\n",
      "[I 2023-11-21 19:11:04,946] Trial 85 finished with value: 0.587057319850836 and parameters: {'model__n_estimators': 146, 'model__max_depth': 3, 'model__eta': 0.1413094603752711}. Best is trial 27 with value: 0.5882960517208214.\n",
      "[I 2023-11-21 19:11:05,949] Trial 86 finished with value: 0.5541337123223029 and parameters: {'model__n_estimators': 89, 'model__max_depth': 2, 'model__eta': 0.0962768508403525}. Best is trial 27 with value: 0.5882960517208214.\n",
      "[I 2023-11-21 19:11:07,066] Trial 87 finished with value: 0.5789808285326427 and parameters: {'model__n_estimators': 113, 'model__max_depth': 3, 'model__eta': 0.15377530692454333}. Best is trial 27 with value: 0.5882960517208214.\n",
      "[I 2023-11-21 19:11:08,487] Trial 88 finished with value: 0.5738243044246383 and parameters: {'model__n_estimators': 215, 'model__max_depth': 3, 'model__eta': 0.24376780995183367}. Best is trial 27 with value: 0.5882960517208214.\n",
      "[I 2023-11-21 19:11:10,080] Trial 89 finished with value: 0.5690285548711993 and parameters: {'model__n_estimators': 192, 'model__max_depth': 4, 'model__eta': 0.04317366889432313}. Best is trial 27 with value: 0.5882960517208214.\n",
      "[I 2023-11-21 19:11:11,181] Trial 90 finished with value: 0.5813988770729803 and parameters: {'model__n_estimators': 98, 'model__max_depth': 3, 'model__eta': 0.19929668274782072}. Best is trial 27 with value: 0.5882960517208214.\n",
      "[I 2023-11-21 19:11:12,451] Trial 91 finished with value: 0.5857550655472409 and parameters: {'model__n_estimators': 160, 'model__max_depth': 3, 'model__eta': 0.1428040959069046}. Best is trial 27 with value: 0.5882960517208214.\n",
      "[I 2023-11-21 19:11:13,547] Trial 92 finished with value: 0.5656377528885852 and parameters: {'model__n_estimators': 139, 'model__max_depth': 2, 'model__eta': 0.0904148581099285}. Best is trial 27 with value: 0.5882960517208214.\n",
      "[I 2023-11-21 19:11:14,818] Trial 93 finished with value: 0.5868093786554905 and parameters: {'model__n_estimators': 146, 'model__max_depth': 3, 'model__eta': 0.1258938176759159}. Best is trial 27 with value: 0.5882960517208214.\n",
      "[I 2023-11-21 19:11:16,058] Trial 94 finished with value: 0.5857311669503517 and parameters: {'model__n_estimators': 146, 'model__max_depth': 3, 'model__eta': 0.1384958820237082}. Best is trial 27 with value: 0.5882960517208214.\n",
      "[I 2023-11-21 19:11:17,295] Trial 95 finished with value: 0.5820823523034396 and parameters: {'model__n_estimators': 149, 'model__max_depth': 3, 'model__eta': 0.1503251277321011}. Best is trial 27 with value: 0.5882960517208214.\n",
      "[I 2023-11-21 19:11:18,478] Trial 96 finished with value: 0.5835902721621131 and parameters: {'model__n_estimators': 128, 'model__max_depth': 3, 'model__eta': 0.18654571913819012}. Best is trial 27 with value: 0.5882960517208214.\n",
      "[I 2023-11-21 19:11:19,617] Trial 97 finished with value: 0.5740476477874251 and parameters: {'model__n_estimators': 146, 'model__max_depth': 2, 'model__eta': 0.21982840262372294}. Best is trial 27 with value: 0.5882960517208214.\n",
      "[I 2023-11-21 19:11:20,823] Trial 98 finished with value: 0.583028500346187 and parameters: {'model__n_estimators': 136, 'model__max_depth': 3, 'model__eta': 0.2776948275522354}. Best is trial 27 with value: 0.5882960517208214.\n",
      "[I 2023-11-21 19:11:21,789] Trial 99 finished with value: 0.5600733308662577 and parameters: {'model__n_estimators': 50, 'model__max_depth': 3, 'model__eta': 0.1352631838750414}. Best is trial 27 with value: 0.5882960517208214.\n"
     ]
    }
   ],
   "source": [
    "study_xgb.optimize(optuna_optimize, n_trials=100)"
   ],
   "metadata": {
    "collapsed": false,
    "ExecuteTime": {
     "end_time": "2023-11-21T16:11:21.821939700Z",
     "start_time": "2023-11-21T16:08:33.074108400Z"
    }
   }
  },
  {
   "cell_type": "code",
   "execution_count": 27,
   "outputs": [
    {
     "name": "stdout",
     "output_type": "stream",
     "text": [
      "Наилучшие значения гиперпараметров: {'model__n_estimators': 166, 'model__max_depth': 4, 'model__eta': 0.12872229943826174}\n",
      "f1_score на обучающем наборе: 0.588\n"
     ]
    }
   ],
   "source": [
    "print(\"Наилучшие значения гиперпараметров: {}\".format(study_xgb.best_params))\n",
    "print(\"f1_score на обучающем наборе: {:.3f}\". format(study_xgb.best_value))"
   ],
   "metadata": {
    "collapsed": false,
    "ExecuteTime": {
     "end_time": "2023-11-21T16:13:14.727432Z",
     "start_time": "2023-11-21T16:13:14.616651900Z"
    }
   }
  },
  {
   "cell_type": "code",
   "execution_count": 28,
   "outputs": [],
   "source": [
    "with mlflow.start_run(nested=True):\n",
    "\n",
    "    best_params = study_xgb.best_params\n",
    "    best_score = study_xgb.best_value\n",
    "    mlflow.log_params(best_params)\n",
    "    mlflow.log_metric('f1', best_score)\n",
    "\n",
    "    pipe.set_params(**best_params)\n",
    "    pipe.fit(X_train, y_train)\n",
    "\n",
    "    mlflow.sklearn.log_model(pipe, 'xgb_pipeline_imbalanced')"
   ],
   "metadata": {
    "collapsed": false,
    "ExecuteTime": {
     "end_time": "2023-11-21T16:23:56.215838600Z",
     "start_time": "2023-11-21T16:23:35.227616100Z"
    }
   }
  },
  {
   "cell_type": "markdown",
   "source": [
    "# 3. Обучение моделей с учётом дисбаланса классов\n",
    "## 3.1 Назначение разных весов классам (cost-sensitive learning)\n",
    "### 3.1.1 Модель XGBoost"
   ],
   "metadata": {
    "collapsed": false
   }
  },
  {
   "cell_type": "code",
   "execution_count": 29,
   "outputs": [],
   "source": [
    "cat_pipeline = Pipeline([\n",
    "    ('enc', OneHotEncoder(handle_unknown='error', drop='first'))\n",
    "])\n",
    "\n",
    "num_pipeline = Pipeline([\n",
    "    ('imp', SimpleImputer(fill_value=-1, add_indicator=True)),\n",
    "    ('pt', PowerTransformer())\n",
    "])\n",
    "\n",
    "preprocessor = ColumnTransformer([\n",
    "    (\"cat\", cat_pipeline, categorical_features),\n",
    "    (\"num\", num_pipeline, numeric_features)\n",
    "\n",
    "], remainder='passthrough')\n",
    "\n",
    "# pipe = Pipeline([\n",
    "#     ('preprocessor', preprocessor),\n",
    "#     ('model', xgb.XGBClassifier(random_state=12345, scale_pos_weight=3.91)) # где это написать??? здесь?\n",
    "# ])"
   ],
   "metadata": {
    "collapsed": false,
    "ExecuteTime": {
     "end_time": "2023-11-21T16:28:59.337414700Z",
     "start_time": "2023-11-21T16:28:59.264488Z"
    }
   }
  },
  {
   "cell_type": "code",
   "execution_count": 30,
   "outputs": [],
   "source": [
    "def optuna_optimize(trial):\n",
    "    param = {\n",
    "        'n_estimators': trial.suggest_int('n_estimators', 50, 250),\n",
    "        'max_depth': trial.suggest_int('max_depth', 2, 10),\n",
    "        'eta': trial.suggest_float('eta', 0.01, 1.5)\n",
    "    }\n",
    "\n",
    "    estimator = xgb.XGBClassifier(**param, \n",
    "                                  scale_pos_weight=3.91,\n",
    "                                  random_state=12345) # или здесь??\n",
    "    \n",
    "    xgb_pipe = Pipeline([\n",
    "        ('preprocessor', preprocessor),\n",
    "        ('model', estimator)\n",
    "    ])\n",
    "\n",
    "    score = cross_val_score(xgb_pipe, X_train, y_train, cv=5, scoring='f1').mean()\n",
    "    return score"
   ],
   "metadata": {
    "collapsed": false,
    "ExecuteTime": {
     "end_time": "2023-11-21T16:29:21.442564700Z",
     "start_time": "2023-11-21T16:29:21.170572Z"
    }
   }
  },
  {
   "cell_type": "code",
   "execution_count": 31,
   "outputs": [
    {
     "name": "stderr",
     "output_type": "stream",
     "text": [
      "[I 2023-11-21 19:29:28,127] A new study created in memory with name: XGBoost Optuna Optimization Class Weight\n"
     ]
    }
   ],
   "source": [
    "study_xgb_cw = optuna.create_study(study_name=\"XGBoost Optuna Optimization Class Weight\",\n",
    "                                direction='maximize')"
   ],
   "metadata": {
    "collapsed": false,
    "ExecuteTime": {
     "end_time": "2023-11-21T16:29:28.277443100Z",
     "start_time": "2023-11-21T16:29:28.127046400Z"
    }
   }
  },
  {
   "cell_type": "code",
   "execution_count": 32,
   "outputs": [
    {
     "name": "stderr",
     "output_type": "stream",
     "text": [
      "[I 2023-11-21 19:29:32,930] Trial 0 finished with value: 0.5747088943116656 and parameters: {'n_estimators': 179, 'max_depth': 5, 'eta': 0.31526074068540255}. Best is trial 0 with value: 0.5747088943116656.\n",
      "[I 2023-11-21 19:29:35,133] Trial 1 finished with value: 0.5385297240311625 and parameters: {'n_estimators': 202, 'max_depth': 8, 'eta': 1.361722569838879}. Best is trial 0 with value: 0.5747088943116656.\n",
      "[I 2023-11-21 19:29:36,331] Trial 2 finished with value: 0.5783629221099658 and parameters: {'n_estimators': 215, 'max_depth': 2, 'eta': 0.7625676660072352}. Best is trial 2 with value: 0.5783629221099658.\n",
      "[I 2023-11-21 19:29:37,365] Trial 3 finished with value: 0.5328472432122172 and parameters: {'n_estimators': 57, 'max_depth': 4, 'eta': 1.3740757281548324}. Best is trial 2 with value: 0.5783629221099658.\n",
      "[I 2023-11-21 19:29:40,501] Trial 4 finished with value: 0.5800911580480638 and parameters: {'n_estimators': 207, 'max_depth': 9, 'eta': 0.17032075418647902}. Best is trial 4 with value: 0.5800911580480638.\n",
      "[I 2023-11-21 19:29:42,417] Trial 5 finished with value: 0.5705201897331241 and parameters: {'n_estimators': 103, 'max_depth': 9, 'eta': 0.4879101237396928}. Best is trial 4 with value: 0.5800911580480638.\n",
      "[I 2023-11-21 19:29:44,277] Trial 6 finished with value: 0.5919705941213479 and parameters: {'n_estimators': 149, 'max_depth': 6, 'eta': 0.17320952570927367}. Best is trial 6 with value: 0.5919705941213479.\n",
      "[I 2023-11-21 19:29:45,984] Trial 7 finished with value: 0.5554959653233 and parameters: {'n_estimators': 177, 'max_depth': 5, 'eta': 0.5374391237229335}. Best is trial 6 with value: 0.5919705941213479.\n",
      "[I 2023-11-21 19:29:47,944] Trial 8 finished with value: 0.5816606976271872 and parameters: {'n_estimators': 213, 'max_depth': 5, 'eta': 0.25699333911882566}. Best is trial 6 with value: 0.5919705941213479.\n",
      "[I 2023-11-21 19:29:49,978] Trial 9 finished with value: 0.5898487454737186 and parameters: {'n_estimators': 85, 'max_depth': 3, 'eta': 0.5404021482506957}. Best is trial 6 with value: 0.5919705941213479.\n",
      "[I 2023-11-21 19:29:53,215] Trial 10 finished with value: 0.6016343835531021 and parameters: {'n_estimators': 132, 'max_depth': 7, 'eta': 0.09090998920057097}. Best is trial 10 with value: 0.6016343835531021.\n",
      "[I 2023-11-21 19:29:55,355] Trial 11 finished with value: 0.593097816814268 and parameters: {'n_estimators': 132, 'max_depth': 7, 'eta': 0.012022436175462808}. Best is trial 10 with value: 0.6016343835531021.\n",
      "[I 2023-11-21 19:29:57,458] Trial 12 finished with value: 0.5917344072921092 and parameters: {'n_estimators': 127, 'max_depth': 7, 'eta': 0.011947235480428739}. Best is trial 10 with value: 0.6016343835531021.\n",
      "[I 2023-11-21 19:29:59,362] Trial 13 finished with value: 0.6004788517606536 and parameters: {'n_estimators': 129, 'max_depth': 7, 'eta': 0.06302052410230725}. Best is trial 10 with value: 0.6016343835531021.\n",
      "[I 2023-11-21 19:30:01,203] Trial 14 finished with value: 0.5614569963344804 and parameters: {'n_estimators': 101, 'max_depth': 10, 'eta': 0.7869819048441762}. Best is trial 10 with value: 0.6016343835531021.\n",
      "[I 2023-11-21 19:30:03,411] Trial 15 finished with value: 0.5983806031738773 and parameters: {'n_estimators': 166, 'max_depth': 7, 'eta': 0.04599059597434767}. Best is trial 10 with value: 0.6016343835531021.\n",
      "[I 2023-11-21 19:30:06,194] Trial 16 finished with value: 0.5654222274897187 and parameters: {'n_estimators': 240, 'max_depth': 8, 'eta': 0.3549644876586765}. Best is trial 10 with value: 0.6016343835531021.\n",
      "[I 2023-11-21 19:30:07,799] Trial 17 finished with value: 0.5911796756931291 and parameters: {'n_estimators': 131, 'max_depth': 6, 'eta': 0.16510507295799437}. Best is trial 10 with value: 0.6016343835531021.\n",
      "[I 2023-11-21 19:30:09,228] Trial 18 finished with value: 0.5698647817150059 and parameters: {'n_estimators': 67, 'max_depth': 8, 'eta': 0.4086855535622545}. Best is trial 10 with value: 0.6016343835531021.\n",
      "[I 2023-11-21 19:30:11,250] Trial 19 finished with value: 0.5591393472082434 and parameters: {'n_estimators': 111, 'max_depth': 10, 'eta': 0.5968429003147203}. Best is trial 10 with value: 0.6016343835531021.\n",
      "[I 2023-11-21 19:30:12,551] Trial 20 finished with value: 0.5849230423584602 and parameters: {'n_estimators': 155, 'max_depth': 4, 'eta': 0.24320952988095323}. Best is trial 10 with value: 0.6016343835531021.\n",
      "[I 2023-11-21 19:30:14,787] Trial 21 finished with value: 0.6028311225244547 and parameters: {'n_estimators': 164, 'max_depth': 7, 'eta': 0.036189659299367544}. Best is trial 21 with value: 0.6028311225244547.\n",
      "[I 2023-11-21 19:30:16,645] Trial 22 finished with value: 0.5885049915898312 and parameters: {'n_estimators': 139, 'max_depth': 7, 'eta': 0.1293158483919924}. Best is trial 21 with value: 0.6028311225244547.\n",
      "[I 2023-11-21 19:30:18,333] Trial 23 finished with value: 0.6055497604837249 and parameters: {'n_estimators': 114, 'max_depth': 6, 'eta': 0.11602635041976951}. Best is trial 23 with value: 0.6055497604837249.\n",
      "[I 2023-11-21 19:30:21,132] Trial 24 finished with value: 0.5835772792085068 and parameters: {'n_estimators': 116, 'max_depth': 6, 'eta': 0.2545645454412605}. Best is trial 23 with value: 0.6055497604837249.\n",
      "[I 2023-11-21 19:30:23,284] Trial 25 finished with value: 0.602440723238515 and parameters: {'n_estimators': 83, 'max_depth': 6, 'eta': 0.13231520498416705}. Best is trial 23 with value: 0.6055497604837249.\n",
      "[I 2023-11-21 19:30:25,005] Trial 26 finished with value: 0.5771059466931712 and parameters: {'n_estimators': 81, 'max_depth': 6, 'eta': 0.38112512896635076}. Best is trial 23 with value: 0.6055497604837249.\n",
      "[I 2023-11-21 19:30:27,250] Trial 27 finished with value: 0.5906069466371339 and parameters: {'n_estimators': 95, 'max_depth': 4, 'eta': 0.2105786680623999}. Best is trial 23 with value: 0.6055497604837249.\n",
      "[I 2023-11-21 19:30:29,592] Trial 28 finished with value: 0.6004892756260582 and parameters: {'n_estimators': 77, 'max_depth': 5, 'eta': 0.119274916816507}. Best is trial 23 with value: 0.6055497604837249.\n",
      "[I 2023-11-21 19:30:33,459] Trial 29 finished with value: 0.5780228283394004 and parameters: {'n_estimators': 190, 'max_depth': 6, 'eta': 0.28864950112163335}. Best is trial 23 with value: 0.6055497604837249.\n",
      "[I 2023-11-21 19:30:36,386] Trial 30 finished with value: 0.5856438833877243 and parameters: {'n_estimators': 55, 'max_depth': 9, 'eta': 0.3523222475953503}. Best is trial 23 with value: 0.6055497604837249.\n",
      "[I 2023-11-21 19:30:41,224] Trial 31 finished with value: 0.5869244094091683 and parameters: {'n_estimators': 153, 'max_depth': 8, 'eta': 0.0878418238639001}. Best is trial 23 with value: 0.6055497604837249.\n",
      "[I 2023-11-21 19:30:44,876] Trial 32 finished with value: 0.5892849713158362 and parameters: {'n_estimators': 168, 'max_depth': 6, 'eta': 0.12042628327827082}. Best is trial 23 with value: 0.6055497604837249.\n",
      "[I 2023-11-21 19:30:49,707] Trial 33 finished with value: 0.5979734473895495 and parameters: {'n_estimators': 118, 'max_depth': 8, 'eta': 0.025969259549488678}. Best is trial 23 with value: 0.6055497604837249.\n",
      "[I 2023-11-21 19:30:54,191] Trial 34 finished with value: 0.5721657870602177 and parameters: {'n_estimators': 191, 'max_depth': 7, 'eta': 0.2641572222104474}. Best is trial 23 with value: 0.6055497604837249.\n",
      "[I 2023-11-21 19:30:56,832] Trial 35 finished with value: 0.6018031459501749 and parameters: {'n_estimators': 92, 'max_depth': 5, 'eta': 0.1705733869293188}. Best is trial 23 with value: 0.6055497604837249.\n",
      "[I 2023-11-21 19:30:58,681] Trial 36 finished with value: 0.5961086771888352 and parameters: {'n_estimators': 68, 'max_depth': 5, 'eta': 0.18489295867827918}. Best is trial 23 with value: 0.6055497604837249.\n",
      "[I 2023-11-21 19:31:00,690] Trial 37 finished with value: 0.6002155802123088 and parameters: {'n_estimators': 92, 'max_depth': 3, 'eta': 0.18982438244624725}. Best is trial 23 with value: 0.6055497604837249.\n",
      "[I 2023-11-21 19:31:03,242] Trial 38 finished with value: 0.572417571617809 and parameters: {'n_estimators': 106, 'max_depth': 5, 'eta': 0.4341550454938612}. Best is trial 23 with value: 0.6055497604837249.\n",
      "[I 2023-11-21 19:31:05,435] Trial 39 finished with value: 0.5977350085794815 and parameters: {'n_estimators': 74, 'max_depth': 4, 'eta': 0.2875890997360302}. Best is trial 23 with value: 0.6055497604837249.\n",
      "[I 2023-11-21 19:31:07,704] Trial 40 finished with value: 0.5871751075702933 and parameters: {'n_estimators': 89, 'max_depth': 5, 'eta': 0.30941641450587565}. Best is trial 23 with value: 0.6055497604837249.\n",
      "[I 2023-11-21 19:31:11,173] Trial 41 finished with value: 0.5929279261251792 and parameters: {'n_estimators': 147, 'max_depth': 6, 'eta': 0.10857168929225404}. Best is trial 23 with value: 0.6055497604837249.\n",
      "[I 2023-11-21 19:31:14,843] Trial 42 finished with value: 0.6009603939478566 and parameters: {'n_estimators': 123, 'max_depth': 7, 'eta': 0.11546928276835446}. Best is trial 23 with value: 0.6055497604837249.\n",
      "[I 2023-11-21 19:31:17,718] Trial 43 finished with value: 0.5999270149185907 and parameters: {'n_estimators': 100, 'max_depth': 6, 'eta': 0.07046500007838032}. Best is trial 23 with value: 0.6055497604837249.\n",
      "[I 2023-11-21 19:31:21,737] Trial 44 finished with value: 0.5952874707073923 and parameters: {'n_estimators': 113, 'max_depth': 7, 'eta': 0.01642764656219027}. Best is trial 23 with value: 0.6055497604837249.\n",
      "[I 2023-11-21 19:31:23,531] Trial 45 finished with value: 0.6057121286889384 and parameters: {'n_estimators': 64, 'max_depth': 3, 'eta': 0.19039782676354516}. Best is trial 45 with value: 0.6057121286889384.\n",
      "[I 2023-11-21 19:31:25,275] Trial 46 finished with value: 0.5963074521617945 and parameters: {'n_estimators': 58, 'max_depth': 2, 'eta': 0.19342953081841696}. Best is trial 45 with value: 0.6057121286889384.\n",
      "[I 2023-11-21 19:31:27,246] Trial 47 finished with value: 0.6018429207296875 and parameters: {'n_estimators': 68, 'max_depth': 3, 'eta': 0.19900070441443435}. Best is trial 45 with value: 0.6057121286889384.\n",
      "[I 2023-11-21 19:31:29,093] Trial 48 finished with value: 0.601285775208829 and parameters: {'n_estimators': 68, 'max_depth': 3, 'eta': 0.333786182213718}. Best is trial 45 with value: 0.6057121286889384.\n",
      "[I 2023-11-21 19:31:30,929] Trial 49 finished with value: 0.6010713914836034 and parameters: {'n_estimators': 54, 'max_depth': 2, 'eta': 0.2577909156832401}. Best is trial 45 with value: 0.6057121286889384.\n",
      "[I 2023-11-21 19:31:32,819] Trial 50 finished with value: 0.5917009492245298 and parameters: {'n_estimators': 61, 'max_depth': 3, 'eta': 0.05443439846743686}. Best is trial 45 with value: 0.6057121286889384.\n",
      "[I 2023-11-21 19:31:34,898] Trial 51 finished with value: 0.6016172753373533 and parameters: {'n_estimators': 85, 'max_depth': 3, 'eta': 0.1673717890286123}. Best is trial 45 with value: 0.6057121286889384.\n",
      "[I 2023-11-21 19:31:36,692] Trial 52 finished with value: 0.6070257484116949 and parameters: {'n_estimators': 77, 'max_depth': 2, 'eta': 0.21091455664463082}. Best is trial 52 with value: 0.6070257484116949.\n",
      "[I 2023-11-21 19:31:38,490] Trial 53 finished with value: 0.5155360023447838 and parameters: {'n_estimators': 50, 'max_depth': 2, 'eta': 0.011342397938998425}. Best is trial 52 with value: 0.6070257484116949.\n",
      "[I 2023-11-21 19:31:40,341] Trial 54 finished with value: 0.6051945399255959 and parameters: {'n_estimators': 74, 'max_depth': 2, 'eta': 0.21330693126525913}. Best is trial 52 with value: 0.6070257484116949.\n",
      "[I 2023-11-21 19:31:42,164] Trial 55 finished with value: 0.6067504713766197 and parameters: {'n_estimators': 74, 'max_depth': 2, 'eta': 0.22378913293594485}. Best is trial 52 with value: 0.6070257484116949.\n",
      "[I 2023-11-21 19:31:43,963] Trial 56 finished with value: 0.6030502121088157 and parameters: {'n_estimators': 77, 'max_depth': 2, 'eta': 0.438610971001577}. Best is trial 52 with value: 0.6070257484116949.\n",
      "[I 2023-11-21 19:31:45,859] Trial 57 finished with value: 0.6062812718572868 and parameters: {'n_estimators': 79, 'max_depth': 2, 'eta': 0.32286375702022196}. Best is trial 52 with value: 0.6070257484116949.\n",
      "[I 2023-11-21 19:31:47,519] Trial 58 finished with value: 0.606469590063581 and parameters: {'n_estimators': 64, 'max_depth': 2, 'eta': 0.3073412261473498}. Best is trial 52 with value: 0.6070257484116949.\n",
      "[I 2023-11-21 19:31:49,233] Trial 59 finished with value: 0.6018834532915973 and parameters: {'n_estimators': 62, 'max_depth': 2, 'eta': 0.36619584097748437}. Best is trial 52 with value: 0.6070257484116949.\n",
      "[I 2023-11-21 19:31:50,970] Trial 60 finished with value: 0.6022249623973799 and parameters: {'n_estimators': 50, 'max_depth': 2, 'eta': 0.29260838689359714}. Best is trial 52 with value: 0.6070257484116949.\n",
      "[I 2023-11-21 19:31:52,883] Trial 61 finished with value: 0.6094550053831675 and parameters: {'n_estimators': 74, 'max_depth': 2, 'eta': 0.21591543442158648}. Best is trial 61 with value: 0.6094550053831675.\n",
      "[I 2023-11-21 19:31:54,741] Trial 62 finished with value: 0.6034138999171952 and parameters: {'n_estimators': 63, 'max_depth': 2, 'eta': 0.23372680639044785}. Best is trial 61 with value: 0.6094550053831675.\n",
      "[I 2023-11-21 19:31:56,813] Trial 63 finished with value: 0.5973782665272976 and parameters: {'n_estimators': 98, 'max_depth': 3, 'eta': 0.3306077617893469}. Best is trial 61 with value: 0.6094550053831675.\n",
      "[I 2023-11-21 19:31:58,646] Trial 64 finished with value: 0.6011047950004207 and parameters: {'n_estimators': 79, 'max_depth': 2, 'eta': 0.47667118054654556}. Best is trial 61 with value: 0.6094550053831675.\n",
      "[I 2023-11-21 19:32:00,594] Trial 65 finished with value: 0.5903936407915407 and parameters: {'n_estimators': 87, 'max_depth': 3, 'eta': 0.4091837729267799}. Best is trial 61 with value: 0.6094550053831675.\n",
      "[I 2023-11-21 19:32:02,683] Trial 66 finished with value: 0.6051726381683237 and parameters: {'n_estimators': 105, 'max_depth': 2, 'eta': 0.24540101177326326}. Best is trial 61 with value: 0.6094550053831675.\n",
      "[I 2023-11-21 19:32:04,681] Trial 67 finished with value: 0.6007552309458017 and parameters: {'n_estimators': 73, 'max_depth': 3, 'eta': 0.15072097176670626}. Best is trial 61 with value: 0.6094550053831675.\n",
      "[I 2023-11-21 19:32:06,641] Trial 68 finished with value: 0.5956427831305771 and parameters: {'n_estimators': 84, 'max_depth': 2, 'eta': 0.08165194719652683}. Best is trial 61 with value: 0.6094550053831675.\n",
      "[I 2023-11-21 19:32:09,107] Trial 69 finished with value: 0.5917803295041525 and parameters: {'n_estimators': 227, 'max_depth': 2, 'eta': 0.3418831471913765}. Best is trial 61 with value: 0.6094550053831675.\n",
      "[I 2023-11-21 19:32:10,973] Trial 70 finished with value: 0.6015862448114654 and parameters: {'n_estimators': 73, 'max_depth': 3, 'eta': 0.2985028739545334}. Best is trial 61 with value: 0.6094550053831675.\n",
      "[I 2023-11-21 19:32:12,534] Trial 71 finished with value: 0.6052087173582066 and parameters: {'n_estimators': 64, 'max_depth': 2, 'eta': 0.22914931280436174}. Best is trial 61 with value: 0.6094550053831675.\n",
      "[I 2023-11-21 19:32:14,328] Trial 72 finished with value: 0.6035475653938809 and parameters: {'n_estimators': 65, 'max_depth': 2, 'eta': 0.23967876086390322}. Best is trial 61 with value: 0.6094550053831675.\n",
      "[I 2023-11-21 19:32:16,420] Trial 73 finished with value: 0.5999445122444693 and parameters: {'n_estimators': 58, 'max_depth': 4, 'eta': 0.15517790303598697}. Best is trial 61 with value: 0.6094550053831675.\n",
      "[I 2023-11-21 19:32:18,192] Trial 74 finished with value: 0.6071396947131389 and parameters: {'n_estimators': 81, 'max_depth': 2, 'eta': 0.21683319248012015}. Best is trial 61 with value: 0.6094550053831675.\n",
      "[I 2023-11-21 19:32:21,615] Trial 75 finished with value: 0.5907347722535964 and parameters: {'n_estimators': 81, 'max_depth': 3, 'eta': 0.3852383558102534}. Best is trial 61 with value: 0.6094550053831675.\n",
      "[I 2023-11-21 19:32:22,684] Trial 76 finished with value: 0.5991493951281505 and parameters: {'n_estimators': 95, 'max_depth': 2, 'eta': 0.14499732018798916}. Best is trial 61 with value: 0.6094550053831675.\n",
      "[I 2023-11-21 19:32:23,991] Trial 77 finished with value: 0.5900575015104167 and parameters: {'n_estimators': 89, 'max_depth': 4, 'eta': 0.2780768875771196}. Best is trial 61 with value: 0.6094550053831675.\n",
      "[I 2023-11-21 19:32:25,048] Trial 78 finished with value: 0.6046855724757825 and parameters: {'n_estimators': 72, 'max_depth': 2, 'eta': 0.31606471730241004}. Best is trial 61 with value: 0.6094550053831675.\n",
      "[I 2023-11-21 19:32:26,195] Trial 79 finished with value: 0.6022278498959239 and parameters: {'n_estimators': 109, 'max_depth': 3, 'eta': 0.11462103066162639}. Best is trial 61 with value: 0.6094550053831675.\n",
      "[I 2023-11-21 19:32:27,194] Trial 80 finished with value: 0.6026090527112871 and parameters: {'n_estimators': 80, 'max_depth': 2, 'eta': 0.1890015960682161}. Best is trial 61 with value: 0.6094550053831675.\n",
      "[I 2023-11-21 19:32:28,133] Trial 81 finished with value: 0.606238699599371 and parameters: {'n_estimators': 68, 'max_depth': 2, 'eta': 0.2432105274241468}. Best is trial 61 with value: 0.6094550053831675.\n",
      "[I 2023-11-21 19:32:29,062] Trial 82 finished with value: 0.5901261468391757 and parameters: {'n_estimators': 56, 'max_depth': 2, 'eta': 0.07829580856097348}. Best is trial 61 with value: 0.6094550053831675.\n",
      "[I 2023-11-21 19:32:29,981] Trial 83 finished with value: 0.6045568784696411 and parameters: {'n_estimators': 67, 'max_depth': 2, 'eta': 0.20534181123080997}. Best is trial 61 with value: 0.6094550053831675.\n",
      "[I 2023-11-21 19:32:31,089] Trial 84 finished with value: 0.6018795490710709 and parameters: {'n_estimators': 70, 'max_depth': 3, 'eta': 0.27648498462804866}. Best is trial 61 with value: 0.6094550053831675.\n",
      "[I 2023-11-21 19:32:32,493] Trial 85 finished with value: 0.6072489942907354 and parameters: {'n_estimators': 138, 'max_depth': 2, 'eta': 0.15821181104299262}. Best is trial 61 with value: 0.6094550053831675.\n",
      "[I 2023-11-21 19:32:33,852] Trial 86 finished with value: 0.6019412570354126 and parameters: {'n_estimators': 249, 'max_depth': 2, 'eta': 0.2354912468930694}. Best is trial 61 with value: 0.6094550053831675.\n",
      "[I 2023-11-21 19:32:34,966] Trial 87 finished with value: 0.6103981530374364 and parameters: {'n_estimators': 140, 'max_depth': 2, 'eta': 0.15787609916936599}. Best is trial 87 with value: 0.6103981530374364.\n",
      "[I 2023-11-21 19:32:36,056] Trial 88 finished with value: 0.6013291478661105 and parameters: {'n_estimators': 122, 'max_depth': 2, 'eta': 0.13661005252054426}. Best is trial 87 with value: 0.6103981530374364.\n",
      "[I 2023-11-21 19:32:37,228] Trial 89 finished with value: 0.5995413651339191 and parameters: {'n_estimators': 143, 'max_depth': 2, 'eta': 0.3066529829081601}. Best is trial 87 with value: 0.6103981530374364.\n",
      "[I 2023-11-21 19:32:38,448] Trial 90 finished with value: 0.5978689626648245 and parameters: {'n_estimators': 138, 'max_depth': 3, 'eta': 0.05241397373273876}. Best is trial 87 with value: 0.6103981530374364.\n",
      "[I 2023-11-21 19:32:39,611] Trial 91 finished with value: 0.6090275867284295 and parameters: {'n_estimators': 170, 'max_depth': 2, 'eta': 0.16905913807977208}. Best is trial 87 with value: 0.6103981530374364.\n",
      "[I 2023-11-21 19:32:40,729] Trial 92 finished with value: 0.6064145192197672 and parameters: {'n_estimators': 160, 'max_depth': 2, 'eta': 0.1531484204222065}. Best is trial 87 with value: 0.6103981530374364.\n",
      "[I 2023-11-21 19:32:41,961] Trial 93 finished with value: 0.6081229191447035 and parameters: {'n_estimators': 157, 'max_depth': 2, 'eta': 0.1546827558542421}. Best is trial 87 with value: 0.6103981530374364.\n",
      "[I 2023-11-21 19:32:43,118] Trial 94 finished with value: 0.6079499201465125 and parameters: {'n_estimators': 160, 'max_depth': 2, 'eta': 0.1624255337330782}. Best is trial 87 with value: 0.6103981530374364.\n",
      "[I 2023-11-21 19:32:44,560] Trial 95 finished with value: 0.6036101427316098 and parameters: {'n_estimators': 174, 'max_depth': 2, 'eta': 0.08999419542278406}. Best is trial 87 with value: 0.6103981530374364.\n",
      "[I 2023-11-21 19:32:45,969] Trial 96 finished with value: 0.6062982616557406 and parameters: {'n_estimators': 183, 'max_depth': 2, 'eta': 0.16280691309964473}. Best is trial 87 with value: 0.6103981530374364.\n",
      "[I 2023-11-21 19:32:47,211] Trial 97 finished with value: 0.5945792083148957 and parameters: {'n_estimators': 155, 'max_depth': 3, 'eta': 0.20837430120175712}. Best is trial 87 with value: 0.6103981530374364.\n",
      "[I 2023-11-21 19:32:48,378] Trial 98 finished with value: 0.6024756095734416 and parameters: {'n_estimators': 173, 'max_depth': 2, 'eta': 0.10310317669298401}. Best is trial 87 with value: 0.6103981530374364.\n",
      "[I 2023-11-21 19:32:49,603] Trial 99 finished with value: 0.5967350729741753 and parameters: {'n_estimators': 160, 'max_depth': 3, 'eta': 0.2674788697926205}. Best is trial 87 with value: 0.6103981530374364.\n"
     ]
    }
   ],
   "source": [
    "study_xgb_cw.optimize(optuna_optimize, n_trials=100)"
   ],
   "metadata": {
    "collapsed": false,
    "ExecuteTime": {
     "end_time": "2023-11-21T16:32:49.615100400Z",
     "start_time": "2023-11-21T16:29:29.550606800Z"
    }
   }
  },
  {
   "cell_type": "code",
   "execution_count": 33,
   "outputs": [
    {
     "name": "stdout",
     "output_type": "stream",
     "text": [
      "Наилучшие значения гиперпараметров XGBoost: {'n_estimators': 140, 'max_depth': 2, 'eta': 0.15787609916936599}\n",
      "f1_score на обучающем наборе: 0.610\n"
     ]
    }
   ],
   "source": [
    "print(\"Наилучшие значения гиперпараметров XGBoost: {}\".format(study_xgb_cw.best_params))\n",
    "print(\"f1_score на обучающем наборе: {:.3f}\". format(study_xgb_cw.best_value))"
   ],
   "metadata": {
    "collapsed": false,
    "ExecuteTime": {
     "end_time": "2023-11-21T16:33:07.659999800Z",
     "start_time": "2023-11-21T16:33:07.391313700Z"
    }
   }
  },
  {
   "cell_type": "code",
   "execution_count": 35,
   "outputs": [],
   "source": [
    "with mlflow.start_run(nested=True):\n",
    "\n",
    "    best_params = study_xgb_cw.best_params\n",
    "    best_score = study_xgb_cw.best_value\n",
    "    mlflow.log_params(best_params)\n",
    "    mlflow.log_metric('f1', best_score)\n",
    "\n",
    "    xgb_pipe = Pipeline([\n",
    "        ('preprocessor', preprocessor),\n",
    "        ('model', xgb.XGBClassifier(**best_params,\n",
    "                                    scale_pos_weight=3.91,\n",
    "                                    random_state=12345))\n",
    "    ])\n",
    "\n",
    "    # xgb_pipe.set_params(**best_params)\n",
    "    xgb_pipe.fit(X_train, y_train)\n",
    "\n",
    "    mlflow.sklearn.log_model(xgb_pipe, 'xgb_pipeline_class_weight')"
   ],
   "metadata": {
    "collapsed": false,
    "ExecuteTime": {
     "end_time": "2023-11-21T18:03:58.300764500Z",
     "start_time": "2023-11-21T18:03:43.796015600Z"
    }
   }
  },
  {
   "cell_type": "markdown",
   "source": [
    "### 3.1.2 Случайный лес"
   ],
   "metadata": {
    "collapsed": false
   }
  },
  {
   "cell_type": "code",
   "execution_count": 36,
   "outputs": [],
   "source": [
    "def optuna_optimize(trial):\n",
    "    param = {\n",
    "        'n_estimators': trial.suggest_int('n_estimators', 50, 300),\n",
    "        'max_depth': trial.suggest_int('max_depth', 2, 10),\n",
    "        'min_samples_leaf': trial.suggest_int('min_samples_leaf', 2, 8)\n",
    "    }\n",
    "\n",
    "    estimator = RandomForestClassifier(**param, \n",
    "                                       class_weight='balanced',\n",
    "                                       random_state=12345)\n",
    "\n",
    "    rf_pipe = Pipeline([\n",
    "        ('preprocessor', preprocessor),\n",
    "        ('model', estimator)\n",
    "    ])\n",
    "\n",
    "    score = cross_val_score(rf_pipe, X_train, y_train, cv=5, scoring='f1').mean()\n",
    "    return score"
   ],
   "metadata": {
    "collapsed": false,
    "ExecuteTime": {
     "end_time": "2023-11-21T18:06:57.532646900Z",
     "start_time": "2023-11-21T18:06:57.361622700Z"
    }
   }
  },
  {
   "cell_type": "code",
   "execution_count": 37,
   "outputs": [
    {
     "name": "stderr",
     "output_type": "stream",
     "text": [
      "[I 2023-11-21 21:06:58,621] A new study created in memory with name: RandomForest Optuna Optimization Class Weight\n"
     ]
    }
   ],
   "source": [
    "study_rf = optuna.create_study(study_name=\"RandomForest Optuna Optimization Class Weight\",\n",
    "                                direction='maximize')"
   ],
   "metadata": {
    "collapsed": false,
    "ExecuteTime": {
     "end_time": "2023-11-21T18:06:58.777256900Z",
     "start_time": "2023-11-21T18:06:58.625797300Z"
    }
   }
  },
  {
   "cell_type": "code",
   "execution_count": 38,
   "outputs": [
    {
     "name": "stderr",
     "output_type": "stream",
     "text": [
      "[I 2023-11-21 21:07:32,249] Trial 0 finished with value: 0.5405686599771671 and parameters: {'n_estimators': 233, 'max_depth': 2, 'min_samples_leaf': 3}. Best is trial 0 with value: 0.5405686599771671.\n",
      "[I 2023-11-21 21:07:43,626] Trial 1 finished with value: 0.576631818004367 and parameters: {'n_estimators': 203, 'max_depth': 4, 'min_samples_leaf': 4}. Best is trial 1 with value: 0.576631818004367.\n",
      "[I 2023-11-21 21:08:00,336] Trial 2 finished with value: 0.6084544815780663 and parameters: {'n_estimators': 172, 'max_depth': 7, 'min_samples_leaf': 6}. Best is trial 2 with value: 0.6084544815780663.\n",
      "[I 2023-11-21 21:08:06,928] Trial 3 finished with value: 0.6103458175368759 and parameters: {'n_estimators': 55, 'max_depth': 8, 'min_samples_leaf': 7}. Best is trial 3 with value: 0.6103458175368759.\n",
      "[I 2023-11-21 21:08:13,809] Trial 4 finished with value: 0.6140754881002055 and parameters: {'n_estimators': 51, 'max_depth': 10, 'min_samples_leaf': 2}. Best is trial 4 with value: 0.6140754881002055.\n",
      "[I 2023-11-21 21:08:33,606] Trial 5 finished with value: 0.6139592967769325 and parameters: {'n_estimators': 196, 'max_depth': 8, 'min_samples_leaf': 3}. Best is trial 4 with value: 0.6140754881002055.\n",
      "[I 2023-11-21 21:08:41,534] Trial 6 finished with value: 0.5880381612328749 and parameters: {'n_estimators': 123, 'max_depth': 5, 'min_samples_leaf': 6}. Best is trial 4 with value: 0.6140754881002055.\n",
      "[I 2023-11-21 21:08:45,408] Trial 7 finished with value: 0.5651253782155754 and parameters: {'n_estimators': 66, 'max_depth': 3, 'min_samples_leaf': 3}. Best is trial 4 with value: 0.6140754881002055.\n",
      "[I 2023-11-21 21:08:49,405] Trial 8 finished with value: 0.5730309523141048 and parameters: {'n_estimators': 58, 'max_depth': 4, 'min_samples_leaf': 2}. Best is trial 4 with value: 0.6140754881002055.\n",
      "[I 2023-11-21 21:08:53,685] Trial 9 finished with value: 0.5679898025157848 and parameters: {'n_estimators': 76, 'max_depth': 3, 'min_samples_leaf': 3}. Best is trial 4 with value: 0.6140754881002055.\n",
      "[I 2023-11-21 21:09:27,366] Trial 10 finished with value: 0.6170463094772447 and parameters: {'n_estimators': 298, 'max_depth': 10, 'min_samples_leaf': 8}. Best is trial 10 with value: 0.6170463094772447.\n",
      "[I 2023-11-21 21:09:58,707] Trial 11 finished with value: 0.6172788026418901 and parameters: {'n_estimators': 288, 'max_depth': 10, 'min_samples_leaf': 8}. Best is trial 11 with value: 0.6172788026418901.\n",
      "[I 2023-11-21 21:10:30,207] Trial 12 finished with value: 0.6164064732233632 and parameters: {'n_estimators': 296, 'max_depth': 10, 'min_samples_leaf': 8}. Best is trial 11 with value: 0.6172788026418901.\n",
      "[I 2023-11-21 21:11:00,493] Trial 13 finished with value: 0.6127823142311049 and parameters: {'n_estimators': 300, 'max_depth': 9, 'min_samples_leaf': 8}. Best is trial 11 with value: 0.6172788026418901.\n",
      "[I 2023-11-21 21:11:20,021] Trial 14 finished with value: 0.5945936521691897 and parameters: {'n_estimators': 257, 'max_depth': 6, 'min_samples_leaf': 7}. Best is trial 11 with value: 0.6172788026418901.\n",
      "[I 2023-11-21 21:11:46,543] Trial 15 finished with value: 0.6126638529936204 and parameters: {'n_estimators': 260, 'max_depth': 9, 'min_samples_leaf': 7}. Best is trial 11 with value: 0.6172788026418901.\n",
      "[I 2023-11-21 21:12:14,906] Trial 16 finished with value: 0.6143522504681986 and parameters: {'n_estimators': 266, 'max_depth': 10, 'min_samples_leaf': 5}. Best is trial 11 with value: 0.6172788026418901.\n",
      "[I 2023-11-21 21:12:29,807] Trial 17 finished with value: 0.6114390132469667 and parameters: {'n_estimators': 150, 'max_depth': 8, 'min_samples_leaf': 8}. Best is trial 11 with value: 0.6172788026418901.\n",
      "[I 2023-11-21 21:12:50,074] Trial 18 finished with value: 0.6063252062297796 and parameters: {'n_estimators': 234, 'max_depth': 7, 'min_samples_leaf': 6}. Best is trial 11 with value: 0.6172788026418901.\n",
      "[I 2023-11-21 21:13:20,060] Trial 19 finished with value: 0.6165616305045944 and parameters: {'n_estimators': 280, 'max_depth': 9, 'min_samples_leaf': 5}. Best is trial 11 with value: 0.6172788026418901.\n",
      "[I 2023-11-21 21:13:39,760] Trial 20 finished with value: 0.6029995859928258 and parameters: {'n_estimators': 235, 'max_depth': 7, 'min_samples_leaf': 7}. Best is trial 11 with value: 0.6172788026418901.\n",
      "[I 2023-11-21 21:14:08,915] Trial 21 finished with value: 0.6171112576742933 and parameters: {'n_estimators': 277, 'max_depth': 9, 'min_samples_leaf': 5}. Best is trial 11 with value: 0.6172788026418901.\n",
      "[I 2023-11-21 21:14:39,724] Trial 22 finished with value: 0.61826654426721 and parameters: {'n_estimators': 279, 'max_depth': 10, 'min_samples_leaf': 4}. Best is trial 22 with value: 0.61826654426721.\n",
      "[I 2023-11-21 21:15:02,110] Trial 23 finished with value: 0.6167884507618738 and parameters: {'n_estimators': 211, 'max_depth': 9, 'min_samples_leaf': 4}. Best is trial 22 with value: 0.61826654426721.\n",
      "[I 2023-11-21 21:15:33,534] Trial 24 finished with value: 0.6182832834257714 and parameters: {'n_estimators': 276, 'max_depth': 10, 'min_samples_leaf': 4}. Best is trial 24 with value: 0.6182832834257714.\n",
      "[I 2023-11-21 21:16:00,607] Trial 25 finished with value: 0.6151894453421741 and parameters: {'n_estimators': 244, 'max_depth': 10, 'min_samples_leaf': 4}. Best is trial 24 with value: 0.6182832834257714.\n",
      "[I 2023-11-21 21:16:27,641] Trial 26 finished with value: 0.6135709144508211 and parameters: {'n_estimators': 277, 'max_depth': 8, 'min_samples_leaf': 4}. Best is trial 24 with value: 0.6182832834257714.\n",
      "[I 2023-11-21 21:16:38,946] Trial 27 finished with value: 0.6118440781020423 and parameters: {'n_estimators': 103, 'max_depth': 10, 'min_samples_leaf': 4}. Best is trial 24 with value: 0.6182832834257714.\n",
      "[I 2023-11-21 21:16:57,034] Trial 28 finished with value: 0.5970354533988788 and parameters: {'n_estimators': 222, 'max_depth': 6, 'min_samples_leaf': 5}. Best is trial 24 with value: 0.6182832834257714.\n",
      "[I 2023-11-21 21:17:22,084] Trial 29 finished with value: 0.6165251770679225 and parameters: {'n_estimators': 248, 'max_depth': 9, 'min_samples_leaf': 2}. Best is trial 24 with value: 0.6182832834257714.\n",
      "[I 2023-11-21 21:17:48,274] Trial 30 finished with value: 0.6138144013413142 and parameters: {'n_estimators': 276, 'max_depth': 8, 'min_samples_leaf': 3}. Best is trial 24 with value: 0.6182832834257714.\n",
      "[I 2023-11-21 21:18:16,679] Trial 31 finished with value: 0.6172872213443268 and parameters: {'n_estimators': 278, 'max_depth': 9, 'min_samples_leaf': 5}. Best is trial 24 with value: 0.6182832834257714.\n",
      "[I 2023-11-21 21:18:47,679] Trial 32 finished with value: 0.6145710141127082 and parameters: {'n_estimators': 285, 'max_depth': 10, 'min_samples_leaf': 5}. Best is trial 24 with value: 0.6182832834257714.\n",
      "[I 2023-11-21 21:19:06,981] Trial 33 finished with value: 0.6155684494515383 and parameters: {'n_estimators': 188, 'max_depth': 9, 'min_samples_leaf': 4}. Best is trial 24 with value: 0.6182832834257714.\n",
      "[I 2023-11-21 21:19:32,267] Trial 34 finished with value: 0.6124121888963057 and parameters: {'n_estimators': 221, 'max_depth': 10, 'min_samples_leaf': 6}. Best is trial 24 with value: 0.6182832834257714.\n",
      "[I 2023-11-21 21:19:59,517] Trial 35 finished with value: 0.613886084211867 and parameters: {'n_estimators': 263, 'max_depth': 9, 'min_samples_leaf': 6}. Best is trial 24 with value: 0.6182832834257714.\n",
      "[I 2023-11-21 21:20:27,214] Trial 36 finished with value: 0.6152254438675409 and parameters: {'n_estimators': 245, 'max_depth': 10, 'min_samples_leaf': 4}. Best is trial 24 with value: 0.6182832834257714.\n",
      "[I 2023-11-21 21:20:54,439] Trial 37 finished with value: 0.6102748085108772 and parameters: {'n_estimators': 290, 'max_depth': 8, 'min_samples_leaf': 5}. Best is trial 24 with value: 0.6182832834257714.\n",
      "[I 2023-11-21 21:21:09,294] Trial 38 finished with value: 0.6056977379280414 and parameters: {'n_estimators': 168, 'max_depth': 7, 'min_samples_leaf': 3}. Best is trial 24 with value: 0.6182832834257714.\n",
      "[I 2023-11-21 21:21:20,180] Trial 39 finished with value: 0.5417948554941049 and parameters: {'n_estimators': 272, 'max_depth': 2, 'min_samples_leaf': 4}. Best is trial 24 with value: 0.6182832834257714.\n",
      "[I 2023-11-21 21:21:37,533] Trial 40 finished with value: 0.588584363641331 and parameters: {'n_estimators': 254, 'max_depth': 5, 'min_samples_leaf': 6}. Best is trial 24 with value: 0.6182832834257714.\n",
      "[I 2023-11-21 21:22:06,916] Trial 41 finished with value: 0.6166517885132144 and parameters: {'n_estimators': 285, 'max_depth': 9, 'min_samples_leaf': 5}. Best is trial 24 with value: 0.6182832834257714.\n",
      "[I 2023-11-21 21:22:37,427] Trial 42 finished with value: 0.615319342275335 and parameters: {'n_estimators': 271, 'max_depth': 10, 'min_samples_leaf': 5}. Best is trial 24 with value: 0.6182832834257714.\n",
      "[I 2023-11-21 21:23:05,476] Trial 43 finished with value: 0.6177698892875235 and parameters: {'n_estimators': 288, 'max_depth': 9, 'min_samples_leaf': 5}. Best is trial 24 with value: 0.6182832834257714.\n",
      "[I 2023-11-21 21:23:38,264] Trial 44 finished with value: 0.616212641658487 and parameters: {'n_estimators': 287, 'max_depth': 10, 'min_samples_leaf': 4}. Best is trial 24 with value: 0.6182832834257714.\n",
      "[I 2023-11-21 21:24:07,947] Trial 45 finished with value: 0.6160319973947823 and parameters: {'n_estimators': 299, 'max_depth': 8, 'min_samples_leaf': 3}. Best is trial 24 with value: 0.6182832834257714.\n",
      "[I 2023-11-21 21:24:36,504] Trial 46 finished with value: 0.6143719983454579 and parameters: {'n_estimators': 262, 'max_depth': 9, 'min_samples_leaf': 4}. Best is trial 24 with value: 0.6182832834257714.\n",
      "[I 2023-11-21 21:25:10,308] Trial 47 finished with value: 0.6172666535004533 and parameters: {'n_estimators': 290, 'max_depth': 10, 'min_samples_leaf': 3}. Best is trial 24 with value: 0.6182832834257714.\n",
      "[I 2023-11-21 21:25:39,276] Trial 48 finished with value: 0.6139579465720502 and parameters: {'n_estimators': 252, 'max_depth': 10, 'min_samples_leaf': 5}. Best is trial 24 with value: 0.6182832834257714.\n",
      "[I 2023-11-21 21:25:57,533] Trial 49 finished with value: 0.6057344759192895 and parameters: {'n_estimators': 223, 'max_depth': 7, 'min_samples_leaf': 6}. Best is trial 24 with value: 0.6182832834257714.\n",
      "[I 2023-11-21 21:26:09,317] Trial 50 finished with value: 0.613355244568308 and parameters: {'n_estimators': 131, 'max_depth': 8, 'min_samples_leaf': 5}. Best is trial 24 with value: 0.6182832834257714.\n",
      "[I 2023-11-21 21:26:41,734] Trial 51 finished with value: 0.6172666535004533 and parameters: {'n_estimators': 290, 'max_depth': 10, 'min_samples_leaf': 3}. Best is trial 24 with value: 0.6182832834257714.\n",
      "[I 2023-11-21 21:27:13,867] Trial 52 finished with value: 0.6154771629033211 and parameters: {'n_estimators': 295, 'max_depth': 9, 'min_samples_leaf': 2}. Best is trial 24 with value: 0.6182832834257714.\n",
      "[I 2023-11-21 21:27:44,052] Trial 53 finished with value: 0.6162245604084565 and parameters: {'n_estimators': 268, 'max_depth': 10, 'min_samples_leaf': 3}. Best is trial 24 with value: 0.6182832834257714.\n",
      "[I 2023-11-21 21:28:07,696] Trial 54 finished with value: 0.6139153798420784 and parameters: {'n_estimators': 239, 'max_depth': 9, 'min_samples_leaf': 7}. Best is trial 24 with value: 0.6182832834257714.\n",
      "[I 2023-11-21 21:28:46,933] Trial 55 finished with value: 0.612905169396156 and parameters: {'n_estimators': 300, 'max_depth': 10, 'min_samples_leaf': 2}. Best is trial 24 with value: 0.6182832834257714.\n",
      "[I 2023-11-21 21:29:10,371] Trial 56 finished with value: 0.5882901613089446 and parameters: {'n_estimators': 282, 'max_depth': 5, 'min_samples_leaf': 4}. Best is trial 24 with value: 0.6182832834257714.\n",
      "[I 2023-11-21 21:29:38,007] Trial 57 finished with value: 0.6155874431544173 and parameters: {'n_estimators': 259, 'max_depth': 10, 'min_samples_leaf': 4}. Best is trial 24 with value: 0.6182832834257714.\n",
      "[I 2023-11-21 21:30:09,691] Trial 58 finished with value: 0.613626670493146 and parameters: {'n_estimators': 269, 'max_depth': 9, 'min_samples_leaf': 3}. Best is trial 24 with value: 0.6182832834257714.\n",
      "[I 2023-11-21 21:30:39,451] Trial 59 finished with value: 0.6148342660848436 and parameters: {'n_estimators': 291, 'max_depth': 10, 'min_samples_leaf': 6}. Best is trial 24 with value: 0.6182832834257714.\n",
      "[I 2023-11-21 21:31:09,272] Trial 60 finished with value: 0.612279468734221 and parameters: {'n_estimators': 277, 'max_depth': 8, 'min_samples_leaf': 5}. Best is trial 24 with value: 0.6182832834257714.\n",
      "[I 2023-11-21 21:31:43,432] Trial 61 finished with value: 0.6166826507328961 and parameters: {'n_estimators': 289, 'max_depth': 10, 'min_samples_leaf': 3}. Best is trial 24 with value: 0.6182832834257714.\n",
      "[I 2023-11-21 21:32:17,038] Trial 62 finished with value: 0.6149251193038753 and parameters: {'n_estimators': 280, 'max_depth': 10, 'min_samples_leaf': 2}. Best is trial 24 with value: 0.6182832834257714.\n",
      "[I 2023-11-21 21:32:50,654] Trial 63 finished with value: 0.6152560801128668 and parameters: {'n_estimators': 290, 'max_depth': 9, 'min_samples_leaf': 3}. Best is trial 24 with value: 0.6182832834257714.\n",
      "[I 2023-11-21 21:33:19,468] Trial 64 finished with value: 0.6169535695025862 and parameters: {'n_estimators': 268, 'max_depth': 10, 'min_samples_leaf': 4}. Best is trial 24 with value: 0.6182832834257714.\n",
      "[I 2023-11-21 21:33:45,237] Trial 65 finished with value: 0.61476720417291 and parameters: {'n_estimators': 257, 'max_depth': 9, 'min_samples_leaf': 3}. Best is trial 24 with value: 0.6182832834257714.\n",
      "[I 2023-11-21 21:34:20,395] Trial 66 finished with value: 0.6168865611054585 and parameters: {'n_estimators': 300, 'max_depth': 10, 'min_samples_leaf': 8}. Best is trial 24 with value: 0.6182832834257714.\n",
      "[I 2023-11-21 21:34:48,768] Trial 67 finished with value: 0.6135437283451272 and parameters: {'n_estimators': 281, 'max_depth': 9, 'min_samples_leaf': 7}. Best is trial 24 with value: 0.6182832834257714.\n",
      "[I 2023-11-21 21:35:05,462] Trial 68 finished with value: 0.5751360623510015 and parameters: {'n_estimators': 229, 'max_depth': 4, 'min_samples_leaf': 5}. Best is trial 24 with value: 0.6182832834257714.\n",
      "[I 2023-11-21 21:35:39,705] Trial 69 finished with value: 0.6164120886548975 and parameters: {'n_estimators': 274, 'max_depth': 10, 'min_samples_leaf': 3}. Best is trial 24 with value: 0.6182832834257714.\n",
      "[I 2023-11-21 21:36:01,532] Trial 70 finished with value: 0.6147826173763885 and parameters: {'n_estimators': 249, 'max_depth': 9, 'min_samples_leaf': 4}. Best is trial 24 with value: 0.6182832834257714.\n",
      "[I 2023-11-21 21:36:16,040] Trial 71 finished with value: 0.6177749174769951 and parameters: {'n_estimators': 292, 'max_depth': 9, 'min_samples_leaf': 5}. Best is trial 24 with value: 0.6182832834257714.\n",
      "[I 2023-11-21 21:36:31,619] Trial 72 finished with value: 0.6155967373885077 and parameters: {'n_estimators': 292, 'max_depth': 10, 'min_samples_leaf': 5}. Best is trial 24 with value: 0.6182832834257714.\n",
      "[I 2023-11-21 21:36:45,618] Trial 73 finished with value: 0.6137162748918535 and parameters: {'n_estimators': 284, 'max_depth': 9, 'min_samples_leaf': 6}. Best is trial 24 with value: 0.6182832834257714.\n",
      "[I 2023-11-21 21:36:59,799] Trial 74 finished with value: 0.6140928774538293 and parameters: {'n_estimators': 265, 'max_depth': 10, 'min_samples_leaf': 5}. Best is trial 24 with value: 0.6182832834257714.\n",
      "[I 2023-11-21 21:37:14,447] Trial 75 finished with value: 0.6144985468213685 and parameters: {'n_estimators': 293, 'max_depth': 9, 'min_samples_leaf': 4}. Best is trial 24 with value: 0.6182832834257714.\n",
      "[I 2023-11-21 21:37:29,217] Trial 76 finished with value: 0.6142271403495612 and parameters: {'n_estimators': 278, 'max_depth': 10, 'min_samples_leaf': 5}. Best is trial 24 with value: 0.6182832834257714.\n",
      "[I 2023-11-21 21:37:32,893] Trial 77 finished with value: 0.6095024600265605 and parameters: {'n_estimators': 74, 'max_depth': 8, 'min_samples_leaf': 4}. Best is trial 24 with value: 0.6182832834257714.\n",
      "[I 2023-11-21 21:37:43,978] Trial 78 finished with value: 0.6100819799593753 and parameters: {'n_estimators': 196, 'max_depth': 10, 'min_samples_leaf': 2}. Best is trial 24 with value: 0.6182832834257714.\n",
      "[I 2023-11-21 21:37:57,965] Trial 79 finished with value: 0.614158234549927 and parameters: {'n_estimators': 285, 'max_depth': 9, 'min_samples_leaf': 6}. Best is trial 24 with value: 0.6182832834257714.\n",
      "[I 2023-11-21 21:38:06,785] Trial 80 finished with value: 0.595360054915535 and parameters: {'n_estimators': 241, 'max_depth': 6, 'min_samples_leaf': 5}. Best is trial 24 with value: 0.6182832834257714.\n",
      "[I 2023-11-21 21:38:21,830] Trial 81 finished with value: 0.6175241069163419 and parameters: {'n_estimators': 295, 'max_depth': 9, 'min_samples_leaf': 5}. Best is trial 24 with value: 0.6182832834257714.\n",
      "[I 2023-11-21 21:38:36,889] Trial 82 finished with value: 0.6175241069163419 and parameters: {'n_estimators': 295, 'max_depth': 9, 'min_samples_leaf': 5}. Best is trial 24 with value: 0.6182832834257714.\n",
      "[I 2023-11-21 21:38:50,364] Trial 83 finished with value: 0.6100823709579024 and parameters: {'n_estimators': 296, 'max_depth': 8, 'min_samples_leaf': 5}. Best is trial 24 with value: 0.6182832834257714.\n",
      "[I 2023-11-21 21:39:03,984] Trial 84 finished with value: 0.6161695345647247 and parameters: {'n_estimators': 274, 'max_depth': 9, 'min_samples_leaf': 5}. Best is trial 24 with value: 0.6182832834257714.\n",
      "[I 2023-11-21 21:39:11,537] Trial 85 finished with value: 0.6132952054872848 and parameters: {'n_estimators': 162, 'max_depth': 8, 'min_samples_leaf': 5}. Best is trial 24 with value: 0.6182832834257714.\n",
      "[I 2023-11-21 21:39:16,990] Trial 86 finished with value: 0.6165687541202186 and parameters: {'n_estimators': 105, 'max_depth': 9, 'min_samples_leaf': 5}. Best is trial 24 with value: 0.6182832834257714.\n",
      "[I 2023-11-21 21:39:33,574] Trial 87 finished with value: 0.6130887127689415 and parameters: {'n_estimators': 295, 'max_depth': 9, 'min_samples_leaf': 6}. Best is trial 24 with value: 0.6182832834257714.\n",
      "[I 2023-11-21 21:39:38,831] Trial 88 finished with value: 0.5399535597377888 and parameters: {'n_estimators': 284, 'max_depth': 2, 'min_samples_leaf': 5}. Best is trial 24 with value: 0.6182832834257714.\n",
      "[I 2023-11-21 21:39:51,558] Trial 89 finished with value: 0.6109151429468209 and parameters: {'n_estimators': 264, 'max_depth': 8, 'min_samples_leaf': 6}. Best is trial 24 with value: 0.6182832834257714.\n",
      "[I 2023-11-21 21:40:21,804] Trial 90 finished with value: 0.6136359400441551 and parameters: {'n_estimators': 300, 'max_depth': 9, 'min_samples_leaf': 4}. Best is trial 24 with value: 0.6182832834257714.\n",
      "[I 2023-11-21 21:40:52,631] Trial 91 finished with value: 0.6151526268166598 and parameters: {'n_estimators': 288, 'max_depth': 10, 'min_samples_leaf': 5}. Best is trial 24 with value: 0.6182832834257714.\n",
      "[I 2023-11-21 21:41:20,332] Trial 92 finished with value: 0.6136138819821259 and parameters: {'n_estimators': 276, 'max_depth': 10, 'min_samples_leaf': 5}. Best is trial 24 with value: 0.6182832834257714.\n",
      "[I 2023-11-21 21:41:44,613] Trial 93 finished with value: 0.6173509528717254 and parameters: {'n_estimators': 293, 'max_depth': 10, 'min_samples_leaf': 4}. Best is trial 24 with value: 0.6182832834257714.\n",
      "[I 2023-11-21 21:41:54,813] Trial 94 finished with value: 0.5633382482746148 and parameters: {'n_estimators': 272, 'max_depth': 3, 'min_samples_leaf': 4}. Best is trial 24 with value: 0.6182832834257714.\n",
      "[I 2023-11-21 21:42:16,792] Trial 95 finished with value: 0.6167781938560993 and parameters: {'n_estimators': 281, 'max_depth': 10, 'min_samples_leaf': 4}. Best is trial 24 with value: 0.6182832834257714.\n",
      "[I 2023-11-21 21:42:37,184] Trial 96 finished with value: 0.6147281828707059 and parameters: {'n_estimators': 294, 'max_depth': 9, 'min_samples_leaf': 4}. Best is trial 24 with value: 0.6182832834257714.\n",
      "[I 2023-11-21 21:42:57,312] Trial 97 finished with value: 0.615557876696194 and parameters: {'n_estimators': 287, 'max_depth': 10, 'min_samples_leaf': 5}. Best is trial 24 with value: 0.6182832834257714.\n",
      "[I 2023-11-21 21:43:10,337] Trial 98 finished with value: 0.6161899216110399 and parameters: {'n_estimators': 256, 'max_depth': 9, 'min_samples_leaf': 5}. Best is trial 24 with value: 0.6182832834257714.\n",
      "[I 2023-11-21 21:43:25,215] Trial 99 finished with value: 0.6168610236630112 and parameters: {'n_estimators': 271, 'max_depth': 10, 'min_samples_leaf': 4}. Best is trial 24 with value: 0.6182832834257714.\n"
     ]
    }
   ],
   "source": [
    "study_rf.optimize(optuna_optimize, n_trials=100)"
   ],
   "metadata": {
    "collapsed": false,
    "ExecuteTime": {
     "end_time": "2023-11-21T18:43:25.279320300Z",
     "start_time": "2023-11-21T18:07:22.114981Z"
    }
   }
  },
  {
   "cell_type": "code",
   "execution_count": 39,
   "outputs": [
    {
     "name": "stdout",
     "output_type": "stream",
     "text": [
      "Наилучшие значения гиперпараметров Random Forest: {'n_estimators': 276, 'max_depth': 10, 'min_samples_leaf': 4}\n",
      "f1_score на обучающем наборе: 0.618\n"
     ]
    }
   ],
   "source": [
    "print(\"Наилучшие значения гиперпараметров Random Forest: {}\".format(study_rf.best_params))\n",
    "print(\"f1_score на обучающем наборе: {:.3f}\". format(study_rf.best_value))"
   ],
   "metadata": {
    "collapsed": false,
    "ExecuteTime": {
     "end_time": "2023-11-21T18:43:25.509250700Z",
     "start_time": "2023-11-21T18:43:25.343944900Z"
    }
   }
  },
  {
   "cell_type": "code",
   "execution_count": 40,
   "outputs": [],
   "source": [
    "with mlflow.start_run(nested=True):\n",
    "\n",
    "    best_params = study_rf.best_params\n",
    "    best_score = study_rf.best_value\n",
    "    mlflow.log_params(best_params)\n",
    "    mlflow.log_metric('f1', best_score)\n",
    "\n",
    "    rf_pipe = Pipeline([\n",
    "        ('preprocessor', preprocessor),\n",
    "        ('model', RandomForestClassifier(**best_params,\n",
    "                                         class_weight='balanced',\n",
    "                                         random_state=12345))\n",
    "    ])\n",
    "\n",
    "    rf_pipe.fit(X_train, y_train)\n",
    "\n",
    "    mlflow.sklearn.log_model(rf_pipe, 'rf_pipeline_class_weight')"
   ],
   "metadata": {
    "collapsed": false,
    "ExecuteTime": {
     "end_time": "2023-11-21T18:43:38.415169800Z",
     "start_time": "2023-11-21T18:43:25.346148100Z"
    }
   }
  },
  {
   "cell_type": "markdown",
   "source": [
    "### 3.1.3 Логистическая регрессия"
   ],
   "metadata": {
    "collapsed": false
   }
  },
  {
   "cell_type": "code",
   "execution_count": 41,
   "outputs": [],
   "source": [
    "cat_pipeline = Pipeline([\n",
    "    ('enc', OneHotEncoder(handle_unknown='error', drop='first'))\n",
    "])\n",
    "\n",
    "num_pipeline = Pipeline([\n",
    "    ('imp', SimpleImputer(fill_value=-1, add_indicator=True)),\n",
    "    ('pt', PowerTransformer()),\n",
    "    ('scal', StandardScaler())\n",
    "])\n",
    "\n",
    "preprocessor = ColumnTransformer([\n",
    "    (\"cat\", cat_pipeline, categorical_features),\n",
    "    (\"num\", num_pipeline, numeric_features)\n",
    "], remainder='passthrough')\n"
   ],
   "metadata": {
    "collapsed": false,
    "ExecuteTime": {
     "end_time": "2023-11-21T18:43:38.488757200Z",
     "start_time": "2023-11-21T18:43:38.417350400Z"
    }
   }
  },
  {
   "cell_type": "code",
   "execution_count": 42,
   "outputs": [],
   "source": [
    "def optuna_optimize(trial):\n",
    "    param = {\n",
    "        'solver': trial.suggest_categorical('solver', ['lbfgs', 'saga'])\n",
    "    }\n",
    "    \n",
    "    if param['solver'] == 'lbfgs':\n",
    "        param['penalty'] = 'l2' \n",
    "\n",
    "    if param['solver'] == 'saga':\n",
    "        param['penalty'] = 'elasticnet' \n",
    "        param['C'] = trial.suggest_float('C', 0.01, 100) \n",
    "        param['l1_ratio'] = trial.suggest_float('l1_ratio', 0, 1)\n",
    "        param['max_iter'] = 1000 \n",
    "        \n",
    "    estimator = LogisticRegression(**param,  \n",
    "                                   class_weight='balanced',\n",
    "                                   random_state=12345)\n",
    "\n",
    "    log_reg_pipe = Pipeline([\n",
    "        ('preprocessor', preprocessor),\n",
    "        ('model', estimator)\n",
    "    ])\n",
    "    \n",
    "    score = cross_val_score(log_reg_pipe, X_train, y_train, cv=5, scoring='f1').mean()\n",
    "    return score"
   ],
   "metadata": {
    "collapsed": false,
    "ExecuteTime": {
     "end_time": "2023-11-21T18:43:38.491045600Z",
     "start_time": "2023-11-21T18:43:38.449351Z"
    }
   }
  },
  {
   "cell_type": "code",
   "execution_count": 43,
   "outputs": [
    {
     "name": "stderr",
     "output_type": "stream",
     "text": [
      "[I 2023-11-21 21:43:38,469] A new study created in memory with name: LogisticRegression Optuna Optimization Class Weight\n"
     ]
    }
   ],
   "source": [
    "# optuna.logging.set_verbosity(optuna.logging.WARNING) # i do not want to see trail information\n",
    "study_log_reg = optuna.create_study(study_name=\"LogisticRegression Optuna Optimization Class Weight\",\n",
    "                                direction='maximize')"
   ],
   "metadata": {
    "collapsed": false,
    "ExecuteTime": {
     "end_time": "2023-11-21T18:43:38.493052100Z",
     "start_time": "2023-11-21T18:43:38.465562600Z"
    }
   }
  },
  {
   "cell_type": "code",
   "execution_count": 44,
   "outputs": [
    {
     "name": "stderr",
     "output_type": "stream",
     "text": [
      "[I 2023-11-21 21:43:39,172] Trial 0 finished with value: 0.49096987218775245 and parameters: {'solver': 'lbfgs'}. Best is trial 0 with value: 0.49096987218775245.\n",
      "[I 2023-11-21 21:43:40,451] Trial 1 finished with value: 0.4910843408008952 and parameters: {'solver': 'saga', 'C': 33.25204216640461, 'l1_ratio': 0.417298995590638}. Best is trial 1 with value: 0.4910843408008952.\n",
      "[I 2023-11-21 21:43:41,569] Trial 2 finished with value: 0.4910843408008952 and parameters: {'solver': 'saga', 'C': 60.712685504378676, 'l1_ratio': 0.6687692357927916}. Best is trial 1 with value: 0.4910843408008952.\n",
      "[I 2023-11-21 21:43:42,265] Trial 3 finished with value: 0.49096987218775245 and parameters: {'solver': 'lbfgs'}. Best is trial 1 with value: 0.4910843408008952.\n",
      "[I 2023-11-21 21:43:42,879] Trial 4 finished with value: 0.49096987218775245 and parameters: {'solver': 'lbfgs'}. Best is trial 1 with value: 0.4910843408008952.\n",
      "[I 2023-11-21 21:43:43,565] Trial 5 finished with value: 0.4910843408008952 and parameters: {'solver': 'saga', 'C': 48.51437756275838, 'l1_ratio': 0.7319038532671361}. Best is trial 1 with value: 0.4910843408008952.\n",
      "[I 2023-11-21 21:43:44,251] Trial 6 finished with value: 0.4910843408008952 and parameters: {'solver': 'saga', 'C': 63.110259893755874, 'l1_ratio': 0.6365812131262328}. Best is trial 1 with value: 0.4910843408008952.\n",
      "[I 2023-11-21 21:43:44,787] Trial 7 finished with value: 0.49096987218775245 and parameters: {'solver': 'lbfgs'}. Best is trial 1 with value: 0.4910843408008952.\n",
      "[I 2023-11-21 21:43:45,291] Trial 8 finished with value: 0.49096987218775245 and parameters: {'solver': 'lbfgs'}. Best is trial 1 with value: 0.4910843408008952.\n",
      "[I 2023-11-21 21:43:45,991] Trial 9 finished with value: 0.4910843408008952 and parameters: {'solver': 'saga', 'C': 41.96204806165529, 'l1_ratio': 0.6815508577756818}. Best is trial 1 with value: 0.4910843408008952.\n",
      "[I 2023-11-21 21:43:46,676] Trial 10 finished with value: 0.4910843408008952 and parameters: {'solver': 'saga', 'C': 11.309974132331199, 'l1_ratio': 0.2311279609102992}. Best is trial 1 with value: 0.4910843408008952.\n",
      "[I 2023-11-21 21:43:47,347] Trial 11 finished with value: 0.4910843408008952 and parameters: {'solver': 'saga', 'C': 99.44858233144302, 'l1_ratio': 0.3376426439296978}. Best is trial 1 with value: 0.4910843408008952.\n",
      "[I 2023-11-21 21:43:47,997] Trial 12 finished with value: 0.4910843408008952 and parameters: {'solver': 'saga', 'C': 25.451458050255518, 'l1_ratio': 0.910833549492995}. Best is trial 1 with value: 0.4910843408008952.\n",
      "[I 2023-11-21 21:43:48,669] Trial 13 finished with value: 0.4910843408008952 and parameters: {'solver': 'saga', 'C': 68.47092335532935, 'l1_ratio': 0.011329299256486292}. Best is trial 1 with value: 0.4910843408008952.\n",
      "[I 2023-11-21 21:43:49,333] Trial 14 finished with value: 0.4910843408008952 and parameters: {'solver': 'saga', 'C': 29.78716685562621, 'l1_ratio': 0.4692007674982098}. Best is trial 1 with value: 0.4910843408008952.\n",
      "[I 2023-11-21 21:43:50,029] Trial 15 finished with value: 0.49097388652454743 and parameters: {'solver': 'saga', 'C': 1.9209813788025585, 'l1_ratio': 0.51650012667642}. Best is trial 1 with value: 0.4910843408008952.\n",
      "[I 2023-11-21 21:43:50,693] Trial 16 finished with value: 0.4910843408008952 and parameters: {'solver': 'saga', 'C': 62.16208338597181, 'l1_ratio': 0.9018791478881467}. Best is trial 1 with value: 0.4910843408008952.\n",
      "[I 2023-11-21 21:43:51,337] Trial 17 finished with value: 0.4910843408008952 and parameters: {'solver': 'saga', 'C': 35.166257620102556, 'l1_ratio': 0.44377720694259754}. Best is trial 1 with value: 0.4910843408008952.\n",
      "[I 2023-11-21 21:43:52,033] Trial 18 finished with value: 0.4910843408008952 and parameters: {'solver': 'saga', 'C': 21.27957257945821, 'l1_ratio': 0.744067765801283}. Best is trial 1 with value: 0.4910843408008952.\n",
      "[I 2023-11-21 21:43:52,700] Trial 19 finished with value: 0.4910843408008952 and parameters: {'solver': 'saga', 'C': 49.7356040472535, 'l1_ratio': 0.9976790046019528}. Best is trial 1 with value: 0.4910843408008952.\n",
      "[I 2023-11-21 21:43:53,371] Trial 20 finished with value: 0.4910843408008952 and parameters: {'solver': 'saga', 'C': 41.409877135621834, 'l1_ratio': 0.5705600820131467}. Best is trial 1 with value: 0.4910843408008952.\n",
      "[I 2023-11-21 21:43:54,051] Trial 21 finished with value: 0.4910843408008952 and parameters: {'solver': 'saga', 'C': 54.6213018963719, 'l1_ratio': 0.7776318152944984}. Best is trial 1 with value: 0.4910843408008952.\n",
      "[I 2023-11-21 21:43:54,692] Trial 22 finished with value: 0.4910843408008952 and parameters: {'solver': 'saga', 'C': 46.99737015055273, 'l1_ratio': 0.6224592054955524}. Best is trial 1 with value: 0.4910843408008952.\n",
      "[I 2023-11-21 21:43:55,360] Trial 23 finished with value: 0.4910843408008952 and parameters: {'solver': 'saga', 'C': 73.50180815776977, 'l1_ratio': 0.7552540914872486}. Best is trial 1 with value: 0.4910843408008952.\n",
      "[I 2023-11-21 21:43:56,057] Trial 24 finished with value: 0.4910843408008952 and parameters: {'solver': 'saga', 'C': 35.03262945953562, 'l1_ratio': 0.5340549165876142}. Best is trial 1 with value: 0.4910843408008952.\n",
      "[I 2023-11-21 21:43:56,722] Trial 25 finished with value: 0.4910843408008952 and parameters: {'solver': 'saga', 'C': 54.72695827228827, 'l1_ratio': 0.6583186169974261}. Best is trial 1 with value: 0.4910843408008952.\n",
      "[I 2023-11-21 21:43:57,234] Trial 26 finished with value: 0.49096987218775245 and parameters: {'solver': 'lbfgs'}. Best is trial 1 with value: 0.4910843408008952.\n",
      "[I 2023-11-21 21:43:57,901] Trial 27 finished with value: 0.4910843408008952 and parameters: {'solver': 'saga', 'C': 21.724024919760208, 'l1_ratio': 0.3794033825318396}. Best is trial 1 with value: 0.4910843408008952.\n",
      "[I 2023-11-21 21:43:58,569] Trial 28 finished with value: 0.4910843408008952 and parameters: {'solver': 'saga', 'C': 43.6317403187037, 'l1_ratio': 0.5713625767432848}. Best is trial 1 with value: 0.4910843408008952.\n",
      "[I 2023-11-21 21:43:59,073] Trial 29 finished with value: 0.49096987218775245 and parameters: {'solver': 'lbfgs'}. Best is trial 1 with value: 0.4910843408008952.\n",
      "[I 2023-11-21 21:43:59,730] Trial 30 finished with value: 0.4910843408008952 and parameters: {'solver': 'saga', 'C': 78.79921606531303, 'l1_ratio': 0.7926656403612274}. Best is trial 1 with value: 0.4910843408008952.\n",
      "[I 2023-11-21 21:44:00,416] Trial 31 finished with value: 0.4910843408008952 and parameters: {'solver': 'saga', 'C': 60.49886776279212, 'l1_ratio': 0.6509367667768964}. Best is trial 1 with value: 0.4910843408008952.\n",
      "[I 2023-11-21 21:44:01,113] Trial 32 finished with value: 0.4910843408008952 and parameters: {'solver': 'saga', 'C': 54.33332798404623, 'l1_ratio': 0.6944312492078297}. Best is trial 1 with value: 0.4910843408008952.\n",
      "[I 2023-11-21 21:44:01,797] Trial 33 finished with value: 0.4910843408008952 and parameters: {'solver': 'saga', 'C': 65.56653859581017, 'l1_ratio': 0.5962852957924631}. Best is trial 1 with value: 0.4910843408008952.\n",
      "[I 2023-11-21 21:44:02,308] Trial 34 finished with value: 0.49096987218775245 and parameters: {'solver': 'lbfgs'}. Best is trial 1 with value: 0.4910843408008952.\n",
      "[I 2023-11-21 21:44:02,841] Trial 35 finished with value: 0.49096987218775245 and parameters: {'solver': 'lbfgs'}. Best is trial 1 with value: 0.4910843408008952.\n",
      "[I 2023-11-21 21:44:03,518] Trial 36 finished with value: 0.4910843408008952 and parameters: {'solver': 'saga', 'C': 58.41691896190101, 'l1_ratio': 0.6060945288805668}. Best is trial 1 with value: 0.4910843408008952.\n",
      "[I 2023-11-21 21:44:04,163] Trial 37 finished with value: 0.4910843408008952 and parameters: {'solver': 'saga', 'C': 47.765425863552906, 'l1_ratio': 0.7215831138243234}. Best is trial 1 with value: 0.4910843408008952.\n",
      "[I 2023-11-21 21:44:04,693] Trial 38 finished with value: 0.49096987218775245 and parameters: {'solver': 'lbfgs'}. Best is trial 1 with value: 0.4910843408008952.\n",
      "[I 2023-11-21 21:44:05,354] Trial 39 finished with value: 0.4910843408008952 and parameters: {'solver': 'saga', 'C': 37.80459713481994, 'l1_ratio': 0.8154220996882746}. Best is trial 1 with value: 0.4910843408008952.\n",
      "[I 2023-11-21 21:44:06,021] Trial 40 finished with value: 0.4910843408008952 and parameters: {'solver': 'saga', 'C': 44.71132838430472, 'l1_ratio': 0.6825586834872778}. Best is trial 1 with value: 0.4910843408008952.\n",
      "[I 2023-11-21 21:44:06,659] Trial 41 finished with value: 0.4910843408008952 and parameters: {'solver': 'saga', 'C': 39.497947582498334, 'l1_ratio': 0.6749303237946702}. Best is trial 1 with value: 0.4910843408008952.\n",
      "[I 2023-11-21 21:44:07,327] Trial 42 finished with value: 0.4910843408008952 and parameters: {'solver': 'saga', 'C': 50.86765170125992, 'l1_ratio': 0.4845407111243324}. Best is trial 1 with value: 0.4910843408008952.\n",
      "[I 2023-11-21 21:44:07,993] Trial 43 finished with value: 0.4910843408008952 and parameters: {'solver': 'saga', 'C': 34.49163168741268, 'l1_ratio': 0.5608007316717802}. Best is trial 1 with value: 0.4910843408008952.\n",
      "[I 2023-11-21 21:44:08,657] Trial 44 finished with value: 0.4910843408008952 and parameters: {'solver': 'saga', 'C': 43.26166313226149, 'l1_ratio': 0.6270643875355458}. Best is trial 1 with value: 0.4910843408008952.\n",
      "[I 2023-11-21 21:44:09,299] Trial 45 finished with value: 0.4910843408008952 and parameters: {'solver': 'saga', 'C': 28.993411517534383, 'l1_ratio': 0.7129047855949346}. Best is trial 1 with value: 0.4910843408008952.\n",
      "[I 2023-11-21 21:44:09,960] Trial 46 finished with value: 0.4910843408008952 and parameters: {'solver': 'saga', 'C': 64.12598791754891, 'l1_ratio': 0.25499843088274343}. Best is trial 1 with value: 0.4910843408008952.\n",
      "[I 2023-11-21 21:44:10,632] Trial 47 finished with value: 0.4910843408008952 and parameters: {'solver': 'saga', 'C': 70.77948325386224, 'l1_ratio': 0.4282118884654282}. Best is trial 1 with value: 0.4910843408008952.\n",
      "[I 2023-11-21 21:44:11,314] Trial 48 finished with value: 0.4910843408008952 and parameters: {'solver': 'saga', 'C': 57.01313568398002, 'l1_ratio': 0.518392920926563}. Best is trial 1 with value: 0.4910843408008952.\n",
      "[I 2023-11-21 21:44:11,858] Trial 49 finished with value: 0.49096987218775245 and parameters: {'solver': 'lbfgs'}. Best is trial 1 with value: 0.4910843408008952.\n",
      "[I 2023-11-21 21:44:12,527] Trial 50 finished with value: 0.4910843408008952 and parameters: {'solver': 'saga', 'C': 50.153826609695514, 'l1_ratio': 0.8419469505482837}. Best is trial 1 with value: 0.4910843408008952.\n",
      "[I 2023-11-21 21:44:13,206] Trial 51 finished with value: 0.4910843408008952 and parameters: {'solver': 'saga', 'C': 12.37971702833696, 'l1_ratio': 0.22835449584600043}. Best is trial 1 with value: 0.4910843408008952.\n",
      "[I 2023-11-21 21:44:13,866] Trial 52 finished with value: 0.4907414069743594 and parameters: {'solver': 'saga', 'C': 0.7239768738492209, 'l1_ratio': 0.7380648103640284}. Best is trial 1 with value: 0.4910843408008952.\n",
      "[I 2023-11-21 21:44:14,532] Trial 53 finished with value: 0.4910843408008952 and parameters: {'solver': 'saga', 'C': 10.26161184268237, 'l1_ratio': 0.646973371404067}. Best is trial 1 with value: 0.4910843408008952.\n",
      "[I 2023-11-21 21:44:15,173] Trial 54 finished with value: 0.4910843408008952 and parameters: {'solver': 'saga', 'C': 34.39646670407767, 'l1_ratio': 0.2916316446593017}. Best is trial 1 with value: 0.4910843408008952.\n",
      "[I 2023-11-21 21:44:15,848] Trial 55 finished with value: 0.4910843408008952 and parameters: {'solver': 'saga', 'C': 28.189599330838668, 'l1_ratio': 0.16016727787633211}. Best is trial 1 with value: 0.4910843408008952.\n",
      "[I 2023-11-21 21:44:16,517] Trial 56 finished with value: 0.4910843408008952 and parameters: {'solver': 'saga', 'C': 40.220123898691746, 'l1_ratio': 0.48427273125472775}. Best is trial 1 with value: 0.4910843408008952.\n",
      "[I 2023-11-21 21:44:17,199] Trial 57 finished with value: 0.4910843408008952 and parameters: {'solver': 'saga', 'C': 22.581447033538367, 'l1_ratio': 0.4163576399088696}. Best is trial 1 with value: 0.4910843408008952.\n",
      "[I 2023-11-21 21:44:17,870] Trial 58 finished with value: 0.4910843408008952 and parameters: {'solver': 'saga', 'C': 60.92052714935519, 'l1_ratio': 0.5385654943805401}. Best is trial 1 with value: 0.4910843408008952.\n",
      "[I 2023-11-21 21:44:18,505] Trial 59 finished with value: 0.4910843408008952 and parameters: {'solver': 'saga', 'C': 31.106345837045065, 'l1_ratio': 0.7602387045620956}. Best is trial 1 with value: 0.4910843408008952.\n",
      "[I 2023-11-21 21:44:19,178] Trial 60 finished with value: 0.4910843408008952 and parameters: {'solver': 'saga', 'C': 52.45994409357628, 'l1_ratio': 0.5911778657046693}. Best is trial 1 with value: 0.4910843408008952.\n",
      "[I 2023-11-21 21:44:19,850] Trial 61 finished with value: 0.4910843408008952 and parameters: {'solver': 'saga', 'C': 85.22213900637644, 'l1_ratio': 0.3759723547690703}. Best is trial 1 with value: 0.4910843408008952.\n",
      "[I 2023-11-21 21:44:20,519] Trial 62 finished with value: 0.4910843408008952 and parameters: {'solver': 'saga', 'C': 85.39481270355185, 'l1_ratio': 0.7049963080481398}. Best is trial 1 with value: 0.4910843408008952.\n",
      "[I 2023-11-21 21:44:21,189] Trial 63 finished with value: 0.4910843408008952 and parameters: {'solver': 'saga', 'C': 68.69961484573336, 'l1_ratio': 0.6397795818053562}. Best is trial 1 with value: 0.4910843408008952.\n",
      "[I 2023-11-21 21:44:21,845] Trial 64 finished with value: 0.4910843408008952 and parameters: {'solver': 'saga', 'C': 92.31332146053738, 'l1_ratio': 0.7724828398968148}. Best is trial 1 with value: 0.4910843408008952.\n",
      "[I 2023-11-21 21:44:22,380] Trial 65 finished with value: 0.49096987218775245 and parameters: {'solver': 'lbfgs'}. Best is trial 1 with value: 0.4910843408008952.\n",
      "[I 2023-11-21 21:44:23,067] Trial 66 finished with value: 0.4910843408008952 and parameters: {'solver': 'saga', 'C': 45.42447023884034, 'l1_ratio': 0.6769876759419486}. Best is trial 1 with value: 0.4910843408008952.\n",
      "[I 2023-11-21 21:44:23,738] Trial 67 finished with value: 0.4910843408008952 and parameters: {'solver': 'saga', 'C': 99.77995712367135, 'l1_ratio': 0.867474776533579}. Best is trial 1 with value: 0.4910843408008952.\n",
      "[I 2023-11-21 21:44:24,425] Trial 68 finished with value: 0.4910843408008952 and parameters: {'solver': 'saga', 'C': 55.23548845582202, 'l1_ratio': 0.731769738728726}. Best is trial 1 with value: 0.4910843408008952.\n",
      "[I 2023-11-21 21:44:25,059] Trial 69 finished with value: 0.4910843408008952 and parameters: {'solver': 'saga', 'C': 64.05536047965535, 'l1_ratio': 0.6220970602978301}. Best is trial 1 with value: 0.4910843408008952.\n",
      "[I 2023-11-21 21:44:25,724] Trial 70 finished with value: 0.4910843408008952 and parameters: {'solver': 'saga', 'C': 48.16115589090321, 'l1_ratio': 0.5749072605524581}. Best is trial 1 with value: 0.4910843408008952.\n",
      "[I 2023-11-21 21:44:26,391] Trial 71 finished with value: 0.4910843408008952 and parameters: {'solver': 'saga', 'C': 41.97399390212161, 'l1_ratio': 0.9439732955406075}. Best is trial 1 with value: 0.4910843408008952.\n",
      "[I 2023-11-21 21:44:27,061] Trial 72 finished with value: 0.4910843408008952 and parameters: {'solver': 'saga', 'C': 38.672045737490656, 'l1_ratio': 0.7915197510298401}. Best is trial 1 with value: 0.4910843408008952.\n",
      "[I 2023-11-21 21:44:27,737] Trial 73 finished with value: 0.4910843408008952 and parameters: {'solver': 'saga', 'C': 74.9244992156654, 'l1_ratio': 0.9097133014842083}. Best is trial 1 with value: 0.4910843408008952.\n",
      "[I 2023-11-21 21:44:28,406] Trial 74 finished with value: 0.4910843408008952 and parameters: {'solver': 'saga', 'C': 46.9362746156591, 'l1_ratio': 0.8043338468470731}. Best is trial 1 with value: 0.4910843408008952.\n",
      "[I 2023-11-21 21:44:28,916] Trial 75 finished with value: 0.49096987218775245 and parameters: {'solver': 'lbfgs'}. Best is trial 1 with value: 0.4910843408008952.\n",
      "[I 2023-11-21 21:44:29,602] Trial 76 finished with value: 0.4910843408008952 and parameters: {'solver': 'saga', 'C': 60.612836610357476, 'l1_ratio': 0.9919345296943721}. Best is trial 1 with value: 0.4910843408008952.\n",
      "[I 2023-11-21 21:44:30,278] Trial 77 finished with value: 0.4910843408008952 and parameters: {'solver': 'saga', 'C': 58.426662760511306, 'l1_ratio': 0.8291956007719845}. Best is trial 1 with value: 0.4910843408008952.\n",
      "[I 2023-11-21 21:44:30,938] Trial 78 finished with value: 0.4910843408008952 and parameters: {'solver': 'saga', 'C': 42.234558157408664, 'l1_ratio': 0.651903544567343}. Best is trial 1 with value: 0.4910843408008952.\n",
      "[I 2023-11-21 21:44:31,609] Trial 79 finished with value: 0.4910843408008952 and parameters: {'solver': 'saga', 'C': 50.661778745672635, 'l1_ratio': 0.7487570586495776}. Best is trial 1 with value: 0.4910843408008952.\n",
      "[I 2023-11-21 21:44:32,268] Trial 80 finished with value: 0.4910843408008952 and parameters: {'solver': 'saga', 'C': 65.91707607401902, 'l1_ratio': 0.7108679073207784}. Best is trial 1 with value: 0.4910843408008952.\n",
      "[I 2023-11-21 21:44:32,938] Trial 81 finished with value: 0.4910843408008952 and parameters: {'solver': 'saga', 'C': 53.57081773461904, 'l1_ratio': 0.014273164216146023}. Best is trial 1 with value: 0.4910843408008952.\n",
      "[I 2023-11-21 21:44:33,614] Trial 82 finished with value: 0.4910843408008952 and parameters: {'solver': 'saga', 'C': 69.24204885829542, 'l1_ratio': 0.49982872958786384}. Best is trial 1 with value: 0.4910843408008952.\n",
      "[I 2023-11-21 21:44:34,279] Trial 83 finished with value: 0.4910843408008952 and parameters: {'solver': 'saga', 'C': 56.19627178616331, 'l1_ratio': 0.6094034485711963}. Best is trial 1 with value: 0.4910843408008952.\n",
      "[I 2023-11-21 21:44:34,934] Trial 84 finished with value: 0.4910843408008952 and parameters: {'solver': 'saga', 'C': 36.39348192788336, 'l1_ratio': 0.6673207976483158}. Best is trial 1 with value: 0.4910843408008952.\n",
      "[I 2023-11-21 21:44:35,444] Trial 85 finished with value: 0.49096987218775245 and parameters: {'solver': 'lbfgs'}. Best is trial 1 with value: 0.4910843408008952.\n",
      "[I 2023-11-21 21:44:36,109] Trial 86 finished with value: 0.4910843408008952 and parameters: {'solver': 'saga', 'C': 44.599845810635834, 'l1_ratio': 0.5622116886396873}. Best is trial 1 with value: 0.4910843408008952.\n",
      "[I 2023-11-21 21:44:36,782] Trial 87 finished with value: 0.4910843408008952 and parameters: {'solver': 'saga', 'C': 61.59780093681223, 'l1_ratio': 0.687050186380702}. Best is trial 1 with value: 0.4910843408008952.\n",
      "[I 2023-11-21 21:44:37,442] Trial 88 finished with value: 0.4910843408008952 and parameters: {'solver': 'saga', 'C': 57.64046876515345, 'l1_ratio': 0.4646338393211089}. Best is trial 1 with value: 0.4910843408008952.\n",
      "[I 2023-11-21 21:44:38,082] Trial 89 finished with value: 0.4910843408008952 and parameters: {'solver': 'saga', 'C': 48.6370068205192, 'l1_ratio': 0.36800115355413426}. Best is trial 1 with value: 0.4910843408008952.\n",
      "[I 2023-11-21 21:44:38,745] Trial 90 finished with value: 0.4910843408008952 and parameters: {'solver': 'saga', 'C': 52.28642834715987, 'l1_ratio': 0.5245700089572591}. Best is trial 1 with value: 0.4910843408008952.\n",
      "[I 2023-11-21 21:44:39,418] Trial 91 finished with value: 0.4910843408008952 and parameters: {'solver': 'saga', 'C': 32.697249371703045, 'l1_ratio': 0.45338479309094826}. Best is trial 1 with value: 0.4910843408008952.\n",
      "[I 2023-11-21 21:44:40,074] Trial 92 finished with value: 0.4910843408008952 and parameters: {'solver': 'saga', 'C': 25.613616040622432, 'l1_ratio': 0.4087173352824875}. Best is trial 1 with value: 0.4910843408008952.\n",
      "[I 2023-11-21 21:44:40,744] Trial 93 finished with value: 0.4910843408008952 and parameters: {'solver': 'saga', 'C': 38.60997802279133, 'l1_ratio': 0.729549715455563}. Best is trial 1 with value: 0.4910843408008952.\n",
      "[I 2023-11-21 21:44:41,413] Trial 94 finished with value: 0.4910843408008952 and parameters: {'solver': 'saga', 'C': 36.080189708965534, 'l1_ratio': 0.5448529671517734}. Best is trial 1 with value: 0.4910843408008952.\n",
      "[I 2023-11-21 21:44:42,099] Trial 95 finished with value: 0.4910843408008952 and parameters: {'solver': 'saga', 'C': 31.854441146068865, 'l1_ratio': 0.5076769162815706}. Best is trial 1 with value: 0.4910843408008952.\n",
      "[I 2023-11-21 21:44:42,766] Trial 96 finished with value: 0.4910843408008952 and parameters: {'solver': 'saga', 'C': 18.792289401988395, 'l1_ratio': 0.3483882047137432}. Best is trial 1 with value: 0.4910843408008952.\n",
      "[I 2023-11-21 21:44:43,571] Trial 97 finished with value: 0.4910843408008952 and parameters: {'solver': 'saga', 'C': 42.15988439471822, 'l1_ratio': 0.43574980084291415}. Best is trial 1 with value: 0.4910843408008952.\n",
      "[I 2023-11-21 21:44:44,428] Trial 98 finished with value: 0.49096987218775245 and parameters: {'solver': 'lbfgs'}. Best is trial 1 with value: 0.4910843408008952.\n",
      "[I 2023-11-21 21:44:45,195] Trial 99 finished with value: 0.4910843408008952 and parameters: {'solver': 'saga', 'C': 28.275613115127676, 'l1_ratio': 0.4708634712607992}. Best is trial 1 with value: 0.4910843408008952.\n"
     ]
    }
   ],
   "source": [
    "study_log_reg.optimize(optuna_optimize, n_trials=100)"
   ],
   "metadata": {
    "collapsed": false,
    "ExecuteTime": {
     "end_time": "2023-11-21T18:44:45.205245Z",
     "start_time": "2023-11-21T18:43:38.481400500Z"
    }
   }
  },
  {
   "cell_type": "code",
   "execution_count": 45,
   "outputs": [
    {
     "name": "stdout",
     "output_type": "stream",
     "text": [
      "Наилучшие значения гиперпараметров Logistic Regression: {'solver': 'saga', 'C': 33.25204216640461, 'l1_ratio': 0.417298995590638}\n",
      "f1_score на обучающем наборе: 0.491\n"
     ]
    }
   ],
   "source": [
    "print(\"Наилучшие значения гиперпараметров Logistic Regression: {}\".format(study_log_reg.best_params))\n",
    "print(\"f1_score на обучающем наборе: {:.3f}\". format(study_log_reg.best_value))"
   ],
   "metadata": {
    "collapsed": false,
    "ExecuteTime": {
     "end_time": "2023-11-21T18:44:45.234513400Z",
     "start_time": "2023-11-21T18:44:45.203157900Z"
    }
   }
  },
  {
   "cell_type": "code",
   "execution_count": 46,
   "outputs": [],
   "source": [
    "with mlflow.start_run(nested=True):\n",
    "\n",
    "    best_params = study_log_reg.best_params\n",
    "    best_score = study_log_reg.best_value\n",
    "    mlflow.log_params(best_params)\n",
    "    mlflow.log_metric('f1', best_score)\n",
    "\n",
    "    log_reg_pipe = Pipeline([\n",
    "        ('preprocessor', preprocessor),\n",
    "        ('model', LogisticRegression(**best_params,\n",
    "                                     class_weight='balanced',\n",
    "                                     random_state=12345))\n",
    "    ])\n",
    "\n",
    "    log_reg_pipe.fit(X_train, y_train)\n",
    "\n",
    "    mlflow.sklearn.log_model(log_reg_pipe, 'log_reg_pipeline_class_weight')"
   ],
   "metadata": {
    "collapsed": false,
    "ExecuteTime": {
     "end_time": "2023-11-21T18:44:49.485361400Z",
     "start_time": "2023-11-21T18:44:45.222513800Z"
    }
   }
  },
  {
   "cell_type": "markdown",
   "source": [
    "### 3.1.4 Метод опорных векторов"
   ],
   "metadata": {
    "collapsed": false
   }
  },
  {
   "cell_type": "code",
   "execution_count": 47,
   "outputs": [],
   "source": [
    "def optuna_optimize(trial):\n",
    "\n",
    "    param = {\n",
    "        'C': trial.suggest_float('C', 0.001, 200)  # какие значения может принимать С \n",
    "    }\n",
    " \n",
    "    estimator = SVC(**param, \n",
    "                    class_weight='balanced',\n",
    "                    random_state=12345,\n",
    "                    probability=True)\n",
    "    \n",
    "    svc_pipe = Pipeline([\n",
    "        ('preprocessor', preprocessor),\n",
    "        ('model', estimator)\n",
    "    ])\n",
    "    \n",
    "    score = cross_val_score(svc_pipe, X_train, y_train, cv=5, scoring='f1').mean()\n",
    "    return score"
   ],
   "metadata": {
    "collapsed": false,
    "ExecuteTime": {
     "end_time": "2023-11-21T18:44:49.511949300Z",
     "start_time": "2023-11-21T18:44:49.493953600Z"
    }
   }
  },
  {
   "cell_type": "code",
   "execution_count": 48,
   "outputs": [
    {
     "name": "stderr",
     "output_type": "stream",
     "text": [
      "[I 2023-11-21 21:44:49,507] A new study created in memory with name: SVC Optuna Optimization Class Weight\n"
     ]
    }
   ],
   "source": [
    "study_svc = optuna.create_study(study_name=\"SVC Optuna Optimization Class Weight\",\n",
    "                                    direction='maximize')"
   ],
   "metadata": {
    "collapsed": false,
    "ExecuteTime": {
     "end_time": "2023-11-21T18:44:49.590670Z",
     "start_time": "2023-11-21T18:44:49.503603500Z"
    }
   }
  },
  {
   "cell_type": "code",
   "execution_count": 49,
   "outputs": [
    {
     "name": "stderr",
     "output_type": "stream",
     "text": [
      "[I 2023-11-21 21:45:04,455] Trial 0 finished with value: 0.5476048478545517 and parameters: {'C': 32.544553574348555}. Best is trial 0 with value: 0.5476048478545517.\n",
      "[I 2023-11-21 21:45:34,312] Trial 1 finished with value: 0.5123467551999545 and parameters: {'C': 170.55453431442686}. Best is trial 0 with value: 0.5476048478545517.\n",
      "[I 2023-11-21 21:45:45,663] Trial 2 finished with value: 0.5617629950459692 and parameters: {'C': 13.856562760862762}. Best is trial 2 with value: 0.5617629950459692.\n",
      "[I 2023-11-21 21:45:59,499] Trial 3 finished with value: 0.5490667905531239 and parameters: {'C': 30.01021095175272}. Best is trial 2 with value: 0.5617629950459692.\n",
      "[I 2023-11-21 21:46:12,472] Trial 4 finished with value: 0.5538329685935311 and parameters: {'C': 24.881568001412848}. Best is trial 2 with value: 0.5617629950459692.\n",
      "[I 2023-11-21 21:46:27,482] Trial 5 finished with value: 0.5445946361107652 and parameters: {'C': 40.05035755059586}. Best is trial 2 with value: 0.5617629950459692.\n",
      "[I 2023-11-21 21:46:54,118] Trial 6 finished with value: 0.5111357644736935 and parameters: {'C': 142.5066841637004}. Best is trial 2 with value: 0.5617629950459692.\n",
      "[I 2023-11-21 21:47:07,449] Trial 7 finished with value: 0.5496994783380567 and parameters: {'C': 28.143199479862695}. Best is trial 2 with value: 0.5617629950459692.\n",
      "[I 2023-11-21 21:47:28,130] Trial 8 finished with value: 0.5234753885588747 and parameters: {'C': 87.05295249544723}. Best is trial 2 with value: 0.5617629950459692.\n",
      "[I 2023-11-21 21:47:49,602] Trial 9 finished with value: 0.5197568361930612 and parameters: {'C': 94.51434870711633}. Best is trial 2 with value: 0.5617629950459692.\n",
      "[I 2023-11-21 21:48:07,527] Trial 10 finished with value: 0.5361755681487528 and parameters: {'C': 62.88498090438851}. Best is trial 2 with value: 0.5617629950459692.\n",
      "[I 2023-11-21 21:48:18,330] Trial 11 finished with value: 0.5673118191963343 and parameters: {'C': 10.19637837833053}. Best is trial 11 with value: 0.5673118191963343.\n",
      "[I 2023-11-21 21:48:28,318] Trial 12 finished with value: 0.5779336761114111 and parameters: {'C': 3.7828062068705606}. Best is trial 12 with value: 0.5779336761114111.\n",
      "[I 2023-11-21 21:48:39,578] Trial 13 finished with value: 0.5612626566782372 and parameters: {'C': 12.61552201097066}. Best is trial 12 with value: 0.5779336761114111.\n",
      "[I 2023-11-21 21:48:51,708] Trial 14 finished with value: 0.5456509997620639 and parameters: {'C': 0.08118125020797384}. Best is trial 12 with value: 0.5779336761114111.\n",
      "[I 2023-11-21 21:49:09,936] Trial 15 finished with value: 0.5356657258038419 and parameters: {'C': 64.09214171847337}. Best is trial 12 with value: 0.5779336761114111.\n",
      "[I 2023-11-21 21:49:19,735] Trial 16 finished with value: 0.5787163668944065 and parameters: {'C': 2.7064620319531265}. Best is trial 16 with value: 0.5787163668944065.\n",
      "[I 2023-11-21 21:49:36,216] Trial 17 finished with value: 0.5383584982445732 and parameters: {'C': 52.32975751496587}. Best is trial 16 with value: 0.5787163668944065.\n",
      "[I 2023-11-21 21:49:46,067] Trial 18 finished with value: 0.5780599598217272 and parameters: {'C': 1.7209155689244313}. Best is trial 16 with value: 0.5787163668944065.\n",
      "[I 2023-11-21 21:50:09,889] Trial 19 finished with value: 0.5122245680136157 and parameters: {'C': 117.17340467893176}. Best is trial 16 with value: 0.5787163668944065.\n",
      "[I 2023-11-21 21:50:25,657] Trial 20 finished with value: 0.5397901826022732 and parameters: {'C': 47.038758937152366}. Best is trial 16 with value: 0.5787163668944065.\n",
      "[I 2023-11-21 21:50:35,643] Trial 21 finished with value: 0.5741241009771951 and parameters: {'C': 0.6970077756351465}. Best is trial 16 with value: 0.5787163668944065.\n",
      "[I 2023-11-21 21:50:47,612] Trial 22 finished with value: 0.5611348140530611 and parameters: {'C': 18.09380733321979}. Best is trial 16 with value: 0.5787163668944065.\n",
      "[I 2023-11-21 21:50:58,911] Trial 23 finished with value: 0.5559870238847795 and parameters: {'C': 0.1436961934269969}. Best is trial 16 with value: 0.5787163668944065.\n",
      "[I 2023-11-21 21:51:14,178] Trial 24 finished with value: 0.5419838261104971 and parameters: {'C': 42.69180983880739}. Best is trial 16 with value: 0.5787163668944065.\n",
      "[I 2023-11-21 21:51:26,192] Trial 25 finished with value: 0.5587128687653713 and parameters: {'C': 19.23347860844382}. Best is trial 16 with value: 0.5787163668944065.\n",
      "[I 2023-11-21 21:51:46,170] Trial 26 finished with value: 0.5242452490466785 and parameters: {'C': 80.8856136766339}. Best is trial 16 with value: 0.5787163668944065.\n",
      "[I 2023-11-21 21:52:03,954] Trial 27 finished with value: 0.5359686621100236 and parameters: {'C': 61.526975864950884}. Best is trial 16 with value: 0.5787163668944065.\n",
      "[I 2023-11-21 21:52:18,045] Trial 28 finished with value: 0.5476354824211467 and parameters: {'C': 33.550396520208096}. Best is trial 16 with value: 0.5787163668944065.\n",
      "[I 2023-11-21 21:52:31,695] Trial 29 finished with value: 0.5482721535959658 and parameters: {'C': 30.766214810665613}. Best is trial 16 with value: 0.5787163668944065.\n",
      "[I 2023-11-21 21:52:42,738] Trial 30 finished with value: 0.5638779419186409 and parameters: {'C': 11.536756895215724}. Best is trial 16 with value: 0.5787163668944065.\n",
      "[I 2023-11-21 21:52:53,415] Trial 31 finished with value: 0.560272659220298 and parameters: {'C': 0.26472321517978514}. Best is trial 16 with value: 0.5787163668944065.\n",
      "[I 2023-11-21 21:53:05,987] Trial 32 finished with value: 0.5560726392100169 and parameters: {'C': 22.70100215835568}. Best is trial 16 with value: 0.5787163668944065.\n",
      "[I 2023-11-21 21:53:16,437] Trial 33 finished with value: 0.5686179492119028 and parameters: {'C': 7.850251093601518}. Best is trial 16 with value: 0.5787163668944065.\n",
      "[I 2023-11-21 21:53:26,721] Trial 34 finished with value: 0.566790936805085 and parameters: {'C': 0.43437473323187215}. Best is trial 16 with value: 0.5787163668944065.\n",
      "[I 2023-11-21 21:53:38,989] Trial 35 finished with value: 0.5564622706476301 and parameters: {'C': 20.13783668120212}. Best is trial 16 with value: 0.5787163668944065.\n",
      "[I 2023-11-21 21:53:52,360] Trial 36 finished with value: 0.5496994783380567 and parameters: {'C': 28.023020933104032}. Best is trial 16 with value: 0.5787163668944065.\n",
      "[I 2023-11-21 21:54:06,990] Trial 37 finished with value: 0.5463724420162177 and parameters: {'C': 37.50461877880461}. Best is trial 16 with value: 0.5787163668944065.\n",
      "[I 2023-11-21 21:54:17,861] Trial 38 finished with value: 0.5659398785415359 and parameters: {'C': 10.4206315216041}. Best is trial 16 with value: 0.5787163668944065.\n",
      "[I 2023-11-21 21:54:30,436] Trial 39 finished with value: 0.5559951618627753 and parameters: {'C': 22.595980597494684}. Best is trial 16 with value: 0.5787163668944065.\n",
      "[I 2023-11-21 21:54:44,912] Trial 40 finished with value: 0.5460808130675658 and parameters: {'C': 36.48676230421967}. Best is trial 16 with value: 0.5787163668944065.\n",
      "[I 2023-11-21 21:54:55,708] Trial 41 finished with value: 0.5675154690881354 and parameters: {'C': 9.958795036003178}. Best is trial 16 with value: 0.5787163668944065.\n",
      "[I 2023-11-21 21:55:06,265] Trial 42 finished with value: 0.5693867190495636 and parameters: {'C': 8.201916692946302}. Best is trial 16 with value: 0.5787163668944065.\n",
      "[I 2023-11-21 21:55:18,440] Trial 43 finished with value: 0.5562412479366248 and parameters: {'C': 20.35735999139383}. Best is trial 16 with value: 0.5787163668944065.\n",
      "[I 2023-11-21 21:55:28,914] Trial 44 finished with value: 0.5684633613394361 and parameters: {'C': 7.6720026459039445}. Best is trial 16 with value: 0.5787163668944065.\n",
      "[I 2023-11-21 21:55:42,678] Trial 45 finished with value: 0.5490667905531239 and parameters: {'C': 30.067838801097565}. Best is trial 16 with value: 0.5787163668944065.\n",
      "[I 2023-11-21 21:55:54,118] Trial 46 finished with value: 0.562755136367014 and parameters: {'C': 15.296746099784457}. Best is trial 16 with value: 0.5787163668944065.\n",
      "[I 2023-11-21 21:56:07,261] Trial 47 finished with value: 0.5506303463188259 and parameters: {'C': 27.005544791710214}. Best is trial 16 with value: 0.5787163668944065.\n",
      "[I 2023-11-21 21:56:17,417] Trial 48 finished with value: 0.5726782568744158 and parameters: {'C': 5.574492055250721}. Best is trial 16 with value: 0.5787163668944065.\n",
      "[I 2023-11-21 21:56:33,421] Trial 49 finished with value: 0.5395551542133821 and parameters: {'C': 48.943938434175394}. Best is trial 16 with value: 0.5787163668944065.\n",
      "[I 2023-11-21 21:56:45,362] Trial 50 finished with value: 0.5632146376312333 and parameters: {'C': 14.712009189687814}. Best is trial 16 with value: 0.5787163668944065.\n",
      "[I 2023-11-21 21:56:55,429] Trial 51 finished with value: 0.575753479150636 and parameters: {'C': 4.549731798358472}. Best is trial 16 with value: 0.5787163668944065.\n",
      "[I 2023-11-21 21:57:05,310] Trial 52 finished with value: 0.5774797441933834 and parameters: {'C': 1.0698066364705698}. Best is trial 16 with value: 0.5787163668944065.\n",
      "[I 2023-11-21 21:57:15,138] Trial 53 finished with value: 0.5786765252036878 and parameters: {'C': 1.6862194541451696}. Best is trial 16 with value: 0.5787163668944065.\n",
      "[I 2023-11-21 21:57:26,867] Trial 54 finished with value: 0.560104295619781 and parameters: {'C': 16.824083463983}. Best is trial 16 with value: 0.5787163668944065.\n",
      "[I 2023-11-21 21:57:37,077] Trial 55 finished with value: 0.5713132957189944 and parameters: {'C': 5.6929058680355915}. Best is trial 16 with value: 0.5787163668944065.\n",
      "[I 2023-11-21 21:57:49,957] Trial 56 finished with value: 0.5538329685935311 and parameters: {'C': 24.811653492130734}. Best is trial 16 with value: 0.5787163668944065.\n",
      "[I 2023-11-21 21:58:01,482] Trial 57 finished with value: 0.5615943333355444 and parameters: {'C': 15.40143540458815}. Best is trial 16 with value: 0.5787163668944065.\n",
      "[I 2023-11-21 21:58:11,629] Trial 58 finished with value: 0.5731658656892029 and parameters: {'C': 0.6516149116498493}. Best is trial 16 with value: 0.5787163668944065.\n",
      "[I 2023-11-21 21:58:26,708] Trial 59 finished with value: 0.5421033963207138 and parameters: {'C': 41.2201539563316}. Best is trial 16 with value: 0.5787163668944065.\n",
      "[I 2023-11-21 21:58:40,892] Trial 60 finished with value: 0.5617124464148249 and parameters: {'C': 13.615008069811118}. Best is trial 16 with value: 0.5787163668944065.\n",
      "[I 2023-11-21 21:58:54,077] Trial 61 finished with value: 0.5493764132415293 and parameters: {'C': 0.09981716577912869}. Best is trial 16 with value: 0.5787163668944065.\n",
      "[I 2023-11-21 21:59:09,907] Trial 62 finished with value: 0.5720702135745588 and parameters: {'C': 6.018249118628681}. Best is trial 16 with value: 0.5787163668944065.\n",
      "[I 2023-11-21 21:59:29,798] Trial 63 finished with value: 0.5560726392100169 and parameters: {'C': 22.707002202606347}. Best is trial 16 with value: 0.5787163668944065.\n",
      "[I 2023-11-21 21:59:48,816] Trial 64 finished with value: 0.5489200302353376 and parameters: {'C': 31.137798426439648}. Best is trial 16 with value: 0.5787163668944065.\n",
      "[I 2023-11-21 22:00:00,575] Trial 65 finished with value: 0.5632146376312333 and parameters: {'C': 14.696608511810833}. Best is trial 16 with value: 0.5787163668944065.\n",
      "[I 2023-11-21 22:00:10,896] Trial 66 finished with value: 0.575753479150636 and parameters: {'C': 4.526845675015116}. Best is trial 16 with value: 0.5787163668944065.\n",
      "[I 2023-11-21 22:00:21,116] Trial 67 finished with value: 0.5720623204957501 and parameters: {'C': 5.924839483480444}. Best is trial 16 with value: 0.5787163668944065.\n",
      "[I 2023-11-21 22:00:33,311] Trial 68 finished with value: 0.561098162814935 and parameters: {'C': 18.481395637624473}. Best is trial 16 with value: 0.5787163668944065.\n",
      "[I 2023-11-21 22:00:47,595] Trial 69 finished with value: 0.5476427486589417 and parameters: {'C': 34.017329981779476}. Best is trial 16 with value: 0.5787163668944065.\n",
      "[I 2023-11-21 22:01:00,541] Trial 70 finished with value: 0.5538338727409424 and parameters: {'C': 24.959434458542496}. Best is trial 16 with value: 0.5787163668944065.\n",
      "[I 2023-11-21 22:01:11,423] Trial 71 finished with value: 0.5590907426921352 and parameters: {'C': 0.20470212526066023}. Best is trial 16 with value: 0.5787163668944065.\n",
      "[I 2023-11-21 22:01:22,338] Trial 72 finished with value: 0.5670294467859163 and parameters: {'C': 10.127016501288779}. Best is trial 16 with value: 0.5787163668944065.\n",
      "[I 2023-11-21 22:01:32,532] Trial 73 finished with value: 0.5727779250195669 and parameters: {'C': 5.015063658149184}. Best is trial 16 with value: 0.5787163668944065.\n",
      "[I 2023-11-21 22:01:43,362] Trial 74 finished with value: 0.5678744969317562 and parameters: {'C': 9.958923335290041}. Best is trial 16 with value: 0.5787163668944065.\n",
      "[I 2023-11-21 22:01:55,164] Trial 75 finished with value: 0.5606966490463499 and parameters: {'C': 17.284353163683072}. Best is trial 16 with value: 0.5787163668944065.\n",
      "[I 2023-11-21 22:02:05,242] Trial 76 finished with value: 0.5763265264635085 and parameters: {'C': 4.433919210357561}. Best is trial 16 with value: 0.5787163668944065.\n",
      "[I 2023-11-21 22:02:15,484] Trial 77 finished with value: 0.5720648847014898 and parameters: {'C': 5.963746407570311}. Best is trial 16 with value: 0.5787163668944065.\n",
      "[I 2023-11-21 22:02:26,848] Trial 78 finished with value: 0.5618473834690774 and parameters: {'C': 13.730863675467752}. Best is trial 16 with value: 0.5787163668944065.\n",
      "[I 2023-11-21 22:02:39,359] Trial 79 finished with value: 0.5557178293436292 and parameters: {'C': 22.087072481611024}. Best is trial 16 with value: 0.5787163668944065.\n",
      "[I 2023-11-21 22:02:49,472] Trial 80 finished with value: 0.575753479150636 and parameters: {'C': 4.538209562452731}. Best is trial 16 with value: 0.5787163668944065.\n",
      "[I 2023-11-21 22:02:59,317] Trial 81 finished with value: 0.5785617730448694 and parameters: {'C': 3.436702627153795}. Best is trial 16 with value: 0.5787163668944065.\n",
      "[I 2023-11-21 22:03:09,289] Trial 82 finished with value: 0.5780664295913347 and parameters: {'C': 3.90402260172244}. Best is trial 16 with value: 0.5787163668944065.\n",
      "[I 2023-11-21 22:03:20,245] Trial 83 finished with value: 0.5640718161018883 and parameters: {'C': 11.364742922863666}. Best is trial 16 with value: 0.5787163668944065.\n",
      "[I 2023-11-21 22:03:31,140] Trial 84 finished with value: 0.5650914417465411 and parameters: {'C': 10.932058327404235}. Best is trial 16 with value: 0.5787163668944065.\n",
      "[I 2023-11-21 22:03:43,341] Trial 85 finished with value: 0.5601572923282726 and parameters: {'C': 18.712042530568574}. Best is trial 16 with value: 0.5787163668944065.\n",
      "[I 2023-11-21 22:03:56,515] Trial 86 finished with value: 0.5504959062082235 and parameters: {'C': 26.777369155877594}. Best is trial 16 with value: 0.5787163668944065.\n",
      "[I 2023-11-21 22:04:06,428] Trial 87 finished with value: 0.5781107321359962 and parameters: {'C': 1.8842261244791048}. Best is trial 16 with value: 0.5787163668944065.\n",
      "[I 2023-11-21 22:04:17,490] Trial 88 finished with value: 0.5626978074819774 and parameters: {'C': 12.056280010340506}. Best is trial 16 with value: 0.5787163668944065.\n",
      "[I 2023-11-21 22:04:29,676] Trial 89 finished with value: 0.5562956995151025 and parameters: {'C': 20.71044089143612}. Best is trial 16 with value: 0.5787163668944065.\n",
      "[I 2023-11-21 22:04:39,484] Trial 90 finished with value: 0.5783068348142445 and parameters: {'C': 2.2570925774699946}. Best is trial 16 with value: 0.5787163668944065.\n",
      "[I 2023-11-21 22:04:50,029] Trial 91 finished with value: 0.562891352180673 and parameters: {'C': 0.3210172074959532}. Best is trial 16 with value: 0.5787163668944065.\n",
      "[I 2023-11-21 22:05:00,691] Trial 92 finished with value: 0.5700294775701134 and parameters: {'C': 8.933470123656063}. Best is trial 16 with value: 0.5787163668944065.\n",
      "[I 2023-11-21 22:05:10,618] Trial 93 finished with value: 0.5771932303296394 and parameters: {'C': 3.504373016744599}. Best is trial 16 with value: 0.5787163668944065.\n",
      "[I 2023-11-21 22:05:22,246] Trial 94 finished with value: 0.5610993328708136 and parameters: {'C': 15.513446348595304}. Best is trial 16 with value: 0.5787163668944065.\n",
      "[I 2023-11-21 22:05:32,234] Trial 95 finished with value: 0.578069162207431 and parameters: {'C': 3.384248838067719}. Best is trial 16 with value: 0.5787163668944065.\n",
      "[I 2023-11-21 22:05:42,890] Trial 96 finished with value: 0.5697623926856128 and parameters: {'C': 9.476213009087342}. Best is trial 16 with value: 0.5787163668944065.\n",
      "[I 2023-11-21 22:05:53,764] Trial 97 finished with value: 0.558710151175528 and parameters: {'C': 0.2005460258909313}. Best is trial 16 with value: 0.5787163668944065.\n",
      "[I 2023-11-21 22:06:05,024] Trial 98 finished with value: 0.5613357285886791 and parameters: {'C': 13.394258197913715}. Best is trial 16 with value: 0.5787163668944065.\n",
      "[I 2023-11-21 22:06:18,121] Trial 99 finished with value: 0.5506303463188259 and parameters: {'C': 27.157628628871407}. Best is trial 16 with value: 0.5787163668944065.\n"
     ]
    }
   ],
   "source": [
    "study_svc.optimize(optuna_optimize, n_trials=100)"
   ],
   "metadata": {
    "collapsed": false,
    "ExecuteTime": {
     "end_time": "2023-11-21T19:06:18.132914800Z",
     "start_time": "2023-11-21T18:44:49.517910900Z"
    }
   }
  },
  {
   "cell_type": "code",
   "execution_count": 50,
   "outputs": [
    {
     "name": "stdout",
     "output_type": "stream",
     "text": [
      "Наилучшие значения гиперпараметров SVC: {'C': 2.7064620319531265}\n",
      "f1_score на обучающем наборе: 0.579\n"
     ]
    }
   ],
   "source": [
    "print(\"Наилучшие значения гиперпараметров SVC: {}\".format(study_svc.best_params))\n",
    "print(\"f1_score на обучающем наборе: {:.3f}\". format(study_svc.best_value))"
   ],
   "metadata": {
    "collapsed": false,
    "ExecuteTime": {
     "end_time": "2023-11-21T19:06:18.165364800Z",
     "start_time": "2023-11-21T19:06:18.141281500Z"
    }
   }
  },
  {
   "cell_type": "code",
   "execution_count": 51,
   "outputs": [],
   "source": [
    "with mlflow.start_run(nested=True):\n",
    "\n",
    "    best_params = study_svc.best_params\n",
    "    best_score = study_svc.best_value\n",
    "    mlflow.log_params(best_params)\n",
    "    mlflow.log_metric('f1', best_score)\n",
    "\n",
    "    svc_pipe = Pipeline([\n",
    "        ('preprocessor', preprocessor),\n",
    "        ('model', SVC(**best_params,\n",
    "                      class_weight='balanced',\n",
    "                      random_state=12345,\n",
    "                      probability=True))\n",
    "    ])\n",
    "\n",
    "    svc_pipe.fit(X_train, y_train)\n",
    "\n",
    "    mlflow.sklearn.log_model(svc_pipe, 'svc_pipeline_class_weight')"
   ],
   "metadata": {
    "collapsed": false,
    "ExecuteTime": {
     "end_time": "2023-11-21T19:06:26.928617700Z",
     "start_time": "2023-11-21T19:06:18.148628300Z"
    }
   }
  },
  {
   "cell_type": "markdown",
   "source": [
    "## 3.2 Генерация синтетических данных (SMOTE)\n",
    "### 3.2.1 Модель XGBoost"
   ],
   "metadata": {
    "collapsed": false
   }
  },
  {
   "cell_type": "code",
   "execution_count": 23,
   "outputs": [],
   "source": [
    "cat_pipeline = Pipeline([\n",
    "    ('enc', OneHotEncoder(handle_unknown='error', drop='first'))\n",
    "])\n",
    "\n",
    "num_pipeline = Pipeline([\n",
    "    ('imp', SimpleImputer(fill_value=-1, add_indicator=True)),\n",
    "    ('pt', PowerTransformer())\n",
    "])\n",
    "\n",
    "preprocessor = ColumnTransformer([\n",
    "    (\"cat\", cat_pipeline, categorical_features),\n",
    "    (\"num\", num_pipeline, numeric_features)\n",
    "], remainder='passthrough')"
   ],
   "metadata": {
    "collapsed": false,
    "ExecuteTime": {
     "end_time": "2023-11-22T11:01:30.184868400Z",
     "start_time": "2023-11-22T11:01:30.101519500Z"
    }
   }
  },
  {
   "cell_type": "code",
   "execution_count": 53,
   "outputs": [],
   "source": [
    "def optuna_optimize(trial):\n",
    "    param = {\n",
    "        'n_estimators': trial.suggest_int('n_estimators', 50, 250),\n",
    "        'max_depth': trial.suggest_int('max_depth', 2, 10),\n",
    "        'eta': trial.suggest_float('eta', 0.01, 1.5)\n",
    "    }\n",
    "\n",
    "    estimator = xgb.XGBClassifier(**param,\n",
    "                                  random_state=12345)\n",
    "\n",
    "    xgb_pipe = Pipeline([\n",
    "        ('preprocessor', preprocessor),\n",
    "        ('smote', SMOTE(random_state=12345)),\n",
    "        ('model', estimator)\n",
    "    ])\n",
    "\n",
    "    score = cross_val_score(xgb_pipe, X_train, y_train, cv=5, scoring='f1').mean()\n",
    "    return score"
   ],
   "metadata": {
    "collapsed": false,
    "ExecuteTime": {
     "end_time": "2023-11-21T19:06:27.042359900Z",
     "start_time": "2023-11-21T19:06:26.947478400Z"
    }
   }
  },
  {
   "cell_type": "code",
   "execution_count": 54,
   "outputs": [
    {
     "name": "stderr",
     "output_type": "stream",
     "text": [
      "[I 2023-11-21 22:06:26,970] A new study created in memory with name: XGBoost Optuna Optimization SMOTE\n"
     ]
    }
   ],
   "source": [
    "study_xgb_smote = optuna.create_study(study_name=\"XGBoost Optuna Optimization SMOTE\",\n",
    "                                direction='maximize')"
   ],
   "metadata": {
    "collapsed": false,
    "ExecuteTime": {
     "end_time": "2023-11-21T19:06:27.042359900Z",
     "start_time": "2023-11-21T19:06:26.968284900Z"
    }
   }
  },
  {
   "cell_type": "code",
   "execution_count": 55,
   "outputs": [
    {
     "name": "stderr",
     "output_type": "stream",
     "text": [
      "[I 2023-11-21 22:06:30,207] Trial 0 finished with value: 0.5327918569184967 and parameters: {'n_estimators': 119, 'max_depth': 6, 'eta': 1.1916220912659359}. Best is trial 0 with value: 0.5327918569184967.\n",
      "[I 2023-11-21 22:06:32,805] Trial 1 finished with value: 0.5536180843793439 and parameters: {'n_estimators': 82, 'max_depth': 7, 'eta': 0.9402405475635459}. Best is trial 1 with value: 0.5536180843793439.\n",
      "[I 2023-11-21 22:06:37,107] Trial 2 finished with value: 0.5489485401007134 and parameters: {'n_estimators': 186, 'max_depth': 7, 'eta': 0.9312755084847804}. Best is trial 1 with value: 0.5536180843793439.\n",
      "[I 2023-11-21 22:06:40,774] Trial 3 finished with value: 0.542279472487669 and parameters: {'n_estimators': 146, 'max_depth': 7, 'eta': 1.2236922522352667}. Best is trial 1 with value: 0.5536180843793439.\n",
      "[I 2023-11-21 22:06:44,208] Trial 4 finished with value: 0.548261155183717 and parameters: {'n_estimators': 108, 'max_depth': 8, 'eta': 1.2383951591882436}. Best is trial 1 with value: 0.5536180843793439.\n",
      "[I 2023-11-21 22:06:47,224] Trial 5 finished with value: 0.5468648583636935 and parameters: {'n_estimators': 97, 'max_depth': 7, 'eta': 1.1479793923894128}. Best is trial 1 with value: 0.5536180843793439.\n",
      "[I 2023-11-21 22:06:48,467] Trial 6 finished with value: 0.6189421006301942 and parameters: {'n_estimators': 69, 'max_depth': 2, 'eta': 0.5414513119094364}. Best is trial 6 with value: 0.6189421006301942.\n",
      "[I 2023-11-21 22:06:50,884] Trial 7 finished with value: 0.5790600272027889 and parameters: {'n_estimators': 133, 'max_depth': 5, 'eta': 0.3923094416753604}. Best is trial 6 with value: 0.6189421006301942.\n",
      "[I 2023-11-21 22:06:53,266] Trial 8 finished with value: 0.5467744058211448 and parameters: {'n_estimators': 149, 'max_depth': 3, 'eta': 1.1407793788301657}. Best is trial 6 with value: 0.6189421006301942.\n",
      "[I 2023-11-21 22:06:54,994] Trial 9 finished with value: 0.5848502723692274 and parameters: {'n_estimators': 129, 'max_depth': 3, 'eta': 0.5733061624817515}. Best is trial 6 with value: 0.6189421006301942.\n",
      "[I 2023-11-21 22:06:59,403] Trial 10 finished with value: 0.5927011380569299 and parameters: {'n_estimators': 58, 'max_depth': 10, 'eta': 0.02375621743856504}. Best is trial 6 with value: 0.6189421006301942.\n",
      "[I 2023-11-21 22:07:03,116] Trial 11 finished with value: 0.6016616693559204 and parameters: {'n_estimators': 54, 'max_depth': 10, 'eta': 0.06356935134233616}. Best is trial 6 with value: 0.6189421006301942.\n",
      "[I 2023-11-21 22:07:15,274] Trial 12 finished with value: 0.6041520532071427 and parameters: {'n_estimators': 250, 'max_depth': 10, 'eta': 0.017613465782451973}. Best is trial 6 with value: 0.6189421006301942.\n",
      "[I 2023-11-21 22:07:17,104] Trial 13 finished with value: 0.6173335240503098 and parameters: {'n_estimators': 249, 'max_depth': 2, 'eta': 0.29768946532081886}. Best is trial 6 with value: 0.6189421006301942.\n",
      "[I 2023-11-21 22:07:18,692] Trial 14 finished with value: 0.6144066372289908 and parameters: {'n_estimators': 189, 'max_depth': 2, 'eta': 0.39286458544264696}. Best is trial 6 with value: 0.6189421006301942.\n",
      "[I 2023-11-21 22:07:21,575] Trial 15 finished with value: 0.552908070683001 and parameters: {'n_estimators': 243, 'max_depth': 4, 'eta': 0.672847654351587}. Best is trial 6 with value: 0.6189421006301942.\n",
      "[I 2023-11-21 22:07:23,239] Trial 16 finished with value: 0.5768798568923132 and parameters: {'n_estimators': 193, 'max_depth': 2, 'eta': 1.4216800891903731}. Best is trial 6 with value: 0.6189421006301942.\n",
      "[I 2023-11-21 22:07:25,672] Trial 17 finished with value: 0.5812057634686755 and parameters: {'n_estimators': 223, 'max_depth': 4, 'eta': 0.3177394035740269}. Best is trial 6 with value: 0.6189421006301942.\n",
      "[I 2023-11-21 22:07:27,238] Trial 18 finished with value: 0.6091611151190424 and parameters: {'n_estimators': 166, 'max_depth': 2, 'eta': 0.5380270390151243}. Best is trial 6 with value: 0.6189421006301942.\n",
      "[I 2023-11-21 22:07:29,569] Trial 19 finished with value: 0.5898582888973886 and parameters: {'n_estimators': 214, 'max_depth': 4, 'eta': 0.21585300765179805}. Best is trial 6 with value: 0.6189421006301942.\n",
      "[I 2023-11-21 22:07:30,946] Trial 20 finished with value: 0.5857362432647855 and parameters: {'n_estimators': 82, 'max_depth': 3, 'eta': 0.7447073370492387}. Best is trial 6 with value: 0.6189421006301942.\n",
      "[I 2023-11-21 22:07:32,495] Trial 21 finished with value: 0.6157341618942982 and parameters: {'n_estimators': 174, 'max_depth': 2, 'eta': 0.4319517828986295}. Best is trial 6 with value: 0.6189421006301942.\n",
      "[I 2023-11-21 22:07:34,004] Trial 22 finished with value: 0.6087591786978818 and parameters: {'n_estimators': 168, 'max_depth': 2, 'eta': 0.5290338113007867}. Best is trial 6 with value: 0.6189421006301942.\n",
      "[I 2023-11-21 22:07:36,002] Trial 23 finished with value: 0.6029244965704204 and parameters: {'n_estimators': 224, 'max_depth': 3, 'eta': 0.2248281977629477}. Best is trial 6 with value: 0.6189421006301942.\n",
      "[I 2023-11-21 22:07:38,967] Trial 24 finished with value: 0.5629105070579505 and parameters: {'n_estimators': 207, 'max_depth': 5, 'eta': 0.48788359112140056}. Best is trial 6 with value: 0.6189421006301942.\n",
      "[I 2023-11-21 22:07:40,449] Trial 25 finished with value: 0.6151384313300389 and parameters: {'n_estimators': 161, 'max_depth': 2, 'eta': 0.22933303718130818}. Best is trial 6 with value: 0.6189421006301942.\n",
      "[I 2023-11-21 22:07:42,613] Trial 26 finished with value: 0.5684970535585429 and parameters: {'n_estimators': 238, 'max_depth': 3, 'eta': 0.6793015707003063}. Best is trial 6 with value: 0.6189421006301942.\n",
      "[I 2023-11-21 22:07:44,297] Trial 27 finished with value: 0.5802065729381793 and parameters: {'n_estimators': 82, 'max_depth': 5, 'eta': 0.426335416209524}. Best is trial 6 with value: 0.6189421006301942.\n",
      "[I 2023-11-21 22:07:45,950] Trial 28 finished with value: 0.5706593520240568 and parameters: {'n_estimators': 102, 'max_depth': 4, 'eta': 0.6110984053493289}. Best is trial 6 with value: 0.6189421006301942.\n",
      "[I 2023-11-21 22:07:47,293] Trial 29 finished with value: 0.6116143998169264 and parameters: {'n_estimators': 118, 'max_depth': 2, 'eta': 0.32792509185288615}. Best is trial 6 with value: 0.6189421006301942.\n",
      "[I 2023-11-21 22:07:50,842] Trial 30 finished with value: 0.5610642554839557 and parameters: {'n_estimators': 202, 'max_depth': 6, 'eta': 0.4769701299474193}. Best is trial 6 with value: 0.6189421006301942.\n",
      "[I 2023-11-21 22:07:52,344] Trial 31 finished with value: 0.6145719128666822 and parameters: {'n_estimators': 168, 'max_depth': 2, 'eta': 0.21502106965118006}. Best is trial 6 with value: 0.6189421006301942.\n",
      "[I 2023-11-21 22:07:53,986] Trial 32 finished with value: 0.6245030979072863 and parameters: {'n_estimators': 161, 'max_depth': 3, 'eta': 0.14112254420287518}. Best is trial 32 with value: 0.6245030979072863.\n",
      "[I 2023-11-21 22:07:55,780] Trial 33 finished with value: 0.5970689499442805 and parameters: {'n_estimators': 179, 'max_depth': 3, 'eta': 0.3231148148673937}. Best is trial 32 with value: 0.6245030979072863.\n",
      "[I 2023-11-21 22:07:57,366] Trial 34 finished with value: 0.626283385227625 and parameters: {'n_estimators': 135, 'max_depth': 3, 'eta': 0.1284305963925333}. Best is trial 34 with value: 0.626283385227625.\n",
      "[I 2023-11-21 22:07:58,758] Trial 35 finished with value: 0.6178582275750351 and parameters: {'n_estimators': 66, 'max_depth': 4, 'eta': 0.10091925802841453}. Best is trial 34 with value: 0.626283385227625.\n",
      "[I 2023-11-21 22:08:00,166] Trial 36 finished with value: 0.6125858863426129 and parameters: {'n_estimators': 71, 'max_depth': 4, 'eta': 0.11839864487043447}. Best is trial 34 with value: 0.626283385227625.\n",
      "[I 2023-11-21 22:08:01,972] Trial 37 finished with value: 0.6148751949631168 and parameters: {'n_estimators': 68, 'max_depth': 6, 'eta': 0.13811657497708033}. Best is trial 34 with value: 0.626283385227625.\n",
      "[I 2023-11-21 22:08:03,721] Trial 38 finished with value: 0.6133551443762005 and parameters: {'n_estimators': 92, 'max_depth': 5, 'eta': 0.13370430348674167}. Best is trial 34 with value: 0.626283385227625.\n",
      "[I 2023-11-21 22:08:05,256] Trial 39 finished with value: 0.6264156025626356 and parameters: {'n_estimators': 131, 'max_depth': 3, 'eta': 0.11250589108448067}. Best is trial 39 with value: 0.6264156025626356.\n",
      "[I 2023-11-21 22:08:08,911] Trial 40 finished with value: 0.5848710451345167 and parameters: {'n_estimators': 138, 'max_depth': 8, 'eta': 0.16197001812659212}. Best is trial 39 with value: 0.6264156025626356.\n",
      "[I 2023-11-21 22:08:10,442] Trial 41 finished with value: 0.5871605397514609 and parameters: {'n_estimators': 118, 'max_depth': 3, 'eta': 0.015811850138695308}. Best is trial 39 with value: 0.6264156025626356.\n",
      "[I 2023-11-21 22:08:12,073] Trial 42 finished with value: 0.6216241582847356 and parameters: {'n_estimators': 153, 'max_depth': 3, 'eta': 0.15742738532099268}. Best is trial 39 with value: 0.6264156025626356.\n",
      "[I 2023-11-21 22:08:13,660] Trial 43 finished with value: 0.6162458858058553 and parameters: {'n_estimators': 140, 'max_depth': 3, 'eta': 0.07933029504988785}. Best is trial 39 with value: 0.6264156025626356.\n",
      "[I 2023-11-21 22:08:15,274] Trial 44 finished with value: 0.6175661144018646 and parameters: {'n_estimators': 151, 'max_depth': 3, 'eta': 0.1864808033993675}. Best is trial 39 with value: 0.6264156025626356.\n",
      "[I 2023-11-21 22:08:19,769] Trial 45 finished with value: 0.5993789534533932 and parameters: {'n_estimators': 128, 'max_depth': 9, 'eta': 0.07519069255122102}. Best is trial 39 with value: 0.6264156025626356.\n",
      "[I 2023-11-21 22:08:21,769] Trial 46 finished with value: 0.5904941932472774 and parameters: {'n_estimators': 155, 'max_depth': 4, 'eta': 0.28678327285847394}. Best is trial 39 with value: 0.6264156025626356.\n",
      "[I 2023-11-21 22:08:23,259] Trial 47 finished with value: 0.5753055962141012 and parameters: {'n_estimators': 108, 'max_depth': 3, 'eta': 0.010654871140752684}. Best is trial 39 with value: 0.6264156025626356.\n",
      "[I 2023-11-21 22:08:25,462] Trial 48 finished with value: 0.5763162817493785 and parameters: {'n_estimators': 144, 'max_depth': 5, 'eta': 0.36405699814989645}. Best is trial 39 with value: 0.6264156025626356.\n",
      "[I 2023-11-21 22:08:26,984] Trial 49 finished with value: 0.6140536753706236 and parameters: {'n_estimators': 125, 'max_depth': 3, 'eta': 0.25326632929411524}. Best is trial 39 with value: 0.6264156025626356.\n",
      "[I 2023-11-21 22:08:28,990] Trial 50 finished with value: 0.610827248037791 and parameters: {'n_estimators': 157, 'max_depth': 4, 'eta': 0.1820009630900891}. Best is trial 39 with value: 0.6264156025626356.\n",
      "[I 2023-11-21 22:08:30,381] Trial 51 finished with value: 0.614798402241471 and parameters: {'n_estimators': 59, 'max_depth': 4, 'eta': 0.09249373621705645}. Best is trial 39 with value: 0.6264156025626356.\n",
      "[I 2023-11-21 22:08:31,714] Trial 52 finished with value: 0.6110487610515586 and parameters: {'n_estimators': 82, 'max_depth': 3, 'eta': 0.1421267141497038}. Best is trial 39 with value: 0.6264156025626356.\n",
      "[I 2023-11-21 22:08:32,885] Trial 53 finished with value: 0.6146811803186727 and parameters: {'n_estimators': 69, 'max_depth': 2, 'eta': 0.2553560780247127}. Best is trial 39 with value: 0.6264156025626356.\n",
      "[I 2023-11-21 22:08:34,269] Trial 54 finished with value: 0.6073140111300466 and parameters: {'n_estimators': 92, 'max_depth': 3, 'eta': 0.08158810969937198}. Best is trial 39 with value: 0.6264156025626356.\n",
      "[I 2023-11-21 22:08:35,404] Trial 55 finished with value: 0.6090903974678854 and parameters: {'n_estimators': 50, 'max_depth': 2, 'eta': 0.16607805291077732}. Best is trial 39 with value: 0.6264156025626356.\n",
      "[I 2023-11-21 22:08:37,238] Trial 56 finished with value: 0.5873142726777824 and parameters: {'n_estimators': 134, 'max_depth': 4, 'eta': 0.365874837817661}. Best is trial 39 with value: 0.6264156025626356.\n",
      "[I 2023-11-21 22:08:40,600] Trial 57 finished with value: 0.608463069269791 and parameters: {'n_estimators': 148, 'max_depth': 7, 'eta': 0.05961009028403659}. Best is trial 39 with value: 0.6264156025626356.\n",
      "[I 2023-11-21 22:08:42,200] Trial 58 finished with value: 0.6133897869898457 and parameters: {'n_estimators': 182, 'max_depth': 2, 'eta': 0.25047464713067547}. Best is trial 39 with value: 0.6264156025626356.\n",
      "[I 2023-11-21 22:08:43,616] Trial 59 finished with value: 0.6135760346606793 and parameters: {'n_estimators': 106, 'max_depth': 3, 'eta': 0.29651103583188426}. Best is trial 39 with value: 0.6264156025626356.\n",
      "[I 2023-11-21 22:08:45,264] Trial 60 finished with value: 0.6209712604800011 and parameters: {'n_estimators': 111, 'max_depth': 4, 'eta': 0.1069691786635892}. Best is trial 39 with value: 0.6264156025626356.\n",
      "[I 2023-11-21 22:08:47,079] Trial 61 finished with value: 0.6146072694599809 and parameters: {'n_estimators': 123, 'max_depth': 4, 'eta': 0.12021591377732749}. Best is trial 39 with value: 0.6264156025626356.\n",
      "[I 2023-11-21 22:08:48,808] Trial 62 finished with value: 0.6097396948688747 and parameters: {'n_estimators': 114, 'max_depth': 4, 'eta': 0.050827125888222656}. Best is trial 39 with value: 0.6264156025626356.\n",
      "[I 2023-11-21 22:08:50,873] Trial 63 finished with value: 0.5942389136440591 and parameters: {'n_estimators': 134, 'max_depth': 5, 'eta': 0.18797193988717778}. Best is trial 39 with value: 0.6264156025626356.\n",
      "[I 2023-11-21 22:08:52,190] Trial 64 finished with value: 0.612330641115306 and parameters: {'n_estimators': 76, 'max_depth': 3, 'eta': 0.11074662157347148}. Best is trial 39 with value: 0.6264156025626356.\n",
      "[I 2023-11-21 22:08:53,420] Trial 65 finished with value: 0.6206297076748688 and parameters: {'n_estimators': 62, 'max_depth': 3, 'eta': 0.20599994644116937}. Best is trial 39 with value: 0.6264156025626356.\n",
      "[I 2023-11-21 22:08:54,885] Trial 66 finished with value: 0.620682413706975 and parameters: {'n_estimators': 160, 'max_depth': 2, 'eta': 0.20305541821982637}. Best is trial 39 with value: 0.6264156025626356.\n",
      "[I 2023-11-21 22:08:56,371] Trial 67 finished with value: 0.6145666138394391 and parameters: {'n_estimators': 164, 'max_depth': 2, 'eta': 0.19654334935875162}. Best is trial 39 with value: 0.6264156025626356.\n",
      "[I 2023-11-21 22:08:58,128] Trial 68 finished with value: 0.6052735496004014 and parameters: {'n_estimators': 173, 'max_depth': 3, 'eta': 0.2763626200880603}. Best is trial 39 with value: 0.6264156025626356.\n",
      "[I 2023-11-21 22:08:59,584] Trial 69 finished with value: 0.6133676861230601 and parameters: {'n_estimators': 158, 'max_depth': 2, 'eta': 0.2335725755187441}. Best is trial 39 with value: 0.6264156025626356.\n",
      "[I 2023-11-21 22:09:01,263] Trial 70 finished with value: 0.6081590507488704 and parameters: {'n_estimators': 145, 'max_depth': 3, 'eta': 0.03836786058369476}. Best is trial 39 with value: 0.6264156025626356.\n",
      "[I 2023-11-21 22:09:02,716] Trial 71 finished with value: 0.6123213319841072 and parameters: {'n_estimators': 151, 'max_depth': 2, 'eta': 0.15735975499164623}. Best is trial 39 with value: 0.6264156025626356.\n",
      "[I 2023-11-21 22:09:03,876] Trial 72 finished with value: 0.6129926699432323 and parameters: {'n_estimators': 62, 'max_depth': 2, 'eta': 0.21952273322490307}. Best is trial 39 with value: 0.6264156025626356.\n",
      "[I 2023-11-21 22:09:05,646] Trial 73 finished with value: 0.5961910016430193 and parameters: {'n_estimators': 173, 'max_depth': 3, 'eta': 0.3456288130326819}. Best is trial 39 with value: 0.6264156025626356.\n",
      "[I 2023-11-21 22:09:06,933] Trial 74 finished with value: 0.6130301903761367 and parameters: {'n_estimators': 98, 'max_depth': 2, 'eta': 0.31076631871770194}. Best is trial 39 with value: 0.6264156025626356.\n",
      "[I 2023-11-21 22:09:08,499] Trial 75 finished with value: 0.5963881854006299 and parameters: {'n_estimators': 139, 'max_depth': 3, 'eta': 0.40305865396198814}. Best is trial 39 with value: 0.6264156025626356.\n",
      "[I 2023-11-21 22:09:10,068] Trial 76 finished with value: 0.6108720440452586 and parameters: {'n_estimators': 191, 'max_depth': 2, 'eta': 0.10974061718276398}. Best is trial 39 with value: 0.6264156025626356.\n",
      "[I 2023-11-21 22:09:11,431] Trial 77 finished with value: 0.618032429008393 and parameters: {'n_estimators': 88, 'max_depth': 3, 'eta': 0.15472768675959142}. Best is trial 39 with value: 0.6264156025626356.\n",
      "[I 2023-11-21 22:09:12,767] Trial 78 finished with value: 0.6138505749235301 and parameters: {'n_estimators': 112, 'max_depth': 2, 'eta': 0.2682142297531176}. Best is trial 39 with value: 0.6264156025626356.\n",
      "[I 2023-11-21 22:09:14,326] Trial 79 finished with value: 0.6115303781649876 and parameters: {'n_estimators': 131, 'max_depth': 3, 'eta': 0.04915302265917296}. Best is trial 39 with value: 0.6264156025626356.\n",
      "[I 2023-11-21 22:09:16,280] Trial 80 finished with value: 0.6065598642940193 and parameters: {'n_estimators': 163, 'max_depth': 4, 'eta': 0.20025960232264323}. Best is trial 39 with value: 0.6264156025626356.\n",
      "[I 2023-11-21 22:09:17,604] Trial 81 finished with value: 0.6144122076876837 and parameters: {'n_estimators': 77, 'max_depth': 3, 'eta': 0.15165206798916842}. Best is trial 39 with value: 0.6264156025626356.\n",
      "[I 2023-11-21 22:09:18,955] Trial 82 finished with value: 0.618451685750616 and parameters: {'n_estimators': 92, 'max_depth': 3, 'eta': 0.13746849711238227}. Best is trial 39 with value: 0.6264156025626356.\n",
      "[I 2023-11-21 22:09:20,173] Trial 83 finished with value: 0.6048711192696892 and parameters: {'n_estimators': 54, 'max_depth': 3, 'eta': 0.10024146207837699}. Best is trial 39 with value: 0.6264156025626356.\n",
      "[I 2023-11-21 22:09:21,472] Trial 84 finished with value: 0.6111240238166891 and parameters: {'n_estimators': 101, 'max_depth': 2, 'eta': 0.20689865354338693}. Best is trial 39 with value: 0.6264156025626356.\n",
      "[I 2023-11-21 22:09:23,018] Trial 85 finished with value: 0.6132729139701016 and parameters: {'n_estimators': 89, 'max_depth': 4, 'eta': 0.06400283330713548}. Best is trial 39 with value: 0.6264156025626356.\n",
      "[I 2023-11-21 22:09:24,548] Trial 86 finished with value: 0.5981064461643524 and parameters: {'n_estimators': 122, 'max_depth': 3, 'eta': 0.031063235706134118}. Best is trial 39 with value: 0.6264156025626356.\n",
      "[I 2023-11-21 22:09:26,133] Trial 87 finished with value: 0.6253422864581669 and parameters: {'n_estimators': 141, 'max_depth': 3, 'eta': 0.13392467866794505}. Best is trial 39 with value: 0.6264156025626356.\n",
      "[I 2023-11-21 22:09:27,587] Trial 88 finished with value: 0.6135362522051239 and parameters: {'n_estimators': 155, 'max_depth': 2, 'eta': 0.23715135021335934}. Best is trial 39 with value: 0.6264156025626356.\n",
      "[I 2023-11-21 22:09:29,461] Trial 89 finished with value: 0.589689932229563 and parameters: {'n_estimators': 143, 'max_depth': 4, 'eta': 0.29450123900216163}. Best is trial 39 with value: 0.6264156025626356.\n",
      "[I 2023-11-21 22:09:31,040] Trial 90 finished with value: 0.6217689481858371 and parameters: {'n_estimators': 137, 'max_depth': 3, 'eta': 0.18162514146691128}. Best is trial 39 with value: 0.6264156025626356.\n",
      "[I 2023-11-21 22:09:32,603] Trial 91 finished with value: 0.6235351654280192 and parameters: {'n_estimators': 136, 'max_depth': 3, 'eta': 0.17476922645359946}. Best is trial 39 with value: 0.6264156025626356.\n",
      "[I 2023-11-21 22:09:34,448] Trial 92 finished with value: 0.6226634741652021 and parameters: {'n_estimators': 128, 'max_depth': 3, 'eta': 0.18492142887221857}. Best is trial 39 with value: 0.6264156025626356.\n",
      "[I 2023-11-21 22:09:36,132] Trial 93 finished with value: 0.6167190350251323 and parameters: {'n_estimators': 135, 'max_depth': 3, 'eta': 0.1774386768698295}. Best is trial 39 with value: 0.6264156025626356.\n",
      "[I 2023-11-21 22:09:37,916] Trial 94 finished with value: 0.6177082149159977 and parameters: {'n_estimators': 128, 'max_depth': 4, 'eta': 0.08613024194782531}. Best is trial 39 with value: 0.6264156025626356.\n",
      "[I 2023-11-21 22:09:39,532] Trial 95 finished with value: 0.6207470991183309 and parameters: {'n_estimators': 150, 'max_depth': 3, 'eta': 0.12170616784154899}. Best is trial 39 with value: 0.6264156025626356.\n",
      "[I 2023-11-21 22:09:41,183] Trial 96 finished with value: 0.6222081400040718 and parameters: {'n_estimators': 150, 'max_depth': 3, 'eta': 0.12562757278800177}. Best is trial 39 with value: 0.6264156025626356.\n",
      "[I 2023-11-21 22:09:43,080] Trial 97 finished with value: 0.606227742604304 and parameters: {'n_estimators': 139, 'max_depth': 4, 'eta': 0.020719684232801613}. Best is trial 39 with value: 0.6264156025626356.\n",
      "[I 2023-11-21 22:09:44,602] Trial 98 finished with value: 0.6237289935257849 and parameters: {'n_estimators': 129, 'max_depth': 3, 'eta': 0.16885833842433995}. Best is trial 39 with value: 0.6264156025626356.\n",
      "[I 2023-11-21 22:09:46,063] Trial 99 finished with value: 0.6179814963432919 and parameters: {'n_estimators': 119, 'max_depth': 3, 'eta': 0.16368033205711796}. Best is trial 39 with value: 0.6264156025626356.\n"
     ]
    }
   ],
   "source": [
    "study_xgb_smote.optimize(optuna_optimize, n_trials=100)"
   ],
   "metadata": {
    "collapsed": false,
    "ExecuteTime": {
     "end_time": "2023-11-21T19:09:46.097655400Z",
     "start_time": "2023-11-21T19:06:26.983706Z"
    }
   }
  },
  {
   "cell_type": "code",
   "execution_count": 56,
   "outputs": [
    {
     "name": "stdout",
     "output_type": "stream",
     "text": [
      "Наилучшие значения гиперпараметров XGBoost: {'n_estimators': 131, 'max_depth': 3, 'eta': 0.11250589108448067}\n",
      "f1_score на обучающем наборе: 0.626\n"
     ]
    }
   ],
   "source": [
    "print(\"Наилучшие значения гиперпараметров XGBoost: {}\".format(study_xgb_smote.best_params))\n",
    "print(\"f1_score на обучающем наборе: {:.3f}\". format(study_xgb_smote.best_value))"
   ],
   "metadata": {
    "collapsed": false,
    "ExecuteTime": {
     "end_time": "2023-11-21T19:09:46.169428Z",
     "start_time": "2023-11-21T19:09:46.087283900Z"
    }
   }
  },
  {
   "cell_type": "code",
   "execution_count": 57,
   "outputs": [],
   "source": [
    "with mlflow.start_run(nested=True):\n",
    "\n",
    "    best_params = study_xgb_smote.best_params\n",
    "    best_score = study_xgb_smote.best_value\n",
    "    mlflow.log_params(best_params)\n",
    "    mlflow.log_metric('f1', best_score)\n",
    "\n",
    "    xgb_pipe = Pipeline([\n",
    "        ('preprocessor', preprocessor),\n",
    "        ('smote', SMOTE(random_state=12345)),\n",
    "        ('model', xgb.XGBClassifier(**best_params,\n",
    "                                    random_state=12345))\n",
    "    ])\n",
    "\n",
    "    xgb_pipe.fit(X_train, y_train)\n",
    "\n",
    "    mlflow.sklearn.log_model(xgb_pipe, 'xgb_pipeline_smote')"
   ],
   "metadata": {
    "collapsed": false,
    "ExecuteTime": {
     "end_time": "2023-11-21T19:09:50.975622300Z",
     "start_time": "2023-11-21T19:09:46.110294Z"
    }
   }
  },
  {
   "cell_type": "markdown",
   "source": [
    "### 3.2.2 Случайный лес"
   ],
   "metadata": {
    "collapsed": false
   }
  },
  {
   "cell_type": "code",
   "execution_count": 58,
   "outputs": [],
   "source": [
    "def optuna_optimize(trial):\n",
    "    param = {\n",
    "        'n_estimators': trial.suggest_int('n_estimators', 50, 300),\n",
    "        'max_depth': trial.suggest_int('max_depth', 2, 10),\n",
    "        'min_samples_leaf': trial.suggest_int('min_samples_leaf', 2, 8)\n",
    "    }\n",
    "\n",
    "    estimator = RandomForestClassifier(**param,\n",
    "                                       random_state=12345)\n",
    "\n",
    "    rf_pipe = Pipeline([\n",
    "        ('preprocessor', preprocessor),\n",
    "        ('smote', SMOTE(random_state=12345)),\n",
    "        ('model', estimator)\n",
    "    ])\n",
    "\n",
    "    score = cross_val_score(rf_pipe, X_train, y_train, cv=5, scoring='f1').mean()\n",
    "    return score"
   ],
   "metadata": {
    "collapsed": false,
    "ExecuteTime": {
     "end_time": "2023-11-21T19:09:51.003361700Z",
     "start_time": "2023-11-21T19:09:50.981618200Z"
    }
   }
  },
  {
   "cell_type": "code",
   "execution_count": 59,
   "outputs": [
    {
     "name": "stderr",
     "output_type": "stream",
     "text": [
      "[I 2023-11-21 22:09:50,994] A new study created in memory with name: RandomForest Optuna Optimization SMOTE\n"
     ]
    }
   ],
   "source": [
    "study_rf_smote = optuna.create_study(study_name=\"RandomForest Optuna Optimization SMOTE\",\n",
    "                               direction='maximize')"
   ],
   "metadata": {
    "collapsed": false,
    "ExecuteTime": {
     "end_time": "2023-11-21T19:09:51.128805600Z",
     "start_time": "2023-11-21T19:09:50.993074200Z"
    }
   }
  },
  {
   "cell_type": "code",
   "execution_count": 60,
   "outputs": [
    {
     "name": "stderr",
     "output_type": "stream",
     "text": [
      "[I 2023-11-21 22:09:54,257] Trial 0 finished with value: 0.5845789288318117 and parameters: {'n_estimators': 53, 'max_depth': 4, 'min_samples_leaf': 2}. Best is trial 0 with value: 0.5845789288318117.\n",
      "[I 2023-11-21 22:10:17,186] Trial 1 finished with value: 0.6040930649033174 and parameters: {'n_estimators': 292, 'max_depth': 7, 'min_samples_leaf': 6}. Best is trial 1 with value: 0.6040930649033174.\n",
      "[I 2023-11-21 22:10:23,399] Trial 2 finished with value: 0.5451778740423928 and parameters: {'n_estimators': 183, 'max_depth': 2, 'min_samples_leaf': 4}. Best is trial 1 with value: 0.6040930649033174.\n",
      "[I 2023-11-21 22:10:28,024] Trial 3 finished with value: 0.5987112504821926 and parameters: {'n_estimators': 60, 'max_depth': 6, 'min_samples_leaf': 8}. Best is trial 1 with value: 0.6040930649033174.\n",
      "[I 2023-11-21 22:10:44,331] Trial 4 finished with value: 0.5994660549226251 and parameters: {'n_estimators': 229, 'max_depth': 6, 'min_samples_leaf': 5}. Best is trial 1 with value: 0.6040930649033174.\n",
      "[I 2023-11-21 22:10:57,959] Trial 5 finished with value: 0.5815190892535768 and parameters: {'n_estimators': 261, 'max_depth': 4, 'min_samples_leaf': 6}. Best is trial 1 with value: 0.6040930649033174.\n",
      "[I 2023-11-21 22:11:04,007] Trial 6 finished with value: 0.5456962037998931 and parameters: {'n_estimators': 176, 'max_depth': 2, 'min_samples_leaf': 6}. Best is trial 1 with value: 0.6040930649033174.\n",
      "[I 2023-11-21 22:11:18,859] Trial 7 finished with value: 0.6021790547214676 and parameters: {'n_estimators': 186, 'max_depth': 7, 'min_samples_leaf': 3}. Best is trial 1 with value: 0.6040930649033174.\n",
      "[I 2023-11-21 22:11:23,430] Trial 8 finished with value: 0.560148460669228 and parameters: {'n_estimators': 100, 'max_depth': 3, 'min_samples_leaf': 3}. Best is trial 1 with value: 0.6040930649033174.\n",
      "[I 2023-11-21 22:11:39,037] Trial 9 finished with value: 0.6107778611247872 and parameters: {'n_estimators': 164, 'max_depth': 9, 'min_samples_leaf': 7}. Best is trial 9 with value: 0.6107778611247872.\n",
      "[I 2023-11-21 22:11:52,845] Trial 10 finished with value: 0.6097523858093126 and parameters: {'n_estimators': 135, 'max_depth': 10, 'min_samples_leaf': 8}. Best is trial 9 with value: 0.6107778611247872.\n",
      "[I 2023-11-21 22:12:05,386] Trial 11 finished with value: 0.6110698902480198 and parameters: {'n_estimators': 123, 'max_depth': 10, 'min_samples_leaf': 8}. Best is trial 11 with value: 0.6110698902480198.\n",
      "[I 2023-11-21 22:12:18,172] Trial 12 finished with value: 0.6085027537916744 and parameters: {'n_estimators': 123, 'max_depth': 10, 'min_samples_leaf': 7}. Best is trial 11 with value: 0.6110698902480198.\n",
      "[I 2023-11-21 22:12:31,723] Trial 13 finished with value: 0.6119724556495096 and parameters: {'n_estimators': 143, 'max_depth': 9, 'min_samples_leaf': 8}. Best is trial 13 with value: 0.6119724556495096.\n",
      "[I 2023-11-21 22:12:40,536] Trial 14 finished with value: 0.6088191953259642 and parameters: {'n_estimators': 98, 'max_depth': 8, 'min_samples_leaf': 8}. Best is trial 13 with value: 0.6119724556495096.\n",
      "[I 2023-11-21 22:12:54,248] Trial 15 finished with value: 0.610838229966925 and parameters: {'n_estimators': 143, 'max_depth': 9, 'min_samples_leaf': 7}. Best is trial 13 with value: 0.6119724556495096.\n",
      "[I 2023-11-21 22:13:14,453] Trial 16 finished with value: 0.611749213447679 and parameters: {'n_estimators': 216, 'max_depth': 9, 'min_samples_leaf': 8}. Best is trial 13 with value: 0.6119724556495096.\n",
      "[I 2023-11-21 22:13:34,367] Trial 17 finished with value: 0.6076558114651851 and parameters: {'n_estimators': 227, 'max_depth': 8, 'min_samples_leaf': 5}. Best is trial 13 with value: 0.6119724556495096.\n",
      "[I 2023-11-21 22:13:53,182] Trial 18 finished with value: 0.6085190408584932 and parameters: {'n_estimators': 216, 'max_depth': 8, 'min_samples_leaf': 7}. Best is trial 13 with value: 0.6119724556495096.\n",
      "[I 2023-11-21 22:14:09,094] Trial 19 finished with value: 0.5923260506021967 and parameters: {'n_estimators': 258, 'max_depth': 5, 'min_samples_leaf': 8}. Best is trial 13 with value: 0.6119724556495096.\n",
      "[I 2023-11-21 22:14:28,354] Trial 20 finished with value: 0.6125534783866219 and parameters: {'n_estimators': 203, 'max_depth': 9, 'min_samples_leaf': 5}. Best is trial 20 with value: 0.6125534783866219.\n",
      "[I 2023-11-21 22:14:47,993] Trial 21 finished with value: 0.6127797190436993 and parameters: {'n_estimators': 204, 'max_depth': 9, 'min_samples_leaf': 5}. Best is trial 21 with value: 0.6127797190436993.\n",
      "[I 2023-11-21 22:15:06,753] Trial 22 finished with value: 0.6136112629081426 and parameters: {'n_estimators': 196, 'max_depth': 9, 'min_samples_leaf': 5}. Best is trial 22 with value: 0.6136112629081426.\n",
      "[I 2023-11-21 22:15:23,072] Trial 23 finished with value: 0.6045683207366681 and parameters: {'n_estimators': 205, 'max_depth': 7, 'min_samples_leaf': 5}. Best is trial 22 with value: 0.6136112629081426.\n",
      "[I 2023-11-21 22:15:44,444] Trial 24 finished with value: 0.6071519272263209 and parameters: {'n_estimators': 244, 'max_depth': 8, 'min_samples_leaf': 4}. Best is trial 22 with value: 0.6136112629081426.\n",
      "[I 2023-11-21 22:16:05,335] Trial 25 finished with value: 0.6104934677288368 and parameters: {'n_estimators': 202, 'max_depth': 10, 'min_samples_leaf': 4}. Best is trial 22 with value: 0.6136112629081426.\n",
      "[I 2023-11-21 22:16:31,408] Trial 26 finished with value: 0.6118603581840409 and parameters: {'n_estimators': 276, 'max_depth': 9, 'min_samples_leaf': 5}. Best is trial 22 with value: 0.6136112629081426.\n",
      "[I 2023-11-21 22:16:47,401] Trial 27 finished with value: 0.6018099276257295 and parameters: {'n_estimators': 201, 'max_depth': 7, 'min_samples_leaf': 4}. Best is trial 22 with value: 0.6136112629081426.\n",
      "[I 2023-11-21 22:17:02,148] Trial 28 finished with value: 0.6101563859801882 and parameters: {'n_estimators': 166, 'max_depth': 8, 'min_samples_leaf': 6}. Best is trial 22 with value: 0.6136112629081426.\n",
      "[I 2023-11-21 22:17:16,884] Trial 29 finished with value: 0.594139919632688 and parameters: {'n_estimators': 238, 'max_depth': 5, 'min_samples_leaf': 2}. Best is trial 22 with value: 0.6136112629081426.\n",
      "[I 2023-11-21 22:17:36,850] Trial 30 finished with value: 0.6137930443989095 and parameters: {'n_estimators': 195, 'max_depth': 10, 'min_samples_leaf': 5}. Best is trial 30 with value: 0.6137930443989095.\n",
      "[I 2023-11-21 22:17:56,277] Trial 31 finished with value: 0.6132545647176777 and parameters: {'n_estimators': 190, 'max_depth': 10, 'min_samples_leaf': 5}. Best is trial 30 with value: 0.6137930443989095.\n",
      "[I 2023-11-21 22:18:13,211] Trial 32 finished with value: 0.6116563671172132 and parameters: {'n_estimators': 165, 'max_depth': 10, 'min_samples_leaf': 6}. Best is trial 30 with value: 0.6137930443989095.\n",
      "[I 2023-11-21 22:18:32,912] Trial 33 finished with value: 0.6130742846727846 and parameters: {'n_estimators': 189, 'max_depth': 10, 'min_samples_leaf': 5}. Best is trial 30 with value: 0.6137930443989095.\n",
      "[I 2023-11-21 22:18:52,621] Trial 34 finished with value: 0.6109240474345453 and parameters: {'n_estimators': 190, 'max_depth': 10, 'min_samples_leaf': 4}. Best is trial 30 with value: 0.6137930443989095.\n",
      "[I 2023-11-21 22:19:09,356] Trial 35 finished with value: 0.6082688369885728 and parameters: {'n_estimators': 159, 'max_depth': 10, 'min_samples_leaf': 3}. Best is trial 30 with value: 0.6137930443989095.\n",
      "[I 2023-11-21 22:19:39,311] Trial 36 finished with value: 0.6113740924598321 and parameters: {'n_estimators': 298, 'max_depth': 10, 'min_samples_leaf': 6}. Best is trial 30 with value: 0.6137930443989095.\n",
      "[I 2023-11-21 22:19:56,590] Trial 37 finished with value: 0.6124698958613413 and parameters: {'n_estimators': 182, 'max_depth': 9, 'min_samples_leaf': 5}. Best is trial 30 with value: 0.6137930443989095.\n",
      "[I 2023-11-21 22:20:18,985] Trial 38 finished with value: 0.6113737097675079 and parameters: {'n_estimators': 221, 'max_depth': 10, 'min_samples_leaf': 6}. Best is trial 30 with value: 0.6137930443989095.\n",
      "[I 2023-11-21 22:20:35,846] Trial 39 finished with value: 0.608392327666417 and parameters: {'n_estimators': 191, 'max_depth': 8, 'min_samples_leaf': 4}. Best is trial 30 with value: 0.6137930443989095.\n",
      "[I 2023-11-21 22:20:39,794] Trial 40 finished with value: 0.5983493118695321 and parameters: {'n_estimators': 50, 'max_depth': 6, 'min_samples_leaf': 5}. Best is trial 30 with value: 0.6137930443989095.\n",
      "[I 2023-11-21 22:20:56,868] Trial 41 finished with value: 0.6128729376147485 and parameters: {'n_estimators': 178, 'max_depth': 9, 'min_samples_leaf': 5}. Best is trial 30 with value: 0.6137930443989095.\n",
      "[I 2023-11-21 22:21:13,823] Trial 42 finished with value: 0.6123210363907988 and parameters: {'n_estimators': 176, 'max_depth': 9, 'min_samples_leaf': 5}. Best is trial 30 with value: 0.6137930443989095.\n",
      "[I 2023-11-21 22:21:29,317] Trial 43 finished with value: 0.6080240177721423 and parameters: {'n_estimators': 148, 'max_depth': 10, 'min_samples_leaf': 4}. Best is trial 30 with value: 0.6137930443989095.\n",
      "[I 2023-11-21 22:21:47,708] Trial 44 finished with value: 0.6095395492338724 and parameters: {'n_estimators': 191, 'max_depth': 9, 'min_samples_leaf': 6}. Best is trial 30 with value: 0.6137930443989095.\n",
      "[I 2023-11-21 22:22:05,418] Trial 45 finished with value: 0.6111936985168914 and parameters: {'n_estimators': 172, 'max_depth': 10, 'min_samples_leaf': 5}. Best is trial 30 with value: 0.6137930443989095.\n",
      "[I 2023-11-21 22:22:21,432] Trial 46 finished with value: 0.6093400812244331 and parameters: {'n_estimators': 157, 'max_depth': 10, 'min_samples_leaf': 6}. Best is trial 30 with value: 0.6137930443989095.\n",
      "[I 2023-11-21 22:22:42,567] Trial 47 finished with value: 0.6073279838213818 and parameters: {'n_estimators': 241, 'max_depth': 8, 'min_samples_leaf': 4}. Best is trial 30 with value: 0.6137930443989095.\n",
      "[I 2023-11-21 22:22:48,750] Trial 48 finished with value: 0.5453445615539003 and parameters: {'n_estimators': 180, 'max_depth': 2, 'min_samples_leaf': 3}. Best is trial 30 with value: 0.6137930443989095.\n",
      "[I 2023-11-21 22:22:54,496] Trial 49 finished with value: 0.5608503538845294 and parameters: {'n_estimators': 129, 'max_depth': 3, 'min_samples_leaf': 5}. Best is trial 30 with value: 0.6137930443989095.\n",
      "[I 2023-11-21 22:23:03,946] Trial 50 finished with value: 0.6113023918525167 and parameters: {'n_estimators': 96, 'max_depth': 9, 'min_samples_leaf': 5}. Best is trial 30 with value: 0.6137930443989095.\n",
      "[I 2023-11-21 22:23:23,750] Trial 51 finished with value: 0.6131493243207665 and parameters: {'n_estimators': 207, 'max_depth': 9, 'min_samples_leaf': 5}. Best is trial 30 with value: 0.6137930443989095.\n",
      "[I 2023-11-21 22:23:45,766] Trial 52 finished with value: 0.6123756481297088 and parameters: {'n_estimators': 213, 'max_depth': 10, 'min_samples_leaf': 5}. Best is trial 30 with value: 0.6137930443989095.\n",
      "[I 2023-11-21 22:24:04,162] Trial 53 finished with value: 0.6103032869481837 and parameters: {'n_estimators': 192, 'max_depth': 9, 'min_samples_leaf': 6}. Best is trial 30 with value: 0.6137930443989095.\n",
      "[I 2023-11-21 22:24:26,082] Trial 54 finished with value: 0.6105456051050767 and parameters: {'n_estimators': 231, 'max_depth': 9, 'min_samples_leaf': 5}. Best is trial 30 with value: 0.6137930443989095.\n",
      "[I 2023-11-21 22:24:47,421] Trial 55 finished with value: 0.6106085281183656 and parameters: {'n_estimators': 211, 'max_depth': 10, 'min_samples_leaf': 6}. Best is trial 30 with value: 0.6137930443989095.\n",
      "[I 2023-11-21 22:25:08,831] Trial 56 finished with value: 0.6104010288219222 and parameters: {'n_estimators': 224, 'max_depth': 9, 'min_samples_leaf': 4}. Best is trial 30 with value: 0.6137930443989095.\n",
      "[I 2023-11-21 22:25:28,768] Trial 57 finished with value: 0.6038519026015461 and parameters: {'n_estimators': 254, 'max_depth': 7, 'min_samples_leaf': 5}. Best is trial 30 with value: 0.6137930443989095.\n",
      "[I 2023-11-21 22:25:46,177] Trial 58 finished with value: 0.6090119523279492 and parameters: {'n_estimators': 196, 'max_depth': 8, 'min_samples_leaf': 5}. Best is trial 30 with value: 0.6137930443989095.\n",
      "[I 2023-11-21 22:26:00,799] Trial 59 finished with value: 0.6120098346975433 and parameters: {'n_estimators': 151, 'max_depth': 9, 'min_samples_leaf': 5}. Best is trial 30 with value: 0.6137930443989095.\n",
      "[I 2023-11-21 22:26:18,708] Trial 60 finished with value: 0.6097875588143549 and parameters: {'n_estimators': 172, 'max_depth': 10, 'min_samples_leaf': 4}. Best is trial 30 with value: 0.6137930443989095.\n",
      "[I 2023-11-21 22:26:36,256] Trial 61 finished with value: 0.6128903137202136 and parameters: {'n_estimators': 183, 'max_depth': 9, 'min_samples_leaf': 5}. Best is trial 30 with value: 0.6137930443989095.\n",
      "[I 2023-11-21 22:26:52,509] Trial 62 finished with value: 0.6077110860753595 and parameters: {'n_estimators': 183, 'max_depth': 8, 'min_samples_leaf': 5}. Best is trial 30 with value: 0.6137930443989095.\n",
      "[I 2023-11-21 22:27:12,830] Trial 63 finished with value: 0.6147272116015635 and parameters: {'n_estimators': 213, 'max_depth': 9, 'min_samples_leaf': 5}. Best is trial 63 with value: 0.6147272116015635.\n",
      "[I 2023-11-21 22:27:34,206] Trial 64 finished with value: 0.6133057592974087 and parameters: {'n_estimators': 209, 'max_depth': 10, 'min_samples_leaf': 5}. Best is trial 63 with value: 0.6147272116015635.\n",
      "[I 2023-11-21 22:27:55,299] Trial 65 finished with value: 0.6103019227968518 and parameters: {'n_estimators': 209, 'max_depth': 10, 'min_samples_leaf': 6}. Best is trial 63 with value: 0.6147272116015635.\n",
      "[I 2023-11-21 22:28:18,927] Trial 66 finished with value: 0.6090941507908966 and parameters: {'n_estimators': 231, 'max_depth': 10, 'min_samples_leaf': 4}. Best is trial 63 with value: 0.6147272116015635.\n",
      "[I 2023-11-21 22:28:41,401] Trial 67 finished with value: 0.6116107170123886 and parameters: {'n_estimators': 220, 'max_depth': 10, 'min_samples_leaf': 6}. Best is trial 63 with value: 0.6147272116015635.\n",
      "[I 2023-11-21 22:29:01,787] Trial 68 finished with value: 0.613792299912043 and parameters: {'n_estimators': 198, 'max_depth': 10, 'min_samples_leaf': 5}. Best is trial 63 with value: 0.6147272116015635.\n",
      "[I 2023-11-21 22:29:26,735] Trial 69 finished with value: 0.6081554396844362 and parameters: {'n_estimators': 248, 'max_depth': 10, 'min_samples_leaf': 7}. Best is trial 63 with value: 0.6147272116015635.\n",
      "[I 2023-11-21 22:29:52,337] Trial 70 finished with value: 0.6124076278091051 and parameters: {'n_estimators': 271, 'max_depth': 9, 'min_samples_leaf': 5}. Best is trial 63 with value: 0.6147272116015635.\n",
      "[I 2023-11-21 22:30:12,766] Trial 71 finished with value: 0.6126217682225771 and parameters: {'n_estimators': 200, 'max_depth': 10, 'min_samples_leaf': 5}. Best is trial 63 with value: 0.6147272116015635.\n",
      "[I 2023-11-21 22:30:33,877] Trial 72 finished with value: 0.6140988841870053 and parameters: {'n_estimators': 208, 'max_depth': 10, 'min_samples_leaf': 5}. Best is trial 63 with value: 0.6147272116015635.\n",
      "[I 2023-11-21 22:30:53,753] Trial 73 finished with value: 0.6087216962658637 and parameters: {'n_estimators': 207, 'max_depth': 9, 'min_samples_leaf': 4}. Best is trial 63 with value: 0.6147272116015635.\n",
      "[I 2023-11-21 22:31:16,073] Trial 74 finished with value: 0.6120667648067244 and parameters: {'n_estimators': 218, 'max_depth': 10, 'min_samples_leaf': 5}. Best is trial 63 with value: 0.6147272116015635.\n",
      "[I 2023-11-21 22:31:36,117] Trial 75 finished with value: 0.6135474602821662 and parameters: {'n_estimators': 196, 'max_depth': 10, 'min_samples_leaf': 5}. Best is trial 63 with value: 0.6147272116015635.\n",
      "[I 2023-11-21 22:31:56,179] Trial 76 finished with value: 0.6135474602821662 and parameters: {'n_estimators': 196, 'max_depth': 10, 'min_samples_leaf': 5}. Best is trial 63 with value: 0.6147272116015635.\n",
      "[I 2023-11-21 22:32:16,231] Trial 77 finished with value: 0.6120618798681041 and parameters: {'n_estimators': 197, 'max_depth': 10, 'min_samples_leaf': 6}. Best is trial 63 with value: 0.6147272116015635.\n",
      "[I 2023-11-21 22:32:40,345] Trial 78 finished with value: 0.609508307163642 and parameters: {'n_estimators': 235, 'max_depth': 10, 'min_samples_leaf': 4}. Best is trial 63 with value: 0.6147272116015635.\n",
      "[I 2023-11-21 22:32:53,627] Trial 79 finished with value: 0.5938765387878309 and parameters: {'n_estimators': 214, 'max_depth': 5, 'min_samples_leaf': 5}. Best is trial 63 with value: 0.6147272116015635.\n",
      "[I 2023-11-21 22:33:13,797] Trial 80 finished with value: 0.613792299912043 and parameters: {'n_estimators': 198, 'max_depth': 10, 'min_samples_leaf': 5}. Best is trial 63 with value: 0.6147272116015635.\n",
      "[I 2023-11-21 22:33:34,118] Trial 81 finished with value: 0.6134296367977278 and parameters: {'n_estimators': 199, 'max_depth': 10, 'min_samples_leaf': 5}. Best is trial 63 with value: 0.6147272116015635.\n",
      "[I 2023-11-21 22:33:54,412] Trial 82 finished with value: 0.613792299912043 and parameters: {'n_estimators': 198, 'max_depth': 10, 'min_samples_leaf': 5}. Best is trial 63 with value: 0.6147272116015635.\n",
      "[I 2023-11-21 22:34:12,014] Trial 83 finished with value: 0.611656848937679 and parameters: {'n_estimators': 171, 'max_depth': 10, 'min_samples_leaf': 5}. Best is trial 63 with value: 0.6147272116015635.\n",
      "[I 2023-11-21 22:34:32,188] Trial 84 finished with value: 0.6135474602821662 and parameters: {'n_estimators': 196, 'max_depth': 10, 'min_samples_leaf': 5}. Best is trial 63 with value: 0.6147272116015635.\n",
      "[I 2023-11-21 22:34:53,610] Trial 85 finished with value: 0.6123847763947469 and parameters: {'n_estimators': 225, 'max_depth': 9, 'min_samples_leaf': 5}. Best is trial 63 with value: 0.6147272116015635.\n",
      "[I 2023-11-21 22:35:14,565] Trial 86 finished with value: 0.6109167026882273 and parameters: {'n_estimators': 203, 'max_depth': 10, 'min_samples_leaf': 4}. Best is trial 63 with value: 0.6147272116015635.\n",
      "[I 2023-11-21 22:35:27,642] Trial 87 finished with value: 0.5959177907692534 and parameters: {'n_estimators': 183, 'max_depth': 6, 'min_samples_leaf': 6}. Best is trial 63 with value: 0.6147272116015635.\n",
      "[I 2023-11-21 22:35:47,088] Trial 88 finished with value: 0.6130742846727846 and parameters: {'n_estimators': 189, 'max_depth': 10, 'min_samples_leaf': 5}. Best is trial 63 with value: 0.6147272116015635.\n",
      "[I 2023-11-21 22:36:07,735] Trial 89 finished with value: 0.6096943998507414 and parameters: {'n_estimators': 216, 'max_depth': 9, 'min_samples_leaf': 6}. Best is trial 63 with value: 0.6147272116015635.\n",
      "[I 2023-11-21 22:36:24,532] Trial 90 finished with value: 0.6088144216673009 and parameters: {'n_estimators': 161, 'max_depth': 10, 'min_samples_leaf': 4}. Best is trial 63 with value: 0.6147272116015635.\n",
      "[I 2023-11-21 22:36:44,574] Trial 91 finished with value: 0.6137930443989095 and parameters: {'n_estimators': 195, 'max_depth': 10, 'min_samples_leaf': 5}. Best is trial 63 with value: 0.6147272116015635.\n",
      "[I 2023-11-21 22:37:04,493] Trial 92 finished with value: 0.6137930443989095 and parameters: {'n_estimators': 195, 'max_depth': 10, 'min_samples_leaf': 5}. Best is trial 63 with value: 0.6147272116015635.\n",
      "[I 2023-11-21 22:37:23,532] Trial 93 finished with value: 0.6133682112468334 and parameters: {'n_estimators': 187, 'max_depth': 10, 'min_samples_leaf': 5}. Best is trial 63 with value: 0.6147272116015635.\n",
      "[I 2023-11-21 22:37:45,124] Trial 94 finished with value: 0.6127797190436993 and parameters: {'n_estimators': 204, 'max_depth': 9, 'min_samples_leaf': 5}. Best is trial 63 with value: 0.6147272116015635.\n",
      "[I 2023-11-21 22:38:03,869] Trial 95 finished with value: 0.6118367770794986 and parameters: {'n_estimators': 178, 'max_depth': 10, 'min_samples_leaf': 5}. Best is trial 63 with value: 0.6147272116015635.\n",
      "[I 2023-11-21 22:38:21,083] Trial 96 finished with value: 0.6110047903539261 and parameters: {'n_estimators': 168, 'max_depth': 10, 'min_samples_leaf': 5}. Best is trial 63 with value: 0.6147272116015635.\n",
      "[I 2023-11-21 22:38:39,533] Trial 97 finished with value: 0.6119398210033952 and parameters: {'n_estimators': 192, 'max_depth': 9, 'min_samples_leaf': 5}. Best is trial 63 with value: 0.6147272116015635.\n",
      "[I 2023-11-21 22:39:01,223] Trial 98 finished with value: 0.6122799853469126 and parameters: {'n_estimators': 212, 'max_depth': 10, 'min_samples_leaf': 5}. Best is trial 63 with value: 0.6147272116015635.\n",
      "[I 2023-11-21 22:39:22,242] Trial 99 finished with value: 0.612186234564198 and parameters: {'n_estimators': 221, 'max_depth': 9, 'min_samples_leaf': 5}. Best is trial 63 with value: 0.6147272116015635.\n"
     ]
    }
   ],
   "source": [
    "study_rf_smote.optimize(optuna_optimize, n_trials=100)"
   ],
   "metadata": {
    "collapsed": false,
    "ExecuteTime": {
     "end_time": "2023-11-21T19:39:22.265219500Z",
     "start_time": "2023-11-21T19:09:51.009849Z"
    }
   }
  },
  {
   "cell_type": "code",
   "execution_count": 61,
   "outputs": [
    {
     "name": "stdout",
     "output_type": "stream",
     "text": [
      "Наилучшие значения гиперпараметров RandomForest: {'n_estimators': 213, 'max_depth': 9, 'min_samples_leaf': 5}\n",
      "f1_score на обучающем наборе: 0.615\n"
     ]
    }
   ],
   "source": [
    "print(\"Наилучшие значения гиперпараметров RandomForest: {}\".format(study_rf_smote.best_params))\n",
    "print(\"f1_score на обучающем наборе: {:.3f}\". format(study_rf_smote.best_value))"
   ],
   "metadata": {
    "collapsed": false,
    "ExecuteTime": {
     "end_time": "2023-11-21T19:39:22.377132200Z",
     "start_time": "2023-11-21T19:39:22.260133400Z"
    }
   }
  },
  {
   "cell_type": "code",
   "execution_count": 62,
   "outputs": [],
   "source": [
    "with mlflow.start_run(nested=True):\n",
    "\n",
    "    best_params = study_rf_smote.best_params\n",
    "    best_score = study_rf_smote.best_value\n",
    "    mlflow.log_params(best_params)\n",
    "    mlflow.log_metric('f1', best_score)\n",
    "\n",
    "    rf_pipe = Pipeline([\n",
    "        ('preprocessor', preprocessor),\n",
    "        ('smote', SMOTE(random_state=12345)),\n",
    "        ('model', RandomForestClassifier(**best_params,\n",
    "                                         random_state=12345))\n",
    "    ])\n",
    "\n",
    "    rf_pipe.fit(X_train, y_train)\n",
    "\n",
    "    mlflow.sklearn.log_model(rf_pipe, 'rf_pipeline_smote')"
   ],
   "metadata": {
    "collapsed": false,
    "ExecuteTime": {
     "end_time": "2023-11-21T19:39:31.603607Z",
     "start_time": "2023-11-21T19:39:22.273392300Z"
    }
   }
  },
  {
   "cell_type": "markdown",
   "source": [
    "### 3.2.3 Логистическая регрессия"
   ],
   "metadata": {
    "collapsed": false
   }
  },
  {
   "cell_type": "code",
   "execution_count": 63,
   "outputs": [],
   "source": [
    "cat_pipeline = Pipeline([\n",
    "    ('enc', OneHotEncoder(handle_unknown='error', drop='first'))\n",
    "])\n",
    "\n",
    "num_pipeline = Pipeline([\n",
    "    ('imp', SimpleImputer(fill_value=-1, add_indicator=True)),\n",
    "    ('pt', PowerTransformer()),\n",
    "    ('scal', StandardScaler())\n",
    "])\n",
    "\n",
    "preprocessor = ColumnTransformer([\n",
    "    (\"cat\", cat_pipeline, categorical_features),\n",
    "    (\"num\", num_pipeline, numeric_features)\n",
    "], remainder='passthrough')"
   ],
   "metadata": {
    "collapsed": false,
    "ExecuteTime": {
     "end_time": "2023-11-21T19:39:31.635861700Z",
     "start_time": "2023-11-21T19:39:31.607599500Z"
    }
   }
  },
  {
   "cell_type": "code",
   "execution_count": 64,
   "outputs": [],
   "source": [
    "def optuna_optimize(trial):\n",
    "    param = {\n",
    "        'solver': trial.suggest_categorical('solver', ['lbfgs', 'saga'])\n",
    "    }\n",
    "\n",
    "    if param['solver'] == 'lbfgs':\n",
    "        param['penalty'] = 'l2' \n",
    "\n",
    "    if param['solver'] == 'saga':\n",
    "        param['penalty'] = 'elasticnet' \n",
    "        param['C'] = trial.suggest_float('C', 0.01, 100) # какие тут значения?\n",
    "        param['l1_ratio'] = trial.suggest_float('l1_ratio', 0, 1)\n",
    "        param['max_iter'] = 1000 \n",
    "\n",
    "    estimator = LogisticRegression(**param,\n",
    "                                   random_state=12345)\n",
    "\n",
    "    log_reg_pipe = Pipeline([\n",
    "        ('preprocessor', preprocessor),\n",
    "        ('smote', SMOTE(random_state=12345)),\n",
    "        ('model', estimator)\n",
    "    ])\n",
    "\n",
    "    score = cross_val_score(log_reg_pipe, X_train, y_train, cv=5, scoring='f1').mean()\n",
    "    return score"
   ],
   "metadata": {
    "collapsed": false,
    "ExecuteTime": {
     "end_time": "2023-11-21T19:39:31.679892600Z",
     "start_time": "2023-11-21T19:39:31.628129500Z"
    }
   }
  },
  {
   "cell_type": "code",
   "execution_count": 65,
   "outputs": [
    {
     "name": "stderr",
     "output_type": "stream",
     "text": [
      "[I 2023-11-21 22:39:31,648] A new study created in memory with name: LogisticRegression Optuna Optimization SMOTE\n"
     ]
    }
   ],
   "source": [
    "study_log_reg_smote = optuna.create_study(study_name=\"LogisticRegression Optuna Optimization SMOTE\",\n",
    "                                    direction='maximize')"
   ],
   "metadata": {
    "collapsed": false,
    "ExecuteTime": {
     "end_time": "2023-11-21T19:39:31.708237Z",
     "start_time": "2023-11-21T19:39:31.649263500Z"
    }
   }
  },
  {
   "cell_type": "code",
   "execution_count": 66,
   "outputs": [
    {
     "name": "stderr",
     "output_type": "stream",
     "text": [
      "[I 2023-11-21 22:39:32,403] Trial 0 finished with value: 0.4931691414132686 and parameters: {'solver': 'lbfgs'}. Best is trial 0 with value: 0.4931691414132686.\n",
      "[I 2023-11-21 22:39:33,100] Trial 1 finished with value: 0.4931691414132686 and parameters: {'solver': 'lbfgs'}. Best is trial 0 with value: 0.4931691414132686.\n",
      "[I 2023-11-21 22:39:33,985] Trial 2 finished with value: 0.49305864444463354 and parameters: {'solver': 'saga', 'C': 49.131383767424836, 'l1_ratio': 0.57137673581926}. Best is trial 0 with value: 0.4931691414132686.\n",
      "[I 2023-11-21 22:39:34,860] Trial 3 finished with value: 0.49305864444463354 and parameters: {'solver': 'saga', 'C': 98.63896983912585, 'l1_ratio': 0.2899681312441582}. Best is trial 0 with value: 0.4931691414132686.\n",
      "[I 2023-11-21 22:39:35,574] Trial 4 finished with value: 0.4931691414132686 and parameters: {'solver': 'lbfgs'}. Best is trial 0 with value: 0.4931691414132686.\n",
      "[I 2023-11-21 22:39:36,481] Trial 5 finished with value: 0.49305864444463354 and parameters: {'solver': 'saga', 'C': 98.77095881036084, 'l1_ratio': 0.5249405429312913}. Best is trial 0 with value: 0.4931691414132686.\n",
      "[I 2023-11-21 22:39:37,380] Trial 6 finished with value: 0.49305864444463354 and parameters: {'solver': 'saga', 'C': 9.123310728893108, 'l1_ratio': 0.16305900545372143}. Best is trial 0 with value: 0.4931691414132686.\n",
      "[I 2023-11-21 22:39:38,272] Trial 7 finished with value: 0.49305864444463354 and parameters: {'solver': 'saga', 'C': 94.68483668284325, 'l1_ratio': 0.7679431917900316}. Best is trial 0 with value: 0.4931691414132686.\n",
      "[I 2023-11-21 22:39:39,156] Trial 8 finished with value: 0.49305864444463354 and parameters: {'solver': 'saga', 'C': 15.175876974241314, 'l1_ratio': 0.7658996030324776}. Best is trial 0 with value: 0.4931691414132686.\n",
      "[I 2023-11-21 22:39:40,050] Trial 9 finished with value: 0.49305864444463354 and parameters: {'solver': 'saga', 'C': 74.69065884073399, 'l1_ratio': 0.38241666195031265}. Best is trial 0 with value: 0.4931691414132686.\n",
      "[I 2023-11-21 22:39:40,826] Trial 10 finished with value: 0.4931691414132686 and parameters: {'solver': 'lbfgs'}. Best is trial 0 with value: 0.4931691414132686.\n",
      "[I 2023-11-21 22:39:41,556] Trial 11 finished with value: 0.4931691414132686 and parameters: {'solver': 'lbfgs'}. Best is trial 0 with value: 0.4931691414132686.\n",
      "[I 2023-11-21 22:39:42,278] Trial 12 finished with value: 0.4931691414132686 and parameters: {'solver': 'lbfgs'}. Best is trial 0 with value: 0.4931691414132686.\n",
      "[I 2023-11-21 22:39:43,007] Trial 13 finished with value: 0.4931691414132686 and parameters: {'solver': 'lbfgs'}. Best is trial 0 with value: 0.4931691414132686.\n",
      "[I 2023-11-21 22:39:43,713] Trial 14 finished with value: 0.4931691414132686 and parameters: {'solver': 'lbfgs'}. Best is trial 0 with value: 0.4931691414132686.\n",
      "[I 2023-11-21 22:39:44,422] Trial 15 finished with value: 0.4931691414132686 and parameters: {'solver': 'lbfgs'}. Best is trial 0 with value: 0.4931691414132686.\n",
      "[I 2023-11-21 22:39:45,139] Trial 16 finished with value: 0.4931691414132686 and parameters: {'solver': 'lbfgs'}. Best is trial 0 with value: 0.4931691414132686.\n",
      "[I 2023-11-21 22:39:45,855] Trial 17 finished with value: 0.4931691414132686 and parameters: {'solver': 'lbfgs'}. Best is trial 0 with value: 0.4931691414132686.\n",
      "[I 2023-11-21 22:39:46,559] Trial 18 finished with value: 0.4931691414132686 and parameters: {'solver': 'lbfgs'}. Best is trial 0 with value: 0.4931691414132686.\n",
      "[I 2023-11-21 22:39:47,277] Trial 19 finished with value: 0.4931691414132686 and parameters: {'solver': 'lbfgs'}. Best is trial 0 with value: 0.4931691414132686.\n",
      "[I 2023-11-21 22:39:47,975] Trial 20 finished with value: 0.4931691414132686 and parameters: {'solver': 'lbfgs'}. Best is trial 0 with value: 0.4931691414132686.\n",
      "[I 2023-11-21 22:39:48,648] Trial 21 finished with value: 0.4931691414132686 and parameters: {'solver': 'lbfgs'}. Best is trial 0 with value: 0.4931691414132686.\n",
      "[I 2023-11-21 22:39:49,357] Trial 22 finished with value: 0.4931691414132686 and parameters: {'solver': 'lbfgs'}. Best is trial 0 with value: 0.4931691414132686.\n",
      "[I 2023-11-21 22:39:50,061] Trial 23 finished with value: 0.4931691414132686 and parameters: {'solver': 'lbfgs'}. Best is trial 0 with value: 0.4931691414132686.\n",
      "[I 2023-11-21 22:39:50,771] Trial 24 finished with value: 0.4931691414132686 and parameters: {'solver': 'lbfgs'}. Best is trial 0 with value: 0.4931691414132686.\n",
      "[I 2023-11-21 22:39:51,501] Trial 25 finished with value: 0.4931691414132686 and parameters: {'solver': 'lbfgs'}. Best is trial 0 with value: 0.4931691414132686.\n",
      "[I 2023-11-21 22:39:52,212] Trial 26 finished with value: 0.4931691414132686 and parameters: {'solver': 'lbfgs'}. Best is trial 0 with value: 0.4931691414132686.\n",
      "[I 2023-11-21 22:39:52,933] Trial 27 finished with value: 0.4931691414132686 and parameters: {'solver': 'lbfgs'}. Best is trial 0 with value: 0.4931691414132686.\n",
      "[I 2023-11-21 22:39:53,649] Trial 28 finished with value: 0.4931691414132686 and parameters: {'solver': 'lbfgs'}. Best is trial 0 with value: 0.4931691414132686.\n",
      "[I 2023-11-21 22:39:54,365] Trial 29 finished with value: 0.4931691414132686 and parameters: {'solver': 'lbfgs'}. Best is trial 0 with value: 0.4931691414132686.\n",
      "[I 2023-11-21 22:39:55,073] Trial 30 finished with value: 0.4931691414132686 and parameters: {'solver': 'lbfgs'}. Best is trial 0 with value: 0.4931691414132686.\n",
      "[I 2023-11-21 22:39:55,792] Trial 31 finished with value: 0.4931691414132686 and parameters: {'solver': 'lbfgs'}. Best is trial 0 with value: 0.4931691414132686.\n",
      "[I 2023-11-21 22:39:56,486] Trial 32 finished with value: 0.4931691414132686 and parameters: {'solver': 'lbfgs'}. Best is trial 0 with value: 0.4931691414132686.\n",
      "[I 2023-11-21 22:39:57,207] Trial 33 finished with value: 0.4931691414132686 and parameters: {'solver': 'lbfgs'}. Best is trial 0 with value: 0.4931691414132686.\n",
      "[I 2023-11-21 22:39:58,118] Trial 34 finished with value: 0.49305864444463354 and parameters: {'solver': 'saga', 'C': 38.9245146469364, 'l1_ratio': 0.13664549121709357}. Best is trial 0 with value: 0.4931691414132686.\n",
      "[I 2023-11-21 22:39:58,994] Trial 35 finished with value: 0.49339801915907966 and parameters: {'solver': 'saga', 'C': 0.10059694466672653, 'l1_ratio': 0.9962611634422451}. Best is trial 35 with value: 0.49339801915907966.\n",
      "[I 2023-11-21 22:39:59,873] Trial 36 finished with value: 0.49305864444463354 and parameters: {'solver': 'saga', 'C': 3.848221160170725, 'l1_ratio': 0.9931517138291587}. Best is trial 35 with value: 0.49339801915907966.\n",
      "[I 2023-11-21 22:40:00,783] Trial 37 finished with value: 0.49305864444463354 and parameters: {'solver': 'saga', 'C': 26.691436483159613, 'l1_ratio': 0.9628545288956356}. Best is trial 35 with value: 0.49339801915907966.\n",
      "[I 2023-11-21 22:40:01,693] Trial 38 finished with value: 0.49305864444463354 and parameters: {'solver': 'saga', 'C': 1.5299374563818304, 'l1_ratio': 0.03379153757481901}. Best is trial 35 with value: 0.49339801915907966.\n",
      "[I 2023-11-21 22:40:02,614] Trial 39 finished with value: 0.49305864444463354 and parameters: {'solver': 'saga', 'C': 24.05719017927485, 'l1_ratio': 0.6976142881704374}. Best is trial 35 with value: 0.49339801915907966.\n",
      "[I 2023-11-21 22:40:03,501] Trial 40 finished with value: 0.49305864444463354 and parameters: {'solver': 'saga', 'C': 36.29379869442884, 'l1_ratio': 0.8873486596440573}. Best is trial 35 with value: 0.49339801915907966.\n",
      "[I 2023-11-21 22:40:04,399] Trial 41 finished with value: 0.49305864444463354 and parameters: {'solver': 'saga', 'C': 62.375940158226115, 'l1_ratio': 0.6396060733917408}. Best is trial 35 with value: 0.49339801915907966.\n",
      "[I 2023-11-21 22:40:05,294] Trial 42 finished with value: 0.49305864444463354 and parameters: {'solver': 'saga', 'C': 16.811839442808218, 'l1_ratio': 0.8469510036010932}. Best is trial 35 with value: 0.49339801915907966.\n",
      "[I 2023-11-21 22:40:05,991] Trial 43 finished with value: 0.4931691414132686 and parameters: {'solver': 'lbfgs'}. Best is trial 35 with value: 0.49339801915907966.\n",
      "[I 2023-11-21 22:40:06,703] Trial 44 finished with value: 0.4931691414132686 and parameters: {'solver': 'lbfgs'}. Best is trial 35 with value: 0.49339801915907966.\n",
      "[I 2023-11-21 22:40:07,610] Trial 45 finished with value: 0.49305864444463354 and parameters: {'solver': 'saga', 'C': 3.028716021612145, 'l1_ratio': 0.436302657912516}. Best is trial 35 with value: 0.49339801915907966.\n",
      "[I 2023-11-21 22:40:08,320] Trial 46 finished with value: 0.4931691414132686 and parameters: {'solver': 'lbfgs'}. Best is trial 35 with value: 0.49339801915907966.\n",
      "[I 2023-11-21 22:40:09,018] Trial 47 finished with value: 0.4931691414132686 and parameters: {'solver': 'lbfgs'}. Best is trial 35 with value: 0.49339801915907966.\n",
      "[I 2023-11-21 22:40:09,735] Trial 48 finished with value: 0.4931691414132686 and parameters: {'solver': 'lbfgs'}. Best is trial 35 with value: 0.49339801915907966.\n",
      "[I 2023-11-21 22:40:10,647] Trial 49 finished with value: 0.49305864444463354 and parameters: {'solver': 'saga', 'C': 30.40013202838702, 'l1_ratio': 0.6299655944198173}. Best is trial 35 with value: 0.49339801915907966.\n",
      "[I 2023-11-21 22:40:11,362] Trial 50 finished with value: 0.4931691414132686 and parameters: {'solver': 'lbfgs'}. Best is trial 35 with value: 0.49339801915907966.\n",
      "[I 2023-11-21 22:40:12,076] Trial 51 finished with value: 0.4931691414132686 and parameters: {'solver': 'lbfgs'}. Best is trial 35 with value: 0.49339801915907966.\n",
      "[I 2023-11-21 22:40:12,794] Trial 52 finished with value: 0.4931691414132686 and parameters: {'solver': 'lbfgs'}. Best is trial 35 with value: 0.49339801915907966.\n",
      "[I 2023-11-21 22:40:13,496] Trial 53 finished with value: 0.4931691414132686 and parameters: {'solver': 'lbfgs'}. Best is trial 35 with value: 0.49339801915907966.\n",
      "[I 2023-11-21 22:40:14,212] Trial 54 finished with value: 0.4931691414132686 and parameters: {'solver': 'lbfgs'}. Best is trial 35 with value: 0.49339801915907966.\n",
      "[I 2023-11-21 22:40:14,927] Trial 55 finished with value: 0.4931691414132686 and parameters: {'solver': 'lbfgs'}. Best is trial 35 with value: 0.49339801915907966.\n",
      "[I 2023-11-21 22:40:15,862] Trial 56 finished with value: 0.4931691414132686 and parameters: {'solver': 'lbfgs'}. Best is trial 35 with value: 0.49339801915907966.\n",
      "[I 2023-11-21 22:40:16,721] Trial 57 finished with value: 0.4931691414132686 and parameters: {'solver': 'lbfgs'}. Best is trial 35 with value: 0.49339801915907966.\n",
      "[I 2023-11-21 22:40:17,446] Trial 58 finished with value: 0.4931691414132686 and parameters: {'solver': 'lbfgs'}. Best is trial 35 with value: 0.49339801915907966.\n",
      "[I 2023-11-21 22:40:18,156] Trial 59 finished with value: 0.4931691414132686 and parameters: {'solver': 'lbfgs'}. Best is trial 35 with value: 0.49339801915907966.\n",
      "[I 2023-11-21 22:40:18,872] Trial 60 finished with value: 0.4931691414132686 and parameters: {'solver': 'lbfgs'}. Best is trial 35 with value: 0.49339801915907966.\n",
      "[I 2023-11-21 22:40:19,588] Trial 61 finished with value: 0.4931691414132686 and parameters: {'solver': 'lbfgs'}. Best is trial 35 with value: 0.49339801915907966.\n",
      "[I 2023-11-21 22:40:20,295] Trial 62 finished with value: 0.4931691414132686 and parameters: {'solver': 'lbfgs'}. Best is trial 35 with value: 0.49339801915907966.\n",
      "[I 2023-11-21 22:40:21,016] Trial 63 finished with value: 0.4931691414132686 and parameters: {'solver': 'lbfgs'}. Best is trial 35 with value: 0.49339801915907966.\n",
      "[I 2023-11-21 22:40:21,735] Trial 64 finished with value: 0.4931691414132686 and parameters: {'solver': 'lbfgs'}. Best is trial 35 with value: 0.49339801915907966.\n",
      "[I 2023-11-21 22:40:22,453] Trial 65 finished with value: 0.4931691414132686 and parameters: {'solver': 'lbfgs'}. Best is trial 35 with value: 0.49339801915907966.\n",
      "[I 2023-11-21 22:40:23,170] Trial 66 finished with value: 0.4931691414132686 and parameters: {'solver': 'lbfgs'}. Best is trial 35 with value: 0.49339801915907966.\n",
      "[I 2023-11-21 22:40:23,870] Trial 67 finished with value: 0.4931691414132686 and parameters: {'solver': 'lbfgs'}. Best is trial 35 with value: 0.49339801915907966.\n",
      "[I 2023-11-21 22:40:24,772] Trial 68 finished with value: 0.49305864444463354 and parameters: {'solver': 'saga', 'C': 14.156366742186782, 'l1_ratio': 0.8298043164806623}. Best is trial 35 with value: 0.49339801915907966.\n",
      "[I 2023-11-21 22:40:25,492] Trial 69 finished with value: 0.4931691414132686 and parameters: {'solver': 'lbfgs'}. Best is trial 35 with value: 0.49339801915907966.\n",
      "[I 2023-11-21 22:40:26,194] Trial 70 finished with value: 0.4931691414132686 and parameters: {'solver': 'lbfgs'}. Best is trial 35 with value: 0.49339801915907966.\n",
      "[I 2023-11-21 22:40:26,916] Trial 71 finished with value: 0.4931691414132686 and parameters: {'solver': 'lbfgs'}. Best is trial 35 with value: 0.49339801915907966.\n",
      "[I 2023-11-21 22:40:27,626] Trial 72 finished with value: 0.4931691414132686 and parameters: {'solver': 'lbfgs'}. Best is trial 35 with value: 0.49339801915907966.\n",
      "[I 2023-11-21 22:40:28,339] Trial 73 finished with value: 0.4931691414132686 and parameters: {'solver': 'lbfgs'}. Best is trial 35 with value: 0.49339801915907966.\n",
      "[I 2023-11-21 22:40:29,251] Trial 74 finished with value: 0.49305864444463354 and parameters: {'solver': 'saga', 'C': 20.44417967110651, 'l1_ratio': 0.9263771083750396}. Best is trial 35 with value: 0.49339801915907966.\n",
      "[I 2023-11-21 22:40:29,960] Trial 75 finished with value: 0.4931691414132686 and parameters: {'solver': 'lbfgs'}. Best is trial 35 with value: 0.49339801915907966.\n",
      "[I 2023-11-21 22:40:30,675] Trial 76 finished with value: 0.4931691414132686 and parameters: {'solver': 'lbfgs'}. Best is trial 35 with value: 0.49339801915907966.\n",
      "[I 2023-11-21 22:40:31,390] Trial 77 finished with value: 0.4931691414132686 and parameters: {'solver': 'lbfgs'}. Best is trial 35 with value: 0.49339801915907966.\n",
      "[I 2023-11-21 22:40:32,319] Trial 78 finished with value: 0.49305864444463354 and parameters: {'solver': 'saga', 'C': 50.42689657555578, 'l1_ratio': 0.9943179099733249}. Best is trial 35 with value: 0.49339801915907966.\n",
      "[I 2023-11-21 22:40:33,038] Trial 79 finished with value: 0.4931691414132686 and parameters: {'solver': 'lbfgs'}. Best is trial 35 with value: 0.49339801915907966.\n",
      "[I 2023-11-21 22:40:33,768] Trial 80 finished with value: 0.4931691414132686 and parameters: {'solver': 'lbfgs'}. Best is trial 35 with value: 0.49339801915907966.\n",
      "[I 2023-11-21 22:40:34,480] Trial 81 finished with value: 0.4931691414132686 and parameters: {'solver': 'lbfgs'}. Best is trial 35 with value: 0.49339801915907966.\n",
      "[I 2023-11-21 22:40:35,196] Trial 82 finished with value: 0.4931691414132686 and parameters: {'solver': 'lbfgs'}. Best is trial 35 with value: 0.49339801915907966.\n",
      "[I 2023-11-21 22:40:35,896] Trial 83 finished with value: 0.4931691414132686 and parameters: {'solver': 'lbfgs'}. Best is trial 35 with value: 0.49339801915907966.\n",
      "[I 2023-11-21 22:40:36,602] Trial 84 finished with value: 0.4931691414132686 and parameters: {'solver': 'lbfgs'}. Best is trial 35 with value: 0.49339801915907966.\n",
      "[I 2023-11-21 22:40:37,506] Trial 85 finished with value: 0.49305864444463354 and parameters: {'solver': 'saga', 'C': 9.306172199633517, 'l1_ratio': 0.7340024729044391}. Best is trial 35 with value: 0.49339801915907966.\n",
      "[I 2023-11-21 22:40:38,218] Trial 86 finished with value: 0.4931691414132686 and parameters: {'solver': 'lbfgs'}. Best is trial 35 with value: 0.49339801915907966.\n",
      "[I 2023-11-21 22:40:38,929] Trial 87 finished with value: 0.4931691414132686 and parameters: {'solver': 'lbfgs'}. Best is trial 35 with value: 0.49339801915907966.\n",
      "[I 2023-11-21 22:40:39,637] Trial 88 finished with value: 0.4931691414132686 and parameters: {'solver': 'lbfgs'}. Best is trial 35 with value: 0.49339801915907966.\n",
      "[I 2023-11-21 22:40:40,550] Trial 89 finished with value: 0.49305864444463354 and parameters: {'solver': 'saga', 'C': 32.532705412110346, 'l1_ratio': 0.8468322313319853}. Best is trial 35 with value: 0.49339801915907966.\n",
      "[I 2023-11-21 22:40:41,252] Trial 90 finished with value: 0.4931691414132686 and parameters: {'solver': 'lbfgs'}. Best is trial 35 with value: 0.49339801915907966.\n",
      "[I 2023-11-21 22:40:41,968] Trial 91 finished with value: 0.4931691414132686 and parameters: {'solver': 'lbfgs'}. Best is trial 35 with value: 0.49339801915907966.\n",
      "[I 2023-11-21 22:40:42,689] Trial 92 finished with value: 0.4931691414132686 and parameters: {'solver': 'lbfgs'}. Best is trial 35 with value: 0.49339801915907966.\n",
      "[I 2023-11-21 22:40:43,412] Trial 93 finished with value: 0.4931691414132686 and parameters: {'solver': 'lbfgs'}. Best is trial 35 with value: 0.49339801915907966.\n",
      "[I 2023-11-21 22:40:44,129] Trial 94 finished with value: 0.4931691414132686 and parameters: {'solver': 'lbfgs'}. Best is trial 35 with value: 0.49339801915907966.\n",
      "[I 2023-11-21 22:40:44,832] Trial 95 finished with value: 0.4931691414132686 and parameters: {'solver': 'lbfgs'}. Best is trial 35 with value: 0.49339801915907966.\n",
      "[I 2023-11-21 22:40:45,537] Trial 96 finished with value: 0.4931691414132686 and parameters: {'solver': 'lbfgs'}. Best is trial 35 with value: 0.49339801915907966.\n",
      "[I 2023-11-21 22:40:46,259] Trial 97 finished with value: 0.4931691414132686 and parameters: {'solver': 'lbfgs'}. Best is trial 35 with value: 0.49339801915907966.\n",
      "[I 2023-11-21 22:40:46,973] Trial 98 finished with value: 0.4931691414132686 and parameters: {'solver': 'lbfgs'}. Best is trial 35 with value: 0.49339801915907966.\n",
      "[I 2023-11-21 22:40:47,880] Trial 99 finished with value: 0.49305864444463354 and parameters: {'solver': 'saga', 'C': 23.10288486317296, 'l1_ratio': 0.5048764737051251}. Best is trial 35 with value: 0.49339801915907966.\n"
     ]
    }
   ],
   "source": [
    "study_log_reg_smote.optimize(optuna_optimize, n_trials=100)"
   ],
   "metadata": {
    "collapsed": false,
    "ExecuteTime": {
     "end_time": "2023-11-21T19:40:47.900858400Z",
     "start_time": "2023-11-21T19:39:31.669343100Z"
    }
   }
  },
  {
   "cell_type": "code",
   "execution_count": 67,
   "outputs": [
    {
     "name": "stdout",
     "output_type": "stream",
     "text": [
      "Наилучшие значения гиперпараметров Logistic Regression: {'solver': 'saga', 'C': 0.10059694466672653, 'l1_ratio': 0.9962611634422451}\n",
      "f1_score на обучающем наборе: 0.493\n"
     ]
    }
   ],
   "source": [
    "print(\"Наилучшие значения гиперпараметров Logistic Regression: {}\".format(study_log_reg_smote.best_params))\n",
    "print(\"f1_score на обучающем наборе: {:.3f}\". format(study_log_reg_smote.best_value))"
   ],
   "metadata": {
    "collapsed": false,
    "ExecuteTime": {
     "end_time": "2023-11-21T19:40:47.953814700Z",
     "start_time": "2023-11-21T19:40:47.907558700Z"
    }
   }
  },
  {
   "cell_type": "code",
   "execution_count": 68,
   "outputs": [],
   "source": [
    "with mlflow.start_run(nested=True):\n",
    "\n",
    "    best_params = study_log_reg_smote.best_params\n",
    "    best_score = study_log_reg_smote.best_value\n",
    "    mlflow.log_params(best_params)\n",
    "    mlflow.log_metric('f1', best_score)\n",
    "\n",
    "    log_reg_pipe = Pipeline([\n",
    "        ('preprocessor', preprocessor),\n",
    "        ('smote', SMOTE(random_state=12345)),\n",
    "        ('model', LogisticRegression(**best_params,\n",
    "                                     random_state=12345))\n",
    "    ])\n",
    "\n",
    "    log_reg_pipe.fit(X_train, y_train)\n",
    "\n",
    "    mlflow.sklearn.log_model(log_reg_pipe, 'log_reg_pipeline_smote')"
   ],
   "metadata": {
    "collapsed": false,
    "ExecuteTime": {
     "end_time": "2023-11-21T19:40:52.122718100Z",
     "start_time": "2023-11-21T19:40:47.927529400Z"
    }
   }
  },
  {
   "cell_type": "markdown",
   "source": [
    "### 3.2.4 Метод опорных векторов"
   ],
   "metadata": {
    "collapsed": false
   }
  },
  {
   "cell_type": "code",
   "execution_count": 69,
   "outputs": [],
   "source": [
    "def optuna_optimize(trial):\n",
    "\n",
    "    param = {\n",
    "        'C': trial.suggest_float('C', 0.001, 200)  # какие значения может принимать С \n",
    "    }\n",
    "\n",
    "    estimator = SVC(**param,\n",
    "                    random_state=12345,\n",
    "                    probability=True)\n",
    "\n",
    "    svc_pipe = Pipeline([\n",
    "        ('preprocessor', preprocessor),\n",
    "        ('smote', SMOTE(random_state=12345)),\n",
    "        ('model', estimator)\n",
    "    ])\n",
    "\n",
    "    score = cross_val_score(svc_pipe, X_train, y_train, cv=5, scoring='f1').mean()\n",
    "    \n",
    "    return score"
   ],
   "metadata": {
    "collapsed": false,
    "ExecuteTime": {
     "end_time": "2023-11-21T19:40:52.147554700Z",
     "start_time": "2023-11-21T19:40:52.128783900Z"
    }
   }
  },
  {
   "cell_type": "code",
   "execution_count": 70,
   "outputs": [
    {
     "name": "stderr",
     "output_type": "stream",
     "text": [
      "[I 2023-11-21 22:40:52,138] A new study created in memory with name: SVC Optuna Optimization SMOTE\n"
     ]
    }
   ],
   "source": [
    "study_svc_smote = optuna.create_study(study_name=\"SVC Optuna Optimization SMOTE\",\n",
    "                                direction='maximize')"
   ],
   "metadata": {
    "collapsed": false,
    "ExecuteTime": {
     "end_time": "2023-11-21T19:40:52.234033200Z",
     "start_time": "2023-11-21T19:40:52.140976700Z"
    }
   }
  },
  {
   "cell_type": "code",
   "execution_count": 71,
   "outputs": [
    {
     "name": "stderr",
     "output_type": "stream",
     "text": [
      "[I 2023-11-21 22:41:29,324] Trial 0 finished with value: 0.5252647741225143 and parameters: {'C': 75.21044813489343}. Best is trial 0 with value: 0.5252647741225143.\n",
      "[I 2023-11-21 22:42:19,757] Trial 1 finished with value: 0.517355823479108 and parameters: {'C': 149.2500094664965}. Best is trial 0 with value: 0.5252647741225143.\n",
      "[I 2023-11-21 22:42:58,268] Trial 2 finished with value: 0.524153585490968 and parameters: {'C': 79.80086579311777}. Best is trial 0 with value: 0.5252647741225143.\n",
      "[I 2023-11-21 22:43:36,992] Trial 3 finished with value: 0.5224224855187849 and parameters: {'C': 83.4727088637091}. Best is trial 0 with value: 0.5252647741225143.\n",
      "[I 2023-11-21 22:44:30,289] Trial 4 finished with value: 0.5141013405011912 and parameters: {'C': 172.95456347128174}. Best is trial 0 with value: 0.5252647741225143.\n",
      "[I 2023-11-21 22:45:22,637] Trial 5 finished with value: 0.5159608812687078 and parameters: {'C': 161.22874153013962}. Best is trial 0 with value: 0.5252647741225143.\n",
      "[I 2023-11-21 22:45:56,214] Trial 6 finished with value: 0.5286568819479152 and parameters: {'C': 58.39841282573504}. Best is trial 6 with value: 0.5286568819479152.\n",
      "[I 2023-11-21 22:46:53,679] Trial 7 finished with value: 0.5120286025209408 and parameters: {'C': 191.7533459223751}. Best is trial 6 with value: 0.5286568819479152.\n",
      "[I 2023-11-21 22:47:37,921] Trial 8 finished with value: 0.5206023506907564 and parameters: {'C': 114.62205761405227}. Best is trial 6 with value: 0.5286568819479152.\n",
      "[I 2023-11-21 22:48:33,742] Trial 9 finished with value: 0.5130365359087158 and parameters: {'C': 187.38354959676528}. Best is trial 6 with value: 0.5286568819479152.\n",
      "[I 2023-11-21 22:48:59,066] Trial 10 finished with value: 0.5501617898575691 and parameters: {'C': 22.543578827944522}. Best is trial 10 with value: 0.5501617898575691.\n",
      "[I 2023-11-21 22:49:23,225] Trial 11 finished with value: 0.5508602082099241 and parameters: {'C': 19.080915648585176}. Best is trial 11 with value: 0.5508602082099241.\n",
      "[I 2023-11-21 22:49:45,047] Trial 12 finished with value: 0.5625165456847879 and parameters: {'C': 10.15964762587084}. Best is trial 12 with value: 0.5625165456847879.\n",
      "[I 2023-11-21 22:50:05,379] Trial 13 finished with value: 0.5729771806487247 and parameters: {'C': 4.74238469608516}. Best is trial 13 with value: 0.5729771806487247.\n",
      "[I 2023-11-21 22:50:26,111] Trial 14 finished with value: 0.5717136248922557 and parameters: {'C': 5.697310675032568}. Best is trial 13 with value: 0.5729771806487247.\n",
      "[I 2023-11-21 22:50:46,106] Trial 15 finished with value: 0.5735004494024862 and parameters: {'C': 3.63168257026972}. Best is trial 15 with value: 0.5735004494024862.\n",
      "[I 2023-11-21 22:51:14,220] Trial 16 finished with value: 0.5374838037964648 and parameters: {'C': 32.82110186304515}. Best is trial 15 with value: 0.5735004494024862.\n",
      "[I 2023-11-21 22:51:33,327] Trial 17 finished with value: 0.5774367275135048 and parameters: {'C': 1.436363393996341}. Best is trial 17 with value: 0.5774367275135048.\n",
      "[I 2023-11-21 22:52:02,295] Trial 18 finished with value: 0.5355150419387524 and parameters: {'C': 36.86103431459781}. Best is trial 17 with value: 0.5774367275135048.\n",
      "[I 2023-11-21 22:52:33,265] Trial 19 finished with value: 0.5323042671942176 and parameters: {'C': 45.54349180825237}. Best is trial 17 with value: 0.5774367275135048.\n",
      "[I 2023-11-21 22:52:53,037] Trial 20 finished with value: 0.5719012331486291 and parameters: {'C': 2.4472965133476663}. Best is trial 17 with value: 0.5774367275135048.\n",
      "[I 2023-11-21 22:53:12,459] Trial 21 finished with value: 0.5726134570629464 and parameters: {'C': 2.0621261123223933}. Best is trial 17 with value: 0.5774367275135048.\n",
      "[I 2023-11-21 22:53:39,083] Trial 22 finished with value: 0.5463141317829067 and parameters: {'C': 26.42116156322057}. Best is trial 17 with value: 0.5774367275135048.\n",
      "[I 2023-11-21 22:54:11,767] Trial 23 finished with value: 0.5296500478530951 and parameters: {'C': 54.11410718305932}. Best is trial 17 with value: 0.5774367275135048.\n",
      "[I 2023-11-21 22:54:36,971] Trial 24 finished with value: 0.5479594052169345 and parameters: {'C': 23.20961183060194}. Best is trial 17 with value: 0.5774367275135048.\n",
      "[I 2023-11-21 22:54:57,733] Trial 25 finished with value: 0.5640988184245853 and parameters: {'C': 0.21051174087057234}. Best is trial 17 with value: 0.5774367275135048.\n",
      "[I 2023-11-21 22:55:27,105] Trial 26 finished with value: 0.5353294576882288 and parameters: {'C': 39.34795100106467}. Best is trial 17 with value: 0.5774367275135048.\n",
      "[I 2023-11-21 22:55:50,761] Trial 27 finished with value: 0.5574304546085417 and parameters: {'C': 16.11664437960731}. Best is trial 17 with value: 0.5774367275135048.\n",
      "[I 2023-11-21 22:56:14,765] Trial 28 finished with value: 0.5549097229703497 and parameters: {'C': 17.650956290926146}. Best is trial 17 with value: 0.5774367275135048.\n",
      "[I 2023-11-21 22:56:48,648] Trial 29 finished with value: 0.5276030870233915 and parameters: {'C': 61.42098612003362}. Best is trial 17 with value: 0.5774367275135048.\n",
      "[I 2023-11-21 22:57:19,169] Trial 30 finished with value: 0.5321854189119901 and parameters: {'C': 44.58783743164768}. Best is trial 17 with value: 0.5774367275135048.\n",
      "[I 2023-11-21 22:57:39,314] Trial 31 finished with value: 0.5731582517307491 and parameters: {'C': 3.871712968957778}. Best is trial 17 with value: 0.5774367275135048.\n",
      "[I 2023-11-21 22:58:02,164] Trial 32 finished with value: 0.5636574684510435 and parameters: {'C': 12.405322486647465}. Best is trial 17 with value: 0.5774367275135048.\n",
      "[I 2023-11-21 22:58:30,410] Trial 33 finished with value: 0.5376311074731802 and parameters: {'C': 32.54175267773775}. Best is trial 17 with value: 0.5774367275135048.\n",
      "[I 2023-11-21 22:58:54,990] Trial 34 finished with value: 0.5560373952431826 and parameters: {'C': 17.258753628713375}. Best is trial 17 with value: 0.5774367275135048.\n",
      "[I 2023-11-21 22:59:14,761] Trial 35 finished with value: 0.5745038691425848 and parameters: {'C': 0.5466443824554653}. Best is trial 17 with value: 0.5774367275135048.\n",
      "[I 2023-11-21 22:59:42,591] Trial 36 finished with value: 0.5453434719162448 and parameters: {'C': 27.62130415733157}. Best is trial 17 with value: 0.5774367275135048.\n",
      "[I 2023-11-21 23:00:05,360] Trial 37 finished with value: 0.5642874114723412 and parameters: {'C': 12.918650578647354}. Best is trial 17 with value: 0.5774367275135048.\n",
      "[I 2023-11-21 23:00:24,422] Trial 38 finished with value: 0.5744188885816457 and parameters: {'C': 0.6522907423120582}. Best is trial 17 with value: 0.5774367275135048.\n",
      "[I 2023-11-21 23:00:59,693] Trial 39 finished with value: 0.5270798632605225 and parameters: {'C': 65.79018345674999}. Best is trial 17 with value: 0.5774367275135048.\n",
      "[I 2023-11-21 23:01:39,286] Trial 40 finished with value: 0.5200894253318642 and parameters: {'C': 87.71502772452813}. Best is trial 17 with value: 0.5774367275135048.\n",
      "[I 2023-11-21 23:01:58,142] Trial 41 finished with value: 0.5737079769760864 and parameters: {'C': 0.9246431136201747}. Best is trial 17 with value: 0.5774367275135048.\n",
      "[I 2023-11-21 23:02:22,069] Trial 42 finished with value: 0.543928944899013 and parameters: {'C': 0.04399183127667716}. Best is trial 17 with value: 0.5774367275135048.\n",
      "[I 2023-11-21 23:02:47,968] Trial 43 finished with value: 0.5469315444197541 and parameters: {'C': 25.404025894142485}. Best is trial 17 with value: 0.5774367275135048.\n",
      "[I 2023-11-21 23:03:10,567] Trial 44 finished with value: 0.5637374364255292 and parameters: {'C': 11.931268933214529}. Best is trial 17 with value: 0.5774367275135048.\n",
      "[I 2023-11-21 23:03:32,827] Trial 45 finished with value: 0.5629485274551064 and parameters: {'C': 11.176032248449777}. Best is trial 17 with value: 0.5774367275135048.\n",
      "[I 2023-11-21 23:04:00,836] Trial 46 finished with value: 0.5417844563519834 and parameters: {'C': 29.736123868233285}. Best is trial 17 with value: 0.5774367275135048.\n",
      "[I 2023-11-21 23:04:27,113] Trial 47 finished with value: 0.5498526507280295 and parameters: {'C': 22.422370296496858}. Best is trial 17 with value: 0.5774367275135048.\n",
      "[I 2023-11-21 23:04:50,471] Trial 48 finished with value: 0.5651481465109788 and parameters: {'C': 13.417531363819135}. Best is trial 17 with value: 0.5774367275135048.\n",
      "[I 2023-11-21 23:05:19,620] Trial 49 finished with value: 0.5353970745307981 and parameters: {'C': 37.68286883826331}. Best is trial 17 with value: 0.5774367275135048.\n",
      "[I 2023-11-21 23:05:42,231] Trial 50 finished with value: 0.5636726317219664 and parameters: {'C': 10.074906090272671}. Best is trial 17 with value: 0.5774367275135048.\n",
      "[I 2023-11-21 23:06:03,422] Trial 51 finished with value: 0.5713774294105547 and parameters: {'C': 6.2518334736240195}. Best is trial 17 with value: 0.5774367275135048.\n",
      "[I 2023-11-21 23:06:23,518] Trial 52 finished with value: 0.5740528784447625 and parameters: {'C': 2.3452154677243557}. Best is trial 17 with value: 0.5774367275135048.\n",
      "[I 2023-11-21 23:06:45,906] Trial 53 finished with value: 0.5507934568933275 and parameters: {'C': 0.1021011197729641}. Best is trial 17 with value: 0.5774367275135048.\n",
      "[I 2023-11-21 23:07:11,024] Trial 54 finished with value: 0.5493947595018669 and parameters: {'C': 20.17585733473406}. Best is trial 17 with value: 0.5774367275135048.\n",
      "[I 2023-11-21 23:07:32,751] Trial 55 finished with value: 0.5687658277717527 and parameters: {'C': 8.298653640991542}. Best is trial 17 with value: 0.5774367275135048.\n",
      "[I 2023-11-21 23:07:58,255] Trial 56 finished with value: 0.5499024494178697 and parameters: {'C': 21.052333702888998}. Best is trial 17 with value: 0.5774367275135048.\n",
      "[I 2023-11-21 23:08:26,685] Trial 57 finished with value: 0.5389276096262908 and parameters: {'C': 30.607136702687647}. Best is trial 17 with value: 0.5774367275135048.\n",
      "[I 2023-11-21 23:08:48,124] Trial 58 finished with value: 0.5711531637202862 and parameters: {'C': 6.8291974908630895}. Best is trial 17 with value: 0.5774367275135048.\n",
      "[I 2023-11-21 23:09:12,403] Trial 59 finished with value: 0.5550576280228865 and parameters: {'C': 17.484185926243594}. Best is trial 17 with value: 0.5774367275135048.\n",
      "[I 2023-11-21 23:09:33,958] Trial 60 finished with value: 0.5704258741067235 and parameters: {'C': 7.087669067177382}. Best is trial 17 with value: 0.5774367275135048.\n",
      "[I 2023-11-21 23:09:53,245] Trial 61 finished with value: 0.5740737148371322 and parameters: {'C': 0.9110845821755147}. Best is trial 17 with value: 0.5774367275135048.\n",
      "[I 2023-11-21 23:10:13,361] Trial 62 finished with value: 0.5737189466841646 and parameters: {'C': 0.9648361783682555}. Best is trial 17 with value: 0.5774367275135048.\n",
      "[I 2023-11-21 23:10:34,911] Trial 63 finished with value: 0.5710936771390625 and parameters: {'C': 7.509874987462272}. Best is trial 17 with value: 0.5774367275135048.\n",
      "[I 2023-11-21 23:10:59,041] Trial 64 finished with value: 0.5580287231626997 and parameters: {'C': 16.322630370079832}. Best is trial 17 with value: 0.5774367275135048.\n",
      "[I 2023-11-21 23:11:18,543] Trial 65 finished with value: 0.5770891526911117 and parameters: {'C': 1.4996139217365}. Best is trial 17 with value: 0.5774367275135048.\n",
      "[I 2023-11-21 23:11:44,669] Trial 66 finished with value: 0.5468241970613079 and parameters: {'C': 24.961788165439568}. Best is trial 17 with value: 0.5774367275135048.\n",
      "[I 2023-11-21 23:12:06,699] Trial 67 finished with value: 0.5509232142993905 and parameters: {'C': 0.11485077125182919}. Best is trial 17 with value: 0.5774367275135048.\n",
      "[I 2023-11-21 23:12:30,612] Trial 68 finished with value: 0.5613081136200665 and parameters: {'C': 14.886169991716027}. Best is trial 17 with value: 0.5774367275135048.\n",
      "[I 2023-11-21 23:12:52,258] Trial 69 finished with value: 0.5713933701428612 and parameters: {'C': 7.527900457522195}. Best is trial 17 with value: 0.5774367275135048.\n",
      "[I 2023-11-21 23:13:21,060] Trial 70 finished with value: 0.5379390609713239 and parameters: {'C': 34.74896332415087}. Best is trial 17 with value: 0.5774367275135048.\n",
      "[I 2023-11-21 23:13:41,133] Trial 71 finished with value: 0.5718351274361736 and parameters: {'C': 0.46861159176342304}. Best is trial 17 with value: 0.5774367275135048.\n",
      "[I 2023-11-21 23:14:01,888] Trial 72 finished with value: 0.5724495066010948 and parameters: {'C': 5.258616844691517}. Best is trial 17 with value: 0.5774367275135048.\n",
      "[I 2023-11-21 23:14:26,728] Trial 73 finished with value: 0.5487306341297756 and parameters: {'C': 20.813346204882503}. Best is trial 17 with value: 0.5774367275135048.\n",
      "[I 2023-11-21 23:14:49,659] Trial 74 finished with value: 0.5638066839723834 and parameters: {'C': 12.486730468429917}. Best is trial 17 with value: 0.5774367275135048.\n",
      "[I 2023-11-21 23:15:10,417] Trial 75 finished with value: 0.572757471499719 and parameters: {'C': 5.006449405581435}. Best is trial 17 with value: 0.5774367275135048.\n",
      "[I 2023-11-21 23:15:36,700] Trial 76 finished with value: 0.5470176048633226 and parameters: {'C': 26.01873172570721}. Best is trial 17 with value: 0.5774367275135048.\n",
      "[I 2023-11-21 23:16:00,663] Trial 77 finished with value: 0.5580287231626997 and parameters: {'C': 16.32234579950958}. Best is trial 17 with value: 0.5774367275135048.\n",
      "[I 2023-11-21 23:16:22,979] Trial 78 finished with value: 0.5630391423891543 and parameters: {'C': 10.453554993295313}. Best is trial 17 with value: 0.5774367275135048.\n",
      "[I 2023-11-21 23:16:50,304] Trial 79 finished with value: 0.5266463501653089 and parameters: {'C': 0.016314585356904}. Best is trial 17 with value: 0.5774367275135048.\n",
      "[I 2023-11-21 23:17:17,723] Trial 80 finished with value: 0.5416738290501382 and parameters: {'C': 29.901320035668594}. Best is trial 17 with value: 0.5774367275135048.\n",
      "[I 2023-11-21 23:17:38,210] Trial 81 finished with value: 0.5723112190223919 and parameters: {'C': 4.315096358371614}. Best is trial 17 with value: 0.5774367275135048.\n",
      "[I 2023-11-21 23:18:01,241] Trial 82 finished with value: 0.5645193811418305 and parameters: {'C': 12.792951009423687}. Best is trial 17 with value: 0.5774367275135048.\n",
      "[I 2023-11-21 23:18:22,018] Trial 83 finished with value: 0.5719482869172141 and parameters: {'C': 5.400538790478732}. Best is trial 17 with value: 0.5774367275135048.\n",
      "[I 2023-11-21 23:18:47,419] Trial 84 finished with value: 0.5487022847392609 and parameters: {'C': 21.798420840107546}. Best is trial 17 with value: 0.5774367275135048.\n",
      "[I 2023-11-21 23:19:11,875] Trial 85 finished with value: 0.5552969744748 and parameters: {'C': 17.67363252718508}. Best is trial 17 with value: 0.5774367275135048.\n",
      "[I 2023-11-21 23:19:34,414] Trial 86 finished with value: 0.5621217089437016 and parameters: {'C': 11.419320018854197}. Best is trial 17 with value: 0.5774367275135048.\n",
      "[I 2023-11-21 23:19:54,840] Trial 87 finished with value: 0.5727518856602648 and parameters: {'C': 4.374017190484721}. Best is trial 17 with value: 0.5774367275135048.\n",
      "[I 2023-11-21 23:20:18,841] Trial 88 finished with value: 0.5475214201645802 and parameters: {'C': 0.06097628060798799}. Best is trial 17 with value: 0.5774367275135048.\n",
      "[I 2023-11-21 23:20:40,991] Trial 89 finished with value: 0.5653141885518587 and parameters: {'C': 9.328760636827447}. Best is trial 17 with value: 0.5774367275135048.\n",
      "[I 2023-11-21 23:21:04,857] Trial 90 finished with value: 0.5597176520742501 and parameters: {'C': 15.413358543727345}. Best is trial 17 with value: 0.5774367275135048.\n",
      "[I 2023-11-21 23:21:25,188] Trial 91 finished with value: 0.5720085406583685 and parameters: {'C': 4.158760192141397}. Best is trial 17 with value: 0.5774367275135048.\n",
      "[I 2023-11-21 23:21:47,049] Trial 92 finished with value: 0.5656138993207923 and parameters: {'C': 9.245669659426209}. Best is trial 17 with value: 0.5774367275135048.\n",
      "[I 2023-11-21 23:22:07,294] Trial 93 finished with value: 0.5736425716079346 and parameters: {'C': 3.623072973450447}. Best is trial 17 with value: 0.5774367275135048.\n",
      "[I 2023-11-21 23:22:32,339] Trial 94 finished with value: 0.5488691704415283 and parameters: {'C': 20.438453963711325}. Best is trial 17 with value: 0.5774367275135048.\n",
      "[I 2023-11-21 23:22:52,504] Trial 95 finished with value: 0.572126584405742 and parameters: {'C': 3.2856134450557533}. Best is trial 17 with value: 0.5774367275135048.\n",
      "[I 2023-11-21 23:23:15,590] Trial 96 finished with value: 0.564757334458837 and parameters: {'C': 13.135452334517154}. Best is trial 17 with value: 0.5774367275135048.\n",
      "[I 2023-11-21 23:23:37,796] Trial 97 finished with value: 0.5679706426030257 and parameters: {'C': 8.469421242467053}. Best is trial 17 with value: 0.5774367275135048.\n",
      "[I 2023-11-21 23:24:04,169] Trial 98 finished with value: 0.5480555552227158 and parameters: {'C': 24.240021014086548}. Best is trial 17 with value: 0.5774367275135048.\n",
      "[I 2023-11-21 23:24:35,222] Trial 99 finished with value: 0.5006949919645043 and parameters: {'C': 0.0041638939384252005}. Best is trial 17 with value: 0.5774367275135048.\n"
     ]
    }
   ],
   "source": [
    "study_svc_smote.optimize(optuna_optimize, n_trials=100)"
   ],
   "metadata": {
    "collapsed": false,
    "ExecuteTime": {
     "end_time": "2023-11-21T20:24:35.249856100Z",
     "start_time": "2023-11-21T19:40:52.158038100Z"
    }
   }
  },
  {
   "cell_type": "code",
   "execution_count": 72,
   "outputs": [
    {
     "name": "stdout",
     "output_type": "stream",
     "text": [
      "Наилучшие значения гиперпараметров SVC: {'C': 1.436363393996341}\n",
      "f1_score на обучающем наборе: 0.577\n"
     ]
    }
   ],
   "source": [
    "print(\"Наилучшие значения гиперпараметров SVC: {}\".format(study_svc_smote.best_params))\n",
    "print(\"f1_score на обучающем наборе: {:.3f}\". format(study_svc_smote.best_value))"
   ],
   "metadata": {
    "collapsed": false,
    "ExecuteTime": {
     "end_time": "2023-11-21T20:24:35.325484500Z",
     "start_time": "2023-11-21T20:24:35.253850400Z"
    }
   }
  },
  {
   "cell_type": "code",
   "execution_count": 73,
   "outputs": [],
   "source": [
    "with mlflow.start_run(nested=True):\n",
    "\n",
    "    best_params = study_svc_smote.best_params\n",
    "    best_score = study_svc_smote.best_value\n",
    "    mlflow.log_params(best_params)\n",
    "\n",
    "    svc_pipe = Pipeline([\n",
    "        ('preprocessor', preprocessor),\n",
    "        ('smote', SMOTE(random_state=12345)),\n",
    "        ('model', SVC(**best_params,\n",
    "                      random_state=12345,\n",
    "                      probability=True))\n",
    "    ])\n",
    "\n",
    "    svc_pipe.fit(X_train, y_train)\n",
    "    pred_proba = svc_pipe.predict_proba(X_train)[:, 1]\n",
    "    roc_auc = roc_auc_score(y_test, pred_proba)\n",
    "    mlflow.log_metrics({'f1': best_score,\n",
    "                        'roc_auc': roc_auc})\n",
    "\n",
    "    mlflow.sklearn.log_model(svc_pipe, 'svc_pipeline_smote')"
   ],
   "metadata": {
    "collapsed": false,
    "ExecuteTime": {
     "end_time": "2023-11-21T20:24:44.395646900Z",
     "start_time": "2023-11-21T20:24:35.267831700Z"
    }
   }
  },
  {
   "cell_type": "code",
   "execution_count": 73,
   "outputs": [],
   "source": [],
   "metadata": {
    "collapsed": false,
    "ExecuteTime": {
     "end_time": "2023-11-21T20:24:44.419953400Z",
     "start_time": "2023-11-21T20:24:44.400200700Z"
    }
   }
  },
  {
   "cell_type": "code",
   "execution_count": 74,
   "outputs": [],
   "source": [
    "colNames = [\"XGBoost\", \"Random Forest\", \"Logistic Regression\", \"SVC\"]\n",
    "results = {\"Imbalanced\":[study_xgb.best_value, '-', '-', '-'],\n",
    "           \"Class Weight\":[study_xgb_cw.best_value, \n",
    "                           study_rf.best_value, \n",
    "                           study_log_reg.best_value, \n",
    "                           study_svc.best_value],\n",
    "           \"SMOTE\":[study_xgb_smote.best_value, \n",
    "                    study_rf_smote.best_value, \n",
    "                    study_log_reg_smote.best_value, \n",
    "                    study_svc_smote.best_value]}"
   ],
   "metadata": {
    "collapsed": false,
    "ExecuteTime": {
     "end_time": "2023-11-21T20:24:44.461720800Z",
     "start_time": "2023-11-21T20:24:44.425229300Z"
    }
   }
  },
  {
   "cell_type": "code",
   "execution_count": 75,
   "outputs": [],
   "source": [
    "table = pd.DataFrame.from_dict(results, orient='index', columns=colNames)"
   ],
   "metadata": {
    "collapsed": false,
    "ExecuteTime": {
     "end_time": "2023-11-21T20:24:44.482677700Z",
     "start_time": "2023-11-21T20:24:44.453044600Z"
    }
   }
  },
  {
   "cell_type": "code",
   "execution_count": 76,
   "outputs": [
    {
     "data": {
      "text/plain": "               XGBoost Random Forest Logistic Regression       SVC\nImbalanced    0.588296             -                   -         -\nClass Weight  0.610398      0.618283            0.491084  0.578716\nSMOTE         0.626416      0.614727            0.493398  0.577437",
      "text/html": "<div>\n<style scoped>\n    .dataframe tbody tr th:only-of-type {\n        vertical-align: middle;\n    }\n\n    .dataframe tbody tr th {\n        vertical-align: top;\n    }\n\n    .dataframe thead th {\n        text-align: right;\n    }\n</style>\n<table border=\"1\" class=\"dataframe\">\n  <thead>\n    <tr style=\"text-align: right;\">\n      <th></th>\n      <th>XGBoost</th>\n      <th>Random Forest</th>\n      <th>Logistic Regression</th>\n      <th>SVC</th>\n    </tr>\n  </thead>\n  <tbody>\n    <tr>\n      <th>Imbalanced</th>\n      <td>0.588296</td>\n      <td>-</td>\n      <td>-</td>\n      <td>-</td>\n    </tr>\n    <tr>\n      <th>Class Weight</th>\n      <td>0.610398</td>\n      <td>0.618283</td>\n      <td>0.491084</td>\n      <td>0.578716</td>\n    </tr>\n    <tr>\n      <th>SMOTE</th>\n      <td>0.626416</td>\n      <td>0.614727</td>\n      <td>0.493398</td>\n      <td>0.577437</td>\n    </tr>\n  </tbody>\n</table>\n</div>"
     },
     "execution_count": 76,
     "metadata": {},
     "output_type": "execute_result"
    }
   ],
   "source": [
    "table"
   ],
   "metadata": {
    "collapsed": false,
    "ExecuteTime": {
     "end_time": "2023-11-21T20:24:44.574991500Z",
     "start_time": "2023-11-21T20:24:44.487685Z"
    }
   }
  },
  {
   "cell_type": "code",
   "execution_count": 27,
   "outputs": [
    {
     "data": {
      "text/plain": "Downloading artifacts:   0%|          | 0/5 [00:00<?, ?it/s]",
      "application/vnd.jupyter.widget-view+json": {
       "version_major": 2,
       "version_minor": 0,
       "model_id": "217af7e218344b57b8d44950e4d92533"
      }
     },
     "metadata": {},
     "output_type": "display_data"
    }
   ],
   "source": [
    "xgb_imbalanced = mlflow.sklearn.load_model('runs:/109ce7a4329544d6bedc74461c63fb94/xgb_pipeline_imbalanced')"
   ],
   "metadata": {
    "collapsed": false,
    "ExecuteTime": {
     "end_time": "2023-11-22T11:12:01.059447400Z",
     "start_time": "2023-11-22T11:11:59.377350400Z"
    }
   }
  },
  {
   "cell_type": "code",
   "execution_count": 28,
   "outputs": [
    {
     "name": "stdout",
     "output_type": "stream",
     "text": [
      "ROC-AUC score на тестовой выборке: 0.8700549548007174\n"
     ]
    }
   ],
   "source": [
    "pred_proba_xgb_imb = xgb_imbalanced.predict_proba(X_test)[:, 1]\n",
    "print('ROC-AUC score на тестовой выборке:', roc_auc_score(y_test, pred_proba_xgb_imb))"
   ],
   "metadata": {
    "collapsed": false,
    "ExecuteTime": {
     "end_time": "2023-11-22T11:13:07.134706500Z",
     "start_time": "2023-11-22T11:13:07.005897400Z"
    }
   }
  },
  {
   "cell_type": "code",
   "execution_count": 29,
   "outputs": [
    {
     "data": {
      "text/plain": "Downloading artifacts:   0%|          | 0/5 [00:00<?, ?it/s]",
      "application/vnd.jupyter.widget-view+json": {
       "version_major": 2,
       "version_minor": 0,
       "model_id": "0e1b0313c53a4dfdaecd5b96acc892fd"
      }
     },
     "metadata": {},
     "output_type": "display_data"
    }
   ],
   "source": [
    "xgb_cw = mlflow.sklearn.load_model('runs:/b723baf0ee03493db8ac153265b5caf1/xgb_pipeline_class_weight')"
   ],
   "metadata": {
    "collapsed": false,
    "ExecuteTime": {
     "end_time": "2023-11-22T11:14:27.484118Z",
     "start_time": "2023-11-22T11:14:26.994618Z"
    }
   }
  },
  {
   "cell_type": "code",
   "execution_count": 31,
   "outputs": [
    {
     "name": "stdout",
     "output_type": "stream",
     "text": [
      "ROC-AUC score на тестовой выборке: 0.867781494900139\n"
     ]
    }
   ],
   "source": [
    "pred_proba_xgb_cw = xgb_cw.predict_proba(X_test)[:, 1]\n",
    "print('ROC-AUC score на тестовой выборке:', roc_auc_score(y_test, pred_proba_xgb_cw))"
   ],
   "metadata": {
    "collapsed": false,
    "ExecuteTime": {
     "end_time": "2023-11-22T11:15:07.252703100Z",
     "start_time": "2023-11-22T11:15:07.005913100Z"
    }
   }
  },
  {
   "cell_type": "code",
   "execution_count": 32,
   "outputs": [
    {
     "data": {
      "text/plain": "Downloading artifacts:   0%|          | 0/5 [00:00<?, ?it/s]",
      "application/vnd.jupyter.widget-view+json": {
       "version_major": 2,
       "version_minor": 0,
       "model_id": "a9cb026c8ab34a94840be0598521c959"
      }
     },
     "metadata": {},
     "output_type": "display_data"
    }
   ],
   "source": [
    "rf_cw = mlflow.sklearn.load_model('runs:/bd6c0cd0b02345938e85dfbc193279aa/rf_pipeline_class_weight')"
   ],
   "metadata": {
    "collapsed": false,
    "ExecuteTime": {
     "end_time": "2023-11-22T11:15:57.118083Z",
     "start_time": "2023-11-22T11:15:53.462313500Z"
    }
   }
  },
  {
   "cell_type": "code",
   "execution_count": 33,
   "outputs": [
    {
     "name": "stdout",
     "output_type": "stream",
     "text": [
      "ROC-AUC score на тестовой выборке: 0.8702971075852433\n"
     ]
    }
   ],
   "source": [
    "pred_proba_rf_cw = rf_cw.predict_proba(X_test)[:, 1]\n",
    "print('ROC-AUC score на тестовой выборке:', roc_auc_score(y_test, pred_proba_rf_cw))"
   ],
   "metadata": {
    "collapsed": false,
    "ExecuteTime": {
     "end_time": "2023-11-22T11:16:21.327321100Z",
     "start_time": "2023-11-22T11:16:21.094561600Z"
    }
   }
  },
  {
   "cell_type": "code",
   "execution_count": 34,
   "outputs": [
    {
     "data": {
      "text/plain": "Downloading artifacts:   0%|          | 0/5 [00:00<?, ?it/s]",
      "application/vnd.jupyter.widget-view+json": {
       "version_major": 2,
       "version_minor": 0,
       "model_id": "98b2a012f64f41029088d6890ff157ab"
      }
     },
     "metadata": {},
     "output_type": "display_data"
    }
   ],
   "source": [
    "lr_cw = mlflow.sklearn.load_model('runs:/aae3a9d0059a460b85f1bfb51fc7dbd3/log_reg_pipeline_class_weight')"
   ],
   "metadata": {
    "collapsed": false,
    "ExecuteTime": {
     "end_time": "2023-11-22T11:17:17.321291300Z",
     "start_time": "2023-11-22T11:17:16.797132100Z"
    }
   }
  },
  {
   "cell_type": "code",
   "execution_count": 35,
   "outputs": [
    {
     "name": "stdout",
     "output_type": "stream",
     "text": [
      "ROC-AUC score на тестовой выборке: 0.7885512631275343\n"
     ]
    }
   ],
   "source": [
    "pred_proba_lr_cw = lr_cw.predict_proba(X_test)[:, 1]\n",
    "print('ROC-AUC score на тестовой выборке:', roc_auc_score(y_test, pred_proba_lr_cw))"
   ],
   "metadata": {
    "collapsed": false,
    "ExecuteTime": {
     "end_time": "2023-11-22T11:17:44.113245500Z",
     "start_time": "2023-11-22T11:17:43.949999500Z"
    }
   }
  },
  {
   "cell_type": "code",
   "execution_count": 42,
   "outputs": [
    {
     "data": {
      "text/plain": "Downloading artifacts:   0%|          | 0/5 [00:00<?, ?it/s]",
      "application/vnd.jupyter.widget-view+json": {
       "version_major": 2,
       "version_minor": 0,
       "model_id": "880b59ff0efe446db513ae5722eb3dbb"
      }
     },
     "metadata": {},
     "output_type": "display_data"
    }
   ],
   "source": [
    "svc_cw = mlflow.sklearn.load_model('runs:/0fdac9a68ae348a388647a10d6507edb/svc_pipeline_class_weight')"
   ],
   "metadata": {
    "collapsed": false,
    "ExecuteTime": {
     "end_time": "2023-11-22T11:19:47.474242700Z",
     "start_time": "2023-11-22T11:19:46.766132Z"
    }
   }
  },
  {
   "cell_type": "code",
   "execution_count": 43,
   "outputs": [
    {
     "ename": "AttributeError",
     "evalue": "predict_proba is not available when probability=False",
     "output_type": "error",
     "traceback": [
      "\u001B[1;31m---------------------------------------------------------------------------\u001B[0m",
      "\u001B[1;31mAttributeError\u001B[0m                            Traceback (most recent call last)",
      "Cell \u001B[1;32mIn[43], line 1\u001B[0m\n\u001B[1;32m----> 1\u001B[0m pred_proba_svc_cw \u001B[38;5;241m=\u001B[39m \u001B[43msvc_cw\u001B[49m\u001B[38;5;241;43m.\u001B[39;49m\u001B[43mpredict_proba\u001B[49m(X_test)[:, \u001B[38;5;241m1\u001B[39m]\n\u001B[0;32m      2\u001B[0m \u001B[38;5;28mprint\u001B[39m(\u001B[38;5;124m'\u001B[39m\u001B[38;5;124mROC-AUC score на тестовой выборке:\u001B[39m\u001B[38;5;124m'\u001B[39m, roc_auc_score(y_test, pred_proba_svc_cw))\n",
      "File \u001B[1;32m~\\anaconda3\\envs\\Bank_Churn_Prediction\\lib\\site-packages\\sklearn\\utils\\_available_if.py:31\u001B[0m, in \u001B[0;36m_AvailableIfDescriptor.__get__\u001B[1;34m(self, obj, owner)\u001B[0m\n\u001B[0;32m     25\u001B[0m attr_err \u001B[38;5;241m=\u001B[39m \u001B[38;5;167;01mAttributeError\u001B[39;00m(\n\u001B[0;32m     26\u001B[0m     \u001B[38;5;124mf\u001B[39m\u001B[38;5;124m\"\u001B[39m\u001B[38;5;124mThis \u001B[39m\u001B[38;5;132;01m{\u001B[39;00m\u001B[38;5;28mrepr\u001B[39m(owner\u001B[38;5;241m.\u001B[39m\u001B[38;5;18m__name__\u001B[39m)\u001B[38;5;132;01m}\u001B[39;00m\u001B[38;5;124m has no attribute \u001B[39m\u001B[38;5;132;01m{\u001B[39;00m\u001B[38;5;28mrepr\u001B[39m(\u001B[38;5;28mself\u001B[39m\u001B[38;5;241m.\u001B[39mattribute_name)\u001B[38;5;132;01m}\u001B[39;00m\u001B[38;5;124m\"\u001B[39m\n\u001B[0;32m     27\u001B[0m )\n\u001B[0;32m     28\u001B[0m \u001B[38;5;28;01mif\u001B[39;00m obj \u001B[38;5;129;01mis\u001B[39;00m \u001B[38;5;129;01mnot\u001B[39;00m \u001B[38;5;28;01mNone\u001B[39;00m:\n\u001B[0;32m     29\u001B[0m     \u001B[38;5;66;03m# delegate only on instances, not the classes.\u001B[39;00m\n\u001B[0;32m     30\u001B[0m     \u001B[38;5;66;03m# this is to allow access to the docstrings.\u001B[39;00m\n\u001B[1;32m---> 31\u001B[0m     \u001B[38;5;28;01mif\u001B[39;00m \u001B[38;5;129;01mnot\u001B[39;00m \u001B[38;5;28;43mself\u001B[39;49m\u001B[38;5;241;43m.\u001B[39;49m\u001B[43mcheck\u001B[49m\u001B[43m(\u001B[49m\u001B[43mobj\u001B[49m\u001B[43m)\u001B[49m:\n\u001B[0;32m     32\u001B[0m         \u001B[38;5;28;01mraise\u001B[39;00m attr_err\n\u001B[0;32m     33\u001B[0m     out \u001B[38;5;241m=\u001B[39m MethodType(\u001B[38;5;28mself\u001B[39m\u001B[38;5;241m.\u001B[39mfn, obj)\n",
      "File \u001B[1;32m~\\anaconda3\\envs\\Bank_Churn_Prediction\\lib\\site-packages\\sklearn\\pipeline.py:44\u001B[0m, in \u001B[0;36m_final_estimator_has.<locals>.check\u001B[1;34m(self)\u001B[0m\n\u001B[0;32m     42\u001B[0m \u001B[38;5;28;01mdef\u001B[39;00m \u001B[38;5;21mcheck\u001B[39m(\u001B[38;5;28mself\u001B[39m):\n\u001B[0;32m     43\u001B[0m     \u001B[38;5;66;03m# raise original `AttributeError` if `attr` does not exist\u001B[39;00m\n\u001B[1;32m---> 44\u001B[0m     \u001B[38;5;28;43mgetattr\u001B[39;49m\u001B[43m(\u001B[49m\u001B[38;5;28;43mself\u001B[39;49m\u001B[38;5;241;43m.\u001B[39;49m\u001B[43m_final_estimator\u001B[49m\u001B[43m,\u001B[49m\u001B[43m \u001B[49m\u001B[43mattr\u001B[49m\u001B[43m)\u001B[49m\n\u001B[0;32m     45\u001B[0m     \u001B[38;5;28;01mreturn\u001B[39;00m \u001B[38;5;28;01mTrue\u001B[39;00m\n",
      "File \u001B[1;32m~\\anaconda3\\envs\\Bank_Churn_Prediction\\lib\\site-packages\\sklearn\\utils\\_available_if.py:31\u001B[0m, in \u001B[0;36m_AvailableIfDescriptor.__get__\u001B[1;34m(self, obj, owner)\u001B[0m\n\u001B[0;32m     25\u001B[0m attr_err \u001B[38;5;241m=\u001B[39m \u001B[38;5;167;01mAttributeError\u001B[39;00m(\n\u001B[0;32m     26\u001B[0m     \u001B[38;5;124mf\u001B[39m\u001B[38;5;124m\"\u001B[39m\u001B[38;5;124mThis \u001B[39m\u001B[38;5;132;01m{\u001B[39;00m\u001B[38;5;28mrepr\u001B[39m(owner\u001B[38;5;241m.\u001B[39m\u001B[38;5;18m__name__\u001B[39m)\u001B[38;5;132;01m}\u001B[39;00m\u001B[38;5;124m has no attribute \u001B[39m\u001B[38;5;132;01m{\u001B[39;00m\u001B[38;5;28mrepr\u001B[39m(\u001B[38;5;28mself\u001B[39m\u001B[38;5;241m.\u001B[39mattribute_name)\u001B[38;5;132;01m}\u001B[39;00m\u001B[38;5;124m\"\u001B[39m\n\u001B[0;32m     27\u001B[0m )\n\u001B[0;32m     28\u001B[0m \u001B[38;5;28;01mif\u001B[39;00m obj \u001B[38;5;129;01mis\u001B[39;00m \u001B[38;5;129;01mnot\u001B[39;00m \u001B[38;5;28;01mNone\u001B[39;00m:\n\u001B[0;32m     29\u001B[0m     \u001B[38;5;66;03m# delegate only on instances, not the classes.\u001B[39;00m\n\u001B[0;32m     30\u001B[0m     \u001B[38;5;66;03m# this is to allow access to the docstrings.\u001B[39;00m\n\u001B[1;32m---> 31\u001B[0m     \u001B[38;5;28;01mif\u001B[39;00m \u001B[38;5;129;01mnot\u001B[39;00m \u001B[38;5;28;43mself\u001B[39;49m\u001B[38;5;241;43m.\u001B[39;49m\u001B[43mcheck\u001B[49m\u001B[43m(\u001B[49m\u001B[43mobj\u001B[49m\u001B[43m)\u001B[49m:\n\u001B[0;32m     32\u001B[0m         \u001B[38;5;28;01mraise\u001B[39;00m attr_err\n\u001B[0;32m     33\u001B[0m     out \u001B[38;5;241m=\u001B[39m MethodType(\u001B[38;5;28mself\u001B[39m\u001B[38;5;241m.\u001B[39mfn, obj)\n",
      "File \u001B[1;32m~\\anaconda3\\envs\\Bank_Churn_Prediction\\lib\\site-packages\\sklearn\\svm\\_base.py:827\u001B[0m, in \u001B[0;36mBaseSVC._check_proba\u001B[1;34m(self)\u001B[0m\n\u001B[0;32m    825\u001B[0m \u001B[38;5;28;01mdef\u001B[39;00m \u001B[38;5;21m_check_proba\u001B[39m(\u001B[38;5;28mself\u001B[39m):\n\u001B[0;32m    826\u001B[0m     \u001B[38;5;28;01mif\u001B[39;00m \u001B[38;5;129;01mnot\u001B[39;00m \u001B[38;5;28mself\u001B[39m\u001B[38;5;241m.\u001B[39mprobability:\n\u001B[1;32m--> 827\u001B[0m         \u001B[38;5;28;01mraise\u001B[39;00m \u001B[38;5;167;01mAttributeError\u001B[39;00m(\n\u001B[0;32m    828\u001B[0m             \u001B[38;5;124m\"\u001B[39m\u001B[38;5;124mpredict_proba is not available when probability=False\u001B[39m\u001B[38;5;124m\"\u001B[39m\n\u001B[0;32m    829\u001B[0m         )\n\u001B[0;32m    830\u001B[0m     \u001B[38;5;28;01mif\u001B[39;00m \u001B[38;5;28mself\u001B[39m\u001B[38;5;241m.\u001B[39m_impl \u001B[38;5;129;01mnot\u001B[39;00m \u001B[38;5;129;01min\u001B[39;00m (\u001B[38;5;124m\"\u001B[39m\u001B[38;5;124mc_svc\u001B[39m\u001B[38;5;124m\"\u001B[39m, \u001B[38;5;124m\"\u001B[39m\u001B[38;5;124mnu_svc\u001B[39m\u001B[38;5;124m\"\u001B[39m):\n\u001B[0;32m    831\u001B[0m         \u001B[38;5;28;01mraise\u001B[39;00m \u001B[38;5;167;01mAttributeError\u001B[39;00m(\u001B[38;5;124m\"\u001B[39m\u001B[38;5;124mpredict_proba only implemented for SVC and NuSVC\u001B[39m\u001B[38;5;124m\"\u001B[39m)\n",
      "\u001B[1;31mAttributeError\u001B[0m: predict_proba is not available when probability=False"
     ]
    }
   ],
   "source": [
    "pred_proba_svc_cw = svc_cw.predict_proba(X_test)[:, 1]\n",
    "print('ROC-AUC score на тестовой выборке:', roc_auc_score(y_test, pred_proba_svc_cw))"
   ],
   "metadata": {
    "collapsed": false,
    "ExecuteTime": {
     "end_time": "2023-11-22T11:19:48.926071900Z",
     "start_time": "2023-11-22T11:19:48.794591400Z"
    }
   }
  },
  {
   "cell_type": "code",
   "execution_count": 44,
   "outputs": [
    {
     "data": {
      "text/plain": "Downloading artifacts:   0%|          | 0/5 [00:00<?, ?it/s]",
      "application/vnd.jupyter.widget-view+json": {
       "version_major": 2,
       "version_minor": 0,
       "model_id": "4ff34f771d484659aec87791dbab2c1c"
      }
     },
     "metadata": {},
     "output_type": "display_data"
    }
   ],
   "source": [
    "xgb_smote = mlflow.sklearn.load_model('runs:/0e388b6d46cb442780f28cb35f4e82e1/xgb_pipeline_smote')"
   ],
   "metadata": {
    "collapsed": false,
    "ExecuteTime": {
     "end_time": "2023-11-22T11:21:00.024363Z",
     "start_time": "2023-11-22T11:20:59.571528400Z"
    }
   }
  },
  {
   "cell_type": "code",
   "execution_count": 45,
   "outputs": [
    {
     "name": "stdout",
     "output_type": "stream",
     "text": [
      "ROC-AUC score на тестовой выборке: 0.864531711989339\n"
     ]
    }
   ],
   "source": [
    "pred_proba_xgb_smote = xgb_smote.predict_proba(X_test)[:, 1]\n",
    "print('ROC-AUC score на тестовой выборке:', roc_auc_score(y_test, pred_proba_xgb_smote))"
   ],
   "metadata": {
    "collapsed": false,
    "ExecuteTime": {
     "end_time": "2023-11-22T11:21:38.240412900Z",
     "start_time": "2023-11-22T11:21:38.093516400Z"
    }
   }
  },
  {
   "cell_type": "code",
   "execution_count": 46,
   "outputs": [
    {
     "data": {
      "text/plain": "Downloading artifacts:   0%|          | 0/5 [00:00<?, ?it/s]",
      "application/vnd.jupyter.widget-view+json": {
       "version_major": 2,
       "version_minor": 0,
       "model_id": "24f4cacf29e048908e8e89899d42f488"
      }
     },
     "metadata": {},
     "output_type": "display_data"
    }
   ],
   "source": [
    "rf_smote = mlflow.sklearn.load_model('runs:/22ced2eb52fd4c988ec63415190852d2/rf_pipeline_smote')"
   ],
   "metadata": {
    "collapsed": false,
    "ExecuteTime": {
     "end_time": "2023-11-22T11:22:15.718401600Z",
     "start_time": "2023-11-22T11:22:12.821031200Z"
    }
   }
  },
  {
   "cell_type": "code",
   "execution_count": 47,
   "outputs": [
    {
     "name": "stdout",
     "output_type": "stream",
     "text": [
      "ROC-AUC score на тестовой выборке: 0.8627039982972187\n"
     ]
    }
   ],
   "source": [
    "pred_proba_rf_smote = rf_smote.predict_proba(X_test)[:, 1]\n",
    "print('ROC-AUC score на тестовой выборке:', roc_auc_score(y_test, pred_proba_rf_smote))"
   ],
   "metadata": {
    "collapsed": false,
    "ExecuteTime": {
     "end_time": "2023-11-22T11:22:36.555251200Z",
     "start_time": "2023-11-22T11:22:36.365049700Z"
    }
   }
  },
  {
   "cell_type": "code",
   "execution_count": 48,
   "outputs": [
    {
     "data": {
      "text/plain": "Downloading artifacts:   0%|          | 0/5 [00:00<?, ?it/s]",
      "application/vnd.jupyter.widget-view+json": {
       "version_major": 2,
       "version_minor": 0,
       "model_id": "0a6d07abc7cb4f18bb60d0d72c08fab6"
      }
     },
     "metadata": {},
     "output_type": "display_data"
    }
   ],
   "source": [
    "lr_smote = mlflow.sklearn.load_model('runs:/fe00761f7293499a91d52a349b7b7a29/log_reg_pipeline_smote')"
   ],
   "metadata": {
    "collapsed": false,
    "ExecuteTime": {
     "end_time": "2023-11-22T11:23:22.484430800Z",
     "start_time": "2023-11-22T11:23:21.940359100Z"
    }
   }
  },
  {
   "cell_type": "code",
   "execution_count": 49,
   "outputs": [
    {
     "name": "stdout",
     "output_type": "stream",
     "text": [
      "ROC-AUC score на тестовой выборке: 0.7877723640435506\n"
     ]
    }
   ],
   "source": [
    "pred_proba_lr_smote = lr_smote.predict_proba(X_test)[:, 1]\n",
    "print('ROC-AUC score на тестовой выборке:', roc_auc_score(y_test, pred_proba_lr_smote))"
   ],
   "metadata": {
    "collapsed": false,
    "ExecuteTime": {
     "end_time": "2023-11-22T11:24:13.758301700Z",
     "start_time": "2023-11-22T11:24:13.619492600Z"
    }
   }
  },
  {
   "cell_type": "code",
   "execution_count": 50,
   "outputs": [
    {
     "data": {
      "text/plain": "Downloading artifacts:   0%|          | 0/5 [00:00<?, ?it/s]",
      "application/vnd.jupyter.widget-view+json": {
       "version_major": 2,
       "version_minor": 0,
       "model_id": "352b47b5fa4c499ba31a5b3cbdd02ec1"
      }
     },
     "metadata": {},
     "output_type": "display_data"
    }
   ],
   "source": [
    "svc_smote = mlflow.sklearn.load_model('runs:/74a6c4d491e14ed291a5ac2e4789d489/svc_pipeline_smote')"
   ],
   "metadata": {
    "collapsed": false,
    "ExecuteTime": {
     "end_time": "2023-11-22T11:24:43.120720600Z",
     "start_time": "2023-11-22T11:24:42.652631500Z"
    }
   }
  },
  {
   "cell_type": "code",
   "execution_count": 51,
   "outputs": [
    {
     "ename": "AttributeError",
     "evalue": "predict_proba is not available when probability=False",
     "output_type": "error",
     "traceback": [
      "\u001B[1;31m---------------------------------------------------------------------------\u001B[0m",
      "\u001B[1;31mAttributeError\u001B[0m                            Traceback (most recent call last)",
      "Cell \u001B[1;32mIn[51], line 1\u001B[0m\n\u001B[1;32m----> 1\u001B[0m pred_proba_svc_smote \u001B[38;5;241m=\u001B[39m \u001B[43msvc_smote\u001B[49m\u001B[38;5;241;43m.\u001B[39;49m\u001B[43mpredict_proba\u001B[49m(X_test)[:, \u001B[38;5;241m1\u001B[39m]\n\u001B[0;32m      2\u001B[0m \u001B[38;5;28mprint\u001B[39m(\u001B[38;5;124m'\u001B[39m\u001B[38;5;124mROC-AUC score на тестовой выборке:\u001B[39m\u001B[38;5;124m'\u001B[39m, roc_auc_score(y_test, pred_proba_svc_smote))\n",
      "File \u001B[1;32m~\\anaconda3\\envs\\Bank_Churn_Prediction\\lib\\site-packages\\sklearn\\utils\\_available_if.py:31\u001B[0m, in \u001B[0;36m_AvailableIfDescriptor.__get__\u001B[1;34m(self, obj, owner)\u001B[0m\n\u001B[0;32m     25\u001B[0m attr_err \u001B[38;5;241m=\u001B[39m \u001B[38;5;167;01mAttributeError\u001B[39;00m(\n\u001B[0;32m     26\u001B[0m     \u001B[38;5;124mf\u001B[39m\u001B[38;5;124m\"\u001B[39m\u001B[38;5;124mThis \u001B[39m\u001B[38;5;132;01m{\u001B[39;00m\u001B[38;5;28mrepr\u001B[39m(owner\u001B[38;5;241m.\u001B[39m\u001B[38;5;18m__name__\u001B[39m)\u001B[38;5;132;01m}\u001B[39;00m\u001B[38;5;124m has no attribute \u001B[39m\u001B[38;5;132;01m{\u001B[39;00m\u001B[38;5;28mrepr\u001B[39m(\u001B[38;5;28mself\u001B[39m\u001B[38;5;241m.\u001B[39mattribute_name)\u001B[38;5;132;01m}\u001B[39;00m\u001B[38;5;124m\"\u001B[39m\n\u001B[0;32m     27\u001B[0m )\n\u001B[0;32m     28\u001B[0m \u001B[38;5;28;01mif\u001B[39;00m obj \u001B[38;5;129;01mis\u001B[39;00m \u001B[38;5;129;01mnot\u001B[39;00m \u001B[38;5;28;01mNone\u001B[39;00m:\n\u001B[0;32m     29\u001B[0m     \u001B[38;5;66;03m# delegate only on instances, not the classes.\u001B[39;00m\n\u001B[0;32m     30\u001B[0m     \u001B[38;5;66;03m# this is to allow access to the docstrings.\u001B[39;00m\n\u001B[1;32m---> 31\u001B[0m     \u001B[38;5;28;01mif\u001B[39;00m \u001B[38;5;129;01mnot\u001B[39;00m \u001B[38;5;28;43mself\u001B[39;49m\u001B[38;5;241;43m.\u001B[39;49m\u001B[43mcheck\u001B[49m\u001B[43m(\u001B[49m\u001B[43mobj\u001B[49m\u001B[43m)\u001B[49m:\n\u001B[0;32m     32\u001B[0m         \u001B[38;5;28;01mraise\u001B[39;00m attr_err\n\u001B[0;32m     33\u001B[0m     out \u001B[38;5;241m=\u001B[39m MethodType(\u001B[38;5;28mself\u001B[39m\u001B[38;5;241m.\u001B[39mfn, obj)\n",
      "File \u001B[1;32m~\\anaconda3\\envs\\Bank_Churn_Prediction\\lib\\site-packages\\sklearn\\pipeline.py:44\u001B[0m, in \u001B[0;36m_final_estimator_has.<locals>.check\u001B[1;34m(self)\u001B[0m\n\u001B[0;32m     42\u001B[0m \u001B[38;5;28;01mdef\u001B[39;00m \u001B[38;5;21mcheck\u001B[39m(\u001B[38;5;28mself\u001B[39m):\n\u001B[0;32m     43\u001B[0m     \u001B[38;5;66;03m# raise original `AttributeError` if `attr` does not exist\u001B[39;00m\n\u001B[1;32m---> 44\u001B[0m     \u001B[38;5;28;43mgetattr\u001B[39;49m\u001B[43m(\u001B[49m\u001B[38;5;28;43mself\u001B[39;49m\u001B[38;5;241;43m.\u001B[39;49m\u001B[43m_final_estimator\u001B[49m\u001B[43m,\u001B[49m\u001B[43m \u001B[49m\u001B[43mattr\u001B[49m\u001B[43m)\u001B[49m\n\u001B[0;32m     45\u001B[0m     \u001B[38;5;28;01mreturn\u001B[39;00m \u001B[38;5;28;01mTrue\u001B[39;00m\n",
      "File \u001B[1;32m~\\anaconda3\\envs\\Bank_Churn_Prediction\\lib\\site-packages\\sklearn\\utils\\_available_if.py:31\u001B[0m, in \u001B[0;36m_AvailableIfDescriptor.__get__\u001B[1;34m(self, obj, owner)\u001B[0m\n\u001B[0;32m     25\u001B[0m attr_err \u001B[38;5;241m=\u001B[39m \u001B[38;5;167;01mAttributeError\u001B[39;00m(\n\u001B[0;32m     26\u001B[0m     \u001B[38;5;124mf\u001B[39m\u001B[38;5;124m\"\u001B[39m\u001B[38;5;124mThis \u001B[39m\u001B[38;5;132;01m{\u001B[39;00m\u001B[38;5;28mrepr\u001B[39m(owner\u001B[38;5;241m.\u001B[39m\u001B[38;5;18m__name__\u001B[39m)\u001B[38;5;132;01m}\u001B[39;00m\u001B[38;5;124m has no attribute \u001B[39m\u001B[38;5;132;01m{\u001B[39;00m\u001B[38;5;28mrepr\u001B[39m(\u001B[38;5;28mself\u001B[39m\u001B[38;5;241m.\u001B[39mattribute_name)\u001B[38;5;132;01m}\u001B[39;00m\u001B[38;5;124m\"\u001B[39m\n\u001B[0;32m     27\u001B[0m )\n\u001B[0;32m     28\u001B[0m \u001B[38;5;28;01mif\u001B[39;00m obj \u001B[38;5;129;01mis\u001B[39;00m \u001B[38;5;129;01mnot\u001B[39;00m \u001B[38;5;28;01mNone\u001B[39;00m:\n\u001B[0;32m     29\u001B[0m     \u001B[38;5;66;03m# delegate only on instances, not the classes.\u001B[39;00m\n\u001B[0;32m     30\u001B[0m     \u001B[38;5;66;03m# this is to allow access to the docstrings.\u001B[39;00m\n\u001B[1;32m---> 31\u001B[0m     \u001B[38;5;28;01mif\u001B[39;00m \u001B[38;5;129;01mnot\u001B[39;00m \u001B[38;5;28;43mself\u001B[39;49m\u001B[38;5;241;43m.\u001B[39;49m\u001B[43mcheck\u001B[49m\u001B[43m(\u001B[49m\u001B[43mobj\u001B[49m\u001B[43m)\u001B[49m:\n\u001B[0;32m     32\u001B[0m         \u001B[38;5;28;01mraise\u001B[39;00m attr_err\n\u001B[0;32m     33\u001B[0m     out \u001B[38;5;241m=\u001B[39m MethodType(\u001B[38;5;28mself\u001B[39m\u001B[38;5;241m.\u001B[39mfn, obj)\n",
      "File \u001B[1;32m~\\anaconda3\\envs\\Bank_Churn_Prediction\\lib\\site-packages\\sklearn\\svm\\_base.py:827\u001B[0m, in \u001B[0;36mBaseSVC._check_proba\u001B[1;34m(self)\u001B[0m\n\u001B[0;32m    825\u001B[0m \u001B[38;5;28;01mdef\u001B[39;00m \u001B[38;5;21m_check_proba\u001B[39m(\u001B[38;5;28mself\u001B[39m):\n\u001B[0;32m    826\u001B[0m     \u001B[38;5;28;01mif\u001B[39;00m \u001B[38;5;129;01mnot\u001B[39;00m \u001B[38;5;28mself\u001B[39m\u001B[38;5;241m.\u001B[39mprobability:\n\u001B[1;32m--> 827\u001B[0m         \u001B[38;5;28;01mraise\u001B[39;00m \u001B[38;5;167;01mAttributeError\u001B[39;00m(\n\u001B[0;32m    828\u001B[0m             \u001B[38;5;124m\"\u001B[39m\u001B[38;5;124mpredict_proba is not available when probability=False\u001B[39m\u001B[38;5;124m\"\u001B[39m\n\u001B[0;32m    829\u001B[0m         )\n\u001B[0;32m    830\u001B[0m     \u001B[38;5;28;01mif\u001B[39;00m \u001B[38;5;28mself\u001B[39m\u001B[38;5;241m.\u001B[39m_impl \u001B[38;5;129;01mnot\u001B[39;00m \u001B[38;5;129;01min\u001B[39;00m (\u001B[38;5;124m\"\u001B[39m\u001B[38;5;124mc_svc\u001B[39m\u001B[38;5;124m\"\u001B[39m, \u001B[38;5;124m\"\u001B[39m\u001B[38;5;124mnu_svc\u001B[39m\u001B[38;5;124m\"\u001B[39m):\n\u001B[0;32m    831\u001B[0m         \u001B[38;5;28;01mraise\u001B[39;00m \u001B[38;5;167;01mAttributeError\u001B[39;00m(\u001B[38;5;124m\"\u001B[39m\u001B[38;5;124mpredict_proba only implemented for SVC and NuSVC\u001B[39m\u001B[38;5;124m\"\u001B[39m)\n",
      "\u001B[1;31mAttributeError\u001B[0m: predict_proba is not available when probability=False"
     ]
    }
   ],
   "source": [
    "pred_proba_svc_smote = svc_smote.predict_proba(X_test)[:, 1]\n",
    "print('ROC-AUC score на тестовой выборке:', roc_auc_score(y_test, pred_proba_svc_smote))"
   ],
   "metadata": {
    "collapsed": false,
    "ExecuteTime": {
     "end_time": "2023-11-22T11:25:04.145532800Z",
     "start_time": "2023-11-22T11:25:03.935955700Z"
    }
   }
  },
  {
   "cell_type": "markdown",
   "source": [
    "# 4. Тестирование лучшей модели\n"
   ],
   "metadata": {
    "collapsed": false
   }
  },
  {
   "cell_type": "code",
   "execution_count": 24,
   "outputs": [
    {
     "data": {
      "text/plain": "Downloading artifacts:   0%|          | 0/5 [00:00<?, ?it/s]",
      "application/vnd.jupyter.widget-view+json": {
       "version_major": 2,
       "version_minor": 0,
       "model_id": "12212c9c46ba484a989c01db84bb42cb"
      }
     },
     "metadata": {},
     "output_type": "display_data"
    }
   ],
   "source": [
    "best_model = mlflow.sklearn.load_model('runs:/0e388b6d46cb442780f28cb35f4e82e1/xgb_pipeline_smote')"
   ],
   "metadata": {
    "collapsed": false,
    "ExecuteTime": {
     "end_time": "2023-11-22T11:01:47.935764900Z",
     "start_time": "2023-11-22T11:01:45.797626200Z"
    }
   }
  },
  {
   "cell_type": "code",
   "execution_count": 25,
   "outputs": [
    {
     "data": {
      "text/plain": "Pipeline(steps=[('preprocessor',\n                 ColumnTransformer(remainder='passthrough',\n                                   transformers=[('cat',\n                                                  Pipeline(steps=[('enc',\n                                                                   OneHotEncoder(drop='first'))]),\n                                                  ['Geography', 'Gender']),\n                                                 ('num',\n                                                  Pipeline(steps=[('imp',\n                                                                   SimpleImputer(add_indicator=True,\n                                                                                 fill_value=-1)),\n                                                                  ('pt',\n                                                                   PowerTransformer())]),\n                                                  ['Balance', 'NumOfProducts',\n                                                   'Age', 'EstimatedSalary',\n                                                   'Tenure',\n                                                   'CreditSco...\n                               feature_types=None, gamma=None, grow_policy=None,\n                               importance_type=None,\n                               interaction_constraints=None, learning_rate=None,\n                               max_bin=None, max_cat_threshold=None,\n                               max_cat_to_onehot=None, max_delta_step=None,\n                               max_depth=3, max_leaves=None,\n                               min_child_weight=None, missing=nan,\n                               monotone_constraints=None, multi_strategy=None,\n                               n_estimators=131, n_jobs=None,\n                               num_parallel_tree=None, ...))])",
      "text/html": "<style>#sk-container-id-1 {color: black;}#sk-container-id-1 pre{padding: 0;}#sk-container-id-1 div.sk-toggleable {background-color: white;}#sk-container-id-1 label.sk-toggleable__label {cursor: pointer;display: block;width: 100%;margin-bottom: 0;padding: 0.3em;box-sizing: border-box;text-align: center;}#sk-container-id-1 label.sk-toggleable__label-arrow:before {content: \"▸\";float: left;margin-right: 0.25em;color: #696969;}#sk-container-id-1 label.sk-toggleable__label-arrow:hover:before {color: black;}#sk-container-id-1 div.sk-estimator:hover label.sk-toggleable__label-arrow:before {color: black;}#sk-container-id-1 div.sk-toggleable__content {max-height: 0;max-width: 0;overflow: hidden;text-align: left;background-color: #f0f8ff;}#sk-container-id-1 div.sk-toggleable__content pre {margin: 0.2em;color: black;border-radius: 0.25em;background-color: #f0f8ff;}#sk-container-id-1 input.sk-toggleable__control:checked~div.sk-toggleable__content {max-height: 200px;max-width: 100%;overflow: auto;}#sk-container-id-1 input.sk-toggleable__control:checked~label.sk-toggleable__label-arrow:before {content: \"▾\";}#sk-container-id-1 div.sk-estimator input.sk-toggleable__control:checked~label.sk-toggleable__label {background-color: #d4ebff;}#sk-container-id-1 div.sk-label input.sk-toggleable__control:checked~label.sk-toggleable__label {background-color: #d4ebff;}#sk-container-id-1 input.sk-hidden--visually {border: 0;clip: rect(1px 1px 1px 1px);clip: rect(1px, 1px, 1px, 1px);height: 1px;margin: -1px;overflow: hidden;padding: 0;position: absolute;width: 1px;}#sk-container-id-1 div.sk-estimator {font-family: monospace;background-color: #f0f8ff;border: 1px dotted black;border-radius: 0.25em;box-sizing: border-box;margin-bottom: 0.5em;}#sk-container-id-1 div.sk-estimator:hover {background-color: #d4ebff;}#sk-container-id-1 div.sk-parallel-item::after {content: \"\";width: 100%;border-bottom: 1px solid gray;flex-grow: 1;}#sk-container-id-1 div.sk-label:hover label.sk-toggleable__label {background-color: #d4ebff;}#sk-container-id-1 div.sk-serial::before {content: \"\";position: absolute;border-left: 1px solid gray;box-sizing: border-box;top: 0;bottom: 0;left: 50%;z-index: 0;}#sk-container-id-1 div.sk-serial {display: flex;flex-direction: column;align-items: center;background-color: white;padding-right: 0.2em;padding-left: 0.2em;position: relative;}#sk-container-id-1 div.sk-item {position: relative;z-index: 1;}#sk-container-id-1 div.sk-parallel {display: flex;align-items: stretch;justify-content: center;background-color: white;position: relative;}#sk-container-id-1 div.sk-item::before, #sk-container-id-1 div.sk-parallel-item::before {content: \"\";position: absolute;border-left: 1px solid gray;box-sizing: border-box;top: 0;bottom: 0;left: 50%;z-index: -1;}#sk-container-id-1 div.sk-parallel-item {display: flex;flex-direction: column;z-index: 1;position: relative;background-color: white;}#sk-container-id-1 div.sk-parallel-item:first-child::after {align-self: flex-end;width: 50%;}#sk-container-id-1 div.sk-parallel-item:last-child::after {align-self: flex-start;width: 50%;}#sk-container-id-1 div.sk-parallel-item:only-child::after {width: 0;}#sk-container-id-1 div.sk-dashed-wrapped {border: 1px dashed gray;margin: 0 0.4em 0.5em 0.4em;box-sizing: border-box;padding-bottom: 0.4em;background-color: white;}#sk-container-id-1 div.sk-label label {font-family: monospace;font-weight: bold;display: inline-block;line-height: 1.2em;}#sk-container-id-1 div.sk-label-container {text-align: center;}#sk-container-id-1 div.sk-container {/* jupyter's `normalize.less` sets `[hidden] { display: none; }` but bootstrap.min.css set `[hidden] { display: none !important; }` so we also need the `!important` here to be able to override the default hidden behavior on the sphinx rendered scikit-learn.org. See: https://github.com/scikit-learn/scikit-learn/issues/21755 */display: inline-block !important;position: relative;}#sk-container-id-1 div.sk-text-repr-fallback {display: none;}</style><div id=\"sk-container-id-1\" class=\"sk-top-container\"><div class=\"sk-text-repr-fallback\"><pre>Pipeline(steps=[(&#x27;preprocessor&#x27;,\n                 ColumnTransformer(remainder=&#x27;passthrough&#x27;,\n                                   transformers=[(&#x27;cat&#x27;,\n                                                  Pipeline(steps=[(&#x27;enc&#x27;,\n                                                                   OneHotEncoder(drop=&#x27;first&#x27;))]),\n                                                  [&#x27;Geography&#x27;, &#x27;Gender&#x27;]),\n                                                 (&#x27;num&#x27;,\n                                                  Pipeline(steps=[(&#x27;imp&#x27;,\n                                                                   SimpleImputer(add_indicator=True,\n                                                                                 fill_value=-1)),\n                                                                  (&#x27;pt&#x27;,\n                                                                   PowerTransformer())]),\n                                                  [&#x27;Balance&#x27;, &#x27;NumOfProducts&#x27;,\n                                                   &#x27;Age&#x27;, &#x27;EstimatedSalary&#x27;,\n                                                   &#x27;Tenure&#x27;,\n                                                   &#x27;CreditSco...\n                               feature_types=None, gamma=None, grow_policy=None,\n                               importance_type=None,\n                               interaction_constraints=None, learning_rate=None,\n                               max_bin=None, max_cat_threshold=None,\n                               max_cat_to_onehot=None, max_delta_step=None,\n                               max_depth=3, max_leaves=None,\n                               min_child_weight=None, missing=nan,\n                               monotone_constraints=None, multi_strategy=None,\n                               n_estimators=131, n_jobs=None,\n                               num_parallel_tree=None, ...))])</pre><b>In a Jupyter environment, please rerun this cell to show the HTML representation or trust the notebook. <br />On GitHub, the HTML representation is unable to render, please try loading this page with nbviewer.org.</b></div><div class=\"sk-container\" hidden><div class=\"sk-item sk-dashed-wrapped\"><div class=\"sk-label-container\"><div class=\"sk-label sk-toggleable\"><input class=\"sk-toggleable__control sk-hidden--visually\" id=\"sk-estimator-id-1\" type=\"checkbox\" ><label for=\"sk-estimator-id-1\" class=\"sk-toggleable__label sk-toggleable__label-arrow\">Pipeline</label><div class=\"sk-toggleable__content\"><pre>Pipeline(steps=[(&#x27;preprocessor&#x27;,\n                 ColumnTransformer(remainder=&#x27;passthrough&#x27;,\n                                   transformers=[(&#x27;cat&#x27;,\n                                                  Pipeline(steps=[(&#x27;enc&#x27;,\n                                                                   OneHotEncoder(drop=&#x27;first&#x27;))]),\n                                                  [&#x27;Geography&#x27;, &#x27;Gender&#x27;]),\n                                                 (&#x27;num&#x27;,\n                                                  Pipeline(steps=[(&#x27;imp&#x27;,\n                                                                   SimpleImputer(add_indicator=True,\n                                                                                 fill_value=-1)),\n                                                                  (&#x27;pt&#x27;,\n                                                                   PowerTransformer())]),\n                                                  [&#x27;Balance&#x27;, &#x27;NumOfProducts&#x27;,\n                                                   &#x27;Age&#x27;, &#x27;EstimatedSalary&#x27;,\n                                                   &#x27;Tenure&#x27;,\n                                                   &#x27;CreditSco...\n                               feature_types=None, gamma=None, grow_policy=None,\n                               importance_type=None,\n                               interaction_constraints=None, learning_rate=None,\n                               max_bin=None, max_cat_threshold=None,\n                               max_cat_to_onehot=None, max_delta_step=None,\n                               max_depth=3, max_leaves=None,\n                               min_child_weight=None, missing=nan,\n                               monotone_constraints=None, multi_strategy=None,\n                               n_estimators=131, n_jobs=None,\n                               num_parallel_tree=None, ...))])</pre></div></div></div><div class=\"sk-serial\"><div class=\"sk-item sk-dashed-wrapped\"><div class=\"sk-label-container\"><div class=\"sk-label sk-toggleable\"><input class=\"sk-toggleable__control sk-hidden--visually\" id=\"sk-estimator-id-2\" type=\"checkbox\" ><label for=\"sk-estimator-id-2\" class=\"sk-toggleable__label sk-toggleable__label-arrow\">preprocessor: ColumnTransformer</label><div class=\"sk-toggleable__content\"><pre>ColumnTransformer(remainder=&#x27;passthrough&#x27;,\n                  transformers=[(&#x27;cat&#x27;,\n                                 Pipeline(steps=[(&#x27;enc&#x27;,\n                                                  OneHotEncoder(drop=&#x27;first&#x27;))]),\n                                 [&#x27;Geography&#x27;, &#x27;Gender&#x27;]),\n                                (&#x27;num&#x27;,\n                                 Pipeline(steps=[(&#x27;imp&#x27;,\n                                                  SimpleImputer(add_indicator=True,\n                                                                fill_value=-1)),\n                                                 (&#x27;pt&#x27;, PowerTransformer())]),\n                                 [&#x27;Balance&#x27;, &#x27;NumOfProducts&#x27;, &#x27;Age&#x27;,\n                                  &#x27;EstimatedSalary&#x27;, &#x27;Tenure&#x27;,\n                                  &#x27;CreditScore&#x27;])])</pre></div></div></div><div class=\"sk-parallel\"><div class=\"sk-parallel-item\"><div class=\"sk-item\"><div class=\"sk-label-container\"><div class=\"sk-label sk-toggleable\"><input class=\"sk-toggleable__control sk-hidden--visually\" id=\"sk-estimator-id-3\" type=\"checkbox\" ><label for=\"sk-estimator-id-3\" class=\"sk-toggleable__label sk-toggleable__label-arrow\">cat</label><div class=\"sk-toggleable__content\"><pre>[&#x27;Geography&#x27;, &#x27;Gender&#x27;]</pre></div></div></div><div class=\"sk-serial\"><div class=\"sk-item\"><div class=\"sk-serial\"><div class=\"sk-item\"><div class=\"sk-estimator sk-toggleable\"><input class=\"sk-toggleable__control sk-hidden--visually\" id=\"sk-estimator-id-4\" type=\"checkbox\" ><label for=\"sk-estimator-id-4\" class=\"sk-toggleable__label sk-toggleable__label-arrow\">OneHotEncoder</label><div class=\"sk-toggleable__content\"><pre>OneHotEncoder(drop=&#x27;first&#x27;)</pre></div></div></div></div></div></div></div></div><div class=\"sk-parallel-item\"><div class=\"sk-item\"><div class=\"sk-label-container\"><div class=\"sk-label sk-toggleable\"><input class=\"sk-toggleable__control sk-hidden--visually\" id=\"sk-estimator-id-5\" type=\"checkbox\" ><label for=\"sk-estimator-id-5\" class=\"sk-toggleable__label sk-toggleable__label-arrow\">num</label><div class=\"sk-toggleable__content\"><pre>[&#x27;Balance&#x27;, &#x27;NumOfProducts&#x27;, &#x27;Age&#x27;, &#x27;EstimatedSalary&#x27;, &#x27;Tenure&#x27;, &#x27;CreditScore&#x27;]</pre></div></div></div><div class=\"sk-serial\"><div class=\"sk-item\"><div class=\"sk-serial\"><div class=\"sk-item\"><div class=\"sk-estimator sk-toggleable\"><input class=\"sk-toggleable__control sk-hidden--visually\" id=\"sk-estimator-id-6\" type=\"checkbox\" ><label for=\"sk-estimator-id-6\" class=\"sk-toggleable__label sk-toggleable__label-arrow\">SimpleImputer</label><div class=\"sk-toggleable__content\"><pre>SimpleImputer(add_indicator=True, fill_value=-1)</pre></div></div></div><div class=\"sk-item\"><div class=\"sk-estimator sk-toggleable\"><input class=\"sk-toggleable__control sk-hidden--visually\" id=\"sk-estimator-id-7\" type=\"checkbox\" ><label for=\"sk-estimator-id-7\" class=\"sk-toggleable__label sk-toggleable__label-arrow\">PowerTransformer</label><div class=\"sk-toggleable__content\"><pre>PowerTransformer()</pre></div></div></div></div></div></div></div></div><div class=\"sk-parallel-item\"><div class=\"sk-item\"><div class=\"sk-label-container\"><div class=\"sk-label sk-toggleable\"><input class=\"sk-toggleable__control sk-hidden--visually\" id=\"sk-estimator-id-8\" type=\"checkbox\" ><label for=\"sk-estimator-id-8\" class=\"sk-toggleable__label sk-toggleable__label-arrow\">remainder</label><div class=\"sk-toggleable__content\"><pre>[&#x27;HasCrCard&#x27;, &#x27;IsActiveMember&#x27;]</pre></div></div></div><div class=\"sk-serial\"><div class=\"sk-item\"><div class=\"sk-estimator sk-toggleable\"><input class=\"sk-toggleable__control sk-hidden--visually\" id=\"sk-estimator-id-9\" type=\"checkbox\" ><label for=\"sk-estimator-id-9\" class=\"sk-toggleable__label sk-toggleable__label-arrow\">passthrough</label><div class=\"sk-toggleable__content\"><pre>passthrough</pre></div></div></div></div></div></div></div></div><div class=\"sk-item\"><div class=\"sk-estimator sk-toggleable\"><input class=\"sk-toggleable__control sk-hidden--visually\" id=\"sk-estimator-id-10\" type=\"checkbox\" ><label for=\"sk-estimator-id-10\" class=\"sk-toggleable__label sk-toggleable__label-arrow\">SMOTE</label><div class=\"sk-toggleable__content\"><pre>SMOTE(random_state=12345)</pre></div></div></div><div class=\"sk-item\"><div class=\"sk-estimator sk-toggleable\"><input class=\"sk-toggleable__control sk-hidden--visually\" id=\"sk-estimator-id-11\" type=\"checkbox\" ><label for=\"sk-estimator-id-11\" class=\"sk-toggleable__label sk-toggleable__label-arrow\">XGBClassifier</label><div class=\"sk-toggleable__content\"><pre>XGBClassifier(base_score=None, booster=None, callbacks=None,\n              colsample_bylevel=None, colsample_bynode=None,\n              colsample_bytree=None, device=None, early_stopping_rounds=None,\n              enable_categorical=False, eta=0.11250589108448067,\n              eval_metric=None, feature_types=None, gamma=None,\n              grow_policy=None, importance_type=None,\n              interaction_constraints=None, learning_rate=None, max_bin=None,\n              max_cat_threshold=None, max_cat_to_onehot=None,\n              max_delta_step=None, max_depth=3, max_leaves=None,\n              min_child_weight=None, missing=nan, monotone_constraints=None,\n              multi_strategy=None, n_estimators=131, n_jobs=None,\n              num_parallel_tree=None, ...)</pre></div></div></div></div></div></div></div>"
     },
     "execution_count": 25,
     "metadata": {},
     "output_type": "execute_result"
    }
   ],
   "source": [
    "best_model"
   ],
   "metadata": {
    "collapsed": false,
    "ExecuteTime": {
     "end_time": "2023-11-22T11:01:53.219953Z",
     "start_time": "2023-11-22T11:01:52.948585100Z"
    }
   }
  },
  {
   "cell_type": "code",
   "execution_count": 81,
   "outputs": [
    {
     "name": "stdout",
     "output_type": "stream",
     "text": [
      "ROC-AUC score на тестовой выборке: 0.864531711989339\n"
     ]
    }
   ],
   "source": [
    "# pred_proba = best_model.predict_proba(X_test)[:, 1]\n",
    "# print('ROC-AUC score на тестовой выборке:', roc_auc_score(y_test, pred_proba))"
   ],
   "metadata": {
    "collapsed": false,
    "ExecuteTime": {
     "end_time": "2023-11-22T06:52:22.843194400Z",
     "start_time": "2023-11-22T06:52:22.584481100Z"
    }
   }
  },
  {
   "cell_type": "code",
   "execution_count": 26,
   "outputs": [
    {
     "name": "stdout",
     "output_type": "stream",
     "text": [
      "f1 на тестовой выборке: 0.6323529411764707\n"
     ]
    }
   ],
   "source": [
    "pred = best_model.predict(X_test) # почему f1 лучше на тесте, чем на трейне\n",
    "print('f1 на тестовой выборке:', f1_score(pred, y_test))"
   ],
   "metadata": {
    "collapsed": false,
    "ExecuteTime": {
     "end_time": "2023-11-22T11:02:01.600102800Z",
     "start_time": "2023-11-22T11:02:01.378124100Z"
    }
   }
  },
  {
   "cell_type": "code",
   "execution_count": null,
   "outputs": [],
   "source": [],
   "metadata": {
    "collapsed": false
   }
  }
 ],
 "metadata": {
  "kernelspec": {
   "display_name": "Python 3",
   "language": "python",
   "name": "python3"
  },
  "language_info": {
   "codemirror_mode": {
    "name": "ipython",
    "version": 2
   },
   "file_extension": ".py",
   "mimetype": "text/x-python",
   "name": "python",
   "nbconvert_exporter": "python",
   "pygments_lexer": "ipython2",
   "version": "2.7.6"
  }
 },
 "nbformat": 4,
 "nbformat_minor": 0
}
