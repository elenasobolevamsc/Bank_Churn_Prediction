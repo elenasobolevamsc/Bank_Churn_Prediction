{
 "cells": [
  {
   "cell_type": "markdown",
   "source": [
    "# 1. Подготовка данных"
   ],
   "metadata": {
    "collapsed": false
   }
  },
  {
   "cell_type": "code",
   "execution_count": 133,
   "outputs": [],
   "source": [
    "import warnings\n",
    "warnings.filterwarnings('ignore')\n",
    "\n",
    "import optuna\n",
    "import mlflow\n",
    "import joblib\n",
    "import pandas as pd\n",
    "import xgboost as xgb\n",
    "import numpy as np\n",
    "import matplotlib.pyplot as plt\n",
    "\n",
    "from imblearn.over_sampling import SMOTE\n",
    "from imblearn.pipeline import Pipeline\n",
    "from sklearn.model_selection import train_test_split, cross_val_score\n",
    "from sklearn.preprocessing import OneHotEncoder, StandardScaler, PowerTransformer\n",
    "from sklearn.compose import ColumnTransformer\n",
    "from sklearn.impute import SimpleImputer\n",
    "from sklearn.ensemble import RandomForestClassifier\n",
    "from sklearn.linear_model import LogisticRegression\n",
    "from sklearn.svm import SVC\n",
    "from sklearn.metrics import roc_auc_score, roc_curve, confusion_matrix, f1_score, balanced_accuracy_score\n",
    "\n",
    "mlflow.set_tracking_uri(\"http://127.0.0.1:8000\")\n",
    "client=mlflow.MlflowClient(tracking_uri='http://127.0.0.1:8000')\n",
    "# optuna.logging.set_verbosity(optuna.logging.WARNING)"
   ],
   "metadata": {
    "collapsed": false,
    "ExecuteTime": {
     "end_time": "2023-12-05T13:26:32.392235700Z",
     "start_time": "2023-12-05T13:26:32.297454600Z"
    }
   }
  },
  {
   "cell_type": "code",
   "execution_count": 2,
   "outputs": [],
   "source": [
    "df = pd.read_csv('Churn.csv')"
   ],
   "metadata": {
    "collapsed": false,
    "ExecuteTime": {
     "end_time": "2023-12-03T15:49:08.351626900Z",
     "start_time": "2023-12-03T15:49:08.275555500Z"
    }
   }
  },
  {
   "cell_type": "code",
   "execution_count": 3,
   "outputs": [
    {
     "data": {
      "text/plain": "      RowNumber  CustomerId    Surname  CreditScore Geography  Gender  Age  \\\n0             1    15634602   Hargrave          619    France  Female   42   \n1             2    15647311       Hill          608     Spain  Female   41   \n2             3    15619304       Onio          502    France  Female   42   \n3             4    15701354       Boni          699    France  Female   39   \n4             5    15737888   Mitchell          850     Spain  Female   43   \n...         ...         ...        ...          ...       ...     ...  ...   \n9995       9996    15606229   Obijiaku          771    France    Male   39   \n9996       9997    15569892  Johnstone          516    France    Male   35   \n9997       9998    15584532        Liu          709    France  Female   36   \n9998       9999    15682355  Sabbatini          772   Germany    Male   42   \n9999      10000    15628319     Walker          792    France  Female   28   \n\n      Tenure    Balance  NumOfProducts  HasCrCard  IsActiveMember  \\\n0        2.0       0.00              1          1               1   \n1        1.0   83807.86              1          0               1   \n2        8.0  159660.80              3          1               0   \n3        1.0       0.00              2          0               0   \n4        2.0  125510.82              1          1               1   \n...      ...        ...            ...        ...             ...   \n9995     5.0       0.00              2          1               0   \n9996    10.0   57369.61              1          1               1   \n9997     7.0       0.00              1          0               1   \n9998     3.0   75075.31              2          1               0   \n9999     NaN  130142.79              1          1               0   \n\n      EstimatedSalary  Exited  \n0           101348.88       1  \n1           112542.58       0  \n2           113931.57       1  \n3            93826.63       0  \n4            79084.10       0  \n...               ...     ...  \n9995         96270.64       0  \n9996        101699.77       0  \n9997         42085.58       1  \n9998         92888.52       1  \n9999         38190.78       0  \n\n[10000 rows x 14 columns]",
      "text/html": "<div>\n<style scoped>\n    .dataframe tbody tr th:only-of-type {\n        vertical-align: middle;\n    }\n\n    .dataframe tbody tr th {\n        vertical-align: top;\n    }\n\n    .dataframe thead th {\n        text-align: right;\n    }\n</style>\n<table border=\"1\" class=\"dataframe\">\n  <thead>\n    <tr style=\"text-align: right;\">\n      <th></th>\n      <th>RowNumber</th>\n      <th>CustomerId</th>\n      <th>Surname</th>\n      <th>CreditScore</th>\n      <th>Geography</th>\n      <th>Gender</th>\n      <th>Age</th>\n      <th>Tenure</th>\n      <th>Balance</th>\n      <th>NumOfProducts</th>\n      <th>HasCrCard</th>\n      <th>IsActiveMember</th>\n      <th>EstimatedSalary</th>\n      <th>Exited</th>\n    </tr>\n  </thead>\n  <tbody>\n    <tr>\n      <th>0</th>\n      <td>1</td>\n      <td>15634602</td>\n      <td>Hargrave</td>\n      <td>619</td>\n      <td>France</td>\n      <td>Female</td>\n      <td>42</td>\n      <td>2.0</td>\n      <td>0.00</td>\n      <td>1</td>\n      <td>1</td>\n      <td>1</td>\n      <td>101348.88</td>\n      <td>1</td>\n    </tr>\n    <tr>\n      <th>1</th>\n      <td>2</td>\n      <td>15647311</td>\n      <td>Hill</td>\n      <td>608</td>\n      <td>Spain</td>\n      <td>Female</td>\n      <td>41</td>\n      <td>1.0</td>\n      <td>83807.86</td>\n      <td>1</td>\n      <td>0</td>\n      <td>1</td>\n      <td>112542.58</td>\n      <td>0</td>\n    </tr>\n    <tr>\n      <th>2</th>\n      <td>3</td>\n      <td>15619304</td>\n      <td>Onio</td>\n      <td>502</td>\n      <td>France</td>\n      <td>Female</td>\n      <td>42</td>\n      <td>8.0</td>\n      <td>159660.80</td>\n      <td>3</td>\n      <td>1</td>\n      <td>0</td>\n      <td>113931.57</td>\n      <td>1</td>\n    </tr>\n    <tr>\n      <th>3</th>\n      <td>4</td>\n      <td>15701354</td>\n      <td>Boni</td>\n      <td>699</td>\n      <td>France</td>\n      <td>Female</td>\n      <td>39</td>\n      <td>1.0</td>\n      <td>0.00</td>\n      <td>2</td>\n      <td>0</td>\n      <td>0</td>\n      <td>93826.63</td>\n      <td>0</td>\n    </tr>\n    <tr>\n      <th>4</th>\n      <td>5</td>\n      <td>15737888</td>\n      <td>Mitchell</td>\n      <td>850</td>\n      <td>Spain</td>\n      <td>Female</td>\n      <td>43</td>\n      <td>2.0</td>\n      <td>125510.82</td>\n      <td>1</td>\n      <td>1</td>\n      <td>1</td>\n      <td>79084.10</td>\n      <td>0</td>\n    </tr>\n    <tr>\n      <th>...</th>\n      <td>...</td>\n      <td>...</td>\n      <td>...</td>\n      <td>...</td>\n      <td>...</td>\n      <td>...</td>\n      <td>...</td>\n      <td>...</td>\n      <td>...</td>\n      <td>...</td>\n      <td>...</td>\n      <td>...</td>\n      <td>...</td>\n      <td>...</td>\n    </tr>\n    <tr>\n      <th>9995</th>\n      <td>9996</td>\n      <td>15606229</td>\n      <td>Obijiaku</td>\n      <td>771</td>\n      <td>France</td>\n      <td>Male</td>\n      <td>39</td>\n      <td>5.0</td>\n      <td>0.00</td>\n      <td>2</td>\n      <td>1</td>\n      <td>0</td>\n      <td>96270.64</td>\n      <td>0</td>\n    </tr>\n    <tr>\n      <th>9996</th>\n      <td>9997</td>\n      <td>15569892</td>\n      <td>Johnstone</td>\n      <td>516</td>\n      <td>France</td>\n      <td>Male</td>\n      <td>35</td>\n      <td>10.0</td>\n      <td>57369.61</td>\n      <td>1</td>\n      <td>1</td>\n      <td>1</td>\n      <td>101699.77</td>\n      <td>0</td>\n    </tr>\n    <tr>\n      <th>9997</th>\n      <td>9998</td>\n      <td>15584532</td>\n      <td>Liu</td>\n      <td>709</td>\n      <td>France</td>\n      <td>Female</td>\n      <td>36</td>\n      <td>7.0</td>\n      <td>0.00</td>\n      <td>1</td>\n      <td>0</td>\n      <td>1</td>\n      <td>42085.58</td>\n      <td>1</td>\n    </tr>\n    <tr>\n      <th>9998</th>\n      <td>9999</td>\n      <td>15682355</td>\n      <td>Sabbatini</td>\n      <td>772</td>\n      <td>Germany</td>\n      <td>Male</td>\n      <td>42</td>\n      <td>3.0</td>\n      <td>75075.31</td>\n      <td>2</td>\n      <td>1</td>\n      <td>0</td>\n      <td>92888.52</td>\n      <td>1</td>\n    </tr>\n    <tr>\n      <th>9999</th>\n      <td>10000</td>\n      <td>15628319</td>\n      <td>Walker</td>\n      <td>792</td>\n      <td>France</td>\n      <td>Female</td>\n      <td>28</td>\n      <td>NaN</td>\n      <td>130142.79</td>\n      <td>1</td>\n      <td>1</td>\n      <td>0</td>\n      <td>38190.78</td>\n      <td>0</td>\n    </tr>\n  </tbody>\n</table>\n<p>10000 rows × 14 columns</p>\n</div>"
     },
     "execution_count": 3,
     "metadata": {},
     "output_type": "execute_result"
    }
   ],
   "source": [
    "df"
   ],
   "metadata": {
    "collapsed": false,
    "ExecuteTime": {
     "end_time": "2023-12-03T15:49:09.296186600Z",
     "start_time": "2023-12-03T15:49:09.251005500Z"
    }
   }
  },
  {
   "cell_type": "code",
   "execution_count": 4,
   "outputs": [
    {
     "name": "stdout",
     "output_type": "stream",
     "text": [
      "<class 'pandas.core.frame.DataFrame'>\n",
      "RangeIndex: 10000 entries, 0 to 9999\n",
      "Data columns (total 14 columns):\n",
      " #   Column           Non-Null Count  Dtype  \n",
      "---  ------           --------------  -----  \n",
      " 0   RowNumber        10000 non-null  int64  \n",
      " 1   CustomerId       10000 non-null  int64  \n",
      " 2   Surname          10000 non-null  object \n",
      " 3   CreditScore      10000 non-null  int64  \n",
      " 4   Geography        10000 non-null  object \n",
      " 5   Gender           10000 non-null  object \n",
      " 6   Age              10000 non-null  int64  \n",
      " 7   Tenure           9091 non-null   float64\n",
      " 8   Balance          10000 non-null  float64\n",
      " 9   NumOfProducts    10000 non-null  int64  \n",
      " 10  HasCrCard        10000 non-null  int64  \n",
      " 11  IsActiveMember   10000 non-null  int64  \n",
      " 12  EstimatedSalary  10000 non-null  float64\n",
      " 13  Exited           10000 non-null  int64  \n",
      "dtypes: float64(3), int64(8), object(3)\n",
      "memory usage: 1.1+ MB\n"
     ]
    }
   ],
   "source": [
    "df.info()"
   ],
   "metadata": {
    "collapsed": false,
    "ExecuteTime": {
     "end_time": "2023-12-03T15:49:12.387295700Z",
     "start_time": "2023-12-03T15:49:12.259363Z"
    }
   }
  },
  {
   "cell_type": "code",
   "execution_count": 5,
   "outputs": [
    {
     "data": {
      "text/plain": "0"
     },
     "execution_count": 5,
     "metadata": {},
     "output_type": "execute_result"
    }
   ],
   "source": [
    "# проверим наличие явных дубликатов:\n",
    "df.duplicated().sum()"
   ],
   "metadata": {
    "collapsed": false,
    "ExecuteTime": {
     "end_time": "2023-12-03T15:49:13.236332500Z",
     "start_time": "2023-12-03T15:49:13.172756600Z"
    }
   }
  },
  {
   "cell_type": "code",
   "execution_count": 6,
   "outputs": [
    {
     "data": {
      "text/plain": "Geography\nFrance     5014\nGermany    2509\nSpain      2477\nName: count, dtype: int64"
     },
     "metadata": {},
     "output_type": "display_data"
    },
    {
     "data": {
      "text/plain": "Tenure\n1.0     952\n2.0     950\n8.0     933\n3.0     928\n5.0     927\n7.0     925\n4.0     885\n9.0     882\n6.0     881\n10.0    446\n0.0     382\nName: count, dtype: int64"
     },
     "metadata": {},
     "output_type": "display_data"
    },
    {
     "data": {
      "text/plain": "NumOfProducts\n1    5084\n2    4590\n3     266\n4      60\nName: count, dtype: int64"
     },
     "metadata": {},
     "output_type": "display_data"
    },
    {
     "data": {
      "text/plain": "Gender\nMale      5457\nFemale    4543\nName: count, dtype: int64"
     },
     "metadata": {},
     "output_type": "display_data"
    },
    {
     "data": {
      "text/plain": "HasCrCard\n1    7055\n0    2945\nName: count, dtype: int64"
     },
     "metadata": {},
     "output_type": "display_data"
    },
    {
     "data": {
      "text/plain": "IsActiveMember\n1    5151\n0    4849\nName: count, dtype: int64"
     },
     "metadata": {},
     "output_type": "display_data"
    }
   ],
   "source": [
    "# посмотрим уникальные значения в категориальных признаках:\n",
    "cat_columns = ['Geography', 'Tenure', 'NumOfProducts', 'Gender', 'HasCrCard', 'IsActiveMember']\n",
    "for col in cat_columns:\n",
    "    display(df[col].value_counts())"
   ],
   "metadata": {
    "collapsed": false,
    "ExecuteTime": {
     "end_time": "2023-12-03T15:49:13.802454600Z",
     "start_time": "2023-12-03T15:49:13.650925400Z"
    }
   }
  },
  {
   "cell_type": "code",
   "execution_count": 7,
   "outputs": [
    {
     "data": {
      "text/plain": "Exited\n0    7963\n1    2037\nName: count, dtype: int64"
     },
     "execution_count": 7,
     "metadata": {},
     "output_type": "execute_result"
    }
   ],
   "source": [
    "# посчитаем классы в целевом признаке:\n",
    "df['Exited'].value_counts()"
   ],
   "metadata": {
    "collapsed": false,
    "ExecuteTime": {
     "end_time": "2023-12-03T15:49:14.099900400Z",
     "start_time": "2023-12-03T15:49:14.049433200Z"
    }
   }
  },
  {
   "cell_type": "markdown",
   "source": [
    "Можно отметить, что дубликаты в датасете отсутствуют, в столбце Tenure есть около тысячи пропусков, а также несколько столбцов лучше вообще удалить, из них:\n",
    "\n",
    "- RowNumber - это индекс строки в данных, важной информации не содержит;\n",
    "- CustomerId - уникальный идентификатор клиента, по нему мы проверили дубликаты и теперь его можно удалить;\n",
    "- Surname - фамилия, которая тоже не имеет связи с оттоком клиентов.\n",
    "\n",
    "После проверки датасета на сбалансированность классов в таргете мы видим, что объектов отрицательного класса намного больше (почти в четыре раза), но все равно уходит примерно 20% клиентов. В столбце Geography находятся всего 3 уникальных значения: France, Germany и Spain. В столбце Tenure (сколько лет человек является клиентом банка) есть 909 пропусков. Заполним их значением -1, добавив логический параметр add_indicator=True. Есть несколько бинарных признаков (HasCrCard, IsActiveMember), которые выделим в отдельную категорию признаков."
   ],
   "metadata": {
    "collapsed": false
   }
  },
  {
   "cell_type": "code",
   "execution_count": 8,
   "outputs": [],
   "source": [
    "# удалим ненужные столбцы:\n",
    "df.drop([\"RowNumber\", \"CustomerId\", \"Surname\"], axis=1, inplace=True)"
   ],
   "metadata": {
    "collapsed": false,
    "ExecuteTime": {
     "end_time": "2023-12-03T15:49:14.844669600Z",
     "start_time": "2023-12-03T15:49:14.779754300Z"
    }
   }
  },
  {
   "cell_type": "code",
   "execution_count": 9,
   "outputs": [
    {
     "data": {
      "text/plain": "      CreditScore Geography  Gender  Age  Tenure    Balance  NumOfProducts  \\\n0             619    France  Female   42     2.0       0.00              1   \n1             608     Spain  Female   41     1.0   83807.86              1   \n2             502    France  Female   42     8.0  159660.80              3   \n3             699    France  Female   39     1.0       0.00              2   \n4             850     Spain  Female   43     2.0  125510.82              1   \n...           ...       ...     ...  ...     ...        ...            ...   \n9995          771    France    Male   39     5.0       0.00              2   \n9996          516    France    Male   35    10.0   57369.61              1   \n9997          709    France  Female   36     7.0       0.00              1   \n9998          772   Germany    Male   42     3.0   75075.31              2   \n9999          792    France  Female   28     NaN  130142.79              1   \n\n      HasCrCard  IsActiveMember  EstimatedSalary  Exited  \n0             1               1        101348.88       1  \n1             0               1        112542.58       0  \n2             1               0        113931.57       1  \n3             0               0         93826.63       0  \n4             1               1         79084.10       0  \n...         ...             ...              ...     ...  \n9995          1               0         96270.64       0  \n9996          1               1        101699.77       0  \n9997          0               1         42085.58       1  \n9998          1               0         92888.52       1  \n9999          1               0         38190.78       0  \n\n[10000 rows x 11 columns]",
      "text/html": "<div>\n<style scoped>\n    .dataframe tbody tr th:only-of-type {\n        vertical-align: middle;\n    }\n\n    .dataframe tbody tr th {\n        vertical-align: top;\n    }\n\n    .dataframe thead th {\n        text-align: right;\n    }\n</style>\n<table border=\"1\" class=\"dataframe\">\n  <thead>\n    <tr style=\"text-align: right;\">\n      <th></th>\n      <th>CreditScore</th>\n      <th>Geography</th>\n      <th>Gender</th>\n      <th>Age</th>\n      <th>Tenure</th>\n      <th>Balance</th>\n      <th>NumOfProducts</th>\n      <th>HasCrCard</th>\n      <th>IsActiveMember</th>\n      <th>EstimatedSalary</th>\n      <th>Exited</th>\n    </tr>\n  </thead>\n  <tbody>\n    <tr>\n      <th>0</th>\n      <td>619</td>\n      <td>France</td>\n      <td>Female</td>\n      <td>42</td>\n      <td>2.0</td>\n      <td>0.00</td>\n      <td>1</td>\n      <td>1</td>\n      <td>1</td>\n      <td>101348.88</td>\n      <td>1</td>\n    </tr>\n    <tr>\n      <th>1</th>\n      <td>608</td>\n      <td>Spain</td>\n      <td>Female</td>\n      <td>41</td>\n      <td>1.0</td>\n      <td>83807.86</td>\n      <td>1</td>\n      <td>0</td>\n      <td>1</td>\n      <td>112542.58</td>\n      <td>0</td>\n    </tr>\n    <tr>\n      <th>2</th>\n      <td>502</td>\n      <td>France</td>\n      <td>Female</td>\n      <td>42</td>\n      <td>8.0</td>\n      <td>159660.80</td>\n      <td>3</td>\n      <td>1</td>\n      <td>0</td>\n      <td>113931.57</td>\n      <td>1</td>\n    </tr>\n    <tr>\n      <th>3</th>\n      <td>699</td>\n      <td>France</td>\n      <td>Female</td>\n      <td>39</td>\n      <td>1.0</td>\n      <td>0.00</td>\n      <td>2</td>\n      <td>0</td>\n      <td>0</td>\n      <td>93826.63</td>\n      <td>0</td>\n    </tr>\n    <tr>\n      <th>4</th>\n      <td>850</td>\n      <td>Spain</td>\n      <td>Female</td>\n      <td>43</td>\n      <td>2.0</td>\n      <td>125510.82</td>\n      <td>1</td>\n      <td>1</td>\n      <td>1</td>\n      <td>79084.10</td>\n      <td>0</td>\n    </tr>\n    <tr>\n      <th>...</th>\n      <td>...</td>\n      <td>...</td>\n      <td>...</td>\n      <td>...</td>\n      <td>...</td>\n      <td>...</td>\n      <td>...</td>\n      <td>...</td>\n      <td>...</td>\n      <td>...</td>\n      <td>...</td>\n    </tr>\n    <tr>\n      <th>9995</th>\n      <td>771</td>\n      <td>France</td>\n      <td>Male</td>\n      <td>39</td>\n      <td>5.0</td>\n      <td>0.00</td>\n      <td>2</td>\n      <td>1</td>\n      <td>0</td>\n      <td>96270.64</td>\n      <td>0</td>\n    </tr>\n    <tr>\n      <th>9996</th>\n      <td>516</td>\n      <td>France</td>\n      <td>Male</td>\n      <td>35</td>\n      <td>10.0</td>\n      <td>57369.61</td>\n      <td>1</td>\n      <td>1</td>\n      <td>1</td>\n      <td>101699.77</td>\n      <td>0</td>\n    </tr>\n    <tr>\n      <th>9997</th>\n      <td>709</td>\n      <td>France</td>\n      <td>Female</td>\n      <td>36</td>\n      <td>7.0</td>\n      <td>0.00</td>\n      <td>1</td>\n      <td>0</td>\n      <td>1</td>\n      <td>42085.58</td>\n      <td>1</td>\n    </tr>\n    <tr>\n      <th>9998</th>\n      <td>772</td>\n      <td>Germany</td>\n      <td>Male</td>\n      <td>42</td>\n      <td>3.0</td>\n      <td>75075.31</td>\n      <td>2</td>\n      <td>1</td>\n      <td>0</td>\n      <td>92888.52</td>\n      <td>1</td>\n    </tr>\n    <tr>\n      <th>9999</th>\n      <td>792</td>\n      <td>France</td>\n      <td>Female</td>\n      <td>28</td>\n      <td>NaN</td>\n      <td>130142.79</td>\n      <td>1</td>\n      <td>1</td>\n      <td>0</td>\n      <td>38190.78</td>\n      <td>0</td>\n    </tr>\n  </tbody>\n</table>\n<p>10000 rows × 11 columns</p>\n</div>"
     },
     "execution_count": 9,
     "metadata": {},
     "output_type": "execute_result"
    }
   ],
   "source": [
    "df"
   ],
   "metadata": {
    "collapsed": false,
    "ExecuteTime": {
     "end_time": "2023-12-03T15:49:15.425035700Z",
     "start_time": "2023-12-03T15:49:15.327404Z"
    }
   }
  },
  {
   "cell_type": "code",
   "execution_count": 10,
   "outputs": [
    {
     "name": "stdout",
     "output_type": "stream",
     "text": [
      "<class 'pandas.core.frame.DataFrame'>\n",
      "RangeIndex: 10000 entries, 0 to 9999\n",
      "Data columns (total 11 columns):\n",
      " #   Column           Non-Null Count  Dtype  \n",
      "---  ------           --------------  -----  \n",
      " 0   CreditScore      10000 non-null  int64  \n",
      " 1   Geography        10000 non-null  object \n",
      " 2   Gender           10000 non-null  object \n",
      " 3   Age              10000 non-null  int64  \n",
      " 4   Tenure           9091 non-null   float64\n",
      " 5   Balance          10000 non-null  float64\n",
      " 6   NumOfProducts    10000 non-null  int64  \n",
      " 7   HasCrCard        10000 non-null  int64  \n",
      " 8   IsActiveMember   10000 non-null  int64  \n",
      " 9   EstimatedSalary  10000 non-null  float64\n",
      " 10  Exited           10000 non-null  int64  \n",
      "dtypes: float64(3), int64(6), object(2)\n",
      "memory usage: 859.5+ KB\n"
     ]
    }
   ],
   "source": [
    "df.info()"
   ],
   "metadata": {
    "collapsed": false,
    "ExecuteTime": {
     "end_time": "2023-12-03T15:49:15.928309Z",
     "start_time": "2023-12-03T15:49:15.773524900Z"
    }
   }
  },
  {
   "cell_type": "code",
   "execution_count": 11,
   "outputs": [],
   "source": [
    "# сохраним признаки и целевой признак в отдельных переменных:\n",
    "y = df['Exited']\n",
    "X = df.drop('Exited', axis=1)"
   ],
   "metadata": {
    "collapsed": false,
    "ExecuteTime": {
     "end_time": "2023-12-03T15:49:16.446117200Z",
     "start_time": "2023-12-03T15:49:16.402529100Z"
    }
   }
  },
  {
   "cell_type": "code",
   "execution_count": 12,
   "outputs": [],
   "source": [
    "# разобьем исходные данные на обучающую и тестовую выборки в соотношении 4:1:\n",
    "X_train, X_test, y_train, y_test = train_test_split(X, y, test_size=0.2, random_state=12345, stratify=y)"
   ],
   "metadata": {
    "collapsed": false,
    "ExecuteTime": {
     "end_time": "2023-12-03T15:49:17.049990300Z",
     "start_time": "2023-12-03T15:49:17.002683700Z"
    }
   }
  },
  {
   "cell_type": "code",
   "execution_count": 13,
   "outputs": [
    {
     "name": "stdout",
     "output_type": "stream",
     "text": [
      "Размер обучающей выборки: (8000, 10)\n",
      "Размер тестовой выборки: (2000, 10)\n"
     ]
    }
   ],
   "source": [
    "# посмотрим на размеры выборок:\n",
    "print('Размер обучающей выборки:', X_train.shape)\n",
    "print('Размер тестовой выборки:', X_test.shape)"
   ],
   "metadata": {
    "collapsed": false,
    "ExecuteTime": {
     "end_time": "2023-12-03T15:49:17.478960100Z",
     "start_time": "2023-12-03T15:49:17.404936400Z"
    }
   }
  },
  {
   "cell_type": "code",
   "execution_count": 14,
   "outputs": [],
   "source": [
    "# внесем в переменные списки все численные и категориальные признаки:\n",
    "categorical_features = X_train.select_dtypes(include=['object']).columns.tolist()\n",
    "numeric_features = X_train.select_dtypes(exclude=['object']).columns.tolist()\n",
    "binary_features = ['HasCrCard', 'IsActiveMember']\n",
    "numeric_features = list(set(numeric_features) - set(binary_features))"
   ],
   "metadata": {
    "collapsed": false,
    "ExecuteTime": {
     "end_time": "2023-12-03T15:49:17.690556700Z",
     "start_time": "2023-12-03T15:49:17.649146400Z"
    }
   }
  },
  {
   "cell_type": "markdown",
   "source": [
    "# 2. Обучение модели без учёта дисбаланса классов (XGBoost)"
   ],
   "metadata": {
    "collapsed": false
   }
  },
  {
   "cell_type": "markdown",
   "source": [
    "Для автоматизации процесса подготовим численный и категориальный пайплайны.\n",
    "- Для категориальных признаков (Geography, Gender) используем One Hot Encoding.\n",
    "- Для заполнения пропусков используем SimpleImputer.\n",
    "- Выполним трансформацию Йео-Джонсона.\n",
    "- Для моделей логистической регрессии и SVM выполним масштабирование данных; для моделей, основанных на деревьях (XGBoost и Random Forest), выполнять его не будем.\n",
    "- Объединим пайплайны классом ColumnTransformer.\n",
    "- Используем optuna для автоматизированного поиска оптимальных гиперпараметров для моделей.\n",
    "- Используем mlflow для того, чтобы легко выбрать лучшие модели среди всех экспериментов и при этом легко сравнивать метрики качества (будем сравнивать f1 на кроссвалидации, на тестовом наборе сравним f1, ROC-AUC и balanced accuracy)."
   ],
   "metadata": {
    "collapsed": false
   }
  },
  {
   "cell_type": "code",
   "execution_count": 195,
   "outputs": [],
   "source": [
    "cat_pipeline = Pipeline([\n",
    "    ('enc', OneHotEncoder(handle_unknown='error', drop='first'))\n",
    "])\n",
    "\n",
    "num_pipeline = Pipeline([\n",
    "    ('imp', SimpleImputer(fill_value=-1, add_indicator=True)),\n",
    "    ('pt', PowerTransformer()) \n",
    "])\n",
    "\n",
    "preprocessor = ColumnTransformer([\n",
    "    (\"cat\", cat_pipeline, categorical_features),\n",
    "    (\"num\", num_pipeline, numeric_features)\n",
    "\n",
    "], remainder='passthrough')\n",
    "\n",
    "pipe = Pipeline([\n",
    "    ('preprocessor', preprocessor),\n",
    "    ('model', xgb.XGBClassifier(random_state=12345))\n",
    "])"
   ],
   "metadata": {
    "collapsed": false,
    "ExecuteTime": {
     "end_time": "2023-12-05T15:28:24.556444100Z",
     "start_time": "2023-12-05T15:28:24.500108800Z"
    }
   }
  },
  {
   "cell_type": "code",
   "execution_count": 196,
   "outputs": [],
   "source": [
    "def optuna_optimize(trial):\n",
    "    param_grid = {\n",
    "        'model__n_estimators': trial.suggest_int('model__n_estimators', 50, 500),\n",
    "        'model__max_depth': trial.suggest_int('model__max_depth', 2, 10),\n",
    "        'model__learning_rate': trial.suggest_float('model__learning_rate', 0.01, 1.5),\n",
    "        'model__gamma': trial.suggest_float('model__gamma', 0.0, 20.0),\n",
    "        'model__reg_lambda': trial.suggest_float('model__reg_lambda', 0.0, 1.0),\n",
    "        'model__min_child_weight': trial.suggest_float('model__min_child_weight', 0.0, 5.0)\n",
    "    }\n",
    "\n",
    "    pipe.set_params(**param_grid)\n",
    "    score = cross_val_score(pipe, X_train, y_train, cv=5, scoring='f1').mean()\n",
    "    return score"
   ],
   "metadata": {
    "collapsed": false,
    "ExecuteTime": {
     "end_time": "2023-12-05T15:28:27.911689400Z",
     "start_time": "2023-12-05T15:28:27.853958700Z"
    }
   }
  },
  {
   "cell_type": "code",
   "execution_count": 197,
   "outputs": [
    {
     "name": "stderr",
     "output_type": "stream",
     "text": [
      "[I 2023-12-05 18:28:30,739] A new study created in memory with name: XGBoost Optuna Optimization Imbalanced\n"
     ]
    }
   ],
   "source": [
    "study_xgb = optuna.create_study(study_name=\"XGBoost Optuna Optimization Imbalanced\",\n",
    "                                direction='maximize')"
   ],
   "metadata": {
    "collapsed": false,
    "ExecuteTime": {
     "end_time": "2023-12-05T15:28:30.814906500Z",
     "start_time": "2023-12-05T15:28:30.741746200Z"
    }
   }
  },
  {
   "cell_type": "code",
   "execution_count": 198,
   "outputs": [
    {
     "name": "stderr",
     "output_type": "stream",
     "text": [
      "[I 2023-12-05 18:28:37,013] Trial 0 finished with value: 0.5388123471578845 and parameters: {'model__n_estimators': 302, 'model__max_depth': 5, 'model__learning_rate': 0.12930436225673805, 'model__gamma': 19.34552074118804, 'model__reg_lambda': 0.13607294365341194, 'model__min_child_weight': 1.3475071112838983}. Best is trial 0 with value: 0.5388123471578845.\n",
      "[I 2023-12-05 18:28:38,256] Trial 1 finished with value: 0.5592743063931127 and parameters: {'model__n_estimators': 311, 'model__max_depth': 2, 'model__learning_rate': 0.4879715020326766, 'model__gamma': 4.843620407852034, 'model__reg_lambda': 0.8298261699765515, 'model__min_child_weight': 3.6817389312617284}. Best is trial 1 with value: 0.5592743063931127.\n",
      "[I 2023-12-05 18:28:39,620] Trial 2 finished with value: 0.5823540129978207 and parameters: {'model__n_estimators': 405, 'model__max_depth': 4, 'model__learning_rate': 0.8410486956356897, 'model__gamma': 6.341224233767537, 'model__reg_lambda': 0.8137156232418362, 'model__min_child_weight': 2.2471597827087164}. Best is trial 2 with value: 0.5823540129978207.\n",
      "[I 2023-12-05 18:28:41,000] Trial 3 finished with value: 0.5792012332623735 and parameters: {'model__n_estimators': 270, 'model__max_depth': 6, 'model__learning_rate': 0.662572525696038, 'model__gamma': 7.8910541090766255, 'model__reg_lambda': 0.2872209062203094, 'model__min_child_weight': 2.292795590306868}. Best is trial 2 with value: 0.5823540129978207.\n",
      "[I 2023-12-05 18:28:42,130] Trial 4 finished with value: 0.5420212926213863 and parameters: {'model__n_estimators': 254, 'model__max_depth': 3, 'model__learning_rate': 0.3045974326003905, 'model__gamma': 17.72590598047175, 'model__reg_lambda': 0.24806904595407997, 'model__min_child_weight': 1.616711626421648}. Best is trial 2 with value: 0.5823540129978207.\n",
      "[I 2023-12-05 18:28:43,324] Trial 5 finished with value: 0.5378219207706385 and parameters: {'model__n_estimators': 286, 'model__max_depth': 3, 'model__learning_rate': 0.3626252663307993, 'model__gamma': 13.461863603676747, 'model__reg_lambda': 0.07056615796306664, 'model__min_child_weight': 4.883402394846781}. Best is trial 2 with value: 0.5823540129978207.\n",
      "[I 2023-12-05 18:28:44,838] Trial 6 finished with value: 0.5275268873127722 and parameters: {'model__n_estimators': 205, 'model__max_depth': 5, 'model__learning_rate': 0.012298778841491692, 'model__gamma': 19.09871490172509, 'model__reg_lambda': 0.6300455307930543, 'model__min_child_weight': 4.644948382964506}. Best is trial 2 with value: 0.5823540129978207.\n",
      "[I 2023-12-05 18:28:45,760] Trial 7 finished with value: 0.5501900735746561 and parameters: {'model__n_estimators': 132, 'model__max_depth': 3, 'model__learning_rate': 0.9382487555292789, 'model__gamma': 18.739983555095197, 'model__reg_lambda': 0.7596382473177428, 'model__min_child_weight': 1.8807950147961938}. Best is trial 2 with value: 0.5823540129978207.\n",
      "[I 2023-12-05 18:28:47,147] Trial 8 finished with value: 0.57758033652383 and parameters: {'model__n_estimators': 259, 'model__max_depth': 7, 'model__learning_rate': 0.9924721066729026, 'model__gamma': 10.052463443792828, 'model__reg_lambda': 0.31793042156282914, 'model__min_child_weight': 3.3384778465106946}. Best is trial 2 with value: 0.5823540129978207.\n",
      "[I 2023-12-05 18:28:49,244] Trial 9 finished with value: 0.5567894680743527 and parameters: {'model__n_estimators': 440, 'model__max_depth': 3, 'model__learning_rate': 0.7680740330133087, 'model__gamma': 17.607523648467417, 'model__reg_lambda': 0.22483337602467135, 'model__min_child_weight': 4.669985865593096}. Best is trial 2 with value: 0.5823540129978207.\n",
      "[I 2023-12-05 18:28:51,783] Trial 10 finished with value: 0.5274691026079388 and parameters: {'model__n_estimators': 495, 'model__max_depth': 10, 'model__learning_rate': 1.35600550219528, 'model__gamma': 2.309792732370475, 'model__reg_lambda': 0.9464164161129865, 'model__min_child_weight': 0.10620424939745732}. Best is trial 2 with value: 0.5823540129978207.\n",
      "[I 2023-12-05 18:28:53,740] Trial 11 finished with value: 0.5888737255715368 and parameters: {'model__n_estimators': 383, 'model__max_depth': 7, 'model__learning_rate': 0.6594744785114316, 'model__gamma': 6.28596156530675, 'model__reg_lambda': 0.5209623714757512, 'model__min_child_weight': 2.4876870391031036}. Best is trial 11 with value: 0.5888737255715368.\n",
      "[I 2023-12-05 18:28:55,490] Trial 12 finished with value: 0.571500384113899 and parameters: {'model__n_estimators': 408, 'model__max_depth': 8, 'model__learning_rate': 0.6390478839347263, 'model__gamma': 1.2194709638702061, 'model__reg_lambda': 0.5110926597083376, 'model__min_child_weight': 2.845140363512009}. Best is trial 11 with value: 0.5888737255715368.\n",
      "[I 2023-12-05 18:28:57,161] Trial 13 finished with value: 0.5845826909272074 and parameters: {'model__n_estimators': 385, 'model__max_depth': 9, 'model__learning_rate': 1.022690803528858, 'model__gamma': 5.440823425714624, 'model__reg_lambda': 0.5133311256174343, 'model__min_child_weight': 2.931404235817161}. Best is trial 11 with value: 0.5888737255715368.\n",
      "[I 2023-12-05 18:28:58,783] Trial 14 finished with value: 0.5701485901246601 and parameters: {'model__n_estimators': 362, 'model__max_depth': 9, 'model__learning_rate': 1.1306983264885755, 'model__gamma': 3.957648636339778, 'model__reg_lambda': 0.4378110021101872, 'model__min_child_weight': 3.0330489983826823}. Best is trial 11 with value: 0.5888737255715368.\n",
      "[I 2023-12-05 18:29:02,065] Trial 15 finished with value: 0.5689846655944877 and parameters: {'model__n_estimators': 484, 'model__max_depth': 8, 'model__learning_rate': 1.179077825406801, 'model__gamma': 8.700360772712173, 'model__reg_lambda': 0.5502639628425561, 'model__min_child_weight': 3.6885517897352456}. Best is trial 11 with value: 0.5888737255715368.\n",
      "[I 2023-12-05 18:29:03,334] Trial 16 finished with value: 0.5183676130893219 and parameters: {'model__n_estimators': 51, 'model__max_depth': 10, 'model__learning_rate': 1.482286401992667, 'model__gamma': 0.6185060124217641, 'model__reg_lambda': 0.4012388307372197, 'model__min_child_weight': 2.71649557381449}. Best is trial 11 with value: 0.5888737255715368.\n",
      "[I 2023-12-05 18:29:04,733] Trial 17 finished with value: 0.5681872670281253 and parameters: {'model__n_estimators': 369, 'model__max_depth': 7, 'model__learning_rate': 0.5918082369195556, 'model__gamma': 3.5385675388911397, 'model__reg_lambda': 0.6013599114087587, 'model__min_child_weight': 1.1863172420844674}. Best is trial 11 with value: 0.5888737255715368.\n",
      "[I 2023-12-05 18:29:06,107] Trial 18 finished with value: 0.5836734938290015 and parameters: {'model__n_estimators': 364, 'model__max_depth': 9, 'model__learning_rate': 0.818463498138822, 'model__gamma': 5.972300765548964, 'model__reg_lambda': 0.4100567650576751, 'model__min_child_weight': 2.2864910155658382}. Best is trial 11 with value: 0.5888737255715368.\n",
      "[I 2023-12-05 18:29:07,829] Trial 19 finished with value: 0.5781539384132248 and parameters: {'model__n_estimators': 444, 'model__max_depth': 7, 'model__learning_rate': 1.0140445794506527, 'model__gamma': 10.518067203760177, 'model__reg_lambda': 0.6789192656674428, 'model__min_child_weight': 3.913765106921616}. Best is trial 11 with value: 0.5888737255715368.\n",
      "[I 2023-12-05 18:29:08,987] Trial 20 finished with value: 0.5653687821188031 and parameters: {'model__n_estimators': 206, 'model__max_depth': 9, 'model__learning_rate': 0.7384980139285895, 'model__gamma': 2.036751748386358, 'model__reg_lambda': 0.4803431020358984, 'model__min_child_weight': 3.1633082019764145}. Best is trial 11 with value: 0.5888737255715368.\n",
      "[I 2023-12-05 18:29:10,371] Trial 21 finished with value: 0.5811360398775934 and parameters: {'model__n_estimators': 366, 'model__max_depth': 9, 'model__learning_rate': 0.8650167507808104, 'model__gamma': 5.948771647002516, 'model__reg_lambda': 0.39438723929291664, 'model__min_child_weight': 2.4625598326913654}. Best is trial 11 with value: 0.5888737255715368.\n",
      "[I 2023-12-05 18:29:11,690] Trial 22 finished with value: 0.5807587861903825 and parameters: {'model__n_estimators': 333, 'model__max_depth': 8, 'model__learning_rate': 0.7895013612262517, 'model__gamma': 6.346938293387479, 'model__reg_lambda': 0.533041955649687, 'model__min_child_weight': 2.051891330661381}. Best is trial 11 with value: 0.5888737255715368.\n",
      "[I 2023-12-05 18:29:13,162] Trial 23 finished with value: 0.5708291900312947 and parameters: {'model__n_estimators': 403, 'model__max_depth': 10, 'model__learning_rate': 1.1039430073132859, 'model__gamma': 3.503504426512576, 'model__reg_lambda': 0.4047692199211414, 'model__min_child_weight': 2.6133895237151767}. Best is trial 11 with value: 0.5888737255715368.\n",
      "[I 2023-12-05 18:29:14,494] Trial 24 finished with value: 0.5708676427997722 and parameters: {'model__n_estimators': 337, 'model__max_depth': 6, 'model__learning_rate': 0.9026381740527535, 'model__gamma': 4.916304217323351, 'model__reg_lambda': 0.5823240453025531, 'model__min_child_weight': 2.5065809538582267}. Best is trial 11 with value: 0.5888737255715368.\n",
      "[I 2023-12-05 18:29:16,564] Trial 25 finished with value: 0.5574685081664784 and parameters: {'model__n_estimators': 446, 'model__max_depth': 9, 'model__learning_rate': 0.5764863780959643, 'model__gamma': 0.06733263600472927, 'model__reg_lambda': 0.4853925156963544, 'model__min_child_weight': 2.0341434970611694}. Best is trial 11 with value: 0.5888737255715368.\n",
      "[I 2023-12-05 18:29:18,017] Trial 26 finished with value: 0.5878304198646673 and parameters: {'model__n_estimators': 401, 'model__max_depth': 8, 'model__learning_rate': 0.7009051331082867, 'model__gamma': 7.816872889407019, 'model__reg_lambda': 0.6593132840400193, 'model__min_child_weight': 2.860741566065472}. Best is trial 11 with value: 0.5888737255715368.\n",
      "[I 2023-12-05 18:29:19,553] Trial 27 finished with value: 0.5710357780879187 and parameters: {'model__n_estimators': 465, 'model__max_depth': 8, 'model__learning_rate': 0.7231582465566708, 'model__gamma': 7.6504770729635085, 'model__reg_lambda': 0.7102803420738715, 'model__min_child_weight': 3.180193543463863}. Best is trial 11 with value: 0.5888737255715368.\n",
      "[I 2023-12-05 18:29:20,994] Trial 28 finished with value: 0.5737653706505121 and parameters: {'model__n_estimators': 408, 'model__max_depth': 6, 'model__learning_rate': 0.5006697066328607, 'model__gamma': 8.78582749016223, 'model__reg_lambda': 0.6184273500227772, 'model__min_child_weight': 2.864837325719311}. Best is trial 11 with value: 0.5888737255715368.\n",
      "[I 2023-12-05 18:29:22,353] Trial 29 finished with value: 0.5771000225996489 and parameters: {'model__n_estimators': 311, 'model__max_depth': 7, 'model__learning_rate': 0.6930122298379436, 'model__gamma': 12.067603662235715, 'model__reg_lambda': 0.6770763677722563, 'model__min_child_weight': 3.5383253672867396}. Best is trial 11 with value: 0.5888737255715368.\n",
      "[I 2023-12-05 18:29:24,177] Trial 30 finished with value: 0.5733312100806915 and parameters: {'model__n_estimators': 390, 'model__max_depth': 5, 'model__learning_rate': 0.9936197704481545, 'model__gamma': 7.2009756411520955, 'model__reg_lambda': 0.0022875730456481946, 'model__min_child_weight': 4.013900544393397}. Best is trial 11 with value: 0.5888737255715368.\n",
      "[I 2023-12-05 18:29:25,589] Trial 31 finished with value: 0.5924969057792184 and parameters: {'model__n_estimators': 341, 'model__max_depth': 9, 'model__learning_rate': 0.8228871491381603, 'model__gamma': 6.25054083868084, 'model__reg_lambda': 0.5668456092863149, 'model__min_child_weight': 2.815011415668066}. Best is trial 31 with value: 0.5924969057792184.\n",
      "[I 2023-12-05 18:29:27,004] Trial 32 finished with value: 0.5869146015354576 and parameters: {'model__n_estimators': 333, 'model__max_depth': 8, 'model__learning_rate': 0.8609352693827116, 'model__gamma': 4.967914326493199, 'model__reg_lambda': 0.5538128514004882, 'model__min_child_weight': 2.8834485695536487}. Best is trial 31 with value: 0.5924969057792184.\n",
      "[I 2023-12-05 18:29:28,437] Trial 33 finished with value: 0.5832949929016745 and parameters: {'model__n_estimators': 319, 'model__max_depth': 8, 'model__learning_rate': 0.8582277262614446, 'model__gamma': 4.178002390038021, 'model__reg_lambda': 0.5710527183266176, 'model__min_child_weight': 2.651775148533319}. Best is trial 31 with value: 0.5924969057792184.\n",
      "[I 2023-12-05 18:29:29,835] Trial 34 finished with value: 0.5705527929908794 and parameters: {'model__n_estimators': 348, 'model__max_depth': 7, 'model__learning_rate': 0.537745550597697, 'model__gamma': 6.9471215576308545, 'model__reg_lambda': 0.7563458066100994, 'model__min_child_weight': 3.132686704138162}. Best is trial 31 with value: 0.5924969057792184.\n",
      "[I 2023-12-05 18:29:30,990] Trial 35 finished with value: 0.5757581118187342 and parameters: {'model__n_estimators': 228, 'model__max_depth': 6, 'model__learning_rate': 0.6466062975276263, 'model__gamma': 5.619178248181559, 'model__reg_lambda': 0.6395429602695947, 'model__min_child_weight': 2.457630154559067}. Best is trial 31 with value: 0.5924969057792184.\n",
      "[I 2023-12-05 18:29:32,303] Trial 36 finished with value: 0.5850684791196926 and parameters: {'model__n_estimators': 282, 'model__max_depth': 8, 'model__learning_rate': 0.4626438630320572, 'model__gamma': 8.423947275865594, 'model__reg_lambda': 0.5677988345460528, 'model__min_child_weight': 3.5102132081921273}. Best is trial 31 with value: 0.5924969057792184.\n",
      "[I 2023-12-05 18:29:33,784] Trial 37 finished with value: 0.5751738134610148 and parameters: {'model__n_estimators': 422, 'model__max_depth': 7, 'model__learning_rate': 0.7563159412505794, 'model__gamma': 4.651215095120214, 'model__reg_lambda': 0.6494779486575688, 'model__min_child_weight': 2.861520683384963}. Best is trial 31 with value: 0.5924969057792184.\n",
      "[I 2023-12-05 18:29:35,085] Trial 38 finished with value: 0.5766871540702833 and parameters: {'model__n_estimators': 286, 'model__max_depth': 10, 'model__learning_rate': 0.406877262782636, 'model__gamma': 7.193287085126145, 'model__reg_lambda': 0.7134683389729094, 'model__min_child_weight': 3.250041408104735}. Best is trial 31 with value: 0.5924969057792184.\n",
      "[I 2023-12-05 18:29:36,573] Trial 39 finished with value: 0.587013912587272 and parameters: {'model__n_estimators': 310, 'model__max_depth': 8, 'model__learning_rate': 0.6479909334056431, 'model__gamma': 6.536802286704857, 'model__reg_lambda': 0.8167111480017024, 'model__min_child_weight': 2.3228374073706224}. Best is trial 31 with value: 0.5924969057792184.\n",
      "[I 2023-12-05 18:29:38,135] Trial 40 finished with value: 0.5480060958496311 and parameters: {'model__n_estimators': 299, 'model__max_depth': 2, 'model__learning_rate': 0.24860511175958822, 'model__gamma': 9.420944031870661, 'model__reg_lambda': 0.8047159993186793, 'model__min_child_weight': 1.732013983244262}. Best is trial 31 with value: 0.5924969057792184.\n",
      "[I 2023-12-05 18:29:39,852] Trial 41 finished with value: 0.5845188884761023 and parameters: {'model__n_estimators': 326, 'model__max_depth': 8, 'model__learning_rate': 0.6498761600651228, 'model__gamma': 6.445692086694168, 'model__reg_lambda': 0.8599391174387181, 'model__min_child_weight': 2.264049273541968}. Best is trial 31 with value: 0.5924969057792184.\n",
      "[I 2023-12-05 18:29:41,446] Trial 42 finished with value: 0.5672083314408206 and parameters: {'model__n_estimators': 254, 'model__max_depth': 7, 'model__learning_rate': 0.8339445814268398, 'model__gamma': 8.002585135714158, 'model__reg_lambda': 0.6086795416915931, 'model__min_child_weight': 2.641219658537128}. Best is trial 31 with value: 0.5924969057792184.\n",
      "[I 2023-12-05 18:29:42,845] Trial 43 finished with value: 0.5810918116824864 and parameters: {'model__n_estimators': 351, 'model__max_depth': 8, 'model__learning_rate': 0.7091061591729378, 'model__gamma': 5.016162737463212, 'model__reg_lambda': 0.8833695094883787, 'model__min_child_weight': 2.082519555078499}. Best is trial 31 with value: 0.5924969057792184.\n",
      "[I 2023-12-05 18:29:44,311] Trial 44 finished with value: 0.5835021390692955 and parameters: {'model__n_estimators': 388, 'model__max_depth': 9, 'model__learning_rate': 0.6023798393394371, 'model__gamma': 6.841998290653445, 'model__reg_lambda': 0.7744335374487914, 'model__min_child_weight': 2.385822785189575}. Best is trial 31 with value: 0.5924969057792184.\n",
      "[I 2023-12-05 18:29:45,616] Trial 45 finished with value: 0.574737127346941 and parameters: {'model__n_estimators': 301, 'model__max_depth': 8, 'model__learning_rate': 0.9232450596935966, 'model__gamma': 2.902107849732104, 'model__reg_lambda': 0.7198221474170495, 'model__min_child_weight': 2.939737928287286}. Best is trial 31 with value: 0.5924969057792184.\n",
      "[I 2023-12-05 18:29:46,818] Trial 46 finished with value: 0.5752623947079808 and parameters: {'model__n_estimators': 238, 'model__max_depth': 5, 'model__learning_rate': 0.7948183282688724, 'model__gamma': 4.823620524485776, 'model__reg_lambda': 0.5343318214117221, 'model__min_child_weight': 3.348885501137622}. Best is trial 31 with value: 0.5924969057792184.\n",
      "[I 2023-12-05 18:29:47,877] Trial 47 finished with value: 0.5910993599410534 and parameters: {'model__n_estimators': 156, 'model__max_depth': 9, 'model__learning_rate': 0.6843520304553242, 'model__gamma': 7.831394069772736, 'model__reg_lambda': 0.4719214171593635, 'model__min_child_weight': 3.0074817758102603}. Best is trial 31 with value: 0.5924969057792184.\n",
      "[I 2023-12-05 18:29:48,874] Trial 48 finished with value: 0.5862260849548655 and parameters: {'model__n_estimators': 116, 'model__max_depth': 9, 'model__learning_rate': 0.6569668802159662, 'model__gamma': 7.842479897433119, 'model__reg_lambda': 0.4660633003296307, 'model__min_child_weight': 2.216322070572738}. Best is trial 31 with value: 0.5924969057792184.\n",
      "[I 2023-12-05 18:29:49,958] Trial 49 finished with value: 0.5759266761875403 and parameters: {'model__n_estimators': 179, 'model__max_depth': 10, 'model__learning_rate': 0.5113003848912256, 'model__gamma': 5.897256304794617, 'model__reg_lambda': 0.35274688184551994, 'model__min_child_weight': 2.7085439290125604}. Best is trial 31 with value: 0.5924969057792184.\n",
      "[I 2023-12-05 18:29:50,964] Trial 50 finished with value: 0.5813675333308821 and parameters: {'model__n_estimators': 129, 'model__max_depth': 9, 'model__learning_rate': 0.5538750542109466, 'model__gamma': 9.391684544034211, 'model__reg_lambda': 0.4532708733703118, 'model__min_child_weight': 1.8430411404299607}. Best is trial 31 with value: 0.5924969057792184.\n",
      "[I 2023-12-05 18:29:51,897] Trial 51 finished with value: 0.5871938862428767 and parameters: {'model__n_estimators': 87, 'model__max_depth': 8, 'model__learning_rate': 0.7038892498540885, 'model__gamma': 6.523231095976256, 'model__reg_lambda': 0.5117712317573775, 'model__min_child_weight': 2.9690534539117746}. Best is trial 31 with value: 0.5924969057792184.\n",
      "[I 2023-12-05 18:29:52,793] Trial 52 finished with value: 0.5807320988078841 and parameters: {'model__n_estimators': 52, 'model__max_depth': 7, 'model__learning_rate': 0.7009111140753921, 'model__gamma': 7.473241533300786, 'model__reg_lambda': 0.5133106976224752, 'model__min_child_weight': 2.9933834444539107}. Best is trial 31 with value: 0.5924969057792184.\n",
      "[I 2023-12-05 18:29:53,721] Trial 53 finished with value: 0.581813005645284 and parameters: {'model__n_estimators': 81, 'model__max_depth': 9, 'model__learning_rate': 0.7457048376933119, 'model__gamma': 6.778471890457097, 'model__reg_lambda': 0.47964074167332604, 'model__min_child_weight': 2.753736541346303}. Best is trial 31 with value: 0.5924969057792184.\n",
      "[I 2023-12-05 18:29:54,693] Trial 54 finished with value: 0.5871841664555333 and parameters: {'model__n_estimators': 109, 'model__max_depth': 8, 'model__learning_rate': 0.6124496892942424, 'model__gamma': 8.209870607726767, 'model__reg_lambda': 0.597151021601482, 'model__min_child_weight': 2.499325310476462}. Best is trial 31 with value: 0.5924969057792184.\n",
      "[I 2023-12-05 18:29:55,738] Trial 55 finished with value: 0.5806233191663595 and parameters: {'model__n_estimators': 159, 'model__max_depth': 9, 'model__learning_rate': 0.5938001337047815, 'model__gamma': 10.45827467730934, 'model__reg_lambda': 0.5093624339127774, 'model__min_child_weight': 3.045228979643933}. Best is trial 31 with value: 0.5924969057792184.\n",
      "[I 2023-12-05 18:29:56,685] Trial 56 finished with value: 0.5782429071530704 and parameters: {'model__n_estimators': 95, 'model__max_depth': 10, 'model__learning_rate': 0.7845285925243695, 'model__gamma': 8.143515696542604, 'model__reg_lambda': 0.5827869392079856, 'model__min_child_weight': 2.565228704808505}. Best is trial 31 with value: 0.5924969057792184.\n",
      "[I 2023-12-05 18:29:57,727] Trial 57 finished with value: 0.5817770049515387 and parameters: {'model__n_estimators': 156, 'model__max_depth': 7, 'model__learning_rate': 0.5970905414960378, 'model__gamma': 9.000874937569343, 'model__reg_lambda': 0.43128117559368523, 'model__min_child_weight': 3.367840040632556}. Best is trial 31 with value: 0.5924969057792184.\n",
      "[I 2023-12-05 18:29:58,660] Trial 58 finished with value: 0.5781334768300666 and parameters: {'model__n_estimators': 78, 'model__max_depth': 8, 'model__learning_rate': 0.45307735306713204, 'model__gamma': 5.589700173806933, 'model__reg_lambda': 0.6088192421813201, 'model__min_child_weight': 3.082565503150149}. Best is trial 31 with value: 0.5924969057792184.\n",
      "[I 2023-12-05 18:29:59,636] Trial 59 finished with value: 0.5872548762624316 and parameters: {'model__n_estimators': 109, 'model__max_depth': 9, 'model__learning_rate': 0.6951385135703702, 'model__gamma': 8.274797146359703, 'model__reg_lambda': 0.5385668382633952, 'model__min_child_weight': 2.770799962532348}. Best is trial 31 with value: 0.5924969057792184.\n",
      "[I 2023-12-05 18:30:00,689] Trial 60 finished with value: 0.5840464663785618 and parameters: {'model__n_estimators': 147, 'model__max_depth': 10, 'model__learning_rate': 0.6932916411782754, 'model__gamma': 9.677505246249982, 'model__reg_lambda': 0.492287464012984, 'model__min_child_weight': 2.7688637184346203}. Best is trial 31 with value: 0.5924969057792184.\n",
      "[I 2023-12-05 18:30:01,668] Trial 61 finished with value: 0.5751513817350528 and parameters: {'model__n_estimators': 105, 'model__max_depth': 9, 'model__learning_rate': 0.7584297615215481, 'model__gamma': 8.180331436203424, 'model__reg_lambda': 0.5432504218173005, 'model__min_child_weight': 2.4533832673837335}. Best is trial 31 with value: 0.5924969057792184.\n",
      "[I 2023-12-05 18:30:02,613] Trial 62 finished with value: 0.5811813161164515 and parameters: {'model__n_estimators': 84, 'model__max_depth': 9, 'model__learning_rate': 0.5475824909875584, 'model__gamma': 8.707723915329737, 'model__reg_lambda': 0.6455643334356452, 'model__min_child_weight': 2.5901393930675973}. Best is trial 31 with value: 0.5924969057792184.\n",
      "[I 2023-12-05 18:30:03,838] Trial 63 finished with value: 0.5826896690226614 and parameters: {'model__n_estimators': 119, 'model__max_depth': 8, 'model__learning_rate': 0.8169039028070659, 'model__gamma': 6.411245800449149, 'model__reg_lambda': 0.586214899300923, 'model__min_child_weight': 2.79920183873268}. Best is trial 31 with value: 0.5924969057792184.\n",
      "[I 2023-12-05 18:30:04,930] Trial 64 finished with value: 0.5801008553129396 and parameters: {'model__n_estimators': 181, 'model__max_depth': 9, 'model__learning_rate': 0.6176501085497613, 'model__gamma': 7.494456483850581, 'model__reg_lambda': 0.5280282622722153, 'model__min_child_weight': 3.059456350260239}. Best is trial 31 with value: 0.5924969057792184.\n",
      "[I 2023-12-05 18:30:05,848] Trial 65 finished with value: 0.5801972835820606 and parameters: {'model__n_estimators': 72, 'model__max_depth': 8, 'model__learning_rate': 0.7150625536036207, 'model__gamma': 7.364757411044367, 'model__reg_lambda': 0.4467032723611907, 'model__min_child_weight': 3.213234277487013}. Best is trial 31 with value: 0.5924969057792184.\n",
      "[I 2023-12-05 18:30:06,813] Trial 66 finished with value: 0.5821059937655523 and parameters: {'model__n_estimators': 99, 'model__max_depth': 7, 'model__learning_rate': 0.6690655146165992, 'model__gamma': 9.971154923219908, 'model__reg_lambda': 0.5643051175696241, 'model__min_child_weight': 2.9415419064432347}. Best is trial 31 with value: 0.5924969057792184.\n",
      "[I 2023-12-05 18:30:08,231] Trial 67 finished with value: 0.5792933200637276 and parameters: {'model__n_estimators': 376, 'model__max_depth': 8, 'model__learning_rate': 0.8876071319398781, 'model__gamma': 5.825137642499412, 'model__reg_lambda': 0.5174385925621204, 'model__min_child_weight': 2.5444224140340017}. Best is trial 31 with value: 0.5924969057792184.\n",
      "[I 2023-12-05 18:30:09,197] Trial 68 finished with value: 0.5728424748320312 and parameters: {'model__n_estimators': 62, 'model__max_depth': 6, 'model__learning_rate': 0.8102516146982716, 'model__gamma': 9.020477143970318, 'model__reg_lambda': 0.6215413038089436, 'model__min_child_weight': 2.172356650288611}. Best is trial 31 with value: 0.5924969057792184.\n",
      "[I 2023-12-05 18:30:10,663] Trial 69 finished with value: 0.5847330270005907 and parameters: {'model__n_estimators': 421, 'model__max_depth': 9, 'model__learning_rate': 0.744455872615861, 'model__gamma': 8.41049025207387, 'model__reg_lambda': 0.6748665714645236, 'model__min_child_weight': 2.3821604755477597}. Best is trial 31 with value: 0.5924969057792184.\n",
      "[I 2023-12-05 18:30:11,698] Trial 70 finished with value: 0.5940579346546733 and parameters: {'model__n_estimators': 134, 'model__max_depth': 9, 'model__learning_rate': 0.9576012279511523, 'model__gamma': 6.142640212642973, 'model__reg_lambda': 0.5467887648834683, 'model__min_child_weight': 2.77362617231071}. Best is trial 70 with value: 0.5940579346546733.\n",
      "[I 2023-12-05 18:30:12,724] Trial 71 finished with value: 0.5849090973275524 and parameters: {'model__n_estimators': 135, 'model__max_depth': 9, 'model__learning_rate': 0.967572999353544, 'model__gamma': 6.2172166548971415, 'model__reg_lambda': 0.4722486969587213, 'model__min_child_weight': 2.8141779586988056}. Best is trial 70 with value: 0.5940579346546733.\n",
      "[I 2023-12-05 18:30:13,711] Trial 72 finished with value: 0.5840514513429846 and parameters: {'model__n_estimators': 111, 'model__max_depth': 10, 'model__learning_rate': 0.8891831750109824, 'model__gamma': 6.963098174298149, 'model__reg_lambda': 0.5536264273237534, 'model__min_child_weight': 2.683025460551877}. Best is trial 70 with value: 0.5940579346546733.\n",
      "[I 2023-12-05 18:30:14,716] Trial 73 finished with value: 0.5912074911301745 and parameters: {'model__n_estimators': 130, 'model__max_depth': 9, 'model__learning_rate': 0.6303929701791674, 'model__gamma': 7.7588975324289855, 'model__reg_lambda': 0.5937682641706282, 'model__min_child_weight': 2.951664610716841}. Best is trial 70 with value: 0.5940579346546733.\n",
      "[I 2023-12-05 18:30:15,811] Trial 74 finished with value: 0.5794649331698359 and parameters: {'model__n_estimators': 176, 'model__max_depth': 9, 'model__learning_rate': 0.7838438639784002, 'model__gamma': 5.2387876606836095, 'model__reg_lambda': 0.4856427389393908, 'model__min_child_weight': 2.9662784753366416}. Best is trial 70 with value: 0.5940579346546733.\n",
      "[I 2023-12-05 18:30:16,943] Trial 75 finished with value: 0.578368966435393 and parameters: {'model__n_estimators': 207, 'model__max_depth': 10, 'model__learning_rate': 0.6790667541884794, 'model__gamma': 7.580676852311603, 'model__reg_lambda': 0.5383567830694705, 'model__min_child_weight': 3.297097428340134}. Best is trial 70 with value: 0.5940579346546733.\n",
      "[I 2023-12-05 18:30:17,965] Trial 76 finished with value: 0.5867290036479089 and parameters: {'model__n_estimators': 138, 'model__max_depth': 9, 'model__learning_rate': 0.9551281208907123, 'model__gamma': 6.180529066148627, 'model__reg_lambda': 0.5031038758868966, 'model__min_child_weight': 3.086714533458829}. Best is trial 70 with value: 0.5940579346546733.\n",
      "[I 2023-12-05 18:30:18,959] Trial 77 finished with value: 0.5795195172019901 and parameters: {'model__n_estimators': 125, 'model__max_depth': 10, 'model__learning_rate': 0.8524097153086015, 'model__gamma': 6.895263618238513, 'model__reg_lambda': 0.5859318035839562, 'model__min_child_weight': 2.863045124824835}. Best is trial 70 with value: 0.5940579346546733.\n",
      "[I 2023-12-05 18:30:20,024] Trial 78 finished with value: 0.585918888264418 and parameters: {'model__n_estimators': 165, 'model__max_depth': 8, 'model__learning_rate': 0.7078316348552591, 'model__gamma': 4.229231298512236, 'model__reg_lambda': 0.42755886997828113, 'model__min_child_weight': 3.199581292022522}. Best is trial 70 with value: 0.5940579346546733.\n",
      "[I 2023-12-05 18:30:21,145] Trial 79 finished with value: 0.5818322942923915 and parameters: {'model__n_estimators': 194, 'model__max_depth': 9, 'model__learning_rate': 0.5679456229186994, 'model__gamma': 5.442357356428429, 'model__reg_lambda': 0.6360226960369219, 'model__min_child_weight': 3.4566939790678424}. Best is trial 70 with value: 0.5940579346546733.\n",
      "[I 2023-12-05 18:30:22,096] Trial 80 finished with value: 0.5798814068551097 and parameters: {'model__n_estimators': 95, 'model__max_depth': 9, 'model__learning_rate': 0.642439182307218, 'model__gamma': 7.870350222142104, 'model__reg_lambda': 0.5524840674594566, 'model__min_child_weight': 2.7078373717575133}. Best is trial 70 with value: 0.5940579346546733.\n",
      "[I 2023-12-05 18:30:23,160] Trial 81 finished with value: 0.5877711087419228 and parameters: {'model__n_estimators': 147, 'model__max_depth': 8, 'model__learning_rate': 0.626902115278359, 'model__gamma': 8.225975437306584, 'model__reg_lambda': 0.5885224561849215, 'model__min_child_weight': 2.498087476070282}. Best is trial 70 with value: 0.5940579346546733.\n",
      "[I 2023-12-05 18:30:24,201] Trial 82 finished with value: 0.588123239269507 and parameters: {'model__n_estimators': 149, 'model__max_depth': 8, 'model__learning_rate': 0.7398067670067938, 'model__gamma': 6.432285324621433, 'model__reg_lambda': 0.6086934492869616, 'model__min_child_weight': 2.3573343897454198}. Best is trial 70 with value: 0.5940579346546733.\n",
      "[I 2023-12-05 18:30:25,255] Trial 83 finished with value: 0.5865355499190679 and parameters: {'model__n_estimators': 166, 'model__max_depth': 7, 'model__learning_rate': 0.756495639586579, 'model__gamma': 7.188832236575247, 'model__reg_lambda': 0.616429868471905, 'model__min_child_weight': 2.345560675543142}. Best is trial 70 with value: 0.5940579346546733.\n",
      "[I 2023-12-05 18:30:26,271] Trial 84 finished with value: 0.5876110158133813 and parameters: {'model__n_estimators': 147, 'model__max_depth': 8, 'model__learning_rate': 0.6368881528441563, 'model__gamma': 8.535014519329318, 'model__reg_lambda': 0.6594363798827116, 'model__min_child_weight': 2.542600640386582}. Best is trial 70 with value: 0.5940579346546733.\n",
      "[I 2023-12-05 18:30:27,304] Trial 85 finished with value: 0.5793941126560741 and parameters: {'model__n_estimators': 147, 'model__max_depth': 8, 'model__learning_rate': 0.6257161346527922, 'model__gamma': 8.866018605111844, 'model__reg_lambda': 0.6712110932741884, 'model__min_child_weight': 2.608844215306647}. Best is trial 70 with value: 0.5940579346546733.\n",
      "[I 2023-12-05 18:30:28,816] Trial 86 finished with value: 0.5772170907234621 and parameters: {'model__n_estimators': 426, 'model__max_depth': 7, 'model__learning_rate': 0.5053201385044196, 'model__gamma': 5.990453023750591, 'model__reg_lambda': 0.6539118891929213, 'model__min_child_weight': 2.460996502710539}. Best is trial 70 with value: 0.5940579346546733.\n",
      "[I 2023-12-05 18:30:29,916] Trial 87 finished with value: 0.5674081005574294 and parameters: {'model__n_estimators': 192, 'model__max_depth': 6, 'model__learning_rate': 0.8250085731097951, 'model__gamma': 7.792981263289626, 'model__reg_lambda': 0.6002241148345729, 'model__min_child_weight': 2.233968171901641}. Best is trial 70 with value: 0.5940579346546733.\n",
      "[I 2023-12-05 18:30:31,085] Trial 88 finished with value: 0.5888006390312912 and parameters: {'model__n_estimators': 220, 'model__max_depth': 8, 'model__learning_rate': 0.5742155661724668, 'model__gamma': 6.8517954501219736, 'model__reg_lambda': 0.5750597706887198, 'model__min_child_weight': 2.013955295275108}. Best is trial 70 with value: 0.5940579346546733.\n",
      "[I 2023-12-05 18:30:32,685] Trial 89 finished with value: 0.5866824722638999 and parameters: {'model__n_estimators': 402, 'model__max_depth': 8, 'model__learning_rate': 0.5684459740434596, 'model__gamma': 5.337636051611994, 'model__reg_lambda': 0.5706109981482343, 'model__min_child_weight': 2.0002778746151333}. Best is trial 70 with value: 0.5940579346546733.\n",
      "[I 2023-12-05 18:30:34,038] Trial 90 finished with value: 0.575191353140301 and parameters: {'model__n_estimators': 265, 'model__max_depth': 7, 'model__learning_rate': 0.5266402691528113, 'model__gamma': 6.597466398018701, 'model__reg_lambda': 0.6372480202582593, 'model__min_child_weight': 2.159175522666125}. Best is trial 70 with value: 0.5940579346546733.\n",
      "[I 2023-12-05 18:30:35,671] Trial 91 finished with value: 0.5697396696696383 and parameters: {'model__n_estimators': 148, 'model__max_depth': 4, 'model__learning_rate': 0.6527339542897818, 'model__gamma': 7.275230654108602, 'model__reg_lambda': 0.6998210025237813, 'model__min_child_weight': 2.5952367840843618}. Best is trial 70 with value: 0.5940579346546733.\n",
      "[I 2023-12-05 18:30:36,802] Trial 92 finished with value: 0.5843808016230732 and parameters: {'model__n_estimators': 139, 'model__max_depth': 8, 'model__learning_rate': 0.624662480850142, 'model__gamma': 7.745775094310366, 'model__reg_lambda': 0.6139434938671893, 'model__min_child_weight': 2.3207035591270877}. Best is trial 70 with value: 0.5940579346546733.\n",
      "[I 2023-12-05 18:30:38,830] Trial 93 finished with value: 0.580539793896766 and parameters: {'model__n_estimators': 465, 'model__max_depth': 8, 'model__learning_rate': 0.6672404424735044, 'model__gamma': 6.89032901740208, 'model__reg_lambda': 0.5734619336186023, 'model__min_child_weight': 2.4456504493608}. Best is trial 70 with value: 0.5940579346546733.\n",
      "[I 2023-12-05 18:30:40,054] Trial 94 finished with value: 0.5918532265615286 and parameters: {'model__n_estimators': 219, 'model__max_depth': 8, 'model__learning_rate': 0.7366645907532146, 'model__gamma': 5.5935248435060165, 'model__reg_lambda': 0.6591847394023777, 'model__min_child_weight': 1.9812209010148953}. Best is trial 70 with value: 0.5940579346546733.\n",
      "[I 2023-12-05 18:30:41,346] Trial 95 finished with value: 0.5857525004059301 and parameters: {'model__n_estimators': 236, 'model__max_depth': 8, 'model__learning_rate': 0.7797501489620583, 'model__gamma': 5.763972489157208, 'model__reg_lambda': 0.691341832197998, 'model__min_child_weight': 2.014307186303625}. Best is trial 70 with value: 0.5940579346546733.\n",
      "[I 2023-12-05 18:30:42,581] Trial 96 finished with value: 0.5821317487548316 and parameters: {'model__n_estimators': 220, 'model__max_depth': 9, 'model__learning_rate': 0.7316054750948746, 'model__gamma': 4.508506283745248, 'model__reg_lambda': 0.629463327993968, 'model__min_child_weight': 1.882652928022738}. Best is trial 70 with value: 0.5940579346546733.\n",
      "[I 2023-12-05 18:30:43,979] Trial 97 finished with value: 0.5807365656907613 and parameters: {'model__n_estimators': 349, 'model__max_depth': 7, 'model__learning_rate': 0.5761017875918356, 'model__gamma': 6.245478815647138, 'model__reg_lambda': 0.5931698398456475, 'model__min_child_weight': 2.3089910965583256}. Best is trial 70 with value: 0.5940579346546733.\n",
      "[I 2023-12-05 18:30:45,119] Trial 98 finished with value: 0.5886944790463365 and parameters: {'model__n_estimators': 193, 'model__max_depth': 8, 'model__learning_rate': 0.8496417509646974, 'model__gamma': 5.047345818767779, 'model__reg_lambda': 0.563868262043078, 'model__min_child_weight': 1.5070562985436489}. Best is trial 70 with value: 0.5940579346546733.\n",
      "[I 2023-12-05 18:30:46,277] Trial 99 finished with value: 0.5858639343636047 and parameters: {'model__n_estimators': 220, 'model__max_depth': 9, 'model__learning_rate': 0.869488018364209, 'model__gamma': 4.477393264876535, 'model__reg_lambda': 0.5291234352528991, 'model__min_child_weight': 1.635143880260601}. Best is trial 70 with value: 0.5940579346546733.\n",
      "[I 2023-12-05 18:30:47,409] Trial 100 finished with value: 0.5879446708701401 and parameters: {'model__n_estimators': 198, 'model__max_depth': 9, 'model__learning_rate': 0.9170994189388162, 'model__gamma': 5.056928447496476, 'model__reg_lambda': 0.49380771378889765, 'model__min_child_weight': 1.4068046100796505}. Best is trial 70 with value: 0.5940579346546733.\n",
      "[I 2023-12-05 18:30:48,575] Trial 101 finished with value: 0.5843662088858861 and parameters: {'model__n_estimators': 199, 'model__max_depth': 9, 'model__learning_rate': 0.9107446533667833, 'model__gamma': 5.141852658656933, 'model__reg_lambda': 0.5546911303613562, 'model__min_child_weight': 1.5513769397366086}. Best is trial 70 with value: 0.5940579346546733.\n",
      "[I 2023-12-05 18:30:49,774] Trial 102 finished with value: 0.5894930832212446 and parameters: {'model__n_estimators': 246, 'model__max_depth': 9, 'model__learning_rate': 0.8351968414463045, 'model__gamma': 4.898726260791717, 'model__reg_lambda': 0.4957006209675677, 'model__min_child_weight': 1.4333377056711198}. Best is trial 70 with value: 0.5940579346546733.\n",
      "[I 2023-12-05 18:30:50,990] Trial 103 finished with value: 0.57846470765311 and parameters: {'model__n_estimators': 252, 'model__max_depth': 10, 'model__learning_rate': 0.8329928467391416, 'model__gamma': 3.7397096809633963, 'model__reg_lambda': 0.4899197664490426, 'model__min_child_weight': 1.294913084986655}. Best is trial 70 with value: 0.5940579346546733.\n",
      "[I 2023-12-05 18:30:52,140] Trial 104 finished with value: 0.582021979152783 and parameters: {'model__n_estimators': 213, 'model__max_depth': 9, 'model__learning_rate': 0.9083816357787569, 'model__gamma': 4.945332798532649, 'model__reg_lambda': 0.45870566526859097, 'model__min_child_weight': 1.4240006637616467}. Best is trial 70 with value: 0.5940579346546733.\n",
      "[I 2023-12-05 18:30:53,347] Trial 105 finished with value: 0.592744851374673 and parameters: {'model__n_estimators': 241, 'model__max_depth': 9, 'model__learning_rate': 0.7940377920347516, 'model__gamma': 5.664196562848759, 'model__reg_lambda': 0.5279529528695668, 'model__min_child_weight': 1.065839647741365}. Best is trial 70 with value: 0.5940579346546733.\n",
      "[I 2023-12-05 18:30:54,538] Trial 106 finished with value: 0.5921127493230923 and parameters: {'model__n_estimators': 236, 'model__max_depth': 9, 'model__learning_rate': 0.7991704378144648, 'model__gamma': 5.785130842148158, 'model__reg_lambda': 0.5277655117108135, 'model__min_child_weight': 0.9914707685107058}. Best is trial 70 with value: 0.5940579346546733.\n",
      "[I 2023-12-05 18:30:55,738] Trial 107 finished with value: 0.5876552863758255 and parameters: {'model__n_estimators': 245, 'model__max_depth': 10, 'model__learning_rate': 0.8029402405073137, 'model__gamma': 5.590870337116208, 'model__reg_lambda': 0.5167156758870641, 'model__min_child_weight': 0.9720755481927875}. Best is trial 70 with value: 0.5940579346546733.\n",
      "[I 2023-12-05 18:30:57,005] Trial 108 finished with value: 0.5872034434242567 and parameters: {'model__n_estimators': 278, 'model__max_depth': 9, 'model__learning_rate': 0.8505351526010001, 'model__gamma': 4.157402571414637, 'model__reg_lambda': 0.5560787294517062, 'model__min_child_weight': 0.8887868282970334}. Best is trial 70 with value: 0.5940579346546733.\n",
      "[I 2023-12-05 18:30:58,186] Trial 109 finished with value: 0.580900332930001 and parameters: {'model__n_estimators': 231, 'model__max_depth': 9, 'model__learning_rate': 0.7724111097648796, 'model__gamma': 4.5623854013447165, 'model__reg_lambda': 0.5311992536674656, 'model__min_child_weight': 1.099948366427282}. Best is trial 70 with value: 0.5940579346546733.\n",
      "[I 2023-12-05 18:30:59,428] Trial 110 finished with value: 0.5881004741428775 and parameters: {'model__n_estimators': 269, 'model__max_depth': 10, 'model__learning_rate': 0.871264553639203, 'model__gamma': 6.017399455662129, 'model__reg_lambda': 0.4498285172823643, 'model__min_child_weight': 1.8253754417776809}. Best is trial 70 with value: 0.5940579346546733.\n",
      "[I 2023-12-05 18:31:00,643] Trial 111 finished with value: 0.5914216265544773 and parameters: {'model__n_estimators': 243, 'model__max_depth': 9, 'model__learning_rate': 0.8095641782101699, 'model__gamma': 6.5475953175868185, 'model__reg_lambda': 0.46905797127348503, 'model__min_child_weight': 2.148805685753686}. Best is trial 70 with value: 0.5940579346546733.\n",
      "[I 2023-12-05 18:31:01,845] Trial 112 finished with value: 0.5918169614419841 and parameters: {'model__n_estimators': 245, 'model__max_depth': 9, 'model__learning_rate': 0.8077726149769016, 'model__gamma': 5.51540762148469, 'model__reg_lambda': 0.46934694814901173, 'model__min_child_weight': 1.9443388137630797}. Best is trial 70 with value: 0.5940579346546733.\n",
      "[I 2023-12-05 18:31:03,167] Trial 113 finished with value: 0.5936314759419326 and parameters: {'model__n_estimators': 290, 'model__max_depth': 9, 'model__learning_rate': 0.7866132647028938, 'model__gamma': 5.725207514338806, 'model__reg_lambda': 0.4712090461963409, 'model__min_child_weight': 1.9584051590772635}. Best is trial 70 with value: 0.5940579346546733.\n",
      "[I 2023-12-05 18:31:04,438] Trial 114 finished with value: 0.588419557227981 and parameters: {'model__n_estimators': 294, 'model__max_depth': 9, 'model__learning_rate': 0.8049914980028586, 'model__gamma': 5.59513240577677, 'model__reg_lambda': 0.4668627740955096, 'model__min_child_weight': 2.140473210944455}. Best is trial 70 with value: 0.5940579346546733.\n",
      "[I 2023-12-05 18:31:05,739] Trial 115 finished with value: 0.5920372659760142 and parameters: {'model__n_estimators': 245, 'model__max_depth': 9, 'model__learning_rate': 0.765596919341588, 'model__gamma': 5.95763292367983, 'model__reg_lambda': 0.4091785410957603, 'model__min_child_weight': 1.7606722229343672}. Best is trial 70 with value: 0.5940579346546733.\n",
      "[I 2023-12-05 18:31:07,048] Trial 116 finished with value: 0.586858322141621 and parameters: {'model__n_estimators': 261, 'model__max_depth': 9, 'model__learning_rate': 0.7733652503813526, 'model__gamma': 5.418950313045746, 'model__reg_lambda': 0.41452340485409184, 'model__min_child_weight': 1.7658429965697513}. Best is trial 70 with value: 0.5940579346546733.\n",
      "[I 2023-12-05 18:31:08,336] Trial 117 finished with value: 0.5889385015557456 and parameters: {'model__n_estimators': 245, 'model__max_depth': 9, 'model__learning_rate': 0.7255886686756483, 'model__gamma': 5.958242903557336, 'model__reg_lambda': 0.3821786611674718, 'model__min_child_weight': 1.673983032217579}. Best is trial 70 with value: 0.5940579346546733.\n",
      "[I 2023-12-05 18:31:09,545] Trial 118 finished with value: 0.5756755433015964 and parameters: {'model__n_estimators': 248, 'model__max_depth': 10, 'model__learning_rate': 0.9386291159681277, 'model__gamma': 3.4569051390016483, 'model__reg_lambda': 0.4401597822221393, 'model__min_child_weight': 1.755356604613843}. Best is trial 70 with value: 0.5940579346546733.\n",
      "[I 2023-12-05 18:31:10,837] Trial 119 finished with value: 0.5907060506289057 and parameters: {'model__n_estimators': 290, 'model__max_depth': 9, 'model__learning_rate': 0.8317663036015421, 'model__gamma': 6.35126244916056, 'model__reg_lambda': 0.4727635671743346, 'model__min_child_weight': 1.928035358325947}. Best is trial 70 with value: 0.5940579346546733.\n",
      "[I 2023-12-05 18:31:12,120] Trial 120 finished with value: 0.5869943644246958 and parameters: {'model__n_estimators': 288, 'model__max_depth': 9, 'model__learning_rate': 0.817078600219365, 'model__gamma': 6.548448790819711, 'model__reg_lambda': 0.4677468316453221, 'model__min_child_weight': 2.1367108805433688}. Best is trial 70 with value: 0.5940579346546733.\n",
      "[I 2023-12-05 18:31:13,385] Trial 121 finished with value: 0.5816718718615501 and parameters: {'model__n_estimators': 273, 'model__max_depth': 9, 'model__learning_rate': 0.882358365953196, 'model__gamma': 6.066016841959418, 'model__reg_lambda': 0.5013822542297413, 'model__min_child_weight': 1.9220400278821104}. Best is trial 70 with value: 0.5940579346546733.\n",
      "[I 2023-12-05 18:31:14,774] Trial 122 finished with value: 0.5906588316469559 and parameters: {'model__n_estimators': 258, 'model__max_depth': 9, 'model__learning_rate': 0.8375716911768945, 'model__gamma': 4.649633654988173, 'model__reg_lambda': 0.47271603361616976, 'model__min_child_weight': 1.9144239953801712}. Best is trial 70 with value: 0.5940579346546733.\n",
      "[I 2023-12-05 18:31:16,229] Trial 123 finished with value: 0.593482001352269 and parameters: {'model__n_estimators': 256, 'model__max_depth': 9, 'model__learning_rate': 0.7615863435391657, 'model__gamma': 5.70083043225308, 'model__reg_lambda': 0.4352123289958192, 'model__min_child_weight': 1.9577109385691795}. Best is trial 70 with value: 0.5940579346546733.\n",
      "[I 2023-12-05 18:31:18,440] Trial 124 finished with value: 0.5888537958343505 and parameters: {'model__n_estimators': 233, 'model__max_depth': 9, 'model__learning_rate': 0.759332950912971, 'model__gamma': 5.664018379587634, 'model__reg_lambda': 0.43345932397658016, 'model__min_child_weight': 2.0991442650714554}. Best is trial 70 with value: 0.5940579346546733.\n",
      "[I 2023-12-05 18:31:20,942] Trial 125 finished with value: 0.5890892574659579 and parameters: {'model__n_estimators': 322, 'model__max_depth': 9, 'model__learning_rate': 0.727999663655285, 'model__gamma': 6.4333988804511835, 'model__reg_lambda': 0.41283585699678255, 'model__min_child_weight': 1.9655198593268666}. Best is trial 70 with value: 0.5940579346546733.\n",
      "[I 2023-12-05 18:31:23,029] Trial 126 finished with value: 0.5861131078699598 and parameters: {'model__n_estimators': 307, 'model__max_depth': 10, 'model__learning_rate': 0.8062290093268231, 'model__gamma': 7.107746503346184, 'model__reg_lambda': 0.39159118934696946, 'model__min_child_weight': 1.6970479806977747}. Best is trial 70 with value: 0.5940579346546733.\n",
      "[I 2023-12-05 18:31:25,250] Trial 127 finished with value: 0.5960455735525293 and parameters: {'model__n_estimators': 276, 'model__max_depth': 9, 'model__learning_rate': 0.7857360763956772, 'model__gamma': 6.738225249228704, 'model__reg_lambda': 0.4485503363180363, 'model__min_child_weight': 1.8507681384621069}. Best is trial 127 with value: 0.5960455735525293.\n",
      "[I 2023-12-05 18:31:27,593] Trial 128 finished with value: 0.5969008077822411 and parameters: {'model__n_estimators': 278, 'model__max_depth': 9, 'model__learning_rate': 0.7863672721801814, 'model__gamma': 6.841631673853176, 'model__reg_lambda': 0.3686078908123821, 'model__min_child_weight': 1.805976847303441}. Best is trial 128 with value: 0.5969008077822411.\n",
      "[I 2023-12-05 18:31:30,340] Trial 129 finished with value: 0.5843102611343325 and parameters: {'model__n_estimators': 274, 'model__max_depth': 10, 'model__learning_rate': 0.7801733254599458, 'model__gamma': 5.4552121596477825, 'model__reg_lambda': 0.3576878005353685, 'model__min_child_weight': 1.8139926591471487}. Best is trial 128 with value: 0.5969008077822411.\n",
      "[I 2023-12-05 18:31:31,754] Trial 130 finished with value: 0.5917113202194272 and parameters: {'model__n_estimators': 260, 'model__max_depth': 9, 'model__learning_rate': 0.7488194544301278, 'model__gamma': 6.6818283016615165, 'model__reg_lambda': 0.4296066934001503, 'model__min_child_weight': 1.6602452680817408}. Best is trial 128 with value: 0.5969008077822411.\n",
      "[I 2023-12-05 18:31:33,344] Trial 131 finished with value: 0.58812476916228 and parameters: {'model__n_estimators': 254, 'model__max_depth': 9, 'model__learning_rate': 0.7456744143375589, 'model__gamma': 6.756758775864139, 'model__reg_lambda': 0.4146162081379753, 'model__min_child_weight': 1.8057062210242438}. Best is trial 128 with value: 0.5969008077822411.\n",
      "[I 2023-12-05 18:31:34,801] Trial 132 finished with value: 0.5923607868627807 and parameters: {'model__n_estimators': 263, 'model__max_depth': 9, 'model__learning_rate': 0.7800771456196277, 'model__gamma': 7.311407022991312, 'model__reg_lambda': 0.44633682081073645, 'model__min_child_weight': 1.573001335288441}. Best is trial 128 with value: 0.5969008077822411.\n",
      "[I 2023-12-05 18:31:36,595] Trial 133 finished with value: 0.5866747280665838 and parameters: {'model__n_estimators': 263, 'model__max_depth': 9, 'model__learning_rate': 0.7909535772670121, 'model__gamma': 6.0069214748115085, 'model__reg_lambda': 0.43273026019415767, 'model__min_child_weight': 1.5592608948464308}. Best is trial 128 with value: 0.5969008077822411.\n",
      "[I 2023-12-05 18:31:38,789] Trial 134 finished with value: 0.5904823686654955 and parameters: {'model__n_estimators': 279, 'model__max_depth': 9, 'model__learning_rate': 0.7589733100900717, 'model__gamma': 7.327541647168083, 'model__reg_lambda': 0.4510898040282779, 'model__min_child_weight': 1.6980452634485894}. Best is trial 128 with value: 0.5969008077822411.\n",
      "[I 2023-12-05 18:31:41,591] Trial 135 finished with value: 0.5848891254705688 and parameters: {'model__n_estimators': 242, 'model__max_depth': 9, 'model__learning_rate': 0.8724131141694565, 'model__gamma': 5.755644295812504, 'model__reg_lambda': 0.3835360332736969, 'model__min_child_weight': 2.0539153179326477}. Best is trial 128 with value: 0.5969008077822411.\n",
      "[I 2023-12-05 18:31:44,358] Trial 136 finished with value: 0.5925223124217165 and parameters: {'model__n_estimators': 226, 'model__max_depth': 9, 'model__learning_rate': 0.7183506950054437, 'model__gamma': 6.748739977646622, 'model__reg_lambda': 0.4024593613122335, 'model__min_child_weight': 1.6144009975433136}. Best is trial 128 with value: 0.5969008077822411.\n",
      "[I 2023-12-05 18:31:45,589] Trial 137 finished with value: 0.5918048751450333 and parameters: {'model__n_estimators': 223, 'model__max_depth': 9, 'model__learning_rate': 0.7008896510095923, 'model__gamma': 7.04279688940016, 'model__reg_lambda': 0.3706604335382388, 'model__min_child_weight': 1.6348453725614622}. Best is trial 128 with value: 0.5969008077822411.\n",
      "[I 2023-12-05 18:31:46,777] Trial 138 finished with value: 0.5910171326655843 and parameters: {'model__n_estimators': 225, 'model__max_depth': 10, 'model__learning_rate': 0.6901428056982256, 'model__gamma': 7.166156894652458, 'model__reg_lambda': 0.36315053481348275, 'model__min_child_weight': 1.592420049483498}. Best is trial 128 with value: 0.5969008077822411.\n",
      "[I 2023-12-05 18:31:48,132] Trial 139 finished with value: 0.5883034809823302 and parameters: {'model__n_estimators': 229, 'model__max_depth': 9, 'model__learning_rate': 0.7157109105130498, 'model__gamma': 5.220979228471492, 'model__reg_lambda': 0.33606945058773274, 'model__min_child_weight': 1.8555681542718125}. Best is trial 128 with value: 0.5969008077822411.\n",
      "[I 2023-12-05 18:31:49,393] Trial 140 finished with value: 0.59945639953666 and parameters: {'model__n_estimators': 212, 'model__max_depth': 9, 'model__learning_rate': 0.6879186068851252, 'model__gamma': 6.219652904876014, 'model__reg_lambda': 0.3988855123288285, 'model__min_child_weight': 1.2902837520253796}. Best is trial 140 with value: 0.59945639953666.\n",
      "[I 2023-12-05 18:31:50,607] Trial 141 finished with value: 0.5982111317925787 and parameters: {'model__n_estimators': 212, 'model__max_depth': 9, 'model__learning_rate': 0.6879521223198487, 'model__gamma': 6.042220500189651, 'model__reg_lambda': 0.4023242224816468, 'model__min_child_weight': 1.2958683850967856}. Best is trial 140 with value: 0.59945639953666.\n",
      "[I 2023-12-05 18:31:51,751] Trial 142 finished with value: 0.5936331021165586 and parameters: {'model__n_estimators': 207, 'model__max_depth': 9, 'model__learning_rate': 0.6762446611708196, 'model__gamma': 5.909713999518123, 'model__reg_lambda': 0.40522939019299575, 'model__min_child_weight': 1.3065436476180583}. Best is trial 140 with value: 0.59945639953666.\n",
      "[I 2023-12-05 18:31:52,891] Trial 143 finished with value: 0.5967302400298788 and parameters: {'model__n_estimators': 210, 'model__max_depth': 9, 'model__learning_rate': 0.6761938892202708, 'model__gamma': 6.17380196614472, 'model__reg_lambda': 0.3969835589904978, 'model__min_child_weight': 1.286650884875427}. Best is trial 140 with value: 0.59945639953666.\n",
      "[I 2023-12-05 18:31:54,076] Trial 144 finished with value: 0.5834701309044664 and parameters: {'model__n_estimators': 209, 'model__max_depth': 9, 'model__learning_rate': 0.6659714962311923, 'model__gamma': 6.076486444651218, 'model__reg_lambda': 0.4006005273549044, 'model__min_child_weight': 1.287283999559521}. Best is trial 140 with value: 0.59945639953666.\n",
      "[I 2023-12-05 18:31:55,190] Trial 145 finished with value: 0.5924876169437162 and parameters: {'model__n_estimators': 183, 'model__max_depth': 9, 'model__learning_rate': 0.6750489142031114, 'model__gamma': 6.154657662448779, 'model__reg_lambda': 0.40002761016790733, 'model__min_child_weight': 1.189576544014826}. Best is trial 140 with value: 0.59945639953666.\n",
      "[I 2023-12-05 18:31:56,391] Trial 146 finished with value: 0.5867856271371639 and parameters: {'model__n_estimators': 210, 'model__max_depth': 9, 'model__learning_rate': 0.6721713551092489, 'model__gamma': 6.3428138965499326, 'model__reg_lambda': 0.38562718235403737, 'model__min_child_weight': 1.231017400521423}. Best is trial 140 with value: 0.59945639953666.\n",
      "[I 2023-12-05 18:31:57,575] Trial 147 finished with value: 0.5868648299327942 and parameters: {'model__n_estimators': 205, 'model__max_depth': 9, 'model__learning_rate': 0.7138350249488922, 'model__gamma': 7.499019924879696, 'model__reg_lambda': 0.30707449429531775, 'model__min_child_weight': 1.1443562106875362}. Best is trial 140 with value: 0.59945639953666.\n",
      "[I 2023-12-05 18:31:58,748] Trial 148 finished with value: 0.5563249311597438 and parameters: {'model__n_estimators': 236, 'model__max_depth': 2, 'model__learning_rate': 0.680463686223925, 'model__gamma': 6.719979432138712, 'model__reg_lambda': 0.344854507549772, 'model__min_child_weight': 1.3312256165313203}. Best is trial 140 with value: 0.59945639953666.\n",
      "[I 2023-12-05 18:31:59,918] Trial 149 finished with value: 0.593164080543624 and parameters: {'model__n_estimators': 186, 'model__max_depth': 9, 'model__learning_rate': 0.7270824258799096, 'model__gamma': 5.095353537897788, 'model__reg_lambda': 0.3710094558977795, 'model__min_child_weight': 1.200398466866407}. Best is trial 140 with value: 0.59945639953666.\n",
      "[I 2023-12-05 18:32:01,612] Trial 150 finished with value: 0.591671976953569 and parameters: {'model__n_estimators': 179, 'model__max_depth': 9, 'model__learning_rate': 0.7277581391931153, 'model__gamma': 5.208334158914065, 'model__reg_lambda': 0.3748263071210469, 'model__min_child_weight': 1.43946332800258}. Best is trial 140 with value: 0.59945639953666.\n",
      "[I 2023-12-05 18:32:02,854] Trial 151 finished with value: 0.5768886711030229 and parameters: {'model__n_estimators': 191, 'model__max_depth': 9, 'model__learning_rate': 0.6790053263171458, 'model__gamma': 4.830769771527325, 'model__reg_lambda': 0.4007012829478005, 'model__min_child_weight': 1.2038010959511414}. Best is trial 140 with value: 0.59945639953666.\n",
      "[I 2023-12-05 18:32:04,798] Trial 152 finished with value: 0.589006290352723 and parameters: {'model__n_estimators': 189, 'model__max_depth': 9, 'model__learning_rate': 0.7716136912521807, 'model__gamma': 6.122884951919343, 'model__reg_lambda': 0.3593154920709489, 'model__min_child_weight': 1.0290252488829081}. Best is trial 140 with value: 0.59945639953666.\n",
      "[I 2023-12-05 18:32:06,700] Trial 153 finished with value: 0.5702216702970142 and parameters: {'model__n_estimators': 184, 'model__max_depth': 4, 'model__learning_rate': 0.7087311899643288, 'model__gamma': 5.738055528791976, 'model__reg_lambda': 0.4192331758962863, 'model__min_child_weight': 1.0997594051956132}. Best is trial 140 with value: 0.59945639953666.\n",
      "[I 2023-12-05 18:32:08,143] Trial 154 finished with value: 0.5834736720461674 and parameters: {'model__n_estimators': 210, 'model__max_depth': 9, 'model__learning_rate': 0.6016605994055236, 'model__gamma': 6.936853447504147, 'model__reg_lambda': 0.37826364456802647, 'model__min_child_weight': 1.3212725247113963}. Best is trial 140 with value: 0.59945639953666.\n",
      "[I 2023-12-05 18:32:09,436] Trial 155 finished with value: 0.5828185704482026 and parameters: {'model__n_estimators': 168, 'model__max_depth': 9, 'model__learning_rate': 0.6532631797901316, 'model__gamma': 5.295339414846744, 'model__reg_lambda': 0.32177973267708626, 'model__min_child_weight': 0.862120733874321}. Best is trial 140 with value: 0.59945639953666.\n",
      "[I 2023-12-05 18:32:10,770] Trial 156 finished with value: 0.5876130853857491 and parameters: {'model__n_estimators': 202, 'model__max_depth': 10, 'model__learning_rate': 0.7873056759046502, 'model__gamma': 6.38801270631289, 'model__reg_lambda': 0.4413048623881817, 'model__min_child_weight': 1.221849784212417}. Best is trial 140 with value: 0.59945639953666.\n",
      "[I 2023-12-05 18:32:12,599] Trial 157 finished with value: 0.5874001794720801 and parameters: {'model__n_estimators': 218, 'model__max_depth': 9, 'model__learning_rate': 0.7344606122653782, 'model__gamma': 4.465886211579036, 'model__reg_lambda': 0.3965339596483484, 'model__min_child_weight': 1.318805337679972}. Best is trial 140 with value: 0.59945639953666.\n",
      "[I 2023-12-05 18:32:14,076] Trial 158 finished with value: 0.5929801908725698 and parameters: {'model__n_estimators': 173, 'model__max_depth': 9, 'model__learning_rate': 0.6845307882164674, 'model__gamma': 7.373230952762413, 'model__reg_lambda': 0.4186664130866365, 'model__min_child_weight': 1.5014184462128237}. Best is trial 140 with value: 0.59945639953666.\n",
      "[I 2023-12-05 18:32:15,201] Trial 159 finished with value: 0.5925666849437485 and parameters: {'model__n_estimators': 171, 'model__max_depth': 9, 'model__learning_rate': 0.6544449060994207, 'model__gamma': 7.411308212765235, 'model__reg_lambda': 0.42248806986965504, 'model__min_child_weight': 1.4919898463484143}. Best is trial 140 with value: 0.59945639953666.\n",
      "[I 2023-12-05 18:32:16,309] Trial 160 finished with value: 0.5949698047866978 and parameters: {'model__n_estimators': 170, 'model__max_depth': 9, 'model__learning_rate': 0.6122890223530443, 'model__gamma': 6.95738526176341, 'model__reg_lambda': 0.41818876990556086, 'model__min_child_weight': 1.4711058197229325}. Best is trial 140 with value: 0.59945639953666.\n",
      "[I 2023-12-05 18:32:17,392] Trial 161 finished with value: 0.5818790107198352 and parameters: {'model__n_estimators': 171, 'model__max_depth': 9, 'model__learning_rate': 0.6156178940127737, 'model__gamma': 6.774643327283487, 'model__reg_lambda': 0.41640140898931693, 'model__min_child_weight': 1.462994067807144}. Best is trial 140 with value: 0.59945639953666.\n",
      "[I 2023-12-05 18:32:18,460] Trial 162 finished with value: 0.5997854388787498 and parameters: {'model__n_estimators': 162, 'model__max_depth': 9, 'model__learning_rate': 0.6497129168099312, 'model__gamma': 6.157751366938024, 'model__reg_lambda': 0.395668165690223, 'model__min_child_weight': 1.4870070949819227}. Best is trial 162 with value: 0.5997854388787498.\n",
      "[I 2023-12-05 18:32:19,574] Trial 163 finished with value: 0.5889465989802153 and parameters: {'model__n_estimators': 156, 'model__max_depth': 9, 'model__learning_rate': 0.6307415025142423, 'model__gamma': 7.545809240891449, 'model__reg_lambda': 0.34281642884832203, 'model__min_child_weight': 1.4972747662210608}. Best is trial 162 with value: 0.5997854388787498.\n",
      "[I 2023-12-05 18:32:20,642] Trial 164 finished with value: 0.5837410793545714 and parameters: {'model__n_estimators': 161, 'model__max_depth': 9, 'model__learning_rate': 0.594272428412848, 'model__gamma': 6.524521679978742, 'model__reg_lambda': 0.36155937675488803, 'model__min_child_weight': 1.4076990615030087}. Best is trial 162 with value: 0.5997854388787498.\n",
      "[I 2023-12-05 18:32:21,734] Trial 165 finished with value: 0.586176652448875 and parameters: {'model__n_estimators': 178, 'model__max_depth': 9, 'model__learning_rate': 0.6535472901856174, 'model__gamma': 7.946045397943111, 'model__reg_lambda': 0.42645211592005405, 'model__min_child_weight': 1.4950612645150894}. Best is trial 162 with value: 0.5997854388787498.\n",
      "[I 2023-12-05 18:32:22,822] Trial 166 finished with value: 0.566192478616993 and parameters: {'model__n_estimators': 172, 'model__max_depth': 3, 'model__learning_rate': 0.7041098790374195, 'model__gamma': 6.724339686895337, 'model__reg_lambda': 0.38437580047748693, 'model__min_child_weight': 1.3600038124739713}. Best is trial 162 with value: 0.5997854388787498.\n",
      "[I 2023-12-05 18:32:23,954] Trial 167 finished with value: 0.5922374816268914 and parameters: {'model__n_estimators': 197, 'model__max_depth': 9, 'model__learning_rate': 0.6381267024856253, 'model__gamma': 6.997390540941894, 'model__reg_lambda': 0.40399586291456824, 'model__min_child_weight': 1.5104733395624963}. Best is trial 162 with value: 0.5997854388787498.\n",
      "[I 2023-12-05 18:32:25,071] Trial 168 finished with value: 0.6001543820185669 and parameters: {'model__n_estimators': 186, 'model__max_depth': 9, 'model__learning_rate': 0.6951594911997011, 'model__gamma': 6.1561337654244, 'model__reg_lambda': 0.4502683057520537, 'model__min_child_weight': 1.3588491885722285}. Best is trial 168 with value: 0.6001543820185669.\n",
      "[I 2023-12-05 18:32:26,436] Trial 169 finished with value: 0.5932017929776056 and parameters: {'model__n_estimators': 300, 'model__max_depth': 10, 'model__learning_rate': 0.6893492534502816, 'model__gamma': 5.868418319939992, 'model__reg_lambda': 0.4497551955525866, 'model__min_child_weight': 1.5917127508778555}. Best is trial 168 with value: 0.6001543820185669.\n",
      "[I 2023-12-05 18:32:27,769] Trial 170 finished with value: 0.5846072523558861 and parameters: {'model__n_estimators': 301, 'model__max_depth': 10, 'model__learning_rate': 0.684148240770117, 'model__gamma': 4.8946220788752886, 'model__reg_lambda': 0.45125159620922956, 'model__min_child_weight': 1.3600089582625992}. Best is trial 168 with value: 0.6001543820185669.\n",
      "[I 2023-12-05 18:32:29,089] Trial 171 finished with value: 0.5994550402993888 and parameters: {'model__n_estimators': 312, 'model__max_depth': 10, 'model__learning_rate': 0.6592827471936323, 'model__gamma': 5.809413064807696, 'model__reg_lambda': 0.4274951963428703, 'model__min_child_weight': 1.5991738467079935}. Best is trial 168 with value: 0.6001543820185669.\n",
      "[I 2023-12-05 18:32:30,436] Trial 172 finished with value: 0.5883048884020485 and parameters: {'model__n_estimators': 310, 'model__max_depth': 10, 'model__learning_rate': 0.5990689095139023, 'model__gamma': 5.732004145610246, 'model__reg_lambda': 0.4292167666096828, 'model__min_child_weight': 1.4044384194671151}. Best is trial 168 with value: 0.6001543820185669.\n",
      "[I 2023-12-05 18:32:31,750] Trial 173 finished with value: 0.5849301180873555 and parameters: {'model__n_estimators': 294, 'model__max_depth': 10, 'model__learning_rate': 0.6397341291543263, 'model__gamma': 5.331729952286601, 'model__reg_lambda': 0.44863282162613394, 'model__min_child_weight': 1.2561902057278769}. Best is trial 168 with value: 0.6001543820185669.\n",
      "[I 2023-12-05 18:32:33,094] Trial 174 finished with value: 0.5802903064361488 and parameters: {'model__n_estimators': 315, 'model__max_depth': 10, 'model__learning_rate': 0.540678218908293, 'model__gamma': 6.014044892847458, 'model__reg_lambda': 0.42559335295165623, 'model__min_child_weight': 1.5925979236315553}. Best is trial 168 with value: 0.6001543820185669.\n",
      "[I 2023-12-05 18:32:34,375] Trial 175 finished with value: 0.5839390479493426 and parameters: {'model__n_estimators': 280, 'model__max_depth': 10, 'model__learning_rate': 1.0295971721256727, 'model__gamma': 6.339001298061587, 'model__reg_lambda': 0.3724620514528955, 'model__min_child_weight': 1.1114898271991533}. Best is trial 168 with value: 0.6001543820185669.\n",
      "[I 2023-12-05 18:32:35,502] Trial 176 finished with value: 0.5876076571372398 and parameters: {'model__n_estimators': 188, 'model__max_depth': 10, 'model__learning_rate': 0.6628456239094247, 'model__gamma': 5.520361011626425, 'model__reg_lambda': 0.45570901801318753, 'model__min_child_weight': 1.5106733108030461}. Best is trial 168 with value: 0.6001543820185669.\n",
      "[I 2023-12-05 18:32:36,614] Trial 177 finished with value: 0.5933824329284444 and parameters: {'model__n_estimators': 170, 'model__max_depth': 9, 'model__learning_rate': 0.6955211949156913, 'model__gamma': 5.815317061179538, 'model__reg_lambda': 0.3890608052526973, 'model__min_child_weight': 1.7123408885621374}. Best is trial 168 with value: 0.6001543820185669.\n",
      "[I 2023-12-05 18:32:37,964] Trial 178 finished with value: 0.5834551662437093 and parameters: {'model__n_estimators': 325, 'model__max_depth': 10, 'model__learning_rate': 0.7359776085912206, 'model__gamma': 4.944962039283723, 'model__reg_lambda': 0.3848064029937085, 'model__min_child_weight': 1.708260626228922}. Best is trial 168 with value: 0.6001543820185669.\n",
      "[I 2023-12-05 18:32:39,279] Trial 179 finished with value: 0.5797774632714192 and parameters: {'model__n_estimators': 303, 'model__max_depth': 9, 'model__learning_rate': 0.6873972040064854, 'model__gamma': 4.071765520127002, 'model__reg_lambda': 0.33794112816533356, 'model__min_child_weight': 1.3269174007769886}. Best is trial 168 with value: 0.6001543820185669.\n",
      "[I 2023-12-05 18:32:40,573] Trial 180 finished with value: 0.5805846992744159 and parameters: {'model__n_estimators': 285, 'model__max_depth': 9, 'model__learning_rate': 0.6135749655356931, 'model__gamma': 5.971909136067933, 'model__reg_lambda': 0.4795495624758099, 'model__min_child_weight': 1.2301146924622415}. Best is trial 168 with value: 0.6001543820185669.\n",
      "[I 2023-12-05 18:32:41,647] Trial 181 finished with value: 0.5922076469888102 and parameters: {'model__n_estimators': 165, 'model__max_depth': 9, 'model__learning_rate': 0.6511165641956296, 'model__gamma': 6.242581907937722, 'model__reg_lambda': 0.4119011615262289, 'model__min_child_weight': 1.563851396584497}. Best is trial 168 with value: 0.6001543820185669.\n",
      "[I 2023-12-05 18:32:42,727] Trial 182 finished with value: 0.5865975491716745 and parameters: {'model__n_estimators': 174, 'model__max_depth': 9, 'model__learning_rate': 0.7060443605744949, 'model__gamma': 5.643812620097623, 'model__reg_lambda': 0.4278962654509997, 'model__min_child_weight': 1.724478548662264}. Best is trial 168 with value: 0.6001543820185669.\n",
      "[I 2023-12-05 18:32:43,843] Trial 183 finished with value: 0.5717913109121019 and parameters: {'model__n_estimators': 158, 'model__max_depth': 9, 'model__learning_rate': 0.5724485120839381, 'model__gamma': 5.235916429156159, 'model__reg_lambda': 0.36491958908298067, 'model__min_child_weight': 1.4241569210331921}. Best is trial 168 with value: 0.6001543820185669.\n",
      "[I 2023-12-05 18:32:44,937] Trial 184 finished with value: 0.5882823120758343 and parameters: {'model__n_estimators': 184, 'model__max_depth': 9, 'model__learning_rate': 0.7464874143928308, 'model__gamma': 7.09850425167327, 'model__reg_lambda': 0.3956191563935991, 'model__min_child_weight': 1.6406904622769745}. Best is trial 168 with value: 0.6001543820185669.\n",
      "[I 2023-12-05 18:32:46,043] Trial 185 finished with value: 0.5879709258071975 and parameters: {'model__n_estimators': 200, 'model__max_depth': 9, 'model__learning_rate': 0.6773992607706782, 'model__gamma': 6.410978988628102, 'model__reg_lambda': 0.45041973544067826, 'model__min_child_weight': 1.8253032001305278}. Best is trial 168 with value: 0.6001543820185669.\n",
      "[I 2023-12-05 18:32:47,213] Trial 186 finished with value: 0.5980461028323969 and parameters: {'model__n_estimators': 175, 'model__max_depth': 9, 'model__learning_rate': 0.7031914752033036, 'model__gamma': 5.922888985710746, 'model__reg_lambda': 0.41686147671011503, 'model__min_child_weight': 1.490033067387166}. Best is trial 168 with value: 0.6001543820185669.\n",
      "[I 2023-12-05 18:32:48,574] Trial 187 finished with value: 0.5993645859421661 and parameters: {'model__n_estimators': 189, 'model__max_depth': 9, 'model__learning_rate': 0.7059521580135267, 'model__gamma': 5.899567913637382, 'model__reg_lambda': 0.49126248654781174, 'model__min_child_weight': 1.1634900026651782}. Best is trial 168 with value: 0.6001543820185669.\n",
      "[I 2023-12-05 18:32:49,726] Trial 188 finished with value: 0.5962856689486709 and parameters: {'model__n_estimators': 196, 'model__max_depth': 9, 'model__learning_rate': 0.7039442273236267, 'model__gamma': 5.89023588388027, 'model__reg_lambda': 0.38974840664607646, 'model__min_child_weight': 1.1512780200454884}. Best is trial 168 with value: 0.6001543820185669.\n",
      "[I 2023-12-05 18:32:50,912] Trial 189 finished with value: 0.5839164554655032 and parameters: {'model__n_estimators': 193, 'model__max_depth': 10, 'model__learning_rate': 0.7068337525501989, 'model__gamma': 4.754167184303675, 'model__reg_lambda': 0.4922181167094897, 'model__min_child_weight': 1.1423043624926164}. Best is trial 168 with value: 0.6001543820185669.\n",
      "[I 2023-12-05 18:32:52,055] Trial 190 finished with value: 0.5938243802224166 and parameters: {'model__n_estimators': 206, 'model__max_depth': 9, 'model__learning_rate': 0.7346029961655474, 'model__gamma': 5.867657524270701, 'model__reg_lambda': 0.39220749684811157, 'model__min_child_weight': 1.2523885244241122}. Best is trial 168 with value: 0.6001543820185669.\n",
      "[I 2023-12-05 18:32:53,181] Trial 191 finished with value: 0.5866595634105535 and parameters: {'model__n_estimators': 198, 'model__max_depth': 9, 'model__learning_rate': 0.724718903558148, 'model__gamma': 6.068903044493993, 'model__reg_lambda': 0.38873617749542394, 'model__min_child_weight': 1.2459907981681693}. Best is trial 168 with value: 0.6001543820185669.\n",
      "[I 2023-12-05 18:32:54,342] Trial 192 finished with value: 0.5844208140943238 and parameters: {'model__n_estimators': 212, 'model__max_depth': 9, 'model__learning_rate': 0.7517492339686627, 'model__gamma': 5.287492108705437, 'model__reg_lambda': 0.3668142969417608, 'model__min_child_weight': 1.3489136421502577}. Best is trial 168 with value: 0.6001543820185669.\n",
      "[I 2023-12-05 18:32:55,450] Trial 193 finished with value: 0.5933334854807686 and parameters: {'model__n_estimators': 187, 'model__max_depth': 9, 'model__learning_rate': 0.6947897623035818, 'model__gamma': 5.761923823043727, 'model__reg_lambda': 0.4409184416235064, 'model__min_child_weight': 1.1923004956834886}. Best is trial 168 with value: 0.6001543820185669.\n",
      "[I 2023-12-05 18:32:56,669] Trial 194 finished with value: 0.5941102701165912 and parameters: {'model__n_estimators': 202, 'model__max_depth': 9, 'model__learning_rate': 0.6963093160201016, 'model__gamma': 5.766045421299698, 'model__reg_lambda': 0.44267906884189684, 'model__min_child_weight': 1.0558415742473524}. Best is trial 168 with value: 0.6001543820185669.\n",
      "[I 2023-12-05 18:32:57,820] Trial 195 finished with value: 0.5909225882775467 and parameters: {'model__n_estimators': 203, 'model__max_depth': 9, 'model__learning_rate': 0.6377500828026652, 'model__gamma': 5.570694600792983, 'model__reg_lambda': 0.40718423367542594, 'model__min_child_weight': 1.0443904378154567}. Best is trial 168 with value: 0.6001543820185669.\n",
      "[I 2023-12-05 18:32:58,968] Trial 196 finished with value: 0.5879594978795801 and parameters: {'model__n_estimators': 213, 'model__max_depth': 9, 'model__learning_rate': 0.7551816664209419, 'model__gamma': 6.30626725308229, 'model__reg_lambda': 0.43517562301973783, 'model__min_child_weight': 0.9815049862842644}. Best is trial 168 with value: 0.6001543820185669.\n",
      "[I 2023-12-05 18:33:00,086] Trial 197 finished with value: 0.5970968639805727 and parameters: {'model__n_estimators': 182, 'model__max_depth': 9, 'model__learning_rate': 0.6192340054660871, 'model__gamma': 5.786249725655619, 'model__reg_lambda': 0.45991712163110293, 'model__min_child_weight': 1.1608082128577741}. Best is trial 168 with value: 0.6001543820185669.\n",
      "[I 2023-12-05 18:33:01,210] Trial 198 finished with value: 0.5822446801473371 and parameters: {'model__n_estimators': 179, 'model__max_depth': 9, 'model__learning_rate': 0.6249403740772435, 'model__gamma': 6.580282144972665, 'model__reg_lambda': 0.4805304761183926, 'model__min_child_weight': 0.8908451765251195}. Best is trial 168 with value: 0.6001543820185669.\n",
      "[I 2023-12-05 18:33:02,351] Trial 199 finished with value: 0.5872273729980473 and parameters: {'model__n_estimators': 204, 'model__max_depth': 9, 'model__learning_rate': 0.6087351024040889, 'model__gamma': 6.084667600216646, 'model__reg_lambda': 0.39488792166373077, 'model__min_child_weight': 1.1377342875324217}. Best is trial 168 with value: 0.6001543820185669.\n",
      "[I 2023-12-05 18:33:03,571] Trial 200 finished with value: 0.584428320925906 and parameters: {'model__n_estimators': 195, 'model__max_depth': 9, 'model__learning_rate': 0.6730283033069641, 'model__gamma': 5.4491313480995345, 'model__reg_lambda': 0.4663204722586439, 'model__min_child_weight': 1.30405733918043}. Best is trial 168 with value: 0.6001543820185669.\n",
      "[I 2023-12-05 18:33:04,707] Trial 201 finished with value: 0.5947692386953838 and parameters: {'model__n_estimators': 185, 'model__max_depth': 9, 'model__learning_rate': 0.708107134950394, 'model__gamma': 5.795572458442853, 'model__reg_lambda': 0.4421513499917391, 'model__min_child_weight': 1.1962433716946534}. Best is trial 168 with value: 0.6001543820185669.\n",
      "[I 2023-12-05 18:33:05,814] Trial 202 finished with value: 0.5888044548325752 and parameters: {'model__n_estimators': 164, 'model__max_depth': 9, 'model__learning_rate': 0.6569465550263898, 'model__gamma': 6.006595133096607, 'model__reg_lambda': 0.4161349708632534, 'model__min_child_weight': 1.1050812751602939}. Best is trial 168 with value: 0.6001543820185669.\n",
      "[I 2023-12-05 18:33:06,999] Trial 203 finished with value: 0.5916625731917835 and parameters: {'model__n_estimators': 188, 'model__max_depth': 9, 'model__learning_rate': 0.711618057758808, 'model__gamma': 6.34437818572846, 'model__reg_lambda': 0.5046158901629043, 'model__min_child_weight': 1.252407880594942}. Best is trial 168 with value: 0.6001543820185669.\n",
      "[I 2023-12-05 18:33:08,116] Trial 204 finished with value: 0.591569457894384 and parameters: {'model__n_estimators': 152, 'model__max_depth': 9, 'model__learning_rate': 0.5782100607801608, 'model__gamma': 5.780768168559715, 'model__reg_lambda': 0.4422112949547577, 'model__min_child_weight': 1.3916240785593668}. Best is trial 168 with value: 0.6001543820185669.\n",
      "[I 2023-12-05 18:33:09,445] Trial 205 finished with value: 0.5916774949588791 and parameters: {'model__n_estimators': 179, 'model__max_depth': 9, 'model__learning_rate': 0.7429991580415976, 'model__gamma': 6.715195332291802, 'model__reg_lambda': 0.46576976425272754, 'model__min_child_weight': 1.1607306390832766}. Best is trial 168 with value: 0.6001543820185669.\n",
      "[I 2023-12-05 18:33:10,695] Trial 206 finished with value: 0.5885690786221709 and parameters: {'model__n_estimators': 138, 'model__max_depth': 9, 'model__learning_rate': 0.6606201549294025, 'model__gamma': 5.232701487655302, 'model__reg_lambda': 0.35045890911643984, 'model__min_child_weight': 1.0213509395330056}. Best is trial 168 with value: 0.6001543820185669.\n",
      "[I 2023-12-05 18:33:11,974] Trial 207 finished with value: 0.5877131094569046 and parameters: {'model__n_estimators': 205, 'model__max_depth': 9, 'model__learning_rate': 0.7652770444895326, 'model__gamma': 4.70127890530125, 'model__reg_lambda': 0.40318154715506904, 'model__min_child_weight': 0.937261740195114}. Best is trial 168 with value: 0.6001543820185669.\n",
      "[I 2023-12-05 18:33:13,144] Trial 208 finished with value: 0.5954635004794808 and parameters: {'model__n_estimators': 194, 'model__max_depth': 9, 'model__learning_rate': 0.7088515983131217, 'model__gamma': 6.353091558886093, 'model__reg_lambda': 0.38451687796791245, 'model__min_child_weight': 1.3124488117914643}. Best is trial 168 with value: 0.6001543820185669.\n",
      "[I 2023-12-05 18:33:14,467] Trial 209 finished with value: 0.5783152410901437 and parameters: {'model__n_estimators': 216, 'model__max_depth': 5, 'model__learning_rate': 0.7168907607469804, 'model__gamma': 6.491620856794409, 'model__reg_lambda': 0.4310552297085727, 'model__min_child_weight': 1.301199451044825}. Best is trial 168 with value: 0.6001543820185669.\n",
      "[I 2023-12-05 18:33:15,631] Trial 210 finished with value: 0.5895898481550825 and parameters: {'model__n_estimators': 199, 'model__max_depth': 9, 'model__learning_rate': 0.6215298271155741, 'model__gamma': 6.833423270535792, 'model__reg_lambda': 0.32509079906606, 'model__min_child_weight': 1.3916138420237978}. Best is trial 168 with value: 0.6001543820185669.\n",
      "[I 2023-12-05 18:33:16,808] Trial 211 finished with value: 0.5913113952765787 and parameters: {'model__n_estimators': 182, 'model__max_depth': 9, 'model__learning_rate': 0.681504395914652, 'model__gamma': 5.797775094994535, 'model__reg_lambda': 0.38363070291514056, 'model__min_child_weight': 1.0553741289086112}. Best is trial 168 with value: 0.6001543820185669.\n",
      "[I 2023-12-05 18:33:17,940] Trial 212 finished with value: 0.5990573931375145 and parameters: {'model__n_estimators': 192, 'model__max_depth': 9, 'model__learning_rate': 0.6993744994045235, 'model__gamma': 6.1523125195949415, 'model__reg_lambda': 0.41005039440812974, 'model__min_child_weight': 1.2642487042409125}. Best is trial 168 with value: 0.6001543820185669.\n",
      "[I 2023-12-05 18:33:19,095] Trial 213 finished with value: 0.5773474259917598 and parameters: {'model__n_estimators': 191, 'model__max_depth': 9, 'model__learning_rate': 1.1481032542233038, 'model__gamma': 6.22278091113153, 'model__reg_lambda': 0.4117368783702949, 'model__min_child_weight': 1.241523012653809}. Best is trial 168 with value: 0.6001543820185669.\n",
      "[I 2023-12-05 18:33:20,278] Trial 214 finished with value: 0.5875197975502927 and parameters: {'model__n_estimators': 210, 'model__max_depth': 9, 'model__learning_rate': 0.7353064469476833, 'model__gamma': 5.444911518514562, 'model__reg_lambda': 0.4569406373862927, 'model__min_child_weight': 1.1534231893672997}. Best is trial 168 with value: 0.6001543820185669.\n",
      "[I 2023-12-05 18:33:21,472] Trial 215 finished with value: 0.5838458698902994 and parameters: {'model__n_estimators': 195, 'model__max_depth': 9, 'model__learning_rate': 0.775733054132114, 'model__gamma': 6.246378492141322, 'model__reg_lambda': 0.43035748077637404, 'model__min_child_weight': 1.311410716470646}. Best is trial 168 with value: 0.6001543820185669.\n",
      "[I 2023-12-05 18:33:22,798] Trial 216 finished with value: 0.5894767162067736 and parameters: {'model__n_estimators': 208, 'model__max_depth': 9, 'model__learning_rate': 0.660613184166234, 'model__gamma': 6.628486775398461, 'model__reg_lambda': 0.4915774221821329, 'model__min_child_weight': 1.4413060767014072}. Best is trial 168 with value: 0.6001543820185669.\n",
      "[I 2023-12-05 18:33:24,070] Trial 217 finished with value: 0.591157402916333 and parameters: {'model__n_estimators': 184, 'model__max_depth': 9, 'model__learning_rate': 0.71354435073468, 'model__gamma': 7.093962274580032, 'model__reg_lambda': 0.40879680584711126, 'model__min_child_weight': 1.3672208714856957}. Best is trial 168 with value: 0.6001543820185669.\n",
      "[I 2023-12-05 18:33:25,260] Trial 218 finished with value: 0.580985538641975 and parameters: {'model__n_estimators': 220, 'model__max_depth': 9, 'model__learning_rate': 1.029956813683879, 'model__gamma': 5.972987577766211, 'model__reg_lambda': 0.363453809435089, 'model__min_child_weight': 0.8023234911805716}. Best is trial 168 with value: 0.6001543820185669.\n",
      "[I 2023-12-05 18:33:26,673] Trial 219 finished with value: 0.586433012410916 and parameters: {'model__n_estimators': 335, 'model__max_depth': 9, 'model__learning_rate': 0.6411841513968457, 'model__gamma': 5.110448711564968, 'model__reg_lambda': 0.4424092497704829, 'model__min_child_weight': 1.1935549060528792}. Best is trial 168 with value: 0.6001543820185669.\n",
      "[I 2023-12-05 18:33:27,939] Trial 220 finished with value: 0.5853006582885516 and parameters: {'model__n_estimators': 270, 'model__max_depth': 9, 'model__learning_rate': 0.5937952459048236, 'model__gamma': 5.476424648191115, 'model__reg_lambda': 0.4599217379903039, 'model__min_child_weight': 1.0916694861258847}. Best is trial 168 with value: 0.6001543820185669.\n",
      "[I 2023-12-05 18:33:29,185] Trial 221 finished with value: 0.5985335362210072 and parameters: {'model__n_estimators': 172, 'model__max_depth': 9, 'model__learning_rate': 0.6968689974322408, 'model__gamma': 5.8402026527565, 'model__reg_lambda': 0.39106983477036517, 'model__min_child_weight': 1.4683404542638412}. Best is trial 168 with value: 0.6001543820185669.\n",
      "[I 2023-12-05 18:33:30,406] Trial 222 finished with value: 0.597238135927927 and parameters: {'model__n_estimators': 177, 'model__max_depth': 9, 'model__learning_rate': 0.6879250435432887, 'model__gamma': 6.244346430696108, 'model__reg_lambda': 0.3838201695291844, 'model__min_child_weight': 1.468918564611161}. Best is trial 168 with value: 0.6001543820185669.\n",
      "[I 2023-12-05 18:33:31,603] Trial 223 finished with value: 0.5964941454022085 and parameters: {'model__n_estimators': 173, 'model__max_depth': 9, 'model__learning_rate': 0.6920732181564923, 'model__gamma': 6.346379097803209, 'model__reg_lambda': 0.37977741927576447, 'model__min_child_weight': 1.4791366350352235}. Best is trial 168 with value: 0.6001543820185669.\n",
      "[I 2023-12-05 18:33:32,733] Trial 224 finished with value: 0.5920235992180245 and parameters: {'model__n_estimators': 162, 'model__max_depth': 9, 'model__learning_rate': 0.6757636898128694, 'model__gamma': 6.4364784999406695, 'model__reg_lambda': 0.3494376356348721, 'model__min_child_weight': 1.4596733334220133}. Best is trial 168 with value: 0.6001543820185669.\n",
      "[I 2023-12-05 18:33:34,670] Trial 225 finished with value: 0.5869409045850172 and parameters: {'model__n_estimators': 173, 'model__max_depth': 9, 'model__learning_rate': 0.6991001746636559, 'model__gamma': 6.947444340313929, 'model__reg_lambda': 0.3937156876252546, 'model__min_child_weight': 1.369490710544128}. Best is trial 168 with value: 0.6001543820185669.\n",
      "[I 2023-12-05 18:33:36,936] Trial 226 finished with value: 0.5888021550556081 and parameters: {'model__n_estimators': 176, 'model__max_depth': 9, 'model__learning_rate': 0.6432034681892501, 'model__gamma': 6.2508940940421285, 'model__reg_lambda': 0.38975356379583503, 'model__min_child_weight': 1.5259934722938935}. Best is trial 168 with value: 0.6001543820185669.\n",
      "[I 2023-12-05 18:33:38,129] Trial 227 finished with value: 0.5903189249849093 and parameters: {'model__n_estimators': 190, 'model__max_depth': 9, 'model__learning_rate': 0.693784585744896, 'model__gamma': 6.671079184952839, 'model__reg_lambda': 0.3733252470011924, 'model__min_child_weight': 1.264304456831063}. Best is trial 168 with value: 0.6001543820185669.\n",
      "[I 2023-12-05 18:33:40,058] Trial 228 finished with value: 0.5960718297125174 and parameters: {'model__n_estimators': 165, 'model__max_depth': 9, 'model__learning_rate': 0.724116815820693, 'model__gamma': 6.082651619783954, 'model__reg_lambda': 0.35143784062339223, 'model__min_child_weight': 1.4246705847467955}. Best is trial 168 with value: 0.6001543820185669.\n",
      "[I 2023-12-05 18:33:43,267] Trial 229 finished with value: 0.590769683436557 and parameters: {'model__n_estimators': 157, 'model__max_depth': 9, 'model__learning_rate': 0.7156913375689936, 'model__gamma': 6.219549543141146, 'model__reg_lambda': 0.3742372902519172, 'model__min_child_weight': 1.4609889607152557}. Best is trial 168 with value: 0.6001543820185669.\n",
      "[I 2023-12-05 18:33:45,064] Trial 230 finished with value: 0.5794831800312157 and parameters: {'model__n_estimators': 166, 'model__max_depth': 8, 'model__learning_rate': 0.7346425722008998, 'model__gamma': 12.057791122006424, 'model__reg_lambda': 0.3355869694703201, 'model__min_child_weight': 1.5792998462796597}. Best is trial 168 with value: 0.6001543820185669.\n",
      "[I 2023-12-05 18:33:46,858] Trial 231 finished with value: 0.5929115184890865 and parameters: {'model__n_estimators': 180, 'model__max_depth': 9, 'model__learning_rate': 0.671263733822458, 'model__gamma': 5.995877766372775, 'model__reg_lambda': 0.352351172661268, 'model__min_child_weight': 1.3453975186637406}. Best is trial 168 with value: 0.6001543820185669.\n",
      "[I 2023-12-05 18:33:48,491] Trial 232 finished with value: 0.5910097222141483 and parameters: {'model__n_estimators': 202, 'model__max_depth': 9, 'model__learning_rate': 0.6945039270479361, 'model__gamma': 6.507654568788477, 'model__reg_lambda': 0.4123990567278627, 'model__min_child_weight': 1.2830240241204092}. Best is trial 168 with value: 0.6001543820185669.\n",
      "[I 2023-12-05 18:33:50,012] Trial 233 finished with value: 0.595256033297179 and parameters: {'model__n_estimators': 124, 'model__max_depth': 9, 'model__learning_rate': 0.6576654625628593, 'model__gamma': 5.935719191653959, 'model__reg_lambda': 0.3814539342196873, 'model__min_child_weight': 1.4221059543260495}. Best is trial 168 with value: 0.6001543820185669.\n",
      "[I 2023-12-05 18:33:51,756] Trial 234 finished with value: 0.5632193108171999 and parameters: {'model__n_estimators': 117, 'model__max_depth': 9, 'model__learning_rate': 0.6287101822448339, 'model__gamma': 2.1093167854231325, 'model__reg_lambda': 0.37892111443075394, 'model__min_child_weight': 1.4597545799494447}. Best is trial 168 with value: 0.6001543820185669.\n",
      "[I 2023-12-05 18:33:53,302] Trial 235 finished with value: 0.5890419841083379 and parameters: {'model__n_estimators': 172, 'model__max_depth': 9, 'model__learning_rate': 1.0614048623359889, 'model__gamma': 5.658051077120253, 'model__reg_lambda': 0.3088261580036661, 'model__min_child_weight': 1.578310390052593}. Best is trial 168 with value: 0.6001543820185669.\n",
      "[I 2023-12-05 18:33:54,701] Trial 236 finished with value: 0.5725079223360111 and parameters: {'model__n_estimators': 126, 'model__max_depth': 9, 'model__learning_rate': 0.6546409630125195, 'model__gamma': 17.568624111619606, 'model__reg_lambda': 0.35945596875724806, 'model__min_child_weight': 1.4098901879575423}. Best is trial 168 with value: 0.6001543820185669.\n",
      "[I 2023-12-05 18:33:55,973] Trial 237 finished with value: 0.5921879911630162 and parameters: {'model__n_estimators': 150, 'model__max_depth': 9, 'model__learning_rate': 0.7298242184554995, 'model__gamma': 7.043589652750694, 'model__reg_lambda': 0.39057153645969633, 'model__min_child_weight': 1.5066999137904658}. Best is trial 168 with value: 0.6001543820185669.\n",
      "[I 2023-12-05 18:33:57,232] Trial 238 finished with value: 0.5838596091355759 and parameters: {'model__n_estimators': 140, 'model__max_depth': 9, 'model__learning_rate': 0.6097014265814856, 'model__gamma': 6.339987455451012, 'model__reg_lambda': 0.34177981906307847, 'model__min_child_weight': 1.1963781069534738}. Best is trial 168 with value: 0.6001543820185669.\n",
      "[I 2023-12-05 18:33:59,692] Trial 239 finished with value: 0.575267366474489 and parameters: {'model__n_estimators': 185, 'model__max_depth': 9, 'model__learning_rate': 0.024451998662586294, 'model__gamma': 6.024851484057219, 'model__reg_lambda': 0.4214726059548844, 'model__min_child_weight': 1.3944991364552441}. Best is trial 168 with value: 0.6001543820185669.\n",
      "[I 2023-12-05 18:34:01,693] Trial 240 finished with value: 0.5891498305466298 and parameters: {'model__n_estimators': 165, 'model__max_depth': 9, 'model__learning_rate': 0.5456409219633169, 'model__gamma': 5.406996713073344, 'model__reg_lambda': 0.2806733855053647, 'model__min_child_weight': 1.630268569693115}. Best is trial 168 with value: 0.6001543820185669.\n",
      "[I 2023-12-05 18:34:07,825] Trial 241 finished with value: 0.5879374852779834 and parameters: {'model__n_estimators': 196, 'model__max_depth': 9, 'model__learning_rate': 0.6730169416096049, 'model__gamma': 5.868949741548403, 'model__reg_lambda': 0.4016584315550563, 'model__min_child_weight': 1.3327444124491747}. Best is trial 168 with value: 0.6001543820185669.\n",
      "[I 2023-12-05 18:34:10,516] Trial 242 finished with value: 0.590328095825039 and parameters: {'model__n_estimators': 177, 'model__max_depth': 9, 'model__learning_rate': 0.6972186659054813, 'model__gamma': 6.657057454861073, 'model__reg_lambda': 0.37812567538983377, 'model__min_child_weight': 1.2592652660737635}. Best is trial 168 with value: 0.6001543820185669.\n",
      "[I 2023-12-05 18:34:12,581] Trial 243 finished with value: 0.5894989911231537 and parameters: {'model__n_estimators': 190, 'model__max_depth': 9, 'model__learning_rate': 0.9548369013262082, 'model__gamma': 6.08399021716989, 'model__reg_lambda': 0.4065245279336662, 'model__min_child_weight': 1.1028718492618537}. Best is trial 168 with value: 0.6001543820185669.\n",
      "[I 2023-12-05 18:34:15,523] Trial 244 finished with value: 0.5572263577605965 and parameters: {'model__n_estimators': 199, 'model__max_depth': 9, 'model__learning_rate': 1.3106902682309247, 'model__gamma': 5.6911246803044655, 'model__reg_lambda': 0.42132228007538547, 'model__min_child_weight': 1.4864275075619793}. Best is trial 168 with value: 0.6001543820185669.\n",
      "[I 2023-12-05 18:34:17,511] Trial 245 finished with value: 0.5841070689748349 and parameters: {'model__n_estimators': 185, 'model__max_depth': 9, 'model__learning_rate': 0.656641153114408, 'model__gamma': 5.157745503678944, 'model__reg_lambda': 0.3678315775342247, 'model__min_child_weight': 1.2935740929303359}. Best is trial 168 with value: 0.6001543820185669.\n",
      "[I 2023-12-05 18:34:19,136] Trial 246 finished with value: 0.5517977191016356 and parameters: {'model__n_estimators': 162, 'model__max_depth': 9, 'model__learning_rate': 0.7242896001402934, 'model__gamma': 1.5939311144207933, 'model__reg_lambda': 0.3851659624886128, 'model__min_child_weight': 1.1848950215305238}. Best is trial 168 with value: 0.6001543820185669.\n",
      "[I 2023-12-05 18:34:20,534] Trial 247 finished with value: 0.5939559739423298 and parameters: {'model__n_estimators': 177, 'model__max_depth': 9, 'model__learning_rate': 0.6954155819302904, 'model__gamma': 6.36595676236856, 'model__reg_lambda': 0.4122627526709983, 'model__min_child_weight': 1.408782100224178}. Best is trial 168 with value: 0.6001543820185669.\n",
      "[I 2023-12-05 18:34:21,727] Trial 248 finished with value: 0.5890404069252948 and parameters: {'model__n_estimators': 176, 'model__max_depth': 9, 'model__learning_rate': 0.7583954349161287, 'model__gamma': 6.726229703903305, 'model__reg_lambda': 0.42775031005628245, 'model__min_child_weight': 1.4145903295605433}. Best is trial 168 with value: 0.6001543820185669.\n",
      "[I 2023-12-05 18:34:22,864] Trial 249 finished with value: 0.5857329098820887 and parameters: {'model__n_estimators': 171, 'model__max_depth': 9, 'model__learning_rate': 0.703214127574565, 'model__gamma': 6.4572503983032545, 'model__reg_lambda': 0.39700488864930195, 'model__min_child_weight': 1.5487386202433355}. Best is trial 168 with value: 0.6001543820185669.\n",
      "[I 2023-12-05 18:34:24,009] Trial 250 finished with value: 0.590699266148832 and parameters: {'model__n_estimators': 182, 'model__max_depth': 9, 'model__learning_rate': 0.6247225494199873, 'model__gamma': 6.18159132650024, 'model__reg_lambda': 0.35983989316493836, 'model__min_child_weight': 1.038536881114821}. Best is trial 168 with value: 0.6001543820185669.\n",
      "[I 2023-12-05 18:34:25,090] Trial 251 finished with value: 0.5894912357809303 and parameters: {'model__n_estimators': 131, 'model__max_depth': 9, 'model__learning_rate': 0.7370237953825213, 'model__gamma': 7.221164905683142, 'model__reg_lambda': 0.4423703305342119, 'model__min_child_weight': 1.6375245483719638}. Best is trial 168 with value: 0.6001543820185669.\n",
      "[I 2023-12-05 18:34:26,208] Trial 252 finished with value: 0.5899192855326426 and parameters: {'model__n_estimators': 157, 'model__max_depth': 9, 'model__learning_rate': 0.6772704539922024, 'model__gamma': 5.590140973111218, 'model__reg_lambda': 0.18956017985503648, 'model__min_child_weight': 1.4021289935927752}. Best is trial 168 with value: 0.6001543820185669.\n",
      "[I 2023-12-05 18:34:27,368] Trial 253 finished with value: 0.5909408067725352 and parameters: {'model__n_estimators': 193, 'model__max_depth': 9, 'model__learning_rate': 0.7072154313861675, 'model__gamma': 6.738948701525704, 'model__reg_lambda': 0.4095321918722049, 'model__min_child_weight': 1.5060573326783513}. Best is trial 168 with value: 0.6001543820185669.\n",
      "[I 2023-12-05 18:34:28,891] Trial 254 finished with value: 0.5847265340771284 and parameters: {'model__n_estimators': 168, 'model__max_depth': 9, 'model__learning_rate': 0.9219792888823404, 'model__gamma': 6.095301173643156, 'model__reg_lambda': 0.39199562659853937, 'model__min_child_weight': 1.2225276004165053}. Best is trial 168 with value: 0.6001543820185669.\n",
      "[I 2023-12-05 18:34:30,385] Trial 255 finished with value: 0.5856094692657954 and parameters: {'model__n_estimators': 105, 'model__max_depth': 9, 'model__learning_rate': 0.6446876046646731, 'model__gamma': 5.511961503632782, 'model__reg_lambda': 0.4259349438158344, 'model__min_child_weight': 1.3488096989517142}. Best is trial 168 with value: 0.6001543820185669.\n",
      "[I 2023-12-05 18:34:31,608] Trial 256 finished with value: 0.5914237885420238 and parameters: {'model__n_estimators': 145, 'model__max_depth': 9, 'model__learning_rate': 0.7428694746709661, 'model__gamma': 6.380540865456512, 'model__reg_lambda': 0.3288278066395236, 'model__min_child_weight': 1.143427838609212}. Best is trial 168 with value: 0.6001543820185669.\n",
      "[I 2023-12-05 18:34:32,744] Trial 257 finished with value: 0.5877427484300245 and parameters: {'model__n_estimators': 185, 'model__max_depth': 9, 'model__learning_rate': 0.6864814278456584, 'model__gamma': 6.904500897429356, 'model__reg_lambda': 0.3737217007295778, 'model__min_child_weight': 1.770079283302651}. Best is trial 168 with value: 0.6001543820185669.\n",
      "[I 2023-12-05 18:34:34,232] Trial 258 finished with value: 0.5772875695247794 and parameters: {'model__n_estimators': 195, 'model__max_depth': 8, 'model__learning_rate': 0.605600594902868, 'model__gamma': 5.058204808790097, 'model__reg_lambda': 0.45593104492207326, 'model__min_child_weight': 0.8013260700862279}. Best is trial 168 with value: 0.6001543820185669.\n",
      "[I 2023-12-05 18:34:35,526] Trial 259 finished with value: 0.5761308284491117 and parameters: {'model__n_estimators': 177, 'model__max_depth': 9, 'model__learning_rate': 0.31834668290397, 'model__gamma': 5.886998112625945, 'model__reg_lambda': 0.3473883268906488, 'model__min_child_weight': 4.264451035460208}. Best is trial 168 with value: 0.6001543820185669.\n",
      "[I 2023-12-05 18:34:36,836] Trial 260 finished with value: 0.5855368995041054 and parameters: {'model__n_estimators': 201, 'model__max_depth': 9, 'model__learning_rate': 0.6561785824588742, 'model__gamma': 7.56382290135973, 'model__reg_lambda': 0.41481125794358054, 'model__min_child_weight': 0.9865711336574071}. Best is trial 168 with value: 0.6001543820185669.\n",
      "[I 2023-12-05 18:34:38,015] Trial 261 finished with value: 0.5913362829284114 and parameters: {'model__n_estimators': 159, 'model__max_depth': 9, 'model__learning_rate': 0.7181702171838472, 'model__gamma': 6.449872504817661, 'model__reg_lambda': 0.3820008589907788, 'model__min_child_weight': 1.6577220702982283}. Best is trial 168 with value: 0.6001543820185669.\n",
      "[I 2023-12-05 18:34:39,191] Trial 262 finished with value: 0.5809160121358641 and parameters: {'model__n_estimators': 189, 'model__max_depth': 9, 'model__learning_rate': 0.6918291734491628, 'model__gamma': 5.423231582447946, 'model__reg_lambda': 0.4360103046982674, 'model__min_child_weight': 1.2776533034182953}. Best is trial 168 with value: 0.6001543820185669.\n",
      "[I 2023-12-05 18:34:40,387] Trial 263 finished with value: 0.5853571989273704 and parameters: {'model__n_estimators': 213, 'model__max_depth': 9, 'model__learning_rate': 0.7531633508815301, 'model__gamma': 5.942907717520603, 'model__reg_lambda': 0.5062999361886662, 'model__min_child_weight': 1.4471062773089585}. Best is trial 168 with value: 0.6001543820185669.\n",
      "[I 2023-12-05 18:34:41,550] Trial 264 finished with value: 0.5922239917636711 and parameters: {'model__n_estimators': 171, 'model__max_depth': 9, 'model__learning_rate': 0.645642855832003, 'model__gamma': 3.555111477973542, 'model__reg_lambda': 0.9422994235430628, 'model__min_child_weight': 1.5262399176637347}. Best is trial 168 with value: 0.6001543820185669.\n",
      "[I 2023-12-05 18:34:42,600] Trial 265 finished with value: 0.5808271843035989 and parameters: {'model__n_estimators': 124, 'model__max_depth': 9, 'model__learning_rate': 0.5774882755089326, 'model__gamma': 6.886940168286916, 'model__reg_lambda': 0.48208630990238405, 'model__min_child_weight': 1.3568169242901944}. Best is trial 168 with value: 0.6001543820185669.\n",
      "[I 2023-12-05 18:34:43,753] Trial 266 finished with value: 0.5661095909687942 and parameters: {'model__n_estimators': 179, 'model__max_depth': 9, 'model__learning_rate': 0.7803766767965947, 'model__gamma': 3.018264542604891, 'model__reg_lambda': 0.06172294925891775, 'model__min_child_weight': 2.7032641746396164}. Best is trial 168 with value: 0.6001543820185669.\n",
      "[I 2023-12-05 18:34:44,937] Trial 267 finished with value: 0.5922500749915313 and parameters: {'model__n_estimators': 208, 'model__max_depth': 9, 'model__learning_rate': 0.7178980355066373, 'model__gamma': 6.331404296109722, 'model__reg_lambda': 0.4041267847546718, 'model__min_child_weight': 1.1971985196548656}. Best is trial 168 with value: 0.6001543820185669.\n",
      "[I 2023-12-05 18:34:46,053] Trial 268 finished with value: 0.5901494493981305 and parameters: {'model__n_estimators': 164, 'model__max_depth': 8, 'model__learning_rate': 0.6215943157766292, 'model__gamma': 5.741041659732655, 'model__reg_lambda': 0.3602781010739178, 'model__min_child_weight': 1.565105711971274}. Best is trial 168 with value: 0.6001543820185669.\n",
      "[I 2023-12-05 18:34:47,159] Trial 269 finished with value: 0.5820368433571503 and parameters: {'model__n_estimators': 151, 'model__max_depth': 9, 'model__learning_rate': 0.6749140356949751, 'model__gamma': 4.67190824346045, 'model__reg_lambda': 0.4441758929524937, 'model__min_child_weight': 1.1132039884467846}. Best is trial 168 with value: 0.6001543820185669.\n",
      "[I 2023-12-05 18:34:48,374] Trial 270 finished with value: 0.5901431535532415 and parameters: {'model__n_estimators': 188, 'model__max_depth': 9, 'model__learning_rate': 0.7564800224358059, 'model__gamma': 6.0401884309860545, 'model__reg_lambda': 0.39255553692293393, 'model__min_child_weight': 1.4263977059592938}. Best is trial 168 with value: 0.6001543820185669.\n",
      "[I 2023-12-05 18:34:49,517] Trial 271 finished with value: 0.5875838577342453 and parameters: {'model__n_estimators': 197, 'model__max_depth': 9, 'model__learning_rate': 0.9889335547050446, 'model__gamma': 7.220619728771417, 'model__reg_lambda': 0.4192424685923754, 'model__min_child_weight': 1.2953792372729873}. Best is trial 168 with value: 0.6001543820185669.\n",
      "[I 2023-12-05 18:34:51,292] Trial 272 finished with value: 0.5540036160798272 and parameters: {'model__n_estimators': 499, 'model__max_depth': 9, 'model__learning_rate': 0.7103596858715965, 'model__gamma': 1.0340435873917349, 'model__reg_lambda': 0.4711450767827415, 'model__min_child_weight': 1.7377595815398539}. Best is trial 168 with value: 0.6001543820185669.\n",
      "[I 2023-12-05 18:34:52,464] Trial 273 finished with value: 0.5849841123877816 and parameters: {'model__n_estimators': 179, 'model__max_depth': 9, 'model__learning_rate': 0.8211169386460787, 'model__gamma': 5.057082183854072, 'model__reg_lambda': 0.37200619972659577, 'model__min_child_weight': 1.2713793678495282}. Best is trial 168 with value: 0.6001543820185669.\n",
      "[I 2023-12-05 18:34:53,674] Trial 274 finished with value: 0.5822370247459617 and parameters: {'model__n_estimators': 220, 'model__max_depth': 10, 'model__learning_rate': 0.88663948613537, 'model__gamma': 6.6083366596886055, 'model__reg_lambda': 0.43004204067033625, 'model__min_child_weight': 0.9365218741153857}. Best is trial 168 with value: 0.6001543820185669.\n",
      "[I 2023-12-05 18:34:54,879] Trial 275 finished with value: 0.5844264013510474 and parameters: {'model__n_estimators': 204, 'model__max_depth': 9, 'model__learning_rate': 0.6681922524106632, 'model__gamma': 5.374809352269919, 'model__reg_lambda': 0.39604152019558997, 'model__min_child_weight': 1.4806058531211925}. Best is trial 168 with value: 0.6001543820185669.\n",
      "[I 2023-12-05 18:34:56,024] Trial 276 finished with value: 0.5901641508649458 and parameters: {'model__n_estimators': 171, 'model__max_depth': 9, 'model__learning_rate': 0.6365666158028753, 'model__gamma': 6.184126021627891, 'model__reg_lambda': 0.45571978624682624, 'model__min_child_weight': 1.0652855472055844}. Best is trial 168 with value: 0.6001543820185669.\n",
      "[I 2023-12-05 18:34:57,180] Trial 277 finished with value: 0.5857661038487377 and parameters: {'model__n_estimators': 193, 'model__max_depth': 9, 'model__learning_rate': 0.9488720506032841, 'model__gamma': 5.789376105577974, 'model__reg_lambda': 0.41272646837047156, 'model__min_child_weight': 2.2495530957825176}. Best is trial 168 with value: 0.6001543820185669.\n",
      "[I 2023-12-05 18:34:58,309] Trial 278 finished with value: 0.5867679518885186 and parameters: {'model__n_estimators': 184, 'model__max_depth': 9, 'model__learning_rate': 0.9924080380490198, 'model__gamma': 8.464134161687047, 'model__reg_lambda': 0.35057814355914096, 'model__min_child_weight': 1.634528218265098}. Best is trial 168 with value: 0.6001543820185669.\n",
      "[I 2023-12-05 18:34:59,540] Trial 279 finished with value: 0.5753630336100617 and parameters: {'model__n_estimators': 227, 'model__max_depth': 8, 'model__learning_rate': 0.447958822871873, 'model__gamma': 4.409618668760921, 'model__reg_lambda': 0.31551846541671363, 'model__min_child_weight': 1.375673799587629}. Best is trial 168 with value: 0.6001543820185669.\n",
      "[I 2023-12-05 18:35:00,717] Trial 280 finished with value: 0.5863518533754519 and parameters: {'model__n_estimators': 165, 'model__max_depth': 9, 'model__learning_rate': 0.6896113981923767, 'model__gamma': 7.8665196737371925, 'model__reg_lambda': 0.3760295278075425, 'model__min_child_weight': 1.1852393713899942}. Best is trial 168 with value: 0.6001543820185669.\n",
      "[I 2023-12-05 18:35:02,163] Trial 281 finished with value: 0.5913208942615362 and parameters: {'model__n_estimators': 356, 'model__max_depth': 9, 'model__learning_rate': 0.7352000049025792, 'model__gamma': 6.99861545119007, 'model__reg_lambda': 0.43716724686730135, 'model__min_child_weight': 1.5305591615485061}. Best is trial 168 with value: 0.6001543820185669.\n",
      "[I 2023-12-05 18:35:03,218] Trial 282 finished with value: 0.578354987377747 and parameters: {'model__n_estimators': 135, 'model__max_depth': 9, 'model__learning_rate': 1.0966317649262225, 'model__gamma': 6.343186933868841, 'model__reg_lambda': 0.3992820959186137, 'model__min_child_weight': 2.765013822849533}. Best is trial 168 with value: 0.6001543820185669.\n",
      "[I 2023-12-05 18:35:04,348] Trial 283 finished with value: 0.5862952898730842 and parameters: {'model__n_estimators': 177, 'model__max_depth': 9, 'model__learning_rate': 0.5987843375087438, 'model__gamma': 5.483734901477479, 'model__reg_lambda': 0.51551777220492, 'model__min_child_weight': 1.3502424457224302}. Best is trial 168 with value: 0.6001543820185669.\n",
      "[I 2023-12-05 18:35:05,599] Trial 284 finished with value: 0.5874620893697086 and parameters: {'model__n_estimators': 214, 'model__max_depth': 10, 'model__learning_rate': 0.7838246641783007, 'model__gamma': 6.620062982607909, 'model__reg_lambda': 0.3392892343485917, 'model__min_child_weight': 1.1735020007208667}. Best is trial 168 with value: 0.6001543820185669.\n",
      "[I 2023-12-05 18:35:06,700] Trial 285 finished with value: 0.5864923270381597 and parameters: {'model__n_estimators': 154, 'model__max_depth': 9, 'model__learning_rate': 0.6656050550709861, 'model__gamma': 5.926495722353943, 'model__reg_lambda': 0.48715857333558366, 'model__min_child_weight': 3.078263322967252}. Best is trial 168 with value: 0.6001543820185669.\n",
      "[I 2023-12-05 18:35:07,738] Trial 286 finished with value: 0.5826834293352443 and parameters: {'model__n_estimators': 113, 'model__max_depth': 9, 'model__learning_rate': 0.7097561012215199, 'model__gamma': 4.96776104017796, 'model__reg_lambda': 0.4239168448558503, 'model__min_child_weight': 1.4361575823058683}. Best is trial 168 with value: 0.6001543820185669.\n",
      "[I 2023-12-05 18:35:08,905] Trial 287 finished with value: 0.5932281458322338 and parameters: {'model__n_estimators': 200, 'model__max_depth': 9, 'model__learning_rate': 0.5450494217404356, 'model__gamma': 7.408739492872597, 'model__reg_lambda': 0.45722733975263957, 'model__min_child_weight': 1.6648172538564068}. Best is trial 168 with value: 0.6001543820185669.\n",
      "[I 2023-12-05 18:35:10,193] Trial 288 finished with value: 0.5861751345448548 and parameters: {'model__n_estimators': 188, 'model__max_depth': 5, 'model__learning_rate': 0.8471924686922963, 'model__gamma': 6.215164136717768, 'model__reg_lambda': 0.384537038673941, 'model__min_child_weight': 1.2556137797748221}. Best is trial 168 with value: 0.6001543820185669.\n",
      "[I 2023-12-05 18:35:11,496] Trial 289 finished with value: 0.5831049286749828 and parameters: {'model__n_estimators': 169, 'model__max_depth': 4, 'model__learning_rate': 0.7330869578810301, 'model__gamma': 5.649097550117683, 'model__reg_lambda': 0.3667693394036192, 'model__min_child_weight': 2.8680872438139766}. Best is trial 168 with value: 0.6001543820185669.\n",
      "[I 2023-12-05 18:35:12,681] Trial 290 finished with value: 0.5855436735333347 and parameters: {'model__n_estimators': 203, 'model__max_depth': 9, 'model__learning_rate': 0.5144018115912194, 'model__gamma': 6.744952700906833, 'model__reg_lambda': 0.4082251450353096, 'model__min_child_weight': 1.0598761699519261}. Best is trial 168 with value: 0.6001543820185669.\n",
      "[I 2023-12-05 18:35:13,969] Trial 291 finished with value: 0.5707855879103189 and parameters: {'model__n_estimators': 185, 'model__max_depth': 8, 'model__learning_rate': 0.6364693951103757, 'model__gamma': 10.722223592416714, 'model__reg_lambda': 0.4452245885089599, 'model__min_child_weight': 4.902427410504729}. Best is trial 168 with value: 0.6001543820185669.\n",
      "[I 2023-12-05 18:35:15,248] Trial 292 finished with value: 0.5535042055244743 and parameters: {'model__n_estimators': 145, 'model__max_depth': 6, 'model__learning_rate': 1.212413618080003, 'model__gamma': 3.939574180906087, 'model__reg_lambda': 0.38778891706325536, 'model__min_child_weight': 1.5361335228914}. Best is trial 168 with value: 0.6001543820185669.\n",
      "[I 2023-12-05 18:35:16,623] Trial 293 finished with value: 0.5844323078123328 and parameters: {'model__n_estimators': 194, 'model__max_depth': 9, 'model__learning_rate': 0.6932419275628767, 'model__gamma': 5.336738322233481, 'model__reg_lambda': 0.35407812820590573, 'model__min_child_weight': 1.3454639162450706}. Best is trial 168 with value: 0.6001543820185669.\n",
      "[I 2023-12-05 18:35:17,820] Trial 294 finished with value: 0.580981699935504 and parameters: {'model__n_estimators': 159, 'model__max_depth': 9, 'model__learning_rate': 0.7686077606486645, 'model__gamma': 6.076870988524794, 'model__reg_lambda': 0.4177590274493163, 'model__min_child_weight': 2.5727398043753817}. Best is trial 168 with value: 0.6001543820185669.\n",
      "[I 2023-12-05 18:35:19,996] Trial 295 finished with value: 0.5866941118420483 and parameters: {'model__n_estimators': 177, 'model__max_depth': 10, 'model__learning_rate': 0.6547193181549741, 'model__gamma': 7.131585975372776, 'model__reg_lambda': 0.544262671859449, 'model__min_child_weight': 1.426442398475085}. Best is trial 168 with value: 0.6001543820185669.\n",
      "[I 2023-12-05 18:35:22,229] Trial 296 finished with value: 0.5941268786674024 and parameters: {'model__n_estimators': 211, 'model__max_depth': 9, 'model__learning_rate': 0.7997708270950364, 'model__gamma': 5.745974774713573, 'model__reg_lambda': 0.46973406051688327, 'model__min_child_weight': 1.7785739233574385}. Best is trial 168 with value: 0.6001543820185669.\n",
      "[I 2023-12-05 18:35:23,535] Trial 297 finished with value: 0.5883078320343447 and parameters: {'model__n_estimators': 171, 'model__max_depth': 9, 'model__learning_rate': 0.8882664924242416, 'model__gamma': 6.493082976351296, 'model__reg_lambda': 0.47585968850997684, 'model__min_child_weight': 1.697006511031255}. Best is trial 168 with value: 0.6001543820185669.\n",
      "[I 2023-12-05 18:35:24,886] Trial 298 finished with value: 0.5860579957076992 and parameters: {'model__n_estimators': 228, 'model__max_depth': 9, 'model__learning_rate': 0.8147659209890284, 'model__gamma': 4.835104482550169, 'model__reg_lambda': 0.4619342653692352, 'model__min_child_weight': 1.7845059855280008}. Best is trial 168 with value: 0.6001543820185669.\n",
      "[I 2023-12-05 18:35:26,207] Trial 299 finished with value: 0.5826493843852696 and parameters: {'model__n_estimators': 215, 'model__max_depth': 8, 'model__learning_rate': 0.8019950752327196, 'model__gamma': 5.592907454418359, 'model__reg_lambda': 0.4875147892358982, 'model__min_child_weight': 1.855258650380838}. Best is trial 168 with value: 0.6001543820185669.\n"
     ]
    }
   ],
   "source": [
    "study_xgb.optimize(optuna_optimize, n_trials=300)"
   ],
   "metadata": {
    "collapsed": false,
    "ExecuteTime": {
     "end_time": "2023-12-05T15:35:26.255478900Z",
     "start_time": "2023-12-05T15:28:34.358555800Z"
    }
   }
  },
  {
   "cell_type": "code",
   "execution_count": 199,
   "outputs": [
    {
     "name": "stdout",
     "output_type": "stream",
     "text": [
      "Наилучшие значения гиперпараметров XGBoost: {'model__n_estimators': 186, 'model__max_depth': 9, 'model__learning_rate': 0.6951594911997011, 'model__gamma': 6.1561337654244, 'model__reg_lambda': 0.4502683057520537, 'model__min_child_weight': 1.3588491885722285}\n",
      "f1_score на обучающем наборе: 0.600\n"
     ]
    }
   ],
   "source": [
    "print(\"Наилучшие значения гиперпараметров XGBoost: {}\".format(study_xgb.best_params))\n",
    "print(\"f1_score на обучающем наборе: {:.3f}\". format(study_xgb.best_value))"
   ],
   "metadata": {
    "collapsed": false,
    "ExecuteTime": {
     "end_time": "2023-12-05T15:36:44.922339200Z",
     "start_time": "2023-12-05T15:36:44.788933800Z"
    }
   }
  },
  {
   "cell_type": "code",
   "execution_count": 200,
   "outputs": [],
   "source": [
    "with mlflow.start_run(nested=True,\n",
    "                      run_name='xgb_pipeline_imbalanced'):\n",
    "\n",
    "    best_params = study_xgb.best_params\n",
    "    best_score = study_xgb.best_value\n",
    "    mlflow.log_params(best_params)\n",
    "\n",
    "    pipe.set_params(**best_params)\n",
    "    pipe.fit(X_train, y_train)\n",
    "    pred_proba = pipe.predict_proba(X_test)[:, 1]\n",
    "    roc_auc_xgb_imb = roc_auc_score(y_test, pred_proba)\n",
    "    \n",
    "    mlflow.log_metrics({\n",
    "        'f1_cv': best_score,\n",
    "        'roc_auc': roc_auc_xgb_imb,\n",
    "        'balanced_accuracy': balanced_accuracy_score(y_test, np.round(pred_proba)),\n",
    "        'f1': f1_score(y_test, np.round(pred_proba))\n",
    "    })\n",
    "\n",
    "    mlflow.sklearn.log_model(pipe, 'xgb_pipeline_imbalanced')"
   ],
   "metadata": {
    "collapsed": false,
    "ExecuteTime": {
     "end_time": "2023-12-05T15:37:13.666143300Z",
     "start_time": "2023-12-05T15:37:04.584493100Z"
    }
   }
  },
  {
   "cell_type": "markdown",
   "source": [
    "# 3. Обучение моделей с учётом дисбаланса классов\n",
    "## 3.1 Назначение разных весов классам (cost-sensitive learning)\n",
    "### 3.1.1 Модель XGBoost"
   ],
   "metadata": {
    "collapsed": false
   }
  },
  {
   "cell_type": "code",
   "execution_count": 201,
   "outputs": [],
   "source": [
    "cat_pipeline = Pipeline([\n",
    "    ('enc', OneHotEncoder(handle_unknown='error', drop='first'))\n",
    "])\n",
    "\n",
    "num_pipeline = Pipeline([\n",
    "    ('imp', SimpleImputer(fill_value=-1, add_indicator=True)),\n",
    "    ('pt', PowerTransformer())\n",
    "])\n",
    "\n",
    "preprocessor = ColumnTransformer([\n",
    "    (\"cat\", cat_pipeline, categorical_features),\n",
    "    (\"num\", num_pipeline, numeric_features)\n",
    "\n",
    "], remainder='passthrough')"
   ],
   "metadata": {
    "collapsed": false,
    "ExecuteTime": {
     "end_time": "2023-12-05T15:37:14.715464700Z",
     "start_time": "2023-12-05T15:37:14.586888400Z"
    }
   }
  },
  {
   "cell_type": "code",
   "execution_count": 202,
   "outputs": [],
   "source": [
    "def optuna_optimize(trial):\n",
    "    param = {\n",
    "        'n_estimators': trial.suggest_int('n_estimators', 50, 500),\n",
    "        'max_depth': trial.suggest_int('max_depth', 2, 10),\n",
    "        'learning_rate': trial.suggest_float('learning_rate', 0.01, 1.0),\n",
    "        'gamma': trial.suggest_float('gamma', 0.0, 20.0),\n",
    "        'reg_lambda': trial.suggest_float('reg_lambda', 0.0, 1.0),\n",
    "        'min_child_weight': trial.suggest_float('min_child_weight', 0.0, 5.0)\n",
    "    }\n",
    "\n",
    "    estimator = xgb.XGBClassifier(**param, \n",
    "                                  scale_pos_weight=3.91,\n",
    "                                  random_state=12345)\n",
    "    \n",
    "    xgb_pipe = Pipeline([\n",
    "        ('preprocessor', preprocessor),\n",
    "        ('model', estimator)\n",
    "    ])\n",
    "\n",
    "    score = cross_val_score(xgb_pipe, X_train, y_train, cv=5, scoring='f1').mean()\n",
    "    return score"
   ],
   "metadata": {
    "collapsed": false,
    "ExecuteTime": {
     "end_time": "2023-12-05T15:37:17.278828400Z",
     "start_time": "2023-12-05T15:37:17.217957Z"
    }
   }
  },
  {
   "cell_type": "code",
   "execution_count": 203,
   "outputs": [
    {
     "name": "stderr",
     "output_type": "stream",
     "text": [
      "[I 2023-12-05 18:37:20,985] A new study created in memory with name: XGBoost Optuna Optimization Class Weight\n"
     ]
    }
   ],
   "source": [
    "study_xgb_cw = optuna.create_study(study_name=\"XGBoost Optuna Optimization Class Weight\",\n",
    "                                direction='maximize')"
   ],
   "metadata": {
    "collapsed": false,
    "ExecuteTime": {
     "end_time": "2023-12-05T15:37:21.046663600Z",
     "start_time": "2023-12-05T15:37:20.990991100Z"
    }
   }
  },
  {
   "cell_type": "code",
   "execution_count": 204,
   "outputs": [
    {
     "name": "stderr",
     "output_type": "stream",
     "text": [
      "[I 2023-12-05 18:37:28,111] Trial 0 finished with value: 0.6003219642333955 and parameters: {'n_estimators': 266, 'max_depth': 9, 'learning_rate': 0.07886723370295295, 'gamma': 4.391820349334148, 'reg_lambda': 0.28473942984130507, 'min_child_weight': 4.985597789965843}. Best is trial 0 with value: 0.6003219642333955.\n",
      "[I 2023-12-05 18:37:29,186] Trial 1 finished with value: 0.5705773095558989 and parameters: {'n_estimators': 213, 'max_depth': 8, 'learning_rate': 0.9759123869822676, 'gamma': 7.42792203220173, 'reg_lambda': 0.8647751314154131, 'min_child_weight': 0.5718728188295397}. Best is trial 0 with value: 0.6003219642333955.\n",
      "[I 2023-12-05 18:37:30,327] Trial 2 finished with value: 0.5760142797921038 and parameters: {'n_estimators': 265, 'max_depth': 4, 'learning_rate': 0.871210451309975, 'gamma': 3.1656087618901707, 'reg_lambda': 0.8595135500216293, 'min_child_weight': 1.2495449572680424}. Best is trial 0 with value: 0.6003219642333955.\n",
      "[I 2023-12-05 18:37:32,066] Trial 3 finished with value: 0.5954510764145864 and parameters: {'n_estimators': 460, 'max_depth': 2, 'learning_rate': 0.32526375590936674, 'gamma': 5.561474621133938, 'reg_lambda': 0.28409617615433946, 'min_child_weight': 4.347853025378931}. Best is trial 0 with value: 0.6003219642333955.\n",
      "[I 2023-12-05 18:37:33,401] Trial 4 finished with value: 0.5958771796411617 and parameters: {'n_estimators': 189, 'max_depth': 3, 'learning_rate': 0.04647861073896358, 'gamma': 18.021975111601606, 'reg_lambda': 0.08683490077769562, 'min_child_weight': 2.5480824911561593}. Best is trial 0 with value: 0.6003219642333955.\n",
      "[I 2023-12-05 18:37:34,306] Trial 5 finished with value: 0.5958083004832103 and parameters: {'n_estimators': 63, 'max_depth': 6, 'learning_rate': 0.8214732435193284, 'gamma': 14.128763250154217, 'reg_lambda': 0.8174259309041245, 'min_child_weight': 4.648222137532693}. Best is trial 0 with value: 0.6003219642333955.\n",
      "[I 2023-12-05 18:37:36,328] Trial 6 finished with value: 0.5951648957518458 and parameters: {'n_estimators': 427, 'max_depth': 7, 'learning_rate': 0.5220830559132258, 'gamma': 9.692660622997645, 'reg_lambda': 0.7917800670870996, 'min_child_weight': 0.8746510755971942}. Best is trial 0 with value: 0.6003219642333955.\n",
      "[I 2023-12-05 18:37:38,506] Trial 7 finished with value: 0.5929614435296405 and parameters: {'n_estimators': 118, 'max_depth': 10, 'learning_rate': 0.3615548041195766, 'gamma': 4.727419001206008, 'reg_lambda': 0.14252333130600514, 'min_child_weight': 3.396436264917409}. Best is trial 0 with value: 0.6003219642333955.\n",
      "[I 2023-12-05 18:37:41,171] Trial 8 finished with value: 0.5890081808334869 and parameters: {'n_estimators': 373, 'max_depth': 9, 'learning_rate': 0.7334079386479366, 'gamma': 8.681764881829464, 'reg_lambda': 0.7515495570199531, 'min_child_weight': 3.0029205092609406}. Best is trial 0 with value: 0.6003219642333955.\n",
      "[I 2023-12-05 18:37:42,643] Trial 9 finished with value: 0.5898787495353879 and parameters: {'n_estimators': 204, 'max_depth': 5, 'learning_rate': 0.8865637821637838, 'gamma': 6.923381469025733, 'reg_lambda': 0.36225211664340684, 'min_child_weight': 3.6951876066085387}. Best is trial 0 with value: 0.6003219642333955.\n",
      "[I 2023-12-05 18:37:48,331] Trial 10 finished with value: 0.594866059932755 and parameters: {'n_estimators': 358, 'max_depth': 10, 'learning_rate': 0.035001805510758544, 'gamma': 0.3424744263533901, 'reg_lambda': 0.526405487726701, 'min_child_weight': 4.996288911843709}. Best is trial 0 with value: 0.6003219642333955.\n",
      "[I 2023-12-05 18:37:49,646] Trial 11 finished with value: 0.5938973511938654 and parameters: {'n_estimators': 168, 'max_depth': 2, 'learning_rate': 0.029435001842464933, 'gamma': 17.51901343159934, 'reg_lambda': 0.0027417172840481785, 'min_child_weight': 2.022349729560741}. Best is trial 0 with value: 0.6003219642333955.\n",
      "[I 2023-12-05 18:37:51,122] Trial 12 finished with value: 0.5941452818196413 and parameters: {'n_estimators': 309, 'max_depth': 4, 'learning_rate': 0.10863947140332315, 'gamma': 19.387899808215245, 'reg_lambda': 0.09421264995687628, 'min_child_weight': 2.2647527650367314}. Best is trial 0 with value: 0.6003219642333955.\n",
      "[I 2023-12-05 18:37:52,575] Trial 13 finished with value: 0.6026223634437968 and parameters: {'n_estimators': 257, 'max_depth': 7, 'learning_rate': 0.1778251342795123, 'gamma': 11.969615775822291, 'reg_lambda': 0.249384357337691, 'min_child_weight': 0.038735353655265925}. Best is trial 13 with value: 0.6026223634437968.\n",
      "[I 2023-12-05 18:37:54,297] Trial 14 finished with value: 0.603925036664571 and parameters: {'n_estimators': 313, 'max_depth': 8, 'learning_rate': 0.19293707518338898, 'gamma': 12.619762642480337, 'reg_lambda': 0.32591066774032984, 'min_child_weight': 0.09912909608625631}. Best is trial 14 with value: 0.603925036664571.\n",
      "[I 2023-12-05 18:37:55,916] Trial 15 finished with value: 0.6004479156011623 and parameters: {'n_estimators': 316, 'max_depth': 7, 'learning_rate': 0.23082357540809845, 'gamma': 11.998457702181343, 'reg_lambda': 0.49771582176240686, 'min_child_weight': 0.045914132712958744}. Best is trial 14 with value: 0.603925036664571.\n",
      "[I 2023-12-05 18:37:57,634] Trial 16 finished with value: 0.6019615363323647 and parameters: {'n_estimators': 399, 'max_depth': 7, 'learning_rate': 0.2162897495625835, 'gamma': 13.153000636687958, 'reg_lambda': 0.22441780369648145, 'min_child_weight': 0.009460324777305282}. Best is trial 14 with value: 0.603925036664571.\n",
      "[I 2023-12-05 18:37:59,427] Trial 17 finished with value: 0.594785056292598 and parameters: {'n_estimators': 498, 'max_depth': 8, 'learning_rate': 0.4621792852385017, 'gamma': 11.301761591692522, 'reg_lambda': 0.4156802876553738, 'min_child_weight': 1.154335967880773}. Best is trial 14 with value: 0.603925036664571.\n",
      "[I 2023-12-05 18:38:00,958] Trial 18 finished with value: 0.6055783602743172 and parameters: {'n_estimators': 324, 'max_depth': 6, 'learning_rate': 0.19064944231023262, 'gamma': 14.670979474557484, 'reg_lambda': 0.6143018716524619, 'min_child_weight': 1.608898509738862}. Best is trial 18 with value: 0.6055783602743172.\n",
      "[I 2023-12-05 18:38:02,484] Trial 19 finished with value: 0.5967223217522759 and parameters: {'n_estimators': 327, 'max_depth': 5, 'learning_rate': 0.30396350694064767, 'gamma': 15.849671242401511, 'reg_lambda': 0.6367407253675986, 'min_child_weight': 1.6344513964394003}. Best is trial 18 with value: 0.6055783602743172.\n",
      "[I 2023-12-05 18:38:04,119] Trial 20 finished with value: 0.6030721627045809 and parameters: {'n_estimators': 361, 'max_depth': 6, 'learning_rate': 0.1524117398533689, 'gamma': 13.94527178549624, 'reg_lambda': 0.9379507105875665, 'min_child_weight': 1.6805939028274857}. Best is trial 18 with value: 0.6055783602743172.\n",
      "[I 2023-12-05 18:38:05,755] Trial 21 finished with value: 0.6037430315220075 and parameters: {'n_estimators': 369, 'max_depth': 6, 'learning_rate': 0.12861299194131456, 'gamma': 15.206498964826086, 'reg_lambda': 0.9833837922692051, 'min_child_weight': 1.749106823344753}. Best is trial 18 with value: 0.6055783602743172.\n",
      "[I 2023-12-05 18:38:07,328] Trial 22 finished with value: 0.6041179519001117 and parameters: {'n_estimators': 296, 'max_depth': 6, 'learning_rate': 0.14836648868135427, 'gamma': 15.131957060436148, 'reg_lambda': 0.9645866832132094, 'min_child_weight': 0.6538539612030358}. Best is trial 18 with value: 0.6055783602743172.\n",
      "[I 2023-12-05 18:38:08,838] Trial 23 finished with value: 0.6006348686414125 and parameters: {'n_estimators': 308, 'max_depth': 5, 'learning_rate': 0.24853704710394736, 'gamma': 15.803403760443725, 'reg_lambda': 0.6916569358198374, 'min_child_weight': 0.5734725809398602}. Best is trial 18 with value: 0.6055783602743172.\n",
      "[I 2023-12-05 18:38:10,328] Trial 24 finished with value: 0.6003889947703198 and parameters: {'n_estimators': 239, 'max_depth': 8, 'learning_rate': 0.13926520485693752, 'gamma': 10.119947923585922, 'reg_lambda': 0.6125318280720374, 'min_child_weight': 0.6374640647515377}. Best is trial 18 with value: 0.6055783602743172.\n",
      "[I 2023-12-05 18:38:11,728] Trial 25 finished with value: 0.6028491036017599 and parameters: {'n_estimators': 289, 'max_depth': 6, 'learning_rate': 0.39187816689247545, 'gamma': 12.992713443637879, 'reg_lambda': 0.985615776993509, 'min_child_weight': 1.1765239149833913}. Best is trial 18 with value: 0.6055783602743172.\n",
      "[I 2023-12-05 18:38:13,385] Trial 26 finished with value: 0.6015531469676848 and parameters: {'n_estimators': 401, 'max_depth': 9, 'learning_rate': 0.26022859344633226, 'gamma': 14.6255618464765, 'reg_lambda': 0.6957969903643856, 'min_child_weight': 0.4077895400217757}. Best is trial 18 with value: 0.6055783602743172.\n",
      "[I 2023-12-05 18:38:14,913] Trial 27 finished with value: 0.5916624809903722 and parameters: {'n_estimators': 335, 'max_depth': 4, 'learning_rate': 0.19464966187596242, 'gamma': 16.861836965454856, 'reg_lambda': 0.5592726575988136, 'min_child_weight': 0.8733420294105019}. Best is trial 18 with value: 0.6055783602743172.\n",
      "[I 2023-12-05 18:38:17,111] Trial 28 finished with value: 0.5983919514322097 and parameters: {'n_estimators': 232, 'max_depth': 5, 'learning_rate': 0.012426557715210285, 'gamma': 16.241840850026353, 'reg_lambda': 0.4341137006934661, 'min_child_weight': 1.4150005369035032}. Best is trial 18 with value: 0.6055783602743172.\n",
      "[I 2023-12-05 18:38:18,616] Trial 29 finished with value: 0.6049842260657233 and parameters: {'n_estimators': 283, 'max_depth': 8, 'learning_rate': 0.10996635837167425, 'gamma': 18.932860402859234, 'reg_lambda': 0.3395282986046414, 'min_child_weight': 1.0350764504001744}. Best is trial 18 with value: 0.6055783602743172.\n",
      "[I 2023-12-05 18:38:19,879] Trial 30 finished with value: 0.6046771800210762 and parameters: {'n_estimators': 145, 'max_depth': 7, 'learning_rate': 0.08703179406575541, 'gamma': 19.53799554733013, 'reg_lambda': 0.47550524441944436, 'min_child_weight': 1.0107924126615444}. Best is trial 18 with value: 0.6055783602743172.\n",
      "[I 2023-12-05 18:38:21,125] Trial 31 finished with value: 0.6033543577021081 and parameters: {'n_estimators': 112, 'max_depth': 7, 'learning_rate': 0.06773962836750433, 'gamma': 19.875916645453092, 'reg_lambda': 0.42485277587527287, 'min_child_weight': 1.0095312128076883}. Best is trial 18 with value: 0.6055783602743172.\n",
      "[I 2023-12-05 18:38:22,362] Trial 32 finished with value: 0.60174582268859 and parameters: {'n_estimators': 151, 'max_depth': 8, 'learning_rate': 0.11729721353703734, 'gamma': 18.219842065340707, 'reg_lambda': 0.46726504528741214, 'min_child_weight': 1.4704895749089348}. Best is trial 18 with value: 0.6055783602743172.\n",
      "[I 2023-12-05 18:38:23,869] Trial 33 finished with value: 0.6059174483726172 and parameters: {'n_estimators': 278, 'max_depth': 7, 'learning_rate': 0.09054223407024328, 'gamma': 18.743100205926297, 'reg_lambda': 0.5629774438180222, 'min_child_weight': 0.804406923649627}. Best is trial 33 with value: 0.6059174483726172.\n",
      "[I 2023-12-05 18:38:25,386] Trial 34 finished with value: 0.6039143941559314 and parameters: {'n_estimators': 264, 'max_depth': 8, 'learning_rate': 0.07452204292867931, 'gamma': 18.54067423496752, 'reg_lambda': 0.5721469664887638, 'min_child_weight': 1.2282152652123774}. Best is trial 33 with value: 0.6059174483726172.\n",
      "[I 2023-12-05 18:38:26,880] Trial 35 finished with value: 0.6053418121519116 and parameters: {'n_estimators': 229, 'max_depth': 9, 'learning_rate': 0.0872516211649686, 'gamma': 19.11255947779779, 'reg_lambda': 0.5450142746759131, 'min_child_weight': 0.9581335396263184}. Best is trial 33 with value: 0.6059174483726172.\n",
      "[I 2023-12-05 18:38:28,524] Trial 36 finished with value: 0.6052696361081573 and parameters: {'n_estimators': 225, 'max_depth': 9, 'learning_rate': 0.08648712209191732, 'gamma': 17.247507110902088, 'reg_lambda': 0.5602590615775008, 'min_child_weight': 1.9855279241139376}. Best is trial 33 with value: 0.6059174483726172.\n",
      "[I 2023-12-05 18:38:30,006] Trial 37 finished with value: 0.6056522679001093 and parameters: {'n_estimators': 208, 'max_depth': 9, 'learning_rate': 0.06475281553062594, 'gamma': 16.84501722796649, 'reg_lambda': 0.5496593768932472, 'min_child_weight': 2.044732837979541}. Best is trial 33 with value: 0.6059174483726172.\n",
      "[I 2023-12-05 18:38:31,260] Trial 38 finished with value: 0.6013127770645308 and parameters: {'n_estimators': 193, 'max_depth': 9, 'learning_rate': 0.2835565562245348, 'gamma': 16.893105431695552, 'reg_lambda': 0.6454281298146163, 'min_child_weight': 1.4293684028356501}. Best is trial 33 with value: 0.6059174483726172.\n",
      "[I 2023-12-05 18:38:33,670] Trial 39 finished with value: 0.6041917951054167 and parameters: {'n_estimators': 249, 'max_depth': 10, 'learning_rate': 0.013242046179100686, 'gamma': 18.161456283386478, 'reg_lambda': 0.5249063479511908, 'min_child_weight': 2.4106083118586255}. Best is trial 33 with value: 0.6059174483726172.\n",
      "[I 2023-12-05 18:38:34,969] Trial 40 finished with value: 0.6058111791418729 and parameters: {'n_estimators': 210, 'max_depth': 10, 'learning_rate': 0.1944682191840162, 'gamma': 19.943156204717635, 'reg_lambda': 0.6009548065801977, 'min_child_weight': 2.6872342007401886}. Best is trial 33 with value: 0.6059174483726172.\n",
      "[I 2023-12-05 18:38:36,181] Trial 41 finished with value: 0.6027930319551609 and parameters: {'n_estimators': 169, 'max_depth': 10, 'learning_rate': 0.17671231261068016, 'gamma': 19.99270401913395, 'reg_lambda': 0.597900593378101, 'min_child_weight': 2.0692185083826984}. Best is trial 33 with value: 0.6059174483726172.\n",
      "[I 2023-12-05 18:38:37,698] Trial 42 finished with value: 0.6039705659250453 and parameters: {'n_estimators': 218, 'max_depth': 9, 'learning_rate': 0.05737165104159026, 'gamma': 18.641667320663835, 'reg_lambda': 0.6612766246774218, 'min_child_weight': 2.7876875825341894}. Best is trial 33 with value: 0.6059174483726172.\n",
      "[I 2023-12-05 18:38:38,991] Trial 43 finished with value: 0.6041290000009718 and parameters: {'n_estimators': 204, 'max_depth': 10, 'learning_rate': 0.22766718278293097, 'gamma': 17.49658814157213, 'reg_lambda': 0.7267777177396069, 'min_child_weight': 2.6395406889583723}. Best is trial 33 with value: 0.6059174483726172.\n",
      "[I 2023-12-05 18:38:40,203] Trial 44 finished with value: 0.6024793709141502 and parameters: {'n_estimators': 180, 'max_depth': 10, 'learning_rate': 0.3341300278716498, 'gamma': 19.102614005259355, 'reg_lambda': 0.5978959380145511, 'min_child_weight': 1.8738642319761563}. Best is trial 33 with value: 0.6059174483726172.\n",
      "[I 2023-12-05 18:38:41,606] Trial 45 finished with value: 0.6070653150937232 and parameters: {'n_estimators': 263, 'max_depth': 9, 'learning_rate': 0.1557750483694752, 'gamma': 16.613870485322725, 'reg_lambda': 0.5545273200569056, 'min_child_weight': 2.1738481470667277}. Best is trial 45 with value: 0.6070653150937232.\n",
      "[I 2023-12-05 18:38:43,001] Trial 46 finished with value: 0.6028349279523715 and parameters: {'n_estimators': 269, 'max_depth': 10, 'learning_rate': 0.27592211012770385, 'gamma': 17.832070230506407, 'reg_lambda': 0.5115833668107677, 'min_child_weight': 2.185151127468478}. Best is trial 45 with value: 0.6070653150937232.\n",
      "[I 2023-12-05 18:38:44,547] Trial 47 finished with value: 0.6026970570745769 and parameters: {'n_estimators': 336, 'max_depth': 9, 'learning_rate': 0.17005832819795388, 'gamma': 17.006747985375128, 'reg_lambda': 0.7734181250132155, 'min_child_weight': 2.156759671798163}. Best is trial 45 with value: 0.6070653150937232.\n",
      "[I 2023-12-05 18:38:46,039] Trial 48 finished with value: 0.5946970721127401 and parameters: {'n_estimators': 253, 'max_depth': 3, 'learning_rate': 0.04481275275891153, 'gamma': 16.494553626758012, 'reg_lambda': 0.6129889648180714, 'min_child_weight': 2.368332590928411}. Best is trial 45 with value: 0.6070653150937232.\n",
      "[I 2023-12-05 18:38:47,117] Trial 49 finished with value: 0.6045087570800736 and parameters: {'n_estimators': 81, 'max_depth': 9, 'learning_rate': 0.2214346448921174, 'gamma': 17.78140489526601, 'reg_lambda': 0.6892664405655535, 'min_child_weight': 2.592070307551894}. Best is trial 45 with value: 0.6070653150937232.\n",
      "[I 2023-12-05 18:38:48,589] Trial 50 finished with value: 0.6052647956949964 and parameters: {'n_estimators': 282, 'max_depth': 8, 'learning_rate': 0.1406450511159625, 'gamma': 15.893855680737241, 'reg_lambda': 0.8186306328371777, 'min_child_weight': 1.9341127184353337}. Best is trial 45 with value: 0.6070653150937232.\n",
      "[I 2023-12-05 18:38:49,994] Trial 51 finished with value: 0.6047196348895796 and parameters: {'n_estimators': 216, 'max_depth': 10, 'learning_rate': 0.09165825253084985, 'gamma': 18.942599297232317, 'reg_lambda': 0.5277016594363861, 'min_child_weight': 2.3178079897724855}. Best is trial 45 with value: 0.6070653150937232.\n",
      "[I 2023-12-05 18:38:51,367] Trial 52 finished with value: 0.6036696453512762 and parameters: {'n_estimators': 243, 'max_depth': 9, 'learning_rate': 0.2005184847579313, 'gamma': 19.925638400255167, 'reg_lambda': 0.5661333814254976, 'min_child_weight': 1.777059784728879}. Best is trial 45 with value: 0.6070653150937232.\n",
      "[I 2023-12-05 18:38:52,692] Trial 53 finished with value: 0.6045910593163177 and parameters: {'n_estimators': 193, 'max_depth': 9, 'learning_rate': 0.11640291021902832, 'gamma': 18.343275429937975, 'reg_lambda': 0.47643691618960177, 'min_child_weight': 2.9043490545645074}. Best is trial 45 with value: 0.6070653150937232.\n",
      "[I 2023-12-05 18:38:54,426] Trial 54 finished with value: 0.6056308151389792 and parameters: {'n_estimators': 346, 'max_depth': 10, 'learning_rate': 0.06565279495211702, 'gamma': 17.5884374461659, 'reg_lambda': 0.6423592106483866, 'min_child_weight': 1.5787095122883747}. Best is trial 45 with value: 0.6070653150937232.\n",
      "[I 2023-12-05 18:38:56,443] Trial 55 finished with value: 0.6070264947339117 and parameters: {'n_estimators': 393, 'max_depth': 10, 'learning_rate': 0.045293982868284635, 'gamma': 14.270336690547834, 'reg_lambda': 0.650409602329197, 'min_child_weight': 3.115408211312423}. Best is trial 45 with value: 0.6070653150937232.\n",
      "[I 2023-12-05 18:38:59,311] Trial 56 finished with value: 0.6067766176542442 and parameters: {'n_estimators': 449, 'max_depth': 10, 'learning_rate': 0.01473601283028389, 'gamma': 16.387880791619285, 'reg_lambda': 0.6428718705406654, 'min_child_weight': 3.131467581161818}. Best is trial 45 with value: 0.6070653150937232.\n",
      "[I 2023-12-05 18:39:03,002] Trial 57 finished with value: 0.6062544988790665 and parameters: {'n_estimators': 470, 'max_depth': 10, 'learning_rate': 0.010360045796889969, 'gamma': 16.321900772674525, 'reg_lambda': 0.7412108338670641, 'min_child_weight': 3.4286260246544}. Best is trial 45 with value: 0.6070653150937232.\n",
      "[I 2023-12-05 18:39:07,407] Trial 58 finished with value: 0.6051883869412544 and parameters: {'n_estimators': 472, 'max_depth': 10, 'learning_rate': 0.012959330986954953, 'gamma': 13.88783330405561, 'reg_lambda': 0.7207992321625609, 'min_child_weight': 3.232334776102896}. Best is trial 45 with value: 0.6070653150937232.\n",
      "[I 2023-12-05 18:39:09,504] Trial 59 finished with value: 0.6069327568575869 and parameters: {'n_estimators': 453, 'max_depth': 10, 'learning_rate': 0.04320845414642918, 'gamma': 15.48565682466533, 'reg_lambda': 0.7456980293429285, 'min_child_weight': 3.6191615844780483}. Best is trial 45 with value: 0.6070653150937232.\n",
      "[I 2023-12-05 18:39:11,835] Trial 60 finished with value: 0.6065745148406312 and parameters: {'n_estimators': 441, 'max_depth': 10, 'learning_rate': 0.0341672618526898, 'gamma': 15.402998618175735, 'reg_lambda': 0.755256379054132, 'min_child_weight': 3.6404354844192794}. Best is trial 45 with value: 0.6070653150937232.\n",
      "[I 2023-12-05 18:39:14,012] Trial 61 finished with value: 0.6066879142234498 and parameters: {'n_estimators': 443, 'max_depth': 10, 'learning_rate': 0.03366629534820573, 'gamma': 15.392255483072427, 'reg_lambda': 0.7576554824316956, 'min_child_weight': 3.6893557424853927}. Best is trial 45 with value: 0.6070653150937232.\n",
      "[I 2023-12-05 18:39:16,123] Trial 62 finished with value: 0.6069331824016262 and parameters: {'n_estimators': 436, 'max_depth': 10, 'learning_rate': 0.036916103676069706, 'gamma': 15.242652072286745, 'reg_lambda': 0.760046858678941, 'min_child_weight': 3.895792367278663}. Best is trial 45 with value: 0.6070653150937232.\n",
      "[I 2023-12-05 18:39:18,220] Trial 63 finished with value: 0.60767784811951 and parameters: {'n_estimators': 442, 'max_depth': 10, 'learning_rate': 0.04268458024328494, 'gamma': 15.1141273563624, 'reg_lambda': 0.7853924586412041, 'min_child_weight': 3.8424624996661656}. Best is trial 63 with value: 0.60767784811951.\n",
      "[I 2023-12-05 18:39:20,208] Trial 64 finished with value: 0.6077384930390484 and parameters: {'n_estimators': 422, 'max_depth': 10, 'learning_rate': 0.048401650806195295, 'gamma': 14.539677276868046, 'reg_lambda': 0.7878839339681885, 'min_child_weight': 4.072062745414344}. Best is trial 64 with value: 0.6077384930390484.\n",
      "[I 2023-12-05 18:39:22,138] Trial 65 finished with value: 0.6043065265753668 and parameters: {'n_estimators': 401, 'max_depth': 10, 'learning_rate': 0.05055935441599803, 'gamma': 14.496705202814658, 'reg_lambda': 0.8079766219928037, 'min_child_weight': 4.015893520173688}. Best is trial 64 with value: 0.6077384930390484.\n",
      "[I 2023-12-05 18:39:24,107] Trial 66 finished with value: 0.6049334301487699 and parameters: {'n_estimators': 494, 'max_depth': 10, 'learning_rate': 0.133290445252079, 'gamma': 13.745233504037051, 'reg_lambda': 0.8365823839192601, 'min_child_weight': 4.060566562358142}. Best is trial 64 with value: 0.6077384930390484.\n",
      "[I 2023-12-05 18:39:25,861] Trial 67 finished with value: 0.6046078018635686 and parameters: {'n_estimators': 417, 'max_depth': 10, 'learning_rate': 0.11140431819790698, 'gamma': 14.770606189941809, 'reg_lambda': 0.880844040818497, 'min_child_weight': 3.232452323899844}. Best is trial 64 with value: 0.6077384930390484.\n",
      "[I 2023-12-05 18:39:27,610] Trial 68 finished with value: 0.6071101074091645 and parameters: {'n_estimators': 423, 'max_depth': 9, 'learning_rate': 0.158267139064095, 'gamma': 13.615003095892074, 'reg_lambda': 0.7895150206979108, 'min_child_weight': 4.493624855721082}. Best is trial 64 with value: 0.6077384930390484.\n",
      "[I 2023-12-05 18:39:29,566] Trial 69 finished with value: 0.6030298529001223 and parameters: {'n_estimators': 423, 'max_depth': 9, 'learning_rate': 0.16594922879438312, 'gamma': 14.289855940525245, 'reg_lambda': 0.7860763134009943, 'min_child_weight': 4.64084737808911}. Best is trial 64 with value: 0.6077384930390484.\n",
      "[I 2023-12-05 18:39:31,323] Trial 70 finished with value: 0.6040852287297772 and parameters: {'n_estimators': 385, 'max_depth': 9, 'learning_rate': 0.14829953337165624, 'gamma': 13.576054890579218, 'reg_lambda': 0.87210361094904, 'min_child_weight': 4.009998510484714}. Best is trial 64 with value: 0.6077384930390484.\n",
      "[I 2023-12-05 18:39:33,387] Trial 71 finished with value: 0.6056451581590264 and parameters: {'n_estimators': 453, 'max_depth': 10, 'learning_rate': 0.046767952101241496, 'gamma': 14.927177363105056, 'reg_lambda': 0.7841726136027916, 'min_child_weight': 3.8652383922179965}. Best is trial 64 with value: 0.6077384930390484.\n",
      "[I 2023-12-05 18:39:35,417] Trial 72 finished with value: 0.6056333374404149 and parameters: {'n_estimators': 414, 'max_depth': 10, 'learning_rate': 0.0405816269823859, 'gamma': 15.614229138705051, 'reg_lambda': 0.7130269902383624, 'min_child_weight': 3.5478282019937915}. Best is trial 64 with value: 0.6077384930390484.\n",
      "[I 2023-12-05 18:39:37,258] Trial 73 finished with value: 0.6069042527636277 and parameters: {'n_estimators': 444, 'max_depth': 9, 'learning_rate': 0.10077616252604128, 'gamma': 12.89725135801153, 'reg_lambda': 0.6734156536653604, 'min_child_weight': 4.363984348191844}. Best is trial 64 with value: 0.6077384930390484.\n",
      "[I 2023-12-05 18:39:39,136] Trial 74 finished with value: 0.6060992140612192 and parameters: {'n_estimators': 433, 'max_depth': 9, 'learning_rate': 0.10765125523044088, 'gamma': 12.659536341799637, 'reg_lambda': 0.6811977182375215, 'min_child_weight': 4.330642802727775}. Best is trial 64 with value: 0.6077384930390484.\n",
      "[I 2023-12-05 18:39:41,085] Trial 75 finished with value: 0.6092013963339469 and parameters: {'n_estimators': 482, 'max_depth': 8, 'learning_rate': 0.07744637007712266, 'gamma': 13.466000723345847, 'reg_lambda': 0.7366995651606496, 'min_child_weight': 4.289952672842079}. Best is trial 75 with value: 0.6092013963339469.\n",
      "[I 2023-12-05 18:39:43,050] Trial 76 finished with value: 0.6097699562149892 and parameters: {'n_estimators': 479, 'max_depth': 8, 'learning_rate': 0.07933214854053686, 'gamma': 13.385924483507399, 'reg_lambda': 0.7506535051278099, 'min_child_weight': 3.8037100585373116}. Best is trial 76 with value: 0.6097699562149892.\n",
      "[I 2023-12-05 18:39:44,947] Trial 77 finished with value: 0.606667555470319 and parameters: {'n_estimators': 482, 'max_depth': 8, 'learning_rate': 0.1289911537957556, 'gamma': 13.413154848599016, 'reg_lambda': 0.7122950840099784, 'min_child_weight': 3.8859124878849998}. Best is trial 76 with value: 0.6097699562149892.\n",
      "[I 2023-12-05 18:39:46,959] Trial 78 finished with value: 0.6069477687700695 and parameters: {'n_estimators': 467, 'max_depth': 8, 'learning_rate': 0.06896054028774412, 'gamma': 12.09477768711164, 'reg_lambda': 0.8231002155501116, 'min_child_weight': 4.188833539575332}. Best is trial 76 with value: 0.6097699562149892.\n",
      "[I 2023-12-05 18:39:48,981] Trial 79 finished with value: 0.6036176972303224 and parameters: {'n_estimators': 469, 'max_depth': 8, 'learning_rate': 0.07512591623240249, 'gamma': 12.097114897775196, 'reg_lambda': 0.8457520838069978, 'min_child_weight': 4.3069773938058}. Best is trial 76 with value: 0.6097699562149892.\n",
      "[I 2023-12-05 18:39:50,804] Trial 80 finished with value: 0.6062269435305189 and parameters: {'n_estimators': 484, 'max_depth': 7, 'learning_rate': 0.16624571747138922, 'gamma': 14.144406449539547, 'reg_lambda': 0.8058355724547255, 'min_child_weight': 4.170923598501006}. Best is trial 76 with value: 0.6097699562149892.\n",
      "[I 2023-12-05 18:39:52,617] Trial 81 finished with value: 0.6065462826535561 and parameters: {'n_estimators': 387, 'max_depth': 8, 'learning_rate': 0.07164331785526581, 'gamma': 13.347507746693188, 'reg_lambda': 0.7633383149836308, 'min_child_weight': 3.801013773283474}. Best is trial 76 with value: 0.6097699562149892.\n",
      "[I 2023-12-05 18:39:54,536] Trial 82 finished with value: 0.6054335390071739 and parameters: {'n_estimators': 431, 'max_depth': 8, 'learning_rate': 0.08379852859833957, 'gamma': 14.587800241371738, 'reg_lambda': 0.788547920360076, 'min_child_weight': 4.596195544238671}. Best is trial 76 with value: 0.6097699562149892.\n",
      "[I 2023-12-05 18:39:56,299] Trial 83 finished with value: 0.6026335510467751 and parameters: {'n_estimators': 409, 'max_depth': 9, 'learning_rate': 0.14097998815129006, 'gamma': 14.054129272181164, 'reg_lambda': 0.8443420106069254, 'min_child_weight': 4.485496213394116}. Best is trial 76 with value: 0.6097699562149892.\n",
      "[I 2023-12-05 18:39:58,309] Trial 84 finished with value: 0.6033664571666253 and parameters: {'n_estimators': 461, 'max_depth': 8, 'learning_rate': 0.06282353302687568, 'gamma': 12.111056164460027, 'reg_lambda': 0.7281429389697667, 'min_child_weight': 4.869666685237336}. Best is trial 76 with value: 0.6097699562149892.\n",
      "[I 2023-12-05 18:40:00,239] Trial 85 finished with value: 0.6041638208784363 and parameters: {'n_estimators': 484, 'max_depth': 7, 'learning_rate': 0.1092528225240513, 'gamma': 11.237227411514455, 'reg_lambda': 0.8855647104747252, 'min_child_weight': 4.148093844661513}. Best is trial 76 with value: 0.6097699562149892.\n",
      "[I 2023-12-05 18:40:02,459] Trial 86 finished with value: 0.6059850438505691 and parameters: {'n_estimators': 499, 'max_depth': 9, 'learning_rate': 0.12599238098499535, 'gamma': 13.208637759198975, 'reg_lambda': 0.8176470227911462, 'min_child_weight': 3.785521888772095}. Best is trial 76 with value: 0.6097699562149892.\n",
      "[I 2023-12-05 18:40:04,569] Trial 87 finished with value: 0.6068178410704377 and parameters: {'n_estimators': 383, 'max_depth': 8, 'learning_rate': 0.03055590470214857, 'gamma': 15.0598911275058, 'reg_lambda': 0.7720074849928223, 'min_child_weight': 4.213372540433617}. Best is trial 76 with value: 0.6097699562149892.\n",
      "[I 2023-12-05 18:40:06,400] Trial 88 finished with value: 0.6048767880920427 and parameters: {'n_estimators': 435, 'max_depth': 9, 'learning_rate': 0.09067099973687805, 'gamma': 14.264791671859662, 'reg_lambda': 0.6917746165056041, 'min_child_weight': 4.457182872751712}. Best is trial 76 with value: 0.6097699562149892.\n",
      "[I 2023-12-05 18:40:08,236] Trial 89 finished with value: 0.6060394735942773 and parameters: {'n_estimators': 462, 'max_depth': 9, 'learning_rate': 0.15584704895652246, 'gamma': 12.535965416180572, 'reg_lambda': 0.9005793069660797, 'min_child_weight': 3.911540795581692}. Best is trial 76 with value: 0.6097699562149892.\n",
      "[I 2023-12-05 18:40:10,171] Trial 90 finished with value: 0.605376002702946 and parameters: {'n_estimators': 424, 'max_depth': 7, 'learning_rate': 0.05835975625742093, 'gamma': 13.757567352938038, 'reg_lambda': 0.8038910912469438, 'min_child_weight': 4.072143032483838}. Best is trial 76 with value: 0.6097699562149892.\n",
      "[I 2023-12-05 18:40:12,316] Trial 91 finished with value: 0.6061442112876121 and parameters: {'n_estimators': 456, 'max_depth': 10, 'learning_rate': 0.03656393905360446, 'gamma': 15.070658212491663, 'reg_lambda': 0.7436420557497603, 'min_child_weight': 3.635792349530341}. Best is trial 76 with value: 0.6097699562149892.\n",
      "[I 2023-12-05 18:40:14,343] Trial 92 finished with value: 0.6058686916740861 and parameters: {'n_estimators': 476, 'max_depth': 10, 'learning_rate': 0.05964168259367174, 'gamma': 15.950546704404044, 'reg_lambda': 0.739564148689789, 'min_child_weight': 3.955776633955779}. Best is trial 76 with value: 0.6097699562149892.\n",
      "[I 2023-12-05 18:40:16,261] Trial 93 finished with value: 0.605773978276658 and parameters: {'n_estimators': 491, 'max_depth': 10, 'learning_rate': 0.09798807269500798, 'gamma': 15.649220055818159, 'reg_lambda': 0.7654352051714025, 'min_child_weight': 3.4924336409865218}. Best is trial 76 with value: 0.6097699562149892.\n",
      "[I 2023-12-05 18:40:18,415] Trial 94 finished with value: 0.6046895298414772 and parameters: {'n_estimators': 463, 'max_depth': 9, 'learning_rate': 0.03952620878267121, 'gamma': 15.090279354005748, 'reg_lambda': 0.6597366365559776, 'min_child_weight': 3.811705707062093}. Best is trial 76 with value: 0.6097699562149892.\n",
      "[I 2023-12-05 18:40:22,129] Trial 95 finished with value: 0.6052343156660829 and parameters: {'n_estimators': 409, 'max_depth': 10, 'learning_rate': 0.010427560185953685, 'gamma': 14.522120669501657, 'reg_lambda': 0.7057939648156866, 'min_child_weight': 4.224639067189032}. Best is trial 76 with value: 0.6097699562149892.\n",
      "[I 2023-12-05 18:40:26,805] Trial 96 finished with value: 0.6065621288475915 and parameters: {'n_estimators': 395, 'max_depth': 8, 'learning_rate': 0.07887347849582056, 'gamma': 13.188563560218787, 'reg_lambda': 0.8289831559703085, 'min_child_weight': 3.7402973279545346}. Best is trial 76 with value: 0.6097699562149892.\n",
      "[I 2023-12-05 18:40:32,802] Trial 97 finished with value: 0.6030024624474558 and parameters: {'n_estimators': 369, 'max_depth': 9, 'learning_rate': 0.12567549457761634, 'gamma': 13.90331874600678, 'reg_lambda': 0.7951730215961331, 'min_child_weight': 4.115597490384443}. Best is trial 76 with value: 0.6097699562149892.\n",
      "[I 2023-12-05 18:40:35,871] Trial 98 finished with value: 0.6045632484374872 and parameters: {'n_estimators': 446, 'max_depth': 10, 'learning_rate': 0.21249145102470784, 'gamma': 16.13280628268086, 'reg_lambda': 0.7406476581394807, 'min_child_weight': 3.9060196690143827}. Best is trial 76 with value: 0.6097699562149892.\n",
      "[I 2023-12-05 18:40:37,853] Trial 99 finished with value: 0.6055439841640493 and parameters: {'n_estimators': 454, 'max_depth': 10, 'learning_rate': 0.055285322035191126, 'gamma': 15.421917958495643, 'reg_lambda': 0.8482401380950718, 'min_child_weight': 3.960061642271725}. Best is trial 76 with value: 0.6097699562149892.\n",
      "[I 2023-12-05 18:40:39,340] Trial 100 finished with value: 0.6055896278645336 and parameters: {'n_estimators': 300, 'max_depth': 9, 'learning_rate': 0.1917791360079712, 'gamma': 14.831656386987502, 'reg_lambda': 0.723033236640779, 'min_child_weight': 3.576830743179415}. Best is trial 76 with value: 0.6097699562149892.\n",
      "[I 2023-12-05 18:40:41,182] Trial 101 finished with value: 0.6052390845714333 and parameters: {'n_estimators': 442, 'max_depth': 9, 'learning_rate': 0.09736242981805743, 'gamma': 14.26229335323617, 'reg_lambda': 0.6662443915239541, 'min_child_weight': 4.2862958033321465}. Best is trial 76 with value: 0.6097699562149892.\n",
      "[I 2023-12-05 18:40:42,988] Trial 102 finished with value: 0.6083400114848311 and parameters: {'n_estimators': 425, 'max_depth': 8, 'learning_rate': 0.10482397457071302, 'gamma': 12.972277471456708, 'reg_lambda': 0.7750874125823365, 'min_child_weight': 4.076652781849768}. Best is trial 76 with value: 0.6097699562149892.\n",
      "[I 2023-12-05 18:40:44,861] Trial 103 finished with value: 0.6092331743596111 and parameters: {'n_estimators': 419, 'max_depth': 8, 'learning_rate': 0.07653686890520833, 'gamma': 13.673469723168525, 'reg_lambda': 0.771236497081571, 'min_child_weight': 3.7084400095312318}. Best is trial 76 with value: 0.6097699562149892.\n",
      "[I 2023-12-05 18:40:46,596] Trial 104 finished with value: 0.6037435996428103 and parameters: {'n_estimators': 422, 'max_depth': 8, 'learning_rate': 0.149988634039679, 'gamma': 13.515073808506864, 'reg_lambda': 0.7808416932547279, 'min_child_weight': 4.097008892005881}. Best is trial 76 with value: 0.6097699562149892.\n",
      "[I 2023-12-05 18:40:48,300] Trial 105 finished with value: 0.6031342801253095 and parameters: {'n_estimators': 403, 'max_depth': 7, 'learning_rate': 0.17886278703402375, 'gamma': 12.88413456178525, 'reg_lambda': 0.7959844261504817, 'min_child_weight': 3.725548306684469}. Best is trial 76 with value: 0.6097699562149892.\n",
      "[I 2023-12-05 18:40:50,239] Trial 106 finished with value: 0.6076610013834195 and parameters: {'n_estimators': 428, 'max_depth': 8, 'learning_rate': 0.07228874477960011, 'gamma': 11.634575861408186, 'reg_lambda': 0.8176931989489393, 'min_child_weight': 4.0446616906775015}. Best is trial 76 with value: 0.6097699562149892.\n",
      "[I 2023-12-05 18:40:52,051] Trial 107 finished with value: 0.6064274297557161 and parameters: {'n_estimators': 428, 'max_depth': 8, 'learning_rate': 0.11864741900600903, 'gamma': 12.354577957267594, 'reg_lambda': 0.860240715756943, 'min_child_weight': 4.219914956036103}. Best is trial 76 with value: 0.6097699562149892.\n",
      "[I 2023-12-05 18:40:54,041] Trial 108 finished with value: 0.6049586766767602 and parameters: {'n_estimators': 477, 'max_depth': 8, 'learning_rate': 0.07947256388679244, 'gamma': 11.392339859843393, 'reg_lambda': 0.8237274930570612, 'min_child_weight': 4.025802636189426}. Best is trial 76 with value: 0.6097699562149892.\n",
      "[I 2023-12-05 18:40:55,637] Trial 109 finished with value: 0.6016998611961177 and parameters: {'n_estimators': 360, 'max_depth': 7, 'learning_rate': 0.24719130435997078, 'gamma': 12.904280991136106, 'reg_lambda': 0.8238047012935816, 'min_child_weight': 4.39299759185159}. Best is trial 76 with value: 0.6097699562149892.\n",
      "[I 2023-12-05 18:40:57,610] Trial 110 finished with value: 0.608447997799907 and parameters: {'n_estimators': 414, 'max_depth': 8, 'learning_rate': 0.10136406453721336, 'gamma': 12.603106726900867, 'reg_lambda': 0.7041680880559533, 'min_child_weight': 4.488464098437467}. Best is trial 76 with value: 0.6097699562149892.\n",
      "[I 2023-12-05 18:40:59,479] Trial 111 finished with value: 0.603586566567597 and parameters: {'n_estimators': 412, 'max_depth': 8, 'learning_rate': 0.10275899962688348, 'gamma': 11.507210052064288, 'reg_lambda': 0.6975760305784346, 'min_child_weight': 4.55612352044938}. Best is trial 76 with value: 0.6097699562149892.\n",
      "[I 2023-12-05 18:41:01,316] Trial 112 finished with value: 0.6093320607305838 and parameters: {'n_estimators': 389, 'max_depth': 8, 'learning_rate': 0.0740396537849979, 'gamma': 13.363015640544608, 'reg_lambda': 0.7792541696172293, 'min_child_weight': 4.2709629160378}. Best is trial 76 with value: 0.6097699562149892.\n",
      "[I 2023-12-05 18:41:03,635] Trial 113 finished with value: 0.6069204571937374 and parameters: {'n_estimators': 393, 'max_depth': 8, 'learning_rate': 0.02524461910363343, 'gamma': 13.464143717073739, 'reg_lambda': 0.7694289321395131, 'min_child_weight': 4.4372581551912}. Best is trial 76 with value: 0.6097699562149892.\n",
      "[I 2023-12-05 18:41:05,318] Trial 114 finished with value: 0.6046625587694956 and parameters: {'n_estimators': 379, 'max_depth': 7, 'learning_rate': 0.138864220513019, 'gamma': 12.5829420674239, 'reg_lambda': 0.7141614486483486, 'min_child_weight': 4.282234723026632}. Best is trial 76 with value: 0.6097699562149892.\n",
      "[I 2023-12-05 18:41:07,082] Trial 115 finished with value: 0.6046412242077441 and parameters: {'n_estimators': 419, 'max_depth': 8, 'learning_rate': 0.11319724428262933, 'gamma': 13.742721543272877, 'reg_lambda': 0.7344762369779257, 'min_child_weight': 4.7710435274812335}. Best is trial 76 with value: 0.6097699562149892.\n",
      "[I 2023-12-05 18:41:08,726] Trial 116 finished with value: 0.6062462042060309 and parameters: {'n_estimators': 370, 'max_depth': 8, 'learning_rate': 0.16069291832929594, 'gamma': 13.227149573766656, 'reg_lambda': 0.7819769094990713, 'min_child_weight': 4.508940276251607}. Best is trial 76 with value: 0.6097699562149892.\n",
      "[I 2023-12-05 18:41:10,584] Trial 117 finished with value: 0.6068987506399679 and parameters: {'n_estimators': 403, 'max_depth': 8, 'learning_rate': 0.08117288017645552, 'gamma': 11.758901601900892, 'reg_lambda': 0.7530449335601198, 'min_child_weight': 4.685260384350416}. Best is trial 76 with value: 0.6097699562149892.\n",
      "[I 2023-12-05 18:41:12,562] Trial 118 finished with value: 0.6066218870565028 and parameters: {'n_estimators': 393, 'max_depth': 8, 'learning_rate': 0.053559997278104426, 'gamma': 12.98225564711799, 'reg_lambda': 0.8031369448157839, 'min_child_weight': 4.377038058167763}. Best is trial 76 with value: 0.6097699562149892.\n",
      "[I 2023-12-05 18:41:14,221] Trial 119 finished with value: 0.6043748845122765 and parameters: {'n_estimators': 347, 'max_depth': 7, 'learning_rate': 0.12624038656128495, 'gamma': 10.941186187152836, 'reg_lambda': 0.6289836650433612, 'min_child_weight': 3.39247669480991}. Best is trial 76 with value: 0.6097699562149892.\n",
      "[I 2023-12-05 18:41:16,089] Trial 120 finished with value: 0.6059924900910088 and parameters: {'n_estimators': 431, 'max_depth': 8, 'learning_rate': 0.09854534851501748, 'gamma': 12.43282559623366, 'reg_lambda': 0.6922429418506684, 'min_child_weight': 4.109149937863944}. Best is trial 76 with value: 0.6097699562149892.\n",
      "[I 2023-12-05 18:41:18,114] Trial 121 finished with value: 0.6061360205226809 and parameters: {'n_estimators': 465, 'max_depth': 8, 'learning_rate': 0.0636615212905443, 'gamma': 11.83788642770177, 'reg_lambda': 0.8338084196361788, 'min_child_weight': 4.1904635668770815}. Best is trial 76 with value: 0.6097699562149892.\n",
      "[I 2023-12-05 18:41:19,980] Trial 122 finished with value: 0.6057650959105858 and parameters: {'n_estimators': 414, 'max_depth': 8, 'learning_rate': 0.07360803695125545, 'gamma': 14.029848236862419, 'reg_lambda': 0.8080778734635825, 'min_child_weight': 3.994891826588478}. Best is trial 76 with value: 0.6097699562149892.\n",
      "[I 2023-12-05 18:41:22,631] Trial 123 finished with value: 0.6083966977645465 and parameters: {'n_estimators': 438, 'max_depth': 8, 'learning_rate': 0.027863875579909138, 'gamma': 12.235922737023962, 'reg_lambda': 0.7742514776036982, 'min_child_weight': 4.287618670940836}. Best is trial 76 with value: 0.6097699562149892.\n",
      "[I 2023-12-05 18:41:24,635] Trial 124 finished with value: 0.595841766358816 and parameters: {'n_estimators': 440, 'max_depth': 2, 'learning_rate': 0.02370893701863859, 'gamma': 14.348493890832962, 'reg_lambda': 0.7738823885113573, 'min_child_weight': 4.4090117397335655}. Best is trial 76 with value: 0.6097699562149892.\n",
      "[I 2023-12-05 18:41:26,900] Trial 125 finished with value: 0.6075765861564101 and parameters: {'n_estimators': 426, 'max_depth': 8, 'learning_rate': 0.028777275788856325, 'gamma': 13.54993521615384, 'reg_lambda': 0.7515618597737659, 'min_child_weight': 4.512194977420971}. Best is trial 76 with value: 0.6097699562149892.\n",
      "[I 2023-12-05 18:41:29,320] Trial 126 finished with value: 0.6088997731065321 and parameters: {'n_estimators': 426, 'max_depth': 8, 'learning_rate': 0.026251415808245, 'gamma': 12.851233058539243, 'reg_lambda': 0.7498855368960787, 'min_child_weight': 4.5684638297678655}. Best is trial 76 with value: 0.6097699562149892.\n",
      "[I 2023-12-05 18:41:32,097] Trial 127 finished with value: 0.6078434002639798 and parameters: {'n_estimators': 422, 'max_depth': 8, 'learning_rate': 0.025409682951705467, 'gamma': 12.775507437881169, 'reg_lambda': 0.7570140714353224, 'min_child_weight': 4.624007337386455}. Best is trial 76 with value: 0.6097699562149892.\n",
      "[I 2023-12-05 18:41:36,020] Trial 128 finished with value: 0.6071231957062234 and parameters: {'n_estimators': 449, 'max_depth': 8, 'learning_rate': 0.011666232825458384, 'gamma': 12.339577437661832, 'reg_lambda': 0.7324083792088948, 'min_child_weight': 4.696503066947738}. Best is trial 76 with value: 0.6097699562149892.\n",
      "[I 2023-12-05 18:41:38,643] Trial 129 finished with value: 0.6067573540447346 and parameters: {'n_estimators': 433, 'max_depth': 8, 'learning_rate': 0.0275226287732726, 'gamma': 12.884424384492071, 'reg_lambda': 0.7509886463999387, 'min_child_weight': 4.572176070526327}. Best is trial 76 with value: 0.6097699562149892.\n",
      "[I 2023-12-05 18:41:40,708] Trial 130 finished with value: 0.6044455002866257 and parameters: {'n_estimators': 403, 'max_depth': 7, 'learning_rate': 0.04786215267042383, 'gamma': 12.73475609209155, 'reg_lambda': 0.7115833465820909, 'min_child_weight': 4.958255099217619}. Best is trial 76 with value: 0.6097699562149892.\n",
      "[I 2023-12-05 18:41:46,356] Trial 131 finished with value: 0.6087538765152385 and parameters: {'n_estimators': 446, 'max_depth': 8, 'learning_rate': 0.011157829197592633, 'gamma': 12.159887970783476, 'reg_lambda': 0.7403838426490866, 'min_child_weight': 4.678313446970104}. Best is trial 76 with value: 0.6097699562149892.\n",
      "[I 2023-12-05 18:41:48,822] Trial 132 finished with value: 0.6074173335727762 and parameters: {'n_estimators': 427, 'max_depth': 8, 'learning_rate': 0.033852795158626964, 'gamma': 11.855895473492016, 'reg_lambda': 0.7649598578512025, 'min_child_weight': 4.602985608211563}. Best is trial 76 with value: 0.6097699562149892.\n",
      "[I 2023-12-05 18:41:50,693] Trial 133 finished with value: 0.6076840827592733 and parameters: {'n_estimators': 413, 'max_depth': 8, 'learning_rate': 0.057477623310910664, 'gamma': 13.317035747623699, 'reg_lambda': 0.7517710040080268, 'min_child_weight': 4.797213090971683}. Best is trial 76 with value: 0.6097699562149892.\n",
      "[I 2023-12-05 18:41:52,739] Trial 134 finished with value: 0.6056080270410272 and parameters: {'n_estimators': 451, 'max_depth': 8, 'learning_rate': 0.05375874505013193, 'gamma': 10.944904636131326, 'reg_lambda': 0.7918108089523794, 'min_child_weight': 4.426730433648738}. Best is trial 76 with value: 0.6097699562149892.\n",
      "[I 2023-12-05 18:41:54,551] Trial 135 finished with value: 0.5993634936538375 and parameters: {'n_estimators': 410, 'max_depth': 5, 'learning_rate': 0.07928978472571102, 'gamma': 12.26929689592407, 'reg_lambda': 0.7265768575265124, 'min_child_weight': 4.78525277972553}. Best is trial 76 with value: 0.6097699562149892.\n",
      "[I 2023-12-05 18:41:57,652] Trial 136 finished with value: 0.6069440965266993 and parameters: {'n_estimators': 437, 'max_depth': 8, 'learning_rate': 0.014546261516728264, 'gamma': 13.176208668272183, 'reg_lambda': 0.7683292197159308, 'min_child_weight': 4.289031537580879}. Best is trial 76 with value: 0.6097699562149892.\n",
      "[I 2023-12-05 18:41:59,306] Trial 137 finished with value: 0.6070121586621061 and parameters: {'n_estimators': 418, 'max_depth': 6, 'learning_rate': 0.09005333171917265, 'gamma': 12.702203779210823, 'reg_lambda': 0.6774211392210555, 'min_child_weight': 4.750861346485089}. Best is trial 76 with value: 0.6097699562149892.\n",
      "[I 2023-12-05 18:42:01,196] Trial 138 finished with value: 0.6074362479333268 and parameters: {'n_estimators': 490, 'max_depth': 7, 'learning_rate': 0.06334405278592549, 'gamma': 11.685292055846125, 'reg_lambda': 0.8066951915627261, 'min_child_weight': 4.849645615010495}. Best is trial 76 with value: 0.6097699562149892.\n",
      "[I 2023-12-05 18:42:03,112] Trial 139 finished with value: 0.608217384266443 and parameters: {'n_estimators': 459, 'max_depth': 8, 'learning_rate': 0.04521107727344829, 'gamma': 13.235821417726171, 'reg_lambda': 0.7020881434389779, 'min_child_weight': 4.620443999763528}. Best is trial 76 with value: 0.6097699562149892.\n",
      "[I 2023-12-05 18:42:05,060] Trial 140 finished with value: 0.6069219500312574 and parameters: {'n_estimators': 476, 'max_depth': 7, 'learning_rate': 0.038433835802507824, 'gamma': 13.781598249622212, 'reg_lambda': 0.7192930598817816, 'min_child_weight': 4.665281950936999}. Best is trial 76 with value: 0.6097699562149892.\n",
      "[I 2023-12-05 18:42:06,926] Trial 141 finished with value: 0.606591353309628 and parameters: {'n_estimators': 444, 'max_depth': 8, 'learning_rate': 0.047830869816546245, 'gamma': 12.12404572877656, 'reg_lambda': 0.6995375467058698, 'min_child_weight': 4.622897340415696}. Best is trial 76 with value: 0.6097699562149892.\n",
      "[I 2023-12-05 18:42:08,692] Trial 142 finished with value: 0.6109716296642888 and parameters: {'n_estimators': 452, 'max_depth': 8, 'learning_rate': 0.07508104635818534, 'gamma': 13.191335300372028, 'reg_lambda': 0.737772638736025, 'min_child_weight': 4.337323107826652}. Best is trial 142 with value: 0.6109716296642888.\n",
      "[I 2023-12-05 18:42:10,375] Trial 143 finished with value: 0.608983573375521 and parameters: {'n_estimators': 458, 'max_depth': 8, 'learning_rate': 0.10673129895868588, 'gamma': 13.299548396476144, 'reg_lambda': 0.7442733136505796, 'min_child_weight': 4.534211453001494}. Best is trial 142 with value: 0.6109716296642888.\n",
      "[I 2023-12-05 18:42:12,159] Trial 144 finished with value: 0.6069002183327022 and parameters: {'n_estimators': 453, 'max_depth': 8, 'learning_rate': 0.09548997933004338, 'gamma': 13.275036783905325, 'reg_lambda': 0.7388809579027866, 'min_child_weight': 4.532071740756344}. Best is trial 142 with value: 0.6109716296642888.\n",
      "[I 2023-12-05 18:42:14,306] Trial 145 finished with value: 0.6020232938812871 and parameters: {'n_estimators': 460, 'max_depth': 8, 'learning_rate': 0.11659819560261797, 'gamma': 12.566306621269506, 'reg_lambda': 0.6787204427306667, 'min_child_weight': 4.329291084766463}. Best is trial 142 with value: 0.6109716296642888.\n",
      "[I 2023-12-05 18:42:16,720] Trial 146 finished with value: 0.5958182702925228 and parameters: {'n_estimators': 483, 'max_depth': 4, 'learning_rate': 0.012672848851290544, 'gamma': 13.01402177819798, 'reg_lambda': 0.7541607487472802, 'min_child_weight': 4.85859108884695}. Best is trial 142 with value: 0.6109716296642888.\n",
      "[I 2023-12-05 18:42:18,567] Trial 147 finished with value: 0.6074900709097408 and parameters: {'n_estimators': 500, 'max_depth': 8, 'learning_rate': 0.06297587785870536, 'gamma': 13.561081897111796, 'reg_lambda': 0.7097893060025703, 'min_child_weight': 4.9936275009784525}. Best is trial 142 with value: 0.6109716296642888.\n",
      "[I 2023-12-05 18:42:20,260] Trial 148 finished with value: 0.605346342226683 and parameters: {'n_estimators': 468, 'max_depth': 8, 'learning_rate': 0.09685036549661646, 'gamma': 14.152492576252243, 'reg_lambda': 0.7302927110847447, 'min_child_weight': 4.691451130093989}. Best is trial 142 with value: 0.6109716296642888.\n",
      "[I 2023-12-05 18:42:21,918] Trial 149 finished with value: 0.6035964016743597 and parameters: {'n_estimators': 460, 'max_depth': 8, 'learning_rate': 0.13424340164498616, 'gamma': 13.227899448096494, 'reg_lambda': 0.7794881616030849, 'min_child_weight': 4.4119663067484565}. Best is trial 142 with value: 0.6109716296642888.\n",
      "[I 2023-12-05 18:42:23,622] Trial 150 finished with value: 0.6055820903896776 and parameters: {'n_estimators': 438, 'max_depth': 8, 'learning_rate': 0.08042972160340014, 'gamma': 14.630877153536447, 'reg_lambda': 0.6953137366444733, 'min_child_weight': 4.594298530633889}. Best is trial 142 with value: 0.6109716296642888.\n",
      "[I 2023-12-05 18:42:25,520] Trial 151 finished with value: 0.6058646670736292 and parameters: {'n_estimators': 448, 'max_depth': 8, 'learning_rate': 0.04068630279363556, 'gamma': 14.060574613833296, 'reg_lambda': 0.751613247537213, 'min_child_weight': 4.2721535393625}. Best is trial 142 with value: 0.6109716296642888.\n",
      "[I 2023-12-05 18:42:27,282] Trial 152 finished with value: 0.6059699074847599 and parameters: {'n_estimators': 418, 'max_depth': 8, 'learning_rate': 0.05462069967137781, 'gamma': 12.48280367108746, 'reg_lambda': 0.7844855756022197, 'min_child_weight': 4.450801953949916}. Best is trial 142 with value: 0.6109716296642888.\n",
      "[I 2023-12-05 18:42:29,326] Trial 153 finished with value: 0.6074794366874225 and parameters: {'n_estimators': 474, 'max_depth': 8, 'learning_rate': 0.033650019264428004, 'gamma': 13.68845473534064, 'reg_lambda': 0.771363356635561, 'min_child_weight': 4.739714094900133}. Best is trial 142 with value: 0.6109716296642888.\n",
      "[I 2023-12-05 18:42:31,579] Trial 154 finished with value: 0.5934616393101484 and parameters: {'n_estimators': 437, 'max_depth': 3, 'learning_rate': 0.010397590999425142, 'gamma': 12.930385880196411, 'reg_lambda': 0.7371805177794785, 'min_child_weight': 4.142736828275404}. Best is trial 142 with value: 0.6109716296642888.\n",
      "[I 2023-12-05 18:42:33,278] Trial 155 finished with value: 0.6067243378572259 and parameters: {'n_estimators': 406, 'max_depth': 8, 'learning_rate': 0.06858510901925279, 'gamma': 13.398326852646145, 'reg_lambda': 0.7224205453102999, 'min_child_weight': 4.528322998848912}. Best is trial 142 with value: 0.6109716296642888.\n",
      "[I 2023-12-05 18:42:34,899] Trial 156 finished with value: 0.6061930876377533 and parameters: {'n_estimators': 443, 'max_depth': 7, 'learning_rate': 0.12063465278310988, 'gamma': 14.522568245211982, 'reg_lambda': 0.7580952371212942, 'min_child_weight': 4.352434117439764}. Best is trial 142 with value: 0.6109716296642888.\n",
      "[I 2023-12-05 18:42:36,448] Trial 157 finished with value: 0.5947852364704875 and parameters: {'n_estimators': 460, 'max_depth': 8, 'learning_rate': 0.4292906171805349, 'gamma': 12.151522181139418, 'reg_lambda': 0.7948664824777046, 'min_child_weight': 4.820914296638509}. Best is trial 142 with value: 0.6109716296642888.\n",
      "[I 2023-12-05 18:42:38,068] Trial 158 finished with value: 0.6062525141586703 and parameters: {'n_estimators': 421, 'max_depth': 8, 'learning_rate': 0.10340000769509072, 'gamma': 14.007997175077959, 'reg_lambda': 0.6715691733627823, 'min_child_weight': 3.8367379495920164}. Best is trial 142 with value: 0.6109716296642888.\n",
      "[I 2023-12-05 18:42:39,848] Trial 159 finished with value: 0.6077342495420786 and parameters: {'n_estimators': 485, 'max_depth': 8, 'learning_rate': 0.08475214036207997, 'gamma': 12.723685570580795, 'reg_lambda': 0.8605463367089796, 'min_child_weight': 4.223095677391945}. Best is trial 142 with value: 0.6109716296642888.\n",
      "[I 2023-12-05 18:42:41,608] Trial 160 finished with value: 0.6074374895633448 and parameters: {'n_estimators': 486, 'max_depth': 8, 'learning_rate': 0.08509669279365994, 'gamma': 12.69622281525055, 'reg_lambda': 0.841524006462884, 'min_child_weight': 4.25781038699968}. Best is trial 142 with value: 0.6109716296642888.\n",
      "[I 2023-12-05 18:42:43,725] Trial 161 finished with value: 0.608050311375371 and parameters: {'n_estimators': 469, 'max_depth': 8, 'learning_rate': 0.05089007687590723, 'gamma': 13.12446369178144, 'reg_lambda': 0.813633142495238, 'min_child_weight': 4.170636705731488}. Best is trial 142 with value: 0.6109716296642888.\n",
      "[I 2023-12-05 18:42:45,549] Trial 162 finished with value: 0.6079647287197377 and parameters: {'n_estimators': 472, 'max_depth': 8, 'learning_rate': 0.06067086366146661, 'gamma': 13.13743080011648, 'reg_lambda': 0.84882449387643, 'min_child_weight': 4.174264802598972}. Best is trial 142 with value: 0.6109716296642888.\n",
      "[I 2023-12-05 18:42:47,121] Trial 163 finished with value: 0.5975912680844222 and parameters: {'n_estimators': 475, 'max_depth': 8, 'learning_rate': 0.5989777172604032, 'gamma': 12.875857333341216, 'reg_lambda': 0.8623647088879686, 'min_child_weight': 4.155505324785223}. Best is trial 142 with value: 0.6109716296642888.\n",
      "[I 2023-12-05 18:42:49,317] Trial 164 finished with value: 0.6079114544913835 and parameters: {'n_estimators': 489, 'max_depth': 8, 'learning_rate': 0.02759203254089463, 'gamma': 12.401767328507411, 'reg_lambda': 0.8705992298986923, 'min_child_weight': 4.327984229872367}. Best is trial 142 with value: 0.6109716296642888.\n",
      "[I 2023-12-05 18:42:51,381] Trial 165 finished with value: 0.6072861950929089 and parameters: {'n_estimators': 495, 'max_depth': 8, 'learning_rate': 0.03943409681369433, 'gamma': 12.080391689022713, 'reg_lambda': 0.8960736872817686, 'min_child_weight': 4.3678161030326415}. Best is trial 142 with value: 0.6109716296642888.\n",
      "[I 2023-12-05 18:42:53,384] Trial 166 finished with value: 0.6047079377296102 and parameters: {'n_estimators': 469, 'max_depth': 7, 'learning_rate': 0.031414428543929396, 'gamma': 13.723285490550783, 'reg_lambda': 0.8177670818807558, 'min_child_weight': 4.074677022710341}. Best is trial 142 with value: 0.6109716296642888.\n",
      "[I 2023-12-05 18:42:55,166] Trial 167 finished with value: 0.6075750937655865 and parameters: {'n_estimators': 457, 'max_depth': 8, 'learning_rate': 0.06755540513917202, 'gamma': 12.426058570411554, 'reg_lambda': 0.9321324029120958, 'min_child_weight': 4.480622020140271}. Best is trial 142 with value: 0.6109716296642888.\n",
      "[I 2023-12-05 18:42:58,185] Trial 168 finished with value: 0.6072938807175866 and parameters: {'n_estimators': 478, 'max_depth': 8, 'learning_rate': 0.011819593163580763, 'gamma': 13.164849426152701, 'reg_lambda': 0.8756333211757933, 'min_child_weight': 3.9570297116244566}. Best is trial 142 with value: 0.6109716296642888.\n",
      "[I 2023-12-05 18:42:59,797] Trial 169 finished with value: 0.6029703625466729 and parameters: {'n_estimators': 467, 'max_depth': 8, 'learning_rate': 0.3392152917427609, 'gamma': 11.979078181384955, 'reg_lambda': 0.842799347007682, 'min_child_weight': 4.2863260223934905}. Best is trial 142 with value: 0.6109716296642888.\n",
      "[I 2023-12-05 18:43:01,503] Trial 170 finished with value: 0.6048107200946617 and parameters: {'n_estimators': 451, 'max_depth': 8, 'learning_rate': 0.10645265371761017, 'gamma': 11.413082501612303, 'reg_lambda': 0.8082665503746073, 'min_child_weight': 4.135837355571308}. Best is trial 142 with value: 0.6109716296642888.\n",
      "[I 2023-12-05 18:43:03,301] Trial 171 finished with value: 0.6066422733463888 and parameters: {'n_estimators': 487, 'max_depth': 8, 'learning_rate': 0.07594328426741621, 'gamma': 12.73074861536069, 'reg_lambda': 0.8731985499998335, 'min_child_weight': 4.217210375749617}. Best is trial 142 with value: 0.6109716296642888.\n",
      "[I 2023-12-05 18:43:05,210] Trial 172 finished with value: 0.6068355586200036 and parameters: {'n_estimators': 490, 'max_depth': 8, 'learning_rate': 0.04966008989178598, 'gamma': 13.126454014918865, 'reg_lambda': 0.8346906042455947, 'min_child_weight': 4.34948333396908}. Best is trial 142 with value: 0.6109716296642888.\n",
      "[I 2023-12-05 18:43:06,943] Trial 173 finished with value: 0.6066195987843273 and parameters: {'n_estimators': 480, 'max_depth': 8, 'learning_rate': 0.09006188132120535, 'gamma': 12.476011187241946, 'reg_lambda': 0.9136188764972237, 'min_child_weight': 4.214338249127405}. Best is trial 142 with value: 0.6109716296642888.\n",
      "[I 2023-12-05 18:43:09,559] Trial 174 finished with value: 0.6085060735825522 and parameters: {'n_estimators': 470, 'max_depth': 8, 'learning_rate': 0.026950650559461966, 'gamma': 13.555941310384632, 'reg_lambda': 0.7937080573210624, 'min_child_weight': 4.595689948365278}. Best is trial 142 with value: 0.6109716296642888.\n",
      "[I 2023-12-05 18:43:11,607] Trial 175 finished with value: 0.6060885962003664 and parameters: {'n_estimators': 467, 'max_depth': 8, 'learning_rate': 0.033835145353561163, 'gamma': 13.7923108477852, 'reg_lambda': 0.7787595496770678, 'min_child_weight': 4.628703454353639}. Best is trial 142 with value: 0.6109716296642888.\n",
      "[I 2023-12-05 18:43:13,818] Trial 176 finished with value: 0.6079219150006787 and parameters: {'n_estimators': 456, 'max_depth': 8, 'learning_rate': 0.02579398926439447, 'gamma': 13.413357278468755, 'reg_lambda': 0.7967350310252369, 'min_child_weight': 4.558838743941871}. Best is trial 142 with value: 0.6109716296642888.\n",
      "[I 2023-12-05 18:43:16,065] Trial 177 finished with value: 0.6059421113917309 and parameters: {'n_estimators': 457, 'max_depth': 8, 'learning_rate': 0.024626065175657772, 'gamma': 13.427559760826359, 'reg_lambda': 0.8049596937955307, 'min_child_weight': 4.564731072496057}. Best is trial 142 with value: 0.6109716296642888.\n",
      "[I 2023-12-05 18:43:18,286] Trial 178 finished with value: 0.6091880269081246 and parameters: {'n_estimators': 473, 'max_depth': 8, 'learning_rate': 0.05860394758888509, 'gamma': 13.074494186291727, 'reg_lambda': 0.7636960097738098, 'min_child_weight': 4.492704448500067}. Best is trial 142 with value: 0.6109716296642888.\n",
      "[I 2023-12-05 18:43:20,098] Trial 179 finished with value: 0.608675045799602 and parameters: {'n_estimators': 472, 'max_depth': 8, 'learning_rate': 0.06267028923373763, 'gamma': 13.486835744952506, 'reg_lambda': 0.8238459123479186, 'min_child_weight': 4.473165827969835}. Best is trial 142 with value: 0.6109716296642888.\n",
      "[I 2023-12-05 18:43:21,896] Trial 180 finished with value: 0.6063780488225582 and parameters: {'n_estimators': 471, 'max_depth': 8, 'learning_rate': 0.06246281020920832, 'gamma': 13.905266745886694, 'reg_lambda': 0.8217625731233711, 'min_child_weight': 4.482050959155641}. Best is trial 142 with value: 0.6109716296642888.\n",
      "[I 2023-12-05 18:43:23,933] Trial 181 finished with value: 0.6098262917188799 and parameters: {'n_estimators': 475, 'max_depth': 8, 'learning_rate': 0.05594040954038512, 'gamma': 13.381654785815533, 'reg_lambda': 0.8467260913659673, 'min_child_weight': 4.431687346153779}. Best is trial 142 with value: 0.6109716296642888.\n",
      "[I 2023-12-05 18:43:25,793] Trial 182 finished with value: 0.610770799610297 and parameters: {'n_estimators': 475, 'max_depth': 8, 'learning_rate': 0.05540716895654255, 'gamma': 13.503686635377228, 'reg_lambda': 0.7941130845448033, 'min_child_weight': 4.441967463277328}. Best is trial 142 with value: 0.6109716296642888.\n",
      "[I 2023-12-05 18:43:27,498] Trial 183 finished with value: 0.6091763309934268 and parameters: {'n_estimators': 479, 'max_depth': 8, 'learning_rate': 0.10729743846858414, 'gamma': 13.007039865176438, 'reg_lambda': 0.8464408638416112, 'min_child_weight': 4.498443812892338}. Best is trial 142 with value: 0.6109716296642888.\n",
      "[I 2023-12-05 18:43:29,247] Trial 184 finished with value: 0.6043541730870473 and parameters: {'n_estimators': 478, 'max_depth': 8, 'learning_rate': 0.11390077138164165, 'gamma': 13.604238686448271, 'reg_lambda': 0.7693522283606535, 'min_child_weight': 4.410808172507961}. Best is trial 142 with value: 0.6109716296642888.\n",
      "[I 2023-12-05 18:43:30,912] Trial 185 finished with value: 0.6053082883045182 and parameters: {'n_estimators': 469, 'max_depth': 8, 'learning_rate': 0.1299517574336047, 'gamma': 14.208473502449202, 'reg_lambda': 0.743571791173782, 'min_child_weight': 4.680879403836017}. Best is trial 142 with value: 0.6109716296642888.\n",
      "[I 2023-12-05 18:43:32,645] Trial 186 finished with value: 0.605375498128106 and parameters: {'n_estimators': 462, 'max_depth': 8, 'learning_rate': 0.09370059123155558, 'gamma': 13.031138144349265, 'reg_lambda': 0.7150351892825673, 'min_child_weight': 4.443109601178544}. Best is trial 142 with value: 0.6109716296642888.\n",
      "[I 2023-12-05 18:43:34,261] Trial 187 finished with value: 0.6050958473975504 and parameters: {'n_estimators': 447, 'max_depth': 8, 'learning_rate': 0.14822787341861998, 'gamma': 13.669267614931844, 'reg_lambda': 0.8270028856257069, 'min_child_weight': 4.481415712913163}. Best is trial 142 with value: 0.6109716296642888.\n",
      "[I 2023-12-05 18:43:36,009] Trial 188 finished with value: 0.6059500119135806 and parameters: {'n_estimators': 479, 'max_depth': 8, 'learning_rate': 0.07822169992234695, 'gamma': 13.914165267944917, 'reg_lambda': 0.7879073210208907, 'min_child_weight': 4.706862656876997}. Best is trial 142 with value: 0.6109716296642888.\n",
      "[I 2023-12-05 18:43:37,892] Trial 189 finished with value: 0.6066936395160399 and parameters: {'n_estimators': 492, 'max_depth': 8, 'learning_rate': 0.051652424488152215, 'gamma': 13.263432685339557, 'reg_lambda': 0.7726903689223117, 'min_child_weight': 4.546181731429448}. Best is trial 142 with value: 0.6109716296642888.\n",
      "[I 2023-12-05 18:43:39,598] Trial 190 finished with value: 0.6034068282680201 and parameters: {'n_estimators': 464, 'max_depth': 7, 'learning_rate': 0.104099419270391, 'gamma': 14.451651287959828, 'reg_lambda': 0.7340500796168181, 'min_child_weight': 4.383639393078084}. Best is trial 142 with value: 0.6109716296642888.\n",
      "[I 2023-12-05 18:43:41,440] Trial 191 finished with value: 0.6077771837630436 and parameters: {'n_estimators': 500, 'max_depth': 8, 'learning_rate': 0.06894843767019462, 'gamma': 13.127094597625836, 'reg_lambda': 0.8444609455452514, 'min_child_weight': 4.308873720691762}. Best is trial 142 with value: 0.6109716296642888.\n",
      "[I 2023-12-05 18:43:43,270] Trial 192 finished with value: 0.6053925323925997 and parameters: {'n_estimators': 474, 'max_depth': 8, 'learning_rate': 0.05719902810224701, 'gamma': 12.904722803850442, 'reg_lambda': 0.816361983090685, 'min_child_weight': 4.4949460757448625}. Best is trial 142 with value: 0.6109716296642888.\n",
      "[I 2023-12-05 18:43:45,099] Trial 193 finished with value: 0.6080704401444229 and parameters: {'n_estimators': 456, 'max_depth': 8, 'learning_rate': 0.05374914345698142, 'gamma': 13.514756008652366, 'reg_lambda': 0.8519154970451435, 'min_child_weight': 4.657552553762929}. Best is trial 142 with value: 0.6109716296642888.\n",
      "[I 2023-12-05 18:43:46,787] Trial 194 finished with value: 0.6063931919481675 and parameters: {'n_estimators': 449, 'max_depth': 8, 'learning_rate': 0.086984658672072, 'gamma': 13.511034296602585, 'reg_lambda': 0.8073796562769973, 'min_child_weight': 4.6033188594962136}. Best is trial 142 with value: 0.6109716296642888.\n",
      "[I 2023-12-05 18:43:48,653] Trial 195 finished with value: 0.6047900664970112 and parameters: {'n_estimators': 456, 'max_depth': 8, 'learning_rate': 0.04494807935938341, 'gamma': 14.02605544711834, 'reg_lambda': 0.7652609455943608, 'min_child_weight': 4.706415600182405}. Best is trial 142 with value: 0.6109716296642888.\n",
      "[I 2023-12-05 18:43:50,302] Trial 196 finished with value: 0.6051981453476974 and parameters: {'n_estimators': 433, 'max_depth': 8, 'learning_rate': 0.11557882364583358, 'gamma': 12.478182782280586, 'reg_lambda': 0.700159487190415, 'min_child_weight': 4.903689640225144}. Best is trial 142 with value: 0.6109716296642888.\n",
      "[I 2023-12-05 18:43:51,901] Trial 197 finished with value: 0.6001650618447428 and parameters: {'n_estimators': 464, 'max_depth': 8, 'learning_rate': 0.23423095607108646, 'gamma': 13.428980702088026, 'reg_lambda': 0.7909808931410944, 'min_child_weight': 4.392820636696097}. Best is trial 142 with value: 0.6109716296642888.\n",
      "[I 2023-12-05 18:43:53,010] Trial 198 finished with value: 0.6090122341018386 and parameters: {'n_estimators': 51, 'max_depth': 8, 'learning_rate': 0.0742181826720319, 'gamma': 12.114173320000333, 'reg_lambda': 0.750471918334541, 'min_child_weight': 4.765430210034526}. Best is trial 142 with value: 0.6109716296642888.\n",
      "[I 2023-12-05 18:43:54,083] Trial 199 finished with value: 0.6007376453507481 and parameters: {'n_estimators': 95, 'max_depth': 8, 'learning_rate': 0.1361866205708155, 'gamma': 12.173179277027083, 'reg_lambda': 0.7399328985729046, 'min_child_weight': 4.7506402614089165}. Best is trial 142 with value: 0.6109716296642888.\n",
      "[I 2023-12-05 18:43:55,300] Trial 200 finished with value: 0.6071226832329197 and parameters: {'n_estimators': 137, 'max_depth': 8, 'learning_rate': 0.07764857838554258, 'gamma': 11.932985788677572, 'reg_lambda': 0.7596875246107162, 'min_child_weight': 4.637726851422221}. Best is trial 142 with value: 0.6109716296642888.\n",
      "[I 2023-12-05 18:43:57,214] Trial 201 finished with value: 0.6058473091064938 and parameters: {'n_estimators': 481, 'max_depth': 8, 'learning_rate': 0.052208723616027936, 'gamma': 13.001386514498417, 'reg_lambda': 0.7262033931383801, 'min_child_weight': 4.522201181599157}. Best is trial 142 with value: 0.6109716296642888.\n",
      "[I 2023-12-05 18:43:58,913] Trial 202 finished with value: 0.6060169130149301 and parameters: {'n_estimators': 445, 'max_depth': 8, 'learning_rate': 0.09849874038039426, 'gamma': 12.624937584675276, 'reg_lambda': 0.8560528763335024, 'min_child_weight': 4.836853272607815}. Best is trial 142 with value: 0.6109716296642888.\n",
      "[I 2023-12-05 18:44:00,530] Trial 203 finished with value: 0.6003016362013154 and parameters: {'n_estimators': 460, 'max_depth': 8, 'learning_rate': 0.26369355879953804, 'gamma': 13.772845110555672, 'reg_lambda': 0.7776332472729015, 'min_child_weight': 4.598613540865023}. Best is trial 142 with value: 0.6109716296642888.\n",
      "[I 2023-12-05 18:44:02,311] Trial 204 finished with value: 0.6052094565268119 and parameters: {'n_estimators': 438, 'max_depth': 8, 'learning_rate': 0.07278858820544777, 'gamma': 9.511549087381077, 'reg_lambda': 0.7477051597798178, 'min_child_weight': 4.7679570196399155}. Best is trial 142 with value: 0.6109716296642888.\n",
      "[I 2023-12-05 18:44:04,265] Trial 205 finished with value: 0.6077963464931915 and parameters: {'n_estimators': 474, 'max_depth': 8, 'learning_rate': 0.04307552770457133, 'gamma': 12.896042813994665, 'reg_lambda': 0.8302952556405763, 'min_child_weight': 4.433402554423326}. Best is trial 142 with value: 0.6109716296642888.\n",
      "[I 2023-12-05 18:44:05,626] Trial 206 finished with value: 0.5947917655026027 and parameters: {'n_estimators': 66, 'max_depth': 8, 'learning_rate': 0.011215671268278549, 'gamma': 14.175517766566285, 'reg_lambda': 0.7927195398949171, 'min_child_weight': 4.282957561006873}. Best is trial 142 with value: 0.6109716296642888.\n",
      "[I 2023-12-05 18:44:07,267] Trial 207 finished with value: 0.6064702241160619 and parameters: {'n_estimators': 485, 'max_depth': 8, 'learning_rate': 0.18463190298578763, 'gamma': 13.492664127357575, 'reg_lambda': 0.7103104265573325, 'min_child_weight': 4.8923837723719386}. Best is trial 142 with value: 0.6109716296642888.\n",
      "[I 2023-12-05 18:44:08,861] Trial 208 finished with value: 0.6063515975116757 and parameters: {'n_estimators': 319, 'max_depth': 8, 'learning_rate': 0.06273923726471102, 'gamma': 11.74091417682463, 'reg_lambda': 0.7628777163429705, 'min_child_weight': 4.6997000403514635}. Best is trial 142 with value: 0.6109716296642888.\n",
      "[I 2023-12-05 18:44:10,563] Trial 209 finished with value: 0.6055528244821816 and parameters: {'n_estimators': 452, 'max_depth': 9, 'learning_rate': 0.10536713948005255, 'gamma': 12.32501533212908, 'reg_lambda': 0.8961286813347455, 'min_child_weight': 4.4607433866584225}. Best is trial 142 with value: 0.6109716296642888.\n",
      "[I 2023-12-05 18:44:12,289] Trial 210 finished with value: 0.607232349219778 and parameters: {'n_estimators': 467, 'max_depth': 8, 'learning_rate': 0.08367471535730944, 'gamma': 13.257616827474083, 'reg_lambda': 0.7286118688181145, 'min_child_weight': 2.9031811278115205}. Best is trial 142 with value: 0.6109716296642888.\n",
      "[I 2023-12-05 18:44:14,155] Trial 211 finished with value: 0.6077713408264005 and parameters: {'n_estimators': 472, 'max_depth': 8, 'learning_rate': 0.054585486773190944, 'gamma': 13.026136422180514, 'reg_lambda': 0.8413383964772807, 'min_child_weight': 4.145074564078479}. Best is trial 142 with value: 0.6109716296642888.\n",
      "[I 2023-12-05 18:44:15,773] Trial 212 finished with value: 0.5986122313454735 and parameters: {'n_estimators': 480, 'max_depth': 8, 'learning_rate': 0.37208516769113603, 'gamma': 12.695331704260251, 'reg_lambda': 0.8501719376108765, 'min_child_weight': 4.019782646571618}. Best is trial 142 with value: 0.6109716296642888.\n",
      "[I 2023-12-05 18:44:17,736] Trial 213 finished with value: 0.6086675486049555 and parameters: {'n_estimators': 459, 'max_depth': 8, 'learning_rate': 0.03759312536243024, 'gamma': 13.254600933587641, 'reg_lambda': 0.8023328044126514, 'min_child_weight': 4.331699596195808}. Best is trial 142 with value: 0.6109716296642888.\n",
      "[I 2023-12-05 18:44:19,724] Trial 214 finished with value: 0.6063619091039798 and parameters: {'n_estimators': 456, 'max_depth': 8, 'learning_rate': 0.034853956127101085, 'gamma': 13.786142725549565, 'reg_lambda': 0.8072921152729403, 'min_child_weight': 4.347999450156181}. Best is trial 142 with value: 0.6109716296642888.\n",
      "[I 2023-12-05 18:44:21,738] Trial 215 finished with value: 0.6077374450952032 and parameters: {'n_estimators': 432, 'max_depth': 8, 'learning_rate': 0.02939919348404864, 'gamma': 13.510638254544915, 'reg_lambda': 0.7804444863445968, 'min_child_weight': 4.52751724271683}. Best is trial 142 with value: 0.6109716296642888.\n",
      "[I 2023-12-05 18:44:23,461] Trial 216 finished with value: 0.6072305786883133 and parameters: {'n_estimators': 445, 'max_depth': 8, 'learning_rate': 0.07009853506186171, 'gamma': 14.245898199291826, 'reg_lambda': 0.7501216912362202, 'min_child_weight': 4.255882042990854}. Best is trial 142 with value: 0.6109716296642888.\n",
      "[I 2023-12-05 18:44:25,416] Trial 217 finished with value: 0.6084768738940933 and parameters: {'n_estimators': 460, 'max_depth': 8, 'learning_rate': 0.0408036646852276, 'gamma': 12.705946492878347, 'reg_lambda': 0.7991143966501939, 'min_child_weight': 4.640312704014605}. Best is trial 142 with value: 0.6109716296642888.\n",
      "[I 2023-12-05 18:44:26,992] Trial 218 finished with value: 0.6032141764383059 and parameters: {'n_estimators': 452, 'max_depth': 8, 'learning_rate': 0.2903885341019671, 'gamma': 12.32364860194796, 'reg_lambda': 0.3857973185643683, 'min_child_weight': 4.630011310783663}. Best is trial 142 with value: 0.6109716296642888.\n",
      "[I 2023-12-05 18:44:29,803] Trial 219 finished with value: 0.6086746350831151 and parameters: {'n_estimators': 462, 'max_depth': 8, 'learning_rate': 0.013187856554597269, 'gamma': 12.696304548161052, 'reg_lambda': 0.7902591112161865, 'min_child_weight': 4.579480070692313}. Best is trial 142 with value: 0.6109716296642888.\n",
      "[I 2023-12-05 18:44:33,139] Trial 220 finished with value: 0.6079438874463988 and parameters: {'n_estimators': 462, 'max_depth': 8, 'learning_rate': 0.010475464264206272, 'gamma': 10.987004566498122, 'reg_lambda': 0.7766457393612519, 'min_child_weight': 4.437520233637874}. Best is trial 142 with value: 0.6109716296642888.\n",
      "[I 2023-12-05 18:44:35,130] Trial 221 finished with value: 0.6078493997266985 and parameters: {'n_estimators': 462, 'max_depth': 8, 'learning_rate': 0.03699776493739753, 'gamma': 12.735653538680488, 'reg_lambda': 0.7942676012475587, 'min_child_weight': 4.57087199651898}. Best is trial 142 with value: 0.6109716296642888.\n",
      "[I 2023-12-05 18:44:37,244] Trial 222 finished with value: 0.6068938515992456 and parameters: {'n_estimators': 439, 'max_depth': 8, 'learning_rate': 0.026444301198184923, 'gamma': 13.298835079646626, 'reg_lambda': 0.7673335170967709, 'min_child_weight': 4.770083083342839}. Best is trial 142 with value: 0.6109716296642888.\n",
      "[I 2023-12-05 18:44:39,157] Trial 223 finished with value: 0.6063036932336524 and parameters: {'n_estimators': 480, 'max_depth': 8, 'learning_rate': 0.04748311958519473, 'gamma': 12.567495703292176, 'reg_lambda': 0.7434666711040708, 'min_child_weight': 4.658177483037288}. Best is trial 142 with value: 0.6109716296642888.\n",
      "[I 2023-12-05 18:44:40,906] Trial 224 finished with value: 0.6066585671490086 and parameters: {'n_estimators': 452, 'max_depth': 8, 'learning_rate': 0.079494835750613, 'gamma': 12.047635953560969, 'reg_lambda': 0.8270276483585073, 'min_child_weight': 4.527681868326641}. Best is trial 142 with value: 0.6109716296642888.\n",
      "[I 2023-12-05 18:44:42,456] Trial 225 finished with value: 0.6028658991370606 and parameters: {'n_estimators': 429, 'max_depth': 8, 'learning_rate': 0.2152316352503884, 'gamma': 12.895561841125362, 'reg_lambda': 0.798987023644994, 'min_child_weight': 4.383767544845668}. Best is trial 142 with value: 0.6109716296642888.\n",
      "[I 2023-12-05 18:44:44,059] Trial 226 finished with value: 0.5844388476121912 and parameters: {'n_estimators': 489, 'max_depth': 8, 'learning_rate': 0.8899353901773099, 'gamma': 13.779508720564587, 'reg_lambda': 0.9717610883438106, 'min_child_weight': 3.753176963621377}. Best is trial 142 with value: 0.6109716296642888.\n",
      "[I 2023-12-05 18:44:47,269] Trial 227 finished with value: 0.6077831733149901 and parameters: {'n_estimators': 468, 'max_depth': 8, 'learning_rate': 0.010537245851643395, 'gamma': 11.683715076227362, 'reg_lambda': 0.7202013085591196, 'min_child_weight': 4.65024120442399}. Best is trial 142 with value: 0.6109716296642888.\n",
      "[I 2023-12-05 18:44:48,952] Trial 228 finished with value: 0.6077992430161385 and parameters: {'n_estimators': 444, 'max_depth': 7, 'learning_rate': 0.09343839650346514, 'gamma': 13.342390414263612, 'reg_lambda': 0.4958814120756492, 'min_child_weight': 4.933563374425006}. Best is trial 142 with value: 0.6109716296642888.\n",
      "[I 2023-12-05 18:44:53,139] Trial 229 finished with value: 0.608358822262414 and parameters: {'n_estimators': 459, 'max_depth': 8, 'learning_rate': 0.06570539519450476, 'gamma': 12.428057325978592, 'reg_lambda': 0.6835620083255121, 'min_child_weight': 4.481761819289152}. Best is trial 142 with value: 0.6109716296642888.\n",
      "[I 2023-12-05 18:44:54,738] Trial 230 finished with value: 0.6045986570703039 and parameters: {'n_estimators': 468, 'max_depth': 8, 'learning_rate': 0.12047350448552152, 'gamma': 12.497498227226231, 'reg_lambda': 0.657478175728501, 'min_child_weight': 4.341276614484065}. Best is trial 142 with value: 0.6109716296642888.\n",
      "[I 2023-12-05 18:44:56,618] Trial 231 finished with value: 0.6055673003039355 and parameters: {'n_estimators': 457, 'max_depth': 8, 'learning_rate': 0.06360149668797238, 'gamma': 12.954144238593383, 'reg_lambda': 0.68256346210156, 'min_child_weight': 4.511417200944817}. Best is trial 142 with value: 0.6109716296642888.\n",
      "[I 2023-12-05 18:44:58,782] Trial 232 finished with value: 0.6045404639659142 and parameters: {'n_estimators': 475, 'max_depth': 8, 'learning_rate': 0.04390471908250767, 'gamma': 7.144940176394051, 'reg_lambda': 0.701928201213796, 'min_child_weight': 4.430939562988721}. Best is trial 142 with value: 0.6109716296642888.\n",
      "[I 2023-12-05 18:45:00,381] Trial 233 finished with value: 0.5909527554492666 and parameters: {'n_estimators': 460, 'max_depth': 8, 'learning_rate': 0.5015287305980192, 'gamma': 12.299379694597809, 'reg_lambda': 0.7587001804567353, 'min_child_weight': 4.597565336375575}. Best is trial 142 with value: 0.6109716296642888.\n",
      "[I 2023-12-05 18:45:02,146] Trial 234 finished with value: 0.607508620721326 and parameters: {'n_estimators': 448, 'max_depth': 8, 'learning_rate': 0.0667999553651161, 'gamma': 13.45845467205362, 'reg_lambda': 0.7368147134149312, 'min_child_weight': 4.798868437164289}. Best is trial 142 with value: 0.6109716296642888.\n",
      "[I 2023-12-05 18:45:04,879] Trial 235 finished with value: 0.6017079161233178 and parameters: {'n_estimators': 493, 'max_depth': 8, 'learning_rate': 0.03249650419054645, 'gamma': 4.173467403386157, 'reg_lambda': 0.5914188428527386, 'min_child_weight': 4.491585252006294}. Best is trial 142 with value: 0.6109716296642888.\n",
      "[I 2023-12-05 18:45:06,159] Trial 236 finished with value: 0.6056888493078153 and parameters: {'n_estimators': 177, 'max_depth': 8, 'learning_rate': 0.09003594818799221, 'gamma': 12.823907562609097, 'reg_lambda': 0.7761165448043851, 'min_child_weight': 4.68644818490758}. Best is trial 142 with value: 0.6109716296642888.\n",
      "[I 2023-12-05 18:45:07,957] Trial 237 finished with value: 0.6082874453522094 and parameters: {'n_estimators': 438, 'max_depth': 8, 'learning_rate': 0.054331613846492016, 'gamma': 13.852511659260529, 'reg_lambda': 0.8122095243533206, 'min_child_weight': 2.515182385326651}. Best is trial 142 with value: 0.6109716296642888.\n",
      "[I 2023-12-05 18:45:09,724] Trial 238 finished with value: 0.6070481419500464 and parameters: {'n_estimators': 436, 'max_depth': 8, 'learning_rate': 0.07114006165801841, 'gamma': 13.891440737568525, 'reg_lambda': 0.803522711856244, 'min_child_weight': 2.6711677746667277}. Best is trial 142 with value: 0.6109716296642888.\n",
      "[I 2023-12-05 18:45:11,922] Trial 239 finished with value: 0.6078104185226205 and parameters: {'n_estimators': 427, 'max_depth': 8, 'learning_rate': 0.02445211177180779, 'gamma': 12.05808462889022, 'reg_lambda': 0.7558671032409274, 'min_child_weight': 1.8890732347741832}. Best is trial 142 with value: 0.6109716296642888.\n",
      "[I 2023-12-05 18:45:13,721] Trial 240 finished with value: 0.6088853488430773 and parameters: {'n_estimators': 480, 'max_depth': 8, 'learning_rate': 0.10440775661331736, 'gamma': 13.219504426402281, 'reg_lambda': 0.8128586185196376, 'min_child_weight': 2.057552692359653}. Best is trial 142 with value: 0.6109716296642888.\n",
      "[I 2023-12-05 18:45:15,452] Trial 241 finished with value: 0.6041233329281888 and parameters: {'n_estimators': 480, 'max_depth': 8, 'learning_rate': 0.10791256175680072, 'gamma': 13.178098842895144, 'reg_lambda': 0.8220671472893999, 'min_child_weight': 1.8490147830635475}. Best is trial 142 with value: 0.6109716296642888.\n",
      "[I 2023-12-05 18:45:17,428] Trial 242 finished with value: 0.6066446747291516 and parameters: {'n_estimators': 473, 'max_depth': 8, 'learning_rate': 0.08987874738203575, 'gamma': 12.638685872890822, 'reg_lambda': 0.7888256113382444, 'min_child_weight': 3.5134834229614293}. Best is trial 142 with value: 0.6109716296642888.\n",
      "[I 2023-12-05 18:45:19,351] Trial 243 finished with value: 0.6062452090323153 and parameters: {'n_estimators': 485, 'max_depth': 8, 'learning_rate': 0.046399280350091346, 'gamma': 13.208228591667934, 'reg_lambda': 0.8090690884370891, 'min_child_weight': 2.5554349001571115}. Best is trial 142 with value: 0.6109716296642888.\n",
      "[I 2023-12-05 18:45:20,923] Trial 244 finished with value: 0.5897595837517876 and parameters: {'n_estimators': 462, 'max_depth': 8, 'learning_rate': 0.6214960950924684, 'gamma': 14.699738042933935, 'reg_lambda': 0.7818933105419728, 'min_child_weight': 2.4626411813451656}. Best is trial 142 with value: 0.6109716296642888.\n",
      "[I 2023-12-05 18:45:22,559] Trial 245 finished with value: 0.6049364229801252 and parameters: {'n_estimators': 442, 'max_depth': 8, 'learning_rate': 0.12677511463603058, 'gamma': 13.939946742870884, 'reg_lambda': 0.7218546381967542, 'min_child_weight': 2.3682546533945654}. Best is trial 142 with value: 0.6109716296642888.\n",
      "[I 2023-12-05 18:45:24,449] Trial 246 finished with value: 0.6040487147630804 and parameters: {'n_estimators': 473, 'max_depth': 8, 'learning_rate': 0.07342151787167439, 'gamma': 8.23840215881222, 'reg_lambda': 0.7598052609671249, 'min_child_weight': 2.2365159903959313}. Best is trial 142 with value: 0.6109716296642888.\n",
      "[I 2023-12-05 18:45:26,019] Trial 247 finished with value: 0.5992430722219984 and parameters: {'n_estimators': 416, 'max_depth': 8, 'learning_rate': 0.15658373973201747, 'gamma': 13.018725034225442, 'reg_lambda': 0.8250809867266322, 'min_child_weight': 2.3079976489090877}. Best is trial 142 with value: 0.6109716296642888.\n",
      "[I 2023-12-05 18:45:28,227] Trial 248 finished with value: 0.596454737723897 and parameters: {'n_estimators': 465, 'max_depth': 8, 'learning_rate': 0.10338749296373653, 'gamma': 1.1146909566832406, 'reg_lambda': 0.7421165328046805, 'min_child_weight': 1.7237215764938436}. Best is trial 142 with value: 0.6109716296642888.\n",
      "[I 2023-12-05 18:45:29,879] Trial 249 finished with value: 0.6015085882898118 and parameters: {'n_estimators': 486, 'max_depth': 8, 'learning_rate': 0.30781786003704736, 'gamma': 12.414815692774868, 'reg_lambda': 0.02129296932667235, 'min_child_weight': 3.604887540792566}. Best is trial 142 with value: 0.6109716296642888.\n",
      "[I 2023-12-05 18:45:31,703] Trial 250 finished with value: 0.606384956232824 and parameters: {'n_estimators': 449, 'max_depth': 8, 'learning_rate': 0.05621356525284339, 'gamma': 13.61872715261153, 'reg_lambda': 0.44717090208291294, 'min_child_weight': 3.225006496994489}. Best is trial 142 with value: 0.6109716296642888.\n",
      "[I 2023-12-05 18:45:33,760] Trial 251 finished with value: 0.6057235821429533 and parameters: {'n_estimators': 436, 'max_depth': 9, 'learning_rate': 0.035565437222101065, 'gamma': 11.272386004880776, 'reg_lambda': 0.24608273135806225, 'min_child_weight': 2.0309749274307745}. Best is trial 142 with value: 0.6109716296642888.\n",
      "[I 2023-12-05 18:45:35,510] Trial 252 finished with value: 0.6059044758877845 and parameters: {'n_estimators': 479, 'max_depth': 8, 'learning_rate': 0.08371297463597, 'gamma': 14.314491001359366, 'reg_lambda': 0.6970573906547763, 'min_child_weight': 2.4228835035386385}. Best is trial 142 with value: 0.6109716296642888.\n",
      "[I 2023-12-05 18:45:38,604] Trial 253 finished with value: 0.6059502482620117 and parameters: {'n_estimators': 494, 'max_depth': 8, 'learning_rate': 0.011263823505158307, 'gamma': 12.819540395284445, 'reg_lambda': 0.7962378431898934, 'min_child_weight': 2.1795774871595452}. Best is trial 142 with value: 0.6109716296642888.\n",
      "[I 2023-12-05 18:45:40,372] Trial 254 finished with value: 0.6077195659817675 and parameters: {'n_estimators': 424, 'max_depth': 8, 'learning_rate': 0.05897005539451906, 'gamma': 13.425545714988537, 'reg_lambda': 0.7690147896860586, 'min_child_weight': 4.299814919138819}. Best is trial 142 with value: 0.6109716296642888.\n",
      "[I 2023-12-05 18:45:41,356] Trial 255 finished with value: 0.6079695361233463 and parameters: {'n_estimators': 50, 'max_depth': 8, 'learning_rate': 0.17111139225012756, 'gamma': 11.920739975274143, 'reg_lambda': 0.732836751862126, 'min_child_weight': 1.3785764259584092}. Best is trial 142 with value: 0.6109716296642888.\n",
      "[I 2023-12-05 18:45:43,012] Trial 256 finished with value: 0.6050978820765163 and parameters: {'n_estimators': 457, 'max_depth': 8, 'learning_rate': 0.11157365599109557, 'gamma': 13.88685981953656, 'reg_lambda': 0.6214400645583833, 'min_child_weight': 2.727806652348229}. Best is trial 142 with value: 0.6109716296642888.\n",
      "[I 2023-12-05 18:45:44,639] Trial 257 finished with value: 0.5938545302476406 and parameters: {'n_estimators': 469, 'max_depth': 8, 'learning_rate': 0.35930975454563596, 'gamma': 13.140243886201821, 'reg_lambda': 0.2985836593758731, 'min_child_weight': 1.6010127529033906}. Best is trial 142 with value: 0.6109716296642888.\n",
      "[I 2023-12-05 18:45:46,319] Trial 258 finished with value: 0.6030587910584463 and parameters: {'n_estimators': 449, 'max_depth': 8, 'learning_rate': 0.20690724506661756, 'gamma': 10.399870309477954, 'reg_lambda': 0.6502690791137804, 'min_child_weight': 2.538325383133304}. Best is trial 142 with value: 0.6109716296642888.\n",
      "[I 2023-12-05 18:45:48,011] Trial 259 finished with value: 0.6047507822425624 and parameters: {'n_estimators': 474, 'max_depth': 8, 'learning_rate': 0.13561056133613023, 'gamma': 12.308383520014626, 'reg_lambda': 0.8119177419751976, 'min_child_weight': 2.042025228872205}. Best is trial 142 with value: 0.6109716296642888.\n",
      "[I 2023-12-05 18:45:49,774] Trial 260 finished with value: 0.6012246533347805 and parameters: {'n_estimators': 121, 'max_depth': 8, 'learning_rate': 0.03763196068246614, 'gamma': 6.483194831780068, 'reg_lambda': 0.7766273696889775, 'min_child_weight': 1.9497034030056892}. Best is trial 142 with value: 0.6109716296642888.\n",
      "[I 2023-12-05 18:45:51,611] Trial 261 finished with value: 0.6073786921135265 and parameters: {'n_estimators': 500, 'max_depth': 8, 'learning_rate': 0.0756655663359472, 'gamma': 12.712638122289977, 'reg_lambda': 0.713506463185146, 'min_child_weight': 4.41172169755455}. Best is trial 142 with value: 0.6109716296642888.\n",
      "[I 2023-12-05 18:45:53,314] Trial 262 finished with value: 0.6072295190973277 and parameters: {'n_estimators': 463, 'max_depth': 8, 'learning_rate': 0.0952231559327819, 'gamma': 13.672163499054818, 'reg_lambda': 0.6762703046269615, 'min_child_weight': 3.11171274136757}. Best is trial 142 with value: 0.6109716296642888.\n",
      "[I 2023-12-05 18:45:55,472] Trial 263 finished with value: 0.6065218433785982 and parameters: {'n_estimators': 439, 'max_depth': 8, 'learning_rate': 0.055373143754763106, 'gamma': 11.680810332778417, 'reg_lambda': 0.8309968726467714, 'min_child_weight': 3.7050125922671087}. Best is trial 142 with value: 0.6109716296642888.\n",
      "[I 2023-12-05 18:45:57,930] Trial 264 finished with value: 0.6075153064966164 and parameters: {'n_estimators': 483, 'max_depth': 7, 'learning_rate': 0.025851628443314303, 'gamma': 13.196114037814656, 'reg_lambda': 0.7934986528171236, 'min_child_weight': 3.900513468551485}. Best is trial 142 with value: 0.6109716296642888.\n",
      "[I 2023-12-05 18:45:59,462] Trial 265 finished with value: 0.5962984969506397 and parameters: {'n_estimators': 430, 'max_depth': 8, 'learning_rate': 0.40266092624963107, 'gamma': 14.271972157100304, 'reg_lambda': 0.7467934875856149, 'min_child_weight': 3.306061450319991}. Best is trial 142 with value: 0.6109716296642888.\n",
      "[I 2023-12-05 18:46:01,100] Trial 266 finished with value: 0.6032617199410224 and parameters: {'n_estimators': 453, 'max_depth': 8, 'learning_rate': 0.2388792678332198, 'gamma': 12.664866776486567, 'reg_lambda': 0.8638214317828259, 'min_child_weight': 2.1228084940483436}. Best is trial 142 with value: 0.6109716296642888.\n",
      "[I 2023-12-05 18:46:02,665] Trial 267 finished with value: 0.6072303264155277 and parameters: {'n_estimators': 332, 'max_depth': 8, 'learning_rate': 0.06899822122525318, 'gamma': 13.519864158332783, 'reg_lambda': 0.7659743284249055, 'min_child_weight': 4.547874378910998}. Best is trial 142 with value: 0.6109716296642888.\n",
      "[I 2023-12-05 18:46:04,516] Trial 268 finished with value: 0.6035312162370386 and parameters: {'n_estimators': 413, 'max_depth': 8, 'learning_rate': 0.04691845529952045, 'gamma': 12.201578120531194, 'reg_lambda': 0.5254292626610878, 'min_child_weight': 4.235600732882778}. Best is trial 142 with value: 0.6109716296642888.\n",
      "[I 2023-12-05 18:46:06,115] Trial 269 finished with value: 0.5998663655835965 and parameters: {'n_estimators': 464, 'max_depth': 9, 'learning_rate': 0.31135693742068815, 'gamma': 12.940803171073432, 'reg_lambda': 0.5719024944537492, 'min_child_weight': 4.364776851330674}. Best is trial 142 with value: 0.6109716296642888.\n",
      "[I 2023-12-05 18:46:07,885] Trial 270 finished with value: 0.604293113805191 and parameters: {'n_estimators': 477, 'max_depth': 8, 'learning_rate': 0.08855578617280102, 'gamma': 14.029851760528421, 'reg_lambda': 0.7886488263347978, 'min_child_weight': 2.9963380928647814}. Best is trial 142 with value: 0.6109716296642888.\n",
      "[I 2023-12-05 18:46:09,973] Trial 271 finished with value: 0.605877018928941 and parameters: {'n_estimators': 445, 'max_depth': 8, 'learning_rate': 0.02676014973928982, 'gamma': 14.6606000424826, 'reg_lambda': 0.810412124855742, 'min_child_weight': 4.442505073309004}. Best is trial 142 with value: 0.6109716296642888.\n",
      "[I 2023-12-05 18:46:11,644] Trial 272 finished with value: 0.6085772219441632 and parameters: {'n_estimators': 456, 'max_depth': 8, 'learning_rate': 0.11892965313925172, 'gamma': 13.27822634589317, 'reg_lambda': 0.20778852763596456, 'min_child_weight': 2.304989060509759}. Best is trial 142 with value: 0.6109716296642888.\n",
      "[I 2023-12-05 18:46:13,117] Trial 273 finished with value: 0.605486959783441 and parameters: {'n_estimators': 350, 'max_depth': 7, 'learning_rate': 0.1195054723381983, 'gamma': 13.650990471115994, 'reg_lambda': 0.8351741652323877, 'min_child_weight': 4.063827509808061}. Best is trial 142 with value: 0.6109716296642888.\n",
      "[I 2023-12-05 18:46:14,786] Trial 274 finished with value: 0.6063389604207924 and parameters: {'n_estimators': 470, 'max_depth': 8, 'learning_rate': 0.15174206594597583, 'gamma': 12.54276363214097, 'reg_lambda': 0.3857198676266522, 'min_child_weight': 2.3443890135669876}. Best is trial 142 with value: 0.6109716296642888.\n",
      "[I 2023-12-05 18:46:16,386] Trial 275 finished with value: 0.6084629054222288 and parameters: {'n_estimators': 429, 'max_depth': 8, 'learning_rate': 0.13503410145770284, 'gamma': 13.079192302198459, 'reg_lambda': 0.10571871448551229, 'min_child_weight': 2.303847644972585}. Best is trial 142 with value: 0.6109716296642888.\n",
      "[I 2023-12-05 18:46:18,085] Trial 276 finished with value: 0.6012058269095535 and parameters: {'n_estimators': 488, 'max_depth': 8, 'learning_rate': 0.13811136544794922, 'gamma': 13.002078750135027, 'reg_lambda': 0.186307574866138, 'min_child_weight': 2.261923427182958}. Best is trial 142 with value: 0.6109716296642888.\n",
      "[I 2023-12-05 18:46:19,701] Trial 277 finished with value: 0.6022645205042405 and parameters: {'n_estimators': 403, 'max_depth': 8, 'learning_rate': 0.1146617093817675, 'gamma': 11.530954686814875, 'reg_lambda': 0.11730970688357205, 'min_child_weight': 2.102324620036578}. Best is trial 142 with value: 0.6109716296642888.\n",
      "[I 2023-12-05 18:46:21,367] Trial 278 finished with value: 0.6070367573194269 and parameters: {'n_estimators': 427, 'max_depth': 8, 'learning_rate': 0.10153679136868685, 'gamma': 12.263453606316073, 'reg_lambda': 0.050350600980373646, 'min_child_weight': 4.300586295062871}. Best is trial 142 with value: 0.6109716296642888.\n",
      "[I 2023-12-05 18:46:22,966] Trial 279 finished with value: 0.6061661961681287 and parameters: {'n_estimators': 422, 'max_depth': 8, 'learning_rate': 0.12050675288507981, 'gamma': 12.76003689572842, 'reg_lambda': 0.254845254367951, 'min_child_weight': 4.541720701798815}. Best is trial 142 with value: 0.6109716296642888.\n",
      "[I 2023-12-05 18:46:24,420] Trial 280 finished with value: 0.6072814084130049 and parameters: {'n_estimators': 298, 'max_depth': 8, 'learning_rate': 0.08872259880994418, 'gamma': 13.342716912309221, 'reg_lambda': 0.2139761530462399, 'min_child_weight': 2.276967927347411}. Best is trial 142 with value: 0.6109716296642888.\n",
      "[I 2023-12-05 18:46:26,019] Trial 281 finished with value: 0.5985740470073486 and parameters: {'n_estimators': 454, 'max_depth': 8, 'learning_rate': 0.28767133563950403, 'gamma': 12.010729439394305, 'reg_lambda': 0.3265095872481265, 'min_child_weight': 4.240214923178721}. Best is trial 142 with value: 0.6109716296642888.\n",
      "[I 2023-12-05 18:46:27,712] Trial 282 finished with value: 0.6039144322720491 and parameters: {'n_estimators': 476, 'max_depth': 8, 'learning_rate': 0.13791051229882603, 'gamma': 13.137216362986083, 'reg_lambda': 0.6222537910276887, 'min_child_weight': 4.456325698089148}. Best is trial 142 with value: 0.6109716296642888.\n",
      "[I 2023-12-05 18:46:29,423] Trial 283 finished with value: 0.603843871737841 and parameters: {'n_estimators': 466, 'max_depth': 9, 'learning_rate': 0.07483334507727399, 'gamma': 19.56627093995533, 'reg_lambda': 0.10903637047889693, 'min_child_weight': 4.361630797620997}. Best is trial 142 with value: 0.6109716296642888.\n",
      "[I 2023-12-05 18:46:31,012] Trial 284 finished with value: 0.5946648230178256 and parameters: {'n_estimators': 448, 'max_depth': 3, 'learning_rate': 0.10211993979580021, 'gamma': 12.67101840308707, 'reg_lambda': 0.11144808152372022, 'min_child_weight': 4.743317873334021}. Best is trial 142 with value: 0.6109716296642888.\n",
      "[I 2023-12-05 18:46:32,660] Trial 285 finished with value: 0.6060275466697175 and parameters: {'n_estimators': 484, 'max_depth': 8, 'learning_rate': 0.17845753653757543, 'gamma': 13.227564371179454, 'reg_lambda': 0.05645019516086214, 'min_child_weight': 4.11412963016083}. Best is trial 142 with value: 0.6109716296642888.\n",
      "[I 2023-12-05 18:46:34,343] Trial 286 finished with value: 0.6035104246964834 and parameters: {'n_estimators': 396, 'max_depth': 8, 'learning_rate': 0.07281878083288515, 'gamma': 12.376741013918833, 'reg_lambda': 0.1786252880929693, 'min_child_weight': 3.9602247261060977}. Best is trial 142 with value: 0.6109716296642888.\n",
      "[I 2023-12-05 18:46:35,892] Trial 287 finished with value: 0.5982641468430261 and parameters: {'n_estimators': 433, 'max_depth': 9, 'learning_rate': 0.4639436575977621, 'gamma': 13.566101824500572, 'reg_lambda': 0.14202263193608133, 'min_child_weight': 3.4788436428286564}. Best is trial 142 with value: 0.6109716296642888.\n",
      "[I 2023-12-05 18:46:38,827] Trial 288 finished with value: 0.6076550602039242 and parameters: {'n_estimators': 411, 'max_depth': 8, 'learning_rate': 0.011987111176866454, 'gamma': 11.693527179211104, 'reg_lambda': 0.7513906426751671, 'min_child_weight': 4.54174568227545}. Best is trial 142 with value: 0.6109716296642888.\n",
      "[I 2023-12-05 18:46:40,073] Trial 289 finished with value: 0.6088794641249463 and parameters: {'n_estimators': 157, 'max_depth': 8, 'learning_rate': 0.10233135015651405, 'gamma': 12.877075096040862, 'reg_lambda': 0.3472405835241067, 'min_child_weight': 3.820882525837022}. Best is trial 142 with value: 0.6109716296642888.\n",
      "[I 2023-12-05 18:46:41,243] Trial 290 finished with value: 0.6010301105116785 and parameters: {'n_estimators': 160, 'max_depth': 8, 'learning_rate': 0.15826881613874566, 'gamma': 11.173065757547315, 'reg_lambda': 0.30612383629405443, 'min_child_weight': 4.801448565708663}. Best is trial 142 with value: 0.6109716296642888.\n",
      "[I 2023-12-05 18:46:42,355] Trial 291 finished with value: 0.6032207312808457 and parameters: {'n_estimators': 101, 'max_depth': 8, 'learning_rate': 0.12436113376967373, 'gamma': 10.71965800145258, 'reg_lambda': 0.5492272325915151, 'min_child_weight': 3.677565387527708}. Best is trial 142 with value: 0.6109716296642888.\n",
      "[I 2023-12-05 18:46:44,087] Trial 292 finished with value: 0.6076482646472895 and parameters: {'n_estimators': 460, 'max_depth': 8, 'learning_rate': 0.0838379476859213, 'gamma': 12.87391270830314, 'reg_lambda': 0.37236839326814813, 'min_child_weight': 3.6203052289454964}. Best is trial 142 with value: 0.6109716296642888.\n",
      "[I 2023-12-05 18:46:45,806] Trial 293 finished with value: 0.6053552698072956 and parameters: {'n_estimators': 270, 'max_depth': 8, 'learning_rate': 0.225541242595111, 'gamma': 13.983397068098148, 'reg_lambda': 0.1917059302796093, 'min_child_weight': 4.645152938705868}. Best is trial 142 with value: 0.6109716296642888.\n",
      "[I 2023-12-05 18:46:47,256] Trial 294 finished with value: 0.5857832023863911 and parameters: {'n_estimators': 118, 'max_depth': 7, 'learning_rate': 0.7845652503177152, 'gamma': 13.461631610611548, 'reg_lambda': 0.49265974881605246, 'min_child_weight': 4.453922792374037}. Best is trial 142 with value: 0.6109716296642888.\n",
      "[I 2023-12-05 18:46:49,496] Trial 295 finished with value: 0.6055251338118764 and parameters: {'n_estimators': 472, 'max_depth': 8, 'learning_rate': 0.04064336831035865, 'gamma': 18.42125077261885, 'reg_lambda': 0.32414074279168265, 'min_child_weight': 3.8282627576861796}. Best is trial 142 with value: 0.6109716296642888.\n",
      "[I 2023-12-05 18:46:50,951] Trial 296 finished with value: 0.6056740184088107 and parameters: {'n_estimators': 147, 'max_depth': 8, 'learning_rate': 0.05992742480395953, 'gamma': 12.004694782430057, 'reg_lambda': 0.42213301595382, 'min_child_weight': 4.91829824404475}. Best is trial 142 with value: 0.6109716296642888.\n",
      "[I 2023-12-05 18:46:52,623] Trial 297 finished with value: 0.6061415630011588 and parameters: {'n_estimators': 258, 'max_depth': 8, 'learning_rate': 0.09715975177323605, 'gamma': 12.426154208704965, 'reg_lambda': 0.4036530066298745, 'min_child_weight': 2.18444242652377}. Best is trial 142 with value: 0.6109716296642888.\n",
      "[I 2023-12-05 18:46:54,993] Trial 298 finished with value: 0.5980748836228779 and parameters: {'n_estimators': 72, 'max_depth': 8, 'learning_rate': 0.031140890135027785, 'gamma': 9.504090711589447, 'reg_lambda': 0.29246283478244006, 'min_child_weight': 3.3862256012337726}. Best is trial 142 with value: 0.6109716296642888.\n",
      "[I 2023-12-05 18:46:56,950] Trial 299 finished with value: 0.6066151882632016 and parameters: {'n_estimators': 492, 'max_depth': 8, 'learning_rate': 0.06643140551652986, 'gamma': 14.419449099984547, 'reg_lambda': 0.26720355347113717, 'min_child_weight': 3.767083470428742}. Best is trial 142 with value: 0.6109716296642888.\n"
     ]
    }
   ],
   "source": [
    "study_xgb_cw.optimize(optuna_optimize, n_trials=300)"
   ],
   "metadata": {
    "collapsed": false,
    "ExecuteTime": {
     "end_time": "2023-12-05T15:46:56.968036400Z",
     "start_time": "2023-12-05T15:37:25.175579200Z"
    }
   }
  },
  {
   "cell_type": "code",
   "execution_count": 205,
   "outputs": [
    {
     "name": "stdout",
     "output_type": "stream",
     "text": [
      "Наилучшие значения гиперпараметров XGBoost: {'n_estimators': 452, 'max_depth': 8, 'learning_rate': 0.07508104635818534, 'gamma': 13.191335300372028, 'reg_lambda': 0.737772638736025, 'min_child_weight': 4.337323107826652}\n",
      "f1_score на обучающем наборе: 0.611\n"
     ]
    }
   ],
   "source": [
    "print(\"Наилучшие значения гиперпараметров XGBoost: {}\".format(study_xgb_cw.best_params))\n",
    "print(\"f1_score на обучающем наборе: {:.3f}\". format(study_xgb_cw.best_value))"
   ],
   "metadata": {
    "collapsed": false,
    "ExecuteTime": {
     "end_time": "2023-12-05T15:47:24.131058Z",
     "start_time": "2023-12-05T15:47:24.033554700Z"
    }
   }
  },
  {
   "cell_type": "code",
   "execution_count": 206,
   "outputs": [],
   "source": [
    "with mlflow.start_run(nested=True,\n",
    "                      run_name='xgb_pipeline_class_weight'):\n",
    "\n",
    "    best_params = study_xgb_cw.best_params\n",
    "    best_score = study_xgb_cw.best_value\n",
    "    mlflow.log_params(best_params)\n",
    "\n",
    "    xgb_pipe_cw = Pipeline([\n",
    "        ('preprocessor', preprocessor),\n",
    "        ('model', xgb.XGBClassifier(**best_params,\n",
    "                                    scale_pos_weight=3.91,\n",
    "                                    random_state=12345))\n",
    "    ])\n",
    "\n",
    "    xgb_pipe_cw.fit(X_train, y_train) \n",
    "\n",
    "    pred_proba = xgb_pipe_cw.predict_proba(X_test)[:, 1]\n",
    "    roc_auc_xgb_cw = roc_auc_score(y_test, pred_proba)\n",
    "    \n",
    "    mlflow.log_metrics({\n",
    "        'f1_cv': best_score,\n",
    "        'roc_auc': roc_auc_xgb_cw,\n",
    "        'balanced_accuracy': balanced_accuracy_score(y_test, np.round(pred_proba, 0)),\n",
    "        'f1': f1_score(y_test, np.round(pred_proba, 0))\n",
    "    })\n",
    "\n",
    "    mlflow.sklearn.log_model(xgb_pipe_cw, 'xgb_pipeline_class_weight')"
   ],
   "metadata": {
    "collapsed": false,
    "ExecuteTime": {
     "end_time": "2023-12-05T15:47:39.049107Z",
     "start_time": "2023-12-05T15:47:29.781335800Z"
    }
   }
  },
  {
   "cell_type": "markdown",
   "source": [
    "### 3.1.2 Случайный лес"
   ],
   "metadata": {
    "collapsed": false
   }
  },
  {
   "cell_type": "code",
   "execution_count": 30,
   "outputs": [],
   "source": [
    "def optuna_optimize(trial):\n",
    "    param = {\n",
    "        'n_estimators': trial.suggest_int('n_estimators', 50, 300), \n",
    "        'max_depth': trial.suggest_int('max_depth', 2, 10), \n",
    "        'min_samples_leaf': trial.suggest_int('min_samples_leaf', 2, 8)\n",
    "    }\n",
    "\n",
    "    estimator = RandomForestClassifier(**param, \n",
    "                                       class_weight='balanced',\n",
    "                                       random_state=12345)\n",
    "\n",
    "    rf_pipe = Pipeline([\n",
    "        ('preprocessor', preprocessor),\n",
    "        ('model', estimator)\n",
    "    ])\n",
    "\n",
    "    score = cross_val_score(rf_pipe, X_train, y_train, cv=5, scoring='f1').mean()\n",
    "    return score"
   ],
   "metadata": {
    "collapsed": false,
    "ExecuteTime": {
     "end_time": "2023-12-03T16:03:21.729107800Z",
     "start_time": "2023-12-03T16:03:21.489659500Z"
    }
   }
  },
  {
   "cell_type": "code",
   "execution_count": 31,
   "outputs": [
    {
     "name": "stderr",
     "output_type": "stream",
     "text": [
      "[I 2023-12-03 19:03:26,018] A new study created in memory with name: RandomForest Optuna Optimization Class Weight\n"
     ]
    }
   ],
   "source": [
    "study_rf = optuna.create_study(study_name=\"RandomForest Optuna Optimization Class Weight\",\n",
    "                                direction='maximize')"
   ],
   "metadata": {
    "collapsed": false,
    "ExecuteTime": {
     "end_time": "2023-12-03T16:03:26.172797700Z",
     "start_time": "2023-12-03T16:03:26.022158800Z"
    }
   }
  },
  {
   "cell_type": "code",
   "execution_count": 32,
   "outputs": [
    {
     "name": "stderr",
     "output_type": "stream",
     "text": [
      "[I 2023-12-03 19:04:15,029] Trial 0 finished with value: 0.6129528236831954 and parameters: {'n_estimators': 282, 'max_depth': 9, 'min_samples_leaf': 2}. Best is trial 0 with value: 0.6129528236831954.\n",
      "[I 2023-12-03 19:04:23,223] Trial 1 finished with value: 0.5704366166341595 and parameters: {'n_estimators': 83, 'max_depth': 4, 'min_samples_leaf': 8}. Best is trial 0 with value: 0.6129528236831954.\n",
      "[I 2023-12-03 19:04:52,478] Trial 2 finished with value: 0.6128616973663606 and parameters: {'n_estimators': 210, 'max_depth': 10, 'min_samples_leaf': 2}. Best is trial 0 with value: 0.6129528236831954.\n",
      "[I 2023-12-03 19:05:09,459] Trial 3 finished with value: 0.6130349884904934 and parameters: {'n_estimators': 155, 'max_depth': 8, 'min_samples_leaf': 3}. Best is trial 3 with value: 0.6130349884904934.\n",
      "[I 2023-12-03 19:05:33,595] Trial 4 finished with value: 0.6153872154709722 and parameters: {'n_estimators': 192, 'max_depth': 10, 'min_samples_leaf': 6}. Best is trial 4 with value: 0.6153872154709722.\n",
      "[I 2023-12-03 19:05:51,064] Trial 5 finished with value: 0.5951016243546897 and parameters: {'n_estimators': 199, 'max_depth': 6, 'min_samples_leaf': 6}. Best is trial 4 with value: 0.6153872154709722.\n",
      "[I 2023-12-03 19:06:11,947] Trial 6 finished with value: 0.5943535713882004 and parameters: {'n_estimators': 236, 'max_depth': 6, 'min_samples_leaf': 2}. Best is trial 4 with value: 0.6153872154709722.\n",
      "[I 2023-12-03 19:06:24,418] Trial 7 finished with value: 0.5406796699061053 and parameters: {'n_estimators': 283, 'max_depth': 2, 'min_samples_leaf': 6}. Best is trial 4 with value: 0.6153872154709722.\n",
      "[I 2023-12-03 19:06:33,866] Trial 8 finished with value: 0.5595448808188945 and parameters: {'n_estimators': 167, 'max_depth': 3, 'min_samples_leaf': 8}. Best is trial 4 with value: 0.6153872154709722.\n",
      "[I 2023-12-03 19:06:38,629] Trial 9 finished with value: 0.5547537906286724 and parameters: {'n_estimators': 78, 'max_depth': 3, 'min_samples_leaf': 3}. Best is trial 4 with value: 0.6153872154709722.\n",
      "[I 2023-12-03 19:06:53,535] Trial 10 finished with value: 0.6042194744141387 and parameters: {'n_estimators': 151, 'max_depth': 7, 'min_samples_leaf': 5}. Best is trial 4 with value: 0.6153872154709722.\n",
      "[I 2023-12-03 19:07:07,161] Trial 11 finished with value: 0.6070678203727911 and parameters: {'n_estimators': 125, 'max_depth': 8, 'min_samples_leaf': 4}. Best is trial 4 with value: 0.6153872154709722.\n",
      "[I 2023-12-03 19:07:22,959] Trial 12 finished with value: 0.6156082444512069 and parameters: {'n_estimators': 124, 'max_depth': 10, 'min_samples_leaf': 6}. Best is trial 12 with value: 0.6156082444512069.\n",
      "[I 2023-12-03 19:07:38,366] Trial 13 finished with value: 0.6123428515672282 and parameters: {'n_estimators': 116, 'max_depth': 10, 'min_samples_leaf': 6}. Best is trial 12 with value: 0.6156082444512069.\n",
      "[I 2023-12-03 19:07:45,320] Trial 14 finished with value: 0.6106304112736398 and parameters: {'n_estimators': 50, 'max_depth': 10, 'min_samples_leaf': 7}. Best is trial 12 with value: 0.6156082444512069.\n",
      "[I 2023-12-03 19:08:09,296] Trial 15 finished with value: 0.6103639134333281 and parameters: {'n_estimators': 225, 'max_depth': 8, 'min_samples_leaf': 5}. Best is trial 12 with value: 0.6156082444512069.\n",
      "[I 2023-12-03 19:08:23,269] Trial 16 finished with value: 0.6114480877368818 and parameters: {'n_estimators': 123, 'max_depth': 9, 'min_samples_leaf': 7}. Best is trial 12 with value: 0.6156082444512069.\n",
      "[I 2023-12-03 19:08:38,007] Trial 17 finished with value: 0.585309286414318 and parameters: {'n_estimators': 186, 'max_depth': 5, 'min_samples_leaf': 7}. Best is trial 12 with value: 0.6156082444512069.\n",
      "[I 2023-12-03 19:09:08,074] Trial 18 finished with value: 0.6156830015131136 and parameters: {'n_estimators': 248, 'max_depth': 9, 'min_samples_leaf': 4}. Best is trial 18 with value: 0.6156830015131136.\n",
      "[I 2023-12-03 19:09:38,673] Trial 19 finished with value: 0.6157163753718466 and parameters: {'n_estimators': 251, 'max_depth': 9, 'min_samples_leaf': 4}. Best is trial 19 with value: 0.6157163753718466.\n",
      "[I 2023-12-03 19:10:03,242] Trial 20 finished with value: 0.6030691747879862 and parameters: {'n_estimators': 255, 'max_depth': 7, 'min_samples_leaf': 4}. Best is trial 19 with value: 0.6157163753718466.\n",
      "[I 2023-12-03 19:10:34,365] Trial 21 finished with value: 0.6174506858190171 and parameters: {'n_estimators': 257, 'max_depth': 9, 'min_samples_leaf': 4}. Best is trial 21 with value: 0.6174506858190171.\n",
      "[I 2023-12-03 19:11:06,561] Trial 22 finished with value: 0.6170013955236746 and parameters: {'n_estimators': 263, 'max_depth': 9, 'min_samples_leaf': 4}. Best is trial 21 with value: 0.6174506858190171.\n",
      "[I 2023-12-03 19:11:36,234] Trial 23 finished with value: 0.6033437237534189 and parameters: {'n_estimators': 293, 'max_depth': 7, 'min_samples_leaf': 3}. Best is trial 21 with value: 0.6174506858190171.\n",
      "[I 2023-12-03 19:12:07,326] Trial 24 finished with value: 0.6172149174707362 and parameters: {'n_estimators': 264, 'max_depth': 9, 'min_samples_leaf': 4}. Best is trial 21 with value: 0.6174506858190171.\n",
      "[I 2023-12-03 19:12:36,830] Trial 25 finished with value: 0.612961623384616 and parameters: {'n_estimators': 270, 'max_depth': 8, 'min_samples_leaf': 5}. Best is trial 21 with value: 0.6174506858190171.\n",
      "[I 2023-12-03 19:13:03,875] Trial 26 finished with value: 0.614148602243389 and parameters: {'n_estimators': 221, 'max_depth': 9, 'min_samples_leaf': 3}. Best is trial 21 with value: 0.6174506858190171.\n",
      "[I 2023-12-03 19:13:33,660] Trial 27 finished with value: 0.6022044900384333 and parameters: {'n_estimators': 300, 'max_depth': 7, 'min_samples_leaf': 5}. Best is trial 21 with value: 0.6174506858190171.\n",
      "[I 2023-12-03 19:14:03,001] Trial 28 finished with value: 0.6114496869952796 and parameters: {'n_estimators': 265, 'max_depth': 8, 'min_samples_leaf': 4}. Best is trial 21 with value: 0.6174506858190171.\n",
      "[I 2023-12-03 19:14:36,883] Trial 29 finished with value: 0.6153724583227091 and parameters: {'n_estimators': 276, 'max_depth': 9, 'min_samples_leaf': 3}. Best is trial 21 with value: 0.6174506858190171.\n",
      "[I 2023-12-03 19:14:57,381] Trial 30 finished with value: 0.595349678708468 and parameters: {'n_estimators': 233, 'max_depth': 6, 'min_samples_leaf': 4}. Best is trial 21 with value: 0.6174506858190171.\n",
      "[I 2023-12-03 19:15:28,782] Trial 31 finished with value: 0.6174506858190171 and parameters: {'n_estimators': 257, 'max_depth': 9, 'min_samples_leaf': 4}. Best is trial 21 with value: 0.6174506858190171.\n",
      "[I 2023-12-03 19:16:00,611] Trial 32 finished with value: 0.6116558496093846 and parameters: {'n_estimators': 262, 'max_depth': 9, 'min_samples_leaf': 5}. Best is trial 21 with value: 0.6174506858190171.\n",
      "[I 2023-12-03 19:16:29,493] Trial 33 finished with value: 0.6143525793208473 and parameters: {'n_estimators': 242, 'max_depth': 9, 'min_samples_leaf': 4}. Best is trial 21 with value: 0.6174506858190171.\n",
      "[I 2023-12-03 19:16:58,160] Trial 34 finished with value: 0.6128616973663606 and parameters: {'n_estimators': 210, 'max_depth': 10, 'min_samples_leaf': 2}. Best is trial 21 with value: 0.6174506858190171.\n",
      "[I 2023-12-03 19:17:25,622] Trial 35 finished with value: 0.6139446442566081 and parameters: {'n_estimators': 282, 'max_depth': 8, 'min_samples_leaf': 3}. Best is trial 21 with value: 0.6174506858190171.\n",
      "[I 2023-12-03 19:17:53,841] Trial 36 finished with value: 0.6143841583391157 and parameters: {'n_estimators': 219, 'max_depth': 10, 'min_samples_leaf': 5}. Best is trial 21 with value: 0.6174506858190171.\n",
      "[I 2023-12-03 19:18:15,905] Trial 37 finished with value: 0.5848497820253444 and parameters: {'n_estimators': 287, 'max_depth': 5, 'min_samples_leaf': 4}. Best is trial 21 with value: 0.6174506858190171.\n",
      "[I 2023-12-03 19:18:38,360] Trial 38 finished with value: 0.6138150330572374 and parameters: {'n_estimators': 202, 'max_depth': 8, 'min_samples_leaf': 2}. Best is trial 21 with value: 0.6174506858190171.\n",
      "[I 2023-12-03 19:19:13,716] Trial 39 finished with value: 0.616411281430748 and parameters: {'n_estimators': 262, 'max_depth': 10, 'min_samples_leaf': 3}. Best is trial 21 with value: 0.6174506858190171.\n",
      "[I 2023-12-03 19:19:41,928] Trial 40 finished with value: 0.615692367041208 and parameters: {'n_estimators': 234, 'max_depth': 9, 'min_samples_leaf': 4}. Best is trial 21 with value: 0.6174506858190171.\n",
      "[I 2023-12-03 19:20:17,531] Trial 41 finished with value: 0.6167641803870161 and parameters: {'n_estimators': 263, 'max_depth': 10, 'min_samples_leaf': 3}. Best is trial 21 with value: 0.6174506858190171.\n",
      "[I 2023-12-03 19:20:54,279] Trial 42 finished with value: 0.6191346346943231 and parameters: {'n_estimators': 273, 'max_depth': 10, 'min_samples_leaf': 3}. Best is trial 42 with value: 0.6191346346943231.\n",
      "[I 2023-12-03 19:21:27,876] Trial 43 finished with value: 0.6153724583227091 and parameters: {'n_estimators': 276, 'max_depth': 9, 'min_samples_leaf': 3}. Best is trial 42 with value: 0.6191346346943231.\n",
      "[I 2023-12-03 19:22:01,229] Trial 44 finished with value: 0.6118803705784457 and parameters: {'n_estimators': 300, 'max_depth': 8, 'min_samples_leaf': 4}. Best is trial 42 with value: 0.6191346346943231.\n",
      "[I 2023-12-03 19:22:31,871] Trial 45 finished with value: 0.612122319553802 and parameters: {'n_estimators': 248, 'max_depth': 9, 'min_samples_leaf': 2}. Best is trial 42 with value: 0.6191346346943231.\n",
      "[I 2023-12-03 19:23:08,636] Trial 46 finished with value: 0.6148070623658122 and parameters: {'n_estimators': 286, 'max_depth': 10, 'min_samples_leaf': 5}. Best is trial 42 with value: 0.6191346346943231.\n",
      "[I 2023-12-03 19:23:33,276] Trial 47 finished with value: 0.603564333387512 and parameters: {'n_estimators': 241, 'max_depth': 7, 'min_samples_leaf': 4}. Best is trial 42 with value: 0.6191346346943231.\n",
      "[I 2023-12-03 19:24:10,250] Trial 48 finished with value: 0.6181557169341337 and parameters: {'n_estimators': 274, 'max_depth': 10, 'min_samples_leaf': 3}. Best is trial 42 with value: 0.6191346346943231.\n",
      "[I 2023-12-03 19:24:34,321] Trial 49 finished with value: 0.613573042358016 and parameters: {'n_estimators': 178, 'max_depth': 10, 'min_samples_leaf': 2}. Best is trial 42 with value: 0.6191346346943231.\n",
      "[I 2023-12-03 19:25:10,840] Trial 50 finished with value: 0.6175574352217941 and parameters: {'n_estimators': 272, 'max_depth': 10, 'min_samples_leaf': 3}. Best is trial 42 with value: 0.6191346346943231.\n",
      "[I 2023-12-03 19:25:47,776] Trial 51 finished with value: 0.6181557169341337 and parameters: {'n_estimators': 274, 'max_depth': 10, 'min_samples_leaf': 3}. Best is trial 42 with value: 0.6191346346943231.\n",
      "[I 2023-12-03 19:26:24,398] Trial 52 finished with value: 0.6167764312571284 and parameters: {'n_estimators': 277, 'max_depth': 10, 'min_samples_leaf': 3}. Best is trial 42 with value: 0.6191346346943231.\n",
      "[I 2023-12-03 19:27:02,821] Trial 53 finished with value: 0.61659436416435 and parameters: {'n_estimators': 292, 'max_depth': 10, 'min_samples_leaf': 3}. Best is trial 42 with value: 0.6191346346943231.\n",
      "[I 2023-12-03 19:27:37,235] Trial 54 finished with value: 0.6160289358976725 and parameters: {'n_estimators': 254, 'max_depth': 10, 'min_samples_leaf': 3}. Best is trial 42 with value: 0.6191346346943231.\n",
      "[I 2023-12-03 19:27:49,679] Trial 55 finished with value: 0.5423668477533935 and parameters: {'n_estimators': 273, 'max_depth': 2, 'min_samples_leaf': 2}. Best is trial 42 with value: 0.6191346346943231.\n",
      "[I 2023-12-03 19:28:10,947] Trial 56 finished with value: 0.6134028611399852 and parameters: {'n_estimators': 150, 'max_depth': 10, 'min_samples_leaf': 2}. Best is trial 42 with value: 0.6191346346943231.\n",
      "[I 2023-12-03 19:28:23,971] Trial 57 finished with value: 0.5557064244783287 and parameters: {'n_estimators': 232, 'max_depth': 3, 'min_samples_leaf': 3}. Best is trial 42 with value: 0.6191346346943231.\n",
      "[I 2023-12-03 19:28:57,421] Trial 58 finished with value: 0.6160289358976725 and parameters: {'n_estimators': 254, 'max_depth': 10, 'min_samples_leaf': 3}. Best is trial 42 with value: 0.6191346346943231.\n",
      "[I 2023-12-03 19:29:32,200] Trial 59 finished with value: 0.61726851629929 and parameters: {'n_estimators': 291, 'max_depth': 9, 'min_samples_leaf': 3}. Best is trial 42 with value: 0.6191346346943231.\n",
      "[I 2023-12-03 19:30:04,569] Trial 60 finished with value: 0.6123638099730586 and parameters: {'n_estimators': 242, 'max_depth': 10, 'min_samples_leaf': 2}. Best is trial 42 with value: 0.6191346346943231.\n",
      "[I 2023-12-03 19:30:41,448] Trial 61 finished with value: 0.6162545913864799 and parameters: {'n_estimators': 293, 'max_depth': 9, 'min_samples_leaf': 3}. Best is trial 42 with value: 0.6191346346943231.\n",
      "[I 2023-12-03 19:31:18,675] Trial 62 finished with value: 0.6165883146439196 and parameters: {'n_estimators': 281, 'max_depth': 10, 'min_samples_leaf': 3}. Best is trial 42 with value: 0.6191346346943231.\n",
      "[I 2023-12-03 19:31:51,545] Trial 63 finished with value: 0.615276652377869 and parameters: {'n_estimators': 272, 'max_depth': 9, 'min_samples_leaf': 3}. Best is trial 42 with value: 0.6191346346943231.\n",
      "[I 2023-12-03 19:32:03,433] Trial 64 finished with value: 0.6102722402557479 and parameters: {'n_estimators': 97, 'max_depth': 9, 'min_samples_leaf': 8}. Best is trial 42 with value: 0.6191346346943231.\n",
      "[I 2023-12-03 19:32:41,057] Trial 65 finished with value: 0.6153851423083261 and parameters: {'n_estimators': 292, 'max_depth': 10, 'min_samples_leaf': 4}. Best is trial 42 with value: 0.6191346346943231.\n",
      "[I 2023-12-03 19:33:10,998] Trial 66 finished with value: 0.6144943536965866 and parameters: {'n_estimators': 269, 'max_depth': 8, 'min_samples_leaf': 3}. Best is trial 42 with value: 0.6191346346943231.\n",
      "[I 2023-12-03 19:33:27,752] Trial 67 finished with value: 0.5679935709247497 and parameters: {'n_estimators': 256, 'max_depth': 4, 'min_samples_leaf': 3}. Best is trial 42 with value: 0.6191346346943231.\n",
      "[I 2023-12-03 19:34:00,611] Trial 68 finished with value: 0.6176636422561821 and parameters: {'n_estimators': 279, 'max_depth': 9, 'min_samples_leaf': 4}. Best is trial 42 with value: 0.6191346346943231.\n",
      "[I 2023-12-03 19:34:30,310] Trial 69 finished with value: 0.6126644265183329 and parameters: {'n_estimators': 227, 'max_depth': 10, 'min_samples_leaf': 4}. Best is trial 42 with value: 0.6191346346943231.\n",
      "[I 2023-12-03 19:35:04,044] Trial 70 finished with value: 0.6165961598797661 and parameters: {'n_estimators': 281, 'max_depth': 9, 'min_samples_leaf': 4}. Best is trial 42 with value: 0.6191346346943231.\n",
      "[I 2023-12-03 19:35:39,832] Trial 71 finished with value: 0.6167006774811028 and parameters: {'n_estimators': 287, 'max_depth': 9, 'min_samples_leaf': 3}. Best is trial 42 with value: 0.6191346346943231.\n",
      "[I 2023-12-03 19:36:12,661] Trial 72 finished with value: 0.6161362396096038 and parameters: {'n_estimators': 270, 'max_depth': 9, 'min_samples_leaf': 4}. Best is trial 42 with value: 0.6191346346943231.\n",
      "[I 2023-12-03 19:36:46,020] Trial 73 finished with value: 0.6135946811967653 and parameters: {'n_estimators': 300, 'max_depth': 8, 'min_samples_leaf': 3}. Best is trial 42 with value: 0.6191346346943231.\n",
      "[I 2023-12-03 19:37:18,611] Trial 74 finished with value: 0.6154342972918446 and parameters: {'n_estimators': 246, 'max_depth': 10, 'min_samples_leaf': 5}. Best is trial 42 with value: 0.6191346346943231.\n",
      "[I 2023-12-03 19:37:51,206] Trial 75 finished with value: 0.612855929815027 and parameters: {'n_estimators': 258, 'max_depth': 9, 'min_samples_leaf': 2}. Best is trial 42 with value: 0.6191346346943231.\n",
      "[I 2023-12-03 19:37:57,373] Trial 76 finished with value: 0.6074342828609718 and parameters: {'n_estimators': 50, 'max_depth': 8, 'min_samples_leaf': 4}. Best is trial 42 with value: 0.6191346346943231.\n",
      "[I 2023-12-03 19:38:31,187] Trial 77 finished with value: 0.6142339630822456 and parameters: {'n_estimators': 279, 'max_depth': 9, 'min_samples_leaf': 3}. Best is trial 42 with value: 0.6191346346943231.\n",
      "[I 2023-12-03 19:38:55,354] Trial 78 finished with value: 0.5982449585080551 and parameters: {'n_estimators': 266, 'max_depth': 6, 'min_samples_leaf': 5}. Best is trial 42 with value: 0.6191346346943231.\n",
      "[I 2023-12-03 19:39:33,817] Trial 79 finished with value: 0.6149909686403952 and parameters: {'n_estimators': 287, 'max_depth': 10, 'min_samples_leaf': 4}. Best is trial 42 with value: 0.6191346346943231.\n",
      "[I 2023-12-03 19:39:50,579] Trial 80 finished with value: 0.6153498870458914 and parameters: {'n_estimators': 139, 'max_depth': 9, 'min_samples_leaf': 4}. Best is trial 42 with value: 0.6191346346943231.\n",
      "[I 2023-12-03 19:40:21,271] Trial 81 finished with value: 0.6170962138709151 and parameters: {'n_estimators': 260, 'max_depth': 9, 'min_samples_leaf': 4}. Best is trial 42 with value: 0.6191346346943231.\n",
      "[I 2023-12-03 19:40:56,599] Trial 82 finished with value: 0.6152177083761813 and parameters: {'n_estimators': 267, 'max_depth': 10, 'min_samples_leaf': 4}. Best is trial 42 with value: 0.6191346346943231.\n",
      "[I 2023-12-03 19:41:27,019] Trial 83 finished with value: 0.6129416049007065 and parameters: {'n_estimators': 275, 'max_depth': 8, 'min_samples_leaf': 5}. Best is trial 42 with value: 0.6191346346943231.\n",
      "[I 2023-12-03 19:41:46,777] Trial 84 finished with value: 0.5845286877553177 and parameters: {'n_estimators': 250, 'max_depth': 5, 'min_samples_leaf': 3}. Best is trial 42 with value: 0.6191346346943231.\n",
      "[I 2023-12-03 19:42:21,707] Trial 85 finished with value: 0.6187539844522227 and parameters: {'n_estimators': 293, 'max_depth': 9, 'min_samples_leaf': 6}. Best is trial 42 with value: 0.6191346346943231.\n",
      "[I 2023-12-03 19:42:57,204] Trial 86 finished with value: 0.6178417205295832 and parameters: {'n_estimators': 294, 'max_depth': 9, 'min_samples_leaf': 6}. Best is trial 42 with value: 0.6191346346943231.\n",
      "[I 2023-12-03 19:43:35,210] Trial 87 finished with value: 0.6131652891660233 and parameters: {'n_estimators': 300, 'max_depth': 10, 'min_samples_leaf': 6}. Best is trial 42 with value: 0.6191346346943231.\n",
      "[I 2023-12-03 19:44:10,531] Trial 88 finished with value: 0.6142681413731587 and parameters: {'n_estimators': 278, 'max_depth': 10, 'min_samples_leaf': 6}. Best is trial 42 with value: 0.6191346346943231.\n",
      "[I 2023-12-03 19:44:44,945] Trial 89 finished with value: 0.6139634988272017 and parameters: {'n_estimators': 296, 'max_depth': 9, 'min_samples_leaf': 7}. Best is trial 42 with value: 0.6191346346943231.\n",
      "[I 2023-12-03 19:45:19,304] Trial 90 finished with value: 0.6186424094561407 and parameters: {'n_estimators': 284, 'max_depth': 9, 'min_samples_leaf': 6}. Best is trial 42 with value: 0.6191346346943231.\n",
      "[I 2023-12-03 19:45:53,026] Trial 91 finished with value: 0.6186424094561407 and parameters: {'n_estimators': 284, 'max_depth': 9, 'min_samples_leaf': 6}. Best is trial 42 with value: 0.6191346346943231.\n",
      "[I 2023-12-03 19:46:25,986] Trial 92 finished with value: 0.6170115506908632 and parameters: {'n_estimators': 285, 'max_depth': 9, 'min_samples_leaf': 6}. Best is trial 42 with value: 0.6191346346943231.\n",
      "[I 2023-12-03 19:46:57,130] Trial 93 finished with value: 0.6127523854590606 and parameters: {'n_estimators': 284, 'max_depth': 8, 'min_samples_leaf': 6}. Best is trial 42 with value: 0.6191346346943231.\n",
      "[I 2023-12-03 19:47:32,331] Trial 94 finished with value: 0.6191233877545327 and parameters: {'n_estimators': 290, 'max_depth': 10, 'min_samples_leaf': 7}. Best is trial 42 with value: 0.6191346346943231.\n",
      "[I 2023-12-03 19:48:09,589] Trial 95 finished with value: 0.6181586983759858 and parameters: {'n_estimators': 294, 'max_depth': 10, 'min_samples_leaf': 7}. Best is trial 42 with value: 0.6191346346943231.\n",
      "[I 2023-12-03 19:48:46,825] Trial 96 finished with value: 0.6181586983759858 and parameters: {'n_estimators': 294, 'max_depth': 10, 'min_samples_leaf': 7}. Best is trial 42 with value: 0.6191346346943231.\n",
      "[I 2023-12-03 19:49:23,758] Trial 97 finished with value: 0.6191233877545327 and parameters: {'n_estimators': 290, 'max_depth': 10, 'min_samples_leaf': 7}. Best is trial 42 with value: 0.6191346346943231.\n",
      "[I 2023-12-03 19:49:58,702] Trial 98 finished with value: 0.6191225795300402 and parameters: {'n_estimators': 288, 'max_depth': 10, 'min_samples_leaf': 7}. Best is trial 42 with value: 0.6191346346943231.\n",
      "[I 2023-12-03 19:50:35,053] Trial 99 finished with value: 0.6191233877545327 and parameters: {'n_estimators': 290, 'max_depth': 10, 'min_samples_leaf': 7}. Best is trial 42 with value: 0.6191346346943231.\n"
     ]
    }
   ],
   "source": [
    "study_rf.optimize(optuna_optimize, n_trials=100)"
   ],
   "metadata": {
    "collapsed": false,
    "ExecuteTime": {
     "end_time": "2023-12-03T16:50:35.112285300Z",
     "start_time": "2023-12-03T16:03:28.144971300Z"
    }
   }
  },
  {
   "cell_type": "code",
   "execution_count": 33,
   "outputs": [
    {
     "name": "stdout",
     "output_type": "stream",
     "text": [
      "Наилучшие значения гиперпараметров Random Forest: {'n_estimators': 273, 'max_depth': 10, 'min_samples_leaf': 3}\n",
      "f1_score на обучающем наборе: 0.619\n"
     ]
    }
   ],
   "source": [
    "print(\"Наилучшие значения гиперпараметров Random Forest: {}\".format(study_rf.best_params))\n",
    "print(\"f1_score на обучающем наборе: {:.3f}\". format(study_rf.best_value))"
   ],
   "metadata": {
    "collapsed": false,
    "ExecuteTime": {
     "end_time": "2023-12-03T16:50:35.183440200Z",
     "start_time": "2023-12-03T16:50:35.069626900Z"
    }
   }
  },
  {
   "cell_type": "code",
   "execution_count": 137,
   "outputs": [],
   "source": [
    "with mlflow.start_run(nested=True,\n",
    "                      run_name='rf_pipeline_class_weight'):\n",
    "\n",
    "    best_params = study_rf.best_params\n",
    "    best_score = study_rf.best_value\n",
    "    mlflow.log_params(best_params)\n",
    "\n",
    "    rf_pipe_cw = Pipeline([\n",
    "        ('preprocessor', preprocessor),\n",
    "        ('model', RandomForestClassifier(**best_params,\n",
    "                                         class_weight='balanced',\n",
    "                                         random_state=12345))\n",
    "    ])\n",
    "\n",
    "    rf_pipe_cw.fit(X_train, y_train)\n",
    "\n",
    "    pred_proba = rf_pipe_cw.predict_proba(X_test)[:, 1]\n",
    "    roc_auc_rf_cw = roc_auc_score(y_test, pred_proba)\n",
    "    \n",
    "    mlflow.log_metrics({\n",
    "        'f1_cv': best_score,\n",
    "        'roc_auc': roc_auc_rf_cw,\n",
    "        'balanced_accuracy': balanced_accuracy_score(y_test, np.round(pred_proba, 0)),\n",
    "        'f1': f1_score(y_test, np.round(pred_proba, 0))\n",
    "    })\n",
    "    \n",
    "    mlflow.sklearn.log_model(rf_pipe_cw, 'rf_pipeline_class_weight')"
   ],
   "metadata": {
    "collapsed": false,
    "ExecuteTime": {
     "end_time": "2023-12-05T13:50:37.853466300Z",
     "start_time": "2023-12-05T13:50:25.906543100Z"
    }
   }
  },
  {
   "cell_type": "markdown",
   "source": [
    "### 3.1.3 Логистическая регрессия"
   ],
   "metadata": {
    "collapsed": false
   }
  },
  {
   "cell_type": "code",
   "execution_count": 35,
   "outputs": [],
   "source": [
    "cat_pipeline = Pipeline([\n",
    "    ('enc', OneHotEncoder(handle_unknown='error', drop='first'))\n",
    "])\n",
    "\n",
    "num_pipeline = Pipeline([\n",
    "    ('imp', SimpleImputer(fill_value=-1, add_indicator=True)),\n",
    "    ('pt', PowerTransformer()),\n",
    "    ('scal', StandardScaler())\n",
    "])\n",
    "\n",
    "preprocessor = ColumnTransformer([\n",
    "    (\"cat\", cat_pipeline, categorical_features),\n",
    "    (\"num\", num_pipeline, numeric_features)\n",
    "], remainder='passthrough')"
   ],
   "metadata": {
    "collapsed": false,
    "ExecuteTime": {
     "end_time": "2023-12-03T16:50:54.052252200Z",
     "start_time": "2023-12-03T16:50:53.937235800Z"
    }
   }
  },
  {
   "cell_type": "code",
   "execution_count": 36,
   "outputs": [],
   "source": [
    "def optuna_optimize(trial):\n",
    "    param = {\n",
    "        'solver': trial.suggest_categorical('solver', ['lbfgs', 'saga'])\n",
    "    }\n",
    "    \n",
    "    if param['solver'] == 'lbfgs':\n",
    "        param['penalty'] = 'l2' \n",
    "\n",
    "    if param['solver'] == 'saga':\n",
    "        param['penalty'] = 'elasticnet' \n",
    "        param['C'] = trial.suggest_float('C', 0.01, 100) \n",
    "        param['l1_ratio'] = trial.suggest_float('l1_ratio', 0, 1)\n",
    "        param['max_iter'] = 1000 \n",
    "        \n",
    "    estimator = LogisticRegression(**param,  \n",
    "                                   class_weight='balanced',\n",
    "                                   random_state=12345)\n",
    "\n",
    "    log_reg_pipe = Pipeline([\n",
    "        ('preprocessor', preprocessor),\n",
    "        ('model', estimator)\n",
    "    ])\n",
    "    \n",
    "    score = cross_val_score(log_reg_pipe, X_train, y_train, cv=5, scoring='f1').mean()\n",
    "    return score"
   ],
   "metadata": {
    "collapsed": false,
    "ExecuteTime": {
     "end_time": "2023-12-03T16:50:54.052252200Z",
     "start_time": "2023-12-03T16:50:53.963359500Z"
    }
   }
  },
  {
   "cell_type": "code",
   "execution_count": 37,
   "outputs": [
    {
     "name": "stderr",
     "output_type": "stream",
     "text": [
      "[I 2023-12-03 19:50:53,993] A new study created in memory with name: LogisticRegression Optuna Optimization Class Weight\n"
     ]
    }
   ],
   "source": [
    "study_log_reg = optuna.create_study(study_name=\"LogisticRegression Optuna Optimization Class Weight\",\n",
    "                                direction='maximize')"
   ],
   "metadata": {
    "collapsed": false,
    "ExecuteTime": {
     "end_time": "2023-12-03T16:50:54.067298Z",
     "start_time": "2023-12-03T16:50:54.001809Z"
    }
   }
  },
  {
   "cell_type": "code",
   "execution_count": 38,
   "outputs": [
    {
     "name": "stderr",
     "output_type": "stream",
     "text": [
      "[I 2023-12-03 19:50:55,547] Trial 0 finished with value: 0.4910843408008952 and parameters: {'solver': 'saga', 'C': 67.02152461160023, 'l1_ratio': 0.48430614419966944}. Best is trial 0 with value: 0.4910843408008952.\n",
      "[I 2023-12-03 19:50:56,538] Trial 1 finished with value: 0.49096987218775245 and parameters: {'solver': 'lbfgs'}. Best is trial 0 with value: 0.4910843408008952.\n",
      "[I 2023-12-03 19:50:57,876] Trial 2 finished with value: 0.4910843408008952 and parameters: {'solver': 'saga', 'C': 93.08613334558326, 'l1_ratio': 0.5952099843733135}. Best is trial 0 with value: 0.4910843408008952.\n",
      "[I 2023-12-03 19:50:58,942] Trial 3 finished with value: 0.4910843408008952 and parameters: {'solver': 'saga', 'C': 70.91930011977306, 'l1_ratio': 0.5447158408363525}. Best is trial 0 with value: 0.4910843408008952.\n",
      "[I 2023-12-03 19:51:00,384] Trial 4 finished with value: 0.4910843408008952 and parameters: {'solver': 'saga', 'C': 83.00028713380922, 'l1_ratio': 0.7763211702600279}. Best is trial 0 with value: 0.4910843408008952.\n",
      "[I 2023-12-03 19:51:01,576] Trial 5 finished with value: 0.4910843408008952 and parameters: {'solver': 'saga', 'C': 13.434167405434405, 'l1_ratio': 0.5434576046537715}. Best is trial 0 with value: 0.4910843408008952.\n",
      "[I 2023-12-03 19:51:02,829] Trial 6 finished with value: 0.4910843408008952 and parameters: {'solver': 'saga', 'C': 55.36954280764344, 'l1_ratio': 0.031807331293191576}. Best is trial 0 with value: 0.4910843408008952.\n",
      "[I 2023-12-03 19:51:03,717] Trial 7 finished with value: 0.49096987218775245 and parameters: {'solver': 'lbfgs'}. Best is trial 0 with value: 0.4910843408008952.\n",
      "[I 2023-12-03 19:51:04,657] Trial 8 finished with value: 0.49096987218775245 and parameters: {'solver': 'lbfgs'}. Best is trial 0 with value: 0.4910843408008952.\n",
      "[I 2023-12-03 19:51:06,095] Trial 9 finished with value: 0.4910843408008952 and parameters: {'solver': 'saga', 'C': 96.52345394448558, 'l1_ratio': 0.3622356448703421}. Best is trial 0 with value: 0.4910843408008952.\n",
      "[I 2023-12-03 19:51:07,119] Trial 10 finished with value: 0.49096987218775245 and parameters: {'solver': 'lbfgs'}. Best is trial 0 with value: 0.4910843408008952.\n",
      "[I 2023-12-03 19:51:08,359] Trial 11 finished with value: 0.4910843408008952 and parameters: {'solver': 'saga', 'C': 99.53414371436425, 'l1_ratio': 0.9644532889066106}. Best is trial 0 with value: 0.4910843408008952.\n",
      "[I 2023-12-03 19:51:09,814] Trial 12 finished with value: 0.4910843408008952 and parameters: {'solver': 'saga', 'C': 72.4814943751663, 'l1_ratio': 0.381700826884754}. Best is trial 0 with value: 0.4910843408008952.\n",
      "[I 2023-12-03 19:51:11,235] Trial 13 finished with value: 0.4910843408008952 and parameters: {'solver': 'saga', 'C': 46.91075079148373, 'l1_ratio': 0.6696971007298165}. Best is trial 0 with value: 0.4910843408008952.\n",
      "[I 2023-12-03 19:51:12,504] Trial 14 finished with value: 0.4910843408008952 and parameters: {'solver': 'saga', 'C': 81.72411478695962, 'l1_ratio': 0.3270053022778616}. Best is trial 0 with value: 0.4910843408008952.\n",
      "[I 2023-12-03 19:51:13,857] Trial 15 finished with value: 0.4910843408008952 and parameters: {'solver': 'saga', 'C': 54.98751520899876, 'l1_ratio': 0.7222882106984563}. Best is trial 0 with value: 0.4910843408008952.\n",
      "[I 2023-12-03 19:51:15,163] Trial 16 finished with value: 0.4910843408008952 and parameters: {'solver': 'saga', 'C': 99.5554070342576, 'l1_ratio': 0.5091102505770271}. Best is trial 0 with value: 0.4910843408008952.\n",
      "[I 2023-12-03 19:51:16,496] Trial 17 finished with value: 0.4910843408008952 and parameters: {'solver': 'saga', 'C': 39.57046701024833, 'l1_ratio': 0.22590739411870908}. Best is trial 0 with value: 0.4910843408008952.\n",
      "[I 2023-12-03 19:51:17,477] Trial 18 finished with value: 0.49096987218775245 and parameters: {'solver': 'lbfgs'}. Best is trial 0 with value: 0.4910843408008952.\n",
      "[I 2023-12-03 19:51:19,041] Trial 19 finished with value: 0.4910843408008952 and parameters: {'solver': 'saga', 'C': 66.6408699026898, 'l1_ratio': 0.6490990666430956}. Best is trial 0 with value: 0.4910843408008952.\n",
      "[I 2023-12-03 19:51:20,516] Trial 20 finished with value: 0.4910843408008952 and parameters: {'solver': 'saga', 'C': 85.47148273755413, 'l1_ratio': 0.8540202406275373}. Best is trial 0 with value: 0.4910843408008952.\n",
      "[I 2023-12-03 19:51:21,916] Trial 21 finished with value: 0.4910843408008952 and parameters: {'solver': 'saga', 'C': 67.27791823328972, 'l1_ratio': 0.572660520906024}. Best is trial 0 with value: 0.4910843408008952.\n",
      "[I 2023-12-03 19:51:23,154] Trial 22 finished with value: 0.4910843408008952 and parameters: {'solver': 'saga', 'C': 73.77202475030828, 'l1_ratio': 0.46627492121708114}. Best is trial 0 with value: 0.4910843408008952.\n",
      "[I 2023-12-03 19:51:24,546] Trial 23 finished with value: 0.4910843408008952 and parameters: {'solver': 'saga', 'C': 87.71798880888068, 'l1_ratio': 0.5824857013587706}. Best is trial 0 with value: 0.4910843408008952.\n",
      "[I 2023-12-03 19:51:25,968] Trial 24 finished with value: 0.4910843408008952 and parameters: {'solver': 'saga', 'C': 60.582262938326934, 'l1_ratio': 0.46371358172967087}. Best is trial 0 with value: 0.4910843408008952.\n",
      "[I 2023-12-03 19:51:27,449] Trial 25 finished with value: 0.4910843408008952 and parameters: {'solver': 'saga', 'C': 76.02336137946727, 'l1_ratio': 0.6486794526472278}. Best is trial 0 with value: 0.4910843408008952.\n",
      "[I 2023-12-03 19:51:28,273] Trial 26 finished with value: 0.49096987218775245 and parameters: {'solver': 'lbfgs'}. Best is trial 0 with value: 0.4910843408008952.\n",
      "[I 2023-12-03 19:51:29,616] Trial 27 finished with value: 0.4910843408008952 and parameters: {'solver': 'saga', 'C': 90.37752450489181, 'l1_ratio': 0.5970399304429002}. Best is trial 0 with value: 0.4910843408008952.\n",
      "[I 2023-12-03 19:51:30,780] Trial 28 finished with value: 0.4910843408008952 and parameters: {'solver': 'saga', 'C': 78.30778253267563, 'l1_ratio': 0.7713437074633973}. Best is trial 0 with value: 0.4910843408008952.\n",
      "[I 2023-12-03 19:51:31,710] Trial 29 finished with value: 0.49096987218775245 and parameters: {'solver': 'lbfgs'}. Best is trial 0 with value: 0.4910843408008952.\n",
      "[I 2023-12-03 19:51:33,174] Trial 30 finished with value: 0.4910843408008952 and parameters: {'solver': 'saga', 'C': 63.987890228711954, 'l1_ratio': 0.4556100869620634}. Best is trial 0 with value: 0.4910843408008952.\n",
      "[I 2023-12-03 19:51:34,358] Trial 31 finished with value: 0.4910843408008952 and parameters: {'solver': 'saga', 'C': 84.03112124687716, 'l1_ratio': 0.7860436801085814}. Best is trial 0 with value: 0.4910843408008952.\n",
      "[I 2023-12-03 19:51:35,713] Trial 32 finished with value: 0.4910843408008952 and parameters: {'solver': 'saga', 'C': 90.91533788495315, 'l1_ratio': 0.6932957423887216}. Best is trial 0 with value: 0.4910843408008952.\n",
      "[I 2023-12-03 19:51:37,112] Trial 33 finished with value: 0.4910843408008952 and parameters: {'solver': 'saga', 'C': 78.17469631790009, 'l1_ratio': 0.5461774138449202}. Best is trial 0 with value: 0.4910843408008952.\n",
      "[I 2023-12-03 19:51:38,445] Trial 34 finished with value: 0.4910843408008952 and parameters: {'solver': 'saga', 'C': 91.86609105171306, 'l1_ratio': 0.8455473701695181}. Best is trial 0 with value: 0.4910843408008952.\n",
      "[I 2023-12-03 19:51:39,796] Trial 35 finished with value: 0.4910843408008952 and parameters: {'solver': 'saga', 'C': 70.46581612718062, 'l1_ratio': 0.6244621749421638}. Best is trial 0 with value: 0.4910843408008952.\n",
      "[I 2023-12-03 19:51:40,722] Trial 36 finished with value: 0.49096987218775245 and parameters: {'solver': 'lbfgs'}. Best is trial 0 with value: 0.4910843408008952.\n",
      "[I 2023-12-03 19:51:42,042] Trial 37 finished with value: 0.4910843408008952 and parameters: {'solver': 'saga', 'C': 82.43723078351933, 'l1_ratio': 0.7169180037392813}. Best is trial 0 with value: 0.4910843408008952.\n",
      "[I 2023-12-03 19:51:43,340] Trial 38 finished with value: 0.4910843408008952 and parameters: {'solver': 'saga', 'C': 7.223157719292118, 'l1_ratio': 0.5286096366082776}. Best is trial 0 with value: 0.4910843408008952.\n",
      "[I 2023-12-03 19:51:44,076] Trial 39 finished with value: 0.49096987218775245 and parameters: {'solver': 'lbfgs'}. Best is trial 0 with value: 0.4910843408008952.\n",
      "[I 2023-12-03 19:51:45,573] Trial 40 finished with value: 0.4910843408008952 and parameters: {'solver': 'saga', 'C': 71.89144140180098, 'l1_ratio': 0.5853314418824148}. Best is trial 0 with value: 0.4910843408008952.\n",
      "[I 2023-12-03 19:51:46,957] Trial 41 finished with value: 0.4910843408008952 and parameters: {'solver': 'saga', 'C': 9.795103916252437, 'l1_ratio': 0.5041429517760335}. Best is trial 0 with value: 0.4910843408008952.\n",
      "[I 2023-12-03 19:51:48,259] Trial 42 finished with value: 0.4910843408008952 and parameters: {'solver': 'saga', 'C': 93.51529005019327, 'l1_ratio': 0.4037671214580267}. Best is trial 0 with value: 0.4910843408008952.\n",
      "[I 2023-12-03 19:51:49,553] Trial 43 finished with value: 0.4910843408008952 and parameters: {'solver': 'saga', 'C': 16.34403935009729, 'l1_ratio': 0.5492193241138347}. Best is trial 0 with value: 0.4910843408008952.\n",
      "[I 2023-12-03 19:51:50,900] Trial 44 finished with value: 0.4910843408008952 and parameters: {'solver': 'saga', 'C': 60.04222189877949, 'l1_ratio': 0.618178874865707}. Best is trial 0 with value: 0.4910843408008952.\n",
      "[I 2023-12-03 19:51:52,314] Trial 45 finished with value: 0.4910843408008952 and parameters: {'solver': 'saga', 'C': 94.84736996870483, 'l1_ratio': 0.4022829938236665}. Best is trial 0 with value: 0.4910843408008952.\n",
      "[I 2023-12-03 19:51:53,682] Trial 46 finished with value: 0.4910843408008952 and parameters: {'solver': 'saga', 'C': 78.96744222261069, 'l1_ratio': 0.9654630598331723}. Best is trial 0 with value: 0.4910843408008952.\n",
      "[I 2023-12-03 19:51:54,884] Trial 47 finished with value: 0.4910843408008952 and parameters: {'solver': 'saga', 'C': 84.57399936761759, 'l1_ratio': 0.6754228802706002}. Best is trial 0 with value: 0.4910843408008952.\n",
      "[I 2023-12-03 19:51:55,971] Trial 48 finished with value: 0.49096987218775245 and parameters: {'solver': 'lbfgs'}. Best is trial 0 with value: 0.4910843408008952.\n",
      "[I 2023-12-03 19:51:56,978] Trial 49 finished with value: 0.4910843408008952 and parameters: {'solver': 'saga', 'C': 97.12236860265321, 'l1_ratio': 0.31561480359199856}. Best is trial 0 with value: 0.4910843408008952.\n",
      "[I 2023-12-03 19:51:58,263] Trial 50 finished with value: 0.4910843408008952 and parameters: {'solver': 'saga', 'C': 53.03591293304581, 'l1_ratio': 0.5154038730458165}. Best is trial 0 with value: 0.4910843408008952.\n",
      "[I 2023-12-03 19:51:59,576] Trial 51 finished with value: 0.4910843408008952 and parameters: {'solver': 'saga', 'C': 43.608396519177525, 'l1_ratio': 0.13981354595696338}. Best is trial 0 with value: 0.4910843408008952.\n",
      "[I 2023-12-03 19:52:00,813] Trial 52 finished with value: 0.4910843408008952 and parameters: {'solver': 'saga', 'C': 57.54624354336109, 'l1_ratio': 0.007231063170965779}. Best is trial 0 with value: 0.4910843408008952.\n",
      "[I 2023-12-03 19:52:02,016] Trial 53 finished with value: 0.4910843408008952 and parameters: {'solver': 'saga', 'C': 51.313286464852396, 'l1_ratio': 0.44455122034062766}. Best is trial 0 with value: 0.4910843408008952.\n",
      "[I 2023-12-03 19:52:03,223] Trial 54 finished with value: 0.4910843408008952 and parameters: {'solver': 'saga', 'C': 67.77823044089317, 'l1_ratio': 0.35487067189226695}. Best is trial 0 with value: 0.4910843408008952.\n",
      "[I 2023-12-03 19:52:04,550] Trial 55 finished with value: 0.4910843408008952 and parameters: {'solver': 'saga', 'C': 73.8626875766686, 'l1_ratio': 0.2789378932474357}. Best is trial 0 with value: 0.4910843408008952.\n",
      "[I 2023-12-03 19:52:05,907] Trial 56 finished with value: 0.4910843408008952 and parameters: {'solver': 'saga', 'C': 64.26281683835981, 'l1_ratio': 0.6229516217395026}. Best is trial 0 with value: 0.4910843408008952.\n",
      "[I 2023-12-03 19:52:07,060] Trial 57 finished with value: 0.4910843408008952 and parameters: {'solver': 'saga', 'C': 35.95976732811104, 'l1_ratio': 0.92164523127378}. Best is trial 0 with value: 0.4910843408008952.\n",
      "[I 2023-12-03 19:52:07,924] Trial 58 finished with value: 0.49096987218775245 and parameters: {'solver': 'lbfgs'}. Best is trial 0 with value: 0.4910843408008952.\n",
      "[I 2023-12-03 19:52:09,191] Trial 59 finished with value: 0.4910843408008952 and parameters: {'solver': 'saga', 'C': 87.34173634759125, 'l1_ratio': 0.49865603517582124}. Best is trial 0 with value: 0.4910843408008952.\n",
      "[I 2023-12-03 19:52:10,423] Trial 60 finished with value: 0.4910843408008952 and parameters: {'solver': 'saga', 'C': 69.63116946643059, 'l1_ratio': 0.5657647477902152}. Best is trial 0 with value: 0.4910843408008952.\n",
      "[I 2023-12-03 19:52:11,729] Trial 61 finished with value: 0.4910843408008952 and parameters: {'solver': 'saga', 'C': 79.7081298603634, 'l1_ratio': 0.4117088378027485}. Best is trial 0 with value: 0.4910843408008952.\n",
      "[I 2023-12-03 19:52:12,950] Trial 62 finished with value: 0.4910843408008952 and parameters: {'solver': 'saga', 'C': 98.75077610514818, 'l1_ratio': 0.47500493609649086}. Best is trial 0 with value: 0.4910843408008952.\n",
      "[I 2023-12-03 19:52:14,179] Trial 63 finished with value: 0.4910843408008952 and parameters: {'solver': 'saga', 'C': 99.98171353457289, 'l1_ratio': 0.6582319483729442}. Best is trial 0 with value: 0.4910843408008952.\n",
      "[I 2023-12-03 19:52:15,606] Trial 64 finished with value: 0.4910843408008952 and parameters: {'solver': 'saga', 'C': 87.27515196881012, 'l1_ratio': 0.3648991447401368}. Best is trial 0 with value: 0.4910843408008952.\n",
      "[I 2023-12-03 19:52:16,990] Trial 65 finished with value: 0.4910843408008952 and parameters: {'solver': 'saga', 'C': 90.27966105482098, 'l1_ratio': 0.5607543183296354}. Best is trial 0 with value: 0.4910843408008952.\n",
      "[I 2023-12-03 19:52:18,273] Trial 66 finished with value: 0.4910843408008952 and parameters: {'solver': 'saga', 'C': 75.54986221357224, 'l1_ratio': 0.4409504084911965}. Best is trial 0 with value: 0.4910843408008952.\n",
      "[I 2023-12-03 19:52:19,577] Trial 67 finished with value: 0.4910843408008952 and parameters: {'solver': 'saga', 'C': 96.09326482115607, 'l1_ratio': 0.5004885257785104}. Best is trial 0 with value: 0.4910843408008952.\n",
      "[I 2023-12-03 19:52:20,358] Trial 68 finished with value: 0.49096987218775245 and parameters: {'solver': 'lbfgs'}. Best is trial 0 with value: 0.4910843408008952.\n",
      "[I 2023-12-03 19:52:21,671] Trial 69 finished with value: 0.4910843408008952 and parameters: {'solver': 'saga', 'C': 82.46867198111819, 'l1_ratio': 0.5946069360990613}. Best is trial 0 with value: 0.4910843408008952.\n",
      "[I 2023-12-03 19:52:22,784] Trial 70 finished with value: 0.4910843408008952 and parameters: {'solver': 'saga', 'C': 63.01689757444737, 'l1_ratio': 0.5391752353023788}. Best is trial 0 with value: 0.4910843408008952.\n",
      "[I 2023-12-03 19:52:24,062] Trial 71 finished with value: 0.4910843408008952 and parameters: {'solver': 'saga', 'C': 93.37869024332383, 'l1_ratio': 0.7244043482355362}. Best is trial 0 with value: 0.4910843408008952.\n",
      "[I 2023-12-03 19:52:25,314] Trial 72 finished with value: 0.4910843408008952 and parameters: {'solver': 'saga', 'C': 88.7209707251526, 'l1_ratio': 0.7605359588659069}. Best is trial 0 with value: 0.4910843408008952.\n",
      "[I 2023-12-03 19:52:26,594] Trial 73 finished with value: 0.4910843408008952 and parameters: {'solver': 'saga', 'C': 95.3207762836996, 'l1_ratio': 0.8367952120011479}. Best is trial 0 with value: 0.4910843408008952.\n",
      "[I 2023-12-03 19:52:27,637] Trial 74 finished with value: 0.4910843408008952 and parameters: {'solver': 'saga', 'C': 91.28899855802368, 'l1_ratio': 0.6395926269899719}. Best is trial 0 with value: 0.4910843408008952.\n",
      "[I 2023-12-03 19:52:29,028] Trial 75 finished with value: 0.4910843408008952 and parameters: {'solver': 'saga', 'C': 85.86033169041933, 'l1_ratio': 0.6886626967331707}. Best is trial 0 with value: 0.4910843408008952.\n",
      "[I 2023-12-03 19:52:30,369] Trial 76 finished with value: 0.4910843408008952 and parameters: {'solver': 'saga', 'C': 99.05174003817727, 'l1_ratio': 0.6070975227413209}. Best is trial 0 with value: 0.4910843408008952.\n",
      "[I 2023-12-03 19:52:31,591] Trial 77 finished with value: 0.4910843408008952 and parameters: {'solver': 'saga', 'C': 55.701894995519325, 'l1_ratio': 0.8105596681814545}. Best is trial 0 with value: 0.4910843408008952.\n",
      "[I 2023-12-03 19:52:32,907] Trial 78 finished with value: 0.4910843408008952 and parameters: {'solver': 'saga', 'C': 82.12640469533697, 'l1_ratio': 0.8820661147565237}. Best is trial 0 with value: 0.4910843408008952.\n",
      "[I 2023-12-03 19:52:33,774] Trial 79 finished with value: 0.49096987218775245 and parameters: {'solver': 'lbfgs'}. Best is trial 0 with value: 0.4910843408008952.\n",
      "[I 2023-12-03 19:52:35,224] Trial 80 finished with value: 0.4910843408008952 and parameters: {'solver': 'saga', 'C': 71.54155337796475, 'l1_ratio': 0.4844805032672054}. Best is trial 0 with value: 0.4910843408008952.\n",
      "[I 2023-12-03 19:52:36,505] Trial 81 finished with value: 0.4910843408008952 and parameters: {'solver': 'saga', 'C': 76.55716847679065, 'l1_ratio': 0.5249402039427316}. Best is trial 0 with value: 0.4910843408008952.\n",
      "[I 2023-12-03 19:52:37,944] Trial 82 finished with value: 0.4910843408008952 and parameters: {'solver': 'saga', 'C': 79.98308171257518, 'l1_ratio': 0.9950629145050587}. Best is trial 0 with value: 0.4910843408008952.\n",
      "[I 2023-12-03 19:52:39,497] Trial 83 finished with value: 0.4910843408008952 and parameters: {'solver': 'saga', 'C': 67.25663252314081, 'l1_ratio': 0.4670870180163678}. Best is trial 0 with value: 0.4910843408008952.\n",
      "[I 2023-12-03 19:52:40,765] Trial 84 finished with value: 0.4910843408008952 and parameters: {'solver': 'saga', 'C': 73.08246117602607, 'l1_ratio': 0.5528031989189042}. Best is trial 0 with value: 0.4910843408008952.\n",
      "[I 2023-12-03 19:52:42,068] Trial 85 finished with value: 0.4910843408008952 and parameters: {'solver': 'saga', 'C': 95.68626731373891, 'l1_ratio': 0.5921447839733102}. Best is trial 0 with value: 0.4910843408008952.\n",
      "[I 2023-12-03 19:52:43,467] Trial 86 finished with value: 0.4910843408008952 and parameters: {'solver': 'saga', 'C': 92.13687332462548, 'l1_ratio': 0.5271946698327735}. Best is trial 0 with value: 0.4910843408008952.\n",
      "[I 2023-12-03 19:52:44,837] Trial 87 finished with value: 0.4910843408008952 and parameters: {'solver': 'saga', 'C': 84.42970517690698, 'l1_ratio': 0.6575188658820221}. Best is trial 0 with value: 0.4910843408008952.\n",
      "[I 2023-12-03 19:52:46,120] Trial 88 finished with value: 0.4910843408008952 and parameters: {'solver': 'saga', 'C': 75.3241033961405, 'l1_ratio': 0.43846605367086966}. Best is trial 0 with value: 0.4910843408008952.\n",
      "[I 2023-12-03 19:52:47,502] Trial 89 finished with value: 0.4910843408008952 and parameters: {'solver': 'saga', 'C': 70.04589821264385, 'l1_ratio': 0.5807747393493583}. Best is trial 0 with value: 0.4910843408008952.\n",
      "[I 2023-12-03 19:52:48,449] Trial 90 finished with value: 0.49096987218775245 and parameters: {'solver': 'lbfgs'}. Best is trial 0 with value: 0.4910843408008952.\n",
      "[I 2023-12-03 19:52:49,711] Trial 91 finished with value: 0.4910843408008952 and parameters: {'solver': 'saga', 'C': 61.68067619888642, 'l1_ratio': 0.7335785251803235}. Best is trial 0 with value: 0.4910843408008952.\n",
      "[I 2023-12-03 19:52:51,066] Trial 92 finished with value: 0.4910843408008952 and parameters: {'solver': 'saga', 'C': 63.59332659279885, 'l1_ratio': 0.6191167144068449}. Best is trial 0 with value: 0.4910843408008952.\n",
      "[I 2023-12-03 19:52:52,254] Trial 93 finished with value: 0.4910843408008952 and parameters: {'solver': 'saga', 'C': 47.551589072371385, 'l1_ratio': 0.6936356285701146}. Best is trial 0 with value: 0.4910843408008952.\n",
      "[I 2023-12-03 19:52:53,578] Trial 94 finished with value: 0.4910843408008952 and parameters: {'solver': 'saga', 'C': 32.68306937668292, 'l1_ratio': 0.5675761457430795}. Best is trial 0 with value: 0.4910843408008952.\n",
      "[I 2023-12-03 19:52:54,837] Trial 95 finished with value: 0.4910843408008952 and parameters: {'solver': 'saga', 'C': 59.180077408371545, 'l1_ratio': 0.26568738667621805}. Best is trial 0 with value: 0.4910843408008952.\n",
      "[I 2023-12-03 19:52:56,032] Trial 96 finished with value: 0.4910843408008952 and parameters: {'solver': 'saga', 'C': 66.51145845095922, 'l1_ratio': 0.5121118479783873}. Best is trial 0 with value: 0.4910843408008952.\n",
      "[I 2023-12-03 19:52:57,432] Trial 97 finished with value: 0.4910843408008952 and parameters: {'solver': 'saga', 'C': 56.52282173915914, 'l1_ratio': 0.6474778899986096}. Best is trial 0 with value: 0.4910843408008952.\n",
      "[I 2023-12-03 19:52:58,776] Trial 98 finished with value: 0.4910843408008952 and parameters: {'solver': 'saga', 'C': 53.430258826146286, 'l1_ratio': 0.15013915203658706}. Best is trial 0 with value: 0.4910843408008952.\n",
      "[I 2023-12-03 19:53:00,094] Trial 99 finished with value: 0.4910843408008952 and parameters: {'solver': 'saga', 'C': 88.969385427636, 'l1_ratio': 0.4858821904759742}. Best is trial 0 with value: 0.4910843408008952.\n"
     ]
    }
   ],
   "source": [
    "study_log_reg.optimize(optuna_optimize, n_trials=100)"
   ],
   "metadata": {
    "collapsed": false,
    "ExecuteTime": {
     "end_time": "2023-12-03T16:53:00.170428900Z",
     "start_time": "2023-12-03T16:50:54.036439Z"
    }
   }
  },
  {
   "cell_type": "code",
   "execution_count": 39,
   "outputs": [
    {
     "name": "stdout",
     "output_type": "stream",
     "text": [
      "Наилучшие значения гиперпараметров Logistic Regression: {'solver': 'saga', 'C': 67.02152461160023, 'l1_ratio': 0.48430614419966944}\n",
      "f1_score на обучающем наборе: 0.491\n"
     ]
    }
   ],
   "source": [
    "print(\"Наилучшие значения гиперпараметров Logistic Regression: {}\".format(study_log_reg.best_params))\n",
    "print(\"f1_score на обучающем наборе: {:.3f}\". format(study_log_reg.best_value))"
   ],
   "metadata": {
    "collapsed": false,
    "ExecuteTime": {
     "end_time": "2023-12-03T16:53:00.232740700Z",
     "start_time": "2023-12-03T16:53:00.119811700Z"
    }
   }
  },
  {
   "cell_type": "code",
   "execution_count": 138,
   "outputs": [],
   "source": [
    "with mlflow.start_run(nested=True,\n",
    "                      run_name='log_reg_pipeline_class_weight'):\n",
    "\n",
    "    best_params = study_log_reg.best_params\n",
    "    best_score = study_log_reg.best_value\n",
    "    mlflow.log_params(best_params)\n",
    "\n",
    "    log_reg_pipe_cw = Pipeline([\n",
    "        ('preprocessor', preprocessor),\n",
    "        ('model', LogisticRegression(**best_params,\n",
    "                                     class_weight='balanced',\n",
    "                                     random_state=12345))\n",
    "    ])\n",
    "\n",
    "    log_reg_pipe_cw.fit(X_train, y_train)\n",
    "\n",
    "    pred_proba = log_reg_pipe_cw.predict_proba(X_test)[:, 1]\n",
    "    roc_auc_lr_cw = roc_auc_score(y_test, pred_proba)\n",
    "    \n",
    "    mlflow.log_metrics({\n",
    "        'f1_cv': best_score,\n",
    "        'roc_auc': roc_auc_lr_cw,\n",
    "        'balanced_accuracy': balanced_accuracy_score(y_test, np.round(pred_proba, 0)),\n",
    "        'f1': f1_score(y_test, np.round(pred_proba, 0))\n",
    "    })\n",
    "    \n",
    "    mlflow.sklearn.log_model(log_reg_pipe_cw, 'log_reg_pipeline_class_weight')"
   ],
   "metadata": {
    "collapsed": false,
    "ExecuteTime": {
     "end_time": "2023-12-05T13:50:42.481746900Z",
     "start_time": "2023-12-05T13:50:37.854590Z"
    }
   }
  },
  {
   "cell_type": "markdown",
   "source": [
    "### 3.1.4 Метод опорных векторов"
   ],
   "metadata": {
    "collapsed": false
   }
  },
  {
   "cell_type": "code",
   "execution_count": 41,
   "outputs": [],
   "source": [
    "def optuna_optimize(trial):\n",
    "\n",
    "    param = {\n",
    "        'C': trial.suggest_float('C', 0.01, 3)  # какие значения может принимать С \n",
    "    }\n",
    " \n",
    "    estimator = SVC(**param, \n",
    "                    class_weight='balanced',\n",
    "                    random_state=12345,\n",
    "                    probability=True)\n",
    "    \n",
    "    svc_pipe = Pipeline([\n",
    "        ('preprocessor', preprocessor),\n",
    "        ('model', estimator)\n",
    "    ])\n",
    "    \n",
    "    score = cross_val_score(svc_pipe, X_train, y_train, cv=5, scoring='f1').mean()\n",
    "    return score"
   ],
   "metadata": {
    "collapsed": false,
    "ExecuteTime": {
     "end_time": "2023-12-03T16:53:09.662864900Z",
     "start_time": "2023-12-03T16:53:09.584777Z"
    }
   }
  },
  {
   "cell_type": "code",
   "execution_count": 42,
   "outputs": [
    {
     "name": "stderr",
     "output_type": "stream",
     "text": [
      "[I 2023-12-03 19:53:09,607] A new study created in memory with name: SVC Optuna Optimization Class Weight\n"
     ]
    }
   ],
   "source": [
    "study_svc = optuna.create_study(study_name=\"SVC Optuna Optimization Class Weight\",\n",
    "                                    direction='maximize')"
   ],
   "metadata": {
    "collapsed": false,
    "ExecuteTime": {
     "end_time": "2023-12-03T16:53:09.662864900Z",
     "start_time": "2023-12-03T16:53:09.607054500Z"
    }
   }
  },
  {
   "cell_type": "code",
   "execution_count": 43,
   "outputs": [
    {
     "name": "stderr",
     "output_type": "stream",
     "text": [
      "[I 2023-12-03 19:54:48,015] Trial 0 finished with value: 0.579142140068793 and parameters: {'C': 1.5822154292987414}. Best is trial 0 with value: 0.579142140068793.\n",
      "[I 2023-12-03 19:56:27,095] Trial 1 finished with value: 0.5790597560663812 and parameters: {'C': 2.432172199409803}. Best is trial 0 with value: 0.579142140068793.\n",
      "[I 2023-12-03 19:58:15,785] Trial 2 finished with value: 0.578245022286653 and parameters: {'C': 1.8930135702679165}. Best is trial 0 with value: 0.579142140068793.\n",
      "[I 2023-12-03 20:00:16,159] Trial 3 finished with value: 0.5767165618889847 and parameters: {'C': 1.27964322402352}. Best is trial 0 with value: 0.579142140068793.\n",
      "[I 2023-12-03 20:02:00,707] Trial 4 finished with value: 0.57168004167917 and parameters: {'C': 0.6283721219958383}. Best is trial 0 with value: 0.579142140068793.\n",
      "[I 2023-12-03 20:03:34,218] Trial 5 finished with value: 0.5782320328367022 and parameters: {'C': 2.7757710749444917}. Best is trial 0 with value: 0.579142140068793.\n",
      "[I 2023-12-03 20:05:14,507] Trial 6 finished with value: 0.5775891658356949 and parameters: {'C': 1.49525599048686}. Best is trial 0 with value: 0.579142140068793.\n",
      "[I 2023-12-03 20:07:08,769] Trial 7 finished with value: 0.5649825375499867 and parameters: {'C': 0.3474631244120373}. Best is trial 0 with value: 0.579142140068793.\n",
      "[I 2023-12-03 20:08:57,729] Trial 8 finished with value: 0.5759272996171256 and parameters: {'C': 1.221495255299977}. Best is trial 0 with value: 0.579142140068793.\n",
      "[I 2023-12-03 20:10:58,421] Trial 9 finished with value: 0.5783606473481601 and parameters: {'C': 1.10190913945824}. Best is trial 0 with value: 0.579142140068793.\n"
     ]
    }
   ],
   "source": [
    "study_svc.optimize(optuna_optimize, n_trials=10)"
   ],
   "metadata": {
    "collapsed": false,
    "ExecuteTime": {
     "end_time": "2023-12-03T17:10:58.519908800Z",
     "start_time": "2023-12-03T16:53:09.623493300Z"
    }
   }
  },
  {
   "cell_type": "code",
   "execution_count": 44,
   "outputs": [
    {
     "name": "stdout",
     "output_type": "stream",
     "text": [
      "Наилучшие значения гиперпараметров SVC: {'C': 1.5822154292987414}\n",
      "f1_score на обучающем наборе: 0.579\n"
     ]
    }
   ],
   "source": [
    "print(\"Наилучшие значения гиперпараметров SVC: {}\".format(study_svc.best_params))\n",
    "print(\"f1_score на обучающем наборе: {:.3f}\". format(study_svc.best_value))"
   ],
   "metadata": {
    "collapsed": false,
    "ExecuteTime": {
     "end_time": "2023-12-03T17:10:58.667325Z",
     "start_time": "2023-12-03T17:10:58.529262100Z"
    }
   }
  },
  {
   "cell_type": "code",
   "execution_count": 139,
   "outputs": [],
   "source": [
    "with mlflow.start_run(nested=True,\n",
    "                      run_name='svc_pipeline_class_weight'):\n",
    "\n",
    "    best_params = study_svc.best_params\n",
    "    best_score = study_svc.best_value\n",
    "    mlflow.log_params(best_params)\n",
    "\n",
    "    svc_pipe_cw = Pipeline([\n",
    "        ('preprocessor', preprocessor),\n",
    "        ('model', SVC(**best_params,\n",
    "                      class_weight='balanced',\n",
    "                      random_state=12345,\n",
    "                      probability=True))\n",
    "    ])\n",
    "\n",
    "    svc_pipe_cw.fit(X_train, y_train)\n",
    "\n",
    "    pred_proba = svc_pipe_cw.predict_proba(X_test)[:, 1]\n",
    "    roc_auc_svc_cw = roc_auc_score(y_test, pred_proba)\n",
    "    \n",
    "    mlflow.log_metrics({\n",
    "        'f1_cv': best_score,\n",
    "        'roc_auc': roc_auc_svc_cw,\n",
    "        'balanced_accuracy': balanced_accuracy_score(y_test, np.round(pred_proba, 0)),\n",
    "        'f1': f1_score(y_test, np.round(pred_proba, 0))\n",
    "    })\n",
    "    \n",
    "    mlflow.sklearn.log_model(svc_pipe_cw, 'svc_pipeline_class_weight')"
   ],
   "metadata": {
    "collapsed": false,
    "ExecuteTime": {
     "end_time": "2023-12-05T13:51:10.956569600Z",
     "start_time": "2023-12-05T13:50:44.686717300Z"
    }
   }
  },
  {
   "cell_type": "markdown",
   "source": [
    "## 3.2 Генерация синтетических данных (SMOTE)\n",
    "### 3.2.1 Модель XGBoost"
   ],
   "metadata": {
    "collapsed": false
   }
  },
  {
   "cell_type": "code",
   "execution_count": 207,
   "outputs": [],
   "source": [
    "cat_pipeline = Pipeline([\n",
    "    ('enc', OneHotEncoder(handle_unknown='error', drop='first'))\n",
    "])\n",
    "\n",
    "num_pipeline = Pipeline([\n",
    "    ('imp', SimpleImputer(fill_value=-1, add_indicator=True)),\n",
    "    ('pt', PowerTransformer())\n",
    "])\n",
    "\n",
    "preprocessor = ColumnTransformer([\n",
    "    (\"cat\", cat_pipeline, categorical_features),\n",
    "    (\"num\", num_pipeline, numeric_features)\n",
    "], remainder='passthrough')"
   ],
   "metadata": {
    "collapsed": false,
    "ExecuteTime": {
     "end_time": "2023-12-05T15:47:43.984537200Z",
     "start_time": "2023-12-05T15:47:43.937535100Z"
    }
   }
  },
  {
   "cell_type": "code",
   "execution_count": 208,
   "outputs": [],
   "source": [
    "def optuna_optimize(trial):\n",
    "    param = {\n",
    "        'n_estimators': trial.suggest_int('n_estimators', 50, 500),\n",
    "        'max_depth': trial.suggest_int('max_depth', 2, 10),\n",
    "        'learning_rate': trial.suggest_float('learning_rate', 0.01, 1.0),\n",
    "        'gamma': trial.suggest_float('gamma', 0.0, 20.0),\n",
    "        'reg_lambda': trial.suggest_float('reg_lambda', 0.0, 1.0),\n",
    "        'min_child_weight': trial.suggest_float('min_child_weight', 0.0, 5.0)\n",
    "    }\n",
    "\n",
    "    estimator = xgb.XGBClassifier(**param,\n",
    "                                  random_state=12345)\n",
    "\n",
    "    xgb_pipe = Pipeline([\n",
    "        ('preprocessor', preprocessor),\n",
    "        ('smote', SMOTE(random_state=12345)),\n",
    "        ('model', estimator)\n",
    "    ])\n",
    "\n",
    "    score = cross_val_score(xgb_pipe, X_train, y_train, cv=5, scoring='f1').mean()\n",
    "    return score"
   ],
   "metadata": {
    "collapsed": false,
    "ExecuteTime": {
     "end_time": "2023-12-05T15:47:45.918393100Z",
     "start_time": "2023-12-05T15:47:45.861602400Z"
    }
   }
  },
  {
   "cell_type": "code",
   "execution_count": 209,
   "outputs": [
    {
     "name": "stderr",
     "output_type": "stream",
     "text": [
      "[I 2023-12-05 18:47:47,659] A new study created in memory with name: XGBoost Optuna Optimization SMOTE\n"
     ]
    }
   ],
   "source": [
    "study_xgb_smote = optuna.create_study(study_name=\"XGBoost Optuna Optimization SMOTE\",\n",
    "                                direction='maximize')"
   ],
   "metadata": {
    "collapsed": false,
    "ExecuteTime": {
     "end_time": "2023-12-05T15:47:47.718206Z",
     "start_time": "2023-12-05T15:47:47.659906700Z"
    }
   }
  },
  {
   "cell_type": "code",
   "execution_count": 210,
   "outputs": [
    {
     "name": "stderr",
     "output_type": "stream",
     "text": [
      "[I 2023-12-05 18:47:54,262] Trial 0 finished with value: 0.6128725518841245 and parameters: {'n_estimators': 88, 'max_depth': 5, 'learning_rate': 0.43024300059763, 'gamma': 19.410592710573567, 'reg_lambda': 0.7958391492038525, 'min_child_weight': 4.423237801635861}. Best is trial 0 with value: 0.6128725518841245.\n",
      "[I 2023-12-05 18:47:57,933] Trial 1 finished with value: 0.6119937170779335 and parameters: {'n_estimators': 306, 'max_depth': 4, 'learning_rate': 0.03575172690809551, 'gamma': 17.0080115254705, 'reg_lambda': 0.42886998662273246, 'min_child_weight': 4.814752358428065}. Best is trial 0 with value: 0.6128725518841245.\n",
      "[I 2023-12-05 18:48:01,040] Trial 2 finished with value: 0.6156782317201585 and parameters: {'n_estimators': 191, 'max_depth': 9, 'learning_rate': 0.5602956629183875, 'gamma': 18.73250037510304, 'reg_lambda': 0.2904579811914778, 'min_child_weight': 0.491523120443893}. Best is trial 2 with value: 0.6156782317201585.\n",
      "[I 2023-12-05 18:48:02,610] Trial 3 finished with value: 0.6023766062832677 and parameters: {'n_estimators': 84, 'max_depth': 10, 'learning_rate': 0.828920881437303, 'gamma': 9.724117664578486, 'reg_lambda': 0.04753881875829136, 'min_child_weight': 1.287507925911655}. Best is trial 2 with value: 0.6156782317201585.\n",
      "[I 2023-12-05 18:48:03,847] Trial 4 finished with value: 0.6034675644095728 and parameters: {'n_estimators': 59, 'max_depth': 2, 'learning_rate': 0.43769629846244734, 'gamma': 15.82685426471302, 'reg_lambda': 0.5675456739469319, 'min_child_weight': 0.8828689164045339}. Best is trial 2 with value: 0.6156782317201585.\n",
      "[I 2023-12-05 18:48:05,723] Trial 5 finished with value: 0.5977112270216339 and parameters: {'n_estimators': 362, 'max_depth': 6, 'learning_rate': 0.9366184173712401, 'gamma': 19.09399092396668, 'reg_lambda': 0.263902718232527, 'min_child_weight': 2.1961285670398807}. Best is trial 2 with value: 0.6156782317201585.\n",
      "[I 2023-12-05 18:48:07,885] Trial 6 finished with value: 0.6128610962022691 and parameters: {'n_estimators': 387, 'max_depth': 4, 'learning_rate': 0.7695877170055764, 'gamma': 5.933364442490245, 'reg_lambda': 0.11465655923024376, 'min_child_weight': 1.7196922434417627}. Best is trial 2 with value: 0.6156782317201585.\n",
      "[I 2023-12-05 18:48:15,576] Trial 7 finished with value: 0.5778391197802494 and parameters: {'n_estimators': 483, 'max_depth': 6, 'learning_rate': 0.8211956826227554, 'gamma': 1.138639533650243, 'reg_lambda': 0.09885721839108319, 'min_child_weight': 1.580242148360849}. Best is trial 2 with value: 0.6156782317201585.\n",
      "[I 2023-12-05 18:48:19,469] Trial 8 finished with value: 0.6226067001303055 and parameters: {'n_estimators': 82, 'max_depth': 6, 'learning_rate': 0.22861113706323183, 'gamma': 6.273278895937258, 'reg_lambda': 0.9739066328585178, 'min_child_weight': 2.576931735162443}. Best is trial 8 with value: 0.6226067001303055.\n",
      "[I 2023-12-05 18:48:23,315] Trial 9 finished with value: 0.6168583366468405 and parameters: {'n_estimators': 309, 'max_depth': 4, 'learning_rate': 0.09608561834811892, 'gamma': 16.990939195364557, 'reg_lambda': 0.14764972611324023, 'min_child_weight': 4.25990128814795}. Best is trial 8 with value: 0.6226067001303055.\n",
      "[I 2023-12-05 18:48:27,587] Trial 10 finished with value: 0.5768320280228307 and parameters: {'n_estimators': 172, 'max_depth': 8, 'learning_rate': 0.24294757028254582, 'gamma': 0.12233501010133985, 'reg_lambda': 0.998185119800968, 'min_child_weight': 3.0890951050523214}. Best is trial 8 with value: 0.6226067001303055.\n",
      "[I 2023-12-05 18:48:29,826] Trial 11 finished with value: 0.5929930324651844 and parameters: {'n_estimators': 224, 'max_depth': 2, 'learning_rate': 0.01530275555909194, 'gamma': 13.799190658429541, 'reg_lambda': 0.6443384076897686, 'min_child_weight': 3.4859937015753255}. Best is trial 8 with value: 0.6226067001303055.\n",
      "[I 2023-12-05 18:48:32,198] Trial 12 finished with value: 0.6168284227199891 and parameters: {'n_estimators': 287, 'max_depth': 7, 'learning_rate': 0.19600766381131435, 'gamma': 12.072552234245167, 'reg_lambda': 0.760522054219755, 'min_child_weight': 3.0733771189918513}. Best is trial 8 with value: 0.6226067001303055.\n",
      "[I 2023-12-05 18:48:35,085] Trial 13 finished with value: 0.6164362186578938 and parameters: {'n_estimators': 402, 'max_depth': 4, 'learning_rate': 0.21835165056365133, 'gamma': 8.403490831234247, 'reg_lambda': 0.42279973751582395, 'min_child_weight': 3.8939057356918223}. Best is trial 8 with value: 0.6226067001303055.\n",
      "[I 2023-12-05 18:48:37,320] Trial 14 finished with value: 0.6149601565831709 and parameters: {'n_estimators': 238, 'max_depth': 3, 'learning_rate': 0.13789332427493306, 'gamma': 13.22914526285948, 'reg_lambda': 0.9952822938737537, 'min_child_weight': 2.5035676939588476}. Best is trial 8 with value: 0.6226067001303055.\n",
      "[I 2023-12-05 18:48:38,838] Trial 15 finished with value: 0.618416189230097 and parameters: {'n_estimators': 135, 'max_depth': 7, 'learning_rate': 0.3144800380149017, 'gamma': 6.387752765540993, 'reg_lambda': 0.24077044879416776, 'min_child_weight': 4.122507907719887}. Best is trial 8 with value: 0.6226067001303055.\n",
      "[I 2023-12-05 18:48:40,333] Trial 16 finished with value: 0.6145198447223352 and parameters: {'n_estimators': 132, 'max_depth': 7, 'learning_rate': 0.33793452239689026, 'gamma': 5.658563344845485, 'reg_lambda': 0.28944115013312716, 'min_child_weight': 4.9043039100149555}. Best is trial 8 with value: 0.6226067001303055.\n",
      "[I 2023-12-05 18:48:41,933] Trial 17 finished with value: 0.5993110533961222 and parameters: {'n_estimators': 117, 'max_depth': 8, 'learning_rate': 0.28319704341645624, 'gamma': 3.7501414750659725, 'reg_lambda': 0.007374753210503182, 'min_child_weight': 3.7443883828502704}. Best is trial 8 with value: 0.6226067001303055.\n",
      "[I 2023-12-05 18:48:43,425] Trial 18 finished with value: 0.6160465423599107 and parameters: {'n_estimators': 151, 'max_depth': 7, 'learning_rate': 0.3547377482161121, 'gamma': 7.480636072921265, 'reg_lambda': 0.47761563204561747, 'min_child_weight': 2.4641803272669476}. Best is trial 8 with value: 0.6226067001303055.\n",
      "[I 2023-12-05 18:48:44,978] Trial 19 finished with value: 0.6230944027357965 and parameters: {'n_estimators': 216, 'max_depth': 5, 'learning_rate': 0.5302013222877904, 'gamma': 11.075966082088481, 'reg_lambda': 0.9029402417740302, 'min_child_weight': 3.177100670249362}. Best is trial 19 with value: 0.6230944027357965.\n",
      "[I 2023-12-05 18:48:46,663] Trial 20 finished with value: 0.6102376403051087 and parameters: {'n_estimators': 246, 'max_depth': 5, 'learning_rate': 0.5547468408942473, 'gamma': 10.3388595050884, 'reg_lambda': 0.8606561661500489, 'min_child_weight': 0.1647441468447326}. Best is trial 19 with value: 0.6230944027357965.\n",
      "[I 2023-12-05 18:48:48,160] Trial 21 finished with value: 0.6187026151247964 and parameters: {'n_estimators': 192, 'max_depth': 5, 'learning_rate': 0.4982286787358214, 'gamma': 9.82884173058518, 'reg_lambda': 0.9017301444465533, 'min_child_weight': 3.347602391632382}. Best is trial 19 with value: 0.6230944027357965.\n",
      "[I 2023-12-05 18:48:49,646] Trial 22 finished with value: 0.6132680915703306 and parameters: {'n_estimators': 193, 'max_depth': 5, 'learning_rate': 0.6340154762481869, 'gamma': 10.107845324637212, 'reg_lambda': 0.922097799461591, 'min_child_weight': 3.0637558121922073}. Best is trial 19 with value: 0.6230944027357965.\n",
      "[I 2023-12-05 18:48:51,448] Trial 23 finished with value: 0.6215688553065221 and parameters: {'n_estimators': 228, 'max_depth': 5, 'learning_rate': 0.4522273894791385, 'gamma': 11.406395900256603, 'reg_lambda': 0.8878503741596767, 'min_child_weight': 3.4582827214465857}. Best is trial 19 with value: 0.6230944027357965.\n",
      "[I 2023-12-05 18:48:53,586] Trial 24 finished with value: 0.6146184303386801 and parameters: {'n_estimators': 347, 'max_depth': 6, 'learning_rate': 0.39679895178275915, 'gamma': 11.26835267477939, 'reg_lambda': 0.7253847297506812, 'min_child_weight': 2.713627101177204}. Best is trial 19 with value: 0.6230944027357965.\n",
      "[I 2023-12-05 18:48:55,233] Trial 25 finished with value: 0.6116064892666548 and parameters: {'n_estimators': 262, 'max_depth': 3, 'learning_rate': 0.6399400729775333, 'gamma': 8.325891317035532, 'reg_lambda': 0.8281521316799465, 'min_child_weight': 3.6082702288247024}. Best is trial 19 with value: 0.6230944027357965.\n",
      "[I 2023-12-05 18:48:56,778] Trial 26 finished with value: 0.6159730903805497 and parameters: {'n_estimators': 215, 'max_depth': 6, 'learning_rate': 0.45937495378714444, 'gamma': 12.353429265238532, 'reg_lambda': 0.9280676042007627, 'min_child_weight': 2.792113431668726}. Best is trial 19 with value: 0.6230944027357965.\n",
      "[I 2023-12-05 18:48:58,861] Trial 27 finished with value: 0.6102847618338684 and parameters: {'n_estimators': 455, 'max_depth': 3, 'learning_rate': 0.3758345959853616, 'gamma': 14.36688506017661, 'reg_lambda': 0.7444643866437692, 'min_child_weight': 2.320782774811519}. Best is trial 19 with value: 0.6230944027357965.\n",
      "[I 2023-12-05 18:49:00,082] Trial 28 finished with value: 0.6175208201762019 and parameters: {'n_estimators': 52, 'max_depth': 5, 'learning_rate': 0.2895668513182441, 'gamma': 11.505358838533478, 'reg_lambda': 0.8901677939160858, 'min_child_weight': 3.3068423436714975}. Best is trial 19 with value: 0.6230944027357965.\n",
      "[I 2023-12-05 18:49:01,493] Trial 29 finished with value: 0.615699877253989 and parameters: {'n_estimators': 104, 'max_depth': 8, 'learning_rate': 0.4463584852069049, 'gamma': 8.75985319082323, 'reg_lambda': 0.7816624129084269, 'min_child_weight': 3.9761314930832303}. Best is trial 19 with value: 0.6230944027357965.\n",
      "[I 2023-12-05 18:49:02,947] Trial 30 finished with value: 0.6162026838827789 and parameters: {'n_estimators': 168, 'max_depth': 5, 'learning_rate': 0.39894025905272623, 'gamma': 4.556988075759406, 'reg_lambda': 0.8389495394548019, 'min_child_weight': 2.0935028226579613}. Best is trial 19 with value: 0.6230944027357965.\n",
      "[I 2023-12-05 18:49:04,536] Trial 31 finished with value: 0.6126361719863038 and parameters: {'n_estimators': 271, 'max_depth': 5, 'learning_rate': 0.5508601001342791, 'gamma': 9.720252863465287, 'reg_lambda': 0.9364577744612066, 'min_child_weight': 3.407049018003758}. Best is trial 19 with value: 0.6230944027357965.\n",
      "[I 2023-12-05 18:49:06,006] Trial 32 finished with value: 0.617132990281694 and parameters: {'n_estimators': 199, 'max_depth': 6, 'learning_rate': 0.4719551597037258, 'gamma': 10.763554561918763, 'reg_lambda': 0.8594620011147703, 'min_child_weight': 3.6996455325446367}. Best is trial 19 with value: 0.6230944027357965.\n",
      "[I 2023-12-05 18:49:07,684] Trial 33 finished with value: 0.6140288030724799 and parameters: {'n_estimators': 314, 'max_depth': 4, 'learning_rate': 0.5097296244130276, 'gamma': 12.988253889749853, 'reg_lambda': 0.9568944529210803, 'min_child_weight': 4.334486054731777}. Best is trial 19 with value: 0.6230944027357965.\n",
      "[I 2023-12-05 18:49:08,889] Trial 34 finished with value: 0.6185080183000984 and parameters: {'n_estimators': 81, 'max_depth': 6, 'learning_rate': 0.5138014167956608, 'gamma': 11.338237274800846, 'reg_lambda': 0.8985538950926755, 'min_child_weight': 2.8187869307398663}. Best is trial 19 with value: 0.6230944027357965.\n",
      "[I 2023-12-05 18:49:10,463] Trial 35 finished with value: 0.6152167139423341 and parameters: {'n_estimators': 210, 'max_depth': 5, 'learning_rate': 0.5949720018369925, 'gamma': 14.531568578602652, 'reg_lambda': 0.8231305072795562, 'min_child_weight': 4.518033520618937}. Best is trial 19 with value: 0.6230944027357965.\n",
      "[I 2023-12-05 18:49:12,033] Trial 36 finished with value: 0.616071011746241 and parameters: {'n_estimators': 159, 'max_depth': 4, 'learning_rate': 0.39051652882391985, 'gamma': 9.765011815012661, 'reg_lambda': 0.685506080639362, 'min_child_weight': 3.257392234820136}. Best is trial 19 with value: 0.6230944027357965.\n",
      "[I 2023-12-05 18:49:13,941] Trial 37 finished with value: 0.6083947239487651 and parameters: {'n_estimators': 181, 'max_depth': 10, 'learning_rate': 0.6775039579465444, 'gamma': 12.547636099043947, 'reg_lambda': 0.8034143234325996, 'min_child_weight': 3.534076771022987}. Best is trial 19 with value: 0.6230944027357965.\n",
      "[I 2023-12-05 18:49:15,265] Trial 38 finished with value: 0.6101882385917029 and parameters: {'n_estimators': 84, 'max_depth': 3, 'learning_rate': 0.48235487368756064, 'gamma': 7.229520964891946, 'reg_lambda': 0.8707914440302841, 'min_child_weight': 3.9158900879428127}. Best is trial 19 with value: 0.6230944027357965.\n",
      "[I 2023-12-05 18:49:19,633] Trial 39 finished with value: 0.6170218312116553 and parameters: {'n_estimators': 331, 'max_depth': 6, 'learning_rate': 0.5139777091859978, 'gamma': 8.62592705953178, 'reg_lambda': 0.969497270288462, 'min_child_weight': 1.9465982561951995}. Best is trial 19 with value: 0.6230944027357965.\n",
      "[I 2023-12-05 18:49:22,915] Trial 40 finished with value: 0.6109690031753658 and parameters: {'n_estimators': 247, 'max_depth': 5, 'learning_rate': 0.6902150477974056, 'gamma': 15.543680690298117, 'reg_lambda': 0.9174979559067372, 'min_child_weight': 2.8729182821814168}. Best is trial 19 with value: 0.6230944027357965.\n",
      "[I 2023-12-05 18:49:24,476] Trial 41 finished with value: 0.6118977346968275 and parameters: {'n_estimators': 81, 'max_depth': 6, 'learning_rate': 0.43707304824608967, 'gamma': 12.114863224533488, 'reg_lambda': 0.8920224196214304, 'min_child_weight': 2.5986790224692067}. Best is trial 19 with value: 0.6230944027357965.\n",
      "[I 2023-12-05 18:49:26,189] Trial 42 finished with value: 0.6119400164033865 and parameters: {'n_estimators': 108, 'max_depth': 7, 'learning_rate': 0.5174656954539808, 'gamma': 11.040732944981471, 'reg_lambda': 0.9986034668717384, 'min_child_weight': 2.8808650254795225}. Best is trial 19 with value: 0.6230944027357965.\n",
      "[I 2023-12-05 18:49:27,770] Trial 43 finished with value: 0.6085675235766461 and parameters: {'n_estimators': 135, 'max_depth': 6, 'learning_rate': 0.5897041421019542, 'gamma': 11.552540001746534, 'reg_lambda': 0.7990308142840824, 'min_child_weight': 3.146174117905768}. Best is trial 19 with value: 0.6230944027357965.\n",
      "[I 2023-12-05 18:49:29,057] Trial 44 finished with value: 0.6225028748960044 and parameters: {'n_estimators': 88, 'max_depth': 5, 'learning_rate': 0.4271910693199976, 'gamma': 9.51810772668978, 'reg_lambda': 0.9542150003608422, 'min_child_weight': 3.366622366221659}. Best is trial 19 with value: 0.6230944027357965.\n",
      "[I 2023-12-05 18:49:30,448] Trial 45 finished with value: 0.6176876342997207 and parameters: {'n_estimators': 64, 'max_depth': 4, 'learning_rate': 0.4273641991794838, 'gamma': 9.51607952645281, 'reg_lambda': 0.969288207563212, 'min_child_weight': 3.40779818740912}. Best is trial 19 with value: 0.6230944027357965.\n",
      "[I 2023-12-05 18:49:32,316] Trial 46 finished with value: 0.613767296116175 and parameters: {'n_estimators': 296, 'max_depth': 5, 'learning_rate': 0.3443070251745908, 'gamma': 9.265553958291008, 'reg_lambda': 0.9356728229241051, 'min_child_weight': 2.9769105940752554}. Best is trial 19 with value: 0.6230944027357965.\n",
      "[I 2023-12-05 18:49:34,029] Trial 47 finished with value: 0.6179354579100913 and parameters: {'n_estimators': 232, 'max_depth': 4, 'learning_rate': 0.257142690087913, 'gamma': 10.459096185684878, 'reg_lambda': 0.8674310897956152, 'min_child_weight': 3.1023862657909675}. Best is trial 19 with value: 0.6230944027357965.\n",
      "[I 2023-12-05 18:49:35,647] Trial 48 finished with value: 0.6106505487857575 and parameters: {'n_estimators': 153, 'max_depth': 4, 'learning_rate': 0.15880538432682229, 'gamma': 7.612438689599648, 'reg_lambda': 0.7767491853263905, 'min_child_weight': 3.2719697603052857}. Best is trial 19 with value: 0.6230944027357965.\n",
      "[I 2023-12-05 18:49:37,616] Trial 49 finished with value: 0.6180149246035236 and parameters: {'n_estimators': 121, 'max_depth': 5, 'learning_rate': 0.08145664151822793, 'gamma': 13.361454578031282, 'reg_lambda': 0.9650972303979999, 'min_child_weight': 3.6359197747613203}. Best is trial 19 with value: 0.6230944027357965.\n",
      "[I 2023-12-05 18:49:39,352] Trial 50 finished with value: 0.6177607784665338 and parameters: {'n_estimators': 259, 'max_depth': 7, 'learning_rate': 0.2935942535944341, 'gamma': 10.582644876805931, 'reg_lambda': 0.6382731043899441, 'min_child_weight': 2.619870977137976}. Best is trial 19 with value: 0.6230944027357965.\n",
      "[I 2023-12-05 18:49:40,570] Trial 51 finished with value: 0.6157720902425154 and parameters: {'n_estimators': 77, 'max_depth': 6, 'learning_rate': 0.49574994024823166, 'gamma': 11.824750657179187, 'reg_lambda': 0.8949034047046366, 'min_child_weight': 2.853498729909215}. Best is trial 19 with value: 0.6230944027357965.\n",
      "[I 2023-12-05 18:49:41,933] Trial 52 finished with value: 0.6195864379296108 and parameters: {'n_estimators': 66, 'max_depth': 5, 'learning_rate': 0.41756877167257045, 'gamma': 9.033113886379748, 'reg_lambda': 0.9068339780519236, 'min_child_weight': 2.4026942174250343}. Best is trial 19 with value: 0.6230944027357965.\n",
      "[I 2023-12-05 18:49:43,504] Trial 53 finished with value: 0.6222342470372197 and parameters: {'n_estimators': 61, 'max_depth': 5, 'learning_rate': 0.3406613817055344, 'gamma': 9.135476514189632, 'reg_lambda': 0.9984707627777765, 'min_child_weight': 2.5231115915825946}. Best is trial 19 with value: 0.6230944027357965.\n",
      "[I 2023-12-05 18:49:45,999] Trial 54 finished with value: 0.6155751473352244 and parameters: {'n_estimators': 97, 'max_depth': 5, 'learning_rate': 0.33633274423443954, 'gamma': 8.954183051774866, 'reg_lambda': 0.9979780897546223, 'min_child_weight': 2.423794576848663}. Best is trial 19 with value: 0.6230944027357965.\n",
      "[I 2023-12-05 18:49:47,778] Trial 55 finished with value: 0.6258468798340906 and parameters: {'n_estimators': 65, 'max_depth': 5, 'learning_rate': 0.24217161505037205, 'gamma': 6.590593646950983, 'reg_lambda': 0.9453934112224349, 'min_child_weight': 2.2700762875626195}. Best is trial 55 with value: 0.6258468798340906.\n",
      "[I 2023-12-05 18:49:49,353] Trial 56 finished with value: 0.6124324051575056 and parameters: {'n_estimators': 54, 'max_depth': 4, 'learning_rate': 0.2288364733797617, 'gamma': 7.963738458473412, 'reg_lambda': 0.9507349761151348, 'min_child_weight': 2.1877859019392023}. Best is trial 55 with value: 0.6258468798340906.\n",
      "[I 2023-12-05 18:49:51,169] Trial 57 finished with value: 0.6233243276365312 and parameters: {'n_estimators': 134, 'max_depth': 6, 'learning_rate': 0.2503263200051089, 'gamma': 6.557731790826917, 'reg_lambda': 0.8459779807301021, 'min_child_weight': 2.6071361339406716}. Best is trial 55 with value: 0.6258468798340906.\n",
      "[I 2023-12-05 18:49:52,792] Trial 58 finished with value: 0.6215385698811052 and parameters: {'n_estimators': 125, 'max_depth': 7, 'learning_rate': 0.18770656681550393, 'gamma': 6.28651639780593, 'reg_lambda': 0.8257955520391733, 'min_child_weight': 2.5822519212785533}. Best is trial 55 with value: 0.6258468798340906.\n",
      "[I 2023-12-05 18:49:54,664] Trial 59 finished with value: 0.6172766730801484 and parameters: {'n_estimators': 93, 'max_depth': 6, 'learning_rate': 0.22902810891212558, 'gamma': 6.966351102217464, 'reg_lambda': 0.9670596604516966, 'min_child_weight': 1.9801074627230424}. Best is trial 55 with value: 0.6258468798340906.\n",
      "[I 2023-12-05 18:49:56,317] Trial 60 finished with value: 0.6175045035173444 and parameters: {'n_estimators': 141, 'max_depth': 8, 'learning_rate': 0.3025152225744692, 'gamma': 5.112611452914757, 'reg_lambda': 0.8458082637567006, 'min_child_weight': 2.223007609656485}. Best is trial 55 with value: 0.6258468798340906.\n",
      "[I 2023-12-05 18:49:57,809] Trial 61 finished with value: 0.6184215559122518 and parameters: {'n_estimators': 108, 'max_depth': 6, 'learning_rate': 0.2625295001966369, 'gamma': 6.730510482842984, 'reg_lambda': 0.9194411318439026, 'min_child_weight': 2.7088793235952773}. Best is trial 55 with value: 0.6258468798340906.\n",
      "[I 2023-12-05 18:49:59,138] Trial 62 finished with value: 0.6209120235077673 and parameters: {'n_estimators': 69, 'max_depth': 5, 'learning_rate': 0.3674429138912873, 'gamma': 7.983787851356587, 'reg_lambda': 0.998757053098481, 'min_child_weight': 2.428889766188477}. Best is trial 55 with value: 0.6258468798340906.\n",
      "[I 2023-12-05 18:50:00,543] Trial 63 finished with value: 0.6112805175613949 and parameters: {'n_estimators': 97, 'max_depth': 4, 'learning_rate': 0.3176163639193561, 'gamma': 5.84971283522265, 'reg_lambda': 0.8781380359312837, 'min_child_weight': 3.008514890953315}. Best is trial 55 with value: 0.6258468798340906.\n",
      "[I 2023-12-05 18:50:01,876] Trial 64 finished with value: 0.6147368316226014 and parameters: {'n_estimators': 50, 'max_depth': 5, 'learning_rate': 0.19293623093729198, 'gamma': 7.108898101672667, 'reg_lambda': 0.9401043039651477, 'min_child_weight': 1.6146923563247102}. Best is trial 55 with value: 0.6258468798340906.\n",
      "[I 2023-12-05 18:50:03,288] Trial 65 finished with value: 0.6209010397729394 and parameters: {'n_estimators': 115, 'max_depth': 6, 'learning_rate': 0.36213532480044175, 'gamma': 8.279465290929943, 'reg_lambda': 0.8590694812984232, 'min_child_weight': 2.64739882887246}. Best is trial 55 with value: 0.6258468798340906.\n",
      "[I 2023-12-05 18:50:05,038] Trial 66 finished with value: 0.6176016552469001 and parameters: {'n_estimators': 178, 'max_depth': 5, 'learning_rate': 0.26347675540094817, 'gamma': 6.253872585816433, 'reg_lambda': 0.9408903240837574, 'min_child_weight': 2.295273344388612}. Best is trial 55 with value: 0.6258468798340906.\n",
      "[I 2023-12-05 18:50:06,584] Trial 67 finished with value: 0.6195105297808503 and parameters: {'n_estimators': 72, 'max_depth': 6, 'learning_rate': 0.32419102031446645, 'gamma': 7.531073128926635, 'reg_lambda': 0.8110133541758149, 'min_child_weight': 3.166863107209155}. Best is trial 55 with value: 0.6258468798340906.\n",
      "[I 2023-12-05 18:50:08,591] Trial 68 finished with value: 0.6177207210824038 and parameters: {'n_estimators': 145, 'max_depth': 7, 'learning_rate': 0.39992893988407807, 'gamma': 9.982430535994585, 'reg_lambda': 0.9715818565832103, 'min_child_weight': 3.5065688862838953}. Best is trial 55 with value: 0.6258468798340906.\n",
      "[I 2023-12-05 18:50:10,498] Trial 69 finished with value: 0.6172128274545192 and parameters: {'n_estimators': 91, 'max_depth': 4, 'learning_rate': 0.2800130990529137, 'gamma': 5.310143172560478, 'reg_lambda': 0.9112697142233536, 'min_child_weight': 2.733544985430763}. Best is trial 55 with value: 0.6258468798340906.\n",
      "[I 2023-12-05 18:50:12,454] Trial 70 finished with value: 0.6073867204823956 and parameters: {'n_estimators': 211, 'max_depth': 5, 'learning_rate': 0.44590937352794524, 'gamma': 3.8704414354354872, 'reg_lambda': 0.7614233396421989, 'min_child_weight': 3.1975727704878496}. Best is trial 55 with value: 0.6258468798340906.\n",
      "[I 2023-12-05 18:50:15,280] Trial 71 finished with value: 0.6133469855890226 and parameters: {'n_estimators': 116, 'max_depth': 7, 'learning_rate': 0.2096400803631895, 'gamma': 6.38351109317475, 'reg_lambda': 0.846499618973563, 'min_child_weight': 2.990227059422464}. Best is trial 55 with value: 0.6258468798340906.\n",
      "[I 2023-12-05 18:50:17,828] Trial 72 finished with value: 0.6171656424649266 and parameters: {'n_estimators': 121, 'max_depth': 7, 'learning_rate': 0.1498948592475936, 'gamma': 6.718086613414889, 'reg_lambda': 0.8233551418894868, 'min_child_weight': 2.535796997739992}. Best is trial 55 with value: 0.6258468798340906.\n",
      "[I 2023-12-05 18:50:20,257] Trial 73 finished with value: 0.6191409419661082 and parameters: {'n_estimators': 165, 'max_depth': 6, 'learning_rate': 0.18702348623420587, 'gamma': 5.639020688482721, 'reg_lambda': 0.8904467505661063, 'min_child_weight': 2.543703245281878}. Best is trial 55 with value: 0.6258468798340906.\n",
      "[I 2023-12-05 18:50:22,151] Trial 74 finished with value: 0.6164936252284586 and parameters: {'n_estimators': 127, 'max_depth': 8, 'learning_rate': 0.25772306535108624, 'gamma': 8.346994674886052, 'reg_lambda': 0.9282077596892463, 'min_child_weight': 2.32121826592031}. Best is trial 55 with value: 0.6258468798340906.\n",
      "[I 2023-12-05 18:50:24,188] Trial 75 finished with value: 0.6191913404720056 and parameters: {'n_estimators': 60, 'max_depth': 9, 'learning_rate': 0.17631679114672802, 'gamma': 10.838367432348894, 'reg_lambda': 0.840222285751916, 'min_child_weight': 2.7153792143418842}. Best is trial 55 with value: 0.6258468798340906.\n",
      "[I 2023-12-05 18:50:25,882] Trial 76 finished with value: 0.6204409156162336 and parameters: {'n_estimators': 224, 'max_depth': 6, 'learning_rate': 0.2350473901270387, 'gamma': 9.218794968045879, 'reg_lambda': 0.8761168574432269, 'min_child_weight': 3.4056998274524455}. Best is trial 55 with value: 0.6258468798340906.\n",
      "[I 2023-12-05 18:50:27,355] Trial 77 finished with value: 0.6199471555794687 and parameters: {'n_estimators': 101, 'max_depth': 5, 'learning_rate': 0.20993448266801884, 'gamma': 7.791953996536282, 'reg_lambda': 0.9727921029659545, 'min_child_weight': 2.1030258173531093}. Best is trial 55 with value: 0.6258468798340906.\n",
      "[I 2023-12-05 18:50:28,780] Trial 78 finished with value: 0.6182792047728355 and parameters: {'n_estimators': 87, 'max_depth': 5, 'learning_rate': 0.46715953265299776, 'gamma': 10.054291782996287, 'reg_lambda': 0.7997690596212983, 'min_child_weight': 2.9705570219962336}. Best is trial 55 with value: 0.6258468798340906.\n",
      "[I 2023-12-05 18:50:30,793] Trial 79 finished with value: 0.616934726672498 and parameters: {'n_estimators': 281, 'max_depth': 7, 'learning_rate': 0.1254760374173455, 'gamma': 6.261037572181404, 'reg_lambda': 0.9465659672190504, 'min_child_weight': 3.785721463053807}. Best is trial 55 with value: 0.6258468798340906.\n",
      "[I 2023-12-05 18:50:32,570] Trial 80 finished with value: 0.6106654215062979 and parameters: {'n_estimators': 187, 'max_depth': 6, 'learning_rate': 0.34940317081099104, 'gamma': 8.60601032293138, 'reg_lambda': 0.9103185464913324, 'min_child_weight': 2.8287761676572347}. Best is trial 55 with value: 0.6258468798340906.\n",
      "[I 2023-12-05 18:50:34,310] Trial 81 finished with value: 0.6112009509307412 and parameters: {'n_estimators': 71, 'max_depth': 5, 'learning_rate': 0.3861472587646153, 'gamma': 7.961640141445888, 'reg_lambda': 0.9939597434848698, 'min_child_weight': 2.464261129749129}. Best is trial 55 with value: 0.6258468798340906.\n",
      "[I 2023-12-05 18:50:36,412] Trial 82 finished with value: 0.6216708426047821 and parameters: {'n_estimators': 72, 'max_depth': 5, 'learning_rate': 0.3674473551017886, 'gamma': 7.074813807137427, 'reg_lambda': 0.9983583712203576, 'min_child_weight': 2.3840711556758647}. Best is trial 55 with value: 0.6258468798340906.\n",
      "[I 2023-12-05 18:50:39,066] Trial 83 finished with value: 0.612566582611086 and parameters: {'n_estimators': 81, 'max_depth': 4, 'learning_rate': 0.3121862536254564, 'gamma': 7.329583808249772, 'reg_lambda': 0.9467302938242492, 'min_child_weight': 2.582013727774853}. Best is trial 55 with value: 0.6258468798340906.\n",
      "[I 2023-12-05 18:50:40,560] Trial 84 finished with value: 0.6228020816389646 and parameters: {'n_estimators': 135, 'max_depth': 5, 'learning_rate': 0.4120055254106849, 'gamma': 7.0682776260941225, 'reg_lambda': 0.8849081586583252, 'min_child_weight': 1.838866446471415}. Best is trial 55 with value: 0.6258468798340906.\n",
      "[I 2023-12-05 18:50:41,873] Trial 85 finished with value: 0.6148228691205563 and parameters: {'n_estimators': 58, 'max_depth': 5, 'learning_rate': 0.42104781376840683, 'gamma': 9.263317751458672, 'reg_lambda': 0.9807549721249853, 'min_child_weight': 1.9495811375947036}. Best is trial 55 with value: 0.6258468798340906.\n",
      "[I 2023-12-05 18:50:43,436] Trial 86 finished with value: 0.6186003699976738 and parameters: {'n_estimators': 200, 'max_depth': 5, 'learning_rate': 0.3730015379968282, 'gamma': 6.930444408937, 'reg_lambda': 0.925428022403485, 'min_child_weight': 2.0899660531476116}. Best is trial 55 with value: 0.6258468798340906.\n",
      "[I 2023-12-05 18:50:45,331] Trial 87 finished with value: 0.6157456623440307 and parameters: {'n_estimators': 102, 'max_depth': 5, 'learning_rate': 0.45187505460632454, 'gamma': 10.43781776403281, 'reg_lambda': 0.8813555251145897, 'min_child_weight': 1.8101680542699492}. Best is trial 55 with value: 0.6258468798340906.\n",
      "[I 2023-12-05 18:50:48,370] Trial 88 finished with value: 0.611347389001068 and parameters: {'n_estimators': 382, 'max_depth': 4, 'learning_rate': 0.3988484365588748, 'gamma': 8.773451984557973, 'reg_lambda': 0.9587200580663875, 'min_child_weight': 1.4231904408750862}. Best is trial 55 with value: 0.6258468798340906.\n",
      "[I 2023-12-05 18:50:50,807] Trial 89 finished with value: 0.6172814045147692 and parameters: {'n_estimators': 75, 'max_depth': 6, 'learning_rate': 0.33805959210101266, 'gamma': 10.938698231720533, 'reg_lambda': 0.9058958826817843, 'min_child_weight': 3.331576611853187}. Best is trial 55 with value: 0.6258468798340906.\n",
      "[I 2023-12-05 18:50:53,111] Trial 90 finished with value: 0.618561611465682 and parameters: {'n_estimators': 426, 'max_depth': 5, 'learning_rate': 0.28456688874157265, 'gamma': 9.45439106158507, 'reg_lambda': 0.9806988070048955, 'min_child_weight': 2.2902137907469426}. Best is trial 55 with value: 0.6258468798340906.\n",
      "[I 2023-12-05 18:50:54,621] Trial 91 finished with value: 0.616236176567215 and parameters: {'n_estimators': 133, 'max_depth': 5, 'learning_rate': 0.4206957336958563, 'gamma': 6.5806818911824, 'reg_lambda': 0.8555196032057863, 'min_child_weight': 2.670684478846169}. Best is trial 55 with value: 0.6258468798340906.\n",
      "[I 2023-12-05 18:50:56,125] Trial 92 finished with value: 0.6147101133029013 and parameters: {'n_estimators': 152, 'max_depth': 6, 'learning_rate': 0.4669060289732305, 'gamma': 6.013541177196741, 'reg_lambda': 0.8274262344499123, 'min_child_weight': 2.440529718823747}. Best is trial 55 with value: 0.6258468798340906.\n",
      "[I 2023-12-05 18:50:57,579] Trial 93 finished with value: 0.6136030628386193 and parameters: {'n_estimators': 91, 'max_depth': 5, 'learning_rate': 0.3181937789858682, 'gamma': 7.154832066070539, 'reg_lambda': 0.9458165522184022, 'min_child_weight': 2.1873832742750365}. Best is trial 55 with value: 0.6258468798340906.\n",
      "[I 2023-12-05 18:50:59,211] Trial 94 finished with value: 0.6205246742249718 and parameters: {'n_estimators': 113, 'max_depth': 6, 'learning_rate': 0.36585810380897255, 'gamma': 5.592341744608969, 'reg_lambda': 0.884209705416121, 'min_child_weight': 3.0916055630932755}. Best is trial 55 with value: 0.6258468798340906.\n",
      "[I 2023-12-05 18:51:01,063] Trial 95 finished with value: 0.6138361971561942 and parameters: {'n_estimators': 173, 'max_depth': 4, 'learning_rate': 0.4919511888547238, 'gamma': 7.621512289241627, 'reg_lambda': 0.9159611392538566, 'min_child_weight': 2.791326630086429}. Best is trial 55 with value: 0.6258468798340906.\n",
      "[I 2023-12-05 18:51:02,737] Trial 96 finished with value: 0.6206392616006412 and parameters: {'n_estimators': 130, 'max_depth': 5, 'learning_rate': 0.24234240200254764, 'gamma': 5.055108102062207, 'reg_lambda': 0.9814256289929745, 'min_child_weight': 2.933154053324756}. Best is trial 55 with value: 0.6258468798340906.\n",
      "[I 2023-12-05 18:51:04,989] Trial 97 finished with value: 0.6247341771232502 and parameters: {'n_estimators': 245, 'max_depth': 5, 'learning_rate': 0.21456189827667088, 'gamma': 6.610299249758992, 'reg_lambda': 0.8621716853805486, 'min_child_weight': 2.5185572284494264}. Best is trial 55 with value: 0.6258468798340906.\n",
      "[I 2023-12-05 18:51:06,777] Trial 98 finished with value: 0.622571216173893 and parameters: {'n_estimators': 245, 'max_depth': 5, 'learning_rate': 0.20923637529472794, 'gamma': 8.33585355212666, 'reg_lambda': 0.9611794716286778, 'min_child_weight': 2.5041984920595626}. Best is trial 55 with value: 0.6258468798340906.\n",
      "[I 2023-12-05 18:51:08,532] Trial 99 finished with value: 0.6168364402403069 and parameters: {'n_estimators': 243, 'max_depth': 5, 'learning_rate': 0.2943040296998567, 'gamma': 8.253970034582855, 'reg_lambda': 0.9560820761105984, 'min_child_weight': 2.3525808103016455}. Best is trial 55 with value: 0.6258468798340906.\n",
      "[I 2023-12-05 18:51:10,681] Trial 100 finished with value: 0.609135960367879 and parameters: {'n_estimators': 255, 'max_depth': 4, 'learning_rate': 0.21368536956803452, 'gamma': 7.307946557593072, 'reg_lambda': 0.9250554319079806, 'min_child_weight': 2.5113192144964285}. Best is trial 55 with value: 0.6258468798340906.\n",
      "[I 2023-12-05 18:51:13,059] Trial 101 finished with value: 0.6198980027664568 and parameters: {'n_estimators': 219, 'max_depth': 5, 'learning_rate': 0.2394009754619287, 'gamma': 6.664182582891255, 'reg_lambda': 0.8677059608685219, 'min_child_weight': 2.7701484262944343}. Best is trial 55 with value: 0.6258468798340906.\n",
      "[I 2023-12-05 18:51:15,465] Trial 102 finished with value: 0.6262153573266458 and parameters: {'n_estimators': 231, 'max_depth': 5, 'learning_rate': 0.2829205179524768, 'gamma': 8.889185668188777, 'reg_lambda': 0.8976134272177578, 'min_child_weight': 2.3698120775678873}. Best is trial 102 with value: 0.6262153573266458.\n",
      "[I 2023-12-05 18:51:17,201] Trial 103 finished with value: 0.6220299550992661 and parameters: {'n_estimators': 234, 'max_depth': 5, 'learning_rate': 0.27092853176001247, 'gamma': 8.87005529743807, 'reg_lambda': 0.998328665099965, 'min_child_weight': 2.367067357148289}. Best is trial 102 with value: 0.6262153573266458.\n",
      "[I 2023-12-05 18:51:18,887] Trial 104 finished with value: 0.6075495676354115 and parameters: {'n_estimators': 230, 'max_depth': 4, 'learning_rate': 0.2706328940577926, 'gamma': 8.665382304876921, 'reg_lambda': 0.9538339944747755, 'min_child_weight': 2.271648414575889}. Best is trial 102 with value: 0.6262153573266458.\n",
      "[I 2023-12-05 18:51:20,882] Trial 105 finished with value: 0.6218996067655206 and parameters: {'n_estimators': 252, 'max_depth': 6, 'learning_rate': 0.2506346968957772, 'gamma': 9.493512009868315, 'reg_lambda': 0.9308889188607292, 'min_child_weight': 2.6170062356953574}. Best is trial 102 with value: 0.6262153573266458.\n",
      "[I 2023-12-05 18:51:22,742] Trial 106 finished with value: 0.6235937880340575 and parameters: {'n_estimators': 262, 'max_depth': 5, 'learning_rate': 0.27556163582100446, 'gamma': 9.007499960055725, 'reg_lambda': 0.8978915088191437, 'min_child_weight': 2.4984565946446797}. Best is trial 102 with value: 0.6262153573266458.\n",
      "[I 2023-12-05 18:51:25,082] Trial 107 finished with value: 0.6221853512244638 and parameters: {'n_estimators': 266, 'max_depth': 5, 'learning_rate': 0.2092056512950178, 'gamma': 9.737351083969406, 'reg_lambda': 0.8941211100828587, 'min_child_weight': 2.526433423337912}. Best is trial 102 with value: 0.6262153573266458.\n",
      "[I 2023-12-05 18:51:26,968] Trial 108 finished with value: 0.6170484675835699 and parameters: {'n_estimators': 293, 'max_depth': 5, 'learning_rate': 0.2916274721709177, 'gamma': 8.087104691842946, 'reg_lambda': 0.8552431808175697, 'min_child_weight': 2.194137574728225}. Best is trial 102 with value: 0.6262153573266458.\n",
      "[I 2023-12-05 18:51:29,403] Trial 109 finished with value: 0.6115872525485295 and parameters: {'n_estimators': 273, 'max_depth': 2, 'learning_rate': 0.2280387015015906, 'gamma': 7.5859926769002435, 'reg_lambda': 0.9153144256047846, 'min_child_weight': 2.6993386440106417}. Best is trial 102 with value: 0.6262153573266458.\n",
      "[I 2023-12-05 18:51:31,939] Trial 110 finished with value: 0.621517012341332 and parameters: {'n_estimators': 304, 'max_depth': 6, 'learning_rate': 0.16741810294403145, 'gamma': 10.014994833824343, 'reg_lambda': 0.8961217872593455, 'min_child_weight': 2.878334835809061}. Best is trial 102 with value: 0.6262153573266458.\n",
      "[I 2023-12-05 18:51:34,731] Trial 111 finished with value: 0.6231757399796359 and parameters: {'n_estimators': 265, 'max_depth': 5, 'learning_rate': 0.2030643790831865, 'gamma': 9.146824631739522, 'reg_lambda': 0.9002899414317239, 'min_child_weight': 2.4675895917421897}. Best is trial 102 with value: 0.6262153573266458.\n",
      "[I 2023-12-05 18:51:36,567] Trial 112 finished with value: 0.615111931281443 and parameters: {'n_estimators': 244, 'max_depth': 5, 'learning_rate': 0.20074745453275727, 'gamma': 9.13658591077958, 'reg_lambda': 0.8733400769644782, 'min_child_weight': 2.4478014296153785}. Best is trial 102 with value: 0.6262153573266458.\n",
      "[I 2023-12-05 18:51:39,474] Trial 113 finished with value: 0.6191609865922887 and parameters: {'n_estimators': 282, 'max_depth': 5, 'learning_rate': 0.17556519092681186, 'gamma': 8.551950978085086, 'reg_lambda': 0.9371028877897146, 'min_child_weight': 2.0646573043288137}. Best is trial 102 with value: 0.6262153573266458.\n",
      "[I 2023-12-05 18:51:42,047] Trial 114 finished with value: 0.6165458853528689 and parameters: {'n_estimators': 259, 'max_depth': 4, 'learning_rate': 0.256026551481999, 'gamma': 8.171858264122001, 'reg_lambda': 0.9683104798319617, 'min_child_weight': 1.825991325886904}. Best is trial 102 with value: 0.6262153573266458.\n",
      "[I 2023-12-05 18:51:44,293] Trial 115 finished with value: 0.6229986817082935 and parameters: {'n_estimators': 316, 'max_depth': 5, 'learning_rate': 0.23637183230677922, 'gamma': 10.218731280395108, 'reg_lambda': 0.8469195828446856, 'min_child_weight': 2.2329137123092906}. Best is trial 102 with value: 0.6262153573266458.\n",
      "[I 2023-12-05 18:51:46,260] Trial 116 finished with value: 0.6204089467827241 and parameters: {'n_estimators': 339, 'max_depth': 5, 'learning_rate': 0.22424607231784646, 'gamma': 10.340991579369332, 'reg_lambda': 0.8404998436308734, 'min_child_weight': 2.2167650633524683}. Best is trial 102 with value: 0.6262153573266458.\n",
      "[I 2023-12-05 18:51:48,021] Trial 117 finished with value: 0.616832892145922 and parameters: {'n_estimators': 203, 'max_depth': 6, 'learning_rate': 0.13588663107622487, 'gamma': 9.640813887055103, 'reg_lambda': 0.8057662975305169, 'min_child_weight': 2.0189133088579005}. Best is trial 102 with value: 0.6262153573266458.\n",
      "[I 2023-12-05 18:51:49,836] Trial 118 finished with value: 0.6135950093234823 and parameters: {'n_estimators': 271, 'max_depth': 5, 'learning_rate': 0.19538635461093073, 'gamma': 10.181445718455729, 'reg_lambda': 0.7796818333935348, 'min_child_weight': 2.3657284118788753}. Best is trial 102 with value: 0.6262153573266458.\n",
      "[I 2023-12-05 18:51:51,786] Trial 119 finished with value: 0.621636383699145 and parameters: {'n_estimators': 308, 'max_depth': 5, 'learning_rate': 0.15551317189315456, 'gamma': 7.86620259805305, 'reg_lambda': 0.9019050529474233, 'min_child_weight': 2.1650111285185005}. Best is trial 102 with value: 0.6262153573266458.\n",
      "[I 2023-12-05 18:51:53,486] Trial 120 finished with value: 0.6136472314402729 and parameters: {'n_estimators': 240, 'max_depth': 6, 'learning_rate': 0.280604804943758, 'gamma': 11.271939274323902, 'reg_lambda': 0.8761220925234932, 'min_child_weight': 1.8852153111209926}. Best is trial 102 with value: 0.6262153573266458.\n",
      "[I 2023-12-05 18:51:55,369] Trial 121 finished with value: 0.6136266599192265 and parameters: {'n_estimators': 318, 'max_depth': 5, 'learning_rate': 0.30203655690344944, 'gamma': 8.94577873942748, 'reg_lambda': 0.9334231709667992, 'min_child_weight': 2.596045652397068}. Best is trial 102 with value: 0.6262153573266458.\n",
      "[I 2023-12-05 18:51:57,450] Trial 122 finished with value: 0.6115573249656793 and parameters: {'n_estimators': 286, 'max_depth': 5, 'learning_rate': 0.3283247196075265, 'gamma': 10.632348569751036, 'reg_lambda': 0.8548926922537978, 'min_child_weight': 2.5120811341128957}. Best is trial 102 with value: 0.6262153573266458.\n",
      "[I 2023-12-05 18:51:59,810] Trial 123 finished with value: 0.6217718473213507 and parameters: {'n_estimators': 362, 'max_depth': 5, 'learning_rate': 0.24690513472775463, 'gamma': 9.275397191886311, 'reg_lambda': 0.9607658191402001, 'min_child_weight': 2.108424269565991}. Best is trial 102 with value: 0.6262153573266458.\n",
      "[I 2023-12-05 18:52:01,481] Trial 124 finished with value: 0.6208268894937572 and parameters: {'n_estimators': 220, 'max_depth': 5, 'learning_rate': 0.23054451470399348, 'gamma': 9.750571676387635, 'reg_lambda': 0.8175581237821212, 'min_child_weight': 2.28076805466106}. Best is trial 102 with value: 0.6262153573266458.\n",
      "[I 2023-12-05 18:52:03,162] Trial 125 finished with value: 0.6119520598471067 and parameters: {'n_estimators': 251, 'max_depth': 4, 'learning_rate': 0.27149723803915715, 'gamma': 8.47217577194083, 'reg_lambda': 0.9008730489793306, 'min_child_weight': 2.6950201050949527}. Best is trial 102 with value: 0.6262153573266458.\n",
      "[I 2023-12-05 18:52:05,092] Trial 126 finished with value: 0.6177036017407248 and parameters: {'n_estimators': 319, 'max_depth': 4, 'learning_rate': 0.18622814615851535, 'gamma': 6.066699095602314, 'reg_lambda': 0.9178794644306493, 'min_child_weight': 1.9979444319963218}. Best is trial 102 with value: 0.6262153573266458.\n",
      "[I 2023-12-05 18:52:06,400] Trial 127 finished with value: 0.6150795207383222 and parameters: {'n_estimators': 50, 'max_depth': 5, 'learning_rate': 0.31079148483187663, 'gamma': 6.664544597180923, 'reg_lambda': 0.8356195380488707, 'min_child_weight': 2.452109794188029}. Best is trial 102 with value: 0.6262153573266458.\n",
      "[I 2023-12-05 18:52:08,758] Trial 128 finished with value: 0.6234567737507811 and parameters: {'n_estimators': 265, 'max_depth': 6, 'learning_rate': 0.214621217148811, 'gamma': 7.653335275244444, 'reg_lambda': 0.8642276115732995, 'min_child_weight': 2.274400710374697}. Best is trial 102 with value: 0.6262153573266458.\n",
      "[I 2023-12-05 18:52:10,641] Trial 129 finished with value: 0.6186078288971283 and parameters: {'n_estimators': 266, 'max_depth': 6, 'learning_rate': 0.2118686873112679, 'gamma': 7.536868324434295, 'reg_lambda': 0.7891133695275754, 'min_child_weight': 2.2643256366718028}. Best is trial 102 with value: 0.6262153573266458.\n",
      "[I 2023-12-05 18:52:12,618] Trial 130 finished with value: 0.6176647392062385 and parameters: {'n_estimators': 277, 'max_depth': 6, 'learning_rate': 0.1767885796856873, 'gamma': 6.974685049054825, 'reg_lambda': 0.8657377559480095, 'min_child_weight': 2.1694252161689085}. Best is trial 102 with value: 0.6262153573266458.\n",
      "[I 2023-12-05 18:52:14,912] Trial 131 finished with value: 0.6237623200113095 and parameters: {'n_estimators': 296, 'max_depth': 5, 'learning_rate': 0.25260524630038506, 'gamma': 7.822833579966524, 'reg_lambda': 0.8877197441888243, 'min_child_weight': 2.3589473733048156}. Best is trial 102 with value: 0.6262153573266458.\n",
      "[I 2023-12-05 18:52:17,372] Trial 132 finished with value: 0.6222413710038056 and parameters: {'n_estimators': 237, 'max_depth': 5, 'learning_rate': 0.2498862021224343, 'gamma': 7.852867824189133, 'reg_lambda': 0.8887822847998769, 'min_child_weight': 2.3484621388651106}. Best is trial 102 with value: 0.6262153573266458.\n",
      "[I 2023-12-05 18:52:19,354] Trial 133 finished with value: 0.6238622362957823 and parameters: {'n_estimators': 300, 'max_depth': 6, 'learning_rate': 0.22816141838125661, 'gamma': 7.365240244827311, 'reg_lambda': 0.8479676560978128, 'min_child_weight': 2.6273915896602}. Best is trial 102 with value: 0.6262153573266458.\n",
      "[I 2023-12-05 18:52:21,442] Trial 134 finished with value: 0.6215929303461254 and parameters: {'n_estimators': 296, 'max_depth': 6, 'learning_rate': 0.22364123673672343, 'gamma': 7.295648117127811, 'reg_lambda': 0.840119135722536, 'min_child_weight': 2.638390118497001}. Best is trial 102 with value: 0.6262153573266458.\n",
      "[I 2023-12-05 18:52:23,529] Trial 135 finished with value: 0.6218938336221053 and parameters: {'n_estimators': 332, 'max_depth': 6, 'learning_rate': 0.1969866938602033, 'gamma': 6.988055171157265, 'reg_lambda': 0.8187804356656769, 'min_child_weight': 2.7910537702191505}. Best is trial 102 with value: 0.6262153573266458.\n",
      "[I 2023-12-05 18:52:25,465] Trial 136 finished with value: 0.620657652222576 and parameters: {'n_estimators': 289, 'max_depth': 6, 'learning_rate': 0.2407649051214177, 'gamma': 6.408364360249558, 'reg_lambda': 0.856943948337709, 'min_child_weight': 2.4492554600897227}. Best is trial 102 with value: 0.6262153573266458.\n",
      "[I 2023-12-05 18:52:27,356] Trial 137 finished with value: 0.6172369612221552 and parameters: {'n_estimators': 304, 'max_depth': 6, 'learning_rate': 0.26629974943765417, 'gamma': 5.834111233448045, 'reg_lambda': 0.8790951463055522, 'min_child_weight': 2.5846953778335844}. Best is trial 102 with value: 0.6262153573266458.\n",
      "[I 2023-12-05 18:52:29,417] Trial 138 finished with value: 0.6160758561605978 and parameters: {'n_estimators': 261, 'max_depth': 6, 'learning_rate': 0.16063080864268897, 'gamma': 8.387264531154898, 'reg_lambda': 0.8046197625676296, 'min_child_weight': 2.0860460440174444}. Best is trial 102 with value: 0.6262153573266458.\n",
      "[I 2023-12-05 18:52:31,953] Trial 139 finished with value: 0.620406512078176 and parameters: {'n_estimators': 491, 'max_depth': 5, 'learning_rate': 0.2157826936312702, 'gamma': 7.449473244095341, 'reg_lambda': 0.7407374453266216, 'min_child_weight': 2.360301885009088}. Best is trial 102 with value: 0.6262153573266458.\n",
      "[I 2023-12-05 18:52:33,749] Trial 140 finished with value: 0.61780703753752 and parameters: {'n_estimators': 298, 'max_depth': 5, 'learning_rate': 0.27960483362590827, 'gamma': 6.353874130861977, 'reg_lambda': 0.9038627155908028, 'min_child_weight': 2.2622194726234945}. Best is trial 102 with value: 0.6262153573266458.\n",
      "[I 2023-12-05 18:52:35,651] Trial 141 finished with value: 0.6196947285219906 and parameters: {'n_estimators': 322, 'max_depth': 5, 'learning_rate': 0.24964208510057834, 'gamma': 7.845664361801291, 'reg_lambda': 0.9363703790664023, 'min_child_weight': 2.9196014291975647}. Best is trial 102 with value: 0.6262153573266458.\n",
      "[I 2023-12-05 18:52:37,645] Trial 142 finished with value: 0.6192362601677592 and parameters: {'n_estimators': 249, 'max_depth': 5, 'learning_rate': 0.5346215397434158, 'gamma': 8.875864658436535, 'reg_lambda': 0.9157048821643105, 'min_child_weight': 2.5033546243529985}. Best is trial 102 with value: 0.6262153573266458.\n",
      "[I 2023-12-05 18:52:39,377] Trial 143 finished with value: 0.6167381651254807 and parameters: {'n_estimators': 213, 'max_depth': 5, 'learning_rate': 0.1997606031743645, 'gamma': 8.222949672059034, 'reg_lambda': 0.8705325746841829, 'min_child_weight': 2.7463499869391814}. Best is trial 102 with value: 0.6262153573266458.\n",
      "[I 2023-12-05 18:52:41,200] Trial 144 finished with value: 0.6197124849142839 and parameters: {'n_estimators': 227, 'max_depth': 6, 'learning_rate': 0.22891420623539496, 'gamma': 6.772371654703683, 'reg_lambda': 0.8417026671977642, 'min_child_weight': 3.063366415730329}. Best is trial 102 with value: 0.6262153573266458.\n",
      "[I 2023-12-05 18:52:42,946] Trial 145 finished with value: 0.6145488442219447 and parameters: {'n_estimators': 266, 'max_depth': 5, 'learning_rate': 0.30496741666951677, 'gamma': 7.338452754080307, 'reg_lambda': 0.9493770831670756, 'min_child_weight': 2.6399903443085986}. Best is trial 102 with value: 0.6262153573266458.\n",
      "[I 2023-12-05 18:52:44,894] Trial 146 finished with value: 0.6194309796402303 and parameters: {'n_estimators': 282, 'max_depth': 5, 'learning_rate': 0.11336794418287155, 'gamma': 8.72668346241974, 'reg_lambda': 0.8897637135594125, 'min_child_weight': 1.726802172036568}. Best is trial 102 with value: 0.6262153573266458.\n",
      "[I 2023-12-05 18:52:47,180] Trial 147 finished with value: 0.6197046767261208 and parameters: {'n_estimators': 354, 'max_depth': 5, 'learning_rate': 0.17722554937973226, 'gamma': 6.012186684726975, 'reg_lambda': 0.9226362535627484, 'min_child_weight': 3.1977422372983004}. Best is trial 102 with value: 0.6262153573266458.\n",
      "[I 2023-12-05 18:52:50,334] Trial 148 finished with value: 0.6106637718620203 and parameters: {'n_estimators': 328, 'max_depth': 6, 'learning_rate': 0.14999689163317093, 'gamma': 9.468918904757869, 'reg_lambda': 0.9755443074839757, 'min_child_weight': 2.404305004715339}. Best is trial 102 with value: 0.6262153573266458.\n",
      "[I 2023-12-05 18:52:52,648] Trial 149 finished with value: 0.6222936257502052 and parameters: {'n_estimators': 274, 'max_depth': 7, 'learning_rate': 0.26303626717383743, 'gamma': 7.845209763446567, 'reg_lambda': 0.8292473122497822, 'min_child_weight': 1.9191924980587047}. Best is trial 102 with value: 0.6262153573266458.\n",
      "[I 2023-12-05 18:52:54,942] Trial 150 finished with value: 0.6100304445244017 and parameters: {'n_estimators': 256, 'max_depth': 5, 'learning_rate': 0.21489838155446128, 'gamma': 5.55728650275754, 'reg_lambda': 0.853647024687289, 'min_child_weight': 2.5320453444985422}. Best is trial 102 with value: 0.6262153573266458.\n",
      "[I 2023-12-05 18:52:56,972] Trial 151 finished with value: 0.6154941720068821 and parameters: {'n_estimators': 311, 'max_depth': 7, 'learning_rate': 0.25906477699814406, 'gamma': 7.95857401187826, 'reg_lambda': 0.8198986747707727, 'min_child_weight': 1.9496006795033234}. Best is trial 102 with value: 0.6262153573266458.\n",
      "[I 2023-12-05 18:52:58,883] Trial 152 finished with value: 0.6122970975263842 and parameters: {'n_estimators': 278, 'max_depth': 7, 'learning_rate': 0.23233436882432998, 'gamma': 7.665927418828655, 'reg_lambda': 0.8817062671135821, 'min_child_weight': 2.1148483837540444}. Best is trial 102 with value: 0.6262153573266458.\n",
      "[I 2023-12-05 18:53:00,826] Trial 153 finished with value: 0.6183831727245983 and parameters: {'n_estimators': 272, 'max_depth': 6, 'learning_rate': 0.28415704026231947, 'gamma': 6.985618357317027, 'reg_lambda': 0.905854691632345, 'min_child_weight': 2.19610856644964}. Best is trial 102 with value: 0.6262153573266458.\n",
      "[I 2023-12-05 18:53:02,686] Trial 154 finished with value: 0.6184497465951708 and parameters: {'n_estimators': 290, 'max_depth': 8, 'learning_rate': 0.25937437667120133, 'gamma': 8.556081154462117, 'reg_lambda': 0.7712804396932955, 'min_child_weight': 2.290725559348986}. Best is trial 102 with value: 0.6262153573266458.\n",
      "[I 2023-12-05 18:53:04,418] Trial 155 finished with value: 0.6187903494047042 and parameters: {'n_estimators': 240, 'max_depth': 5, 'learning_rate': 0.19409432718584868, 'gamma': 6.600560413035315, 'reg_lambda': 0.7977695753096499, 'min_child_weight': 3.5766039994237286}. Best is trial 102 with value: 0.6262153573266458.\n",
      "[I 2023-12-05 18:53:06,003] Trial 156 finished with value: 0.6117786770104553 and parameters: {'n_estimators': 160, 'max_depth': 5, 'learning_rate': 0.33193382036200536, 'gamma': 8.203714305331243, 'reg_lambda': 0.8635739380578729, 'min_child_weight': 1.9819164918130738}. Best is trial 102 with value: 0.6262153573266458.\n",
      "[I 2023-12-05 18:53:07,816] Trial 157 finished with value: 0.6158890387234505 and parameters: {'n_estimators': 301, 'max_depth': 7, 'learning_rate': 0.30164499922327787, 'gamma': 9.05001975187304, 'reg_lambda': 0.8338537278977926, 'min_child_weight': 1.8551834724041174}. Best is trial 102 with value: 0.6262153573266458.\n",
      "[I 2023-12-05 18:53:09,474] Trial 158 finished with value: 0.620139487730313 and parameters: {'n_estimators': 262, 'max_depth': 5, 'learning_rate': 0.24283936735694958, 'gamma': 10.094836046940303, 'reg_lambda': 0.930713317725633, 'min_child_weight': 2.836473036833303}. Best is trial 102 with value: 0.6262153573266458.\n",
      "[I 2023-12-05 18:53:10,910] Trial 159 finished with value: 0.6185268615564689 and parameters: {'n_estimators': 144, 'max_depth': 6, 'learning_rate': 0.27516986621136696, 'gamma': 10.716752756851927, 'reg_lambda': 0.9524183163737197, 'min_child_weight': 2.4115564168833985}. Best is trial 102 with value: 0.6262153573266458.\n",
      "[I 2023-12-05 18:53:12,619] Trial 160 finished with value: 0.6231168227621091 and parameters: {'n_estimators': 249, 'max_depth': 9, 'learning_rate': 0.34901945007578283, 'gamma': 7.204184899968981, 'reg_lambda': 0.892548904114177, 'min_child_weight': 1.7508217097435268}. Best is trial 102 with value: 0.6262153573266458.\n",
      "[I 2023-12-05 18:53:14,310] Trial 161 finished with value: 0.6178803003733135 and parameters: {'n_estimators': 248, 'max_depth': 9, 'learning_rate': 0.34572954580497206, 'gamma': 7.254961449763471, 'reg_lambda': 0.8910979397951745, 'min_child_weight': 1.622077040270345}. Best is trial 102 with value: 0.6262153573266458.\n",
      "[I 2023-12-05 18:53:16,207] Trial 162 finished with value: 0.6250566288078796 and parameters: {'n_estimators': 256, 'max_depth': 9, 'learning_rate': 0.2120299341759202, 'gamma': 7.6187481108769415, 'reg_lambda': 0.8711452940049118, 'min_child_weight': 1.704225995772674}. Best is trial 102 with value: 0.6262153573266458.\n",
      "[I 2023-12-05 18:53:18,017] Trial 163 finished with value: 0.6168218770525924 and parameters: {'n_estimators': 229, 'max_depth': 9, 'learning_rate': 0.2178108709567489, 'gamma': 6.659486620108023, 'reg_lambda': 0.9038695712836933, 'min_child_weight': 1.7612279763261713}. Best is trial 102 with value: 0.6262153573266458.\n",
      "[I 2023-12-05 18:53:19,917] Trial 164 finished with value: 0.6147034372367737 and parameters: {'n_estimators': 254, 'max_depth': 9, 'learning_rate': 0.20143969556728036, 'gamma': 6.204357089942388, 'reg_lambda': 0.5152183063103657, 'min_child_weight': 1.455954465786791}. Best is trial 102 with value: 0.6262153573266458.\n",
      "[I 2023-12-05 18:53:21,752] Trial 165 finished with value: 0.6249940380806832 and parameters: {'n_estimators': 242, 'max_depth': 9, 'learning_rate': 0.1733014356348557, 'gamma': 7.533155833074815, 'reg_lambda': 0.8735903672989982, 'min_child_weight': 1.7350936591395936}. Best is trial 102 with value: 0.6262153573266458.\n",
      "[I 2023-12-05 18:53:23,693] Trial 166 finished with value: 0.6192874849504744 and parameters: {'n_estimators': 237, 'max_depth': 10, 'learning_rate': 0.17555043019900465, 'gamma': 7.172234684570844, 'reg_lambda': 0.864023438158279, 'min_child_weight': 1.6216581205652272}. Best is trial 102 with value: 0.6262153573266458.\n",
      "[I 2023-12-05 18:53:25,643] Trial 167 finished with value: 0.6171722155357114 and parameters: {'n_estimators': 244, 'max_depth': 9, 'learning_rate': 0.14044850600992753, 'gamma': 7.473117334139678, 'reg_lambda': 0.8769529624763734, 'min_child_weight': 1.7455598725084813}. Best is trial 102 with value: 0.6262153573266458.\n",
      "[I 2023-12-05 18:53:27,361] Trial 168 finished with value: 0.6173742813192223 and parameters: {'n_estimators': 204, 'max_depth': 9, 'learning_rate': 0.23362924514378533, 'gamma': 6.735585200613187, 'reg_lambda': 0.8490475469110664, 'min_child_weight': 1.8288433601393717}. Best is trial 102 with value: 0.6262153573266458.\n",
      "[I 2023-12-05 18:53:29,148] Trial 169 finished with value: 0.6208170448337863 and parameters: {'n_estimators': 222, 'max_depth': 9, 'learning_rate': 0.18766337234712838, 'gamma': 7.64476711300892, 'reg_lambda': 0.710654147810331, 'min_child_weight': 1.6753055266374226}. Best is trial 102 with value: 0.6262153573266458.\n",
      "[I 2023-12-05 18:53:31,022] Trial 170 finished with value: 0.6221815125522847 and parameters: {'n_estimators': 263, 'max_depth': 10, 'learning_rate': 0.20822743804066446, 'gamma': 8.347982276141831, 'reg_lambda': 0.9148613668172437, 'min_child_weight': 2.5563481136137414}. Best is trial 102 with value: 0.6262153573266458.\n",
      "[I 2023-12-05 18:53:32,630] Trial 171 finished with value: 0.6184455600631162 and parameters: {'n_estimators': 235, 'max_depth': 9, 'learning_rate': 0.43695606842702456, 'gamma': 11.752374479430852, 'reg_lambda': 0.8880554096114519, 'min_child_weight': 2.019244077770975}. Best is trial 102 with value: 0.6262153573266458.\n",
      "[I 2023-12-05 18:53:34,403] Trial 172 finished with value: 0.6166923121623736 and parameters: {'n_estimators': 189, 'max_depth': 9, 'learning_rate': 0.16300955011152166, 'gamma': 7.043567082915185, 'reg_lambda': 0.9444130966155306, 'min_child_weight': 2.3261146505023627}. Best is trial 102 with value: 0.6262153573266458.\n",
      "[I 2023-12-05 18:53:36,063] Trial 173 finished with value: 0.6185612826548075 and parameters: {'n_estimators': 253, 'max_depth': 5, 'learning_rate': 0.2866833409207429, 'gamma': 9.248148890098088, 'reg_lambda': 0.9744188617405616, 'min_child_weight': 2.640711681991717}. Best is trial 102 with value: 0.6262153573266458.\n",
      "[I 2023-12-05 18:53:37,500] Trial 174 finished with value: 0.6143364881976975 and parameters: {'n_estimators': 83, 'max_depth': 8, 'learning_rate': 0.23825129252802124, 'gamma': 6.255070269346524, 'reg_lambda': 0.9213279470373853, 'min_child_weight': 1.5002481527103804}. Best is trial 102 with value: 0.6262153573266458.\n",
      "[I 2023-12-05 18:53:39,100] Trial 175 finished with value: 0.6211222736700832 and parameters: {'n_estimators': 268, 'max_depth': 5, 'learning_rate': 0.4048917795930456, 'gamma': 8.5033486088441, 'reg_lambda': 0.6441935368552529, 'min_child_weight': 2.470395398396507}. Best is trial 102 with value: 0.6262153573266458.\n",
      "[I 2023-12-05 18:53:40,356] Trial 176 finished with value: 0.618250050570123 and parameters: {'n_estimators': 63, 'max_depth': 5, 'learning_rate': 0.21914315084316355, 'gamma': 9.6142615351973, 'reg_lambda': 0.8675278956337269, 'min_child_weight': 3.2989316258447148}. Best is trial 102 with value: 0.6262153573266458.\n",
      "[I 2023-12-05 18:53:42,064] Trial 177 finished with value: 0.6216845701491527 and parameters: {'n_estimators': 247, 'max_depth': 9, 'learning_rate': 0.31887883848910986, 'gamma': 8.06438770468284, 'reg_lambda': 0.6055230148295457, 'min_child_weight': 2.2080259623961305}. Best is trial 102 with value: 0.6262153573266458.\n",
      "[I 2023-12-05 18:53:43,735] Trial 178 finished with value: 0.6114201564027424 and parameters: {'n_estimators': 283, 'max_depth': 5, 'learning_rate': 0.47837256103914616, 'gamma': 5.823669711413749, 'reg_lambda': 0.8964038228127496, 'min_child_weight': 1.881887235859763}. Best is trial 102 with value: 0.6262153573266458.\n",
      "[I 2023-12-05 18:53:45,373] Trial 179 finished with value: 0.6210539509400036 and parameters: {'n_estimators': 257, 'max_depth': 5, 'learning_rate': 0.35385933044658535, 'gamma': 7.585281071002542, 'reg_lambda': 0.9630827744745605, 'min_child_weight': 1.7312565245230218}. Best is trial 102 with value: 0.6262153573266458.\n",
      "[I 2023-12-05 18:53:46,976] Trial 180 finished with value: 0.6075261917494651 and parameters: {'n_estimators': 210, 'max_depth': 10, 'learning_rate': 0.3815474722667773, 'gamma': 7.002329436877881, 'reg_lambda': 0.8417615373382272, 'min_child_weight': 3.4636848827227364}. Best is trial 102 with value: 0.6262153573266458.\n",
      "[I 2023-12-05 18:53:48,759] Trial 181 finished with value: 0.6184448476521726 and parameters: {'n_estimators': 277, 'max_depth': 8, 'learning_rate': 0.25961342022728595, 'gamma': 7.906091968877368, 'reg_lambda': 0.8253291846083652, 'min_child_weight': 2.0542410138425797}. Best is trial 102 with value: 0.6262153573266458.\n",
      "[I 2023-12-05 18:53:50,495] Trial 182 finished with value: 0.619254846272161 and parameters: {'n_estimators': 271, 'max_depth': 6, 'learning_rate': 0.26218834173985395, 'gamma': 8.763239254808248, 'reg_lambda': 0.8788817979299995, 'min_child_weight': 1.8624179594579093}. Best is trial 102 with value: 0.6262153573266458.\n",
      "[I 2023-12-05 18:53:52,100] Trial 183 finished with value: 0.6154018484483629 and parameters: {'n_estimators': 230, 'max_depth': 5, 'learning_rate': 0.23899891728217929, 'gamma': 8.003009024149623, 'reg_lambda': 0.8489717155852625, 'min_child_weight': 2.4035809357612656}. Best is trial 102 with value: 0.6262153573266458.\n",
      "[I 2023-12-05 18:53:53,815] Trial 184 finished with value: 0.6141133261319809 and parameters: {'n_estimators': 296, 'max_depth': 6, 'learning_rate': 0.2941425744364515, 'gamma': 11.147060219418602, 'reg_lambda': 0.9344945051336003, 'min_child_weight': 1.5923839744076804}. Best is trial 102 with value: 0.6262153573266458.\n",
      "[I 2023-12-05 18:53:55,796] Trial 185 finished with value: 0.6164937609732257 and parameters: {'n_estimators': 289, 'max_depth': 9, 'learning_rate': 0.19885470898555074, 'gamma': 7.536450791098047, 'reg_lambda': 0.8995464902373761, 'min_child_weight': 1.952589162166836}. Best is trial 102 with value: 0.6262153573266458.\n",
      "[I 2023-12-05 18:53:57,417] Trial 186 finished with value: 0.6188155641618415 and parameters: {'n_estimators': 244, 'max_depth': 5, 'learning_rate': 0.26975350284419675, 'gamma': 6.5865165625779785, 'reg_lambda': 0.8078501167545153, 'min_child_weight': 2.286689392931974}. Best is trial 102 with value: 0.6262153573266458.\n",
      "[I 2023-12-05 18:53:58,731] Trial 187 finished with value: 0.6197733046018499 and parameters: {'n_estimators': 92, 'max_depth': 5, 'learning_rate': 0.2230446146120842, 'gamma': 9.005740903436106, 'reg_lambda': 0.8657314155374223, 'min_child_weight': 1.3519763665634679}. Best is trial 102 with value: 0.6262153573266458.\n",
      "[I 2023-12-05 18:54:00,387] Trial 188 finished with value: 0.6062442547101008 and parameters: {'n_estimators': 263, 'max_depth': 3, 'learning_rate': 0.2458506638178622, 'gamma': 7.20173353423577, 'reg_lambda': 0.9160030195041468, 'min_child_weight': 1.536198263269293}. Best is trial 102 with value: 0.6262153573266458.\n",
      "[I 2023-12-05 18:54:02,213] Trial 189 finished with value: 0.6180701112104396 and parameters: {'n_estimators': 312, 'max_depth': 5, 'learning_rate': 0.18235260367401834, 'gamma': 10.403368181991215, 'reg_lambda': 0.8301450982624533, 'min_child_weight': 2.135155169316463}. Best is trial 102 with value: 0.6262153573266458.\n",
      "[I 2023-12-05 18:54:03,495] Trial 190 finished with value: 0.6151780138977084 and parameters: {'n_estimators': 104, 'max_depth': 6, 'learning_rate': 0.497517951267591, 'gamma': 9.937298316422009, 'reg_lambda': 0.7924228910434796, 'min_child_weight': 2.555170830956027}. Best is trial 102 with value: 0.6262153573266458.\n",
      "[I 2023-12-05 18:54:05,123] Trial 191 finished with value: 0.6261360005843549 and parameters: {'n_estimators': 238, 'max_depth': 5, 'learning_rate': 0.2528392437709457, 'gamma': 7.786380665161035, 'reg_lambda': 0.8855871071021821, 'min_child_weight': 2.3191285456716524}. Best is trial 102 with value: 0.6262153573266458.\n",
      "[I 2023-12-05 18:54:06,738] Trial 192 finished with value: 0.6218370970559256 and parameters: {'n_estimators': 238, 'max_depth': 5, 'learning_rate': 0.25153974111906524, 'gamma': 7.8195024782733515, 'reg_lambda': 0.8797871113541292, 'min_child_weight': 2.447315996047023}. Best is trial 102 with value: 0.6262153573266458.\n",
      "[I 2023-12-05 18:54:08,403] Trial 193 finished with value: 0.6192742294270418 and parameters: {'n_estimators': 251, 'max_depth': 5, 'learning_rate': 0.21797140248808786, 'gamma': 8.39976964353242, 'reg_lambda': 0.858353230010763, 'min_child_weight': 2.674425571426753}. Best is trial 102 with value: 0.6262153573266458.\n",
      "[I 2023-12-05 18:54:10,046] Trial 194 finished with value: 0.6208289349295646 and parameters: {'n_estimators': 258, 'max_depth': 5, 'learning_rate': 0.2710388407438944, 'gamma': 7.27741316773758, 'reg_lambda': 0.8979165295921697, 'min_child_weight': 2.31908576263508}. Best is trial 102 with value: 0.6262153573266458.\n",
      "[I 2023-12-05 18:54:11,665] Trial 195 finished with value: 0.61712654301726 and parameters: {'n_estimators': 224, 'max_depth': 5, 'learning_rate': 0.5297312423017991, 'gamma': 8.046447409638155, 'reg_lambda': 0.9372377316596368, 'min_child_weight': 2.24548441501866}. Best is trial 102 with value: 0.6262153573266458.\n",
      "[I 2023-12-05 18:54:13,307] Trial 196 finished with value: 0.6143820189230472 and parameters: {'n_estimators': 273, 'max_depth': 4, 'learning_rate': 0.3057257197866452, 'gamma': 6.776404326542501, 'reg_lambda': 0.9132472430104154, 'min_child_weight': 1.6878109229624865}. Best is trial 102 with value: 0.6262153573266458.\n",
      "[I 2023-12-05 18:54:15,228] Trial 197 finished with value: 0.6211568462661491 and parameters: {'n_estimators': 241, 'max_depth': 5, 'learning_rate': 0.2041115744444352, 'gamma': 6.207963470306668, 'reg_lambda': 0.8408239681936048, 'min_child_weight': 2.7757280214502598}. Best is trial 102 with value: 0.6262153573266458.\n",
      "[I 2023-12-05 18:54:16,634] Trial 198 finished with value: 0.6177243771433096 and parameters: {'n_estimators': 80, 'max_depth': 6, 'learning_rate': 0.4159529695199574, 'gamma': 8.63969218038773, 'reg_lambda': 0.7569977474090751, 'min_child_weight': 2.4861444834928816}. Best is trial 102 with value: 0.6262153573266458.\n",
      "[I 2023-12-05 18:54:20,044] Trial 199 finished with value: 0.6260835766128716 and parameters: {'n_estimators': 254, 'max_depth': 5, 'learning_rate': 0.23113288793303777, 'gamma': 7.69610167592511, 'reg_lambda': 0.4271208268606862, 'min_child_weight': 2.106686004583757}. Best is trial 102 with value: 0.6262153573266458.\n",
      "[I 2023-12-05 18:54:25,135] Trial 200 finished with value: 0.6251740261805184 and parameters: {'n_estimators': 216, 'max_depth': 5, 'learning_rate': 0.23215393692922967, 'gamma': 7.445258403044935, 'reg_lambda': 0.4350629220344863, 'min_child_weight': 2.171554771639672}. Best is trial 102 with value: 0.6262153573266458.\n",
      "[I 2023-12-05 18:54:28,345] Trial 201 finished with value: 0.6185772607884867 and parameters: {'n_estimators': 217, 'max_depth': 5, 'learning_rate': 0.23091839313574636, 'gamma': 7.355526208454327, 'reg_lambda': 0.4059296980048479, 'min_child_weight': 2.186064424061969}. Best is trial 102 with value: 0.6262153573266458.\n",
      "[I 2023-12-05 18:54:31,265] Trial 202 finished with value: 0.6178002700227088 and parameters: {'n_estimators': 236, 'max_depth': 5, 'learning_rate': 0.18861481215181058, 'gamma': 6.8694755288802325, 'reg_lambda': 0.9823511662073175, 'min_child_weight': 2.082050154929926}. Best is trial 102 with value: 0.6262153573266458.\n",
      "[I 2023-12-05 18:54:33,434] Trial 203 finished with value: 0.6154447644777093 and parameters: {'n_estimators': 227, 'max_depth': 5, 'learning_rate': 0.24402924806317847, 'gamma': 7.569291228621829, 'reg_lambda': 0.45500408198182585, 'min_child_weight': 2.35364171310633}. Best is trial 102 with value: 0.6262153573266458.\n",
      "[I 2023-12-05 18:54:35,557] Trial 204 finished with value: 0.621574655032872 and parameters: {'n_estimators': 246, 'max_depth': 5, 'learning_rate': 0.21030955647699914, 'gamma': 6.609181505195799, 'reg_lambda': 0.37646559155519155, 'min_child_weight': 2.3861203319748125}. Best is trial 102 with value: 0.6262153573266458.\n",
      "[I 2023-12-05 18:54:37,695] Trial 205 finished with value: 0.6236104723312541 and parameters: {'n_estimators': 208, 'max_depth': 5, 'learning_rate': 0.22210596990210288, 'gamma': 8.23596364076858, 'reg_lambda': 0.9544525371265709, 'min_child_weight': 2.1477339200495313}. Best is trial 102 with value: 0.6262153573266458.\n",
      "[I 2023-12-05 18:54:39,536] Trial 206 finished with value: 0.6190097878874024 and parameters: {'n_estimators': 209, 'max_depth': 5, 'learning_rate': 0.17029414472637058, 'gamma': 7.712462326185266, 'reg_lambda': 0.8803776698581287, 'min_child_weight': 2.1186128526111005}. Best is trial 102 with value: 0.6262153573266458.\n",
      "[I 2023-12-05 18:54:41,231] Trial 207 finished with value: 0.6192105451294787 and parameters: {'n_estimators': 195, 'max_depth': 5, 'learning_rate': 0.2298032507877303, 'gamma': 7.12525895329525, 'reg_lambda': 0.5077750038283178, 'min_child_weight': 2.247118528240824}. Best is trial 102 with value: 0.6262153573266458.\n",
      "[I 2023-12-05 18:54:42,786] Trial 208 finished with value: 0.6133968041935864 and parameters: {'n_estimators': 216, 'max_depth': 5, 'learning_rate': 0.5687079008853019, 'gamma': 8.222045165254904, 'reg_lambda': 0.4256502834240099, 'min_child_weight': 2.577772464363026}. Best is trial 102 with value: 0.6262153573266458.\n",
      "[I 2023-12-05 18:54:44,450] Trial 209 finished with value: 0.6184220638951942 and parameters: {'n_estimators': 232, 'max_depth': 5, 'learning_rate': 0.2845914134053832, 'gamma': 8.182872015430853, 'reg_lambda': 0.39560531048821923, 'min_child_weight': 2.022511672128064}. Best is trial 102 with value: 0.6262153573266458.\n",
      "[I 2023-12-05 18:54:45,959] Trial 210 finished with value: 0.6164447908836203 and parameters: {'n_estimators': 176, 'max_depth': 5, 'learning_rate': 0.21289834533763521, 'gamma': 19.635269880072705, 'reg_lambda': 0.9535156528653606, 'min_child_weight': 2.1706340891619287}. Best is trial 102 with value: 0.6262153573266458.\n",
      "[I 2023-12-05 18:54:47,839] Trial 211 finished with value: 0.6157117327051231 and parameters: {'n_estimators': 253, 'max_depth': 5, 'learning_rate': 0.25117996713417357, 'gamma': 9.33746246817769, 'reg_lambda': 0.4556082341619744, 'min_child_weight': 2.3348966583602335}. Best is trial 102 with value: 0.6262153573266458.\n",
      "[I 2023-12-05 18:54:49,604] Trial 212 finished with value: 0.6117469977862856 and parameters: {'n_estimators': 218, 'max_depth': 5, 'learning_rate': 0.4626880813500774, 'gamma': 8.877888687570493, 'reg_lambda': 0.9565391262558581, 'min_child_weight': 2.4780700401230984}. Best is trial 102 with value: 0.6262153573266458.\n",
      "[I 2023-12-05 18:54:51,434] Trial 213 finished with value: 0.6185934568076827 and parameters: {'n_estimators': 263, 'max_depth': 5, 'learning_rate': 0.19636468891566133, 'gamma': 7.613457483792455, 'reg_lambda': 0.9306997456237747, 'min_child_weight': 3.686790097795909}. Best is trial 102 with value: 0.6262153573266458.\n",
      "[I 2023-12-05 18:54:53,210] Trial 214 finished with value: 0.6253803120334004 and parameters: {'n_estimators': 246, 'max_depth': 5, 'learning_rate': 0.234752353446696, 'gamma': 7.1403674464103695, 'reg_lambda': 0.9055386066466166, 'min_child_weight': 1.804230538380445}. Best is trial 102 with value: 0.6262153573266458.\n",
      "[I 2023-12-05 18:54:55,046] Trial 215 finished with value: 0.6135766075985315 and parameters: {'n_estimators': 245, 'max_depth': 5, 'learning_rate': 0.235553501954146, 'gamma': 6.4141555159251515, 'reg_lambda': 0.8999515118806345, 'min_child_weight': 1.7655510030551795}. Best is trial 102 with value: 0.6262153573266458.\n",
      "[I 2023-12-05 18:54:56,817] Trial 216 finished with value: 0.6198404247814787 and parameters: {'n_estimators': 230, 'max_depth': 5, 'learning_rate': 0.22850267813931407, 'gamma': 7.033445706470779, 'reg_lambda': 0.8678718623242087, 'min_child_weight': 1.9227219574736156}. Best is trial 102 with value: 0.6262153573266458.\n",
      "[I 2023-12-05 18:54:58,628] Trial 217 finished with value: 0.6162546764078926 and parameters: {'n_estimators': 254, 'max_depth': 6, 'learning_rate': 0.2564059178714667, 'gamma': 7.335156639979275, 'reg_lambda': 0.8884203680266427, 'min_child_weight': 1.7940570917264334}. Best is trial 102 with value: 0.6262153573266458.\n",
      "[I 2023-12-05 18:55:00,505] Trial 218 finished with value: 0.6215533544824565 and parameters: {'n_estimators': 203, 'max_depth': 5, 'learning_rate': 0.21156162146448299, 'gamma': 5.529179311423842, 'reg_lambda': 0.9156998367804201, 'min_child_weight': 2.2412781211861996}. Best is trial 102 with value: 0.6262153573266458.\n",
      "[I 2023-12-05 18:55:02,178] Trial 219 finished with value: 0.6159892565973586 and parameters: {'n_estimators': 242, 'max_depth': 4, 'learning_rate': 0.27279090428216995, 'gamma': 17.6481362468518, 'reg_lambda': 0.6748357823318618, 'min_child_weight': 2.057354059595683}. Best is trial 102 with value: 0.6262153573266458.\n",
      "[I 2023-12-05 18:55:03,964] Trial 220 finished with value: 0.6205028055278027 and parameters: {'n_estimators': 225, 'max_depth': 5, 'learning_rate': 0.18176126306671536, 'gamma': 7.854984551975437, 'reg_lambda': 0.36286128751133895, 'min_child_weight': 1.1398868177940562}. Best is trial 102 with value: 0.6262153573266458.\n",
      "[I 2023-12-05 18:55:05,747] Trial 221 finished with value: 0.6179925108322445 and parameters: {'n_estimators': 261, 'max_depth': 5, 'learning_rate': 0.3843581921359426, 'gamma': 8.478191571437685, 'reg_lambda': 0.9320185882546892, 'min_child_weight': 2.421292911902416}. Best is trial 102 with value: 0.6262153573266458.\n",
      "[I 2023-12-05 18:55:07,492] Trial 222 finished with value: 0.6227428350449051 and parameters: {'n_estimators': 235, 'max_depth': 5, 'learning_rate': 0.23957500275572435, 'gamma': 6.838465187224662, 'reg_lambda': 0.9743043631337355, 'min_child_weight': 3.230285303670227}. Best is trial 102 with value: 0.6262153573266458.\n",
      "[I 2023-12-05 18:55:09,762] Trial 223 finished with value: 0.6256946408889468 and parameters: {'n_estimators': 463, 'max_depth': 5, 'learning_rate': 0.24168330095282636, 'gamma': 6.8622260665727, 'reg_lambda': 0.5412495376575306, 'min_child_weight': 3.250099749904734}. Best is trial 102 with value: 0.6262153573266458.\n",
      "[I 2023-12-05 18:55:11,823] Trial 224 finished with value: 0.6208314217681051 and parameters: {'n_estimators': 376, 'max_depth': 5, 'learning_rate': 0.24568677853843524, 'gamma': 6.540520322048129, 'reg_lambda': 0.2948344193866625, 'min_child_weight': 3.083894136432545}. Best is trial 102 with value: 0.6262153573266458.\n",
      "[I 2023-12-05 18:55:14,255] Trial 225 finished with value: 0.6149439057318689 and parameters: {'n_estimators': 441, 'max_depth': 9, 'learning_rate': 0.2286498799141045, 'gamma': 6.143708878570774, 'reg_lambda': 0.5741720235595654, 'min_child_weight': 3.3075341184413314}. Best is trial 102 with value: 0.6262153573266458.\n",
      "[I 2023-12-05 18:55:16,492] Trial 226 finished with value: 0.6206499656544062 and parameters: {'n_estimators': 422, 'max_depth': 5, 'learning_rate': 0.27640403030035393, 'gamma': 6.911553107473159, 'reg_lambda': 0.44729718981625666, 'min_child_weight': 3.3808765717861418}. Best is trial 102 with value: 0.6262153573266458.\n",
      "[I 2023-12-05 18:55:18,859] Trial 227 finished with value: 0.6153328399440952 and parameters: {'n_estimators': 483, 'max_depth': 6, 'learning_rate': 0.2562907869617988, 'gamma': 5.933232468227022, 'reg_lambda': 0.5059474092047809, 'min_child_weight': 3.17790549438942}. Best is trial 102 with value: 0.6262153573266458.\n",
      "[I 2023-12-05 18:55:20,588] Trial 228 finished with value: 0.6187324806366888 and parameters: {'n_estimators': 236, 'max_depth': 5, 'learning_rate': 0.28945078020381626, 'gamma': 7.192242338316654, 'reg_lambda': 0.15931204743545957, 'min_child_weight': 1.6523229069643142}. Best is trial 102 with value: 0.6262153573266458.\n",
      "[I 2023-12-05 18:55:22,692] Trial 229 finished with value: 0.6158742501800271 and parameters: {'n_estimators': 395, 'max_depth': 5, 'learning_rate': 0.23756863286216748, 'gamma': 6.80179383044409, 'reg_lambda': 0.4920411555213815, 'min_child_weight': 2.927104752472939}. Best is trial 102 with value: 0.6262153573266458.\n",
      "[I 2023-12-05 18:55:24,478] Trial 230 finished with value: 0.6200041524029652 and parameters: {'n_estimators': 252, 'max_depth': 5, 'learning_rate': 0.22066114605181475, 'gamma': 7.627953554694586, 'reg_lambda': 0.8547622672545695, 'min_child_weight': 3.202741820505919}. Best is trial 102 with value: 0.6262153573266458.\n",
      "[I 2023-12-05 18:55:26,145] Trial 231 finished with value: 0.6147046173484371 and parameters: {'n_estimators': 184, 'max_depth': 5, 'learning_rate': 0.2001215791351129, 'gamma': 7.407801629509169, 'reg_lambda': 0.9921628701044924, 'min_child_weight': 2.5566001984387783}. Best is trial 102 with value: 0.6262153573266458.\n",
      "[I 2023-12-05 18:55:27,898] Trial 232 finished with value: 0.6209669003702866 and parameters: {'n_estimators': 244, 'max_depth': 5, 'learning_rate': 0.22037877229052782, 'gamma': 8.11126053485977, 'reg_lambda': 0.5225882178729981, 'min_child_weight': 2.671258517138647}. Best is trial 102 with value: 0.6262153573266458.\n",
      "[I 2023-12-05 18:55:29,649] Trial 233 finished with value: 0.6193336053335465 and parameters: {'n_estimators': 232, 'max_depth': 5, 'learning_rate': 0.25003183096692616, 'gamma': 6.961263996280789, 'reg_lambda': 0.5470797596723826, 'min_child_weight': 2.9977855788635526}. Best is trial 102 with value: 0.6262153573266458.\n",
      "[I 2023-12-05 18:55:31,391] Trial 234 finished with value: 0.6199946213495033 and parameters: {'n_estimators': 222, 'max_depth': 5, 'learning_rate': 0.19865874498872135, 'gamma': 6.498951361530082, 'reg_lambda': 0.9701441571710736, 'min_child_weight': 3.4748480987018544}. Best is trial 102 with value: 0.6262153573266458.\n",
      "[I 2023-12-05 18:55:33,502] Trial 235 finished with value: 0.6207582498237239 and parameters: {'n_estimators': 267, 'max_depth': 6, 'learning_rate': 0.16063032615846706, 'gamma': 2.416703224624972, 'reg_lambda': 0.88393268615061, 'min_child_weight': 2.342753720850299}. Best is trial 102 with value: 0.6262153573266458.\n",
      "[I 2023-12-05 18:55:35,511] Trial 236 finished with value: 0.618733766946086 and parameters: {'n_estimators': 249, 'max_depth': 5, 'learning_rate': 0.2674507936480156, 'gamma': 7.464625781340629, 'reg_lambda': 0.4701607178319311, 'min_child_weight': 1.8895625091891317}. Best is trial 102 with value: 0.6262153573266458.\n",
      "[I 2023-12-05 18:55:37,413] Trial 237 finished with value: 0.6171811688273338 and parameters: {'n_estimators': 258, 'max_depth': 9, 'learning_rate': 0.21836342607614065, 'gamma': 7.868402933412308, 'reg_lambda': 0.7123159185016534, 'min_child_weight': 2.1603237724075974}. Best is trial 102 with value: 0.6262153573266458.\n",
      "[I 2023-12-05 18:55:39,137] Trial 238 finished with value: 0.6249171728379428 and parameters: {'n_estimators': 236, 'max_depth': 5, 'learning_rate': 0.2416827285855361, 'gamma': 6.374582633118924, 'reg_lambda': 0.8972788795988702, 'min_child_weight': 2.507417217018404}. Best is trial 102 with value: 0.6262153573266458.\n",
      "[I 2023-12-05 18:55:41,316] Trial 239 finished with value: 0.6261238352224631 and parameters: {'n_estimators': 453, 'max_depth': 5, 'learning_rate': 0.24395186902914334, 'gamma': 6.445324127235448, 'reg_lambda': 0.9076853590288827, 'min_child_weight': 2.2762420466367965}. Best is trial 102 with value: 0.6262153573266458.\n",
      "[I 2023-12-05 18:55:43,476] Trial 240 finished with value: 0.6121150225191249 and parameters: {'n_estimators': 455, 'max_depth': 5, 'learning_rate': 0.3175231774562103, 'gamma': 6.157428405201759, 'reg_lambda': 0.8946891523626415, 'min_child_weight': 2.2966861333920083}. Best is trial 102 with value: 0.6262153573266458.\n",
      "[I 2023-12-05 18:55:45,753] Trial 241 finished with value: 0.6190033865610587 and parameters: {'n_estimators': 463, 'max_depth': 5, 'learning_rate': 0.23935839936588127, 'gamma': 6.403369244560821, 'reg_lambda': 0.9065491851915155, 'min_child_weight': 3.2486390390154036}. Best is trial 102 with value: 0.6262153573266458.\n",
      "[I 2023-12-05 18:55:47,403] Trial 242 finished with value: 0.6192274374957096 and parameters: {'n_estimators': 211, 'max_depth': 5, 'learning_rate': 0.254802323211856, 'gamma': 5.803910694338838, 'reg_lambda': 0.8722064287986877, 'min_child_weight': 2.4178179989071493}. Best is trial 102 with value: 0.6262153573266458.\n",
      "[I 2023-12-05 18:55:49,260] Trial 243 finished with value: 0.6188804531203538 and parameters: {'n_estimators': 232, 'max_depth': 5, 'learning_rate': 0.23719900883459247, 'gamma': 6.882811824458333, 'reg_lambda': 0.9112642604665198, 'min_child_weight': 2.2203858294261796}. Best is trial 102 with value: 0.6262153573266458.\n",
      "[I 2023-12-05 18:55:51,397] Trial 244 finished with value: 0.6178857613444465 and parameters: {'n_estimators': 447, 'max_depth': 5, 'learning_rate': 0.29223276941219306, 'gamma': 6.542320802183646, 'reg_lambda': 0.597516043761231, 'min_child_weight': 2.002613943628187}. Best is trial 102 with value: 0.6262153573266458.\n",
      "[I 2023-12-05 18:55:53,019] Trial 245 finished with value: 0.6066074067706323 and parameters: {'n_estimators': 238, 'max_depth': 5, 'learning_rate': 0.9678513067470089, 'gamma': 7.228010600584259, 'reg_lambda': 0.8588375075365711, 'min_child_weight': 1.799250879734808}. Best is trial 102 with value: 0.6262153573266458.\n",
      "[I 2023-12-05 18:55:54,577] Trial 246 finished with value: 0.6191919129903434 and parameters: {'n_estimators': 163, 'max_depth': 6, 'learning_rate': 0.2627777821125561, 'gamma': 6.80414080043452, 'reg_lambda': 0.8808199750250735, 'min_child_weight': 2.485241091447127}. Best is trial 102 with value: 0.6262153573266458.\n",
      "[I 2023-12-05 18:55:57,245] Trial 247 finished with value: 0.6269424769364623 and parameters: {'n_estimators': 468, 'max_depth': 5, 'learning_rate': 0.22247440029449445, 'gamma': 6.039335376322884, 'reg_lambda': 0.6573175248633818, 'min_child_weight': 3.0985353627000154}. Best is trial 247 with value: 0.6269424769364623.\n",
      "[I 2023-12-05 18:55:59,376] Trial 248 finished with value: 0.607636777873323 and parameters: {'n_estimators': 461, 'max_depth': 5, 'learning_rate': 0.8850998648640303, 'gamma': 12.083755313243326, 'reg_lambda': 0.6879433838680689, 'min_child_weight': 3.120109323894047}. Best is trial 247 with value: 0.6269424769364623.\n",
      "[I 2023-12-05 18:56:01,648] Trial 249 finished with value: 0.6175711077979962 and parameters: {'n_estimators': 472, 'max_depth': 5, 'learning_rate': 0.23029068930246352, 'gamma': 5.640769042986668, 'reg_lambda': 0.8473070608291023, 'min_child_weight': 3.2895177086003615}. Best is trial 247 with value: 0.6269424769364623.\n",
      "[I 2023-12-05 18:56:03,930] Trial 250 finished with value: 0.6182364866237433 and parameters: {'n_estimators': 466, 'max_depth': 5, 'learning_rate': 0.19196072634606123, 'gamma': 5.2239001274279335, 'reg_lambda': 0.5323476674574742, 'min_child_weight': 2.1286105950165375}. Best is trial 247 with value: 0.6269424769364623.\n",
      "[I 2023-12-05 18:56:06,183] Trial 251 finished with value: 0.6213570866871481 and parameters: {'n_estimators': 483, 'max_depth': 5, 'learning_rate': 0.27700742658626154, 'gamma': 6.168857535198752, 'reg_lambda': 0.7505632582289046, 'min_child_weight': 3.0363621134066494}. Best is trial 247 with value: 0.6269424769364623.\n",
      "[I 2023-12-05 18:56:07,854] Trial 252 finished with value: 0.6215707677016276 and parameters: {'n_estimators': 221, 'max_depth': 5, 'learning_rate': 0.24856771572643788, 'gamma': 7.203716447468602, 'reg_lambda': 0.48684892038778754, 'min_child_weight': 2.2753646196135655}. Best is trial 247 with value: 0.6269424769364623.\n",
      "[I 2023-12-05 18:56:10,092] Trial 253 finished with value: 0.6224266706108951 and parameters: {'n_estimators': 440, 'max_depth': 9, 'learning_rate': 0.22147701436502454, 'gamma': 10.979241617166261, 'reg_lambda': 0.6269850959725152, 'min_child_weight': 3.14944401456118}. Best is trial 247 with value: 0.6269424769364623.\n",
      "[I 2023-12-05 18:56:11,654] Trial 254 finished with value: 0.6061495258091233 and parameters: {'n_estimators': 196, 'max_depth': 2, 'learning_rate': 0.21070715078090202, 'gamma': 4.754796859196285, 'reg_lambda': 0.4375986996017208, 'min_child_weight': 2.3655269799781653}. Best is trial 247 with value: 0.6269424769364623.\n",
      "[I 2023-12-05 18:56:13,928] Trial 255 finished with value: 0.6228781918831411 and parameters: {'n_estimators': 496, 'max_depth': 5, 'learning_rate': 0.34258776017430237, 'gamma': 7.712053722074868, 'reg_lambda': 0.8999624297640796, 'min_child_weight': 1.5431072332445885}. Best is trial 247 with value: 0.6269424769364623.\n",
      "[I 2023-12-05 18:56:16,333] Trial 256 finished with value: 0.6186260069736915 and parameters: {'n_estimators': 477, 'max_depth': 5, 'learning_rate': 0.3070789438553746, 'gamma': 11.529973260561306, 'reg_lambda': 0.8965850515964456, 'min_child_weight': 1.576342724374852}. Best is trial 247 with value: 0.6269424769364623.\n",
      "[I 2023-12-05 18:56:18,635] Trial 257 finished with value: 0.6119395224207965 and parameters: {'n_estimators': 493, 'max_depth': 5, 'learning_rate': 0.2996389507499585, 'gamma': 8.140134774790983, 'reg_lambda': 0.7331273509491258, 'min_child_weight': 1.7446404582325574}. Best is trial 247 with value: 0.6269424769364623.\n",
      "[I 2023-12-05 18:56:20,768] Trial 258 finished with value: 0.6168996268679532 and parameters: {'n_estimators': 449, 'max_depth': 5, 'learning_rate': 0.33598926965199327, 'gamma': 7.673084106012745, 'reg_lambda': 0.8675595954639989, 'min_child_weight': 1.6373774839666049}. Best is trial 247 with value: 0.6269424769364623.\n",
      "[I 2023-12-05 18:56:22,932] Trial 259 finished with value: 0.6154012304442006 and parameters: {'n_estimators': 473, 'max_depth': 5, 'learning_rate': 0.5213545225862886, 'gamma': 7.502882629174607, 'reg_lambda': 0.9197899724355767, 'min_child_weight': 4.504741724015339}. Best is trial 247 with value: 0.6269424769364623.\n",
      "[I 2023-12-05 18:56:25,465] Trial 260 finished with value: 0.6011618927476567 and parameters: {'n_estimators': 283, 'max_depth': 4, 'learning_rate': 0.32569671841588144, 'gamma': 0.16784310431392413, 'reg_lambda': 0.8178711562339818, 'min_child_weight': 1.9478612035946068}. Best is trial 247 with value: 0.6269424769364623.\n",
      "[I 2023-12-05 18:56:27,663] Trial 261 finished with value: 0.6096227843111939 and parameters: {'n_estimators': 496, 'max_depth': 3, 'learning_rate': 0.3918793708870692, 'gamma': 8.7848837573111, 'reg_lambda': 0.887082617880052, 'min_child_weight': 1.5612270403860562}. Best is trial 247 with value: 0.6269424769364623.\n",
      "[I 2023-12-05 18:56:29,401] Trial 262 finished with value: 0.6213586752123027 and parameters: {'n_estimators': 271, 'max_depth': 5, 'learning_rate': 0.3603999520598453, 'gamma': 7.746593227258623, 'reg_lambda': 0.46867275245920137, 'min_child_weight': 4.079467176334506}. Best is trial 247 with value: 0.6269424769364623.\n",
      "[I 2023-12-05 18:56:31,151] Trial 263 finished with value: 0.6127456806049497 and parameters: {'n_estimators': 258, 'max_depth': 5, 'learning_rate': 0.2807114587935302, 'gamma': 7.177071452287704, 'reg_lambda': 0.9049633267037078, 'min_child_weight': 2.1506832140279597}. Best is trial 247 with value: 0.6269424769364623.\n",
      "[I 2023-12-05 18:56:33,293] Trial 264 finished with value: 0.6186184630147984 and parameters: {'n_estimators': 405, 'max_depth': 5, 'learning_rate': 0.1786013138111618, 'gamma': 6.452028809398918, 'reg_lambda': 0.8501634663257166, 'min_child_weight': 2.7298065302347068}. Best is trial 247 with value: 0.6269424769364623.\n",
      "[I 2023-12-05 18:56:35,614] Trial 265 finished with value: 0.6070172710780951 and parameters: {'n_estimators': 497, 'max_depth': 9, 'learning_rate': 0.5399436822469262, 'gamma': 8.472878163821727, 'reg_lambda': 0.6700851873965488, 'min_child_weight': 1.4902720204660778}. Best is trial 247 with value: 0.6269424769364623.\n",
      "[I 2023-12-05 18:56:37,861] Trial 266 finished with value: 0.6109113551838782 and parameters: {'n_estimators': 486, 'max_depth': 5, 'learning_rate': 0.3404560645233334, 'gamma': 14.911401468702108, 'reg_lambda': 0.767140220050677, 'min_child_weight': 1.6875341533925394}. Best is trial 247 with value: 0.6269424769364623.\n",
      "[I 2023-12-05 18:56:39,926] Trial 267 finished with value: 0.6233225087717927 and parameters: {'n_estimators': 428, 'max_depth': 5, 'learning_rate': 0.3629661226863108, 'gamma': 8.106823265003422, 'reg_lambda': 0.4157954375613451, 'min_child_weight': 2.2297700997384515}. Best is trial 247 with value: 0.6269424769364623.\n",
      "[I 2023-12-05 18:56:42,050] Trial 268 finished with value: 0.6204542442395475 and parameters: {'n_estimators': 454, 'max_depth': 5, 'learning_rate': 0.3692791707711649, 'gamma': 8.178592603862162, 'reg_lambda': 0.42712693331233087, 'min_child_weight': 2.253804381693277}. Best is trial 247 with value: 0.6269424769364623.\n",
      "[I 2023-12-05 18:56:44,083] Trial 269 finished with value: 0.6202215339334592 and parameters: {'n_estimators': 425, 'max_depth': 4, 'learning_rate': 0.5631038263503231, 'gamma': 7.941669237225972, 'reg_lambda': 0.5759025208034261, 'min_child_weight': 2.359048023791684}. Best is trial 247 with value: 0.6269424769364623.\n",
      "[I 2023-12-05 18:56:46,255] Trial 270 finished with value: 0.6212250816310823 and parameters: {'n_estimators': 437, 'max_depth': 5, 'learning_rate': 0.2616371798963998, 'gamma': 9.000307811183093, 'reg_lambda': 0.409638864217089, 'min_child_weight': 2.5659376881308127}. Best is trial 247 with value: 0.6269424769364623.\n",
      "[I 2023-12-05 18:56:48,479] Trial 271 finished with value: 0.6156376758432907 and parameters: {'n_estimators': 460, 'max_depth': 5, 'learning_rate': 0.19537532333520913, 'gamma': 10.178707582040948, 'reg_lambda': 0.9307144604370076, 'min_child_weight': 2.439515721999502}. Best is trial 247 with value: 0.6269424769364623.\n",
      "[I 2023-12-05 18:56:50,136] Trial 272 finished with value: 0.6238802575835074 and parameters: {'n_estimators': 250, 'max_depth': 5, 'learning_rate': 0.6150808017086276, 'gamma': 8.400626471892208, 'reg_lambda': 0.4592163550029671, 'min_child_weight': 2.0708309636520412}. Best is trial 247 with value: 0.6269424769364623.\n",
      "[I 2023-12-05 18:56:51,931] Trial 273 finished with value: 0.6059011790071123 and parameters: {'n_estimators': 245, 'max_depth': 10, 'learning_rate': 0.5993140686155916, 'gamma': 9.438517590089138, 'reg_lambda': 0.4800762489577694, 'min_child_weight': 2.0579169468796645}. Best is trial 247 with value: 0.6269424769364623.\n",
      "[I 2023-12-05 18:56:53,661] Trial 274 finished with value: 0.6112225901606682 and parameters: {'n_estimators': 255, 'max_depth': 9, 'learning_rate': 0.5881692911809658, 'gamma': 8.553744489402094, 'reg_lambda': 0.4117538798675956, 'min_child_weight': 2.2243074735697115}. Best is trial 247 with value: 0.6269424769364623.\n",
      "[I 2023-12-05 18:56:55,859] Trial 275 finished with value: 0.6141184934231816 and parameters: {'n_estimators': 470, 'max_depth': 5, 'learning_rate': 0.5101352520754876, 'gamma': 10.534423554909853, 'reg_lambda': 0.43703153303810516, 'min_child_weight': 2.1473843908632806}. Best is trial 247 with value: 0.6269424769364623.\n",
      "[I 2023-12-05 18:56:57,545] Trial 276 finished with value: 0.6146085696101771 and parameters: {'n_estimators': 266, 'max_depth': 5, 'learning_rate': 0.4404249192905231, 'gamma': 12.61344970548365, 'reg_lambda': 0.46752961326034126, 'min_child_weight': 0.009674508045658392}. Best is trial 247 with value: 0.6269424769364623.\n",
      "[I 2023-12-05 18:56:59,186] Trial 277 finished with value: 0.6221362257556798 and parameters: {'n_estimators': 249, 'max_depth': 5, 'learning_rate': 0.6121668915933912, 'gamma': 8.951812266635347, 'reg_lambda': 0.7885119335680447, 'min_child_weight': 2.3085055272386352}. Best is trial 247 with value: 0.6269424769364623.\n",
      "[I 2023-12-05 18:57:00,815] Trial 278 finished with value: 0.6138553830838533 and parameters: {'n_estimators': 227, 'max_depth': 5, 'learning_rate': 0.634049837477143, 'gamma': 8.287144970108788, 'reg_lambda': 0.44008943371600456, 'min_child_weight': 2.0439246982079804}. Best is trial 247 with value: 0.6269424769364623.\n",
      "[I 2023-12-05 18:57:02,660] Trial 279 finished with value: 0.6168981458147472 and parameters: {'n_estimators': 278, 'max_depth': 5, 'learning_rate': 0.21154180028910638, 'gamma': 5.913897571684518, 'reg_lambda': 0.393334444408963, 'min_child_weight': 2.8579715859345267}. Best is trial 247 with value: 0.6269424769364623.\n",
      "[I 2023-12-05 18:57:04,436] Trial 280 finished with value: 0.6146184015183083 and parameters: {'n_estimators': 242, 'max_depth': 4, 'learning_rate': 0.15269024812171383, 'gamma': 9.747424881402099, 'reg_lambda': 0.5377929156224623, 'min_child_weight': 2.4914289676761228}. Best is trial 247 with value: 0.6269424769364623.\n",
      "[I 2023-12-05 18:57:06,199] Trial 281 finished with value: 0.6193956769436068 and parameters: {'n_estimators': 303, 'max_depth': 5, 'learning_rate': 0.6971577761780359, 'gamma': 8.595480615253878, 'reg_lambda': 0.8342228196951468, 'min_child_weight': 2.210929160257607}. Best is trial 247 with value: 0.6269424769364623.\n",
      "[I 2023-12-05 18:57:07,976] Trial 282 finished with value: 0.6195645543859281 and parameters: {'n_estimators': 260, 'max_depth': 5, 'learning_rate': 0.23777787418028992, 'gamma': 7.431440575420143, 'reg_lambda': 0.4552772187284532, 'min_child_weight': 2.644943069357338}. Best is trial 247 with value: 0.6269424769364623.\n",
      "[I 2023-12-05 18:57:09,710] Trial 283 finished with value: 0.620881086225215 and parameters: {'n_estimators': 251, 'max_depth': 5, 'learning_rate': 0.26663510922567224, 'gamma': 9.225669982643485, 'reg_lambda': 0.4198855435592127, 'min_child_weight': 2.3465445946313395}. Best is trial 247 with value: 0.6269424769364623.\n",
      "[I 2023-12-05 18:57:11,331] Trial 284 finished with value: 0.6162311175817825 and parameters: {'n_estimators': 208, 'max_depth': 5, 'learning_rate': 0.17734653692200358, 'gamma': 16.17358858447174, 'reg_lambda': 0.5635746618683294, 'min_child_weight': 2.08243143492131}. Best is trial 247 with value: 0.6269424769364623.\n",
      "[I 2023-12-05 18:57:13,374] Trial 285 finished with value: 0.6208424398340615 and parameters: {'n_estimators': 342, 'max_depth': 9, 'learning_rate': 0.2495517563200889, 'gamma': 8.036809621969986, 'reg_lambda': 0.8684807703263457, 'min_child_weight': 3.380098580984124}. Best is trial 247 with value: 0.6269424769364623.\n",
      "[I 2023-12-05 18:57:15,710] Trial 286 finished with value: 0.615605356163532 and parameters: {'n_estimators': 416, 'max_depth': 4, 'learning_rate': 0.5477488716622703, 'gamma': 6.6617841775162585, 'reg_lambda': 0.4976871985358165, 'min_child_weight': 1.969160098813602}. Best is trial 247 with value: 0.6269424769364623.\n",
      "[I 2023-12-05 18:57:17,963] Trial 287 finished with value: 0.615798943002791 and parameters: {'n_estimators': 237, 'max_depth': 5, 'learning_rate': 0.44975601893446393, 'gamma': 11.195587574288671, 'reg_lambda': 0.9211918261983884, 'min_child_weight': 2.400094981234675}. Best is trial 247 with value: 0.6269424769364623.\n",
      "[I 2023-12-05 18:57:20,182] Trial 288 finished with value: 0.6198579529114042 and parameters: {'n_estimators': 268, 'max_depth': 6, 'learning_rate': 0.21994678168442658, 'gamma': 5.506594633097875, 'reg_lambda': 0.8188338771809979, 'min_child_weight': 2.2651749724656174}. Best is trial 247 with value: 0.6269424769364623.\n",
      "[I 2023-12-05 18:57:22,269] Trial 289 finished with value: 0.6179260642691036 and parameters: {'n_estimators': 288, 'max_depth': 8, 'learning_rate': 0.2065978779444757, 'gamma': 6.102654415906863, 'reg_lambda': 0.8769606953825403, 'min_child_weight': 3.553879559478505}. Best is trial 247 with value: 0.6269424769364623.\n",
      "[I 2023-12-05 18:57:23,881] Trial 290 finished with value: 0.6141902080882906 and parameters: {'n_estimators': 221, 'max_depth': 5, 'learning_rate': 0.2893420840819376, 'gamma': 18.622222102476815, 'reg_lambda': 0.6493906856228748, 'min_child_weight': 2.178981732422975}. Best is trial 247 with value: 0.6269424769364623.\n",
      "[I 2023-12-05 18:57:25,549] Trial 291 finished with value: 0.6134674788898771 and parameters: {'n_estimators': 253, 'max_depth': 5, 'learning_rate': 0.6450683238606851, 'gamma': 7.061813162537293, 'reg_lambda': 0.8493708916248345, 'min_child_weight': 2.5962401091905063}. Best is trial 247 with value: 0.6269424769364623.\n",
      "[I 2023-12-05 18:57:27,259] Trial 292 finished with value: 0.6181557266496047 and parameters: {'n_estimators': 242, 'max_depth': 5, 'learning_rate': 0.23061991964086007, 'gamma': 7.769746638184435, 'reg_lambda': 0.9440413994762279, 'min_child_weight': 2.456064718024998}. Best is trial 247 with value: 0.6269424769364623.\n",
      "[I 2023-12-05 18:57:29,007] Trial 293 finished with value: 0.6218305707266506 and parameters: {'n_estimators': 261, 'max_depth': 5, 'learning_rate': 0.26399159534188277, 'gamma': 6.338722874966081, 'reg_lambda': 0.7792792686563838, 'min_child_weight': 1.8599033530488138}. Best is trial 247 with value: 0.6269424769364623.\n",
      "[I 2023-12-05 18:57:30,630] Trial 294 finished with value: 0.6146458856544257 and parameters: {'n_estimators': 231, 'max_depth': 5, 'learning_rate': 0.49409347839710244, 'gamma': 7.317941716054142, 'reg_lambda': 0.8867474221853386, 'min_child_weight': 2.75602459942885}. Best is trial 247 with value: 0.6269424769364623.\n",
      "[I 2023-12-05 18:57:32,407] Trial 295 finished with value: 0.6199634804060825 and parameters: {'n_estimators': 275, 'max_depth': 6, 'learning_rate': 0.2463206941979625, 'gamma': 13.39558220816869, 'reg_lambda': 0.863556986301667, 'min_child_weight': 3.7679924759747325}. Best is trial 247 with value: 0.6269424769364623.\n",
      "[I 2023-12-05 18:57:34,110] Trial 296 finished with value: 0.6159545055271032 and parameters: {'n_estimators': 215, 'max_depth': 5, 'learning_rate': 0.1892676353987237, 'gamma': 8.329936914051116, 'reg_lambda': 0.9089236450251472, 'min_child_weight': 2.3378935751639136}. Best is trial 247 with value: 0.6269424769364623.\n",
      "[I 2023-12-05 18:57:36,151] Trial 297 finished with value: 0.6192255993242224 and parameters: {'n_estimators': 251, 'max_depth': 9, 'learning_rate': 0.14104280257080315, 'gamma': 8.817826185371173, 'reg_lambda': 0.42978460821429393, 'min_child_weight': 2.1458081519994536}. Best is trial 247 with value: 0.6269424769364623.\n",
      "[I 2023-12-05 18:57:37,998] Trial 298 finished with value: 0.6222437242089879 and parameters: {'n_estimators': 237, 'max_depth': 6, 'learning_rate': 0.12081763981120357, 'gamma': 11.739437379649598, 'reg_lambda': 0.6005204437695363, 'min_child_weight': 2.9852509691888036}. Best is trial 247 with value: 0.6269424769364623.\n",
      "[I 2023-12-05 18:57:39,858] Trial 299 finished with value: 0.6230639439255453 and parameters: {'n_estimators': 296, 'max_depth': 5, 'learning_rate': 0.22198702967204967, 'gamma': 6.812783411386593, 'reg_lambda': 0.7246708647305317, 'min_child_weight': 2.2590200053001896}. Best is trial 247 with value: 0.6269424769364623.\n"
     ]
    }
   ],
   "source": [
    "study_xgb_smote.optimize(optuna_optimize, n_trials=300)"
   ],
   "metadata": {
    "collapsed": false,
    "ExecuteTime": {
     "end_time": "2023-12-05T15:57:39.879885600Z",
     "start_time": "2023-12-05T15:47:51.266144200Z"
    }
   }
  },
  {
   "cell_type": "code",
   "execution_count": 211,
   "outputs": [
    {
     "name": "stdout",
     "output_type": "stream",
     "text": [
      "Наилучшие значения гиперпараметров XGBoost: {'n_estimators': 468, 'max_depth': 5, 'learning_rate': 0.22247440029449445, 'gamma': 6.039335376322884, 'reg_lambda': 0.6573175248633818, 'min_child_weight': 3.0985353627000154}\n",
      "f1_score на обучающем наборе: 0.627\n"
     ]
    }
   ],
   "source": [
    "print(\"Наилучшие значения гиперпараметров XGBoost: {}\".format(study_xgb_smote.best_params))\n",
    "print(\"f1_score на обучающем наборе: {:.3f}\". format(study_xgb_smote.best_value))"
   ],
   "metadata": {
    "collapsed": false,
    "ExecuteTime": {
     "end_time": "2023-12-05T15:59:45.688344600Z",
     "start_time": "2023-12-05T15:59:45.567011400Z"
    }
   }
  },
  {
   "cell_type": "code",
   "execution_count": 212,
   "outputs": [],
   "source": [
    "with mlflow.start_run(nested=True,\n",
    "                      run_name='xgb_pipeline_smote'):\n",
    "\n",
    "    best_params = study_xgb_smote.best_params\n",
    "    best_score = study_xgb_smote.best_value\n",
    "    mlflow.log_params(best_params)\n",
    "\n",
    "    xgb_pipe_sm = Pipeline([\n",
    "        ('preprocessor', preprocessor),\n",
    "        ('smote', SMOTE(random_state=12345)),\n",
    "        ('model', xgb.XGBClassifier(**best_params,\n",
    "                                    random_state=12345))\n",
    "    ])\n",
    "\n",
    "    xgb_pipe_sm.fit(X_train, y_train)\n",
    "\n",
    "    pred_proba = xgb_pipe_sm.predict_proba(X_test)[:, 1]\n",
    "    roc_auc_xgb_sm = roc_auc_score(y_test, pred_proba)\n",
    "    \n",
    "    mlflow.log_metrics({\n",
    "        'f1_cv': best_score,\n",
    "        'roc_auc': roc_auc_xgb_sm,\n",
    "        'balanced_accuracy': balanced_accuracy_score(y_test, np.round(pred_proba, 0)),\n",
    "        'f1': f1_score(y_test, np.round(pred_proba, 0))\n",
    "    })\n",
    "\n",
    "    mlflow.sklearn.log_model(xgb_pipe_sm, 'xgb_pipeline_smote')"
   ],
   "metadata": {
    "collapsed": false,
    "ExecuteTime": {
     "end_time": "2023-12-05T16:00:00.746207700Z",
     "start_time": "2023-12-05T15:59:48.135500400Z"
    }
   }
  },
  {
   "cell_type": "markdown",
   "source": [
    "### 3.2.2 Случайный лес"
   ],
   "metadata": {
    "collapsed": false
   }
  },
  {
   "cell_type": "code",
   "execution_count": 52,
   "outputs": [],
   "source": [
    "def optuna_optimize(trial):\n",
    "    param = {\n",
    "        'n_estimators': trial.suggest_int('n_estimators', 50, 300),\n",
    "        'max_depth': trial.suggest_int('max_depth', 2, 10),\n",
    "        'min_samples_leaf': trial.suggest_int('min_samples_leaf', 2, 8)\n",
    "    }\n",
    "\n",
    "    estimator = RandomForestClassifier(**param,\n",
    "                                       random_state=12345)\n",
    "\n",
    "    rf_pipe = Pipeline([\n",
    "        ('preprocessor', preprocessor),\n",
    "        ('smote', SMOTE(random_state=12345)),\n",
    "        ('model', estimator)\n",
    "    ])\n",
    "\n",
    "    score = cross_val_score(rf_pipe, X_train, y_train, cv=5, scoring='f1').mean()\n",
    "    return score"
   ],
   "metadata": {
    "collapsed": false,
    "ExecuteTime": {
     "end_time": "2023-12-03T17:51:49.300010700Z",
     "start_time": "2023-12-03T17:51:49.169158600Z"
    }
   }
  },
  {
   "cell_type": "code",
   "execution_count": 53,
   "outputs": [
    {
     "name": "stderr",
     "output_type": "stream",
     "text": [
      "[I 2023-12-03 20:51:53,411] A new study created in memory with name: RandomForest Optuna Optimization SMOTE\n"
     ]
    }
   ],
   "source": [
    "study_rf_smote = optuna.create_study(study_name=\"RandomForest Optuna Optimization SMOTE\",\n",
    "                               direction='maximize')"
   ],
   "metadata": {
    "collapsed": false,
    "ExecuteTime": {
     "end_time": "2023-12-03T17:51:53.647233900Z",
     "start_time": "2023-12-03T17:51:53.411604Z"
    }
   }
  },
  {
   "cell_type": "code",
   "execution_count": 54,
   "outputs": [
    {
     "name": "stderr",
     "output_type": "stream",
     "text": [
      "[I 2023-12-03 20:52:48,101] Trial 0 finished with value: 0.6103503598971308 and parameters: {'n_estimators': 177, 'max_depth': 10, 'min_samples_leaf': 3}. Best is trial 0 with value: 0.6103503598971308.\n",
      "[I 2023-12-03 20:53:57,357] Trial 1 finished with value: 0.6120323701928718 and parameters: {'n_estimators': 268, 'max_depth': 10, 'min_samples_leaf': 6}. Best is trial 1 with value: 0.6120323701928718.\n",
      "[I 2023-12-03 20:54:11,690] Trial 2 finished with value: 0.6069136414767107 and parameters: {'n_estimators': 110, 'max_depth': 10, 'min_samples_leaf': 7}. Best is trial 1 with value: 0.6120323701928718.\n",
      "[I 2023-12-03 20:54:27,806] Trial 3 finished with value: 0.5884352491828644 and parameters: {'n_estimators': 188, 'max_depth': 5, 'min_samples_leaf': 5}. Best is trial 1 with value: 0.6120323701928718.\n",
      "[I 2023-12-03 20:54:34,695] Trial 4 finished with value: 0.5622070047463282 and parameters: {'n_estimators': 115, 'max_depth': 3, 'min_samples_leaf': 6}. Best is trial 1 with value: 0.6120323701928718.\n",
      "[I 2023-12-03 20:54:49,721] Trial 5 finished with value: 0.5639158708046523 and parameters: {'n_estimators': 282, 'max_depth': 3, 'min_samples_leaf': 3}. Best is trial 1 with value: 0.6120323701928718.\n",
      "[I 2023-12-03 20:54:57,390] Trial 6 finished with value: 0.5928174837695902 and parameters: {'n_estimators': 82, 'max_depth': 6, 'min_samples_leaf': 3}. Best is trial 1 with value: 0.6120323701928718.\n",
      "[I 2023-12-03 20:55:17,993] Trial 7 finished with value: 0.5881110725871503 and parameters: {'n_estimators': 270, 'max_depth': 5, 'min_samples_leaf': 8}. Best is trial 1 with value: 0.6120323701928718.\n",
      "[I 2023-12-03 20:55:33,915] Trial 8 finished with value: 0.5967979631934778 and parameters: {'n_estimators': 179, 'max_depth': 6, 'min_samples_leaf': 2}. Best is trial 1 with value: 0.6120323701928718.\n",
      "[I 2023-12-03 20:56:03,025] Trial 9 finished with value: 0.6098565328477449 and parameters: {'n_estimators': 237, 'max_depth': 10, 'min_samples_leaf': 8}. Best is trial 1 with value: 0.6120323701928718.\n",
      "[I 2023-12-03 20:56:26,809] Trial 10 finished with value: 0.6092227666684724 and parameters: {'n_estimators': 222, 'max_depth': 8, 'min_samples_leaf': 5}. Best is trial 1 with value: 0.6120323701928718.\n",
      "[I 2023-12-03 20:56:43,409] Trial 11 finished with value: 0.6041066504615425 and parameters: {'n_estimators': 152, 'max_depth': 8, 'min_samples_leaf': 4}. Best is trial 1 with value: 0.6120323701928718.\n",
      "[I 2023-12-03 20:57:15,443] Trial 12 finished with value: 0.6085608943393608 and parameters: {'n_estimators': 300, 'max_depth': 8, 'min_samples_leaf': 6}. Best is trial 1 with value: 0.6120323701928718.\n",
      "[I 2023-12-03 20:57:43,022] Trial 13 finished with value: 0.6074445273043461 and parameters: {'n_estimators': 233, 'max_depth': 9, 'min_samples_leaf': 2}. Best is trial 1 with value: 0.6120323701928718.\n",
      "[I 2023-12-03 20:57:50,374] Trial 14 finished with value: 0.6082159638073515 and parameters: {'n_estimators': 54, 'max_depth': 10, 'min_samples_leaf': 4}. Best is trial 1 with value: 0.6120323701928718.\n",
      "[I 2023-12-03 20:58:07,599] Trial 15 finished with value: 0.6118372858484726 and parameters: {'n_estimators': 145, 'max_depth': 9, 'min_samples_leaf': 6}. Best is trial 1 with value: 0.6120323701928718.\n",
      "[I 2023-12-03 20:58:21,809] Trial 16 finished with value: 0.6020671802798727 and parameters: {'n_estimators': 144, 'max_depth': 7, 'min_samples_leaf': 6}. Best is trial 1 with value: 0.6120323701928718.\n",
      "[I 2023-12-03 20:58:46,480] Trial 17 finished with value: 0.6086547600319288 and parameters: {'n_estimators': 208, 'max_depth': 9, 'min_samples_leaf': 7}. Best is trial 1 with value: 0.6120323701928718.\n",
      "[I 2023-12-03 20:59:03,790] Trial 18 finished with value: 0.6092546298149737 and parameters: {'n_estimators': 147, 'max_depth': 9, 'min_samples_leaf': 7}. Best is trial 1 with value: 0.6120323701928718.\n",
      "[I 2023-12-03 20:59:28,155] Trial 19 finished with value: 0.5997927181248401 and parameters: {'n_estimators': 247, 'max_depth': 7, 'min_samples_leaf': 5}. Best is trial 1 with value: 0.6120323701928718.\n",
      "[I 2023-12-03 20:59:39,029] Trial 20 finished with value: 0.5496904811339054 and parameters: {'n_estimators': 259, 'max_depth': 2, 'min_samples_leaf': 6}. Best is trial 1 with value: 0.6120323701928718.\n",
      "[I 2023-12-03 21:00:03,915] Trial 21 finished with value: 0.6094291400254152 and parameters: {'n_estimators': 195, 'max_depth': 10, 'min_samples_leaf': 4}. Best is trial 1 with value: 0.6120323701928718.\n",
      "[I 2023-12-03 21:00:18,388] Trial 22 finished with value: 0.605278448094419 and parameters: {'n_estimators': 121, 'max_depth': 9, 'min_samples_leaf': 5}. Best is trial 1 with value: 0.6120323701928718.\n",
      "[I 2023-12-03 21:00:39,792] Trial 23 finished with value: 0.6105158688582659 and parameters: {'n_estimators': 166, 'max_depth': 10, 'min_samples_leaf': 3}. Best is trial 1 with value: 0.6120323701928718.\n",
      "[I 2023-12-03 21:00:59,012] Trial 24 finished with value: 0.6082613780242785 and parameters: {'n_estimators': 166, 'max_depth': 9, 'min_samples_leaf': 7}. Best is trial 1 with value: 0.6120323701928718.\n",
      "[I 2023-12-03 21:01:13,208] Trial 25 finished with value: 0.6074335454084194 and parameters: {'n_estimators': 130, 'max_depth': 8, 'min_samples_leaf': 6}. Best is trial 1 with value: 0.6120323701928718.\n",
      "[I 2023-12-03 21:01:22,356] Trial 26 finished with value: 0.6018646045171405 and parameters: {'n_estimators': 90, 'max_depth': 7, 'min_samples_leaf': 4}. Best is trial 1 with value: 0.6120323701928718.\n",
      "[I 2023-12-03 21:01:48,458] Trial 27 finished with value: 0.6118875754252572 and parameters: {'n_estimators': 209, 'max_depth': 10, 'min_samples_leaf': 5}. Best is trial 1 with value: 0.6120323701928718.\n",
      "[I 2023-12-03 21:02:12,727] Trial 28 finished with value: 0.6088788686765952 and parameters: {'n_estimators': 209, 'max_depth': 9, 'min_samples_leaf': 6}. Best is trial 1 with value: 0.6120323701928718.\n",
      "[I 2023-12-03 21:02:49,586] Trial 29 finished with value: 0.6121792667089481 and parameters: {'n_estimators': 297, 'max_depth': 10, 'min_samples_leaf': 5}. Best is trial 29 with value: 0.6121792667089481.\n",
      "[I 2023-12-03 21:03:26,150] Trial 30 finished with value: 0.611205641445715 and parameters: {'n_estimators': 296, 'max_depth': 10, 'min_samples_leaf': 5}. Best is trial 29 with value: 0.6121792667089481.\n",
      "[I 2023-12-03 21:03:57,722] Trial 31 finished with value: 0.6085576002485479 and parameters: {'n_estimators': 273, 'max_depth': 9, 'min_samples_leaf': 5}. Best is trial 29 with value: 0.6121792667089481.\n",
      "[I 2023-12-03 21:04:29,236] Trial 32 finished with value: 0.6126667675046191 and parameters: {'n_estimators': 255, 'max_depth': 10, 'min_samples_leaf': 6}. Best is trial 32 with value: 0.6126667675046191.\n",
      "[I 2023-12-03 21:05:01,160] Trial 33 finished with value: 0.6107859980420874 and parameters: {'n_estimators': 257, 'max_depth': 10, 'min_samples_leaf': 5}. Best is trial 32 with value: 0.6126667675046191.\n",
      "[I 2023-12-03 21:05:35,918] Trial 34 finished with value: 0.6115752314989922 and parameters: {'n_estimators': 283, 'max_depth': 10, 'min_samples_leaf': 7}. Best is trial 32 with value: 0.6126667675046191.\n",
      "[I 2023-12-03 21:06:08,457] Trial 35 finished with value: 0.6126718092953309 and parameters: {'n_estimators': 254, 'max_depth': 10, 'min_samples_leaf': 6}. Best is trial 35 with value: 0.6126718092953309.\n",
      "[I 2023-12-03 21:06:36,056] Trial 36 finished with value: 0.6058916200192371 and parameters: {'n_estimators': 260, 'max_depth': 8, 'min_samples_leaf': 7}. Best is trial 35 with value: 0.6126718092953309.\n",
      "[I 2023-12-03 21:07:11,542] Trial 37 finished with value: 0.6106829638888684 and parameters: {'n_estimators': 287, 'max_depth': 10, 'min_samples_leaf': 6}. Best is trial 35 with value: 0.6126718092953309.\n",
      "[I 2023-12-03 21:07:27,428] Trial 38 finished with value: 0.579264927980464 and parameters: {'n_estimators': 244, 'max_depth': 4, 'min_samples_leaf': 7}. Best is trial 35 with value: 0.6126718092953309.\n",
      "[I 2023-12-03 21:08:00,246] Trial 39 finished with value: 0.6097718710605486 and parameters: {'n_estimators': 269, 'max_depth': 10, 'min_samples_leaf': 8}. Best is trial 35 with value: 0.6126718092953309.\n",
      "[I 2023-12-03 21:08:17,079] Trial 40 finished with value: 0.5891915599433654 and parameters: {'n_estimators': 221, 'max_depth': 5, 'min_samples_leaf': 6}. Best is trial 35 with value: 0.6126718092953309.\n",
      "[I 2023-12-03 21:08:51,827] Trial 41 finished with value: 0.6117855138845814 and parameters: {'n_estimators': 279, 'max_depth': 10, 'min_samples_leaf': 5}. Best is trial 35 with value: 0.6126718092953309.\n",
      "[I 2023-12-03 21:09:20,980] Trial 42 finished with value: 0.6096468284479647 and parameters: {'n_estimators': 251, 'max_depth': 9, 'min_samples_leaf': 5}. Best is trial 35 with value: 0.6126718092953309.\n",
      "[I 2023-12-03 21:09:50,090] Trial 43 finished with value: 0.6092130313754535 and parameters: {'n_estimators': 233, 'max_depth': 10, 'min_samples_leaf': 4}. Best is trial 35 with value: 0.6126718092953309.\n",
      "[I 2023-12-03 21:10:18,404] Trial 44 finished with value: 0.6081155604052538 and parameters: {'n_estimators': 267, 'max_depth': 8, 'min_samples_leaf': 6}. Best is trial 35 with value: 0.6126718092953309.\n",
      "[I 2023-12-03 21:10:54,619] Trial 45 finished with value: 0.6110222207376934 and parameters: {'n_estimators': 292, 'max_depth': 10, 'min_samples_leaf': 5}. Best is trial 35 with value: 0.6126718092953309.\n",
      "[I 2023-12-03 21:11:20,440] Trial 46 finished with value: 0.6105665566041072 and parameters: {'n_estimators': 222, 'max_depth': 9, 'min_samples_leaf': 6}. Best is trial 35 with value: 0.6126718092953309.\n",
      "[I 2023-12-03 21:11:45,017] Trial 47 finished with value: 0.6082450045741069 and parameters: {'n_estimators': 194, 'max_depth': 10, 'min_samples_leaf': 4}. Best is trial 35 with value: 0.6126718092953309.\n",
      "[I 2023-12-03 21:12:12,948] Trial 48 finished with value: 0.6090257387748401 and parameters: {'n_estimators': 240, 'max_depth': 9, 'min_samples_leaf': 5}. Best is trial 35 with value: 0.6126718092953309.\n",
      "[I 2023-12-03 21:12:30,904] Trial 49 finished with value: 0.5764718303821811 and parameters: {'n_estimators': 279, 'max_depth': 4, 'min_samples_leaf': 6}. Best is trial 35 with value: 0.6126718092953309.\n",
      "[I 2023-12-03 21:12:53,513] Trial 50 finished with value: 0.6046994297427956 and parameters: {'n_estimators': 210, 'max_depth': 8, 'min_samples_leaf': 7}. Best is trial 35 with value: 0.6126718092953309.\n",
      "[I 2023-12-03 21:13:16,208] Trial 51 finished with value: 0.6105792300069891 and parameters: {'n_estimators': 180, 'max_depth': 10, 'min_samples_leaf': 6}. Best is trial 35 with value: 0.6126718092953309.\n",
      "[I 2023-12-03 21:13:28,248] Trial 52 finished with value: 0.6119310952019399 and parameters: {'n_estimators': 100, 'max_depth': 9, 'min_samples_leaf': 6}. Best is trial 35 with value: 0.6126718092953309.\n",
      "[I 2023-12-03 21:13:54,803] Trial 53 finished with value: 0.6105089787510637 and parameters: {'n_estimators': 229, 'max_depth': 9, 'min_samples_leaf': 6}. Best is trial 35 with value: 0.6126718092953309.\n",
      "[I 2023-12-03 21:14:02,216] Trial 54 finished with value: 0.6105682260809667 and parameters: {'n_estimators': 55, 'max_depth': 10, 'min_samples_leaf': 5}. Best is trial 35 with value: 0.6126718092953309.\n",
      "[I 2023-12-03 21:14:14,925] Trial 55 finished with value: 0.6068951974605385 and parameters: {'n_estimators': 99, 'max_depth': 10, 'min_samples_leaf': 6}. Best is trial 35 with value: 0.6126718092953309.\n",
      "[I 2023-12-03 21:14:45,098] Trial 56 finished with value: 0.6083743317075394 and parameters: {'n_estimators': 260, 'max_depth': 9, 'min_samples_leaf': 7}. Best is trial 35 with value: 0.6126718092953309.\n",
      "[I 2023-12-03 21:15:21,338] Trial 57 finished with value: 0.6110222207376934 and parameters: {'n_estimators': 292, 'max_depth': 10, 'min_samples_leaf': 5}. Best is trial 35 with value: 0.6126718092953309.\n",
      "[I 2023-12-03 21:15:27,949] Trial 58 finished with value: 0.59275978724908 and parameters: {'n_estimators': 70, 'max_depth': 6, 'min_samples_leaf': 6}. Best is trial 35 with value: 0.6126718092953309.\n",
      "[I 2023-12-03 21:15:57,182] Trial 59 finished with value: 0.608387898123867 and parameters: {'n_estimators': 250, 'max_depth': 9, 'min_samples_leaf': 4}. Best is trial 35 with value: 0.6126718092953309.\n",
      "[I 2023-12-03 21:16:26,050] Trial 60 finished with value: 0.5996899436592743 and parameters: {'n_estimators': 299, 'max_depth': 7, 'min_samples_leaf': 5}. Best is trial 35 with value: 0.6126718092953309.\n",
      "[I 2023-12-03 21:16:42,356] Trial 61 finished with value: 0.6130420515434699 and parameters: {'n_estimators': 138, 'max_depth': 9, 'min_samples_leaf': 6}. Best is trial 61 with value: 0.6130420515434699.\n",
      "[I 2023-12-03 21:16:58,060] Trial 62 finished with value: 0.6123191178703341 and parameters: {'n_estimators': 133, 'max_depth': 9, 'min_samples_leaf': 6}. Best is trial 61 with value: 0.6130420515434699.\n",
      "[I 2023-12-03 21:17:13,471] Trial 63 finished with value: 0.6072451132112459 and parameters: {'n_estimators': 136, 'max_depth': 8, 'min_samples_leaf': 6}. Best is trial 61 with value: 0.6130420515434699.\n",
      "[I 2023-12-03 21:17:26,783] Trial 64 finished with value: 0.6109258444502325 and parameters: {'n_estimators': 110, 'max_depth': 9, 'min_samples_leaf': 6}. Best is trial 61 with value: 0.6130420515434699.\n",
      "[I 2023-12-03 21:17:45,782] Trial 65 finished with value: 0.6076838230933079 and parameters: {'n_estimators': 160, 'max_depth': 9, 'min_samples_leaf': 7}. Best is trial 61 with value: 0.6130420515434699.\n",
      "[I 2023-12-03 21:17:59,864] Trial 66 finished with value: 0.6113634642663951 and parameters: {'n_estimators': 118, 'max_depth': 9, 'min_samples_leaf': 6}. Best is trial 61 with value: 0.6130420515434699.\n",
      "[I 2023-12-03 21:18:10,461] Trial 67 finished with value: 0.6038719559198248 and parameters: {'n_estimators': 95, 'max_depth': 8, 'min_samples_leaf': 7}. Best is trial 61 with value: 0.6130420515434699.\n",
      "[I 2023-12-03 21:18:27,427] Trial 68 finished with value: 0.6098060724685005 and parameters: {'n_estimators': 135, 'max_depth': 10, 'min_samples_leaf': 6}. Best is trial 61 with value: 0.6130420515434699.\n",
      "[I 2023-12-03 21:18:40,318] Trial 69 finished with value: 0.609400585785583 and parameters: {'n_estimators': 108, 'max_depth': 9, 'min_samples_leaf': 7}. Best is trial 61 with value: 0.6130420515434699.\n",
      "[I 2023-12-03 21:18:51,148] Trial 70 finished with value: 0.6120526422252768 and parameters: {'n_estimators': 84, 'max_depth': 10, 'min_samples_leaf': 6}. Best is trial 61 with value: 0.6130420515434699.\n",
      "[I 2023-12-03 21:19:01,756] Trial 71 finished with value: 0.6095457597609011 and parameters: {'n_estimators': 82, 'max_depth': 10, 'min_samples_leaf': 6}. Best is trial 61 with value: 0.6130420515434699.\n",
      "[I 2023-12-03 21:19:10,741] Trial 72 finished with value: 0.6099414009896595 and parameters: {'n_estimators': 68, 'max_depth': 10, 'min_samples_leaf': 6}. Best is trial 61 with value: 0.6130420515434699.\n",
      "[I 2023-12-03 21:19:22,852] Trial 73 finished with value: 0.6110855626475408 and parameters: {'n_estimators': 101, 'max_depth': 9, 'min_samples_leaf': 6}. Best is trial 61 with value: 0.6130420515434699.\n",
      "[I 2023-12-03 21:19:28,352] Trial 74 finished with value: 0.5398726145319176 and parameters: {'n_estimators': 123, 'max_depth': 2, 'min_samples_leaf': 6}. Best is trial 61 with value: 0.6130420515434699.\n",
      "[I 2023-12-03 21:19:47,778] Trial 75 finished with value: 0.6098435170984287 and parameters: {'n_estimators': 156, 'max_depth': 10, 'min_samples_leaf': 7}. Best is trial 61 with value: 0.6130420515434699.\n",
      "[I 2023-12-03 21:19:58,779] Trial 76 finished with value: 0.6092902998864492 and parameters: {'n_estimators': 85, 'max_depth': 10, 'min_samples_leaf': 6}. Best is trial 61 with value: 0.6130420515434699.\n",
      "[I 2023-12-03 21:20:13,957] Trial 77 finished with value: 0.6042194164872444 and parameters: {'n_estimators': 127, 'max_depth': 9, 'min_samples_leaf': 5}. Best is trial 61 with value: 0.6130420515434699.\n",
      "[I 2023-12-03 21:20:22,531] Trial 78 finished with value: 0.6096974380943692 and parameters: {'n_estimators': 65, 'max_depth': 10, 'min_samples_leaf': 6}. Best is trial 61 with value: 0.6130420515434699.\n",
      "[I 2023-12-03 21:20:56,249] Trial 79 finished with value: 0.6123500138469695 and parameters: {'n_estimators': 275, 'max_depth': 10, 'min_samples_leaf': 7}. Best is trial 61 with value: 0.6130420515434699.\n",
      "[I 2023-12-03 21:21:31,282] Trial 80 finished with value: 0.6093022384619344 and parameters: {'n_estimators': 287, 'max_depth': 10, 'min_samples_leaf': 8}. Best is trial 61 with value: 0.6130420515434699.\n",
      "[I 2023-12-03 21:22:04,760] Trial 81 finished with value: 0.6108967294404147 and parameters: {'n_estimators': 273, 'max_depth': 10, 'min_samples_leaf': 7}. Best is trial 61 with value: 0.6130420515434699.\n",
      "[I 2023-12-03 21:22:38,395] Trial 82 finished with value: 0.6123500138469695 and parameters: {'n_estimators': 275, 'max_depth': 10, 'min_samples_leaf': 7}. Best is trial 61 with value: 0.6130420515434699.\n",
      "[I 2023-12-03 21:23:10,922] Trial 83 finished with value: 0.6103653428706376 and parameters: {'n_estimators': 267, 'max_depth': 10, 'min_samples_leaf': 8}. Best is trial 61 with value: 0.6130420515434699.\n",
      "[I 2023-12-03 21:23:41,931] Trial 84 finished with value: 0.6102244612581323 and parameters: {'n_estimators': 253, 'max_depth': 10, 'min_samples_leaf': 7}. Best is trial 61 with value: 0.6130420515434699.\n",
      "[I 2023-12-03 21:24:16,202] Trial 85 finished with value: 0.6109687603983777 and parameters: {'n_estimators': 280, 'max_depth': 10, 'min_samples_leaf': 7}. Best is trial 61 with value: 0.6130420515434699.\n",
      "[I 2023-12-03 21:24:48,814] Trial 86 finished with value: 0.6105472861364718 and parameters: {'n_estimators': 264, 'max_depth': 10, 'min_samples_leaf': 8}. Best is trial 61 with value: 0.6130420515434699.\n",
      "[I 2023-12-03 21:25:10,281] Trial 87 finished with value: 0.6097876376020942 and parameters: {'n_estimators': 173, 'max_depth': 10, 'min_samples_leaf': 7}. Best is trial 61 with value: 0.6130420515434699.\n",
      "[I 2023-12-03 21:25:42,331] Trial 88 finished with value: 0.6085563139895257 and parameters: {'n_estimators': 277, 'max_depth': 9, 'min_samples_leaf': 5}. Best is trial 61 with value: 0.6130420515434699.\n",
      "[I 2023-12-03 21:26:18,270] Trial 89 finished with value: 0.6108969872992206 and parameters: {'n_estimators': 286, 'max_depth': 10, 'min_samples_leaf': 3}. Best is trial 61 with value: 0.6130420515434699.\n",
      "[I 2023-12-03 21:26:49,431] Trial 90 finished with value: 0.60957860619628 and parameters: {'n_estimators': 245, 'max_depth': 10, 'min_samples_leaf': 2}. Best is trial 61 with value: 0.6130420515434699.\n",
      "[I 2023-12-03 21:27:06,818] Trial 91 finished with value: 0.6121935246827986 and parameters: {'n_estimators': 147, 'max_depth': 9, 'min_samples_leaf': 6}. Best is trial 61 with value: 0.6130420515434699.\n",
      "[I 2023-12-03 21:27:23,437] Trial 92 finished with value: 0.6121450743633625 and parameters: {'n_estimators': 140, 'max_depth': 9, 'min_samples_leaf': 6}. Best is trial 61 with value: 0.6130420515434699.\n",
      "[I 2023-12-03 21:27:40,996] Trial 93 finished with value: 0.6122059004201234 and parameters: {'n_estimators': 149, 'max_depth': 9, 'min_samples_leaf': 6}. Best is trial 61 with value: 0.6130420515434699.\n",
      "[I 2023-12-03 21:27:56,368] Trial 94 finished with value: 0.6082388427545883 and parameters: {'n_estimators': 142, 'max_depth': 8, 'min_samples_leaf': 6}. Best is trial 61 with value: 0.6130420515434699.\n",
      "[I 2023-12-03 21:28:13,318] Trial 95 finished with value: 0.6116066355366723 and parameters: {'n_estimators': 144, 'max_depth': 9, 'min_samples_leaf': 6}. Best is trial 61 with value: 0.6130420515434699.\n",
      "[I 2023-12-03 21:28:29,658] Trial 96 finished with value: 0.6053335841186327 and parameters: {'n_estimators': 150, 'max_depth': 8, 'min_samples_leaf': 5}. Best is trial 61 with value: 0.6130420515434699.\n",
      "[I 2023-12-03 21:28:46,100] Trial 97 finished with value: 0.6115037897658029 and parameters: {'n_estimators': 139, 'max_depth': 9, 'min_samples_leaf': 6}. Best is trial 61 with value: 0.6130420515434699.\n",
      "[I 2023-12-03 21:29:00,323] Trial 98 finished with value: 0.5940618687686193 and parameters: {'n_estimators': 160, 'max_depth': 6, 'min_samples_leaf': 7}. Best is trial 61 with value: 0.6130420515434699.\n",
      "[I 2023-12-03 21:29:14,872] Trial 99 finished with value: 0.6048249432522772 and parameters: {'n_estimators': 132, 'max_depth': 8, 'min_samples_leaf': 5}. Best is trial 61 with value: 0.6130420515434699.\n"
     ]
    }
   ],
   "source": [
    "study_rf_smote.optimize(optuna_optimize, n_trials=100)"
   ],
   "metadata": {
    "collapsed": false,
    "ExecuteTime": {
     "end_time": "2023-12-03T18:29:14.894108300Z",
     "start_time": "2023-12-03T17:51:58.026905200Z"
    }
   }
  },
  {
   "cell_type": "code",
   "execution_count": 55,
   "outputs": [
    {
     "name": "stdout",
     "output_type": "stream",
     "text": [
      "Наилучшие значения гиперпараметров RandomForest: {'n_estimators': 138, 'max_depth': 9, 'min_samples_leaf': 6}\n",
      "f1_score на обучающем наборе: 0.613\n"
     ]
    }
   ],
   "source": [
    "print(\"Наилучшие значения гиперпараметров RandomForest: {}\".format(study_rf_smote.best_params))\n",
    "print(\"f1_score на обучающем наборе: {:.3f}\". format(study_rf_smote.best_value))"
   ],
   "metadata": {
    "collapsed": false,
    "ExecuteTime": {
     "end_time": "2023-12-03T19:14:02.442762600Z",
     "start_time": "2023-12-03T19:14:02.404240100Z"
    }
   }
  },
  {
   "cell_type": "code",
   "execution_count": 141,
   "outputs": [],
   "source": [
    "with mlflow.start_run(nested=True,\n",
    "                      run_name='rf_pipeline_smote'):\n",
    "\n",
    "    best_params = study_rf_smote.best_params\n",
    "    best_score = study_rf_smote.best_value\n",
    "    mlflow.log_params(best_params)\n",
    "\n",
    "    rf_pipe_sm = Pipeline([\n",
    "        ('preprocessor', preprocessor),\n",
    "        ('smote', SMOTE(random_state=12345)),\n",
    "        ('model', RandomForestClassifier(**best_params,\n",
    "                                         random_state=12345))\n",
    "    ])\n",
    "\n",
    "    rf_pipe_sm.fit(X_train, y_train)\n",
    "\n",
    "    pred_proba = rf_pipe_sm.predict_proba(X_test)[:, 1]\n",
    "    roc_auc_rf_sm = roc_auc_score(y_test, pred_proba)\n",
    "    \n",
    "    mlflow.log_metrics({\n",
    "        'f1_cv': best_score,\n",
    "        'roc_auc': roc_auc_rf_sm,\n",
    "        'balanced_accuracy': balanced_accuracy_score(y_test, np.round(pred_proba, 0)),\n",
    "        'f1': f1_score(y_test, np.round(pred_proba, 0))\n",
    "    })\n",
    "    \n",
    "    mlflow.sklearn.log_model(rf_pipe_sm, 'rf_pipeline_smote')"
   ],
   "metadata": {
    "collapsed": false,
    "ExecuteTime": {
     "end_time": "2023-12-05T13:51:25.440272500Z",
     "start_time": "2023-12-05T13:51:17.445524500Z"
    }
   }
  },
  {
   "cell_type": "markdown",
   "source": [
    "### 3.2.3 Логистическая регрессия"
   ],
   "metadata": {
    "collapsed": false
   }
  },
  {
   "cell_type": "code",
   "execution_count": 57,
   "outputs": [],
   "source": [
    "cat_pipeline = Pipeline([\n",
    "    ('enc', OneHotEncoder(handle_unknown='error', drop='first'))\n",
    "])\n",
    "\n",
    "num_pipeline = Pipeline([\n",
    "    ('imp', SimpleImputer(fill_value=-1, add_indicator=True)),\n",
    "    ('pt', PowerTransformer()),\n",
    "    ('scal', StandardScaler())\n",
    "])\n",
    "\n",
    "preprocessor = ColumnTransformer([\n",
    "    (\"cat\", cat_pipeline, categorical_features),\n",
    "    (\"num\", num_pipeline, numeric_features)\n",
    "], remainder='passthrough')"
   ],
   "metadata": {
    "collapsed": false,
    "ExecuteTime": {
     "end_time": "2023-12-03T19:14:15.501799100Z",
     "start_time": "2023-12-03T19:14:15.469706Z"
    }
   }
  },
  {
   "cell_type": "code",
   "execution_count": 58,
   "outputs": [],
   "source": [
    "def optuna_optimize(trial):\n",
    "    param = {\n",
    "        'solver': trial.suggest_categorical('solver', ['lbfgs', 'saga'])\n",
    "    }\n",
    "\n",
    "    if param['solver'] == 'lbfgs':\n",
    "        param['penalty'] = 'l2' \n",
    "\n",
    "    if param['solver'] == 'saga':\n",
    "        param['penalty'] = 'elasticnet' \n",
    "        param['C'] = trial.suggest_float('C', 0.01, 100) # какие тут значения?\n",
    "        param['l1_ratio'] = trial.suggest_float('l1_ratio', 0, 1)\n",
    "        param['max_iter'] = 1000 \n",
    "\n",
    "    estimator = LogisticRegression(**param,\n",
    "                                   random_state=12345)\n",
    "\n",
    "    log_reg_pipe = Pipeline([\n",
    "        ('preprocessor', preprocessor),\n",
    "        ('smote', SMOTE(random_state=12345)),\n",
    "        ('model', estimator)\n",
    "    ])\n",
    "\n",
    "    score = cross_val_score(log_reg_pipe, X_train, y_train, cv=5, scoring='f1').mean()\n",
    "    return score"
   ],
   "metadata": {
    "collapsed": false,
    "ExecuteTime": {
     "end_time": "2023-12-03T19:14:15.555443100Z",
     "start_time": "2023-12-03T19:14:15.485008900Z"
    }
   }
  },
  {
   "cell_type": "code",
   "execution_count": 59,
   "outputs": [
    {
     "name": "stderr",
     "output_type": "stream",
     "text": [
      "[I 2023-12-03 22:14:15,500] A new study created in memory with name: LogisticRegression Optuna Optimization SMOTE\n"
     ]
    }
   ],
   "source": [
    "study_log_reg_smote = optuna.create_study(study_name=\"LogisticRegression Optuna Optimization SMOTE\",\n",
    "                                    direction='maximize')"
   ],
   "metadata": {
    "collapsed": false,
    "ExecuteTime": {
     "end_time": "2023-12-03T19:14:15.569837400Z",
     "start_time": "2023-12-03T19:14:15.498188400Z"
    }
   }
  },
  {
   "cell_type": "code",
   "execution_count": 60,
   "outputs": [
    {
     "name": "stderr",
     "output_type": "stream",
     "text": [
      "[I 2023-12-03 22:14:17,727] Trial 0 finished with value: 0.4931691414132686 and parameters: {'solver': 'lbfgs'}. Best is trial 0 with value: 0.4931691414132686.\n",
      "[I 2023-12-03 22:14:18,392] Trial 1 finished with value: 0.4931691414132686 and parameters: {'solver': 'lbfgs'}. Best is trial 0 with value: 0.4931691414132686.\n",
      "[I 2023-12-03 22:14:19,045] Trial 2 finished with value: 0.4931691414132686 and parameters: {'solver': 'lbfgs'}. Best is trial 0 with value: 0.4931691414132686.\n",
      "[I 2023-12-03 22:14:19,907] Trial 3 finished with value: 0.49305864444463354 and parameters: {'solver': 'saga', 'C': 8.305205815636853, 'l1_ratio': 0.09785984244984902}. Best is trial 0 with value: 0.4931691414132686.\n",
      "[I 2023-12-03 22:14:20,761] Trial 4 finished with value: 0.49305864444463354 and parameters: {'solver': 'saga', 'C': 31.790984080876587, 'l1_ratio': 0.5396807007680371}. Best is trial 0 with value: 0.4931691414132686.\n",
      "[I 2023-12-03 22:14:21,466] Trial 5 finished with value: 0.4931691414132686 and parameters: {'solver': 'lbfgs'}. Best is trial 0 with value: 0.4931691414132686.\n",
      "[I 2023-12-03 22:14:22,509] Trial 6 finished with value: 0.49305864444463354 and parameters: {'solver': 'saga', 'C': 75.34954788591718, 'l1_ratio': 0.014087476007757171}. Best is trial 0 with value: 0.4931691414132686.\n",
      "[I 2023-12-03 22:14:23,257] Trial 7 finished with value: 0.4931691414132686 and parameters: {'solver': 'lbfgs'}. Best is trial 0 with value: 0.4931691414132686.\n",
      "[I 2023-12-03 22:14:24,623] Trial 8 finished with value: 0.4931691414132686 and parameters: {'solver': 'lbfgs'}. Best is trial 0 with value: 0.4931691414132686.\n",
      "[I 2023-12-03 22:14:25,650] Trial 9 finished with value: 0.4931691414132686 and parameters: {'solver': 'lbfgs'}. Best is trial 0 with value: 0.4931691414132686.\n",
      "[I 2023-12-03 22:14:26,601] Trial 10 finished with value: 0.49305864444463354 and parameters: {'solver': 'saga', 'C': 97.70448320845352, 'l1_ratio': 0.9267838159616275}. Best is trial 0 with value: 0.4931691414132686.\n",
      "[I 2023-12-03 22:14:27,272] Trial 11 finished with value: 0.4931691414132686 and parameters: {'solver': 'lbfgs'}. Best is trial 0 with value: 0.4931691414132686.\n",
      "[I 2023-12-03 22:14:27,955] Trial 12 finished with value: 0.4931691414132686 and parameters: {'solver': 'lbfgs'}. Best is trial 0 with value: 0.4931691414132686.\n",
      "[I 2023-12-03 22:14:28,913] Trial 13 finished with value: 0.4931691414132686 and parameters: {'solver': 'lbfgs'}. Best is trial 0 with value: 0.4931691414132686.\n",
      "[I 2023-12-03 22:14:29,795] Trial 14 finished with value: 0.4931691414132686 and parameters: {'solver': 'lbfgs'}. Best is trial 0 with value: 0.4931691414132686.\n",
      "[I 2023-12-03 22:14:30,707] Trial 15 finished with value: 0.4931691414132686 and parameters: {'solver': 'lbfgs'}. Best is trial 0 with value: 0.4931691414132686.\n",
      "[I 2023-12-03 22:14:31,511] Trial 16 finished with value: 0.4931691414132686 and parameters: {'solver': 'lbfgs'}. Best is trial 0 with value: 0.4931691414132686.\n",
      "[I 2023-12-03 22:14:32,421] Trial 17 finished with value: 0.4931691414132686 and parameters: {'solver': 'lbfgs'}. Best is trial 0 with value: 0.4931691414132686.\n",
      "[I 2023-12-03 22:14:33,618] Trial 18 finished with value: 0.49305864444463354 and parameters: {'solver': 'saga', 'C': 46.08594515244077, 'l1_ratio': 0.896924484078568}. Best is trial 0 with value: 0.4931691414132686.\n",
      "[I 2023-12-03 22:14:34,468] Trial 19 finished with value: 0.4931691414132686 and parameters: {'solver': 'lbfgs'}. Best is trial 0 with value: 0.4931691414132686.\n",
      "[I 2023-12-03 22:14:35,382] Trial 20 finished with value: 0.4931691414132686 and parameters: {'solver': 'lbfgs'}. Best is trial 0 with value: 0.4931691414132686.\n",
      "[I 2023-12-03 22:14:36,255] Trial 21 finished with value: 0.4931691414132686 and parameters: {'solver': 'lbfgs'}. Best is trial 0 with value: 0.4931691414132686.\n",
      "[I 2023-12-03 22:14:37,104] Trial 22 finished with value: 0.4931691414132686 and parameters: {'solver': 'lbfgs'}. Best is trial 0 with value: 0.4931691414132686.\n",
      "[I 2023-12-03 22:14:37,972] Trial 23 finished with value: 0.4931691414132686 and parameters: {'solver': 'lbfgs'}. Best is trial 0 with value: 0.4931691414132686.\n",
      "[I 2023-12-03 22:14:38,883] Trial 24 finished with value: 0.4931691414132686 and parameters: {'solver': 'lbfgs'}. Best is trial 0 with value: 0.4931691414132686.\n",
      "[I 2023-12-03 22:14:39,770] Trial 25 finished with value: 0.4931691414132686 and parameters: {'solver': 'lbfgs'}. Best is trial 0 with value: 0.4931691414132686.\n",
      "[I 2023-12-03 22:14:40,936] Trial 26 finished with value: 0.49305864444463354 and parameters: {'solver': 'saga', 'C': 3.3986096261819654, 'l1_ratio': 0.38461329934236854}. Best is trial 0 with value: 0.4931691414132686.\n",
      "[I 2023-12-03 22:14:41,873] Trial 27 finished with value: 0.4931691414132686 and parameters: {'solver': 'lbfgs'}. Best is trial 0 with value: 0.4931691414132686.\n",
      "[I 2023-12-03 22:14:42,770] Trial 28 finished with value: 0.4931691414132686 and parameters: {'solver': 'lbfgs'}. Best is trial 0 with value: 0.4931691414132686.\n",
      "[I 2023-12-03 22:14:44,046] Trial 29 finished with value: 0.49305864444463354 and parameters: {'solver': 'saga', 'C': 65.4926496160856, 'l1_ratio': 0.6259477236945759}. Best is trial 0 with value: 0.4931691414132686.\n",
      "[I 2023-12-03 22:14:44,955] Trial 30 finished with value: 0.4931691414132686 and parameters: {'solver': 'lbfgs'}. Best is trial 0 with value: 0.4931691414132686.\n",
      "[I 2023-12-03 22:14:45,923] Trial 31 finished with value: 0.4931691414132686 and parameters: {'solver': 'lbfgs'}. Best is trial 0 with value: 0.4931691414132686.\n",
      "[I 2023-12-03 22:14:46,856] Trial 32 finished with value: 0.4931691414132686 and parameters: {'solver': 'lbfgs'}. Best is trial 0 with value: 0.4931691414132686.\n",
      "[I 2023-12-03 22:14:47,740] Trial 33 finished with value: 0.4931691414132686 and parameters: {'solver': 'lbfgs'}. Best is trial 0 with value: 0.4931691414132686.\n",
      "[I 2023-12-03 22:14:48,931] Trial 34 finished with value: 0.49305864444463354 and parameters: {'solver': 'saga', 'C': 34.13822733197978, 'l1_ratio': 0.2652842657367389}. Best is trial 0 with value: 0.4931691414132686.\n",
      "[I 2023-12-03 22:14:49,839] Trial 35 finished with value: 0.4931691414132686 and parameters: {'solver': 'lbfgs'}. Best is trial 0 with value: 0.4931691414132686.\n",
      "[I 2023-12-03 22:14:50,741] Trial 36 finished with value: 0.4931691414132686 and parameters: {'solver': 'lbfgs'}. Best is trial 0 with value: 0.4931691414132686.\n",
      "[I 2023-12-03 22:14:51,868] Trial 37 finished with value: 0.49305864444463354 and parameters: {'solver': 'saga', 'C': 94.45902562660683, 'l1_ratio': 0.7251694733593765}. Best is trial 0 with value: 0.4931691414132686.\n",
      "[I 2023-12-03 22:14:52,775] Trial 38 finished with value: 0.4931691414132686 and parameters: {'solver': 'lbfgs'}. Best is trial 0 with value: 0.4931691414132686.\n",
      "[I 2023-12-03 22:14:53,684] Trial 39 finished with value: 0.4931691414132686 and parameters: {'solver': 'lbfgs'}. Best is trial 0 with value: 0.4931691414132686.\n",
      "[I 2023-12-03 22:14:54,570] Trial 40 finished with value: 0.4931691414132686 and parameters: {'solver': 'lbfgs'}. Best is trial 0 with value: 0.4931691414132686.\n",
      "[I 2023-12-03 22:14:55,411] Trial 41 finished with value: 0.4931691414132686 and parameters: {'solver': 'lbfgs'}. Best is trial 0 with value: 0.4931691414132686.\n",
      "[I 2023-12-03 22:14:56,285] Trial 42 finished with value: 0.4931691414132686 and parameters: {'solver': 'lbfgs'}. Best is trial 0 with value: 0.4931691414132686.\n",
      "[I 2023-12-03 22:14:57,183] Trial 43 finished with value: 0.4931691414132686 and parameters: {'solver': 'lbfgs'}. Best is trial 0 with value: 0.4931691414132686.\n",
      "[I 2023-12-03 22:14:58,087] Trial 44 finished with value: 0.4931691414132686 and parameters: {'solver': 'lbfgs'}. Best is trial 0 with value: 0.4931691414132686.\n",
      "[I 2023-12-03 22:14:59,052] Trial 45 finished with value: 0.4931691414132686 and parameters: {'solver': 'lbfgs'}. Best is trial 0 with value: 0.4931691414132686.\n",
      "[I 2023-12-03 22:15:00,012] Trial 46 finished with value: 0.4931691414132686 and parameters: {'solver': 'lbfgs'}. Best is trial 0 with value: 0.4931691414132686.\n",
      "[I 2023-12-03 22:15:01,263] Trial 47 finished with value: 0.49305864444463354 and parameters: {'solver': 'saga', 'C': 61.29104432340605, 'l1_ratio': 0.34629308554179156}. Best is trial 0 with value: 0.4931691414132686.\n",
      "[I 2023-12-03 22:15:02,145] Trial 48 finished with value: 0.4931691414132686 and parameters: {'solver': 'lbfgs'}. Best is trial 0 with value: 0.4931691414132686.\n",
      "[I 2023-12-03 22:15:03,075] Trial 49 finished with value: 0.4931691414132686 and parameters: {'solver': 'lbfgs'}. Best is trial 0 with value: 0.4931691414132686.\n",
      "[I 2023-12-03 22:15:04,045] Trial 50 finished with value: 0.4931691414132686 and parameters: {'solver': 'lbfgs'}. Best is trial 0 with value: 0.4931691414132686.\n",
      "[I 2023-12-03 22:15:05,003] Trial 51 finished with value: 0.4931691414132686 and parameters: {'solver': 'lbfgs'}. Best is trial 0 with value: 0.4931691414132686.\n",
      "[I 2023-12-03 22:15:05,913] Trial 52 finished with value: 0.4931691414132686 and parameters: {'solver': 'lbfgs'}. Best is trial 0 with value: 0.4931691414132686.\n",
      "[I 2023-12-03 22:15:06,837] Trial 53 finished with value: 0.4931691414132686 and parameters: {'solver': 'lbfgs'}. Best is trial 0 with value: 0.4931691414132686.\n",
      "[I 2023-12-03 22:15:07,771] Trial 54 finished with value: 0.4931691414132686 and parameters: {'solver': 'lbfgs'}. Best is trial 0 with value: 0.4931691414132686.\n",
      "[I 2023-12-03 22:15:08,609] Trial 55 finished with value: 0.4931691414132686 and parameters: {'solver': 'lbfgs'}. Best is trial 0 with value: 0.4931691414132686.\n",
      "[I 2023-12-03 22:15:09,512] Trial 56 finished with value: 0.4931691414132686 and parameters: {'solver': 'lbfgs'}. Best is trial 0 with value: 0.4931691414132686.\n",
      "[I 2023-12-03 22:15:10,442] Trial 57 finished with value: 0.4931691414132686 and parameters: {'solver': 'lbfgs'}. Best is trial 0 with value: 0.4931691414132686.\n",
      "[I 2023-12-03 22:15:11,622] Trial 58 finished with value: 0.49305864444463354 and parameters: {'solver': 'saga', 'C': 21.96580810394407, 'l1_ratio': 0.7462093429125424}. Best is trial 0 with value: 0.4931691414132686.\n",
      "[I 2023-12-03 22:15:12,514] Trial 59 finished with value: 0.4931691414132686 and parameters: {'solver': 'lbfgs'}. Best is trial 0 with value: 0.4931691414132686.\n",
      "[I 2023-12-03 22:15:13,414] Trial 60 finished with value: 0.4931691414132686 and parameters: {'solver': 'lbfgs'}. Best is trial 0 with value: 0.4931691414132686.\n",
      "[I 2023-12-03 22:15:14,381] Trial 61 finished with value: 0.4931691414132686 and parameters: {'solver': 'lbfgs'}. Best is trial 0 with value: 0.4931691414132686.\n",
      "[I 2023-12-03 22:15:15,295] Trial 62 finished with value: 0.4931691414132686 and parameters: {'solver': 'lbfgs'}. Best is trial 0 with value: 0.4931691414132686.\n",
      "[I 2023-12-03 22:15:16,196] Trial 63 finished with value: 0.4931691414132686 and parameters: {'solver': 'lbfgs'}. Best is trial 0 with value: 0.4931691414132686.\n",
      "[I 2023-12-03 22:15:17,141] Trial 64 finished with value: 0.4931691414132686 and parameters: {'solver': 'lbfgs'}. Best is trial 0 with value: 0.4931691414132686.\n",
      "[I 2023-12-03 22:15:18,087] Trial 65 finished with value: 0.4931691414132686 and parameters: {'solver': 'lbfgs'}. Best is trial 0 with value: 0.4931691414132686.\n",
      "[I 2023-12-03 22:15:19,097] Trial 66 finished with value: 0.4931691414132686 and parameters: {'solver': 'lbfgs'}. Best is trial 0 with value: 0.4931691414132686.\n",
      "[I 2023-12-03 22:15:20,325] Trial 67 finished with value: 0.49305864444463354 and parameters: {'solver': 'saga', 'C': 79.05218539779268, 'l1_ratio': 0.18117899789831748}. Best is trial 0 with value: 0.4931691414132686.\n",
      "[I 2023-12-03 22:15:21,275] Trial 68 finished with value: 0.4931691414132686 and parameters: {'solver': 'lbfgs'}. Best is trial 0 with value: 0.4931691414132686.\n",
      "[I 2023-12-03 22:15:22,225] Trial 69 finished with value: 0.4931691414132686 and parameters: {'solver': 'lbfgs'}. Best is trial 0 with value: 0.4931691414132686.\n",
      "[I 2023-12-03 22:15:23,174] Trial 70 finished with value: 0.4931691414132686 and parameters: {'solver': 'lbfgs'}. Best is trial 0 with value: 0.4931691414132686.\n",
      "[I 2023-12-03 22:15:24,138] Trial 71 finished with value: 0.4931691414132686 and parameters: {'solver': 'lbfgs'}. Best is trial 0 with value: 0.4931691414132686.\n",
      "[I 2023-12-03 22:15:25,068] Trial 72 finished with value: 0.4931691414132686 and parameters: {'solver': 'lbfgs'}. Best is trial 0 with value: 0.4931691414132686.\n",
      "[I 2023-12-03 22:15:25,973] Trial 73 finished with value: 0.4931691414132686 and parameters: {'solver': 'lbfgs'}. Best is trial 0 with value: 0.4931691414132686.\n",
      "[I 2023-12-03 22:15:26,958] Trial 74 finished with value: 0.4931691414132686 and parameters: {'solver': 'lbfgs'}. Best is trial 0 with value: 0.4931691414132686.\n",
      "[I 2023-12-03 22:15:27,925] Trial 75 finished with value: 0.4931691414132686 and parameters: {'solver': 'lbfgs'}. Best is trial 0 with value: 0.4931691414132686.\n",
      "[I 2023-12-03 22:15:28,891] Trial 76 finished with value: 0.4931691414132686 and parameters: {'solver': 'lbfgs'}. Best is trial 0 with value: 0.4931691414132686.\n",
      "[I 2023-12-03 22:15:30,122] Trial 77 finished with value: 0.49305864444463354 and parameters: {'solver': 'saga', 'C': 48.66502433638069, 'l1_ratio': 0.45163886154487176}. Best is trial 0 with value: 0.4931691414132686.\n",
      "[I 2023-12-03 22:15:31,071] Trial 78 finished with value: 0.4931691414132686 and parameters: {'solver': 'lbfgs'}. Best is trial 0 with value: 0.4931691414132686.\n",
      "[I 2023-12-03 22:15:32,016] Trial 79 finished with value: 0.4931691414132686 and parameters: {'solver': 'lbfgs'}. Best is trial 0 with value: 0.4931691414132686.\n",
      "[I 2023-12-03 22:15:32,945] Trial 80 finished with value: 0.4931691414132686 and parameters: {'solver': 'lbfgs'}. Best is trial 0 with value: 0.4931691414132686.\n",
      "[I 2023-12-03 22:15:33,896] Trial 81 finished with value: 0.4931691414132686 and parameters: {'solver': 'lbfgs'}. Best is trial 0 with value: 0.4931691414132686.\n",
      "[I 2023-12-03 22:15:34,882] Trial 82 finished with value: 0.4931691414132686 and parameters: {'solver': 'lbfgs'}. Best is trial 0 with value: 0.4931691414132686.\n",
      "[I 2023-12-03 22:15:35,830] Trial 83 finished with value: 0.4931691414132686 and parameters: {'solver': 'lbfgs'}. Best is trial 0 with value: 0.4931691414132686.\n",
      "[I 2023-12-03 22:15:36,878] Trial 84 finished with value: 0.4931691414132686 and parameters: {'solver': 'lbfgs'}. Best is trial 0 with value: 0.4931691414132686.\n",
      "[I 2023-12-03 22:15:37,818] Trial 85 finished with value: 0.4931691414132686 and parameters: {'solver': 'lbfgs'}. Best is trial 0 with value: 0.4931691414132686.\n",
      "[I 2023-12-03 22:15:38,797] Trial 86 finished with value: 0.4931691414132686 and parameters: {'solver': 'lbfgs'}. Best is trial 0 with value: 0.4931691414132686.\n",
      "[I 2023-12-03 22:15:39,711] Trial 87 finished with value: 0.4931691414132686 and parameters: {'solver': 'lbfgs'}. Best is trial 0 with value: 0.4931691414132686.\n",
      "[I 2023-12-03 22:15:40,615] Trial 88 finished with value: 0.4931691414132686 and parameters: {'solver': 'lbfgs'}. Best is trial 0 with value: 0.4931691414132686.\n",
      "[I 2023-12-03 22:15:41,876] Trial 89 finished with value: 0.4933857529051826 and parameters: {'solver': 'saga', 'C': 0.47450450382498843, 'l1_ratio': 0.2606391937344135}. Best is trial 89 with value: 0.4933857529051826.\n",
      "[I 2023-12-03 22:15:43,168] Trial 90 finished with value: 0.49305864444463354 and parameters: {'solver': 'saga', 'C': 2.1527582651887798, 'l1_ratio': 0.2409247129326378}. Best is trial 89 with value: 0.4933857529051826.\n",
      "[I 2023-12-03 22:15:44,424] Trial 91 finished with value: 0.49305864444463354 and parameters: {'solver': 'saga', 'C': 18.76193421656769, 'l1_ratio': 0.021641132749179892}. Best is trial 89 with value: 0.4933857529051826.\n",
      "[I 2023-12-03 22:15:45,656] Trial 92 finished with value: 0.49305864444463354 and parameters: {'solver': 'saga', 'C': 12.770312962123533, 'l1_ratio': 0.15428155222709533}. Best is trial 89 with value: 0.4933857529051826.\n",
      "[I 2023-12-03 22:15:46,841] Trial 93 finished with value: 0.4933857529051826 and parameters: {'solver': 'saga', 'C': 0.9705367647860967, 'l1_ratio': 0.3053501621953596}. Best is trial 89 with value: 0.4933857529051826.\n",
      "[I 2023-12-03 22:15:48,103] Trial 94 finished with value: 0.49327525593654775 and parameters: {'solver': 'saga', 'C': 0.5258241980193941, 'l1_ratio': 0.3081358013064063}. Best is trial 89 with value: 0.4933857529051826.\n",
      "[I 2023-12-03 22:15:49,314] Trial 95 finished with value: 0.49371916263486015 and parameters: {'solver': 'saga', 'C': 0.3608624865251586, 'l1_ratio': 0.33049717795254374}. Best is trial 95 with value: 0.49371916263486015.\n",
      "[I 2023-12-03 22:15:50,597] Trial 96 finished with value: 0.49327525593654775 and parameters: {'solver': 'saga', 'C': 0.7716472604573096, 'l1_ratio': 0.30872032364830865}. Best is trial 95 with value: 0.49371916263486015.\n",
      "[I 2023-12-03 22:15:51,815] Trial 97 finished with value: 0.49327525593654775 and parameters: {'solver': 'saga', 'C': 0.5125281006532327, 'l1_ratio': 0.31258599032477147}. Best is trial 95 with value: 0.49371916263486015.\n",
      "[I 2023-12-03 22:15:53,079] Trial 98 finished with value: 0.4933857529051826 and parameters: {'solver': 'saga', 'C': 0.9605332984867102, 'l1_ratio': 0.31600919260713617}. Best is trial 95 with value: 0.49371916263486015.\n",
      "[I 2023-12-03 22:15:54,306] Trial 99 finished with value: 0.49327525593654775 and parameters: {'solver': 'saga', 'C': 0.6213379150755831, 'l1_ratio': 0.3103475900160623}. Best is trial 95 with value: 0.49371916263486015.\n"
     ]
    }
   ],
   "source": [
    "study_log_reg_smote.optimize(optuna_optimize, n_trials=100)"
   ],
   "metadata": {
    "collapsed": false,
    "ExecuteTime": {
     "end_time": "2023-12-03T19:15:54.317812100Z",
     "start_time": "2023-12-03T19:14:15.919359200Z"
    }
   }
  },
  {
   "cell_type": "code",
   "execution_count": 61,
   "outputs": [
    {
     "name": "stdout",
     "output_type": "stream",
     "text": [
      "Наилучшие значения гиперпараметров Logistic Regression: {'solver': 'saga', 'C': 0.3608624865251586, 'l1_ratio': 0.33049717795254374}\n",
      "f1_score на обучающем наборе: 0.494\n"
     ]
    }
   ],
   "source": [
    "print(\"Наилучшие значения гиперпараметров Logistic Regression: {}\".format(study_log_reg_smote.best_params))\n",
    "print(\"f1_score на обучающем наборе: {:.3f}\". format(study_log_reg_smote.best_value))"
   ],
   "metadata": {
    "collapsed": false,
    "ExecuteTime": {
     "end_time": "2023-12-03T19:16:26.005245700Z",
     "start_time": "2023-12-03T19:16:25.983764600Z"
    }
   }
  },
  {
   "cell_type": "code",
   "execution_count": 142,
   "outputs": [],
   "source": [
    "with mlflow.start_run(nested=True,\n",
    "                      run_name='log_reg_pipeline_smote'):\n",
    "\n",
    "    best_params = study_log_reg_smote.best_params\n",
    "    best_score = study_log_reg_smote.best_value\n",
    "    mlflow.log_params(best_params)\n",
    "\n",
    "    log_reg_pipe_sm = Pipeline([\n",
    "        ('preprocessor', preprocessor),\n",
    "        ('smote', SMOTE(random_state=12345)),\n",
    "        ('model', LogisticRegression(**best_params,\n",
    "                                     random_state=12345))\n",
    "    ])\n",
    "\n",
    "    log_reg_pipe_sm.fit(X_train, y_train)\n",
    "\n",
    "    pred_proba = log_reg_pipe_sm.predict_proba(X_test)[:, 1]\n",
    "    roc_auc_lr_sm = roc_auc_score(y_test, pred_proba)\n",
    "    \n",
    "    mlflow.log_metrics({\n",
    "        'f1_cv': best_score,\n",
    "        'roc_auc': roc_auc_lr_sm,\n",
    "        'balanced_accuracy': balanced_accuracy_score(y_test, np.round(pred_proba, 0)),\n",
    "        'f1': f1_score(y_test, np.round(pred_proba, 0))\n",
    "    })\n",
    "\n",
    "    mlflow.sklearn.log_model(log_reg_pipe_sm, 'log_reg_pipeline_smote')"
   ],
   "metadata": {
    "collapsed": false,
    "ExecuteTime": {
     "end_time": "2023-12-05T13:51:30.016266500Z",
     "start_time": "2023-12-05T13:51:25.443890800Z"
    }
   }
  },
  {
   "cell_type": "markdown",
   "source": [
    "### 3.2.4 Метод опорных векторов"
   ],
   "metadata": {
    "collapsed": false
   }
  },
  {
   "cell_type": "code",
   "execution_count": 63,
   "outputs": [],
   "source": [
    "def optuna_optimize(trial):\n",
    "\n",
    "    param = {\n",
    "        'C': trial.suggest_float('C', 0.01, 3)  \n",
    "    }\n",
    "\n",
    "    estimator = SVC(**param,\n",
    "                    random_state=12345,\n",
    "                    probability=True)\n",
    "\n",
    "    svc_pipe = Pipeline([\n",
    "        ('preprocessor', preprocessor),\n",
    "        ('smote', SMOTE(random_state=12345)),\n",
    "        ('model', estimator)\n",
    "    ])\n",
    "\n",
    "    score = cross_val_score(svc_pipe, X_train, y_train, cv=5, scoring='f1').mean()\n",
    "    \n",
    "    return score"
   ],
   "metadata": {
    "collapsed": false,
    "ExecuteTime": {
     "end_time": "2023-12-03T19:16:35.947654500Z",
     "start_time": "2023-12-03T19:16:35.917571500Z"
    }
   }
  },
  {
   "cell_type": "code",
   "execution_count": 64,
   "outputs": [
    {
     "name": "stderr",
     "output_type": "stream",
     "text": [
      "[I 2023-12-03 22:16:35,929] A new study created in memory with name: SVC Optuna Optimization SMOTE\n"
     ]
    }
   ],
   "source": [
    "study_svc_smote = optuna.create_study(study_name=\"SVC Optuna Optimization SMOTE\",\n",
    "                                direction='maximize')"
   ],
   "metadata": {
    "collapsed": false,
    "ExecuteTime": {
     "end_time": "2023-12-03T19:16:36.056773600Z",
     "start_time": "2023-12-03T19:16:35.929680200Z"
    }
   }
  },
  {
   "cell_type": "code",
   "execution_count": 65,
   "outputs": [
    {
     "name": "stderr",
     "output_type": "stream",
     "text": [
      "[I 2023-12-03 22:18:50,575] Trial 0 finished with value: 0.5724173492475945 and parameters: {'C': 2.9554302116902584}. Best is trial 0 with value: 0.5724173492475945.\n",
      "[I 2023-12-03 22:20:52,327] Trial 1 finished with value: 0.5740840432406829 and parameters: {'C': 0.5359950852368323}. Best is trial 1 with value: 0.5740840432406829.\n",
      "[I 2023-12-03 22:22:38,386] Trial 2 finished with value: 0.5751424123849702 and parameters: {'C': 1.0838838883886295}. Best is trial 2 with value: 0.5751424123849702.\n",
      "[I 2023-12-03 22:24:44,968] Trial 3 finished with value: 0.5744834251792236 and parameters: {'C': 0.6677958178338622}. Best is trial 2 with value: 0.5751424123849702.\n",
      "[I 2023-12-03 22:26:30,410] Trial 4 finished with value: 0.572260890753646 and parameters: {'C': 0.3453776325964547}. Best is trial 2 with value: 0.5751424123849702.\n",
      "[I 2023-12-03 22:28:16,563] Trial 5 finished with value: 0.5758239962302796 and parameters: {'C': 1.5845043585181544}. Best is trial 5 with value: 0.5758239962302796.\n",
      "[I 2023-12-03 22:29:58,493] Trial 6 finished with value: 0.573246166581687 and parameters: {'C': 2.374672338090212}. Best is trial 5 with value: 0.5758239962302796.\n",
      "[I 2023-12-03 22:31:41,053] Trial 7 finished with value: 0.5747494040228538 and parameters: {'C': 0.8363191839434557}. Best is trial 5 with value: 0.5758239962302796.\n",
      "[I 2023-12-03 22:33:22,850] Trial 8 finished with value: 0.5718003631829685 and parameters: {'C': 2.6399177897285186}. Best is trial 5 with value: 0.5758239962302796.\n",
      "[I 2023-12-03 22:35:06,962] Trial 9 finished with value: 0.5729868937454717 and parameters: {'C': 2.8507523737183895}. Best is trial 5 with value: 0.5758239962302796.\n"
     ]
    }
   ],
   "source": [
    "study_svc_smote.optimize(optuna_optimize, n_trials=10)"
   ],
   "metadata": {
    "collapsed": false,
    "ExecuteTime": {
     "end_time": "2023-12-03T19:35:07.009548400Z",
     "start_time": "2023-12-03T19:16:35.948855600Z"
    }
   }
  },
  {
   "cell_type": "code",
   "execution_count": 66,
   "outputs": [
    {
     "name": "stdout",
     "output_type": "stream",
     "text": [
      "Наилучшие значения гиперпараметров SVC: {'C': 1.5845043585181544}\n",
      "f1_score на обучающем наборе: 0.576\n"
     ]
    }
   ],
   "source": [
    "print(\"Наилучшие значения гиперпараметров SVC: {}\".format(study_svc_smote.best_params))\n",
    "print(\"f1_score на обучающем наборе: {:.3f}\". format(study_svc_smote.best_value))"
   ],
   "metadata": {
    "collapsed": false,
    "ExecuteTime": {
     "end_time": "2023-12-03T19:35:07.026130600Z",
     "start_time": "2023-12-03T19:35:07.007249Z"
    }
   }
  },
  {
   "cell_type": "code",
   "execution_count": 143,
   "outputs": [],
   "source": [
    "with mlflow.start_run(nested=True,\n",
    "                      run_name='svc_pipeline_smote'):\n",
    "\n",
    "    best_params = study_svc_smote.best_params\n",
    "    best_score = study_svc_smote.best_value\n",
    "    mlflow.log_params(best_params)\n",
    "\n",
    "    svc_pipe_sm = Pipeline([\n",
    "        ('preprocessor', preprocessor),\n",
    "        ('smote', SMOTE(random_state=12345)),\n",
    "        ('model', SVC(**best_params,\n",
    "                      random_state=12345,\n",
    "                      probability=True))\n",
    "    ])\n",
    "\n",
    "    svc_pipe_sm.fit(X_train, y_train)\n",
    "    pred_proba = svc_pipe_sm.predict_proba(X_test)[:, 1]\n",
    "    roc_auc_svc_sm = roc_auc_score(y_test, pred_proba)\n",
    "    \n",
    "    mlflow.log_metrics({\n",
    "        'f1_cv': best_score,\n",
    "        'roc_auc': roc_auc_svc_sm,\n",
    "        'balanced_accuracy': balanced_accuracy_score(y_test, np.round(pred_proba, 0)),\n",
    "        'f1': f1_score(y_test, np.round(pred_proba, 0))\n",
    "    })\n",
    "\n",
    "    mlflow.sklearn.log_model(svc_pipe_sm, 'svc_pipeline_smote')"
   ],
   "metadata": {
    "collapsed": false,
    "ExecuteTime": {
     "end_time": "2023-12-05T13:52:17.492840600Z",
     "start_time": "2023-12-05T13:51:30.016266500Z"
    }
   }
  },
  {
   "cell_type": "code",
   "execution_count": 213,
   "outputs": [],
   "source": [
    "colNames = [\"XGBoost\", \"Random Forest\", \"Logistic Regression\", \"SVC\"]\n",
    "f1_results = {\"Imbalanced\":[study_xgb.best_value, '-', '-', '-'],\n",
    "           \"Class Weight\":[study_xgb_cw.best_value, \n",
    "                           study_rf.best_value, \n",
    "                           study_log_reg.best_value, \n",
    "                           study_svc.best_value],\n",
    "           \"SMOTE\":[study_xgb_smote.best_value, \n",
    "                    study_rf_smote.best_value, \n",
    "                    study_log_reg_smote.best_value, \n",
    "                    study_svc_smote.best_value]}"
   ],
   "metadata": {
    "collapsed": false,
    "ExecuteTime": {
     "end_time": "2023-12-05T16:00:13.843201Z",
     "start_time": "2023-12-05T16:00:13.782584600Z"
    }
   }
  },
  {
   "cell_type": "code",
   "execution_count": 214,
   "outputs": [],
   "source": [
    "# результаты метрики f1 score на кросс-валидации:\n",
    "f1_table = pd.DataFrame.from_dict(f1_results, orient='index', columns=colNames)"
   ],
   "metadata": {
    "collapsed": false,
    "ExecuteTime": {
     "end_time": "2023-12-05T16:00:14.629162200Z",
     "start_time": "2023-12-05T16:00:14.584901700Z"
    }
   }
  },
  {
   "cell_type": "code",
   "execution_count": 215,
   "outputs": [
    {
     "data": {
      "text/plain": "               XGBoost Random Forest Logistic Regression       SVC\nImbalanced    0.600154             -                   -         -\nClass Weight  0.610972      0.619135            0.491084  0.579142\nSMOTE         0.626942      0.613042            0.493719  0.575824",
      "text/html": "<div>\n<style scoped>\n    .dataframe tbody tr th:only-of-type {\n        vertical-align: middle;\n    }\n\n    .dataframe tbody tr th {\n        vertical-align: top;\n    }\n\n    .dataframe thead th {\n        text-align: right;\n    }\n</style>\n<table border=\"1\" class=\"dataframe\">\n  <thead>\n    <tr style=\"text-align: right;\">\n      <th></th>\n      <th>XGBoost</th>\n      <th>Random Forest</th>\n      <th>Logistic Regression</th>\n      <th>SVC</th>\n    </tr>\n  </thead>\n  <tbody>\n    <tr>\n      <th>Imbalanced</th>\n      <td>0.600154</td>\n      <td>-</td>\n      <td>-</td>\n      <td>-</td>\n    </tr>\n    <tr>\n      <th>Class Weight</th>\n      <td>0.610972</td>\n      <td>0.619135</td>\n      <td>0.491084</td>\n      <td>0.579142</td>\n    </tr>\n    <tr>\n      <th>SMOTE</th>\n      <td>0.626942</td>\n      <td>0.613042</td>\n      <td>0.493719</td>\n      <td>0.575824</td>\n    </tr>\n  </tbody>\n</table>\n</div>"
     },
     "execution_count": 215,
     "metadata": {},
     "output_type": "execute_result"
    }
   ],
   "source": [
    "f1_table"
   ],
   "metadata": {
    "collapsed": false,
    "ExecuteTime": {
     "end_time": "2023-12-05T16:00:15.582546300Z",
     "start_time": "2023-12-05T16:00:15.525067100Z"
    }
   }
  },
  {
   "cell_type": "code",
   "execution_count": 216,
   "outputs": [],
   "source": [
    "roc_auc_results = {\"Imbalanced\":[roc_auc_xgb_imb, '-', '-', '-'],\n",
    "           \"Class Weight\":[roc_auc_xgb_cw,\n",
    "                           roc_auc_rf_cw,\n",
    "                           roc_auc_lr_cw,\n",
    "                           roc_auc_svc_cw],\n",
    "           \"SMOTE\":[roc_auc_xgb_sm,\n",
    "                    roc_auc_rf_sm,\n",
    "                    roc_auc_lr_sm,\n",
    "                    roc_auc_svc_sm]}"
   ],
   "metadata": {
    "collapsed": false,
    "ExecuteTime": {
     "end_time": "2023-12-05T16:00:19.087561600Z",
     "start_time": "2023-12-05T16:00:19.002964700Z"
    }
   }
  },
  {
   "cell_type": "code",
   "execution_count": 217,
   "outputs": [],
   "source": [
    "# результаты метрики roc_auc на тесте:\n",
    "roc_auc_table = pd.DataFrame.from_dict(roc_auc_results, orient='index', columns=colNames)"
   ],
   "metadata": {
    "collapsed": false,
    "ExecuteTime": {
     "end_time": "2023-12-05T16:00:20.492552100Z",
     "start_time": "2023-12-05T16:00:20.439223800Z"
    }
   }
  },
  {
   "cell_type": "code",
   "execution_count": 218,
   "outputs": [
    {
     "data": {
      "text/plain": "               XGBoost Random Forest Logistic Regression       SVC\nImbalanced    0.867505             -                   -         -\nClass Weight  0.868577      0.871343            0.788548  0.844288\nSMOTE         0.869231      0.864353            0.787647  0.828429",
      "text/html": "<div>\n<style scoped>\n    .dataframe tbody tr th:only-of-type {\n        vertical-align: middle;\n    }\n\n    .dataframe tbody tr th {\n        vertical-align: top;\n    }\n\n    .dataframe thead th {\n        text-align: right;\n    }\n</style>\n<table border=\"1\" class=\"dataframe\">\n  <thead>\n    <tr style=\"text-align: right;\">\n      <th></th>\n      <th>XGBoost</th>\n      <th>Random Forest</th>\n      <th>Logistic Regression</th>\n      <th>SVC</th>\n    </tr>\n  </thead>\n  <tbody>\n    <tr>\n      <th>Imbalanced</th>\n      <td>0.867505</td>\n      <td>-</td>\n      <td>-</td>\n      <td>-</td>\n    </tr>\n    <tr>\n      <th>Class Weight</th>\n      <td>0.868577</td>\n      <td>0.871343</td>\n      <td>0.788548</td>\n      <td>0.844288</td>\n    </tr>\n    <tr>\n      <th>SMOTE</th>\n      <td>0.869231</td>\n      <td>0.864353</td>\n      <td>0.787647</td>\n      <td>0.828429</td>\n    </tr>\n  </tbody>\n</table>\n</div>"
     },
     "execution_count": 218,
     "metadata": {},
     "output_type": "execute_result"
    }
   ],
   "source": [
    "roc_auc_table"
   ],
   "metadata": {
    "collapsed": false,
    "ExecuteTime": {
     "end_time": "2023-12-05T16:00:21.540133300Z",
     "start_time": "2023-12-05T16:00:21.448741900Z"
    }
   }
  },
  {
   "cell_type": "markdown",
   "source": [
    "# 4. Тестирование лучшей модели\n",
    "\n",
    "Лучший результат метрики f1 на кросс-валидации показывает модель XGBoost с применением техники SMOTE, на втором месте - алгоритм Random Forest с назначением большего веса меньшему классу. При этом метрика ROC-AUC у первой равна 0,869, у второй - 0,871. Протестируем обе эти модели.\n"
   ],
   "metadata": {
    "collapsed": false
   }
  },
  {
   "cell_type": "code",
   "execution_count": 219,
   "outputs": [
    {
     "data": {
      "text/plain": "Downloading artifacts:   0%|          | 0/5 [00:00<?, ?it/s]",
      "application/vnd.jupyter.widget-view+json": {
       "version_major": 2,
       "version_minor": 0,
       "model_id": "c8e209bc5b7047a3b90b9611ad83dcab"
      }
     },
     "metadata": {},
     "output_type": "display_data"
    }
   ],
   "source": [
    "best_model_xgb = mlflow.sklearn.load_model('runs:/200eea0fa43d488fb40abee0d7f21c12/xgb_pipeline_smote')"
   ],
   "metadata": {
    "collapsed": false,
    "ExecuteTime": {
     "end_time": "2023-12-05T16:07:41.397895300Z",
     "start_time": "2023-12-05T16:07:40.848379800Z"
    }
   }
  },
  {
   "cell_type": "code",
   "execution_count": 220,
   "outputs": [
    {
     "data": {
      "text/plain": "Downloading artifacts:   0%|          | 0/5 [00:00<?, ?it/s]",
      "application/vnd.jupyter.widget-view+json": {
       "version_major": 2,
       "version_minor": 0,
       "model_id": "923b711952ab49deb2d77c954e4c48f0"
      }
     },
     "metadata": {},
     "output_type": "display_data"
    }
   ],
   "source": [
    "best_model_rf = mlflow.sklearn.load_model('runs:/5458c21d4ace42a697de130ae3af0bf0/rf_pipeline_class_weight')"
   ],
   "metadata": {
    "collapsed": false,
    "ExecuteTime": {
     "end_time": "2023-12-05T16:07:44.744107500Z",
     "start_time": "2023-12-05T16:07:42.415732500Z"
    }
   }
  },
  {
   "cell_type": "code",
   "execution_count": 221,
   "outputs": [],
   "source": [
    "# joblib.dump(best_model, 'best_model.pkl')"
   ],
   "metadata": {
    "collapsed": false,
    "ExecuteTime": {
     "end_time": "2023-12-05T16:07:45.310075400Z",
     "start_time": "2023-12-05T16:07:45.291893200Z"
    }
   }
  },
  {
   "cell_type": "code",
   "execution_count": 222,
   "outputs": [
    {
     "name": "stdout",
     "output_type": "stream",
     "text": [
      "Результаты метрик модели XGBoost:\n",
      "\n",
      "ROC-AUC score на тестовой выборке: 0.8692313268584455\n",
      "f1 score на тестовой выборке: 0.6320645905420992\n",
      "Balanced accuracy на тестовой выборке: 0.7782289222967189\n",
      "\n",
      "Результаты метрик модели Random Forest:\n",
      "\n",
      "ROC-AUC score на тестовой выборке: 0.8713428374445322\n",
      "f1 score на тестовой выборке: 0.6416382252559726\n",
      "Balanced accuracy на тестовой выборке: 0.7868014393438122\n"
     ]
    }
   ],
   "source": [
    "pred_proba_xgb_smote = best_model_xgb.predict_proba(X_test)[:, 1]\n",
    "pred_proba_rf_cw = best_model_rf.predict_proba(X_test)[:, 1]\n",
    "print('Результаты метрик модели XGBoost:')\n",
    "print()\n",
    "print('ROC-AUC score на тестовой выборке:', roc_auc_score(y_test, pred_proba_xgb_smote))\n",
    "print('f1 score на тестовой выборке:', f1_score(y_test, np.round(pred_proba_xgb_smote)))\n",
    "print('Balanced accuracy на тестовой выборке:', balanced_accuracy_score(y_test, np.round(pred_proba_xgb_smote)))\n",
    "print()\n",
    "print('Результаты метрик модели Random Forest:')\n",
    "print()\n",
    "print('ROC-AUC score на тестовой выборке:', roc_auc_score(y_test, pred_proba_rf_cw))\n",
    "print('f1 score на тестовой выборке:', f1_score(y_test, np.round(pred_proba_rf_cw)))\n",
    "print('Balanced accuracy на тестовой выборке:', balanced_accuracy_score(y_test, np.round(pred_proba_rf_cw)))"
   ],
   "metadata": {
    "collapsed": false,
    "ExecuteTime": {
     "end_time": "2023-12-05T16:07:46.429155700Z",
     "start_time": "2023-12-05T16:07:46.212942800Z"
    }
   }
  },
  {
   "cell_type": "code",
   "execution_count": 235,
   "outputs": [
    {
     "data": {
      "text/plain": "<Figure size 1000x800 with 1 Axes>",
      "image/png": "[encoded data removed]"
     },
     "metadata": {},
     "output_type": "display_data"
    }
   ],
   "source": [
    "plt.figure(figsize=(10, 8))\n",
    "\n",
    "fpr, tpr, thresholds = roc_curve(y_test, pred_proba_xgb_smote)\n",
    "plt.plot(fpr, tpr, label=f'XGBClassifier: {round(roc_auc_score(y_test, pred_proba_xgb_smote), 4)}')\n",
    "\n",
    "fpr, tpr, thresholds = roc_curve(y_test, pred_proba_rf_cw)\n",
    "plt.plot(fpr, tpr, label=f'RandomForest: {round(roc_auc_score(y_test, pred_proba_rf_cw), 4)}')\n",
    "\n",
    "plt.plot([0, 1], [0, 1], linestyle='--', label='coin')\n",
    "\n",
    "plt.xlim([-0.02, 1.0])\n",
    "plt.ylim([0.0, 1.05])\n",
    "\n",
    "plt.xlabel('False Positive Rate')\n",
    "plt.ylabel('True Positive Rate')\n",
    "\n",
    "plt.title('ROC-кривая')\n",
    "\n",
    "plt.legend(loc='lower right')\n",
    "\n",
    "plt.show()"
   ],
   "metadata": {
    "collapsed": false,
    "ExecuteTime": {
     "end_time": "2023-12-05T16:17:08.723517900Z",
     "start_time": "2023-12-05T16:17:08.419536300Z"
    }
   }
  },
  {
   "cell_type": "markdown",
   "source": [
    "В ходе работы над проектом были проделаны следующие шаги:\n",
    "\n",
    "1) Подготовлены данные к исследованию, а именно:\n",
    "\n",
    "- убраны из данных неинформативные столбцы с номером строки, номером ID и фамилией клиента;\n",
    "\n",
    "- обработаны пропуски в столбце Tenure - период, в течение которого человек является клиентом банка;\n",
    "\n",
    "- сделано кодирование категориальных признаков методом One-Hot Encoding, подходящим для разных видов ML;;\n",
    "\n",
    "- данные поделены на тренировочную, валидационную и тестовую выборки;\n",
    "\n",
    "- проверен датасет на сбалансированность классов в таргете (20% положительных ответов);\n",
    "\n",
    "- сделано масштабирование численных для моделей SVM и логистической регрессии.\n",
    "\n",
    "2) Проведено исследование задачи: построены четыре модели классификации: XGBoost, Случайный лес, Метод опорных векторов и Логистическая регрессия.\n",
    "\n",
    "3) Устранен дисбаланс классов двумя способами: с помощью применения техники SMOTE и добавления модели гиперпараметра class_weight. На новых данных модель XGBoost показала результат выше при применении техники SMOTE. Подбор гиперпараметров с изменением веса редкого класса помог довести показатель F1-меры до 0,63. Добавление гиперпараметра class_weight оказалось чуть менее эффективно. Наилучшее качество достигается при использовании гиперпараметров:\n",
    "- n_estimators=35, \n",
    "- max_depth=16, \n",
    "- min_samples_leaf=5.\n",
    "\n",
    "4) Проведено тестирование финальной модели на тестовой выборке. Можно подтвердить, что нам получилось справиться с дисбалансом классов и удалось получить метрику f1 > 0.59."
   ],
   "metadata": {
    "collapsed": false
   }
  },
  {
   "cell_type": "code",
   "execution_count": null,
   "outputs": [],
   "source": [],
   "metadata": {
    "collapsed": false
   }
  }
 ],
 "metadata": {
  "kernelspec": {
   "display_name": "Python 3",
   "language": "python",
   "name": "python3"
  },
  "language_info": {
   "codemirror_mode": {
    "name": "ipython",
    "version": 2
   },
   "file_extension": ".py",
   "mimetype": "text/x-python",
   "name": "python",
   "nbconvert_exporter": "python",
   "pygments_lexer": "ipython2",
   "version": "2.7.6"
  }
 },
 "nbformat": 4,
 "nbformat_minor": 0
}
