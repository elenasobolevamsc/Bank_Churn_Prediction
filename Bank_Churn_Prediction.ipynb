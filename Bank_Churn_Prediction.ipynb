{
 "cells": [
  {
   "cell_type": "markdown",
   "source": [
    "# 1. Подготовка данных"
   ],
   "metadata": {
    "collapsed": false
   }
  },
  {
   "cell_type": "code",
   "execution_count": 1,
   "outputs": [],
   "source": [
    "# импортируем библиотеки:\n",
    "import warnings\n",
    "warnings.filterwarnings('ignore')\n",
    "\n",
    "import optuna\n",
    "import mlflow\n",
    "import joblib\n",
    "import pandas as pd\n",
    "import xgboost as xgb\n",
    "import numpy as np\n",
    "import requests\n",
    "import matplotlib.pyplot as plt\n",
    "\n",
    "from imblearn.over_sampling import SMOTE\n",
    "from imblearn.pipeline import Pipeline\n",
    "from sklearn.model_selection import train_test_split, cross_val_score\n",
    "from sklearn.preprocessing import OneHotEncoder, StandardScaler, PowerTransformer\n",
    "from sklearn.compose import ColumnTransformer\n",
    "from sklearn.impute import SimpleImputer\n",
    "from sklearn.ensemble import RandomForestClassifier\n",
    "from sklearn.linear_model import LogisticRegression\n",
    "from sklearn.svm import SVC\n",
    "from sklearn.metrics import roc_auc_score, roc_curve, f1_score, balanced_accuracy_score\n",
    "\n",
    "mlflow.set_tracking_uri(\"http://127.0.0.1:9000\")\n",
    "client=mlflow.MlflowClient(tracking_uri='http://127.0.0.1:9000')\n",
    "optuna.logging.set_verbosity(optuna.logging.WARNING)"
   ],
   "metadata": {
    "collapsed": false,
    "ExecuteTime": {
     "end_time": "2024-07-04T10:40:16.354735Z",
     "start_time": "2024-07-04T10:40:15.500433400Z"
    }
   }
  },
  {
   "cell_type": "code",
   "execution_count": 2,
   "outputs": [],
   "source": [
    "# загрузим файл:\n",
    "df = pd.read_csv('Churn.csv')"
   ],
   "metadata": {
    "collapsed": false,
    "ExecuteTime": {
     "end_time": "2024-07-04T10:40:18.968783500Z",
     "start_time": "2024-07-04T10:40:18.942280600Z"
    }
   }
  },
  {
   "cell_type": "code",
   "execution_count": 3,
   "outputs": [
    {
     "data": {
      "text/plain": "   RowNumber  CustomerId   Surname  CreditScore Geography  Gender  Age  \\\n0          1    15634602  Hargrave          619    France  Female   42   \n1          2    15647311      Hill          608     Spain  Female   41   \n2          3    15619304      Onio          502    France  Female   42   \n3          4    15701354      Boni          699    France  Female   39   \n4          5    15737888  Mitchell          850     Spain  Female   43   \n\n   Tenure    Balance  NumOfProducts  HasCrCard  IsActiveMember  \\\n0     2.0       0.00              1          1               1   \n1     1.0   83807.86              1          0               1   \n2     8.0  159660.80              3          1               0   \n3     1.0       0.00              2          0               0   \n4     2.0  125510.82              1          1               1   \n\n   EstimatedSalary  Exited  \n0        101348.88       1  \n1        112542.58       0  \n2        113931.57       1  \n3         93826.63       0  \n4         79084.10       0  ",
      "text/html": "<div>\n<style scoped>\n    .dataframe tbody tr th:only-of-type {\n        vertical-align: middle;\n    }\n\n    .dataframe tbody tr th {\n        vertical-align: top;\n    }\n\n    .dataframe thead th {\n        text-align: right;\n    }\n</style>\n<table border=\"1\" class=\"dataframe\">\n  <thead>\n    <tr style=\"text-align: right;\">\n      <th></th>\n      <th>RowNumber</th>\n      <th>CustomerId</th>\n      <th>Surname</th>\n      <th>CreditScore</th>\n      <th>Geography</th>\n      <th>Gender</th>\n      <th>Age</th>\n      <th>Tenure</th>\n      <th>Balance</th>\n      <th>NumOfProducts</th>\n      <th>HasCrCard</th>\n      <th>IsActiveMember</th>\n      <th>EstimatedSalary</th>\n      <th>Exited</th>\n    </tr>\n  </thead>\n  <tbody>\n    <tr>\n      <th>0</th>\n      <td>1</td>\n      <td>15634602</td>\n      <td>Hargrave</td>\n      <td>619</td>\n      <td>France</td>\n      <td>Female</td>\n      <td>42</td>\n      <td>2.0</td>\n      <td>0.00</td>\n      <td>1</td>\n      <td>1</td>\n      <td>1</td>\n      <td>101348.88</td>\n      <td>1</td>\n    </tr>\n    <tr>\n      <th>1</th>\n      <td>2</td>\n      <td>15647311</td>\n      <td>Hill</td>\n      <td>608</td>\n      <td>Spain</td>\n      <td>Female</td>\n      <td>41</td>\n      <td>1.0</td>\n      <td>83807.86</td>\n      <td>1</td>\n      <td>0</td>\n      <td>1</td>\n      <td>112542.58</td>\n      <td>0</td>\n    </tr>\n    <tr>\n      <th>2</th>\n      <td>3</td>\n      <td>15619304</td>\n      <td>Onio</td>\n      <td>502</td>\n      <td>France</td>\n      <td>Female</td>\n      <td>42</td>\n      <td>8.0</td>\n      <td>159660.80</td>\n      <td>3</td>\n      <td>1</td>\n      <td>0</td>\n      <td>113931.57</td>\n      <td>1</td>\n    </tr>\n    <tr>\n      <th>3</th>\n      <td>4</td>\n      <td>15701354</td>\n      <td>Boni</td>\n      <td>699</td>\n      <td>France</td>\n      <td>Female</td>\n      <td>39</td>\n      <td>1.0</td>\n      <td>0.00</td>\n      <td>2</td>\n      <td>0</td>\n      <td>0</td>\n      <td>93826.63</td>\n      <td>0</td>\n    </tr>\n    <tr>\n      <th>4</th>\n      <td>5</td>\n      <td>15737888</td>\n      <td>Mitchell</td>\n      <td>850</td>\n      <td>Spain</td>\n      <td>Female</td>\n      <td>43</td>\n      <td>2.0</td>\n      <td>125510.82</td>\n      <td>1</td>\n      <td>1</td>\n      <td>1</td>\n      <td>79084.10</td>\n      <td>0</td>\n    </tr>\n  </tbody>\n</table>\n</div>"
     },
     "execution_count": 3,
     "metadata": {},
     "output_type": "execute_result"
    }
   ],
   "source": [
    "df.head()"
   ],
   "metadata": {
    "collapsed": false,
    "ExecuteTime": {
     "end_time": "2024-07-04T10:40:19.497471200Z",
     "start_time": "2024-07-04T10:40:19.451948400Z"
    }
   }
  },
  {
   "cell_type": "code",
   "execution_count": 4,
   "outputs": [
    {
     "name": "stdout",
     "output_type": "stream",
     "text": [
      "<class 'pandas.core.frame.DataFrame'>\n",
      "RangeIndex: 10000 entries, 0 to 9999\n",
      "Data columns (total 14 columns):\n",
      " #   Column           Non-Null Count  Dtype  \n",
      "---  ------           --------------  -----  \n",
      " 0   RowNumber        10000 non-null  int64  \n",
      " 1   CustomerId       10000 non-null  int64  \n",
      " 2   Surname          10000 non-null  object \n",
      " 3   CreditScore      10000 non-null  int64  \n",
      " 4   Geography        10000 non-null  object \n",
      " 5   Gender           10000 non-null  object \n",
      " 6   Age              10000 non-null  int64  \n",
      " 7   Tenure           9091 non-null   float64\n",
      " 8   Balance          10000 non-null  float64\n",
      " 9   NumOfProducts    10000 non-null  int64  \n",
      " 10  HasCrCard        10000 non-null  int64  \n",
      " 11  IsActiveMember   10000 non-null  int64  \n",
      " 12  EstimatedSalary  10000 non-null  float64\n",
      " 13  Exited           10000 non-null  int64  \n",
      "dtypes: float64(3), int64(8), object(3)\n",
      "memory usage: 1.1+ MB\n"
     ]
    }
   ],
   "source": [
    "df.info()"
   ],
   "metadata": {
    "collapsed": false,
    "ExecuteTime": {
     "end_time": "2024-07-04T10:40:20.621238500Z",
     "start_time": "2024-07-04T10:40:20.588237800Z"
    }
   }
  },
  {
   "cell_type": "code",
   "execution_count": 5,
   "outputs": [
    {
     "data": {
      "text/plain": "0"
     },
     "execution_count": 5,
     "metadata": {},
     "output_type": "execute_result"
    }
   ],
   "source": [
    "# проверим наличие явных дубликатов:\n",
    "df.duplicated().sum()"
   ],
   "metadata": {
    "collapsed": false,
    "ExecuteTime": {
     "end_time": "2024-07-04T10:40:21.396410800Z",
     "start_time": "2024-07-04T10:40:21.359390300Z"
    }
   }
  },
  {
   "cell_type": "code",
   "execution_count": 6,
   "outputs": [
    {
     "data": {
      "text/plain": "Geography\nFrance     5014\nGermany    2509\nSpain      2477\nName: count, dtype: int64"
     },
     "metadata": {},
     "output_type": "display_data"
    },
    {
     "data": {
      "text/plain": "Tenure\n1.0     952\n2.0     950\n8.0     933\n3.0     928\n5.0     927\n7.0     925\n4.0     885\n9.0     882\n6.0     881\n10.0    446\n0.0     382\nName: count, dtype: int64"
     },
     "metadata": {},
     "output_type": "display_data"
    },
    {
     "data": {
      "text/plain": "NumOfProducts\n1    5084\n2    4590\n3     266\n4      60\nName: count, dtype: int64"
     },
     "metadata": {},
     "output_type": "display_data"
    },
    {
     "data": {
      "text/plain": "Gender\nMale      5457\nFemale    4543\nName: count, dtype: int64"
     },
     "metadata": {},
     "output_type": "display_data"
    },
    {
     "data": {
      "text/plain": "HasCrCard\n1    7055\n0    2945\nName: count, dtype: int64"
     },
     "metadata": {},
     "output_type": "display_data"
    },
    {
     "data": {
      "text/plain": "IsActiveMember\n1    5151\n0    4849\nName: count, dtype: int64"
     },
     "metadata": {},
     "output_type": "display_data"
    }
   ],
   "source": [
    "# посмотрим уникальные значения в категориальных признаках:\n",
    "cat_columns = ['Geography', 'Tenure', 'NumOfProducts', 'Gender', 'HasCrCard', 'IsActiveMember']\n",
    "for col in cat_columns:\n",
    "    display(df[col].value_counts())"
   ],
   "metadata": {
    "collapsed": false,
    "ExecuteTime": {
     "end_time": "2024-07-04T10:40:22.631941700Z",
     "start_time": "2024-07-04T10:40:22.593940900Z"
    }
   }
  },
  {
   "cell_type": "code",
   "execution_count": 7,
   "outputs": [
    {
     "data": {
      "text/plain": "Exited\n0    7963\n1    2037\nName: count, dtype: int64"
     },
     "execution_count": 7,
     "metadata": {},
     "output_type": "execute_result"
    }
   ],
   "source": [
    "# посчитаем классы в целевом признаке:\n",
    "df['Exited'].value_counts()"
   ],
   "metadata": {
    "collapsed": false,
    "ExecuteTime": {
     "end_time": "2024-07-04T10:40:24.010203200Z",
     "start_time": "2024-07-04T10:40:23.979205600Z"
    }
   }
  },
  {
   "cell_type": "markdown",
   "source": [
    "Можно отметить, что дубликаты в датасете отсутствуют, в столбце Tenure есть около тысячи пропусков, а также несколько столбцов лучше вообще удалить, из них:\n",
    "\n",
    "- RowNumber - это индекс строки в данных, важной информации не содержит;\n",
    "- CustomerId - уникальный идентификатор клиента, по нему мы проверили дубликаты и теперь его можно удалить;\n",
    "- Surname - фамилия, которая тоже не имеет связи с оттоком клиентов.\n",
    "\n",
    "После проверки датасета на сбалансированность классов в таргете мы видим, что объектов отрицательного класса намного больше (почти в четыре раза), но все равно уходит примерно 20% клиентов. В столбце Geography находятся всего 3 уникальных значения: France, Germany и Spain. В столбце Tenure (сколько лет человек является клиентом банка) есть 909 пропусков. Заполним их значением -1, добавив логический параметр add_indicator=True. Есть несколько бинарных признаков (HasCrCard, IsActiveMember), которые выделим в отдельную категорию признаков."
   ],
   "metadata": {
    "collapsed": false
   }
  },
  {
   "cell_type": "code",
   "execution_count": 8,
   "outputs": [],
   "source": [
    "# удалим ненужные столбцы:\n",
    "df.drop([\"RowNumber\", \"CustomerId\", \"Surname\"], axis=1, inplace=True)"
   ],
   "metadata": {
    "collapsed": false,
    "ExecuteTime": {
     "end_time": "2024-07-04T10:40:31.395399600Z",
     "start_time": "2024-07-04T10:40:31.364484100Z"
    }
   }
  },
  {
   "cell_type": "code",
   "execution_count": 9,
   "outputs": [
    {
     "data": {
      "text/plain": "   CreditScore Geography  Gender  Age  Tenure    Balance  NumOfProducts  \\\n0          619    France  Female   42     2.0       0.00              1   \n1          608     Spain  Female   41     1.0   83807.86              1   \n2          502    France  Female   42     8.0  159660.80              3   \n3          699    France  Female   39     1.0       0.00              2   \n4          850     Spain  Female   43     2.0  125510.82              1   \n\n   HasCrCard  IsActiveMember  EstimatedSalary  Exited  \n0          1               1        101348.88       1  \n1          0               1        112542.58       0  \n2          1               0        113931.57       1  \n3          0               0         93826.63       0  \n4          1               1         79084.10       0  ",
      "text/html": "<div>\n<style scoped>\n    .dataframe tbody tr th:only-of-type {\n        vertical-align: middle;\n    }\n\n    .dataframe tbody tr th {\n        vertical-align: top;\n    }\n\n    .dataframe thead th {\n        text-align: right;\n    }\n</style>\n<table border=\"1\" class=\"dataframe\">\n  <thead>\n    <tr style=\"text-align: right;\">\n      <th></th>\n      <th>CreditScore</th>\n      <th>Geography</th>\n      <th>Gender</th>\n      <th>Age</th>\n      <th>Tenure</th>\n      <th>Balance</th>\n      <th>NumOfProducts</th>\n      <th>HasCrCard</th>\n      <th>IsActiveMember</th>\n      <th>EstimatedSalary</th>\n      <th>Exited</th>\n    </tr>\n  </thead>\n  <tbody>\n    <tr>\n      <th>0</th>\n      <td>619</td>\n      <td>France</td>\n      <td>Female</td>\n      <td>42</td>\n      <td>2.0</td>\n      <td>0.00</td>\n      <td>1</td>\n      <td>1</td>\n      <td>1</td>\n      <td>101348.88</td>\n      <td>1</td>\n    </tr>\n    <tr>\n      <th>1</th>\n      <td>608</td>\n      <td>Spain</td>\n      <td>Female</td>\n      <td>41</td>\n      <td>1.0</td>\n      <td>83807.86</td>\n      <td>1</td>\n      <td>0</td>\n      <td>1</td>\n      <td>112542.58</td>\n      <td>0</td>\n    </tr>\n    <tr>\n      <th>2</th>\n      <td>502</td>\n      <td>France</td>\n      <td>Female</td>\n      <td>42</td>\n      <td>8.0</td>\n      <td>159660.80</td>\n      <td>3</td>\n      <td>1</td>\n      <td>0</td>\n      <td>113931.57</td>\n      <td>1</td>\n    </tr>\n    <tr>\n      <th>3</th>\n      <td>699</td>\n      <td>France</td>\n      <td>Female</td>\n      <td>39</td>\n      <td>1.0</td>\n      <td>0.00</td>\n      <td>2</td>\n      <td>0</td>\n      <td>0</td>\n      <td>93826.63</td>\n      <td>0</td>\n    </tr>\n    <tr>\n      <th>4</th>\n      <td>850</td>\n      <td>Spain</td>\n      <td>Female</td>\n      <td>43</td>\n      <td>2.0</td>\n      <td>125510.82</td>\n      <td>1</td>\n      <td>1</td>\n      <td>1</td>\n      <td>79084.10</td>\n      <td>0</td>\n    </tr>\n  </tbody>\n</table>\n</div>"
     },
     "execution_count": 9,
     "metadata": {},
     "output_type": "execute_result"
    }
   ],
   "source": [
    "df.head()"
   ],
   "metadata": {
    "collapsed": false,
    "ExecuteTime": {
     "end_time": "2024-07-04T10:40:32.229345100Z",
     "start_time": "2024-07-04T10:40:32.194342900Z"
    }
   }
  },
  {
   "cell_type": "code",
   "execution_count": 10,
   "outputs": [
    {
     "name": "stdout",
     "output_type": "stream",
     "text": [
      "<class 'pandas.core.frame.DataFrame'>\n",
      "RangeIndex: 10000 entries, 0 to 9999\n",
      "Data columns (total 11 columns):\n",
      " #   Column           Non-Null Count  Dtype  \n",
      "---  ------           --------------  -----  \n",
      " 0   CreditScore      10000 non-null  int64  \n",
      " 1   Geography        10000 non-null  object \n",
      " 2   Gender           10000 non-null  object \n",
      " 3   Age              10000 non-null  int64  \n",
      " 4   Tenure           9091 non-null   float64\n",
      " 5   Balance          10000 non-null  float64\n",
      " 6   NumOfProducts    10000 non-null  int64  \n",
      " 7   HasCrCard        10000 non-null  int64  \n",
      " 8   IsActiveMember   10000 non-null  int64  \n",
      " 9   EstimatedSalary  10000 non-null  float64\n",
      " 10  Exited           10000 non-null  int64  \n",
      "dtypes: float64(3), int64(6), object(2)\n",
      "memory usage: 859.5+ KB\n"
     ]
    }
   ],
   "source": [
    "df.info()"
   ],
   "metadata": {
    "collapsed": false,
    "ExecuteTime": {
     "end_time": "2024-07-04T10:40:33.322321500Z",
     "start_time": "2024-07-04T10:40:33.284321100Z"
    }
   }
  },
  {
   "cell_type": "code",
   "execution_count": 11,
   "outputs": [],
   "source": [
    "# сохраним признаки и целевой признак в отдельных переменных:\n",
    "y = df['Exited']\n",
    "X = df.drop('Exited', axis=1)"
   ],
   "metadata": {
    "collapsed": false,
    "ExecuteTime": {
     "end_time": "2024-07-04T10:40:33.741286700Z",
     "start_time": "2024-07-04T10:40:33.709288200Z"
    }
   }
  },
  {
   "cell_type": "code",
   "execution_count": 12,
   "outputs": [],
   "source": [
    "# разобьем исходные данные на обучающую и тестовую выборки в соотношении 4:1:\n",
    "X_train, X_test, y_train, y_test = train_test_split(X, y, test_size=0.2, random_state=12345, stratify=y)"
   ],
   "metadata": {
    "collapsed": false,
    "ExecuteTime": {
     "end_time": "2024-07-04T10:40:37.918163200Z",
     "start_time": "2024-07-04T10:40:37.869648200Z"
    }
   }
  },
  {
   "cell_type": "code",
   "execution_count": 13,
   "outputs": [
    {
     "name": "stdout",
     "output_type": "stream",
     "text": [
      "Размер обучающей выборки: (8000, 10)\n",
      "Размер тестовой выборки: (2000, 10)\n"
     ]
    }
   ],
   "source": [
    "# посмотрим на размеры выборок:\n",
    "print('Размер обучающей выборки:', X_train.shape)\n",
    "print('Размер тестовой выборки:', X_test.shape)"
   ],
   "metadata": {
    "collapsed": false,
    "ExecuteTime": {
     "end_time": "2024-07-04T10:40:38.390931600Z",
     "start_time": "2024-07-04T10:40:38.359590200Z"
    }
   }
  },
  {
   "cell_type": "code",
   "execution_count": 14,
   "outputs": [],
   "source": [
    "# внесем в переменные списки все численные и категориальные признаки:\n",
    "categorical_features = X_train.select_dtypes(include=['object']).columns.tolist()\n",
    "numeric_features = X_train.select_dtypes(exclude=['object']).columns.tolist()\n",
    "binary_features = ['HasCrCard', 'IsActiveMember']\n",
    "numeric_features = list(set(numeric_features) - set(binary_features))"
   ],
   "metadata": {
    "collapsed": false,
    "ExecuteTime": {
     "end_time": "2024-07-04T10:40:39.726578100Z",
     "start_time": "2024-07-04T10:40:39.699062100Z"
    }
   }
  },
  {
   "cell_type": "markdown",
   "source": [
    "# 2. Обучение модели без учёта дисбаланса классов (XGBoost)"
   ],
   "metadata": {
    "collapsed": false
   }
  },
  {
   "cell_type": "markdown",
   "source": [
    "Для автоматизации процесса подготовим численный и категориальный пайплайны.\n",
    "- Для категориальных признаков (Geography, Gender) используем One Hot Encoding.\n",
    "- Для заполнения пропусков используем SimpleImputer.\n",
    "- Выполним трансформацию Йео-Джонсона.\n",
    "- Для моделей логистической регрессии и SVM выполним масштабирование данных; для моделей, основанных на деревьях (XGBoost и Random Forest), выполнять его не будем.\n",
    "- Объединим пайплайны классом ColumnTransformer.\n",
    "- Используем optuna для автоматизированного поиска оптимальных гиперпараметров для моделей.\n",
    "- Используем mlflow для того, чтобы легко выбрать лучшие модели среди всех экспериментов и при этом легко сравнивать метрики качества (будем сравнивать f1 на кроссвалидации, на тестовом наборе сравним f1, ROC-AUC и balanced accuracy)."
   ],
   "metadata": {
    "collapsed": false
   }
  },
  {
   "cell_type": "code",
   "execution_count": 15,
   "outputs": [],
   "source": [
    "cat_pipeline = Pipeline([\n",
    "    ('enc', OneHotEncoder(handle_unknown='error', drop='first'))\n",
    "])\n",
    "\n",
    "num_pipeline = Pipeline([\n",
    "    ('imp', SimpleImputer(fill_value=-1, add_indicator=True)),\n",
    "    ('pt', PowerTransformer()) \n",
    "])\n",
    "\n",
    "preprocessor = ColumnTransformer([\n",
    "    (\"cat\", cat_pipeline, categorical_features),\n",
    "    (\"num\", num_pipeline, numeric_features)\n",
    "\n",
    "], remainder='passthrough')\n",
    "\n",
    "pipe = Pipeline([\n",
    "    ('preprocessor', preprocessor),\n",
    "    ('model', xgb.XGBClassifier())\n",
    "])"
   ],
   "metadata": {
    "collapsed": false,
    "ExecuteTime": {
     "end_time": "2024-07-04T10:40:53.157918300Z",
     "start_time": "2024-07-04T10:40:53.124388900Z"
    }
   }
  },
  {
   "cell_type": "code",
   "execution_count": 16,
   "outputs": [],
   "source": [
    "def optuna_optimize(trial):\n",
    "    param_grid = {\n",
    "        'model__n_estimators': trial.suggest_int('model__n_estimators', 50, 500),\n",
    "        'model__max_depth': trial.suggest_int('model__max_depth', 2, 16),\n",
    "        'model__learning_rate': trial.suggest_float('model__learning_rate', 0.01, 1.0),\n",
    "        'model__gamma': trial.suggest_float('model__gamma', 0.0, 20.0),\n",
    "        'model__reg_alpha': trial.suggest_float('model__reg_alpha', 0.0, 1.0),\n",
    "        'model__reg_lambda': trial.suggest_float('model__reg_lambda', 0.0, 1.0),\n",
    "        'model__min_child_weight': trial.suggest_float('model__min_child_weight', 0.0, 5.0),\n",
    "        'model__subsample': trial.suggest_float('model__subsample', 0.5, 1.0),\n",
    "        'model__colsample_bytree': trial.suggest_float('model__colsample_bytree', 0.5, 1.0),\n",
    "        'model__colsample_bylevel': trial.suggest_float('model__colsample_bylevel', 0.5, 1.0),\n",
    "        'model__colsample_bynode': trial.suggest_float('model__colsample_bynode', 0.5, 1.0),\n",
    "        'model__random_state': 12345\n",
    "    }\n",
    "\n",
    "    pipe.set_params(**param_grid)\n",
    "    score = cross_val_score(pipe, X_train, y_train, cv=5, scoring='f1').mean()\n",
    "    return score"
   ],
   "metadata": {
    "collapsed": false,
    "ExecuteTime": {
     "end_time": "2024-07-04T10:40:54.358480700Z",
     "start_time": "2024-07-04T10:40:54.330481200Z"
    }
   }
  },
  {
   "cell_type": "code",
   "execution_count": 17,
   "outputs": [],
   "source": [
    "study_xgb = optuna.create_study(study_name=\"XGBoost Optuna Optimization Imbalanced\",\n",
    "                                direction='maximize')"
   ],
   "metadata": {
    "collapsed": false,
    "ExecuteTime": {
     "end_time": "2024-07-04T10:40:55.495915Z",
     "start_time": "2024-07-04T10:40:55.454404300Z"
    }
   }
  },
  {
   "cell_type": "code",
   "execution_count": 18,
   "outputs": [],
   "source": [
    "study_xgb.optimize(optuna_optimize, n_trials=1000)"
   ],
   "metadata": {
    "collapsed": false,
    "ExecuteTime": {
     "end_time": "2024-07-04T10:51:42.470861900Z",
     "start_time": "2024-07-04T10:40:58.218834Z"
    }
   }
  },
  {
   "cell_type": "code",
   "execution_count": 19,
   "outputs": [
    {
     "name": "stdout",
     "output_type": "stream",
     "text": [
      "Наилучшие значения гиперпараметров XGBoost: {'model__n_estimators': 296, 'model__max_depth': 4, 'model__learning_rate': 0.24455219155198604, 'model__gamma': 2.279536035885957, 'model__reg_alpha': 0.9126935818965531, 'model__reg_lambda': 0.9688200693813175, 'model__min_child_weight': 2.786519071319251, 'model__subsample': 0.695765566288553, 'model__colsample_bytree': 0.6436589973573024, 'model__colsample_bylevel': 0.6487715603665177, 'model__colsample_bynode': 0.8778456304460163}\n",
      "f1_score на обучающем наборе: 0.600\n"
     ]
    }
   ],
   "source": [
    "print(\"Наилучшие значения гиперпараметров XGBoost: {}\".format(study_xgb.best_params))\n",
    "print(\"f1_score на обучающем наборе: {:.3f}\". format(study_xgb.best_value))"
   ],
   "metadata": {
    "collapsed": false,
    "ExecuteTime": {
     "end_time": "2024-07-04T10:51:42.485861700Z",
     "start_time": "2024-07-04T10:51:42.471861700Z"
    }
   }
  },
  {
   "cell_type": "code",
   "execution_count": 20,
   "outputs": [],
   "source": [
    "with mlflow.start_run(nested=True,\n",
    "                      run_name='xgb_pipeline_imbalanced'):\n",
    "\n",
    "    best_params = study_xgb.best_params\n",
    "    best_score = study_xgb.best_value\n",
    "    mlflow.log_params(best_params)\n",
    "\n",
    "    pipe.set_params(**best_params)\n",
    "    pipe.fit(X_train, y_train)\n",
    "    pred_proba = pipe.predict_proba(X_test)[:, 1]\n",
    "    roc_auc_xgb_imb = roc_auc_score(y_test, pred_proba)\n",
    "    \n",
    "    mlflow.log_metrics({\n",
    "        'f1_cv': best_score,\n",
    "        'roc_auc': roc_auc_xgb_imb,\n",
    "        'balanced_accuracy': balanced_accuracy_score(y_test, np.round(pred_proba)),\n",
    "        'f1': f1_score(y_test, np.round(pred_proba))\n",
    "    })\n",
    "\n",
    "    mlflow.sklearn.log_model(pipe, 'xgb_pipeline_imbalanced')"
   ],
   "metadata": {
    "collapsed": false,
    "ExecuteTime": {
     "end_time": "2024-07-04T10:51:45.606004Z",
     "start_time": "2024-07-04T10:51:42.486861600Z"
    }
   }
  },
  {
   "cell_type": "markdown",
   "source": [
    "# 3. Обучение моделей с учётом дисбаланса классов\n",
    "## 3.1 Назначение разных весов классам (cost-sensitive learning)\n",
    "### 3.1.1 Модель XGBoost"
   ],
   "metadata": {
    "collapsed": false
   }
  },
  {
   "cell_type": "code",
   "execution_count": 21,
   "outputs": [],
   "source": [
    "cat_pipeline = Pipeline([\n",
    "    ('enc', OneHotEncoder(handle_unknown='error', drop='first'))\n",
    "])\n",
    "\n",
    "num_pipeline = Pipeline([\n",
    "    ('imp', SimpleImputer(fill_value=-1, add_indicator=True)),\n",
    "    ('pt', PowerTransformer())\n",
    "])\n",
    "\n",
    "preprocessor = ColumnTransformer([\n",
    "    (\"cat\", cat_pipeline, categorical_features),\n",
    "    (\"num\", num_pipeline, numeric_features)\n",
    "\n",
    "], remainder='passthrough')"
   ],
   "metadata": {
    "collapsed": false,
    "ExecuteTime": {
     "end_time": "2024-07-04T10:51:45.621030Z",
     "start_time": "2024-07-04T10:51:45.609003200Z"
    }
   }
  },
  {
   "cell_type": "code",
   "execution_count": 22,
   "outputs": [],
   "source": [
    "def optuna_optimize(trial):\n",
    "    param = {\n",
    "        'n_estimators': trial.suggest_int('n_estimators', 50, 500),\n",
    "        'max_depth': trial.suggest_int('max_depth', 2, 16),\n",
    "        'learning_rate': trial.suggest_float('learning_rate', 0.01, 1.0),\n",
    "        'gamma': trial.suggest_float('gamma', 0.0, 20.0),\n",
    "        'reg_lambda': trial.suggest_float('reg_lambda', 0.0, 1.0),\n",
    "        'reg_alpha': trial.suggest_float('reg_alpha', 0.0, 1.0),\n",
    "        'min_child_weight': trial.suggest_float('min_child_weight', 0.0, 5.0),\n",
    "        'subsample': trial.suggest_float('subsample', 0.5, 1.0),\n",
    "        'colsample_bytree': trial.suggest_float('colsample_bytree', 0.5, 1.0),\n",
    "        'colsample_bylevel': trial.suggest_float('colsample_bylevel', 0.5, 1.0),\n",
    "        'colsample_bynode': trial.suggest_float('colsample_bynode', 0.5, 1.0)\n",
    "    }\n",
    "\n",
    "    estimator = xgb.XGBClassifier(**param, \n",
    "                                  scale_pos_weight=3.91,\n",
    "                                  random_state=12345)\n",
    "    \n",
    "    xgb_pipe = Pipeline([\n",
    "        ('preprocessor', preprocessor),\n",
    "        ('model', estimator)\n",
    "    ])\n",
    "\n",
    "    score = cross_val_score(xgb_pipe, X_train, y_train, cv=5, scoring='f1').mean()\n",
    "    return score"
   ],
   "metadata": {
    "collapsed": false,
    "ExecuteTime": {
     "end_time": "2024-07-04T10:51:45.649536800Z",
     "start_time": "2024-07-04T10:51:45.624029900Z"
    }
   }
  },
  {
   "cell_type": "code",
   "execution_count": 23,
   "outputs": [],
   "source": [
    "study_xgb_cw = optuna.create_study(study_name=\"XGBoost Optuna Optimization Class Weight\",\n",
    "                                direction='maximize')"
   ],
   "metadata": {
    "collapsed": false,
    "ExecuteTime": {
     "end_time": "2024-07-04T10:51:45.657536400Z",
     "start_time": "2024-07-04T10:51:45.636537200Z"
    }
   }
  },
  {
   "cell_type": "code",
   "execution_count": 24,
   "outputs": [],
   "source": [
    "study_xgb_cw.optimize(optuna_optimize, n_trials=1000)"
   ],
   "metadata": {
    "collapsed": false,
    "ExecuteTime": {
     "end_time": "2024-07-04T11:10:17.983665900Z",
     "start_time": "2024-07-04T10:51:45.651538600Z"
    }
   }
  },
  {
   "cell_type": "code",
   "execution_count": 25,
   "outputs": [
    {
     "name": "stdout",
     "output_type": "stream",
     "text": [
      "Наилучшие значения гиперпараметров XGBoost: {'n_estimators': 177, 'max_depth': 11, 'learning_rate': 0.010885060551220984, 'gamma': 0.3759707328727563, 'reg_lambda': 0.4481878181883802, 'reg_alpha': 0.46347980468616645, 'min_child_weight': 1.3225044978338598, 'subsample': 0.5407832262689065, 'colsample_bytree': 0.9173484427584284, 'colsample_bylevel': 0.9920977308892406, 'colsample_bynode': 0.8730014884762016}\n",
      "f1_score на обучающем наборе: 0.627\n"
     ]
    }
   ],
   "source": [
    "print(\"Наилучшие значения гиперпараметров XGBoost: {}\".format(study_xgb_cw.best_params))\n",
    "print(\"f1_score на обучающем наборе: {:.3f}\". format(study_xgb_cw.best_value))"
   ],
   "metadata": {
    "collapsed": false,
    "ExecuteTime": {
     "end_time": "2024-07-04T11:10:17.998664700Z",
     "start_time": "2024-07-04T11:10:17.983665900Z"
    }
   }
  },
  {
   "cell_type": "code",
   "execution_count": 26,
   "outputs": [],
   "source": [
    "with mlflow.start_run(nested=True,\n",
    "                      run_name='xgb_pipeline_class_weight'):\n",
    "\n",
    "    best_params = study_xgb_cw.best_params\n",
    "    best_score = study_xgb_cw.best_value\n",
    "    mlflow.log_params(best_params)\n",
    "\n",
    "    xgb_pipe_cw = Pipeline([\n",
    "        ('preprocessor', preprocessor),\n",
    "        ('model', xgb.XGBClassifier(**best_params,\n",
    "                                    scale_pos_weight=3.91,\n",
    "                                    random_state=12345))\n",
    "    ])\n",
    "\n",
    "    xgb_pipe_cw.fit(X_train, y_train) \n",
    "\n",
    "    pred_proba = xgb_pipe_cw.predict_proba(X_test)[:, 1]\n",
    "    roc_auc_xgb_cw = roc_auc_score(y_test, pred_proba)\n",
    "    \n",
    "    mlflow.log_metrics({\n",
    "        'f1_cv': best_score,\n",
    "        'roc_auc': roc_auc_xgb_cw,\n",
    "        'balanced_accuracy': balanced_accuracy_score(y_test, np.round(pred_proba, 0)),\n",
    "        'f1': f1_score(y_test, np.round(pred_proba, 0))\n",
    "    })\n",
    "\n",
    "    mlflow.sklearn.log_model(xgb_pipe_cw, 'xgb_pipeline_class_weight')"
   ],
   "metadata": {
    "collapsed": false,
    "ExecuteTime": {
     "end_time": "2024-07-04T11:10:20.415532200Z",
     "start_time": "2024-07-04T11:10:18.001664400Z"
    }
   }
  },
  {
   "cell_type": "markdown",
   "source": [
    "### 3.1.2 Случайный лес"
   ],
   "metadata": {
    "collapsed": false
   }
  },
  {
   "cell_type": "code",
   "execution_count": 27,
   "outputs": [],
   "source": [
    "def optuna_optimize(trial):\n",
    "    param = {\n",
    "        'n_estimators': trial.suggest_int('n_estimators', 50, 300), \n",
    "        'max_depth': trial.suggest_int('max_depth', 2, 10), \n",
    "        'min_samples_leaf': trial.suggest_int('min_samples_leaf', 2, 8),\n",
    "        'min_samples_split': trial.suggest_int('min_samples_split', 2, 20),\n",
    "        'bootstrap': trial.suggest_categorical('bootstrap', [True, False]),\n",
    "    }\n",
    "\n",
    "    if param['bootstrap']:\n",
    "        param['max_samples'] = trial.suggest_float('max_samples', 0.5, 1.0)\n",
    "\n",
    "    estimator = RandomForestClassifier(**param, \n",
    "                                       class_weight='balanced',\n",
    "                                       random_state=12345)\n",
    "\n",
    "    rf_pipe = Pipeline([\n",
    "        ('preprocessor', preprocessor),\n",
    "        ('model', estimator)\n",
    "    ])\n",
    "\n",
    "    score = cross_val_score(rf_pipe, X_train, y_train, cv=5, scoring='f1').mean()\n",
    "    return score"
   ],
   "metadata": {
    "collapsed": false,
    "ExecuteTime": {
     "end_time": "2024-07-04T11:10:20.430529600Z",
     "start_time": "2024-07-04T11:10:20.418530100Z"
    }
   }
  },
  {
   "cell_type": "code",
   "execution_count": 28,
   "outputs": [],
   "source": [
    "study_rf = optuna.create_study(study_name=\"RandomForest Optuna Optimization Class Weight\",\n",
    "                                direction='maximize')"
   ],
   "metadata": {
    "collapsed": false,
    "ExecuteTime": {
     "end_time": "2024-07-04T11:10:20.460273700Z",
     "start_time": "2024-07-04T11:10:20.431529200Z"
    }
   }
  },
  {
   "cell_type": "code",
   "execution_count": 29,
   "outputs": [],
   "source": [
    "study_rf.optimize(optuna_optimize, n_trials=100)"
   ],
   "metadata": {
    "collapsed": false,
    "ExecuteTime": {
     "end_time": "2024-07-04T11:15:56.557298100Z",
     "start_time": "2024-07-04T11:10:20.449274Z"
    }
   }
  },
  {
   "cell_type": "code",
   "execution_count": 30,
   "outputs": [
    {
     "name": "stdout",
     "output_type": "stream",
     "text": [
      "Наилучшие значения гиперпараметров Random Forest: {'n_estimators': 129, 'max_depth': 10, 'min_samples_leaf': 2, 'min_samples_split': 11, 'bootstrap': True, 'max_samples': 0.5889054391127376}\n",
      "f1_score на обучающем наборе: 0.622\n"
     ]
    }
   ],
   "source": [
    "print(\"Наилучшие значения гиперпараметров Random Forest: {}\".format(study_rf.best_params))\n",
    "print(\"f1_score на обучающем наборе: {:.3f}\". format(study_rf.best_value))"
   ],
   "metadata": {
    "collapsed": false,
    "ExecuteTime": {
     "end_time": "2024-07-04T11:15:56.572825500Z",
     "start_time": "2024-07-04T11:15:56.558297700Z"
    }
   }
  },
  {
   "cell_type": "code",
   "execution_count": 31,
   "outputs": [],
   "source": [
    "with mlflow.start_run(nested=True,\n",
    "                      run_name='rf_pipeline_class_weight'):\n",
    "\n",
    "    best_params = study_rf.best_params\n",
    "    best_score = study_rf.best_value\n",
    "    mlflow.log_params(best_params)\n",
    "\n",
    "    rf_pipe_cw = Pipeline([\n",
    "        ('preprocessor', preprocessor),\n",
    "        ('model', RandomForestClassifier(**best_params,\n",
    "                                         class_weight='balanced',\n",
    "                                         random_state=12345))\n",
    "    ])\n",
    "\n",
    "    rf_pipe_cw.fit(X_train, y_train)\n",
    "\n",
    "    pred_proba = rf_pipe_cw.predict_proba(X_test)[:, 1]\n",
    "    roc_auc_rf_cw = roc_auc_score(y_test, pred_proba)\n",
    "    \n",
    "    mlflow.log_metrics({\n",
    "        'f1_cv': best_score,\n",
    "        'roc_auc': roc_auc_rf_cw,\n",
    "        'balanced_accuracy': balanced_accuracy_score(y_test, np.round(pred_proba, 0)),\n",
    "        'f1': f1_score(y_test, np.round(pred_proba, 0))\n",
    "    })\n",
    "    \n",
    "    mlflow.sklearn.log_model(rf_pipe_cw, 'rf_pipeline_class_weight')"
   ],
   "metadata": {
    "collapsed": false,
    "ExecuteTime": {
     "end_time": "2024-07-04T11:15:59.021336700Z",
     "start_time": "2024-07-04T11:15:56.574825900Z"
    }
   }
  },
  {
   "cell_type": "markdown",
   "source": [
    "### 3.1.3 Логистическая регрессия"
   ],
   "metadata": {
    "collapsed": false
   }
  },
  {
   "cell_type": "code",
   "execution_count": 32,
   "outputs": [],
   "source": [
    "cat_pipeline = Pipeline([\n",
    "    ('enc', OneHotEncoder(handle_unknown='error', drop='first'))\n",
    "])\n",
    "\n",
    "num_pipeline = Pipeline([\n",
    "    ('imp', SimpleImputer(fill_value=-1, add_indicator=True)),\n",
    "    ('pt', PowerTransformer()),\n",
    "    ('scal', StandardScaler())\n",
    "])\n",
    "\n",
    "preprocessor = ColumnTransformer([\n",
    "    (\"cat\", cat_pipeline, categorical_features),\n",
    "    (\"num\", num_pipeline, numeric_features)\n",
    "], remainder='passthrough')"
   ],
   "metadata": {
    "collapsed": false,
    "ExecuteTime": {
     "end_time": "2024-07-04T11:15:59.036842100Z",
     "start_time": "2024-07-04T11:15:59.022838700Z"
    }
   }
  },
  {
   "cell_type": "code",
   "execution_count": 33,
   "outputs": [],
   "source": [
    "def optuna_optimize(trial):\n",
    "    param = {\n",
    "        'solver': trial.suggest_categorical('solver', ['lbfgs', 'saga']),\n",
    "        'C': trial.suggest_float('C', 0.01, 100),\n",
    "        'max_iter': trial.suggest_int('max_iter', 100, 1000),\n",
    "        'tol': trial.suggest_float('tol', 1e-4, 1e-2)\n",
    "    }\n",
    "\n",
    "    if param['solver'] == 'lbfgs':\n",
    "        param['penalty'] = 'l2'\n",
    "    elif param['solver'] == 'saga':\n",
    "        param['penalty'] = trial.suggest_categorical('penalty', ['elasticnet', 'l1', 'l2'])\n",
    "        if param['penalty'] == 'elasticnet':\n",
    "            param['l1_ratio'] = trial.suggest_float('l1_ratio', 0, 1)\n",
    "        \n",
    "    estimator = LogisticRegression(**param,  \n",
    "                                   class_weight='balanced',\n",
    "                                   random_state=12345)\n",
    "\n",
    "    log_reg_pipe = Pipeline([\n",
    "        ('preprocessor', preprocessor),\n",
    "        ('model', estimator)\n",
    "    ])\n",
    "    \n",
    "    score = cross_val_score(log_reg_pipe, X_train, y_train, cv=5, scoring='f1').mean()\n",
    "    return score"
   ],
   "metadata": {
    "collapsed": false,
    "ExecuteTime": {
     "end_time": "2024-07-04T11:15:59.065287300Z",
     "start_time": "2024-07-04T11:15:59.039842400Z"
    }
   }
  },
  {
   "cell_type": "code",
   "execution_count": 34,
   "outputs": [],
   "source": [
    "study_log_reg = optuna.create_study(study_name=\"LogisticRegression Optuna Optimization Class Weight\",\n",
    "                                direction='maximize')"
   ],
   "metadata": {
    "collapsed": false,
    "ExecuteTime": {
     "end_time": "2024-07-04T11:15:59.069287300Z",
     "start_time": "2024-07-04T11:15:59.052287800Z"
    }
   }
  },
  {
   "cell_type": "code",
   "execution_count": 35,
   "outputs": [],
   "source": [
    "study_log_reg.optimize(optuna_optimize, n_trials=100)"
   ],
   "metadata": {
    "collapsed": false,
    "ExecuteTime": {
     "end_time": "2024-07-04T11:16:23.335207900Z",
     "start_time": "2024-07-04T11:15:59.067287500Z"
    }
   }
  },
  {
   "cell_type": "code",
   "execution_count": 36,
   "outputs": [
    {
     "name": "stdout",
     "output_type": "stream",
     "text": [
      "Наилучшие значения гиперпараметров Logistic Regression: {'solver': 'saga', 'C': 0.022392897651073544, 'max_iter': 805, 'tol': 0.009752579277906546, 'penalty': 'elasticnet', 'l1_ratio': 0.007455973771905782}\n",
      "f1_score на обучающем наборе: 0.495\n"
     ]
    }
   ],
   "source": [
    "print(\"Наилучшие значения гиперпараметров Logistic Regression: {}\".format(study_log_reg.best_params))\n",
    "print(\"f1_score на обучающем наборе: {:.3f}\". format(study_log_reg.best_value))"
   ],
   "metadata": {
    "collapsed": false,
    "ExecuteTime": {
     "end_time": "2024-07-04T11:16:23.350323600Z",
     "start_time": "2024-07-04T11:16:23.335207900Z"
    }
   }
  },
  {
   "cell_type": "code",
   "execution_count": 37,
   "outputs": [],
   "source": [
    "with mlflow.start_run(nested=True,\n",
    "                      run_name='log_reg_pipeline_class_weight'):\n",
    "\n",
    "    best_params = study_log_reg.best_params\n",
    "    best_score = study_log_reg.best_value\n",
    "    mlflow.log_params(best_params)\n",
    "\n",
    "    log_reg_pipe_cw = Pipeline([\n",
    "        ('preprocessor', preprocessor),\n",
    "        ('model', LogisticRegression(**best_params,\n",
    "                                     class_weight='balanced',\n",
    "                                     random_state=12345))\n",
    "    ])\n",
    "\n",
    "    log_reg_pipe_cw.fit(X_train, y_train)\n",
    "\n",
    "    pred_proba = log_reg_pipe_cw.predict_proba(X_test)[:, 1]\n",
    "    roc_auc_lr_cw = roc_auc_score(y_test, pred_proba)\n",
    "    \n",
    "    mlflow.log_metrics({\n",
    "        'f1_cv': best_score,\n",
    "        'roc_auc': roc_auc_lr_cw,\n",
    "        'balanced_accuracy': balanced_accuracy_score(y_test, np.round(pred_proba, 0)),\n",
    "        'f1': f1_score(y_test, np.round(pred_proba, 0))\n",
    "    })\n",
    "    \n",
    "    mlflow.sklearn.log_model(log_reg_pipe_cw, 'log_reg_pipeline_class_weight')"
   ],
   "metadata": {
    "collapsed": false,
    "ExecuteTime": {
     "end_time": "2024-07-04T11:16:25.185433600Z",
     "start_time": "2024-07-04T11:16:23.352322700Z"
    }
   }
  },
  {
   "cell_type": "markdown",
   "source": [
    "### 3.1.4 Метод опорных векторов"
   ],
   "metadata": {
    "collapsed": false
   }
  },
  {
   "cell_type": "code",
   "execution_count": 38,
   "outputs": [],
   "source": [
    "def optuna_optimize(trial):\n",
    "\n",
    "    param = {\n",
    "        'C': trial.suggest_float('C', 0.01, 3),\n",
    "        'gamma': trial.suggest_categorical('gamma', ['scale', 'auto'])\n",
    "    }\n",
    " \n",
    "    estimator = SVC(**param, \n",
    "                    class_weight='balanced',\n",
    "                    random_state=12345,\n",
    "                    probability=True)\n",
    "    \n",
    "    svc_pipe = Pipeline([\n",
    "        ('preprocessor', preprocessor),\n",
    "        ('model', estimator)\n",
    "    ])\n",
    "    \n",
    "    score = cross_val_score(svc_pipe, X_train, y_train, cv=5, scoring='f1').mean()\n",
    "    return score"
   ],
   "metadata": {
    "collapsed": false,
    "ExecuteTime": {
     "end_time": "2024-07-04T11:16:25.201738500Z",
     "start_time": "2024-07-04T11:16:25.188433200Z"
    }
   }
  },
  {
   "cell_type": "code",
   "execution_count": 39,
   "outputs": [],
   "source": [
    "study_svc = optuna.create_study(study_name=\"SVC Optuna Optimization Class Weight\",\n",
    "                                    direction='maximize')"
   ],
   "metadata": {
    "collapsed": false,
    "ExecuteTime": {
     "end_time": "2024-07-04T11:16:25.229909200Z",
     "start_time": "2024-07-04T11:16:25.201738500Z"
    }
   }
  },
  {
   "cell_type": "code",
   "execution_count": 40,
   "outputs": [],
   "source": [
    "study_svc.optimize(optuna_optimize, n_trials=10)"
   ],
   "metadata": {
    "collapsed": false,
    "ExecuteTime": {
     "end_time": "2024-07-04T11:19:32.392243100Z",
     "start_time": "2024-07-04T11:16:25.217905800Z"
    }
   }
  },
  {
   "cell_type": "code",
   "execution_count": 41,
   "outputs": [
    {
     "name": "stdout",
     "output_type": "stream",
     "text": [
      "Наилучшие значения гиперпараметров SVC: {'C': 2.494665176169719, 'gamma': 'auto'}\n",
      "f1_score на обучающем наборе: 0.580\n"
     ]
    }
   ],
   "source": [
    "print(\"Наилучшие значения гиперпараметров SVC: {}\".format(study_svc.best_params))\n",
    "print(\"f1_score на обучающем наборе: {:.3f}\". format(study_svc.best_value))"
   ],
   "metadata": {
    "collapsed": false,
    "ExecuteTime": {
     "end_time": "2024-07-04T11:19:32.407341300Z",
     "start_time": "2024-07-04T11:19:32.393243Z"
    }
   }
  },
  {
   "cell_type": "code",
   "execution_count": 42,
   "outputs": [],
   "source": [
    "with mlflow.start_run(nested=True,\n",
    "                      run_name='svc_pipeline_class_weight'):\n",
    "\n",
    "    best_params = study_svc.best_params\n",
    "    best_score = study_svc.best_value\n",
    "    mlflow.log_params(best_params)\n",
    "\n",
    "    svc_pipe_cw = Pipeline([\n",
    "        ('preprocessor', preprocessor),\n",
    "        ('model', SVC(**best_params,\n",
    "                      class_weight='balanced',\n",
    "                      random_state=12345,\n",
    "                      probability=True))\n",
    "    ])\n",
    "\n",
    "    svc_pipe_cw.fit(X_train, y_train)\n",
    "\n",
    "    pred_proba = svc_pipe_cw.predict_proba(X_test)[:, 1]\n",
    "    roc_auc_svc_cw = roc_auc_score(y_test, pred_proba)\n",
    "    \n",
    "    mlflow.log_metrics({\n",
    "        'f1_cv': best_score,\n",
    "        'roc_auc': roc_auc_svc_cw,\n",
    "        'balanced_accuracy': balanced_accuracy_score(y_test, np.round(pred_proba, 0)),\n",
    "        'f1': f1_score(y_test, np.round(pred_proba, 0))\n",
    "    })\n",
    "    \n",
    "    mlflow.sklearn.log_model(svc_pipe_cw, 'svc_pipeline_class_weight')"
   ],
   "metadata": {
    "collapsed": false,
    "ExecuteTime": {
     "end_time": "2024-07-04T11:19:40.144008500Z",
     "start_time": "2024-07-04T11:19:32.409340300Z"
    }
   }
  },
  {
   "cell_type": "markdown",
   "source": [
    "## 3.2 Генерация синтетических данных (SMOTE)\n",
    "### 3.2.1 Модель XGBoost"
   ],
   "metadata": {
    "collapsed": false
   }
  },
  {
   "cell_type": "code",
   "execution_count": 71,
   "outputs": [],
   "source": [
    "cat_pipeline = Pipeline([\n",
    "    ('enc', OneHotEncoder(handle_unknown='error', drop='first', sparse_output=False))\n",
    "])\n",
    "\n",
    "num_pipeline = Pipeline([\n",
    "    ('imp', SimpleImputer(fill_value=-1, add_indicator=True)),\n",
    "    ('pt', PowerTransformer())\n",
    "])\n",
    "\n",
    "preprocessor = ColumnTransformer([\n",
    "    (\"cat\", cat_pipeline, categorical_features),\n",
    "    (\"num\", num_pipeline, numeric_features)\n",
    "], remainder='passthrough')"
   ],
   "metadata": {
    "collapsed": false,
    "ExecuteTime": {
     "end_time": "2024-07-04T12:17:45.972066400Z",
     "start_time": "2024-07-04T12:17:45.917549600Z"
    }
   }
  },
  {
   "cell_type": "code",
   "execution_count": 72,
   "outputs": [],
   "source": [
    "def optuna_optimize(trial):\n",
    "    param = {\n",
    "        'n_estimators': trial.suggest_int('n_estimators', 50, 500),\n",
    "        'max_depth': trial.suggest_int('max_depth', 2, 16),\n",
    "        'learning_rate': trial.suggest_float('learning_rate', 0.01, 1.0),\n",
    "        'gamma': trial.suggest_float('gamma', 0.0, 20.0),\n",
    "        'reg_lambda': trial.suggest_float('reg_lambda', 0.0, 1.0),\n",
    "        'min_child_weight': trial.suggest_float('min_child_weight', 0.0, 5.0)\n",
    "    }\n",
    "\n",
    "    estimator = xgb.XGBClassifier(**param,\n",
    "                                  random_state=12345)\n",
    "\n",
    "    xgb_pipe = Pipeline([\n",
    "        ('preprocessor', preprocessor),\n",
    "        ('smote', SMOTE(random_state=12345)),\n",
    "        ('model', estimator)\n",
    "    ])\n",
    "\n",
    "    score = cross_val_score(xgb_pipe, X_train, y_train, cv=5, scoring='f1').mean()\n",
    "    return score"
   ],
   "metadata": {
    "collapsed": false,
    "ExecuteTime": {
     "end_time": "2024-07-04T12:17:46.636889800Z",
     "start_time": "2024-07-04T12:17:46.604899600Z"
    }
   }
  },
  {
   "cell_type": "code",
   "execution_count": 73,
   "outputs": [],
   "source": [
    "study_xgb_smote = optuna.create_study(study_name=\"XGBoost Optuna Optimization SMOTE\",\n",
    "                                direction='maximize')"
   ],
   "metadata": {
    "collapsed": false,
    "ExecuteTime": {
     "end_time": "2024-07-04T12:17:52.363091400Z",
     "start_time": "2024-07-04T12:17:52.338579Z"
    }
   }
  },
  {
   "cell_type": "code",
   "execution_count": 74,
   "outputs": [],
   "source": [
    "study_xgb_smote.optimize(optuna_optimize, n_trials=2000)"
   ],
   "metadata": {
    "collapsed": false,
    "ExecuteTime": {
     "end_time": "2024-07-04T12:46:12.378793500Z",
     "start_time": "2024-07-04T12:17:54.678756Z"
    }
   }
  },
  {
   "cell_type": "code",
   "execution_count": 75,
   "outputs": [
    {
     "name": "stdout",
     "output_type": "stream",
     "text": [
      "Наилучшие значения гиперпараметров XGBoost: {'n_estimators': 244, 'max_depth': 11, 'learning_rate': 0.2314719892226636, 'gamma': 11.338936897141163, 'reg_lambda': 0.8890455196207231, 'min_child_weight': 0.5637195252824914}\n",
      "f1_score на обучающем наборе: 0.631\n"
     ]
    }
   ],
   "source": [
    "print(\"Наилучшие значения гиперпараметров XGBoost: {}\".format(study_xgb_smote.best_params))\n",
    "print(\"f1_score на обучающем наборе: {:.3f}\". format(study_xgb_smote.best_value))"
   ],
   "metadata": {
    "collapsed": false,
    "ExecuteTime": {
     "end_time": "2024-07-04T13:13:47.627053500Z",
     "start_time": "2024-07-04T13:13:47.600055Z"
    }
   }
  },
  {
   "cell_type": "code",
   "execution_count": 76,
   "outputs": [],
   "source": [
    "with mlflow.start_run(nested=True,\n",
    "                      run_name='xgb_pipeline_smote'):\n",
    "\n",
    "    best_params = study_xgb_smote.best_params\n",
    "    best_score = study_xgb_smote.best_value\n",
    "    mlflow.log_params(best_params)\n",
    "\n",
    "    xgb_pipe_sm = Pipeline([\n",
    "        ('preprocessor', preprocessor),\n",
    "        ('smote', SMOTE(random_state=12345)),\n",
    "        ('model', xgb.XGBClassifier(**best_params,\n",
    "                                    random_state=12345))\n",
    "    ])\n",
    "\n",
    "    xgb_pipe_sm.fit(X_train, y_train)\n",
    "\n",
    "    pred_proba = xgb_pipe_sm.predict_proba(X_test)[:, 1]\n",
    "    roc_auc_xgb_sm = roc_auc_score(y_test, pred_proba)\n",
    "    \n",
    "    mlflow.log_metrics({\n",
    "        'f1_cv': best_score,\n",
    "        'roc_auc': roc_auc_xgb_sm,\n",
    "        'balanced_accuracy': balanced_accuracy_score(y_test, np.round(pred_proba, 0)),\n",
    "        'f1': f1_score(y_test, np.round(pred_proba, 0))\n",
    "    })\n",
    "\n",
    "    mlflow.sklearn.log_model(xgb_pipe_sm, 'xgb_pipeline_smote')"
   ],
   "metadata": {
    "collapsed": false,
    "ExecuteTime": {
     "end_time": "2024-07-04T13:14:23.881921700Z",
     "start_time": "2024-07-04T13:14:21.693667Z"
    }
   }
  },
  {
   "cell_type": "markdown",
   "source": [
    "### 3.2.2 Случайный лес"
   ],
   "metadata": {
    "collapsed": false
   }
  },
  {
   "cell_type": "code",
   "execution_count": 49,
   "outputs": [],
   "source": [
    "def optuna_optimize(trial):\n",
    "    param = {\n",
    "        'n_estimators': trial.suggest_int('n_estimators', 50, 300),\n",
    "        'max_depth': trial.suggest_int('max_depth', 2, 10),\n",
    "        'min_samples_leaf': trial.suggest_int('min_samples_leaf', 2, 8),\n",
    "        'min_samples_split': trial.suggest_int('min_samples_split', 2, 20),\n",
    "        'bootstrap': trial.suggest_categorical('bootstrap', [True, False]),\n",
    "    }\n",
    "\n",
    "    if param['bootstrap']:\n",
    "        param['max_samples'] = trial.suggest_float('max_samples', 0.5, 1.0)\n",
    "\n",
    "    estimator = RandomForestClassifier(**param,\n",
    "                                       random_state=12345)\n",
    "\n",
    "    rf_pipe = Pipeline([\n",
    "        ('preprocessor', preprocessor),\n",
    "        ('smote', SMOTE(random_state=12345)),\n",
    "        ('model', estimator)\n",
    "    ])\n",
    "\n",
    "    score = cross_val_score(rf_pipe, X_train, y_train, cv=5, scoring='f1').mean()\n",
    "    return score"
   ],
   "metadata": {
    "collapsed": false,
    "ExecuteTime": {
     "end_time": "2024-07-04T11:47:54.383689200Z",
     "start_time": "2024-07-04T11:47:54.370535600Z"
    }
   }
  },
  {
   "cell_type": "code",
   "execution_count": 50,
   "outputs": [],
   "source": [
    "study_rf_smote = optuna.create_study(study_name=\"RandomForest Optuna Optimization SMOTE\",\n",
    "                               direction='maximize')"
   ],
   "metadata": {
    "collapsed": false,
    "ExecuteTime": {
     "end_time": "2024-07-04T11:47:54.422688200Z",
     "start_time": "2024-07-04T11:47:54.383689200Z"
    }
   }
  },
  {
   "cell_type": "code",
   "execution_count": 51,
   "outputs": [],
   "source": [
    "study_rf_smote.optimize(optuna_optimize, n_trials=100)"
   ],
   "metadata": {
    "collapsed": false,
    "ExecuteTime": {
     "end_time": "2024-07-04T12:02:13.603720200Z",
     "start_time": "2024-07-04T11:47:54.400689600Z"
    }
   }
  },
  {
   "cell_type": "code",
   "execution_count": 52,
   "outputs": [
    {
     "name": "stdout",
     "output_type": "stream",
     "text": [
      "Наилучшие значения гиперпараметров RandomForest: {'n_estimators': 188, 'max_depth': 10, 'min_samples_leaf': 7, 'min_samples_split': 18, 'bootstrap': True, 'max_samples': 0.9678236874658844}\n",
      "f1_score на обучающем наборе: 0.612\n"
     ]
    }
   ],
   "source": [
    "print(\"Наилучшие значения гиперпараметров RandomForest: {}\".format(study_rf_smote.best_params))\n",
    "print(\"f1_score на обучающем наборе: {:.3f}\". format(study_rf_smote.best_value))"
   ],
   "metadata": {
    "collapsed": false,
    "ExecuteTime": {
     "end_time": "2024-07-04T12:02:13.618213900Z",
     "start_time": "2024-07-04T12:02:13.604721300Z"
    }
   }
  },
  {
   "cell_type": "code",
   "execution_count": 53,
   "outputs": [],
   "source": [
    "with mlflow.start_run(nested=True,\n",
    "                      run_name='rf_pipeline_smote'):\n",
    "\n",
    "    best_params = study_rf_smote.best_params\n",
    "    best_score = study_rf_smote.best_value\n",
    "    mlflow.log_params(best_params)\n",
    "\n",
    "    rf_pipe_sm = Pipeline([\n",
    "        ('preprocessor', preprocessor),\n",
    "        ('smote', SMOTE(random_state=12345)),\n",
    "        ('model', RandomForestClassifier(**best_params,\n",
    "                                         random_state=12345))\n",
    "    ])\n",
    "\n",
    "    rf_pipe_sm.fit(X_train, y_train)\n",
    "\n",
    "    pred_proba = rf_pipe_sm.predict_proba(X_test)[:, 1]\n",
    "    roc_auc_rf_sm = roc_auc_score(y_test, pred_proba)\n",
    "    \n",
    "    mlflow.log_metrics({\n",
    "        'f1_cv': best_score,\n",
    "        'roc_auc': roc_auc_rf_sm,\n",
    "        'balanced_accuracy': balanced_accuracy_score(y_test, np.round(pred_proba, 0)),\n",
    "        'f1': f1_score(y_test, np.round(pred_proba, 0))\n",
    "    })\n",
    "    \n",
    "    mlflow.sklearn.log_model(rf_pipe_sm, 'rf_pipeline_smote')"
   ],
   "metadata": {
    "collapsed": false,
    "ExecuteTime": {
     "end_time": "2024-07-04T12:02:17.639781200Z",
     "start_time": "2024-07-04T12:02:13.622215100Z"
    }
   }
  },
  {
   "cell_type": "markdown",
   "source": [
    "### 3.2.3 Логистическая регрессия"
   ],
   "metadata": {
    "collapsed": false
   }
  },
  {
   "cell_type": "code",
   "execution_count": 54,
   "outputs": [],
   "source": [
    "cat_pipeline = Pipeline([\n",
    "    ('enc', OneHotEncoder(handle_unknown='error', drop='first'))\n",
    "])\n",
    "\n",
    "num_pipeline = Pipeline([\n",
    "    ('imp', SimpleImputer(fill_value=-1, add_indicator=True)),\n",
    "    ('pt', PowerTransformer()),\n",
    "    ('scal', StandardScaler())\n",
    "])\n",
    "\n",
    "preprocessor = ColumnTransformer([\n",
    "    (\"cat\", cat_pipeline, categorical_features),\n",
    "    (\"num\", num_pipeline, numeric_features)\n",
    "], remainder='passthrough')"
   ],
   "metadata": {
    "collapsed": false,
    "ExecuteTime": {
     "end_time": "2024-07-04T12:02:17.654275300Z",
     "start_time": "2024-07-04T12:02:17.640781500Z"
    }
   }
  },
  {
   "cell_type": "code",
   "execution_count": 55,
   "outputs": [],
   "source": [
    "def optuna_optimize(trial):\n",
    "    param = {\n",
    "        'solver': trial.suggest_categorical('solver', ['lbfgs', 'saga']),\n",
    "        'C': trial.suggest_float('C', 0.01, 100),\n",
    "        'max_iter': trial.suggest_int('max_iter', 100, 1000),\n",
    "        'tol': trial.suggest_float('tol', 1e-4, 1e-2)\n",
    "    }\n",
    "\n",
    "    if param['solver'] == 'lbfgs':\n",
    "        param['penalty'] = 'l2'\n",
    "    elif param['solver'] == 'saga':\n",
    "        param['penalty'] = trial.suggest_categorical('penalty', ['elasticnet', 'l1', 'l2'])\n",
    "        if param['penalty'] == 'elasticnet':\n",
    "            param['l1_ratio'] = trial.suggest_float('l1_ratio', 0, 1)\n",
    "\n",
    "    estimator = LogisticRegression(**param,\n",
    "                                   random_state=12345)\n",
    "\n",
    "    log_reg_pipe = Pipeline([\n",
    "        ('preprocessor', preprocessor),\n",
    "        ('smote', SMOTE(random_state=12345)),\n",
    "        ('model', estimator)\n",
    "    ])\n",
    "\n",
    "    score = cross_val_score(log_reg_pipe, X_train, y_train, cv=5, scoring='f1').mean()\n",
    "    return score"
   ],
   "metadata": {
    "collapsed": false,
    "ExecuteTime": {
     "end_time": "2024-07-04T12:02:17.684276100Z",
     "start_time": "2024-07-04T12:02:17.657275700Z"
    }
   }
  },
  {
   "cell_type": "code",
   "execution_count": 56,
   "outputs": [],
   "source": [
    "study_log_reg_smote = optuna.create_study(study_name=\"LogisticRegression Optuna Optimization SMOTE\",\n",
    "                                    direction='maximize')"
   ],
   "metadata": {
    "collapsed": false,
    "ExecuteTime": {
     "end_time": "2024-07-04T12:02:17.688275400Z",
     "start_time": "2024-07-04T12:02:17.672276700Z"
    }
   }
  },
  {
   "cell_type": "code",
   "execution_count": 57,
   "outputs": [],
   "source": [
    "study_log_reg_smote.optimize(optuna_optimize, n_trials=100)"
   ],
   "metadata": {
    "collapsed": false,
    "ExecuteTime": {
     "end_time": "2024-07-04T12:02:51.631557200Z",
     "start_time": "2024-07-04T12:02:17.688275400Z"
    }
   }
  },
  {
   "cell_type": "code",
   "execution_count": 58,
   "outputs": [
    {
     "name": "stdout",
     "output_type": "stream",
     "text": [
      "Наилучшие значения гиперпараметров Logistic Regression: {'solver': 'saga', 'C': 13.03512753774626, 'max_iter': 183, 'tol': 0.0032527138638601904, 'penalty': 'l2'}\n",
      "f1_score на обучающем наборе: 0.493\n"
     ]
    }
   ],
   "source": [
    "print(\"Наилучшие значения гиперпараметров Logistic Regression: {}\".format(study_log_reg_smote.best_params))\n",
    "print(\"f1_score на обучающем наборе: {:.3f}\". format(study_log_reg_smote.best_value))"
   ],
   "metadata": {
    "collapsed": false,
    "ExecuteTime": {
     "end_time": "2024-07-04T12:02:51.647662600Z",
     "start_time": "2024-07-04T12:02:51.631557200Z"
    }
   }
  },
  {
   "cell_type": "code",
   "execution_count": 59,
   "outputs": [],
   "source": [
    "with mlflow.start_run(nested=True,\n",
    "                      run_name='log_reg_pipeline_smote'):\n",
    "\n",
    "    best_params = study_log_reg_smote.best_params\n",
    "    best_score = study_log_reg_smote.best_value\n",
    "    mlflow.log_params(best_params)\n",
    "\n",
    "    log_reg_pipe_sm = Pipeline([\n",
    "        ('preprocessor', preprocessor),\n",
    "        ('smote', SMOTE(random_state=12345)),\n",
    "        ('model', LogisticRegression(**best_params,\n",
    "                                     random_state=12345))\n",
    "    ])\n",
    "\n",
    "    log_reg_pipe_sm.fit(X_train, y_train)\n",
    "\n",
    "    pred_proba = log_reg_pipe_sm.predict_proba(X_test)[:, 1]\n",
    "    roc_auc_lr_sm = roc_auc_score(y_test, pred_proba)\n",
    "    \n",
    "    mlflow.log_metrics({\n",
    "        'f1_cv': best_score,\n",
    "        'roc_auc': roc_auc_lr_sm,\n",
    "        'balanced_accuracy': balanced_accuracy_score(y_test, np.round(pred_proba, 0)),\n",
    "        'f1': f1_score(y_test, np.round(pred_proba, 0))\n",
    "    })\n",
    "\n",
    "    mlflow.sklearn.log_model(log_reg_pipe_sm, 'log_reg_pipeline_smote')"
   ],
   "metadata": {
    "collapsed": false,
    "ExecuteTime": {
     "end_time": "2024-07-04T12:02:53.587830200Z",
     "start_time": "2024-07-04T12:02:51.649662100Z"
    }
   }
  },
  {
   "cell_type": "markdown",
   "source": [
    "### 3.2.4 Метод опорных векторов"
   ],
   "metadata": {
    "collapsed": false
   }
  },
  {
   "cell_type": "code",
   "execution_count": 60,
   "outputs": [],
   "source": [
    "def optuna_optimize(trial):\n",
    "\n",
    "    param = {\n",
    "        'C': trial.suggest_float('C', 0.01, 3),\n",
    "        'gamma': trial.suggest_categorical('gamma', ['scale', 'auto'])\n",
    "    }\n",
    "\n",
    "    estimator = SVC(**param,\n",
    "                    random_state=12345,\n",
    "                    probability=True)\n",
    "\n",
    "    svc_pipe = Pipeline([\n",
    "        ('preprocessor', preprocessor),\n",
    "        ('smote', SMOTE(random_state=12345)),\n",
    "        ('model', estimator)\n",
    "    ])\n",
    "\n",
    "    score = cross_val_score(svc_pipe, X_train, y_train, cv=5, scoring='f1').mean()\n",
    "    \n",
    "    return score"
   ],
   "metadata": {
    "collapsed": false,
    "ExecuteTime": {
     "end_time": "2024-07-04T12:02:53.602098500Z",
     "start_time": "2024-07-04T12:02:53.589829800Z"
    }
   }
  },
  {
   "cell_type": "code",
   "execution_count": 61,
   "outputs": [],
   "source": [
    "study_svc_smote = optuna.create_study(study_name=\"SVC Optuna Optimization SMOTE\",\n",
    "                                direction='maximize')"
   ],
   "metadata": {
    "collapsed": false,
    "ExecuteTime": {
     "end_time": "2024-07-04T12:02:53.634252Z",
     "start_time": "2024-07-04T12:02:53.603097700Z"
    }
   }
  },
  {
   "cell_type": "code",
   "execution_count": 62,
   "outputs": [],
   "source": [
    "study_svc_smote.optimize(optuna_optimize, n_trials=10)"
   ],
   "metadata": {
    "collapsed": false,
    "ExecuteTime": {
     "end_time": "2024-07-04T12:10:07.977950400Z",
     "start_time": "2024-07-04T12:02:53.620251600Z"
    }
   }
  },
  {
   "cell_type": "code",
   "execution_count": 63,
   "outputs": [
    {
     "name": "stdout",
     "output_type": "stream",
     "text": [
      "Наилучшие значения гиперпараметров SVC: {'C': 2.9807723829645663, 'gamma': 'auto'}\n",
      "f1_score на обучающем наборе: 0.578\n"
     ]
    }
   ],
   "source": [
    "print(\"Наилучшие значения гиперпараметров SVC: {}\".format(study_svc_smote.best_params))\n",
    "print(\"f1_score на обучающем наборе: {:.3f}\". format(study_svc_smote.best_value))"
   ],
   "metadata": {
    "collapsed": false,
    "ExecuteTime": {
     "end_time": "2024-07-04T12:10:07.991949500Z",
     "start_time": "2024-07-04T12:10:07.977950400Z"
    }
   }
  },
  {
   "cell_type": "code",
   "execution_count": 64,
   "outputs": [],
   "source": [
    "with mlflow.start_run(nested=True,\n",
    "                      run_name='svc_pipeline_smote'):\n",
    "\n",
    "    best_params = study_svc_smote.best_params\n",
    "    best_score = study_svc_smote.best_value\n",
    "    mlflow.log_params(best_params)\n",
    "\n",
    "    svc_pipe_sm = Pipeline([\n",
    "        ('preprocessor', preprocessor),\n",
    "        ('smote', SMOTE(random_state=12345)),\n",
    "        ('model', SVC(**best_params,\n",
    "                      random_state=12345,\n",
    "                      probability=True))\n",
    "    ])\n",
    "\n",
    "    svc_pipe_sm.fit(X_train, y_train)\n",
    "    pred_proba = svc_pipe_sm.predict_proba(X_test)[:, 1]\n",
    "    roc_auc_svc_sm = roc_auc_score(y_test, pred_proba)\n",
    "    \n",
    "    mlflow.log_metrics({\n",
    "        'f1_cv': best_score,\n",
    "        'roc_auc': roc_auc_svc_sm,\n",
    "        'balanced_accuracy': balanced_accuracy_score(y_test, np.round(pred_proba, 0)),\n",
    "        'f1': f1_score(y_test, np.round(pred_proba, 0))\n",
    "    })\n",
    "\n",
    "    mlflow.sklearn.log_model(svc_pipe_sm, 'svc_pipeline_smote')"
   ],
   "metadata": {
    "collapsed": false,
    "ExecuteTime": {
     "end_time": "2024-07-04T12:10:23.322764800Z",
     "start_time": "2024-07-04T12:10:07.994950500Z"
    }
   }
  },
  {
   "cell_type": "code",
   "execution_count": 77,
   "outputs": [],
   "source": [
    "colNames = [\"XGBoost\", \"Random Forest\", \"Logistic Regression\", \"SVC\"]\n",
    "f1_results = {\"Imbalanced\":[study_xgb.best_value, '-', '-', '-'],\n",
    "           \"Class Weight\":[study_xgb_cw.best_value, \n",
    "                           study_rf.best_value, \n",
    "                           study_log_reg.best_value, \n",
    "                           study_svc.best_value],\n",
    "           \"SMOTE\":[study_xgb_smote.best_value, \n",
    "                    study_rf_smote.best_value, \n",
    "                    study_log_reg_smote.best_value, \n",
    "                    study_svc_smote.best_value]}"
   ],
   "metadata": {
    "collapsed": false,
    "ExecuteTime": {
     "end_time": "2024-07-04T13:14:33.378426Z",
     "start_time": "2024-07-04T13:14:33.350425200Z"
    }
   }
  },
  {
   "cell_type": "code",
   "execution_count": 78,
   "outputs": [],
   "source": [
    "# результаты метрики f1 score на кросс-валидации:\n",
    "f1_table = pd.DataFrame.from_dict(f1_results, orient='index', columns=colNames)"
   ],
   "metadata": {
    "collapsed": false,
    "ExecuteTime": {
     "end_time": "2024-07-04T13:14:34.167425100Z",
     "start_time": "2024-07-04T13:14:34.138425200Z"
    }
   }
  },
  {
   "cell_type": "code",
   "execution_count": 79,
   "outputs": [
    {
     "data": {
      "text/plain": "               XGBoost Random Forest Logistic Regression       SVC\nImbalanced    0.599669             -                   -         -\nClass Weight  0.626578      0.622405            0.494979  0.579982\nSMOTE         0.631394      0.612341            0.493496  0.578306",
      "text/html": "<div>\n<style scoped>\n    .dataframe tbody tr th:only-of-type {\n        vertical-align: middle;\n    }\n\n    .dataframe tbody tr th {\n        vertical-align: top;\n    }\n\n    .dataframe thead th {\n        text-align: right;\n    }\n</style>\n<table border=\"1\" class=\"dataframe\">\n  <thead>\n    <tr style=\"text-align: right;\">\n      <th></th>\n      <th>XGBoost</th>\n      <th>Random Forest</th>\n      <th>Logistic Regression</th>\n      <th>SVC</th>\n    </tr>\n  </thead>\n  <tbody>\n    <tr>\n      <th>Imbalanced</th>\n      <td>0.599669</td>\n      <td>-</td>\n      <td>-</td>\n      <td>-</td>\n    </tr>\n    <tr>\n      <th>Class Weight</th>\n      <td>0.626578</td>\n      <td>0.622405</td>\n      <td>0.494979</td>\n      <td>0.579982</td>\n    </tr>\n    <tr>\n      <th>SMOTE</th>\n      <td>0.631394</td>\n      <td>0.612341</td>\n      <td>0.493496</td>\n      <td>0.578306</td>\n    </tr>\n  </tbody>\n</table>\n</div>"
     },
     "execution_count": 79,
     "metadata": {},
     "output_type": "execute_result"
    }
   ],
   "source": [
    "f1_table"
   ],
   "metadata": {
    "collapsed": false,
    "ExecuteTime": {
     "end_time": "2024-07-04T13:14:37.135088400Z",
     "start_time": "2024-07-04T13:14:37.117580800Z"
    }
   }
  },
  {
   "cell_type": "code",
   "execution_count": 80,
   "outputs": [],
   "source": [
    "roc_auc_results = {\"Imbalanced\":[roc_auc_xgb_imb, '-', '-', '-'],\n",
    "           \"Class Weight\":[roc_auc_xgb_cw,\n",
    "                           roc_auc_rf_cw,\n",
    "                           roc_auc_lr_cw,\n",
    "                           roc_auc_svc_cw],\n",
    "           \"SMOTE\":[roc_auc_xgb_sm,\n",
    "                    roc_auc_rf_sm,\n",
    "                    roc_auc_lr_sm,\n",
    "                    roc_auc_svc_sm]}"
   ],
   "metadata": {
    "collapsed": false,
    "ExecuteTime": {
     "end_time": "2024-07-04T13:14:41.147824100Z",
     "start_time": "2024-07-04T13:14:41.118740600Z"
    }
   }
  },
  {
   "cell_type": "code",
   "execution_count": 81,
   "outputs": [],
   "source": [
    "# результаты метрики roc_auc на тесте:\n",
    "roc_auc_table = pd.DataFrame.from_dict(roc_auc_results, orient='index', columns=colNames)"
   ],
   "metadata": {
    "collapsed": false,
    "ExecuteTime": {
     "end_time": "2024-07-04T13:14:41.653518300Z",
     "start_time": "2024-07-04T13:14:41.635517400Z"
    }
   }
  },
  {
   "cell_type": "code",
   "execution_count": 82,
   "outputs": [
    {
     "data": {
      "text/plain": "               XGBoost Random Forest Logistic Regression       SVC\nImbalanced    0.871662             -                   -         -\nClass Weight  0.867453      0.869063            0.788857  0.845136\nSMOTE         0.868570      0.864408            0.787644  0.828411",
      "text/html": "<div>\n<style scoped>\n    .dataframe tbody tr th:only-of-type {\n        vertical-align: middle;\n    }\n\n    .dataframe tbody tr th {\n        vertical-align: top;\n    }\n\n    .dataframe thead th {\n        text-align: right;\n    }\n</style>\n<table border=\"1\" class=\"dataframe\">\n  <thead>\n    <tr style=\"text-align: right;\">\n      <th></th>\n      <th>XGBoost</th>\n      <th>Random Forest</th>\n      <th>Logistic Regression</th>\n      <th>SVC</th>\n    </tr>\n  </thead>\n  <tbody>\n    <tr>\n      <th>Imbalanced</th>\n      <td>0.871662</td>\n      <td>-</td>\n      <td>-</td>\n      <td>-</td>\n    </tr>\n    <tr>\n      <th>Class Weight</th>\n      <td>0.867453</td>\n      <td>0.869063</td>\n      <td>0.788857</td>\n      <td>0.845136</td>\n    </tr>\n    <tr>\n      <th>SMOTE</th>\n      <td>0.868570</td>\n      <td>0.864408</td>\n      <td>0.787644</td>\n      <td>0.828411</td>\n    </tr>\n  </tbody>\n</table>\n</div>"
     },
     "execution_count": 82,
     "metadata": {},
     "output_type": "execute_result"
    }
   ],
   "source": [
    "roc_auc_table"
   ],
   "metadata": {
    "collapsed": false,
    "ExecuteTime": {
     "end_time": "2024-07-04T13:14:45.211921600Z",
     "start_time": "2024-07-04T13:14:45.172919300Z"
    }
   }
  },
  {
   "cell_type": "markdown",
   "source": [
    "# 4. Тестирование лучшей модели\n",
    "\n",
    "Лучший результат метрики f1 на кросс-валидации показывает модель XGBoost с применением техники SMOTE, на втором месте - этот же алгоритм с назначением большего веса меньшему классу. При этом метрика ROC-AUC у первой равна 0,869, у второй - 0,868. Протестируем обе эти модели.\n"
   ],
   "metadata": {
    "collapsed": false
   }
  },
  {
   "cell_type": "code",
   "execution_count": 83,
   "outputs": [
    {
     "data": {
      "text/plain": "Downloading artifacts:   0%|          | 0/5 [00:00<?, ?it/s]",
      "application/vnd.jupyter.widget-view+json": {
       "version_major": 2,
       "version_minor": 0,
       "model_id": "ccaea3a7fe114e109ad96ab64dc76ed5"
      }
     },
     "metadata": {},
     "output_type": "display_data"
    }
   ],
   "source": [
    "best_model_smote = mlflow.sklearn.load_model('runs:/31cc242c1dcc4b81a79c8e184894e8ea/xgb_pipeline_smote')"
   ],
   "metadata": {
    "collapsed": false,
    "ExecuteTime": {
     "end_time": "2024-07-04T13:17:37.901658900Z",
     "start_time": "2024-07-04T13:17:37.779137Z"
    }
   }
  },
  {
   "cell_type": "code",
   "execution_count": 84,
   "outputs": [
    {
     "data": {
      "text/plain": "Downloading artifacts:   0%|          | 0/5 [00:00<?, ?it/s]",
      "application/vnd.jupyter.widget-view+json": {
       "version_major": 2,
       "version_minor": 0,
       "model_id": "e4fdeeae059f439c88b04a22df465384"
      }
     },
     "metadata": {},
     "output_type": "display_data"
    }
   ],
   "source": [
    "best_model_cw = mlflow.sklearn.load_model('runs:/467b6370bf0748d19351e002a3a49c0e/xgb_pipeline_class_weight')"
   ],
   "metadata": {
    "collapsed": false,
    "ExecuteTime": {
     "end_time": "2024-07-04T13:18:07.144934200Z",
     "start_time": "2024-07-04T13:18:06.938252500Z"
    }
   }
  },
  {
   "cell_type": "code",
   "execution_count": 86,
   "outputs": [
    {
     "name": "stdout",
     "output_type": "stream",
     "text": [
      "Результаты метрик модели XGBoost SMOTE:\n",
      "\n",
      "ROC-AUC: 0.8686\n",
      "f1 score: 0.6327\n",
      "Balanced accuracy: 0.7747\n",
      "\n",
      "Результаты метрик модели XGBoost Class Weight:\n",
      "\n",
      "ROC-AUC: 0.8675\n",
      "f1 score: 0.6141\n",
      "Balanced accuracy: 0.7635\n"
     ]
    }
   ],
   "source": [
    "pred_proba_xgb_smote = best_model_smote.predict_proba(X_test)[:, 1]\n",
    "pred_proba_xgb_cw = best_model_cw.predict_proba(X_test)[:, 1]\n",
    "print('Результаты метрик модели XGBoost SMOTE:')\n",
    "print()\n",
    "print('ROC-AUC: {:.4f}'.format(roc_auc_score(y_test, pred_proba_xgb_smote)))\n",
    "print('f1 score: {:.4f}'.format(f1_score(y_test, np.round(pred_proba_xgb_smote))))\n",
    "print('Balanced accuracy: {:.4f}'.format(balanced_accuracy_score(y_test, np.round(pred_proba_xgb_smote))))\n",
    "print()\n",
    "print('Результаты метрик модели XGBoost Class Weight:')\n",
    "print()\n",
    "print('ROC-AUC: {:.4f}'.format(roc_auc_score(y_test, pred_proba_xgb_cw)))\n",
    "print('f1 score: {:.4f}'.format(f1_score(y_test, np.round(pred_proba_xgb_cw))))\n",
    "print('Balanced accuracy: {:.4f}'.format(balanced_accuracy_score(y_test, np.round(pred_proba_xgb_cw))))"
   ],
   "metadata": {
    "collapsed": false,
    "ExecuteTime": {
     "end_time": "2024-07-04T13:18:59.754566500Z",
     "start_time": "2024-07-04T13:18:59.683516400Z"
    }
   }
  },
  {
   "cell_type": "code",
   "execution_count": 88,
   "outputs": [
    {
     "data": {
      "text/plain": "<Figure size 1000x800 with 1 Axes>",
      "image/png": "[encoded data removed]"
     },
     "metadata": {},
     "output_type": "display_data"
    }
   ],
   "source": [
    "plt.figure(figsize=(10, 8))\n",
    "\n",
    "fpr, tpr, thresholds = roc_curve(y_test, pred_proba_xgb_smote)\n",
    "plt.plot(fpr, tpr, label=f'XGBClassifier SMOTE: {round(roc_auc_score(y_test, pred_proba_xgb_smote), 4)}')\n",
    "\n",
    "fpr, tpr, thresholds = roc_curve(y_test, pred_proba_xgb_cw)\n",
    "plt.plot(fpr, tpr, label=f'XGBClassifier Class Weight: {round(roc_auc_score(y_test, pred_proba_xgb_cw), 4)}')\n",
    "\n",
    "plt.plot([0, 1], [0, 1], linestyle='--', label='coin')\n",
    "\n",
    "plt.xlim([-0.02, 1.0])\n",
    "plt.ylim([0.0, 1.05])\n",
    "\n",
    "plt.xlabel('False Positive Rate')\n",
    "plt.ylabel('True Positive Rate')\n",
    "\n",
    "plt.title('ROC-кривая')\n",
    "\n",
    "plt.legend(loc='lower right')\n",
    "\n",
    "plt.show()"
   ],
   "metadata": {
    "collapsed": false,
    "ExecuteTime": {
     "end_time": "2024-07-04T13:20:15.151101600Z",
     "start_time": "2024-07-04T13:20:15.030088900Z"
    }
   }
  },
  {
   "cell_type": "code",
   "execution_count": 89,
   "outputs": [
    {
     "data": {
      "text/plain": "['best_model.pkl']"
     },
     "execution_count": 89,
     "metadata": {},
     "output_type": "execute_result"
    }
   ],
   "source": [
    "# сохраним лучшую модель:\n",
    "joblib.dump(best_model_smote, 'best_model.pkl')"
   ],
   "metadata": {
    "collapsed": false,
    "ExecuteTime": {
     "end_time": "2024-07-04T13:20:55.383752200Z",
     "start_time": "2024-07-04T13:20:55.288249100Z"
    }
   }
  },
  {
   "cell_type": "markdown",
   "source": [
    "В ходе работы над проектом были проделаны следующие шаги:\n",
    "\n",
    "1) Подготовлены данные к исследованию, а именно:\n",
    "\n",
    "- убраны из данных неинформативные столбцы с номером строки, номером ID и фамилией клиента;\n",
    "\n",
    "- обработаны пропуски в столбце Tenure - период, в течение которого человек является клиентом банка;\n",
    "\n",
    "- сделано кодирование категориальных признаков методом One-Hot Encoding, подходящим для разных видов ML;\n",
    "\n",
    "- данные поделены на тренировочную и тестовую выборки;\n",
    "\n",
    "- проверен датасет на сбалансированность классов в таргете (20% положительных ответов);\n",
    "\n",
    "- выполнена трансформация Йео-Джонсона;\n",
    "\n",
    "- сделано масштабирование численных признаков для моделей SVM и логистической регрессии.\n",
    "\n",
    "2) Проведено исследование задачи: построены четыре модели классификации: XGBoost, Случайный лес, Метод опорных векторов и Логистическая регрессия.\n",
    "\n",
    "3) Устранен дисбаланс классов двумя способами: с помощью применения техники SMOTE и добавления модели гиперпараметра class_weight. На новых данных модель XGBClassifier показала результат выше при применении техники SMOTE (F1-мера равна 0.6327). Применение гиперпараметра class_weight оказалось чуть менее эффективно, однако и тут подбор гиперпараметров с изменением веса редкого класса помог довести показатель F1-меры до 0.6141. \n",
    "\n",
    "4) Проведено тестирование финальной модели на тестовой выборке. Можно подтвердить, что нам получилось справиться с дисбалансом классов и удалось получить метрику f1 > 0.59."
   ],
   "metadata": {
    "collapsed": false
   }
  },
  {
   "cell_type": "code",
   "outputs": [],
   "source": [
    "# convert the X_test DataFrame to a JSON string with 'split' orientation:\n",
    "data = X_test.to_json(orient='split')"
   ],
   "metadata": {
    "collapsed": false,
    "ExecuteTime": {
     "end_time": "2024-07-07T07:07:55.401863500Z",
     "start_time": "2024-07-07T07:07:55.362966700Z"
    }
   },
   "execution_count": 156
  },
  {
   "cell_type": "code",
   "outputs": [],
   "source": [
    "# create a dictionary with the JSON string to be sent as the payload in the POST request: \n",
    "payload = {'data': data}"
   ],
   "metadata": {
    "collapsed": false,
    "ExecuteTime": {
     "end_time": "2024-07-07T07:07:55.945539700Z",
     "start_time": "2024-07-07T07:07:55.916402800Z"
    }
   },
   "execution_count": 157
  },
  {
   "cell_type": "code",
   "outputs": [],
   "source": [
    "# send a POST request to the specified URL:\n",
    "result = requests.post('http://127.0.0.1:8000/best_model', json=payload)"
   ],
   "metadata": {
    "collapsed": false,
    "ExecuteTime": {
     "end_time": "2024-07-07T07:07:56.870402400Z",
     "start_time": "2024-07-07T07:07:56.818558300Z"
    }
   },
   "execution_count": 158
  },
  {
   "cell_type": "code",
   "outputs": [
    {
     "data": {
      "text/plain": "<Response [200]>"
     },
     "execution_count": 159,
     "metadata": {},
     "output_type": "execute_result"
    }
   ],
   "source": [
    "result"
   ],
   "metadata": {
    "collapsed": false,
    "ExecuteTime": {
     "end_time": "2024-07-07T07:07:57.171545400Z",
     "start_time": "2024-07-07T07:07:57.159896600Z"
    }
   },
   "execution_count": 159
  },
  {
   "cell_type": "code",
   "outputs": [],
   "source": [
    "# extract the 'pred' field and convert this JSON string back to a DataFrame:\n",
    "res = pd.read_json(result.json()['pred'], orient='split')"
   ],
   "metadata": {
    "collapsed": false,
    "ExecuteTime": {
     "end_time": "2024-07-07T07:08:01.072021800Z",
     "start_time": "2024-07-07T07:08:01.049694300Z"
    }
   },
   "execution_count": 161
  },
  {
   "cell_type": "code",
   "outputs": [
    {
     "name": "stdout",
     "output_type": "stream",
     "text": [
      "f1 score: 0.6327\n",
      "Balanced accuracy: 0.7747\n"
     ]
    }
   ],
   "source": [
    "# проверим, что значения метрик совпадают с полученными ранее на тестовой выборке:\n",
    "print(f'f1 score: {f1_score(y_test, res):.4f}')\n",
    "print(f'Balanced accuracy: {balanced_accuracy_score(y_test, res):.4f}')"
   ],
   "metadata": {
    "collapsed": false,
    "ExecuteTime": {
     "end_time": "2024-07-07T07:22:58.569064500Z",
     "start_time": "2024-07-07T07:22:58.535065600Z"
    }
   },
   "execution_count": 176
  },
  {
   "cell_type": "code",
   "outputs": [
    {
     "name": "stdout",
     "output_type": "stream",
     "text": [
      "f1 score: 0.6327\n",
      "Balanced accuracy: 0.7747\n"
     ]
    }
   ],
   "source": [
    "print('f1 score: {:.4f}'.format(f1_score(y_test, np.round(pred_proba_xgb_smote))))\n",
    "print('Balanced accuracy: {:.4f}'.format(balanced_accuracy_score(y_test, np.round(pred_proba_xgb_smote))))"
   ],
   "metadata": {
    "collapsed": false,
    "ExecuteTime": {
     "end_time": "2024-07-07T07:22:32.534411500Z",
     "start_time": "2024-07-07T07:22:32.500411400Z"
    }
   },
   "execution_count": 174
  },
  {
   "cell_type": "code",
   "outputs": [],
   "source": [],
   "metadata": {
    "collapsed": false
   }
  }
 ],
 "metadata": {
  "kernelspec": {
   "display_name": "Python 3",
   "language": "python",
   "name": "python3"
  },
  "language_info": {
   "codemirror_mode": {
    "name": "ipython",
    "version": 2
   },
   "file_extension": ".py",
   "mimetype": "text/x-python",
   "name": "python",
   "nbconvert_exporter": "python",
   "pygments_lexer": "ipython2",
   "version": "2.7.6"
  }
 },
 "nbformat": 4,
 "nbformat_minor": 0
}
