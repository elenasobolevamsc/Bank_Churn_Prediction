{
 "cells": [
  {
   "cell_type": "markdown",
   "source": [
    "# 1. Подготовка данных"
   ],
   "metadata": {
    "collapsed": false
   }
  },
  {
   "cell_type": "code",
   "execution_count": 1,
   "outputs": [],
   "source": [
    "import warnings\n",
    "warnings.filterwarnings('ignore')\n",
    "\n",
    "import pandas as pd\n",
    "import xgboost as xgb\n",
    "import numpy as np\n",
    "import optuna\n",
    "import mlflow\n",
    "import joblib\n",
    "\n",
    "from imblearn.over_sampling import SMOTE\n",
    "from sklearn.model_selection import train_test_split, cross_val_score\n",
    "from sklearn.preprocessing import OneHotEncoder, StandardScaler, PowerTransformer\n",
    "from sklearn.compose import ColumnTransformer\n",
    "from sklearn.impute import SimpleImputer\n",
    "from sklearn.ensemble import RandomForestClassifier\n",
    "from sklearn.linear_model import LogisticRegression\n",
    "from sklearn.metrics import roc_auc_score, roc_curve, confusion_matrix, f1_score, balanced_accuracy_score\n",
    "from sklearn.svm import SVC\n",
    "from imblearn.pipeline import Pipeline\n",
    "\n",
    "mlflow.set_tracking_uri(\"http://127.0.0.1:8000\")\n",
    "client=mlflow.MlflowClient(tracking_uri='http://127.0.0.1:8000')"
   ],
   "metadata": {
    "collapsed": false,
    "ExecuteTime": {
     "end_time": "2023-11-27T14:56:31.930079600Z",
     "start_time": "2023-11-27T14:56:24.848739Z"
    }
   }
  },
  {
   "cell_type": "code",
   "execution_count": 2,
   "outputs": [],
   "source": [
    "df = pd.read_csv('Churn.csv')"
   ],
   "metadata": {
    "collapsed": false,
    "ExecuteTime": {
     "end_time": "2023-11-27T14:56:35.153566200Z",
     "start_time": "2023-11-27T14:56:34.999895500Z"
    }
   }
  },
  {
   "cell_type": "code",
   "execution_count": 3,
   "outputs": [
    {
     "data": {
      "text/plain": "      RowNumber  CustomerId    Surname  CreditScore Geography  Gender  Age  \\\n0             1    15634602   Hargrave          619    France  Female   42   \n1             2    15647311       Hill          608     Spain  Female   41   \n2             3    15619304       Onio          502    France  Female   42   \n3             4    15701354       Boni          699    France  Female   39   \n4             5    15737888   Mitchell          850     Spain  Female   43   \n...         ...         ...        ...          ...       ...     ...  ...   \n9995       9996    15606229   Obijiaku          771    France    Male   39   \n9996       9997    15569892  Johnstone          516    France    Male   35   \n9997       9998    15584532        Liu          709    France  Female   36   \n9998       9999    15682355  Sabbatini          772   Germany    Male   42   \n9999      10000    15628319     Walker          792    France  Female   28   \n\n      Tenure    Balance  NumOfProducts  HasCrCard  IsActiveMember  \\\n0        2.0       0.00              1          1               1   \n1        1.0   83807.86              1          0               1   \n2        8.0  159660.80              3          1               0   \n3        1.0       0.00              2          0               0   \n4        2.0  125510.82              1          1               1   \n...      ...        ...            ...        ...             ...   \n9995     5.0       0.00              2          1               0   \n9996    10.0   57369.61              1          1               1   \n9997     7.0       0.00              1          0               1   \n9998     3.0   75075.31              2          1               0   \n9999     NaN  130142.79              1          1               0   \n\n      EstimatedSalary  Exited  \n0           101348.88       1  \n1           112542.58       0  \n2           113931.57       1  \n3            93826.63       0  \n4            79084.10       0  \n...               ...     ...  \n9995         96270.64       0  \n9996        101699.77       0  \n9997         42085.58       1  \n9998         92888.52       1  \n9999         38190.78       0  \n\n[10000 rows x 14 columns]",
      "text/html": "<div>\n<style scoped>\n    .dataframe tbody tr th:only-of-type {\n        vertical-align: middle;\n    }\n\n    .dataframe tbody tr th {\n        vertical-align: top;\n    }\n\n    .dataframe thead th {\n        text-align: right;\n    }\n</style>\n<table border=\"1\" class=\"dataframe\">\n  <thead>\n    <tr style=\"text-align: right;\">\n      <th></th>\n      <th>RowNumber</th>\n      <th>CustomerId</th>\n      <th>Surname</th>\n      <th>CreditScore</th>\n      <th>Geography</th>\n      <th>Gender</th>\n      <th>Age</th>\n      <th>Tenure</th>\n      <th>Balance</th>\n      <th>NumOfProducts</th>\n      <th>HasCrCard</th>\n      <th>IsActiveMember</th>\n      <th>EstimatedSalary</th>\n      <th>Exited</th>\n    </tr>\n  </thead>\n  <tbody>\n    <tr>\n      <th>0</th>\n      <td>1</td>\n      <td>15634602</td>\n      <td>Hargrave</td>\n      <td>619</td>\n      <td>France</td>\n      <td>Female</td>\n      <td>42</td>\n      <td>2.0</td>\n      <td>0.00</td>\n      <td>1</td>\n      <td>1</td>\n      <td>1</td>\n      <td>101348.88</td>\n      <td>1</td>\n    </tr>\n    <tr>\n      <th>1</th>\n      <td>2</td>\n      <td>15647311</td>\n      <td>Hill</td>\n      <td>608</td>\n      <td>Spain</td>\n      <td>Female</td>\n      <td>41</td>\n      <td>1.0</td>\n      <td>83807.86</td>\n      <td>1</td>\n      <td>0</td>\n      <td>1</td>\n      <td>112542.58</td>\n      <td>0</td>\n    </tr>\n    <tr>\n      <th>2</th>\n      <td>3</td>\n      <td>15619304</td>\n      <td>Onio</td>\n      <td>502</td>\n      <td>France</td>\n      <td>Female</td>\n      <td>42</td>\n      <td>8.0</td>\n      <td>159660.80</td>\n      <td>3</td>\n      <td>1</td>\n      <td>0</td>\n      <td>113931.57</td>\n      <td>1</td>\n    </tr>\n    <tr>\n      <th>3</th>\n      <td>4</td>\n      <td>15701354</td>\n      <td>Boni</td>\n      <td>699</td>\n      <td>France</td>\n      <td>Female</td>\n      <td>39</td>\n      <td>1.0</td>\n      <td>0.00</td>\n      <td>2</td>\n      <td>0</td>\n      <td>0</td>\n      <td>93826.63</td>\n      <td>0</td>\n    </tr>\n    <tr>\n      <th>4</th>\n      <td>5</td>\n      <td>15737888</td>\n      <td>Mitchell</td>\n      <td>850</td>\n      <td>Spain</td>\n      <td>Female</td>\n      <td>43</td>\n      <td>2.0</td>\n      <td>125510.82</td>\n      <td>1</td>\n      <td>1</td>\n      <td>1</td>\n      <td>79084.10</td>\n      <td>0</td>\n    </tr>\n    <tr>\n      <th>...</th>\n      <td>...</td>\n      <td>...</td>\n      <td>...</td>\n      <td>...</td>\n      <td>...</td>\n      <td>...</td>\n      <td>...</td>\n      <td>...</td>\n      <td>...</td>\n      <td>...</td>\n      <td>...</td>\n      <td>...</td>\n      <td>...</td>\n      <td>...</td>\n    </tr>\n    <tr>\n      <th>9995</th>\n      <td>9996</td>\n      <td>15606229</td>\n      <td>Obijiaku</td>\n      <td>771</td>\n      <td>France</td>\n      <td>Male</td>\n      <td>39</td>\n      <td>5.0</td>\n      <td>0.00</td>\n      <td>2</td>\n      <td>1</td>\n      <td>0</td>\n      <td>96270.64</td>\n      <td>0</td>\n    </tr>\n    <tr>\n      <th>9996</th>\n      <td>9997</td>\n      <td>15569892</td>\n      <td>Johnstone</td>\n      <td>516</td>\n      <td>France</td>\n      <td>Male</td>\n      <td>35</td>\n      <td>10.0</td>\n      <td>57369.61</td>\n      <td>1</td>\n      <td>1</td>\n      <td>1</td>\n      <td>101699.77</td>\n      <td>0</td>\n    </tr>\n    <tr>\n      <th>9997</th>\n      <td>9998</td>\n      <td>15584532</td>\n      <td>Liu</td>\n      <td>709</td>\n      <td>France</td>\n      <td>Female</td>\n      <td>36</td>\n      <td>7.0</td>\n      <td>0.00</td>\n      <td>1</td>\n      <td>0</td>\n      <td>1</td>\n      <td>42085.58</td>\n      <td>1</td>\n    </tr>\n    <tr>\n      <th>9998</th>\n      <td>9999</td>\n      <td>15682355</td>\n      <td>Sabbatini</td>\n      <td>772</td>\n      <td>Germany</td>\n      <td>Male</td>\n      <td>42</td>\n      <td>3.0</td>\n      <td>75075.31</td>\n      <td>2</td>\n      <td>1</td>\n      <td>0</td>\n      <td>92888.52</td>\n      <td>1</td>\n    </tr>\n    <tr>\n      <th>9999</th>\n      <td>10000</td>\n      <td>15628319</td>\n      <td>Walker</td>\n      <td>792</td>\n      <td>France</td>\n      <td>Female</td>\n      <td>28</td>\n      <td>NaN</td>\n      <td>130142.79</td>\n      <td>1</td>\n      <td>1</td>\n      <td>0</td>\n      <td>38190.78</td>\n      <td>0</td>\n    </tr>\n  </tbody>\n</table>\n<p>10000 rows × 14 columns</p>\n</div>"
     },
     "execution_count": 3,
     "metadata": {},
     "output_type": "execute_result"
    }
   ],
   "source": [
    "df"
   ],
   "metadata": {
    "collapsed": false,
    "ExecuteTime": {
     "end_time": "2023-11-27T14:56:35.995123700Z",
     "start_time": "2023-11-27T14:56:35.741629200Z"
    }
   }
  },
  {
   "cell_type": "code",
   "execution_count": 4,
   "outputs": [
    {
     "name": "stdout",
     "output_type": "stream",
     "text": [
      "<class 'pandas.core.frame.DataFrame'>\n",
      "RangeIndex: 10000 entries, 0 to 9999\n",
      "Data columns (total 14 columns):\n",
      " #   Column           Non-Null Count  Dtype  \n",
      "---  ------           --------------  -----  \n",
      " 0   RowNumber        10000 non-null  int64  \n",
      " 1   CustomerId       10000 non-null  int64  \n",
      " 2   Surname          10000 non-null  object \n",
      " 3   CreditScore      10000 non-null  int64  \n",
      " 4   Geography        10000 non-null  object \n",
      " 5   Gender           10000 non-null  object \n",
      " 6   Age              10000 non-null  int64  \n",
      " 7   Tenure           9091 non-null   float64\n",
      " 8   Balance          10000 non-null  float64\n",
      " 9   NumOfProducts    10000 non-null  int64  \n",
      " 10  HasCrCard        10000 non-null  int64  \n",
      " 11  IsActiveMember   10000 non-null  int64  \n",
      " 12  EstimatedSalary  10000 non-null  float64\n",
      " 13  Exited           10000 non-null  int64  \n",
      "dtypes: float64(3), int64(8), object(3)\n",
      "memory usage: 1.1+ MB\n"
     ]
    }
   ],
   "source": [
    "df.info()"
   ],
   "metadata": {
    "collapsed": false,
    "ExecuteTime": {
     "end_time": "2023-11-27T14:56:39.108915200Z",
     "start_time": "2023-11-27T14:56:38.861441900Z"
    }
   }
  },
  {
   "cell_type": "code",
   "execution_count": 5,
   "outputs": [
    {
     "data": {
      "text/plain": "0"
     },
     "execution_count": 5,
     "metadata": {},
     "output_type": "execute_result"
    }
   ],
   "source": [
    "# проверим наличие явных дубликатов:\n",
    "df.duplicated().sum()"
   ],
   "metadata": {
    "collapsed": false,
    "ExecuteTime": {
     "end_time": "2023-11-27T14:56:39.681609100Z",
     "start_time": "2023-11-27T14:56:39.473862100Z"
    }
   }
  },
  {
   "cell_type": "code",
   "execution_count": 6,
   "outputs": [
    {
     "data": {
      "text/plain": "Geography\nFrance     5014\nGermany    2509\nSpain      2477\nName: count, dtype: int64"
     },
     "execution_count": 6,
     "metadata": {},
     "output_type": "execute_result"
    }
   ],
   "source": [
    "# посмотрим уникальные значения в столбце Geography:\n",
    "df['Geography'].value_counts()"
   ],
   "metadata": {
    "collapsed": false,
    "ExecuteTime": {
     "end_time": "2023-11-27T14:56:40.189601800Z",
     "start_time": "2023-11-27T14:56:39.850349200Z"
    }
   }
  },
  {
   "cell_type": "code",
   "execution_count": 7,
   "outputs": [
    {
     "data": {
      "text/plain": "Tenure\n1.0     952\n2.0     950\n8.0     933\n3.0     928\n5.0     927\n7.0     925\n4.0     885\n9.0     882\n6.0     881\n10.0    446\n0.0     382\nName: count, dtype: int64"
     },
     "execution_count": 7,
     "metadata": {},
     "output_type": "execute_result"
    }
   ],
   "source": [
    "# посмотрим уникальные значения в столбце Tenure:\n",
    "df['Tenure'].value_counts().sort_values(ascending=False)"
   ],
   "metadata": {
    "collapsed": false,
    "ExecuteTime": {
     "end_time": "2023-11-27T14:56:40.503401900Z",
     "start_time": "2023-11-27T14:56:40.078791Z"
    }
   }
  },
  {
   "cell_type": "code",
   "execution_count": 8,
   "outputs": [
    {
     "data": {
      "text/plain": "NumOfProducts\n1    5084\n2    4590\n3     266\n4      60\nName: count, dtype: int64"
     },
     "execution_count": 8,
     "metadata": {},
     "output_type": "execute_result"
    }
   ],
   "source": [
    "# посмотрим уникальные значения в столбце NumOfProducts:\n",
    "df['NumOfProducts'].value_counts()"
   ],
   "metadata": {
    "collapsed": false,
    "ExecuteTime": {
     "end_time": "2023-11-27T14:56:40.973518800Z",
     "start_time": "2023-11-27T14:56:40.314516500Z"
    }
   }
  },
  {
   "cell_type": "code",
   "execution_count": 9,
   "outputs": [
    {
     "data": {
      "text/plain": "HasCrCard\n1    7055\n0    2945\nName: count, dtype: int64"
     },
     "execution_count": 9,
     "metadata": {},
     "output_type": "execute_result"
    }
   ],
   "source": [
    "# посмотрим уникальные значения в столбце HasCrCard:\n",
    "df['HasCrCard'].value_counts()"
   ],
   "metadata": {
    "collapsed": false,
    "ExecuteTime": {
     "end_time": "2023-11-27T14:56:42.349897500Z",
     "start_time": "2023-11-27T14:56:40.482008Z"
    }
   }
  },
  {
   "cell_type": "code",
   "execution_count": 10,
   "outputs": [
    {
     "data": {
      "text/plain": "IsActiveMember\n1    5151\n0    4849\nName: count, dtype: int64"
     },
     "execution_count": 10,
     "metadata": {},
     "output_type": "execute_result"
    }
   ],
   "source": [
    "# посмотрим уникальные значения в столбце IsActiveMember:\n",
    "df['IsActiveMember'].value_counts()"
   ],
   "metadata": {
    "collapsed": false,
    "ExecuteTime": {
     "end_time": "2023-11-27T14:56:43.331266400Z",
     "start_time": "2023-11-27T14:56:40.747693700Z"
    }
   }
  },
  {
   "cell_type": "code",
   "execution_count": 11,
   "outputs": [
    {
     "data": {
      "text/plain": "Exited\n0    7963\n1    2037\nName: count, dtype: int64"
     },
     "execution_count": 11,
     "metadata": {},
     "output_type": "execute_result"
    }
   ],
   "source": [
    "# посчитаем классы в целевом признаке:\n",
    "df['Exited'].value_counts()"
   ],
   "metadata": {
    "collapsed": false,
    "ExecuteTime": {
     "end_time": "2023-11-27T14:56:43.585545800Z",
     "start_time": "2023-11-27T14:56:41.077773500Z"
    }
   }
  },
  {
   "cell_type": "markdown",
   "source": [
    "Можно отметить, что дубликаты в датасете отсутствуют, в столбце Tenure есть около тысячи пропусков, а также несколько столбцов лучше вообще удалить, из них:\n",
    "\n",
    "- RowNumber - это индекс строки в данных, важной информации не содержит;\n",
    "- CustomerId - уникальный идентификатор клиента, по нему мы проверили дубликаты и теперь его можно удалить;\n",
    "- Surname - фамилия, которая тоже не имеет связи с оттоком клиентов.\n",
    "\n",
    "После проверки датасета на сбалансированность классов в таргете мы видим, что объектов отрицательного класса намного больше (почти в четыре раза), но все равно уходит примерно 20% клиентов. В столбце Geography находятся всего 3 уникальных значения: France, Germany и Spain. В столбце Tenure (сколько лет человек является клиентом банка) есть 909 пропусков. Заполним их значением -1, добавив логический параметр add_indicator=True. Есть несколько бинарных признаков (HasCrCard, IsActiveMember), которые затем выделим в отдельную категорию признаков."
   ],
   "metadata": {
    "collapsed": false
   }
  },
  {
   "cell_type": "code",
   "execution_count": 12,
   "outputs": [],
   "source": [
    "# удалим ненужные столбцы:\n",
    "df.drop([\"RowNumber\", \"CustomerId\", \"Surname\"], axis=1, inplace=True)"
   ],
   "metadata": {
    "collapsed": false,
    "ExecuteTime": {
     "end_time": "2023-11-27T14:56:43.774602500Z",
     "start_time": "2023-11-27T14:56:41.877343700Z"
    }
   }
  },
  {
   "cell_type": "code",
   "execution_count": 13,
   "outputs": [
    {
     "data": {
      "text/plain": "      CreditScore Geography  Gender  Age  Tenure    Balance  NumOfProducts  \\\n0             619    France  Female   42     2.0       0.00              1   \n1             608     Spain  Female   41     1.0   83807.86              1   \n2             502    France  Female   42     8.0  159660.80              3   \n3             699    France  Female   39     1.0       0.00              2   \n4             850     Spain  Female   43     2.0  125510.82              1   \n...           ...       ...     ...  ...     ...        ...            ...   \n9995          771    France    Male   39     5.0       0.00              2   \n9996          516    France    Male   35    10.0   57369.61              1   \n9997          709    France  Female   36     7.0       0.00              1   \n9998          772   Germany    Male   42     3.0   75075.31              2   \n9999          792    France  Female   28     NaN  130142.79              1   \n\n      HasCrCard  IsActiveMember  EstimatedSalary  Exited  \n0             1               1        101348.88       1  \n1             0               1        112542.58       0  \n2             1               0        113931.57       1  \n3             0               0         93826.63       0  \n4             1               1         79084.10       0  \n...         ...             ...              ...     ...  \n9995          1               0         96270.64       0  \n9996          1               1        101699.77       0  \n9997          0               1         42085.58       1  \n9998          1               0         92888.52       1  \n9999          1               0         38190.78       0  \n\n[10000 rows x 11 columns]",
      "text/html": "<div>\n<style scoped>\n    .dataframe tbody tr th:only-of-type {\n        vertical-align: middle;\n    }\n\n    .dataframe tbody tr th {\n        vertical-align: top;\n    }\n\n    .dataframe thead th {\n        text-align: right;\n    }\n</style>\n<table border=\"1\" class=\"dataframe\">\n  <thead>\n    <tr style=\"text-align: right;\">\n      <th></th>\n      <th>CreditScore</th>\n      <th>Geography</th>\n      <th>Gender</th>\n      <th>Age</th>\n      <th>Tenure</th>\n      <th>Balance</th>\n      <th>NumOfProducts</th>\n      <th>HasCrCard</th>\n      <th>IsActiveMember</th>\n      <th>EstimatedSalary</th>\n      <th>Exited</th>\n    </tr>\n  </thead>\n  <tbody>\n    <tr>\n      <th>0</th>\n      <td>619</td>\n      <td>France</td>\n      <td>Female</td>\n      <td>42</td>\n      <td>2.0</td>\n      <td>0.00</td>\n      <td>1</td>\n      <td>1</td>\n      <td>1</td>\n      <td>101348.88</td>\n      <td>1</td>\n    </tr>\n    <tr>\n      <th>1</th>\n      <td>608</td>\n      <td>Spain</td>\n      <td>Female</td>\n      <td>41</td>\n      <td>1.0</td>\n      <td>83807.86</td>\n      <td>1</td>\n      <td>0</td>\n      <td>1</td>\n      <td>112542.58</td>\n      <td>0</td>\n    </tr>\n    <tr>\n      <th>2</th>\n      <td>502</td>\n      <td>France</td>\n      <td>Female</td>\n      <td>42</td>\n      <td>8.0</td>\n      <td>159660.80</td>\n      <td>3</td>\n      <td>1</td>\n      <td>0</td>\n      <td>113931.57</td>\n      <td>1</td>\n    </tr>\n    <tr>\n      <th>3</th>\n      <td>699</td>\n      <td>France</td>\n      <td>Female</td>\n      <td>39</td>\n      <td>1.0</td>\n      <td>0.00</td>\n      <td>2</td>\n      <td>0</td>\n      <td>0</td>\n      <td>93826.63</td>\n      <td>0</td>\n    </tr>\n    <tr>\n      <th>4</th>\n      <td>850</td>\n      <td>Spain</td>\n      <td>Female</td>\n      <td>43</td>\n      <td>2.0</td>\n      <td>125510.82</td>\n      <td>1</td>\n      <td>1</td>\n      <td>1</td>\n      <td>79084.10</td>\n      <td>0</td>\n    </tr>\n    <tr>\n      <th>...</th>\n      <td>...</td>\n      <td>...</td>\n      <td>...</td>\n      <td>...</td>\n      <td>...</td>\n      <td>...</td>\n      <td>...</td>\n      <td>...</td>\n      <td>...</td>\n      <td>...</td>\n      <td>...</td>\n    </tr>\n    <tr>\n      <th>9995</th>\n      <td>771</td>\n      <td>France</td>\n      <td>Male</td>\n      <td>39</td>\n      <td>5.0</td>\n      <td>0.00</td>\n      <td>2</td>\n      <td>1</td>\n      <td>0</td>\n      <td>96270.64</td>\n      <td>0</td>\n    </tr>\n    <tr>\n      <th>9996</th>\n      <td>516</td>\n      <td>France</td>\n      <td>Male</td>\n      <td>35</td>\n      <td>10.0</td>\n      <td>57369.61</td>\n      <td>1</td>\n      <td>1</td>\n      <td>1</td>\n      <td>101699.77</td>\n      <td>0</td>\n    </tr>\n    <tr>\n      <th>9997</th>\n      <td>709</td>\n      <td>France</td>\n      <td>Female</td>\n      <td>36</td>\n      <td>7.0</td>\n      <td>0.00</td>\n      <td>1</td>\n      <td>0</td>\n      <td>1</td>\n      <td>42085.58</td>\n      <td>1</td>\n    </tr>\n    <tr>\n      <th>9998</th>\n      <td>772</td>\n      <td>Germany</td>\n      <td>Male</td>\n      <td>42</td>\n      <td>3.0</td>\n      <td>75075.31</td>\n      <td>2</td>\n      <td>1</td>\n      <td>0</td>\n      <td>92888.52</td>\n      <td>1</td>\n    </tr>\n    <tr>\n      <th>9999</th>\n      <td>792</td>\n      <td>France</td>\n      <td>Female</td>\n      <td>28</td>\n      <td>NaN</td>\n      <td>130142.79</td>\n      <td>1</td>\n      <td>1</td>\n      <td>0</td>\n      <td>38190.78</td>\n      <td>0</td>\n    </tr>\n  </tbody>\n</table>\n<p>10000 rows × 11 columns</p>\n</div>"
     },
     "execution_count": 13,
     "metadata": {},
     "output_type": "execute_result"
    }
   ],
   "source": [
    "df"
   ],
   "metadata": {
    "collapsed": false,
    "ExecuteTime": {
     "end_time": "2023-11-27T14:56:44.198533100Z",
     "start_time": "2023-11-27T14:56:42.168476400Z"
    }
   }
  },
  {
   "cell_type": "code",
   "execution_count": 14,
   "outputs": [
    {
     "name": "stdout",
     "output_type": "stream",
     "text": [
      "<class 'pandas.core.frame.DataFrame'>\n",
      "RangeIndex: 10000 entries, 0 to 9999\n",
      "Data columns (total 11 columns):\n",
      " #   Column           Non-Null Count  Dtype  \n",
      "---  ------           --------------  -----  \n",
      " 0   CreditScore      10000 non-null  int64  \n",
      " 1   Geography        10000 non-null  object \n",
      " 2   Gender           10000 non-null  object \n",
      " 3   Age              10000 non-null  int64  \n",
      " 4   Tenure           9091 non-null   float64\n",
      " 5   Balance          10000 non-null  float64\n",
      " 6   NumOfProducts    10000 non-null  int64  \n",
      " 7   HasCrCard        10000 non-null  int64  \n",
      " 8   IsActiveMember   10000 non-null  int64  \n",
      " 9   EstimatedSalary  10000 non-null  float64\n",
      " 10  Exited           10000 non-null  int64  \n",
      "dtypes: float64(3), int64(6), object(2)\n",
      "memory usage: 859.5+ KB\n"
     ]
    }
   ],
   "source": [
    "df.info()"
   ],
   "metadata": {
    "collapsed": false,
    "ExecuteTime": {
     "end_time": "2023-11-27T14:56:44.510633400Z",
     "start_time": "2023-11-27T14:56:42.344738900Z"
    }
   }
  },
  {
   "cell_type": "code",
   "execution_count": 15,
   "outputs": [],
   "source": [
    "# сохраним признаки и целевой признак в отдельных переменных:\n",
    "y = df['Exited']\n",
    "X = df.drop('Exited', axis=1)"
   ],
   "metadata": {
    "collapsed": false,
    "ExecuteTime": {
     "end_time": "2023-11-27T14:56:44.585570500Z",
     "start_time": "2023-11-27T14:56:42.873102700Z"
    }
   }
  },
  {
   "cell_type": "code",
   "execution_count": 16,
   "outputs": [],
   "source": [
    "# разобьем исходные данные на обучающую и тестовую выборки в соотношении 4:1:\n",
    "X_train, X_test, y_train, y_test = train_test_split(X, y, test_size=0.2, random_state=12345, stratify=y)"
   ],
   "metadata": {
    "collapsed": false,
    "ExecuteTime": {
     "end_time": "2023-11-27T14:56:44.713594300Z",
     "start_time": "2023-11-27T14:56:43.193192300Z"
    }
   }
  },
  {
   "cell_type": "code",
   "execution_count": 17,
   "outputs": [
    {
     "name": "stdout",
     "output_type": "stream",
     "text": [
      "Размер обучающей выборки: (8000, 10)\n",
      "Размер тестовой выборки: (2000, 10)\n"
     ]
    }
   ],
   "source": [
    "# посмотрим на размеры выборок:\n",
    "print('Размер обучающей выборки:', X_train.shape)\n",
    "print('Размер тестовой выборки:', X_test.shape)"
   ],
   "metadata": {
    "collapsed": false,
    "ExecuteTime": {
     "end_time": "2023-11-27T14:56:45.068551200Z",
     "start_time": "2023-11-27T14:56:43.429196500Z"
    }
   }
  },
  {
   "cell_type": "code",
   "execution_count": 18,
   "outputs": [],
   "source": [
    "# внесем в переменные списки все численные и категориальные признаки:\n",
    "categorical_features = X_train.select_dtypes(include=['object']).columns.tolist()\n",
    "numeric_features = X_train.select_dtypes(exclude=['object']).columns.tolist()\n",
    "binary_features = ['HasCrCard', 'IsActiveMember']\n",
    "numeric_features = list(set(numeric_features) - set(binary_features))"
   ],
   "metadata": {
    "collapsed": false,
    "ExecuteTime": {
     "end_time": "2023-11-27T14:56:45.334045Z",
     "start_time": "2023-11-27T14:56:43.865568400Z"
    }
   }
  },
  {
   "cell_type": "code",
   "execution_count": 19,
   "outputs": [
    {
     "data": {
      "text/plain": "['Balance', 'NumOfProducts', 'Age', 'CreditScore', 'Tenure', 'EstimatedSalary']"
     },
     "execution_count": 19,
     "metadata": {},
     "output_type": "execute_result"
    }
   ],
   "source": [
    "numeric_features"
   ],
   "metadata": {
    "collapsed": false,
    "ExecuteTime": {
     "end_time": "2023-11-27T14:56:45.855280600Z",
     "start_time": "2023-11-27T14:56:44.395506300Z"
    }
   }
  },
  {
   "cell_type": "code",
   "execution_count": 20,
   "outputs": [
    {
     "data": {
      "text/plain": "['Geography', 'Gender']"
     },
     "execution_count": 20,
     "metadata": {},
     "output_type": "execute_result"
    }
   ],
   "source": [
    "categorical_features"
   ],
   "metadata": {
    "collapsed": false,
    "ExecuteTime": {
     "end_time": "2023-11-27T14:56:46.310373400Z",
     "start_time": "2023-11-27T14:56:44.851078500Z"
    }
   }
  },
  {
   "cell_type": "code",
   "execution_count": 21,
   "outputs": [
    {
     "data": {
      "text/plain": "['HasCrCard', 'IsActiveMember']"
     },
     "execution_count": 21,
     "metadata": {},
     "output_type": "execute_result"
    }
   ],
   "source": [
    "binary_features"
   ],
   "metadata": {
    "collapsed": false,
    "ExecuteTime": {
     "end_time": "2023-11-27T14:56:47.213301800Z",
     "start_time": "2023-11-27T14:56:45.564143200Z"
    }
   }
  },
  {
   "cell_type": "markdown",
   "source": [
    "# 2. Обучение модели без учёта дисбаланса классов (XGBoost)"
   ],
   "metadata": {
    "collapsed": false
   }
  },
  {
   "cell_type": "markdown",
   "source": [
    "Для автоматизации процесса подготовим численный и категориальный пайплайны.\n",
    "- Для категориальных признаков (Geography, Gender) используем One Hot Encoding.\n",
    "- Для заполнения пропусков используем SimpleImputer.\n",
    "- Выполним трансформацию Йео-Джонсона.\n",
    "- \n",
    "- Объединим пайплайны классом ColumnTransformer."
   ],
   "metadata": {
    "collapsed": false
   }
  },
  {
   "cell_type": "code",
   "execution_count": 22,
   "outputs": [],
   "source": [
    "cat_pipeline = Pipeline([\n",
    "    ('enc', OneHotEncoder(handle_unknown='error', drop='first'))\n",
    "])\n",
    "\n",
    "num_pipeline = Pipeline([\n",
    "    ('imp', SimpleImputer(fill_value=-1, add_indicator=True)),\n",
    "    ('pt', PowerTransformer()) \n",
    "])\n",
    "\n",
    "preprocessor = ColumnTransformer([\n",
    "    (\"cat\", cat_pipeline, categorical_features),\n",
    "    (\"num\", num_pipeline, numeric_features)\n",
    "\n",
    "], remainder='passthrough')\n",
    "\n",
    "pipe = Pipeline([\n",
    "    ('preprocessor', preprocessor),\n",
    "    ('model', xgb.XGBClassifier(random_state=12345))\n",
    "])"
   ],
   "metadata": {
    "collapsed": false,
    "ExecuteTime": {
     "end_time": "2023-11-27T14:56:49.210829500Z",
     "start_time": "2023-11-27T14:56:47.507490800Z"
    }
   }
  },
  {
   "cell_type": "code",
   "execution_count": 23,
   "outputs": [
    {
     "data": {
      "text/plain": "Pipeline(steps=[('preprocessor',\n                 ColumnTransformer(remainder='passthrough',\n                                   transformers=[('cat',\n                                                  Pipeline(steps=[('enc',\n                                                                   OneHotEncoder(drop='first'))]),\n                                                  ['Geography', 'Gender']),\n                                                 ('num',\n                                                  Pipeline(steps=[('imp',\n                                                                   SimpleImputer(add_indicator=True,\n                                                                                 fill_value=-1)),\n                                                                  ('pt',\n                                                                   PowerTransformer())]),\n                                                  ['Balance', 'NumOfProducts',\n                                                   'Age', 'CreditScore',\n                                                   'Tenure',\n                                                   'EstimatedSala...\n                               feature_types=None, gamma=None, grow_policy=None,\n                               importance_type=None,\n                               interaction_constraints=None, learning_rate=None,\n                               max_bin=None, max_cat_threshold=None,\n                               max_cat_to_onehot=None, max_delta_step=None,\n                               max_depth=None, max_leaves=None,\n                               min_child_weight=None, missing=nan,\n                               monotone_constraints=None, multi_strategy=None,\n                               n_estimators=None, n_jobs=None,\n                               num_parallel_tree=None, random_state=12345, ...))])",
      "text/html": "<style>#sk-container-id-1 {color: black;}#sk-container-id-1 pre{padding: 0;}#sk-container-id-1 div.sk-toggleable {background-color: white;}#sk-container-id-1 label.sk-toggleable__label {cursor: pointer;display: block;width: 100%;margin-bottom: 0;padding: 0.3em;box-sizing: border-box;text-align: center;}#sk-container-id-1 label.sk-toggleable__label-arrow:before {content: \"▸\";float: left;margin-right: 0.25em;color: #696969;}#sk-container-id-1 label.sk-toggleable__label-arrow:hover:before {color: black;}#sk-container-id-1 div.sk-estimator:hover label.sk-toggleable__label-arrow:before {color: black;}#sk-container-id-1 div.sk-toggleable__content {max-height: 0;max-width: 0;overflow: hidden;text-align: left;background-color: #f0f8ff;}#sk-container-id-1 div.sk-toggleable__content pre {margin: 0.2em;color: black;border-radius: 0.25em;background-color: #f0f8ff;}#sk-container-id-1 input.sk-toggleable__control:checked~div.sk-toggleable__content {max-height: 200px;max-width: 100%;overflow: auto;}#sk-container-id-1 input.sk-toggleable__control:checked~label.sk-toggleable__label-arrow:before {content: \"▾\";}#sk-container-id-1 div.sk-estimator input.sk-toggleable__control:checked~label.sk-toggleable__label {background-color: #d4ebff;}#sk-container-id-1 div.sk-label input.sk-toggleable__control:checked~label.sk-toggleable__label {background-color: #d4ebff;}#sk-container-id-1 input.sk-hidden--visually {border: 0;clip: rect(1px 1px 1px 1px);clip: rect(1px, 1px, 1px, 1px);height: 1px;margin: -1px;overflow: hidden;padding: 0;position: absolute;width: 1px;}#sk-container-id-1 div.sk-estimator {font-family: monospace;background-color: #f0f8ff;border: 1px dotted black;border-radius: 0.25em;box-sizing: border-box;margin-bottom: 0.5em;}#sk-container-id-1 div.sk-estimator:hover {background-color: #d4ebff;}#sk-container-id-1 div.sk-parallel-item::after {content: \"\";width: 100%;border-bottom: 1px solid gray;flex-grow: 1;}#sk-container-id-1 div.sk-label:hover label.sk-toggleable__label {background-color: #d4ebff;}#sk-container-id-1 div.sk-serial::before {content: \"\";position: absolute;border-left: 1px solid gray;box-sizing: border-box;top: 0;bottom: 0;left: 50%;z-index: 0;}#sk-container-id-1 div.sk-serial {display: flex;flex-direction: column;align-items: center;background-color: white;padding-right: 0.2em;padding-left: 0.2em;position: relative;}#sk-container-id-1 div.sk-item {position: relative;z-index: 1;}#sk-container-id-1 div.sk-parallel {display: flex;align-items: stretch;justify-content: center;background-color: white;position: relative;}#sk-container-id-1 div.sk-item::before, #sk-container-id-1 div.sk-parallel-item::before {content: \"\";position: absolute;border-left: 1px solid gray;box-sizing: border-box;top: 0;bottom: 0;left: 50%;z-index: -1;}#sk-container-id-1 div.sk-parallel-item {display: flex;flex-direction: column;z-index: 1;position: relative;background-color: white;}#sk-container-id-1 div.sk-parallel-item:first-child::after {align-self: flex-end;width: 50%;}#sk-container-id-1 div.sk-parallel-item:last-child::after {align-self: flex-start;width: 50%;}#sk-container-id-1 div.sk-parallel-item:only-child::after {width: 0;}#sk-container-id-1 div.sk-dashed-wrapped {border: 1px dashed gray;margin: 0 0.4em 0.5em 0.4em;box-sizing: border-box;padding-bottom: 0.4em;background-color: white;}#sk-container-id-1 div.sk-label label {font-family: monospace;font-weight: bold;display: inline-block;line-height: 1.2em;}#sk-container-id-1 div.sk-label-container {text-align: center;}#sk-container-id-1 div.sk-container {/* jupyter's `normalize.less` sets `[hidden] { display: none; }` but bootstrap.min.css set `[hidden] { display: none !important; }` so we also need the `!important` here to be able to override the default hidden behavior on the sphinx rendered scikit-learn.org. See: https://github.com/scikit-learn/scikit-learn/issues/21755 */display: inline-block !important;position: relative;}#sk-container-id-1 div.sk-text-repr-fallback {display: none;}</style><div id=\"sk-container-id-1\" class=\"sk-top-container\"><div class=\"sk-text-repr-fallback\"><pre>Pipeline(steps=[(&#x27;preprocessor&#x27;,\n                 ColumnTransformer(remainder=&#x27;passthrough&#x27;,\n                                   transformers=[(&#x27;cat&#x27;,\n                                                  Pipeline(steps=[(&#x27;enc&#x27;,\n                                                                   OneHotEncoder(drop=&#x27;first&#x27;))]),\n                                                  [&#x27;Geography&#x27;, &#x27;Gender&#x27;]),\n                                                 (&#x27;num&#x27;,\n                                                  Pipeline(steps=[(&#x27;imp&#x27;,\n                                                                   SimpleImputer(add_indicator=True,\n                                                                                 fill_value=-1)),\n                                                                  (&#x27;pt&#x27;,\n                                                                   PowerTransformer())]),\n                                                  [&#x27;Balance&#x27;, &#x27;NumOfProducts&#x27;,\n                                                   &#x27;Age&#x27;, &#x27;CreditScore&#x27;,\n                                                   &#x27;Tenure&#x27;,\n                                                   &#x27;EstimatedSala...\n                               feature_types=None, gamma=None, grow_policy=None,\n                               importance_type=None,\n                               interaction_constraints=None, learning_rate=None,\n                               max_bin=None, max_cat_threshold=None,\n                               max_cat_to_onehot=None, max_delta_step=None,\n                               max_depth=None, max_leaves=None,\n                               min_child_weight=None, missing=nan,\n                               monotone_constraints=None, multi_strategy=None,\n                               n_estimators=None, n_jobs=None,\n                               num_parallel_tree=None, random_state=12345, ...))])</pre><b>In a Jupyter environment, please rerun this cell to show the HTML representation or trust the notebook. <br />On GitHub, the HTML representation is unable to render, please try loading this page with nbviewer.org.</b></div><div class=\"sk-container\" hidden><div class=\"sk-item sk-dashed-wrapped\"><div class=\"sk-label-container\"><div class=\"sk-label sk-toggleable\"><input class=\"sk-toggleable__control sk-hidden--visually\" id=\"sk-estimator-id-1\" type=\"checkbox\" ><label for=\"sk-estimator-id-1\" class=\"sk-toggleable__label sk-toggleable__label-arrow\">Pipeline</label><div class=\"sk-toggleable__content\"><pre>Pipeline(steps=[(&#x27;preprocessor&#x27;,\n                 ColumnTransformer(remainder=&#x27;passthrough&#x27;,\n                                   transformers=[(&#x27;cat&#x27;,\n                                                  Pipeline(steps=[(&#x27;enc&#x27;,\n                                                                   OneHotEncoder(drop=&#x27;first&#x27;))]),\n                                                  [&#x27;Geography&#x27;, &#x27;Gender&#x27;]),\n                                                 (&#x27;num&#x27;,\n                                                  Pipeline(steps=[(&#x27;imp&#x27;,\n                                                                   SimpleImputer(add_indicator=True,\n                                                                                 fill_value=-1)),\n                                                                  (&#x27;pt&#x27;,\n                                                                   PowerTransformer())]),\n                                                  [&#x27;Balance&#x27;, &#x27;NumOfProducts&#x27;,\n                                                   &#x27;Age&#x27;, &#x27;CreditScore&#x27;,\n                                                   &#x27;Tenure&#x27;,\n                                                   &#x27;EstimatedSala...\n                               feature_types=None, gamma=None, grow_policy=None,\n                               importance_type=None,\n                               interaction_constraints=None, learning_rate=None,\n                               max_bin=None, max_cat_threshold=None,\n                               max_cat_to_onehot=None, max_delta_step=None,\n                               max_depth=None, max_leaves=None,\n                               min_child_weight=None, missing=nan,\n                               monotone_constraints=None, multi_strategy=None,\n                               n_estimators=None, n_jobs=None,\n                               num_parallel_tree=None, random_state=12345, ...))])</pre></div></div></div><div class=\"sk-serial\"><div class=\"sk-item sk-dashed-wrapped\"><div class=\"sk-label-container\"><div class=\"sk-label sk-toggleable\"><input class=\"sk-toggleable__control sk-hidden--visually\" id=\"sk-estimator-id-2\" type=\"checkbox\" ><label for=\"sk-estimator-id-2\" class=\"sk-toggleable__label sk-toggleable__label-arrow\">preprocessor: ColumnTransformer</label><div class=\"sk-toggleable__content\"><pre>ColumnTransformer(remainder=&#x27;passthrough&#x27;,\n                  transformers=[(&#x27;cat&#x27;,\n                                 Pipeline(steps=[(&#x27;enc&#x27;,\n                                                  OneHotEncoder(drop=&#x27;first&#x27;))]),\n                                 [&#x27;Geography&#x27;, &#x27;Gender&#x27;]),\n                                (&#x27;num&#x27;,\n                                 Pipeline(steps=[(&#x27;imp&#x27;,\n                                                  SimpleImputer(add_indicator=True,\n                                                                fill_value=-1)),\n                                                 (&#x27;pt&#x27;, PowerTransformer())]),\n                                 [&#x27;Balance&#x27;, &#x27;NumOfProducts&#x27;, &#x27;Age&#x27;,\n                                  &#x27;CreditScore&#x27;, &#x27;Tenure&#x27;,\n                                  &#x27;EstimatedSalary&#x27;])])</pre></div></div></div><div class=\"sk-parallel\"><div class=\"sk-parallel-item\"><div class=\"sk-item\"><div class=\"sk-label-container\"><div class=\"sk-label sk-toggleable\"><input class=\"sk-toggleable__control sk-hidden--visually\" id=\"sk-estimator-id-3\" type=\"checkbox\" ><label for=\"sk-estimator-id-3\" class=\"sk-toggleable__label sk-toggleable__label-arrow\">cat</label><div class=\"sk-toggleable__content\"><pre>[&#x27;Geography&#x27;, &#x27;Gender&#x27;]</pre></div></div></div><div class=\"sk-serial\"><div class=\"sk-item\"><div class=\"sk-serial\"><div class=\"sk-item\"><div class=\"sk-estimator sk-toggleable\"><input class=\"sk-toggleable__control sk-hidden--visually\" id=\"sk-estimator-id-4\" type=\"checkbox\" ><label for=\"sk-estimator-id-4\" class=\"sk-toggleable__label sk-toggleable__label-arrow\">OneHotEncoder</label><div class=\"sk-toggleable__content\"><pre>OneHotEncoder(drop=&#x27;first&#x27;)</pre></div></div></div></div></div></div></div></div><div class=\"sk-parallel-item\"><div class=\"sk-item\"><div class=\"sk-label-container\"><div class=\"sk-label sk-toggleable\"><input class=\"sk-toggleable__control sk-hidden--visually\" id=\"sk-estimator-id-5\" type=\"checkbox\" ><label for=\"sk-estimator-id-5\" class=\"sk-toggleable__label sk-toggleable__label-arrow\">num</label><div class=\"sk-toggleable__content\"><pre>[&#x27;Balance&#x27;, &#x27;NumOfProducts&#x27;, &#x27;Age&#x27;, &#x27;CreditScore&#x27;, &#x27;Tenure&#x27;, &#x27;EstimatedSalary&#x27;]</pre></div></div></div><div class=\"sk-serial\"><div class=\"sk-item\"><div class=\"sk-serial\"><div class=\"sk-item\"><div class=\"sk-estimator sk-toggleable\"><input class=\"sk-toggleable__control sk-hidden--visually\" id=\"sk-estimator-id-6\" type=\"checkbox\" ><label for=\"sk-estimator-id-6\" class=\"sk-toggleable__label sk-toggleable__label-arrow\">SimpleImputer</label><div class=\"sk-toggleable__content\"><pre>SimpleImputer(add_indicator=True, fill_value=-1)</pre></div></div></div><div class=\"sk-item\"><div class=\"sk-estimator sk-toggleable\"><input class=\"sk-toggleable__control sk-hidden--visually\" id=\"sk-estimator-id-7\" type=\"checkbox\" ><label for=\"sk-estimator-id-7\" class=\"sk-toggleable__label sk-toggleable__label-arrow\">PowerTransformer</label><div class=\"sk-toggleable__content\"><pre>PowerTransformer()</pre></div></div></div></div></div></div></div></div><div class=\"sk-parallel-item\"><div class=\"sk-item\"><div class=\"sk-label-container\"><div class=\"sk-label sk-toggleable\"><input class=\"sk-toggleable__control sk-hidden--visually\" id=\"sk-estimator-id-8\" type=\"checkbox\" ><label for=\"sk-estimator-id-8\" class=\"sk-toggleable__label sk-toggleable__label-arrow\">remainder</label><div class=\"sk-toggleable__content\"><pre></pre></div></div></div><div class=\"sk-serial\"><div class=\"sk-item\"><div class=\"sk-estimator sk-toggleable\"><input class=\"sk-toggleable__control sk-hidden--visually\" id=\"sk-estimator-id-9\" type=\"checkbox\" ><label for=\"sk-estimator-id-9\" class=\"sk-toggleable__label sk-toggleable__label-arrow\">passthrough</label><div class=\"sk-toggleable__content\"><pre>passthrough</pre></div></div></div></div></div></div></div></div><div class=\"sk-item\"><div class=\"sk-estimator sk-toggleable\"><input class=\"sk-toggleable__control sk-hidden--visually\" id=\"sk-estimator-id-10\" type=\"checkbox\" ><label for=\"sk-estimator-id-10\" class=\"sk-toggleable__label sk-toggleable__label-arrow\">XGBClassifier</label><div class=\"sk-toggleable__content\"><pre>XGBClassifier(base_score=None, booster=None, callbacks=None,\n              colsample_bylevel=None, colsample_bynode=None,\n              colsample_bytree=None, device=None, early_stopping_rounds=None,\n              enable_categorical=False, eval_metric=None, feature_types=None,\n              gamma=None, grow_policy=None, importance_type=None,\n              interaction_constraints=None, learning_rate=None, max_bin=None,\n              max_cat_threshold=None, max_cat_to_onehot=None,\n              max_delta_step=None, max_depth=None, max_leaves=None,\n              min_child_weight=None, missing=nan, monotone_constraints=None,\n              multi_strategy=None, n_estimators=None, n_jobs=None,\n              num_parallel_tree=None, random_state=12345, ...)</pre></div></div></div></div></div></div></div>"
     },
     "execution_count": 23,
     "metadata": {},
     "output_type": "execute_result"
    }
   ],
   "source": [
    "pipe"
   ],
   "metadata": {
    "collapsed": false,
    "ExecuteTime": {
     "end_time": "2023-11-27T14:56:49.854395800Z",
     "start_time": "2023-11-27T14:56:47.684028100Z"
    }
   }
  },
  {
   "cell_type": "code",
   "execution_count": 24,
   "outputs": [],
   "source": [
    "def optuna_optimize(trial):\n",
    "    param_grid = {\n",
    "        'model__n_estimators': trial.suggest_int('model__n_estimators', 50, 250),\n",
    "        'model__max_depth': trial.suggest_int('model__max_depth', 2, 10),\n",
    "        'model__eta': trial.suggest_float('model__eta', 0.01, 1.5)\n",
    "    }\n",
    "\n",
    "    pipe.set_params(**param_grid)\n",
    "    score = cross_val_score(pipe, X_train, y_train, cv=5, scoring='f1').mean()\n",
    "    return score"
   ],
   "metadata": {
    "collapsed": false,
    "ExecuteTime": {
     "end_time": "2023-11-27T14:56:50.046749600Z",
     "start_time": "2023-11-27T14:56:48.226249500Z"
    }
   }
  },
  {
   "cell_type": "code",
   "execution_count": 25,
   "outputs": [
    {
     "name": "stderr",
     "output_type": "stream",
     "text": [
      "[I 2023-11-27 17:56:48,892] A new study created in memory with name: XGBoost Optuna Optimization Imbalanced\n"
     ]
    }
   ],
   "source": [
    "study_xgb = optuna.create_study(study_name=\"XGBoost Optuna Optimization Imbalanced\",\n",
    "                                direction='maximize')"
   ],
   "metadata": {
    "collapsed": false,
    "ExecuteTime": {
     "end_time": "2023-11-27T14:56:50.961203Z",
     "start_time": "2023-11-27T14:56:48.884643Z"
    }
   }
  },
  {
   "cell_type": "code",
   "execution_count": 26,
   "outputs": [
    {
     "name": "stderr",
     "output_type": "stream",
     "text": [
      "[I 2023-11-27 17:56:56,155] Trial 0 finished with value: 0.5787073296259104 and parameters: {'model__n_estimators': 226, 'model__max_depth': 2, 'model__eta': 0.9035716221661731}. Best is trial 0 with value: 0.5787073296259104.\n",
      "[I 2023-11-27 17:57:09,862] Trial 1 finished with value: 0.5627959974249825 and parameters: {'model__n_estimators': 190, 'model__max_depth': 7, 'model__eta': 0.16576191371248003}. Best is trial 0 with value: 0.5787073296259104.\n",
      "[I 2023-11-27 17:57:21,451] Trial 2 finished with value: 0.566714580678235 and parameters: {'model__n_estimators': 100, 'model__max_depth': 9, 'model__eta': 0.13037834470286025}. Best is trial 0 with value: 0.5787073296259104.\n",
      "[I 2023-11-27 17:57:31,115] Trial 3 finished with value: 0.5621566544335165 and parameters: {'model__n_estimators': 71, 'model__max_depth': 9, 'model__eta': 0.16359750708798868}. Best is trial 0 with value: 0.5787073296259104.\n",
      "[I 2023-11-27 17:57:36,714] Trial 4 finished with value: 0.5220454592296531 and parameters: {'model__n_estimators': 176, 'model__max_depth': 8, 'model__eta': 1.3747129290866236}. Best is trial 0 with value: 0.5787073296259104.\n",
      "[I 2023-11-27 17:57:41,068] Trial 5 finished with value: 0.5552342170731751 and parameters: {'model__n_estimators': 197, 'model__max_depth': 9, 'model__eta': 0.3156570909454472}. Best is trial 0 with value: 0.5787073296259104.\n",
      "[I 2023-11-27 17:57:44,891] Trial 6 finished with value: 0.5470163246209334 and parameters: {'model__n_estimators': 239, 'model__max_depth': 10, 'model__eta': 1.262525703947363}. Best is trial 0 with value: 0.5787073296259104.\n",
      "[I 2023-11-27 17:57:47,604] Trial 7 finished with value: 0.5460522894213886 and parameters: {'model__n_estimators': 134, 'model__max_depth': 8, 'model__eta': 0.9166669186271064}. Best is trial 0 with value: 0.5787073296259104.\n",
      "[I 2023-11-27 17:57:50,511] Trial 8 finished with value: 0.545463415635962 and parameters: {'model__n_estimators': 164, 'model__max_depth': 7, 'model__eta': 1.1719818930813761}. Best is trial 0 with value: 0.5787073296259104.\n",
      "[I 2023-11-27 17:57:52,416] Trial 9 finished with value: 0.5896456770736207 and parameters: {'model__n_estimators': 90, 'model__max_depth': 3, 'model__eta': 0.25631528852541285}. Best is trial 9 with value: 0.5896456770736207.\n",
      "[I 2023-11-27 17:57:54,119] Trial 10 finished with value: 0.5856875852628515 and parameters: {'model__n_estimators': 50, 'model__max_depth': 3, 'model__eta': 0.4982051589123422}. Best is trial 9 with value: 0.5896456770736207.\n",
      "[I 2023-11-27 17:57:55,556] Trial 11 finished with value: 0.5830968191402349 and parameters: {'model__n_estimators': 56, 'model__max_depth': 3, 'model__eta': 0.4812194941641034}. Best is trial 9 with value: 0.5896456770736207.\n",
      "[I 2023-11-27 17:57:57,233] Trial 12 finished with value: 0.5715610232230678 and parameters: {'model__n_estimators': 102, 'model__max_depth': 4, 'model__eta': 0.5367565030980072}. Best is trial 9 with value: 0.5896456770736207.\n",
      "[I 2023-11-27 17:57:59,024] Trial 13 finished with value: 0.5632480583828045 and parameters: {'model__n_estimators': 88, 'model__max_depth': 5, 'model__eta': 0.5563715515255742}. Best is trial 9 with value: 0.5896456770736207.\n",
      "[I 2023-11-27 17:58:00,641] Trial 14 finished with value: 0.5779865493209961 and parameters: {'model__n_estimators': 131, 'model__max_depth': 2, 'model__eta': 0.3650581146156956}. Best is trial 9 with value: 0.5896456770736207.\n",
      "[I 2023-11-27 17:58:02,129] Trial 15 finished with value: 0.48042004472846767 and parameters: {'model__n_estimators': 56, 'model__max_depth': 4, 'model__eta': 0.02518141185639322}. Best is trial 9 with value: 0.5896456770736207.\n",
      "[I 2023-11-27 17:58:04,094] Trial 16 finished with value: 0.5361758428777126 and parameters: {'model__n_estimators': 119, 'model__max_depth': 5, 'model__eta': 0.602945649175572}. Best is trial 9 with value: 0.5896456770736207.\n",
      "[I 2023-11-27 17:58:05,480] Trial 17 finished with value: 0.5748825178136152 and parameters: {'model__n_estimators': 77, 'model__max_depth': 3, 'model__eta': 0.7814779475048593}. Best is trial 9 with value: 0.5896456770736207.\n",
      "[I 2023-11-27 17:58:06,913] Trial 18 finished with value: 0.5778808942859812 and parameters: {'model__n_estimators': 52, 'model__max_depth': 5, 'model__eta': 0.35781955575302554}. Best is trial 9 with value: 0.5896456770736207.\n",
      "[I 2023-11-27 17:58:08,530] Trial 19 finished with value: 0.5731428007613255 and parameters: {'model__n_estimators': 110, 'model__max_depth': 3, 'model__eta': 0.6430911089788226}. Best is trial 9 with value: 0.5896456770736207.\n",
      "[I 2023-11-27 17:58:10,103] Trial 20 finished with value: 0.5767929688244026 and parameters: {'model__n_estimators': 83, 'model__max_depth': 4, 'model__eta': 0.30209980402867287}. Best is trial 9 with value: 0.5896456770736207.\n",
      "[I 2023-11-27 17:58:11,451] Trial 21 finished with value: 0.5864141853478 and parameters: {'model__n_estimators': 63, 'model__max_depth': 3, 'model__eta': 0.48334652873005757}. Best is trial 9 with value: 0.5896456770736207.\n",
      "[I 2023-11-27 17:58:12,865] Trial 22 finished with value: 0.5746592953971993 and parameters: {'model__n_estimators': 70, 'model__max_depth': 2, 'model__eta': 0.4697768892033885}. Best is trial 9 with value: 0.5896456770736207.\n",
      "[I 2023-11-27 17:58:14,648] Trial 23 finished with value: 0.5680950056608484 and parameters: {'model__n_estimators': 93, 'model__max_depth': 3, 'model__eta': 0.6953076309023949}. Best is trial 9 with value: 0.5896456770736207.\n",
      "[I 2023-11-27 17:58:16,215] Trial 24 finished with value: 0.5850048114916102 and parameters: {'model__n_estimators': 50, 'model__max_depth': 6, 'model__eta': 0.2543316829209852}. Best is trial 9 with value: 0.5896456770736207.\n",
      "[I 2023-11-27 17:58:17,697] Trial 25 finished with value: 0.5765056370303612 and parameters: {'model__n_estimators': 67, 'model__max_depth': 4, 'model__eta': 0.44494957279707914}. Best is trial 9 with value: 0.5896456770736207.\n",
      "[I 2023-11-27 17:58:19,349] Trial 26 finished with value: 0.5783458179771934 and parameters: {'model__n_estimators': 144, 'model__max_depth': 2, 'model__eta': 0.4221104037048997}. Best is trial 9 with value: 0.5896456770736207.\n",
      "[I 2023-11-27 17:58:21,010] Trial 27 finished with value: 0.5847111041257891 and parameters: {'model__n_estimators': 114, 'model__max_depth': 3, 'model__eta': 0.25245892357012467}. Best is trial 9 with value: 0.5896456770736207.\n",
      "[I 2023-11-27 17:58:22,904] Trial 28 finished with value: 0.5602431831141176 and parameters: {'model__n_estimators': 81, 'model__max_depth': 6, 'model__eta': 0.5600878338291848}. Best is trial 9 with value: 0.5896456770736207.\n",
      "[I 2023-11-27 17:58:24,847] Trial 29 finished with value: 0.5698838531786803 and parameters: {'model__n_estimators': 216, 'model__max_depth': 2, 'model__eta': 0.745340481030794}. Best is trial 9 with value: 0.5896456770736207.\n",
      "[I 2023-11-27 17:58:26,356] Trial 30 finished with value: 0.572933806876006 and parameters: {'model__n_estimators': 64, 'model__max_depth': 5, 'model__eta': 0.39644477980895565}. Best is trial 9 with value: 0.5896456770736207.\n",
      "[I 2023-11-27 17:58:28,004] Trial 31 finished with value: 0.5765127810374718 and parameters: {'model__n_estimators': 56, 'model__max_depth': 6, 'model__eta': 0.2387049653603806}. Best is trial 9 with value: 0.5896456770736207.\n",
      "[I 2023-11-27 17:58:29,510] Trial 32 finished with value: 0.5830298565244348 and parameters: {'model__n_estimators': 66, 'model__max_depth': 4, 'model__eta': 0.26345933455352316}. Best is trial 9 with value: 0.5896456770736207.\n",
      "[I 2023-11-27 17:58:31,295] Trial 33 finished with value: 0.5727255786971004 and parameters: {'model__n_estimators': 50, 'model__max_depth': 7, 'model__eta': 0.08063929490191643}. Best is trial 9 with value: 0.5896456770736207.\n",
      "[I 2023-11-27 17:58:32,778] Trial 34 finished with value: 0.5795466627569562 and parameters: {'model__n_estimators': 96, 'model__max_depth': 3, 'model__eta': 0.16152061253044447}. Best is trial 9 with value: 0.5896456770736207.\n",
      "[I 2023-11-27 17:58:34,132] Trial 35 finished with value: 0.5501795487313337 and parameters: {'model__n_estimators': 79, 'model__max_depth': 2, 'model__eta': 0.08896475897215664}. Best is trial 9 with value: 0.5896456770736207.\n",
      "[I 2023-11-27 17:58:35,887] Trial 36 finished with value: 0.5731239321596419 and parameters: {'model__n_estimators': 64, 'model__max_depth': 6, 'model__eta': 0.21041731679276754}. Best is trial 9 with value: 0.5896456770736207.\n",
      "[I 2023-11-27 17:58:39,086] Trial 37 finished with value: 0.5546257320269017 and parameters: {'model__n_estimators': 101, 'model__max_depth': 10, 'model__eta': 0.3421691298677598}. Best is trial 9 with value: 0.5896456770736207.\n",
      "[I 2023-11-27 17:58:41,338] Trial 38 finished with value: 0.576190701925912 and parameters: {'model__n_estimators': 73, 'model__max_depth': 8, 'model__eta': 0.15421918079870672}. Best is trial 9 with value: 0.5896456770736207.\n",
      "[I 2023-11-27 17:58:42,941] Trial 39 finished with value: 0.5755537276776164 and parameters: {'model__n_estimators': 91, 'model__max_depth': 4, 'model__eta': 0.2827917247325461}. Best is trial 9 with value: 0.5896456770736207.\n",
      "[I 2023-11-27 17:58:44,765] Trial 40 finished with value: 0.5788792075990297 and parameters: {'model__n_estimators': 166, 'model__max_depth': 3, 'model__eta': 0.41088617302291536}. Best is trial 9 with value: 0.5896456770736207.\n",
      "[I 2023-11-27 17:58:46,339] Trial 41 finished with value: 0.5808064106220218 and parameters: {'model__n_estimators': 114, 'model__max_depth': 3, 'model__eta': 0.23755269467285245}. Best is trial 9 with value: 0.5896456770736207.\n",
      "[I 2023-11-27 17:58:47,978] Trial 42 finished with value: 0.5856795514960705 and parameters: {'model__n_estimators': 124, 'model__max_depth': 3, 'model__eta': 0.20799908404067197}. Best is trial 9 with value: 0.5896456770736207.\n",
      "[I 2023-11-27 17:58:49,497] Trial 43 finished with value: 0.5742763030374868 and parameters: {'model__n_estimators': 128, 'model__max_depth': 2, 'model__eta': 0.18619644784041206}. Best is trial 9 with value: 0.5896456770736207.\n",
      "[I 2023-11-27 17:58:50,812] Trial 44 finished with value: 0.5885384319564089 and parameters: {'model__n_estimators': 50, 'model__max_depth': 4, 'model__eta': 0.48739953605959807}. Best is trial 9 with value: 0.5896456770736207.\n",
      "[I 2023-11-27 17:58:52,807] Trial 45 finished with value: 0.5657012376116557 and parameters: {'model__n_estimators': 151, 'model__max_depth': 4, 'model__eta': 0.48859543309782216}. Best is trial 9 with value: 0.5896456770736207.\n",
      "[I 2023-11-27 17:58:54,936] Trial 46 finished with value: 0.5816815686905987 and parameters: {'model__n_estimators': 63, 'model__max_depth': 3, 'model__eta': 0.3295763102125223}. Best is trial 9 with value: 0.5896456770736207.\n",
      "[I 2023-11-27 17:58:57,405] Trial 47 finished with value: 0.5597575658442764 and parameters: {'model__n_estimators': 190, 'model__max_depth': 5, 'model__eta': 0.5158143985526263}. Best is trial 9 with value: 0.5896456770736207.\n",
      "[I 2023-11-27 17:58:59,219] Trial 48 finished with value: 0.5757346177265533 and parameters: {'model__n_estimators': 106, 'model__max_depth': 4, 'model__eta': 0.3921845805066536}. Best is trial 9 with value: 0.5896456770736207.\n",
      "[I 2023-11-27 17:59:00,750] Trial 49 finished with value: 0.5805136521313682 and parameters: {'model__n_estimators': 124, 'model__max_depth': 2, 'model__eta': 0.6193568455438547}. Best is trial 9 with value: 0.5896456770736207.\n",
      "[I 2023-11-27 17:59:02,244] Trial 50 finished with value: 0.5847256667522945 and parameters: {'model__n_estimators': 86, 'model__max_depth': 3, 'model__eta': 0.4702228046476162}. Best is trial 9 with value: 0.5896456770736207.\n",
      "[I 2023-11-27 17:59:03,737] Trial 51 finished with value: 0.5807855126101279 and parameters: {'model__n_estimators': 50, 'model__max_depth': 3, 'model__eta': 0.35528117827017797}. Best is trial 9 with value: 0.5896456770736207.\n",
      "[I 2023-11-27 17:59:05,756] Trial 52 finished with value: 0.5669749568978113 and parameters: {'model__n_estimators': 59, 'model__max_depth': 8, 'model__eta': 0.29428359983736085}. Best is trial 9 with value: 0.5896456770736207.\n",
      "[I 2023-11-27 17:59:07,872] Trial 53 finished with value: 0.5788149648079304 and parameters: {'model__n_estimators': 71, 'model__max_depth': 7, 'model__eta': 0.11994055520193939}. Best is trial 9 with value: 0.5896456770736207.\n",
      "[I 2023-11-27 17:59:09,300] Trial 54 finished with value: 0.5709838310509816 and parameters: {'model__n_estimators': 57, 'model__max_depth': 4, 'model__eta': 0.5546122046697742}. Best is trial 9 with value: 0.5896456770736207.\n",
      "[I 2023-11-27 17:59:10,966] Trial 55 finished with value: 0.56416900515854 and parameters: {'model__n_estimators': 79, 'model__max_depth': 5, 'model__eta': 0.43936031845948204}. Best is trial 9 with value: 0.5896456770736207.\n",
      "[I 2023-11-27 17:59:12,736] Trial 56 finished with value: 0.5740872566709901 and parameters: {'model__n_estimators': 144, 'model__max_depth': 3, 'model__eta': 0.31223087434280894}. Best is trial 9 with value: 0.5896456770736207.\n",
      "[I 2023-11-27 17:59:13,987] Trial 57 finished with value: 0.5621857579806553 and parameters: {'model__n_estimators': 50, 'model__max_depth': 2, 'model__eta': 0.20015021956260715}. Best is trial 9 with value: 0.5896456770736207.\n",
      "[I 2023-11-27 17:59:16,411] Trial 58 finished with value: 0.558678726164915 and parameters: {'model__n_estimators': 74, 'model__max_depth': 9, 'model__eta': 0.3753086463935909}. Best is trial 9 with value: 0.5896456770736207.\n",
      "[I 2023-11-27 17:59:17,772] Trial 59 finished with value: 0.5755501579692263 and parameters: {'model__n_estimators': 59, 'model__max_depth': 4, 'model__eta': 0.5111540833123703}. Best is trial 9 with value: 0.5896456770736207.\n",
      "[I 2023-11-27 17:59:19,154] Trial 60 finished with value: 0.5808320435614786 and parameters: {'model__n_estimators': 90, 'model__max_depth': 3, 'model__eta': 0.4253377554230581}. Best is trial 9 with value: 0.5896456770736207.\n",
      "[I 2023-11-27 17:59:20,611] Trial 61 finished with value: 0.5861153514967394 and parameters: {'model__n_estimators': 84, 'model__max_depth': 3, 'model__eta': 0.47826168098547955}. Best is trial 9 with value: 0.5896456770736207.\n",
      "[I 2023-11-27 17:59:22,810] Trial 62 finished with value: 0.5647399850778133 and parameters: {'model__n_estimators': 247, 'model__max_depth': 3, 'model__eta': 0.5555929535534356}. Best is trial 9 with value: 0.5896456770736207.\n",
      "[I 2023-11-27 17:59:24,173] Trial 63 finished with value: 0.5891139680697117 and parameters: {'model__n_estimators': 70, 'model__max_depth': 2, 'model__eta': 0.5940949419917793}. Best is trial 9 with value: 0.5896456770736207.\n",
      "[I 2023-11-27 17:59:25,514] Trial 64 finished with value: 0.5874755902026828 and parameters: {'model__n_estimators': 84, 'model__max_depth': 2, 'model__eta': 0.6775192709924273}. Best is trial 9 with value: 0.5896456770736207.\n",
      "[I 2023-11-27 17:59:26,893] Trial 65 finished with value: 0.5773090386066377 and parameters: {'model__n_estimators': 84, 'model__max_depth': 2, 'model__eta': 0.6607001242021583}. Best is trial 9 with value: 0.5896456770736207.\n",
      "[I 2023-11-27 17:59:28,345] Trial 66 finished with value: 0.5858494425610329 and parameters: {'model__n_estimators': 99, 'model__max_depth': 2, 'model__eta': 0.5851753022417191}. Best is trial 9 with value: 0.5896456770736207.\n",
      "[I 2023-11-27 17:59:29,780] Trial 67 finished with value: 0.5781407243099436 and parameters: {'model__n_estimators': 97, 'model__max_depth': 2, 'model__eta': 0.5914658076587018}. Best is trial 9 with value: 0.5896456770736207.\n",
      "[I 2023-11-27 17:59:31,143] Trial 68 finished with value: 0.5868630712783901 and parameters: {'model__n_estimators': 103, 'model__max_depth': 2, 'model__eta': 0.6770696036328226}. Best is trial 9 with value: 0.5896456770736207.\n",
      "[I 2023-11-27 17:59:32,550] Trial 69 finished with value: 0.5827028008158806 and parameters: {'model__n_estimators': 76, 'model__max_depth': 2, 'model__eta': 0.7053545007136406}. Best is trial 9 with value: 0.5896456770736207.\n",
      "[I 2023-11-27 17:59:33,820] Trial 70 finished with value: 0.5776785419851062 and parameters: {'model__n_estimators': 68, 'model__max_depth': 2, 'model__eta': 0.8085742240150302}. Best is trial 9 with value: 0.5896456770736207.\n",
      "[I 2023-11-27 17:59:35,282] Trial 71 finished with value: 0.5868177776188204 and parameters: {'model__n_estimators': 105, 'model__max_depth': 2, 'model__eta': 0.6034963071542019}. Best is trial 9 with value: 0.5896456770736207.\n",
      "[I 2023-11-27 17:59:36,816] Trial 72 finished with value: 0.5821001519851613 and parameters: {'model__n_estimators': 112, 'model__max_depth': 2, 'model__eta': 0.6399475592985205}. Best is trial 9 with value: 0.5896456770736207.\n",
      "[I 2023-11-27 17:59:38,278] Trial 73 finished with value: 0.5843941784899049 and parameters: {'model__n_estimators': 106, 'model__max_depth': 2, 'model__eta': 0.5153779066245594}. Best is trial 9 with value: 0.5896456770736207.\n",
      "[I 2023-11-27 17:59:39,629] Trial 74 finished with value: 0.5915651337669134 and parameters: {'model__n_estimators': 91, 'model__max_depth': 2, 'model__eta': 0.6813624023889251}. Best is trial 74 with value: 0.5915651337669134.\n",
      "[I 2023-11-27 17:59:40,988] Trial 75 finished with value: 0.5803905636711617 and parameters: {'model__n_estimators': 93, 'model__max_depth': 2, 'model__eta': 0.6755182078761128}. Best is trial 74 with value: 0.5915651337669134.\n",
      "[I 2023-11-27 17:59:42,425] Trial 76 finished with value: 0.585274101244982 and parameters: {'model__n_estimators': 106, 'model__max_depth': 2, 'model__eta': 0.6054399561824237}. Best is trial 74 with value: 0.5915651337669134.\n",
      "[I 2023-11-27 17:59:43,829] Trial 77 finished with value: 0.586691710976004 and parameters: {'model__n_estimators': 88, 'model__max_depth': 2, 'model__eta': 0.7272598462983871}. Best is trial 74 with value: 0.5915651337669134.\n",
      "[I 2023-11-27 17:59:45,265] Trial 78 finished with value: 0.5805898402156597 and parameters: {'model__n_estimators': 89, 'model__max_depth': 2, 'model__eta': 0.7443102173525146}. Best is trial 74 with value: 0.5915651337669134.\n",
      "[I 2023-11-27 17:59:46,701] Trial 79 finished with value: 0.5841025087420285 and parameters: {'model__n_estimators': 102, 'model__max_depth': 2, 'model__eta': 0.8331799743185575}. Best is trial 74 with value: 0.5915651337669134.\n",
      "[I 2023-11-27 17:59:48,101] Trial 80 finished with value: 0.5752230114383137 and parameters: {'model__n_estimators': 96, 'model__max_depth': 2, 'model__eta': 0.7289433467935863}. Best is trial 74 with value: 0.5915651337669134.\n",
      "[I 2023-11-27 17:59:49,424] Trial 81 finished with value: 0.582039340379183 and parameters: {'model__n_estimators': 79, 'model__max_depth': 2, 'model__eta': 0.6870885234666665}. Best is trial 74 with value: 0.5915651337669134.\n",
      "[I 2023-11-27 17:59:50,749] Trial 82 finished with value: 0.574826361619856 and parameters: {'model__n_estimators': 62, 'model__max_depth': 3, 'model__eta': 0.6341689576732368}. Best is trial 74 with value: 0.5915651337669134.\n",
      "[I 2023-11-27 17:59:52,105] Trial 83 finished with value: 0.5883498483294132 and parameters: {'model__n_estimators': 72, 'model__max_depth': 2, 'model__eta': 0.775684049693272}. Best is trial 74 with value: 0.5915651337669134.\n",
      "[I 2023-11-27 17:59:53,589] Trial 84 finished with value: 0.581949189272048 and parameters: {'model__n_estimators': 117, 'model__max_depth': 2, 'model__eta': 0.774171652466555}. Best is trial 74 with value: 0.5915651337669134.\n",
      "[I 2023-11-27 17:59:54,927] Trial 85 finished with value: 0.5842210793891636 and parameters: {'model__n_estimators': 70, 'model__max_depth': 2, 'model__eta': 0.7114466032637751}. Best is trial 74 with value: 0.5915651337669134.\n",
      "[I 2023-11-27 17:59:56,278] Trial 86 finished with value: 0.584262243590701 and parameters: {'model__n_estimators': 88, 'model__max_depth': 2, 'model__eta': 0.6573752145702223}. Best is trial 74 with value: 0.5915651337669134.\n",
      "[I 2023-11-27 17:59:57,776] Trial 87 finished with value: 0.5670829486183098 and parameters: {'model__n_estimators': 82, 'model__max_depth': 3, 'model__eta': 0.8512794934993906}. Best is trial 74 with value: 0.5915651337669134.\n",
      "[I 2023-11-27 17:59:59,091] Trial 88 finished with value: 0.5750039807459733 and parameters: {'model__n_estimators': 77, 'model__max_depth': 2, 'model__eta': 0.7647696245187973}. Best is trial 74 with value: 0.5915651337669134.\n",
      "[I 2023-11-27 18:00:00,604] Trial 89 finished with value: 0.5728154155857157 and parameters: {'model__n_estimators': 93, 'model__max_depth': 3, 'model__eta': 0.7194257409816305}. Best is trial 74 with value: 0.5915651337669134.\n",
      "[I 2023-11-27 18:00:02,515] Trial 90 finished with value: 0.5821135268262334 and parameters: {'model__n_estimators': 224, 'model__max_depth': 2, 'model__eta': 0.5795083945147665}. Best is trial 74 with value: 0.5915651337669134.\n",
      "[I 2023-11-27 18:00:03,936] Trial 91 finished with value: 0.5800385233162334 and parameters: {'model__n_estimators': 72, 'model__max_depth': 3, 'model__eta': 0.6242175730100441}. Best is trial 74 with value: 0.5915651337669134.\n",
      "[I 2023-11-27 18:00:05,158] Trial 92 finished with value: 0.5769080596752196 and parameters: {'model__n_estimators': 56, 'model__max_depth': 2, 'model__eta': 0.6729295842038553}. Best is trial 74 with value: 0.5915651337669134.\n",
      "[I 2023-11-27 18:00:06,540] Trial 93 finished with value: 0.5783074394026442 and parameters: {'model__n_estimators': 66, 'model__max_depth': 3, 'model__eta': 0.5406239004046675}. Best is trial 74 with value: 0.5915651337669134.\n",
      "[I 2023-11-27 18:00:07,925] Trial 94 finished with value: 0.5847842394546502 and parameters: {'model__n_estimators': 85, 'model__max_depth': 2, 'model__eta': 0.6048049961870221}. Best is trial 74 with value: 0.5915651337669134.\n",
      "[I 2023-11-27 18:00:09,330] Trial 95 finished with value: 0.5745263335370476 and parameters: {'model__n_estimators': 62, 'model__max_depth': 3, 'model__eta': 0.7413573277947904}. Best is trial 74 with value: 0.5915651337669134.\n",
      "[I 2023-11-27 18:00:10,837] Trial 96 finished with value: 0.5810272976655939 and parameters: {'model__n_estimators': 108, 'model__max_depth': 2, 'model__eta': 0.6799471926602381}. Best is trial 74 with value: 0.5915651337669134.\n",
      "[I 2023-11-27 18:00:12,238] Trial 97 finished with value: 0.5767064530574771 and parameters: {'model__n_estimators': 75, 'model__max_depth': 2, 'model__eta': 0.44933727510381205}. Best is trial 74 with value: 0.5915651337669134.\n",
      "[I 2023-11-27 18:00:13,544] Trial 98 finished with value: 0.5833046574011356 and parameters: {'model__n_estimators': 56, 'model__max_depth': 3, 'model__eta': 0.5253854694288611}. Best is trial 74 with value: 0.5915651337669134.\n",
      "[I 2023-11-27 18:00:15,176] Trial 99 finished with value: 0.571199964842662 and parameters: {'model__n_estimators': 102, 'model__max_depth': 3, 'model__eta': 0.5605267599353858}. Best is trial 74 with value: 0.5915651337669134.\n"
     ]
    }
   ],
   "source": [
    "study_xgb.optimize(optuna_optimize, n_trials=100)"
   ],
   "metadata": {
    "collapsed": false,
    "ExecuteTime": {
     "end_time": "2023-11-27T15:00:15.219816100Z",
     "start_time": "2023-11-27T14:56:48.920430300Z"
    }
   }
  },
  {
   "cell_type": "code",
   "execution_count": 27,
   "outputs": [
    {
     "name": "stdout",
     "output_type": "stream",
     "text": [
      "Наилучшие значения гиперпараметров XGBoost: {'model__n_estimators': 91, 'model__max_depth': 2, 'model__eta': 0.6813624023889251}\n",
      "f1_score на обучающем наборе: 0.592\n"
     ]
    }
   ],
   "source": [
    "print(\"Наилучшие значения гиперпараметров XGBoost: {}\".format(study_xgb.best_params))\n",
    "print(\"f1_score на обучающем наборе: {:.3f}\". format(study_xgb.best_value))"
   ],
   "metadata": {
    "collapsed": false,
    "ExecuteTime": {
     "end_time": "2023-11-27T15:00:15.784910600Z",
     "start_time": "2023-11-27T15:00:15.380449Z"
    }
   }
  },
  {
   "cell_type": "code",
   "execution_count": 28,
   "outputs": [],
   "source": [
    "with mlflow.start_run(nested=True):\n",
    "\n",
    "    best_params = study_xgb.best_params\n",
    "    best_score = study_xgb.best_value\n",
    "    mlflow.log_params(best_params)\n",
    "\n",
    "    pipe.set_params(**best_params)\n",
    "    pipe.fit(X_train, y_train)\n",
    "    pred_proba = pipe.predict_proba(X_test)[:, 1]\n",
    "    roc_auc = roc_auc_score(y_test, pred_proba)\n",
    "    \n",
    "    mlflow.log_metrics({\n",
    "        'f1_cv': best_score,\n",
    "        'roc_auc': roc_auc,\n",
    "        'balanced_accuracy': balanced_accuracy_score(y_test, np.round(pred_proba)),\n",
    "        'f1': f1_score(y_test, np.round(pred_proba))\n",
    "    })\n",
    "\n",
    "    mlflow.sklearn.log_model(pipe, 'xgb_pipeline_imbalanced')"
   ],
   "metadata": {
    "collapsed": false,
    "ExecuteTime": {
     "end_time": "2023-11-27T15:00:28.595116700Z",
     "start_time": "2023-11-27T15:00:15.441550Z"
    }
   }
  },
  {
   "cell_type": "markdown",
   "source": [
    "# 3. Обучение моделей с учётом дисбаланса классов\n",
    "## 3.1 Назначение разных весов классам (cost-sensitive learning)\n",
    "### 3.1.1 Модель XGBoost"
   ],
   "metadata": {
    "collapsed": false
   }
  },
  {
   "cell_type": "code",
   "execution_count": 29,
   "outputs": [],
   "source": [
    "cat_pipeline = Pipeline([\n",
    "    ('enc', OneHotEncoder(handle_unknown='error', drop='first'))\n",
    "])\n",
    "\n",
    "num_pipeline = Pipeline([\n",
    "    ('imp', SimpleImputer(fill_value=-1, add_indicator=True)),\n",
    "    ('pt', PowerTransformer())\n",
    "])\n",
    "\n",
    "preprocessor = ColumnTransformer([\n",
    "    (\"cat\", cat_pipeline, categorical_features),\n",
    "    (\"num\", num_pipeline, numeric_features)\n",
    "\n",
    "], remainder='passthrough')"
   ],
   "metadata": {
    "collapsed": false,
    "ExecuteTime": {
     "end_time": "2023-11-27T15:00:28.631495200Z",
     "start_time": "2023-11-27T15:00:28.595116700Z"
    }
   }
  },
  {
   "cell_type": "code",
   "execution_count": 30,
   "outputs": [],
   "source": [
    "def optuna_optimize(trial):\n",
    "    param = {\n",
    "        'n_estimators': trial.suggest_int('n_estimators', 50, 250),\n",
    "        'max_depth': trial.suggest_int('max_depth', 2, 10),\n",
    "        'eta': trial.suggest_float('eta', 0.01, 1.5)\n",
    "    }\n",
    "\n",
    "    estimator = xgb.XGBClassifier(**param, \n",
    "                                  scale_pos_weight=3.91,\n",
    "                                  random_state=12345)\n",
    "    \n",
    "    xgb_pipe = Pipeline([\n",
    "        ('preprocessor', preprocessor),\n",
    "        ('model', estimator)\n",
    "    ])\n",
    "\n",
    "    score = cross_val_score(xgb_pipe, X_train, y_train, cv=5, scoring='f1').mean()\n",
    "    return score"
   ],
   "metadata": {
    "collapsed": false,
    "ExecuteTime": {
     "end_time": "2023-11-27T15:00:28.784484Z",
     "start_time": "2023-11-27T15:00:28.645291700Z"
    }
   }
  },
  {
   "cell_type": "code",
   "execution_count": 31,
   "outputs": [
    {
     "name": "stderr",
     "output_type": "stream",
     "text": [
      "[I 2023-11-27 18:00:28,673] A new study created in memory with name: XGBoost Optuna Optimization Class Weight\n"
     ]
    }
   ],
   "source": [
    "study_xgb_cw = optuna.create_study(study_name=\"XGBoost Optuna Optimization Class Weight\",\n",
    "                                direction='maximize')"
   ],
   "metadata": {
    "collapsed": false,
    "ExecuteTime": {
     "end_time": "2023-11-27T15:00:28.784484Z",
     "start_time": "2023-11-27T15:00:28.669401300Z"
    }
   }
  },
  {
   "cell_type": "code",
   "execution_count": 32,
   "outputs": [
    {
     "name": "stderr",
     "output_type": "stream",
     "text": [
      "[I 2023-11-27 18:00:31,301] Trial 0 finished with value: 0.5549611632997264 and parameters: {'n_estimators': 118, 'max_depth': 7, 'eta': 1.1071110105706021}. Best is trial 0 with value: 0.5549611632997264.\n",
      "[I 2023-11-27 18:00:33,545] Trial 1 finished with value: 0.5372267842712488 and parameters: {'n_estimators': 242, 'max_depth': 3, 'eta': 1.328303598241657}. Best is trial 0 with value: 0.5549611632997264.\n",
      "[I 2023-11-27 18:00:37,207] Trial 2 finished with value: 0.5521646017939198 and parameters: {'n_estimators': 217, 'max_depth': 9, 'eta': 1.1564266612634584}. Best is trial 0 with value: 0.5549611632997264.\n",
      "[I 2023-11-27 18:00:39,355] Trial 3 finished with value: 0.5829922934952096 and parameters: {'n_estimators': 81, 'max_depth': 7, 'eta': 0.2917528977750594}. Best is trial 3 with value: 0.5829922934952096.\n",
      "[I 2023-11-27 18:00:42,810] Trial 4 finished with value: 0.5607949099927797 and parameters: {'n_estimators': 167, 'max_depth': 9, 'eta': 0.6797800387123878}. Best is trial 3 with value: 0.5829922934952096.\n",
      "[I 2023-11-27 18:00:47,098] Trial 5 finished with value: 0.5810827433918454 and parameters: {'n_estimators': 155, 'max_depth': 10, 'eta': 0.257423270579999}. Best is trial 3 with value: 0.5829922934952096.\n",
      "[I 2023-11-27 18:00:50,468] Trial 6 finished with value: 0.5410883075879943 and parameters: {'n_estimators': 205, 'max_depth': 8, 'eta': 1.459203152892666}. Best is trial 3 with value: 0.5829922934952096.\n",
      "[I 2023-11-27 18:00:52,208] Trial 7 finished with value: 0.5344446128165824 and parameters: {'n_estimators': 108, 'max_depth': 4, 'eta': 1.3184267884775527}. Best is trial 3 with value: 0.5829922934952096.\n",
      "[I 2023-11-27 18:00:55,484] Trial 8 finished with value: 0.5709678814075806 and parameters: {'n_estimators': 118, 'max_depth': 9, 'eta': 0.32333396726895564}. Best is trial 3 with value: 0.5829922934952096.\n",
      "[I 2023-11-27 18:00:58,908] Trial 9 finished with value: 0.5442085801678875 and parameters: {'n_estimators': 185, 'max_depth': 8, 'eta': 1.0281969701506852}. Best is trial 3 with value: 0.5829922934952096.\n",
      "[I 2023-11-27 18:01:00,361] Trial 10 finished with value: 0.6000401247016847 and parameters: {'n_estimators': 50, 'max_depth': 5, 'eta': 0.16247848699908074}. Best is trial 10 with value: 0.6000401247016847.\n",
      "[I 2023-11-27 18:01:01,992] Trial 11 finished with value: 0.6022611405168472 and parameters: {'n_estimators': 51, 'max_depth': 5, 'eta': 0.06582295746679936}. Best is trial 11 with value: 0.6022611405168472.\n",
      "[I 2023-11-27 18:01:03,553] Trial 12 finished with value: 0.5999715719684074 and parameters: {'n_estimators': 53, 'max_depth': 5, 'eta': 0.06836379616862379}. Best is trial 11 with value: 0.6022611405168472.\n",
      "[I 2023-11-27 18:01:04,754] Trial 13 finished with value: 0.5909113017141128 and parameters: {'n_estimators': 50, 'max_depth': 2, 'eta': 0.08648637199641249}. Best is trial 11 with value: 0.6022611405168472.\n",
      "[I 2023-11-27 18:01:06,367] Trial 14 finished with value: 0.5698426365584677 and parameters: {'n_estimators': 82, 'max_depth': 5, 'eta': 0.542887752902689}. Best is trial 11 with value: 0.6022611405168472.\n",
      "[I 2023-11-27 18:01:08,190] Trial 15 finished with value: 0.5985452952085112 and parameters: {'n_estimators': 80, 'max_depth': 5, 'eta': 0.02153124412790288}. Best is trial 11 with value: 0.6022611405168472.\n",
      "[I 2023-11-27 18:01:10,644] Trial 16 finished with value: 0.5735498168920736 and parameters: {'n_estimators': 136, 'max_depth': 6, 'eta': 0.43368005523037445}. Best is trial 11 with value: 0.6022611405168472.\n",
      "[I 2023-11-27 18:01:12,079] Trial 17 finished with value: 0.5780311051700527 and parameters: {'n_estimators': 68, 'max_depth': 3, 'eta': 0.736537577642386}. Best is trial 11 with value: 0.6022611405168472.\n",
      "[I 2023-11-27 18:01:13,724] Trial 18 finished with value: 0.5992978179963996 and parameters: {'n_estimators': 101, 'max_depth': 4, 'eta': 0.19014884029850845}. Best is trial 11 with value: 0.6022611405168472.\n",
      "[I 2023-11-27 18:01:16,172] Trial 19 finished with value: 0.5619518789700113 and parameters: {'n_estimators': 137, 'max_depth': 6, 'eta': 0.4470321354380692}. Best is trial 11 with value: 0.6022611405168472.\n",
      "[I 2023-11-27 18:01:17,653] Trial 20 finished with value: 0.6034504056954737 and parameters: {'n_estimators': 69, 'max_depth': 4, 'eta': 0.17096111021386595}. Best is trial 20 with value: 0.6034504056954737.\n",
      "[I 2023-11-27 18:01:19,150] Trial 21 finished with value: 0.598178302276575 and parameters: {'n_estimators': 64, 'max_depth': 4, 'eta': 0.1764135340333316}. Best is trial 20 with value: 0.6034504056954737.\n",
      "[I 2023-11-27 18:01:20,753] Trial 22 finished with value: 0.540425882073227 and parameters: {'n_estimators': 94, 'max_depth': 3, 'eta': 0.010041057274668232}. Best is trial 20 with value: 0.6034504056954737.\n",
      "[I 2023-11-27 18:01:22,324] Trial 23 finished with value: 0.6004921973497289 and parameters: {'n_estimators': 62, 'max_depth': 5, 'eta': 0.1443688641303875}. Best is trial 20 with value: 0.6034504056954737.\n",
      "[I 2023-11-27 18:01:23,609] Trial 24 finished with value: 0.6044070888166733 and parameters: {'n_estimators': 72, 'max_depth': 2, 'eta': 0.3485239680854103}. Best is trial 24 with value: 0.6044070888166733.\n",
      "[I 2023-11-27 18:01:24,997] Trial 25 finished with value: 0.6071549938739702 and parameters: {'n_estimators': 86, 'max_depth': 2, 'eta': 0.3010677844759619}. Best is trial 25 with value: 0.6071549938739702.\n",
      "[I 2023-11-27 18:01:26,335] Trial 26 finished with value: 0.603094204140102 and parameters: {'n_estimators': 81, 'max_depth': 2, 'eta': 0.4060697997912109}. Best is trial 25 with value: 0.6071549938739702.\n",
      "[I 2023-11-27 18:01:28,016] Trial 27 finished with value: 0.5972416998471239 and parameters: {'n_estimators': 92, 'max_depth': 2, 'eta': 0.5904922633302463}. Best is trial 25 with value: 0.6071549938739702.\n",
      "[I 2023-11-27 18:01:29,708] Trial 28 finished with value: 0.5954012074522586 and parameters: {'n_estimators': 127, 'max_depth': 3, 'eta': 0.3288913128951043}. Best is trial 25 with value: 0.6071549938739702.\n",
      "[I 2023-11-27 18:01:31,163] Trial 29 finished with value: 0.5756787404125839 and parameters: {'n_estimators': 111, 'max_depth': 2, 'eta': 0.8652565688919832}. Best is trial 25 with value: 0.6071549938739702.\n",
      "[I 2023-11-27 18:01:33,352] Trial 30 finished with value: 0.6010873646886037 and parameters: {'n_estimators': 66, 'max_depth': 3, 'eta': 0.23941351105243847}. Best is trial 25 with value: 0.6071549938739702.\n",
      "[I 2023-11-27 18:01:35,346] Trial 31 finished with value: 0.599276351441192 and parameters: {'n_estimators': 80, 'max_depth': 2, 'eta': 0.42085987267400166}. Best is trial 25 with value: 0.6071549938739702.\n",
      "[I 2023-11-27 18:01:37,024] Trial 32 finished with value: 0.6038979398801381 and parameters: {'n_estimators': 94, 'max_depth': 2, 'eta': 0.38086200281377525}. Best is trial 25 with value: 0.6071549938739702.\n",
      "[I 2023-11-27 18:01:39,028] Trial 33 finished with value: 0.5960712793928661 and parameters: {'n_estimators': 98, 'max_depth': 3, 'eta': 0.3589789795534596}. Best is trial 25 with value: 0.6071549938739702.\n",
      "[I 2023-11-27 18:01:41,204] Trial 34 finished with value: 0.568113896768911 and parameters: {'n_estimators': 120, 'max_depth': 4, 'eta': 0.5177077169118891}. Best is trial 25 with value: 0.6071549938739702.\n",
      "[I 2023-11-27 18:01:43,697] Trial 35 finished with value: 0.5953266675212094 and parameters: {'n_estimators': 247, 'max_depth': 2, 'eta': 0.26700934641996993}. Best is trial 25 with value: 0.6071549938739702.\n",
      "[I 2023-11-27 18:01:45,886] Trial 36 finished with value: 0.6051349639563398 and parameters: {'n_estimators': 74, 'max_depth': 2, 'eta': 0.24694941908530918}. Best is trial 25 with value: 0.6071549938739702.\n",
      "[I 2023-11-27 18:01:47,656] Trial 37 finished with value: 0.6068698493336173 and parameters: {'n_estimators': 91, 'max_depth': 2, 'eta': 0.3231613325662888}. Best is trial 25 with value: 0.6071549938739702.\n",
      "[I 2023-11-27 18:01:49,795] Trial 38 finished with value: 0.5940541614264437 and parameters: {'n_estimators': 171, 'max_depth': 3, 'eta': 0.28884752486884746}. Best is trial 25 with value: 0.6071549938739702.\n",
      "[I 2023-11-27 18:01:51,845] Trial 39 finished with value: 0.5928807336759283 and parameters: {'n_estimators': 75, 'max_depth': 2, 'eta': 0.6280974269908222}. Best is trial 25 with value: 0.6071549938739702.\n",
      "[I 2023-11-27 18:01:55,042] Trial 40 finished with value: 0.5713469673195025 and parameters: {'n_estimators': 219, 'max_depth': 3, 'eta': 0.5179633962029577}. Best is trial 25 with value: 0.6071549938739702.\n",
      "[I 2023-11-27 18:01:57,226] Trial 41 finished with value: 0.5986860883158647 and parameters: {'n_estimators': 87, 'max_depth': 2, 'eta': 0.36777405447454603}. Best is trial 25 with value: 0.6071549938739702.\n",
      "[I 2023-11-27 18:01:59,352] Trial 42 finished with value: 0.6090723180524036 and parameters: {'n_estimators': 109, 'max_depth': 2, 'eta': 0.24838746802389317}. Best is trial 42 with value: 0.6090723180524036.\n",
      "[I 2023-11-27 18:02:01,395] Trial 43 finished with value: 0.596583351616683 and parameters: {'n_estimators': 107, 'max_depth': 3, 'eta': 0.3175410827838496}. Best is trial 42 with value: 0.6090723180524036.\n",
      "[I 2023-11-27 18:02:03,193] Trial 44 finished with value: 0.604838586061464 and parameters: {'n_estimators': 107, 'max_depth': 2, 'eta': 0.24504997027283884}. Best is trial 42 with value: 0.6090723180524036.\n",
      "[I 2023-11-27 18:02:08,541] Trial 45 finished with value: 0.5740950894132129 and parameters: {'n_estimators': 149, 'max_depth': 10, 'eta': 0.2377603774117425}. Best is trial 42 with value: 0.6090723180524036.\n",
      "[I 2023-11-27 18:02:11,485] Trial 46 finished with value: 0.5962374437747796 and parameters: {'n_estimators': 110, 'max_depth': 7, 'eta': 0.10307749352175172}. Best is trial 42 with value: 0.6090723180524036.\n",
      "[I 2023-11-27 18:02:13,061] Trial 47 finished with value: 0.6087286422497729 and parameters: {'n_estimators': 126, 'max_depth': 2, 'eta': 0.22528319576168288}. Best is trial 42 with value: 0.6090723180524036.\n",
      "[I 2023-11-27 18:02:14,797] Trial 48 finished with value: 0.6036343089992703 and parameters: {'n_estimators': 129, 'max_depth': 3, 'eta': 0.10081799211093606}. Best is trial 42 with value: 0.6090723180524036.\n",
      "[I 2023-11-27 18:02:16,881] Trial 49 finished with value: 0.5908703877106094 and parameters: {'n_estimators': 154, 'max_depth': 4, 'eta': 0.22682177162952566}. Best is trial 42 with value: 0.6090723180524036.\n",
      "[I 2023-11-27 18:02:20,609] Trial 50 finished with value: 0.5663475014148069 and parameters: {'n_estimators': 119, 'max_depth': 8, 'eta': 0.47078823339981235}. Best is trial 42 with value: 0.6090723180524036.\n",
      "[I 2023-11-27 18:02:22,239] Trial 51 finished with value: 0.6063071307177654 and parameters: {'n_estimators': 104, 'max_depth': 2, 'eta': 0.25430113046702424}. Best is trial 42 with value: 0.6090723180524036.\n",
      "[I 2023-11-27 18:02:23,891] Trial 52 finished with value: 0.6043902632374425 and parameters: {'n_estimators': 141, 'max_depth': 2, 'eta': 0.2970249334379023}. Best is trial 42 with value: 0.6090723180524036.\n",
      "[I 2023-11-27 18:02:25,266] Trial 53 finished with value: 0.6012442435451255 and parameters: {'n_estimators': 87, 'max_depth': 2, 'eta': 0.14014419835531788}. Best is trial 42 with value: 0.6090723180524036.\n",
      "[I 2023-11-27 18:02:26,854] Trial 54 finished with value: 0.602207875684464 and parameters: {'n_estimators': 102, 'max_depth': 3, 'eta': 0.21204885450369254}. Best is trial 42 with value: 0.6090723180524036.\n",
      "[I 2023-11-27 18:02:28,376] Trial 55 finished with value: 0.6000933004220863 and parameters: {'n_estimators': 126, 'max_depth': 2, 'eta': 0.28643496369979604}. Best is trial 42 with value: 0.6090723180524036.\n",
      "[I 2023-11-27 18:02:29,890] Trial 56 finished with value: 0.601995592534813 and parameters: {'n_estimators': 117, 'max_depth': 2, 'eta': 0.13345952030371838}. Best is trial 42 with value: 0.6090723180524036.\n",
      "[I 2023-11-27 18:02:31,254] Trial 57 finished with value: 0.5985761707324233 and parameters: {'n_estimators': 58, 'max_depth': 3, 'eta': 0.18853125207444713}. Best is trial 42 with value: 0.6090723180524036.\n",
      "[I 2023-11-27 18:02:32,813] Trial 58 finished with value: 0.593156589507483 and parameters: {'n_estimators': 86, 'max_depth': 3, 'eta': 0.0448909285909124}. Best is trial 42 with value: 0.6090723180524036.\n",
      "[I 2023-11-27 18:02:34,275] Trial 59 finished with value: 0.5999587649388831 and parameters: {'n_estimators': 102, 'max_depth': 2, 'eta': 0.45512304120299085}. Best is trial 42 with value: 0.6090723180524036.\n",
      "[I 2023-11-27 18:02:36,027] Trial 60 finished with value: 0.6030415076934511 and parameters: {'n_estimators': 145, 'max_depth': 3, 'eta': 0.0709862579895324}. Best is trial 42 with value: 0.6090723180524036.\n",
      "[I 2023-11-27 18:02:37,510] Trial 61 finished with value: 0.6079003589376951 and parameters: {'n_estimators': 111, 'max_depth': 2, 'eta': 0.22939054922151822}. Best is trial 42 with value: 0.6090723180524036.\n",
      "[I 2023-11-27 18:02:39,134] Trial 62 finished with value: 0.605419846046755 and parameters: {'n_estimators': 134, 'max_depth': 2, 'eta': 0.32829692474012934}. Best is trial 42 with value: 0.6090723180524036.\n",
      "[I 2023-11-27 18:02:40,655] Trial 63 finished with value: 0.6038112873274186 and parameters: {'n_estimators': 132, 'max_depth': 2, 'eta': 0.33048376748326735}. Best is trial 42 with value: 0.6090723180524036.\n",
      "[I 2023-11-27 18:02:42,321] Trial 64 finished with value: 0.6038305346317212 and parameters: {'n_estimators': 167, 'max_depth': 2, 'eta': 0.1830515665646516}. Best is trial 42 with value: 0.6090723180524036.\n",
      "[I 2023-11-27 18:02:43,944] Trial 65 finished with value: 0.5932848699193103 and parameters: {'n_estimators': 114, 'max_depth': 3, 'eta': 0.38312709976258674}. Best is trial 42 with value: 0.6090723180524036.\n",
      "[I 2023-11-27 18:02:45,310] Trial 66 finished with value: 0.6043491307183281 and parameters: {'n_estimators': 97, 'max_depth': 2, 'eta': 0.28688079246921605}. Best is trial 42 with value: 0.6090723180524036.\n",
      "[I 2023-11-27 18:02:46,835] Trial 67 finished with value: 0.5975280012295952 and parameters: {'n_estimators': 121, 'max_depth': 2, 'eta': 0.39471820715988837}. Best is trial 42 with value: 0.6090723180524036.\n",
      "[I 2023-11-27 18:02:48,856] Trial 68 finished with value: 0.6002015778371744 and parameters: {'n_estimators': 138, 'max_depth': 4, 'eta': 0.12912736505904138}. Best is trial 42 with value: 0.6090723180524036.\n",
      "[I 2023-11-27 18:02:50,496] Trial 69 finished with value: 0.593763027374953 and parameters: {'n_estimators': 124, 'max_depth': 3, 'eta': 0.3334212535225553}. Best is trial 42 with value: 0.6090723180524036.\n",
      "[I 2023-11-27 18:02:52,101] Trial 70 finished with value: 0.610288557766365 and parameters: {'n_estimators': 133, 'max_depth': 2, 'eta': 0.2225314850296548}. Best is trial 70 with value: 0.610288557766365.\n",
      "[I 2023-11-27 18:02:53,770] Trial 71 finished with value: 0.6064859411308722 and parameters: {'n_estimators': 159, 'max_depth': 2, 'eta': 0.2099188817763045}. Best is trial 70 with value: 0.610288557766365.\n",
      "[I 2023-11-27 18:02:55,514] Trial 72 finished with value: 0.6056993906801196 and parameters: {'n_estimators': 187, 'max_depth': 2, 'eta': 0.19920917907420949}. Best is trial 70 with value: 0.610288557766365.\n",
      "[I 2023-11-27 18:02:57,124] Trial 73 finished with value: 0.6059147994339794 and parameters: {'n_estimators': 154, 'max_depth': 2, 'eta': 0.16054894735214043}. Best is trial 70 with value: 0.610288557766365.\n",
      "[I 2023-11-27 18:02:58,605] Trial 74 finished with value: 0.6114310368317251 and parameters: {'n_estimators': 104, 'max_depth': 2, 'eta': 0.2568437923372118}. Best is trial 74 with value: 0.6114310368317251.\n",
      "[I 2023-11-27 18:03:00,589] Trial 75 finished with value: 0.5924365548009478 and parameters: {'n_estimators': 165, 'max_depth': 3, 'eta': 0.033071443373817566}. Best is trial 74 with value: 0.6114310368317251.\n",
      "[I 2023-11-27 18:03:02,061] Trial 76 finished with value: 0.6085282662636382 and parameters: {'n_estimators': 114, 'max_depth': 2, 'eta': 0.2206587730424212}. Best is trial 74 with value: 0.6114310368317251.\n",
      "[I 2023-11-27 18:03:03,723] Trial 77 finished with value: 0.5973200473917193 and parameters: {'n_estimators': 112, 'max_depth': 3, 'eta': 0.2969304586748992}. Best is trial 74 with value: 0.6114310368317251.\n",
      "[I 2023-11-27 18:03:05,190] Trial 78 finished with value: 0.6005156292072635 and parameters: {'n_estimators': 91, 'max_depth': 2, 'eta': 0.12028964681494311}. Best is trial 74 with value: 0.6114310368317251.\n",
      "[I 2023-11-27 18:03:06,693] Trial 79 finished with value: 0.6057281279616287 and parameters: {'n_estimators': 116, 'max_depth': 2, 'eta': 0.17185065767541485}. Best is trial 74 with value: 0.6114310368317251.\n",
      "[I 2023-11-27 18:03:08,248] Trial 80 finished with value: 0.5958111775918382 and parameters: {'n_estimators': 95, 'max_depth': 3, 'eta': 0.06688123820956224}. Best is trial 74 with value: 0.6114310368317251.\n",
      "[I 2023-11-27 18:03:09,764] Trial 81 finished with value: 0.6096211272588878 and parameters: {'n_estimators': 108, 'max_depth': 2, 'eta': 0.22888876598860264}. Best is trial 74 with value: 0.6114310368317251.\n",
      "[I 2023-11-27 18:03:11,171] Trial 82 finished with value: 0.6012658413731342 and parameters: {'n_estimators': 105, 'max_depth': 2, 'eta': 0.2598685873818709}. Best is trial 74 with value: 0.6114310368317251.\n",
      "[I 2023-11-27 18:03:12,635] Trial 83 finished with value: 0.605179865396402 and parameters: {'n_estimators': 99, 'max_depth': 2, 'eta': 0.21427906221215864}. Best is trial 74 with value: 0.6114310368317251.\n",
      "[I 2023-11-27 18:03:14,190] Trial 84 finished with value: 0.6065355676904762 and parameters: {'n_estimators': 124, 'max_depth': 2, 'eta': 0.2698421140269532}. Best is trial 74 with value: 0.6114310368317251.\n",
      "[I 2023-11-27 18:03:15,699] Trial 85 finished with value: 0.6058587505999019 and parameters: {'n_estimators': 130, 'max_depth': 2, 'eta': 0.1565982446498913}. Best is trial 74 with value: 0.6114310368317251.\n",
      "[I 2023-11-27 18:03:17,390] Trial 86 finished with value: 0.5853729548452797 and parameters: {'n_estimators': 110, 'max_depth': 3, 'eta': 0.41936254738748324}. Best is trial 74 with value: 0.6114310368317251.\n",
      "[I 2023-11-27 18:03:18,731] Trial 87 finished with value: 0.6035274443128171 and parameters: {'n_estimators': 79, 'max_depth': 2, 'eta': 0.35733175305892917}. Best is trial 74 with value: 0.6114310368317251.\n",
      "[I 2023-11-27 18:03:21,213] Trial 88 finished with value: 0.5961219702698987 and parameters: {'n_estimators': 91, 'max_depth': 7, 'eta': 0.09444331847890475}. Best is trial 74 with value: 0.6114310368317251.\n",
      "[I 2023-11-27 18:03:23,912] Trial 89 finished with value: 0.5835265697500073 and parameters: {'n_estimators': 142, 'max_depth': 6, 'eta': 0.22234222152058036}. Best is trial 74 with value: 0.6114310368317251.\n",
      "[I 2023-11-27 18:03:25,447] Trial 90 finished with value: 0.5968082832075401 and parameters: {'n_estimators': 114, 'max_depth': 3, 'eta': 0.31587972286237853}. Best is trial 74 with value: 0.6114310368317251.\n",
      "[I 2023-11-27 18:03:26,911] Trial 91 finished with value: 0.6052201612109025 and parameters: {'n_estimators': 123, 'max_depth': 2, 'eta': 0.26159904388105787}. Best is trial 74 with value: 0.6114310368317251.\n",
      "[I 2023-11-27 18:03:28,395] Trial 92 finished with value: 0.6052417981352362 and parameters: {'n_estimators': 108, 'max_depth': 2, 'eta': 0.27042884526534383}. Best is trial 74 with value: 0.6114310368317251.\n",
      "[I 2023-11-27 18:03:29,921] Trial 93 finished with value: 0.6029004311834663 and parameters: {'n_estimators': 120, 'max_depth': 2, 'eta': 0.22436346562474618}. Best is trial 74 with value: 0.6114310368317251.\n",
      "[I 2023-11-27 18:03:33,478] Trial 94 finished with value: 0.5814152369214325 and parameters: {'n_estimators': 127, 'max_depth': 9, 'eta': 0.18330027527901782}. Best is trial 74 with value: 0.6114310368317251.\n",
      "[I 2023-11-27 18:03:34,878] Trial 95 finished with value: 0.6032503629914242 and parameters: {'n_estimators': 84, 'max_depth': 2, 'eta': 0.3666120010941167}. Best is trial 74 with value: 0.6114310368317251.\n",
      "[I 2023-11-27 18:03:36,374] Trial 96 finished with value: 0.6050251027894464 and parameters: {'n_estimators': 99, 'max_depth': 2, 'eta': 0.3070279229114684}. Best is trial 74 with value: 0.6114310368317251.\n",
      "[I 2023-11-27 18:03:37,842] Trial 97 finished with value: 0.6040154806285397 and parameters: {'n_estimators': 134, 'max_depth': 2, 'eta': 0.2692114814205163}. Best is trial 74 with value: 0.6114310368317251.\n",
      "[I 2023-11-27 18:03:39,469] Trial 98 finished with value: 0.6047148090466028 and parameters: {'n_estimators': 105, 'max_depth': 3, 'eta': 0.11989176805267612}. Best is trial 74 with value: 0.6114310368317251.\n",
      "[I 2023-11-27 18:03:40,953] Trial 99 finished with value: 0.6095015384491946 and parameters: {'n_estimators': 115, 'max_depth': 2, 'eta': 0.2356026020070551}. Best is trial 74 with value: 0.6114310368317251.\n"
     ]
    }
   ],
   "source": [
    "study_xgb_cw.optimize(optuna_optimize, n_trials=100)"
   ],
   "metadata": {
    "collapsed": false,
    "ExecuteTime": {
     "end_time": "2023-11-27T15:03:40.989068Z",
     "start_time": "2023-11-27T15:00:28.701231700Z"
    }
   }
  },
  {
   "cell_type": "code",
   "execution_count": 33,
   "outputs": [
    {
     "name": "stdout",
     "output_type": "stream",
     "text": [
      "Наилучшие значения гиперпараметров XGBoost: {'n_estimators': 104, 'max_depth': 2, 'eta': 0.2568437923372118}\n",
      "f1_score на обучающем наборе: 0.611\n"
     ]
    }
   ],
   "source": [
    "print(\"Наилучшие значения гиперпараметров XGBoost: {}\".format(study_xgb_cw.best_params))\n",
    "print(\"f1_score на обучающем наборе: {:.3f}\". format(study_xgb_cw.best_value))"
   ],
   "metadata": {
    "collapsed": false,
    "ExecuteTime": {
     "end_time": "2023-11-27T15:03:41.159257200Z",
     "start_time": "2023-11-27T15:03:40.979535900Z"
    }
   }
  },
  {
   "cell_type": "code",
   "execution_count": 34,
   "outputs": [],
   "source": [
    "with mlflow.start_run(nested=True):\n",
    "\n",
    "    best_params = study_xgb_cw.best_params\n",
    "    best_score = study_xgb_cw.best_value\n",
    "    mlflow.log_params(best_params)\n",
    "\n",
    "    xgb_pipe = Pipeline([\n",
    "        ('preprocessor', preprocessor),\n",
    "        ('model', xgb.XGBClassifier(**best_params,\n",
    "                                    scale_pos_weight=3.91,\n",
    "                                    random_state=12345))\n",
    "    ])\n",
    "\n",
    "    xgb_pipe.fit(X_train, y_train) \n",
    "\n",
    "    pred_proba = xgb_pipe.predict_proba(X_test)[:, 1]\n",
    "    roc_auc = roc_auc_score(y_test, pred_proba)\n",
    "    \n",
    "    mlflow.log_metrics({\n",
    "        'f1_cv': best_score,\n",
    "        'roc_auc': roc_auc,\n",
    "        'balanced_accuracy': balanced_accuracy_score(y_test, np.round(pred_proba, 0)),\n",
    "        'f1': f1_score(y_test, np.round(pred_proba, 0))\n",
    "    })\n",
    "\n",
    "    mlflow.sklearn.log_model(xgb_pipe, 'xgb_pipeline_class_weight')"
   ],
   "metadata": {
    "collapsed": false,
    "ExecuteTime": {
     "end_time": "2023-11-27T15:03:48.532363800Z",
     "start_time": "2023-11-27T15:03:41.016799900Z"
    }
   }
  },
  {
   "cell_type": "markdown",
   "source": [
    "### 3.1.2 Случайный лес"
   ],
   "metadata": {
    "collapsed": false
   }
  },
  {
   "cell_type": "code",
   "execution_count": 35,
   "outputs": [],
   "source": [
    "def optuna_optimize(trial):\n",
    "    param = {\n",
    "        'n_estimators': trial.suggest_int('n_estimators', 50, 300),\n",
    "        'max_depth': trial.suggest_int('max_depth', 2, 10),\n",
    "        'min_samples_leaf': trial.suggest_int('min_samples_leaf', 2, 8)\n",
    "    }\n",
    "\n",
    "    estimator = RandomForestClassifier(**param, \n",
    "                                       class_weight='balanced',\n",
    "                                       random_state=12345)\n",
    "\n",
    "    rf_pipe = Pipeline([\n",
    "        ('preprocessor', preprocessor),\n",
    "        ('model', estimator)\n",
    "    ])\n",
    "\n",
    "    score = cross_val_score(rf_pipe, X_train, y_train, cv=5, scoring='f1').mean()\n",
    "    return score"
   ],
   "metadata": {
    "collapsed": false,
    "ExecuteTime": {
     "end_time": "2023-11-27T15:03:48.643090300Z",
     "start_time": "2023-11-27T15:03:48.545928500Z"
    }
   }
  },
  {
   "cell_type": "code",
   "execution_count": 36,
   "outputs": [
    {
     "name": "stderr",
     "output_type": "stream",
     "text": [
      "[I 2023-11-27 18:03:48,575] A new study created in memory with name: RandomForest Optuna Optimization Class Weight\n"
     ]
    }
   ],
   "source": [
    "study_rf = optuna.create_study(study_name=\"RandomForest Optuna Optimization Class Weight\",\n",
    "                                direction='maximize')"
   ],
   "metadata": {
    "collapsed": false,
    "ExecuteTime": {
     "end_time": "2023-11-27T15:03:48.643090300Z",
     "start_time": "2023-11-27T15:03:48.575305500Z"
    }
   }
  },
  {
   "cell_type": "code",
   "execution_count": 37,
   "outputs": [
    {
     "name": "stderr",
     "output_type": "stream",
     "text": [
      "[I 2023-11-27 18:04:01,650] Trial 0 finished with value: 0.613835794662274 and parameters: {'n_estimators': 132, 'max_depth': 10, 'min_samples_leaf': 2}. Best is trial 0 with value: 0.613835794662274.\n",
      "[I 2023-11-27 18:04:16,017] Trial 1 finished with value: 0.5724933917477408 and parameters: {'n_estimators': 294, 'max_depth': 4, 'min_samples_leaf': 2}. Best is trial 0 with value: 0.613835794662274.\n",
      "[I 2023-11-27 18:04:33,379] Trial 2 finished with value: 0.6170594099284914 and parameters: {'n_estimators': 218, 'max_depth': 8, 'min_samples_leaf': 3}. Best is trial 2 with value: 0.6170594099284914.\n",
      "[I 2023-11-27 18:04:43,168] Trial 3 finished with value: 0.574600214987844 and parameters: {'n_estimators': 196, 'max_depth': 4, 'min_samples_leaf': 2}. Best is trial 2 with value: 0.6170594099284914.\n",
      "[I 2023-11-27 18:04:57,717] Trial 4 finished with value: 0.5896815069217184 and parameters: {'n_estimators': 263, 'max_depth': 5, 'min_samples_leaf': 6}. Best is trial 2 with value: 0.6170594099284914.\n",
      "[I 2023-11-27 18:05:12,063] Trial 5 finished with value: 0.5730072798773198 and parameters: {'n_estimators': 298, 'max_depth': 4, 'min_samples_leaf': 7}. Best is trial 2 with value: 0.6170594099284914.\n",
      "[I 2023-11-27 18:05:17,295] Trial 6 finished with value: 0.5717436893766544 and parameters: {'n_estimators': 95, 'max_depth': 4, 'min_samples_leaf': 4}. Best is trial 2 with value: 0.6170594099284914.\n",
      "[I 2023-11-27 18:05:29,011] Trial 7 finished with value: 0.5753827539803107 and parameters: {'n_estimators': 241, 'max_depth': 4, 'min_samples_leaf': 8}. Best is trial 2 with value: 0.6170594099284914.\n",
      "[I 2023-11-27 18:05:47,294] Trial 8 finished with value: 0.6162624413552306 and parameters: {'n_estimators': 178, 'max_depth': 9, 'min_samples_leaf': 7}. Best is trial 2 with value: 0.6170594099284914.\n",
      "[I 2023-11-27 18:05:53,235] Trial 9 finished with value: 0.5453320066180746 and parameters: {'n_estimators': 130, 'max_depth': 2, 'min_samples_leaf': 2}. Best is trial 2 with value: 0.6170594099284914.\n",
      "[I 2023-11-27 18:05:58,100] Trial 10 finished with value: 0.6123201572120337 and parameters: {'n_estimators': 51, 'max_depth': 8, 'min_samples_leaf': 4}. Best is trial 2 with value: 0.6170594099284914.\n",
      "[I 2023-11-27 18:06:13,971] Trial 11 finished with value: 0.6112836619470142 and parameters: {'n_estimators': 197, 'max_depth': 8, 'min_samples_leaf': 5}. Best is trial 2 with value: 0.6170594099284914.\n",
      "[I 2023-11-27 18:06:27,268] Trial 12 finished with value: 0.6134609883032768 and parameters: {'n_estimators': 165, 'max_depth': 8, 'min_samples_leaf': 4}. Best is trial 2 with value: 0.6170594099284914.\n",
      "[I 2023-11-27 18:06:47,728] Trial 13 finished with value: 0.6095704194772624 and parameters: {'n_estimators': 229, 'max_depth': 10, 'min_samples_leaf': 6}. Best is trial 2 with value: 0.6170594099284914.\n",
      "[I 2023-11-27 18:06:59,781] Trial 14 finished with value: 0.6022035578592061 and parameters: {'n_estimators': 167, 'max_depth': 7, 'min_samples_leaf': 8}. Best is trial 2 with value: 0.6170594099284914.\n",
      "[I 2023-11-27 18:07:18,022] Trial 15 finished with value: 0.6142377843104257 and parameters: {'n_estimators': 208, 'max_depth': 9, 'min_samples_leaf': 3}. Best is trial 2 with value: 0.6170594099284914.\n",
      "[I 2023-11-27 18:07:28,051] Trial 16 finished with value: 0.5918463755861904 and parameters: {'n_estimators': 143, 'max_depth': 6, 'min_samples_leaf': 6}. Best is trial 2 with value: 0.6170594099284914.\n",
      "[I 2023-11-27 18:07:49,450] Trial 17 finished with value: 0.613000858424894 and parameters: {'n_estimators': 255, 'max_depth': 9, 'min_samples_leaf': 7}. Best is trial 2 with value: 0.6170594099284914.\n",
      "[I 2023-11-27 18:07:57,099] Trial 18 finished with value: 0.6039223231551485 and parameters: {'n_estimators': 99, 'max_depth': 7, 'min_samples_leaf': 5}. Best is trial 2 with value: 0.6170594099284914.\n",
      "[I 2023-11-27 18:08:15,217] Trial 19 finished with value: 0.6141937341075318 and parameters: {'n_estimators': 206, 'max_depth': 9, 'min_samples_leaf': 3}. Best is trial 2 with value: 0.6170594099284914.\n",
      "[I 2023-11-27 18:08:28,131] Trial 20 finished with value: 0.6051138904394764 and parameters: {'n_estimators': 180, 'max_depth': 7, 'min_samples_leaf': 7}. Best is trial 2 with value: 0.6170594099284914.\n",
      "[I 2023-11-27 18:08:47,359] Trial 21 finished with value: 0.6120675034236809 and parameters: {'n_estimators': 221, 'max_depth': 9, 'min_samples_leaf': 3}. Best is trial 2 with value: 0.6170594099284914.\n",
      "[I 2023-11-27 18:09:07,627] Trial 22 finished with value: 0.6130153188515939 and parameters: {'n_estimators': 214, 'max_depth': 10, 'min_samples_leaf': 3}. Best is trial 2 with value: 0.6170594099284914.\n",
      "[I 2023-11-27 18:09:23,891] Trial 23 finished with value: 0.6132680792741491 and parameters: {'n_estimators': 183, 'max_depth': 9, 'min_samples_leaf': 3}. Best is trial 2 with value: 0.6170594099284914.\n",
      "[I 2023-11-27 18:09:51,933] Trial 24 finished with value: 0.6127648171307847 and parameters: {'n_estimators': 265, 'max_depth': 8, 'min_samples_leaf': 4}. Best is trial 2 with value: 0.6170594099284914.\n",
      "[I 2023-11-27 18:10:03,199] Trial 25 finished with value: 0.5934900149077209 and parameters: {'n_estimators': 150, 'max_depth': 6, 'min_samples_leaf': 5}. Best is trial 2 with value: 0.6170594099284914.\n",
      "[I 2023-11-27 18:10:26,717] Trial 26 finished with value: 0.6138202941751248 and parameters: {'n_estimators': 239, 'max_depth': 9, 'min_samples_leaf': 3}. Best is trial 2 with value: 0.6170594099284914.\n",
      "[I 2023-11-27 18:10:46,571] Trial 27 finished with value: 0.6162534375137344 and parameters: {'n_estimators': 193, 'max_depth': 10, 'min_samples_leaf': 5}. Best is trial 2 with value: 0.6170594099284914.\n",
      "[I 2023-11-27 18:10:58,294] Trial 28 finished with value: 0.6096864163687226 and parameters: {'n_estimators': 110, 'max_depth': 10, 'min_samples_leaf': 5}. Best is trial 2 with value: 0.6170594099284914.\n",
      "[I 2023-11-27 18:11:12,516] Trial 29 finished with value: 0.6102727427139325 and parameters: {'n_estimators': 151, 'max_depth': 10, 'min_samples_leaf': 6}. Best is trial 2 with value: 0.6170594099284914.\n",
      "[I 2023-11-27 18:11:29,124] Trial 30 finished with value: 0.6120193033455288 and parameters: {'n_estimators': 183, 'max_depth': 10, 'min_samples_leaf': 7}. Best is trial 2 with value: 0.6170594099284914.\n",
      "[I 2023-11-27 18:11:47,686] Trial 31 finished with value: 0.6163733531130285 and parameters: {'n_estimators': 206, 'max_depth': 9, 'min_samples_leaf': 4}. Best is trial 2 with value: 0.6170594099284914.\n",
      "[I 2023-11-27 18:12:05,124] Trial 32 finished with value: 0.6116512389706822 and parameters: {'n_estimators': 193, 'max_depth': 8, 'min_samples_leaf': 4}. Best is trial 2 with value: 0.6170594099284914.\n",
      "[I 2023-11-27 18:12:26,431] Trial 33 finished with value: 0.6142653730218712 and parameters: {'n_estimators': 224, 'max_depth': 10, 'min_samples_leaf': 5}. Best is trial 2 with value: 0.6170594099284914.\n",
      "[I 2023-11-27 18:12:39,108] Trial 34 finished with value: 0.6074576712751623 and parameters: {'n_estimators': 168, 'max_depth': 7, 'min_samples_leaf': 2}. Best is trial 2 with value: 0.6170594099284914.\n",
      "[I 2023-11-27 18:12:56,365] Trial 35 finished with value: 0.6173077604669073 and parameters: {'n_estimators': 197, 'max_depth': 9, 'min_samples_leaf': 4}. Best is trial 35 with value: 0.6173077604669073.\n",
      "[I 2023-11-27 18:13:18,367] Trial 36 finished with value: 0.6121627812586714 and parameters: {'n_estimators': 281, 'max_depth': 8, 'min_samples_leaf': 4}. Best is trial 35 with value: 0.6173077604669073.\n",
      "[I 2023-11-27 18:13:27,008] Trial 37 finished with value: 0.5391657557854637 and parameters: {'n_estimators': 244, 'max_depth': 2, 'min_samples_leaf': 4}. Best is trial 35 with value: 0.6173077604669073.\n",
      "[I 2023-11-27 18:13:38,629] Trial 38 finished with value: 0.5871232216716221 and parameters: {'n_estimators': 204, 'max_depth': 5, 'min_samples_leaf': 2}. Best is trial 35 with value: 0.6173077604669073.\n",
      "[I 2023-11-27 18:13:50,013] Trial 39 finished with value: 0.6146003969605651 and parameters: {'n_estimators': 128, 'max_depth': 9, 'min_samples_leaf': 4}. Best is trial 35 with value: 0.6173077604669073.\n",
      "[I 2023-11-27 18:14:07,978] Trial 40 finished with value: 0.6109784155931761 and parameters: {'n_estimators': 229, 'max_depth': 8, 'min_samples_leaf': 8}. Best is trial 35 with value: 0.6173077604669073.\n",
      "[I 2023-11-27 18:14:24,585] Trial 41 finished with value: 0.6143262101131761 and parameters: {'n_estimators': 191, 'max_depth': 9, 'min_samples_leaf': 5}. Best is trial 35 with value: 0.6173077604669073.\n",
      "[I 2023-11-27 18:14:44,408] Trial 42 finished with value: 0.6154133423331198 and parameters: {'n_estimators': 216, 'max_depth': 10, 'min_samples_leaf': 5}. Best is trial 35 with value: 0.6173077604669073.\n",
      "[I 2023-11-27 18:14:58,287] Trial 43 finished with value: 0.6165800314572137 and parameters: {'n_estimators': 160, 'max_depth': 9, 'min_samples_leaf': 6}. Best is trial 35 with value: 0.6173077604669073.\n",
      "[I 2023-11-27 18:15:10,748] Trial 44 finished with value: 0.610987463127574 and parameters: {'n_estimators': 155, 'max_depth': 8, 'min_samples_leaf': 6}. Best is trial 35 with value: 0.6173077604669073.\n",
      "[I 2023-11-27 18:15:25,552] Trial 45 finished with value: 0.6169937944732888 and parameters: {'n_estimators': 172, 'max_depth': 9, 'min_samples_leaf': 7}. Best is trial 35 with value: 0.6173077604669073.\n",
      "[I 2023-11-27 18:15:31,624] Trial 46 finished with value: 0.5660193965985089 and parameters: {'n_estimators': 138, 'max_depth': 3, 'min_samples_leaf': 6}. Best is trial 35 with value: 0.6173077604669073.\n",
      "[I 2023-11-27 18:15:42,007] Trial 47 finished with value: 0.6100225248277249 and parameters: {'n_estimators': 118, 'max_depth': 9, 'min_samples_leaf': 7}. Best is trial 35 with value: 0.6173077604669073.\n",
      "[I 2023-11-27 18:15:47,645] Trial 48 finished with value: 0.5992776936699766 and parameters: {'n_estimators': 70, 'max_depth': 7, 'min_samples_leaf': 8}. Best is trial 35 with value: 0.6173077604669073.\n",
      "[I 2023-11-27 18:15:58,071] Trial 49 finished with value: 0.5947010846402487 and parameters: {'n_estimators': 160, 'max_depth': 6, 'min_samples_leaf': 6}. Best is trial 35 with value: 0.6173077604669073.\n",
      "[I 2023-11-27 18:16:12,032] Trial 50 finished with value: 0.6133366233957372 and parameters: {'n_estimators': 172, 'max_depth': 8, 'min_samples_leaf': 4}. Best is trial 35 with value: 0.6173077604669073.\n",
      "[I 2023-11-27 18:16:27,463] Trial 51 finished with value: 0.616325264234541 and parameters: {'n_estimators': 177, 'max_depth': 9, 'min_samples_leaf': 7}. Best is trial 35 with value: 0.6173077604669073.\n",
      "[I 2023-11-27 18:16:44,677] Trial 52 finished with value: 0.612288536773632 and parameters: {'n_estimators': 203, 'max_depth': 9, 'min_samples_leaf': 7}. Best is trial 35 with value: 0.6173077604669073.\n",
      "[I 2023-11-27 18:16:59,903] Trial 53 finished with value: 0.6162624413552306 and parameters: {'n_estimators': 178, 'max_depth': 9, 'min_samples_leaf': 7}. Best is trial 35 with value: 0.6173077604669073.\n",
      "[I 2023-11-27 18:17:14,891] Trial 54 finished with value: 0.6107883307075561 and parameters: {'n_estimators': 189, 'max_depth': 8, 'min_samples_leaf': 8}. Best is trial 35 with value: 0.6173077604669073.\n",
      "[I 2023-11-27 18:17:29,184] Trial 55 finished with value: 0.6157543659774668 and parameters: {'n_estimators': 164, 'max_depth': 9, 'min_samples_leaf': 6}. Best is trial 35 with value: 0.6173077604669073.\n",
      "[I 2023-11-27 18:17:45,928] Trial 56 finished with value: 0.6170522462096135 and parameters: {'n_estimators': 210, 'max_depth': 8, 'min_samples_leaf': 3}. Best is trial 35 with value: 0.6173077604669073.\n",
      "[I 2023-11-27 18:18:04,586] Trial 57 finished with value: 0.6154068938602547 and parameters: {'n_estimators': 234, 'max_depth': 8, 'min_samples_leaf': 3}. Best is trial 35 with value: 0.6173077604669073.\n",
      "[I 2023-11-27 18:18:22,523] Trial 58 finished with value: 0.6076369965066747 and parameters: {'n_estimators': 249, 'max_depth': 7, 'min_samples_leaf': 2}. Best is trial 35 with value: 0.6173077604669073.\n",
      "[I 2023-11-27 18:18:37,947] Trial 59 finished with value: 0.6052880448223394 and parameters: {'n_estimators': 213, 'max_depth': 7, 'min_samples_leaf': 3}. Best is trial 35 with value: 0.6173077604669073.\n",
      "[I 2023-11-27 18:18:49,298] Trial 60 finished with value: 0.5893478881421158 and parameters: {'n_estimators': 199, 'max_depth': 5, 'min_samples_leaf': 3}. Best is trial 35 with value: 0.6173077604669073.\n",
      "[I 2023-11-27 18:19:07,443] Trial 61 finished with value: 0.6130198870714955 and parameters: {'n_estimators': 210, 'max_depth': 9, 'min_samples_leaf': 7}. Best is trial 35 with value: 0.6173077604669073.\n",
      "[I 2023-11-27 18:19:22,943] Trial 62 finished with value: 0.6155869234755047 and parameters: {'n_estimators': 173, 'max_depth': 9, 'min_samples_leaf': 4}. Best is trial 35 with value: 0.6173077604669073.\n",
      "[I 2023-11-27 18:19:38,910] Trial 63 finished with value: 0.6142368981743781 and parameters: {'n_estimators': 186, 'max_depth': 9, 'min_samples_leaf': 7}. Best is trial 35 with value: 0.6173077604669073.\n",
      "[I 2023-11-27 18:19:56,487] Trial 64 finished with value: 0.6170164537900287 and parameters: {'n_estimators': 221, 'max_depth': 8, 'min_samples_leaf': 3}. Best is trial 35 with value: 0.6173077604669073.\n",
      "[I 2023-11-27 18:20:14,241] Trial 65 finished with value: 0.6175542407733301 and parameters: {'n_estimators': 222, 'max_depth': 8, 'min_samples_leaf': 3}. Best is trial 65 with value: 0.6175542407733301.\n",
      "[I 2023-11-27 18:20:31,953] Trial 66 finished with value: 0.6169718480399046 and parameters: {'n_estimators': 223, 'max_depth': 8, 'min_samples_leaf': 3}. Best is trial 65 with value: 0.6175542407733301.\n",
      "[I 2023-11-27 18:20:53,035] Trial 67 finished with value: 0.6169489672468851 and parameters: {'n_estimators': 261, 'max_depth': 8, 'min_samples_leaf': 3}. Best is trial 65 with value: 0.6175542407733301.\n",
      "[I 2023-11-27 18:21:09,602] Trial 68 finished with value: 0.6054019374989592 and parameters: {'n_estimators': 224, 'max_depth': 7, 'min_samples_leaf': 3}. Best is trial 65 with value: 0.6175542407733301.\n",
      "[I 2023-11-27 18:21:29,265] Trial 69 finished with value: 0.6125052114073257 and parameters: {'n_estimators': 237, 'max_depth': 8, 'min_samples_leaf': 2}. Best is trial 65 with value: 0.6175542407733301.\n",
      "[I 2023-11-27 18:21:45,134] Trial 70 finished with value: 0.605760792989886 and parameters: {'n_estimators': 221, 'max_depth': 7, 'min_samples_leaf': 3}. Best is trial 65 with value: 0.6175542407733301.\n",
      "[I 2023-11-27 18:22:05,735] Trial 71 finished with value: 0.6169489672468851 and parameters: {'n_estimators': 261, 'max_depth': 8, 'min_samples_leaf': 3}. Best is trial 65 with value: 0.6175542407733301.\n",
      "[I 2023-11-27 18:22:28,178] Trial 72 finished with value: 0.6128382526888098 and parameters: {'n_estimators': 281, 'max_depth': 8, 'min_samples_leaf': 2}. Best is trial 65 with value: 0.6175542407733301.\n",
      "[I 2023-11-27 18:22:48,106] Trial 73 finished with value: 0.616727784797342 and parameters: {'n_estimators': 253, 'max_depth': 8, 'min_samples_leaf': 3}. Best is trial 65 with value: 0.6175542407733301.\n",
      "[I 2023-11-27 18:23:06,413] Trial 74 finished with value: 0.6154560261347051 and parameters: {'n_estimators': 230, 'max_depth': 8, 'min_samples_leaf': 3}. Best is trial 65 with value: 0.6175542407733301.\n",
      "[I 2023-11-27 18:23:25,749] Trial 75 finished with value: 0.6034404365962038 and parameters: {'n_estimators': 272, 'max_depth': 7, 'min_samples_leaf': 3}. Best is trial 65 with value: 0.6175542407733301.\n",
      "[I 2023-11-27 18:23:43,247] Trial 76 finished with value: 0.6140712277261169 and parameters: {'n_estimators': 218, 'max_depth': 8, 'min_samples_leaf': 2}. Best is trial 65 with value: 0.6175542407733301.\n",
      "[I 2023-11-27 18:23:58,792] Trial 77 finished with value: 0.5948929387895103 and parameters: {'n_estimators': 244, 'max_depth': 6, 'min_samples_leaf': 3}. Best is trial 65 with value: 0.6175542407733301.\n",
      "[I 2023-11-27 18:24:22,117] Trial 78 finished with value: 0.611740306752169 and parameters: {'n_estimators': 298, 'max_depth': 8, 'min_samples_leaf': 4}. Best is trial 65 with value: 0.6175542407733301.\n",
      "[I 2023-11-27 18:24:36,601] Trial 79 finished with value: 0.6040837513187712 and parameters: {'n_estimators': 200, 'max_depth': 7, 'min_samples_leaf': 3}. Best is trial 65 with value: 0.6175542407733301.\n",
      "[I 2023-11-27 18:24:53,399] Trial 80 finished with value: 0.616901537118999 and parameters: {'n_estimators': 211, 'max_depth': 8, 'min_samples_leaf': 3}. Best is trial 65 with value: 0.6175542407733301.\n",
      "[I 2023-11-27 18:25:14,110] Trial 81 finished with value: 0.6169489672468851 and parameters: {'n_estimators': 261, 'max_depth': 8, 'min_samples_leaf': 3}. Best is trial 65 with value: 0.6175542407733301.\n",
      "[I 2023-11-27 18:25:35,717] Trial 82 finished with value: 0.6178695604013911 and parameters: {'n_estimators': 274, 'max_depth': 8, 'min_samples_leaf': 3}. Best is trial 82 with value: 0.6178695604013911.\n",
      "[I 2023-11-27 18:25:57,984] Trial 83 finished with value: 0.612268273259131 and parameters: {'n_estimators': 285, 'max_depth': 8, 'min_samples_leaf': 4}. Best is trial 82 with value: 0.6178695604013911.\n",
      "[I 2023-11-27 18:26:17,521] Trial 84 finished with value: 0.6064797749020598 and parameters: {'n_estimators': 273, 'max_depth': 7, 'min_samples_leaf': 2}. Best is trial 82 with value: 0.6178695604013911.\n",
      "[I 2023-11-27 18:26:38,719] Trial 85 finished with value: 0.6140489833230779 and parameters: {'n_estimators': 226, 'max_depth': 10, 'min_samples_leaf': 3}. Best is trial 82 with value: 0.6178695604013911.\n",
      "[I 2023-11-27 18:26:57,151] Trial 86 finished with value: 0.6163924710217467 and parameters: {'n_estimators': 233, 'max_depth': 8, 'min_samples_leaf': 3}. Best is trial 82 with value: 0.6178695604013911.\n",
      "[I 2023-11-27 18:27:20,187] Trial 87 finished with value: 0.6147256383410091 and parameters: {'n_estimators': 268, 'max_depth': 9, 'min_samples_leaf': 4}. Best is trial 82 with value: 0.6178695604013911.\n",
      "[I 2023-11-27 18:27:42,946] Trial 88 finished with value: 0.6133955304447625 and parameters: {'n_estimators': 287, 'max_depth': 8, 'min_samples_leaf': 2}. Best is trial 82 with value: 0.6178695604013911.\n",
      "[I 2023-11-27 18:28:02,935] Trial 89 finished with value: 0.6162283391599582 and parameters: {'n_estimators': 252, 'max_depth': 8, 'min_samples_leaf': 3}. Best is trial 82 with value: 0.6178695604013911.\n",
      "[I 2023-11-27 18:28:24,236] Trial 90 finished with value: 0.6137581282665622 and parameters: {'n_estimators': 244, 'max_depth': 9, 'min_samples_leaf': 3}. Best is trial 82 with value: 0.6178695604013911.\n",
      "[I 2023-11-27 18:28:44,993] Trial 91 finished with value: 0.6156789194246574 and parameters: {'n_estimators': 263, 'max_depth': 8, 'min_samples_leaf': 3}. Best is trial 82 with value: 0.6178695604013911.\n",
      "[I 2023-11-27 18:28:59,241] Trial 92 finished with value: 0.6039153958924854 and parameters: {'n_estimators': 195, 'max_depth': 7, 'min_samples_leaf': 3}. Best is trial 82 with value: 0.6178695604013911.\n",
      "[I 2023-11-27 18:29:19,730] Trial 93 finished with value: 0.6164952929805899 and parameters: {'n_estimators': 259, 'max_depth': 8, 'min_samples_leaf': 3}. Best is trial 82 with value: 0.6178695604013911.\n",
      "[I 2023-11-27 18:29:38,708] Trial 94 finished with value: 0.6142008508068978 and parameters: {'n_estimators': 216, 'max_depth': 9, 'min_samples_leaf': 3}. Best is trial 82 with value: 0.6178695604013911.\n",
      "[I 2023-11-27 18:29:55,077] Trial 95 finished with value: 0.6125577119875615 and parameters: {'n_estimators': 207, 'max_depth': 8, 'min_samples_leaf': 4}. Best is trial 82 with value: 0.6178695604013911.\n",
      "[I 2023-11-27 18:30:16,658] Trial 96 finished with value: 0.6122489215116117 and parameters: {'n_estimators': 271, 'max_depth': 8, 'min_samples_leaf': 2}. Best is trial 82 with value: 0.6178695604013911.\n",
      "[I 2023-11-27 18:30:37,379] Trial 97 finished with value: 0.6037721154362468 and parameters: {'n_estimators': 291, 'max_depth': 7, 'min_samples_leaf': 3}. Best is trial 82 with value: 0.6178695604013911.\n",
      "[I 2023-11-27 18:31:01,029] Trial 98 finished with value: 0.6152921456055145 and parameters: {'n_estimators': 276, 'max_depth': 9, 'min_samples_leaf': 4}. Best is trial 82 with value: 0.6178695604013911.\n",
      "[I 2023-11-27 18:31:11,102] Trial 99 finished with value: 0.560825863461897 and parameters: {'n_estimators': 240, 'max_depth': 3, 'min_samples_leaf': 3}. Best is trial 82 with value: 0.6178695604013911.\n"
     ]
    }
   ],
   "source": [
    "study_rf.optimize(optuna_optimize, n_trials=100)"
   ],
   "metadata": {
    "collapsed": false,
    "ExecuteTime": {
     "end_time": "2023-11-27T15:31:11.151559900Z",
     "start_time": "2023-11-27T15:03:48.607309900Z"
    }
   }
  },
  {
   "cell_type": "code",
   "execution_count": 38,
   "outputs": [
    {
     "name": "stdout",
     "output_type": "stream",
     "text": [
      "Наилучшие значения гиперпараметров Random Forest: {'n_estimators': 274, 'max_depth': 8, 'min_samples_leaf': 3}\n",
      "f1_score на обучающем наборе: 0.618\n"
     ]
    }
   ],
   "source": [
    "print(\"Наилучшие значения гиперпараметров Random Forest: {}\".format(study_rf.best_params))\n",
    "print(\"f1_score на обучающем наборе: {:.3f}\". format(study_rf.best_value))"
   ],
   "metadata": {
    "collapsed": false,
    "ExecuteTime": {
     "end_time": "2023-11-27T15:31:11.272005200Z",
     "start_time": "2023-11-27T15:31:11.130951700Z"
    }
   }
  },
  {
   "cell_type": "code",
   "execution_count": 39,
   "outputs": [],
   "source": [
    "with mlflow.start_run(nested=True):\n",
    "\n",
    "    best_params = study_rf.best_params\n",
    "    best_score = study_rf.best_value\n",
    "    mlflow.log_params(best_params)\n",
    "\n",
    "    rf_pipe = Pipeline([\n",
    "        ('preprocessor', preprocessor),\n",
    "        ('model', RandomForestClassifier(**best_params,\n",
    "                                         class_weight='balanced',\n",
    "                                         random_state=12345))\n",
    "    ])\n",
    "\n",
    "    rf_pipe.fit(X_train, y_train)\n",
    "\n",
    "    pred_proba = rf_pipe.predict_proba(X_test)[:, 1]\n",
    "    roc_auc = roc_auc_score(y_test, pred_proba)\n",
    "    \n",
    "    mlflow.log_metrics({\n",
    "        'f1_cv': best_score,\n",
    "        'roc_auc': roc_auc,\n",
    "        'balanced_accuracy': balanced_accuracy_score(y_test, np.round(pred_proba, 0)),\n",
    "        'f1': f1_score(y_test, np.round(pred_proba, 0))\n",
    "    })\n",
    "    \n",
    "    mlflow.sklearn.log_model(rf_pipe, 'rf_pipeline_class_weight')"
   ],
   "metadata": {
    "collapsed": false,
    "ExecuteTime": {
     "end_time": "2023-11-27T15:31:25.356429700Z",
     "start_time": "2023-11-27T15:31:11.161974200Z"
    }
   }
  },
  {
   "cell_type": "markdown",
   "source": [
    "### 3.1.3 Логистическая регрессия"
   ],
   "metadata": {
    "collapsed": false
   }
  },
  {
   "cell_type": "code",
   "execution_count": 40,
   "outputs": [],
   "source": [
    "cat_pipeline = Pipeline([\n",
    "    ('enc', OneHotEncoder(handle_unknown='error', drop='first'))\n",
    "])\n",
    "\n",
    "num_pipeline = Pipeline([\n",
    "    ('imp', SimpleImputer(fill_value=-1, add_indicator=True)),\n",
    "    ('pt', PowerTransformer()),\n",
    "    ('scal', StandardScaler())\n",
    "])\n",
    "\n",
    "preprocessor = ColumnTransformer([\n",
    "    (\"cat\", cat_pipeline, categorical_features),\n",
    "    (\"num\", num_pipeline, numeric_features)\n",
    "], remainder='passthrough')"
   ],
   "metadata": {
    "collapsed": false,
    "ExecuteTime": {
     "end_time": "2023-11-27T15:31:25.436581400Z",
     "start_time": "2023-11-27T15:31:25.368718400Z"
    }
   }
  },
  {
   "cell_type": "code",
   "execution_count": 41,
   "outputs": [],
   "source": [
    "def optuna_optimize(trial):\n",
    "    param = {\n",
    "        'solver': trial.suggest_categorical('solver', ['lbfgs', 'saga'])\n",
    "    }\n",
    "    \n",
    "    if param['solver'] == 'lbfgs':\n",
    "        param['penalty'] = 'l2' \n",
    "\n",
    "    if param['solver'] == 'saga':\n",
    "        param['penalty'] = 'elasticnet' \n",
    "        param['C'] = trial.suggest_float('C', 0.01, 100) \n",
    "        param['l1_ratio'] = trial.suggest_float('l1_ratio', 0, 1)\n",
    "        param['max_iter'] = 1000 \n",
    "        \n",
    "    estimator = LogisticRegression(**param,  \n",
    "                                   class_weight='balanced',\n",
    "                                   random_state=12345)\n",
    "\n",
    "    log_reg_pipe = Pipeline([\n",
    "        ('preprocessor', preprocessor),\n",
    "        ('model', estimator)\n",
    "    ])\n",
    "    \n",
    "    score = cross_val_score(log_reg_pipe, X_train, y_train, cv=5, scoring='f1').mean()\n",
    "    return score"
   ],
   "metadata": {
    "collapsed": false,
    "ExecuteTime": {
     "end_time": "2023-11-27T15:31:25.437752700Z",
     "start_time": "2023-11-27T15:31:25.393862700Z"
    }
   }
  },
  {
   "cell_type": "code",
   "execution_count": 42,
   "outputs": [
    {
     "name": "stderr",
     "output_type": "stream",
     "text": [
      "[I 2023-11-27 18:31:25,437] A new study created in memory with name: LogisticRegression Optuna Optimization Class Weight\n"
     ]
    }
   ],
   "source": [
    "# optuna.logging.set_verbosity(optuna.logging.WARNING) # i do not want to see trail information\n",
    "study_log_reg = optuna.create_study(study_name=\"LogisticRegression Optuna Optimization Class Weight\",\n",
    "                                direction='maximize')"
   ],
   "metadata": {
    "collapsed": false,
    "ExecuteTime": {
     "end_time": "2023-11-27T15:31:25.663371Z",
     "start_time": "2023-11-27T15:31:25.428514300Z"
    }
   }
  },
  {
   "cell_type": "code",
   "execution_count": 43,
   "outputs": [
    {
     "name": "stderr",
     "output_type": "stream",
     "text": [
      "[I 2023-11-27 18:31:26,837] Trial 0 finished with value: 0.4910843408008952 and parameters: {'solver': 'saga', 'C': 48.64114241482636, 'l1_ratio': 0.8072033231067617}. Best is trial 0 with value: 0.4910843408008952.\n",
      "[I 2023-11-27 18:31:28,062] Trial 1 finished with value: 0.4910843408008952 and parameters: {'solver': 'saga', 'C': 62.01297164567831, 'l1_ratio': 0.5183249821180206}. Best is trial 0 with value: 0.4910843408008952.\n",
      "[I 2023-11-27 18:31:29,274] Trial 2 finished with value: 0.4910843408008952 and parameters: {'solver': 'saga', 'C': 44.72418813282303, 'l1_ratio': 0.028488104730567065}. Best is trial 0 with value: 0.4910843408008952.\n",
      "[I 2023-11-27 18:31:30,478] Trial 3 finished with value: 0.4910843408008952 and parameters: {'solver': 'saga', 'C': 45.99247173154098, 'l1_ratio': 0.16027747283468285}. Best is trial 0 with value: 0.4910843408008952.\n",
      "[I 2023-11-27 18:31:31,688] Trial 4 finished with value: 0.4910843408008952 and parameters: {'solver': 'saga', 'C': 89.95473463365998, 'l1_ratio': 0.20066059818582715}. Best is trial 0 with value: 0.4910843408008952.\n",
      "[I 2023-11-27 18:31:32,910] Trial 5 finished with value: 0.4910843408008952 and parameters: {'solver': 'saga', 'C': 67.36110137523005, 'l1_ratio': 0.007982936878975666}. Best is trial 0 with value: 0.4910843408008952.\n",
      "[I 2023-11-27 18:31:33,875] Trial 6 finished with value: 0.49096987218775245 and parameters: {'solver': 'lbfgs'}. Best is trial 0 with value: 0.4910843408008952.\n",
      "[I 2023-11-27 18:31:34,803] Trial 7 finished with value: 0.49096987218775245 and parameters: {'solver': 'lbfgs'}. Best is trial 0 with value: 0.4910843408008952.\n",
      "[I 2023-11-27 18:31:36,071] Trial 8 finished with value: 0.4910843408008952 and parameters: {'solver': 'saga', 'C': 73.50999449659426, 'l1_ratio': 0.4211676187153859}. Best is trial 0 with value: 0.4910843408008952.\n",
      "[I 2023-11-27 18:31:37,260] Trial 9 finished with value: 0.4910843408008952 and parameters: {'solver': 'saga', 'C': 35.42097998437323, 'l1_ratio': 0.46715675057963413}. Best is trial 0 with value: 0.4910843408008952.\n",
      "[I 2023-11-27 18:31:38,239] Trial 10 finished with value: 0.49096987218775245 and parameters: {'solver': 'lbfgs'}. Best is trial 0 with value: 0.4910843408008952.\n",
      "[I 2023-11-27 18:31:39,483] Trial 11 finished with value: 0.4910843408008952 and parameters: {'solver': 'saga', 'C': 8.157897778165292, 'l1_ratio': 0.8067761948750014}. Best is trial 0 with value: 0.4910843408008952.\n",
      "[I 2023-11-27 18:31:40,673] Trial 12 finished with value: 0.4910843408008952 and parameters: {'solver': 'saga', 'C': 68.05055389184079, 'l1_ratio': 0.8218738799045971}. Best is trial 0 with value: 0.4910843408008952.\n",
      "[I 2023-11-27 18:31:41,914] Trial 13 finished with value: 0.4910843408008952 and parameters: {'solver': 'saga', 'C': 26.06908697925444, 'l1_ratio': 0.9685345765051455}. Best is trial 0 with value: 0.4910843408008952.\n",
      "[I 2023-11-27 18:31:42,837] Trial 14 finished with value: 0.49096987218775245 and parameters: {'solver': 'lbfgs'}. Best is trial 0 with value: 0.4910843408008952.\n",
      "[I 2023-11-27 18:31:44,091] Trial 15 finished with value: 0.4910843408008952 and parameters: {'solver': 'saga', 'C': 56.810912380922666, 'l1_ratio': 0.635221517547567}. Best is trial 0 with value: 0.4910843408008952.\n",
      "[I 2023-11-27 18:31:45,325] Trial 16 finished with value: 0.4910843408008952 and parameters: {'solver': 'saga', 'C': 97.81856998156138, 'l1_ratio': 0.5514654412596822}. Best is trial 0 with value: 0.4910843408008952.\n",
      "[I 2023-11-27 18:31:46,575] Trial 17 finished with value: 0.4910843408008952 and parameters: {'solver': 'saga', 'C': 57.58984138648751, 'l1_ratio': 0.6836024293651493}. Best is trial 0 with value: 0.4910843408008952.\n",
      "[I 2023-11-27 18:31:47,518] Trial 18 finished with value: 0.49096987218775245 and parameters: {'solver': 'lbfgs'}. Best is trial 0 with value: 0.4910843408008952.\n",
      "[I 2023-11-27 18:31:48,760] Trial 19 finished with value: 0.4910843408008952 and parameters: {'solver': 'saga', 'C': 80.39091867738657, 'l1_ratio': 0.41221406225408985}. Best is trial 0 with value: 0.4910843408008952.\n",
      "[I 2023-11-27 18:31:50,016] Trial 20 finished with value: 0.4910843408008952 and parameters: {'solver': 'saga', 'C': 57.55170910385461, 'l1_ratio': 0.9608927791914774}. Best is trial 0 with value: 0.4910843408008952.\n",
      "[I 2023-11-27 18:31:51,265] Trial 21 finished with value: 0.4910843408008952 and parameters: {'solver': 'saga', 'C': 43.87297499823288, 'l1_ratio': 0.3085709188094031}. Best is trial 0 with value: 0.4910843408008952.\n",
      "[I 2023-11-27 18:31:52,531] Trial 22 finished with value: 0.4910843408008952 and parameters: {'solver': 'saga', 'C': 36.578295492761015, 'l1_ratio': 0.5768616161038456}. Best is trial 0 with value: 0.4910843408008952.\n",
      "[I 2023-11-27 18:31:53,740] Trial 23 finished with value: 0.4910843408008952 and parameters: {'solver': 'saga', 'C': 52.95687819719461, 'l1_ratio': 0.3151559664063017}. Best is trial 0 with value: 0.4910843408008952.\n",
      "[I 2023-11-27 18:31:55,084] Trial 24 finished with value: 0.4910843408008952 and parameters: {'solver': 'saga', 'C': 62.361064069378486, 'l1_ratio': 0.6969820664127953}. Best is trial 0 with value: 0.4910843408008952.\n",
      "[I 2023-11-27 18:31:56,341] Trial 25 finished with value: 0.4910843408008952 and parameters: {'solver': 'saga', 'C': 46.344373101947774, 'l1_ratio': 0.5109385874095511}. Best is trial 0 with value: 0.4910843408008952.\n",
      "[I 2023-11-27 18:31:57,287] Trial 26 finished with value: 0.49096987218775245 and parameters: {'solver': 'lbfgs'}. Best is trial 0 with value: 0.4910843408008952.\n",
      "[I 2023-11-27 18:31:58,549] Trial 27 finished with value: 0.4910843408008952 and parameters: {'solver': 'saga', 'C': 72.9653739385885, 'l1_ratio': 0.03313657889036081}. Best is trial 0 with value: 0.4910843408008952.\n",
      "[I 2023-11-27 18:31:59,793] Trial 28 finished with value: 0.4910843408008952 and parameters: {'solver': 'saga', 'C': 52.29679802323424, 'l1_ratio': 0.38225931547270253}. Best is trial 0 with value: 0.4910843408008952.\n",
      "[I 2023-11-27 18:32:01,097] Trial 29 finished with value: 0.4910843408008952 and parameters: {'solver': 'saga', 'C': 33.98508825211684, 'l1_ratio': 0.5111722044928355}. Best is trial 0 with value: 0.4910843408008952.\n",
      "[I 2023-11-27 18:32:02,344] Trial 30 finished with value: 0.4910843408008952 and parameters: {'solver': 'saga', 'C': 62.99242629428813, 'l1_ratio': 0.6125574155871591}. Best is trial 0 with value: 0.4910843408008952.\n",
      "[I 2023-11-27 18:32:03,614] Trial 31 finished with value: 0.4910843408008952 and parameters: {'solver': 'saga', 'C': 45.62886185331286, 'l1_ratio': 0.17269932739840826}. Best is trial 0 with value: 0.4910843408008952.\n",
      "[I 2023-11-27 18:32:04,958] Trial 32 finished with value: 0.4910843408008952 and parameters: {'solver': 'saga', 'C': 47.07653006596698, 'l1_ratio': 0.10353692687757954}. Best is trial 0 with value: 0.4910843408008952.\n",
      "[I 2023-11-27 18:32:07,214] Trial 33 finished with value: 0.4910843408008952 and parameters: {'solver': 'saga', 'C': 38.54693647090183, 'l1_ratio': 0.09415697485713041}. Best is trial 0 with value: 0.4910843408008952.\n",
      "[I 2023-11-27 18:32:08,416] Trial 34 finished with value: 0.4910843408008952 and parameters: {'solver': 'saga', 'C': 50.66234654931996, 'l1_ratio': 0.21817584693103687}. Best is trial 0 with value: 0.4910843408008952.\n",
      "[I 2023-11-27 18:32:09,399] Trial 35 finished with value: 0.49096987218775245 and parameters: {'solver': 'lbfgs'}. Best is trial 0 with value: 0.4910843408008952.\n",
      "[I 2023-11-27 18:32:10,677] Trial 36 finished with value: 0.4910843408008952 and parameters: {'solver': 'saga', 'C': 41.92132297066253, 'l1_ratio': 0.11303425297869407}. Best is trial 0 with value: 0.4910843408008952.\n",
      "[I 2023-11-27 18:32:11,939] Trial 37 finished with value: 0.4910843408008952 and parameters: {'solver': 'saga', 'C': 29.446266300519277, 'l1_ratio': 0.22144050667328974}. Best is trial 0 with value: 0.4910843408008952.\n",
      "[I 2023-11-27 18:32:12,924] Trial 38 finished with value: 0.49096987218775245 and parameters: {'solver': 'lbfgs'}. Best is trial 0 with value: 0.4910843408008952.\n",
      "[I 2023-11-27 18:32:14,148] Trial 39 finished with value: 0.4910843408008952 and parameters: {'solver': 'saga', 'C': 51.702904591476454, 'l1_ratio': 0.008777337312477207}. Best is trial 0 with value: 0.4910843408008952.\n",
      "[I 2023-11-27 18:32:15,381] Trial 40 finished with value: 0.4910843408008952 and parameters: {'solver': 'saga', 'C': 61.84139576452006, 'l1_ratio': 0.16511457489620443}. Best is trial 0 with value: 0.4910843408008952.\n",
      "[I 2023-11-27 18:32:16,615] Trial 41 finished with value: 0.4910843408008952 and parameters: {'solver': 'saga', 'C': 83.76373120312732, 'l1_ratio': 0.0008935897033884033}. Best is trial 0 with value: 0.4910843408008952.\n",
      "[I 2023-11-27 18:32:17,819] Trial 42 finished with value: 0.4910843408008952 and parameters: {'solver': 'saga', 'C': 68.86347110993827, 'l1_ratio': 0.3177507080568803}. Best is trial 0 with value: 0.4910843408008952.\n",
      "[I 2023-11-27 18:32:19,096] Trial 43 finished with value: 0.4910843408008952 and parameters: {'solver': 'saga', 'C': 42.19628113364454, 'l1_ratio': 0.06410756545806151}. Best is trial 0 with value: 0.4910843408008952.\n",
      "[I 2023-11-27 18:32:20,361] Trial 44 finished with value: 0.4910843408008952 and parameters: {'solver': 'saga', 'C': 98.24476776692593, 'l1_ratio': 0.14561236115469164}. Best is trial 0 with value: 0.4910843408008952.\n",
      "[I 2023-11-27 18:32:21,309] Trial 45 finished with value: 0.49096987218775245 and parameters: {'solver': 'lbfgs'}. Best is trial 0 with value: 0.4910843408008952.\n",
      "[I 2023-11-27 18:32:22,555] Trial 46 finished with value: 0.4910843408008952 and parameters: {'solver': 'saga', 'C': 77.09336268710621, 'l1_ratio': 0.06707397500052437}. Best is trial 0 with value: 0.4910843408008952.\n",
      "[I 2023-11-27 18:32:23,882] Trial 47 finished with value: 0.4910843408008952 and parameters: {'solver': 'saga', 'C': 86.74213121130413, 'l1_ratio': 0.4538060812625851}. Best is trial 0 with value: 0.4910843408008952.\n",
      "[I 2023-11-27 18:32:25,103] Trial 48 finished with value: 0.4910843408008952 and parameters: {'solver': 'saga', 'C': 22.488132365327882, 'l1_ratio': 0.2758402909120042}. Best is trial 0 with value: 0.4910843408008952.\n",
      "[I 2023-11-27 18:32:26,345] Trial 49 finished with value: 0.4910843408008952 and parameters: {'solver': 'saga', 'C': 89.11643095890298, 'l1_ratio': 0.3836432023276942}. Best is trial 0 with value: 0.4910843408008952.\n",
      "[I 2023-11-27 18:32:27,298] Trial 50 finished with value: 0.49096987218775245 and parameters: {'solver': 'lbfgs'}. Best is trial 0 with value: 0.4910843408008952.\n",
      "[I 2023-11-27 18:32:28,544] Trial 51 finished with value: 0.4910843408008952 and parameters: {'solver': 'saga', 'C': 67.2162362637809, 'l1_ratio': 0.051341349395287166}. Best is trial 0 with value: 0.4910843408008952.\n",
      "[I 2023-11-27 18:32:29,812] Trial 52 finished with value: 0.4910843408008952 and parameters: {'solver': 'saga', 'C': 54.687432981616574, 'l1_ratio': 0.12025244793445083}. Best is trial 0 with value: 0.4910843408008952.\n",
      "[I 2023-11-27 18:32:31,071] Trial 53 finished with value: 0.4910843408008952 and parameters: {'solver': 'saga', 'C': 58.48033755486624, 'l1_ratio': 0.0038723432408355636}. Best is trial 0 with value: 0.4910843408008952.\n",
      "[I 2023-11-27 18:32:32,315] Trial 54 finished with value: 0.4910843408008952 and parameters: {'solver': 'saga', 'C': 73.30494995680333, 'l1_ratio': 0.06695394162815327}. Best is trial 0 with value: 0.4910843408008952.\n",
      "[I 2023-11-27 18:32:33,566] Trial 55 finished with value: 0.4910843408008952 and parameters: {'solver': 'saga', 'C': 49.631595622565456, 'l1_ratio': 0.1996479300889185}. Best is trial 0 with value: 0.4910843408008952.\n",
      "[I 2023-11-27 18:32:34,824] Trial 56 finished with value: 0.4910843408008952 and parameters: {'solver': 'saga', 'C': 92.74018264699302, 'l1_ratio': 0.7814176685778575}. Best is trial 0 with value: 0.4910843408008952.\n",
      "[I 2023-11-27 18:32:36,076] Trial 57 finished with value: 0.4910843408008952 and parameters: {'solver': 'saga', 'C': 80.90112773297385, 'l1_ratio': 0.13121278289809235}. Best is trial 0 with value: 0.4910843408008952.\n",
      "[I 2023-11-27 18:32:37,298] Trial 58 finished with value: 0.4910843408008952 and parameters: {'solver': 'saga', 'C': 56.446713271551346, 'l1_ratio': 0.2580759815279024}. Best is trial 0 with value: 0.4910843408008952.\n",
      "[I 2023-11-27 18:32:38,512] Trial 59 finished with value: 0.4910843408008952 and parameters: {'solver': 'saga', 'C': 76.97075183723902, 'l1_ratio': 0.17493185864434646}. Best is trial 0 with value: 0.4910843408008952.\n",
      "[I 2023-11-27 18:32:39,503] Trial 60 finished with value: 0.49096987218775245 and parameters: {'solver': 'lbfgs'}. Best is trial 0 with value: 0.4910843408008952.\n",
      "[I 2023-11-27 18:32:40,768] Trial 61 finished with value: 0.4910843408008952 and parameters: {'solver': 'saga', 'C': 65.6698391488997, 'l1_ratio': 0.46876237416073313}. Best is trial 0 with value: 0.4910843408008952.\n",
      "[I 2023-11-27 18:32:42,037] Trial 62 finished with value: 0.4910843408008952 and parameters: {'solver': 'saga', 'C': 59.79268564623063, 'l1_ratio': 0.5375513617449862}. Best is trial 0 with value: 0.4910843408008952.\n",
      "[I 2023-11-27 18:32:43,329] Trial 63 finished with value: 0.4910843408008952 and parameters: {'solver': 'saga', 'C': 68.45900336332902, 'l1_ratio': 0.6618489874570057}. Best is trial 0 with value: 0.4910843408008952.\n",
      "[I 2023-11-27 18:32:44,596] Trial 64 finished with value: 0.4910843408008952 and parameters: {'solver': 'saga', 'C': 54.19135609108516, 'l1_ratio': 0.6039555327850937}. Best is trial 0 with value: 0.4910843408008952.\n",
      "[I 2023-11-27 18:32:45,859] Trial 65 finished with value: 0.4910843408008952 and parameters: {'solver': 'saga', 'C': 63.506249129110124, 'l1_ratio': 0.34488091002891264}. Best is trial 0 with value: 0.4910843408008952.\n",
      "[I 2023-11-27 18:32:47,083] Trial 66 finished with value: 0.4910843408008952 and parameters: {'solver': 'saga', 'C': 71.14596090840621, 'l1_ratio': 0.4224844287618076}. Best is trial 0 with value: 0.4910843408008952.\n",
      "[I 2023-11-27 18:32:48,367] Trial 67 finished with value: 0.4910843408008952 and parameters: {'solver': 'saga', 'C': 48.20266134006152, 'l1_ratio': 0.9068948598421893}. Best is trial 0 with value: 0.4910843408008952.\n",
      "[I 2023-11-27 18:32:49,615] Trial 68 finished with value: 0.4910843408008952 and parameters: {'solver': 'saga', 'C': 57.221126471041615, 'l1_ratio': 0.5715205328430037}. Best is trial 0 with value: 0.4910843408008952.\n",
      "[I 2023-11-27 18:32:50,884] Trial 69 finished with value: 0.4910843408008952 and parameters: {'solver': 'saga', 'C': 60.511613534007964, 'l1_ratio': 0.2530811983540065}. Best is trial 0 with value: 0.4910843408008952.\n",
      "[I 2023-11-27 18:32:51,851] Trial 70 finished with value: 0.49096987218775245 and parameters: {'solver': 'lbfgs'}. Best is trial 0 with value: 0.4910843408008952.\n",
      "[I 2023-11-27 18:32:53,118] Trial 71 finished with value: 0.4910843408008952 and parameters: {'solver': 'saga', 'C': 44.84433040343658, 'l1_ratio': 0.09513813562104509}. Best is trial 0 with value: 0.4910843408008952.\n",
      "[I 2023-11-27 18:32:54,400] Trial 72 finished with value: 0.4910843408008952 and parameters: {'solver': 'saga', 'C': 39.29401623189901, 'l1_ratio': 0.4935689811466037}. Best is trial 0 with value: 0.4910843408008952.\n",
      "[I 2023-11-27 18:32:55,634] Trial 73 finished with value: 0.4910843408008952 and parameters: {'solver': 'saga', 'C': 48.91058924565262, 'l1_ratio': 0.5391897035369368}. Best is trial 0 with value: 0.4910843408008952.\n",
      "[I 2023-11-27 18:32:56,876] Trial 74 finished with value: 0.4910843408008952 and parameters: {'solver': 'saga', 'C': 64.91020281530818, 'l1_ratio': 0.7244186558843391}. Best is trial 0 with value: 0.4910843408008952.\n",
      "[I 2023-11-27 18:32:58,112] Trial 75 finished with value: 0.4910843408008952 and parameters: {'solver': 'saga', 'C': 52.6241468854036, 'l1_ratio': 0.35178779088568635}. Best is trial 0 with value: 0.4910843408008952.\n",
      "[I 2023-11-27 18:32:59,330] Trial 76 finished with value: 0.4910843408008952 and parameters: {'solver': 'saga', 'C': 43.17246522558668, 'l1_ratio': 0.43061113878805757}. Best is trial 0 with value: 0.4910843408008952.\n",
      "[I 2023-11-27 18:33:00,634] Trial 77 finished with value: 0.4910843408008952 and parameters: {'solver': 'saga', 'C': 35.50257722003536, 'l1_ratio': 0.03189544962138208}. Best is trial 0 with value: 0.4910843408008952.\n",
      "[I 2023-11-27 18:33:01,865] Trial 78 finished with value: 0.4910843408008952 and parameters: {'solver': 'saga', 'C': 46.20338718657429, 'l1_ratio': 0.14500625938373268}. Best is trial 0 with value: 0.4910843408008952.\n",
      "[I 2023-11-27 18:33:03,126] Trial 79 finished with value: 0.4910843408008952 and parameters: {'solver': 'saga', 'C': 39.777751660237016, 'l1_ratio': 0.09883890517938451}. Best is trial 0 with value: 0.4910843408008952.\n",
      "[I 2023-11-27 18:33:04,383] Trial 80 finished with value: 0.4910843408008952 and parameters: {'solver': 'saga', 'C': 62.318388502443895, 'l1_ratio': 0.19796396061857746}. Best is trial 0 with value: 0.4910843408008952.\n",
      "[I 2023-11-27 18:33:05,690] Trial 81 finished with value: 0.4910843408008952 and parameters: {'solver': 'saga', 'C': 5.327424170815149, 'l1_ratio': 0.8442551714974784}. Best is trial 0 with value: 0.4910843408008952.\n",
      "[I 2023-11-27 18:33:06,918] Trial 82 finished with value: 0.4910843408008952 and parameters: {'solver': 'saga', 'C': 51.139123538138655, 'l1_ratio': 0.3924128147108248}. Best is trial 0 with value: 0.4910843408008952.\n",
      "[I 2023-11-27 18:33:08,176] Trial 83 finished with value: 0.4910843408008952 and parameters: {'solver': 'saga', 'C': 32.235039403838606, 'l1_ratio': 0.4699166996940339}. Best is trial 0 with value: 0.4910843408008952.\n",
      "[I 2023-11-27 18:33:09,434] Trial 84 finished with value: 0.4910843408008952 and parameters: {'solver': 'saga', 'C': 56.13583277215103, 'l1_ratio': 0.29175164437831597}. Best is trial 0 with value: 0.4910843408008952.\n",
      "[I 2023-11-27 18:33:10,354] Trial 85 finished with value: 0.49096987218775245 and parameters: {'solver': 'lbfgs'}. Best is trial 0 with value: 0.4910843408008952.\n",
      "[I 2023-11-27 18:33:11,605] Trial 86 finished with value: 0.4910843408008952 and parameters: {'solver': 'saga', 'C': 42.91385973013687, 'l1_ratio': 0.051046428833926495}. Best is trial 0 with value: 0.4910843408008952.\n",
      "[I 2023-11-27 18:33:12,887] Trial 87 finished with value: 0.4910843408008952 and parameters: {'solver': 'saga', 'C': 71.4515252283513, 'l1_ratio': 0.626290519025857}. Best is trial 0 with value: 0.4910843408008952.\n",
      "[I 2023-11-27 18:33:14,186] Trial 88 finished with value: 0.4910843408008952 and parameters: {'solver': 'saga', 'C': 48.01234840416979, 'l1_ratio': 0.23510309667986679}. Best is trial 0 with value: 0.4910843408008952.\n",
      "[I 2023-11-27 18:33:15,452] Trial 89 finished with value: 0.4910843408008952 and parameters: {'solver': 'saga', 'C': 58.229298203445396, 'l1_ratio': 0.030122417606962062}. Best is trial 0 with value: 0.4910843408008952.\n",
      "[I 2023-11-27 18:33:16,740] Trial 90 finished with value: 0.4910843408008952 and parameters: {'solver': 'saga', 'C': 53.793351877068545, 'l1_ratio': 0.0818883097681908}. Best is trial 0 with value: 0.4910843408008952.\n",
      "[I 2023-11-27 18:33:17,992] Trial 91 finished with value: 0.4910843408008952 and parameters: {'solver': 'saga', 'C': 68.30076613994343, 'l1_ratio': 0.7756396441259268}. Best is trial 0 with value: 0.4910843408008952.\n",
      "[I 2023-11-27 18:33:19,318] Trial 92 finished with value: 0.4910843408008952 and parameters: {'solver': 'saga', 'C': 75.17433989099028, 'l1_ratio': 0.4965687628361393}. Best is trial 0 with value: 0.4910843408008952.\n",
      "[I 2023-11-27 18:33:20,587] Trial 93 finished with value: 0.4910843408008952 and parameters: {'solver': 'saga', 'C': 64.4374645599172, 'l1_ratio': 0.3111632538964013}. Best is trial 0 with value: 0.4910843408008952.\n",
      "[I 2023-11-27 18:33:21,825] Trial 94 finished with value: 0.4910843408008952 and parameters: {'solver': 'saga', 'C': 80.02373967387783, 'l1_ratio': 0.18190364860805888}. Best is trial 0 with value: 0.4910843408008952.\n",
      "[I 2023-11-27 18:33:23,085] Trial 95 finished with value: 0.4910843408008952 and parameters: {'solver': 'saga', 'C': 60.321195324576266, 'l1_ratio': 0.12929016938211374}. Best is trial 0 with value: 0.4910843408008952.\n",
      "[I 2023-11-27 18:33:24,366] Trial 96 finished with value: 0.4910843408008952 and parameters: {'solver': 'saga', 'C': 71.0699807864075, 'l1_ratio': 0.0006230403054593991}. Best is trial 0 with value: 0.4910843408008952.\n",
      "[I 2023-11-27 18:33:25,313] Trial 97 finished with value: 0.49096987218775245 and parameters: {'solver': 'lbfgs'}. Best is trial 0 with value: 0.4910843408008952.\n",
      "[I 2023-11-27 18:33:26,586] Trial 98 finished with value: 0.4910843408008952 and parameters: {'solver': 'saga', 'C': 67.38791936477423, 'l1_ratio': 0.15719594705123952}. Best is trial 0 with value: 0.4910843408008952.\n",
      "[I 2023-11-27 18:33:27,829] Trial 99 finished with value: 0.4910843408008952 and parameters: {'solver': 'saga', 'C': 45.99974394602505, 'l1_ratio': 0.4453890345399763}. Best is trial 0 with value: 0.4910843408008952.\n"
     ]
    }
   ],
   "source": [
    "study_log_reg.optimize(optuna_optimize, n_trials=100)"
   ],
   "metadata": {
    "collapsed": false,
    "ExecuteTime": {
     "end_time": "2023-11-27T15:33:27.887038400Z",
     "start_time": "2023-11-27T15:31:25.464327200Z"
    }
   }
  },
  {
   "cell_type": "code",
   "execution_count": 44,
   "outputs": [
    {
     "name": "stdout",
     "output_type": "stream",
     "text": [
      "Наилучшие значения гиперпараметров Logistic Regression: {'solver': 'saga', 'C': 48.64114241482636, 'l1_ratio': 0.8072033231067617}\n",
      "f1_score на обучающем наборе: 0.491\n"
     ]
    }
   ],
   "source": [
    "print(\"Наилучшие значения гиперпараметров Logistic Regression: {}\".format(study_log_reg.best_params))\n",
    "print(\"f1_score на обучающем наборе: {:.3f}\". format(study_log_reg.best_value))"
   ],
   "metadata": {
    "collapsed": false,
    "ExecuteTime": {
     "end_time": "2023-11-27T15:33:28.006467300Z",
     "start_time": "2023-11-27T15:33:27.861859800Z"
    }
   }
  },
  {
   "cell_type": "code",
   "execution_count": 45,
   "outputs": [],
   "source": [
    "with mlflow.start_run(nested=True):\n",
    "\n",
    "    best_params = study_log_reg.best_params\n",
    "    best_score = study_log_reg.best_value\n",
    "    mlflow.log_params(best_params)\n",
    "\n",
    "    log_reg_pipe = Pipeline([\n",
    "        ('preprocessor', preprocessor),\n",
    "        ('model', LogisticRegression(**best_params,\n",
    "                                     class_weight='balanced',\n",
    "                                     random_state=12345))\n",
    "    ])\n",
    "\n",
    "    log_reg_pipe.fit(X_train, y_train)\n",
    "\n",
    "    pred_proba = log_reg_pipe.predict_proba(X_test)[:, 1]\n",
    "    roc_auc = roc_auc_score(y_test, pred_proba)\n",
    "    \n",
    "    mlflow.log_metrics({\n",
    "        'f1_cv': best_score,\n",
    "        'roc_auc': roc_auc,\n",
    "        'balanced_accuracy': balanced_accuracy_score(y_test, np.round(pred_proba, 0)),\n",
    "        'f1': f1_score(y_test, np.round(pred_proba, 0))\n",
    "    })\n",
    "    \n",
    "    mlflow.sklearn.log_model(log_reg_pipe, 'log_reg_pipeline_class_weight')"
   ],
   "metadata": {
    "collapsed": false,
    "ExecuteTime": {
     "end_time": "2023-11-27T15:33:35.096535500Z",
     "start_time": "2023-11-27T15:33:27.907411Z"
    }
   }
  },
  {
   "cell_type": "markdown",
   "source": [
    "### 3.1.4 Метод опорных векторов"
   ],
   "metadata": {
    "collapsed": false
   }
  },
  {
   "cell_type": "code",
   "execution_count": 46,
   "outputs": [],
   "source": [
    "def optuna_optimize(trial):\n",
    "\n",
    "    param = {\n",
    "        'C': trial.suggest_float('C', 0.001, 200)  # какие значения может принимать С \n",
    "    }\n",
    " \n",
    "    estimator = SVC(**param, \n",
    "                    class_weight='balanced',\n",
    "                    random_state=12345,\n",
    "                    probability=True)\n",
    "    \n",
    "    svc_pipe = Pipeline([\n",
    "        ('preprocessor', preprocessor),\n",
    "        ('model', estimator)\n",
    "    ])\n",
    "    \n",
    "    score = cross_val_score(svc_pipe, X_train, y_train, cv=5, scoring='f1').mean()\n",
    "    return score"
   ],
   "metadata": {
    "collapsed": false,
    "ExecuteTime": {
     "end_time": "2023-11-27T15:33:35.205827200Z",
     "start_time": "2023-11-27T15:33:35.100550800Z"
    }
   }
  },
  {
   "cell_type": "code",
   "execution_count": 47,
   "outputs": [
    {
     "name": "stderr",
     "output_type": "stream",
     "text": [
      "[I 2023-11-27 18:33:35,137] A new study created in memory with name: SVC Optuna Optimization Class Weight\n"
     ]
    }
   ],
   "source": [
    "study_svc = optuna.create_study(study_name=\"SVC Optuna Optimization Class Weight\",\n",
    "                                    direction='maximize')"
   ],
   "metadata": {
    "collapsed": false,
    "ExecuteTime": {
     "end_time": "2023-11-27T15:33:35.207852800Z",
     "start_time": "2023-11-27T15:33:35.130320Z"
    }
   }
  },
  {
   "cell_type": "code",
   "execution_count": 48,
   "outputs": [
    {
     "name": "stderr",
     "output_type": "stream",
     "text": [
      "[I 2023-11-27 18:35:26,996] Trial 0 finished with value: 0.5428718808424785 and parameters: {'C': 43.18733270095023}. Best is trial 0 with value: 0.5428718808424785.\n",
      "[I 2023-11-27 18:37:57,194] Trial 1 finished with value: 0.5222251165833668 and parameters: {'C': 92.59268626953713}. Best is trial 0 with value: 0.5428718808424785.\n",
      "[I 2023-11-27 18:41:17,510] Trial 2 finished with value: 0.5122732258725616 and parameters: {'C': 173.54116214747552}. Best is trial 0 with value: 0.5428718808424785.\n",
      "[I 2023-11-27 18:42:52,742] Trial 3 finished with value: 0.5545596719380078 and parameters: {'C': 24.04447129961635}. Best is trial 3 with value: 0.5545596719380078.\n",
      "[I 2023-11-27 18:45:59,034] Trial 4 finished with value: 0.5114930159050126 and parameters: {'C': 149.75692923081712}. Best is trial 3 with value: 0.5545596719380078.\n",
      "[I 2023-11-27 18:48:13,095] Trial 5 finished with value: 0.5336372873845594 and parameters: {'C': 71.1741081338911}. Best is trial 3 with value: 0.5545596719380078.\n",
      "[I 2023-11-27 18:51:07,250] Trial 6 finished with value: 0.5110273049831343 and parameters: {'C': 130.27983408386424}. Best is trial 3 with value: 0.5545596719380078.\n",
      "[I 2023-11-27 18:53:55,168] Trial 7 finished with value: 0.5115920817969795 and parameters: {'C': 121.66080591643619}. Best is trial 3 with value: 0.5545596719380078.\n",
      "[I 2023-11-27 18:56:06,615] Trial 8 finished with value: 0.5340015425332213 and parameters: {'C': 66.51818789243063}. Best is trial 3 with value: 0.5545596719380078.\n",
      "[I 2023-11-27 18:57:33,251] Trial 9 finished with value: 0.5612429065206019 and parameters: {'C': 15.462662598138898}. Best is trial 9 with value: 0.5612429065206019.\n",
      "[I 2023-11-27 18:58:59,609] Trial 10 finished with value: 0.5624446225352122 and parameters: {'C': 14.267122027840411}. Best is trial 10 with value: 0.5624446225352122.\n",
      "[I 2023-11-27 19:00:18,214] Trial 11 finished with value: 0.57177760371297 and parameters: {'C': 5.8687642607713695}. Best is trial 11 with value: 0.57177760371297.\n",
      "[I 2023-11-27 19:02:06,163] Trial 12 finished with value: 0.5150846264324513 and parameters: {'C': 0.020124922520494692}. Best is trial 11 with value: 0.57177760371297.\n",
      "[I 2023-11-27 19:03:52,165] Trial 13 finished with value: 0.546596146805891 and parameters: {'C': 36.581679007492774}. Best is trial 11 with value: 0.57177760371297.\n",
      "[I 2023-11-27 19:05:09,067] Trial 14 finished with value: 0.5774330278841948 and parameters: {'C': 1.4439931417430163}. Best is trial 14 with value: 0.5774330278841948.\n",
      "[I 2023-11-27 19:06:25,591] Trial 15 finished with value: 0.5784367662565766 and parameters: {'C': 2.115205497498029}. Best is trial 15 with value: 0.5784367662565766.\n",
      "[I 2023-11-27 19:08:23,307] Trial 16 finished with value: 0.5384587606713158 and parameters: {'C': 51.93068850266178}. Best is trial 15 with value: 0.5784367662565766.\n",
      "[I 2023-11-27 19:10:04,856] Trial 17 finished with value: 0.5476048478545517 and parameters: {'C': 32.23202505055303}. Best is trial 15 with value: 0.5784367662565766.\n",
      "[I 2023-11-27 19:11:21,284] Trial 18 finished with value: 0.5787440672765978 and parameters: {'C': 1.5440010323379312}. Best is trial 18 with value: 0.5787440672765978.\n",
      "[I 2023-11-27 19:13:23,419] Trial 19 finished with value: 0.5374044809919126 and parameters: {'C': 57.22491725437923}. Best is trial 18 with value: 0.5787440672765978.\n",
      "[I 2023-11-27 19:15:44,647] Trial 20 finished with value: 0.5230968951505097 and parameters: {'C': 84.03270335155827}. Best is trial 18 with value: 0.5787440672765978.\n",
      "[I 2023-11-27 19:17:00,947] Trial 21 finished with value: 0.5790638566280234 and parameters: {'C': 2.393187279929207}. Best is trial 21 with value: 0.5790638566280234.\n",
      "[I 2023-11-27 19:18:39,372] Trial 22 finished with value: 0.5502893689467813 and parameters: {'C': 28.60651718348955}. Best is trial 21 with value: 0.5790638566280234.\n",
      "[I 2023-11-27 19:20:13,600] Trial 23 finished with value: 0.5551596544566971 and parameters: {'C': 23.754855852072712}. Best is trial 21 with value: 0.5790638566280234.\n",
      "[I 2023-11-27 19:22:07,591] Trial 24 finished with value: 0.5397939405863831 and parameters: {'C': 47.260457233610815}. Best is trial 21 with value: 0.5790638566280234.\n",
      "[I 2023-11-27 19:23:31,798] Trial 25 finished with value: 0.5620909692358471 and parameters: {'C': 12.868772780626827}. Best is trial 21 with value: 0.5790638566280234.\n",
      "[I 2023-11-27 19:25:14,557] Trial 26 finished with value: 0.5476354824211467 and parameters: {'C': 33.58782746288777}. Best is trial 21 with value: 0.5790638566280234.\n",
      "[I 2023-11-27 19:26:30,545] Trial 27 finished with value: 0.5785040098163157 and parameters: {'C': 2.226869365292093}. Best is trial 21 with value: 0.5790638566280234.\n",
      "[I 2023-11-27 19:28:00,498] Trial 28 finished with value: 0.5592160134194593 and parameters: {'C': 19.174088261172482}. Best is trial 21 with value: 0.5790638566280234.\n",
      "[I 2023-11-27 19:29:45,614] Trial 29 finished with value: 0.5467306899848647 and parameters: {'C': 36.794122913000066}. Best is trial 21 with value: 0.5790638566280234.\n",
      "[I 2023-11-27 19:31:38,869] Trial 30 finished with value: 0.5397939405863831 and parameters: {'C': 47.367058054739786}. Best is trial 21 with value: 0.5790638566280234.\n",
      "[I 2023-11-27 19:32:59,270] Trial 31 finished with value: 0.5675437884613391 and parameters: {'C': 0.5345034514633662}. Best is trial 21 with value: 0.5790638566280234.\n",
      "[I 2023-11-27 19:34:26,560] Trial 32 finished with value: 0.5603946098104833 and parameters: {'C': 16.233764676651226}. Best is trial 21 with value: 0.5790638566280234.\n",
      "[I 2023-11-27 19:35:48,644] Trial 33 finished with value: 0.5654412121938135 and parameters: {'C': 10.83054117734877}. Best is trial 21 with value: 0.5790638566280234.\n",
      "[I 2023-11-27 19:37:38,591] Trial 34 finished with value: 0.5420883766826291 and parameters: {'C': 41.78304018243885}. Best is trial 21 with value: 0.5790638566280234.\n",
      "[I 2023-11-27 19:39:14,636] Trial 35 finished with value: 0.5519971942857389 and parameters: {'C': 26.211618566272687}. Best is trial 21 with value: 0.5790638566280234.\n",
      "[I 2023-11-27 19:40:34,991] Trial 36 finished with value: 0.5691442648356827 and parameters: {'C': 9.093926711896247}. Best is trial 21 with value: 0.5790638566280234.\n",
      "[I 2023-11-27 19:42:05,953] Trial 37 finished with value: 0.5562412479366248 and parameters: {'C': 20.37016885531938}. Best is trial 21 with value: 0.5790638566280234.\n",
      "[I 2023-11-27 19:43:26,314] Trial 38 finished with value: 0.5671965192666669 and parameters: {'C': 0.5015772422622851}. Best is trial 21 with value: 0.5790638566280234.\n",
      "[I 2023-11-27 19:45:02,478] Trial 39 finished with value: 0.550457782738726 and parameters: {'C': 26.39123046637103}. Best is trial 21 with value: 0.5790638566280234.\n",
      "[I 2023-11-27 19:46:51,107] Trial 40 finished with value: 0.5421033963207138 and parameters: {'C': 41.34789881948873}. Best is trial 21 with value: 0.5790638566280234.\n",
      "[I 2023-11-27 19:48:08,206] Trial 41 finished with value: 0.5759272996171256 and parameters: {'C': 1.2195496520829827}. Best is trial 21 with value: 0.5790638566280234.\n",
      "[I 2023-11-27 19:49:29,981] Trial 42 finished with value: 0.5664310589218525 and parameters: {'C': 10.632439929456764}. Best is trial 21 with value: 0.5790638566280234.\n",
      "[I 2023-11-27 19:50:52,541] Trial 43 finished with value: 0.5687016083334546 and parameters: {'C': 9.804989316326122}. Best is trial 21 with value: 0.5790638566280234.\n",
      "[I 2023-11-27 19:52:24,366] Trial 44 finished with value: 0.5570402649934202 and parameters: {'C': 19.75800199910031}. Best is trial 21 with value: 0.5790638566280234.\n",
      "[I 2023-11-27 19:53:43,539] Trial 45 finished with value: 0.569146943861204 and parameters: {'C': 7.540770933180424}. Best is trial 21 with value: 0.5790638566280234.\n",
      "[I 2023-11-27 19:55:18,229] Trial 46 finished with value: 0.5542037285126136 and parameters: {'C': 24.46340562134064}. Best is trial 21 with value: 0.5790638566280234.\n",
      "[I 2023-11-27 19:56:58,923] Trial 47 finished with value: 0.5471689285325101 and parameters: {'C': 31.792656484328226}. Best is trial 21 with value: 0.5790638566280234.\n",
      "[I 2023-11-27 19:58:22,028] Trial 48 finished with value: 0.5762669775670088 and parameters: {'C': 1.2376330424812991}. Best is trial 21 with value: 0.5790638566280234.\n",
      "[I 2023-11-27 20:00:34,111] Trial 49 finished with value: 0.535765088457194 and parameters: {'C': 59.28979521492156}. Best is trial 21 with value: 0.5790638566280234.\n",
      "[I 2023-11-27 20:02:07,216] Trial 50 finished with value: 0.5611075322695647 and parameters: {'C': 18.45457489912871}. Best is trial 21 with value: 0.5790638566280234.\n",
      "[I 2023-11-27 20:03:30,677] Trial 51 finished with value: 0.5682681585799212 and parameters: {'C': 0.5473589981623473}. Best is trial 21 with value: 0.5790638566280234.\n",
      "[I 2023-11-27 20:04:51,991] Trial 52 finished with value: 0.5702129051305488 and parameters: {'C': 6.844655773591268}. Best is trial 21 with value: 0.5790638566280234.\n",
      "[I 2023-11-27 20:06:18,853] Trial 53 finished with value: 0.5625937563831941 and parameters: {'C': 12.16424524383942}. Best is trial 21 with value: 0.5790638566280234.\n",
      "[I 2023-11-27 20:08:18,668] Trial 54 finished with value: 0.502425913960818 and parameters: {'C': 0.009104155400458058}. Best is trial 21 with value: 0.5790638566280234.\n",
      "[I 2023-11-27 20:09:48,321] Trial 55 finished with value: 0.5612437006613933 and parameters: {'C': 15.687427650302821}. Best is trial 21 with value: 0.5790638566280234.\n",
      "[I 2023-11-27 20:11:30,292] Trial 56 finished with value: 0.5489439799849074 and parameters: {'C': 29.129260768199728}. Best is trial 21 with value: 0.5790638566280234.\n",
      "[I 2023-11-27 20:12:51,794] Trial 57 finished with value: 0.5704039950095192 and parameters: {'C': 7.0365378147819095}. Best is trial 21 with value: 0.5790638566280234.\n",
      "[I 2023-11-27 20:14:25,719] Trial 58 finished with value: 0.5570402649934202 and parameters: {'C': 19.82226993648154}. Best is trial 21 with value: 0.5790638566280234.\n",
      "[I 2023-11-27 20:16:14,366] Trial 59 finished with value: 0.5467306899848647 and parameters: {'C': 36.714057001687436}. Best is trial 21 with value: 0.5790638566280234.\n",
      "[I 2023-11-27 20:18:54,581] Trial 60 finished with value: 0.515783574244441 and parameters: {'C': 103.907614789656}. Best is trial 21 with value: 0.5790638566280234.\n",
      "[I 2023-11-27 20:20:14,583] Trial 61 finished with value: 0.5750070624264302 and parameters: {'C': 4.701469830666177}. Best is trial 21 with value: 0.5790638566280234.\n",
      "[I 2023-11-27 20:21:42,632] Trial 62 finished with value: 0.5618473834690774 and parameters: {'C': 13.757878224094288}. Best is trial 21 with value: 0.5790638566280234.\n",
      "[I 2023-11-27 20:23:03,530] Trial 63 finished with value: 0.5722763723828566 and parameters: {'C': 6.255718298494453}. Best is trial 21 with value: 0.5790638566280234.\n",
      "[I 2023-11-27 20:24:33,330] Trial 64 finished with value: 0.5558936481180922 and parameters: {'C': 0.16832542440533582}. Best is trial 21 with value: 0.5790638566280234.\n",
      "[I 2023-11-27 20:26:09,729] Trial 65 finished with value: 0.5558423270055227 and parameters: {'C': 22.942242156327097}. Best is trial 21 with value: 0.5790638566280234.\n",
      "[I 2023-11-27 20:27:39,469] Trial 66 finished with value: 0.5603946098104833 and parameters: {'C': 16.17325137362173}. Best is trial 21 with value: 0.5790638566280234.\n",
      "[I 2023-11-27 20:29:22,533] Trial 67 finished with value: 0.5486987973995081 and parameters: {'C': 30.148996731121258}. Best is trial 21 with value: 0.5790638566280234.\n",
      "[I 2023-11-27 20:30:43,913] Trial 68 finished with value: 0.5702641892687799 and parameters: {'C': 7.010029527657925}. Best is trial 21 with value: 0.5790638566280234.\n",
      "[I 2023-11-27 20:32:12,403] Trial 69 finished with value: 0.5617124464148249 and parameters: {'C': 13.637947171832037}. Best is trial 21 with value: 0.5790638566280234.\n",
      "[I 2023-11-27 20:33:49,948] Trial 70 finished with value: 0.55479477389904 and parameters: {'C': 23.734399076610877}. Best is trial 21 with value: 0.5790638566280234.\n",
      "[I 2023-11-27 20:35:09,546] Trial 71 finished with value: 0.5772435047590788 and parameters: {'C': 4.131147266151876}. Best is trial 21 with value: 0.5790638566280234.\n",
      "[I 2023-11-27 20:36:29,884] Trial 72 finished with value: 0.5733380983942707 and parameters: {'C': 5.2355327040179835}. Best is trial 21 with value: 0.5790638566280234.\n",
      "[I 2023-11-27 20:37:55,804] Trial 73 finished with value: 0.5629236075632172 and parameters: {'C': 12.15298788986928}. Best is trial 21 with value: 0.5790638566280234.\n",
      "[I 2023-11-27 20:39:14,917] Trial 74 finished with value: 0.5779336761114111 and parameters: {'C': 3.741635470133577}. Best is trial 21 with value: 0.5790638566280234.\n",
      "[I 2023-11-27 20:40:34,894] Trial 75 finished with value: 0.5727779250195669 and parameters: {'C': 5.060873193451549}. Best is trial 21 with value: 0.5790638566280234.\n",
      "[I 2023-11-27 20:42:06,832] Trial 76 finished with value: 0.5600847498244985 and parameters: {'C': 17.847108292731125}. Best is trial 21 with value: 0.5790638566280234.\n",
      "[I 2023-11-27 20:43:32,748] Trial 77 finished with value: 0.5633669078945396 and parameters: {'C': 11.672085395238167}. Best is trial 21 with value: 0.5790638566280234.\n",
      "[I 2023-11-27 20:45:10,094] Trial 78 finished with value: 0.5547847149567822 and parameters: {'C': 23.63472360111286}. Best is trial 21 with value: 0.5790638566280234.\n",
      "[I 2023-11-27 20:46:30,045] Trial 79 finished with value: 0.5768382420471883 and parameters: {'C': 4.102727858717403}. Best is trial 21 with value: 0.5790638566280234.\n",
      "[I 2023-11-27 20:48:16,718] Trial 80 finished with value: 0.5477888926305029 and parameters: {'C': 34.05409457345861}. Best is trial 21 with value: 0.5790638566280234.\n",
      "[I 2023-11-27 20:49:36,020] Trial 81 finished with value: 0.575753479150636 and parameters: {'C': 4.559980407253823}. Best is trial 21 with value: 0.5790638566280234.\n",
      "[I 2023-11-27 20:51:01,490] Trial 82 finished with value: 0.5687205640743453 and parameters: {'C': 9.33920982718517}. Best is trial 21 with value: 0.5790638566280234.\n",
      "[I 2023-11-27 20:52:33,669] Trial 83 finished with value: 0.5607988539868786 and parameters: {'C': 18.125086633701564}. Best is trial 21 with value: 0.5790638566280234.\n",
      "[I 2023-11-27 20:53:56,703] Trial 84 finished with value: 0.5714054779476265 and parameters: {'C': 0.6160992835458377}. Best is trial 21 with value: 0.5790638566280234.\n",
      "[I 2023-11-27 20:55:25,201] Trial 85 finished with value: 0.5624446225352122 and parameters: {'C': 14.23817607777542}. Best is trial 21 with value: 0.5790638566280234.\n",
      "[I 2023-11-27 20:57:06,025] Trial 86 finished with value: 0.5506303463188259 and parameters: {'C': 27.173076928665907}. Best is trial 21 with value: 0.5790638566280234.\n",
      "[I 2023-11-27 20:58:30,411] Trial 87 finished with value: 0.5671643838401688 and parameters: {'C': 10.057227719147132}. Best is trial 21 with value: 0.5790638566280234.\n",
      "[I 2023-11-27 20:59:49,507] Trial 88 finished with value: 0.5779336761114111 and parameters: {'C': 3.7847905833585944}. Best is trial 21 with value: 0.5790638566280234.\n",
      "[I 2023-11-27 21:01:09,066] Trial 89 finished with value: 0.5758940448325289 and parameters: {'C': 4.513189472001274}. Best is trial 21 with value: 0.5790638566280234.\n",
      "[I 2023-11-27 21:02:45,093] Trial 90 finished with value: 0.5560662730811873 and parameters: {'C': 20.74040449941063}. Best is trial 21 with value: 0.5790638566280234.\n",
      "[I 2023-11-27 21:04:04,103] Trial 91 finished with value: 0.5776694249257049 and parameters: {'C': 3.4816605040189357}. Best is trial 21 with value: 0.5790638566280234.\n",
      "[I 2023-11-27 21:05:27,308] Trial 92 finished with value: 0.5698996907836574 and parameters: {'C': 8.571598282648644}. Best is trial 21 with value: 0.5790638566280234.\n",
      "[I 2023-11-27 21:06:46,728] Trial 93 finished with value: 0.5758344815162251 and parameters: {'C': 4.5865534734627005}. Best is trial 21 with value: 0.5790638566280234.\n",
      "[I 2023-11-27 21:08:15,939] Trial 94 finished with value: 0.5610993328708136 and parameters: {'C': 15.543906628837982}. Best is trial 21 with value: 0.5790638566280234.\n",
      "[I 2023-11-27 21:09:40,452] Trial 95 finished with value: 0.5650914417465411 and parameters: {'C': 10.869864459291762}. Best is trial 21 with value: 0.5790638566280234.\n",
      "[I 2023-11-27 21:10:59,636] Trial 96 finished with value: 0.5783669028353942 and parameters: {'C': 2.743915519874664}. Best is trial 21 with value: 0.5790638566280234.\n",
      "[I 2023-11-27 21:12:24,353] Trial 97 finished with value: 0.5675587415240593 and parameters: {'C': 0.4389918063724634}. Best is trial 21 with value: 0.5790638566280234.\n",
      "[I 2023-11-27 21:13:54,941] Trial 98 finished with value: 0.559429300669579 and parameters: {'C': 16.459273590699894}. Best is trial 21 with value: 0.5790638566280234.\n",
      "[I 2023-11-27 21:15:18,172] Trial 99 finished with value: 0.5698303166373606 and parameters: {'C': 8.816998922038424}. Best is trial 21 with value: 0.5790638566280234.\n"
     ]
    }
   ],
   "source": [
    "study_svc.optimize(optuna_optimize, n_trials=100)"
   ],
   "metadata": {
    "collapsed": false,
    "ExecuteTime": {
     "end_time": "2023-11-27T18:15:18.215292100Z",
     "start_time": "2023-11-27T15:33:35.162942800Z"
    }
   }
  },
  {
   "cell_type": "code",
   "execution_count": 49,
   "outputs": [
    {
     "name": "stdout",
     "output_type": "stream",
     "text": [
      "Наилучшие значения гиперпараметров SVC: {'C': 2.393187279929207}\n",
      "f1_score на обучающем наборе: 0.579\n"
     ]
    }
   ],
   "source": [
    "print(\"Наилучшие значения гиперпараметров SVC: {}\".format(study_svc.best_params))\n",
    "print(\"f1_score на обучающем наборе: {:.3f}\". format(study_svc.best_value))"
   ],
   "metadata": {
    "collapsed": false,
    "ExecuteTime": {
     "end_time": "2023-11-27T18:15:18.389740500Z",
     "start_time": "2023-11-27T18:15:18.206594500Z"
    }
   }
  },
  {
   "cell_type": "code",
   "execution_count": 51,
   "outputs": [],
   "source": [
    "with mlflow.start_run(nested=True):\n",
    "\n",
    "    best_params = study_svc.best_params\n",
    "    best_score = study_svc.best_value\n",
    "    mlflow.log_params(best_params)\n",
    "\n",
    "    svc_pipe = Pipeline([\n",
    "        ('preprocessor', preprocessor),\n",
    "        ('model', SVC(**best_params,\n",
    "                      class_weight='balanced',\n",
    "                      random_state=12345,\n",
    "                      probability=True))\n",
    "    ])\n",
    "\n",
    "    svc_pipe.fit(X_train, y_train)\n",
    "\n",
    "    pred_proba = svc_pipe.predict_proba(X_test)[:, 1]\n",
    "    roc_auc = roc_auc_score(y_test, pred_proba)\n",
    "    \n",
    "    mlflow.log_metrics({\n",
    "        'f1_cv': best_score,\n",
    "        'roc_auc': roc_auc,\n",
    "        'balanced_accuracy': balanced_accuracy_score(y_test, np.round(pred_proba, 0)),\n",
    "        'f1': f1_score(y_test, np.round(pred_proba, 0))\n",
    "    })\n",
    "    \n",
    "    mlflow.sklearn.log_model(svc_pipe, 'svc_pipeline_class_weight')"
   ],
   "metadata": {
    "collapsed": false,
    "ExecuteTime": {
     "end_time": "2023-11-27T18:23:33.753852200Z",
     "start_time": "2023-11-27T18:22:58.385479100Z"
    }
   }
  },
  {
   "cell_type": "markdown",
   "source": [
    "## 3.2 Генерация синтетических данных (SMOTE)\n",
    "### 3.2.1 Модель XGBoost"
   ],
   "metadata": {
    "collapsed": false
   }
  },
  {
   "cell_type": "code",
   "execution_count": 52,
   "outputs": [],
   "source": [
    "cat_pipeline = Pipeline([\n",
    "    ('enc', OneHotEncoder(handle_unknown='error', drop='first'))\n",
    "])\n",
    "\n",
    "num_pipeline = Pipeline([\n",
    "    ('imp', SimpleImputer(fill_value=-1, add_indicator=True)),\n",
    "    ('pt', PowerTransformer())\n",
    "])\n",
    "\n",
    "preprocessor = ColumnTransformer([\n",
    "    (\"cat\", cat_pipeline, categorical_features),\n",
    "    (\"num\", num_pipeline, numeric_features)\n",
    "], remainder='passthrough')"
   ],
   "metadata": {
    "collapsed": false,
    "ExecuteTime": {
     "end_time": "2023-11-27T18:23:45.553157500Z",
     "start_time": "2023-11-27T18:23:45.372987Z"
    }
   }
  },
  {
   "cell_type": "code",
   "execution_count": 53,
   "outputs": [],
   "source": [
    "def optuna_optimize(trial):\n",
    "    param = {\n",
    "        'n_estimators': trial.suggest_int('n_estimators', 50, 250),\n",
    "        'max_depth': trial.suggest_int('max_depth', 2, 10),\n",
    "        'eta': trial.suggest_float('eta', 0.01, 1.5)\n",
    "    }\n",
    "\n",
    "    estimator = xgb.XGBClassifier(**param,\n",
    "                                  random_state=12345)\n",
    "\n",
    "    xgb_pipe = Pipeline([\n",
    "        ('preprocessor', preprocessor),\n",
    "        ('smote', SMOTE(random_state=12345)),\n",
    "        ('model', estimator)\n",
    "    ])\n",
    "\n",
    "    score = cross_val_score(xgb_pipe, X_train, y_train, cv=5, scoring='f1').mean()\n",
    "    return score"
   ],
   "metadata": {
    "collapsed": false,
    "ExecuteTime": {
     "end_time": "2023-11-27T18:23:47.094604800Z",
     "start_time": "2023-11-27T18:23:47.024705Z"
    }
   }
  },
  {
   "cell_type": "code",
   "execution_count": 54,
   "outputs": [
    {
     "name": "stderr",
     "output_type": "stream",
     "text": [
      "[I 2023-11-27 21:23:49,524] A new study created in memory with name: XGBoost Optuna Optimization SMOTE\n"
     ]
    }
   ],
   "source": [
    "study_xgb_smote = optuna.create_study(study_name=\"XGBoost Optuna Optimization SMOTE\",\n",
    "                                direction='maximize')"
   ],
   "metadata": {
    "collapsed": false,
    "ExecuteTime": {
     "end_time": "2023-11-27T18:23:49.581274300Z",
     "start_time": "2023-11-27T18:23:49.518461800Z"
    }
   }
  },
  {
   "cell_type": "code",
   "execution_count": 55,
   "outputs": [
    {
     "name": "stderr",
     "output_type": "stream",
     "text": [
      "[I 2023-11-27 21:23:59,829] Trial 0 finished with value: 0.5898452232180633 and parameters: {'n_estimators': 134, 'max_depth': 6, 'eta': 0.18264227122182547}. Best is trial 0 with value: 0.5898452232180633.\n",
      "[I 2023-11-27 21:24:03,300] Trial 1 finished with value: 0.603950534712141 and parameters: {'n_estimators': 190, 'max_depth': 3, 'eta': 0.287909568360685}. Best is trial 1 with value: 0.603950534712141.\n",
      "[I 2023-11-27 21:24:20,790] Trial 2 finished with value: 0.5591783265483217 and parameters: {'n_estimators': 116, 'max_depth': 10, 'eta': 0.7906725167664105}. Best is trial 1 with value: 0.603950534712141.\n",
      "[I 2023-11-27 21:24:42,979] Trial 3 finished with value: 0.5760625055682145 and parameters: {'n_estimators': 189, 'max_depth': 7, 'eta': 0.16877814376297545}. Best is trial 1 with value: 0.603950534712141.\n",
      "[I 2023-11-27 21:24:54,417] Trial 4 finished with value: 0.5503809869865706 and parameters: {'n_estimators': 206, 'max_depth': 4, 'eta': 0.8619150526613939}. Best is trial 1 with value: 0.603950534712141.\n",
      "[I 2023-11-27 21:25:08,259] Trial 5 finished with value: 0.5446359533378122 and parameters: {'n_estimators': 66, 'max_depth': 8, 'eta': 1.065790239601105}. Best is trial 1 with value: 0.603950534712141.\n",
      "[I 2023-11-27 21:25:12,026] Trial 6 finished with value: 0.5628651491783568 and parameters: {'n_estimators': 127, 'max_depth': 6, 'eta': 0.5078235761256433}. Best is trial 1 with value: 0.603950534712141.\n",
      "[I 2023-11-27 21:25:14,720] Trial 7 finished with value: 0.6184225487696369 and parameters: {'n_estimators': 234, 'max_depth': 2, 'eta': 0.1929323527580701}. Best is trial 7 with value: 0.6184225487696369.\n",
      "[I 2023-11-27 21:25:20,843] Trial 8 finished with value: 0.5544288121160108 and parameters: {'n_estimators': 165, 'max_depth': 10, 'eta': 0.6301556554948138}. Best is trial 7 with value: 0.6184225487696369.\n",
      "[I 2023-11-27 21:25:26,658] Trial 9 finished with value: 0.5511811977140615 and parameters: {'n_estimators': 173, 'max_depth': 8, 'eta': 0.9043553298376785}. Best is trial 7 with value: 0.6184225487696369.\n",
      "[I 2023-11-27 21:25:29,473] Trial 10 finished with value: 0.5679980033715865 and parameters: {'n_estimators': 247, 'max_depth': 2, 'eta': 1.448817487000155}. Best is trial 7 with value: 0.6184225487696369.\n",
      "[I 2023-11-27 21:25:32,136] Trial 11 finished with value: 0.5885855565967562 and parameters: {'n_estimators': 239, 'max_depth': 2, 'eta': 0.01157206847936093}. Best is trial 7 with value: 0.6184225487696369.\n",
      "[I 2023-11-27 21:25:35,710] Trial 12 finished with value: 0.5844749499441846 and parameters: {'n_estimators': 207, 'max_depth': 4, 'eta': 0.3424270697156091}. Best is trial 7 with value: 0.6184225487696369.\n",
      "[I 2023-11-27 21:25:39,567] Trial 13 finished with value: 0.5766326305274078 and parameters: {'n_estimators': 221, 'max_depth': 4, 'eta': 0.44046844865921786}. Best is trial 7 with value: 0.6184225487696369.\n",
      "[I 2023-11-27 21:25:42,610] Trial 14 finished with value: 0.5878431073046386 and parameters: {'n_estimators': 223, 'max_depth': 3, 'eta': 0.29612335710508464}. Best is trial 7 with value: 0.6184225487696369.\n",
      "[I 2023-11-27 21:25:45,428] Trial 15 finished with value: 0.5900421639315652 and parameters: {'n_estimators': 183, 'max_depth': 3, 'eta': 0.012590213778013337}. Best is trial 7 with value: 0.6184225487696369.\n",
      "[I 2023-11-27 21:25:48,036] Trial 16 finished with value: 0.5745608774431427 and parameters: {'n_estimators': 88, 'max_depth': 5, 'eta': 0.5621597080269198}. Best is trial 7 with value: 0.6184225487696369.\n",
      "[I 2023-11-27 21:25:50,220] Trial 17 finished with value: 0.6149575625454726 and parameters: {'n_estimators': 144, 'max_depth': 2, 'eta': 0.3444292524782901}. Best is trial 7 with value: 0.6184225487696369.\n",
      "[I 2023-11-27 21:25:52,484] Trial 18 finished with value: 0.6194794336412903 and parameters: {'n_estimators': 154, 'max_depth': 2, 'eta': 0.3904240878264681}. Best is trial 18 with value: 0.6194794336412903.\n",
      "[I 2023-11-27 21:25:54,594] Trial 19 finished with value: 0.5779855949954803 and parameters: {'n_estimators': 50, 'max_depth': 5, 'eta': 0.6918141309818395}. Best is trial 18 with value: 0.6194794336412903.\n",
      "[I 2023-11-27 21:25:56,406] Trial 20 finished with value: 0.6204529129052082 and parameters: {'n_estimators': 90, 'max_depth': 2, 'eta': 0.482128175426056}. Best is trial 20 with value: 0.6204529129052082.\n",
      "[I 2023-11-27 21:25:58,317] Trial 21 finished with value: 0.6119588342837917 and parameters: {'n_estimators': 101, 'max_depth': 2, 'eta': 0.476950544338004}. Best is trial 20 with value: 0.6204529129052082.\n",
      "[I 2023-11-27 21:26:00,361] Trial 22 finished with value: 0.6065564793023488 and parameters: {'n_estimators': 82, 'max_depth': 3, 'eta': 0.45682499467834203}. Best is trial 20 with value: 0.6204529129052082.\n",
      "[I 2023-11-27 21:26:02,660] Trial 23 finished with value: 0.6088466558126744 and parameters: {'n_estimators': 153, 'max_depth': 2, 'eta': 0.16541002152439632}. Best is trial 20 with value: 0.6204529129052082.\n",
      "[I 2023-11-27 21:26:04,954] Trial 24 finished with value: 0.5811197392572116 and parameters: {'n_estimators': 114, 'max_depth': 3, 'eta': 0.5868642263383846}. Best is trial 20 with value: 0.6204529129052082.\n",
      "[I 2023-11-27 21:26:07,278] Trial 25 finished with value: 0.5981313164304198 and parameters: {'n_estimators': 91, 'max_depth': 4, 'eta': 0.3853349719231407}. Best is trial 20 with value: 0.6204529129052082.\n",
      "[I 2023-11-27 21:26:10,886] Trial 26 finished with value: 0.571571965360553 and parameters: {'n_estimators': 153, 'max_depth': 5, 'eta': 0.5669143107295251}. Best is trial 20 with value: 0.6204529129052082.\n",
      "[I 2023-11-27 21:26:12,713] Trial 27 finished with value: 0.6169191826748381 and parameters: {'n_estimators': 67, 'max_depth': 2, 'eta': 0.2523471265012275}. Best is trial 20 with value: 0.6204529129052082.\n",
      "[I 2023-11-27 21:26:14,964] Trial 28 finished with value: 0.6012976271128812 and parameters: {'n_estimators': 107, 'max_depth': 3, 'eta': 0.4175070453702193}. Best is trial 20 with value: 0.6204529129052082.\n",
      "[I 2023-11-27 21:26:19,394] Trial 29 finished with value: 0.5800275574158562 and parameters: {'n_estimators': 135, 'max_depth': 7, 'eta': 0.19317398068657413}. Best is trial 20 with value: 0.6204529129052082.\n",
      "[I 2023-11-27 21:26:22,090] Trial 30 finished with value: 0.6207551249617239 and parameters: {'n_estimators': 129, 'max_depth': 4, 'eta': 0.11987733419035806}. Best is trial 30 with value: 0.6207551249617239.\n",
      "[I 2023-11-27 21:26:24,293] Trial 31 finished with value: 0.6105905808679932 and parameters: {'n_estimators': 132, 'max_depth': 2, 'eta': 0.09250671479181406}. Best is trial 30 with value: 0.6207551249617239.\n",
      "[I 2023-11-27 21:26:26,816] Trial 32 finished with value: 0.6202125060427268 and parameters: {'n_estimators': 164, 'max_depth': 3, 'eta': 0.2030240866698719}. Best is trial 30 with value: 0.6207551249617239.\n",
      "[I 2023-11-27 21:26:29,459] Trial 33 finished with value: 0.6263182616416261 and parameters: {'n_estimators': 171, 'max_depth': 3, 'eta': 0.11686014730847895}. Best is trial 33 with value: 0.6263182616416261.\n",
      "[I 2023-11-27 21:26:32,585] Trial 34 finished with value: 0.5934834351825422 and parameters: {'n_estimators': 173, 'max_depth': 4, 'eta': 0.2576724209419474}. Best is trial 33 with value: 0.6263182616416261.\n",
      "[I 2023-11-27 21:26:34,905] Trial 35 finished with value: 0.6172857076996371 and parameters: {'n_estimators': 123, 'max_depth': 3, 'eta': 0.08519559392221374}. Best is trial 33 with value: 0.6263182616416261.\n",
      "[I 2023-11-27 21:26:39,024] Trial 36 finished with value: 0.6103862397098418 and parameters: {'n_estimators': 202, 'max_depth': 5, 'eta': 0.09161769133814027}. Best is trial 33 with value: 0.6263182616416261.\n",
      "[I 2023-11-27 21:26:41,793] Trial 37 finished with value: 0.5937930129242657 and parameters: {'n_estimators': 142, 'max_depth': 4, 'eta': 0.2721919144048669}. Best is trial 33 with value: 0.6263182616416261.\n",
      "[I 2023-11-27 21:26:44,329] Trial 38 finished with value: 0.6189241241617386 and parameters: {'n_estimators': 165, 'max_depth': 3, 'eta': 0.17143792161057464}. Best is trial 33 with value: 0.6263182616416261.\n",
      "[I 2023-11-27 21:26:47,783] Trial 39 finished with value: 0.5778315562972212 and parameters: {'n_estimators': 196, 'max_depth': 4, 'eta': 0.32362195179196807}. Best is trial 33 with value: 0.6263182616416261.\n",
      "[I 2023-11-27 21:26:51,226] Trial 40 finished with value: 0.5813299991326616 and parameters: {'n_estimators': 119, 'max_depth': 6, 'eta': 0.2245531177888718}. Best is trial 33 with value: 0.6263182616416261.\n",
      "[I 2023-11-27 21:26:53,787] Trial 41 finished with value: 0.599916658082124 and parameters: {'n_estimators': 162, 'max_depth': 3, 'eta': 0.35416471981539777}. Best is trial 33 with value: 0.6263182616416261.\n",
      "[I 2023-11-27 21:26:56,039] Trial 42 finished with value: 0.615153750213189 and parameters: {'n_estimators': 156, 'max_depth': 2, 'eta': 0.13366093333999116}. Best is trial 33 with value: 0.6263182616416261.\n",
      "[I 2023-11-27 21:26:58,390] Trial 43 finished with value: 0.6171437352624914 and parameters: {'n_estimators': 181, 'max_depth': 2, 'eta': 0.22215628849695973}. Best is trial 33 with value: 0.6263182616416261.\n",
      "[I 2023-11-27 21:27:00,868] Trial 44 finished with value: 0.598102598056675 and parameters: {'n_estimators': 143, 'max_depth': 3, 'eta': 0.4243772718378511}. Best is trial 33 with value: 0.6263182616416261.\n",
      "[I 2023-11-27 21:27:07,903] Trial 45 finished with value: 0.5691732266366746 and parameters: {'n_estimators': 175, 'max_depth': 9, 'eta': 0.3154400401205719}. Best is trial 33 with value: 0.6263182616416261.\n",
      "[I 2023-11-27 21:27:10,703] Trial 46 finished with value: 0.5859729367644637 and parameters: {'n_estimators': 190, 'max_depth': 3, 'eta': 0.5052659686822544}. Best is trial 33 with value: 0.6263182616416261.\n",
      "[I 2023-11-27 21:27:13,011] Trial 47 finished with value: 0.607619184003884 and parameters: {'n_estimators': 166, 'max_depth': 2, 'eta': 0.13171112381394762}. Best is trial 33 with value: 0.6263182616416261.\n",
      "[I 2023-11-27 21:27:15,982] Trial 48 finished with value: 0.5945156672119069 and parameters: {'n_estimators': 131, 'max_depth': 4, 'eta': 0.0145084918530487}. Best is trial 33 with value: 0.6263182616416261.\n",
      "[I 2023-11-27 21:27:17,891] Trial 49 finished with value: 0.6061163080718175 and parameters: {'n_estimators': 79, 'max_depth': 3, 'eta': 0.38506684558555115}. Best is trial 33 with value: 0.6263182616416261.\n",
      "[I 2023-11-27 21:27:21,703] Trial 50 finished with value: 0.5824812997525489 and parameters: {'n_estimators': 105, 'max_depth': 7, 'eta': 0.24562781425678953}. Best is trial 33 with value: 0.6263182616416261.\n",
      "[I 2023-11-27 21:27:24,502] Trial 51 finished with value: 0.6203497355395207 and parameters: {'n_estimators': 182, 'max_depth': 3, 'eta': 0.18036869523000698}. Best is trial 33 with value: 0.6263182616416261.\n",
      "[I 2023-11-27 21:27:26,908] Trial 52 finished with value: 0.6159758249755332 and parameters: {'n_estimators': 183, 'max_depth': 2, 'eta': 0.27579531023975873}. Best is trial 33 with value: 0.6263182616416261.\n",
      "[I 2023-11-27 21:27:29,498] Trial 53 finished with value: 0.620360196446167 and parameters: {'n_estimators': 159, 'max_depth': 3, 'eta': 0.18445908517601048}. Best is trial 33 with value: 0.6263182616416261.\n",
      "[I 2023-11-27 21:27:33,035] Trial 54 finished with value: 0.5983354457156314 and parameters: {'n_estimators': 214, 'max_depth': 4, 'eta': 0.19076204498625304}. Best is trial 33 with value: 0.6263182616416261.\n",
      "[I 2023-11-27 21:27:35,560] Trial 55 finished with value: 0.6171595785961044 and parameters: {'n_estimators': 160, 'max_depth': 3, 'eta': 0.06908609917312006}. Best is trial 33 with value: 0.6263182616416261.\n",
      "[I 2023-11-27 21:27:39,444] Trial 56 finished with value: 0.5971879612249194 and parameters: {'n_estimators': 192, 'max_depth': 5, 'eta': 0.1405088878652179}. Best is trial 33 with value: 0.6263182616416261.\n",
      "[I 2023-11-27 21:27:42,429] Trial 57 finished with value: 0.6166513937705247 and parameters: {'n_estimators': 146, 'max_depth': 4, 'eta': 0.05645089147171706}. Best is trial 33 with value: 0.6263182616416261.\n",
      "[I 2023-11-27 21:27:45,063] Trial 58 finished with value: 0.6239558572507421 and parameters: {'n_estimators': 172, 'max_depth': 3, 'eta': 0.13859247226809301}. Best is trial 33 with value: 0.6263182616416261.\n",
      "[I 2023-11-27 21:27:47,729] Trial 59 finished with value: 0.6192033469407354 and parameters: {'n_estimators': 174, 'max_depth': 3, 'eta': 0.13270530123482596}. Best is trial 33 with value: 0.6263182616416261.\n",
      "[I 2023-11-27 21:27:51,509] Trial 60 finished with value: 0.6038576407569837 and parameters: {'n_estimators': 201, 'max_depth': 4, 'eta': 0.012217281027797733}. Best is trial 33 with value: 0.6263182616416261.\n",
      "[I 2023-11-27 21:27:54,298] Trial 61 finished with value: 0.5953297583765214 and parameters: {'n_estimators': 180, 'max_depth': 3, 'eta': 0.2992301989300711}. Best is trial 33 with value: 0.6263182616416261.\n",
      "[I 2023-11-27 21:27:56,972] Trial 62 finished with value: 0.6146082305937588 and parameters: {'n_estimators': 168, 'max_depth': 3, 'eta': 0.2181396547900709}. Best is trial 33 with value: 0.6263182616416261.\n",
      "[I 2023-11-27 21:27:59,175] Trial 63 finished with value: 0.6119580743792358 and parameters: {'n_estimators': 148, 'max_depth': 2, 'eta': 0.17863466677374734}. Best is trial 33 with value: 0.6263182616416261.\n",
      "[I 2023-11-27 21:28:01,051] Trial 64 finished with value: 0.6101774761016305 and parameters: {'n_estimators': 61, 'max_depth': 3, 'eta': 0.10416358779376832}. Best is trial 33 with value: 0.6263182616416261.\n",
      "[I 2023-11-27 21:28:03,462] Trial 65 finished with value: 0.6115741114363971 and parameters: {'n_estimators': 186, 'max_depth': 2, 'eta': 0.18108376645293056}. Best is trial 33 with value: 0.6263182616416261.\n",
      "[I 2023-11-27 21:28:05,839] Trial 66 finished with value: 0.6112700063330843 and parameters: {'n_estimators': 138, 'max_depth': 3, 'eta': 0.049674054444422217}. Best is trial 33 with value: 0.6263182616416261.\n",
      "[I 2023-11-27 21:28:08,840] Trial 67 finished with value: 0.613946790916643 and parameters: {'n_estimators': 169, 'max_depth': 4, 'eta': 0.12346529505344642}. Best is trial 33 with value: 0.6263182616416261.\n",
      "[I 2023-11-27 21:28:11,045] Trial 68 finished with value: 0.61897215560129 and parameters: {'n_estimators': 158, 'max_depth': 2, 'eta': 0.2762268809707469}. Best is trial 33 with value: 0.6263182616416261.\n",
      "[I 2023-11-27 21:28:14,610] Trial 69 finished with value: 0.5910689029656307 and parameters: {'n_estimators': 97, 'max_depth': 5, 'eta': 0.35535606057909125}. Best is trial 33 with value: 0.6263182616416261.\n",
      "[I 2023-11-27 21:28:17,187] Trial 70 finished with value: 0.6040151901304588 and parameters: {'n_estimators': 114, 'max_depth': 4, 'eta': 0.21548219893538045}. Best is trial 33 with value: 0.6263182616416261.\n",
      "[I 2023-11-27 21:28:19,393] Trial 71 finished with value: 0.6114166343726308 and parameters: {'n_estimators': 152, 'max_depth': 2, 'eta': 0.1563369149358034}. Best is trial 33 with value: 0.6263182616416261.\n",
      "[I 2023-11-27 21:28:21,802] Trial 72 finished with value: 0.6134773841568618 and parameters: {'n_estimators': 179, 'max_depth': 2, 'eta': 0.3129377610255824}. Best is trial 33 with value: 0.6263182616416261.\n",
      "[I 2023-11-27 21:28:24,450] Trial 73 finished with value: 0.6096439669257474 and parameters: {'n_estimators': 160, 'max_depth': 3, 'eta': 0.24372960281808576}. Best is trial 33 with value: 0.6263182616416261.\n",
      "[I 2023-11-27 21:28:27,064] Trial 74 finished with value: 0.5982316810330436 and parameters: {'n_estimators': 170, 'max_depth': 3, 'eta': 0.39003922163088967}. Best is trial 33 with value: 0.6263182616416261.\n",
      "[I 2023-11-27 21:28:29,142] Trial 75 finished with value: 0.6105260345976018 and parameters: {'n_estimators': 126, 'max_depth': 2, 'eta': 0.10334753216480272}. Best is trial 33 with value: 0.6263182616416261.\n",
      "[I 2023-11-27 21:28:31,567] Trial 76 finished with value: 0.5961608489348618 and parameters: {'n_estimators': 139, 'max_depth': 3, 'eta': 0.46133388965547006}. Best is trial 33 with value: 0.6263182616416261.\n",
      "[I 2023-11-27 21:28:34,098] Trial 77 finished with value: 0.613961966238014 and parameters: {'n_estimators': 151, 'max_depth': 3, 'eta': 0.1635412920865522}. Best is trial 33 with value: 0.6263182616416261.\n",
      "[I 2023-11-27 21:28:36,417] Trial 78 finished with value: 0.6176758214457829 and parameters: {'n_estimators': 177, 'max_depth': 2, 'eta': 0.2857248378636758}. Best is trial 33 with value: 0.6263182616416261.\n",
      "[I 2023-11-27 21:28:38,804] Trial 79 finished with value: 0.6133769088543565 and parameters: {'n_estimators': 194, 'max_depth': 2, 'eta': 0.0643205990738582}. Best is trial 33 with value: 0.6263182616416261.\n",
      "[I 2023-11-27 21:28:43,538] Trial 80 finished with value: 0.5903984000105256 and parameters: {'n_estimators': 73, 'max_depth': 10, 'eta': 0.23341812280957783}. Best is trial 33 with value: 0.6263182616416261.\n",
      "[I 2023-11-27 21:28:46,267] Trial 81 finished with value: 0.6239244342038025 and parameters: {'n_estimators': 174, 'max_depth': 3, 'eta': 0.12498496556636463}. Best is trial 33 with value: 0.6263182616416261.\n",
      "[I 2023-11-27 21:28:49,025] Trial 82 finished with value: 0.6256430643248112 and parameters: {'n_estimators': 186, 'max_depth': 3, 'eta': 0.1075835544114441}. Best is trial 33 with value: 0.6263182616416261.\n",
      "[I 2023-11-27 21:28:51,838] Trial 83 finished with value: 0.6222567602035474 and parameters: {'n_estimators': 188, 'max_depth': 3, 'eta': 0.11057889660731705}. Best is trial 33 with value: 0.6263182616416261.\n",
      "[I 2023-11-27 21:28:55,210] Trial 84 finished with value: 0.6172781172080605 and parameters: {'n_estimators': 187, 'max_depth': 4, 'eta': 0.10411690542127981}. Best is trial 33 with value: 0.6263182616416261.\n",
      "[I 2023-11-27 21:28:58,685] Trial 85 finished with value: 0.6174199233603057 and parameters: {'n_estimators': 210, 'max_depth': 4, 'eta': 0.08062547104037243}. Best is trial 33 with value: 0.6263182616416261.\n",
      "[I 2023-11-27 21:29:01,575] Trial 86 finished with value: 0.6152307381022167 and parameters: {'n_estimators': 198, 'max_depth': 3, 'eta': 0.15357414724653368}. Best is trial 33 with value: 0.6263182616416261.\n",
      "[I 2023-11-27 21:29:04,362] Trial 87 finished with value: 0.6137528666028222 and parameters: {'n_estimators': 185, 'max_depth': 3, 'eta': 0.046826109686328665}. Best is trial 33 with value: 0.6263182616416261.\n",
      "[I 2023-11-27 21:29:08,100] Trial 88 finished with value: 0.6084845993269425 and parameters: {'n_estimators': 223, 'max_depth': 3, 'eta': 0.18823176682682063}. Best is trial 33 with value: 0.6263182616416261.\n",
      "[I 2023-11-27 21:29:11,078] Trial 89 finished with value: 0.6128726867980421 and parameters: {'n_estimators': 173, 'max_depth': 4, 'eta': 0.11777483659375289}. Best is trial 33 with value: 0.6263182616416261.\n",
      "[I 2023-11-27 21:29:13,910] Trial 90 finished with value: 0.6098079273778358 and parameters: {'n_estimators': 201, 'max_depth': 3, 'eta': 0.20212876172091226}. Best is trial 33 with value: 0.6263182616416261.\n",
      "[I 2023-11-27 21:29:16,732] Trial 91 finished with value: 0.6217399302863483 and parameters: {'n_estimators': 188, 'max_depth': 3, 'eta': 0.13405233829187646}. Best is trial 33 with value: 0.6263182616416261.\n",
      "[I 2023-11-27 21:29:19,875] Trial 92 finished with value: 0.612085434414299 and parameters: {'n_estimators': 191, 'max_depth': 3, 'eta': 0.04104042993908559}. Best is trial 33 with value: 0.6263182616416261.\n",
      "[I 2023-11-27 21:29:23,055] Trial 93 finished with value: 0.62428651143603 and parameters: {'n_estimators': 206, 'max_depth': 3, 'eta': 0.0852343167003757}. Best is trial 33 with value: 0.6263182616416261.\n",
      "[I 2023-11-27 21:29:26,656] Trial 94 finished with value: 0.614643355124353 and parameters: {'n_estimators': 214, 'max_depth': 4, 'eta': 0.07381376549211388}. Best is trial 33 with value: 0.6263182616416261.\n",
      "[I 2023-11-27 21:29:32,580] Trial 95 finished with value: 0.589067824130598 and parameters: {'n_estimators': 209, 'max_depth': 7, 'eta': 0.14193019617180808}. Best is trial 33 with value: 0.6263182616416261.\n",
      "[I 2023-11-27 21:29:35,560] Trial 96 finished with value: 0.5937958122183068 and parameters: {'n_estimators': 196, 'max_depth': 3, 'eta': 0.014278427782415157}. Best is trial 33 with value: 0.6263182616416261.\n",
      "[I 2023-11-27 21:29:38,390] Trial 97 finished with value: 0.6231246652853313 and parameters: {'n_estimators': 206, 'max_depth': 3, 'eta': 0.1037660834825586}. Best is trial 33 with value: 0.6263182616416261.\n",
      "[I 2023-11-27 21:29:42,177] Trial 98 finished with value: 0.6174931824576764 and parameters: {'n_estimators': 235, 'max_depth': 4, 'eta': 0.08887127759825103}. Best is trial 33 with value: 0.6263182616416261.\n",
      "[I 2023-11-27 21:29:44,775] Trial 99 finished with value: 0.6105886577050116 and parameters: {'n_estimators': 219, 'max_depth': 2, 'eta': 0.11560708286142715}. Best is trial 33 with value: 0.6263182616416261.\n"
     ]
    }
   ],
   "source": [
    "study_xgb_smote.optimize(optuna_optimize, n_trials=100)"
   ],
   "metadata": {
    "collapsed": false,
    "ExecuteTime": {
     "end_time": "2023-11-27T18:29:44.820463100Z",
     "start_time": "2023-11-27T18:23:51.654114400Z"
    }
   }
  },
  {
   "cell_type": "code",
   "execution_count": 56,
   "outputs": [
    {
     "name": "stdout",
     "output_type": "stream",
     "text": [
      "Наилучшие значения гиперпараметров XGBoost: {'n_estimators': 171, 'max_depth': 3, 'eta': 0.11686014730847895}\n",
      "f1_score на обучающем наборе: 0.626\n"
     ]
    }
   ],
   "source": [
    "print(\"Наилучшие значения гиперпараметров XGBoost: {}\".format(study_xgb_smote.best_params))\n",
    "print(\"f1_score на обучающем наборе: {:.3f}\". format(study_xgb_smote.best_value))"
   ],
   "metadata": {
    "collapsed": false,
    "ExecuteTime": {
     "end_time": "2023-11-27T18:29:44.958567600Z",
     "start_time": "2023-11-27T18:29:44.802862600Z"
    }
   }
  },
  {
   "cell_type": "code",
   "execution_count": 57,
   "outputs": [],
   "source": [
    "with mlflow.start_run(nested=True):\n",
    "\n",
    "    best_params = study_xgb_smote.best_params\n",
    "    best_score = study_xgb_smote.best_value\n",
    "    mlflow.log_params(best_params)\n",
    "\n",
    "    xgb_pipe = Pipeline([\n",
    "        ('preprocessor', preprocessor),\n",
    "        ('smote', SMOTE(random_state=12345)),\n",
    "        ('model', xgb.XGBClassifier(**best_params,\n",
    "                                    random_state=12345))\n",
    "    ])\n",
    "\n",
    "    xgb_pipe.fit(X_train, y_train)\n",
    "\n",
    "    pred_proba = xgb_pipe.predict_proba(X_test)[:, 1]\n",
    "    roc_auc = roc_auc_score(y_test, pred_proba)\n",
    "    \n",
    "    mlflow.log_metrics({\n",
    "        'f1_cv': best_score,\n",
    "        'roc_auc': roc_auc,\n",
    "        'balanced_accuracy': balanced_accuracy_score(y_test, np.round(pred_proba, 0)),\n",
    "        'f1': f1_score(y_test, np.round(pred_proba, 0))\n",
    "    })\n",
    "\n",
    "    mlflow.sklearn.log_model(xgb_pipe, 'xgb_pipeline_smote')"
   ],
   "metadata": {
    "collapsed": false,
    "ExecuteTime": {
     "end_time": "2023-11-27T18:29:53.090790900Z",
     "start_time": "2023-11-27T18:29:44.825374400Z"
    }
   }
  },
  {
   "cell_type": "markdown",
   "source": [
    "### 3.2.2 Случайный лес"
   ],
   "metadata": {
    "collapsed": false
   }
  },
  {
   "cell_type": "code",
   "execution_count": 58,
   "outputs": [],
   "source": [
    "def optuna_optimize(trial):\n",
    "    param = {\n",
    "        'n_estimators': trial.suggest_int('n_estimators', 50, 300),\n",
    "        'max_depth': trial.suggest_int('max_depth', 2, 10),\n",
    "        'min_samples_leaf': trial.suggest_int('min_samples_leaf', 2, 8)\n",
    "    }\n",
    "\n",
    "    estimator = RandomForestClassifier(**param,\n",
    "                                       random_state=12345)\n",
    "\n",
    "    rf_pipe = Pipeline([\n",
    "        ('preprocessor', preprocessor),\n",
    "        ('smote', SMOTE(random_state=12345)),\n",
    "        ('model', estimator)\n",
    "    ])\n",
    "\n",
    "    score = cross_val_score(rf_pipe, X_train, y_train, cv=5, scoring='f1').mean()\n",
    "    return score"
   ],
   "metadata": {
    "collapsed": false,
    "ExecuteTime": {
     "end_time": "2023-11-27T18:29:53.198823200Z",
     "start_time": "2023-11-27T18:29:53.103609500Z"
    }
   }
  },
  {
   "cell_type": "code",
   "execution_count": 59,
   "outputs": [
    {
     "name": "stderr",
     "output_type": "stream",
     "text": [
      "[I 2023-11-27 21:29:53,137] A new study created in memory with name: RandomForest Optuna Optimization SMOTE\n"
     ]
    }
   ],
   "source": [
    "study_rf_smote = optuna.create_study(study_name=\"RandomForest Optuna Optimization SMOTE\",\n",
    "                               direction='maximize')"
   ],
   "metadata": {
    "collapsed": false,
    "ExecuteTime": {
     "end_time": "2023-11-27T18:29:53.223765200Z",
     "start_time": "2023-11-27T18:29:53.126455700Z"
    }
   }
  },
  {
   "cell_type": "code",
   "execution_count": 60,
   "outputs": [
    {
     "name": "stderr",
     "output_type": "stream",
     "text": [
      "[I 2023-11-27 21:30:29,643] Trial 0 finished with value: 0.6088191058920795 and parameters: {'n_estimators': 207, 'max_depth': 10, 'min_samples_leaf': 5}. Best is trial 0 with value: 0.6088191058920795.\n",
      "[I 2023-11-27 21:30:34,886] Trial 1 finished with value: 0.5476990332697595 and parameters: {'n_estimators': 75, 'max_depth': 2, 'min_samples_leaf': 4}. Best is trial 0 with value: 0.6088191058920795.\n",
      "[I 2023-11-27 21:30:54,906] Trial 2 finished with value: 0.5818881357039416 and parameters: {'n_estimators': 221, 'max_depth': 4, 'min_samples_leaf': 3}. Best is trial 0 with value: 0.6088191058920795.\n",
      "[I 2023-11-27 21:31:06,712] Trial 3 finished with value: 0.5619851078584335 and parameters: {'n_estimators': 152, 'max_depth': 3, 'min_samples_leaf': 3}. Best is trial 0 with value: 0.6088191058920795.\n",
      "[I 2023-11-27 21:31:41,776] Trial 4 finished with value: 0.603299793511089 and parameters: {'n_estimators': 257, 'max_depth': 7, 'min_samples_leaf': 5}. Best is trial 0 with value: 0.6088191058920795.\n",
      "[I 2023-11-27 21:32:16,895] Trial 5 finished with value: 0.5935769039837856 and parameters: {'n_estimators': 293, 'max_depth': 6, 'min_samples_leaf': 5}. Best is trial 0 with value: 0.6088191058920795.\n",
      "[I 2023-11-27 21:32:33,172] Trial 6 finished with value: 0.543465249440099 and parameters: {'n_estimators': 277, 'max_depth': 2, 'min_samples_leaf': 6}. Best is trial 0 with value: 0.6088191058920795.\n",
      "[I 2023-11-27 21:33:01,891] Trial 7 finished with value: 0.6076526893421776 and parameters: {'n_estimators': 175, 'max_depth': 9, 'min_samples_leaf': 5}. Best is trial 0 with value: 0.6088191058920795.\n",
      "[I 2023-11-27 21:33:10,416] Trial 8 finished with value: 0.559644547801966 and parameters: {'n_estimators': 106, 'max_depth': 3, 'min_samples_leaf': 7}. Best is trial 0 with value: 0.6088191058920795.\n",
      "[I 2023-11-27 21:33:20,131] Trial 9 finished with value: 0.5608090787681779 and parameters: {'n_estimators': 123, 'max_depth': 3, 'min_samples_leaf': 8}. Best is trial 0 with value: 0.6088191058920795.\n",
      "[I 2023-11-27 21:33:59,684] Trial 10 finished with value: 0.6073578842696932 and parameters: {'n_estimators': 222, 'max_depth': 10, 'min_samples_leaf': 2}. Best is trial 0 with value: 0.6088191058920795.\n",
      "[I 2023-11-27 21:34:33,042] Trial 11 finished with value: 0.6097721589113234 and parameters: {'n_estimators': 191, 'max_depth': 10, 'min_samples_leaf': 6}. Best is trial 11 with value: 0.6097721589113234.\n",
      "[I 2023-11-27 21:35:04,652] Trial 12 finished with value: 0.6043048901036897 and parameters: {'n_estimators': 213, 'max_depth': 8, 'min_samples_leaf': 7}. Best is trial 11 with value: 0.6097721589113234.\n",
      "[I 2023-11-27 21:35:37,946] Trial 13 finished with value: 0.6097721589113234 and parameters: {'n_estimators': 191, 'max_depth': 10, 'min_samples_leaf': 6}. Best is trial 11 with value: 0.6097721589113234.\n",
      "[I 2023-11-27 21:36:04,943] Trial 14 finished with value: 0.6054096954197756 and parameters: {'n_estimators': 160, 'max_depth': 8, 'min_samples_leaf': 7}. Best is trial 11 with value: 0.6097721589113234.\n",
      "[I 2023-11-27 21:36:28,799] Trial 15 finished with value: 0.5996198502448967 and parameters: {'n_estimators': 192, 'max_depth': 6, 'min_samples_leaf': 6}. Best is trial 11 with value: 0.6097721589113234.\n",
      "[I 2023-11-27 21:37:09,055] Trial 16 finished with value: 0.6106056000550975 and parameters: {'n_estimators': 249, 'max_depth': 9, 'min_samples_leaf': 6}. Best is trial 16 with value: 0.6106056000550975.\n",
      "[I 2023-11-27 21:37:44,870] Trial 17 finished with value: 0.6073905706872715 and parameters: {'n_estimators': 243, 'max_depth': 8, 'min_samples_leaf': 8}. Best is trial 16 with value: 0.6106056000550975.\n",
      "[I 2023-11-27 21:38:24,047] Trial 18 finished with value: 0.6112531412720112 and parameters: {'n_estimators': 240, 'max_depth': 9, 'min_samples_leaf': 4}. Best is trial 18 with value: 0.6112531412720112.\n",
      "[I 2023-11-27 21:38:54,566] Trial 19 finished with value: 0.5961932091417802 and parameters: {'n_estimators': 252, 'max_depth': 6, 'min_samples_leaf': 4}. Best is trial 18 with value: 0.6112531412720112.\n",
      "[I 2023-11-27 21:39:42,686] Trial 20 finished with value: 0.6118784551351076 and parameters: {'n_estimators': 273, 'max_depth': 9, 'min_samples_leaf': 4}. Best is trial 20 with value: 0.6118784551351076.\n",
      "[I 2023-11-27 21:40:42,918] Trial 21 finished with value: 0.6121299385323417 and parameters: {'n_estimators': 294, 'max_depth': 9, 'min_samples_leaf': 4}. Best is trial 21 with value: 0.6121299385323417.\n",
      "[I 2023-11-27 21:41:32,799] Trial 22 finished with value: 0.6117129280599695 and parameters: {'n_estimators': 300, 'max_depth': 9, 'min_samples_leaf': 4}. Best is trial 21 with value: 0.6121299385323417.\n",
      "[I 2023-11-27 21:42:13,941] Trial 23 finished with value: 0.6075339159000592 and parameters: {'n_estimators': 299, 'max_depth': 7, 'min_samples_leaf': 3}. Best is trial 21 with value: 0.6121299385323417.\n",
      "[I 2023-11-27 21:43:00,167] Trial 24 finished with value: 0.6122403377545644 and parameters: {'n_estimators': 279, 'max_depth': 9, 'min_samples_leaf': 4}. Best is trial 24 with value: 0.6122403377545644.\n",
      "[I 2023-11-27 21:43:37,156] Trial 25 finished with value: 0.6071841638983374 and parameters: {'n_estimators': 264, 'max_depth': 7, 'min_samples_leaf': 2}. Best is trial 24 with value: 0.6122403377545644.\n",
      "[I 2023-11-27 21:44:19,020] Trial 26 finished with value: 0.6037413261385663 and parameters: {'n_estimators': 273, 'max_depth': 8, 'min_samples_leaf': 3}. Best is trial 24 with value: 0.6122403377545644.\n",
      "[I 2023-11-27 21:44:49,104] Trial 27 finished with value: 0.5922514576438408 and parameters: {'n_estimators': 280, 'max_depth': 5, 'min_samples_leaf': 4}. Best is trial 24 with value: 0.6122403377545644.\n",
      "[I 2023-11-27 21:45:28,615] Trial 28 finished with value: 0.6115749140114289 and parameters: {'n_estimators': 236, 'max_depth': 9, 'min_samples_leaf': 3}. Best is trial 24 with value: 0.6122403377545644.\n",
      "[I 2023-11-27 21:46:17,862] Trial 29 finished with value: 0.6092281059800986 and parameters: {'n_estimators': 277, 'max_depth': 10, 'min_samples_leaf': 5}. Best is trial 24 with value: 0.6122403377545644.\n",
      "[I 2023-11-27 21:46:27,117] Trial 30 finished with value: 0.6065653202739516 and parameters: {'n_estimators': 54, 'max_depth': 8, 'min_samples_leaf': 4}. Best is trial 24 with value: 0.6122403377545644.\n",
      "[I 2023-11-27 21:47:16,839] Trial 31 finished with value: 0.6113583213526244 and parameters: {'n_estimators': 296, 'max_depth': 9, 'min_samples_leaf': 4}. Best is trial 24 with value: 0.6122403377545644.\n",
      "[I 2023-11-27 21:48:04,948] Trial 32 finished with value: 0.6120781601371383 and parameters: {'n_estimators': 288, 'max_depth': 9, 'min_samples_leaf': 4}. Best is trial 24 with value: 0.6122403377545644.\n",
      "[I 2023-11-27 21:48:53,019] Trial 33 finished with value: 0.6096138346898552 and parameters: {'n_estimators': 266, 'max_depth': 10, 'min_samples_leaf': 3}. Best is trial 24 with value: 0.6122403377545644.\n",
      "[I 2023-11-27 21:49:32,118] Trial 34 finished with value: 0.6043072162058432 and parameters: {'n_estimators': 285, 'max_depth': 7, 'min_samples_leaf': 5}. Best is trial 24 with value: 0.6122403377545644.\n",
      "[I 2023-11-27 21:50:11,152] Trial 35 finished with value: 0.6114741307764769 and parameters: {'n_estimators': 227, 'max_depth': 9, 'min_samples_leaf': 4}. Best is trial 24 with value: 0.6122403377545644.\n",
      "[I 2023-11-27 21:50:51,110] Trial 36 finished with value: 0.6043061475248171 and parameters: {'n_estimators': 261, 'max_depth': 8, 'min_samples_leaf': 3}. Best is trial 24 with value: 0.6122403377545644.\n",
      "[I 2023-11-27 21:51:21,728] Trial 37 finished with value: 0.5925075362657006 and parameters: {'n_estimators': 284, 'max_depth': 5, 'min_samples_leaf': 4}. Best is trial 24 with value: 0.6122403377545644.\n",
      "[I 2023-11-27 21:52:08,339] Trial 38 finished with value: 0.6072251596198669 and parameters: {'n_estimators': 263, 'max_depth': 10, 'min_samples_leaf': 5}. Best is trial 24 with value: 0.6122403377545644.\n",
      "[I 2023-11-27 21:52:56,057] Trial 39 finished with value: 0.6076614951949444 and parameters: {'n_estimators': 287, 'max_depth': 9, 'min_samples_leaf': 5}. Best is trial 24 with value: 0.6122403377545644.\n",
      "[I 2023-11-27 21:53:28,372] Trial 40 finished with value: 0.606524714044487 and parameters: {'n_estimators': 233, 'max_depth': 7, 'min_samples_leaf': 3}. Best is trial 24 with value: 0.6122403377545644.\n",
      "[I 2023-11-27 21:54:17,436] Trial 41 finished with value: 0.6111783204052509 and parameters: {'n_estimators': 297, 'max_depth': 9, 'min_samples_leaf': 4}. Best is trial 24 with value: 0.6122403377545644.\n",
      "[I 2023-11-27 21:55:02,806] Trial 42 finished with value: 0.6064534353231709 and parameters: {'n_estimators': 299, 'max_depth': 8, 'min_samples_leaf': 4}. Best is trial 24 with value: 0.6122403377545644.\n",
      "[I 2023-11-27 21:55:48,001] Trial 43 finished with value: 0.6124734103330531 and parameters: {'n_estimators': 271, 'max_depth': 9, 'min_samples_leaf': 4}. Best is trial 43 with value: 0.6124734103330531.\n",
      "[I 2023-11-27 21:56:36,550] Trial 44 finished with value: 0.6088480932708203 and parameters: {'n_estimators': 272, 'max_depth': 10, 'min_samples_leaf': 5}. Best is trial 43 with value: 0.6124734103330531.\n",
      "[I 2023-11-27 21:57:23,352] Trial 45 finished with value: 0.6085624032997273 and parameters: {'n_estimators': 254, 'max_depth': 10, 'min_samples_leaf': 2}. Best is trial 43 with value: 0.6124734103330531.\n",
      "[I 2023-11-27 21:57:39,468] Trial 46 finished with value: 0.6045956343867234 and parameters: {'n_estimators': 101, 'max_depth': 8, 'min_samples_leaf': 3}. Best is trial 43 with value: 0.6124734103330531.\n",
      "[I 2023-11-27 21:58:26,816] Trial 47 finished with value: 0.6126429411780772 and parameters: {'n_estimators': 284, 'max_depth': 9, 'min_samples_leaf': 4}. Best is trial 47 with value: 0.6126429411780772.\n",
      "[I 2023-11-27 21:58:52,048] Trial 48 finished with value: 0.6051231185866052 and parameters: {'n_estimators': 139, 'max_depth': 10, 'min_samples_leaf': 5}. Best is trial 47 with value: 0.6126429411780772.\n",
      "[I 2023-11-27 21:59:36,017] Trial 49 finished with value: 0.6072186156380344 and parameters: {'n_estimators': 288, 'max_depth': 8, 'min_samples_leaf': 4}. Best is trial 47 with value: 0.6126429411780772.\n",
      "[I 2023-11-27 22:00:12,157] Trial 50 finished with value: 0.612057760047121 and parameters: {'n_estimators': 215, 'max_depth': 9, 'min_samples_leaf': 3}. Best is trial 47 with value: 0.6126429411780772.\n",
      "[I 2023-11-27 22:00:47,308] Trial 51 finished with value: 0.6114089565853436 and parameters: {'n_estimators': 209, 'max_depth': 9, 'min_samples_leaf': 3}. Best is trial 47 with value: 0.6126429411780772.\n",
      "[I 2023-11-27 22:01:29,453] Trial 52 finished with value: 0.6101956789466091 and parameters: {'n_estimators': 250, 'max_depth': 9, 'min_samples_leaf': 2}. Best is trial 47 with value: 0.6126429411780772.\n",
      "[I 2023-11-27 22:01:59,136] Trial 53 finished with value: 0.6096798701671113 and parameters: {'n_estimators': 173, 'max_depth': 9, 'min_samples_leaf': 3}. Best is trial 47 with value: 0.6126429411780772.\n",
      "[I 2023-11-27 22:02:35,400] Trial 54 finished with value: 0.6087303637999687 and parameters: {'n_estimators': 200, 'max_depth': 10, 'min_samples_leaf': 4}. Best is trial 47 with value: 0.6126429411780772.\n",
      "[I 2023-11-27 22:03:19,200] Trial 55 finished with value: 0.6072186156380344 and parameters: {'n_estimators': 288, 'max_depth': 8, 'min_samples_leaf': 4}. Best is trial 47 with value: 0.6126429411780772.\n",
      "[I 2023-11-27 22:04:04,487] Trial 56 finished with value: 0.608332426229018 and parameters: {'n_estimators': 268, 'max_depth': 9, 'min_samples_leaf': 5}. Best is trial 47 with value: 0.6126429411780772.\n",
      "[I 2023-11-27 22:04:55,726] Trial 57 finished with value: 0.608602170302923 and parameters: {'n_estimators': 281, 'max_depth': 10, 'min_samples_leaf': 3}. Best is trial 47 with value: 0.6126429411780772.\n",
      "[I 2023-11-27 22:05:29,754] Trial 58 finished with value: 0.6064587261193528 and parameters: {'n_estimators': 222, 'max_depth': 8, 'min_samples_leaf': 5}. Best is trial 47 with value: 0.6126429411780772.\n",
      "[I 2023-11-27 22:05:52,454] Trial 59 finished with value: 0.5813790247282864 and parameters: {'n_estimators': 245, 'max_depth': 4, 'min_samples_leaf': 4}. Best is trial 47 with value: 0.6126429411780772.\n",
      "[I 2023-11-27 22:06:28,318] Trial 60 finished with value: 0.6058071129649929 and parameters: {'n_estimators': 258, 'max_depth': 7, 'min_samples_leaf': 3}. Best is trial 47 with value: 0.6126429411780772.\n",
      "[I 2023-11-27 22:07:14,274] Trial 61 finished with value: 0.6118784551351076 and parameters: {'n_estimators': 275, 'max_depth': 9, 'min_samples_leaf': 4}. Best is trial 47 with value: 0.6126429411780772.\n",
      "[I 2023-11-27 22:08:02,662] Trial 62 finished with value: 0.6114806681499684 and parameters: {'n_estimators': 291, 'max_depth': 9, 'min_samples_leaf': 4}. Best is trial 47 with value: 0.6126429411780772.\n",
      "[I 2023-11-27 22:08:47,599] Trial 63 finished with value: 0.6126525364854186 and parameters: {'n_estimators': 270, 'max_depth': 9, 'min_samples_leaf': 4}. Best is trial 63 with value: 0.6126525364854186.\n",
      "[I 2023-11-27 22:09:32,485] Trial 64 finished with value: 0.6128297651223841 and parameters: {'n_estimators': 269, 'max_depth': 9, 'min_samples_leaf': 4}. Best is trial 64 with value: 0.6128297651223841.\n",
      "[I 2023-11-27 22:10:14,626] Trial 65 finished with value: 0.6066889081812076 and parameters: {'n_estimators': 277, 'max_depth': 8, 'min_samples_leaf': 4}. Best is trial 64 with value: 0.6128297651223841.\n",
      "[I 2023-11-27 22:10:57,449] Trial 66 finished with value: 0.6080214640963716 and parameters: {'n_estimators': 258, 'max_depth': 9, 'min_samples_leaf': 5}. Best is trial 64 with value: 0.6128297651223841.\n",
      "[I 2023-11-27 22:11:45,925] Trial 67 finished with value: 0.6083399089374655 and parameters: {'n_estimators': 269, 'max_depth': 10, 'min_samples_leaf': 4}. Best is trial 64 with value: 0.6128297651223841.\n",
      "[I 2023-11-27 22:12:27,550] Trial 68 finished with value: 0.6112430749682285 and parameters: {'n_estimators': 244, 'max_depth': 9, 'min_samples_leaf': 4}. Best is trial 64 with value: 0.6128297651223841.\n",
      "[I 2023-11-27 22:13:11,922] Trial 69 finished with value: 0.607536828185616 and parameters: {'n_estimators': 293, 'max_depth': 8, 'min_samples_leaf': 5}. Best is trial 64 with value: 0.6128297651223841.\n",
      "[I 2023-11-27 22:14:02,171] Trial 70 finished with value: 0.6090904187736738 and parameters: {'n_estimators': 281, 'max_depth': 10, 'min_samples_leaf': 4}. Best is trial 64 with value: 0.6128297651223841.\n",
      "[I 2023-11-27 22:14:47,016] Trial 71 finished with value: 0.6095295232161091 and parameters: {'n_estimators': 269, 'max_depth': 9, 'min_samples_leaf': 3}. Best is trial 64 with value: 0.6128297651223841.\n",
      "[I 2023-11-27 22:15:01,398] Trial 72 finished with value: 0.5420951109934149 and parameters: {'n_estimators': 236, 'max_depth': 2, 'min_samples_leaf': 4}. Best is trial 64 with value: 0.6128297651223841.\n",
      "[I 2023-11-27 22:15:31,885] Trial 73 finished with value: 0.6112949387708125 and parameters: {'n_estimators': 181, 'max_depth': 9, 'min_samples_leaf': 3}. Best is trial 64 with value: 0.6128297651223841.\n",
      "[I 2023-11-27 22:16:19,917] Trial 74 finished with value: 0.6080176247762898 and parameters: {'n_estimators': 292, 'max_depth': 9, 'min_samples_leaf': 5}. Best is trial 64 with value: 0.6128297651223841.\n",
      "[I 2023-11-27 22:17:03,505] Trial 75 finished with value: 0.6122623661382189 and parameters: {'n_estimators': 261, 'max_depth': 9, 'min_samples_leaf': 4}. Best is trial 64 with value: 0.6128297651223841.\n",
      "[I 2023-11-27 22:17:43,590] Trial 76 finished with value: 0.605947990129053 and parameters: {'n_estimators': 262, 'max_depth': 8, 'min_samples_leaf': 4}. Best is trial 64 with value: 0.6128297651223841.\n",
      "[I 2023-11-27 22:18:34,101] Trial 77 finished with value: 0.6084940513437911 and parameters: {'n_estimators': 282, 'max_depth': 10, 'min_samples_leaf': 4}. Best is trial 64 with value: 0.6128297651223841.\n",
      "[I 2023-11-27 22:19:16,300] Trial 78 finished with value: 0.6112638511674107 and parameters: {'n_estimators': 253, 'max_depth': 9, 'min_samples_leaf': 4}. Best is trial 64 with value: 0.6128297651223841.\n",
      "[I 2023-11-27 22:20:02,470] Trial 79 finished with value: 0.6064561981964328 and parameters: {'n_estimators': 300, 'max_depth': 8, 'min_samples_leaf': 4}. Best is trial 64 with value: 0.6128297651223841.\n",
      "[I 2023-11-27 22:20:36,650] Trial 80 finished with value: 0.5939801917063962 and parameters: {'n_estimators': 276, 'max_depth': 6, 'min_samples_leaf': 5}. Best is trial 64 with value: 0.6128297651223841.\n",
      "[I 2023-11-27 22:21:14,812] Trial 81 finished with value: 0.6113061097940401 and parameters: {'n_estimators': 228, 'max_depth': 9, 'min_samples_leaf': 4}. Best is trial 64 with value: 0.6128297651223841.\n",
      "[I 2023-11-27 22:22:01,697] Trial 82 finished with value: 0.6091171180134887 and parameters: {'n_estimators': 264, 'max_depth': 9, 'min_samples_leaf': 3}. Best is trial 64 with value: 0.6128297651223841.\n",
      "[I 2023-11-27 22:22:54,052] Trial 83 finished with value: 0.6120803194418164 and parameters: {'n_estimators': 285, 'max_depth': 9, 'min_samples_leaf': 4}. Best is trial 64 with value: 0.6128297651223841.\n",
      "[I 2023-11-27 22:23:41,918] Trial 84 finished with value: 0.6095024284164526 and parameters: {'n_estimators': 286, 'max_depth': 10, 'min_samples_leaf': 4}. Best is trial 64 with value: 0.6128297651223841.\n",
      "[I 2023-11-27 22:24:24,047] Trial 85 finished with value: 0.6124734103330531 and parameters: {'n_estimators': 271, 'max_depth': 9, 'min_samples_leaf': 4}. Best is trial 64 with value: 0.6128297651223841.\n",
      "[I 2023-11-27 22:25:08,197] Trial 86 finished with value: 0.6120559476570466 and parameters: {'n_estimators': 274, 'max_depth': 9, 'min_samples_leaf': 4}. Best is trial 64 with value: 0.6128297651223841.\n",
      "[I 2023-11-27 22:25:47,380] Trial 87 finished with value: 0.6056070787746128 and parameters: {'n_estimators': 257, 'max_depth': 8, 'min_samples_leaf': 4}. Best is trial 64 with value: 0.6128297651223841.\n",
      "[I 2023-11-27 22:26:34,943] Trial 88 finished with value: 0.6072324811770943 and parameters: {'n_estimators': 267, 'max_depth': 10, 'min_samples_leaf': 5}. Best is trial 64 with value: 0.6128297651223841.\n",
      "[I 2023-11-27 22:27:02,430] Trial 89 finished with value: 0.5922267620062658 and parameters: {'n_estimators': 247, 'max_depth': 5, 'min_samples_leaf': 4}. Best is trial 64 with value: 0.6128297651223841.\n",
      "[I 2023-11-27 22:27:48,976] Trial 90 finished with value: 0.6111279416732495 and parameters: {'n_estimators': 285, 'max_depth': 9, 'min_samples_leaf': 8}. Best is trial 64 with value: 0.6128297651223841.\n",
      "[I 2023-11-27 22:28:37,611] Trial 91 finished with value: 0.6117160391862547 and parameters: {'n_estimators': 292, 'max_depth': 9, 'min_samples_leaf': 4}. Best is trial 64 with value: 0.6128297651223841.\n",
      "[I 2023-11-27 22:29:24,192] Trial 92 finished with value: 0.6122403377545644 and parameters: {'n_estimators': 279, 'max_depth': 9, 'min_samples_leaf': 4}. Best is trial 64 with value: 0.6128297651223841.\n",
      "[I 2023-11-27 22:30:10,829] Trial 93 finished with value: 0.6128534742042716 and parameters: {'n_estimators': 280, 'max_depth': 9, 'min_samples_leaf': 4}. Best is trial 93 with value: 0.6128534742042716.\n",
      "[I 2023-11-27 22:30:57,290] Trial 94 finished with value: 0.611689493321981 and parameters: {'n_estimators': 278, 'max_depth': 9, 'min_samples_leaf': 4}. Best is trial 93 with value: 0.6128534742042716.\n",
      "[I 2023-11-27 22:31:42,553] Trial 95 finished with value: 0.6070129759112604 and parameters: {'n_estimators': 295, 'max_depth': 8, 'min_samples_leaf': 4}. Best is trial 93 with value: 0.6128534742042716.\n",
      "[I 2023-11-27 22:32:31,210] Trial 96 finished with value: 0.6091159249399665 and parameters: {'n_estimators': 270, 'max_depth': 10, 'min_samples_leaf': 4}. Best is trial 93 with value: 0.6128534742042716.\n",
      "[I 2023-11-27 22:33:14,500] Trial 97 finished with value: 0.6083862096824953 and parameters: {'n_estimators': 261, 'max_depth': 9, 'min_samples_leaf': 5}. Best is trial 93 with value: 0.6128534742042716.\n",
      "[I 2023-11-27 22:33:59,880] Trial 98 finished with value: 0.6122957144997354 and parameters: {'n_estimators': 272, 'max_depth': 9, 'min_samples_leaf': 4}. Best is trial 93 with value: 0.6128534742042716.\n",
      "[I 2023-11-27 22:34:39,196] Trial 99 finished with value: 0.6057844142604744 and parameters: {'n_estimators': 254, 'max_depth': 8, 'min_samples_leaf': 4}. Best is trial 93 with value: 0.6128534742042716.\n"
     ]
    }
   ],
   "source": [
    "study_rf_smote.optimize(optuna_optimize, n_trials=100)"
   ],
   "metadata": {
    "collapsed": false,
    "ExecuteTime": {
     "end_time": "2023-11-27T19:34:39.206777200Z",
     "start_time": "2023-11-27T18:29:53.160160200Z"
    }
   }
  },
  {
   "cell_type": "code",
   "execution_count": 61,
   "outputs": [
    {
     "name": "stdout",
     "output_type": "stream",
     "text": [
      "Наилучшие значения гиперпараметров RandomForest: {'n_estimators': 280, 'max_depth': 9, 'min_samples_leaf': 4}\n",
      "f1_score на обучающем наборе: 0.613\n"
     ]
    }
   ],
   "source": [
    "print(\"Наилучшие значения гиперпараметров RandomForest: {}\".format(study_rf_smote.best_params))\n",
    "print(\"f1_score на обучающем наборе: {:.3f}\". format(study_rf_smote.best_value))"
   ],
   "metadata": {
    "collapsed": false,
    "ExecuteTime": {
     "end_time": "2023-11-27T19:34:39.394152400Z",
     "start_time": "2023-11-27T19:34:39.206777200Z"
    }
   }
  },
  {
   "cell_type": "code",
   "execution_count": 62,
   "outputs": [],
   "source": [
    "with mlflow.start_run(nested=True):\n",
    "\n",
    "    best_params = study_rf_smote.best_params\n",
    "    best_score = study_rf_smote.best_value\n",
    "    mlflow.log_params(best_params)\n",
    "\n",
    "    rf_pipe = Pipeline([\n",
    "        ('preprocessor', preprocessor),\n",
    "        ('smote', SMOTE(random_state=12345)),\n",
    "        ('model', RandomForestClassifier(**best_params,\n",
    "                                         random_state=12345))\n",
    "    ])\n",
    "\n",
    "    rf_pipe.fit(X_train, y_train)\n",
    "\n",
    "    pred_proba = rf_pipe.predict_proba(X_test)[:, 1]\n",
    "    roc_auc = roc_auc_score(y_test, pred_proba)\n",
    "    \n",
    "    mlflow.log_metrics({\n",
    "        'f1_cv': best_score,\n",
    "        'roc_auc': roc_auc,\n",
    "        'balanced_accuracy': balanced_accuracy_score(y_test, np.round(pred_proba, 0)),\n",
    "        'f1': f1_score(y_test, np.round(pred_proba, 0))\n",
    "    })\n",
    "    \n",
    "    mlflow.sklearn.log_model(rf_pipe, 'rf_pipeline_smote')"
   ],
   "metadata": {
    "collapsed": false,
    "ExecuteTime": {
     "end_time": "2023-11-27T19:34:59.737764200Z",
     "start_time": "2023-11-27T19:34:39.250949500Z"
    }
   }
  },
  {
   "cell_type": "markdown",
   "source": [
    "### 3.2.3 Логистическая регрессия"
   ],
   "metadata": {
    "collapsed": false
   }
  },
  {
   "cell_type": "code",
   "execution_count": 63,
   "outputs": [],
   "source": [
    "cat_pipeline = Pipeline([\n",
    "    ('enc', OneHotEncoder(handle_unknown='error', drop='first'))\n",
    "])\n",
    "\n",
    "num_pipeline = Pipeline([\n",
    "    ('imp', SimpleImputer(fill_value=-1, add_indicator=True)),\n",
    "    ('pt', PowerTransformer()),\n",
    "    ('scal', StandardScaler())\n",
    "])\n",
    "\n",
    "preprocessor = ColumnTransformer([\n",
    "    (\"cat\", cat_pipeline, categorical_features),\n",
    "    (\"num\", num_pipeline, numeric_features)\n",
    "], remainder='passthrough')"
   ],
   "metadata": {
    "collapsed": false,
    "ExecuteTime": {
     "end_time": "2023-11-27T19:34:59.854542Z",
     "start_time": "2023-11-27T19:34:59.750704300Z"
    }
   }
  },
  {
   "cell_type": "code",
   "execution_count": 64,
   "outputs": [],
   "source": [
    "def optuna_optimize(trial):\n",
    "    param = {\n",
    "        'solver': trial.suggest_categorical('solver', ['lbfgs', 'saga'])\n",
    "    }\n",
    "\n",
    "    if param['solver'] == 'lbfgs':\n",
    "        param['penalty'] = 'l2' \n",
    "\n",
    "    if param['solver'] == 'saga':\n",
    "        param['penalty'] = 'elasticnet' \n",
    "        param['C'] = trial.suggest_float('C', 0.01, 100) # какие тут значения?\n",
    "        param['l1_ratio'] = trial.suggest_float('l1_ratio', 0, 1)\n",
    "        param['max_iter'] = 1000 \n",
    "\n",
    "    estimator = LogisticRegression(**param,\n",
    "                                   random_state=12345)\n",
    "\n",
    "    log_reg_pipe = Pipeline([\n",
    "        ('preprocessor', preprocessor),\n",
    "        ('smote', SMOTE(random_state=12345)),\n",
    "        ('model', estimator)\n",
    "    ])\n",
    "\n",
    "    score = cross_val_score(log_reg_pipe, X_train, y_train, cv=5, scoring='f1').mean()\n",
    "    return score"
   ],
   "metadata": {
    "collapsed": false,
    "ExecuteTime": {
     "end_time": "2023-11-27T19:34:59.858556500Z",
     "start_time": "2023-11-27T19:34:59.778740700Z"
    }
   }
  },
  {
   "cell_type": "code",
   "execution_count": 65,
   "outputs": [
    {
     "name": "stderr",
     "output_type": "stream",
     "text": [
      "[I 2023-11-27 22:34:59,802] A new study created in memory with name: LogisticRegression Optuna Optimization SMOTE\n"
     ]
    }
   ],
   "source": [
    "study_log_reg_smote = optuna.create_study(study_name=\"LogisticRegression Optuna Optimization SMOTE\",\n",
    "                                    direction='maximize')"
   ],
   "metadata": {
    "collapsed": false,
    "ExecuteTime": {
     "end_time": "2023-11-27T19:34:59.858556500Z",
     "start_time": "2023-11-27T19:34:59.802097500Z"
    }
   }
  },
  {
   "cell_type": "code",
   "execution_count": 66,
   "outputs": [
    {
     "name": "stderr",
     "output_type": "stream",
     "text": [
      "[I 2023-11-27 22:35:01,321] Trial 0 finished with value: 0.4931691414132686 and parameters: {'solver': 'lbfgs'}. Best is trial 0 with value: 0.4931691414132686.\n",
      "[I 2023-11-27 22:35:02,784] Trial 1 finished with value: 0.4931691414132686 and parameters: {'solver': 'lbfgs'}. Best is trial 0 with value: 0.4931691414132686.\n",
      "[I 2023-11-27 22:35:04,579] Trial 2 finished with value: 0.49305864444463354 and parameters: {'solver': 'saga', 'C': 34.89724643672052, 'l1_ratio': 0.8260559642181673}. Best is trial 0 with value: 0.4931691414132686.\n",
      "[I 2023-11-27 22:35:06,387] Trial 3 finished with value: 0.49305864444463354 and parameters: {'solver': 'saga', 'C': 98.58839200684261, 'l1_ratio': 0.47434876890654976}. Best is trial 0 with value: 0.4931691414132686.\n",
      "[I 2023-11-27 22:35:07,797] Trial 4 finished with value: 0.4931691414132686 and parameters: {'solver': 'lbfgs'}. Best is trial 0 with value: 0.4931691414132686.\n",
      "[I 2023-11-27 22:35:09,597] Trial 5 finished with value: 0.49305864444463354 and parameters: {'solver': 'saga', 'C': 35.06473211117162, 'l1_ratio': 0.927660322747452}. Best is trial 0 with value: 0.4931691414132686.\n",
      "[I 2023-11-27 22:35:10,946] Trial 6 finished with value: 0.4931691414132686 and parameters: {'solver': 'lbfgs'}. Best is trial 0 with value: 0.4931691414132686.\n",
      "[I 2023-11-27 22:35:12,298] Trial 7 finished with value: 0.4931691414132686 and parameters: {'solver': 'lbfgs'}. Best is trial 0 with value: 0.4931691414132686.\n",
      "[I 2023-11-27 22:35:14,098] Trial 8 finished with value: 0.49305864444463354 and parameters: {'solver': 'saga', 'C': 7.881931571558627, 'l1_ratio': 0.6227485424151981}. Best is trial 0 with value: 0.4931691414132686.\n",
      "[I 2023-11-27 22:35:15,797] Trial 9 finished with value: 0.49305864444463354 and parameters: {'solver': 'saga', 'C': 17.070560890059937, 'l1_ratio': 0.05855026693357168}. Best is trial 0 with value: 0.4931691414132686.\n",
      "[I 2023-11-27 22:35:17,154] Trial 10 finished with value: 0.4931691414132686 and parameters: {'solver': 'lbfgs'}. Best is trial 0 with value: 0.4931691414132686.\n",
      "[I 2023-11-27 22:35:18,574] Trial 11 finished with value: 0.4931691414132686 and parameters: {'solver': 'lbfgs'}. Best is trial 0 with value: 0.4931691414132686.\n",
      "[I 2023-11-27 22:35:20,032] Trial 12 finished with value: 0.4931691414132686 and parameters: {'solver': 'lbfgs'}. Best is trial 0 with value: 0.4931691414132686.\n",
      "[I 2023-11-27 22:35:21,362] Trial 13 finished with value: 0.4931691414132686 and parameters: {'solver': 'lbfgs'}. Best is trial 0 with value: 0.4931691414132686.\n",
      "[I 2023-11-27 22:35:22,773] Trial 14 finished with value: 0.4931691414132686 and parameters: {'solver': 'lbfgs'}. Best is trial 0 with value: 0.4931691414132686.\n",
      "[I 2023-11-27 22:35:24,107] Trial 15 finished with value: 0.4931691414132686 and parameters: {'solver': 'lbfgs'}. Best is trial 0 with value: 0.4931691414132686.\n",
      "[I 2023-11-27 22:35:25,454] Trial 16 finished with value: 0.4931691414132686 and parameters: {'solver': 'lbfgs'}. Best is trial 0 with value: 0.4931691414132686.\n",
      "[I 2023-11-27 22:35:26,853] Trial 17 finished with value: 0.4931691414132686 and parameters: {'solver': 'lbfgs'}. Best is trial 0 with value: 0.4931691414132686.\n",
      "[I 2023-11-27 22:35:28,194] Trial 18 finished with value: 0.4931691414132686 and parameters: {'solver': 'lbfgs'}. Best is trial 0 with value: 0.4931691414132686.\n",
      "[I 2023-11-27 22:35:29,581] Trial 19 finished with value: 0.4931691414132686 and parameters: {'solver': 'lbfgs'}. Best is trial 0 with value: 0.4931691414132686.\n",
      "[I 2023-11-27 22:35:30,952] Trial 20 finished with value: 0.4931691414132686 and parameters: {'solver': 'lbfgs'}. Best is trial 0 with value: 0.4931691414132686.\n",
      "[I 2023-11-27 22:35:32,263] Trial 21 finished with value: 0.4931691414132686 and parameters: {'solver': 'lbfgs'}. Best is trial 0 with value: 0.4931691414132686.\n",
      "[I 2023-11-27 22:35:33,547] Trial 22 finished with value: 0.4931691414132686 and parameters: {'solver': 'lbfgs'}. Best is trial 0 with value: 0.4931691414132686.\n",
      "[I 2023-11-27 22:35:34,894] Trial 23 finished with value: 0.4931691414132686 and parameters: {'solver': 'lbfgs'}. Best is trial 0 with value: 0.4931691414132686.\n",
      "[I 2023-11-27 22:35:36,237] Trial 24 finished with value: 0.4931691414132686 and parameters: {'solver': 'lbfgs'}. Best is trial 0 with value: 0.4931691414132686.\n",
      "[I 2023-11-27 22:35:37,563] Trial 25 finished with value: 0.4931691414132686 and parameters: {'solver': 'lbfgs'}. Best is trial 0 with value: 0.4931691414132686.\n",
      "[I 2023-11-27 22:35:39,362] Trial 26 finished with value: 0.49305864444463354 and parameters: {'solver': 'saga', 'C': 70.45195179310288, 'l1_ratio': 0.0002879157549819933}. Best is trial 0 with value: 0.4931691414132686.\n",
      "[I 2023-11-27 22:35:40,706] Trial 27 finished with value: 0.4931691414132686 and parameters: {'solver': 'lbfgs'}. Best is trial 0 with value: 0.4931691414132686.\n",
      "[I 2023-11-27 22:35:42,021] Trial 28 finished with value: 0.4931691414132686 and parameters: {'solver': 'lbfgs'}. Best is trial 0 with value: 0.4931691414132686.\n",
      "[I 2023-11-27 22:35:43,810] Trial 29 finished with value: 0.49305864444463354 and parameters: {'solver': 'saga', 'C': 62.698333278066514, 'l1_ratio': 0.3058453138766989}. Best is trial 0 with value: 0.4931691414132686.\n",
      "[I 2023-11-27 22:35:45,116] Trial 30 finished with value: 0.4931691414132686 and parameters: {'solver': 'lbfgs'}. Best is trial 0 with value: 0.4931691414132686.\n",
      "[I 2023-11-27 22:35:46,451] Trial 31 finished with value: 0.4931691414132686 and parameters: {'solver': 'lbfgs'}. Best is trial 0 with value: 0.4931691414132686.\n",
      "[I 2023-11-27 22:35:47,839] Trial 32 finished with value: 0.4931691414132686 and parameters: {'solver': 'lbfgs'}. Best is trial 0 with value: 0.4931691414132686.\n",
      "[I 2023-11-27 22:35:49,193] Trial 33 finished with value: 0.4931691414132686 and parameters: {'solver': 'lbfgs'}. Best is trial 0 with value: 0.4931691414132686.\n",
      "[I 2023-11-27 22:35:50,902] Trial 34 finished with value: 0.49305864444463354 and parameters: {'solver': 'saga', 'C': 3.852932749710412, 'l1_ratio': 0.9998242558858257}. Best is trial 0 with value: 0.4931691414132686.\n",
      "[I 2023-11-27 22:35:52,233] Trial 35 finished with value: 0.4931691414132686 and parameters: {'solver': 'lbfgs'}. Best is trial 0 with value: 0.4931691414132686.\n",
      "[I 2023-11-27 22:35:53,938] Trial 36 finished with value: 0.49305864444463354 and parameters: {'solver': 'saga', 'C': 92.97069927553201, 'l1_ratio': 0.7182547683275589}. Best is trial 0 with value: 0.4931691414132686.\n",
      "[I 2023-11-27 22:35:55,211] Trial 37 finished with value: 0.4931691414132686 and parameters: {'solver': 'lbfgs'}. Best is trial 0 with value: 0.4931691414132686.\n",
      "[I 2023-11-27 22:35:56,528] Trial 38 finished with value: 0.4931691414132686 and parameters: {'solver': 'lbfgs'}. Best is trial 0 with value: 0.4931691414132686.\n",
      "[I 2023-11-27 22:35:58,332] Trial 39 finished with value: 0.49305864444463354 and parameters: {'solver': 'saga', 'C': 50.76944071614846, 'l1_ratio': 0.3321409024655043}. Best is trial 0 with value: 0.4931691414132686.\n",
      "[I 2023-11-27 22:35:59,661] Trial 40 finished with value: 0.4931691414132686 and parameters: {'solver': 'lbfgs'}. Best is trial 0 with value: 0.4931691414132686.\n",
      "[I 2023-11-27 22:36:01,033] Trial 41 finished with value: 0.4931691414132686 and parameters: {'solver': 'lbfgs'}. Best is trial 0 with value: 0.4931691414132686.\n",
      "[I 2023-11-27 22:36:02,376] Trial 42 finished with value: 0.4931691414132686 and parameters: {'solver': 'lbfgs'}. Best is trial 0 with value: 0.4931691414132686.\n",
      "[I 2023-11-27 22:36:03,682] Trial 43 finished with value: 0.4931691414132686 and parameters: {'solver': 'lbfgs'}. Best is trial 0 with value: 0.4931691414132686.\n",
      "[I 2023-11-27 22:36:05,012] Trial 44 finished with value: 0.4931691414132686 and parameters: {'solver': 'lbfgs'}. Best is trial 0 with value: 0.4931691414132686.\n",
      "[I 2023-11-27 22:36:06,326] Trial 45 finished with value: 0.4931691414132686 and parameters: {'solver': 'lbfgs'}. Best is trial 0 with value: 0.4931691414132686.\n",
      "[I 2023-11-27 22:36:07,658] Trial 46 finished with value: 0.4931691414132686 and parameters: {'solver': 'lbfgs'}. Best is trial 0 with value: 0.4931691414132686.\n",
      "[I 2023-11-27 22:36:09,003] Trial 47 finished with value: 0.4931691414132686 and parameters: {'solver': 'lbfgs'}. Best is trial 0 with value: 0.4931691414132686.\n",
      "[I 2023-11-27 22:36:10,340] Trial 48 finished with value: 0.4931691414132686 and parameters: {'solver': 'lbfgs'}. Best is trial 0 with value: 0.4931691414132686.\n",
      "[I 2023-11-27 22:36:12,155] Trial 49 finished with value: 0.49305864444463354 and parameters: {'solver': 'saga', 'C': 83.7901145027011, 'l1_ratio': 0.7180099816336094}. Best is trial 0 with value: 0.4931691414132686.\n",
      "[I 2023-11-27 22:36:13,507] Trial 50 finished with value: 0.4931691414132686 and parameters: {'solver': 'lbfgs'}. Best is trial 0 with value: 0.4931691414132686.\n",
      "[I 2023-11-27 22:36:14,861] Trial 51 finished with value: 0.4931691414132686 and parameters: {'solver': 'lbfgs'}. Best is trial 0 with value: 0.4931691414132686.\n",
      "[I 2023-11-27 22:36:16,200] Trial 52 finished with value: 0.4931691414132686 and parameters: {'solver': 'lbfgs'}. Best is trial 0 with value: 0.4931691414132686.\n",
      "[I 2023-11-27 22:36:17,495] Trial 53 finished with value: 0.4931691414132686 and parameters: {'solver': 'lbfgs'}. Best is trial 0 with value: 0.4931691414132686.\n",
      "[I 2023-11-27 22:36:18,865] Trial 54 finished with value: 0.4931691414132686 and parameters: {'solver': 'lbfgs'}. Best is trial 0 with value: 0.4931691414132686.\n",
      "[I 2023-11-27 22:36:20,221] Trial 55 finished with value: 0.4931691414132686 and parameters: {'solver': 'lbfgs'}. Best is trial 0 with value: 0.4931691414132686.\n",
      "[I 2023-11-27 22:36:21,544] Trial 56 finished with value: 0.4931691414132686 and parameters: {'solver': 'lbfgs'}. Best is trial 0 with value: 0.4931691414132686.\n",
      "[I 2023-11-27 22:36:22,943] Trial 57 finished with value: 0.4931691414132686 and parameters: {'solver': 'lbfgs'}. Best is trial 0 with value: 0.4931691414132686.\n",
      "[I 2023-11-27 22:36:24,382] Trial 58 finished with value: 0.4931691414132686 and parameters: {'solver': 'lbfgs'}. Best is trial 0 with value: 0.4931691414132686.\n",
      "[I 2023-11-27 22:36:25,793] Trial 59 finished with value: 0.4931691414132686 and parameters: {'solver': 'lbfgs'}. Best is trial 0 with value: 0.4931691414132686.\n",
      "[I 2023-11-27 22:36:27,104] Trial 60 finished with value: 0.4931691414132686 and parameters: {'solver': 'lbfgs'}. Best is trial 0 with value: 0.4931691414132686.\n",
      "[I 2023-11-27 22:36:28,431] Trial 61 finished with value: 0.4931691414132686 and parameters: {'solver': 'lbfgs'}. Best is trial 0 with value: 0.4931691414132686.\n",
      "[I 2023-11-27 22:36:29,719] Trial 62 finished with value: 0.4931691414132686 and parameters: {'solver': 'lbfgs'}. Best is trial 0 with value: 0.4931691414132686.\n",
      "[I 2023-11-27 22:36:30,985] Trial 63 finished with value: 0.4931691414132686 and parameters: {'solver': 'lbfgs'}. Best is trial 0 with value: 0.4931691414132686.\n",
      "[I 2023-11-27 22:36:32,271] Trial 64 finished with value: 0.4931691414132686 and parameters: {'solver': 'lbfgs'}. Best is trial 0 with value: 0.4931691414132686.\n",
      "[I 2023-11-27 22:36:33,639] Trial 65 finished with value: 0.4931691414132686 and parameters: {'solver': 'lbfgs'}. Best is trial 0 with value: 0.4931691414132686.\n",
      "[I 2023-11-27 22:36:35,430] Trial 66 finished with value: 0.49305864444463354 and parameters: {'solver': 'saga', 'C': 76.7565947253307, 'l1_ratio': 0.17535861515640327}. Best is trial 0 with value: 0.4931691414132686.\n",
      "[I 2023-11-27 22:36:36,731] Trial 67 finished with value: 0.4931691414132686 and parameters: {'solver': 'lbfgs'}. Best is trial 0 with value: 0.4931691414132686.\n",
      "[I 2023-11-27 22:36:38,117] Trial 68 finished with value: 0.4931691414132686 and parameters: {'solver': 'lbfgs'}. Best is trial 0 with value: 0.4931691414132686.\n",
      "[I 2023-11-27 22:36:39,984] Trial 69 finished with value: 0.4931691414132686 and parameters: {'solver': 'lbfgs'}. Best is trial 0 with value: 0.4931691414132686.\n",
      "[I 2023-11-27 22:36:41,322] Trial 70 finished with value: 0.4931691414132686 and parameters: {'solver': 'lbfgs'}. Best is trial 0 with value: 0.4931691414132686.\n",
      "[I 2023-11-27 22:36:42,649] Trial 71 finished with value: 0.4931691414132686 and parameters: {'solver': 'lbfgs'}. Best is trial 0 with value: 0.4931691414132686.\n",
      "[I 2023-11-27 22:36:43,985] Trial 72 finished with value: 0.4931691414132686 and parameters: {'solver': 'lbfgs'}. Best is trial 0 with value: 0.4931691414132686.\n",
      "[I 2023-11-27 22:36:45,350] Trial 73 finished with value: 0.4931691414132686 and parameters: {'solver': 'lbfgs'}. Best is trial 0 with value: 0.4931691414132686.\n",
      "[I 2023-11-27 22:36:46,644] Trial 74 finished with value: 0.4931691414132686 and parameters: {'solver': 'lbfgs'}. Best is trial 0 with value: 0.4931691414132686.\n",
      "[I 2023-11-27 22:36:48,369] Trial 75 finished with value: 0.49305864444463354 and parameters: {'solver': 'saga', 'C': 58.55852176312366, 'l1_ratio': 0.5080000110935731}. Best is trial 0 with value: 0.4931691414132686.\n",
      "[I 2023-11-27 22:36:49,718] Trial 76 finished with value: 0.4931691414132686 and parameters: {'solver': 'lbfgs'}. Best is trial 0 with value: 0.4931691414132686.\n",
      "[I 2023-11-27 22:36:51,015] Trial 77 finished with value: 0.4931691414132686 and parameters: {'solver': 'lbfgs'}. Best is trial 0 with value: 0.4931691414132686.\n",
      "[I 2023-11-27 22:36:52,358] Trial 78 finished with value: 0.4931691414132686 and parameters: {'solver': 'lbfgs'}. Best is trial 0 with value: 0.4931691414132686.\n",
      "[I 2023-11-27 22:36:53,668] Trial 79 finished with value: 0.4931691414132686 and parameters: {'solver': 'lbfgs'}. Best is trial 0 with value: 0.4931691414132686.\n",
      "[I 2023-11-27 22:36:54,992] Trial 80 finished with value: 0.4931691414132686 and parameters: {'solver': 'lbfgs'}. Best is trial 0 with value: 0.4931691414132686.\n",
      "[I 2023-11-27 22:36:56,318] Trial 81 finished with value: 0.4931691414132686 and parameters: {'solver': 'lbfgs'}. Best is trial 0 with value: 0.4931691414132686.\n",
      "[I 2023-11-27 22:36:57,691] Trial 82 finished with value: 0.4931691414132686 and parameters: {'solver': 'lbfgs'}. Best is trial 0 with value: 0.4931691414132686.\n",
      "[I 2023-11-27 22:36:59,016] Trial 83 finished with value: 0.4931691414132686 and parameters: {'solver': 'lbfgs'}. Best is trial 0 with value: 0.4931691414132686.\n",
      "[I 2023-11-27 22:37:00,353] Trial 84 finished with value: 0.4931691414132686 and parameters: {'solver': 'lbfgs'}. Best is trial 0 with value: 0.4931691414132686.\n",
      "[I 2023-11-27 22:37:01,744] Trial 85 finished with value: 0.4931691414132686 and parameters: {'solver': 'lbfgs'}. Best is trial 0 with value: 0.4931691414132686.\n",
      "[I 2023-11-27 22:37:03,508] Trial 86 finished with value: 0.49305864444463354 and parameters: {'solver': 'saga', 'C': 35.95119598350932, 'l1_ratio': 0.19139362994776377}. Best is trial 0 with value: 0.4931691414132686.\n",
      "[I 2023-11-27 22:37:04,879] Trial 87 finished with value: 0.4931691414132686 and parameters: {'solver': 'lbfgs'}. Best is trial 0 with value: 0.4931691414132686.\n",
      "[I 2023-11-27 22:37:06,243] Trial 88 finished with value: 0.4931691414132686 and parameters: {'solver': 'lbfgs'}. Best is trial 0 with value: 0.4931691414132686.\n",
      "[I 2023-11-27 22:37:07,583] Trial 89 finished with value: 0.4931691414132686 and parameters: {'solver': 'lbfgs'}. Best is trial 0 with value: 0.4931691414132686.\n",
      "[I 2023-11-27 22:37:08,916] Trial 90 finished with value: 0.4931691414132686 and parameters: {'solver': 'lbfgs'}. Best is trial 0 with value: 0.4931691414132686.\n",
      "[I 2023-11-27 22:37:10,257] Trial 91 finished with value: 0.4931691414132686 and parameters: {'solver': 'lbfgs'}. Best is trial 0 with value: 0.4931691414132686.\n",
      "[I 2023-11-27 22:37:11,572] Trial 92 finished with value: 0.4931691414132686 and parameters: {'solver': 'lbfgs'}. Best is trial 0 with value: 0.4931691414132686.\n",
      "[I 2023-11-27 22:37:12,874] Trial 93 finished with value: 0.4931691414132686 and parameters: {'solver': 'lbfgs'}. Best is trial 0 with value: 0.4931691414132686.\n",
      "[I 2023-11-27 22:37:14,246] Trial 94 finished with value: 0.4931691414132686 and parameters: {'solver': 'lbfgs'}. Best is trial 0 with value: 0.4931691414132686.\n",
      "[I 2023-11-27 22:37:15,545] Trial 95 finished with value: 0.4931691414132686 and parameters: {'solver': 'lbfgs'}. Best is trial 0 with value: 0.4931691414132686.\n",
      "[I 2023-11-27 22:37:16,818] Trial 96 finished with value: 0.4931691414132686 and parameters: {'solver': 'lbfgs'}. Best is trial 0 with value: 0.4931691414132686.\n",
      "[I 2023-11-27 22:37:18,154] Trial 97 finished with value: 0.4931691414132686 and parameters: {'solver': 'lbfgs'}. Best is trial 0 with value: 0.4931691414132686.\n",
      "[I 2023-11-27 22:37:19,894] Trial 98 finished with value: 0.49305864444463354 and parameters: {'solver': 'saga', 'C': 87.7424902772577, 'l1_ratio': 0.8348499613649192}. Best is trial 0 with value: 0.4931691414132686.\n",
      "[I 2023-11-27 22:37:21,206] Trial 99 finished with value: 0.4931691414132686 and parameters: {'solver': 'lbfgs'}. Best is trial 0 with value: 0.4931691414132686.\n"
     ]
    }
   ],
   "source": [
    "study_log_reg_smote.optimize(optuna_optimize, n_trials=100)"
   ],
   "metadata": {
    "collapsed": false,
    "ExecuteTime": {
     "end_time": "2023-11-27T19:37:21.220380500Z",
     "start_time": "2023-11-27T19:34:59.838559Z"
    }
   }
  },
  {
   "cell_type": "code",
   "execution_count": 67,
   "outputs": [
    {
     "name": "stdout",
     "output_type": "stream",
     "text": [
      "Наилучшие значения гиперпараметров Logistic Regression: {'solver': 'lbfgs'}\n",
      "f1_score на обучающем наборе: 0.493\n"
     ]
    }
   ],
   "source": [
    "print(\"Наилучшие значения гиперпараметров Logistic Regression: {}\".format(study_log_reg_smote.best_params))\n",
    "print(\"f1_score на обучающем наборе: {:.3f}\". format(study_log_reg_smote.best_value))"
   ],
   "metadata": {
    "collapsed": false,
    "ExecuteTime": {
     "end_time": "2023-11-27T19:37:21.362230Z",
     "start_time": "2023-11-27T19:37:21.220380500Z"
    }
   }
  },
  {
   "cell_type": "code",
   "execution_count": 68,
   "outputs": [],
   "source": [
    "with mlflow.start_run(nested=True):\n",
    "\n",
    "    best_params = study_log_reg_smote.best_params\n",
    "    best_score = study_log_reg_smote.best_value\n",
    "    mlflow.log_params(best_params)\n",
    "\n",
    "    log_reg_pipe = Pipeline([\n",
    "        ('preprocessor', preprocessor),\n",
    "        ('smote', SMOTE(random_state=12345)),\n",
    "        ('model', LogisticRegression(**best_params,\n",
    "                                     random_state=12345))\n",
    "    ])\n",
    "\n",
    "    log_reg_pipe.fit(X_train, y_train)\n",
    "\n",
    "    pred_proba = log_reg_pipe.predict_proba(X_test)[:, 1]\n",
    "    roc_auc = roc_auc_score(y_test, pred_proba)\n",
    "    \n",
    "    mlflow.log_metrics({\n",
    "        'f1_cv': best_score,\n",
    "        'roc_auc': roc_auc,\n",
    "        'balanced_accuracy': balanced_accuracy_score(y_test, np.round(pred_proba, 0)),\n",
    "        'f1': f1_score(y_test, np.round(pred_proba, 0))\n",
    "    })\n",
    "\n",
    "    mlflow.sklearn.log_model(log_reg_pipe, 'log_reg_pipeline_smote')"
   ],
   "metadata": {
    "collapsed": false,
    "ExecuteTime": {
     "end_time": "2023-11-27T19:37:28.886017300Z",
     "start_time": "2023-11-27T19:37:21.237379200Z"
    }
   }
  },
  {
   "cell_type": "markdown",
   "source": [
    "### 3.2.4 Метод опорных векторов"
   ],
   "metadata": {
    "collapsed": false
   }
  },
  {
   "cell_type": "code",
   "execution_count": 69,
   "outputs": [],
   "source": [
    "def optuna_optimize(trial):\n",
    "\n",
    "    param = {\n",
    "        'C': trial.suggest_float('C', 0.001, 200)  \n",
    "    }\n",
    "\n",
    "    estimator = SVC(**param,\n",
    "                    random_state=12345,\n",
    "                    probability=True)\n",
    "\n",
    "    svc_pipe = Pipeline([\n",
    "        ('preprocessor', preprocessor),\n",
    "        ('smote', SMOTE(random_state=12345)),\n",
    "        ('model', estimator)\n",
    "    ])\n",
    "\n",
    "    score = cross_val_score(svc_pipe, X_train, y_train, cv=5, scoring='f1').mean()\n",
    "    \n",
    "    return score"
   ],
   "metadata": {
    "collapsed": false,
    "ExecuteTime": {
     "end_time": "2023-11-27T19:37:28.939881600Z",
     "start_time": "2023-11-27T19:37:28.898191800Z"
    }
   }
  },
  {
   "cell_type": "code",
   "execution_count": 70,
   "outputs": [
    {
     "name": "stderr",
     "output_type": "stream",
     "text": [
      "[I 2023-11-27 22:37:28,914] A new study created in memory with name: SVC Optuna Optimization SMOTE\n"
     ]
    }
   ],
   "source": [
    "study_svc_smote = optuna.create_study(study_name=\"SVC Optuna Optimization SMOTE\",\n",
    "                                direction='maximize')"
   ],
   "metadata": {
    "collapsed": false,
    "ExecuteTime": {
     "end_time": "2023-11-27T19:37:29.138746700Z",
     "start_time": "2023-11-27T19:37:28.914969800Z"
    }
   }
  },
  {
   "cell_type": "code",
   "execution_count": 71,
   "outputs": [
    {
     "name": "stderr",
     "output_type": "stream",
     "text": [
      "[I 2023-11-27 22:44:45,055] Trial 0 finished with value: 0.5136281780100983 and parameters: {'C': 170.6307160003901}. Best is trial 0 with value: 0.5136281780100983.\n",
      "[I 2023-11-27 22:49:29,302] Trial 1 finished with value: 0.5286555089764231 and parameters: {'C': 57.41201133605052}. Best is trial 1 with value: 0.5286555089764231.\n",
      "[I 2023-11-27 22:56:05,385] Trial 2 finished with value: 0.517944026695674 and parameters: {'C': 146.96040661465818}. Best is trial 1 with value: 0.5286555089764231.\n",
      "[I 2023-11-27 23:03:10,291] Trial 3 finished with value: 0.5147118352176973 and parameters: {'C': 179.32770002739113}. Best is trial 1 with value: 0.5286555089764231.\n",
      "[I 2023-11-27 23:08:49,800] Trial 4 finished with value: 0.5194447555653008 and parameters: {'C': 105.94337383130765}. Best is trial 1 with value: 0.5286555089764231.\n",
      "[I 2023-11-27 23:15:03,422] Trial 5 finished with value: 0.5176233872259008 and parameters: {'C': 133.81623792076414}. Best is trial 1 with value: 0.5286555089764231.\n",
      "[I 2023-11-27 23:22:28,036] Trial 6 finished with value: 0.5121579092392433 and parameters: {'C': 197.29698575738078}. Best is trial 1 with value: 0.5286555089764231.\n",
      "[I 2023-11-27 23:27:56,693] Trial 7 finished with value: 0.5187503145478534 and parameters: {'C': 97.61411809432138}. Best is trial 1 with value: 0.5286555089764231.\n",
      "[I 2023-11-27 23:31:49,028] Trial 8 finished with value: 0.5379222608848124 and parameters: {'C': 34.18181100054858}. Best is trial 8 with value: 0.5379222608848124.\n",
      "[I 2023-11-27 23:37:59,605] Trial 9 finished with value: 0.517887519183966 and parameters: {'C': 131.81967616103074}. Best is trial 8 with value: 0.5379222608848124.\n",
      "[I 2023-11-27 23:41:03,291] Trial 10 finished with value: 0.5717160991776105 and parameters: {'C': 0.484522829483538}. Best is trial 10 with value: 0.5717160991776105.\n",
      "[I 2023-11-27 23:44:07,390] Trial 11 finished with value: 0.5692923997978516 and parameters: {'C': 6.993653495205243}. Best is trial 10 with value: 0.5717160991776105.\n",
      "[I 2023-11-27 23:47:03,491] Trial 12 finished with value: 0.5748143951224902 and parameters: {'C': 1.7014488589885897}. Best is trial 12 with value: 0.5748143951224902.\n",
      "[I 2023-11-27 23:50:01,855] Trial 13 finished with value: 0.5730605321528849 and parameters: {'C': 3.5863380261628945}. Best is trial 12 with value: 0.5748143951224902.\n",
      "[I 2023-11-27 23:54:03,907] Trial 14 finished with value: 0.5353970745307981 and parameters: {'C': 37.916976156706454}. Best is trial 12 with value: 0.5748143951224902.\n",
      "[I 2023-11-27 23:57:37,900] Trial 15 finished with value: 0.5469622356618189 and parameters: {'C': 23.76028024390404}. Best is trial 12 with value: 0.5748143951224902.\n",
      "[I 2023-11-28 00:02:16,297] Trial 16 finished with value: 0.527886437795287 and parameters: {'C': 62.405077892526876}. Best is trial 12 with value: 0.5748143951224902.\n",
      "[I 2023-11-28 00:05:27,659] Trial 17 finished with value: 0.5634696200914695 and parameters: {'C': 10.666113612596714}. Best is trial 12 with value: 0.5748143951224902.\n",
      "[I 2023-11-28 00:09:54,648] Trial 18 finished with value: 0.5292189020722381 and parameters: {'C': 54.44472169321143}. Best is trial 12 with value: 0.5748143951224902.\n",
      "[I 2023-11-28 00:13:26,109] Trial 19 finished with value: 0.5481543395337815 and parameters: {'C': 21.99271750230617}. Best is trial 12 with value: 0.5748143951224902.\n",
      "[I 2023-11-28 00:16:34,807] Trial 20 finished with value: 0.5740528784447625 and parameters: {'C': 2.3291439090119086}. Best is trial 12 with value: 0.5748143951224902.\n",
      "[I 2023-11-28 00:19:23,834] Trial 21 finished with value: 0.57485371922788 and parameters: {'C': 1.0505273182242831}. Best is trial 21 with value: 0.57485371922788.\n",
      "[I 2023-11-28 00:23:01,621] Trial 22 finished with value: 0.5467756365982444 and parameters: {'C': 25.18852160346931}. Best is trial 21 with value: 0.57485371922788.\n",
      "[I 2023-11-28 00:27:05,026] Trial 23 finished with value: 0.5358985231555902 and parameters: {'C': 39.87509664798059}. Best is trial 21 with value: 0.57485371922788.\n",
      "[I 2023-11-28 00:30:01,335] Trial 24 finished with value: 0.574858885583974 and parameters: {'C': 1.8913745408488511}. Best is trial 24 with value: 0.574858885583974.\n",
      "[I 2023-11-28 00:33:27,917] Trial 25 finished with value: 0.5512681990938778 and parameters: {'C': 19.025490720073424}. Best is trial 24 with value: 0.574858885583974.\n",
      "[I 2023-11-28 00:36:29,749] Trial 26 finished with value: 0.5755691107042885 and parameters: {'C': 0.6122695267522624}. Best is trial 26 with value: 0.5755691107042885.\n",
      "[I 2023-11-28 00:40:40,069] Trial 27 finished with value: 0.5337778796077804 and parameters: {'C': 43.371467681725335}. Best is trial 26 with value: 0.5755691107042885.\n",
      "[I 2023-11-28 00:44:03,853] Trial 28 finished with value: 0.5550576280228865 and parameters: {'C': 17.423225254366294}. Best is trial 26 with value: 0.5755691107042885.\n",
      "[I 2023-11-28 00:47:25,120] Trial 29 finished with value: 0.558522912067363 and parameters: {'C': 15.965575550974126}. Best is trial 26 with value: 0.5755691107042885.\n",
      "[I 2023-11-28 00:52:18,025] Trial 30 finished with value: 0.5269083192006683 and parameters: {'C': 71.0817511687558}. Best is trial 26 with value: 0.5755691107042885.\n",
      "[I 2023-11-28 00:55:16,205] Trial 31 finished with value: 0.5722040078429445 and parameters: {'C': 2.941391819468244}. Best is trial 26 with value: 0.5755691107042885.\n",
      "[I 2023-11-28 00:59:01,725] Trial 32 finished with value: 0.5409710956105478 and parameters: {'C': 30.155366972242238}. Best is trial 26 with value: 0.5755691107042885.\n",
      "[I 2023-11-28 01:02:17,311] Trial 33 finished with value: 0.5639562964730147 and parameters: {'C': 0.2083697063657911}. Best is trial 26 with value: 0.5755691107042885.\n",
      "[I 2023-11-28 01:05:37,934] Trial 34 finished with value: 0.5601188627545307 and parameters: {'C': 15.336436412057163}. Best is trial 26 with value: 0.5755691107042885.\n",
      "[I 2023-11-28 01:09:21,438] Trial 35 finished with value: 0.5412173806113777 and parameters: {'C': 29.01163306302022}. Best is trial 26 with value: 0.5755691107042885.\n",
      "[I 2023-11-28 01:12:36,806] Trial 36 finished with value: 0.5641275842087299 and parameters: {'C': 12.802647480558845}. Best is trial 26 with value: 0.5755691107042885.\n",
      "[I 2023-11-28 01:16:49,283] Trial 37 finished with value: 0.5326116082264764 and parameters: {'C': 46.119044262947675}. Best is trial 26 with value: 0.5755691107042885.\n",
      "[I 2023-11-28 01:20:35,581] Trial 38 finished with value: 0.540687100674883 and parameters: {'C': 30.214138501305698}. Best is trial 26 with value: 0.5755691107042885.\n",
      "[I 2023-11-28 01:23:49,228] Trial 39 finished with value: 0.5637420461027919 and parameters: {'C': 12.19221581935254}. Best is trial 26 with value: 0.5755691107042885.\n",
      "[I 2023-11-28 01:27:20,323] Trial 40 finished with value: 0.5487022847392609 and parameters: {'C': 21.79574726186007}. Best is trial 26 with value: 0.5755691107042885.\n",
      "[I 2023-11-28 01:30:24,851] Trial 41 finished with value: 0.5701220166730988 and parameters: {'C': 7.068129221222784}. Best is trial 26 with value: 0.5755691107042885.\n",
      "[I 2023-11-28 01:33:28,327] Trial 42 finished with value: 0.5722227607592522 and parameters: {'C': 0.5024946131885926}. Best is trial 26 with value: 0.5755691107042885.\n",
      "[I 2023-11-28 01:36:42,150] Trial 43 finished with value: 0.5641314158060864 and parameters: {'C': 12.273969078804779}. Best is trial 26 with value: 0.5755691107042885.\n",
      "[I 2023-11-28 01:40:38,530] Trial 44 finished with value: 0.5358937818529569 and parameters: {'C': 35.90952134019885}. Best is trial 26 with value: 0.5755691107042885.\n",
      "[I 2023-11-28 01:43:44,325] Trial 45 finished with value: 0.5736863064482222 and parameters: {'C': 0.3754874235118879}. Best is trial 26 with value: 0.5755691107042885.\n",
      "[I 2023-11-28 01:46:53,790] Trial 46 finished with value: 0.5641305110491274 and parameters: {'C': 9.792403125900957}. Best is trial 26 with value: 0.5755691107042885.\n",
      "[I 2023-11-28 01:50:28,248] Trial 47 finished with value: 0.5494459458841394 and parameters: {'C': 22.902269860659953}. Best is trial 26 with value: 0.5755691107042885.\n",
      "[I 2023-11-28 01:54:18,448] Trial 48 finished with value: 0.5377836733539014 and parameters: {'C': 32.316943074873954}. Best is trial 26 with value: 0.5755691107042885.\n",
      "[I 2023-11-28 01:57:26,355] Trial 49 finished with value: 0.5675895896865332 and parameters: {'C': 8.702101655519023}. Best is trial 26 with value: 0.5755691107042885.\n",
      "[I 2023-11-28 02:01:44,583] Trial 50 finished with value: 0.5308230610269725 and parameters: {'C': 48.82388334143459}. Best is trial 26 with value: 0.5755691107042885.\n",
      "[I 2023-11-28 02:05:33,382] Trial 51 finished with value: 0.5438906585386998 and parameters: {'C': 0.04329254737472388}. Best is trial 26 with value: 0.5755691107042885.\n",
      "[I 2023-11-28 02:08:38,579] Trial 52 finished with value: 0.5714481615960868 and parameters: {'C': 7.392852873002118}. Best is trial 26 with value: 0.5755691107042885.\n",
      "[I 2023-11-28 02:11:45,702] Trial 53 finished with value: 0.5725261676848673 and parameters: {'C': 0.3579549016793895}. Best is trial 26 with value: 0.5755691107042885.\n",
      "[I 2023-11-28 02:15:11,996] Trial 54 finished with value: 0.5512681990938778 and parameters: {'C': 19.02667650911624}. Best is trial 26 with value: 0.5755691107042885.\n",
      "[I 2023-11-28 02:18:47,919] Trial 55 finished with value: 0.5480555552227158 and parameters: {'C': 24.24726994987874}. Best is trial 26 with value: 0.5755691107042885.\n",
      "[I 2023-11-28 02:22:00,094] Trial 56 finished with value: 0.5636325123519212 and parameters: {'C': 10.727551798497926}. Best is trial 26 with value: 0.5755691107042885.\n",
      "[I 2023-11-28 02:25:56,694] Trial 57 finished with value: 0.5350197875259706 and parameters: {'C': 36.236972795275776}. Best is trial 26 with value: 0.5755691107042885.\n",
      "[I 2023-11-28 02:29:00,764] Trial 58 finished with value: 0.5696784959247558 and parameters: {'C': 7.02295473343055}. Best is trial 26 with value: 0.5755691107042885.\n",
      "[I 2023-11-28 02:32:24,103] Trial 59 finished with value: 0.5550576280228865 and parameters: {'C': 17.457545758415364}. Best is trial 26 with value: 0.5755691107042885.\n",
      "[I 2023-11-28 02:36:06,291] Trial 60 finished with value: 0.5448169299313163 and parameters: {'C': 26.93156753839952}. Best is trial 26 with value: 0.5755691107042885.\n",
      "[I 2023-11-28 02:39:13,843] Trial 61 finished with value: 0.5711588348159775 and parameters: {'C': 7.534184098828811}. Best is trial 26 with value: 0.5755691107042885.\n",
      "[I 2023-11-28 02:42:24,844] Trial 62 finished with value: 0.5722688766913937 and parameters: {'C': 0.3504959098673055}. Best is trial 26 with value: 0.5755691107042885.\n",
      "[I 2023-11-28 02:45:50,304] Trial 63 finished with value: 0.5566785020456241 and parameters: {'C': 16.977393794645778}. Best is trial 26 with value: 0.5755691107042885.\n",
      "[I 2023-11-28 02:48:54,152] Trial 64 finished with value: 0.5729035080088464 and parameters: {'C': 4.957471749646148}. Best is trial 26 with value: 0.5755691107042885.\n",
      "[I 2023-11-28 02:52:16,910] Trial 65 finished with value: 0.5631598724246171 and parameters: {'C': 14.594830913921147}. Best is trial 26 with value: 0.5755691107042885.\n",
      "[I 2023-11-28 02:55:23,474] Trial 66 finished with value: 0.5707929461488731 and parameters: {'C': 6.8086224825787305}. Best is trial 26 with value: 0.5755691107042885.\n",
      "[I 2023-11-28 02:59:02,671] Trial 67 finished with value: 0.5477835508145504 and parameters: {'C': 24.68290082286532}. Best is trial 26 with value: 0.5755691107042885.\n",
      "[I 2023-11-28 03:02:28,368] Trial 68 finished with value: 0.5566845691960778 and parameters: {'C': 17.055859629637734}. Best is trial 26 with value: 0.5755691107042885.\n",
      "[I 2023-11-28 03:05:33,341] Trial 69 finished with value: 0.5718669296493716 and parameters: {'C': 5.773675921127774}. Best is trial 26 with value: 0.5755691107042885.\n",
      "[I 2023-11-28 03:09:06,353] Trial 70 finished with value: 0.5488779554744587 and parameters: {'C': 20.648551339973967}. Best is trial 26 with value: 0.5755691107042885.\n",
      "[I 2023-11-28 03:12:07,437] Trial 71 finished with value: 0.5730065828388933 and parameters: {'C': 3.8674116836397214}. Best is trial 26 with value: 0.5755691107042885.\n",
      "[I 2023-11-28 03:15:26,985] Trial 72 finished with value: 0.564992838212416 and parameters: {'C': 13.433494117723798}. Best is trial 26 with value: 0.5755691107042885.\n",
      "[I 2023-11-28 03:18:30,325] Trial 73 finished with value: 0.5716599729379643 and parameters: {'C': 4.214889682074252}. Best is trial 26 with value: 0.5755691107042885.\n",
      "[I 2023-11-28 03:21:48,402] Trial 74 finished with value: 0.5642874114723412 and parameters: {'C': 12.868624042227944}. Best is trial 26 with value: 0.5755691107042885.\n",
      "[I 2023-11-28 03:25:00,279] Trial 75 finished with value: 0.5733124106510555 and parameters: {'C': 0.3261665791322934}. Best is trial 26 with value: 0.5755691107042885.\n",
      "[I 2023-11-28 03:28:51,233] Trial 76 finished with value: 0.5389763438467166 and parameters: {'C': 31.07737564836963}. Best is trial 26 with value: 0.5755691107042885.\n",
      "[I 2023-11-28 03:31:53,887] Trial 77 finished with value: 0.5746298275534449 and parameters: {'C': 0.740548973427973}. Best is trial 26 with value: 0.5755691107042885.\n",
      "[I 2023-11-28 03:35:23,294] Trial 78 finished with value: 0.5503053699015299 and parameters: {'C': 0.10733073844389393}. Best is trial 26 with value: 0.5755691107042885.\n",
      "[I 2023-11-28 03:38:39,023] Trial 79 finished with value: 0.5622705217240933 and parameters: {'C': 11.408269069637054}. Best is trial 26 with value: 0.5755691107042885.\n",
      "[I 2023-11-28 03:42:21,800] Trial 80 finished with value: 0.5450716596865195 and parameters: {'C': 26.698464663381895}. Best is trial 26 with value: 0.5755691107042885.\n",
      "[I 2023-11-28 03:45:23,966] Trial 81 finished with value: 0.5729771806487247 and parameters: {'C': 4.722471447528351}. Best is trial 26 with value: 0.5755691107042885.\n",
      "[I 2023-11-28 03:48:37,381] Trial 82 finished with value: 0.5622773557509988 and parameters: {'C': 10.30714092448811}. Best is trial 26 with value: 0.5755691107042885.\n",
      "[I 2023-11-28 03:52:09,415] Trial 83 finished with value: 0.5499219769717978 and parameters: {'C': 19.715062442833506}. Best is trial 26 with value: 0.5755691107042885.\n",
      "[I 2023-11-28 03:55:12,558] Trial 84 finished with value: 0.5725299036194708 and parameters: {'C': 4.852902175657678}. Best is trial 26 with value: 0.5755691107042885.\n",
      "[I 2023-11-28 03:58:31,633] Trial 85 finished with value: 0.5647515953770247 and parameters: {'C': 13.523310187879106}. Best is trial 26 with value: 0.5755691107042885.\n",
      "[I 2023-11-28 04:01:55,411] Trial 86 finished with value: 0.5549784320775193 and parameters: {'C': 0.13853832355139895}. Best is trial 26 with value: 0.5755691107042885.\n",
      "[I 2023-11-28 04:05:29,698] Trial 87 finished with value: 0.5499570236824638 and parameters: {'C': 21.17341930734161}. Best is trial 26 with value: 0.5755691107042885.\n",
      "[I 2023-11-28 04:08:37,093] Trial 88 finished with value: 0.570644520980337 and parameters: {'C': 7.348747431018298}. Best is trial 26 with value: 0.5755691107042885.\n",
      "[I 2023-11-28 04:11:48,916] Trial 89 finished with value: 0.5639001723414063 and parameters: {'C': 9.884966595174623}. Best is trial 26 with value: 0.5755691107042885.\n",
      "[I 2023-11-28 04:15:12,100] Trial 90 finished with value: 0.5577561354090498 and parameters: {'C': 15.773830427560364}. Best is trial 26 with value: 0.5755691107042885.\n",
      "[I 2023-11-28 04:18:14,975] Trial 91 finished with value: 0.5734519781676151 and parameters: {'C': 4.496378990883853}. Best is trial 26 with value: 0.5755691107042885.\n",
      "[I 2023-11-28 04:21:41,967] Trial 92 finished with value: 0.5530506158470823 and parameters: {'C': 0.12194288290860816}. Best is trial 26 with value: 0.5755691107042885.\n",
      "[I 2023-11-28 04:24:43,391] Trial 93 finished with value: 0.5722234198680798 and parameters: {'C': 4.051614753902383}. Best is trial 26 with value: 0.5755691107042885.\n",
      "[I 2023-11-28 04:27:56,022] Trial 94 finished with value: 0.5636842415011791 and parameters: {'C': 10.049546739671023}. Best is trial 26 with value: 0.5755691107042885.\n",
      "[I 2023-11-28 04:31:21,293] Trial 95 finished with value: 0.558108609431752 and parameters: {'C': 16.20153435525583}. Best is trial 26 with value: 0.5755691107042885.\n",
      "[I 2023-11-28 04:34:24,244] Trial 96 finished with value: 0.572853349166004 and parameters: {'C': 5.044890934895377}. Best is trial 26 with value: 0.5755691107042885.\n",
      "[I 2023-11-28 04:38:02,761] Trial 97 finished with value: 0.5476540342167286 and parameters: {'C': 24.147627780889948}. Best is trial 26 with value: 0.5755691107042885.\n",
      "[I 2023-11-28 04:41:17,149] Trial 98 finished with value: 0.5637932948604787 and parameters: {'C': 10.89473108915704}. Best is trial 26 with value: 0.5755691107042885.\n",
      "[I 2023-11-28 04:44:19,050] Trial 99 finished with value: 0.5727543461270728 and parameters: {'C': 3.574904237167537}. Best is trial 26 with value: 0.5755691107042885.\n"
     ]
    }
   ],
   "source": [
    "study_svc_smote.optimize(optuna_optimize, n_trials=100)"
   ],
   "metadata": {
    "collapsed": false,
    "ExecuteTime": {
     "end_time": "2023-11-28T01:44:19.095756600Z",
     "start_time": "2023-11-27T19:37:28.951890200Z"
    }
   }
  },
  {
   "cell_type": "code",
   "execution_count": 72,
   "outputs": [
    {
     "name": "stdout",
     "output_type": "stream",
     "text": [
      "Наилучшие значения гиперпараметров SVC: {'C': 0.6122695267522624}\n",
      "f1_score на обучающем наборе: 0.576\n"
     ]
    }
   ],
   "source": [
    "print(\"Наилучшие значения гиперпараметров SVC: {}\".format(study_svc_smote.best_params))\n",
    "print(\"f1_score на обучающем наборе: {:.3f}\". format(study_svc_smote.best_value))"
   ],
   "metadata": {
    "collapsed": false,
    "ExecuteTime": {
     "end_time": "2023-11-28T01:44:19.150290200Z",
     "start_time": "2023-11-28T01:44:19.075654700Z"
    }
   }
  },
  {
   "cell_type": "code",
   "execution_count": 73,
   "outputs": [],
   "source": [
    "with mlflow.start_run(nested=True):\n",
    "\n",
    "    best_params = study_svc_smote.best_params\n",
    "    best_score = study_svc_smote.best_value\n",
    "    mlflow.log_params(best_params)\n",
    "\n",
    "    svc_pipe = Pipeline([\n",
    "        ('preprocessor', preprocessor),\n",
    "        ('smote', SMOTE(random_state=12345)),\n",
    "        ('model', SVC(**best_params,\n",
    "                      random_state=12345,\n",
    "                      probability=True))\n",
    "    ])\n",
    "\n",
    "    svc_pipe.fit(X_train, y_train)\n",
    "    pred_proba = svc_pipe.predict_proba(X_test)[:, 1]\n",
    "    roc_auc = roc_auc_score(y_test, pred_proba)\n",
    "    \n",
    "    mlflow.log_metrics({\n",
    "        'f1_cv': best_score,\n",
    "        'roc_auc': roc_auc,\n",
    "        'balanced_accuracy': balanced_accuracy_score(y_test, np.round(pred_proba, 0)),\n",
    "        'f1': f1_score(y_test, np.round(pred_proba, 0))\n",
    "    })\n",
    "\n",
    "    mlflow.sklearn.log_model(svc_pipe, 'svc_pipeline_smote')"
   ],
   "metadata": {
    "collapsed": false,
    "ExecuteTime": {
     "end_time": "2023-11-28T01:45:24.375540600Z",
     "start_time": "2023-11-28T01:44:19.100507Z"
    }
   }
  },
  {
   "cell_type": "code",
   "execution_count": 73,
   "outputs": [],
   "source": [],
   "metadata": {
    "collapsed": false,
    "ExecuteTime": {
     "end_time": "2023-11-28T01:45:24.419664700Z",
     "start_time": "2023-11-28T01:45:24.385986700Z"
    }
   }
  },
  {
   "cell_type": "code",
   "execution_count": 74,
   "outputs": [],
   "source": [
    "colNames = [\"XGBoost\", \"Random Forest\", \"Logistic Regression\", \"SVC\"]\n",
    "results = {\"Imbalanced\":[study_xgb.best_value, '-', '-', '-'],\n",
    "           \"Class Weight\":[study_xgb_cw.best_value, \n",
    "                           study_rf.best_value, \n",
    "                           study_log_reg.best_value, \n",
    "                           study_svc.best_value],\n",
    "           \"SMOTE\":[study_xgb_smote.best_value, \n",
    "                    study_rf_smote.best_value, \n",
    "                    study_log_reg_smote.best_value, \n",
    "                    study_svc_smote.best_value]}"
   ],
   "metadata": {
    "collapsed": false,
    "ExecuteTime": {
     "end_time": "2023-11-28T01:45:24.556221100Z",
     "start_time": "2023-11-28T01:45:24.404349700Z"
    }
   }
  },
  {
   "cell_type": "code",
   "execution_count": 75,
   "outputs": [],
   "source": [
    "# результаты метрики f1 score на кроссвалидации:\n",
    "table = pd.DataFrame.from_dict(results, orient='index', columns=colNames)"
   ],
   "metadata": {
    "collapsed": false,
    "ExecuteTime": {
     "end_time": "2023-11-28T01:45:24.557776300Z",
     "start_time": "2023-11-28T01:45:24.431002Z"
    }
   }
  },
  {
   "cell_type": "code",
   "execution_count": 76,
   "outputs": [
    {
     "data": {
      "text/plain": "               XGBoost Random Forest Logistic Regression       SVC\nImbalanced    0.591565             -                   -         -\nClass Weight  0.611431       0.61787            0.491084  0.579064\nSMOTE         0.626318      0.612853            0.493169  0.575569",
      "text/html": "<div>\n<style scoped>\n    .dataframe tbody tr th:only-of-type {\n        vertical-align: middle;\n    }\n\n    .dataframe tbody tr th {\n        vertical-align: top;\n    }\n\n    .dataframe thead th {\n        text-align: right;\n    }\n</style>\n<table border=\"1\" class=\"dataframe\">\n  <thead>\n    <tr style=\"text-align: right;\">\n      <th></th>\n      <th>XGBoost</th>\n      <th>Random Forest</th>\n      <th>Logistic Regression</th>\n      <th>SVC</th>\n    </tr>\n  </thead>\n  <tbody>\n    <tr>\n      <th>Imbalanced</th>\n      <td>0.591565</td>\n      <td>-</td>\n      <td>-</td>\n      <td>-</td>\n    </tr>\n    <tr>\n      <th>Class Weight</th>\n      <td>0.611431</td>\n      <td>0.61787</td>\n      <td>0.491084</td>\n      <td>0.579064</td>\n    </tr>\n    <tr>\n      <th>SMOTE</th>\n      <td>0.626318</td>\n      <td>0.612853</td>\n      <td>0.493169</td>\n      <td>0.575569</td>\n    </tr>\n  </tbody>\n</table>\n</div>"
     },
     "execution_count": 76,
     "metadata": {},
     "output_type": "execute_result"
    }
   ],
   "source": [
    "table"
   ],
   "metadata": {
    "collapsed": false,
    "ExecuteTime": {
     "end_time": "2023-11-28T01:45:24.558912100Z",
     "start_time": "2023-11-28T01:45:24.458137Z"
    }
   }
  },
  {
   "cell_type": "markdown",
   "source": [
    "# 4. Тестирование лучшей модели\n"
   ],
   "metadata": {
    "collapsed": false
   }
  },
  {
   "cell_type": "code",
   "execution_count": 77,
   "outputs": [
    {
     "data": {
      "text/plain": "Downloading artifacts:   0%|          | 0/5 [00:00<?, ?it/s]",
      "application/vnd.jupyter.widget-view+json": {
       "version_major": 2,
       "version_minor": 0,
       "model_id": "6af4da5538b44eb6bd9e3faf14398eac"
      }
     },
     "metadata": {},
     "output_type": "display_data"
    }
   ],
   "source": [
    "best_model = mlflow.sklearn.load_model('runs:/0e388b6d46cb442780f28cb35f4e82e1/xgb_pipeline_smote')"
   ],
   "metadata": {
    "collapsed": false,
    "ExecuteTime": {
     "end_time": "2023-11-28T05:40:22.964426400Z",
     "start_time": "2023-11-28T05:40:20.416505400Z"
    }
   }
  },
  {
   "cell_type": "code",
   "execution_count": 78,
   "outputs": [
    {
     "data": {
      "text/plain": "['best_model.pkl']"
     },
     "execution_count": 78,
     "metadata": {},
     "output_type": "execute_result"
    }
   ],
   "source": [
    "joblib.dump(best_model, 'best_model.pkl')"
   ],
   "metadata": {
    "collapsed": false,
    "ExecuteTime": {
     "end_time": "2023-11-28T05:40:25.216073Z",
     "start_time": "2023-11-28T05:40:25.040545500Z"
    }
   }
  },
  {
   "cell_type": "code",
   "execution_count": 91,
   "outputs": [
    {
     "name": "stdout",
     "output_type": "stream",
     "text": [
      "ROC-AUC score на тестовой выборке: 0.864531711989339\n",
      "f1 score на тестовой выборке: 0.6323529411764707\n",
      "Balanced accuracy на тестовой выборке: 0.7695584644737188\n"
     ]
    }
   ],
   "source": [
    "pred_proba_xgb_smote = best_model.predict_proba(X_test)[:, 1]\n",
    "print('ROC-AUC score на тестовой выборке:', roc_auc_score(y_test, pred_proba_xgb_smote))\n",
    "print('f1 score на тестовой выборке:', f1_score(y_test, np.round(pred_proba_xgb_smote)))\n",
    "print('Balanced accuracy на тестовой выборке:', balanced_accuracy_score(y_test, np.round(pred_proba_xgb_smote)))"
   ],
   "metadata": {
    "collapsed": false,
    "ExecuteTime": {
     "end_time": "2023-11-28T05:47:02.213059600Z",
     "start_time": "2023-11-28T05:47:01.979099900Z"
    }
   }
  },
  {
   "cell_type": "code",
   "execution_count": 25,
   "outputs": [
    {
     "data": {
      "text/plain": "Pipeline(steps=[('preprocessor',\n                 ColumnTransformer(remainder='passthrough',\n                                   transformers=[('cat',\n                                                  Pipeline(steps=[('enc',\n                                                                   OneHotEncoder(drop='first'))]),\n                                                  ['Geography', 'Gender']),\n                                                 ('num',\n                                                  Pipeline(steps=[('imp',\n                                                                   SimpleImputer(add_indicator=True,\n                                                                                 fill_value=-1)),\n                                                                  ('pt',\n                                                                   PowerTransformer())]),\n                                                  ['Balance', 'NumOfProducts',\n                                                   'Age', 'EstimatedSalary',\n                                                   'Tenure',\n                                                   'CreditSco...\n                               feature_types=None, gamma=None, grow_policy=None,\n                               importance_type=None,\n                               interaction_constraints=None, learning_rate=None,\n                               max_bin=None, max_cat_threshold=None,\n                               max_cat_to_onehot=None, max_delta_step=None,\n                               max_depth=3, max_leaves=None,\n                               min_child_weight=None, missing=nan,\n                               monotone_constraints=None, multi_strategy=None,\n                               n_estimators=131, n_jobs=None,\n                               num_parallel_tree=None, ...))])",
      "text/html": "<style>#sk-container-id-1 {color: black;}#sk-container-id-1 pre{padding: 0;}#sk-container-id-1 div.sk-toggleable {background-color: white;}#sk-container-id-1 label.sk-toggleable__label {cursor: pointer;display: block;width: 100%;margin-bottom: 0;padding: 0.3em;box-sizing: border-box;text-align: center;}#sk-container-id-1 label.sk-toggleable__label-arrow:before {content: \"▸\";float: left;margin-right: 0.25em;color: #696969;}#sk-container-id-1 label.sk-toggleable__label-arrow:hover:before {color: black;}#sk-container-id-1 div.sk-estimator:hover label.sk-toggleable__label-arrow:before {color: black;}#sk-container-id-1 div.sk-toggleable__content {max-height: 0;max-width: 0;overflow: hidden;text-align: left;background-color: #f0f8ff;}#sk-container-id-1 div.sk-toggleable__content pre {margin: 0.2em;color: black;border-radius: 0.25em;background-color: #f0f8ff;}#sk-container-id-1 input.sk-toggleable__control:checked~div.sk-toggleable__content {max-height: 200px;max-width: 100%;overflow: auto;}#sk-container-id-1 input.sk-toggleable__control:checked~label.sk-toggleable__label-arrow:before {content: \"▾\";}#sk-container-id-1 div.sk-estimator input.sk-toggleable__control:checked~label.sk-toggleable__label {background-color: #d4ebff;}#sk-container-id-1 div.sk-label input.sk-toggleable__control:checked~label.sk-toggleable__label {background-color: #d4ebff;}#sk-container-id-1 input.sk-hidden--visually {border: 0;clip: rect(1px 1px 1px 1px);clip: rect(1px, 1px, 1px, 1px);height: 1px;margin: -1px;overflow: hidden;padding: 0;position: absolute;width: 1px;}#sk-container-id-1 div.sk-estimator {font-family: monospace;background-color: #f0f8ff;border: 1px dotted black;border-radius: 0.25em;box-sizing: border-box;margin-bottom: 0.5em;}#sk-container-id-1 div.sk-estimator:hover {background-color: #d4ebff;}#sk-container-id-1 div.sk-parallel-item::after {content: \"\";width: 100%;border-bottom: 1px solid gray;flex-grow: 1;}#sk-container-id-1 div.sk-label:hover label.sk-toggleable__label {background-color: #d4ebff;}#sk-container-id-1 div.sk-serial::before {content: \"\";position: absolute;border-left: 1px solid gray;box-sizing: border-box;top: 0;bottom: 0;left: 50%;z-index: 0;}#sk-container-id-1 div.sk-serial {display: flex;flex-direction: column;align-items: center;background-color: white;padding-right: 0.2em;padding-left: 0.2em;position: relative;}#sk-container-id-1 div.sk-item {position: relative;z-index: 1;}#sk-container-id-1 div.sk-parallel {display: flex;align-items: stretch;justify-content: center;background-color: white;position: relative;}#sk-container-id-1 div.sk-item::before, #sk-container-id-1 div.sk-parallel-item::before {content: \"\";position: absolute;border-left: 1px solid gray;box-sizing: border-box;top: 0;bottom: 0;left: 50%;z-index: -1;}#sk-container-id-1 div.sk-parallel-item {display: flex;flex-direction: column;z-index: 1;position: relative;background-color: white;}#sk-container-id-1 div.sk-parallel-item:first-child::after {align-self: flex-end;width: 50%;}#sk-container-id-1 div.sk-parallel-item:last-child::after {align-self: flex-start;width: 50%;}#sk-container-id-1 div.sk-parallel-item:only-child::after {width: 0;}#sk-container-id-1 div.sk-dashed-wrapped {border: 1px dashed gray;margin: 0 0.4em 0.5em 0.4em;box-sizing: border-box;padding-bottom: 0.4em;background-color: white;}#sk-container-id-1 div.sk-label label {font-family: monospace;font-weight: bold;display: inline-block;line-height: 1.2em;}#sk-container-id-1 div.sk-label-container {text-align: center;}#sk-container-id-1 div.sk-container {/* jupyter's `normalize.less` sets `[hidden] { display: none; }` but bootstrap.min.css set `[hidden] { display: none !important; }` so we also need the `!important` here to be able to override the default hidden behavior on the sphinx rendered scikit-learn.org. See: https://github.com/scikit-learn/scikit-learn/issues/21755 */display: inline-block !important;position: relative;}#sk-container-id-1 div.sk-text-repr-fallback {display: none;}</style><div id=\"sk-container-id-1\" class=\"sk-top-container\"><div class=\"sk-text-repr-fallback\"><pre>Pipeline(steps=[(&#x27;preprocessor&#x27;,\n                 ColumnTransformer(remainder=&#x27;passthrough&#x27;,\n                                   transformers=[(&#x27;cat&#x27;,\n                                                  Pipeline(steps=[(&#x27;enc&#x27;,\n                                                                   OneHotEncoder(drop=&#x27;first&#x27;))]),\n                                                  [&#x27;Geography&#x27;, &#x27;Gender&#x27;]),\n                                                 (&#x27;num&#x27;,\n                                                  Pipeline(steps=[(&#x27;imp&#x27;,\n                                                                   SimpleImputer(add_indicator=True,\n                                                                                 fill_value=-1)),\n                                                                  (&#x27;pt&#x27;,\n                                                                   PowerTransformer())]),\n                                                  [&#x27;Balance&#x27;, &#x27;NumOfProducts&#x27;,\n                                                   &#x27;Age&#x27;, &#x27;EstimatedSalary&#x27;,\n                                                   &#x27;Tenure&#x27;,\n                                                   &#x27;CreditSco...\n                               feature_types=None, gamma=None, grow_policy=None,\n                               importance_type=None,\n                               interaction_constraints=None, learning_rate=None,\n                               max_bin=None, max_cat_threshold=None,\n                               max_cat_to_onehot=None, max_delta_step=None,\n                               max_depth=3, max_leaves=None,\n                               min_child_weight=None, missing=nan,\n                               monotone_constraints=None, multi_strategy=None,\n                               n_estimators=131, n_jobs=None,\n                               num_parallel_tree=None, ...))])</pre><b>In a Jupyter environment, please rerun this cell to show the HTML representation or trust the notebook. <br />On GitHub, the HTML representation is unable to render, please try loading this page with nbviewer.org.</b></div><div class=\"sk-container\" hidden><div class=\"sk-item sk-dashed-wrapped\"><div class=\"sk-label-container\"><div class=\"sk-label sk-toggleable\"><input class=\"sk-toggleable__control sk-hidden--visually\" id=\"sk-estimator-id-1\" type=\"checkbox\" ><label for=\"sk-estimator-id-1\" class=\"sk-toggleable__label sk-toggleable__label-arrow\">Pipeline</label><div class=\"sk-toggleable__content\"><pre>Pipeline(steps=[(&#x27;preprocessor&#x27;,\n                 ColumnTransformer(remainder=&#x27;passthrough&#x27;,\n                                   transformers=[(&#x27;cat&#x27;,\n                                                  Pipeline(steps=[(&#x27;enc&#x27;,\n                                                                   OneHotEncoder(drop=&#x27;first&#x27;))]),\n                                                  [&#x27;Geography&#x27;, &#x27;Gender&#x27;]),\n                                                 (&#x27;num&#x27;,\n                                                  Pipeline(steps=[(&#x27;imp&#x27;,\n                                                                   SimpleImputer(add_indicator=True,\n                                                                                 fill_value=-1)),\n                                                                  (&#x27;pt&#x27;,\n                                                                   PowerTransformer())]),\n                                                  [&#x27;Balance&#x27;, &#x27;NumOfProducts&#x27;,\n                                                   &#x27;Age&#x27;, &#x27;EstimatedSalary&#x27;,\n                                                   &#x27;Tenure&#x27;,\n                                                   &#x27;CreditSco...\n                               feature_types=None, gamma=None, grow_policy=None,\n                               importance_type=None,\n                               interaction_constraints=None, learning_rate=None,\n                               max_bin=None, max_cat_threshold=None,\n                               max_cat_to_onehot=None, max_delta_step=None,\n                               max_depth=3, max_leaves=None,\n                               min_child_weight=None, missing=nan,\n                               monotone_constraints=None, multi_strategy=None,\n                               n_estimators=131, n_jobs=None,\n                               num_parallel_tree=None, ...))])</pre></div></div></div><div class=\"sk-serial\"><div class=\"sk-item sk-dashed-wrapped\"><div class=\"sk-label-container\"><div class=\"sk-label sk-toggleable\"><input class=\"sk-toggleable__control sk-hidden--visually\" id=\"sk-estimator-id-2\" type=\"checkbox\" ><label for=\"sk-estimator-id-2\" class=\"sk-toggleable__label sk-toggleable__label-arrow\">preprocessor: ColumnTransformer</label><div class=\"sk-toggleable__content\"><pre>ColumnTransformer(remainder=&#x27;passthrough&#x27;,\n                  transformers=[(&#x27;cat&#x27;,\n                                 Pipeline(steps=[(&#x27;enc&#x27;,\n                                                  OneHotEncoder(drop=&#x27;first&#x27;))]),\n                                 [&#x27;Geography&#x27;, &#x27;Gender&#x27;]),\n                                (&#x27;num&#x27;,\n                                 Pipeline(steps=[(&#x27;imp&#x27;,\n                                                  SimpleImputer(add_indicator=True,\n                                                                fill_value=-1)),\n                                                 (&#x27;pt&#x27;, PowerTransformer())]),\n                                 [&#x27;Balance&#x27;, &#x27;NumOfProducts&#x27;, &#x27;Age&#x27;,\n                                  &#x27;EstimatedSalary&#x27;, &#x27;Tenure&#x27;,\n                                  &#x27;CreditScore&#x27;])])</pre></div></div></div><div class=\"sk-parallel\"><div class=\"sk-parallel-item\"><div class=\"sk-item\"><div class=\"sk-label-container\"><div class=\"sk-label sk-toggleable\"><input class=\"sk-toggleable__control sk-hidden--visually\" id=\"sk-estimator-id-3\" type=\"checkbox\" ><label for=\"sk-estimator-id-3\" class=\"sk-toggleable__label sk-toggleable__label-arrow\">cat</label><div class=\"sk-toggleable__content\"><pre>[&#x27;Geography&#x27;, &#x27;Gender&#x27;]</pre></div></div></div><div class=\"sk-serial\"><div class=\"sk-item\"><div class=\"sk-serial\"><div class=\"sk-item\"><div class=\"sk-estimator sk-toggleable\"><input class=\"sk-toggleable__control sk-hidden--visually\" id=\"sk-estimator-id-4\" type=\"checkbox\" ><label for=\"sk-estimator-id-4\" class=\"sk-toggleable__label sk-toggleable__label-arrow\">OneHotEncoder</label><div class=\"sk-toggleable__content\"><pre>OneHotEncoder(drop=&#x27;first&#x27;)</pre></div></div></div></div></div></div></div></div><div class=\"sk-parallel-item\"><div class=\"sk-item\"><div class=\"sk-label-container\"><div class=\"sk-label sk-toggleable\"><input class=\"sk-toggleable__control sk-hidden--visually\" id=\"sk-estimator-id-5\" type=\"checkbox\" ><label for=\"sk-estimator-id-5\" class=\"sk-toggleable__label sk-toggleable__label-arrow\">num</label><div class=\"sk-toggleable__content\"><pre>[&#x27;Balance&#x27;, &#x27;NumOfProducts&#x27;, &#x27;Age&#x27;, &#x27;EstimatedSalary&#x27;, &#x27;Tenure&#x27;, &#x27;CreditScore&#x27;]</pre></div></div></div><div class=\"sk-serial\"><div class=\"sk-item\"><div class=\"sk-serial\"><div class=\"sk-item\"><div class=\"sk-estimator sk-toggleable\"><input class=\"sk-toggleable__control sk-hidden--visually\" id=\"sk-estimator-id-6\" type=\"checkbox\" ><label for=\"sk-estimator-id-6\" class=\"sk-toggleable__label sk-toggleable__label-arrow\">SimpleImputer</label><div class=\"sk-toggleable__content\"><pre>SimpleImputer(add_indicator=True, fill_value=-1)</pre></div></div></div><div class=\"sk-item\"><div class=\"sk-estimator sk-toggleable\"><input class=\"sk-toggleable__control sk-hidden--visually\" id=\"sk-estimator-id-7\" type=\"checkbox\" ><label for=\"sk-estimator-id-7\" class=\"sk-toggleable__label sk-toggleable__label-arrow\">PowerTransformer</label><div class=\"sk-toggleable__content\"><pre>PowerTransformer()</pre></div></div></div></div></div></div></div></div><div class=\"sk-parallel-item\"><div class=\"sk-item\"><div class=\"sk-label-container\"><div class=\"sk-label sk-toggleable\"><input class=\"sk-toggleable__control sk-hidden--visually\" id=\"sk-estimator-id-8\" type=\"checkbox\" ><label for=\"sk-estimator-id-8\" class=\"sk-toggleable__label sk-toggleable__label-arrow\">remainder</label><div class=\"sk-toggleable__content\"><pre>[&#x27;HasCrCard&#x27;, &#x27;IsActiveMember&#x27;]</pre></div></div></div><div class=\"sk-serial\"><div class=\"sk-item\"><div class=\"sk-estimator sk-toggleable\"><input class=\"sk-toggleable__control sk-hidden--visually\" id=\"sk-estimator-id-9\" type=\"checkbox\" ><label for=\"sk-estimator-id-9\" class=\"sk-toggleable__label sk-toggleable__label-arrow\">passthrough</label><div class=\"sk-toggleable__content\"><pre>passthrough</pre></div></div></div></div></div></div></div></div><div class=\"sk-item\"><div class=\"sk-estimator sk-toggleable\"><input class=\"sk-toggleable__control sk-hidden--visually\" id=\"sk-estimator-id-10\" type=\"checkbox\" ><label for=\"sk-estimator-id-10\" class=\"sk-toggleable__label sk-toggleable__label-arrow\">SMOTE</label><div class=\"sk-toggleable__content\"><pre>SMOTE(random_state=12345)</pre></div></div></div><div class=\"sk-item\"><div class=\"sk-estimator sk-toggleable\"><input class=\"sk-toggleable__control sk-hidden--visually\" id=\"sk-estimator-id-11\" type=\"checkbox\" ><label for=\"sk-estimator-id-11\" class=\"sk-toggleable__label sk-toggleable__label-arrow\">XGBClassifier</label><div class=\"sk-toggleable__content\"><pre>XGBClassifier(base_score=None, booster=None, callbacks=None,\n              colsample_bylevel=None, colsample_bynode=None,\n              colsample_bytree=None, device=None, early_stopping_rounds=None,\n              enable_categorical=False, eta=0.11250589108448067,\n              eval_metric=None, feature_types=None, gamma=None,\n              grow_policy=None, importance_type=None,\n              interaction_constraints=None, learning_rate=None, max_bin=None,\n              max_cat_threshold=None, max_cat_to_onehot=None,\n              max_delta_step=None, max_depth=3, max_leaves=None,\n              min_child_weight=None, missing=nan, monotone_constraints=None,\n              multi_strategy=None, n_estimators=131, n_jobs=None,\n              num_parallel_tree=None, ...)</pre></div></div></div></div></div></div></div>"
     },
     "execution_count": 25,
     "metadata": {},
     "output_type": "execute_result"
    }
   ],
   "source": [
    "best_model"
   ],
   "metadata": {
    "collapsed": false,
    "ExecuteTime": {
     "end_time": "2023-11-22T11:01:53.219953Z",
     "start_time": "2023-11-22T11:01:52.948585100Z"
    }
   }
  },
  {
   "cell_type": "code",
   "execution_count": null,
   "outputs": [],
   "source": [],
   "metadata": {
    "collapsed": false
   }
  }
 ],
 "metadata": {
  "kernelspec": {
   "display_name": "Python 3",
   "language": "python",
   "name": "python3"
  },
  "language_info": {
   "codemirror_mode": {
    "name": "ipython",
    "version": 2
   },
   "file_extension": ".py",
   "mimetype": "text/x-python",
   "name": "python",
   "nbconvert_exporter": "python",
   "pygments_lexer": "ipython2",
   "version": "2.7.6"
  }
 },
 "nbformat": 4,
 "nbformat_minor": 0
}
