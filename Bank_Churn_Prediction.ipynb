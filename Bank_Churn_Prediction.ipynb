{
 "cells": [
  {
   "cell_type": "markdown",
   "source": [
    "# 1. Подготовка данных"
   ],
   "metadata": {
    "collapsed": false
   }
  },
  {
   "cell_type": "code",
   "execution_count": 1,
   "outputs": [],
   "source": [
    "import warnings\n",
    "warnings.filterwarnings('ignore')\n",
    "\n",
    "import optuna\n",
    "import mlflow\n",
    "import joblib\n",
    "import pandas as pd\n",
    "import xgboost as xgb\n",
    "import numpy as np\n",
    "import matplotlib.pyplot as plt\n",
    "\n",
    "from imblearn.over_sampling import SMOTE\n",
    "from imblearn.pipeline import Pipeline\n",
    "from sklearn.model_selection import train_test_split, cross_val_score\n",
    "from sklearn.preprocessing import OneHotEncoder, StandardScaler, PowerTransformer\n",
    "from sklearn.compose import ColumnTransformer\n",
    "from sklearn.impute import SimpleImputer\n",
    "from sklearn.ensemble import RandomForestClassifier\n",
    "from sklearn.linear_model import LogisticRegression\n",
    "from sklearn.svm import SVC\n",
    "from sklearn.metrics import roc_auc_score, roc_curve, confusion_matrix, f1_score, balanced_accuracy_score\n",
    "\n",
    "mlflow.set_tracking_uri(\"http://127.0.0.1:8000\")\n",
    "client=mlflow.MlflowClient(tracking_uri='http://127.0.0.1:8000')\n",
    "optuna.logging.set_verbosity(optuna.logging.WARNING)"
   ],
   "metadata": {
    "collapsed": false,
    "ExecuteTime": {
     "end_time": "2023-11-28T16:55:44.150086400Z",
     "start_time": "2023-11-28T16:55:28.522300300Z"
    }
   }
  },
  {
   "cell_type": "code",
   "execution_count": 2,
   "outputs": [],
   "source": [
    "df = pd.read_csv('Churn.csv')"
   ],
   "metadata": {
    "collapsed": false,
    "ExecuteTime": {
     "end_time": "2023-11-28T12:01:52.089021400Z",
     "start_time": "2023-11-28T12:01:51.942336700Z"
    }
   }
  },
  {
   "cell_type": "code",
   "execution_count": 3,
   "outputs": [
    {
     "data": {
      "text/plain": "      RowNumber  CustomerId    Surname  CreditScore Geography  Gender  Age  \\\n0             1    15634602   Hargrave          619    France  Female   42   \n1             2    15647311       Hill          608     Spain  Female   41   \n2             3    15619304       Onio          502    France  Female   42   \n3             4    15701354       Boni          699    France  Female   39   \n4             5    15737888   Mitchell          850     Spain  Female   43   \n...         ...         ...        ...          ...       ...     ...  ...   \n9995       9996    15606229   Obijiaku          771    France    Male   39   \n9996       9997    15569892  Johnstone          516    France    Male   35   \n9997       9998    15584532        Liu          709    France  Female   36   \n9998       9999    15682355  Sabbatini          772   Germany    Male   42   \n9999      10000    15628319     Walker          792    France  Female   28   \n\n      Tenure    Balance  NumOfProducts  HasCrCard  IsActiveMember  \\\n0        2.0       0.00              1          1               1   \n1        1.0   83807.86              1          0               1   \n2        8.0  159660.80              3          1               0   \n3        1.0       0.00              2          0               0   \n4        2.0  125510.82              1          1               1   \n...      ...        ...            ...        ...             ...   \n9995     5.0       0.00              2          1               0   \n9996    10.0   57369.61              1          1               1   \n9997     7.0       0.00              1          0               1   \n9998     3.0   75075.31              2          1               0   \n9999     NaN  130142.79              1          1               0   \n\n      EstimatedSalary  Exited  \n0           101348.88       1  \n1           112542.58       0  \n2           113931.57       1  \n3            93826.63       0  \n4            79084.10       0  \n...               ...     ...  \n9995         96270.64       0  \n9996        101699.77       0  \n9997         42085.58       1  \n9998         92888.52       1  \n9999         38190.78       0  \n\n[10000 rows x 14 columns]",
      "text/html": "<div>\n<style scoped>\n    .dataframe tbody tr th:only-of-type {\n        vertical-align: middle;\n    }\n\n    .dataframe tbody tr th {\n        vertical-align: top;\n    }\n\n    .dataframe thead th {\n        text-align: right;\n    }\n</style>\n<table border=\"1\" class=\"dataframe\">\n  <thead>\n    <tr style=\"text-align: right;\">\n      <th></th>\n      <th>RowNumber</th>\n      <th>CustomerId</th>\n      <th>Surname</th>\n      <th>CreditScore</th>\n      <th>Geography</th>\n      <th>Gender</th>\n      <th>Age</th>\n      <th>Tenure</th>\n      <th>Balance</th>\n      <th>NumOfProducts</th>\n      <th>HasCrCard</th>\n      <th>IsActiveMember</th>\n      <th>EstimatedSalary</th>\n      <th>Exited</th>\n    </tr>\n  </thead>\n  <tbody>\n    <tr>\n      <th>0</th>\n      <td>1</td>\n      <td>15634602</td>\n      <td>Hargrave</td>\n      <td>619</td>\n      <td>France</td>\n      <td>Female</td>\n      <td>42</td>\n      <td>2.0</td>\n      <td>0.00</td>\n      <td>1</td>\n      <td>1</td>\n      <td>1</td>\n      <td>101348.88</td>\n      <td>1</td>\n    </tr>\n    <tr>\n      <th>1</th>\n      <td>2</td>\n      <td>15647311</td>\n      <td>Hill</td>\n      <td>608</td>\n      <td>Spain</td>\n      <td>Female</td>\n      <td>41</td>\n      <td>1.0</td>\n      <td>83807.86</td>\n      <td>1</td>\n      <td>0</td>\n      <td>1</td>\n      <td>112542.58</td>\n      <td>0</td>\n    </tr>\n    <tr>\n      <th>2</th>\n      <td>3</td>\n      <td>15619304</td>\n      <td>Onio</td>\n      <td>502</td>\n      <td>France</td>\n      <td>Female</td>\n      <td>42</td>\n      <td>8.0</td>\n      <td>159660.80</td>\n      <td>3</td>\n      <td>1</td>\n      <td>0</td>\n      <td>113931.57</td>\n      <td>1</td>\n    </tr>\n    <tr>\n      <th>3</th>\n      <td>4</td>\n      <td>15701354</td>\n      <td>Boni</td>\n      <td>699</td>\n      <td>France</td>\n      <td>Female</td>\n      <td>39</td>\n      <td>1.0</td>\n      <td>0.00</td>\n      <td>2</td>\n      <td>0</td>\n      <td>0</td>\n      <td>93826.63</td>\n      <td>0</td>\n    </tr>\n    <tr>\n      <th>4</th>\n      <td>5</td>\n      <td>15737888</td>\n      <td>Mitchell</td>\n      <td>850</td>\n      <td>Spain</td>\n      <td>Female</td>\n      <td>43</td>\n      <td>2.0</td>\n      <td>125510.82</td>\n      <td>1</td>\n      <td>1</td>\n      <td>1</td>\n      <td>79084.10</td>\n      <td>0</td>\n    </tr>\n    <tr>\n      <th>...</th>\n      <td>...</td>\n      <td>...</td>\n      <td>...</td>\n      <td>...</td>\n      <td>...</td>\n      <td>...</td>\n      <td>...</td>\n      <td>...</td>\n      <td>...</td>\n      <td>...</td>\n      <td>...</td>\n      <td>...</td>\n      <td>...</td>\n      <td>...</td>\n    </tr>\n    <tr>\n      <th>9995</th>\n      <td>9996</td>\n      <td>15606229</td>\n      <td>Obijiaku</td>\n      <td>771</td>\n      <td>France</td>\n      <td>Male</td>\n      <td>39</td>\n      <td>5.0</td>\n      <td>0.00</td>\n      <td>2</td>\n      <td>1</td>\n      <td>0</td>\n      <td>96270.64</td>\n      <td>0</td>\n    </tr>\n    <tr>\n      <th>9996</th>\n      <td>9997</td>\n      <td>15569892</td>\n      <td>Johnstone</td>\n      <td>516</td>\n      <td>France</td>\n      <td>Male</td>\n      <td>35</td>\n      <td>10.0</td>\n      <td>57369.61</td>\n      <td>1</td>\n      <td>1</td>\n      <td>1</td>\n      <td>101699.77</td>\n      <td>0</td>\n    </tr>\n    <tr>\n      <th>9997</th>\n      <td>9998</td>\n      <td>15584532</td>\n      <td>Liu</td>\n      <td>709</td>\n      <td>France</td>\n      <td>Female</td>\n      <td>36</td>\n      <td>7.0</td>\n      <td>0.00</td>\n      <td>1</td>\n      <td>0</td>\n      <td>1</td>\n      <td>42085.58</td>\n      <td>1</td>\n    </tr>\n    <tr>\n      <th>9998</th>\n      <td>9999</td>\n      <td>15682355</td>\n      <td>Sabbatini</td>\n      <td>772</td>\n      <td>Germany</td>\n      <td>Male</td>\n      <td>42</td>\n      <td>3.0</td>\n      <td>75075.31</td>\n      <td>2</td>\n      <td>1</td>\n      <td>0</td>\n      <td>92888.52</td>\n      <td>1</td>\n    </tr>\n    <tr>\n      <th>9999</th>\n      <td>10000</td>\n      <td>15628319</td>\n      <td>Walker</td>\n      <td>792</td>\n      <td>France</td>\n      <td>Female</td>\n      <td>28</td>\n      <td>NaN</td>\n      <td>130142.79</td>\n      <td>1</td>\n      <td>1</td>\n      <td>0</td>\n      <td>38190.78</td>\n      <td>0</td>\n    </tr>\n  </tbody>\n</table>\n<p>10000 rows × 14 columns</p>\n</div>"
     },
     "execution_count": 3,
     "metadata": {},
     "output_type": "execute_result"
    }
   ],
   "source": [
    "df"
   ],
   "metadata": {
    "collapsed": false,
    "ExecuteTime": {
     "end_time": "2023-11-28T12:01:53.133846300Z",
     "start_time": "2023-11-28T12:01:53.022276900Z"
    }
   }
  },
  {
   "cell_type": "code",
   "execution_count": 4,
   "outputs": [
    {
     "name": "stdout",
     "output_type": "stream",
     "text": [
      "<class 'pandas.core.frame.DataFrame'>\n",
      "RangeIndex: 10000 entries, 0 to 9999\n",
      "Data columns (total 14 columns):\n",
      " #   Column           Non-Null Count  Dtype  \n",
      "---  ------           --------------  -----  \n",
      " 0   RowNumber        10000 non-null  int64  \n",
      " 1   CustomerId       10000 non-null  int64  \n",
      " 2   Surname          10000 non-null  object \n",
      " 3   CreditScore      10000 non-null  int64  \n",
      " 4   Geography        10000 non-null  object \n",
      " 5   Gender           10000 non-null  object \n",
      " 6   Age              10000 non-null  int64  \n",
      " 7   Tenure           9091 non-null   float64\n",
      " 8   Balance          10000 non-null  float64\n",
      " 9   NumOfProducts    10000 non-null  int64  \n",
      " 10  HasCrCard        10000 non-null  int64  \n",
      " 11  IsActiveMember   10000 non-null  int64  \n",
      " 12  EstimatedSalary  10000 non-null  float64\n",
      " 13  Exited           10000 non-null  int64  \n",
      "dtypes: float64(3), int64(8), object(3)\n",
      "memory usage: 1.1+ MB\n"
     ]
    }
   ],
   "source": [
    "df.info()"
   ],
   "metadata": {
    "collapsed": false,
    "ExecuteTime": {
     "end_time": "2023-11-28T12:01:55.623269500Z",
     "start_time": "2023-11-28T12:01:55.473326300Z"
    }
   }
  },
  {
   "cell_type": "code",
   "execution_count": 5,
   "outputs": [
    {
     "data": {
      "text/plain": "0"
     },
     "execution_count": 5,
     "metadata": {},
     "output_type": "execute_result"
    }
   ],
   "source": [
    "# проверим наличие явных дубликатов:\n",
    "df.duplicated().sum()"
   ],
   "metadata": {
    "collapsed": false,
    "ExecuteTime": {
     "end_time": "2023-11-28T12:01:57.083134500Z",
     "start_time": "2023-11-28T12:01:56.980562800Z"
    }
   }
  },
  {
   "cell_type": "code",
   "execution_count": 11,
   "outputs": [
    {
     "data": {
      "text/plain": "Geography\nFrance     5014\nGermany    2509\nSpain      2477\nName: count, dtype: int64"
     },
     "metadata": {},
     "output_type": "display_data"
    },
    {
     "data": {
      "text/plain": "Tenure\n1.0     952\n2.0     950\n8.0     933\n3.0     928\n5.0     927\n7.0     925\n4.0     885\n9.0     882\n6.0     881\n10.0    446\n0.0     382\nName: count, dtype: int64"
     },
     "metadata": {},
     "output_type": "display_data"
    },
    {
     "data": {
      "text/plain": "NumOfProducts\n1    5084\n2    4590\n3     266\n4      60\nName: count, dtype: int64"
     },
     "metadata": {},
     "output_type": "display_data"
    },
    {
     "data": {
      "text/plain": "Gender\nMale      5457\nFemale    4543\nName: count, dtype: int64"
     },
     "metadata": {},
     "output_type": "display_data"
    },
    {
     "data": {
      "text/plain": "HasCrCard\n1    7055\n0    2945\nName: count, dtype: int64"
     },
     "metadata": {},
     "output_type": "display_data"
    },
    {
     "data": {
      "text/plain": "IsActiveMember\n1    5151\n0    4849\nName: count, dtype: int64"
     },
     "metadata": {},
     "output_type": "display_data"
    }
   ],
   "source": [
    "# посмотрим уникальные значения в категориальных признаках:\n",
    "cat_columns = ['Geography', 'Tenure', 'NumOfProducts', 'Gender', 'HasCrCard', 'IsActiveMember']\n",
    "for col in cat_columns:\n",
    "    display(df[col].value_counts())"
   ],
   "metadata": {
    "collapsed": false,
    "ExecuteTime": {
     "end_time": "2023-11-28T12:06:56.436018Z",
     "start_time": "2023-11-28T12:06:56.310828500Z"
    }
   }
  },
  {
   "cell_type": "code",
   "execution_count": 12,
   "outputs": [
    {
     "data": {
      "text/plain": "Exited\n0    7963\n1    2037\nName: count, dtype: int64"
     },
     "execution_count": 12,
     "metadata": {},
     "output_type": "execute_result"
    }
   ],
   "source": [
    "# посчитаем классы в целевом признаке:\n",
    "df['Exited'].value_counts()"
   ],
   "metadata": {
    "collapsed": false,
    "ExecuteTime": {
     "end_time": "2023-11-28T12:07:31.506696500Z",
     "start_time": "2023-11-28T12:07:31.393923800Z"
    }
   }
  },
  {
   "cell_type": "markdown",
   "source": [
    "Можно отметить, что дубликаты в датасете отсутствуют, в столбце Tenure есть около тысячи пропусков, а также несколько столбцов лучше вообще удалить, из них:\n",
    "\n",
    "- RowNumber - это индекс строки в данных, важной информации не содержит;\n",
    "- CustomerId - уникальный идентификатор клиента, по нему мы проверили дубликаты и теперь его можно удалить;\n",
    "- Surname - фамилия, которая тоже не имеет связи с оттоком клиентов.\n",
    "\n",
    "После проверки датасета на сбалансированность классов в таргете мы видим, что объектов отрицательного класса намного больше (почти в четыре раза), но все равно уходит примерно 20% клиентов. В столбце Geography находятся всего 3 уникальных значения: France, Germany и Spain. В столбце Tenure (сколько лет человек является клиентом банка) есть 909 пропусков. Заполним их значением -1, добавив логический параметр add_indicator=True. Есть несколько бинарных признаков (HasCrCard, IsActiveMember), которывыделим в отдельную категорию признаков."
   ],
   "metadata": {
    "collapsed": false
   }
  },
  {
   "cell_type": "code",
   "execution_count": 13,
   "outputs": [],
   "source": [
    "# удалим ненужные столбцы:\n",
    "df.drop([\"RowNumber\", \"CustomerId\", \"Surname\"], axis=1, inplace=True)"
   ],
   "metadata": {
    "collapsed": false,
    "ExecuteTime": {
     "end_time": "2023-11-28T12:07:41.423392Z",
     "start_time": "2023-11-28T12:07:41.327950400Z"
    }
   }
  },
  {
   "cell_type": "code",
   "execution_count": 14,
   "outputs": [
    {
     "data": {
      "text/plain": "      CreditScore Geography  Gender  Age  Tenure    Balance  NumOfProducts  \\\n0             619    France  Female   42     2.0       0.00              1   \n1             608     Spain  Female   41     1.0   83807.86              1   \n2             502    France  Female   42     8.0  159660.80              3   \n3             699    France  Female   39     1.0       0.00              2   \n4             850     Spain  Female   43     2.0  125510.82              1   \n...           ...       ...     ...  ...     ...        ...            ...   \n9995          771    France    Male   39     5.0       0.00              2   \n9996          516    France    Male   35    10.0   57369.61              1   \n9997          709    France  Female   36     7.0       0.00              1   \n9998          772   Germany    Male   42     3.0   75075.31              2   \n9999          792    France  Female   28     NaN  130142.79              1   \n\n      HasCrCard  IsActiveMember  EstimatedSalary  Exited  \n0             1               1        101348.88       1  \n1             0               1        112542.58       0  \n2             1               0        113931.57       1  \n3             0               0         93826.63       0  \n4             1               1         79084.10       0  \n...         ...             ...              ...     ...  \n9995          1               0         96270.64       0  \n9996          1               1        101699.77       0  \n9997          0               1         42085.58       1  \n9998          1               0         92888.52       1  \n9999          1               0         38190.78       0  \n\n[10000 rows x 11 columns]",
      "text/html": "<div>\n<style scoped>\n    .dataframe tbody tr th:only-of-type {\n        vertical-align: middle;\n    }\n\n    .dataframe tbody tr th {\n        vertical-align: top;\n    }\n\n    .dataframe thead th {\n        text-align: right;\n    }\n</style>\n<table border=\"1\" class=\"dataframe\">\n  <thead>\n    <tr style=\"text-align: right;\">\n      <th></th>\n      <th>CreditScore</th>\n      <th>Geography</th>\n      <th>Gender</th>\n      <th>Age</th>\n      <th>Tenure</th>\n      <th>Balance</th>\n      <th>NumOfProducts</th>\n      <th>HasCrCard</th>\n      <th>IsActiveMember</th>\n      <th>EstimatedSalary</th>\n      <th>Exited</th>\n    </tr>\n  </thead>\n  <tbody>\n    <tr>\n      <th>0</th>\n      <td>619</td>\n      <td>France</td>\n      <td>Female</td>\n      <td>42</td>\n      <td>2.0</td>\n      <td>0.00</td>\n      <td>1</td>\n      <td>1</td>\n      <td>1</td>\n      <td>101348.88</td>\n      <td>1</td>\n    </tr>\n    <tr>\n      <th>1</th>\n      <td>608</td>\n      <td>Spain</td>\n      <td>Female</td>\n      <td>41</td>\n      <td>1.0</td>\n      <td>83807.86</td>\n      <td>1</td>\n      <td>0</td>\n      <td>1</td>\n      <td>112542.58</td>\n      <td>0</td>\n    </tr>\n    <tr>\n      <th>2</th>\n      <td>502</td>\n      <td>France</td>\n      <td>Female</td>\n      <td>42</td>\n      <td>8.0</td>\n      <td>159660.80</td>\n      <td>3</td>\n      <td>1</td>\n      <td>0</td>\n      <td>113931.57</td>\n      <td>1</td>\n    </tr>\n    <tr>\n      <th>3</th>\n      <td>699</td>\n      <td>France</td>\n      <td>Female</td>\n      <td>39</td>\n      <td>1.0</td>\n      <td>0.00</td>\n      <td>2</td>\n      <td>0</td>\n      <td>0</td>\n      <td>93826.63</td>\n      <td>0</td>\n    </tr>\n    <tr>\n      <th>4</th>\n      <td>850</td>\n      <td>Spain</td>\n      <td>Female</td>\n      <td>43</td>\n      <td>2.0</td>\n      <td>125510.82</td>\n      <td>1</td>\n      <td>1</td>\n      <td>1</td>\n      <td>79084.10</td>\n      <td>0</td>\n    </tr>\n    <tr>\n      <th>...</th>\n      <td>...</td>\n      <td>...</td>\n      <td>...</td>\n      <td>...</td>\n      <td>...</td>\n      <td>...</td>\n      <td>...</td>\n      <td>...</td>\n      <td>...</td>\n      <td>...</td>\n      <td>...</td>\n    </tr>\n    <tr>\n      <th>9995</th>\n      <td>771</td>\n      <td>France</td>\n      <td>Male</td>\n      <td>39</td>\n      <td>5.0</td>\n      <td>0.00</td>\n      <td>2</td>\n      <td>1</td>\n      <td>0</td>\n      <td>96270.64</td>\n      <td>0</td>\n    </tr>\n    <tr>\n      <th>9996</th>\n      <td>516</td>\n      <td>France</td>\n      <td>Male</td>\n      <td>35</td>\n      <td>10.0</td>\n      <td>57369.61</td>\n      <td>1</td>\n      <td>1</td>\n      <td>1</td>\n      <td>101699.77</td>\n      <td>0</td>\n    </tr>\n    <tr>\n      <th>9997</th>\n      <td>709</td>\n      <td>France</td>\n      <td>Female</td>\n      <td>36</td>\n      <td>7.0</td>\n      <td>0.00</td>\n      <td>1</td>\n      <td>0</td>\n      <td>1</td>\n      <td>42085.58</td>\n      <td>1</td>\n    </tr>\n    <tr>\n      <th>9998</th>\n      <td>772</td>\n      <td>Germany</td>\n      <td>Male</td>\n      <td>42</td>\n      <td>3.0</td>\n      <td>75075.31</td>\n      <td>2</td>\n      <td>1</td>\n      <td>0</td>\n      <td>92888.52</td>\n      <td>1</td>\n    </tr>\n    <tr>\n      <th>9999</th>\n      <td>792</td>\n      <td>France</td>\n      <td>Female</td>\n      <td>28</td>\n      <td>NaN</td>\n      <td>130142.79</td>\n      <td>1</td>\n      <td>1</td>\n      <td>0</td>\n      <td>38190.78</td>\n      <td>0</td>\n    </tr>\n  </tbody>\n</table>\n<p>10000 rows × 11 columns</p>\n</div>"
     },
     "execution_count": 14,
     "metadata": {},
     "output_type": "execute_result"
    }
   ],
   "source": [
    "df"
   ],
   "metadata": {
    "collapsed": false,
    "ExecuteTime": {
     "end_time": "2023-11-28T12:07:42.791453100Z",
     "start_time": "2023-11-28T12:07:42.687027500Z"
    }
   }
  },
  {
   "cell_type": "code",
   "execution_count": 15,
   "outputs": [
    {
     "name": "stdout",
     "output_type": "stream",
     "text": [
      "<class 'pandas.core.frame.DataFrame'>\n",
      "RangeIndex: 10000 entries, 0 to 9999\n",
      "Data columns (total 11 columns):\n",
      " #   Column           Non-Null Count  Dtype  \n",
      "---  ------           --------------  -----  \n",
      " 0   CreditScore      10000 non-null  int64  \n",
      " 1   Geography        10000 non-null  object \n",
      " 2   Gender           10000 non-null  object \n",
      " 3   Age              10000 non-null  int64  \n",
      " 4   Tenure           9091 non-null   float64\n",
      " 5   Balance          10000 non-null  float64\n",
      " 6   NumOfProducts    10000 non-null  int64  \n",
      " 7   HasCrCard        10000 non-null  int64  \n",
      " 8   IsActiveMember   10000 non-null  int64  \n",
      " 9   EstimatedSalary  10000 non-null  float64\n",
      " 10  Exited           10000 non-null  int64  \n",
      "dtypes: float64(3), int64(6), object(2)\n",
      "memory usage: 859.5+ KB\n"
     ]
    }
   ],
   "source": [
    "df.info()"
   ],
   "metadata": {
    "collapsed": false,
    "ExecuteTime": {
     "end_time": "2023-11-28T12:07:45.523914200Z",
     "start_time": "2023-11-28T12:07:45.416465800Z"
    }
   }
  },
  {
   "cell_type": "code",
   "execution_count": 16,
   "outputs": [],
   "source": [
    "# сохраним признаки и целевой признак в отдельных переменных:\n",
    "y = df['Exited']\n",
    "X = df.drop('Exited', axis=1)"
   ],
   "metadata": {
    "collapsed": false,
    "ExecuteTime": {
     "end_time": "2023-11-28T12:07:47.234490100Z",
     "start_time": "2023-11-28T12:07:47.139493300Z"
    }
   }
  },
  {
   "cell_type": "code",
   "execution_count": 17,
   "outputs": [],
   "source": [
    "# разобьем исходные данные на обучающую и тестовую выборки в соотношении 4:1:\n",
    "X_train, X_test, y_train, y_test = train_test_split(X, y, test_size=0.2, random_state=12345, stratify=y)"
   ],
   "metadata": {
    "collapsed": false,
    "ExecuteTime": {
     "end_time": "2023-11-28T12:07:59.624676800Z",
     "start_time": "2023-11-28T12:07:59.497647500Z"
    }
   }
  },
  {
   "cell_type": "code",
   "execution_count": 18,
   "outputs": [
    {
     "name": "stdout",
     "output_type": "stream",
     "text": [
      "Размер обучающей выборки: (8000, 10)\n",
      "Размер тестовой выборки: (2000, 10)\n"
     ]
    }
   ],
   "source": [
    "# посмотрим на размеры выборок:\n",
    "print('Размер обучающей выборки:', X_train.shape)\n",
    "print('Размер тестовой выборки:', X_test.shape)"
   ],
   "metadata": {
    "collapsed": false,
    "ExecuteTime": {
     "end_time": "2023-11-28T12:08:00.315376300Z",
     "start_time": "2023-11-28T12:08:00.143948Z"
    }
   }
  },
  {
   "cell_type": "code",
   "execution_count": 19,
   "outputs": [],
   "source": [
    "# внесем в переменные списки все численные и категориальные признаки:\n",
    "categorical_features = X_train.select_dtypes(include=['object']).columns.tolist()\n",
    "numeric_features = X_train.select_dtypes(exclude=['object']).columns.tolist()\n",
    "binary_features = ['HasCrCard', 'IsActiveMember']\n",
    "numeric_features = list(set(numeric_features) - set(binary_features))"
   ],
   "metadata": {
    "collapsed": false,
    "ExecuteTime": {
     "end_time": "2023-11-28T12:08:01.416945900Z",
     "start_time": "2023-11-28T12:08:01.314877300Z"
    }
   }
  },
  {
   "cell_type": "code",
   "execution_count": 20,
   "outputs": [
    {
     "data": {
      "text/plain": "['Balance', 'EstimatedSalary', 'CreditScore', 'NumOfProducts', 'Age', 'Tenure']"
     },
     "execution_count": 20,
     "metadata": {},
     "output_type": "execute_result"
    }
   ],
   "source": [
    "numeric_features"
   ],
   "metadata": {
    "collapsed": false,
    "ExecuteTime": {
     "end_time": "2023-11-28T12:08:07.255722800Z",
     "start_time": "2023-11-28T12:08:07.105942Z"
    }
   }
  },
  {
   "cell_type": "code",
   "execution_count": 21,
   "outputs": [
    {
     "data": {
      "text/plain": "['Geography', 'Gender']"
     },
     "execution_count": 21,
     "metadata": {},
     "output_type": "execute_result"
    }
   ],
   "source": [
    "categorical_features"
   ],
   "metadata": {
    "collapsed": false,
    "ExecuteTime": {
     "end_time": "2023-11-28T12:08:09.063845300Z",
     "start_time": "2023-11-28T12:08:08.986373300Z"
    }
   }
  },
  {
   "cell_type": "code",
   "execution_count": 22,
   "outputs": [
    {
     "data": {
      "text/plain": "['HasCrCard', 'IsActiveMember']"
     },
     "execution_count": 22,
     "metadata": {},
     "output_type": "execute_result"
    }
   ],
   "source": [
    "binary_features"
   ],
   "metadata": {
    "collapsed": false,
    "ExecuteTime": {
     "end_time": "2023-11-28T12:08:09.911700300Z",
     "start_time": "2023-11-28T12:08:09.788905700Z"
    }
   }
  },
  {
   "cell_type": "markdown",
   "source": [
    "# 2. Обучение модели без учёта дисбаланса классов (XGBoost)"
   ],
   "metadata": {
    "collapsed": false
   }
  },
  {
   "cell_type": "markdown",
   "source": [
    "Для автоматизации процесса подготовим численный и категориальный пайплайны.\n",
    "- Для категориальных признаков (Geography, Gender) используем One Hot Encoding.\n",
    "- Для заполнения пропусков используем SimpleImputer.\n",
    "- Выполним трансформацию Йео-Джонсона.\n",
    "- Для моделей логистической регрессии и SVM выполним масштабирование данных; для моделей, основанных на деревьях, выполнять его не будем.\n",
    "- Объединим пайплайны классом ColumnTransformer."
   ],
   "metadata": {
    "collapsed": false
   }
  },
  {
   "cell_type": "code",
   "execution_count": 22,
   "outputs": [],
   "source": [
    "cat_pipeline = Pipeline([\n",
    "    ('enc', OneHotEncoder(handle_unknown='error', drop='first'))\n",
    "])\n",
    "\n",
    "num_pipeline = Pipeline([\n",
    "    ('imp', SimpleImputer(fill_value=-1, add_indicator=True)),\n",
    "    ('pt', PowerTransformer()) \n",
    "])\n",
    "\n",
    "preprocessor = ColumnTransformer([\n",
    "    (\"cat\", cat_pipeline, categorical_features),\n",
    "    (\"num\", num_pipeline, numeric_features)\n",
    "\n",
    "], remainder='passthrough')\n",
    "\n",
    "pipe = Pipeline([\n",
    "    ('preprocessor', preprocessor),\n",
    "    ('model', xgb.XGBClassifier(random_state=12345))\n",
    "])"
   ],
   "metadata": {
    "collapsed": false,
    "ExecuteTime": {
     "end_time": "2023-11-28T06:42:47.737196800Z",
     "start_time": "2023-11-28T06:42:47.623243Z"
    }
   }
  },
  {
   "cell_type": "code",
   "execution_count": 23,
   "outputs": [],
   "source": [
    "def optuna_optimize(trial):\n",
    "    param_grid = {\n",
    "        'model__n_estimators': trial.suggest_int('model__n_estimators', 50, 250),\n",
    "        'model__max_depth': trial.suggest_int('model__max_depth', 2, 10),\n",
    "        'model__eta': trial.suggest_float('model__eta', 0.01, 1.5)\n",
    "    }\n",
    "\n",
    "    pipe.set_params(**param_grid)\n",
    "    score = cross_val_score(pipe, X_train, y_train, cv=5, scoring='f1').mean()\n",
    "    return score"
   ],
   "metadata": {
    "collapsed": false,
    "ExecuteTime": {
     "end_time": "2023-11-28T06:42:49.524875400Z",
     "start_time": "2023-11-28T06:42:49.350763900Z"
    }
   }
  },
  {
   "cell_type": "code",
   "execution_count": 24,
   "outputs": [
    {
     "name": "stderr",
     "output_type": "stream",
     "text": [
      "[I 2023-11-28 09:42:51,979] A new study created in memory with name: XGBoost Optuna Optimization Imbalanced\n"
     ]
    }
   ],
   "source": [
    "study_xgb = optuna.create_study(study_name=\"XGBoost Optuna Optimization Imbalanced\",\n",
    "                                direction='maximize')"
   ],
   "metadata": {
    "collapsed": false,
    "ExecuteTime": {
     "end_time": "2023-11-28T06:42:52.154609200Z",
     "start_time": "2023-11-28T06:42:51.983833800Z"
    }
   }
  },
  {
   "cell_type": "code",
   "execution_count": 25,
   "outputs": [],
   "source": [
    "study_xgb.optimize(optuna_optimize, n_trials=100)"
   ],
   "metadata": {
    "collapsed": false,
    "ExecuteTime": {
     "end_time": "2023-11-28T06:45:44.592908500Z",
     "start_time": "2023-11-28T06:42:54.476131700Z"
    }
   }
  },
  {
   "cell_type": "code",
   "execution_count": 26,
   "outputs": [
    {
     "name": "stdout",
     "output_type": "stream",
     "text": [
      "Наилучшие значения гиперпараметров XGBoost: {'model__n_estimators': 102, 'model__max_depth': 3, 'model__eta': 0.2039844245783137}\n",
      "f1_score на обучающем наборе: 0.590\n"
     ]
    }
   ],
   "source": [
    "print(\"Наилучшие значения гиперпараметров XGBoost: {}\".format(study_xgb.best_params))\n",
    "print(\"f1_score на обучающем наборе: {:.3f}\". format(study_xgb.best_value))"
   ],
   "metadata": {
    "collapsed": false,
    "ExecuteTime": {
     "end_time": "2023-11-28T06:46:15.024937Z",
     "start_time": "2023-11-28T06:46:14.876795900Z"
    }
   }
  },
  {
   "cell_type": "code",
   "execution_count": 27,
   "outputs": [],
   "source": [
    "with mlflow.start_run(nested=True,\n",
    "                      run_name='xgb_pipeline_imbalanced'):\n",
    "\n",
    "    best_params = study_xgb.best_params\n",
    "    best_score = study_xgb.best_value\n",
    "    mlflow.log_params(best_params)\n",
    "\n",
    "    pipe.set_params(**best_params)\n",
    "    pipe.fit(X_train, y_train)\n",
    "    pred_proba = pipe.predict_proba(X_test)[:, 1]\n",
    "    roc_auc = roc_auc_score(y_test, pred_proba)\n",
    "    \n",
    "    mlflow.log_metrics({\n",
    "        'f1_cv': best_score,\n",
    "        'roc_auc': roc_auc,\n",
    "        'balanced_accuracy': balanced_accuracy_score(y_test, np.round(pred_proba)),\n",
    "        'f1': f1_score(y_test, np.round(pred_proba))\n",
    "    })\n",
    "\n",
    "    mlflow.sklearn.log_model(pipe, 'xgb_pipeline_imbalanced')"
   ],
   "metadata": {
    "collapsed": false,
    "ExecuteTime": {
     "end_time": "2023-11-28T06:46:33.570385300Z",
     "start_time": "2023-11-28T06:46:19.287691300Z"
    }
   }
  },
  {
   "cell_type": "markdown",
   "source": [
    "# 3. Обучение моделей с учётом дисбаланса классов\n",
    "## 3.1 Назначение разных весов классам (cost-sensitive learning)\n",
    "### 3.1.1 Модель XGBoost"
   ],
   "metadata": {
    "collapsed": false
   }
  },
  {
   "cell_type": "code",
   "execution_count": 28,
   "outputs": [],
   "source": [
    "cat_pipeline = Pipeline([\n",
    "    ('enc', OneHotEncoder(handle_unknown='error', drop='first'))\n",
    "])\n",
    "\n",
    "num_pipeline = Pipeline([\n",
    "    ('imp', SimpleImputer(fill_value=-1, add_indicator=True)),\n",
    "    ('pt', PowerTransformer())\n",
    "])\n",
    "\n",
    "preprocessor = ColumnTransformer([\n",
    "    (\"cat\", cat_pipeline, categorical_features),\n",
    "    (\"num\", num_pipeline, numeric_features)\n",
    "\n",
    "], remainder='passthrough')"
   ],
   "metadata": {
    "collapsed": false,
    "ExecuteTime": {
     "end_time": "2023-11-28T06:47:13.146881100Z",
     "start_time": "2023-11-28T06:47:12.993199600Z"
    }
   }
  },
  {
   "cell_type": "code",
   "execution_count": 29,
   "outputs": [],
   "source": [
    "def optuna_optimize(trial):\n",
    "    param = {\n",
    "        'n_estimators': trial.suggest_int('n_estimators', 50, 250),\n",
    "        'max_depth': trial.suggest_int('max_depth', 2, 10),\n",
    "        'eta': trial.suggest_float('eta', 0.01, 1.5)\n",
    "    }\n",
    "\n",
    "    estimator = xgb.XGBClassifier(**param, \n",
    "                                  scale_pos_weight=3.91,\n",
    "                                  random_state=12345)\n",
    "    \n",
    "    xgb_pipe = Pipeline([\n",
    "        ('preprocessor', preprocessor),\n",
    "        ('model', estimator)\n",
    "    ])\n",
    "\n",
    "    score = cross_val_score(xgb_pipe, X_train, y_train, cv=5, scoring='f1').mean()\n",
    "    return score"
   ],
   "metadata": {
    "collapsed": false,
    "ExecuteTime": {
     "end_time": "2023-11-28T06:47:14.446310900Z",
     "start_time": "2023-11-28T06:47:14.295785700Z"
    }
   }
  },
  {
   "cell_type": "code",
   "execution_count": 30,
   "outputs": [],
   "source": [
    "study_xgb_cw = optuna.create_study(study_name=\"XGBoost Optuna Optimization Class Weight\",\n",
    "                                direction='maximize')"
   ],
   "metadata": {
    "collapsed": false,
    "ExecuteTime": {
     "end_time": "2023-11-28T06:47:16.255908200Z",
     "start_time": "2023-11-28T06:47:15.954538300Z"
    }
   }
  },
  {
   "cell_type": "code",
   "execution_count": 31,
   "outputs": [],
   "source": [
    "study_xgb_cw.optimize(optuna_optimize, n_trials=100)"
   ],
   "metadata": {
    "collapsed": false,
    "ExecuteTime": {
     "end_time": "2023-11-28T06:50:18.450921500Z",
     "start_time": "2023-11-28T06:47:29.754012800Z"
    }
   }
  },
  {
   "cell_type": "code",
   "execution_count": 32,
   "outputs": [
    {
     "name": "stdout",
     "output_type": "stream",
     "text": [
      "Наилучшие значения гиперпараметров XGBoost: {'n_estimators': 80, 'max_depth': 2, 'eta': 0.2162809124337865}\n",
      "f1_score на обучающем наборе: 0.609\n"
     ]
    }
   ],
   "source": [
    "print(\"Наилучшие значения гиперпараметров XGBoost: {}\".format(study_xgb_cw.best_params))\n",
    "print(\"f1_score на обучающем наборе: {:.3f}\". format(study_xgb_cw.best_value))"
   ],
   "metadata": {
    "collapsed": false,
    "ExecuteTime": {
     "end_time": "2023-11-28T06:52:40.362025400Z",
     "start_time": "2023-11-28T06:52:40.206868800Z"
    }
   }
  },
  {
   "cell_type": "code",
   "execution_count": 33,
   "outputs": [],
   "source": [
    "with mlflow.start_run(nested=True,\n",
    "                      run_name='xgb_pipeline_class_weight'):\n",
    "\n",
    "    best_params = study_xgb_cw.best_params\n",
    "    best_score = study_xgb_cw.best_value\n",
    "    mlflow.log_params(best_params)\n",
    "\n",
    "    xgb_pipe_cw = Pipeline([\n",
    "        ('preprocessor', preprocessor),\n",
    "        ('model', xgb.XGBClassifier(**best_params,\n",
    "                                    scale_pos_weight=3.91,\n",
    "                                    random_state=12345))\n",
    "    ])\n",
    "\n",
    "    xgb_pipe_cw.fit(X_train, y_train) \n",
    "\n",
    "    pred_proba = xgb_pipe_cw.predict_proba(X_test)[:, 1]\n",
    "    roc_auc = roc_auc_score(y_test, pred_proba)\n",
    "    \n",
    "    mlflow.log_metrics({\n",
    "        'f1_cv': best_score,\n",
    "        'roc_auc': roc_auc,\n",
    "        'balanced_accuracy': balanced_accuracy_score(y_test, np.round(pred_proba, 0)),\n",
    "        'f1': f1_score(y_test, np.round(pred_proba, 0))\n",
    "    })\n",
    "\n",
    "    mlflow.sklearn.log_model(xgb_pipe_cw, 'xgb_pipeline_class_weight')"
   ],
   "metadata": {
    "collapsed": false,
    "ExecuteTime": {
     "end_time": "2023-11-28T06:53:13.861932800Z",
     "start_time": "2023-11-28T06:52:52.669071800Z"
    }
   }
  },
  {
   "cell_type": "markdown",
   "source": [
    "### 3.1.2 Случайный лес"
   ],
   "metadata": {
    "collapsed": false
   }
  },
  {
   "cell_type": "code",
   "execution_count": 34,
   "outputs": [],
   "source": [
    "def optuna_optimize(trial):\n",
    "    param = {\n",
    "        'n_estimators': trial.suggest_int('n_estimators', 50, 300), # увеличить\n",
    "        'max_depth': trial.suggest_int('max_depth', 2, 10), # увеличить\n",
    "        'min_samples_leaf': trial.suggest_int('min_samples_leaf', 2, 8)\n",
    "    }\n",
    "\n",
    "    estimator = RandomForestClassifier(**param, \n",
    "                                       class_weight='balanced',\n",
    "                                       random_state=12345)\n",
    "\n",
    "    rf_pipe = Pipeline([\n",
    "        ('preprocessor', preprocessor),\n",
    "        ('model', estimator)\n",
    "    ])\n",
    "\n",
    "    score = cross_val_score(rf_pipe, X_train, y_train, cv=5, scoring='f1').mean()\n",
    "    return score"
   ],
   "metadata": {
    "collapsed": false,
    "ExecuteTime": {
     "end_time": "2023-11-28T06:53:13.911800900Z",
     "start_time": "2023-11-28T06:53:13.877071200Z"
    }
   }
  },
  {
   "cell_type": "code",
   "execution_count": 35,
   "outputs": [],
   "source": [
    "study_rf = optuna.create_study(study_name=\"RandomForest Optuna Optimization Class Weight\",\n",
    "                                direction='maximize')"
   ],
   "metadata": {
    "collapsed": false,
    "ExecuteTime": {
     "end_time": "2023-11-28T06:53:14.007395700Z",
     "start_time": "2023-11-28T06:53:13.894977100Z"
    }
   }
  },
  {
   "cell_type": "code",
   "execution_count": 36,
   "outputs": [],
   "source": [
    "study_rf.optimize(optuna_optimize, n_trials=100)"
   ],
   "metadata": {
    "collapsed": false,
    "ExecuteTime": {
     "end_time": "2023-11-28T07:26:21.608262700Z",
     "start_time": "2023-11-28T06:53:13.927018400Z"
    }
   }
  },
  {
   "cell_type": "code",
   "execution_count": 37,
   "outputs": [
    {
     "name": "stdout",
     "output_type": "stream",
     "text": [
      "Наилучшие значения гиперпараметров Random Forest: {'n_estimators': 293, 'max_depth': 9, 'min_samples_leaf': 4}\n",
      "f1_score на обучающем наборе: 0.619\n"
     ]
    }
   ],
   "source": [
    "print(\"Наилучшие значения гиперпараметров Random Forest: {}\".format(study_rf.best_params))\n",
    "print(\"f1_score на обучающем наборе: {:.3f}\". format(study_rf.best_value))"
   ],
   "metadata": {
    "collapsed": false,
    "ExecuteTime": {
     "end_time": "2023-11-28T07:26:21.745048Z",
     "start_time": "2023-11-28T07:26:21.610736800Z"
    }
   }
  },
  {
   "cell_type": "code",
   "execution_count": 38,
   "outputs": [],
   "source": [
    "with mlflow.start_run(nested=True,\n",
    "                      run_name='rf_pipeline_class_weight'):\n",
    "\n",
    "    best_params = study_rf.best_params\n",
    "    best_score = study_rf.best_value\n",
    "    mlflow.log_params(best_params)\n",
    "\n",
    "    rf_pipe_cw = Pipeline([\n",
    "        ('preprocessor', preprocessor),\n",
    "        ('model', RandomForestClassifier(**best_params,\n",
    "                                         class_weight='balanced',\n",
    "                                         random_state=12345))\n",
    "    ])\n",
    "\n",
    "    rf_pipe_cw.fit(X_train, y_train)\n",
    "\n",
    "    pred_proba = rf_pipe_cw.predict_proba(X_test)[:, 1]\n",
    "    roc_auc = roc_auc_score(y_test, pred_proba)\n",
    "    \n",
    "    mlflow.log_metrics({\n",
    "        'f1_cv': best_score,\n",
    "        'roc_auc': roc_auc,\n",
    "        'balanced_accuracy': balanced_accuracy_score(y_test, np.round(pred_proba, 0)),\n",
    "        'f1': f1_score(y_test, np.round(pred_proba, 0))\n",
    "    })\n",
    "    \n",
    "    mlflow.sklearn.log_model(rf_pipe_cw, 'rf_pipeline_class_weight')"
   ],
   "metadata": {
    "collapsed": false,
    "ExecuteTime": {
     "end_time": "2023-11-28T07:26:35.544130100Z",
     "start_time": "2023-11-28T07:26:21.661538300Z"
    }
   }
  },
  {
   "cell_type": "markdown",
   "source": [
    "### 3.1.3 Логистическая регрессия"
   ],
   "metadata": {
    "collapsed": false
   }
  },
  {
   "cell_type": "code",
   "execution_count": 39,
   "outputs": [],
   "source": [
    "cat_pipeline = Pipeline([\n",
    "    ('enc', OneHotEncoder(handle_unknown='error', drop='first'))\n",
    "])\n",
    "\n",
    "num_pipeline = Pipeline([\n",
    "    ('imp', SimpleImputer(fill_value=-1, add_indicator=True)),\n",
    "    ('pt', PowerTransformer()),\n",
    "    ('scal', StandardScaler())\n",
    "])\n",
    "\n",
    "preprocessor = ColumnTransformer([\n",
    "    (\"cat\", cat_pipeline, categorical_features),\n",
    "    (\"num\", num_pipeline, numeric_features)\n",
    "], remainder='passthrough')"
   ],
   "metadata": {
    "collapsed": false,
    "ExecuteTime": {
     "end_time": "2023-11-28T07:26:35.585118800Z",
     "start_time": "2023-11-28T07:26:35.550284300Z"
    }
   }
  },
  {
   "cell_type": "code",
   "execution_count": 40,
   "outputs": [],
   "source": [
    "def optuna_optimize(trial):\n",
    "    param = {\n",
    "        'solver': trial.suggest_categorical('solver', ['lbfgs', 'saga'])\n",
    "    }\n",
    "    \n",
    "    if param['solver'] == 'lbfgs':\n",
    "        param['penalty'] = 'l2' \n",
    "\n",
    "    if param['solver'] == 'saga':\n",
    "        param['penalty'] = 'elasticnet' \n",
    "        param['C'] = trial.suggest_float('C', 0.01, 100) \n",
    "        param['l1_ratio'] = trial.suggest_float('l1_ratio', 0, 1)\n",
    "        param['max_iter'] = 1000 \n",
    "        \n",
    "    estimator = LogisticRegression(**param,  \n",
    "                                   class_weight='balanced',\n",
    "                                   random_state=12345)\n",
    "\n",
    "    log_reg_pipe = Pipeline([\n",
    "        ('preprocessor', preprocessor),\n",
    "        ('model', estimator)\n",
    "    ])\n",
    "    \n",
    "    score = cross_val_score(log_reg_pipe, X_train, y_train, cv=5, scoring='f1').mean()\n",
    "    return score"
   ],
   "metadata": {
    "collapsed": false,
    "ExecuteTime": {
     "end_time": "2023-11-28T07:26:35.671013300Z",
     "start_time": "2023-11-28T07:26:35.562425100Z"
    }
   }
  },
  {
   "cell_type": "code",
   "execution_count": 41,
   "outputs": [],
   "source": [
    "study_log_reg = optuna.create_study(study_name=\"LogisticRegression Optuna Optimization Class Weight\",\n",
    "                                direction='maximize')"
   ],
   "metadata": {
    "collapsed": false,
    "ExecuteTime": {
     "end_time": "2023-11-28T07:26:35.671013300Z",
     "start_time": "2023-11-28T07:26:35.590837200Z"
    }
   }
  },
  {
   "cell_type": "code",
   "execution_count": 42,
   "outputs": [],
   "source": [
    "study_log_reg.optimize(optuna_optimize, n_trials=100)"
   ],
   "metadata": {
    "collapsed": false,
    "ExecuteTime": {
     "end_time": "2023-11-28T07:28:32.150406500Z",
     "start_time": "2023-11-28T07:26:35.614971900Z"
    }
   }
  },
  {
   "cell_type": "code",
   "execution_count": 43,
   "outputs": [
    {
     "name": "stdout",
     "output_type": "stream",
     "text": [
      "Наилучшие значения гиперпараметров Logistic Regression: {'solver': 'saga', 'C': 0.08339594924991811, 'l1_ratio': 0.46947428485072024}\n",
      "f1_score на обучающем наборе: 0.493\n"
     ]
    }
   ],
   "source": [
    "print(\"Наилучшие значения гиперпараметров Logistic Regression: {}\".format(study_log_reg.best_params))\n",
    "print(\"f1_score на обучающем наборе: {:.3f}\". format(study_log_reg.best_value))"
   ],
   "metadata": {
    "collapsed": false,
    "ExecuteTime": {
     "end_time": "2023-11-28T07:28:32.288642600Z",
     "start_time": "2023-11-28T07:28:32.160993300Z"
    }
   }
  },
  {
   "cell_type": "code",
   "execution_count": 44,
   "outputs": [],
   "source": [
    "with mlflow.start_run(nested=True,\n",
    "                      run_name='log_reg_pipeline_class_weight'):\n",
    "\n",
    "    best_params = study_log_reg.best_params\n",
    "    best_score = study_log_reg.best_value\n",
    "    mlflow.log_params(best_params)\n",
    "\n",
    "    log_reg_pipe_cw = Pipeline([\n",
    "        ('preprocessor', preprocessor),\n",
    "        ('model', LogisticRegression(**best_params,\n",
    "                                     class_weight='balanced',\n",
    "                                     random_state=12345))\n",
    "    ])\n",
    "\n",
    "    log_reg_pipe_cw.fit(X_train, y_train)\n",
    "\n",
    "    pred_proba = log_reg_pipe_cw.predict_proba(X_test)[:, 1]\n",
    "    roc_auc = roc_auc_score(y_test, pred_proba)\n",
    "    \n",
    "    mlflow.log_metrics({\n",
    "        'f1_cv': best_score,\n",
    "        'roc_auc': roc_auc,\n",
    "        'balanced_accuracy': balanced_accuracy_score(y_test, np.round(pred_proba, 0)),\n",
    "        'f1': f1_score(y_test, np.round(pred_proba, 0))\n",
    "    })\n",
    "    \n",
    "    mlflow.sklearn.log_model(log_reg_pipe_cw, 'log_reg_pipeline_class_weight')"
   ],
   "metadata": {
    "collapsed": false,
    "ExecuteTime": {
     "end_time": "2023-11-28T07:28:39.553367500Z",
     "start_time": "2023-11-28T07:28:32.189605200Z"
    }
   }
  },
  {
   "cell_type": "markdown",
   "source": [
    "### 3.1.4 Метод опорных векторов"
   ],
   "metadata": {
    "collapsed": false
   }
  },
  {
   "cell_type": "code",
   "execution_count": 45,
   "outputs": [],
   "source": [
    "def optuna_optimize(trial):\n",
    "\n",
    "    param = {\n",
    "        'C': trial.suggest_float('C', 0.01, 3)  # какие значения может принимать С \n",
    "    }\n",
    " \n",
    "    estimator = SVC(**param, \n",
    "                    class_weight='balanced',\n",
    "                    random_state=12345,\n",
    "                    probability=True)\n",
    "    \n",
    "    svc_pipe = Pipeline([\n",
    "        ('preprocessor', preprocessor),\n",
    "        ('model', estimator)\n",
    "    ])\n",
    "    \n",
    "    score = cross_val_score(svc_pipe, X_train, y_train, cv=5, scoring='f1').mean()\n",
    "    return score"
   ],
   "metadata": {
    "collapsed": false,
    "ExecuteTime": {
     "end_time": "2023-11-28T07:28:39.587536100Z",
     "start_time": "2023-11-28T07:28:39.553367500Z"
    }
   }
  },
  {
   "cell_type": "code",
   "execution_count": 46,
   "outputs": [],
   "source": [
    "study_svc = optuna.create_study(study_name=\"SVC Optuna Optimization Class Weight\",\n",
    "                                    direction='maximize')"
   ],
   "metadata": {
    "collapsed": false,
    "ExecuteTime": {
     "end_time": "2023-11-28T07:28:39.635814100Z",
     "start_time": "2023-11-28T07:28:39.570432500Z"
    }
   }
  },
  {
   "cell_type": "code",
   "execution_count": 47,
   "outputs": [],
   "source": [
    "study_svc.optimize(optuna_optimize, n_trials=100)"
   ],
   "metadata": {
    "collapsed": false,
    "ExecuteTime": {
     "end_time": "2023-11-28T09:40:06.485182100Z",
     "start_time": "2023-11-28T07:28:39.587536100Z"
    }
   }
  },
  {
   "cell_type": "code",
   "execution_count": 48,
   "outputs": [
    {
     "name": "stdout",
     "output_type": "stream",
     "text": [
      "Наилучшие значения гиперпараметров SVC: {'C': 2.6692787153761595}\n",
      "f1_score на обучающем наборе: 0.580\n"
     ]
    }
   ],
   "source": [
    "print(\"Наилучшие значения гиперпараметров SVC: {}\".format(study_svc.best_params))\n",
    "print(\"f1_score на обучающем наборе: {:.3f}\". format(study_svc.best_value))"
   ],
   "metadata": {
    "collapsed": false,
    "ExecuteTime": {
     "end_time": "2023-11-28T09:46:06.636824900Z",
     "start_time": "2023-11-28T09:46:06.495652200Z"
    }
   }
  },
  {
   "cell_type": "code",
   "execution_count": 49,
   "outputs": [],
   "source": [
    "with mlflow.start_run(nested=True,\n",
    "                      run_name='svc_pipeline_class_weight'):\n",
    "\n",
    "    best_params = study_svc.best_params\n",
    "    best_score = study_svc.best_value\n",
    "    mlflow.log_params(best_params)\n",
    "\n",
    "    svc_pipe_cw = Pipeline([\n",
    "        ('preprocessor', preprocessor),\n",
    "        ('model', SVC(**best_params,\n",
    "                      class_weight='balanced',\n",
    "                      random_state=12345,\n",
    "                      probability=True))\n",
    "    ])\n",
    "\n",
    "    svc_pipe_cw.fit(X_train, y_train)\n",
    "\n",
    "    pred_proba = svc_pipe_cw.predict_proba(X_test)[:, 1]\n",
    "    roc_auc = roc_auc_score(y_test, pred_proba)\n",
    "    \n",
    "    mlflow.log_metrics({\n",
    "        'f1_cv': best_score,\n",
    "        'roc_auc': roc_auc,\n",
    "        'balanced_accuracy': balanced_accuracy_score(y_test, np.round(pred_proba, 0)),\n",
    "        'f1': f1_score(y_test, np.round(pred_proba, 0))\n",
    "    })\n",
    "    \n",
    "    mlflow.sklearn.log_model(svc_pipe_cw, 'svc_pipeline_class_weight')"
   ],
   "metadata": {
    "collapsed": false,
    "ExecuteTime": {
     "end_time": "2023-11-28T09:46:46.702290500Z",
     "start_time": "2023-11-28T09:46:11.626237400Z"
    }
   }
  },
  {
   "cell_type": "markdown",
   "source": [
    "## 3.2 Генерация синтетических данных (SMOTE)\n",
    "### 3.2.1 Модель XGBoost"
   ],
   "metadata": {
    "collapsed": false
   }
  },
  {
   "cell_type": "code",
   "execution_count": 50,
   "outputs": [],
   "source": [
    "cat_pipeline = Pipeline([\n",
    "    ('enc', OneHotEncoder(handle_unknown='error', drop='first'))\n",
    "])\n",
    "\n",
    "num_pipeline = Pipeline([\n",
    "    ('imp', SimpleImputer(fill_value=-1, add_indicator=True)),\n",
    "    ('pt', PowerTransformer())\n",
    "])\n",
    "\n",
    "preprocessor = ColumnTransformer([\n",
    "    (\"cat\", cat_pipeline, categorical_features),\n",
    "    (\"num\", num_pipeline, numeric_features)\n",
    "], remainder='passthrough')"
   ],
   "metadata": {
    "collapsed": false,
    "ExecuteTime": {
     "end_time": "2023-11-28T09:47:25.118882500Z",
     "start_time": "2023-11-28T09:47:25.012529600Z"
    }
   }
  },
  {
   "cell_type": "code",
   "execution_count": 51,
   "outputs": [],
   "source": [
    "def optuna_optimize(trial):\n",
    "    param = {\n",
    "        'n_estimators': trial.suggest_int('n_estimators', 50, 250),\n",
    "        'max_depth': trial.suggest_int('max_depth', 2, 10),\n",
    "        'eta': trial.suggest_float('eta', 0.01, 1.5)\n",
    "    }\n",
    "\n",
    "    estimator = xgb.XGBClassifier(**param,\n",
    "                                  random_state=12345)\n",
    "\n",
    "    xgb_pipe = Pipeline([\n",
    "        ('preprocessor', preprocessor),\n",
    "        ('smote', SMOTE(random_state=12345)),\n",
    "        ('model', estimator)\n",
    "    ])\n",
    "\n",
    "    score = cross_val_score(xgb_pipe, X_train, y_train, cv=5, scoring='f1').mean()\n",
    "    return score"
   ],
   "metadata": {
    "collapsed": false,
    "ExecuteTime": {
     "end_time": "2023-11-28T09:47:27.382224300Z",
     "start_time": "2023-11-28T09:47:27.234299300Z"
    }
   }
  },
  {
   "cell_type": "code",
   "execution_count": 52,
   "outputs": [],
   "source": [
    "study_xgb_smote = optuna.create_study(study_name=\"XGBoost Optuna Optimization SMOTE\",\n",
    "                                direction='maximize')"
   ],
   "metadata": {
    "collapsed": false,
    "ExecuteTime": {
     "end_time": "2023-11-28T09:47:29.509077800Z",
     "start_time": "2023-11-28T09:47:29.411408200Z"
    }
   }
  },
  {
   "cell_type": "code",
   "execution_count": 53,
   "outputs": [],
   "source": [
    "study_xgb_smote.optimize(optuna_optimize, n_trials=100)"
   ],
   "metadata": {
    "collapsed": false,
    "ExecuteTime": {
     "end_time": "2023-11-28T09:52:32.154339400Z",
     "start_time": "2023-11-28T09:47:41.102308900Z"
    }
   }
  },
  {
   "cell_type": "code",
   "execution_count": 54,
   "outputs": [
    {
     "name": "stdout",
     "output_type": "stream",
     "text": [
      "Наилучшие значения гиперпараметров XGBoost: {'n_estimators': 116, 'max_depth': 4, 'eta': 0.12633443096280939}\n",
      "f1_score на обучающем наборе: 0.624\n"
     ]
    }
   ],
   "source": [
    "print(\"Наилучшие значения гиперпараметров XGBoost: {}\".format(study_xgb_smote.best_params))\n",
    "print(\"f1_score на обучающем наборе: {:.3f}\". format(study_xgb_smote.best_value))"
   ],
   "metadata": {
    "collapsed": false,
    "ExecuteTime": {
     "end_time": "2023-11-28T09:52:49.757278400Z",
     "start_time": "2023-11-28T09:52:49.625190300Z"
    }
   }
  },
  {
   "cell_type": "code",
   "execution_count": 55,
   "outputs": [],
   "source": [
    "with mlflow.start_run(nested=True,\n",
    "                      run_name='xgb_pipeline_smote'):\n",
    "\n",
    "    best_params = study_xgb_smote.best_params\n",
    "    best_score = study_xgb_smote.best_value\n",
    "    mlflow.log_params(best_params)\n",
    "\n",
    "    xgb_pipe_sm = Pipeline([\n",
    "        ('preprocessor', preprocessor),\n",
    "        ('smote', SMOTE(random_state=12345)),\n",
    "        ('model', xgb.XGBClassifier(**best_params,\n",
    "                                    random_state=12345))\n",
    "    ])\n",
    "\n",
    "    xgb_pipe_sm.fit(X_train, y_train)\n",
    "\n",
    "    pred_proba = xgb_pipe_sm.predict_proba(X_test)[:, 1]\n",
    "    roc_auc = roc_auc_score(y_test, pred_proba)\n",
    "    \n",
    "    mlflow.log_metrics({\n",
    "        'f1_cv': best_score,\n",
    "        'roc_auc': roc_auc,\n",
    "        'balanced_accuracy': balanced_accuracy_score(y_test, np.round(pred_proba, 0)),\n",
    "        'f1': f1_score(y_test, np.round(pred_proba, 0))\n",
    "    })\n",
    "\n",
    "    mlflow.sklearn.log_model(xgb_pipe_sm, 'xgb_pipeline_smote')"
   ],
   "metadata": {
    "collapsed": false,
    "ExecuteTime": {
     "end_time": "2023-11-28T09:53:18.605138600Z",
     "start_time": "2023-11-28T09:53:01.011703900Z"
    }
   }
  },
  {
   "cell_type": "markdown",
   "source": [
    "### 3.2.2 Случайный лес"
   ],
   "metadata": {
    "collapsed": false
   }
  },
  {
   "cell_type": "code",
   "execution_count": 56,
   "outputs": [],
   "source": [
    "def optuna_optimize(trial):\n",
    "    param = {\n",
    "        'n_estimators': trial.suggest_int('n_estimators', 50, 300),\n",
    "        'max_depth': trial.suggest_int('max_depth', 2, 10),\n",
    "        'min_samples_leaf': trial.suggest_int('min_samples_leaf', 2, 8)\n",
    "    }\n",
    "\n",
    "    estimator = RandomForestClassifier(**param,\n",
    "                                       random_state=12345)\n",
    "\n",
    "    rf_pipe = Pipeline([\n",
    "        ('preprocessor', preprocessor),\n",
    "        ('smote', SMOTE(random_state=12345)),\n",
    "        ('model', estimator)\n",
    "    ])\n",
    "\n",
    "    score = cross_val_score(rf_pipe, X_train, y_train, cv=5, scoring='f1').mean()\n",
    "    return score"
   ],
   "metadata": {
    "collapsed": false,
    "ExecuteTime": {
     "end_time": "2023-11-28T09:53:18.682148300Z",
     "start_time": "2023-11-28T09:53:18.562040500Z"
    }
   }
  },
  {
   "cell_type": "code",
   "execution_count": 57,
   "outputs": [],
   "source": [
    "study_rf_smote = optuna.create_study(study_name=\"RandomForest Optuna Optimization SMOTE\",\n",
    "                               direction='maximize')"
   ],
   "metadata": {
    "collapsed": false,
    "ExecuteTime": {
     "end_time": "2023-11-28T09:53:18.766063200Z",
     "start_time": "2023-11-28T09:53:18.609172500Z"
    }
   }
  },
  {
   "cell_type": "code",
   "execution_count": 58,
   "outputs": [],
   "source": [
    "study_rf_smote.optimize(optuna_optimize, n_trials=100)"
   ],
   "metadata": {
    "collapsed": false,
    "ExecuteTime": {
     "end_time": "2023-11-28T10:41:37.076545200Z",
     "start_time": "2023-11-28T09:53:18.650936300Z"
    }
   }
  },
  {
   "cell_type": "code",
   "execution_count": 59,
   "outputs": [
    {
     "name": "stdout",
     "output_type": "stream",
     "text": [
      "Наилучшие значения гиперпараметров RandomForest: {'n_estimators': 172, 'max_depth': 9, 'min_samples_leaf': 6}\n",
      "f1_score на обучающем наборе: 0.615\n"
     ]
    }
   ],
   "source": [
    "print(\"Наилучшие значения гиперпараметров RandomForest: {}\".format(study_rf_smote.best_params))\n",
    "print(\"f1_score на обучающем наборе: {:.3f}\". format(study_rf_smote.best_value))"
   ],
   "metadata": {
    "collapsed": false,
    "ExecuteTime": {
     "end_time": "2023-11-28T10:43:22.760257100Z",
     "start_time": "2023-11-28T10:43:22.612165200Z"
    }
   }
  },
  {
   "cell_type": "code",
   "execution_count": 60,
   "outputs": [],
   "source": [
    "with mlflow.start_run(nested=True,\n",
    "                      run_name='rf_pipeline_smote'):\n",
    "\n",
    "    best_params = study_rf_smote.best_params\n",
    "    best_score = study_rf_smote.best_value\n",
    "    mlflow.log_params(best_params)\n",
    "\n",
    "    rf_pipe_sm = Pipeline([\n",
    "        ('preprocessor', preprocessor),\n",
    "        ('smote', SMOTE(random_state=12345)),\n",
    "        ('model', RandomForestClassifier(**best_params,\n",
    "                                         random_state=12345))\n",
    "    ])\n",
    "\n",
    "    rf_pipe_sm.fit(X_train, y_train)\n",
    "\n",
    "    pred_proba = rf_pipe_sm.predict_proba(X_test)[:, 1]\n",
    "    roc_auc = roc_auc_score(y_test, pred_proba)\n",
    "    \n",
    "    mlflow.log_metrics({\n",
    "        'f1_cv': best_score,\n",
    "        'roc_auc': roc_auc,\n",
    "        'balanced_accuracy': balanced_accuracy_score(y_test, np.round(pred_proba, 0)),\n",
    "        'f1': f1_score(y_test, np.round(pred_proba, 0))\n",
    "    })\n",
    "    \n",
    "    mlflow.sklearn.log_model(rf_pipe_sm, 'rf_pipeline_smote')"
   ],
   "metadata": {
    "collapsed": false,
    "ExecuteTime": {
     "end_time": "2023-11-28T10:43:49.603419700Z",
     "start_time": "2023-11-28T10:43:29.083308Z"
    }
   }
  },
  {
   "cell_type": "markdown",
   "source": [
    "### 3.2.3 Логистическая регрессия"
   ],
   "metadata": {
    "collapsed": false
   }
  },
  {
   "cell_type": "code",
   "execution_count": 61,
   "outputs": [],
   "source": [
    "cat_pipeline = Pipeline([\n",
    "    ('enc', OneHotEncoder(handle_unknown='error', drop='first'))\n",
    "])\n",
    "\n",
    "num_pipeline = Pipeline([\n",
    "    ('imp', SimpleImputer(fill_value=-1, add_indicator=True)),\n",
    "    ('pt', PowerTransformer()),\n",
    "    ('scal', StandardScaler())\n",
    "])\n",
    "\n",
    "preprocessor = ColumnTransformer([\n",
    "    (\"cat\", cat_pipeline, categorical_features),\n",
    "    (\"num\", num_pipeline, numeric_features)\n",
    "], remainder='passthrough')"
   ],
   "metadata": {
    "collapsed": false,
    "ExecuteTime": {
     "end_time": "2023-11-28T10:43:52.876311200Z",
     "start_time": "2023-11-28T10:43:52.669131200Z"
    }
   }
  },
  {
   "cell_type": "code",
   "execution_count": 62,
   "outputs": [],
   "source": [
    "def optuna_optimize(trial):\n",
    "    param = {\n",
    "        'solver': trial.suggest_categorical('solver', ['lbfgs', 'saga'])\n",
    "    }\n",
    "\n",
    "    if param['solver'] == 'lbfgs':\n",
    "        param['penalty'] = 'l2' \n",
    "\n",
    "    if param['solver'] == 'saga':\n",
    "        param['penalty'] = 'elasticnet' \n",
    "        param['C'] = trial.suggest_float('C', 0.01, 100) # какие тут значения?\n",
    "        param['l1_ratio'] = trial.suggest_float('l1_ratio', 0, 1)\n",
    "        param['max_iter'] = 1000 \n",
    "\n",
    "    estimator = LogisticRegression(**param,\n",
    "                                   random_state=12345)\n",
    "\n",
    "    log_reg_pipe = Pipeline([\n",
    "        ('preprocessor', preprocessor),\n",
    "        ('smote', SMOTE(random_state=12345)),\n",
    "        ('model', estimator)\n",
    "    ])\n",
    "\n",
    "    score = cross_val_score(log_reg_pipe, X_train, y_train, cv=5, scoring='f1').mean()\n",
    "    return score"
   ],
   "metadata": {
    "collapsed": false,
    "ExecuteTime": {
     "end_time": "2023-11-28T10:43:57.441515200Z",
     "start_time": "2023-11-28T10:43:57.422787800Z"
    }
   }
  },
  {
   "cell_type": "code",
   "execution_count": 63,
   "outputs": [],
   "source": [
    "study_log_reg_smote = optuna.create_study(study_name=\"LogisticRegression Optuna Optimization SMOTE\",\n",
    "                                    direction='maximize')"
   ],
   "metadata": {
    "collapsed": false,
    "ExecuteTime": {
     "end_time": "2023-11-28T10:43:59.703863100Z",
     "start_time": "2023-11-28T10:43:59.675920100Z"
    }
   }
  },
  {
   "cell_type": "code",
   "execution_count": 64,
   "outputs": [],
   "source": [
    "study_log_reg_smote.optimize(optuna_optimize, n_trials=100)"
   ],
   "metadata": {
    "collapsed": false,
    "ExecuteTime": {
     "end_time": "2023-11-28T10:47:03.722441100Z",
     "start_time": "2023-11-28T10:44:02.523734100Z"
    }
   }
  },
  {
   "cell_type": "code",
   "execution_count": 65,
   "outputs": [
    {
     "name": "stdout",
     "output_type": "stream",
     "text": [
      "Наилучшие значения гиперпараметров Logistic Regression: {'solver': 'saga', 'C': 0.010490817765909488, 'l1_ratio': 0.9943340963962667}\n",
      "f1_score на обучающем наборе: 0.496\n"
     ]
    }
   ],
   "source": [
    "print(\"Наилучшие значения гиперпараметров Logistic Regression: {}\".format(study_log_reg_smote.best_params))\n",
    "print(\"f1_score на обучающем наборе: {:.3f}\". format(study_log_reg_smote.best_value))"
   ],
   "metadata": {
    "collapsed": false,
    "ExecuteTime": {
     "end_time": "2023-11-28T10:47:12.523583400Z",
     "start_time": "2023-11-28T10:47:12.362055400Z"
    }
   }
  },
  {
   "cell_type": "code",
   "execution_count": 66,
   "outputs": [],
   "source": [
    "with mlflow.start_run(nested=True,\n",
    "                      run_name='log_reg_pipeline_smote'):\n",
    "\n",
    "    best_params = study_log_reg_smote.best_params\n",
    "    best_score = study_log_reg_smote.best_value\n",
    "    mlflow.log_params(best_params)\n",
    "\n",
    "    log_reg_pipe_sm = Pipeline([\n",
    "        ('preprocessor', preprocessor),\n",
    "        ('smote', SMOTE(random_state=12345)),\n",
    "        ('model', LogisticRegression(**best_params,\n",
    "                                     random_state=12345))\n",
    "    ])\n",
    "\n",
    "    log_reg_pipe_sm.fit(X_train, y_train)\n",
    "\n",
    "    pred_proba = log_reg_pipe_sm.predict_proba(X_test)[:, 1]\n",
    "    roc_auc = roc_auc_score(y_test, pred_proba)\n",
    "    \n",
    "    mlflow.log_metrics({\n",
    "        'f1_cv': best_score,\n",
    "        'roc_auc': roc_auc,\n",
    "        'balanced_accuracy': balanced_accuracy_score(y_test, np.round(pred_proba, 0)),\n",
    "        'f1': f1_score(y_test, np.round(pred_proba, 0))\n",
    "    })\n",
    "\n",
    "    mlflow.sklearn.log_model(log_reg_pipe_sm, 'log_reg_pipeline_smote')"
   ],
   "metadata": {
    "collapsed": false,
    "ExecuteTime": {
     "end_time": "2023-11-28T10:47:31.846425200Z",
     "start_time": "2023-11-28T10:47:17.586628900Z"
    }
   }
  },
  {
   "cell_type": "markdown",
   "source": [
    "### 3.2.4 Метод опорных векторов"
   ],
   "metadata": {
    "collapsed": false
   }
  },
  {
   "cell_type": "code",
   "execution_count": 70,
   "outputs": [],
   "source": [
    "def optuna_optimize(trial):\n",
    "\n",
    "    param = {\n",
    "        'C': trial.suggest_float('C', 0.01, 3)  \n",
    "    }\n",
    "\n",
    "    estimator = SVC(**param,\n",
    "                    random_state=12345,\n",
    "                    probability=True)\n",
    "\n",
    "    svc_pipe = Pipeline([\n",
    "        ('preprocessor', preprocessor),\n",
    "        ('smote', SMOTE(random_state=12345)),\n",
    "        ('model', estimator)\n",
    "    ])\n",
    "\n",
    "    score = cross_val_score(svc_pipe, X_train, y_train, cv=5, scoring='f1').mean()\n",
    "    \n",
    "    return score"
   ],
   "metadata": {
    "collapsed": false,
    "ExecuteTime": {
     "end_time": "2023-11-28T11:00:32.250700400Z",
     "start_time": "2023-11-28T11:00:32.113846200Z"
    }
   }
  },
  {
   "cell_type": "code",
   "execution_count": 71,
   "outputs": [],
   "source": [
    "study_svc_smote = optuna.create_study(study_name=\"SVC Optuna Optimization SMOTE\",\n",
    "                                direction='maximize')"
   ],
   "metadata": {
    "collapsed": false,
    "ExecuteTime": {
     "end_time": "2023-11-28T11:00:35.025759Z",
     "start_time": "2023-11-28T11:00:35.014377500Z"
    }
   }
  },
  {
   "cell_type": "code",
   "execution_count": 72,
   "outputs": [],
   "source": [
    "study_svc_smote.optimize(optuna_optimize, n_trials=10)"
   ],
   "metadata": {
    "collapsed": false,
    "ExecuteTime": {
     "end_time": "2023-11-28T11:36:05.186154500Z",
     "start_time": "2023-11-28T11:00:37.396452300Z"
    }
   }
  },
  {
   "cell_type": "code",
   "execution_count": 73,
   "outputs": [
    {
     "name": "stdout",
     "output_type": "stream",
     "text": [
      "Наилучшие значения гиперпараметров SVC: {'C': 1.4864904056157744}\n",
      "f1_score на обучающем наборе: 0.577\n"
     ]
    }
   ],
   "source": [
    "print(\"Наилучшие значения гиперпараметров SVC: {}\".format(study_svc_smote.best_params))\n",
    "print(\"f1_score на обучающем наборе: {:.3f}\". format(study_svc_smote.best_value))"
   ],
   "metadata": {
    "collapsed": false,
    "ExecuteTime": {
     "end_time": "2023-11-28T11:50:15.358425100Z",
     "start_time": "2023-11-28T11:50:15.239014600Z"
    }
   }
  },
  {
   "cell_type": "code",
   "execution_count": 74,
   "outputs": [],
   "source": [
    "with mlflow.start_run(nested=True,\n",
    "                      run_name='svc_pipeline_smote'):\n",
    "\n",
    "    best_params = study_svc_smote.best_params\n",
    "    best_score = study_svc_smote.best_value\n",
    "    mlflow.log_params(best_params)\n",
    "\n",
    "    svc_pipe_sm = Pipeline([\n",
    "        ('preprocessor', preprocessor),\n",
    "        ('smote', SMOTE(random_state=12345)),\n",
    "        ('model', SVC(**best_params,\n",
    "                      random_state=12345,\n",
    "                      probability=True))\n",
    "    ])\n",
    "\n",
    "    svc_pipe_sm.fit(X_train, y_train)\n",
    "    pred_proba = svc_pipe_sm.predict_proba(X_test)[:, 1]\n",
    "    roc_auc = roc_auc_score(y_test, pred_proba)\n",
    "    \n",
    "    mlflow.log_metrics({\n",
    "        'f1_cv': best_score,\n",
    "        'roc_auc': roc_auc,\n",
    "        'balanced_accuracy': balanced_accuracy_score(y_test, np.round(pred_proba, 0)),\n",
    "        'f1': f1_score(y_test, np.round(pred_proba, 0))\n",
    "    })\n",
    "\n",
    "    mlflow.sklearn.log_model(svc_pipe_sm, 'svc_pipeline_smote')"
   ],
   "metadata": {
    "collapsed": false,
    "ExecuteTime": {
     "end_time": "2023-11-28T11:51:34.732525500Z",
     "start_time": "2023-11-28T11:50:22.469694800Z"
    }
   }
  },
  {
   "cell_type": "code",
   "execution_count": 75,
   "outputs": [],
   "source": [
    "colNames = [\"XGBoost\", \"Random Forest\", \"Logistic Regression\", \"SVC\"]\n",
    "results = {\"Imbalanced\":[study_xgb.best_value, '-', '-', '-'],\n",
    "           \"Class Weight\":[study_xgb_cw.best_value, \n",
    "                           study_rf.best_value, \n",
    "                           study_log_reg.best_value, \n",
    "                           study_svc.best_value],\n",
    "           \"SMOTE\":[study_xgb_smote.best_value, \n",
    "                    study_rf_smote.best_value, \n",
    "                    study_log_reg_smote.best_value, \n",
    "                    study_svc_smote.best_value]}"
   ],
   "metadata": {
    "collapsed": false,
    "ExecuteTime": {
     "end_time": "2023-11-28T11:51:37.429720200Z",
     "start_time": "2023-11-28T11:51:37.373555800Z"
    }
   }
  },
  {
   "cell_type": "code",
   "execution_count": 76,
   "outputs": [],
   "source": [
    "# результаты метрики f1 score на кросс-валидации:\n",
    "table = pd.DataFrame.from_dict(results, orient='index', columns=colNames)"
   ],
   "metadata": {
    "collapsed": false,
    "ExecuteTime": {
     "end_time": "2023-11-28T11:51:39.992561800Z",
     "start_time": "2023-11-28T11:51:39.905235Z"
    }
   }
  },
  {
   "cell_type": "code",
   "execution_count": 77,
   "outputs": [
    {
     "data": {
      "text/plain": "               XGBoost Random Forest Logistic Regression       SVC\nImbalanced    0.590451             -                   -         -\nClass Weight  0.609432      0.619493            0.492849  0.579551\nSMOTE         0.624178      0.615295             0.49579  0.576951",
      "text/html": "<div>\n<style scoped>\n    .dataframe tbody tr th:only-of-type {\n        vertical-align: middle;\n    }\n\n    .dataframe tbody tr th {\n        vertical-align: top;\n    }\n\n    .dataframe thead th {\n        text-align: right;\n    }\n</style>\n<table border=\"1\" class=\"dataframe\">\n  <thead>\n    <tr style=\"text-align: right;\">\n      <th></th>\n      <th>XGBoost</th>\n      <th>Random Forest</th>\n      <th>Logistic Regression</th>\n      <th>SVC</th>\n    </tr>\n  </thead>\n  <tbody>\n    <tr>\n      <th>Imbalanced</th>\n      <td>0.590451</td>\n      <td>-</td>\n      <td>-</td>\n      <td>-</td>\n    </tr>\n    <tr>\n      <th>Class Weight</th>\n      <td>0.609432</td>\n      <td>0.619493</td>\n      <td>0.492849</td>\n      <td>0.579551</td>\n    </tr>\n    <tr>\n      <th>SMOTE</th>\n      <td>0.624178</td>\n      <td>0.615295</td>\n      <td>0.49579</td>\n      <td>0.576951</td>\n    </tr>\n  </tbody>\n</table>\n</div>"
     },
     "execution_count": 77,
     "metadata": {},
     "output_type": "execute_result"
    }
   ],
   "source": [
    "table"
   ],
   "metadata": {
    "collapsed": false,
    "ExecuteTime": {
     "end_time": "2023-11-28T11:51:43.232401100Z",
     "start_time": "2023-11-28T11:51:43.105536700Z"
    }
   }
  },
  {
   "cell_type": "markdown",
   "source": [
    "# 4. Тестирование лучшей модели\n"
   ],
   "metadata": {
    "collapsed": false
   }
  },
  {
   "cell_type": "code",
   "execution_count": 101,
   "outputs": [
    {
     "data": {
      "text/plain": "Downloading artifacts:   0%|          | 0/5 [00:00<?, ?it/s]",
      "application/vnd.jupyter.widget-view+json": {
       "version_major": 2,
       "version_minor": 0,
       "model_id": "a3a9dd6d47f04d02bcfaa7f516091df3"
      }
     },
     "metadata": {},
     "output_type": "display_data"
    }
   ],
   "source": [
    "best_model = mlflow.sklearn.load_model('runs:/980b9744d00643c88633da47d8a2de6c/xgb_pipeline_smote')"
   ],
   "metadata": {
    "collapsed": false,
    "ExecuteTime": {
     "end_time": "2023-11-28T06:26:41.476974700Z",
     "start_time": "2023-11-28T06:26:38.245921300Z"
    }
   }
  },
  {
   "cell_type": "code",
   "execution_count": 102,
   "outputs": [
    {
     "data": {
      "text/plain": "['best_model.pkl']"
     },
     "execution_count": 102,
     "metadata": {},
     "output_type": "execute_result"
    }
   ],
   "source": [
    "joblib.dump(best_model, 'best_model.pkl')"
   ],
   "metadata": {
    "collapsed": false,
    "ExecuteTime": {
     "end_time": "2023-11-28T06:26:43.764477700Z",
     "start_time": "2023-11-28T06:26:43.600404900Z"
    }
   }
  },
  {
   "cell_type": "code",
   "execution_count": 103,
   "outputs": [
    {
     "name": "stdout",
     "output_type": "stream",
     "text": [
      "ROC-AUC score на тестовой выборке: 0.8667357650408497\n",
      "f1 score на тестовой выборке: 0.6383526383526384\n",
      "Balanced accuracy на тестовой выборке: 0.7663757748503511\n"
     ]
    }
   ],
   "source": [
    "pred_proba_xgb_smote = best_model.predict_proba(X_test)[:, 1]\n",
    "print('ROC-AUC score на тестовой выборке:', roc_auc_score(y_test, pred_proba_xgb_smote))\n",
    "print('f1 score на тестовой выборке:', f1_score(y_test, np.round(pred_proba_xgb_smote)))\n",
    "print('Balanced accuracy на тестовой выборке:', balanced_accuracy_score(y_test, np.round(pred_proba_xgb_smote)))"
   ],
   "metadata": {
    "collapsed": false,
    "ExecuteTime": {
     "end_time": "2023-11-28T06:26:45.370186400Z",
     "start_time": "2023-11-28T06:26:45.157641700Z"
    }
   }
  },
  {
   "cell_type": "code",
   "execution_count": null,
   "outputs": [],
   "source": [
    "fpr, tpr, thresholds = roc_curve(y_test, pred_proba)\n",
    "\n",
    "plt.figure(figsize=(6, 4))\n",
    "\n",
    "plt.plot(fpr, tpr, label=f'XGBClassifier: {round(roc_auc_score(y_test, pred_proba), 4)}')\n",
    "\n",
    "plt.plot([0, 1], [0, 1], linestyle='--', label='coin')\n",
    "\n",
    "plt.xlim([-0.02, 1.0])\n",
    "plt.ylim([0.0, 1.05])\n",
    "\n",
    "plt.xlabel('False Positive Rate')\n",
    "plt.ylabel('True Positive Rate')\n",
    "\n",
    "plt.title('ROC-кривая')\n",
    "\n",
    "plt.legend()\n",
    "\n",
    "plt.show()"
   ],
   "metadata": {
    "collapsed": false
   }
  }
 ],
 "metadata": {
  "kernelspec": {
   "display_name": "Python 3",
   "language": "python",
   "name": "python3"
  },
  "language_info": {
   "codemirror_mode": {
    "name": "ipython",
    "version": 2
   },
   "file_extension": ".py",
   "mimetype": "text/x-python",
   "name": "python",
   "nbconvert_exporter": "python",
   "pygments_lexer": "ipython2",
   "version": "2.7.6"
  }
 },
 "nbformat": 4,
 "nbformat_minor": 0
}
