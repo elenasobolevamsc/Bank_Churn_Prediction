{
 "cells": [
  {
   "cell_type": "markdown",
   "source": [
    "# 1. Подготовка данных"
   ],
   "metadata": {
    "collapsed": false
   }
  },
  {
   "cell_type": "code",
   "execution_count": 1,
   "outputs": [],
   "source": [
    "import warnings\n",
    "warnings.filterwarnings('ignore')\n",
    "\n",
    "import optuna\n",
    "import mlflow\n",
    "import joblib\n",
    "import pandas as pd\n",
    "import xgboost as xgb\n",
    "import numpy as np\n",
    "import matplotlib.pyplot as plt\n",
    "\n",
    "from imblearn.over_sampling import SMOTE\n",
    "from imblearn.pipeline import Pipeline\n",
    "from sklearn.model_selection import train_test_split, cross_val_score\n",
    "from sklearn.preprocessing import OneHotEncoder, StandardScaler, PowerTransformer\n",
    "from sklearn.compose import ColumnTransformer\n",
    "from sklearn.impute import SimpleImputer\n",
    "from sklearn.ensemble import RandomForestClassifier\n",
    "from sklearn.linear_model import LogisticRegression\n",
    "from sklearn.svm import SVC\n",
    "from sklearn.metrics import roc_auc_score, roc_curve, confusion_matrix, f1_score, balanced_accuracy_score\n",
    "\n",
    "mlflow.set_tracking_uri(\"http://127.0.0.1:8000\")\n",
    "client=mlflow.MlflowClient(tracking_uri='http://127.0.0.1:8000')\n",
    "# optuna.logging.set_verbosity(optuna.logging.WARNING)"
   ],
   "metadata": {
    "collapsed": false,
    "ExecuteTime": {
     "end_time": "2023-12-03T15:49:06.694900700Z",
     "start_time": "2023-12-03T15:49:01.077216900Z"
    }
   }
  },
  {
   "cell_type": "code",
   "execution_count": 2,
   "outputs": [],
   "source": [
    "df = pd.read_csv('Churn.csv')"
   ],
   "metadata": {
    "collapsed": false,
    "ExecuteTime": {
     "end_time": "2023-12-03T15:49:08.351626900Z",
     "start_time": "2023-12-03T15:49:08.275555500Z"
    }
   }
  },
  {
   "cell_type": "code",
   "execution_count": 3,
   "outputs": [
    {
     "data": {
      "text/plain": "      RowNumber  CustomerId    Surname  CreditScore Geography  Gender  Age  \\\n0             1    15634602   Hargrave          619    France  Female   42   \n1             2    15647311       Hill          608     Spain  Female   41   \n2             3    15619304       Onio          502    France  Female   42   \n3             4    15701354       Boni          699    France  Female   39   \n4             5    15737888   Mitchell          850     Spain  Female   43   \n...         ...         ...        ...          ...       ...     ...  ...   \n9995       9996    15606229   Obijiaku          771    France    Male   39   \n9996       9997    15569892  Johnstone          516    France    Male   35   \n9997       9998    15584532        Liu          709    France  Female   36   \n9998       9999    15682355  Sabbatini          772   Germany    Male   42   \n9999      10000    15628319     Walker          792    France  Female   28   \n\n      Tenure    Balance  NumOfProducts  HasCrCard  IsActiveMember  \\\n0        2.0       0.00              1          1               1   \n1        1.0   83807.86              1          0               1   \n2        8.0  159660.80              3          1               0   \n3        1.0       0.00              2          0               0   \n4        2.0  125510.82              1          1               1   \n...      ...        ...            ...        ...             ...   \n9995     5.0       0.00              2          1               0   \n9996    10.0   57369.61              1          1               1   \n9997     7.0       0.00              1          0               1   \n9998     3.0   75075.31              2          1               0   \n9999     NaN  130142.79              1          1               0   \n\n      EstimatedSalary  Exited  \n0           101348.88       1  \n1           112542.58       0  \n2           113931.57       1  \n3            93826.63       0  \n4            79084.10       0  \n...               ...     ...  \n9995         96270.64       0  \n9996        101699.77       0  \n9997         42085.58       1  \n9998         92888.52       1  \n9999         38190.78       0  \n\n[10000 rows x 14 columns]",
      "text/html": "<div>\n<style scoped>\n    .dataframe tbody tr th:only-of-type {\n        vertical-align: middle;\n    }\n\n    .dataframe tbody tr th {\n        vertical-align: top;\n    }\n\n    .dataframe thead th {\n        text-align: right;\n    }\n</style>\n<table border=\"1\" class=\"dataframe\">\n  <thead>\n    <tr style=\"text-align: right;\">\n      <th></th>\n      <th>RowNumber</th>\n      <th>CustomerId</th>\n      <th>Surname</th>\n      <th>CreditScore</th>\n      <th>Geography</th>\n      <th>Gender</th>\n      <th>Age</th>\n      <th>Tenure</th>\n      <th>Balance</th>\n      <th>NumOfProducts</th>\n      <th>HasCrCard</th>\n      <th>IsActiveMember</th>\n      <th>EstimatedSalary</th>\n      <th>Exited</th>\n    </tr>\n  </thead>\n  <tbody>\n    <tr>\n      <th>0</th>\n      <td>1</td>\n      <td>15634602</td>\n      <td>Hargrave</td>\n      <td>619</td>\n      <td>France</td>\n      <td>Female</td>\n      <td>42</td>\n      <td>2.0</td>\n      <td>0.00</td>\n      <td>1</td>\n      <td>1</td>\n      <td>1</td>\n      <td>101348.88</td>\n      <td>1</td>\n    </tr>\n    <tr>\n      <th>1</th>\n      <td>2</td>\n      <td>15647311</td>\n      <td>Hill</td>\n      <td>608</td>\n      <td>Spain</td>\n      <td>Female</td>\n      <td>41</td>\n      <td>1.0</td>\n      <td>83807.86</td>\n      <td>1</td>\n      <td>0</td>\n      <td>1</td>\n      <td>112542.58</td>\n      <td>0</td>\n    </tr>\n    <tr>\n      <th>2</th>\n      <td>3</td>\n      <td>15619304</td>\n      <td>Onio</td>\n      <td>502</td>\n      <td>France</td>\n      <td>Female</td>\n      <td>42</td>\n      <td>8.0</td>\n      <td>159660.80</td>\n      <td>3</td>\n      <td>1</td>\n      <td>0</td>\n      <td>113931.57</td>\n      <td>1</td>\n    </tr>\n    <tr>\n      <th>3</th>\n      <td>4</td>\n      <td>15701354</td>\n      <td>Boni</td>\n      <td>699</td>\n      <td>France</td>\n      <td>Female</td>\n      <td>39</td>\n      <td>1.0</td>\n      <td>0.00</td>\n      <td>2</td>\n      <td>0</td>\n      <td>0</td>\n      <td>93826.63</td>\n      <td>0</td>\n    </tr>\n    <tr>\n      <th>4</th>\n      <td>5</td>\n      <td>15737888</td>\n      <td>Mitchell</td>\n      <td>850</td>\n      <td>Spain</td>\n      <td>Female</td>\n      <td>43</td>\n      <td>2.0</td>\n      <td>125510.82</td>\n      <td>1</td>\n      <td>1</td>\n      <td>1</td>\n      <td>79084.10</td>\n      <td>0</td>\n    </tr>\n    <tr>\n      <th>...</th>\n      <td>...</td>\n      <td>...</td>\n      <td>...</td>\n      <td>...</td>\n      <td>...</td>\n      <td>...</td>\n      <td>...</td>\n      <td>...</td>\n      <td>...</td>\n      <td>...</td>\n      <td>...</td>\n      <td>...</td>\n      <td>...</td>\n      <td>...</td>\n    </tr>\n    <tr>\n      <th>9995</th>\n      <td>9996</td>\n      <td>15606229</td>\n      <td>Obijiaku</td>\n      <td>771</td>\n      <td>France</td>\n      <td>Male</td>\n      <td>39</td>\n      <td>5.0</td>\n      <td>0.00</td>\n      <td>2</td>\n      <td>1</td>\n      <td>0</td>\n      <td>96270.64</td>\n      <td>0</td>\n    </tr>\n    <tr>\n      <th>9996</th>\n      <td>9997</td>\n      <td>15569892</td>\n      <td>Johnstone</td>\n      <td>516</td>\n      <td>France</td>\n      <td>Male</td>\n      <td>35</td>\n      <td>10.0</td>\n      <td>57369.61</td>\n      <td>1</td>\n      <td>1</td>\n      <td>1</td>\n      <td>101699.77</td>\n      <td>0</td>\n    </tr>\n    <tr>\n      <th>9997</th>\n      <td>9998</td>\n      <td>15584532</td>\n      <td>Liu</td>\n      <td>709</td>\n      <td>France</td>\n      <td>Female</td>\n      <td>36</td>\n      <td>7.0</td>\n      <td>0.00</td>\n      <td>1</td>\n      <td>0</td>\n      <td>1</td>\n      <td>42085.58</td>\n      <td>1</td>\n    </tr>\n    <tr>\n      <th>9998</th>\n      <td>9999</td>\n      <td>15682355</td>\n      <td>Sabbatini</td>\n      <td>772</td>\n      <td>Germany</td>\n      <td>Male</td>\n      <td>42</td>\n      <td>3.0</td>\n      <td>75075.31</td>\n      <td>2</td>\n      <td>1</td>\n      <td>0</td>\n      <td>92888.52</td>\n      <td>1</td>\n    </tr>\n    <tr>\n      <th>9999</th>\n      <td>10000</td>\n      <td>15628319</td>\n      <td>Walker</td>\n      <td>792</td>\n      <td>France</td>\n      <td>Female</td>\n      <td>28</td>\n      <td>NaN</td>\n      <td>130142.79</td>\n      <td>1</td>\n      <td>1</td>\n      <td>0</td>\n      <td>38190.78</td>\n      <td>0</td>\n    </tr>\n  </tbody>\n</table>\n<p>10000 rows × 14 columns</p>\n</div>"
     },
     "execution_count": 3,
     "metadata": {},
     "output_type": "execute_result"
    }
   ],
   "source": [
    "df"
   ],
   "metadata": {
    "collapsed": false,
    "ExecuteTime": {
     "end_time": "2023-12-03T15:49:09.296186600Z",
     "start_time": "2023-12-03T15:49:09.251005500Z"
    }
   }
  },
  {
   "cell_type": "code",
   "execution_count": 4,
   "outputs": [
    {
     "name": "stdout",
     "output_type": "stream",
     "text": [
      "<class 'pandas.core.frame.DataFrame'>\n",
      "RangeIndex: 10000 entries, 0 to 9999\n",
      "Data columns (total 14 columns):\n",
      " #   Column           Non-Null Count  Dtype  \n",
      "---  ------           --------------  -----  \n",
      " 0   RowNumber        10000 non-null  int64  \n",
      " 1   CustomerId       10000 non-null  int64  \n",
      " 2   Surname          10000 non-null  object \n",
      " 3   CreditScore      10000 non-null  int64  \n",
      " 4   Geography        10000 non-null  object \n",
      " 5   Gender           10000 non-null  object \n",
      " 6   Age              10000 non-null  int64  \n",
      " 7   Tenure           9091 non-null   float64\n",
      " 8   Balance          10000 non-null  float64\n",
      " 9   NumOfProducts    10000 non-null  int64  \n",
      " 10  HasCrCard        10000 non-null  int64  \n",
      " 11  IsActiveMember   10000 non-null  int64  \n",
      " 12  EstimatedSalary  10000 non-null  float64\n",
      " 13  Exited           10000 non-null  int64  \n",
      "dtypes: float64(3), int64(8), object(3)\n",
      "memory usage: 1.1+ MB\n"
     ]
    }
   ],
   "source": [
    "df.info()"
   ],
   "metadata": {
    "collapsed": false,
    "ExecuteTime": {
     "end_time": "2023-12-03T15:49:12.387295700Z",
     "start_time": "2023-12-03T15:49:12.259363Z"
    }
   }
  },
  {
   "cell_type": "code",
   "execution_count": 5,
   "outputs": [
    {
     "data": {
      "text/plain": "0"
     },
     "execution_count": 5,
     "metadata": {},
     "output_type": "execute_result"
    }
   ],
   "source": [
    "# проверим наличие явных дубликатов:\n",
    "df.duplicated().sum()"
   ],
   "metadata": {
    "collapsed": false,
    "ExecuteTime": {
     "end_time": "2023-12-03T15:49:13.236332500Z",
     "start_time": "2023-12-03T15:49:13.172756600Z"
    }
   }
  },
  {
   "cell_type": "code",
   "execution_count": 6,
   "outputs": [
    {
     "data": {
      "text/plain": "Geography\nFrance     5014\nGermany    2509\nSpain      2477\nName: count, dtype: int64"
     },
     "metadata": {},
     "output_type": "display_data"
    },
    {
     "data": {
      "text/plain": "Tenure\n1.0     952\n2.0     950\n8.0     933\n3.0     928\n5.0     927\n7.0     925\n4.0     885\n9.0     882\n6.0     881\n10.0    446\n0.0     382\nName: count, dtype: int64"
     },
     "metadata": {},
     "output_type": "display_data"
    },
    {
     "data": {
      "text/plain": "NumOfProducts\n1    5084\n2    4590\n3     266\n4      60\nName: count, dtype: int64"
     },
     "metadata": {},
     "output_type": "display_data"
    },
    {
     "data": {
      "text/plain": "Gender\nMale      5457\nFemale    4543\nName: count, dtype: int64"
     },
     "metadata": {},
     "output_type": "display_data"
    },
    {
     "data": {
      "text/plain": "HasCrCard\n1    7055\n0    2945\nName: count, dtype: int64"
     },
     "metadata": {},
     "output_type": "display_data"
    },
    {
     "data": {
      "text/plain": "IsActiveMember\n1    5151\n0    4849\nName: count, dtype: int64"
     },
     "metadata": {},
     "output_type": "display_data"
    }
   ],
   "source": [
    "# посмотрим уникальные значения в категориальных признаках:\n",
    "cat_columns = ['Geography', 'Tenure', 'NumOfProducts', 'Gender', 'HasCrCard', 'IsActiveMember']\n",
    "for col in cat_columns:\n",
    "    display(df[col].value_counts())"
   ],
   "metadata": {
    "collapsed": false,
    "ExecuteTime": {
     "end_time": "2023-12-03T15:49:13.802454600Z",
     "start_time": "2023-12-03T15:49:13.650925400Z"
    }
   }
  },
  {
   "cell_type": "code",
   "execution_count": 7,
   "outputs": [
    {
     "data": {
      "text/plain": "Exited\n0    7963\n1    2037\nName: count, dtype: int64"
     },
     "execution_count": 7,
     "metadata": {},
     "output_type": "execute_result"
    }
   ],
   "source": [
    "# посчитаем классы в целевом признаке:\n",
    "df['Exited'].value_counts()"
   ],
   "metadata": {
    "collapsed": false,
    "ExecuteTime": {
     "end_time": "2023-12-03T15:49:14.099900400Z",
     "start_time": "2023-12-03T15:49:14.049433200Z"
    }
   }
  },
  {
   "cell_type": "markdown",
   "source": [
    "Можно отметить, что дубликаты в датасете отсутствуют, в столбце Tenure есть около тысячи пропусков, а также несколько столбцов лучше вообще удалить, из них:\n",
    "\n",
    "- RowNumber - это индекс строки в данных, важной информации не содержит;\n",
    "- CustomerId - уникальный идентификатор клиента, по нему мы проверили дубликаты и теперь его можно удалить;\n",
    "- Surname - фамилия, которая тоже не имеет связи с оттоком клиентов.\n",
    "\n",
    "После проверки датасета на сбалансированность классов в таргете мы видим, что объектов отрицательного класса намного больше (почти в четыре раза), но все равно уходит примерно 20% клиентов. В столбце Geography находятся всего 3 уникальных значения: France, Germany и Spain. В столбце Tenure (сколько лет человек является клиентом банка) есть 909 пропусков. Заполним их значением -1, добавив логический параметр add_indicator=True. Есть несколько бинарных признаков (HasCrCard, IsActiveMember), которывыделим в отдельную категорию признаков."
   ],
   "metadata": {
    "collapsed": false
   }
  },
  {
   "cell_type": "code",
   "execution_count": 8,
   "outputs": [],
   "source": [
    "# удалим ненужные столбцы:\n",
    "df.drop([\"RowNumber\", \"CustomerId\", \"Surname\"], axis=1, inplace=True)"
   ],
   "metadata": {
    "collapsed": false,
    "ExecuteTime": {
     "end_time": "2023-12-03T15:49:14.844669600Z",
     "start_time": "2023-12-03T15:49:14.779754300Z"
    }
   }
  },
  {
   "cell_type": "code",
   "execution_count": 9,
   "outputs": [
    {
     "data": {
      "text/plain": "      CreditScore Geography  Gender  Age  Tenure    Balance  NumOfProducts  \\\n0             619    France  Female   42     2.0       0.00              1   \n1             608     Spain  Female   41     1.0   83807.86              1   \n2             502    France  Female   42     8.0  159660.80              3   \n3             699    France  Female   39     1.0       0.00              2   \n4             850     Spain  Female   43     2.0  125510.82              1   \n...           ...       ...     ...  ...     ...        ...            ...   \n9995          771    France    Male   39     5.0       0.00              2   \n9996          516    France    Male   35    10.0   57369.61              1   \n9997          709    France  Female   36     7.0       0.00              1   \n9998          772   Germany    Male   42     3.0   75075.31              2   \n9999          792    France  Female   28     NaN  130142.79              1   \n\n      HasCrCard  IsActiveMember  EstimatedSalary  Exited  \n0             1               1        101348.88       1  \n1             0               1        112542.58       0  \n2             1               0        113931.57       1  \n3             0               0         93826.63       0  \n4             1               1         79084.10       0  \n...         ...             ...              ...     ...  \n9995          1               0         96270.64       0  \n9996          1               1        101699.77       0  \n9997          0               1         42085.58       1  \n9998          1               0         92888.52       1  \n9999          1               0         38190.78       0  \n\n[10000 rows x 11 columns]",
      "text/html": "<div>\n<style scoped>\n    .dataframe tbody tr th:only-of-type {\n        vertical-align: middle;\n    }\n\n    .dataframe tbody tr th {\n        vertical-align: top;\n    }\n\n    .dataframe thead th {\n        text-align: right;\n    }\n</style>\n<table border=\"1\" class=\"dataframe\">\n  <thead>\n    <tr style=\"text-align: right;\">\n      <th></th>\n      <th>CreditScore</th>\n      <th>Geography</th>\n      <th>Gender</th>\n      <th>Age</th>\n      <th>Tenure</th>\n      <th>Balance</th>\n      <th>NumOfProducts</th>\n      <th>HasCrCard</th>\n      <th>IsActiveMember</th>\n      <th>EstimatedSalary</th>\n      <th>Exited</th>\n    </tr>\n  </thead>\n  <tbody>\n    <tr>\n      <th>0</th>\n      <td>619</td>\n      <td>France</td>\n      <td>Female</td>\n      <td>42</td>\n      <td>2.0</td>\n      <td>0.00</td>\n      <td>1</td>\n      <td>1</td>\n      <td>1</td>\n      <td>101348.88</td>\n      <td>1</td>\n    </tr>\n    <tr>\n      <th>1</th>\n      <td>608</td>\n      <td>Spain</td>\n      <td>Female</td>\n      <td>41</td>\n      <td>1.0</td>\n      <td>83807.86</td>\n      <td>1</td>\n      <td>0</td>\n      <td>1</td>\n      <td>112542.58</td>\n      <td>0</td>\n    </tr>\n    <tr>\n      <th>2</th>\n      <td>502</td>\n      <td>France</td>\n      <td>Female</td>\n      <td>42</td>\n      <td>8.0</td>\n      <td>159660.80</td>\n      <td>3</td>\n      <td>1</td>\n      <td>0</td>\n      <td>113931.57</td>\n      <td>1</td>\n    </tr>\n    <tr>\n      <th>3</th>\n      <td>699</td>\n      <td>France</td>\n      <td>Female</td>\n      <td>39</td>\n      <td>1.0</td>\n      <td>0.00</td>\n      <td>2</td>\n      <td>0</td>\n      <td>0</td>\n      <td>93826.63</td>\n      <td>0</td>\n    </tr>\n    <tr>\n      <th>4</th>\n      <td>850</td>\n      <td>Spain</td>\n      <td>Female</td>\n      <td>43</td>\n      <td>2.0</td>\n      <td>125510.82</td>\n      <td>1</td>\n      <td>1</td>\n      <td>1</td>\n      <td>79084.10</td>\n      <td>0</td>\n    </tr>\n    <tr>\n      <th>...</th>\n      <td>...</td>\n      <td>...</td>\n      <td>...</td>\n      <td>...</td>\n      <td>...</td>\n      <td>...</td>\n      <td>...</td>\n      <td>...</td>\n      <td>...</td>\n      <td>...</td>\n      <td>...</td>\n    </tr>\n    <tr>\n      <th>9995</th>\n      <td>771</td>\n      <td>France</td>\n      <td>Male</td>\n      <td>39</td>\n      <td>5.0</td>\n      <td>0.00</td>\n      <td>2</td>\n      <td>1</td>\n      <td>0</td>\n      <td>96270.64</td>\n      <td>0</td>\n    </tr>\n    <tr>\n      <th>9996</th>\n      <td>516</td>\n      <td>France</td>\n      <td>Male</td>\n      <td>35</td>\n      <td>10.0</td>\n      <td>57369.61</td>\n      <td>1</td>\n      <td>1</td>\n      <td>1</td>\n      <td>101699.77</td>\n      <td>0</td>\n    </tr>\n    <tr>\n      <th>9997</th>\n      <td>709</td>\n      <td>France</td>\n      <td>Female</td>\n      <td>36</td>\n      <td>7.0</td>\n      <td>0.00</td>\n      <td>1</td>\n      <td>0</td>\n      <td>1</td>\n      <td>42085.58</td>\n      <td>1</td>\n    </tr>\n    <tr>\n      <th>9998</th>\n      <td>772</td>\n      <td>Germany</td>\n      <td>Male</td>\n      <td>42</td>\n      <td>3.0</td>\n      <td>75075.31</td>\n      <td>2</td>\n      <td>1</td>\n      <td>0</td>\n      <td>92888.52</td>\n      <td>1</td>\n    </tr>\n    <tr>\n      <th>9999</th>\n      <td>792</td>\n      <td>France</td>\n      <td>Female</td>\n      <td>28</td>\n      <td>NaN</td>\n      <td>130142.79</td>\n      <td>1</td>\n      <td>1</td>\n      <td>0</td>\n      <td>38190.78</td>\n      <td>0</td>\n    </tr>\n  </tbody>\n</table>\n<p>10000 rows × 11 columns</p>\n</div>"
     },
     "execution_count": 9,
     "metadata": {},
     "output_type": "execute_result"
    }
   ],
   "source": [
    "df"
   ],
   "metadata": {
    "collapsed": false,
    "ExecuteTime": {
     "end_time": "2023-12-03T15:49:15.425035700Z",
     "start_time": "2023-12-03T15:49:15.327404Z"
    }
   }
  },
  {
   "cell_type": "code",
   "execution_count": 10,
   "outputs": [
    {
     "name": "stdout",
     "output_type": "stream",
     "text": [
      "<class 'pandas.core.frame.DataFrame'>\n",
      "RangeIndex: 10000 entries, 0 to 9999\n",
      "Data columns (total 11 columns):\n",
      " #   Column           Non-Null Count  Dtype  \n",
      "---  ------           --------------  -----  \n",
      " 0   CreditScore      10000 non-null  int64  \n",
      " 1   Geography        10000 non-null  object \n",
      " 2   Gender           10000 non-null  object \n",
      " 3   Age              10000 non-null  int64  \n",
      " 4   Tenure           9091 non-null   float64\n",
      " 5   Balance          10000 non-null  float64\n",
      " 6   NumOfProducts    10000 non-null  int64  \n",
      " 7   HasCrCard        10000 non-null  int64  \n",
      " 8   IsActiveMember   10000 non-null  int64  \n",
      " 9   EstimatedSalary  10000 non-null  float64\n",
      " 10  Exited           10000 non-null  int64  \n",
      "dtypes: float64(3), int64(6), object(2)\n",
      "memory usage: 859.5+ KB\n"
     ]
    }
   ],
   "source": [
    "df.info()"
   ],
   "metadata": {
    "collapsed": false,
    "ExecuteTime": {
     "end_time": "2023-12-03T15:49:15.928309Z",
     "start_time": "2023-12-03T15:49:15.773524900Z"
    }
   }
  },
  {
   "cell_type": "code",
   "execution_count": 11,
   "outputs": [],
   "source": [
    "# сохраним признаки и целевой признак в отдельных переменных:\n",
    "y = df['Exited']\n",
    "X = df.drop('Exited', axis=1)"
   ],
   "metadata": {
    "collapsed": false,
    "ExecuteTime": {
     "end_time": "2023-12-03T15:49:16.446117200Z",
     "start_time": "2023-12-03T15:49:16.402529100Z"
    }
   }
  },
  {
   "cell_type": "code",
   "execution_count": 12,
   "outputs": [],
   "source": [
    "# разобьем исходные данные на обучающую и тестовую выборки в соотношении 4:1:\n",
    "X_train, X_test, y_train, y_test = train_test_split(X, y, test_size=0.2, random_state=12345, stratify=y)"
   ],
   "metadata": {
    "collapsed": false,
    "ExecuteTime": {
     "end_time": "2023-12-03T15:49:17.049990300Z",
     "start_time": "2023-12-03T15:49:17.002683700Z"
    }
   }
  },
  {
   "cell_type": "code",
   "execution_count": 13,
   "outputs": [
    {
     "name": "stdout",
     "output_type": "stream",
     "text": [
      "Размер обучающей выборки: (8000, 10)\n",
      "Размер тестовой выборки: (2000, 10)\n"
     ]
    }
   ],
   "source": [
    "# посмотрим на размеры выборок:\n",
    "print('Размер обучающей выборки:', X_train.shape)\n",
    "print('Размер тестовой выборки:', X_test.shape)"
   ],
   "metadata": {
    "collapsed": false,
    "ExecuteTime": {
     "end_time": "2023-12-03T15:49:17.478960100Z",
     "start_time": "2023-12-03T15:49:17.404936400Z"
    }
   }
  },
  {
   "cell_type": "code",
   "execution_count": 14,
   "outputs": [],
   "source": [
    "# внесем в переменные списки все численные и категориальные признаки:\n",
    "categorical_features = X_train.select_dtypes(include=['object']).columns.tolist()\n",
    "numeric_features = X_train.select_dtypes(exclude=['object']).columns.tolist()\n",
    "binary_features = ['HasCrCard', 'IsActiveMember']\n",
    "numeric_features = list(set(numeric_features) - set(binary_features))"
   ],
   "metadata": {
    "collapsed": false,
    "ExecuteTime": {
     "end_time": "2023-12-03T15:49:17.690556700Z",
     "start_time": "2023-12-03T15:49:17.649146400Z"
    }
   }
  },
  {
   "cell_type": "code",
   "execution_count": 15,
   "outputs": [
    {
     "data": {
      "text/plain": "['Balance', 'Age', 'EstimatedSalary', 'CreditScore', 'NumOfProducts', 'Tenure']"
     },
     "execution_count": 15,
     "metadata": {},
     "output_type": "execute_result"
    }
   ],
   "source": [
    "numeric_features"
   ],
   "metadata": {
    "collapsed": false,
    "ExecuteTime": {
     "end_time": "2023-12-03T15:49:17.902008300Z",
     "start_time": "2023-12-03T15:49:17.851343800Z"
    }
   }
  },
  {
   "cell_type": "code",
   "execution_count": 16,
   "outputs": [
    {
     "data": {
      "text/plain": "['Geography', 'Gender']"
     },
     "execution_count": 16,
     "metadata": {},
     "output_type": "execute_result"
    }
   ],
   "source": [
    "categorical_features"
   ],
   "metadata": {
    "collapsed": false,
    "ExecuteTime": {
     "end_time": "2023-12-03T15:49:18.277012200Z",
     "start_time": "2023-12-03T15:49:18.236053900Z"
    }
   }
  },
  {
   "cell_type": "code",
   "execution_count": 17,
   "outputs": [
    {
     "data": {
      "text/plain": "['HasCrCard', 'IsActiveMember']"
     },
     "execution_count": 17,
     "metadata": {},
     "output_type": "execute_result"
    }
   ],
   "source": [
    "binary_features"
   ],
   "metadata": {
    "collapsed": false,
    "ExecuteTime": {
     "end_time": "2023-12-03T15:49:18.608866700Z",
     "start_time": "2023-12-03T15:49:18.506763700Z"
    }
   }
  },
  {
   "cell_type": "markdown",
   "source": [
    "# 2. Обучение модели без учёта дисбаланса классов (XGBoost)"
   ],
   "metadata": {
    "collapsed": false
   }
  },
  {
   "cell_type": "markdown",
   "source": [
    "Для автоматизации процесса подготовим численный и категориальный пайплайны.\n",
    "- Для категориальных признаков (Geography, Gender) используем One Hot Encoding.\n",
    "- Для заполнения пропусков используем SimpleImputer.\n",
    "- Выполним трансформацию Йео-Джонсона.\n",
    "- Для моделей логистической регрессии и SVM выполним масштабирование данных; для моделей, основанных на деревьях, выполнять его не будем.\n",
    "- Объединим пайплайны классом ColumnTransformer."
   ],
   "metadata": {
    "collapsed": false
   }
  },
  {
   "cell_type": "code",
   "execution_count": 18,
   "outputs": [],
   "source": [
    "cat_pipeline = Pipeline([\n",
    "    ('enc', OneHotEncoder(handle_unknown='error', drop='first'))\n",
    "])\n",
    "\n",
    "num_pipeline = Pipeline([\n",
    "    ('imp', SimpleImputer(fill_value=-1, add_indicator=True)),\n",
    "    ('pt', PowerTransformer()) \n",
    "])\n",
    "\n",
    "preprocessor = ColumnTransformer([\n",
    "    (\"cat\", cat_pipeline, categorical_features),\n",
    "    (\"num\", num_pipeline, numeric_features)\n",
    "\n",
    "], remainder='passthrough')\n",
    "\n",
    "pipe = Pipeline([\n",
    "    ('preprocessor', preprocessor),\n",
    "    ('model', xgb.XGBClassifier(random_state=12345))\n",
    "])"
   ],
   "metadata": {
    "collapsed": false,
    "ExecuteTime": {
     "end_time": "2023-12-03T15:49:20.188779600Z",
     "start_time": "2023-12-03T15:49:20.172903800Z"
    }
   }
  },
  {
   "cell_type": "code",
   "execution_count": 19,
   "outputs": [],
   "source": [
    "def optuna_optimize(trial):\n",
    "    param_grid = {\n",
    "        'model__n_estimators': trial.suggest_int('model__n_estimators', 50, 500),\n",
    "        'model__max_depth': trial.suggest_int('model__max_depth', 2, 6),\n",
    "        'model__learning_rate': trial.suggest_float('model__learning_rate', 0.01, 1.5),\n",
    "        'model__gamma': trial.suggest_float('model__gamma', 0.0, 20.0),\n",
    "        'model__reg_lambda': trial.suggest_float('model__reg_lambda', 0.0, 1.0),\n",
    "        'model__min_child_weight': trial.suggest_float('model__min_child_weight', 0.0, 5.0)\n",
    "    }\n",
    "\n",
    "    pipe.set_params(**param_grid)\n",
    "    score = cross_val_score(pipe, X_train, y_train, cv=5, scoring='f1').mean()\n",
    "    return score"
   ],
   "metadata": {
    "collapsed": false,
    "ExecuteTime": {
     "end_time": "2023-12-03T15:49:21.178260700Z",
     "start_time": "2023-12-03T15:49:21.146990100Z"
    }
   }
  },
  {
   "cell_type": "code",
   "execution_count": 20,
   "outputs": [
    {
     "name": "stderr",
     "output_type": "stream",
     "text": [
      "[I 2023-12-03 18:49:22,730] A new study created in memory with name: XGBoost Optuna Optimization Imbalanced\n"
     ]
    }
   ],
   "source": [
    "study_xgb = optuna.create_study(study_name=\"XGBoost Optuna Optimization Imbalanced\",\n",
    "                                direction='maximize')"
   ],
   "metadata": {
    "collapsed": false,
    "ExecuteTime": {
     "end_time": "2023-12-03T15:49:22.786521400Z",
     "start_time": "2023-12-03T15:49:22.733416900Z"
    }
   }
  },
  {
   "cell_type": "code",
   "execution_count": 21,
   "outputs": [
    {
     "name": "stderr",
     "output_type": "stream",
     "text": [
      "[I 2023-12-03 18:49:27,889] Trial 0 finished with value: 0.5624638623825563 and parameters: {'model__n_estimators': 342, 'model__max_depth': 2, 'model__learning_rate': 0.7729374503012018, 'model__gamma': 9.912570476380893, 'model__reg_lambda': 0.9837894586262957, 'model__min_child_weight': 1.49278468416559}. Best is trial 0 with value: 0.5624638623825563.\n",
      "[I 2023-12-03 18:49:28,823] Trial 1 finished with value: 0.5900343481511172 and parameters: {'model__n_estimators': 107, 'model__max_depth': 5, 'model__learning_rate': 0.2421576697603751, 'model__gamma': 0.8328843241468609, 'model__reg_lambda': 0.03969495284854774, 'model__min_child_weight': 3.2547466065619206}. Best is trial 1 with value: 0.5900343481511172.\n",
      "[I 2023-12-03 18:49:29,579] Trial 2 finished with value: 0.5628910641300507 and parameters: {'model__n_estimators': 68, 'model__max_depth': 5, 'model__learning_rate': 1.3007520960369447, 'model__gamma': 13.489722605407454, 'model__reg_lambda': 0.6419171819136986, 'model__min_child_weight': 4.067058655867371}. Best is trial 1 with value: 0.5900343481511172.\n",
      "[I 2023-12-03 18:49:30,725] Trial 3 finished with value: 0.5665443716013066 and parameters: {'model__n_estimators': 321, 'model__max_depth': 4, 'model__learning_rate': 0.6315608028545072, 'model__gamma': 9.60147939594778, 'model__reg_lambda': 0.9521757718962423, 'model__min_child_weight': 2.0142255458479714}. Best is trial 1 with value: 0.5900343481511172.\n",
      "[I 2023-12-03 18:49:31,893] Trial 4 finished with value: 0.5864484093401193 and parameters: {'model__n_estimators': 285, 'model__max_depth': 5, 'model__learning_rate': 0.8413862173201474, 'model__gamma': 8.770073868080067, 'model__reg_lambda': 0.8765813914691118, 'model__min_child_weight': 2.0335502722572}. Best is trial 1 with value: 0.5900343481511172.\n",
      "[I 2023-12-03 18:49:33,039] Trial 5 finished with value: 0.4794548561976589 and parameters: {'model__n_estimators': 91, 'model__max_depth': 5, 'model__learning_rate': 0.011984988072041874, 'model__gamma': 4.890531656632804, 'model__reg_lambda': 0.12930048993906185, 'model__min_child_weight': 0.3401391624647737}. Best is trial 1 with value: 0.5900343481511172.\n",
      "[I 2023-12-03 18:49:34,252] Trial 6 finished with value: 0.5316722537471337 and parameters: {'model__n_estimators': 243, 'model__max_depth': 3, 'model__learning_rate': 0.12425766714927941, 'model__gamma': 14.52472930910851, 'model__reg_lambda': 0.6859940572505167, 'model__min_child_weight': 3.598759245087474}. Best is trial 1 with value: 0.5900343481511172.\n",
      "[I 2023-12-03 18:49:35,806] Trial 7 finished with value: 0.5784306713030964 and parameters: {'model__n_estimators': 431, 'model__max_depth': 5, 'model__learning_rate': 1.4456559066229182, 'model__gamma': 16.422853502279622, 'model__reg_lambda': 0.24357480579829738, 'model__min_child_weight': 2.8007677464629928}. Best is trial 1 with value: 0.5900343481511172.\n",
      "[I 2023-12-03 18:49:37,309] Trial 8 finished with value: 0.5745037992351543 and parameters: {'model__n_estimators': 438, 'model__max_depth': 5, 'model__learning_rate': 0.4183512464234193, 'model__gamma': 2.133925926824989, 'model__reg_lambda': 0.5699552890143172, 'model__min_child_weight': 1.9951861179400936}. Best is trial 1 with value: 0.5900343481511172.\n",
      "[I 2023-12-03 18:49:38,671] Trial 9 finished with value: 0.5786476752291072 and parameters: {'model__n_estimators': 337, 'model__max_depth': 6, 'model__learning_rate': 0.5682797014848607, 'model__gamma': 8.850423857992812, 'model__reg_lambda': 0.9468030541336078, 'model__min_child_weight': 2.192848803797805}. Best is trial 1 with value: 0.5900343481511172.\n",
      "[I 2023-12-03 18:49:39,774] Trial 10 finished with value: 0.581109791217931 and parameters: {'model__n_estimators': 169, 'model__max_depth': 3, 'model__learning_rate': 0.3532281098215302, 'model__gamma': 0.951145140237843, 'model__reg_lambda': 0.018377995016318427, 'model__min_child_weight': 4.417999373167456}. Best is trial 1 with value: 0.5900343481511172.\n",
      "[I 2023-12-03 18:49:40,911] Trial 11 finished with value: 0.5822963012878296 and parameters: {'model__n_estimators': 218, 'model__max_depth': 6, 'model__learning_rate': 0.9012508942968805, 'model__gamma': 5.035878134425566, 'model__reg_lambda': 0.3524148966500663, 'model__min_child_weight': 3.1440576458088314}. Best is trial 1 with value: 0.5900343481511172.\n",
      "[I 2023-12-03 18:49:41,954] Trial 12 finished with value: 0.5662874673956941 and parameters: {'model__n_estimators': 140, 'model__max_depth': 4, 'model__learning_rate': 0.9711115158637759, 'model__gamma': 5.949910050585585, 'model__reg_lambda': 0.3775558786332128, 'model__min_child_weight': 3.4379836552245204}. Best is trial 1 with value: 0.5900343481511172.\n",
      "[I 2023-12-03 18:49:43,347] Trial 13 finished with value: 0.54438339588951 and parameters: {'model__n_estimators': 275, 'model__max_depth': 6, 'model__learning_rate': 0.23721723060749456, 'model__gamma': 19.25740798016909, 'model__reg_lambda': 0.016817495708384006, 'model__min_child_weight': 4.882621684948116}. Best is trial 1 with value: 0.5900343481511172.\n",
      "[I 2023-12-03 18:49:44,518] Trial 14 finished with value: 0.5809071056319265 and parameters: {'model__n_estimators': 182, 'model__max_depth': 4, 'model__learning_rate': 0.519959886415621, 'model__gamma': 0.8509105328728221, 'model__reg_lambda': 0.7776266908934291, 'model__min_child_weight': 2.915050895332135}. Best is trial 1 with value: 0.5900343481511172.\n",
      "[I 2023-12-03 18:49:45,979] Trial 15 finished with value: 0.5609456004556278 and parameters: {'model__n_estimators': 373, 'model__max_depth': 5, 'model__learning_rate': 0.30176019777035057, 'model__gamma': 6.804487713941862, 'model__reg_lambda': 0.5608774991621086, 'model__min_child_weight': 2.570089829528942}. Best is trial 1 with value: 0.5900343481511172.\n",
      "[I 2023-12-03 18:49:47,631] Trial 16 finished with value: 0.567494180872392 and parameters: {'model__n_estimators': 489, 'model__max_depth': 3, 'model__learning_rate': 0.7866102017835213, 'model__gamma': 2.959929954652426, 'model__reg_lambda': 0.4444814300961705, 'model__min_child_weight': 1.3155576207952588}. Best is trial 1 with value: 0.5900343481511172.\n",
      "[I 2023-12-03 18:49:49,179] Trial 17 finished with value: 0.5255891422431148 and parameters: {'model__n_estimators': 125, 'model__max_depth': 6, 'model__learning_rate': 1.0680109552503323, 'model__gamma': 0.0010398794131418754, 'model__reg_lambda': 0.2889632717228505, 'model__min_child_weight': 3.92651037501322}. Best is trial 1 with value: 0.5900343481511172.\n",
      "[I 2023-12-03 18:49:50,101] Trial 18 finished with value: 0.5655246872397919 and parameters: {'model__n_estimators': 50, 'model__max_depth': 5, 'model__learning_rate': 0.5987327904356904, 'model__gamma': 12.136618451207966, 'model__reg_lambda': 0.4493262213913194, 'model__min_child_weight': 3.2958795425625267}. Best is trial 1 with value: 0.5900343481511172.\n",
      "[I 2023-12-03 18:49:51,368] Trial 19 finished with value: 0.5712185441204412 and parameters: {'model__n_estimators': 277, 'model__max_depth': 4, 'model__learning_rate': 0.4383996535113421, 'model__gamma': 3.253261645938773, 'model__reg_lambda': 0.18574221628196563, 'model__min_child_weight': 2.776515985491904}. Best is trial 1 with value: 0.5900343481511172.\n",
      "[I 2023-12-03 18:49:52,538] Trial 20 finished with value: 0.5691774602117183 and parameters: {'model__n_estimators': 212, 'model__max_depth': 4, 'model__learning_rate': 0.7068435881566558, 'model__gamma': 7.351316509043309, 'model__reg_lambda': 0.7826428376823339, 'model__min_child_weight': 2.5105165865707875}. Best is trial 1 with value: 0.5900343481511172.\n",
      "[I 2023-12-03 18:49:53,743] Trial 21 finished with value: 0.5670153471834085 and parameters: {'model__n_estimators': 229, 'model__max_depth': 6, 'model__learning_rate': 0.88153860516547, 'model__gamma': 4.695180908912878, 'model__reg_lambda': 0.37584169332246903, 'model__min_child_weight': 3.159404886450294}. Best is trial 1 with value: 0.5900343481511172.\n",
      "[I 2023-12-03 18:49:54,923] Trial 22 finished with value: 0.5630224917487878 and parameters: {'model__n_estimators': 195, 'model__max_depth': 6, 'model__learning_rate': 1.0363011226045584, 'model__gamma': 4.060881691719185, 'model__reg_lambda': 0.11435000454274692, 'model__min_child_weight': 3.5830396740147563}. Best is trial 1 with value: 0.5900343481511172.\n",
      "[I 2023-12-03 18:49:56,183] Trial 23 finished with value: 0.5770195049583036 and parameters: {'model__n_estimators': 276, 'model__max_depth': 6, 'model__learning_rate': 0.9014313191498013, 'model__gamma': 7.126352797266164, 'model__reg_lambda': 0.30720094978919377, 'model__min_child_weight': 3.0681611568813154}. Best is trial 1 with value: 0.5900343481511172.\n",
      "[I 2023-12-03 18:49:57,162] Trial 24 finished with value: 0.5593275662636265 and parameters: {'model__n_estimators': 96, 'model__max_depth': 5, 'model__learning_rate': 1.1464263854682482, 'model__gamma': 2.133918703739668, 'model__reg_lambda': 0.18051223168001168, 'model__min_child_weight': 3.8514093776932623}. Best is trial 1 with value: 0.5900343481511172.\n",
      "[I 2023-12-03 18:49:58,204] Trial 25 finished with value: 0.5723400996053127 and parameters: {'model__n_estimators': 143, 'model__max_depth': 5, 'model__learning_rate': 0.7137294434114775, 'model__gamma': 5.282195520954387, 'model__reg_lambda': 0.48404859708184517, 'model__min_child_weight': 3.149702535432779}. Best is trial 1 with value: 0.5900343481511172.\n",
      "[I 2023-12-03 18:49:59,505] Trial 26 finished with value: 0.5781736482843118 and parameters: {'model__n_estimators': 307, 'model__max_depth': 6, 'model__learning_rate': 0.8577939251482479, 'model__gamma': 8.006764018215302, 'model__reg_lambda': 0.3925138228410369, 'model__min_child_weight': 2.3649977141698324}. Best is trial 1 with value: 0.5900343481511172.\n",
      "[I 2023-12-03 18:50:00,724] Trial 27 finished with value: 0.5741311553280253 and parameters: {'model__n_estimators': 245, 'model__max_depth': 5, 'model__learning_rate': 0.6525317438047217, 'model__gamma': 6.2235398731415135, 'model__reg_lambda': 0.30545508646332176, 'model__min_child_weight': 2.731505356668256}. Best is trial 1 with value: 0.5900343481511172.\n",
      "[I 2023-12-03 18:50:02,156] Trial 28 finished with value: 0.5766935044289325 and parameters: {'model__n_estimators': 370, 'model__max_depth': 6, 'model__learning_rate': 0.8052493333481656, 'model__gamma': 3.3705409535141, 'model__reg_lambda': 0.07780583687076396, 'model__min_child_weight': 1.7636786089030896}. Best is trial 1 with value: 0.5900343481511172.\n",
      "[I 2023-12-03 18:50:03,613] Trial 29 finished with value: 0.5617978866954794 and parameters: {'model__n_estimators': 373, 'model__max_depth': 2, 'model__learning_rate': 0.7550621742946274, 'model__gamma': 10.833645519133118, 'model__reg_lambda': 0.22854776169282373, 'model__min_child_weight': 1.398438615587845}. Best is trial 1 with value: 0.5900343481511172.\n",
      "[I 2023-12-03 18:50:04,667] Trial 30 finished with value: 0.5611730411076199 and parameters: {'model__n_estimators': 156, 'model__max_depth': 4, 'model__learning_rate': 0.5037036295858646, 'model__gamma': 9.334498478300059, 'model__reg_lambda': 0.5278230148506383, 'model__min_child_weight': 2.3376409685641355}. Best is trial 1 with value: 0.5900343481511172.\n",
      "[I 2023-12-03 18:50:05,777] Trial 31 finished with value: 0.5780271276704194 and parameters: {'model__n_estimators': 174, 'model__max_depth': 3, 'model__learning_rate': 0.32833840071780124, 'model__gamma': 1.317328757242329, 'model__reg_lambda': 0.015308092921192389, 'model__min_child_weight': 4.586504786409317}. Best is trial 1 with value: 0.5900343481511172.\n",
      "[I 2023-12-03 18:50:06,922] Trial 32 finished with value: 0.581278995932794 and parameters: {'model__n_estimators': 110, 'model__max_depth': 3, 'model__learning_rate': 0.221373856413707, 'model__gamma': 0.242089219372163, 'model__reg_lambda': 0.005435577728242455, 'model__min_child_weight': 4.393496150768917}. Best is trial 1 with value: 0.5900343481511172.\n",
      "[I 2023-12-03 18:50:08,056] Trial 33 finished with value: 0.5825908501864514 and parameters: {'model__n_estimators': 108, 'model__max_depth': 3, 'model__learning_rate': 0.21660640938218292, 'model__gamma': 0.09080058820600881, 'model__reg_lambda': 0.10204177406097073, 'model__min_child_weight': 3.9886517319111343}. Best is trial 1 with value: 0.5900343481511172.\n",
      "[I 2023-12-03 18:50:10,339] Trial 34 finished with value: 0.5290468975230186 and parameters: {'model__n_estimators': 93, 'model__max_depth': 2, 'model__learning_rate': 0.05473802388112553, 'model__gamma': 2.004253407083971, 'model__reg_lambda': 0.09255740455068784, 'model__min_child_weight': 3.7365050441344576}. Best is trial 1 with value: 0.5900343481511172.\n",
      "[I 2023-12-03 18:50:12,621] Trial 35 finished with value: 0.5626304867204482 and parameters: {'model__n_estimators': 62, 'model__max_depth': 4, 'model__learning_rate': 0.12155489085182208, 'model__gamma': 4.109154587648536, 'model__reg_lambda': 0.1571826263791513, 'model__min_child_weight': 4.118573770633796}. Best is trial 1 with value: 0.5900343481511172.\n",
      "[I 2023-12-03 18:50:14,494] Trial 36 finished with value: 0.5769118294600063 and parameters: {'model__n_estimators': 299, 'model__max_depth': 5, 'model__learning_rate': 0.6733790044899617, 'model__gamma': 5.472822436976076, 'model__reg_lambda': 0.07906902298195062, 'model__min_child_weight': 3.4999227705642557}. Best is trial 1 with value: 0.5900343481511172.\n",
      "[I 2023-12-03 18:50:15,961] Trial 37 finished with value: 0.558925278966241 and parameters: {'model__n_estimators': 215, 'model__max_depth': 2, 'model__learning_rate': 0.1874244501520802, 'model__gamma': 2.648989261181451, 'model__reg_lambda': 0.22485306444655317, 'model__min_child_weight': 3.3848228529271602}. Best is trial 1 with value: 0.5900343481511172.\n",
      "[I 2023-12-03 18:50:17,079] Trial 38 finished with value: 0.5827982898880254 and parameters: {'model__n_estimators': 79, 'model__max_depth': 5, 'model__learning_rate': 0.40834802167832684, 'model__gamma': 1.3749705901773126, 'model__reg_lambda': 0.14180544052008417, 'model__min_child_weight': 4.065685514568978}. Best is trial 1 with value: 0.5900343481511172.\n",
      "[I 2023-12-03 18:50:18,175] Trial 39 finished with value: 0.5745395641164117 and parameters: {'model__n_estimators': 85, 'model__max_depth': 5, 'model__learning_rate': 0.4461903755555013, 'model__gamma': 1.6399635550606344, 'model__reg_lambda': 0.12292589325490894, 'model__min_child_weight': 4.014340385616489}. Best is trial 1 with value: 0.5900343481511172.\n",
      "[I 2023-12-03 18:50:19,474] Trial 40 finished with value: 0.5109438199554274 and parameters: {'model__n_estimators': 119, 'model__max_depth': 4, 'model__learning_rate': 0.014772396202788196, 'model__gamma': 0.1019487672043301, 'model__reg_lambda': 0.07112956501094775, 'model__min_child_weight': 3.7227438687474264}. Best is trial 1 with value: 0.5900343481511172.\n",
      "[I 2023-12-03 18:50:20,429] Trial 41 finished with value: 0.5796661474571865 and parameters: {'model__n_estimators': 73, 'model__max_depth': 5, 'model__learning_rate': 0.37101554760208566, 'model__gamma': 1.6247866606151447, 'model__reg_lambda': 0.17593666330835683, 'model__min_child_weight': 4.164872797882405}. Best is trial 1 with value: 0.5900343481511172.\n",
      "[I 2023-12-03 18:50:21,507] Trial 42 finished with value: 0.5720978495577389 and parameters: {'model__n_estimators': 137, 'model__max_depth': 5, 'model__learning_rate': 0.27069528869823756, 'model__gamma': 4.290270652453659, 'model__reg_lambda': 0.13598748403009936, 'model__min_child_weight': 3.6003111538745536}. Best is trial 1 with value: 0.5900343481511172.\n",
      "[I 2023-12-03 18:50:22,671] Trial 43 finished with value: 0.5794612309774385 and parameters: {'model__n_estimators': 108, 'model__max_depth': 6, 'model__learning_rate': 0.1649467993576467, 'model__gamma': 0.9416351596857936, 'model__reg_lambda': 0.06309183037454255, 'model__min_child_weight': 2.87946265655635}. Best is trial 1 with value: 0.5900343481511172.\n",
      "[I 2023-12-03 18:50:23,865] Trial 44 finished with value: 0.5687874077092742 and parameters: {'model__n_estimators': 237, 'model__max_depth': 5, 'model__learning_rate': 0.3824737958528991, 'model__gamma': 3.328158275490475, 'model__reg_lambda': 0.6209746746113014, 'model__min_child_weight': 3.3656202343780977}. Best is trial 1 with value: 0.5900343481511172.\n",
      "[I 2023-12-03 18:50:25,134] Trial 45 finished with value: 0.575466779915822 and parameters: {'model__n_estimators': 256, 'model__max_depth': 3, 'model__learning_rate': 0.2733314253103594, 'model__gamma': 2.263954883760954, 'model__reg_lambda': 0.26975052335050886, 'model__min_child_weight': 3.883444627943022}. Best is trial 1 with value: 0.5900343481511172.\n",
      "[I 2023-12-03 18:50:26,377] Trial 46 finished with value: 0.5857037412950725 and parameters: {'model__n_estimators': 196, 'model__max_depth': 4, 'model__learning_rate': 0.5639633274888921, 'model__gamma': 0.6697771972630815, 'model__reg_lambda': 0.9805088327582695, 'model__min_child_weight': 4.22005850554441}. Best is trial 1 with value: 0.5900343481511172.\n",
      "[I 2023-12-03 18:50:27,530] Trial 47 finished with value: 0.5772717264423444 and parameters: {'model__n_estimators': 194, 'model__max_depth': 4, 'model__learning_rate': 0.5441138739208069, 'model__gamma': 0.9420968869411288, 'model__reg_lambda': 0.9939903596357379, 'model__min_child_weight': 4.2701736250936655}. Best is trial 1 with value: 0.5900343481511172.\n",
      "[I 2023-12-03 18:50:28,801] Trial 48 finished with value: 0.5722904591667741 and parameters: {'model__n_estimators': 163, 'model__max_depth': 3, 'model__learning_rate': 0.6087812554963051, 'model__gamma': 0.10727354433861791, 'model__reg_lambda': 0.9419386806571901, 'model__min_child_weight': 4.637109968388806}. Best is trial 1 with value: 0.5900343481511172.\n",
      "[I 2023-12-03 18:50:29,724] Trial 49 finished with value: 0.5778182472091355 and parameters: {'model__n_estimators': 69, 'model__max_depth': 4, 'model__learning_rate': 0.4902315181504046, 'model__gamma': 2.41307344235399, 'model__reg_lambda': 0.04244552443873739, 'model__min_child_weight': 4.0878082778160945}. Best is trial 1 with value: 0.5900343481511172.\n",
      "[I 2023-12-03 18:50:31,143] Trial 50 finished with value: 0.5764236785243803 and parameters: {'model__n_estimators': 339, 'model__max_depth': 5, 'model__learning_rate': 0.3336991906703344, 'model__gamma': 1.1065836314533164, 'model__reg_lambda': 0.9115095505547293, 'model__min_child_weight': 4.95126210593883}. Best is trial 1 with value: 0.5900343481511172.\n",
      "[I 2023-12-03 18:50:32,392] Trial 51 finished with value: 0.5767603434416178 and parameters: {'model__n_estimators': 262, 'model__max_depth': 4, 'model__learning_rate': 0.41856363514817585, 'model__gamma': 3.601891233085139, 'model__reg_lambda': 0.8828243466850323, 'model__min_child_weight': 4.412964770574936}. Best is trial 1 with value: 0.5900343481511172.\n",
      "[I 2023-12-03 18:50:33,560] Trial 52 finished with value: 0.5767959690989974 and parameters: {'model__n_estimators': 212, 'model__max_depth': 5, 'model__learning_rate': 0.5787776718572044, 'model__gamma': 2.6354353356645475, 'model__reg_lambda': 0.11254572485471104, 'model__min_child_weight': 3.727212402367571}. Best is trial 1 with value: 0.5900343481511172.\n",
      "[I 2023-12-03 18:50:34,616] Trial 53 finished with value: 0.57540063210424 and parameters: {'model__n_estimators': 129, 'model__max_depth': 6, 'model__learning_rate': 0.2780460749076929, 'model__gamma': 4.935228435729533, 'model__reg_lambda': 0.8599576991819243, 'model__min_child_weight': 3.950576076560159}. Best is trial 1 with value: 0.5900343481511172.\n",
      "[I 2023-12-03 18:50:35,521] Trial 54 finished with value: 0.5789247172147249 and parameters: {'model__n_estimators': 50, 'model__max_depth': 4, 'model__learning_rate': 0.49817067888576283, 'model__gamma': 1.6647247315193003, 'model__reg_lambda': 0.9814639139342252, 'model__min_child_weight': 3.059365960653101}. Best is trial 1 with value: 0.5900343481511172.\n",
      "[I 2023-12-03 18:50:36,882] Trial 55 finished with value: 0.5838020484341039 and parameters: {'model__n_estimators': 294, 'model__max_depth': 3, 'model__learning_rate': 0.22867760499890344, 'model__gamma': 0.7024976278678876, 'model__reg_lambda': 0.20994289890602083, 'model__min_child_weight': 3.3116408820775582}. Best is trial 1 with value: 0.5900343481511172.\n",
      "[I 2023-12-03 18:50:38,266] Trial 56 finished with value: 0.578775764941925 and parameters: {'model__n_estimators': 293, 'model__max_depth': 3, 'model__learning_rate': 0.20831819084670408, 'model__gamma': 0.683273181720355, 'model__reg_lambda': 0.21190483408874436, 'model__min_child_weight': 4.183576744986686}. Best is trial 1 with value: 0.5900343481511172.\n",
      "[I 2023-12-03 18:50:39,777] Trial 57 finished with value: 0.5750135542902399 and parameters: {'model__n_estimators': 331, 'model__max_depth': 3, 'model__learning_rate': 0.11387638311132461, 'model__gamma': 0.817900463313781, 'model__reg_lambda': 0.1446416221244099, 'model__min_child_weight': 3.2963963901218256}. Best is trial 1 with value: 0.5900343481511172.\n",
      "[I 2023-12-03 18:50:41,132] Trial 58 finished with value: 0.5709084612665695 and parameters: {'model__n_estimators': 319, 'model__max_depth': 3, 'model__learning_rate': 0.3170336023276732, 'model__gamma': 1.6910447198684986, 'model__reg_lambda': 0.19815979794232674, 'model__min_child_weight': 3.548381270028851}. Best is trial 1 with value: 0.5900343481511172.\n",
      "[I 2023-12-03 18:50:42,517] Trial 59 finished with value: 0.5597069914201246 and parameters: {'model__n_estimators': 351, 'model__max_depth': 2, 'model__learning_rate': 0.38290778624781724, 'model__gamma': 2.9921979870172377, 'model__reg_lambda': 0.03395932491418596, 'model__min_child_weight': 2.628151671684852}. Best is trial 1 with value: 0.5900343481511172.\n",
      "[I 2023-12-03 18:50:44,173] Trial 60 finished with value: 0.5749809285233688 and parameters: {'model__n_estimators': 284, 'model__max_depth': 3, 'model__learning_rate': 0.25713443252668483, 'model__gamma': 0.011914889192576439, 'model__reg_lambda': 0.15938963141277893, 'model__min_child_weight': 4.762914688967627}. Best is trial 1 with value: 0.5900343481511172.\n",
      "[I 2023-12-03 18:50:45,405] Trial 61 finished with value: 0.5762466445130446 and parameters: {'model__n_estimators': 190, 'model__max_depth': 6, 'model__learning_rate': 0.16398850282636154, 'model__gamma': 2.240565825578705, 'model__reg_lambda': 0.25412764209336125, 'model__min_child_weight': 3.207471574766362}. Best is trial 1 with value: 0.5900343481511172.\n",
      "[I 2023-12-03 18:50:46,510] Trial 62 finished with value: 0.5558877580221973 and parameters: {'model__n_estimators': 147, 'model__max_depth': 5, 'model__learning_rate': 0.8150220769598089, 'model__gamma': 0.6515445205691361, 'model__reg_lambda': 0.10676573049812123, 'model__min_child_weight': 2.937917738839646}. Best is trial 1 with value: 0.5900343481511172.\n",
      "[I 2023-12-03 18:50:47,862] Trial 63 finished with value: 0.5730475221751539 and parameters: {'model__n_estimators': 313, 'model__max_depth': 4, 'model__learning_rate': 0.22580667017894585, 'model__gamma': 3.66995388809811, 'model__reg_lambda': 0.3167644867372067, 'model__min_child_weight': 3.443474168520415}. Best is trial 1 with value: 0.5900343481511172.\n",
      "[I 2023-12-03 18:50:49,086] Trial 64 finished with value: 0.557306357698355 and parameters: {'model__n_estimators': 225, 'model__max_depth': 6, 'model__learning_rate': 0.9386648248709686, 'model__gamma': 1.3065484594458534, 'model__reg_lambda': 0.19587439760611128, 'model__min_child_weight': 3.822507203756063}. Best is trial 1 with value: 0.5900343481511172.\n",
      "[I 2023-12-03 18:50:50,337] Trial 65 finished with value: 0.5729594333771448 and parameters: {'model__n_estimators': 256, 'model__max_depth': 5, 'model__learning_rate': 0.31502308856470834, 'model__gamma': 2.8512639457168434, 'model__reg_lambda': 0.7254605167043816, 'model__min_child_weight': 4.318325413181825}. Best is trial 1 with value: 0.5900343481511172.\n",
      "[I 2023-12-03 18:50:51,280] Trial 66 finished with value: 0.5824611803714204 and parameters: {'model__n_estimators': 81, 'model__max_depth': 4, 'model__learning_rate': 0.74431783132699, 'model__gamma': 4.505056699497936, 'model__reg_lambda': 0.050500897457352215, 'model__min_child_weight': 3.0267480722599114}. Best is trial 1 with value: 0.5900343481511172.\n",
      "[I 2023-12-03 18:50:52,244] Trial 67 finished with value: 0.5846705905245851 and parameters: {'model__n_estimators': 80, 'model__max_depth': 4, 'model__learning_rate': 0.6297150626792687, 'model__gamma': 1.9026663954727536, 'model__reg_lambda': 0.06384973888510415, 'model__min_child_weight': 4.509330439874888}. Best is trial 1 with value: 0.5900343481511172.\n",
      "[I 2023-12-03 18:50:53,224] Trial 68 finished with value: 0.5853861232210065 and parameters: {'model__n_estimators': 103, 'model__max_depth': 4, 'model__learning_rate': 0.6314523066018165, 'model__gamma': 1.956000194765318, 'model__reg_lambda': 0.0026485278864833983, 'model__min_child_weight': 4.06579359997074}. Best is trial 1 with value: 0.5900343481511172.\n",
      "[I 2023-12-03 18:50:54,164] Trial 69 finished with value: 0.5758341877757714 and parameters: {'model__n_estimators': 101, 'model__max_depth': 4, 'model__learning_rate': 0.6366559219553124, 'model__gamma': 5.961310629049686, 'model__reg_lambda': 0.0001943250172088684, 'model__min_child_weight': 4.447511933855394}. Best is trial 1 with value: 0.5900343481511172.\n",
      "[I 2023-12-03 18:50:55,164] Trial 70 finished with value: 0.5741659396011081 and parameters: {'model__n_estimators': 119, 'model__max_depth': 4, 'model__learning_rate': 0.5698165060629606, 'model__gamma': 1.809176904975347, 'model__reg_lambda': 0.044142595394585954, 'model__min_child_weight': 4.556694175746276}. Best is trial 1 with value: 0.5900343481511172.\n",
      "[I 2023-12-03 18:50:56,193] Trial 71 finished with value: 0.5758108565020079 and parameters: {'model__n_estimators': 89, 'model__max_depth': 3, 'model__learning_rate': 0.687591737004898, 'model__gamma': 0.7436725160841369, 'model__reg_lambda': 0.08250658035814835, 'model__min_child_weight': 4.003358193501434}. Best is trial 1 with value: 0.5900343481511172.\n",
      "[I 2023-12-03 18:50:57,143] Trial 72 finished with value: 0.5805084502590656 and parameters: {'model__n_estimators': 62, 'model__max_depth': 4, 'model__learning_rate': 0.6330737899383213, 'model__gamma': 1.437333297937122, 'model__reg_lambda': 0.10015197279649442, 'model__min_child_weight': 4.108671227312073}. Best is trial 1 with value: 0.5900343481511172.\n",
      "[I 2023-12-03 18:50:58,681] Trial 73 finished with value: 0.5808583431348173 and parameters: {'model__n_estimators': 414, 'model__max_depth': 4, 'model__learning_rate': 0.4541765990425676, 'model__gamma': 0.42293270714738995, 'model__reg_lambda': 0.027770618928452367, 'model__min_child_weight': 4.259008503049905}. Best is trial 1 with value: 0.5900343481511172.\n",
      "[I 2023-12-03 18:50:59,723] Trial 74 finished with value: 0.5833410014577873 and parameters: {'model__n_estimators': 108, 'model__max_depth': 5, 'model__learning_rate': 0.5340480984455047, 'model__gamma': 2.161689106967466, 'model__reg_lambda': 0.13337627926409504, 'model__min_child_weight': 4.67768684443012}. Best is trial 1 with value: 0.5900343481511172.\n",
      "[I 2023-12-03 18:51:00,695] Trial 75 finished with value: 0.585537430941058 and parameters: {'model__n_estimators': 72, 'model__max_depth': 5, 'model__learning_rate': 0.5389016538782725, 'model__gamma': 2.7510402100619173, 'model__reg_lambda': 0.1399214249370434, 'model__min_child_weight': 4.811355400944521}. Best is trial 1 with value: 0.5900343481511172.\n",
      "[I 2023-12-03 18:51:01,808] Trial 76 finished with value: 0.5856488411507651 and parameters: {'model__n_estimators': 130, 'model__max_depth': 5, 'model__learning_rate': 0.5518674954558478, 'model__gamma': 3.8076801425692053, 'model__reg_lambda': 0.05258035955538294, 'model__min_child_weight': 4.788011417245991}. Best is trial 1 with value: 0.5900343481511172.\n",
      "[I 2023-12-03 18:51:02,817] Trial 77 finished with value: 0.5732789844111605 and parameters: {'model__n_estimators': 130, 'model__max_depth': 5, 'model__learning_rate': 0.719436824921654, 'model__gamma': 3.022870172000666, 'model__reg_lambda': 0.0009297813975428226, 'model__min_child_weight': 4.823450407815194}. Best is trial 1 with value: 0.5900343481511172.\n",
      "[I 2023-12-03 18:51:03,919] Trial 78 finished with value: 0.5853120654561874 and parameters: {'model__n_estimators': 175, 'model__max_depth': 5, 'model__learning_rate': 0.6000841890894328, 'model__gamma': 4.092737486637498, 'model__reg_lambda': 0.057522243626955905, 'model__min_child_weight': 4.961016252769461}. Best is trial 1 with value: 0.5900343481511172.\n",
      "[I 2023-12-03 18:51:05,050] Trial 79 finished with value: 0.5841995294485204 and parameters: {'model__n_estimators': 159, 'model__max_depth': 5, 'model__learning_rate': 0.5919110871797822, 'model__gamma': 3.9006093606411456, 'model__reg_lambda': 0.06740314328659994, 'model__min_child_weight': 4.966241393416159}. Best is trial 1 with value: 0.5900343481511172.\n",
      "[I 2023-12-03 18:51:06,173] Trial 80 finished with value: 0.5725831263581409 and parameters: {'model__n_estimators': 180, 'model__max_depth': 5, 'model__learning_rate': 0.6659793579411846, 'model__gamma': 4.681430447423071, 'model__reg_lambda': 0.033398904080600436, 'model__min_child_weight': 4.794412876699675}. Best is trial 1 with value: 0.5900343481511172.\n",
      "[I 2023-12-03 18:51:07,264] Trial 81 finished with value: 0.5796682670664651 and parameters: {'model__n_estimators': 159, 'model__max_depth': 5, 'model__learning_rate': 0.603881897271316, 'model__gamma': 3.842946022897641, 'model__reg_lambda': 0.05695251828296563, 'model__min_child_weight': 4.975842543287155}. Best is trial 1 with value: 0.5900343481511172.\n",
      "[I 2023-12-03 18:51:08,400] Trial 82 finished with value: 0.5875950256856759 and parameters: {'model__n_estimators': 151, 'model__max_depth': 5, 'model__learning_rate': 0.5459780461915694, 'model__gamma': 4.094210632513451, 'model__reg_lambda': 0.07135175130337658, 'model__min_child_weight': 4.862899300402841}. Best is trial 1 with value: 0.5900343481511172.\n",
      "[I 2023-12-03 18:51:09,421] Trial 83 finished with value: 0.5748603080194071 and parameters: {'model__n_estimators': 144, 'model__max_depth': 5, 'model__learning_rate': 0.5403834142702704, 'model__gamma': 5.357651074620064, 'model__reg_lambda': 0.08801613044981525, 'model__min_child_weight': 4.51001744074681}. Best is trial 1 with value: 0.5900343481511172.\n",
      "[I 2023-12-03 18:51:10,409] Trial 84 finished with value: 0.5727084795221008 and parameters: {'model__n_estimators': 96, 'model__max_depth': 5, 'model__learning_rate': 0.6416191166260542, 'model__gamma': 3.13827333450194, 'model__reg_lambda': 0.059823800445518494, 'model__min_child_weight': 4.678017474132223}. Best is trial 1 with value: 0.5900343481511172.\n",
      "[I 2023-12-03 18:51:11,480] Trial 85 finished with value: 0.5744424679091839 and parameters: {'model__n_estimators': 124, 'model__max_depth': 4, 'model__learning_rate': 0.48980927092599, 'model__gamma': 2.553110366304195, 'model__reg_lambda': 0.12002895677076109, 'model__min_child_weight': 4.85115579907867}. Best is trial 1 with value: 0.5900343481511172.\n",
      "[I 2023-12-03 18:51:12,562] Trial 86 finished with value: 0.5789615223637097 and parameters: {'model__n_estimators': 169, 'model__max_depth': 5, 'model__learning_rate': 0.5602317398119355, 'model__gamma': 4.209336251699517, 'model__reg_lambda': 0.025153564570768297, 'model__min_child_weight': 4.593673120572456}. Best is trial 1 with value: 0.5900343481511172.\n",
      "[I 2023-12-03 18:51:13,432] Trial 87 finished with value: 0.5820006286970832 and parameters: {'model__n_estimators': 60, 'model__max_depth': 5, 'model__learning_rate': 0.6977768022517643, 'model__gamma': 6.320881807840285, 'model__reg_lambda': 0.16142994322699938, 'model__min_child_weight': 4.734446990056561}. Best is trial 1 with value: 0.5900343481511172.\n",
      "[I 2023-12-03 18:51:14,553] Trial 88 finished with value: 0.5760940899238466 and parameters: {'model__n_estimators': 202, 'model__max_depth': 5, 'model__learning_rate': 0.46615228230275174, 'model__gamma': 3.615132274035798, 'model__reg_lambda': 0.014958895265474201, 'model__min_child_weight': 4.445487670803778}. Best is trial 1 with value: 0.5900343481511172.\n",
      "[I 2023-12-03 18:51:15,601] Trial 89 finished with value: 0.5845155427795424 and parameters: {'model__n_estimators': 115, 'model__max_depth': 4, 'model__learning_rate': 0.5197236935019385, 'model__gamma': 2.0638840885456746, 'model__reg_lambda': 0.09402267451249294, 'model__min_child_weight': 4.857680369664933}. Best is trial 1 with value: 0.5900343481511172.\n",
      "[I 2023-12-03 18:51:16,544] Trial 90 finished with value: 0.5811430093055454 and parameters: {'model__n_estimators': 75, 'model__max_depth': 5, 'model__learning_rate': 0.6027345533478189, 'model__gamma': 7.809938995105953, 'model__reg_lambda': 0.06738727540355816, 'model__min_child_weight': 4.997431892065828}. Best is trial 1 with value: 0.5900343481511172.\n",
      "[I 2023-12-03 18:51:17,559] Trial 91 finished with value: 0.5711233951564119 and parameters: {'model__n_estimators': 115, 'model__max_depth': 4, 'model__learning_rate': 0.534415260749292, 'model__gamma': 1.9278449688349704, 'model__reg_lambda': 0.09752884804841751, 'model__min_child_weight': 4.857253519152628}. Best is trial 1 with value: 0.5900343481511172.\n",
      "[I 2023-12-03 18:51:18,585] Trial 92 finished with value: 0.5802038488695243 and parameters: {'model__n_estimators': 139, 'model__max_depth': 4, 'model__learning_rate': 0.5204898494391916, 'model__gamma': 2.6353839026865034, 'model__reg_lambda': 0.04268042576107896, 'model__min_child_weight': 4.685371791318634}. Best is trial 1 with value: 0.5900343481511172.\n",
      "[I 2023-12-03 18:51:19,612] Trial 93 finished with value: 0.5696117591710497 and parameters: {'model__n_estimators': 152, 'model__max_depth': 4, 'model__learning_rate': 0.5686339467568775, 'model__gamma': 3.419479869710294, 'model__reg_lambda': 0.12186910449306745, 'model__min_child_weight': 4.543151749111924}. Best is trial 1 with value: 0.5900343481511172.\n",
      "[I 2023-12-03 18:51:20,587] Trial 94 finished with value: 0.5796078207010005 and parameters: {'model__n_estimators': 99, 'model__max_depth': 4, 'model__learning_rate': 0.6698586079273994, 'model__gamma': 4.839049244537708, 'model__reg_lambda': 0.09156976122075472, 'model__min_child_weight': 4.319433526789665}. Best is trial 1 with value: 0.5900343481511172.\n",
      "[I 2023-12-03 18:51:21,616] Trial 95 finished with value: 0.5794098509211741 and parameters: {'model__n_estimators': 128, 'model__max_depth': 5, 'model__learning_rate': 0.6197538961924882, 'model__gamma': 2.046698611660698, 'model__reg_lambda': 1.3085110437231762e-05, 'model__min_child_weight': 4.887177916893248}. Best is trial 1 with value: 0.5900343481511172.\n",
      "[I 2023-12-03 18:51:23,256] Trial 96 finished with value: 0.5750868061684333 and parameters: {'model__n_estimators': 497, 'model__max_depth': 4, 'model__learning_rate': 0.49593559108887225, 'model__gamma': 2.6714612105967173, 'model__reg_lambda': 0.17512021949694628, 'model__min_child_weight': 4.715874779273979}. Best is trial 1 with value: 0.5900343481511172.\n",
      "[I 2023-12-03 18:51:24,390] Trial 97 finished with value: 0.576225152862792 and parameters: {'model__n_estimators': 177, 'model__max_depth': 4, 'model__learning_rate': 0.7719677053765381, 'model__gamma': 4.353867751196766, 'model__reg_lambda': 0.020498834737167904, 'model__min_child_weight': 4.53456951690708}. Best is trial 1 with value: 0.5900343481511172.\n",
      "[I 2023-12-03 18:51:25,358] Trial 98 finished with value: 0.5655856072106793 and parameters: {'model__n_estimators': 85, 'model__max_depth': 5, 'model__learning_rate': 0.7253951344032942, 'model__gamma': 1.2772724281365457, 'model__reg_lambda': 0.07924865422988782, 'model__min_child_weight': 4.85869595753787}. Best is trial 1 with value: 0.5900343481511172.\n",
      "[I 2023-12-03 18:51:26,416] Trial 99 finished with value: 0.570222420472405 and parameters: {'model__n_estimators': 103, 'model__max_depth': 5, 'model__learning_rate': 0.45663618328468986, 'model__gamma': 3.278870763493902, 'model__reg_lambda': 0.05176618351111918, 'model__min_child_weight': 4.598965770978901}. Best is trial 1 with value: 0.5900343481511172.\n"
     ]
    }
   ],
   "source": [
    "study_xgb.optimize(optuna_optimize, n_trials=100)"
   ],
   "metadata": {
    "collapsed": false,
    "ExecuteTime": {
     "end_time": "2023-12-03T15:51:26.448490400Z",
     "start_time": "2023-12-03T15:49:25.717632500Z"
    }
   }
  },
  {
   "cell_type": "code",
   "execution_count": 22,
   "outputs": [
    {
     "name": "stdout",
     "output_type": "stream",
     "text": [
      "Наилучшие значения гиперпараметров XGBoost: {'model__n_estimators': 107, 'model__max_depth': 5, 'model__learning_rate': 0.2421576697603751, 'model__gamma': 0.8328843241468609, 'model__reg_lambda': 0.03969495284854774, 'model__min_child_weight': 3.2547466065619206}\n",
      "f1_score на обучающем наборе: 0.590\n"
     ]
    }
   ],
   "source": [
    "print(\"Наилучшие значения гиперпараметров XGBoost: {}\".format(study_xgb.best_params))\n",
    "print(\"f1_score на обучающем наборе: {:.3f}\". format(study_xgb.best_value))"
   ],
   "metadata": {
    "collapsed": false,
    "ExecuteTime": {
     "end_time": "2023-12-03T15:54:58.985411Z",
     "start_time": "2023-12-03T15:54:58.861880400Z"
    }
   }
  },
  {
   "cell_type": "code",
   "execution_count": 23,
   "outputs": [],
   "source": [
    "with mlflow.start_run(nested=True,\n",
    "                      run_name='xgb_pipeline_imbalanced'):\n",
    "\n",
    "    best_params = study_xgb.best_params\n",
    "    best_score = study_xgb.best_value\n",
    "    mlflow.log_params(best_params)\n",
    "\n",
    "    pipe.set_params(**best_params)\n",
    "    pipe.fit(X_train, y_train)\n",
    "    pred_proba = pipe.predict_proba(X_test)[:, 1]\n",
    "    roc_auc_xgb_imb = roc_auc_score(y_test, pred_proba)\n",
    "    \n",
    "    mlflow.log_metrics({\n",
    "        'f1_cv': best_score,\n",
    "        'roc_auc': roc_auc_xgb_imb,\n",
    "        'balanced_accuracy': balanced_accuracy_score(y_test, np.round(pred_proba)),\n",
    "        'f1': f1_score(y_test, np.round(pred_proba))\n",
    "    })\n",
    "\n",
    "    mlflow.sklearn.log_model(pipe, 'xgb_pipeline_imbalanced')"
   ],
   "metadata": {
    "collapsed": false,
    "ExecuteTime": {
     "end_time": "2023-12-03T15:58:06.329367800Z",
     "start_time": "2023-12-03T15:56:39.145747200Z"
    }
   }
  },
  {
   "cell_type": "markdown",
   "source": [
    "# 3. Обучение моделей с учётом дисбаланса классов\n",
    "## 3.1 Назначение разных весов классам (cost-sensitive learning)\n",
    "### 3.1.1 Модель XGBoost"
   ],
   "metadata": {
    "collapsed": false
   }
  },
  {
   "cell_type": "code",
   "execution_count": 24,
   "outputs": [],
   "source": [
    "cat_pipeline = Pipeline([\n",
    "    ('enc', OneHotEncoder(handle_unknown='error', drop='first'))\n",
    "])\n",
    "\n",
    "num_pipeline = Pipeline([\n",
    "    ('imp', SimpleImputer(fill_value=-1, add_indicator=True)),\n",
    "    ('pt', PowerTransformer())\n",
    "])\n",
    "\n",
    "preprocessor = ColumnTransformer([\n",
    "    (\"cat\", cat_pipeline, categorical_features),\n",
    "    (\"num\", num_pipeline, numeric_features)\n",
    "\n",
    "], remainder='passthrough')"
   ],
   "metadata": {
    "collapsed": false,
    "ExecuteTime": {
     "end_time": "2023-12-03T15:59:47.547915Z",
     "start_time": "2023-12-03T15:59:47.396857100Z"
    }
   }
  },
  {
   "cell_type": "code",
   "execution_count": 25,
   "outputs": [],
   "source": [
    "def optuna_optimize(trial):\n",
    "    param = {\n",
    "        'n_estimators': trial.suggest_int('n_estimators', 50, 500),\n",
    "        'max_depth': trial.suggest_int('max_depth', 2, 6),\n",
    "        'learning_rate': trial.suggest_float('learning_rate', 0.01, 1.0),\n",
    "        'gamma': trial.suggest_float('gamma', 0.0, 20.0),\n",
    "        'reg_lambda': trial.suggest_float('reg_lambda', 0.0, 1.0),\n",
    "        'min_child_weight': trial.suggest_float('min_child_weight', 0.0, 5.0)\n",
    "    }\n",
    "\n",
    "    estimator = xgb.XGBClassifier(**param, \n",
    "                                  scale_pos_weight=3.91,\n",
    "                                  random_state=12345)\n",
    "    \n",
    "    xgb_pipe = Pipeline([\n",
    "        ('preprocessor', preprocessor),\n",
    "        ('model', estimator)\n",
    "    ])\n",
    "\n",
    "    score = cross_val_score(xgb_pipe, X_train, y_train, cv=5, scoring='f1').mean()\n",
    "    return score"
   ],
   "metadata": {
    "collapsed": false,
    "ExecuteTime": {
     "end_time": "2023-12-03T15:59:51.500197800Z",
     "start_time": "2023-12-03T15:59:51.361134300Z"
    }
   }
  },
  {
   "cell_type": "code",
   "execution_count": 26,
   "outputs": [
    {
     "name": "stderr",
     "output_type": "stream",
     "text": [
      "[I 2023-12-03 18:59:52,897] A new study created in memory with name: XGBoost Optuna Optimization Class Weight\n"
     ]
    }
   ],
   "source": [
    "study_xgb_cw = optuna.create_study(study_name=\"XGBoost Optuna Optimization Class Weight\",\n",
    "                                direction='maximize')"
   ],
   "metadata": {
    "collapsed": false,
    "ExecuteTime": {
     "end_time": "2023-12-03T15:59:52.988071200Z",
     "start_time": "2023-12-03T15:59:52.899845300Z"
    }
   }
  },
  {
   "cell_type": "code",
   "execution_count": 27,
   "outputs": [
    {
     "name": "stderr",
     "output_type": "stream",
     "text": [
      "[I 2023-12-03 18:59:57,066] Trial 0 finished with value: 0.5967188342371956 and parameters: {'n_estimators': 59, 'max_depth': 6, 'learning_rate': 0.5502638317670415, 'gamma': 10.17195741473207, 'reg_lambda': 0.9214221651926853, 'min_child_weight': 2.883282102413651}. Best is trial 0 with value: 0.5967188342371956.\n",
      "[I 2023-12-03 18:59:58,392] Trial 1 finished with value: 0.6027674888717277 and parameters: {'n_estimators': 359, 'max_depth': 6, 'learning_rate': 0.25402537706073397, 'gamma': 16.394434054645913, 'reg_lambda': 0.24959705710333735, 'min_child_weight': 3.310257395912278}. Best is trial 1 with value: 0.6027674888717277.\n",
      "[I 2023-12-03 18:59:59,518] Trial 2 finished with value: 0.5924003429318474 and parameters: {'n_estimators': 265, 'max_depth': 3, 'learning_rate': 0.4688287310370317, 'gamma': 17.946396928411627, 'reg_lambda': 0.8069109795500665, 'min_child_weight': 1.4822600547731113}. Best is trial 1 with value: 0.6027674888717277.\n",
      "[I 2023-12-03 19:00:00,892] Trial 3 finished with value: 0.5697439555986603 and parameters: {'n_estimators': 339, 'max_depth': 3, 'learning_rate': 1.0545081486663266, 'gamma': 17.44938351756945, 'reg_lambda': 0.6228071317142837, 'min_child_weight': 1.119614429610281}. Best is trial 1 with value: 0.6027674888717277.\n",
      "[I 2023-12-03 19:00:02,029] Trial 4 finished with value: 0.5989702493946615 and parameters: {'n_estimators': 213, 'max_depth': 2, 'learning_rate': 0.2882169828729983, 'gamma': 10.179219157168156, 'reg_lambda': 0.6393192050614458, 'min_child_weight': 2.5894948252170362}. Best is trial 1 with value: 0.6027674888717277.\n",
      "[I 2023-12-03 19:00:03,309] Trial 5 finished with value: 0.595047123754958 and parameters: {'n_estimators': 372, 'max_depth': 6, 'learning_rate': 0.5579894292462074, 'gamma': 16.533851160077884, 'reg_lambda': 0.8570658473466825, 'min_child_weight': 0.33188865399337797}. Best is trial 1 with value: 0.6027674888717277.\n",
      "[I 2023-12-03 19:00:04,162] Trial 6 finished with value: 0.5786987526959395 and parameters: {'n_estimators': 85, 'max_depth': 2, 'learning_rate': 1.2158502442723973, 'gamma': 17.576239097223862, 'reg_lambda': 0.2585086740102588, 'min_child_weight': 3.8120774275912166}. Best is trial 1 with value: 0.6027674888717277.\n",
      "[I 2023-12-03 19:00:05,079] Trial 7 finished with value: 0.5780507692328921 and parameters: {'n_estimators': 119, 'max_depth': 4, 'learning_rate': 0.8215901902056809, 'gamma': 17.385779702735867, 'reg_lambda': 0.3039867121066673, 'min_child_weight': 2.7801914835489927}. Best is trial 1 with value: 0.6027674888717277.\n",
      "[I 2023-12-03 19:00:06,082] Trial 8 finished with value: 0.5648031467140932 and parameters: {'n_estimators': 177, 'max_depth': 3, 'learning_rate': 1.2262181135119798, 'gamma': 5.20111606887361, 'reg_lambda': 0.0857885594916491, 'min_child_weight': 3.915011622971341}. Best is trial 1 with value: 0.6027674888717277.\n",
      "[I 2023-12-03 19:00:07,280] Trial 9 finished with value: 0.5966593646475518 and parameters: {'n_estimators': 323, 'max_depth': 2, 'learning_rate': 0.3764296065092375, 'gamma': 6.7962780003624275, 'reg_lambda': 0.021500245701151943, 'min_child_weight': 2.8852878386888055}. Best is trial 1 with value: 0.6027674888717277.\n",
      "[I 2023-12-03 19:00:08,836] Trial 10 finished with value: 0.5987264786943196 and parameters: {'n_estimators': 470, 'max_depth': 5, 'learning_rate': 0.07800256421587284, 'gamma': 13.352156393689299, 'reg_lambda': 0.38829782448765476, 'min_child_weight': 4.865849873153243}. Best is trial 1 with value: 0.6027674888717277.\n",
      "[I 2023-12-03 19:00:10,681] Trial 11 finished with value: 0.5978408442381756 and parameters: {'n_estimators': 224, 'max_depth': 5, 'learning_rate': 0.012977969797906774, 'gamma': 11.636246062925117, 'reg_lambda': 0.5816309640386957, 'min_child_weight': 2.0448316536647684}. Best is trial 1 with value: 0.6027674888717277.\n",
      "[I 2023-12-03 19:00:12,411] Trial 12 finished with value: 0.6027714670879238 and parameters: {'n_estimators': 442, 'max_depth': 5, 'learning_rate': 0.25400152880420246, 'gamma': 0.449795238979501, 'reg_lambda': 0.4675755422011333, 'min_child_weight': 2.039685854771591}. Best is trial 12 with value: 0.6027714670879238.\n",
      "[I 2023-12-03 19:00:14,088] Trial 13 finished with value: 0.5991870864617501 and parameters: {'n_estimators': 454, 'max_depth': 5, 'learning_rate': 0.252469571646704, 'gamma': 0.9047435631932785, 'reg_lambda': 0.45466286771340503, 'min_child_weight': 1.9316955297133234}. Best is trial 12 with value: 0.6027714670879238.\n",
      "[I 2023-12-03 19:00:15,777] Trial 14 finished with value: 0.5512141134948537 and parameters: {'n_estimators': 408, 'max_depth': 6, 'learning_rate': 0.7689526959326021, 'gamma': 0.26898308143625727, 'reg_lambda': 0.22542231815329727, 'min_child_weight': 3.597819388739008}. Best is trial 12 with value: 0.6027714670879238.\n",
      "[I 2023-12-03 19:00:17,324] Trial 15 finished with value: 0.5993959159681547 and parameters: {'n_estimators': 498, 'max_depth': 5, 'learning_rate': 0.16392700828590467, 'gamma': 14.4552066326724, 'reg_lambda': 0.4377236728545178, 'min_child_weight': 0.9916569978837761}. Best is trial 12 with value: 0.6027714670879238.\n",
      "[I 2023-12-03 19:00:18,746] Trial 16 finished with value: 0.5984354664570564 and parameters: {'n_estimators': 406, 'max_depth': 4, 'learning_rate': 0.21418235166936717, 'gamma': 6.570204112949767, 'reg_lambda': 0.15694987345624767, 'min_child_weight': 2.0908108755265893}. Best is trial 12 with value: 0.6027714670879238.\n",
      "[I 2023-12-03 19:00:20,004] Trial 17 finished with value: 0.5700356015564539 and parameters: {'n_estimators': 324, 'max_depth': 6, 'learning_rate': 1.498214058688672, 'gamma': 19.847301168333477, 'reg_lambda': 0.33319467537943204, 'min_child_weight': 3.2340949447865133}. Best is trial 12 with value: 0.6027714670879238.\n",
      "[I 2023-12-03 19:00:21,403] Trial 18 finished with value: 0.5965219880615791 and parameters: {'n_estimators': 414, 'max_depth': 4, 'learning_rate': 0.365618440429585, 'gamma': 14.18674187983537, 'reg_lambda': 0.1544712695546545, 'min_child_weight': 2.3022264101879903}. Best is trial 12 with value: 0.6027714670879238.\n",
      "[I 2023-12-03 19:00:23,649] Trial 19 finished with value: 0.602976964411899 and parameters: {'n_estimators': 298, 'max_depth': 5, 'learning_rate': 0.023927720405323483, 'gamma': 2.397710414291226, 'reg_lambda': 0.4956467242746665, 'min_child_weight': 1.6676312706809302}. Best is trial 19 with value: 0.602976964411899.\n",
      "[I 2023-12-03 19:00:25,259] Trial 20 finished with value: 0.6022369950504001 and parameters: {'n_estimators': 300, 'max_depth': 4, 'learning_rate': 0.04862223783327435, 'gamma': 2.479792190938724, 'reg_lambda': 0.5574196959992368, 'min_child_weight': 1.57024216139197}. Best is trial 19 with value: 0.602976964411899.\n",
      "[I 2023-12-03 19:00:26,720] Trial 21 finished with value: 0.6033784834893302 and parameters: {'n_estimators': 366, 'max_depth': 5, 'learning_rate': 0.14597597874722887, 'gamma': 3.8998909635078274, 'reg_lambda': 0.47353735253413254, 'min_child_weight': 2.435152149512448}. Best is trial 21 with value: 0.6033784834893302.\n",
      "[I 2023-12-03 19:00:28,141] Trial 22 finished with value: 0.6038629649420347 and parameters: {'n_estimators': 285, 'max_depth': 5, 'learning_rate': 0.13582635854479733, 'gamma': 2.8369501293587076, 'reg_lambda': 0.4990971941417205, 'min_child_weight': 2.3855700007518705}. Best is trial 22 with value: 0.6038629649420347.\n",
      "[I 2023-12-03 19:00:29,717] Trial 23 finished with value: 0.6036031955288721 and parameters: {'n_estimators': 263, 'max_depth': 5, 'learning_rate': 0.07982742885570882, 'gamma': 3.648136557245917, 'reg_lambda': 0.5185792405600163, 'min_child_weight': 2.3929102117745917}. Best is trial 22 with value: 0.6038629649420347.\n",
      "[I 2023-12-03 19:00:31,021] Trial 24 finished with value: 0.6107284172351319 and parameters: {'n_estimators': 255, 'max_depth': 5, 'learning_rate': 0.14063835405088573, 'gamma': 4.337374207925914, 'reg_lambda': 0.37249210975713265, 'min_child_weight': 2.544688148869554}. Best is trial 24 with value: 0.6107284172351319.\n",
      "[I 2023-12-03 19:00:32,432] Trial 25 finished with value: 0.6043997830651558 and parameters: {'n_estimators': 238, 'max_depth': 5, 'learning_rate': 0.12119376553603886, 'gamma': 7.563602056494663, 'reg_lambda': 0.6935276061896767, 'min_child_weight': 2.4263925766489614}. Best is trial 24 with value: 0.6107284172351319.\n",
      "[I 2023-12-03 19:00:33,601] Trial 26 finished with value: 0.5942067490203693 and parameters: {'n_estimators': 165, 'max_depth': 4, 'learning_rate': 0.14749627807308444, 'gamma': 7.593684150341455, 'reg_lambda': 0.713753567966499, 'min_child_weight': 2.692295941373374}. Best is trial 24 with value: 0.6107284172351319.\n",
      "[I 2023-12-03 19:00:34,807] Trial 27 finished with value: 0.5969383635521985 and parameters: {'n_estimators': 228, 'max_depth': 5, 'learning_rate': 0.3737506580316181, 'gamma': 8.830176116565791, 'reg_lambda': 0.7230563245162842, 'min_child_weight': 2.999639845422951}. Best is trial 24 with value: 0.6107284172351319.\n",
      "[I 2023-12-03 19:00:36,091] Trial 28 finished with value: 0.5948300680041891 and parameters: {'n_estimators': 166, 'max_depth': 6, 'learning_rate': 0.6503796276548458, 'gamma': 6.087431584380424, 'reg_lambda': 0.35994731155728055, 'min_child_weight': 2.5100154775398797}. Best is trial 24 with value: 0.6107284172351319.\n",
      "[I 2023-12-03 19:00:37,453] Trial 29 finished with value: 0.5910951189679648 and parameters: {'n_estimators': 249, 'max_depth': 6, 'learning_rate': 0.473248188140007, 'gamma': 4.9600159428854935, 'reg_lambda': 0.9992739838709134, 'min_child_weight': 3.153094060068142}. Best is trial 24 with value: 0.6107284172351319.\n",
      "[I 2023-12-03 19:00:38,820] Trial 30 finished with value: 0.5958174454510748 and parameters: {'n_estimators': 293, 'max_depth': 4, 'learning_rate': 0.15198882344951264, 'gamma': 8.272187551915879, 'reg_lambda': 0.5391702802791467, 'min_child_weight': 2.2647831800090668}. Best is trial 24 with value: 0.6107284172351319.\n",
      "[I 2023-12-03 19:00:40,375] Trial 31 finished with value: 0.603882477032566 and parameters: {'n_estimators': 260, 'max_depth': 5, 'learning_rate': 0.09721197256887196, 'gamma': 3.8269087970613285, 'reg_lambda': 0.4152795383433614, 'min_child_weight': 2.469570295011727}. Best is trial 24 with value: 0.6107284172351319.\n",
      "[I 2023-12-03 19:00:41,627] Trial 32 finished with value: 0.5980173043013182 and parameters: {'n_estimators': 216, 'max_depth': 5, 'learning_rate': 0.31072087437627693, 'gamma': 5.315041386190869, 'reg_lambda': 0.39187643245980786, 'min_child_weight': 2.5246386906321114}. Best is trial 24 with value: 0.6107284172351319.\n",
      "[I 2023-12-03 19:00:42,929] Trial 33 finished with value: 0.6047562179522254 and parameters: {'n_estimators': 201, 'max_depth': 6, 'learning_rate': 0.1395949226314502, 'gamma': 3.94836911734548, 'reg_lambda': 0.420681166621708, 'min_child_weight': 1.8404374247282451}. Best is trial 24 with value: 0.6107284172351319.\n",
      "[I 2023-12-03 19:00:44,866] Trial 34 finished with value: 0.60227653570579 and parameters: {'n_estimators': 181, 'max_depth': 6, 'learning_rate': 0.024338987730840617, 'gamma': 4.410297338708345, 'reg_lambda': 0.39144855663307265, 'min_child_weight': 1.7096276245424527}. Best is trial 24 with value: 0.6107284172351319.\n",
      "[I 2023-12-03 19:00:45,914] Trial 35 finished with value: 0.6055743723230299 and parameters: {'n_estimators': 130, 'max_depth': 6, 'learning_rate': 0.2305277411498567, 'gamma': 5.946375890928959, 'reg_lambda': 0.29474675026702457, 'min_child_weight': 1.344521476644467}. Best is trial 24 with value: 0.6107284172351319.\n",
      "[I 2023-12-03 19:00:46,999] Trial 36 finished with value: 0.6061915579707138 and parameters: {'n_estimators': 137, 'max_depth': 6, 'learning_rate': 0.21374053027125695, 'gamma': 6.2032688358595465, 'reg_lambda': 0.30461034032275447, 'min_child_weight': 1.2867577693642152}. Best is trial 24 with value: 0.6107284172351319.\n",
      "[I 2023-12-03 19:00:48,065] Trial 37 finished with value: 0.6015697805546978 and parameters: {'n_estimators': 127, 'max_depth': 6, 'learning_rate': 0.23905523582474875, 'gamma': 6.004767524544396, 'reg_lambda': 0.2897105874305064, 'min_child_weight': 1.0983094234391784}. Best is trial 24 with value: 0.6107284172351319.\n",
      "[I 2023-12-03 19:00:49,123] Trial 38 finished with value: 0.5872812044352411 and parameters: {'n_estimators': 67, 'max_depth': 6, 'learning_rate': 0.44428439042874956, 'gamma': 1.7651062487615294, 'reg_lambda': 0.3347156345907654, 'min_child_weight': 1.3271893721574592}. Best is trial 24 with value: 0.6107284172351319.\n",
      "[I 2023-12-03 19:00:50,254] Trial 39 finished with value: 0.6032317766531207 and parameters: {'n_estimators': 126, 'max_depth': 6, 'learning_rate': 0.2890947809808889, 'gamma': 4.611473824752375, 'reg_lambda': 0.24727814253318803, 'min_child_weight': 0.774651542868023}. Best is trial 24 with value: 0.6107284172351319.\n",
      "[I 2023-12-03 19:00:51,404] Trial 40 finished with value: 0.6014785323924956 and parameters: {'n_estimators': 198, 'max_depth': 6, 'learning_rate': 0.3242386173668238, 'gamma': 9.32851092450976, 'reg_lambda': 0.31968445830871334, 'min_child_weight': 1.407792974447591}. Best is trial 24 with value: 0.6107284172351319.\n",
      "[I 2023-12-03 19:00:52,480] Trial 41 finished with value: 0.6079195781434359 and parameters: {'n_estimators': 144, 'max_depth': 6, 'learning_rate': 0.19662599744146048, 'gamma': 7.343901066977017, 'reg_lambda': 0.36470140348029034, 'min_child_weight': 1.8276209717208451}. Best is trial 24 with value: 0.6107284172351319.\n",
      "[I 2023-12-03 19:00:53,537] Trial 42 finished with value: 0.608578167253014 and parameters: {'n_estimators': 98, 'max_depth': 6, 'learning_rate': 0.1850258803311454, 'gamma': 5.642379898321529, 'reg_lambda': 0.28098908087669366, 'min_child_weight': 1.7511361769735763}. Best is trial 24 with value: 0.6107284172351319.\n",
      "[I 2023-12-03 19:00:54,575] Trial 43 finished with value: 0.6072184377243623 and parameters: {'n_estimators': 105, 'max_depth': 6, 'learning_rate': 0.2059513067014947, 'gamma': 7.121197702717188, 'reg_lambda': 0.2855322551730774, 'min_child_weight': 1.4660482609779415}. Best is trial 24 with value: 0.6107284172351319.\n",
      "[I 2023-12-03 19:00:55,555] Trial 44 finished with value: 0.5986508606938633 and parameters: {'n_estimators': 90, 'max_depth': 6, 'learning_rate': 0.4152243583804245, 'gamma': 7.752946798622266, 'reg_lambda': 0.2220919909129439, 'min_child_weight': 1.5952395606957281}. Best is trial 24 with value: 0.6107284172351319.\n",
      "[I 2023-12-03 19:00:56,570] Trial 45 finished with value: 0.6050366898322376 and parameters: {'n_estimators': 100, 'max_depth': 6, 'learning_rate': 0.22288910951886542, 'gamma': 7.147857166246904, 'reg_lambda': 0.35153060810414655, 'min_child_weight': 1.794383472130353}. Best is trial 24 with value: 0.6107284172351319.\n",
      "[I 2023-12-03 19:00:57,649] Trial 46 finished with value: 0.6033776843056314 and parameters: {'n_estimators': 147, 'max_depth': 6, 'learning_rate': 0.30914994948378716, 'gamma': 10.165599756762122, 'reg_lambda': 0.2754299838124828, 'min_child_weight': 0.7136063675028224}. Best is trial 24 with value: 0.6107284172351319.\n",
      "[I 2023-12-03 19:00:58,611] Trial 47 finished with value: 0.6048126621643216 and parameters: {'n_estimators': 57, 'max_depth': 6, 'learning_rate': 0.19186842397654746, 'gamma': 5.305905025933718, 'reg_lambda': 0.36258183397100124, 'min_child_weight': 2.0779333214633318}. Best is trial 24 with value: 0.6107284172351319.\n",
      "[I 2023-12-03 19:00:59,635] Trial 48 finished with value: 0.6001249949458841 and parameters: {'n_estimators': 104, 'max_depth': 3, 'learning_rate': 0.5228388228455136, 'gamma': 6.525084333464497, 'reg_lambda': 0.22043391105433374, 'min_child_weight': 1.2382089896705208}. Best is trial 24 with value: 0.6107284172351319.\n",
      "[I 2023-12-03 19:01:00,597] Trial 49 finished with value: 0.6077179634543529 and parameters: {'n_estimators': 79, 'max_depth': 6, 'learning_rate': 0.3544954529350815, 'gamma': 8.799625140675259, 'reg_lambda': 0.29998044878272256, 'min_child_weight': 1.5060989588511058}. Best is trial 24 with value: 0.6107284172351319.\n",
      "[I 2023-12-03 19:01:01,557] Trial 50 finished with value: 0.6040577802302219 and parameters: {'n_estimators': 70, 'max_depth': 6, 'learning_rate': 0.35976460075200095, 'gamma': 9.036449111127217, 'reg_lambda': 0.1813559745210743, 'min_child_weight': 1.925915948551372}. Best is trial 24 with value: 0.6107284172351319.\n",
      "[I 2023-12-03 19:01:02,724] Trial 51 finished with value: 0.6008779014472976 and parameters: {'n_estimators': 147, 'max_depth': 6, 'learning_rate': 0.2078315716601399, 'gamma': 6.8467528265708735, 'reg_lambda': 0.29899163748434887, 'min_child_weight': 1.5037955467834865}. Best is trial 24 with value: 0.6107284172351319.\n",
      "[I 2023-12-03 19:01:03,738] Trial 52 finished with value: 0.6043758309496754 and parameters: {'n_estimators': 109, 'max_depth': 6, 'learning_rate': 0.268246496793203, 'gamma': 8.190753620661821, 'reg_lambda': 0.25076240655817, 'min_child_weight': 1.7432759188101628}. Best is trial 24 with value: 0.6107284172351319.\n",
      "[I 2023-12-03 19:01:04,859] Trial 53 finished with value: 0.606817478773664 and parameters: {'n_estimators': 82, 'max_depth': 6, 'learning_rate': 0.0938581574797816, 'gamma': 11.094317765557047, 'reg_lambda': 0.3081356805397083, 'min_child_weight': 1.1205009693631576}. Best is trial 24 with value: 0.6107284172351319.\n",
      "[I 2023-12-03 19:01:06,102] Trial 54 finished with value: 0.6088761926286222 and parameters: {'n_estimators': 80, 'max_depth': 6, 'learning_rate': 0.08137998915520012, 'gamma': 10.588498608077623, 'reg_lambda': 0.38680938830445794, 'min_child_weight': 0.9587256959767477}. Best is trial 24 with value: 0.6107284172351319.\n",
      "[I 2023-12-03 19:01:07,371] Trial 55 finished with value: 0.6080657037381999 and parameters: {'n_estimators': 86, 'max_depth': 6, 'learning_rate': 0.05994228400540321, 'gamma': 9.639886806475639, 'reg_lambda': 0.4196627166536541, 'min_child_weight': 1.5462886278122563}. Best is trial 24 with value: 0.6107284172351319.\n",
      "[I 2023-12-03 19:01:08,504] Trial 56 finished with value: 0.6033812474527326 and parameters: {'n_estimators': 74, 'max_depth': 5, 'learning_rate': 0.0640136093411608, 'gamma': 9.677668909278585, 'reg_lambda': 0.43914219970338714, 'min_child_weight': 0.9245376658881085}. Best is trial 24 with value: 0.6107284172351319.\n",
      "[I 2023-12-03 19:01:09,967] Trial 57 finished with value: 0.604606512427785 and parameters: {'n_estimators': 87, 'max_depth': 6, 'learning_rate': 0.06157066695344138, 'gamma': 10.996780996436486, 'reg_lambda': 0.46826179898321785, 'min_child_weight': 2.095277809906938}. Best is trial 24 with value: 0.6107284172351319.\n",
      "[I 2023-12-03 19:01:11,102] Trial 58 finished with value: 0.568654511639392 and parameters: {'n_estimators': 62, 'max_depth': 2, 'learning_rate': 0.028008871898845378, 'gamma': 8.619312173964591, 'reg_lambda': 0.39247049107973614, 'min_child_weight': 0.5009637223648464}. Best is trial 24 with value: 0.6107284172351319.\n",
      "[I 2023-12-03 19:01:12,197] Trial 59 finished with value: 0.604319574320926 and parameters: {'n_estimators': 113, 'max_depth': 5, 'learning_rate': 0.09796527401239657, 'gamma': 10.259898020305757, 'reg_lambda': 0.3673824806439844, 'min_child_weight': 0.07764455953185212}. Best is trial 24 with value: 0.6107284172351319.\n",
      "[I 2023-12-03 19:01:13,118] Trial 60 finished with value: 0.5425986308279364 and parameters: {'n_estimators': 50, 'max_depth': 3, 'learning_rate': 0.01224392684677103, 'gamma': 12.607540907717645, 'reg_lambda': 0.43758190838379096, 'min_child_weight': 1.6104957263692212}. Best is trial 24 with value: 0.6107284172351319.\n",
      "[I 2023-12-03 19:01:14,284] Trial 61 finished with value: 0.6044843411437617 and parameters: {'n_estimators': 99, 'max_depth': 6, 'learning_rate': 0.18225903291266649, 'gamma': 7.304544292212589, 'reg_lambda': 0.35287143144679445, 'min_child_weight': 1.5172807515790911}. Best is trial 24 with value: 0.6107284172351319.\n",
      "[I 2023-12-03 19:01:15,374] Trial 62 finished with value: 0.6059068637192411 and parameters: {'n_estimators': 148, 'max_depth': 6, 'learning_rate': 0.17875462587737523, 'gamma': 9.272989769368616, 'reg_lambda': 0.3263875863847233, 'min_child_weight': 1.8934614573786732}. Best is trial 24 with value: 0.6107284172351319.\n",
      "[I 2023-12-03 19:01:16,459] Trial 63 finished with value: 0.6031753400533679 and parameters: {'n_estimators': 84, 'max_depth': 6, 'learning_rate': 0.2688083346933571, 'gamma': 8.068513747335821, 'reg_lambda': 0.40826244609132606, 'min_child_weight': 1.4556201426561675}. Best is trial 24 with value: 0.6107284172351319.\n",
      "[I 2023-12-03 19:01:17,609] Trial 64 finished with value: 0.6068811347304062 and parameters: {'n_estimators': 114, 'max_depth': 6, 'learning_rate': 0.1293918342995905, 'gamma': 8.59572595954727, 'reg_lambda': 0.27405348187076334, 'min_child_weight': 1.204091505084185}. Best is trial 24 with value: 0.6107284172351319.\n",
      "[I 2023-12-03 19:01:19,191] Trial 65 finished with value: 0.5989655089601957 and parameters: {'n_estimators': 348, 'max_depth': 5, 'learning_rate': 0.1848291538385117, 'gamma': 7.182073812561022, 'reg_lambda': 0.4717207840033876, 'min_child_weight': 0.997511375999913}. Best is trial 24 with value: 0.6107284172351319.\n",
      "[I 2023-12-03 19:01:20,527] Trial 66 finished with value: 0.604144624913354 and parameters: {'n_estimators': 166, 'max_depth': 6, 'learning_rate': 0.09777091427292282, 'gamma': 7.8263122127395945, 'reg_lambda': 0.37135883774205064, 'min_child_weight': 1.6825488000297693}. Best is trial 24 with value: 0.6107284172351319.\n",
      "[I 2023-12-03 19:01:22,108] Trial 67 finished with value: 0.5948927631940144 and parameters: {'n_estimators': 380, 'max_depth': 5, 'learning_rate': 0.26802591260395286, 'gamma': 9.615216260069579, 'reg_lambda': 0.33533851229089784, 'min_child_weight': 2.201950693669611}. Best is trial 24 with value: 0.6107284172351319.\n",
      "[I 2023-12-03 19:01:23,061] Trial 68 finished with value: 0.6079072033838123 and parameters: {'n_estimators': 75, 'max_depth': 6, 'learning_rate': 0.3236978655249644, 'gamma': 6.802826929295852, 'reg_lambda': 0.41855774778242366, 'min_child_weight': 2.0031983899250405}. Best is trial 24 with value: 0.6107284172351319.\n",
      "[I 2023-12-03 19:01:24,017] Trial 69 finished with value: 0.6012752822351077 and parameters: {'n_estimators': 76, 'max_depth': 6, 'learning_rate': 0.3671372837946737, 'gamma': 5.563073688184934, 'reg_lambda': 0.42334029302167225, 'min_child_weight': 1.9791718029221999}. Best is trial 24 with value: 0.6107284172351319.\n",
      "[I 2023-12-03 19:01:25,207] Trial 70 finished with value: 0.6081629727119949 and parameters: {'n_estimators': 94, 'max_depth': 6, 'learning_rate': 0.060470663564578114, 'gamma': 8.400809671874955, 'reg_lambda': 0.49962687951866797, 'min_child_weight': 2.220816253538939}. Best is trial 24 with value: 0.6107284172351319.\n",
      "[I 2023-12-03 19:01:26,354] Trial 71 finished with value: 0.6071722664703807 and parameters: {'n_estimators': 90, 'max_depth': 6, 'learning_rate': 0.14000710670499875, 'gamma': 8.5651473787174, 'reg_lambda': 0.514612213983207, 'min_child_weight': 2.2248803023788204}. Best is trial 24 with value: 0.6107284172351319.\n",
      "[I 2023-12-03 19:01:27,549] Trial 72 finished with value: 0.6048726855967825 and parameters: {'n_estimators': 61, 'max_depth': 6, 'learning_rate': 0.06653804707209955, 'gamma': 6.361881399323675, 'reg_lambda': 0.4498181322220785, 'min_child_weight': 2.705378536591078}. Best is trial 24 with value: 0.6107284172351319.\n",
      "[I 2023-12-03 19:01:28,555] Trial 73 finished with value: 0.6098146732994112 and parameters: {'n_estimators': 53, 'max_depth': 6, 'learning_rate': 0.10757246460781772, 'gamma': 8.98090531193023, 'reg_lambda': 0.4850256373973156, 'min_child_weight': 1.8600584210493192}. Best is trial 24 with value: 0.6107284172351319.\n",
      "[I 2023-12-03 19:01:29,686] Trial 74 finished with value: 0.5874269151751638 and parameters: {'n_estimators': 54, 'max_depth': 6, 'learning_rate': 0.010752319113880061, 'gamma': 9.997594160560784, 'reg_lambda': 0.49879071770459193, 'min_child_weight': 1.7917357944121508}. Best is trial 24 with value: 0.6107284172351319.\n",
      "[I 2023-12-03 19:01:30,947] Trial 75 finished with value: 0.6042840579404031 and parameters: {'n_estimators': 121, 'max_depth': 5, 'learning_rate': 0.061014661547528756, 'gamma': 6.7959077548612745, 'reg_lambda': 0.5489510867293365, 'min_child_weight': 2.177018508871177}. Best is trial 24 with value: 0.6107284172351319.\n",
      "[I 2023-12-03 19:01:32,037] Trial 76 finished with value: 0.6043403268854655 and parameters: {'n_estimators': 94, 'max_depth': 6, 'learning_rate': 0.11423650588307949, 'gamma': 7.8943465160764035, 'reg_lambda': 0.48197293395464186, 'min_child_weight': 1.9559861654331039}. Best is trial 24 with value: 0.6107284172351319.\n",
      "[I 2023-12-03 19:01:33,528] Trial 77 finished with value: 0.6027582709511966 and parameters: {'n_estimators': 323, 'max_depth': 6, 'learning_rate': 0.1593895682202248, 'gamma': 5.457136164347026, 'reg_lambda': 0.5850702790256102, 'min_child_weight': 2.336963764792831}. Best is trial 24 with value: 0.6107284172351319.\n",
      "[I 2023-12-03 19:01:34,808] Trial 78 finished with value: 0.6069177271230659 and parameters: {'n_estimators': 137, 'max_depth': 6, 'learning_rate': 0.1036558412813446, 'gamma': 5.8989528860916085, 'reg_lambda': 0.4056462795048249, 'min_child_weight': 2.1061059023315427}. Best is trial 24 with value: 0.6107284172351319.\n",
      "[I 2023-12-03 19:01:36,061] Trial 79 finished with value: 0.6011693812546598 and parameters: {'n_estimators': 182, 'max_depth': 4, 'learning_rate': 0.16236860712840454, 'gamma': 4.632917959587759, 'reg_lambda': 0.45362383997567823, 'min_child_weight': 2.589867622523169}. Best is trial 24 with value: 0.6107284172351319.\n",
      "[I 2023-12-03 19:01:37,271] Trial 80 finished with value: 0.602055195289677 and parameters: {'n_estimators': 69, 'max_depth': 5, 'learning_rate': 0.053256622682066906, 'gamma': 10.4302745605482, 'reg_lambda': 0.4163413535846723, 'min_child_weight': 1.8297210420853125}. Best is trial 24 with value: 0.6107284172351319.\n",
      "[I 2023-12-03 19:01:38,267] Trial 81 finished with value: 0.6029526754471329 and parameters: {'n_estimators': 78, 'max_depth': 6, 'learning_rate': 0.244071713986515, 'gamma': 9.282154699990553, 'reg_lambda': 0.39108359823668803, 'min_child_weight': 1.6235239190264754}. Best is trial 24 with value: 0.6107284172351319.\n",
      "[I 2023-12-03 19:01:39,359] Trial 82 finished with value: 0.6011882133662733 and parameters: {'n_estimators': 98, 'max_depth': 6, 'learning_rate': 0.31949979867207146, 'gamma': 8.783895998780388, 'reg_lambda': 0.3709496767905054, 'min_child_weight': 2.002840401263131}. Best is trial 24 with value: 0.6107284172351319.\n",
      "[I 2023-12-03 19:01:40,381] Trial 83 finished with value: 0.6075560067582385 and parameters: {'n_estimators': 50, 'max_depth': 6, 'learning_rate': 0.13216321363084899, 'gamma': 7.452611124267251, 'reg_lambda': 0.5254674916470786, 'min_child_weight': 2.309519347289652}. Best is trial 24 with value: 0.6107284172351319.\n",
      "[I 2023-12-03 19:01:41,557] Trial 84 finished with value: 0.6028394242293691 and parameters: {'n_estimators': 117, 'max_depth': 6, 'learning_rate': 0.2258476092434374, 'gamma': 8.359067024423991, 'reg_lambda': 0.4517091565015222, 'min_child_weight': 1.7141890790826266}. Best is trial 24 with value: 0.6107284172351319.\n",
      "[I 2023-12-03 19:01:42,546] Trial 85 finished with value: 0.6001033438969587 and parameters: {'n_estimators': 65, 'max_depth': 6, 'learning_rate': 0.1839982674842422, 'gamma': 9.776841277064918, 'reg_lambda': 0.34244495281180065, 'min_child_weight': 1.3633335179705017}. Best is trial 24 with value: 0.6107284172351319.\n",
      "[I 2023-12-03 19:01:43,773] Trial 86 finished with value: 0.604726916266766 and parameters: {'n_estimators': 78, 'max_depth': 6, 'learning_rate': 0.0499463331063653, 'gamma': 9.078371627921786, 'reg_lambda': 0.32148357676494077, 'min_child_weight': 1.8394693136718563}. Best is trial 24 with value: 0.6107284172351319.\n",
      "[I 2023-12-03 19:01:44,778] Trial 87 finished with value: 0.5992024111044609 and parameters: {'n_estimators': 88, 'max_depth': 6, 'learning_rate': 0.28479450812589446, 'gamma': 6.546551830127345, 'reg_lambda': 0.4976481167006791, 'min_child_weight': 1.5502513958745707}. Best is trial 24 with value: 0.6107284172351319.\n",
      "[I 2023-12-03 19:01:45,889] Trial 88 finished with value: 0.603905298814922 and parameters: {'n_estimators': 111, 'max_depth': 6, 'learning_rate': 0.11724795940196658, 'gamma': 8.122817571144193, 'reg_lambda': 0.4207106916460016, 'min_child_weight': 2.166617308281601}. Best is trial 24 with value: 0.6107284172351319.\n",
      "[I 2023-12-03 19:01:47,072] Trial 89 finished with value: 0.606477415721577 and parameters: {'n_estimators': 134, 'max_depth': 6, 'learning_rate': 0.08343081984581176, 'gamma': 7.690198996458619, 'reg_lambda': 0.34688114460849473, 'min_child_weight': 1.9882543410489752}. Best is trial 24 with value: 0.6107284172351319.\n",
      "[I 2023-12-03 19:01:48,166] Trial 90 finished with value: 0.6018039392299561 and parameters: {'n_estimators': 155, 'max_depth': 5, 'learning_rate': 0.223619702958723, 'gamma': 10.536711791870783, 'reg_lambda': 0.3778802369565996, 'min_child_weight': 1.411755902249325}. Best is trial 24 with value: 0.6107284172351319.\n",
      "[I 2023-12-03 19:01:49,140] Trial 91 finished with value: 0.6038508494913251 and parameters: {'n_estimators': 56, 'max_depth': 6, 'learning_rate': 0.1469383726253087, 'gamma': 7.410463795869578, 'reg_lambda': 0.5155366114574091, 'min_child_weight': 2.288818584695125}. Best is trial 24 with value: 0.6107284172351319.\n",
      "[I 2023-12-03 19:01:50,183] Trial 92 finished with value: 0.6042404443082393 and parameters: {'n_estimators': 50, 'max_depth': 6, 'learning_rate': 0.11907126598651524, 'gamma': 6.945360146526885, 'reg_lambda': 0.48002326850137, 'min_child_weight': 2.466999536225488}. Best is trial 24 with value: 0.6107284172351319.\n",
      "[I 2023-12-03 19:01:51,440] Trial 93 finished with value: 0.6061436569631165 and parameters: {'n_estimators': 69, 'max_depth': 6, 'learning_rate': 0.03982860446677819, 'gamma': 8.849303157261067, 'reg_lambda': 0.5262737071420186, 'min_child_weight': 2.3804253568873364}. Best is trial 24 with value: 0.6107284172351319.\n",
      "[I 2023-12-03 19:01:52,504] Trial 94 finished with value: 0.606651569006802 and parameters: {'n_estimators': 95, 'max_depth': 6, 'learning_rate': 0.1672174156791318, 'gamma': 8.36392259819109, 'reg_lambda': 0.4342196667598054, 'min_child_weight': 1.890000324309668}. Best is trial 24 with value: 0.6107284172351319.\n",
      "[I 2023-12-03 19:01:53,469] Trial 95 finished with value: 0.6034828115448284 and parameters: {'n_estimators': 78, 'max_depth': 6, 'learning_rate': 0.24718035574561134, 'gamma': 5.793392533244413, 'reg_lambda': 0.38167405711299834, 'min_child_weight': 2.0957206709958176}. Best is trial 24 with value: 0.6107284172351319.\n",
      "[I 2023-12-03 19:01:54,460] Trial 96 finished with value: 0.6062460244240281 and parameters: {'n_estimators': 60, 'max_depth': 6, 'learning_rate': 0.1993860694965795, 'gamma': 9.632766285280935, 'reg_lambda': 0.5653090650206064, 'min_child_weight': 2.303134681086576}. Best is trial 24 with value: 0.6107284172351319.\n",
      "[I 2023-12-03 19:01:55,593] Trial 97 finished with value: 0.6032981453302989 and parameters: {'n_estimators': 104, 'max_depth': 6, 'learning_rate': 0.08619150393192049, 'gamma': 7.501702687809364, 'reg_lambda': 0.4565833346426809, 'min_child_weight': 1.720243864672474}. Best is trial 24 with value: 0.6107284172351319.\n",
      "[I 2023-12-03 19:01:56,542] Trial 98 finished with value: 0.6041641830725837 and parameters: {'n_estimators': 50, 'max_depth': 6, 'learning_rate': 0.3333043696369242, 'gamma': 5.001827214551247, 'reg_lambda': 0.3093097031676116, 'min_child_weight': 2.583227824919954}. Best is trial 24 with value: 0.6107284172351319.\n",
      "[I 2023-12-03 19:01:57,662] Trial 99 finished with value: 0.6048893385887067 and parameters: {'n_estimators': 86, 'max_depth': 6, 'learning_rate': 0.1384056342811163, 'gamma': 6.6382999090881, 'reg_lambda': 0.4762032893443776, 'min_child_weight': 1.583012735469607}. Best is trial 24 with value: 0.6107284172351319.\n"
     ]
    }
   ],
   "source": [
    "study_xgb_cw.optimize(optuna_optimize, n_trials=100)"
   ],
   "metadata": {
    "collapsed": false,
    "ExecuteTime": {
     "end_time": "2023-12-03T16:01:57.670547500Z",
     "start_time": "2023-12-03T15:59:54.668075200Z"
    }
   }
  },
  {
   "cell_type": "code",
   "execution_count": 28,
   "outputs": [
    {
     "name": "stdout",
     "output_type": "stream",
     "text": [
      "Наилучшие значения гиперпараметров XGBoost: {'n_estimators': 255, 'max_depth': 5, 'learning_rate': 0.14063835405088573, 'gamma': 4.337374207925914, 'reg_lambda': 0.37249210975713265, 'min_child_weight': 2.544688148869554}\n",
      "f1_score на обучающем наборе: 0.611\n"
     ]
    }
   ],
   "source": [
    "print(\"Наилучшие значения гиперпараметров XGBoost: {}\".format(study_xgb_cw.best_params))\n",
    "print(\"f1_score на обучающем наборе: {:.3f}\". format(study_xgb_cw.best_value))"
   ],
   "metadata": {
    "collapsed": false,
    "ExecuteTime": {
     "end_time": "2023-12-03T16:02:33.906991700Z",
     "start_time": "2023-12-03T16:02:33.753971300Z"
    }
   }
  },
  {
   "cell_type": "code",
   "execution_count": 29,
   "outputs": [],
   "source": [
    "with mlflow.start_run(nested=True,\n",
    "                      run_name='xgb_pipeline_class_weight'):\n",
    "\n",
    "    best_params = study_xgb_cw.best_params\n",
    "    best_score = study_xgb_cw.best_value\n",
    "    mlflow.log_params(best_params)\n",
    "\n",
    "    xgb_pipe_cw = Pipeline([\n",
    "        ('preprocessor', preprocessor),\n",
    "        ('model', xgb.XGBClassifier(**best_params,\n",
    "                                    scale_pos_weight=3.91,\n",
    "                                    random_state=12345))\n",
    "    ])\n",
    "\n",
    "    xgb_pipe_cw.fit(X_train, y_train) \n",
    "\n",
    "    pred_proba = xgb_pipe_cw.predict_proba(X_test)[:, 1]\n",
    "    roc_auc_xgb_cw = roc_auc_score(y_test, pred_proba)\n",
    "    \n",
    "    mlflow.log_metrics({\n",
    "        'f1_cv': best_score,\n",
    "        'roc_auc': roc_auc_xgb_cw,\n",
    "        'balanced_accuracy': balanced_accuracy_score(y_test, np.round(pred_proba, 0)),\n",
    "        'f1': f1_score(y_test, np.round(pred_proba, 0))\n",
    "    })\n",
    "\n",
    "    mlflow.sklearn.log_model(xgb_pipe_cw, 'xgb_pipeline_class_weight')"
   ],
   "metadata": {
    "collapsed": false,
    "ExecuteTime": {
     "end_time": "2023-12-03T16:03:19.913068500Z",
     "start_time": "2023-12-03T16:03:05.734722400Z"
    }
   }
  },
  {
   "cell_type": "markdown",
   "source": [
    "### 3.1.2 Случайный лес"
   ],
   "metadata": {
    "collapsed": false
   }
  },
  {
   "cell_type": "code",
   "execution_count": 30,
   "outputs": [],
   "source": [
    "def optuna_optimize(trial):\n",
    "    param = {\n",
    "        'n_estimators': trial.suggest_int('n_estimators', 50, 300), # увеличить\n",
    "        'max_depth': trial.suggest_int('max_depth', 2, 10), # увеличить\n",
    "        'min_samples_leaf': trial.suggest_int('min_samples_leaf', 2, 8)\n",
    "    }\n",
    "\n",
    "    estimator = RandomForestClassifier(**param, \n",
    "                                       class_weight='balanced',\n",
    "                                       random_state=12345)\n",
    "\n",
    "    rf_pipe = Pipeline([\n",
    "        ('preprocessor', preprocessor),\n",
    "        ('model', estimator)\n",
    "    ])\n",
    "\n",
    "    score = cross_val_score(rf_pipe, X_train, y_train, cv=5, scoring='f1').mean()\n",
    "    return score"
   ],
   "metadata": {
    "collapsed": false,
    "ExecuteTime": {
     "end_time": "2023-12-03T16:03:21.729107800Z",
     "start_time": "2023-12-03T16:03:21.489659500Z"
    }
   }
  },
  {
   "cell_type": "code",
   "execution_count": 31,
   "outputs": [
    {
     "name": "stderr",
     "output_type": "stream",
     "text": [
      "[I 2023-12-03 19:03:26,018] A new study created in memory with name: RandomForest Optuna Optimization Class Weight\n"
     ]
    }
   ],
   "source": [
    "study_rf = optuna.create_study(study_name=\"RandomForest Optuna Optimization Class Weight\",\n",
    "                                direction='maximize')"
   ],
   "metadata": {
    "collapsed": false,
    "ExecuteTime": {
     "end_time": "2023-12-03T16:03:26.172797700Z",
     "start_time": "2023-12-03T16:03:26.022158800Z"
    }
   }
  },
  {
   "cell_type": "code",
   "execution_count": 32,
   "outputs": [
    {
     "name": "stderr",
     "output_type": "stream",
     "text": [
      "[I 2023-12-03 19:04:15,029] Trial 0 finished with value: 0.6129528236831954 and parameters: {'n_estimators': 282, 'max_depth': 9, 'min_samples_leaf': 2}. Best is trial 0 with value: 0.6129528236831954.\n",
      "[I 2023-12-03 19:04:23,223] Trial 1 finished with value: 0.5704366166341595 and parameters: {'n_estimators': 83, 'max_depth': 4, 'min_samples_leaf': 8}. Best is trial 0 with value: 0.6129528236831954.\n",
      "[I 2023-12-03 19:04:52,478] Trial 2 finished with value: 0.6128616973663606 and parameters: {'n_estimators': 210, 'max_depth': 10, 'min_samples_leaf': 2}. Best is trial 0 with value: 0.6129528236831954.\n",
      "[I 2023-12-03 19:05:09,459] Trial 3 finished with value: 0.6130349884904934 and parameters: {'n_estimators': 155, 'max_depth': 8, 'min_samples_leaf': 3}. Best is trial 3 with value: 0.6130349884904934.\n",
      "[I 2023-12-03 19:05:33,595] Trial 4 finished with value: 0.6153872154709722 and parameters: {'n_estimators': 192, 'max_depth': 10, 'min_samples_leaf': 6}. Best is trial 4 with value: 0.6153872154709722.\n",
      "[I 2023-12-03 19:05:51,064] Trial 5 finished with value: 0.5951016243546897 and parameters: {'n_estimators': 199, 'max_depth': 6, 'min_samples_leaf': 6}. Best is trial 4 with value: 0.6153872154709722.\n",
      "[I 2023-12-03 19:06:11,947] Trial 6 finished with value: 0.5943535713882004 and parameters: {'n_estimators': 236, 'max_depth': 6, 'min_samples_leaf': 2}. Best is trial 4 with value: 0.6153872154709722.\n",
      "[I 2023-12-03 19:06:24,418] Trial 7 finished with value: 0.5406796699061053 and parameters: {'n_estimators': 283, 'max_depth': 2, 'min_samples_leaf': 6}. Best is trial 4 with value: 0.6153872154709722.\n",
      "[I 2023-12-03 19:06:33,866] Trial 8 finished with value: 0.5595448808188945 and parameters: {'n_estimators': 167, 'max_depth': 3, 'min_samples_leaf': 8}. Best is trial 4 with value: 0.6153872154709722.\n",
      "[I 2023-12-03 19:06:38,629] Trial 9 finished with value: 0.5547537906286724 and parameters: {'n_estimators': 78, 'max_depth': 3, 'min_samples_leaf': 3}. Best is trial 4 with value: 0.6153872154709722.\n",
      "[I 2023-12-03 19:06:53,535] Trial 10 finished with value: 0.6042194744141387 and parameters: {'n_estimators': 151, 'max_depth': 7, 'min_samples_leaf': 5}. Best is trial 4 with value: 0.6153872154709722.\n",
      "[I 2023-12-03 19:07:07,161] Trial 11 finished with value: 0.6070678203727911 and parameters: {'n_estimators': 125, 'max_depth': 8, 'min_samples_leaf': 4}. Best is trial 4 with value: 0.6153872154709722.\n",
      "[I 2023-12-03 19:07:22,959] Trial 12 finished with value: 0.6156082444512069 and parameters: {'n_estimators': 124, 'max_depth': 10, 'min_samples_leaf': 6}. Best is trial 12 with value: 0.6156082444512069.\n",
      "[I 2023-12-03 19:07:38,366] Trial 13 finished with value: 0.6123428515672282 and parameters: {'n_estimators': 116, 'max_depth': 10, 'min_samples_leaf': 6}. Best is trial 12 with value: 0.6156082444512069.\n",
      "[I 2023-12-03 19:07:45,320] Trial 14 finished with value: 0.6106304112736398 and parameters: {'n_estimators': 50, 'max_depth': 10, 'min_samples_leaf': 7}. Best is trial 12 with value: 0.6156082444512069.\n",
      "[I 2023-12-03 19:08:09,296] Trial 15 finished with value: 0.6103639134333281 and parameters: {'n_estimators': 225, 'max_depth': 8, 'min_samples_leaf': 5}. Best is trial 12 with value: 0.6156082444512069.\n",
      "[I 2023-12-03 19:08:23,269] Trial 16 finished with value: 0.6114480877368818 and parameters: {'n_estimators': 123, 'max_depth': 9, 'min_samples_leaf': 7}. Best is trial 12 with value: 0.6156082444512069.\n",
      "[I 2023-12-03 19:08:38,007] Trial 17 finished with value: 0.585309286414318 and parameters: {'n_estimators': 186, 'max_depth': 5, 'min_samples_leaf': 7}. Best is trial 12 with value: 0.6156082444512069.\n",
      "[I 2023-12-03 19:09:08,074] Trial 18 finished with value: 0.6156830015131136 and parameters: {'n_estimators': 248, 'max_depth': 9, 'min_samples_leaf': 4}. Best is trial 18 with value: 0.6156830015131136.\n",
      "[I 2023-12-03 19:09:38,673] Trial 19 finished with value: 0.6157163753718466 and parameters: {'n_estimators': 251, 'max_depth': 9, 'min_samples_leaf': 4}. Best is trial 19 with value: 0.6157163753718466.\n",
      "[I 2023-12-03 19:10:03,242] Trial 20 finished with value: 0.6030691747879862 and parameters: {'n_estimators': 255, 'max_depth': 7, 'min_samples_leaf': 4}. Best is trial 19 with value: 0.6157163753718466.\n",
      "[I 2023-12-03 19:10:34,365] Trial 21 finished with value: 0.6174506858190171 and parameters: {'n_estimators': 257, 'max_depth': 9, 'min_samples_leaf': 4}. Best is trial 21 with value: 0.6174506858190171.\n",
      "[I 2023-12-03 19:11:06,561] Trial 22 finished with value: 0.6170013955236746 and parameters: {'n_estimators': 263, 'max_depth': 9, 'min_samples_leaf': 4}. Best is trial 21 with value: 0.6174506858190171.\n",
      "[I 2023-12-03 19:11:36,234] Trial 23 finished with value: 0.6033437237534189 and parameters: {'n_estimators': 293, 'max_depth': 7, 'min_samples_leaf': 3}. Best is trial 21 with value: 0.6174506858190171.\n",
      "[I 2023-12-03 19:12:07,326] Trial 24 finished with value: 0.6172149174707362 and parameters: {'n_estimators': 264, 'max_depth': 9, 'min_samples_leaf': 4}. Best is trial 21 with value: 0.6174506858190171.\n",
      "[I 2023-12-03 19:12:36,830] Trial 25 finished with value: 0.612961623384616 and parameters: {'n_estimators': 270, 'max_depth': 8, 'min_samples_leaf': 5}. Best is trial 21 with value: 0.6174506858190171.\n",
      "[I 2023-12-03 19:13:03,875] Trial 26 finished with value: 0.614148602243389 and parameters: {'n_estimators': 221, 'max_depth': 9, 'min_samples_leaf': 3}. Best is trial 21 with value: 0.6174506858190171.\n",
      "[I 2023-12-03 19:13:33,660] Trial 27 finished with value: 0.6022044900384333 and parameters: {'n_estimators': 300, 'max_depth': 7, 'min_samples_leaf': 5}. Best is trial 21 with value: 0.6174506858190171.\n",
      "[I 2023-12-03 19:14:03,001] Trial 28 finished with value: 0.6114496869952796 and parameters: {'n_estimators': 265, 'max_depth': 8, 'min_samples_leaf': 4}. Best is trial 21 with value: 0.6174506858190171.\n",
      "[I 2023-12-03 19:14:36,883] Trial 29 finished with value: 0.6153724583227091 and parameters: {'n_estimators': 276, 'max_depth': 9, 'min_samples_leaf': 3}. Best is trial 21 with value: 0.6174506858190171.\n",
      "[I 2023-12-03 19:14:57,381] Trial 30 finished with value: 0.595349678708468 and parameters: {'n_estimators': 233, 'max_depth': 6, 'min_samples_leaf': 4}. Best is trial 21 with value: 0.6174506858190171.\n",
      "[I 2023-12-03 19:15:28,782] Trial 31 finished with value: 0.6174506858190171 and parameters: {'n_estimators': 257, 'max_depth': 9, 'min_samples_leaf': 4}. Best is trial 21 with value: 0.6174506858190171.\n",
      "[I 2023-12-03 19:16:00,611] Trial 32 finished with value: 0.6116558496093846 and parameters: {'n_estimators': 262, 'max_depth': 9, 'min_samples_leaf': 5}. Best is trial 21 with value: 0.6174506858190171.\n",
      "[I 2023-12-03 19:16:29,493] Trial 33 finished with value: 0.6143525793208473 and parameters: {'n_estimators': 242, 'max_depth': 9, 'min_samples_leaf': 4}. Best is trial 21 with value: 0.6174506858190171.\n",
      "[I 2023-12-03 19:16:58,160] Trial 34 finished with value: 0.6128616973663606 and parameters: {'n_estimators': 210, 'max_depth': 10, 'min_samples_leaf': 2}. Best is trial 21 with value: 0.6174506858190171.\n",
      "[I 2023-12-03 19:17:25,622] Trial 35 finished with value: 0.6139446442566081 and parameters: {'n_estimators': 282, 'max_depth': 8, 'min_samples_leaf': 3}. Best is trial 21 with value: 0.6174506858190171.\n",
      "[I 2023-12-03 19:17:53,841] Trial 36 finished with value: 0.6143841583391157 and parameters: {'n_estimators': 219, 'max_depth': 10, 'min_samples_leaf': 5}. Best is trial 21 with value: 0.6174506858190171.\n",
      "[I 2023-12-03 19:18:15,905] Trial 37 finished with value: 0.5848497820253444 and parameters: {'n_estimators': 287, 'max_depth': 5, 'min_samples_leaf': 4}. Best is trial 21 with value: 0.6174506858190171.\n",
      "[I 2023-12-03 19:18:38,360] Trial 38 finished with value: 0.6138150330572374 and parameters: {'n_estimators': 202, 'max_depth': 8, 'min_samples_leaf': 2}. Best is trial 21 with value: 0.6174506858190171.\n",
      "[I 2023-12-03 19:19:13,716] Trial 39 finished with value: 0.616411281430748 and parameters: {'n_estimators': 262, 'max_depth': 10, 'min_samples_leaf': 3}. Best is trial 21 with value: 0.6174506858190171.\n",
      "[I 2023-12-03 19:19:41,928] Trial 40 finished with value: 0.615692367041208 and parameters: {'n_estimators': 234, 'max_depth': 9, 'min_samples_leaf': 4}. Best is trial 21 with value: 0.6174506858190171.\n",
      "[I 2023-12-03 19:20:17,531] Trial 41 finished with value: 0.6167641803870161 and parameters: {'n_estimators': 263, 'max_depth': 10, 'min_samples_leaf': 3}. Best is trial 21 with value: 0.6174506858190171.\n",
      "[I 2023-12-03 19:20:54,279] Trial 42 finished with value: 0.6191346346943231 and parameters: {'n_estimators': 273, 'max_depth': 10, 'min_samples_leaf': 3}. Best is trial 42 with value: 0.6191346346943231.\n",
      "[I 2023-12-03 19:21:27,876] Trial 43 finished with value: 0.6153724583227091 and parameters: {'n_estimators': 276, 'max_depth': 9, 'min_samples_leaf': 3}. Best is trial 42 with value: 0.6191346346943231.\n",
      "[I 2023-12-03 19:22:01,229] Trial 44 finished with value: 0.6118803705784457 and parameters: {'n_estimators': 300, 'max_depth': 8, 'min_samples_leaf': 4}. Best is trial 42 with value: 0.6191346346943231.\n",
      "[I 2023-12-03 19:22:31,871] Trial 45 finished with value: 0.612122319553802 and parameters: {'n_estimators': 248, 'max_depth': 9, 'min_samples_leaf': 2}. Best is trial 42 with value: 0.6191346346943231.\n",
      "[I 2023-12-03 19:23:08,636] Trial 46 finished with value: 0.6148070623658122 and parameters: {'n_estimators': 286, 'max_depth': 10, 'min_samples_leaf': 5}. Best is trial 42 with value: 0.6191346346943231.\n",
      "[I 2023-12-03 19:23:33,276] Trial 47 finished with value: 0.603564333387512 and parameters: {'n_estimators': 241, 'max_depth': 7, 'min_samples_leaf': 4}. Best is trial 42 with value: 0.6191346346943231.\n",
      "[I 2023-12-03 19:24:10,250] Trial 48 finished with value: 0.6181557169341337 and parameters: {'n_estimators': 274, 'max_depth': 10, 'min_samples_leaf': 3}. Best is trial 42 with value: 0.6191346346943231.\n",
      "[I 2023-12-03 19:24:34,321] Trial 49 finished with value: 0.613573042358016 and parameters: {'n_estimators': 178, 'max_depth': 10, 'min_samples_leaf': 2}. Best is trial 42 with value: 0.6191346346943231.\n",
      "[I 2023-12-03 19:25:10,840] Trial 50 finished with value: 0.6175574352217941 and parameters: {'n_estimators': 272, 'max_depth': 10, 'min_samples_leaf': 3}. Best is trial 42 with value: 0.6191346346943231.\n",
      "[I 2023-12-03 19:25:47,776] Trial 51 finished with value: 0.6181557169341337 and parameters: {'n_estimators': 274, 'max_depth': 10, 'min_samples_leaf': 3}. Best is trial 42 with value: 0.6191346346943231.\n",
      "[I 2023-12-03 19:26:24,398] Trial 52 finished with value: 0.6167764312571284 and parameters: {'n_estimators': 277, 'max_depth': 10, 'min_samples_leaf': 3}. Best is trial 42 with value: 0.6191346346943231.\n",
      "[I 2023-12-03 19:27:02,821] Trial 53 finished with value: 0.61659436416435 and parameters: {'n_estimators': 292, 'max_depth': 10, 'min_samples_leaf': 3}. Best is trial 42 with value: 0.6191346346943231.\n",
      "[I 2023-12-03 19:27:37,235] Trial 54 finished with value: 0.6160289358976725 and parameters: {'n_estimators': 254, 'max_depth': 10, 'min_samples_leaf': 3}. Best is trial 42 with value: 0.6191346346943231.\n",
      "[I 2023-12-03 19:27:49,679] Trial 55 finished with value: 0.5423668477533935 and parameters: {'n_estimators': 273, 'max_depth': 2, 'min_samples_leaf': 2}. Best is trial 42 with value: 0.6191346346943231.\n",
      "[I 2023-12-03 19:28:10,947] Trial 56 finished with value: 0.6134028611399852 and parameters: {'n_estimators': 150, 'max_depth': 10, 'min_samples_leaf': 2}. Best is trial 42 with value: 0.6191346346943231.\n",
      "[I 2023-12-03 19:28:23,971] Trial 57 finished with value: 0.5557064244783287 and parameters: {'n_estimators': 232, 'max_depth': 3, 'min_samples_leaf': 3}. Best is trial 42 with value: 0.6191346346943231.\n",
      "[I 2023-12-03 19:28:57,421] Trial 58 finished with value: 0.6160289358976725 and parameters: {'n_estimators': 254, 'max_depth': 10, 'min_samples_leaf': 3}. Best is trial 42 with value: 0.6191346346943231.\n",
      "[I 2023-12-03 19:29:32,200] Trial 59 finished with value: 0.61726851629929 and parameters: {'n_estimators': 291, 'max_depth': 9, 'min_samples_leaf': 3}. Best is trial 42 with value: 0.6191346346943231.\n",
      "[I 2023-12-03 19:30:04,569] Trial 60 finished with value: 0.6123638099730586 and parameters: {'n_estimators': 242, 'max_depth': 10, 'min_samples_leaf': 2}. Best is trial 42 with value: 0.6191346346943231.\n",
      "[I 2023-12-03 19:30:41,448] Trial 61 finished with value: 0.6162545913864799 and parameters: {'n_estimators': 293, 'max_depth': 9, 'min_samples_leaf': 3}. Best is trial 42 with value: 0.6191346346943231.\n",
      "[I 2023-12-03 19:31:18,675] Trial 62 finished with value: 0.6165883146439196 and parameters: {'n_estimators': 281, 'max_depth': 10, 'min_samples_leaf': 3}. Best is trial 42 with value: 0.6191346346943231.\n",
      "[I 2023-12-03 19:31:51,545] Trial 63 finished with value: 0.615276652377869 and parameters: {'n_estimators': 272, 'max_depth': 9, 'min_samples_leaf': 3}. Best is trial 42 with value: 0.6191346346943231.\n",
      "[I 2023-12-03 19:32:03,433] Trial 64 finished with value: 0.6102722402557479 and parameters: {'n_estimators': 97, 'max_depth': 9, 'min_samples_leaf': 8}. Best is trial 42 with value: 0.6191346346943231.\n",
      "[I 2023-12-03 19:32:41,057] Trial 65 finished with value: 0.6153851423083261 and parameters: {'n_estimators': 292, 'max_depth': 10, 'min_samples_leaf': 4}. Best is trial 42 with value: 0.6191346346943231.\n",
      "[I 2023-12-03 19:33:10,998] Trial 66 finished with value: 0.6144943536965866 and parameters: {'n_estimators': 269, 'max_depth': 8, 'min_samples_leaf': 3}. Best is trial 42 with value: 0.6191346346943231.\n",
      "[I 2023-12-03 19:33:27,752] Trial 67 finished with value: 0.5679935709247497 and parameters: {'n_estimators': 256, 'max_depth': 4, 'min_samples_leaf': 3}. Best is trial 42 with value: 0.6191346346943231.\n",
      "[I 2023-12-03 19:34:00,611] Trial 68 finished with value: 0.6176636422561821 and parameters: {'n_estimators': 279, 'max_depth': 9, 'min_samples_leaf': 4}. Best is trial 42 with value: 0.6191346346943231.\n",
      "[I 2023-12-03 19:34:30,310] Trial 69 finished with value: 0.6126644265183329 and parameters: {'n_estimators': 227, 'max_depth': 10, 'min_samples_leaf': 4}. Best is trial 42 with value: 0.6191346346943231.\n",
      "[I 2023-12-03 19:35:04,044] Trial 70 finished with value: 0.6165961598797661 and parameters: {'n_estimators': 281, 'max_depth': 9, 'min_samples_leaf': 4}. Best is trial 42 with value: 0.6191346346943231.\n",
      "[I 2023-12-03 19:35:39,832] Trial 71 finished with value: 0.6167006774811028 and parameters: {'n_estimators': 287, 'max_depth': 9, 'min_samples_leaf': 3}. Best is trial 42 with value: 0.6191346346943231.\n",
      "[I 2023-12-03 19:36:12,661] Trial 72 finished with value: 0.6161362396096038 and parameters: {'n_estimators': 270, 'max_depth': 9, 'min_samples_leaf': 4}. Best is trial 42 with value: 0.6191346346943231.\n",
      "[I 2023-12-03 19:36:46,020] Trial 73 finished with value: 0.6135946811967653 and parameters: {'n_estimators': 300, 'max_depth': 8, 'min_samples_leaf': 3}. Best is trial 42 with value: 0.6191346346943231.\n",
      "[I 2023-12-03 19:37:18,611] Trial 74 finished with value: 0.6154342972918446 and parameters: {'n_estimators': 246, 'max_depth': 10, 'min_samples_leaf': 5}. Best is trial 42 with value: 0.6191346346943231.\n",
      "[I 2023-12-03 19:37:51,206] Trial 75 finished with value: 0.612855929815027 and parameters: {'n_estimators': 258, 'max_depth': 9, 'min_samples_leaf': 2}. Best is trial 42 with value: 0.6191346346943231.\n",
      "[I 2023-12-03 19:37:57,373] Trial 76 finished with value: 0.6074342828609718 and parameters: {'n_estimators': 50, 'max_depth': 8, 'min_samples_leaf': 4}. Best is trial 42 with value: 0.6191346346943231.\n",
      "[I 2023-12-03 19:38:31,187] Trial 77 finished with value: 0.6142339630822456 and parameters: {'n_estimators': 279, 'max_depth': 9, 'min_samples_leaf': 3}. Best is trial 42 with value: 0.6191346346943231.\n",
      "[I 2023-12-03 19:38:55,354] Trial 78 finished with value: 0.5982449585080551 and parameters: {'n_estimators': 266, 'max_depth': 6, 'min_samples_leaf': 5}. Best is trial 42 with value: 0.6191346346943231.\n",
      "[I 2023-12-03 19:39:33,817] Trial 79 finished with value: 0.6149909686403952 and parameters: {'n_estimators': 287, 'max_depth': 10, 'min_samples_leaf': 4}. Best is trial 42 with value: 0.6191346346943231.\n",
      "[I 2023-12-03 19:39:50,579] Trial 80 finished with value: 0.6153498870458914 and parameters: {'n_estimators': 139, 'max_depth': 9, 'min_samples_leaf': 4}. Best is trial 42 with value: 0.6191346346943231.\n",
      "[I 2023-12-03 19:40:21,271] Trial 81 finished with value: 0.6170962138709151 and parameters: {'n_estimators': 260, 'max_depth': 9, 'min_samples_leaf': 4}. Best is trial 42 with value: 0.6191346346943231.\n",
      "[I 2023-12-03 19:40:56,599] Trial 82 finished with value: 0.6152177083761813 and parameters: {'n_estimators': 267, 'max_depth': 10, 'min_samples_leaf': 4}. Best is trial 42 with value: 0.6191346346943231.\n",
      "[I 2023-12-03 19:41:27,019] Trial 83 finished with value: 0.6129416049007065 and parameters: {'n_estimators': 275, 'max_depth': 8, 'min_samples_leaf': 5}. Best is trial 42 with value: 0.6191346346943231.\n",
      "[I 2023-12-03 19:41:46,777] Trial 84 finished with value: 0.5845286877553177 and parameters: {'n_estimators': 250, 'max_depth': 5, 'min_samples_leaf': 3}. Best is trial 42 with value: 0.6191346346943231.\n",
      "[I 2023-12-03 19:42:21,707] Trial 85 finished with value: 0.6187539844522227 and parameters: {'n_estimators': 293, 'max_depth': 9, 'min_samples_leaf': 6}. Best is trial 42 with value: 0.6191346346943231.\n",
      "[I 2023-12-03 19:42:57,204] Trial 86 finished with value: 0.6178417205295832 and parameters: {'n_estimators': 294, 'max_depth': 9, 'min_samples_leaf': 6}. Best is trial 42 with value: 0.6191346346943231.\n",
      "[I 2023-12-03 19:43:35,210] Trial 87 finished with value: 0.6131652891660233 and parameters: {'n_estimators': 300, 'max_depth': 10, 'min_samples_leaf': 6}. Best is trial 42 with value: 0.6191346346943231.\n",
      "[I 2023-12-03 19:44:10,531] Trial 88 finished with value: 0.6142681413731587 and parameters: {'n_estimators': 278, 'max_depth': 10, 'min_samples_leaf': 6}. Best is trial 42 with value: 0.6191346346943231.\n",
      "[I 2023-12-03 19:44:44,945] Trial 89 finished with value: 0.6139634988272017 and parameters: {'n_estimators': 296, 'max_depth': 9, 'min_samples_leaf': 7}. Best is trial 42 with value: 0.6191346346943231.\n",
      "[I 2023-12-03 19:45:19,304] Trial 90 finished with value: 0.6186424094561407 and parameters: {'n_estimators': 284, 'max_depth': 9, 'min_samples_leaf': 6}. Best is trial 42 with value: 0.6191346346943231.\n",
      "[I 2023-12-03 19:45:53,026] Trial 91 finished with value: 0.6186424094561407 and parameters: {'n_estimators': 284, 'max_depth': 9, 'min_samples_leaf': 6}. Best is trial 42 with value: 0.6191346346943231.\n",
      "[I 2023-12-03 19:46:25,986] Trial 92 finished with value: 0.6170115506908632 and parameters: {'n_estimators': 285, 'max_depth': 9, 'min_samples_leaf': 6}. Best is trial 42 with value: 0.6191346346943231.\n",
      "[I 2023-12-03 19:46:57,130] Trial 93 finished with value: 0.6127523854590606 and parameters: {'n_estimators': 284, 'max_depth': 8, 'min_samples_leaf': 6}. Best is trial 42 with value: 0.6191346346943231.\n",
      "[I 2023-12-03 19:47:32,331] Trial 94 finished with value: 0.6191233877545327 and parameters: {'n_estimators': 290, 'max_depth': 10, 'min_samples_leaf': 7}. Best is trial 42 with value: 0.6191346346943231.\n",
      "[I 2023-12-03 19:48:09,589] Trial 95 finished with value: 0.6181586983759858 and parameters: {'n_estimators': 294, 'max_depth': 10, 'min_samples_leaf': 7}. Best is trial 42 with value: 0.6191346346943231.\n",
      "[I 2023-12-03 19:48:46,825] Trial 96 finished with value: 0.6181586983759858 and parameters: {'n_estimators': 294, 'max_depth': 10, 'min_samples_leaf': 7}. Best is trial 42 with value: 0.6191346346943231.\n",
      "[I 2023-12-03 19:49:23,758] Trial 97 finished with value: 0.6191233877545327 and parameters: {'n_estimators': 290, 'max_depth': 10, 'min_samples_leaf': 7}. Best is trial 42 with value: 0.6191346346943231.\n",
      "[I 2023-12-03 19:49:58,702] Trial 98 finished with value: 0.6191225795300402 and parameters: {'n_estimators': 288, 'max_depth': 10, 'min_samples_leaf': 7}. Best is trial 42 with value: 0.6191346346943231.\n",
      "[I 2023-12-03 19:50:35,053] Trial 99 finished with value: 0.6191233877545327 and parameters: {'n_estimators': 290, 'max_depth': 10, 'min_samples_leaf': 7}. Best is trial 42 with value: 0.6191346346943231.\n"
     ]
    }
   ],
   "source": [
    "study_rf.optimize(optuna_optimize, n_trials=100)"
   ],
   "metadata": {
    "collapsed": false,
    "ExecuteTime": {
     "end_time": "2023-12-03T16:50:35.112285300Z",
     "start_time": "2023-12-03T16:03:28.144971300Z"
    }
   }
  },
  {
   "cell_type": "code",
   "execution_count": 33,
   "outputs": [
    {
     "name": "stdout",
     "output_type": "stream",
     "text": [
      "Наилучшие значения гиперпараметров Random Forest: {'n_estimators': 273, 'max_depth': 10, 'min_samples_leaf': 3}\n",
      "f1_score на обучающем наборе: 0.619\n"
     ]
    }
   ],
   "source": [
    "print(\"Наилучшие значения гиперпараметров Random Forest: {}\".format(study_rf.best_params))\n",
    "print(\"f1_score на обучающем наборе: {:.3f}\". format(study_rf.best_value))"
   ],
   "metadata": {
    "collapsed": false,
    "ExecuteTime": {
     "end_time": "2023-12-03T16:50:35.183440200Z",
     "start_time": "2023-12-03T16:50:35.069626900Z"
    }
   }
  },
  {
   "cell_type": "code",
   "execution_count": 34,
   "outputs": [],
   "source": [
    "with mlflow.start_run(nested=True,\n",
    "                      run_name='rf_pipeline_class_weight'):\n",
    "\n",
    "    best_params = study_rf.best_params\n",
    "    best_score = study_rf.best_value\n",
    "    mlflow.log_params(best_params)\n",
    "\n",
    "    rf_pipe_cw = Pipeline([\n",
    "        ('preprocessor', preprocessor),\n",
    "        ('model', RandomForestClassifier(**best_params,\n",
    "                                         class_weight='balanced',\n",
    "                                         random_state=12345))\n",
    "    ])\n",
    "\n",
    "    rf_pipe_cw.fit(X_train, y_train)\n",
    "\n",
    "    pred_proba = rf_pipe_cw.predict_proba(X_test)[:, 1]\n",
    "    roc_auc_rf_cw = roc_auc_score(y_test, pred_proba)\n",
    "    \n",
    "    mlflow.log_metrics({\n",
    "        'f1_cv': best_score,\n",
    "        'roc_auc': roc_auc_rf_cw,\n",
    "        'balanced_accuracy': balanced_accuracy_score(y_test, np.round(pred_proba, 0)),\n",
    "        'f1': f1_score(y_test, np.round(pred_proba, 0))\n",
    "    })\n",
    "    \n",
    "    mlflow.sklearn.log_model(rf_pipe_cw, 'rf_pipeline_class_weight')"
   ],
   "metadata": {
    "collapsed": false,
    "ExecuteTime": {
     "end_time": "2023-12-03T16:50:53.923039500Z",
     "start_time": "2023-12-03T16:50:35.102175300Z"
    }
   }
  },
  {
   "cell_type": "markdown",
   "source": [
    "### 3.1.3 Логистическая регрессия"
   ],
   "metadata": {
    "collapsed": false
   }
  },
  {
   "cell_type": "code",
   "execution_count": 35,
   "outputs": [],
   "source": [
    "cat_pipeline = Pipeline([\n",
    "    ('enc', OneHotEncoder(handle_unknown='error', drop='first'))\n",
    "])\n",
    "\n",
    "num_pipeline = Pipeline([\n",
    "    ('imp', SimpleImputer(fill_value=-1, add_indicator=True)),\n",
    "    ('pt', PowerTransformer()),\n",
    "    ('scal', StandardScaler())\n",
    "])\n",
    "\n",
    "preprocessor = ColumnTransformer([\n",
    "    (\"cat\", cat_pipeline, categorical_features),\n",
    "    (\"num\", num_pipeline, numeric_features)\n",
    "], remainder='passthrough')"
   ],
   "metadata": {
    "collapsed": false,
    "ExecuteTime": {
     "end_time": "2023-12-03T16:50:54.052252200Z",
     "start_time": "2023-12-03T16:50:53.937235800Z"
    }
   }
  },
  {
   "cell_type": "code",
   "execution_count": 36,
   "outputs": [],
   "source": [
    "def optuna_optimize(trial):\n",
    "    param = {\n",
    "        'solver': trial.suggest_categorical('solver', ['lbfgs', 'saga'])\n",
    "    }\n",
    "    \n",
    "    if param['solver'] == 'lbfgs':\n",
    "        param['penalty'] = 'l2' \n",
    "\n",
    "    if param['solver'] == 'saga':\n",
    "        param['penalty'] = 'elasticnet' \n",
    "        param['C'] = trial.suggest_float('C', 0.01, 100) \n",
    "        param['l1_ratio'] = trial.suggest_float('l1_ratio', 0, 1)\n",
    "        param['max_iter'] = 1000 \n",
    "        \n",
    "    estimator = LogisticRegression(**param,  \n",
    "                                   class_weight='balanced',\n",
    "                                   random_state=12345)\n",
    "\n",
    "    log_reg_pipe = Pipeline([\n",
    "        ('preprocessor', preprocessor),\n",
    "        ('model', estimator)\n",
    "    ])\n",
    "    \n",
    "    score = cross_val_score(log_reg_pipe, X_train, y_train, cv=5, scoring='f1').mean()\n",
    "    return score"
   ],
   "metadata": {
    "collapsed": false,
    "ExecuteTime": {
     "end_time": "2023-12-03T16:50:54.052252200Z",
     "start_time": "2023-12-03T16:50:53.963359500Z"
    }
   }
  },
  {
   "cell_type": "code",
   "execution_count": 37,
   "outputs": [
    {
     "name": "stderr",
     "output_type": "stream",
     "text": [
      "[I 2023-12-03 19:50:53,993] A new study created in memory with name: LogisticRegression Optuna Optimization Class Weight\n"
     ]
    }
   ],
   "source": [
    "study_log_reg = optuna.create_study(study_name=\"LogisticRegression Optuna Optimization Class Weight\",\n",
    "                                direction='maximize')"
   ],
   "metadata": {
    "collapsed": false,
    "ExecuteTime": {
     "end_time": "2023-12-03T16:50:54.067298Z",
     "start_time": "2023-12-03T16:50:54.001809Z"
    }
   }
  },
  {
   "cell_type": "code",
   "execution_count": 38,
   "outputs": [
    {
     "name": "stderr",
     "output_type": "stream",
     "text": [
      "[I 2023-12-03 19:50:55,547] Trial 0 finished with value: 0.4910843408008952 and parameters: {'solver': 'saga', 'C': 67.02152461160023, 'l1_ratio': 0.48430614419966944}. Best is trial 0 with value: 0.4910843408008952.\n",
      "[I 2023-12-03 19:50:56,538] Trial 1 finished with value: 0.49096987218775245 and parameters: {'solver': 'lbfgs'}. Best is trial 0 with value: 0.4910843408008952.\n",
      "[I 2023-12-03 19:50:57,876] Trial 2 finished with value: 0.4910843408008952 and parameters: {'solver': 'saga', 'C': 93.08613334558326, 'l1_ratio': 0.5952099843733135}. Best is trial 0 with value: 0.4910843408008952.\n",
      "[I 2023-12-03 19:50:58,942] Trial 3 finished with value: 0.4910843408008952 and parameters: {'solver': 'saga', 'C': 70.91930011977306, 'l1_ratio': 0.5447158408363525}. Best is trial 0 with value: 0.4910843408008952.\n",
      "[I 2023-12-03 19:51:00,384] Trial 4 finished with value: 0.4910843408008952 and parameters: {'solver': 'saga', 'C': 83.00028713380922, 'l1_ratio': 0.7763211702600279}. Best is trial 0 with value: 0.4910843408008952.\n",
      "[I 2023-12-03 19:51:01,576] Trial 5 finished with value: 0.4910843408008952 and parameters: {'solver': 'saga', 'C': 13.434167405434405, 'l1_ratio': 0.5434576046537715}. Best is trial 0 with value: 0.4910843408008952.\n",
      "[I 2023-12-03 19:51:02,829] Trial 6 finished with value: 0.4910843408008952 and parameters: {'solver': 'saga', 'C': 55.36954280764344, 'l1_ratio': 0.031807331293191576}. Best is trial 0 with value: 0.4910843408008952.\n",
      "[I 2023-12-03 19:51:03,717] Trial 7 finished with value: 0.49096987218775245 and parameters: {'solver': 'lbfgs'}. Best is trial 0 with value: 0.4910843408008952.\n",
      "[I 2023-12-03 19:51:04,657] Trial 8 finished with value: 0.49096987218775245 and parameters: {'solver': 'lbfgs'}. Best is trial 0 with value: 0.4910843408008952.\n",
      "[I 2023-12-03 19:51:06,095] Trial 9 finished with value: 0.4910843408008952 and parameters: {'solver': 'saga', 'C': 96.52345394448558, 'l1_ratio': 0.3622356448703421}. Best is trial 0 with value: 0.4910843408008952.\n",
      "[I 2023-12-03 19:51:07,119] Trial 10 finished with value: 0.49096987218775245 and parameters: {'solver': 'lbfgs'}. Best is trial 0 with value: 0.4910843408008952.\n",
      "[I 2023-12-03 19:51:08,359] Trial 11 finished with value: 0.4910843408008952 and parameters: {'solver': 'saga', 'C': 99.53414371436425, 'l1_ratio': 0.9644532889066106}. Best is trial 0 with value: 0.4910843408008952.\n",
      "[I 2023-12-03 19:51:09,814] Trial 12 finished with value: 0.4910843408008952 and parameters: {'solver': 'saga', 'C': 72.4814943751663, 'l1_ratio': 0.381700826884754}. Best is trial 0 with value: 0.4910843408008952.\n",
      "[I 2023-12-03 19:51:11,235] Trial 13 finished with value: 0.4910843408008952 and parameters: {'solver': 'saga', 'C': 46.91075079148373, 'l1_ratio': 0.6696971007298165}. Best is trial 0 with value: 0.4910843408008952.\n",
      "[I 2023-12-03 19:51:12,504] Trial 14 finished with value: 0.4910843408008952 and parameters: {'solver': 'saga', 'C': 81.72411478695962, 'l1_ratio': 0.3270053022778616}. Best is trial 0 with value: 0.4910843408008952.\n",
      "[I 2023-12-03 19:51:13,857] Trial 15 finished with value: 0.4910843408008952 and parameters: {'solver': 'saga', 'C': 54.98751520899876, 'l1_ratio': 0.7222882106984563}. Best is trial 0 with value: 0.4910843408008952.\n",
      "[I 2023-12-03 19:51:15,163] Trial 16 finished with value: 0.4910843408008952 and parameters: {'solver': 'saga', 'C': 99.5554070342576, 'l1_ratio': 0.5091102505770271}. Best is trial 0 with value: 0.4910843408008952.\n",
      "[I 2023-12-03 19:51:16,496] Trial 17 finished with value: 0.4910843408008952 and parameters: {'solver': 'saga', 'C': 39.57046701024833, 'l1_ratio': 0.22590739411870908}. Best is trial 0 with value: 0.4910843408008952.\n",
      "[I 2023-12-03 19:51:17,477] Trial 18 finished with value: 0.49096987218775245 and parameters: {'solver': 'lbfgs'}. Best is trial 0 with value: 0.4910843408008952.\n",
      "[I 2023-12-03 19:51:19,041] Trial 19 finished with value: 0.4910843408008952 and parameters: {'solver': 'saga', 'C': 66.6408699026898, 'l1_ratio': 0.6490990666430956}. Best is trial 0 with value: 0.4910843408008952.\n",
      "[I 2023-12-03 19:51:20,516] Trial 20 finished with value: 0.4910843408008952 and parameters: {'solver': 'saga', 'C': 85.47148273755413, 'l1_ratio': 0.8540202406275373}. Best is trial 0 with value: 0.4910843408008952.\n",
      "[I 2023-12-03 19:51:21,916] Trial 21 finished with value: 0.4910843408008952 and parameters: {'solver': 'saga', 'C': 67.27791823328972, 'l1_ratio': 0.572660520906024}. Best is trial 0 with value: 0.4910843408008952.\n",
      "[I 2023-12-03 19:51:23,154] Trial 22 finished with value: 0.4910843408008952 and parameters: {'solver': 'saga', 'C': 73.77202475030828, 'l1_ratio': 0.46627492121708114}. Best is trial 0 with value: 0.4910843408008952.\n",
      "[I 2023-12-03 19:51:24,546] Trial 23 finished with value: 0.4910843408008952 and parameters: {'solver': 'saga', 'C': 87.71798880888068, 'l1_ratio': 0.5824857013587706}. Best is trial 0 with value: 0.4910843408008952.\n",
      "[I 2023-12-03 19:51:25,968] Trial 24 finished with value: 0.4910843408008952 and parameters: {'solver': 'saga', 'C': 60.582262938326934, 'l1_ratio': 0.46371358172967087}. Best is trial 0 with value: 0.4910843408008952.\n",
      "[I 2023-12-03 19:51:27,449] Trial 25 finished with value: 0.4910843408008952 and parameters: {'solver': 'saga', 'C': 76.02336137946727, 'l1_ratio': 0.6486794526472278}. Best is trial 0 with value: 0.4910843408008952.\n",
      "[I 2023-12-03 19:51:28,273] Trial 26 finished with value: 0.49096987218775245 and parameters: {'solver': 'lbfgs'}. Best is trial 0 with value: 0.4910843408008952.\n",
      "[I 2023-12-03 19:51:29,616] Trial 27 finished with value: 0.4910843408008952 and parameters: {'solver': 'saga', 'C': 90.37752450489181, 'l1_ratio': 0.5970399304429002}. Best is trial 0 with value: 0.4910843408008952.\n",
      "[I 2023-12-03 19:51:30,780] Trial 28 finished with value: 0.4910843408008952 and parameters: {'solver': 'saga', 'C': 78.30778253267563, 'l1_ratio': 0.7713437074633973}. Best is trial 0 with value: 0.4910843408008952.\n",
      "[I 2023-12-03 19:51:31,710] Trial 29 finished with value: 0.49096987218775245 and parameters: {'solver': 'lbfgs'}. Best is trial 0 with value: 0.4910843408008952.\n",
      "[I 2023-12-03 19:51:33,174] Trial 30 finished with value: 0.4910843408008952 and parameters: {'solver': 'saga', 'C': 63.987890228711954, 'l1_ratio': 0.4556100869620634}. Best is trial 0 with value: 0.4910843408008952.\n",
      "[I 2023-12-03 19:51:34,358] Trial 31 finished with value: 0.4910843408008952 and parameters: {'solver': 'saga', 'C': 84.03112124687716, 'l1_ratio': 0.7860436801085814}. Best is trial 0 with value: 0.4910843408008952.\n",
      "[I 2023-12-03 19:51:35,713] Trial 32 finished with value: 0.4910843408008952 and parameters: {'solver': 'saga', 'C': 90.91533788495315, 'l1_ratio': 0.6932957423887216}. Best is trial 0 with value: 0.4910843408008952.\n",
      "[I 2023-12-03 19:51:37,112] Trial 33 finished with value: 0.4910843408008952 and parameters: {'solver': 'saga', 'C': 78.17469631790009, 'l1_ratio': 0.5461774138449202}. Best is trial 0 with value: 0.4910843408008952.\n",
      "[I 2023-12-03 19:51:38,445] Trial 34 finished with value: 0.4910843408008952 and parameters: {'solver': 'saga', 'C': 91.86609105171306, 'l1_ratio': 0.8455473701695181}. Best is trial 0 with value: 0.4910843408008952.\n",
      "[I 2023-12-03 19:51:39,796] Trial 35 finished with value: 0.4910843408008952 and parameters: {'solver': 'saga', 'C': 70.46581612718062, 'l1_ratio': 0.6244621749421638}. Best is trial 0 with value: 0.4910843408008952.\n",
      "[I 2023-12-03 19:51:40,722] Trial 36 finished with value: 0.49096987218775245 and parameters: {'solver': 'lbfgs'}. Best is trial 0 with value: 0.4910843408008952.\n",
      "[I 2023-12-03 19:51:42,042] Trial 37 finished with value: 0.4910843408008952 and parameters: {'solver': 'saga', 'C': 82.43723078351933, 'l1_ratio': 0.7169180037392813}. Best is trial 0 with value: 0.4910843408008952.\n",
      "[I 2023-12-03 19:51:43,340] Trial 38 finished with value: 0.4910843408008952 and parameters: {'solver': 'saga', 'C': 7.223157719292118, 'l1_ratio': 0.5286096366082776}. Best is trial 0 with value: 0.4910843408008952.\n",
      "[I 2023-12-03 19:51:44,076] Trial 39 finished with value: 0.49096987218775245 and parameters: {'solver': 'lbfgs'}. Best is trial 0 with value: 0.4910843408008952.\n",
      "[I 2023-12-03 19:51:45,573] Trial 40 finished with value: 0.4910843408008952 and parameters: {'solver': 'saga', 'C': 71.89144140180098, 'l1_ratio': 0.5853314418824148}. Best is trial 0 with value: 0.4910843408008952.\n",
      "[I 2023-12-03 19:51:46,957] Trial 41 finished with value: 0.4910843408008952 and parameters: {'solver': 'saga', 'C': 9.795103916252437, 'l1_ratio': 0.5041429517760335}. Best is trial 0 with value: 0.4910843408008952.\n",
      "[I 2023-12-03 19:51:48,259] Trial 42 finished with value: 0.4910843408008952 and parameters: {'solver': 'saga', 'C': 93.51529005019327, 'l1_ratio': 0.4037671214580267}. Best is trial 0 with value: 0.4910843408008952.\n",
      "[I 2023-12-03 19:51:49,553] Trial 43 finished with value: 0.4910843408008952 and parameters: {'solver': 'saga', 'C': 16.34403935009729, 'l1_ratio': 0.5492193241138347}. Best is trial 0 with value: 0.4910843408008952.\n",
      "[I 2023-12-03 19:51:50,900] Trial 44 finished with value: 0.4910843408008952 and parameters: {'solver': 'saga', 'C': 60.04222189877949, 'l1_ratio': 0.618178874865707}. Best is trial 0 with value: 0.4910843408008952.\n",
      "[I 2023-12-03 19:51:52,314] Trial 45 finished with value: 0.4910843408008952 and parameters: {'solver': 'saga', 'C': 94.84736996870483, 'l1_ratio': 0.4022829938236665}. Best is trial 0 with value: 0.4910843408008952.\n",
      "[I 2023-12-03 19:51:53,682] Trial 46 finished with value: 0.4910843408008952 and parameters: {'solver': 'saga', 'C': 78.96744222261069, 'l1_ratio': 0.9654630598331723}. Best is trial 0 with value: 0.4910843408008952.\n",
      "[I 2023-12-03 19:51:54,884] Trial 47 finished with value: 0.4910843408008952 and parameters: {'solver': 'saga', 'C': 84.57399936761759, 'l1_ratio': 0.6754228802706002}. Best is trial 0 with value: 0.4910843408008952.\n",
      "[I 2023-12-03 19:51:55,971] Trial 48 finished with value: 0.49096987218775245 and parameters: {'solver': 'lbfgs'}. Best is trial 0 with value: 0.4910843408008952.\n",
      "[I 2023-12-03 19:51:56,978] Trial 49 finished with value: 0.4910843408008952 and parameters: {'solver': 'saga', 'C': 97.12236860265321, 'l1_ratio': 0.31561480359199856}. Best is trial 0 with value: 0.4910843408008952.\n",
      "[I 2023-12-03 19:51:58,263] Trial 50 finished with value: 0.4910843408008952 and parameters: {'solver': 'saga', 'C': 53.03591293304581, 'l1_ratio': 0.5154038730458165}. Best is trial 0 with value: 0.4910843408008952.\n",
      "[I 2023-12-03 19:51:59,576] Trial 51 finished with value: 0.4910843408008952 and parameters: {'solver': 'saga', 'C': 43.608396519177525, 'l1_ratio': 0.13981354595696338}. Best is trial 0 with value: 0.4910843408008952.\n",
      "[I 2023-12-03 19:52:00,813] Trial 52 finished with value: 0.4910843408008952 and parameters: {'solver': 'saga', 'C': 57.54624354336109, 'l1_ratio': 0.007231063170965779}. Best is trial 0 with value: 0.4910843408008952.\n",
      "[I 2023-12-03 19:52:02,016] Trial 53 finished with value: 0.4910843408008952 and parameters: {'solver': 'saga', 'C': 51.313286464852396, 'l1_ratio': 0.44455122034062766}. Best is trial 0 with value: 0.4910843408008952.\n",
      "[I 2023-12-03 19:52:03,223] Trial 54 finished with value: 0.4910843408008952 and parameters: {'solver': 'saga', 'C': 67.77823044089317, 'l1_ratio': 0.35487067189226695}. Best is trial 0 with value: 0.4910843408008952.\n",
      "[I 2023-12-03 19:52:04,550] Trial 55 finished with value: 0.4910843408008952 and parameters: {'solver': 'saga', 'C': 73.8626875766686, 'l1_ratio': 0.2789378932474357}. Best is trial 0 with value: 0.4910843408008952.\n",
      "[I 2023-12-03 19:52:05,907] Trial 56 finished with value: 0.4910843408008952 and parameters: {'solver': 'saga', 'C': 64.26281683835981, 'l1_ratio': 0.6229516217395026}. Best is trial 0 with value: 0.4910843408008952.\n",
      "[I 2023-12-03 19:52:07,060] Trial 57 finished with value: 0.4910843408008952 and parameters: {'solver': 'saga', 'C': 35.95976732811104, 'l1_ratio': 0.92164523127378}. Best is trial 0 with value: 0.4910843408008952.\n",
      "[I 2023-12-03 19:52:07,924] Trial 58 finished with value: 0.49096987218775245 and parameters: {'solver': 'lbfgs'}. Best is trial 0 with value: 0.4910843408008952.\n",
      "[I 2023-12-03 19:52:09,191] Trial 59 finished with value: 0.4910843408008952 and parameters: {'solver': 'saga', 'C': 87.34173634759125, 'l1_ratio': 0.49865603517582124}. Best is trial 0 with value: 0.4910843408008952.\n",
      "[I 2023-12-03 19:52:10,423] Trial 60 finished with value: 0.4910843408008952 and parameters: {'solver': 'saga', 'C': 69.63116946643059, 'l1_ratio': 0.5657647477902152}. Best is trial 0 with value: 0.4910843408008952.\n",
      "[I 2023-12-03 19:52:11,729] Trial 61 finished with value: 0.4910843408008952 and parameters: {'solver': 'saga', 'C': 79.7081298603634, 'l1_ratio': 0.4117088378027485}. Best is trial 0 with value: 0.4910843408008952.\n",
      "[I 2023-12-03 19:52:12,950] Trial 62 finished with value: 0.4910843408008952 and parameters: {'solver': 'saga', 'C': 98.75077610514818, 'l1_ratio': 0.47500493609649086}. Best is trial 0 with value: 0.4910843408008952.\n",
      "[I 2023-12-03 19:52:14,179] Trial 63 finished with value: 0.4910843408008952 and parameters: {'solver': 'saga', 'C': 99.98171353457289, 'l1_ratio': 0.6582319483729442}. Best is trial 0 with value: 0.4910843408008952.\n",
      "[I 2023-12-03 19:52:15,606] Trial 64 finished with value: 0.4910843408008952 and parameters: {'solver': 'saga', 'C': 87.27515196881012, 'l1_ratio': 0.3648991447401368}. Best is trial 0 with value: 0.4910843408008952.\n",
      "[I 2023-12-03 19:52:16,990] Trial 65 finished with value: 0.4910843408008952 and parameters: {'solver': 'saga', 'C': 90.27966105482098, 'l1_ratio': 0.5607543183296354}. Best is trial 0 with value: 0.4910843408008952.\n",
      "[I 2023-12-03 19:52:18,273] Trial 66 finished with value: 0.4910843408008952 and parameters: {'solver': 'saga', 'C': 75.54986221357224, 'l1_ratio': 0.4409504084911965}. Best is trial 0 with value: 0.4910843408008952.\n",
      "[I 2023-12-03 19:52:19,577] Trial 67 finished with value: 0.4910843408008952 and parameters: {'solver': 'saga', 'C': 96.09326482115607, 'l1_ratio': 0.5004885257785104}. Best is trial 0 with value: 0.4910843408008952.\n",
      "[I 2023-12-03 19:52:20,358] Trial 68 finished with value: 0.49096987218775245 and parameters: {'solver': 'lbfgs'}. Best is trial 0 with value: 0.4910843408008952.\n",
      "[I 2023-12-03 19:52:21,671] Trial 69 finished with value: 0.4910843408008952 and parameters: {'solver': 'saga', 'C': 82.46867198111819, 'l1_ratio': 0.5946069360990613}. Best is trial 0 with value: 0.4910843408008952.\n",
      "[I 2023-12-03 19:52:22,784] Trial 70 finished with value: 0.4910843408008952 and parameters: {'solver': 'saga', 'C': 63.01689757444737, 'l1_ratio': 0.5391752353023788}. Best is trial 0 with value: 0.4910843408008952.\n",
      "[I 2023-12-03 19:52:24,062] Trial 71 finished with value: 0.4910843408008952 and parameters: {'solver': 'saga', 'C': 93.37869024332383, 'l1_ratio': 0.7244043482355362}. Best is trial 0 with value: 0.4910843408008952.\n",
      "[I 2023-12-03 19:52:25,314] Trial 72 finished with value: 0.4910843408008952 and parameters: {'solver': 'saga', 'C': 88.7209707251526, 'l1_ratio': 0.7605359588659069}. Best is trial 0 with value: 0.4910843408008952.\n",
      "[I 2023-12-03 19:52:26,594] Trial 73 finished with value: 0.4910843408008952 and parameters: {'solver': 'saga', 'C': 95.3207762836996, 'l1_ratio': 0.8367952120011479}. Best is trial 0 with value: 0.4910843408008952.\n",
      "[I 2023-12-03 19:52:27,637] Trial 74 finished with value: 0.4910843408008952 and parameters: {'solver': 'saga', 'C': 91.28899855802368, 'l1_ratio': 0.6395926269899719}. Best is trial 0 with value: 0.4910843408008952.\n",
      "[I 2023-12-03 19:52:29,028] Trial 75 finished with value: 0.4910843408008952 and parameters: {'solver': 'saga', 'C': 85.86033169041933, 'l1_ratio': 0.6886626967331707}. Best is trial 0 with value: 0.4910843408008952.\n",
      "[I 2023-12-03 19:52:30,369] Trial 76 finished with value: 0.4910843408008952 and parameters: {'solver': 'saga', 'C': 99.05174003817727, 'l1_ratio': 0.6070975227413209}. Best is trial 0 with value: 0.4910843408008952.\n",
      "[I 2023-12-03 19:52:31,591] Trial 77 finished with value: 0.4910843408008952 and parameters: {'solver': 'saga', 'C': 55.701894995519325, 'l1_ratio': 0.8105596681814545}. Best is trial 0 with value: 0.4910843408008952.\n",
      "[I 2023-12-03 19:52:32,907] Trial 78 finished with value: 0.4910843408008952 and parameters: {'solver': 'saga', 'C': 82.12640469533697, 'l1_ratio': 0.8820661147565237}. Best is trial 0 with value: 0.4910843408008952.\n",
      "[I 2023-12-03 19:52:33,774] Trial 79 finished with value: 0.49096987218775245 and parameters: {'solver': 'lbfgs'}. Best is trial 0 with value: 0.4910843408008952.\n",
      "[I 2023-12-03 19:52:35,224] Trial 80 finished with value: 0.4910843408008952 and parameters: {'solver': 'saga', 'C': 71.54155337796475, 'l1_ratio': 0.4844805032672054}. Best is trial 0 with value: 0.4910843408008952.\n",
      "[I 2023-12-03 19:52:36,505] Trial 81 finished with value: 0.4910843408008952 and parameters: {'solver': 'saga', 'C': 76.55716847679065, 'l1_ratio': 0.5249402039427316}. Best is trial 0 with value: 0.4910843408008952.\n",
      "[I 2023-12-03 19:52:37,944] Trial 82 finished with value: 0.4910843408008952 and parameters: {'solver': 'saga', 'C': 79.98308171257518, 'l1_ratio': 0.9950629145050587}. Best is trial 0 with value: 0.4910843408008952.\n",
      "[I 2023-12-03 19:52:39,497] Trial 83 finished with value: 0.4910843408008952 and parameters: {'solver': 'saga', 'C': 67.25663252314081, 'l1_ratio': 0.4670870180163678}. Best is trial 0 with value: 0.4910843408008952.\n",
      "[I 2023-12-03 19:52:40,765] Trial 84 finished with value: 0.4910843408008952 and parameters: {'solver': 'saga', 'C': 73.08246117602607, 'l1_ratio': 0.5528031989189042}. Best is trial 0 with value: 0.4910843408008952.\n",
      "[I 2023-12-03 19:52:42,068] Trial 85 finished with value: 0.4910843408008952 and parameters: {'solver': 'saga', 'C': 95.68626731373891, 'l1_ratio': 0.5921447839733102}. Best is trial 0 with value: 0.4910843408008952.\n",
      "[I 2023-12-03 19:52:43,467] Trial 86 finished with value: 0.4910843408008952 and parameters: {'solver': 'saga', 'C': 92.13687332462548, 'l1_ratio': 0.5271946698327735}. Best is trial 0 with value: 0.4910843408008952.\n",
      "[I 2023-12-03 19:52:44,837] Trial 87 finished with value: 0.4910843408008952 and parameters: {'solver': 'saga', 'C': 84.42970517690698, 'l1_ratio': 0.6575188658820221}. Best is trial 0 with value: 0.4910843408008952.\n",
      "[I 2023-12-03 19:52:46,120] Trial 88 finished with value: 0.4910843408008952 and parameters: {'solver': 'saga', 'C': 75.3241033961405, 'l1_ratio': 0.43846605367086966}. Best is trial 0 with value: 0.4910843408008952.\n",
      "[I 2023-12-03 19:52:47,502] Trial 89 finished with value: 0.4910843408008952 and parameters: {'solver': 'saga', 'C': 70.04589821264385, 'l1_ratio': 0.5807747393493583}. Best is trial 0 with value: 0.4910843408008952.\n",
      "[I 2023-12-03 19:52:48,449] Trial 90 finished with value: 0.49096987218775245 and parameters: {'solver': 'lbfgs'}. Best is trial 0 with value: 0.4910843408008952.\n",
      "[I 2023-12-03 19:52:49,711] Trial 91 finished with value: 0.4910843408008952 and parameters: {'solver': 'saga', 'C': 61.68067619888642, 'l1_ratio': 0.7335785251803235}. Best is trial 0 with value: 0.4910843408008952.\n",
      "[I 2023-12-03 19:52:51,066] Trial 92 finished with value: 0.4910843408008952 and parameters: {'solver': 'saga', 'C': 63.59332659279885, 'l1_ratio': 0.6191167144068449}. Best is trial 0 with value: 0.4910843408008952.\n",
      "[I 2023-12-03 19:52:52,254] Trial 93 finished with value: 0.4910843408008952 and parameters: {'solver': 'saga', 'C': 47.551589072371385, 'l1_ratio': 0.6936356285701146}. Best is trial 0 with value: 0.4910843408008952.\n",
      "[I 2023-12-03 19:52:53,578] Trial 94 finished with value: 0.4910843408008952 and parameters: {'solver': 'saga', 'C': 32.68306937668292, 'l1_ratio': 0.5675761457430795}. Best is trial 0 with value: 0.4910843408008952.\n",
      "[I 2023-12-03 19:52:54,837] Trial 95 finished with value: 0.4910843408008952 and parameters: {'solver': 'saga', 'C': 59.180077408371545, 'l1_ratio': 0.26568738667621805}. Best is trial 0 with value: 0.4910843408008952.\n",
      "[I 2023-12-03 19:52:56,032] Trial 96 finished with value: 0.4910843408008952 and parameters: {'solver': 'saga', 'C': 66.51145845095922, 'l1_ratio': 0.5121118479783873}. Best is trial 0 with value: 0.4910843408008952.\n",
      "[I 2023-12-03 19:52:57,432] Trial 97 finished with value: 0.4910843408008952 and parameters: {'solver': 'saga', 'C': 56.52282173915914, 'l1_ratio': 0.6474778899986096}. Best is trial 0 with value: 0.4910843408008952.\n",
      "[I 2023-12-03 19:52:58,776] Trial 98 finished with value: 0.4910843408008952 and parameters: {'solver': 'saga', 'C': 53.430258826146286, 'l1_ratio': 0.15013915203658706}. Best is trial 0 with value: 0.4910843408008952.\n",
      "[I 2023-12-03 19:53:00,094] Trial 99 finished with value: 0.4910843408008952 and parameters: {'solver': 'saga', 'C': 88.969385427636, 'l1_ratio': 0.4858821904759742}. Best is trial 0 with value: 0.4910843408008952.\n"
     ]
    }
   ],
   "source": [
    "study_log_reg.optimize(optuna_optimize, n_trials=100)"
   ],
   "metadata": {
    "collapsed": false,
    "ExecuteTime": {
     "end_time": "2023-12-03T16:53:00.170428900Z",
     "start_time": "2023-12-03T16:50:54.036439Z"
    }
   }
  },
  {
   "cell_type": "code",
   "execution_count": 39,
   "outputs": [
    {
     "name": "stdout",
     "output_type": "stream",
     "text": [
      "Наилучшие значения гиперпараметров Logistic Regression: {'solver': 'saga', 'C': 67.02152461160023, 'l1_ratio': 0.48430614419966944}\n",
      "f1_score на обучающем наборе: 0.491\n"
     ]
    }
   ],
   "source": [
    "print(\"Наилучшие значения гиперпараметров Logistic Regression: {}\".format(study_log_reg.best_params))\n",
    "print(\"f1_score на обучающем наборе: {:.3f}\". format(study_log_reg.best_value))"
   ],
   "metadata": {
    "collapsed": false,
    "ExecuteTime": {
     "end_time": "2023-12-03T16:53:00.232740700Z",
     "start_time": "2023-12-03T16:53:00.119811700Z"
    }
   }
  },
  {
   "cell_type": "code",
   "execution_count": 40,
   "outputs": [],
   "source": [
    "with mlflow.start_run(nested=True,\n",
    "                      run_name='log_reg_pipeline_class_weight'):\n",
    "\n",
    "    best_params = study_log_reg.best_params\n",
    "    best_score = study_log_reg.best_value\n",
    "    mlflow.log_params(best_params)\n",
    "\n",
    "    log_reg_pipe_cw = Pipeline([\n",
    "        ('preprocessor', preprocessor),\n",
    "        ('model', LogisticRegression(**best_params,\n",
    "                                     class_weight='balanced',\n",
    "                                     random_state=12345))\n",
    "    ])\n",
    "\n",
    "    log_reg_pipe_cw.fit(X_train, y_train)\n",
    "\n",
    "    pred_proba = log_reg_pipe_cw.predict_proba(X_test)[:, 1]\n",
    "    roc_auc_lr_cw = roc_auc_score(y_test, pred_proba)\n",
    "    \n",
    "    mlflow.log_metrics({\n",
    "        'f1_cv': best_score,\n",
    "        'roc_auc': roc_auc_lr_cw,\n",
    "        'balanced_accuracy': balanced_accuracy_score(y_test, np.round(pred_proba, 0)),\n",
    "        'f1': f1_score(y_test, np.round(pred_proba, 0))\n",
    "    })\n",
    "    \n",
    "    mlflow.sklearn.log_model(log_reg_pipe_cw, 'log_reg_pipeline_class_weight')"
   ],
   "metadata": {
    "collapsed": false,
    "ExecuteTime": {
     "end_time": "2023-12-03T16:53:09.573429600Z",
     "start_time": "2023-12-03T16:53:00.151850900Z"
    }
   }
  },
  {
   "cell_type": "markdown",
   "source": [
    "### 3.1.4 Метод опорных векторов"
   ],
   "metadata": {
    "collapsed": false
   }
  },
  {
   "cell_type": "code",
   "execution_count": 41,
   "outputs": [],
   "source": [
    "def optuna_optimize(trial):\n",
    "\n",
    "    param = {\n",
    "        'C': trial.suggest_float('C', 0.01, 3)  # какие значения может принимать С \n",
    "    }\n",
    " \n",
    "    estimator = SVC(**param, \n",
    "                    class_weight='balanced',\n",
    "                    random_state=12345,\n",
    "                    probability=True)\n",
    "    \n",
    "    svc_pipe = Pipeline([\n",
    "        ('preprocessor', preprocessor),\n",
    "        ('model', estimator)\n",
    "    ])\n",
    "    \n",
    "    score = cross_val_score(svc_pipe, X_train, y_train, cv=5, scoring='f1').mean()\n",
    "    return score"
   ],
   "metadata": {
    "collapsed": false,
    "ExecuteTime": {
     "end_time": "2023-12-03T16:53:09.662864900Z",
     "start_time": "2023-12-03T16:53:09.584777Z"
    }
   }
  },
  {
   "cell_type": "code",
   "execution_count": 42,
   "outputs": [
    {
     "name": "stderr",
     "output_type": "stream",
     "text": [
      "[I 2023-12-03 19:53:09,607] A new study created in memory with name: SVC Optuna Optimization Class Weight\n"
     ]
    }
   ],
   "source": [
    "study_svc = optuna.create_study(study_name=\"SVC Optuna Optimization Class Weight\",\n",
    "                                    direction='maximize')"
   ],
   "metadata": {
    "collapsed": false,
    "ExecuteTime": {
     "end_time": "2023-12-03T16:53:09.662864900Z",
     "start_time": "2023-12-03T16:53:09.607054500Z"
    }
   }
  },
  {
   "cell_type": "code",
   "execution_count": 43,
   "outputs": [
    {
     "name": "stderr",
     "output_type": "stream",
     "text": [
      "[I 2023-12-03 19:54:48,015] Trial 0 finished with value: 0.579142140068793 and parameters: {'C': 1.5822154292987414}. Best is trial 0 with value: 0.579142140068793.\n",
      "[I 2023-12-03 19:56:27,095] Trial 1 finished with value: 0.5790597560663812 and parameters: {'C': 2.432172199409803}. Best is trial 0 with value: 0.579142140068793.\n",
      "[I 2023-12-03 19:58:15,785] Trial 2 finished with value: 0.578245022286653 and parameters: {'C': 1.8930135702679165}. Best is trial 0 with value: 0.579142140068793.\n",
      "[I 2023-12-03 20:00:16,159] Trial 3 finished with value: 0.5767165618889847 and parameters: {'C': 1.27964322402352}. Best is trial 0 with value: 0.579142140068793.\n",
      "[I 2023-12-03 20:02:00,707] Trial 4 finished with value: 0.57168004167917 and parameters: {'C': 0.6283721219958383}. Best is trial 0 with value: 0.579142140068793.\n",
      "[I 2023-12-03 20:03:34,218] Trial 5 finished with value: 0.5782320328367022 and parameters: {'C': 2.7757710749444917}. Best is trial 0 with value: 0.579142140068793.\n",
      "[I 2023-12-03 20:05:14,507] Trial 6 finished with value: 0.5775891658356949 and parameters: {'C': 1.49525599048686}. Best is trial 0 with value: 0.579142140068793.\n",
      "[I 2023-12-03 20:07:08,769] Trial 7 finished with value: 0.5649825375499867 and parameters: {'C': 0.3474631244120373}. Best is trial 0 with value: 0.579142140068793.\n",
      "[I 2023-12-03 20:08:57,729] Trial 8 finished with value: 0.5759272996171256 and parameters: {'C': 1.221495255299977}. Best is trial 0 with value: 0.579142140068793.\n",
      "[I 2023-12-03 20:10:58,421] Trial 9 finished with value: 0.5783606473481601 and parameters: {'C': 1.10190913945824}. Best is trial 0 with value: 0.579142140068793.\n"
     ]
    }
   ],
   "source": [
    "study_svc.optimize(optuna_optimize, n_trials=10)"
   ],
   "metadata": {
    "collapsed": false,
    "ExecuteTime": {
     "end_time": "2023-12-03T17:10:58.519908800Z",
     "start_time": "2023-12-03T16:53:09.623493300Z"
    }
   }
  },
  {
   "cell_type": "code",
   "execution_count": 44,
   "outputs": [
    {
     "name": "stdout",
     "output_type": "stream",
     "text": [
      "Наилучшие значения гиперпараметров SVC: {'C': 1.5822154292987414}\n",
      "f1_score на обучающем наборе: 0.579\n"
     ]
    }
   ],
   "source": [
    "print(\"Наилучшие значения гиперпараметров SVC: {}\".format(study_svc.best_params))\n",
    "print(\"f1_score на обучающем наборе: {:.3f}\". format(study_svc.best_value))"
   ],
   "metadata": {
    "collapsed": false,
    "ExecuteTime": {
     "end_time": "2023-12-03T17:10:58.667325Z",
     "start_time": "2023-12-03T17:10:58.529262100Z"
    }
   }
  },
  {
   "cell_type": "code",
   "execution_count": 45,
   "outputs": [],
   "source": [
    "with mlflow.start_run(nested=True,\n",
    "                      run_name='svc_pipeline_class_weight'):\n",
    "\n",
    "    best_params = study_svc.best_params\n",
    "    best_score = study_svc.best_value\n",
    "    mlflow.log_params(best_params)\n",
    "\n",
    "    svc_pipe_cw = Pipeline([\n",
    "        ('preprocessor', preprocessor),\n",
    "        ('model', SVC(**best_params,\n",
    "                      class_weight='balanced',\n",
    "                      random_state=12345,\n",
    "                      probability=True))\n",
    "    ])\n",
    "\n",
    "    svc_pipe_cw.fit(X_train, y_train)\n",
    "\n",
    "    pred_proba = svc_pipe_cw.predict_proba(X_test)[:, 1]\n",
    "    roc_auc_svc_cw = roc_auc_score(y_test, pred_proba)\n",
    "    \n",
    "    mlflow.log_metrics({\n",
    "        'f1_cv': best_score,\n",
    "        'roc_auc': roc_auc_svc_cw,\n",
    "        'balanced_accuracy': balanced_accuracy_score(y_test, np.round(pred_proba, 0)),\n",
    "        'f1': f1_score(y_test, np.round(pred_proba, 0))\n",
    "    })\n",
    "    \n",
    "    mlflow.sklearn.log_model(svc_pipe_cw, 'svc_pipeline_class_weight')"
   ],
   "metadata": {
    "collapsed": false,
    "ExecuteTime": {
     "end_time": "2023-12-03T17:11:47.132035200Z",
     "start_time": "2023-12-03T17:10:58.560931400Z"
    }
   }
  },
  {
   "cell_type": "markdown",
   "source": [
    "## 3.2 Генерация синтетических данных (SMOTE)\n",
    "### 3.2.1 Модель XGBoost"
   ],
   "metadata": {
    "collapsed": false
   }
  },
  {
   "cell_type": "code",
   "execution_count": 46,
   "outputs": [],
   "source": [
    "cat_pipeline = Pipeline([\n",
    "    ('enc', OneHotEncoder(handle_unknown='error', drop='first'))\n",
    "])\n",
    "\n",
    "num_pipeline = Pipeline([\n",
    "    ('imp', SimpleImputer(fill_value=-1, add_indicator=True)),\n",
    "    ('pt', PowerTransformer())\n",
    "])\n",
    "\n",
    "preprocessor = ColumnTransformer([\n",
    "    (\"cat\", cat_pipeline, categorical_features),\n",
    "    (\"num\", num_pipeline, numeric_features)\n",
    "], remainder='passthrough')"
   ],
   "metadata": {
    "collapsed": false,
    "ExecuteTime": {
     "end_time": "2023-12-03T17:17:58.960115100Z",
     "start_time": "2023-12-03T17:17:58.789195700Z"
    }
   }
  },
  {
   "cell_type": "code",
   "execution_count": 47,
   "outputs": [],
   "source": [
    "def optuna_optimize(trial):\n",
    "    param = {\n",
    "        'n_estimators': trial.suggest_int('n_estimators', 50, 500),\n",
    "        'max_depth': trial.suggest_int('max_depth', 2, 6),\n",
    "        'learning_rate': trial.suggest_float('learning_rate', 0.01, 1.0),\n",
    "        'gamma': trial.suggest_float('gamma', 0.0, 20.0),\n",
    "        'reg_lambda': trial.suggest_float('reg_lambda', 0.0, 1.0),\n",
    "        'min_child_weight': trial.suggest_float('min_child_weight', 0.0, 5.0)\n",
    "    }\n",
    "\n",
    "    estimator = xgb.XGBClassifier(**param,\n",
    "                                  random_state=12345)\n",
    "\n",
    "    xgb_pipe = Pipeline([\n",
    "        ('preprocessor', preprocessor),\n",
    "        ('smote', SMOTE(random_state=12345)),\n",
    "        ('model', estimator)\n",
    "    ])\n",
    "\n",
    "    score = cross_val_score(xgb_pipe, X_train, y_train, cv=5, scoring='f1').mean()\n",
    "    return score"
   ],
   "metadata": {
    "collapsed": false,
    "ExecuteTime": {
     "end_time": "2023-12-03T17:18:44.261590500Z",
     "start_time": "2023-12-03T17:18:44.115254900Z"
    }
   }
  },
  {
   "cell_type": "code",
   "execution_count": 48,
   "outputs": [
    {
     "name": "stderr",
     "output_type": "stream",
     "text": [
      "[I 2023-12-03 20:18:45,421] A new study created in memory with name: XGBoost Optuna Optimization SMOTE\n"
     ]
    }
   ],
   "source": [
    "study_xgb_smote = optuna.create_study(study_name=\"XGBoost Optuna Optimization SMOTE\",\n",
    "                                direction='maximize')"
   ],
   "metadata": {
    "collapsed": false,
    "ExecuteTime": {
     "end_time": "2023-12-03T17:18:45.542637900Z",
     "start_time": "2023-12-03T17:18:45.421897300Z"
    }
   }
  },
  {
   "cell_type": "code",
   "execution_count": 49,
   "outputs": [
    {
     "name": "stderr",
     "output_type": "stream",
     "text": [
      "[I 2023-12-03 20:18:50,277] Trial 0 finished with value: 0.6067810286132617 and parameters: {'n_estimators': 325, 'max_depth': 3, 'learning_rate': 0.5552289695695186, 'gamma': 7.085539405261545, 'reg_lambda': 0.7565890970113268, 'min_child_weight': 1.6430207551073224}. Best is trial 0 with value: 0.6067810286132617.\n",
      "[I 2023-12-03 20:18:52,274] Trial 1 finished with value: 0.6004717159796398 and parameters: {'n_estimators': 444, 'max_depth': 2, 'learning_rate': 0.8086159859074141, 'gamma': 8.569758292191006, 'reg_lambda': 0.36521665694688077, 'min_child_weight': 4.68535475734652}. Best is trial 0 with value: 0.6067810286132617.\n",
      "[I 2023-12-03 20:18:54,505] Trial 2 finished with value: 0.6077865991992317 and parameters: {'n_estimators': 300, 'max_depth': 6, 'learning_rate': 0.7286871216595251, 'gamma': 15.686326227495373, 'reg_lambda': 0.2177342261765738, 'min_child_weight': 3.315341890857664}. Best is trial 2 with value: 0.6077865991992317.\n",
      "[I 2023-12-03 20:18:57,278] Trial 3 finished with value: 0.6077628968757315 and parameters: {'n_estimators': 164, 'max_depth': 4, 'learning_rate': 0.7221130252349831, 'gamma': 14.811735316801787, 'reg_lambda': 0.21516696207620356, 'min_child_weight': 2.5703283073680776}. Best is trial 2 with value: 0.6077865991992317.\n",
      "[I 2023-12-03 20:18:59,648] Trial 4 finished with value: 0.592483750854652 and parameters: {'n_estimators': 255, 'max_depth': 6, 'learning_rate': 0.8119807888790348, 'gamma': 3.035076341473184, 'reg_lambda': 0.023429271298438636, 'min_child_weight': 0.2695918054407048}. Best is trial 2 with value: 0.6077865991992317.\n",
      "[I 2023-12-03 20:19:02,346] Trial 5 finished with value: 0.6082419768318166 and parameters: {'n_estimators': 176, 'max_depth': 5, 'learning_rate': 0.6307368484507344, 'gamma': 9.822329778159876, 'reg_lambda': 0.7142082152289297, 'min_child_weight': 1.4467187296763495}. Best is trial 5 with value: 0.6082419768318166.\n",
      "[I 2023-12-03 20:19:06,223] Trial 6 finished with value: 0.61101738784571 and parameters: {'n_estimators': 488, 'max_depth': 2, 'learning_rate': 0.2024933810515272, 'gamma': 17.499617045090584, 'reg_lambda': 0.4901590864657879, 'min_child_weight': 3.2934707569693265}. Best is trial 6 with value: 0.61101738784571.\n",
      "[I 2023-12-03 20:19:08,444] Trial 7 finished with value: 0.6002553965484568 and parameters: {'n_estimators': 104, 'max_depth': 5, 'learning_rate': 0.7821528203023372, 'gamma': 17.394239714352054, 'reg_lambda': 0.05536380619749215, 'min_child_weight': 2.548787147911715}. Best is trial 6 with value: 0.61101738784571.\n",
      "[I 2023-12-03 20:19:11,491] Trial 8 finished with value: 0.5941907066590261 and parameters: {'n_estimators': 220, 'max_depth': 4, 'learning_rate': 0.758471575055749, 'gamma': 0.7414160094554756, 'reg_lambda': 0.7467669176748094, 'min_child_weight': 4.05608043781255}. Best is trial 6 with value: 0.61101738784571.\n",
      "[I 2023-12-03 20:19:15,548] Trial 9 finished with value: 0.6071594451011191 and parameters: {'n_estimators': 494, 'max_depth': 4, 'learning_rate': 0.6161709796870827, 'gamma': 4.327170366941218, 'reg_lambda': 0.1910308654527102, 'min_child_weight': 4.4545457300780456}. Best is trial 6 with value: 0.61101738784571.\n",
      "[I 2023-12-03 20:19:19,263] Trial 10 finished with value: 0.6110761446223749 and parameters: {'n_estimators': 382, 'max_depth': 2, 'learning_rate': 0.17042850724846406, 'gamma': 19.824452855328396, 'reg_lambda': 0.9811647976168876, 'min_child_weight': 3.525963884845069}. Best is trial 10 with value: 0.6110761446223749.\n",
      "[I 2023-12-03 20:19:22,953] Trial 11 finished with value: 0.6091551927623529 and parameters: {'n_estimators': 390, 'max_depth': 2, 'learning_rate': 0.12796363050233506, 'gamma': 18.684088784089056, 'reg_lambda': 0.9716336968209912, 'min_child_weight': 3.6744572660801738}. Best is trial 10 with value: 0.6110761446223749.\n",
      "[I 2023-12-03 20:19:26,545] Trial 12 finished with value: 0.610203390053415 and parameters: {'n_estimators': 380, 'max_depth': 2, 'learning_rate': 0.20817773411750373, 'gamma': 13.603733067677005, 'reg_lambda': 0.5118981689734178, 'min_child_weight': 3.334887357654662}. Best is trial 10 with value: 0.6110761446223749.\n",
      "[I 2023-12-03 20:19:31,068] Trial 13 finished with value: 0.608321344494421 and parameters: {'n_estimators': 486, 'max_depth': 3, 'learning_rate': 0.3172622540617688, 'gamma': 19.630570949331318, 'reg_lambda': 0.5276028511555786, 'min_child_weight': 3.8847050762892996}. Best is trial 10 with value: 0.6110761446223749.\n",
      "[I 2023-12-03 20:19:35,304] Trial 14 finished with value: 0.6103984022888351 and parameters: {'n_estimators': 402, 'max_depth': 3, 'learning_rate': 0.050243169414205396, 'gamma': 19.82672723512509, 'reg_lambda': 0.9377829172984035, 'min_child_weight': 4.985223976704807}. Best is trial 10 with value: 0.6110761446223749.\n",
      "[I 2023-12-03 20:19:39,198] Trial 15 finished with value: 0.607713887714451 and parameters: {'n_estimators': 345, 'max_depth': 2, 'learning_rate': 0.37776430013286566, 'gamma': 13.601353625446528, 'reg_lambda': 0.6078530219698985, 'min_child_weight': 3.015739560420172}. Best is trial 10 with value: 0.6110761446223749.\n",
      "[I 2023-12-03 20:19:43,889] Trial 16 finished with value: 0.6104382545320272 and parameters: {'n_estimators': 439, 'max_depth': 3, 'learning_rate': 0.02773883953845868, 'gamma': 16.42324202289343, 'reg_lambda': 0.41834085365027973, 'min_child_weight': 4.247784692421776}. Best is trial 10 with value: 0.6110761446223749.\n",
      "[I 2023-12-03 20:19:47,587] Trial 17 finished with value: 0.6039753275577046 and parameters: {'n_estimators': 450, 'max_depth': 2, 'learning_rate': 0.4232656843972721, 'gamma': 12.012918286617028, 'reg_lambda': 0.998802987984091, 'min_child_weight': 3.6538246562195114}. Best is trial 10 with value: 0.6110761446223749.\n",
      "[I 2023-12-03 20:19:50,968] Trial 18 finished with value: 0.6104109773034889 and parameters: {'n_estimators': 354, 'max_depth': 3, 'learning_rate': 0.2759273046492197, 'gamma': 17.99484871609863, 'reg_lambda': 0.843407134142719, 'min_child_weight': 3.002109760089374}. Best is trial 10 with value: 0.6110761446223749.\n",
      "[I 2023-12-03 20:19:54,636] Trial 19 finished with value: 0.6113000463524483 and parameters: {'n_estimators': 425, 'max_depth': 2, 'learning_rate': 0.18374718725959724, 'gamma': 16.4748716151177, 'reg_lambda': 0.6134181697882387, 'min_child_weight': 4.150655851144628}. Best is trial 19 with value: 0.6113000463524483.\n",
      "[I 2023-12-03 20:19:57,606] Trial 20 finished with value: 0.6157600231628206 and parameters: {'n_estimators': 266, 'max_depth': 5, 'learning_rate': 0.4525631093502167, 'gamma': 15.934672005849913, 'reg_lambda': 0.8649693825050085, 'min_child_weight': 4.388573047182746}. Best is trial 20 with value: 0.6157600231628206.\n",
      "[I 2023-12-03 20:20:00,863] Trial 21 finished with value: 0.6177910001949112 and parameters: {'n_estimators': 269, 'max_depth': 5, 'learning_rate': 0.42880257158836566, 'gamma': 19.900090573709512, 'reg_lambda': 0.8626394271562083, 'min_child_weight': 4.374521830990471}. Best is trial 21 with value: 0.6177910001949112.\n",
      "[I 2023-12-03 20:20:04,035] Trial 22 finished with value: 0.6164764768454221 and parameters: {'n_estimators': 264, 'max_depth': 5, 'learning_rate': 0.45658670903959653, 'gamma': 16.31040209196592, 'reg_lambda': 0.8661977247910404, 'min_child_weight': 4.99135309986703}. Best is trial 21 with value: 0.6177910001949112.\n",
      "[I 2023-12-03 20:20:07,077] Trial 23 finished with value: 0.6128319303512659 and parameters: {'n_estimators': 249, 'max_depth': 5, 'learning_rate': 0.4689788381912922, 'gamma': 14.791967169693272, 'reg_lambda': 0.8445890446128179, 'min_child_weight': 4.896223120326727}. Best is trial 21 with value: 0.6177910001949112.\n",
      "[I 2023-12-03 20:20:09,888] Trial 24 finished with value: 0.6191617009230568 and parameters: {'n_estimators': 189, 'max_depth': 5, 'learning_rate': 0.4870005497311766, 'gamma': 18.051110643129835, 'reg_lambda': 0.8703233632295515, 'min_child_weight': 4.528907392142994}. Best is trial 24 with value: 0.6191617009230568.\n",
      "[I 2023-12-03 20:20:12,744] Trial 25 finished with value: 0.607402123111367 and parameters: {'n_estimators': 212, 'max_depth': 6, 'learning_rate': 0.5349791055784753, 'gamma': 18.298815945835265, 'reg_lambda': 0.9009083977869822, 'min_child_weight': 4.632646426191933}. Best is trial 24 with value: 0.6191617009230568.\n",
      "[I 2023-12-03 20:20:15,185] Trial 26 finished with value: 0.6147717021214067 and parameters: {'n_estimators': 126, 'max_depth': 5, 'learning_rate': 0.3817735898667981, 'gamma': 18.469941150131618, 'reg_lambda': 0.7946994510139955, 'min_child_weight': 4.853223895645815}. Best is trial 24 with value: 0.6191617009230568.\n",
      "[I 2023-12-03 20:20:18,280] Trial 27 finished with value: 0.6187014994544995 and parameters: {'n_estimators': 293, 'max_depth': 5, 'learning_rate': 0.4717639860179965, 'gamma': 12.271774120460844, 'reg_lambda': 0.9234854008380378, 'min_child_weight': 4.40526772804483}. Best is trial 24 with value: 0.6191617009230568.\n",
      "[I 2023-12-03 20:20:20,423] Trial 28 finished with value: 0.6138421366388946 and parameters: {'n_estimators': 59, 'max_depth': 6, 'learning_rate': 0.5516935623500263, 'gamma': 12.021639072124707, 'reg_lambda': 0.9142604319060885, 'min_child_weight': 4.395365970493638}. Best is trial 24 with value: 0.6191617009230568.\n",
      "[I 2023-12-03 20:20:23,485] Trial 29 finished with value: 0.6056706954255815 and parameters: {'n_estimators': 302, 'max_depth': 4, 'learning_rate': 0.9134532994094842, 'gamma': 7.813120152750879, 'reg_lambda': 0.7733907519756764, 'min_child_weight': 3.9520135772862757}. Best is trial 24 with value: 0.6191617009230568.\n",
      "[I 2023-12-03 20:20:26,290] Trial 30 finished with value: 0.6143294276289006 and parameters: {'n_estimators': 211, 'max_depth': 5, 'learning_rate': 0.5071974440292057, 'gamma': 10.830856350546977, 'reg_lambda': 0.6944339001076298, 'min_child_weight': 4.585834588149921}. Best is trial 24 with value: 0.6191617009230568.\n",
      "[I 2023-12-03 20:20:29,208] Trial 31 finished with value: 0.6122176249458651 and parameters: {'n_estimators': 306, 'max_depth': 5, 'learning_rate': 0.48927716347645156, 'gamma': 17.033240324947606, 'reg_lambda': 0.8658791438256128, 'min_child_weight': 4.923961000889285}. Best is trial 24 with value: 0.6191617009230568.\n",
      "[I 2023-12-03 20:20:32,104] Trial 32 finished with value: 0.6167285318861766 and parameters: {'n_estimators': 234, 'max_depth': 5, 'learning_rate': 0.4131768192510025, 'gamma': 14.989854901170638, 'reg_lambda': 0.816644052127764, 'min_child_weight': 4.581839863948186}. Best is trial 24 with value: 0.6191617009230568.\n",
      "[I 2023-12-03 20:20:34,853] Trial 33 finished with value: 0.6167810941161926 and parameters: {'n_estimators': 180, 'max_depth': 6, 'learning_rate': 0.3841235550814931, 'gamma': 14.749715776818851, 'reg_lambda': 0.8139701679701568, 'min_child_weight': 4.192480756911917}. Best is trial 24 with value: 0.6191617009230568.\n",
      "[I 2023-12-03 20:20:37,828] Trial 34 finished with value: 0.617699815698599 and parameters: {'n_estimators': 176, 'max_depth': 6, 'learning_rate': 0.33750574628479224, 'gamma': 13.775314058903003, 'reg_lambda': 0.9334746318121693, 'min_child_weight': 4.181951329451359}. Best is trial 24 with value: 0.6191617009230568.\n",
      "[I 2023-12-03 20:20:40,630] Trial 35 finished with value: 0.6174253388692209 and parameters: {'n_estimators': 138, 'max_depth': 6, 'learning_rate': 0.33233788547907556, 'gamma': 13.418332455527377, 'reg_lambda': 0.9358887386264209, 'min_child_weight': 3.8482604907063394}. Best is trial 24 with value: 0.6191617009230568.\n",
      "[I 2023-12-03 20:20:43,756] Trial 36 finished with value: 0.6155241075224527 and parameters: {'n_estimators': 283, 'max_depth': 6, 'learning_rate': 0.6082992982797513, 'gamma': 9.789527537306714, 'reg_lambda': 0.9229905558903035, 'min_child_weight': 4.2537334354766}. Best is trial 24 with value: 0.6191617009230568.\n",
      "[I 2023-12-03 20:20:46,612] Trial 37 finished with value: 0.6119377068203408 and parameters: {'n_estimators': 180, 'max_depth': 4, 'learning_rate': 0.5278182509975814, 'gamma': 18.957012561310616, 'reg_lambda': 0.9941430174849621, 'min_child_weight': 4.6373213011634675}. Best is trial 24 with value: 0.6191617009230568.\n",
      "[I 2023-12-03 20:20:49,966] Trial 38 finished with value: 0.6088569085433274 and parameters: {'n_estimators': 331, 'max_depth': 4, 'learning_rate': 0.5907699201784133, 'gamma': 17.421081571010774, 'reg_lambda': 0.7562576510451429, 'min_child_weight': 4.015623678995982}. Best is trial 24 with value: 0.6191617009230568.\n",
      "[I 2023-12-03 20:20:52,822] Trial 39 finished with value: 0.6195633479591481 and parameters: {'n_estimators': 154, 'max_depth': 6, 'learning_rate': 0.30099077960836806, 'gamma': 15.300082440264545, 'reg_lambda': 0.9103451312064809, 'min_child_weight': 4.438132451459543}. Best is trial 39 with value: 0.6195633479591481.\n",
      "[I 2023-12-03 20:20:55,286] Trial 40 finished with value: 0.6123269441361789 and parameters: {'n_estimators': 90, 'max_depth': 5, 'learning_rate': 0.27535623884343885, 'gamma': 17.13214767061129, 'reg_lambda': 0.699823113137705, 'min_child_weight': 4.651414524759753}. Best is trial 39 with value: 0.6195633479591481.\n",
      "[I 2023-12-03 20:20:58,282] Trial 41 finished with value: 0.618716346156646 and parameters: {'n_estimators': 159, 'max_depth': 6, 'learning_rate': 0.34837617934192144, 'gamma': 15.890844593119395, 'reg_lambda': 0.9011023510436317, 'min_child_weight': 4.241554832244034}. Best is trial 39 with value: 0.6195633479591481.\n",
      "[I 2023-12-03 20:21:01,117] Trial 42 finished with value: 0.6132908689236484 and parameters: {'n_estimators': 142, 'max_depth': 6, 'learning_rate': 0.43356549811572703, 'gamma': 15.830731082356413, 'reg_lambda': 0.8957205814939234, 'min_child_weight': 4.396547771206897}. Best is trial 39 with value: 0.6195633479591481.\n",
      "[I 2023-12-03 20:21:03,974] Trial 43 finished with value: 0.6042590492180673 and parameters: {'n_estimators': 197, 'max_depth': 6, 'learning_rate': 0.507405065071495, 'gamma': 18.968944061042173, 'reg_lambda': 0.8041439041694611, 'min_child_weight': 3.920954377303365}. Best is trial 39 with value: 0.6195633479591481.\n",
      "[I 2023-12-03 20:21:06,659] Trial 44 finished with value: 0.6022419937897208 and parameters: {'n_estimators': 154, 'max_depth': 5, 'learning_rate': 0.6858100304168617, 'gamma': 17.62897761046964, 'reg_lambda': 0.9646074495968664, 'min_child_weight': 4.772890079234274}. Best is trial 39 with value: 0.6195633479591481.\n",
      "[I 2023-12-03 20:21:09,107] Trial 45 finished with value: 0.6120550548756457 and parameters: {'n_estimators': 109, 'max_depth': 6, 'learning_rate': 0.48948045496867193, 'gamma': 15.215470202571465, 'reg_lambda': 0.741658440864114, 'min_child_weight': 3.799825366112548}. Best is trial 39 with value: 0.6195633479591481.\n",
      "[I 2023-12-03 20:21:12,139] Trial 46 finished with value: 0.6078576012093014 and parameters: {'n_estimators': 233, 'max_depth': 4, 'learning_rate': 0.2655972553284713, 'gamma': 19.83831028705127, 'reg_lambda': 0.8833677294313529, 'min_child_weight': 4.437047317430476}. Best is trial 39 with value: 0.6195633479591481.\n",
      "[I 2023-12-03 20:21:15,674] Trial 47 finished with value: 0.6198845441664522 and parameters: {'n_estimators': 287, 'max_depth': 6, 'learning_rate': 0.34528484520522834, 'gamma': 18.149139437094625, 'reg_lambda': 0.9586093236419174, 'min_child_weight': 3.6245557858818236}. Best is trial 47 with value: 0.6198845441664522.\n",
      "[I 2023-12-03 20:21:18,337] Trial 48 finished with value: 0.611633136908908 and parameters: {'n_estimators': 83, 'max_depth': 6, 'learning_rate': 0.3703388304727008, 'gamma': 15.674507348002171, 'reg_lambda': 0.9500733619757893, 'min_child_weight': 3.633495438102466}. Best is trial 47 with value: 0.6198845441664522.\n",
      "[I 2023-12-03 20:21:21,716] Trial 49 finished with value: 0.6155967743688416 and parameters: {'n_estimators': 285, 'max_depth': 6, 'learning_rate': 0.23778157503221461, 'gamma': 16.89674698654833, 'reg_lambda': 0.9976146679066598, 'min_child_weight': 3.4125283314003423}. Best is trial 47 with value: 0.6198845441664522.\n",
      "[I 2023-12-03 20:21:25,106] Trial 50 finished with value: 0.6133720681881568 and parameters: {'n_estimators': 325, 'max_depth': 6, 'learning_rate': 0.294976568734072, 'gamma': 17.528795013772843, 'reg_lambda': 0.953736757194712, 'min_child_weight': 4.065820464733752}. Best is trial 47 with value: 0.6198845441664522.\n",
      "[I 2023-12-03 20:21:27,737] Trial 51 finished with value: 0.6124928208866872 and parameters: {'n_estimators': 161, 'max_depth': 5, 'learning_rate': 0.3386014438304368, 'gamma': 18.321405897298586, 'reg_lambda': 0.8869074601016345, 'min_child_weight': 4.340827914919305}. Best is trial 47 with value: 0.6198845441664522.\n",
      "[I 2023-12-03 20:21:30,445] Trial 52 finished with value: 0.6148401558926125 and parameters: {'n_estimators': 202, 'max_depth': 5, 'learning_rate': 0.41114649688785787, 'gamma': 17.913109415047394, 'reg_lambda': 0.8363186375512325, 'min_child_weight': 4.547955274765432}. Best is trial 47 with value: 0.6198845441664522.\n",
      "[I 2023-12-03 20:21:33,418] Trial 53 finished with value: 0.6205259765257622 and parameters: {'n_estimators': 237, 'max_depth': 6, 'learning_rate': 0.3506458761688811, 'gamma': 18.992953182514217, 'reg_lambda': 0.9064275704130761, 'min_child_weight': 4.768610727456263}. Best is trial 53 with value: 0.6205259765257622.\n",
      "[I 2023-12-03 20:21:36,460] Trial 54 finished with value: 0.6131294723753614 and parameters: {'n_estimators': 234, 'max_depth': 6, 'learning_rate': 0.30832410597520843, 'gamma': 16.458928471867463, 'reg_lambda': 0.9133401629224329, 'min_child_weight': 4.770076647601623}. Best is trial 53 with value: 0.6205259765257622.\n",
      "[I 2023-12-03 20:21:39,324] Trial 55 finished with value: 0.6151538070207646 and parameters: {'n_estimators': 192, 'max_depth': 6, 'learning_rate': 0.24356490443594325, 'gamma': 19.242600288087015, 'reg_lambda': 0.9642346094168567, 'min_child_weight': 4.094630470132522}. Best is trial 53 with value: 0.6205259765257622.\n",
      "[I 2023-12-03 20:21:42,239] Trial 56 finished with value: 0.6147740200209771 and parameters: {'n_estimators': 245, 'max_depth': 6, 'learning_rate': 0.3653355956780897, 'gamma': 19.082388572057212, 'reg_lambda': 0.9057353581925569, 'min_child_weight': 4.792614562763873}. Best is trial 53 with value: 0.6205259765257622.\n",
      "[I 2023-12-03 20:21:45,588] Trial 57 finished with value: 0.6119183705798311 and parameters: {'n_estimators': 317, 'max_depth': 6, 'learning_rate': 0.3129478802456961, 'gamma': 18.17354849295448, 'reg_lambda': 0.7880570911645957, 'min_child_weight': 3.7561666016611697}. Best is trial 53 with value: 0.6205259765257622.\n",
      "[I 2023-12-03 20:21:48,419] Trial 58 finished with value: 0.6160392172505769 and parameters: {'n_estimators': 223, 'max_depth': 6, 'learning_rate': 0.4636859206108592, 'gamma': 16.777843967372938, 'reg_lambda': 0.8227954300005969, 'min_child_weight': 4.260106450597806}. Best is trial 53 with value: 0.6205259765257622.\n",
      "[I 2023-12-03 20:21:50,903] Trial 59 finished with value: 0.6156532479549834 and parameters: {'n_estimators': 124, 'max_depth': 6, 'learning_rate': 0.39655318189457883, 'gamma': 15.683422317125174, 'reg_lambda': 0.9720666571572524, 'min_child_weight': 4.536651415855129}. Best is trial 53 with value: 0.6205259765257622.\n",
      "[I 2023-12-03 20:21:53,868] Trial 60 finished with value: 0.6141250762440538 and parameters: {'n_estimators': 254, 'max_depth': 5, 'learning_rate': 0.34522320350498403, 'gamma': 18.50044260987254, 'reg_lambda': 0.8630997900957025, 'min_child_weight': 3.519143248568054}. Best is trial 53 with value: 0.6205259765257622.\n",
      "[I 2023-12-03 20:21:56,818] Trial 61 finished with value: 0.6100137871524625 and parameters: {'n_estimators': 274, 'max_depth': 5, 'learning_rate': 0.4217071501575457, 'gamma': 19.988875640335213, 'reg_lambda': 0.8485058817490665, 'min_child_weight': 4.440493617479063}. Best is trial 53 with value: 0.6205259765257622.\n",
      "[I 2023-12-03 20:22:00,235] Trial 62 finished with value: 0.614190933165079 and parameters: {'n_estimators': 358, 'max_depth': 5, 'learning_rate': 0.44957951657796075, 'gamma': 19.319179936781786, 'reg_lambda': 0.8857630753755474, 'min_child_weight': 4.990348583975221}. Best is trial 53 with value: 0.6205259765257622.\n",
      "[I 2023-12-03 20:22:03,330] Trial 63 finished with value: 0.6135949657541548 and parameters: {'n_estimators': 284, 'max_depth': 5, 'learning_rate': 0.39446508268751757, 'gamma': 17.80136936323622, 'reg_lambda': 0.9343802244777127, 'min_child_weight': 4.751718468159788}. Best is trial 53 with value: 0.6205259765257622.\n",
      "[I 2023-12-03 20:22:06,459] Trial 64 finished with value: 0.6139126129309622 and parameters: {'n_estimators': 296, 'max_depth': 4, 'learning_rate': 0.3568908570396026, 'gamma': 18.688768159800365, 'reg_lambda': 0.8365888041268108, 'min_child_weight': 4.030806171370027}. Best is trial 53 with value: 0.6205259765257622.\n",
      "[I 2023-12-03 20:22:09,482] Trial 65 finished with value: 0.6130782419540426 and parameters: {'n_estimators': 261, 'max_depth': 6, 'learning_rate': 0.4242265647867283, 'gamma': 19.52934529330758, 'reg_lambda': 0.9651008756439932, 'min_child_weight': 4.33227442760097}. Best is trial 53 with value: 0.6205259765257622.\n",
      "[I 2023-12-03 20:22:12,209] Trial 66 finished with value: 0.6168458022439709 and parameters: {'n_estimators': 155, 'max_depth': 5, 'learning_rate': 0.4812410687236707, 'gamma': 17.214278607440043, 'reg_lambda': 0.9122512732971276, 'min_child_weight': 4.184659443195409}. Best is trial 53 with value: 0.6205259765257622.\n",
      "[I 2023-12-03 20:22:15,177] Trial 67 finished with value: 0.616441900860033 and parameters: {'n_estimators': 217, 'max_depth': 6, 'learning_rate': 0.2965111521778147, 'gamma': 16.37405641226216, 'reg_lambda': 0.8613003084771316, 'min_child_weight': 4.539344165376402}. Best is trial 53 with value: 0.6205259765257622.\n",
      "[I 2023-12-03 20:22:17,857] Trial 68 finished with value: 0.611422752018796 and parameters: {'n_estimators': 185, 'max_depth': 6, 'learning_rate': 0.445387221426728, 'gamma': 18.08403227101689, 'reg_lambda': 0.7868228322731261, 'min_child_weight': 4.705537881297338}. Best is trial 53 with value: 0.6205259765257622.\n",
      "[I 2023-12-03 20:22:20,457] Trial 69 finished with value: 0.6198056161153288 and parameters: {'n_estimators': 165, 'max_depth': 5, 'learning_rate': 0.5783344998304177, 'gamma': 14.117462652794366, 'reg_lambda': 0.9913567988289508, 'min_child_weight': 3.8913529622503287}. Best is trial 53 with value: 0.6205259765257622.\n",
      "[I 2023-12-03 20:22:22,989] Trial 70 finished with value: 0.6200707519601195 and parameters: {'n_estimators': 170, 'max_depth': 6, 'learning_rate': 0.5682829980670806, 'gamma': 14.301542927979572, 'reg_lambda': 0.9851162912069702, 'min_child_weight': 3.860209151491674}. Best is trial 53 with value: 0.6205259765257622.\n",
      "[I 2023-12-03 20:22:25,598] Trial 71 finished with value: 0.6165527316343085 and parameters: {'n_estimators': 168, 'max_depth': 6, 'learning_rate': 0.563965996454324, 'gamma': 14.3612591467165, 'reg_lambda': 0.9846225257916403, 'min_child_weight': 3.917818710935101}. Best is trial 53 with value: 0.6205259765257622.\n",
      "[I 2023-12-03 20:22:28,181] Trial 72 finished with value: 0.6150424129720589 and parameters: {'n_estimators': 141, 'max_depth': 6, 'learning_rate': 0.5683062020843205, 'gamma': 14.105614089378635, 'reg_lambda': 0.9347327144655894, 'min_child_weight': 3.808737789786408}. Best is trial 53 with value: 0.6205259765257622.\n",
      "[I 2023-12-03 20:22:30,502] Trial 73 finished with value: 0.6087556375654536 and parameters: {'n_estimators': 122, 'max_depth': 6, 'learning_rate': 0.6657358800708444, 'gamma': 12.968443453743465, 'reg_lambda': 0.9874358578609712, 'min_child_weight': 3.1901600755067223}. Best is trial 53 with value: 0.6205259765257622.\n",
      "[I 2023-12-03 20:22:33,203] Trial 74 finished with value: 0.61595224439197 and parameters: {'n_estimators': 170, 'max_depth': 6, 'learning_rate': 0.5299501134549578, 'gamma': 15.377710309710412, 'reg_lambda': 0.9452518496291776, 'min_child_weight': 4.129516826257521}. Best is trial 53 with value: 0.6205259765257622.\n",
      "[I 2023-12-03 20:22:35,969] Trial 75 finished with value: 0.6132367037203303 and parameters: {'n_estimators': 200, 'max_depth': 5, 'learning_rate': 0.6293811926941522, 'gamma': 14.431992526002198, 'reg_lambda': 0.8937950819519721, 'min_child_weight': 3.652550430470032}. Best is trial 53 with value: 0.6205259765257622.\n",
      "[I 2023-12-03 20:22:38,533] Trial 76 finished with value: 0.6104811968642675 and parameters: {'n_estimators': 152, 'max_depth': 6, 'learning_rate': 0.5907223364675276, 'gamma': 15.21935799443036, 'reg_lambda': 0.9971537591517542, 'min_child_weight': 3.9957688091139474}. Best is trial 53 with value: 0.6205259765257622.\n",
      "[I 2023-12-03 20:22:41,227] Trial 77 finished with value: 0.6125069651804603 and parameters: {'n_estimators': 186, 'max_depth': 4, 'learning_rate': 0.5055523523380224, 'gamma': 13.052687464394044, 'reg_lambda': 0.9203882822985926, 'min_child_weight': 4.209157913722674}. Best is trial 53 with value: 0.6205259765257622.\n",
      "[I 2023-12-03 20:22:43,565] Trial 78 finished with value: 0.6103364825898445 and parameters: {'n_estimators': 102, 'max_depth': 3, 'learning_rate': 0.4727335400988358, 'gamma': 16.17850573831735, 'reg_lambda': 0.9526330543692341, 'min_child_weight': 4.2912930093320965}. Best is trial 53 with value: 0.6205259765257622.\n",
      "[I 2023-12-03 20:22:45,820] Trial 79 finished with value: 0.6118895095278439 and parameters: {'n_estimators': 132, 'max_depth': 5, 'learning_rate': 0.5446013216418392, 'gamma': 14.695947632248867, 'reg_lambda': 0.87665326024595, 'min_child_weight': 4.877168986731709}. Best is trial 53 with value: 0.6205259765257622.\n",
      "[I 2023-12-03 20:22:48,054] Trial 80 finished with value: 0.6117256119376719 and parameters: {'n_estimators': 210, 'max_depth': 6, 'learning_rate': 0.36550150051397406, 'gamma': 16.043967281428987, 'reg_lambda': 0.9695728556799903, 'min_child_weight': 4.4884576184007825}. Best is trial 53 with value: 0.6205259765257622.\n",
      "[I 2023-12-03 20:22:50,920] Trial 81 finished with value: 0.6117034940117556 and parameters: {'n_estimators': 245, 'max_depth': 5, 'learning_rate': 0.3957257883532039, 'gamma': 18.617514462419596, 'reg_lambda': 0.9153784374090954, 'min_child_weight': 4.651697734511282}. Best is trial 53 with value: 0.6205259765257622.\n",
      "[I 2023-12-03 20:22:54,201] Trial 82 finished with value: 0.6111288852381815 and parameters: {'n_estimators': 313, 'max_depth': 5, 'learning_rate': 0.3310768016334889, 'gamma': 13.977847728112975, 'reg_lambda': 0.8531329431998641, 'min_child_weight': 4.44210992037123}. Best is trial 53 with value: 0.6205259765257622.\n",
      "[I 2023-12-03 20:22:57,360] Trial 83 finished with value: 0.6164527147198468 and parameters: {'n_estimators': 294, 'max_depth': 5, 'learning_rate': 0.4423120207184188, 'gamma': 17.266595265944282, 'reg_lambda': 0.8149120577944682, 'min_child_weight': 3.9398060443007905}. Best is trial 53 with value: 0.6205259765257622.\n",
      "[I 2023-12-03 20:23:00,463] Trial 84 finished with value: 0.6089697178615563 and parameters: {'n_estimators': 270, 'max_depth': 6, 'learning_rate': 0.5083867763508865, 'gamma': 19.4688621143624, 'reg_lambda': 0.8928894248884374, 'min_child_weight': 4.382031475085903}. Best is trial 53 with value: 0.6205259765257622.\n",
      "[I 2023-12-03 20:23:03,063] Trial 85 finished with value: 0.617570521414588 and parameters: {'n_estimators': 169, 'max_depth': 5, 'learning_rate': 0.4105503067107936, 'gamma': 15.190255309164362, 'reg_lambda': 0.951209397051455, 'min_child_weight': 4.068371872663418}. Best is trial 53 with value: 0.6205259765257622.\n",
      "[I 2023-12-03 20:23:06,341] Trial 86 finished with value: 0.6142462315047059 and parameters: {'n_estimators': 336, 'max_depth': 6, 'learning_rate': 0.3792716016823372, 'gamma': 16.668876044967824, 'reg_lambda': 0.9990789957912548, 'min_child_weight': 4.302253695824693}. Best is trial 53 with value: 0.6205259765257622.\n",
      "[I 2023-12-03 20:23:08,874] Trial 87 finished with value: 0.6079727147582343 and parameters: {'n_estimators': 146, 'max_depth': 4, 'learning_rate': 0.48427212880689086, 'gamma': 17.742267641176618, 'reg_lambda': 0.9264468675320653, 'min_child_weight': 4.652974219332482}. Best is trial 53 with value: 0.6205259765257622.\n",
      "[I 2023-12-03 20:23:11,246] Trial 88 finished with value: 0.6168222837600524 and parameters: {'n_estimators': 112, 'max_depth': 6, 'learning_rate': 0.32837470678816216, 'gamma': 18.837240731445778, 'reg_lambda': 0.8909684334446853, 'min_child_weight': 4.876888018919827}. Best is trial 53 with value: 0.6205259765257622.\n",
      "[I 2023-12-03 20:23:14,060] Trial 89 finished with value: 0.6171735650238168 and parameters: {'n_estimators': 227, 'max_depth': 5, 'learning_rate': 0.5253136514240734, 'gamma': 15.7118101485901, 'reg_lambda': 0.8726646761789187, 'min_child_weight': 3.735336993804786}. Best is trial 53 with value: 0.6205259765257622.\n",
      "[I 2023-12-03 20:23:17,002] Trial 90 finished with value: 0.6109283833184072 and parameters: {'n_estimators': 245, 'max_depth': 6, 'learning_rate': 0.46083799902742917, 'gamma': 16.890952043084713, 'reg_lambda': 0.8294310043258617, 'min_child_weight': 3.8254131220448424}. Best is trial 53 with value: 0.6205259765257622.\n",
      "[I 2023-12-03 20:23:19,678] Trial 91 finished with value: 0.6211766682469266 and parameters: {'n_estimators': 163, 'max_depth': 6, 'learning_rate': 0.3454572691994858, 'gamma': 13.775620655694107, 'reg_lambda': 0.9352194590925423, 'min_child_weight': 4.160391368313261}. Best is trial 91 with value: 0.6211766682469266.\n",
      "[I 2023-12-03 20:23:22,468] Trial 92 finished with value: 0.615283723586717 and parameters: {'n_estimators': 188, 'max_depth': 6, 'learning_rate': 0.3484580179847844, 'gamma': 13.55620731898254, 'reg_lambda': 0.9743617837181439, 'min_child_weight': 4.113701919191237}. Best is trial 91 with value: 0.6211766682469266.\n",
      "[I 2023-12-03 20:23:25,191] Trial 93 finished with value: 0.6128434653042345 and parameters: {'n_estimators': 162, 'max_depth': 6, 'learning_rate': 0.30128644355994744, 'gamma': 14.680424350513153, 'reg_lambda': 0.9466112996322988, 'min_child_weight': 4.556136115276675}. Best is trial 91 with value: 0.6211766682469266.\n",
      "[I 2023-12-03 20:23:27,979] Trial 94 finished with value: 0.620725419563008 and parameters: {'n_estimators': 174, 'max_depth': 6, 'learning_rate': 0.35361784420335546, 'gamma': 12.503810738960713, 'reg_lambda': 0.9131688914156598, 'min_child_weight': 4.255308033998272}. Best is trial 91 with value: 0.6211766682469266.\n",
      "[I 2023-12-03 20:23:30,713] Trial 95 finished with value: 0.6180479704339229 and parameters: {'n_estimators': 176, 'max_depth': 6, 'learning_rate': 0.28011498360880854, 'gamma': 12.437848668767701, 'reg_lambda': 0.9112707013720145, 'min_child_weight': 4.230669597325959}. Best is trial 91 with value: 0.6211766682469266.\n",
      "[I 2023-12-03 20:23:33,576] Trial 96 finished with value: 0.6172814749361726 and parameters: {'n_estimators': 198, 'max_depth': 6, 'learning_rate': 0.3164738861188718, 'gamma': 11.49518644262734, 'reg_lambda': 0.93379632900063, 'min_child_weight': 3.921913337196325}. Best is trial 91 with value: 0.6211766682469266.\n",
      "[I 2023-12-03 20:23:36,202] Trial 97 finished with value: 0.6201930691483656 and parameters: {'n_estimators': 135, 'max_depth': 6, 'learning_rate': 0.3560860877974947, 'gamma': 13.868703305562269, 'reg_lambda': 0.9731435516695212, 'min_child_weight': 4.336768701662803}. Best is trial 91 with value: 0.6211766682469266.\n",
      "[I 2023-12-03 20:23:38,797] Trial 98 finished with value: 0.6162025719526197 and parameters: {'n_estimators': 133, 'max_depth': 6, 'learning_rate': 0.361665578934214, 'gamma': 14.040732754778853, 'reg_lambda': 0.9746510139121818, 'min_child_weight': 4.1450976158104496}. Best is trial 91 with value: 0.6211766682469266.\n",
      "[I 2023-12-03 20:23:41,525] Trial 99 finished with value: 0.6161703591038238 and parameters: {'n_estimators': 154, 'max_depth': 6, 'learning_rate': 0.24139548648076795, 'gamma': 13.161282923760151, 'reg_lambda': 0.9453904207870919, 'min_child_weight': 4.477780193201455}. Best is trial 91 with value: 0.6211766682469266.\n"
     ]
    }
   ],
   "source": [
    "study_xgb_smote.optimize(optuna_optimize, n_trials=100)"
   ],
   "metadata": {
    "collapsed": false,
    "ExecuteTime": {
     "end_time": "2023-12-03T17:23:41.542350600Z",
     "start_time": "2023-12-03T17:18:46.798708900Z"
    }
   }
  },
  {
   "cell_type": "code",
   "execution_count": 50,
   "outputs": [
    {
     "name": "stdout",
     "output_type": "stream",
     "text": [
      "Наилучшие значения гиперпараметров XGBoost: {'n_estimators': 163, 'max_depth': 6, 'learning_rate': 0.3454572691994858, 'gamma': 13.775620655694107, 'reg_lambda': 0.9352194590925423, 'min_child_weight': 4.160391368313261}\n",
      "f1_score на обучающем наборе: 0.621\n"
     ]
    }
   ],
   "source": [
    "print(\"Наилучшие значения гиперпараметров XGBoost: {}\".format(study_xgb_smote.best_params))\n",
    "print(\"f1_score на обучающем наборе: {:.3f}\". format(study_xgb_smote.best_value))"
   ],
   "metadata": {
    "collapsed": false,
    "ExecuteTime": {
     "end_time": "2023-12-03T17:51:17.080298100Z",
     "start_time": "2023-12-03T17:51:16.840499200Z"
    }
   }
  },
  {
   "cell_type": "code",
   "execution_count": 51,
   "outputs": [],
   "source": [
    "with mlflow.start_run(nested=True,\n",
    "                      run_name='xgb_pipeline_smote'):\n",
    "\n",
    "    best_params = study_xgb_smote.best_params\n",
    "    best_score = study_xgb_smote.best_value\n",
    "    mlflow.log_params(best_params)\n",
    "\n",
    "    xgb_pipe_sm = Pipeline([\n",
    "        ('preprocessor', preprocessor),\n",
    "        ('smote', SMOTE(random_state=12345)),\n",
    "        ('model', xgb.XGBClassifier(**best_params,\n",
    "                                    random_state=12345))\n",
    "    ])\n",
    "\n",
    "    xgb_pipe_sm.fit(X_train, y_train)\n",
    "\n",
    "    pred_proba = xgb_pipe_sm.predict_proba(X_test)[:, 1]\n",
    "    roc_auc_xgb_sm = roc_auc_score(y_test, pred_proba)\n",
    "    \n",
    "    mlflow.log_metrics({\n",
    "        'f1_cv': best_score,\n",
    "        'roc_auc': roc_auc_xgb_sm,\n",
    "        'balanced_accuracy': balanced_accuracy_score(y_test, np.round(pred_proba, 0)),\n",
    "        'f1': f1_score(y_test, np.round(pred_proba, 0))\n",
    "    })\n",
    "\n",
    "    mlflow.sklearn.log_model(xgb_pipe_sm, 'xgb_pipeline_smote')"
   ],
   "metadata": {
    "collapsed": false,
    "ExecuteTime": {
     "end_time": "2023-12-03T17:51:46.879064900Z",
     "start_time": "2023-12-03T17:51:30.738836700Z"
    }
   }
  },
  {
   "cell_type": "markdown",
   "source": [
    "### 3.2.2 Случайный лес"
   ],
   "metadata": {
    "collapsed": false
   }
  },
  {
   "cell_type": "code",
   "execution_count": 52,
   "outputs": [],
   "source": [
    "def optuna_optimize(trial):\n",
    "    param = {\n",
    "        'n_estimators': trial.suggest_int('n_estimators', 50, 300),\n",
    "        'max_depth': trial.suggest_int('max_depth', 2, 10),\n",
    "        'min_samples_leaf': trial.suggest_int('min_samples_leaf', 2, 8)\n",
    "    }\n",
    "\n",
    "    estimator = RandomForestClassifier(**param,\n",
    "                                       random_state=12345)\n",
    "\n",
    "    rf_pipe = Pipeline([\n",
    "        ('preprocessor', preprocessor),\n",
    "        ('smote', SMOTE(random_state=12345)),\n",
    "        ('model', estimator)\n",
    "    ])\n",
    "\n",
    "    score = cross_val_score(rf_pipe, X_train, y_train, cv=5, scoring='f1').mean()\n",
    "    return score"
   ],
   "metadata": {
    "collapsed": false,
    "ExecuteTime": {
     "end_time": "2023-12-03T17:51:49.300010700Z",
     "start_time": "2023-12-03T17:51:49.169158600Z"
    }
   }
  },
  {
   "cell_type": "code",
   "execution_count": 53,
   "outputs": [
    {
     "name": "stderr",
     "output_type": "stream",
     "text": [
      "[I 2023-12-03 20:51:53,411] A new study created in memory with name: RandomForest Optuna Optimization SMOTE\n"
     ]
    }
   ],
   "source": [
    "study_rf_smote = optuna.create_study(study_name=\"RandomForest Optuna Optimization SMOTE\",\n",
    "                               direction='maximize')"
   ],
   "metadata": {
    "collapsed": false,
    "ExecuteTime": {
     "end_time": "2023-12-03T17:51:53.647233900Z",
     "start_time": "2023-12-03T17:51:53.411604Z"
    }
   }
  },
  {
   "cell_type": "code",
   "execution_count": 54,
   "outputs": [
    {
     "name": "stderr",
     "output_type": "stream",
     "text": [
      "[I 2023-12-03 20:52:48,101] Trial 0 finished with value: 0.6103503598971308 and parameters: {'n_estimators': 177, 'max_depth': 10, 'min_samples_leaf': 3}. Best is trial 0 with value: 0.6103503598971308.\n",
      "[I 2023-12-03 20:53:57,357] Trial 1 finished with value: 0.6120323701928718 and parameters: {'n_estimators': 268, 'max_depth': 10, 'min_samples_leaf': 6}. Best is trial 1 with value: 0.6120323701928718.\n",
      "[I 2023-12-03 20:54:11,690] Trial 2 finished with value: 0.6069136414767107 and parameters: {'n_estimators': 110, 'max_depth': 10, 'min_samples_leaf': 7}. Best is trial 1 with value: 0.6120323701928718.\n",
      "[I 2023-12-03 20:54:27,806] Trial 3 finished with value: 0.5884352491828644 and parameters: {'n_estimators': 188, 'max_depth': 5, 'min_samples_leaf': 5}. Best is trial 1 with value: 0.6120323701928718.\n",
      "[I 2023-12-03 20:54:34,695] Trial 4 finished with value: 0.5622070047463282 and parameters: {'n_estimators': 115, 'max_depth': 3, 'min_samples_leaf': 6}. Best is trial 1 with value: 0.6120323701928718.\n",
      "[I 2023-12-03 20:54:49,721] Trial 5 finished with value: 0.5639158708046523 and parameters: {'n_estimators': 282, 'max_depth': 3, 'min_samples_leaf': 3}. Best is trial 1 with value: 0.6120323701928718.\n",
      "[I 2023-12-03 20:54:57,390] Trial 6 finished with value: 0.5928174837695902 and parameters: {'n_estimators': 82, 'max_depth': 6, 'min_samples_leaf': 3}. Best is trial 1 with value: 0.6120323701928718.\n",
      "[I 2023-12-03 20:55:17,993] Trial 7 finished with value: 0.5881110725871503 and parameters: {'n_estimators': 270, 'max_depth': 5, 'min_samples_leaf': 8}. Best is trial 1 with value: 0.6120323701928718.\n",
      "[I 2023-12-03 20:55:33,915] Trial 8 finished with value: 0.5967979631934778 and parameters: {'n_estimators': 179, 'max_depth': 6, 'min_samples_leaf': 2}. Best is trial 1 with value: 0.6120323701928718.\n",
      "[I 2023-12-03 20:56:03,025] Trial 9 finished with value: 0.6098565328477449 and parameters: {'n_estimators': 237, 'max_depth': 10, 'min_samples_leaf': 8}. Best is trial 1 with value: 0.6120323701928718.\n",
      "[I 2023-12-03 20:56:26,809] Trial 10 finished with value: 0.6092227666684724 and parameters: {'n_estimators': 222, 'max_depth': 8, 'min_samples_leaf': 5}. Best is trial 1 with value: 0.6120323701928718.\n",
      "[I 2023-12-03 20:56:43,409] Trial 11 finished with value: 0.6041066504615425 and parameters: {'n_estimators': 152, 'max_depth': 8, 'min_samples_leaf': 4}. Best is trial 1 with value: 0.6120323701928718.\n",
      "[I 2023-12-03 20:57:15,443] Trial 12 finished with value: 0.6085608943393608 and parameters: {'n_estimators': 300, 'max_depth': 8, 'min_samples_leaf': 6}. Best is trial 1 with value: 0.6120323701928718.\n",
      "[I 2023-12-03 20:57:43,022] Trial 13 finished with value: 0.6074445273043461 and parameters: {'n_estimators': 233, 'max_depth': 9, 'min_samples_leaf': 2}. Best is trial 1 with value: 0.6120323701928718.\n",
      "[I 2023-12-03 20:57:50,374] Trial 14 finished with value: 0.6082159638073515 and parameters: {'n_estimators': 54, 'max_depth': 10, 'min_samples_leaf': 4}. Best is trial 1 with value: 0.6120323701928718.\n",
      "[I 2023-12-03 20:58:07,599] Trial 15 finished with value: 0.6118372858484726 and parameters: {'n_estimators': 145, 'max_depth': 9, 'min_samples_leaf': 6}. Best is trial 1 with value: 0.6120323701928718.\n",
      "[I 2023-12-03 20:58:21,809] Trial 16 finished with value: 0.6020671802798727 and parameters: {'n_estimators': 144, 'max_depth': 7, 'min_samples_leaf': 6}. Best is trial 1 with value: 0.6120323701928718.\n",
      "[I 2023-12-03 20:58:46,480] Trial 17 finished with value: 0.6086547600319288 and parameters: {'n_estimators': 208, 'max_depth': 9, 'min_samples_leaf': 7}. Best is trial 1 with value: 0.6120323701928718.\n",
      "[I 2023-12-03 20:59:03,790] Trial 18 finished with value: 0.6092546298149737 and parameters: {'n_estimators': 147, 'max_depth': 9, 'min_samples_leaf': 7}. Best is trial 1 with value: 0.6120323701928718.\n",
      "[I 2023-12-03 20:59:28,155] Trial 19 finished with value: 0.5997927181248401 and parameters: {'n_estimators': 247, 'max_depth': 7, 'min_samples_leaf': 5}. Best is trial 1 with value: 0.6120323701928718.\n",
      "[I 2023-12-03 20:59:39,029] Trial 20 finished with value: 0.5496904811339054 and parameters: {'n_estimators': 259, 'max_depth': 2, 'min_samples_leaf': 6}. Best is trial 1 with value: 0.6120323701928718.\n",
      "[I 2023-12-03 21:00:03,915] Trial 21 finished with value: 0.6094291400254152 and parameters: {'n_estimators': 195, 'max_depth': 10, 'min_samples_leaf': 4}. Best is trial 1 with value: 0.6120323701928718.\n",
      "[I 2023-12-03 21:00:18,388] Trial 22 finished with value: 0.605278448094419 and parameters: {'n_estimators': 121, 'max_depth': 9, 'min_samples_leaf': 5}. Best is trial 1 with value: 0.6120323701928718.\n",
      "[I 2023-12-03 21:00:39,792] Trial 23 finished with value: 0.6105158688582659 and parameters: {'n_estimators': 166, 'max_depth': 10, 'min_samples_leaf': 3}. Best is trial 1 with value: 0.6120323701928718.\n",
      "[I 2023-12-03 21:00:59,012] Trial 24 finished with value: 0.6082613780242785 and parameters: {'n_estimators': 166, 'max_depth': 9, 'min_samples_leaf': 7}. Best is trial 1 with value: 0.6120323701928718.\n",
      "[I 2023-12-03 21:01:13,208] Trial 25 finished with value: 0.6074335454084194 and parameters: {'n_estimators': 130, 'max_depth': 8, 'min_samples_leaf': 6}. Best is trial 1 with value: 0.6120323701928718.\n",
      "[I 2023-12-03 21:01:22,356] Trial 26 finished with value: 0.6018646045171405 and parameters: {'n_estimators': 90, 'max_depth': 7, 'min_samples_leaf': 4}. Best is trial 1 with value: 0.6120323701928718.\n",
      "[I 2023-12-03 21:01:48,458] Trial 27 finished with value: 0.6118875754252572 and parameters: {'n_estimators': 209, 'max_depth': 10, 'min_samples_leaf': 5}. Best is trial 1 with value: 0.6120323701928718.\n",
      "[I 2023-12-03 21:02:12,727] Trial 28 finished with value: 0.6088788686765952 and parameters: {'n_estimators': 209, 'max_depth': 9, 'min_samples_leaf': 6}. Best is trial 1 with value: 0.6120323701928718.\n",
      "[I 2023-12-03 21:02:49,586] Trial 29 finished with value: 0.6121792667089481 and parameters: {'n_estimators': 297, 'max_depth': 10, 'min_samples_leaf': 5}. Best is trial 29 with value: 0.6121792667089481.\n",
      "[I 2023-12-03 21:03:26,150] Trial 30 finished with value: 0.611205641445715 and parameters: {'n_estimators': 296, 'max_depth': 10, 'min_samples_leaf': 5}. Best is trial 29 with value: 0.6121792667089481.\n",
      "[I 2023-12-03 21:03:57,722] Trial 31 finished with value: 0.6085576002485479 and parameters: {'n_estimators': 273, 'max_depth': 9, 'min_samples_leaf': 5}. Best is trial 29 with value: 0.6121792667089481.\n",
      "[I 2023-12-03 21:04:29,236] Trial 32 finished with value: 0.6126667675046191 and parameters: {'n_estimators': 255, 'max_depth': 10, 'min_samples_leaf': 6}. Best is trial 32 with value: 0.6126667675046191.\n",
      "[I 2023-12-03 21:05:01,160] Trial 33 finished with value: 0.6107859980420874 and parameters: {'n_estimators': 257, 'max_depth': 10, 'min_samples_leaf': 5}. Best is trial 32 with value: 0.6126667675046191.\n",
      "[I 2023-12-03 21:05:35,918] Trial 34 finished with value: 0.6115752314989922 and parameters: {'n_estimators': 283, 'max_depth': 10, 'min_samples_leaf': 7}. Best is trial 32 with value: 0.6126667675046191.\n",
      "[I 2023-12-03 21:06:08,457] Trial 35 finished with value: 0.6126718092953309 and parameters: {'n_estimators': 254, 'max_depth': 10, 'min_samples_leaf': 6}. Best is trial 35 with value: 0.6126718092953309.\n",
      "[I 2023-12-03 21:06:36,056] Trial 36 finished with value: 0.6058916200192371 and parameters: {'n_estimators': 260, 'max_depth': 8, 'min_samples_leaf': 7}. Best is trial 35 with value: 0.6126718092953309.\n",
      "[I 2023-12-03 21:07:11,542] Trial 37 finished with value: 0.6106829638888684 and parameters: {'n_estimators': 287, 'max_depth': 10, 'min_samples_leaf': 6}. Best is trial 35 with value: 0.6126718092953309.\n",
      "[I 2023-12-03 21:07:27,428] Trial 38 finished with value: 0.579264927980464 and parameters: {'n_estimators': 244, 'max_depth': 4, 'min_samples_leaf': 7}. Best is trial 35 with value: 0.6126718092953309.\n",
      "[I 2023-12-03 21:08:00,246] Trial 39 finished with value: 0.6097718710605486 and parameters: {'n_estimators': 269, 'max_depth': 10, 'min_samples_leaf': 8}. Best is trial 35 with value: 0.6126718092953309.\n",
      "[I 2023-12-03 21:08:17,079] Trial 40 finished with value: 0.5891915599433654 and parameters: {'n_estimators': 221, 'max_depth': 5, 'min_samples_leaf': 6}. Best is trial 35 with value: 0.6126718092953309.\n",
      "[I 2023-12-03 21:08:51,827] Trial 41 finished with value: 0.6117855138845814 and parameters: {'n_estimators': 279, 'max_depth': 10, 'min_samples_leaf': 5}. Best is trial 35 with value: 0.6126718092953309.\n",
      "[I 2023-12-03 21:09:20,980] Trial 42 finished with value: 0.6096468284479647 and parameters: {'n_estimators': 251, 'max_depth': 9, 'min_samples_leaf': 5}. Best is trial 35 with value: 0.6126718092953309.\n",
      "[I 2023-12-03 21:09:50,090] Trial 43 finished with value: 0.6092130313754535 and parameters: {'n_estimators': 233, 'max_depth': 10, 'min_samples_leaf': 4}. Best is trial 35 with value: 0.6126718092953309.\n",
      "[I 2023-12-03 21:10:18,404] Trial 44 finished with value: 0.6081155604052538 and parameters: {'n_estimators': 267, 'max_depth': 8, 'min_samples_leaf': 6}. Best is trial 35 with value: 0.6126718092953309.\n",
      "[I 2023-12-03 21:10:54,619] Trial 45 finished with value: 0.6110222207376934 and parameters: {'n_estimators': 292, 'max_depth': 10, 'min_samples_leaf': 5}. Best is trial 35 with value: 0.6126718092953309.\n",
      "[I 2023-12-03 21:11:20,440] Trial 46 finished with value: 0.6105665566041072 and parameters: {'n_estimators': 222, 'max_depth': 9, 'min_samples_leaf': 6}. Best is trial 35 with value: 0.6126718092953309.\n",
      "[I 2023-12-03 21:11:45,017] Trial 47 finished with value: 0.6082450045741069 and parameters: {'n_estimators': 194, 'max_depth': 10, 'min_samples_leaf': 4}. Best is trial 35 with value: 0.6126718092953309.\n",
      "[I 2023-12-03 21:12:12,948] Trial 48 finished with value: 0.6090257387748401 and parameters: {'n_estimators': 240, 'max_depth': 9, 'min_samples_leaf': 5}. Best is trial 35 with value: 0.6126718092953309.\n",
      "[I 2023-12-03 21:12:30,904] Trial 49 finished with value: 0.5764718303821811 and parameters: {'n_estimators': 279, 'max_depth': 4, 'min_samples_leaf': 6}. Best is trial 35 with value: 0.6126718092953309.\n",
      "[I 2023-12-03 21:12:53,513] Trial 50 finished with value: 0.6046994297427956 and parameters: {'n_estimators': 210, 'max_depth': 8, 'min_samples_leaf': 7}. Best is trial 35 with value: 0.6126718092953309.\n",
      "[I 2023-12-03 21:13:16,208] Trial 51 finished with value: 0.6105792300069891 and parameters: {'n_estimators': 180, 'max_depth': 10, 'min_samples_leaf': 6}. Best is trial 35 with value: 0.6126718092953309.\n",
      "[I 2023-12-03 21:13:28,248] Trial 52 finished with value: 0.6119310952019399 and parameters: {'n_estimators': 100, 'max_depth': 9, 'min_samples_leaf': 6}. Best is trial 35 with value: 0.6126718092953309.\n",
      "[I 2023-12-03 21:13:54,803] Trial 53 finished with value: 0.6105089787510637 and parameters: {'n_estimators': 229, 'max_depth': 9, 'min_samples_leaf': 6}. Best is trial 35 with value: 0.6126718092953309.\n",
      "[I 2023-12-03 21:14:02,216] Trial 54 finished with value: 0.6105682260809667 and parameters: {'n_estimators': 55, 'max_depth': 10, 'min_samples_leaf': 5}. Best is trial 35 with value: 0.6126718092953309.\n",
      "[I 2023-12-03 21:14:14,925] Trial 55 finished with value: 0.6068951974605385 and parameters: {'n_estimators': 99, 'max_depth': 10, 'min_samples_leaf': 6}. Best is trial 35 with value: 0.6126718092953309.\n",
      "[I 2023-12-03 21:14:45,098] Trial 56 finished with value: 0.6083743317075394 and parameters: {'n_estimators': 260, 'max_depth': 9, 'min_samples_leaf': 7}. Best is trial 35 with value: 0.6126718092953309.\n",
      "[I 2023-12-03 21:15:21,338] Trial 57 finished with value: 0.6110222207376934 and parameters: {'n_estimators': 292, 'max_depth': 10, 'min_samples_leaf': 5}. Best is trial 35 with value: 0.6126718092953309.\n",
      "[I 2023-12-03 21:15:27,949] Trial 58 finished with value: 0.59275978724908 and parameters: {'n_estimators': 70, 'max_depth': 6, 'min_samples_leaf': 6}. Best is trial 35 with value: 0.6126718092953309.\n",
      "[I 2023-12-03 21:15:57,182] Trial 59 finished with value: 0.608387898123867 and parameters: {'n_estimators': 250, 'max_depth': 9, 'min_samples_leaf': 4}. Best is trial 35 with value: 0.6126718092953309.\n",
      "[I 2023-12-03 21:16:26,050] Trial 60 finished with value: 0.5996899436592743 and parameters: {'n_estimators': 299, 'max_depth': 7, 'min_samples_leaf': 5}. Best is trial 35 with value: 0.6126718092953309.\n",
      "[I 2023-12-03 21:16:42,356] Trial 61 finished with value: 0.6130420515434699 and parameters: {'n_estimators': 138, 'max_depth': 9, 'min_samples_leaf': 6}. Best is trial 61 with value: 0.6130420515434699.\n",
      "[I 2023-12-03 21:16:58,060] Trial 62 finished with value: 0.6123191178703341 and parameters: {'n_estimators': 133, 'max_depth': 9, 'min_samples_leaf': 6}. Best is trial 61 with value: 0.6130420515434699.\n",
      "[I 2023-12-03 21:17:13,471] Trial 63 finished with value: 0.6072451132112459 and parameters: {'n_estimators': 136, 'max_depth': 8, 'min_samples_leaf': 6}. Best is trial 61 with value: 0.6130420515434699.\n",
      "[I 2023-12-03 21:17:26,783] Trial 64 finished with value: 0.6109258444502325 and parameters: {'n_estimators': 110, 'max_depth': 9, 'min_samples_leaf': 6}. Best is trial 61 with value: 0.6130420515434699.\n",
      "[I 2023-12-03 21:17:45,782] Trial 65 finished with value: 0.6076838230933079 and parameters: {'n_estimators': 160, 'max_depth': 9, 'min_samples_leaf': 7}. Best is trial 61 with value: 0.6130420515434699.\n",
      "[I 2023-12-03 21:17:59,864] Trial 66 finished with value: 0.6113634642663951 and parameters: {'n_estimators': 118, 'max_depth': 9, 'min_samples_leaf': 6}. Best is trial 61 with value: 0.6130420515434699.\n",
      "[I 2023-12-03 21:18:10,461] Trial 67 finished with value: 0.6038719559198248 and parameters: {'n_estimators': 95, 'max_depth': 8, 'min_samples_leaf': 7}. Best is trial 61 with value: 0.6130420515434699.\n",
      "[I 2023-12-03 21:18:27,427] Trial 68 finished with value: 0.6098060724685005 and parameters: {'n_estimators': 135, 'max_depth': 10, 'min_samples_leaf': 6}. Best is trial 61 with value: 0.6130420515434699.\n",
      "[I 2023-12-03 21:18:40,318] Trial 69 finished with value: 0.609400585785583 and parameters: {'n_estimators': 108, 'max_depth': 9, 'min_samples_leaf': 7}. Best is trial 61 with value: 0.6130420515434699.\n",
      "[I 2023-12-03 21:18:51,148] Trial 70 finished with value: 0.6120526422252768 and parameters: {'n_estimators': 84, 'max_depth': 10, 'min_samples_leaf': 6}. Best is trial 61 with value: 0.6130420515434699.\n",
      "[I 2023-12-03 21:19:01,756] Trial 71 finished with value: 0.6095457597609011 and parameters: {'n_estimators': 82, 'max_depth': 10, 'min_samples_leaf': 6}. Best is trial 61 with value: 0.6130420515434699.\n",
      "[I 2023-12-03 21:19:10,741] Trial 72 finished with value: 0.6099414009896595 and parameters: {'n_estimators': 68, 'max_depth': 10, 'min_samples_leaf': 6}. Best is trial 61 with value: 0.6130420515434699.\n",
      "[I 2023-12-03 21:19:22,852] Trial 73 finished with value: 0.6110855626475408 and parameters: {'n_estimators': 101, 'max_depth': 9, 'min_samples_leaf': 6}. Best is trial 61 with value: 0.6130420515434699.\n",
      "[I 2023-12-03 21:19:28,352] Trial 74 finished with value: 0.5398726145319176 and parameters: {'n_estimators': 123, 'max_depth': 2, 'min_samples_leaf': 6}. Best is trial 61 with value: 0.6130420515434699.\n",
      "[I 2023-12-03 21:19:47,778] Trial 75 finished with value: 0.6098435170984287 and parameters: {'n_estimators': 156, 'max_depth': 10, 'min_samples_leaf': 7}. Best is trial 61 with value: 0.6130420515434699.\n",
      "[I 2023-12-03 21:19:58,779] Trial 76 finished with value: 0.6092902998864492 and parameters: {'n_estimators': 85, 'max_depth': 10, 'min_samples_leaf': 6}. Best is trial 61 with value: 0.6130420515434699.\n",
      "[I 2023-12-03 21:20:13,957] Trial 77 finished with value: 0.6042194164872444 and parameters: {'n_estimators': 127, 'max_depth': 9, 'min_samples_leaf': 5}. Best is trial 61 with value: 0.6130420515434699.\n",
      "[I 2023-12-03 21:20:22,531] Trial 78 finished with value: 0.6096974380943692 and parameters: {'n_estimators': 65, 'max_depth': 10, 'min_samples_leaf': 6}. Best is trial 61 with value: 0.6130420515434699.\n",
      "[I 2023-12-03 21:20:56,249] Trial 79 finished with value: 0.6123500138469695 and parameters: {'n_estimators': 275, 'max_depth': 10, 'min_samples_leaf': 7}. Best is trial 61 with value: 0.6130420515434699.\n",
      "[I 2023-12-03 21:21:31,282] Trial 80 finished with value: 0.6093022384619344 and parameters: {'n_estimators': 287, 'max_depth': 10, 'min_samples_leaf': 8}. Best is trial 61 with value: 0.6130420515434699.\n",
      "[I 2023-12-03 21:22:04,760] Trial 81 finished with value: 0.6108967294404147 and parameters: {'n_estimators': 273, 'max_depth': 10, 'min_samples_leaf': 7}. Best is trial 61 with value: 0.6130420515434699.\n",
      "[I 2023-12-03 21:22:38,395] Trial 82 finished with value: 0.6123500138469695 and parameters: {'n_estimators': 275, 'max_depth': 10, 'min_samples_leaf': 7}. Best is trial 61 with value: 0.6130420515434699.\n",
      "[I 2023-12-03 21:23:10,922] Trial 83 finished with value: 0.6103653428706376 and parameters: {'n_estimators': 267, 'max_depth': 10, 'min_samples_leaf': 8}. Best is trial 61 with value: 0.6130420515434699.\n",
      "[I 2023-12-03 21:23:41,931] Trial 84 finished with value: 0.6102244612581323 and parameters: {'n_estimators': 253, 'max_depth': 10, 'min_samples_leaf': 7}. Best is trial 61 with value: 0.6130420515434699.\n",
      "[I 2023-12-03 21:24:16,202] Trial 85 finished with value: 0.6109687603983777 and parameters: {'n_estimators': 280, 'max_depth': 10, 'min_samples_leaf': 7}. Best is trial 61 with value: 0.6130420515434699.\n",
      "[I 2023-12-03 21:24:48,814] Trial 86 finished with value: 0.6105472861364718 and parameters: {'n_estimators': 264, 'max_depth': 10, 'min_samples_leaf': 8}. Best is trial 61 with value: 0.6130420515434699.\n",
      "[I 2023-12-03 21:25:10,281] Trial 87 finished with value: 0.6097876376020942 and parameters: {'n_estimators': 173, 'max_depth': 10, 'min_samples_leaf': 7}. Best is trial 61 with value: 0.6130420515434699.\n",
      "[I 2023-12-03 21:25:42,331] Trial 88 finished with value: 0.6085563139895257 and parameters: {'n_estimators': 277, 'max_depth': 9, 'min_samples_leaf': 5}. Best is trial 61 with value: 0.6130420515434699.\n",
      "[I 2023-12-03 21:26:18,270] Trial 89 finished with value: 0.6108969872992206 and parameters: {'n_estimators': 286, 'max_depth': 10, 'min_samples_leaf': 3}. Best is trial 61 with value: 0.6130420515434699.\n",
      "[I 2023-12-03 21:26:49,431] Trial 90 finished with value: 0.60957860619628 and parameters: {'n_estimators': 245, 'max_depth': 10, 'min_samples_leaf': 2}. Best is trial 61 with value: 0.6130420515434699.\n",
      "[I 2023-12-03 21:27:06,818] Trial 91 finished with value: 0.6121935246827986 and parameters: {'n_estimators': 147, 'max_depth': 9, 'min_samples_leaf': 6}. Best is trial 61 with value: 0.6130420515434699.\n",
      "[I 2023-12-03 21:27:23,437] Trial 92 finished with value: 0.6121450743633625 and parameters: {'n_estimators': 140, 'max_depth': 9, 'min_samples_leaf': 6}. Best is trial 61 with value: 0.6130420515434699.\n",
      "[I 2023-12-03 21:27:40,996] Trial 93 finished with value: 0.6122059004201234 and parameters: {'n_estimators': 149, 'max_depth': 9, 'min_samples_leaf': 6}. Best is trial 61 with value: 0.6130420515434699.\n",
      "[I 2023-12-03 21:27:56,368] Trial 94 finished with value: 0.6082388427545883 and parameters: {'n_estimators': 142, 'max_depth': 8, 'min_samples_leaf': 6}. Best is trial 61 with value: 0.6130420515434699.\n",
      "[I 2023-12-03 21:28:13,318] Trial 95 finished with value: 0.6116066355366723 and parameters: {'n_estimators': 144, 'max_depth': 9, 'min_samples_leaf': 6}. Best is trial 61 with value: 0.6130420515434699.\n",
      "[I 2023-12-03 21:28:29,658] Trial 96 finished with value: 0.6053335841186327 and parameters: {'n_estimators': 150, 'max_depth': 8, 'min_samples_leaf': 5}. Best is trial 61 with value: 0.6130420515434699.\n",
      "[I 2023-12-03 21:28:46,100] Trial 97 finished with value: 0.6115037897658029 and parameters: {'n_estimators': 139, 'max_depth': 9, 'min_samples_leaf': 6}. Best is trial 61 with value: 0.6130420515434699.\n",
      "[I 2023-12-03 21:29:00,323] Trial 98 finished with value: 0.5940618687686193 and parameters: {'n_estimators': 160, 'max_depth': 6, 'min_samples_leaf': 7}. Best is trial 61 with value: 0.6130420515434699.\n",
      "[I 2023-12-03 21:29:14,872] Trial 99 finished with value: 0.6048249432522772 and parameters: {'n_estimators': 132, 'max_depth': 8, 'min_samples_leaf': 5}. Best is trial 61 with value: 0.6130420515434699.\n"
     ]
    }
   ],
   "source": [
    "study_rf_smote.optimize(optuna_optimize, n_trials=100)"
   ],
   "metadata": {
    "collapsed": false,
    "ExecuteTime": {
     "end_time": "2023-12-03T18:29:14.894108300Z",
     "start_time": "2023-12-03T17:51:58.026905200Z"
    }
   }
  },
  {
   "cell_type": "code",
   "execution_count": 55,
   "outputs": [
    {
     "name": "stdout",
     "output_type": "stream",
     "text": [
      "Наилучшие значения гиперпараметров RandomForest: {'n_estimators': 138, 'max_depth': 9, 'min_samples_leaf': 6}\n",
      "f1_score на обучающем наборе: 0.613\n"
     ]
    }
   ],
   "source": [
    "print(\"Наилучшие значения гиперпараметров RandomForest: {}\".format(study_rf_smote.best_params))\n",
    "print(\"f1_score на обучающем наборе: {:.3f}\". format(study_rf_smote.best_value))"
   ],
   "metadata": {
    "collapsed": false,
    "ExecuteTime": {
     "end_time": "2023-12-03T19:14:02.442762600Z",
     "start_time": "2023-12-03T19:14:02.404240100Z"
    }
   }
  },
  {
   "cell_type": "code",
   "execution_count": 56,
   "outputs": [],
   "source": [
    "with mlflow.start_run(nested=True,\n",
    "                      run_name='rf_pipeline_smote'):\n",
    "\n",
    "    best_params = study_rf_smote.best_params\n",
    "    best_score = study_rf_smote.best_value\n",
    "    mlflow.log_params(best_params)\n",
    "\n",
    "    rf_pipe_sm = Pipeline([\n",
    "        ('preprocessor', preprocessor),\n",
    "        ('smote', SMOTE(random_state=12345)),\n",
    "        ('model', RandomForestClassifier(**best_params,\n",
    "                                         random_state=12345))\n",
    "    ])\n",
    "\n",
    "    rf_pipe_sm.fit(X_train, y_train)\n",
    "\n",
    "    pred_proba = rf_pipe_sm.predict_proba(X_test)[:, 1]\n",
    "    roc_auc_rf_sm = roc_auc_score(y_test, pred_proba)\n",
    "    \n",
    "    mlflow.log_metrics({\n",
    "        'f1_cv': best_score,\n",
    "        'roc_auc': roc_auc_rf_sm,\n",
    "        'balanced_accuracy': balanced_accuracy_score(y_test, np.round(pred_proba, 0)),\n",
    "        'f1': f1_score(y_test, np.round(pred_proba, 0))\n",
    "    })\n",
    "    \n",
    "    mlflow.sklearn.log_model(rf_pipe_sm, 'rf_pipeline_smote')"
   ],
   "metadata": {
    "collapsed": false,
    "ExecuteTime": {
     "end_time": "2023-12-03T19:14:15.460946800Z",
     "start_time": "2023-12-03T19:14:04.151734100Z"
    }
   }
  },
  {
   "cell_type": "markdown",
   "source": [
    "### 3.2.3 Логистическая регрессия"
   ],
   "metadata": {
    "collapsed": false
   }
  },
  {
   "cell_type": "code",
   "execution_count": 57,
   "outputs": [],
   "source": [
    "cat_pipeline = Pipeline([\n",
    "    ('enc', OneHotEncoder(handle_unknown='error', drop='first'))\n",
    "])\n",
    "\n",
    "num_pipeline = Pipeline([\n",
    "    ('imp', SimpleImputer(fill_value=-1, add_indicator=True)),\n",
    "    ('pt', PowerTransformer()),\n",
    "    ('scal', StandardScaler())\n",
    "])\n",
    "\n",
    "preprocessor = ColumnTransformer([\n",
    "    (\"cat\", cat_pipeline, categorical_features),\n",
    "    (\"num\", num_pipeline, numeric_features)\n",
    "], remainder='passthrough')"
   ],
   "metadata": {
    "collapsed": false,
    "ExecuteTime": {
     "end_time": "2023-12-03T19:14:15.501799100Z",
     "start_time": "2023-12-03T19:14:15.469706Z"
    }
   }
  },
  {
   "cell_type": "code",
   "execution_count": 58,
   "outputs": [],
   "source": [
    "def optuna_optimize(trial):\n",
    "    param = {\n",
    "        'solver': trial.suggest_categorical('solver', ['lbfgs', 'saga'])\n",
    "    }\n",
    "\n",
    "    if param['solver'] == 'lbfgs':\n",
    "        param['penalty'] = 'l2' \n",
    "\n",
    "    if param['solver'] == 'saga':\n",
    "        param['penalty'] = 'elasticnet' \n",
    "        param['C'] = trial.suggest_float('C', 0.01, 100) # какие тут значения?\n",
    "        param['l1_ratio'] = trial.suggest_float('l1_ratio', 0, 1)\n",
    "        param['max_iter'] = 1000 \n",
    "\n",
    "    estimator = LogisticRegression(**param,\n",
    "                                   random_state=12345)\n",
    "\n",
    "    log_reg_pipe = Pipeline([\n",
    "        ('preprocessor', preprocessor),\n",
    "        ('smote', SMOTE(random_state=12345)),\n",
    "        ('model', estimator)\n",
    "    ])\n",
    "\n",
    "    score = cross_val_score(log_reg_pipe, X_train, y_train, cv=5, scoring='f1').mean()\n",
    "    return score"
   ],
   "metadata": {
    "collapsed": false,
    "ExecuteTime": {
     "end_time": "2023-12-03T19:14:15.555443100Z",
     "start_time": "2023-12-03T19:14:15.485008900Z"
    }
   }
  },
  {
   "cell_type": "code",
   "execution_count": 59,
   "outputs": [
    {
     "name": "stderr",
     "output_type": "stream",
     "text": [
      "[I 2023-12-03 22:14:15,500] A new study created in memory with name: LogisticRegression Optuna Optimization SMOTE\n"
     ]
    }
   ],
   "source": [
    "study_log_reg_smote = optuna.create_study(study_name=\"LogisticRegression Optuna Optimization SMOTE\",\n",
    "                                    direction='maximize')"
   ],
   "metadata": {
    "collapsed": false,
    "ExecuteTime": {
     "end_time": "2023-12-03T19:14:15.569837400Z",
     "start_time": "2023-12-03T19:14:15.498188400Z"
    }
   }
  },
  {
   "cell_type": "code",
   "execution_count": 60,
   "outputs": [
    {
     "name": "stderr",
     "output_type": "stream",
     "text": [
      "[I 2023-12-03 22:14:17,727] Trial 0 finished with value: 0.4931691414132686 and parameters: {'solver': 'lbfgs'}. Best is trial 0 with value: 0.4931691414132686.\n",
      "[I 2023-12-03 22:14:18,392] Trial 1 finished with value: 0.4931691414132686 and parameters: {'solver': 'lbfgs'}. Best is trial 0 with value: 0.4931691414132686.\n",
      "[I 2023-12-03 22:14:19,045] Trial 2 finished with value: 0.4931691414132686 and parameters: {'solver': 'lbfgs'}. Best is trial 0 with value: 0.4931691414132686.\n",
      "[I 2023-12-03 22:14:19,907] Trial 3 finished with value: 0.49305864444463354 and parameters: {'solver': 'saga', 'C': 8.305205815636853, 'l1_ratio': 0.09785984244984902}. Best is trial 0 with value: 0.4931691414132686.\n",
      "[I 2023-12-03 22:14:20,761] Trial 4 finished with value: 0.49305864444463354 and parameters: {'solver': 'saga', 'C': 31.790984080876587, 'l1_ratio': 0.5396807007680371}. Best is trial 0 with value: 0.4931691414132686.\n",
      "[I 2023-12-03 22:14:21,466] Trial 5 finished with value: 0.4931691414132686 and parameters: {'solver': 'lbfgs'}. Best is trial 0 with value: 0.4931691414132686.\n",
      "[I 2023-12-03 22:14:22,509] Trial 6 finished with value: 0.49305864444463354 and parameters: {'solver': 'saga', 'C': 75.34954788591718, 'l1_ratio': 0.014087476007757171}. Best is trial 0 with value: 0.4931691414132686.\n",
      "[I 2023-12-03 22:14:23,257] Trial 7 finished with value: 0.4931691414132686 and parameters: {'solver': 'lbfgs'}. Best is trial 0 with value: 0.4931691414132686.\n",
      "[I 2023-12-03 22:14:24,623] Trial 8 finished with value: 0.4931691414132686 and parameters: {'solver': 'lbfgs'}. Best is trial 0 with value: 0.4931691414132686.\n",
      "[I 2023-12-03 22:14:25,650] Trial 9 finished with value: 0.4931691414132686 and parameters: {'solver': 'lbfgs'}. Best is trial 0 with value: 0.4931691414132686.\n",
      "[I 2023-12-03 22:14:26,601] Trial 10 finished with value: 0.49305864444463354 and parameters: {'solver': 'saga', 'C': 97.70448320845352, 'l1_ratio': 0.9267838159616275}. Best is trial 0 with value: 0.4931691414132686.\n",
      "[I 2023-12-03 22:14:27,272] Trial 11 finished with value: 0.4931691414132686 and parameters: {'solver': 'lbfgs'}. Best is trial 0 with value: 0.4931691414132686.\n",
      "[I 2023-12-03 22:14:27,955] Trial 12 finished with value: 0.4931691414132686 and parameters: {'solver': 'lbfgs'}. Best is trial 0 with value: 0.4931691414132686.\n",
      "[I 2023-12-03 22:14:28,913] Trial 13 finished with value: 0.4931691414132686 and parameters: {'solver': 'lbfgs'}. Best is trial 0 with value: 0.4931691414132686.\n",
      "[I 2023-12-03 22:14:29,795] Trial 14 finished with value: 0.4931691414132686 and parameters: {'solver': 'lbfgs'}. Best is trial 0 with value: 0.4931691414132686.\n",
      "[I 2023-12-03 22:14:30,707] Trial 15 finished with value: 0.4931691414132686 and parameters: {'solver': 'lbfgs'}. Best is trial 0 with value: 0.4931691414132686.\n",
      "[I 2023-12-03 22:14:31,511] Trial 16 finished with value: 0.4931691414132686 and parameters: {'solver': 'lbfgs'}. Best is trial 0 with value: 0.4931691414132686.\n",
      "[I 2023-12-03 22:14:32,421] Trial 17 finished with value: 0.4931691414132686 and parameters: {'solver': 'lbfgs'}. Best is trial 0 with value: 0.4931691414132686.\n",
      "[I 2023-12-03 22:14:33,618] Trial 18 finished with value: 0.49305864444463354 and parameters: {'solver': 'saga', 'C': 46.08594515244077, 'l1_ratio': 0.896924484078568}. Best is trial 0 with value: 0.4931691414132686.\n",
      "[I 2023-12-03 22:14:34,468] Trial 19 finished with value: 0.4931691414132686 and parameters: {'solver': 'lbfgs'}. Best is trial 0 with value: 0.4931691414132686.\n",
      "[I 2023-12-03 22:14:35,382] Trial 20 finished with value: 0.4931691414132686 and parameters: {'solver': 'lbfgs'}. Best is trial 0 with value: 0.4931691414132686.\n",
      "[I 2023-12-03 22:14:36,255] Trial 21 finished with value: 0.4931691414132686 and parameters: {'solver': 'lbfgs'}. Best is trial 0 with value: 0.4931691414132686.\n",
      "[I 2023-12-03 22:14:37,104] Trial 22 finished with value: 0.4931691414132686 and parameters: {'solver': 'lbfgs'}. Best is trial 0 with value: 0.4931691414132686.\n",
      "[I 2023-12-03 22:14:37,972] Trial 23 finished with value: 0.4931691414132686 and parameters: {'solver': 'lbfgs'}. Best is trial 0 with value: 0.4931691414132686.\n",
      "[I 2023-12-03 22:14:38,883] Trial 24 finished with value: 0.4931691414132686 and parameters: {'solver': 'lbfgs'}. Best is trial 0 with value: 0.4931691414132686.\n",
      "[I 2023-12-03 22:14:39,770] Trial 25 finished with value: 0.4931691414132686 and parameters: {'solver': 'lbfgs'}. Best is trial 0 with value: 0.4931691414132686.\n",
      "[I 2023-12-03 22:14:40,936] Trial 26 finished with value: 0.49305864444463354 and parameters: {'solver': 'saga', 'C': 3.3986096261819654, 'l1_ratio': 0.38461329934236854}. Best is trial 0 with value: 0.4931691414132686.\n",
      "[I 2023-12-03 22:14:41,873] Trial 27 finished with value: 0.4931691414132686 and parameters: {'solver': 'lbfgs'}. Best is trial 0 with value: 0.4931691414132686.\n",
      "[I 2023-12-03 22:14:42,770] Trial 28 finished with value: 0.4931691414132686 and parameters: {'solver': 'lbfgs'}. Best is trial 0 with value: 0.4931691414132686.\n",
      "[I 2023-12-03 22:14:44,046] Trial 29 finished with value: 0.49305864444463354 and parameters: {'solver': 'saga', 'C': 65.4926496160856, 'l1_ratio': 0.6259477236945759}. Best is trial 0 with value: 0.4931691414132686.\n",
      "[I 2023-12-03 22:14:44,955] Trial 30 finished with value: 0.4931691414132686 and parameters: {'solver': 'lbfgs'}. Best is trial 0 with value: 0.4931691414132686.\n",
      "[I 2023-12-03 22:14:45,923] Trial 31 finished with value: 0.4931691414132686 and parameters: {'solver': 'lbfgs'}. Best is trial 0 with value: 0.4931691414132686.\n",
      "[I 2023-12-03 22:14:46,856] Trial 32 finished with value: 0.4931691414132686 and parameters: {'solver': 'lbfgs'}. Best is trial 0 with value: 0.4931691414132686.\n",
      "[I 2023-12-03 22:14:47,740] Trial 33 finished with value: 0.4931691414132686 and parameters: {'solver': 'lbfgs'}. Best is trial 0 with value: 0.4931691414132686.\n",
      "[I 2023-12-03 22:14:48,931] Trial 34 finished with value: 0.49305864444463354 and parameters: {'solver': 'saga', 'C': 34.13822733197978, 'l1_ratio': 0.2652842657367389}. Best is trial 0 with value: 0.4931691414132686.\n",
      "[I 2023-12-03 22:14:49,839] Trial 35 finished with value: 0.4931691414132686 and parameters: {'solver': 'lbfgs'}. Best is trial 0 with value: 0.4931691414132686.\n",
      "[I 2023-12-03 22:14:50,741] Trial 36 finished with value: 0.4931691414132686 and parameters: {'solver': 'lbfgs'}. Best is trial 0 with value: 0.4931691414132686.\n",
      "[I 2023-12-03 22:14:51,868] Trial 37 finished with value: 0.49305864444463354 and parameters: {'solver': 'saga', 'C': 94.45902562660683, 'l1_ratio': 0.7251694733593765}. Best is trial 0 with value: 0.4931691414132686.\n",
      "[I 2023-12-03 22:14:52,775] Trial 38 finished with value: 0.4931691414132686 and parameters: {'solver': 'lbfgs'}. Best is trial 0 with value: 0.4931691414132686.\n",
      "[I 2023-12-03 22:14:53,684] Trial 39 finished with value: 0.4931691414132686 and parameters: {'solver': 'lbfgs'}. Best is trial 0 with value: 0.4931691414132686.\n",
      "[I 2023-12-03 22:14:54,570] Trial 40 finished with value: 0.4931691414132686 and parameters: {'solver': 'lbfgs'}. Best is trial 0 with value: 0.4931691414132686.\n",
      "[I 2023-12-03 22:14:55,411] Trial 41 finished with value: 0.4931691414132686 and parameters: {'solver': 'lbfgs'}. Best is trial 0 with value: 0.4931691414132686.\n",
      "[I 2023-12-03 22:14:56,285] Trial 42 finished with value: 0.4931691414132686 and parameters: {'solver': 'lbfgs'}. Best is trial 0 with value: 0.4931691414132686.\n",
      "[I 2023-12-03 22:14:57,183] Trial 43 finished with value: 0.4931691414132686 and parameters: {'solver': 'lbfgs'}. Best is trial 0 with value: 0.4931691414132686.\n",
      "[I 2023-12-03 22:14:58,087] Trial 44 finished with value: 0.4931691414132686 and parameters: {'solver': 'lbfgs'}. Best is trial 0 with value: 0.4931691414132686.\n",
      "[I 2023-12-03 22:14:59,052] Trial 45 finished with value: 0.4931691414132686 and parameters: {'solver': 'lbfgs'}. Best is trial 0 with value: 0.4931691414132686.\n",
      "[I 2023-12-03 22:15:00,012] Trial 46 finished with value: 0.4931691414132686 and parameters: {'solver': 'lbfgs'}. Best is trial 0 with value: 0.4931691414132686.\n",
      "[I 2023-12-03 22:15:01,263] Trial 47 finished with value: 0.49305864444463354 and parameters: {'solver': 'saga', 'C': 61.29104432340605, 'l1_ratio': 0.34629308554179156}. Best is trial 0 with value: 0.4931691414132686.\n",
      "[I 2023-12-03 22:15:02,145] Trial 48 finished with value: 0.4931691414132686 and parameters: {'solver': 'lbfgs'}. Best is trial 0 with value: 0.4931691414132686.\n",
      "[I 2023-12-03 22:15:03,075] Trial 49 finished with value: 0.4931691414132686 and parameters: {'solver': 'lbfgs'}. Best is trial 0 with value: 0.4931691414132686.\n",
      "[I 2023-12-03 22:15:04,045] Trial 50 finished with value: 0.4931691414132686 and parameters: {'solver': 'lbfgs'}. Best is trial 0 with value: 0.4931691414132686.\n",
      "[I 2023-12-03 22:15:05,003] Trial 51 finished with value: 0.4931691414132686 and parameters: {'solver': 'lbfgs'}. Best is trial 0 with value: 0.4931691414132686.\n",
      "[I 2023-12-03 22:15:05,913] Trial 52 finished with value: 0.4931691414132686 and parameters: {'solver': 'lbfgs'}. Best is trial 0 with value: 0.4931691414132686.\n",
      "[I 2023-12-03 22:15:06,837] Trial 53 finished with value: 0.4931691414132686 and parameters: {'solver': 'lbfgs'}. Best is trial 0 with value: 0.4931691414132686.\n",
      "[I 2023-12-03 22:15:07,771] Trial 54 finished with value: 0.4931691414132686 and parameters: {'solver': 'lbfgs'}. Best is trial 0 with value: 0.4931691414132686.\n",
      "[I 2023-12-03 22:15:08,609] Trial 55 finished with value: 0.4931691414132686 and parameters: {'solver': 'lbfgs'}. Best is trial 0 with value: 0.4931691414132686.\n",
      "[I 2023-12-03 22:15:09,512] Trial 56 finished with value: 0.4931691414132686 and parameters: {'solver': 'lbfgs'}. Best is trial 0 with value: 0.4931691414132686.\n",
      "[I 2023-12-03 22:15:10,442] Trial 57 finished with value: 0.4931691414132686 and parameters: {'solver': 'lbfgs'}. Best is trial 0 with value: 0.4931691414132686.\n",
      "[I 2023-12-03 22:15:11,622] Trial 58 finished with value: 0.49305864444463354 and parameters: {'solver': 'saga', 'C': 21.96580810394407, 'l1_ratio': 0.7462093429125424}. Best is trial 0 with value: 0.4931691414132686.\n",
      "[I 2023-12-03 22:15:12,514] Trial 59 finished with value: 0.4931691414132686 and parameters: {'solver': 'lbfgs'}. Best is trial 0 with value: 0.4931691414132686.\n",
      "[I 2023-12-03 22:15:13,414] Trial 60 finished with value: 0.4931691414132686 and parameters: {'solver': 'lbfgs'}. Best is trial 0 with value: 0.4931691414132686.\n",
      "[I 2023-12-03 22:15:14,381] Trial 61 finished with value: 0.4931691414132686 and parameters: {'solver': 'lbfgs'}. Best is trial 0 with value: 0.4931691414132686.\n",
      "[I 2023-12-03 22:15:15,295] Trial 62 finished with value: 0.4931691414132686 and parameters: {'solver': 'lbfgs'}. Best is trial 0 with value: 0.4931691414132686.\n",
      "[I 2023-12-03 22:15:16,196] Trial 63 finished with value: 0.4931691414132686 and parameters: {'solver': 'lbfgs'}. Best is trial 0 with value: 0.4931691414132686.\n",
      "[I 2023-12-03 22:15:17,141] Trial 64 finished with value: 0.4931691414132686 and parameters: {'solver': 'lbfgs'}. Best is trial 0 with value: 0.4931691414132686.\n",
      "[I 2023-12-03 22:15:18,087] Trial 65 finished with value: 0.4931691414132686 and parameters: {'solver': 'lbfgs'}. Best is trial 0 with value: 0.4931691414132686.\n",
      "[I 2023-12-03 22:15:19,097] Trial 66 finished with value: 0.4931691414132686 and parameters: {'solver': 'lbfgs'}. Best is trial 0 with value: 0.4931691414132686.\n",
      "[I 2023-12-03 22:15:20,325] Trial 67 finished with value: 0.49305864444463354 and parameters: {'solver': 'saga', 'C': 79.05218539779268, 'l1_ratio': 0.18117899789831748}. Best is trial 0 with value: 0.4931691414132686.\n",
      "[I 2023-12-03 22:15:21,275] Trial 68 finished with value: 0.4931691414132686 and parameters: {'solver': 'lbfgs'}. Best is trial 0 with value: 0.4931691414132686.\n",
      "[I 2023-12-03 22:15:22,225] Trial 69 finished with value: 0.4931691414132686 and parameters: {'solver': 'lbfgs'}. Best is trial 0 with value: 0.4931691414132686.\n",
      "[I 2023-12-03 22:15:23,174] Trial 70 finished with value: 0.4931691414132686 and parameters: {'solver': 'lbfgs'}. Best is trial 0 with value: 0.4931691414132686.\n",
      "[I 2023-12-03 22:15:24,138] Trial 71 finished with value: 0.4931691414132686 and parameters: {'solver': 'lbfgs'}. Best is trial 0 with value: 0.4931691414132686.\n",
      "[I 2023-12-03 22:15:25,068] Trial 72 finished with value: 0.4931691414132686 and parameters: {'solver': 'lbfgs'}. Best is trial 0 with value: 0.4931691414132686.\n",
      "[I 2023-12-03 22:15:25,973] Trial 73 finished with value: 0.4931691414132686 and parameters: {'solver': 'lbfgs'}. Best is trial 0 with value: 0.4931691414132686.\n",
      "[I 2023-12-03 22:15:26,958] Trial 74 finished with value: 0.4931691414132686 and parameters: {'solver': 'lbfgs'}. Best is trial 0 with value: 0.4931691414132686.\n",
      "[I 2023-12-03 22:15:27,925] Trial 75 finished with value: 0.4931691414132686 and parameters: {'solver': 'lbfgs'}. Best is trial 0 with value: 0.4931691414132686.\n",
      "[I 2023-12-03 22:15:28,891] Trial 76 finished with value: 0.4931691414132686 and parameters: {'solver': 'lbfgs'}. Best is trial 0 with value: 0.4931691414132686.\n",
      "[I 2023-12-03 22:15:30,122] Trial 77 finished with value: 0.49305864444463354 and parameters: {'solver': 'saga', 'C': 48.66502433638069, 'l1_ratio': 0.45163886154487176}. Best is trial 0 with value: 0.4931691414132686.\n",
      "[I 2023-12-03 22:15:31,071] Trial 78 finished with value: 0.4931691414132686 and parameters: {'solver': 'lbfgs'}. Best is trial 0 with value: 0.4931691414132686.\n",
      "[I 2023-12-03 22:15:32,016] Trial 79 finished with value: 0.4931691414132686 and parameters: {'solver': 'lbfgs'}. Best is trial 0 with value: 0.4931691414132686.\n",
      "[I 2023-12-03 22:15:32,945] Trial 80 finished with value: 0.4931691414132686 and parameters: {'solver': 'lbfgs'}. Best is trial 0 with value: 0.4931691414132686.\n",
      "[I 2023-12-03 22:15:33,896] Trial 81 finished with value: 0.4931691414132686 and parameters: {'solver': 'lbfgs'}. Best is trial 0 with value: 0.4931691414132686.\n",
      "[I 2023-12-03 22:15:34,882] Trial 82 finished with value: 0.4931691414132686 and parameters: {'solver': 'lbfgs'}. Best is trial 0 with value: 0.4931691414132686.\n",
      "[I 2023-12-03 22:15:35,830] Trial 83 finished with value: 0.4931691414132686 and parameters: {'solver': 'lbfgs'}. Best is trial 0 with value: 0.4931691414132686.\n",
      "[I 2023-12-03 22:15:36,878] Trial 84 finished with value: 0.4931691414132686 and parameters: {'solver': 'lbfgs'}. Best is trial 0 with value: 0.4931691414132686.\n",
      "[I 2023-12-03 22:15:37,818] Trial 85 finished with value: 0.4931691414132686 and parameters: {'solver': 'lbfgs'}. Best is trial 0 with value: 0.4931691414132686.\n",
      "[I 2023-12-03 22:15:38,797] Trial 86 finished with value: 0.4931691414132686 and parameters: {'solver': 'lbfgs'}. Best is trial 0 with value: 0.4931691414132686.\n",
      "[I 2023-12-03 22:15:39,711] Trial 87 finished with value: 0.4931691414132686 and parameters: {'solver': 'lbfgs'}. Best is trial 0 with value: 0.4931691414132686.\n",
      "[I 2023-12-03 22:15:40,615] Trial 88 finished with value: 0.4931691414132686 and parameters: {'solver': 'lbfgs'}. Best is trial 0 with value: 0.4931691414132686.\n",
      "[I 2023-12-03 22:15:41,876] Trial 89 finished with value: 0.4933857529051826 and parameters: {'solver': 'saga', 'C': 0.47450450382498843, 'l1_ratio': 0.2606391937344135}. Best is trial 89 with value: 0.4933857529051826.\n",
      "[I 2023-12-03 22:15:43,168] Trial 90 finished with value: 0.49305864444463354 and parameters: {'solver': 'saga', 'C': 2.1527582651887798, 'l1_ratio': 0.2409247129326378}. Best is trial 89 with value: 0.4933857529051826.\n",
      "[I 2023-12-03 22:15:44,424] Trial 91 finished with value: 0.49305864444463354 and parameters: {'solver': 'saga', 'C': 18.76193421656769, 'l1_ratio': 0.021641132749179892}. Best is trial 89 with value: 0.4933857529051826.\n",
      "[I 2023-12-03 22:15:45,656] Trial 92 finished with value: 0.49305864444463354 and parameters: {'solver': 'saga', 'C': 12.770312962123533, 'l1_ratio': 0.15428155222709533}. Best is trial 89 with value: 0.4933857529051826.\n",
      "[I 2023-12-03 22:15:46,841] Trial 93 finished with value: 0.4933857529051826 and parameters: {'solver': 'saga', 'C': 0.9705367647860967, 'l1_ratio': 0.3053501621953596}. Best is trial 89 with value: 0.4933857529051826.\n",
      "[I 2023-12-03 22:15:48,103] Trial 94 finished with value: 0.49327525593654775 and parameters: {'solver': 'saga', 'C': 0.5258241980193941, 'l1_ratio': 0.3081358013064063}. Best is trial 89 with value: 0.4933857529051826.\n",
      "[I 2023-12-03 22:15:49,314] Trial 95 finished with value: 0.49371916263486015 and parameters: {'solver': 'saga', 'C': 0.3608624865251586, 'l1_ratio': 0.33049717795254374}. Best is trial 95 with value: 0.49371916263486015.\n",
      "[I 2023-12-03 22:15:50,597] Trial 96 finished with value: 0.49327525593654775 and parameters: {'solver': 'saga', 'C': 0.7716472604573096, 'l1_ratio': 0.30872032364830865}. Best is trial 95 with value: 0.49371916263486015.\n",
      "[I 2023-12-03 22:15:51,815] Trial 97 finished with value: 0.49327525593654775 and parameters: {'solver': 'saga', 'C': 0.5125281006532327, 'l1_ratio': 0.31258599032477147}. Best is trial 95 with value: 0.49371916263486015.\n",
      "[I 2023-12-03 22:15:53,079] Trial 98 finished with value: 0.4933857529051826 and parameters: {'solver': 'saga', 'C': 0.9605332984867102, 'l1_ratio': 0.31600919260713617}. Best is trial 95 with value: 0.49371916263486015.\n",
      "[I 2023-12-03 22:15:54,306] Trial 99 finished with value: 0.49327525593654775 and parameters: {'solver': 'saga', 'C': 0.6213379150755831, 'l1_ratio': 0.3103475900160623}. Best is trial 95 with value: 0.49371916263486015.\n"
     ]
    }
   ],
   "source": [
    "study_log_reg_smote.optimize(optuna_optimize, n_trials=100)"
   ],
   "metadata": {
    "collapsed": false,
    "ExecuteTime": {
     "end_time": "2023-12-03T19:15:54.317812100Z",
     "start_time": "2023-12-03T19:14:15.919359200Z"
    }
   }
  },
  {
   "cell_type": "code",
   "execution_count": 61,
   "outputs": [
    {
     "name": "stdout",
     "output_type": "stream",
     "text": [
      "Наилучшие значения гиперпараметров Logistic Regression: {'solver': 'saga', 'C': 0.3608624865251586, 'l1_ratio': 0.33049717795254374}\n",
      "f1_score на обучающем наборе: 0.494\n"
     ]
    }
   ],
   "source": [
    "print(\"Наилучшие значения гиперпараметров Logistic Regression: {}\".format(study_log_reg_smote.best_params))\n",
    "print(\"f1_score на обучающем наборе: {:.3f}\". format(study_log_reg_smote.best_value))"
   ],
   "metadata": {
    "collapsed": false,
    "ExecuteTime": {
     "end_time": "2023-12-03T19:16:26.005245700Z",
     "start_time": "2023-12-03T19:16:25.983764600Z"
    }
   }
  },
  {
   "cell_type": "code",
   "execution_count": 62,
   "outputs": [],
   "source": [
    "with mlflow.start_run(nested=True,\n",
    "                      run_name='log_reg_pipeline_smote'):\n",
    "\n",
    "    best_params = study_log_reg_smote.best_params\n",
    "    best_score = study_log_reg_smote.best_value\n",
    "    mlflow.log_params(best_params)\n",
    "\n",
    "    log_reg_pipe_sm = Pipeline([\n",
    "        ('preprocessor', preprocessor),\n",
    "        ('smote', SMOTE(random_state=12345)),\n",
    "        ('model', LogisticRegression(**best_params,\n",
    "                                     random_state=12345))\n",
    "    ])\n",
    "\n",
    "    log_reg_pipe_sm.fit(X_train, y_train)\n",
    "\n",
    "    pred_proba = log_reg_pipe_sm.predict_proba(X_test)[:, 1]\n",
    "    roc_auc_lr_sm = roc_auc_score(y_test, pred_proba)\n",
    "    \n",
    "    mlflow.log_metrics({\n",
    "        'f1_cv': best_score,\n",
    "        'roc_auc': roc_auc_lr_sm,\n",
    "        'balanced_accuracy': balanced_accuracy_score(y_test, np.round(pred_proba, 0)),\n",
    "        'f1': f1_score(y_test, np.round(pred_proba, 0))\n",
    "    })\n",
    "\n",
    "    mlflow.sklearn.log_model(log_reg_pipe_sm, 'log_reg_pipeline_smote')"
   ],
   "metadata": {
    "collapsed": false,
    "ExecuteTime": {
     "end_time": "2023-12-03T19:16:35.916486200Z",
     "start_time": "2023-12-03T19:16:27.222103900Z"
    }
   }
  },
  {
   "cell_type": "markdown",
   "source": [
    "### 3.2.4 Метод опорных векторов"
   ],
   "metadata": {
    "collapsed": false
   }
  },
  {
   "cell_type": "code",
   "execution_count": 63,
   "outputs": [],
   "source": [
    "def optuna_optimize(trial):\n",
    "\n",
    "    param = {\n",
    "        'C': trial.suggest_float('C', 0.01, 3)  \n",
    "    }\n",
    "\n",
    "    estimator = SVC(**param,\n",
    "                    random_state=12345,\n",
    "                    probability=True)\n",
    "\n",
    "    svc_pipe = Pipeline([\n",
    "        ('preprocessor', preprocessor),\n",
    "        ('smote', SMOTE(random_state=12345)),\n",
    "        ('model', estimator)\n",
    "    ])\n",
    "\n",
    "    score = cross_val_score(svc_pipe, X_train, y_train, cv=5, scoring='f1').mean()\n",
    "    \n",
    "    return score"
   ],
   "metadata": {
    "collapsed": false,
    "ExecuteTime": {
     "end_time": "2023-12-03T19:16:35.947654500Z",
     "start_time": "2023-12-03T19:16:35.917571500Z"
    }
   }
  },
  {
   "cell_type": "code",
   "execution_count": 64,
   "outputs": [
    {
     "name": "stderr",
     "output_type": "stream",
     "text": [
      "[I 2023-12-03 22:16:35,929] A new study created in memory with name: SVC Optuna Optimization SMOTE\n"
     ]
    }
   ],
   "source": [
    "study_svc_smote = optuna.create_study(study_name=\"SVC Optuna Optimization SMOTE\",\n",
    "                                direction='maximize')"
   ],
   "metadata": {
    "collapsed": false,
    "ExecuteTime": {
     "end_time": "2023-12-03T19:16:36.056773600Z",
     "start_time": "2023-12-03T19:16:35.929680200Z"
    }
   }
  },
  {
   "cell_type": "code",
   "execution_count": 65,
   "outputs": [
    {
     "name": "stderr",
     "output_type": "stream",
     "text": [
      "[I 2023-12-03 22:18:50,575] Trial 0 finished with value: 0.5724173492475945 and parameters: {'C': 2.9554302116902584}. Best is trial 0 with value: 0.5724173492475945.\n",
      "[I 2023-12-03 22:20:52,327] Trial 1 finished with value: 0.5740840432406829 and parameters: {'C': 0.5359950852368323}. Best is trial 1 with value: 0.5740840432406829.\n",
      "[I 2023-12-03 22:22:38,386] Trial 2 finished with value: 0.5751424123849702 and parameters: {'C': 1.0838838883886295}. Best is trial 2 with value: 0.5751424123849702.\n",
      "[I 2023-12-03 22:24:44,968] Trial 3 finished with value: 0.5744834251792236 and parameters: {'C': 0.6677958178338622}. Best is trial 2 with value: 0.5751424123849702.\n",
      "[I 2023-12-03 22:26:30,410] Trial 4 finished with value: 0.572260890753646 and parameters: {'C': 0.3453776325964547}. Best is trial 2 with value: 0.5751424123849702.\n",
      "[I 2023-12-03 22:28:16,563] Trial 5 finished with value: 0.5758239962302796 and parameters: {'C': 1.5845043585181544}. Best is trial 5 with value: 0.5758239962302796.\n",
      "[I 2023-12-03 22:29:58,493] Trial 6 finished with value: 0.573246166581687 and parameters: {'C': 2.374672338090212}. Best is trial 5 with value: 0.5758239962302796.\n",
      "[I 2023-12-03 22:31:41,053] Trial 7 finished with value: 0.5747494040228538 and parameters: {'C': 0.8363191839434557}. Best is trial 5 with value: 0.5758239962302796.\n",
      "[I 2023-12-03 22:33:22,850] Trial 8 finished with value: 0.5718003631829685 and parameters: {'C': 2.6399177897285186}. Best is trial 5 with value: 0.5758239962302796.\n",
      "[I 2023-12-03 22:35:06,962] Trial 9 finished with value: 0.5729868937454717 and parameters: {'C': 2.8507523737183895}. Best is trial 5 with value: 0.5758239962302796.\n"
     ]
    }
   ],
   "source": [
    "study_svc_smote.optimize(optuna_optimize, n_trials=10)"
   ],
   "metadata": {
    "collapsed": false,
    "ExecuteTime": {
     "end_time": "2023-12-03T19:35:07.009548400Z",
     "start_time": "2023-12-03T19:16:35.948855600Z"
    }
   }
  },
  {
   "cell_type": "code",
   "execution_count": 66,
   "outputs": [
    {
     "name": "stdout",
     "output_type": "stream",
     "text": [
      "Наилучшие значения гиперпараметров SVC: {'C': 1.5845043585181544}\n",
      "f1_score на обучающем наборе: 0.576\n"
     ]
    }
   ],
   "source": [
    "print(\"Наилучшие значения гиперпараметров SVC: {}\".format(study_svc_smote.best_params))\n",
    "print(\"f1_score на обучающем наборе: {:.3f}\". format(study_svc_smote.best_value))"
   ],
   "metadata": {
    "collapsed": false,
    "ExecuteTime": {
     "end_time": "2023-12-03T19:35:07.026130600Z",
     "start_time": "2023-12-03T19:35:07.007249Z"
    }
   }
  },
  {
   "cell_type": "code",
   "execution_count": 67,
   "outputs": [],
   "source": [
    "with mlflow.start_run(nested=True,\n",
    "                      run_name='svc_pipeline_smote'):\n",
    "\n",
    "    best_params = study_svc_smote.best_params\n",
    "    best_score = study_svc_smote.best_value\n",
    "    mlflow.log_params(best_params)\n",
    "\n",
    "    svc_pipe_sm = Pipeline([\n",
    "        ('preprocessor', preprocessor),\n",
    "        ('smote', SMOTE(random_state=12345)),\n",
    "        ('model', SVC(**best_params,\n",
    "                      random_state=12345,\n",
    "                      probability=True))\n",
    "    ])\n",
    "\n",
    "    svc_pipe_sm.fit(X_train, y_train)\n",
    "    pred_proba = svc_pipe_sm.predict_proba(X_test)[:, 1]\n",
    "    roc_auc_svc_sm = roc_auc_score(y_test, pred_proba)\n",
    "    \n",
    "    mlflow.log_metrics({\n",
    "        'f1_cv': best_score,\n",
    "        'roc_auc': roc_auc_svc_sm,\n",
    "        'balanced_accuracy': balanced_accuracy_score(y_test, np.round(pred_proba, 0)),\n",
    "        'f1': f1_score(y_test, np.round(pred_proba, 0))\n",
    "    })\n",
    "\n",
    "    mlflow.sklearn.log_model(svc_pipe_sm, 'svc_pipeline_smote')"
   ],
   "metadata": {
    "collapsed": false,
    "ExecuteTime": {
     "end_time": "2023-12-03T19:35:52.756433400Z",
     "start_time": "2023-12-03T19:35:07.059252300Z"
    }
   }
  },
  {
   "cell_type": "code",
   "execution_count": 68,
   "outputs": [],
   "source": [
    "colNames = [\"XGBoost\", \"Random Forest\", \"Logistic Regression\", \"SVC\"]\n",
    "f1_results = {\"Imbalanced\":[study_xgb.best_value, '-', '-', '-'],\n",
    "           \"Class Weight\":[study_xgb_cw.best_value, \n",
    "                           study_rf.best_value, \n",
    "                           study_log_reg.best_value, \n",
    "                           study_svc.best_value],\n",
    "           \"SMOTE\":[study_xgb_smote.best_value, \n",
    "                    study_rf_smote.best_value, \n",
    "                    study_log_reg_smote.best_value, \n",
    "                    study_svc_smote.best_value]}"
   ],
   "metadata": {
    "collapsed": false,
    "ExecuteTime": {
     "end_time": "2023-12-03T19:35:52.806240200Z",
     "start_time": "2023-12-03T19:35:52.759683800Z"
    }
   }
  },
  {
   "cell_type": "code",
   "execution_count": 69,
   "outputs": [],
   "source": [
    "# результаты метрики f1 score на кросс-валидации:\n",
    "f1_table = pd.DataFrame.from_dict(f1_results, orient='index', columns=colNames)"
   ],
   "metadata": {
    "collapsed": false,
    "ExecuteTime": {
     "end_time": "2023-12-03T19:35:52.829330800Z",
     "start_time": "2023-12-03T19:35:52.790879Z"
    }
   }
  },
  {
   "cell_type": "code",
   "execution_count": 70,
   "outputs": [
    {
     "data": {
      "text/plain": "               XGBoost Random Forest Logistic Regression       SVC\nImbalanced    0.590034             -                   -         -\nClass Weight  0.610728      0.619135            0.491084  0.579142\nSMOTE         0.621177      0.613042            0.493719  0.575824",
      "text/html": "<div>\n<style scoped>\n    .dataframe tbody tr th:only-of-type {\n        vertical-align: middle;\n    }\n\n    .dataframe tbody tr th {\n        vertical-align: top;\n    }\n\n    .dataframe thead th {\n        text-align: right;\n    }\n</style>\n<table border=\"1\" class=\"dataframe\">\n  <thead>\n    <tr style=\"text-align: right;\">\n      <th></th>\n      <th>XGBoost</th>\n      <th>Random Forest</th>\n      <th>Logistic Regression</th>\n      <th>SVC</th>\n    </tr>\n  </thead>\n  <tbody>\n    <tr>\n      <th>Imbalanced</th>\n      <td>0.590034</td>\n      <td>-</td>\n      <td>-</td>\n      <td>-</td>\n    </tr>\n    <tr>\n      <th>Class Weight</th>\n      <td>0.610728</td>\n      <td>0.619135</td>\n      <td>0.491084</td>\n      <td>0.579142</td>\n    </tr>\n    <tr>\n      <th>SMOTE</th>\n      <td>0.621177</td>\n      <td>0.613042</td>\n      <td>0.493719</td>\n      <td>0.575824</td>\n    </tr>\n  </tbody>\n</table>\n</div>"
     },
     "execution_count": 70,
     "metadata": {},
     "output_type": "execute_result"
    }
   ],
   "source": [
    "f1_table"
   ],
   "metadata": {
    "collapsed": false,
    "ExecuteTime": {
     "end_time": "2023-12-03T19:35:52.877852700Z",
     "start_time": "2023-12-03T19:35:52.819261600Z"
    }
   }
  },
  {
   "cell_type": "code",
   "execution_count": 71,
   "outputs": [],
   "source": [
    "roc_auc_results = {\"Imbalanced\":[roc_auc_xgb_imb, '-', '-', '-'],\n",
    "           \"Class Weight\":[roc_auc_xgb_cw,\n",
    "                           roc_auc_rf_cw,\n",
    "                           roc_auc_lr_cw,\n",
    "                           roc_auc_svc_cw],\n",
    "           \"SMOTE\":[roc_auc_xgb_sm,\n",
    "                    roc_auc_rf_sm,\n",
    "                    roc_auc_lr_sm,\n",
    "                    roc_auc_svc_sm]}"
   ],
   "metadata": {
    "collapsed": false,
    "ExecuteTime": {
     "end_time": "2023-12-03T19:35:52.877852700Z",
     "start_time": "2023-12-03T19:35:52.850789300Z"
    }
   }
  },
  {
   "cell_type": "code",
   "execution_count": 72,
   "outputs": [],
   "source": [
    "# результаты метрики roc_auc на тесте:\n",
    "roc_auc_table = pd.DataFrame.from_dict(roc_auc_results, orient='index', columns=colNames)"
   ],
   "metadata": {
    "collapsed": false,
    "ExecuteTime": {
     "end_time": "2023-12-03T19:35:52.887497200Z",
     "start_time": "2023-12-03T19:35:52.871113Z"
    }
   }
  },
  {
   "cell_type": "code",
   "execution_count": 73,
   "outputs": [
    {
     "data": {
      "text/plain": "               XGBoost Random Forest Logistic Regression       SVC\nImbalanced    0.870960             -                   -         -\nClass Weight  0.870203      0.871343            0.788548  0.844288\nSMOTE         0.867749      0.864353            0.787647  0.828429",
      "text/html": "<div>\n<style scoped>\n    .dataframe tbody tr th:only-of-type {\n        vertical-align: middle;\n    }\n\n    .dataframe tbody tr th {\n        vertical-align: top;\n    }\n\n    .dataframe thead th {\n        text-align: right;\n    }\n</style>\n<table border=\"1\" class=\"dataframe\">\n  <thead>\n    <tr style=\"text-align: right;\">\n      <th></th>\n      <th>XGBoost</th>\n      <th>Random Forest</th>\n      <th>Logistic Regression</th>\n      <th>SVC</th>\n    </tr>\n  </thead>\n  <tbody>\n    <tr>\n      <th>Imbalanced</th>\n      <td>0.870960</td>\n      <td>-</td>\n      <td>-</td>\n      <td>-</td>\n    </tr>\n    <tr>\n      <th>Class Weight</th>\n      <td>0.870203</td>\n      <td>0.871343</td>\n      <td>0.788548</td>\n      <td>0.844288</td>\n    </tr>\n    <tr>\n      <th>SMOTE</th>\n      <td>0.867749</td>\n      <td>0.864353</td>\n      <td>0.787647</td>\n      <td>0.828429</td>\n    </tr>\n  </tbody>\n</table>\n</div>"
     },
     "execution_count": 73,
     "metadata": {},
     "output_type": "execute_result"
    }
   ],
   "source": [
    "roc_auc_table"
   ],
   "metadata": {
    "collapsed": false,
    "ExecuteTime": {
     "end_time": "2023-12-03T19:35:52.931468100Z",
     "start_time": "2023-12-03T19:35:52.887497200Z"
    }
   }
  },
  {
   "cell_type": "markdown",
   "source": [
    "# 4. Тестирование лучшей модели\n"
   ],
   "metadata": {
    "collapsed": false
   }
  },
  {
   "cell_type": "code",
   "execution_count": 74,
   "outputs": [
    {
     "data": {
      "text/plain": "Downloading artifacts:   0%|          | 0/5 [00:00<?, ?it/s]",
      "application/vnd.jupyter.widget-view+json": {
       "version_major": 2,
       "version_minor": 0,
       "model_id": "d8e09c65f9c8437da1cd6b82f7280a92"
      }
     },
     "metadata": {},
     "output_type": "display_data"
    }
   ],
   "source": [
    "best_model = mlflow.sklearn.load_model('runs:/980b9744d00643c88633da47d8a2de6c/xgb_pipeline_smote')"
   ],
   "metadata": {
    "collapsed": false,
    "ExecuteTime": {
     "end_time": "2023-12-03T19:36:52.506247100Z",
     "start_time": "2023-12-03T19:36:51.709756900Z"
    }
   }
  },
  {
   "cell_type": "code",
   "execution_count": 75,
   "outputs": [
    {
     "data": {
      "text/plain": "['best_model.pkl']"
     },
     "execution_count": 75,
     "metadata": {},
     "output_type": "execute_result"
    }
   ],
   "source": [
    "joblib.dump(best_model, 'best_model.pkl')"
   ],
   "metadata": {
    "collapsed": false,
    "ExecuteTime": {
     "end_time": "2023-12-03T19:36:53.106952900Z",
     "start_time": "2023-12-03T19:36:53.011562Z"
    }
   }
  },
  {
   "cell_type": "code",
   "execution_count": 76,
   "outputs": [
    {
     "name": "stdout",
     "output_type": "stream",
     "text": [
      "ROC-AUC score на тестовой выборке: 0.8667882057712568\n",
      "f1 score на тестовой выборке: 0.6361386138613863\n",
      "Balanced accuracy на тестовой выборке: 0.7705270756118213\n"
     ]
    }
   ],
   "source": [
    "pred_proba_xgb_smote = best_model.predict_proba(X_test)[:, 1]\n",
    "print('ROC-AUC score на тестовой выборке:', roc_auc_score(y_test, pred_proba_xgb_smote))\n",
    "print('f1 score на тестовой выборке:', f1_score(y_test, np.round(pred_proba_xgb_smote)))\n",
    "print('Balanced accuracy на тестовой выборке:', balanced_accuracy_score(y_test, np.round(pred_proba_xgb_smote)))"
   ],
   "metadata": {
    "collapsed": false,
    "ExecuteTime": {
     "end_time": "2023-12-03T19:36:54.089020400Z",
     "start_time": "2023-12-03T19:36:54.019432900Z"
    }
   }
  },
  {
   "cell_type": "code",
   "execution_count": 77,
   "outputs": [
    {
     "data": {
      "text/plain": "<Figure size 600x400 with 1 Axes>",
      "image/png": "[encoded data removed]"
     },
     "metadata": {},
     "output_type": "display_data"
    }
   ],
   "source": [
    "fpr, tpr, thresholds = roc_curve(y_test, pred_proba)\n",
    "\n",
    "plt.figure(figsize=(6, 4))\n",
    "\n",
    "plt.plot(fpr, tpr, label=f'XGBClassifier: {round(roc_auc_score(y_test, pred_proba), 4)}')\n",
    "\n",
    "plt.plot([0, 1], [0, 1], linestyle='--', label='coin')\n",
    "\n",
    "plt.xlim([-0.02, 1.0])\n",
    "plt.ylim([0.0, 1.05])\n",
    "\n",
    "plt.xlabel('False Positive Rate')\n",
    "plt.ylabel('True Positive Rate')\n",
    "\n",
    "plt.title('ROC-кривая')\n",
    "\n",
    "plt.legend()\n",
    "\n",
    "plt.show()"
   ],
   "metadata": {
    "collapsed": false,
    "ExecuteTime": {
     "end_time": "2023-12-03T19:37:19.111701Z",
     "start_time": "2023-12-03T19:37:18.647982Z"
    }
   }
  },
  {
   "cell_type": "code",
   "execution_count": null,
   "outputs": [],
   "source": [],
   "metadata": {
    "collapsed": false
   }
  }
 ],
 "metadata": {
  "kernelspec": {
   "display_name": "Python 3",
   "language": "python",
   "name": "python3"
  },
  "language_info": {
   "codemirror_mode": {
    "name": "ipython",
    "version": 2
   },
   "file_extension": ".py",
   "mimetype": "text/x-python",
   "name": "python",
   "nbconvert_exporter": "python",
   "pygments_lexer": "ipython2",
   "version": "2.7.6"
  }
 },
 "nbformat": 4,
 "nbformat_minor": 0
}
