{
 "cells": [
  {
   "cell_type": "markdown",
   "source": [
    "# 1. Подготовка данных"
   ],
   "metadata": {
    "collapsed": false
   }
  },
  {
   "cell_type": "code",
   "execution_count": 1,
   "outputs": [],
   "source": [
    "import warnings\n",
    "warnings.filterwarnings('ignore')\n",
    "\n",
    "import optuna\n",
    "import mlflow\n",
    "import joblib\n",
    "import pandas as pd\n",
    "import xgboost as xgb\n",
    "import numpy as np\n",
    "import matplotlib.pyplot as plt\n",
    "\n",
    "from imblearn.over_sampling import SMOTE\n",
    "from imblearn.pipeline import Pipeline\n",
    "from sklearn.model_selection import train_test_split, cross_val_score\n",
    "from sklearn.preprocessing import OneHotEncoder, StandardScaler, PowerTransformer\n",
    "from sklearn.compose import ColumnTransformer\n",
    "from sklearn.impute import SimpleImputer\n",
    "from sklearn.ensemble import RandomForestClassifier\n",
    "from sklearn.linear_model import LogisticRegression\n",
    "from sklearn.svm import SVC\n",
    "from sklearn.metrics import roc_auc_score, roc_curve, f1_score, balanced_accuracy_score\n",
    "\n",
    "mlflow.set_tracking_uri(\"http://127.0.0.1:8000\")\n",
    "client=mlflow.MlflowClient(tracking_uri='http://127.0.0.1:8000')\n",
    "# optuna.logging.set_verbosity(optuna.logging.WARNING)"
   ],
   "metadata": {
    "collapsed": false,
    "ExecuteTime": {
     "end_time": "2023-12-05T16:32:47.994995600Z",
     "start_time": "2023-12-05T16:32:39.512260300Z"
    }
   }
  },
  {
   "cell_type": "code",
   "execution_count": 2,
   "outputs": [],
   "source": [
    "df = pd.read_csv('Churn.csv')"
   ],
   "metadata": {
    "collapsed": false,
    "ExecuteTime": {
     "end_time": "2023-12-05T16:32:49.063110700Z",
     "start_time": "2023-12-05T16:32:48.968353800Z"
    }
   }
  },
  {
   "cell_type": "code",
   "execution_count": 3,
   "outputs": [
    {
     "data": {
      "text/plain": "      RowNumber  CustomerId    Surname  CreditScore Geography  Gender  Age  \\\n0             1    15634602   Hargrave          619    France  Female   42   \n1             2    15647311       Hill          608     Spain  Female   41   \n2             3    15619304       Onio          502    France  Female   42   \n3             4    15701354       Boni          699    France  Female   39   \n4             5    15737888   Mitchell          850     Spain  Female   43   \n...         ...         ...        ...          ...       ...     ...  ...   \n9995       9996    15606229   Obijiaku          771    France    Male   39   \n9996       9997    15569892  Johnstone          516    France    Male   35   \n9997       9998    15584532        Liu          709    France  Female   36   \n9998       9999    15682355  Sabbatini          772   Germany    Male   42   \n9999      10000    15628319     Walker          792    France  Female   28   \n\n      Tenure    Balance  NumOfProducts  HasCrCard  IsActiveMember  \\\n0        2.0       0.00              1          1               1   \n1        1.0   83807.86              1          0               1   \n2        8.0  159660.80              3          1               0   \n3        1.0       0.00              2          0               0   \n4        2.0  125510.82              1          1               1   \n...      ...        ...            ...        ...             ...   \n9995     5.0       0.00              2          1               0   \n9996    10.0   57369.61              1          1               1   \n9997     7.0       0.00              1          0               1   \n9998     3.0   75075.31              2          1               0   \n9999     NaN  130142.79              1          1               0   \n\n      EstimatedSalary  Exited  \n0           101348.88       1  \n1           112542.58       0  \n2           113931.57       1  \n3            93826.63       0  \n4            79084.10       0  \n...               ...     ...  \n9995         96270.64       0  \n9996        101699.77       0  \n9997         42085.58       1  \n9998         92888.52       1  \n9999         38190.78       0  \n\n[10000 rows x 14 columns]",
      "text/html": "<div>\n<style scoped>\n    .dataframe tbody tr th:only-of-type {\n        vertical-align: middle;\n    }\n\n    .dataframe tbody tr th {\n        vertical-align: top;\n    }\n\n    .dataframe thead th {\n        text-align: right;\n    }\n</style>\n<table border=\"1\" class=\"dataframe\">\n  <thead>\n    <tr style=\"text-align: right;\">\n      <th></th>\n      <th>RowNumber</th>\n      <th>CustomerId</th>\n      <th>Surname</th>\n      <th>CreditScore</th>\n      <th>Geography</th>\n      <th>Gender</th>\n      <th>Age</th>\n      <th>Tenure</th>\n      <th>Balance</th>\n      <th>NumOfProducts</th>\n      <th>HasCrCard</th>\n      <th>IsActiveMember</th>\n      <th>EstimatedSalary</th>\n      <th>Exited</th>\n    </tr>\n  </thead>\n  <tbody>\n    <tr>\n      <th>0</th>\n      <td>1</td>\n      <td>15634602</td>\n      <td>Hargrave</td>\n      <td>619</td>\n      <td>France</td>\n      <td>Female</td>\n      <td>42</td>\n      <td>2.0</td>\n      <td>0.00</td>\n      <td>1</td>\n      <td>1</td>\n      <td>1</td>\n      <td>101348.88</td>\n      <td>1</td>\n    </tr>\n    <tr>\n      <th>1</th>\n      <td>2</td>\n      <td>15647311</td>\n      <td>Hill</td>\n      <td>608</td>\n      <td>Spain</td>\n      <td>Female</td>\n      <td>41</td>\n      <td>1.0</td>\n      <td>83807.86</td>\n      <td>1</td>\n      <td>0</td>\n      <td>1</td>\n      <td>112542.58</td>\n      <td>0</td>\n    </tr>\n    <tr>\n      <th>2</th>\n      <td>3</td>\n      <td>15619304</td>\n      <td>Onio</td>\n      <td>502</td>\n      <td>France</td>\n      <td>Female</td>\n      <td>42</td>\n      <td>8.0</td>\n      <td>159660.80</td>\n      <td>3</td>\n      <td>1</td>\n      <td>0</td>\n      <td>113931.57</td>\n      <td>1</td>\n    </tr>\n    <tr>\n      <th>3</th>\n      <td>4</td>\n      <td>15701354</td>\n      <td>Boni</td>\n      <td>699</td>\n      <td>France</td>\n      <td>Female</td>\n      <td>39</td>\n      <td>1.0</td>\n      <td>0.00</td>\n      <td>2</td>\n      <td>0</td>\n      <td>0</td>\n      <td>93826.63</td>\n      <td>0</td>\n    </tr>\n    <tr>\n      <th>4</th>\n      <td>5</td>\n      <td>15737888</td>\n      <td>Mitchell</td>\n      <td>850</td>\n      <td>Spain</td>\n      <td>Female</td>\n      <td>43</td>\n      <td>2.0</td>\n      <td>125510.82</td>\n      <td>1</td>\n      <td>1</td>\n      <td>1</td>\n      <td>79084.10</td>\n      <td>0</td>\n    </tr>\n    <tr>\n      <th>...</th>\n      <td>...</td>\n      <td>...</td>\n      <td>...</td>\n      <td>...</td>\n      <td>...</td>\n      <td>...</td>\n      <td>...</td>\n      <td>...</td>\n      <td>...</td>\n      <td>...</td>\n      <td>...</td>\n      <td>...</td>\n      <td>...</td>\n      <td>...</td>\n    </tr>\n    <tr>\n      <th>9995</th>\n      <td>9996</td>\n      <td>15606229</td>\n      <td>Obijiaku</td>\n      <td>771</td>\n      <td>France</td>\n      <td>Male</td>\n      <td>39</td>\n      <td>5.0</td>\n      <td>0.00</td>\n      <td>2</td>\n      <td>1</td>\n      <td>0</td>\n      <td>96270.64</td>\n      <td>0</td>\n    </tr>\n    <tr>\n      <th>9996</th>\n      <td>9997</td>\n      <td>15569892</td>\n      <td>Johnstone</td>\n      <td>516</td>\n      <td>France</td>\n      <td>Male</td>\n      <td>35</td>\n      <td>10.0</td>\n      <td>57369.61</td>\n      <td>1</td>\n      <td>1</td>\n      <td>1</td>\n      <td>101699.77</td>\n      <td>0</td>\n    </tr>\n    <tr>\n      <th>9997</th>\n      <td>9998</td>\n      <td>15584532</td>\n      <td>Liu</td>\n      <td>709</td>\n      <td>France</td>\n      <td>Female</td>\n      <td>36</td>\n      <td>7.0</td>\n      <td>0.00</td>\n      <td>1</td>\n      <td>0</td>\n      <td>1</td>\n      <td>42085.58</td>\n      <td>1</td>\n    </tr>\n    <tr>\n      <th>9998</th>\n      <td>9999</td>\n      <td>15682355</td>\n      <td>Sabbatini</td>\n      <td>772</td>\n      <td>Germany</td>\n      <td>Male</td>\n      <td>42</td>\n      <td>3.0</td>\n      <td>75075.31</td>\n      <td>2</td>\n      <td>1</td>\n      <td>0</td>\n      <td>92888.52</td>\n      <td>1</td>\n    </tr>\n    <tr>\n      <th>9999</th>\n      <td>10000</td>\n      <td>15628319</td>\n      <td>Walker</td>\n      <td>792</td>\n      <td>France</td>\n      <td>Female</td>\n      <td>28</td>\n      <td>NaN</td>\n      <td>130142.79</td>\n      <td>1</td>\n      <td>1</td>\n      <td>0</td>\n      <td>38190.78</td>\n      <td>0</td>\n    </tr>\n  </tbody>\n</table>\n<p>10000 rows × 14 columns</p>\n</div>"
     },
     "execution_count": 3,
     "metadata": {},
     "output_type": "execute_result"
    }
   ],
   "source": [
    "df"
   ],
   "metadata": {
    "collapsed": false,
    "ExecuteTime": {
     "end_time": "2023-12-05T16:32:50.003343400Z",
     "start_time": "2023-12-05T16:32:49.909021100Z"
    }
   }
  },
  {
   "cell_type": "code",
   "execution_count": 4,
   "outputs": [
    {
     "name": "stdout",
     "output_type": "stream",
     "text": [
      "<class 'pandas.core.frame.DataFrame'>\n",
      "RangeIndex: 10000 entries, 0 to 9999\n",
      "Data columns (total 14 columns):\n",
      " #   Column           Non-Null Count  Dtype  \n",
      "---  ------           --------------  -----  \n",
      " 0   RowNumber        10000 non-null  int64  \n",
      " 1   CustomerId       10000 non-null  int64  \n",
      " 2   Surname          10000 non-null  object \n",
      " 3   CreditScore      10000 non-null  int64  \n",
      " 4   Geography        10000 non-null  object \n",
      " 5   Gender           10000 non-null  object \n",
      " 6   Age              10000 non-null  int64  \n",
      " 7   Tenure           9091 non-null   float64\n",
      " 8   Balance          10000 non-null  float64\n",
      " 9   NumOfProducts    10000 non-null  int64  \n",
      " 10  HasCrCard        10000 non-null  int64  \n",
      " 11  IsActiveMember   10000 non-null  int64  \n",
      " 12  EstimatedSalary  10000 non-null  float64\n",
      " 13  Exited           10000 non-null  int64  \n",
      "dtypes: float64(3), int64(8), object(3)\n",
      "memory usage: 1.1+ MB\n"
     ]
    }
   ],
   "source": [
    "df.info()"
   ],
   "metadata": {
    "collapsed": false,
    "ExecuteTime": {
     "end_time": "2023-12-05T16:32:52.220038200Z",
     "start_time": "2023-12-05T16:32:52.111430100Z"
    }
   }
  },
  {
   "cell_type": "code",
   "execution_count": 5,
   "outputs": [
    {
     "data": {
      "text/plain": "0"
     },
     "execution_count": 5,
     "metadata": {},
     "output_type": "execute_result"
    }
   ],
   "source": [
    "# проверим наличие явных дубликатов:\n",
    "df.duplicated().sum()"
   ],
   "metadata": {
    "collapsed": false,
    "ExecuteTime": {
     "end_time": "2023-12-05T16:32:52.651971400Z",
     "start_time": "2023-12-05T16:32:52.575579400Z"
    }
   }
  },
  {
   "cell_type": "code",
   "execution_count": 6,
   "outputs": [
    {
     "data": {
      "text/plain": "Geography\nFrance     5014\nGermany    2509\nSpain      2477\nName: count, dtype: int64"
     },
     "metadata": {},
     "output_type": "display_data"
    },
    {
     "data": {
      "text/plain": "Tenure\n1.0     952\n2.0     950\n8.0     933\n3.0     928\n5.0     927\n7.0     925\n4.0     885\n9.0     882\n6.0     881\n10.0    446\n0.0     382\nName: count, dtype: int64"
     },
     "metadata": {},
     "output_type": "display_data"
    },
    {
     "data": {
      "text/plain": "NumOfProducts\n1    5084\n2    4590\n3     266\n4      60\nName: count, dtype: int64"
     },
     "metadata": {},
     "output_type": "display_data"
    },
    {
     "data": {
      "text/plain": "Gender\nMale      5457\nFemale    4543\nName: count, dtype: int64"
     },
     "metadata": {},
     "output_type": "display_data"
    },
    {
     "data": {
      "text/plain": "HasCrCard\n1    7055\n0    2945\nName: count, dtype: int64"
     },
     "metadata": {},
     "output_type": "display_data"
    },
    {
     "data": {
      "text/plain": "IsActiveMember\n1    5151\n0    4849\nName: count, dtype: int64"
     },
     "metadata": {},
     "output_type": "display_data"
    }
   ],
   "source": [
    "# посмотрим уникальные значения в категориальных признаках:\n",
    "cat_columns = ['Geography', 'Tenure', 'NumOfProducts', 'Gender', 'HasCrCard', 'IsActiveMember']\n",
    "for col in cat_columns:\n",
    "    display(df[col].value_counts())"
   ],
   "metadata": {
    "collapsed": false,
    "ExecuteTime": {
     "end_time": "2023-12-05T16:32:52.899621200Z",
     "start_time": "2023-12-05T16:32:52.795443600Z"
    }
   }
  },
  {
   "cell_type": "code",
   "execution_count": 7,
   "outputs": [
    {
     "data": {
      "text/plain": "Exited\n0    7963\n1    2037\nName: count, dtype: int64"
     },
     "execution_count": 7,
     "metadata": {},
     "output_type": "execute_result"
    }
   ],
   "source": [
    "# посчитаем классы в целевом признаке:\n",
    "df['Exited'].value_counts()"
   ],
   "metadata": {
    "collapsed": false,
    "ExecuteTime": {
     "end_time": "2023-12-05T16:32:53.120422300Z",
     "start_time": "2023-12-05T16:32:53.036388400Z"
    }
   }
  },
  {
   "cell_type": "markdown",
   "source": [
    "Можно отметить, что дубликаты в датасете отсутствуют, в столбце Tenure есть около тысячи пропусков, а также несколько столбцов лучше вообще удалить, из них:\n",
    "\n",
    "- RowNumber - это индекс строки в данных, важной информации не содержит;\n",
    "- CustomerId - уникальный идентификатор клиента, по нему мы проверили дубликаты и теперь его можно удалить;\n",
    "- Surname - фамилия, которая тоже не имеет связи с оттоком клиентов.\n",
    "\n",
    "После проверки датасета на сбалансированность классов в таргете мы видим, что объектов отрицательного класса намного больше (почти в четыре раза), но все равно уходит примерно 20% клиентов. В столбце Geography находятся всего 3 уникальных значения: France, Germany и Spain. В столбце Tenure (сколько лет человек является клиентом банка) есть 909 пропусков. Заполним их значением -1, добавив логический параметр add_indicator=True. Есть несколько бинарных признаков (HasCrCard, IsActiveMember), которые выделим в отдельную категорию признаков."
   ],
   "metadata": {
    "collapsed": false
   }
  },
  {
   "cell_type": "code",
   "execution_count": 8,
   "outputs": [],
   "source": [
    "# удалим ненужные столбцы:\n",
    "df.drop([\"RowNumber\", \"CustomerId\", \"Surname\"], axis=1, inplace=True)"
   ],
   "metadata": {
    "collapsed": false,
    "ExecuteTime": {
     "end_time": "2023-12-05T16:32:53.608483400Z",
     "start_time": "2023-12-05T16:32:53.482674700Z"
    }
   }
  },
  {
   "cell_type": "code",
   "execution_count": 9,
   "outputs": [
    {
     "data": {
      "text/plain": "      CreditScore Geography  Gender  Age  Tenure    Balance  NumOfProducts  \\\n0             619    France  Female   42     2.0       0.00              1   \n1             608     Spain  Female   41     1.0   83807.86              1   \n2             502    France  Female   42     8.0  159660.80              3   \n3             699    France  Female   39     1.0       0.00              2   \n4             850     Spain  Female   43     2.0  125510.82              1   \n...           ...       ...     ...  ...     ...        ...            ...   \n9995          771    France    Male   39     5.0       0.00              2   \n9996          516    France    Male   35    10.0   57369.61              1   \n9997          709    France  Female   36     7.0       0.00              1   \n9998          772   Germany    Male   42     3.0   75075.31              2   \n9999          792    France  Female   28     NaN  130142.79              1   \n\n      HasCrCard  IsActiveMember  EstimatedSalary  Exited  \n0             1               1        101348.88       1  \n1             0               1        112542.58       0  \n2             1               0        113931.57       1  \n3             0               0         93826.63       0  \n4             1               1         79084.10       0  \n...         ...             ...              ...     ...  \n9995          1               0         96270.64       0  \n9996          1               1        101699.77       0  \n9997          0               1         42085.58       1  \n9998          1               0         92888.52       1  \n9999          1               0         38190.78       0  \n\n[10000 rows x 11 columns]",
      "text/html": "<div>\n<style scoped>\n    .dataframe tbody tr th:only-of-type {\n        vertical-align: middle;\n    }\n\n    .dataframe tbody tr th {\n        vertical-align: top;\n    }\n\n    .dataframe thead th {\n        text-align: right;\n    }\n</style>\n<table border=\"1\" class=\"dataframe\">\n  <thead>\n    <tr style=\"text-align: right;\">\n      <th></th>\n      <th>CreditScore</th>\n      <th>Geography</th>\n      <th>Gender</th>\n      <th>Age</th>\n      <th>Tenure</th>\n      <th>Balance</th>\n      <th>NumOfProducts</th>\n      <th>HasCrCard</th>\n      <th>IsActiveMember</th>\n      <th>EstimatedSalary</th>\n      <th>Exited</th>\n    </tr>\n  </thead>\n  <tbody>\n    <tr>\n      <th>0</th>\n      <td>619</td>\n      <td>France</td>\n      <td>Female</td>\n      <td>42</td>\n      <td>2.0</td>\n      <td>0.00</td>\n      <td>1</td>\n      <td>1</td>\n      <td>1</td>\n      <td>101348.88</td>\n      <td>1</td>\n    </tr>\n    <tr>\n      <th>1</th>\n      <td>608</td>\n      <td>Spain</td>\n      <td>Female</td>\n      <td>41</td>\n      <td>1.0</td>\n      <td>83807.86</td>\n      <td>1</td>\n      <td>0</td>\n      <td>1</td>\n      <td>112542.58</td>\n      <td>0</td>\n    </tr>\n    <tr>\n      <th>2</th>\n      <td>502</td>\n      <td>France</td>\n      <td>Female</td>\n      <td>42</td>\n      <td>8.0</td>\n      <td>159660.80</td>\n      <td>3</td>\n      <td>1</td>\n      <td>0</td>\n      <td>113931.57</td>\n      <td>1</td>\n    </tr>\n    <tr>\n      <th>3</th>\n      <td>699</td>\n      <td>France</td>\n      <td>Female</td>\n      <td>39</td>\n      <td>1.0</td>\n      <td>0.00</td>\n      <td>2</td>\n      <td>0</td>\n      <td>0</td>\n      <td>93826.63</td>\n      <td>0</td>\n    </tr>\n    <tr>\n      <th>4</th>\n      <td>850</td>\n      <td>Spain</td>\n      <td>Female</td>\n      <td>43</td>\n      <td>2.0</td>\n      <td>125510.82</td>\n      <td>1</td>\n      <td>1</td>\n      <td>1</td>\n      <td>79084.10</td>\n      <td>0</td>\n    </tr>\n    <tr>\n      <th>...</th>\n      <td>...</td>\n      <td>...</td>\n      <td>...</td>\n      <td>...</td>\n      <td>...</td>\n      <td>...</td>\n      <td>...</td>\n      <td>...</td>\n      <td>...</td>\n      <td>...</td>\n      <td>...</td>\n    </tr>\n    <tr>\n      <th>9995</th>\n      <td>771</td>\n      <td>France</td>\n      <td>Male</td>\n      <td>39</td>\n      <td>5.0</td>\n      <td>0.00</td>\n      <td>2</td>\n      <td>1</td>\n      <td>0</td>\n      <td>96270.64</td>\n      <td>0</td>\n    </tr>\n    <tr>\n      <th>9996</th>\n      <td>516</td>\n      <td>France</td>\n      <td>Male</td>\n      <td>35</td>\n      <td>10.0</td>\n      <td>57369.61</td>\n      <td>1</td>\n      <td>1</td>\n      <td>1</td>\n      <td>101699.77</td>\n      <td>0</td>\n    </tr>\n    <tr>\n      <th>9997</th>\n      <td>709</td>\n      <td>France</td>\n      <td>Female</td>\n      <td>36</td>\n      <td>7.0</td>\n      <td>0.00</td>\n      <td>1</td>\n      <td>0</td>\n      <td>1</td>\n      <td>42085.58</td>\n      <td>1</td>\n    </tr>\n    <tr>\n      <th>9998</th>\n      <td>772</td>\n      <td>Germany</td>\n      <td>Male</td>\n      <td>42</td>\n      <td>3.0</td>\n      <td>75075.31</td>\n      <td>2</td>\n      <td>1</td>\n      <td>0</td>\n      <td>92888.52</td>\n      <td>1</td>\n    </tr>\n    <tr>\n      <th>9999</th>\n      <td>792</td>\n      <td>France</td>\n      <td>Female</td>\n      <td>28</td>\n      <td>NaN</td>\n      <td>130142.79</td>\n      <td>1</td>\n      <td>1</td>\n      <td>0</td>\n      <td>38190.78</td>\n      <td>0</td>\n    </tr>\n  </tbody>\n</table>\n<p>10000 rows × 11 columns</p>\n</div>"
     },
     "execution_count": 9,
     "metadata": {},
     "output_type": "execute_result"
    }
   ],
   "source": [
    "df"
   ],
   "metadata": {
    "collapsed": false,
    "ExecuteTime": {
     "end_time": "2023-12-05T16:32:53.882533700Z",
     "start_time": "2023-12-05T16:32:53.726077Z"
    }
   }
  },
  {
   "cell_type": "code",
   "execution_count": 10,
   "outputs": [
    {
     "name": "stdout",
     "output_type": "stream",
     "text": [
      "<class 'pandas.core.frame.DataFrame'>\n",
      "RangeIndex: 10000 entries, 0 to 9999\n",
      "Data columns (total 11 columns):\n",
      " #   Column           Non-Null Count  Dtype  \n",
      "---  ------           --------------  -----  \n",
      " 0   CreditScore      10000 non-null  int64  \n",
      " 1   Geography        10000 non-null  object \n",
      " 2   Gender           10000 non-null  object \n",
      " 3   Age              10000 non-null  int64  \n",
      " 4   Tenure           9091 non-null   float64\n",
      " 5   Balance          10000 non-null  float64\n",
      " 6   NumOfProducts    10000 non-null  int64  \n",
      " 7   HasCrCard        10000 non-null  int64  \n",
      " 8   IsActiveMember   10000 non-null  int64  \n",
      " 9   EstimatedSalary  10000 non-null  float64\n",
      " 10  Exited           10000 non-null  int64  \n",
      "dtypes: float64(3), int64(6), object(2)\n",
      "memory usage: 859.5+ KB\n"
     ]
    }
   ],
   "source": [
    "df.info()"
   ],
   "metadata": {
    "collapsed": false,
    "ExecuteTime": {
     "end_time": "2023-12-05T16:32:54.037710600Z",
     "start_time": "2023-12-05T16:32:53.875562400Z"
    }
   }
  },
  {
   "cell_type": "code",
   "execution_count": 11,
   "outputs": [],
   "source": [
    "# сохраним признаки и целевой признак в отдельных переменных:\n",
    "y = df['Exited']\n",
    "X = df.drop('Exited', axis=1)"
   ],
   "metadata": {
    "collapsed": false,
    "ExecuteTime": {
     "end_time": "2023-12-05T16:32:54.250863300Z",
     "start_time": "2023-12-05T16:32:54.018745200Z"
    }
   }
  },
  {
   "cell_type": "code",
   "execution_count": 12,
   "outputs": [],
   "source": [
    "# разобьем исходные данные на обучающую и тестовую выборки в соотношении 4:1:\n",
    "X_train, X_test, y_train, y_test = train_test_split(X, y, test_size=0.2, random_state=12345, stratify=y)"
   ],
   "metadata": {
    "collapsed": false,
    "ExecuteTime": {
     "end_time": "2023-12-05T16:32:54.518294200Z",
     "start_time": "2023-12-05T16:32:54.211570400Z"
    }
   }
  },
  {
   "cell_type": "code",
   "execution_count": 13,
   "outputs": [
    {
     "name": "stdout",
     "output_type": "stream",
     "text": [
      "Размер обучающей выборки: (8000, 10)\n",
      "Размер тестовой выборки: (2000, 10)\n"
     ]
    }
   ],
   "source": [
    "# посмотрим на размеры выборок:\n",
    "print('Размер обучающей выборки:', X_train.shape)\n",
    "print('Размер тестовой выборки:', X_test.shape)"
   ],
   "metadata": {
    "collapsed": false,
    "ExecuteTime": {
     "end_time": "2023-12-05T16:32:54.756408500Z",
     "start_time": "2023-12-05T16:32:54.406054800Z"
    }
   }
  },
  {
   "cell_type": "code",
   "execution_count": 14,
   "outputs": [],
   "source": [
    "# внесем в переменные списки все численные и категориальные признаки:\n",
    "categorical_features = X_train.select_dtypes(include=['object']).columns.tolist()\n",
    "numeric_features = X_train.select_dtypes(exclude=['object']).columns.tolist()\n",
    "binary_features = ['HasCrCard', 'IsActiveMember']\n",
    "numeric_features = list(set(numeric_features) - set(binary_features))"
   ],
   "metadata": {
    "collapsed": false,
    "ExecuteTime": {
     "end_time": "2023-12-05T16:32:55.073307500Z",
     "start_time": "2023-12-05T16:32:54.593722400Z"
    }
   }
  },
  {
   "cell_type": "markdown",
   "source": [
    "# 2. Обучение модели без учёта дисбаланса классов (XGBoost)"
   ],
   "metadata": {
    "collapsed": false
   }
  },
  {
   "cell_type": "markdown",
   "source": [
    "Для автоматизации процесса подготовим численный и категориальный пайплайны.\n",
    "- Для категориальных признаков (Geography, Gender) используем One Hot Encoding.\n",
    "- Для заполнения пропусков используем SimpleImputer.\n",
    "- Выполним трансформацию Йео-Джонсона.\n",
    "- Для моделей логистической регрессии и SVM выполним масштабирование данных; для моделей, основанных на деревьях (XGBoost и Random Forest), выполнять его не будем.\n",
    "- Объединим пайплайны классом ColumnTransformer.\n",
    "- Используем optuna для автоматизированного поиска оптимальных гиперпараметров для моделей.\n",
    "- Используем mlflow для того, чтобы легко выбрать лучшие модели среди всех экспериментов и при этом легко сравнивать метрики качества (будем сравнивать f1 на кроссвалидации, на тестовом наборе сравним f1, ROC-AUC и balanced accuracy)."
   ],
   "metadata": {
    "collapsed": false
   }
  },
  {
   "cell_type": "code",
   "execution_count": 15,
   "outputs": [],
   "source": [
    "cat_pipeline = Pipeline([\n",
    "    ('enc', OneHotEncoder(handle_unknown='error', drop='first'))\n",
    "])\n",
    "\n",
    "num_pipeline = Pipeline([\n",
    "    ('imp', SimpleImputer(fill_value=-1, add_indicator=True)),\n",
    "    ('pt', PowerTransformer()) \n",
    "])\n",
    "\n",
    "preprocessor = ColumnTransformer([\n",
    "    (\"cat\", cat_pipeline, categorical_features),\n",
    "    (\"num\", num_pipeline, numeric_features)\n",
    "\n",
    "], remainder='passthrough')\n",
    "\n",
    "pipe = Pipeline([\n",
    "    ('preprocessor', preprocessor),\n",
    "    ('model', xgb.XGBClassifier(random_state=12345))\n",
    "])"
   ],
   "metadata": {
    "collapsed": false,
    "ExecuteTime": {
     "end_time": "2023-12-05T16:32:55.294032800Z",
     "start_time": "2023-12-05T16:32:55.000797800Z"
    }
   }
  },
  {
   "cell_type": "code",
   "execution_count": 16,
   "outputs": [],
   "source": [
    "def optuna_optimize(trial):\n",
    "    param_grid = {\n",
    "        'model__n_estimators': trial.suggest_int('model__n_estimators', 50, 500),\n",
    "        'model__max_depth': trial.suggest_int('model__max_depth', 2, 16),\n",
    "        'model__learning_rate': trial.suggest_float('model__learning_rate', 0.01, 1.5),\n",
    "        'model__gamma': trial.suggest_float('model__gamma', 0.0, 20.0),\n",
    "        'model__reg_lambda': trial.suggest_float('model__reg_lambda', 0.0, 1.0),\n",
    "        'model__min_child_weight': trial.suggest_float('model__min_child_weight', 0.0, 5.0)\n",
    "    }\n",
    "\n",
    "    pipe.set_params(**param_grid)\n",
    "    score = cross_val_score(pipe, X_train, y_train, cv=5, scoring='f1').mean()\n",
    "    return score"
   ],
   "metadata": {
    "collapsed": false,
    "ExecuteTime": {
     "end_time": "2023-12-05T16:32:55.606433Z",
     "start_time": "2023-12-05T16:32:55.260582400Z"
    }
   }
  },
  {
   "cell_type": "code",
   "execution_count": 17,
   "outputs": [
    {
     "name": "stderr",
     "output_type": "stream",
     "text": [
      "[I 2023-12-05 19:32:55,351] A new study created in memory with name: XGBoost Optuna Optimization Imbalanced\n"
     ]
    }
   ],
   "source": [
    "study_xgb = optuna.create_study(study_name=\"XGBoost Optuna Optimization Imbalanced\",\n",
    "                                direction='maximize')"
   ],
   "metadata": {
    "collapsed": false,
    "ExecuteTime": {
     "end_time": "2023-12-05T16:32:55.755136Z",
     "start_time": "2023-12-05T16:32:55.351734700Z"
    }
   }
  },
  {
   "cell_type": "code",
   "execution_count": 18,
   "outputs": [
    {
     "name": "stderr",
     "output_type": "stream",
     "text": [
      "[I 2023-12-05 19:32:57,481] Trial 0 finished with value: 0.5714690808818722 and parameters: {'model__n_estimators': 312, 'model__max_depth': 7, 'model__learning_rate': 0.8834997573222058, 'model__gamma': 2.296662185641676, 'model__reg_lambda': 0.9438320654663717, 'model__min_child_weight': 0.32272126351383323}. Best is trial 0 with value: 0.5714690808818722.\n",
      "[I 2023-12-05 19:32:59,232] Trial 1 finished with value: 0.5787432416107254 and parameters: {'model__n_estimators': 245, 'model__max_depth': 8, 'model__learning_rate': 0.5921822912459725, 'model__gamma': 7.635280902894963, 'model__reg_lambda': 0.67412310668555, 'model__min_child_weight': 2.4019762384032166}. Best is trial 1 with value: 0.5787432416107254.\n",
      "[I 2023-12-05 19:33:01,654] Trial 2 finished with value: 0.5365256493534915 and parameters: {'model__n_estimators': 243, 'model__max_depth': 3, 'model__learning_rate': 0.043277150603891215, 'model__gamma': 11.261847282072452, 'model__reg_lambda': 0.9031873768949371, 'model__min_child_weight': 0.37081073048517876}. Best is trial 1 with value: 0.5787432416107254.\n",
      "[I 2023-12-05 19:33:03,656] Trial 3 finished with value: 0.5772105447491469 and parameters: {'model__n_estimators': 95, 'model__max_depth': 15, 'model__learning_rate': 0.2223289788554076, 'model__gamma': 4.419795598820202, 'model__reg_lambda': 0.908393565830516, 'model__min_child_weight': 2.865112064405051}. Best is trial 1 with value: 0.5787432416107254.\n",
      "[I 2023-12-05 19:33:05,271] Trial 4 finished with value: 0.5758341191075196 and parameters: {'model__n_estimators': 213, 'model__max_depth': 13, 'model__learning_rate': 1.149734206544861, 'model__gamma': 7.735547445261998, 'model__reg_lambda': 0.003288223096638121, 'model__min_child_weight': 3.492581636399778}. Best is trial 1 with value: 0.5787432416107254.\n",
      "[I 2023-12-05 19:33:09,110] Trial 5 finished with value: 0.5138031953064732 and parameters: {'model__n_estimators': 207, 'model__max_depth': 13, 'model__learning_rate': 1.4906602744957786, 'model__gamma': 0.3888451787714664, 'model__reg_lambda': 0.8587758445634271, 'model__min_child_weight': 3.7774935898517024}. Best is trial 1 with value: 0.5787432416107254.\n",
      "[I 2023-12-05 19:33:12,357] Trial 6 finished with value: 0.5704387263904498 and parameters: {'model__n_estimators': 421, 'model__max_depth': 6, 'model__learning_rate': 1.1056882987467136, 'model__gamma': 5.809687945577407, 'model__reg_lambda': 0.4499591065192545, 'model__min_child_weight': 4.982801911863344}. Best is trial 1 with value: 0.5787432416107254.\n",
      "[I 2023-12-05 19:33:15,182] Trial 7 finished with value: 0.5833222235585944 and parameters: {'model__n_estimators': 116, 'model__max_depth': 5, 'model__learning_rate': 0.8799869413787177, 'model__gamma': 2.655729897209209, 'model__reg_lambda': 0.9756853835911424, 'model__min_child_weight': 0.21225736975988563}. Best is trial 7 with value: 0.5833222235585944.\n",
      "[I 2023-12-05 19:33:20,380] Trial 8 finished with value: 0.5618500581355146 and parameters: {'model__n_estimators': 482, 'model__max_depth': 6, 'model__learning_rate': 1.4388859342160205, 'model__gamma': 15.590480999864326, 'model__reg_lambda': 0.7258399028089165, 'model__min_child_weight': 2.3805557859955724}. Best is trial 7 with value: 0.5833222235585944.\n",
      "[I 2023-12-05 19:33:24,097] Trial 9 finished with value: 0.557758316719174 and parameters: {'model__n_estimators': 452, 'model__max_depth': 5, 'model__learning_rate': 0.239582104992847, 'model__gamma': 8.09459994351857, 'model__reg_lambda': 0.9943986968389349, 'model__min_child_weight': 3.4155347960865674}. Best is trial 7 with value: 0.5833222235585944.\n",
      "[I 2023-12-05 19:33:27,150] Trial 10 finished with value: 0.5862878258877238 and parameters: {'model__n_estimators': 53, 'model__max_depth': 2, 'model__learning_rate': 0.6325320907441361, 'model__gamma': 0.5239465962300747, 'model__reg_lambda': 0.5410864925204222, 'model__min_child_weight': 1.2550512523214605}. Best is trial 10 with value: 0.5862878258877238.\n",
      "[I 2023-12-05 19:33:28,027] Trial 11 finished with value: 0.5815730637854031 and parameters: {'model__n_estimators': 51, 'model__max_depth': 2, 'model__learning_rate': 0.6616558969049513, 'model__gamma': 0.0741345163252416, 'model__reg_lambda': 0.5057907412627201, 'model__min_child_weight': 1.050298925386605}. Best is trial 10 with value: 0.5862878258877238.\n",
      "[I 2023-12-05 19:33:29,040] Trial 12 finished with value: 0.5730074076300484 and parameters: {'model__n_estimators': 125, 'model__max_depth': 3, 'model__learning_rate': 0.5264475333291614, 'model__gamma': 3.316424795969364, 'model__reg_lambda': 0.42933011504331, 'model__min_child_weight': 1.2738613600947977}. Best is trial 10 with value: 0.5862878258877238.\n",
      "[I 2023-12-05 19:33:30,107] Trial 13 finished with value: 0.584085733966808 and parameters: {'model__n_estimators': 144, 'model__max_depth': 4, 'model__learning_rate': 0.7974508125088745, 'model__gamma': 1.969906010538101, 'model__reg_lambda': 0.7137895393004887, 'model__min_child_weight': 0.09704558516632403}. Best is trial 10 with value: 0.5862878258877238.\n",
      "[I 2023-12-05 19:33:31,391] Trial 14 finished with value: 0.5550290558020068 and parameters: {'model__n_estimators': 150, 'model__max_depth': 10, 'model__learning_rate': 0.4608582059552937, 'model__gamma': 0.4856975632687641, 'model__reg_lambda': 0.6052841856965563, 'model__min_child_weight': 1.2339734288003126}. Best is trial 10 with value: 0.5862878258877238.\n",
      "[I 2023-12-05 19:33:32,288] Trial 15 finished with value: 0.583548527375109 and parameters: {'model__n_estimators': 55, 'model__max_depth': 10, 'model__learning_rate': 0.7948650871245462, 'model__gamma': 5.330164644870142, 'model__reg_lambda': 0.7568156129653333, 'model__min_child_weight': 0.90808338372936}. Best is trial 10 with value: 0.5862878258877238.\n",
      "[I 2023-12-05 19:33:33,565] Trial 16 finished with value: 0.5718529075772852 and parameters: {'model__n_estimators': 303, 'model__max_depth': 2, 'model__learning_rate': 0.7258396723781428, 'model__gamma': 2.3621578439147406, 'model__reg_lambda': 0.5797034468121418, 'model__min_child_weight': 1.7674647587194092}. Best is trial 10 with value: 0.5862878258877238.\n",
      "[I 2023-12-05 19:33:34,613] Trial 17 finished with value: 0.562448269170795 and parameters: {'model__n_estimators': 160, 'model__max_depth': 4, 'model__learning_rate': 0.42763773317707066, 'model__gamma': 10.686270491266264, 'model__reg_lambda': 0.3228093696664602, 'model__min_child_weight': 0.08263735445061758}. Best is trial 10 with value: 0.5862878258877238.\n",
      "[I 2023-12-05 19:33:35,961] Trial 18 finished with value: 0.5901355898005161 and parameters: {'model__n_estimators': 349, 'model__max_depth': 9, 'model__learning_rate': 0.949808339858804, 'model__gamma': 5.004221775175274, 'model__reg_lambda': 0.7883986705194753, 'model__min_child_weight': 0.6626721669612888}. Best is trial 18 with value: 0.5901355898005161.\n",
      "[I 2023-12-05 19:33:37,376] Trial 19 finished with value: 0.5782037658220078 and parameters: {'model__n_estimators': 383, 'model__max_depth': 16, 'model__learning_rate': 1.0124504195526316, 'model__gamma': 4.509058225133124, 'model__reg_lambda': 0.828308866752048, 'model__min_child_weight': 1.713029563363871}. Best is trial 18 with value: 0.5901355898005161.\n",
      "[I 2023-12-05 19:33:38,891] Trial 20 finished with value: 0.5628573796443657 and parameters: {'model__n_estimators': 337, 'model__max_depth': 12, 'model__learning_rate': 0.6158413515542944, 'model__gamma': 19.946964905830047, 'model__reg_lambda': 0.7975186288282071, 'model__min_child_weight': 0.8003637456406438}. Best is trial 18 with value: 0.5901355898005161.\n",
      "[I 2023-12-05 19:33:40,047] Trial 21 finished with value: 0.5591562396930507 and parameters: {'model__n_estimators': 179, 'model__max_depth': 9, 'model__learning_rate': 0.807182126293974, 'model__gamma': 1.753712558886333, 'model__reg_lambda': 0.6792762819572743, 'model__min_child_weight': 0.5870901458037334}. Best is trial 18 with value: 0.5901355898005161.\n",
      "[I 2023-12-05 19:33:41,438] Trial 22 finished with value: 0.5781003934470312 and parameters: {'model__n_estimators': 378, 'model__max_depth': 4, 'model__learning_rate': 1.0088601812576328, 'model__gamma': 3.6960600855984023, 'model__reg_lambda': 0.788675548844956, 'model__min_child_weight': 0.04139157166011087}. Best is trial 18 with value: 0.5901355898005161.\n",
      "[I 2023-12-05 19:33:42,360] Trial 23 finished with value: 0.5803886493588035 and parameters: {'model__n_estimators': 86, 'model__max_depth': 2, 'model__learning_rate': 0.7169732930390074, 'model__gamma': 2.0283138400397043, 'model__reg_lambda': 0.6267753208068109, 'model__min_child_weight': 0.5675988899285551}. Best is trial 18 with value: 0.5901355898005161.\n",
      "[I 2023-12-05 19:33:44,026] Trial 24 finished with value: 0.5528567547078058 and parameters: {'model__n_estimators': 351, 'model__max_depth': 8, 'model__learning_rate': 0.9285653115421003, 'model__gamma': 0.1531416185268264, 'model__reg_lambda': 0.7293776118609255, 'model__min_child_weight': 0.7745815630682229}. Best is trial 18 with value: 0.5901355898005161.\n",
      "[I 2023-12-05 19:33:45,349] Trial 25 finished with value: 0.5885791971967491 and parameters: {'model__n_estimators': 274, 'model__max_depth': 11, 'model__learning_rate': 0.6966824722750768, 'model__gamma': 6.022225345311839, 'model__reg_lambda': 0.554615768795056, 'model__min_child_weight': 0.045635656759162035}. Best is trial 18 with value: 0.5901355898005161.\n",
      "[I 2023-12-05 19:33:46,548] Trial 26 finished with value: 0.5895264602879144 and parameters: {'model__n_estimators': 267, 'model__max_depth': 11, 'model__learning_rate': 0.6429874780051622, 'model__gamma': 6.0300807429826415, 'model__reg_lambda': 0.5480081050293936, 'model__min_child_weight': 1.462809864444485}. Best is trial 18 with value: 0.5901355898005161.\n",
      "[I 2023-12-05 19:33:47,783] Trial 27 finished with value: 0.5770289599663716 and parameters: {'model__n_estimators': 269, 'model__max_depth': 11, 'model__learning_rate': 0.540004881941404, 'model__gamma': 6.372161420613414, 'model__reg_lambda': 0.6282310567687907, 'model__min_child_weight': 0.5286490620686048}. Best is trial 18 with value: 0.5901355898005161.\n",
      "[I 2023-12-05 19:33:49,030] Trial 28 finished with value: 0.5764591333960658 and parameters: {'model__n_estimators': 296, 'model__max_depth': 12, 'model__learning_rate': 0.6995770109279777, 'model__gamma': 9.202696880684154, 'model__reg_lambda': 0.8530209193236145, 'model__min_child_weight': 1.5499968631129986}. Best is trial 18 with value: 0.5901355898005161.\n",
      "[I 2023-12-05 19:33:50,265] Trial 29 finished with value: 0.5852893192175086 and parameters: {'model__n_estimators': 282, 'model__max_depth': 14, 'model__learning_rate': 0.9119086054394692, 'model__gamma': 6.2273833269829195, 'model__reg_lambda': 0.39253497957716477, 'model__min_child_weight': 0.40641321343495884}. Best is trial 18 with value: 0.5901355898005161.\n",
      "[I 2023-12-05 19:33:51,637] Trial 30 finished with value: 0.5838261729304492 and parameters: {'model__n_estimators': 328, 'model__max_depth': 10, 'model__learning_rate': 0.4300094154774198, 'model__gamma': 4.787100304847478, 'model__reg_lambda': 0.5371022937649508, 'model__min_child_weight': 0.8229705522202744}. Best is trial 18 with value: 0.5901355898005161.\n",
      "[I 2023-12-05 19:33:53,065] Trial 31 finished with value: 0.581110509381075 and parameters: {'model__n_estimators': 376, 'model__max_depth': 11, 'model__learning_rate': 0.6423066876880663, 'model__gamma': 3.756586715635002, 'model__reg_lambda': 0.5413440234196556, 'model__min_child_weight': 1.3552812584498017}. Best is trial 18 with value: 0.5901355898005161.\n",
      "[I 2023-12-05 19:33:54,232] Trial 32 finished with value: 0.5850789308649447 and parameters: {'model__n_estimators': 242, 'model__max_depth': 7, 'model__learning_rate': 0.5929903075147102, 'model__gamma': 6.841493812674642, 'model__reg_lambda': 0.655327685062917, 'model__min_child_weight': 1.06933189232767}. Best is trial 18 with value: 0.5901355898005161.\n",
      "[I 2023-12-05 19:33:55,460] Trial 33 finished with value: 0.5925963824918212 and parameters: {'model__n_estimators': 266, 'model__max_depth': 9, 'model__learning_rate': 0.776971314522214, 'model__gamma': 5.067164795596097, 'model__reg_lambda': 0.5717347186834569, 'model__min_child_weight': 0.3779742097296813}. Best is trial 33 with value: 0.5925963824918212.\n",
      "[I 2023-12-05 19:33:57,015] Trial 34 finished with value: 0.5855350526534998 and parameters: {'model__n_estimators': 254, 'model__max_depth': 8, 'model__learning_rate': 0.8357432097595968, 'model__gamma': 4.944363727809123, 'model__reg_lambda': 0.6810401629076386, 'model__min_child_weight': 0.35620539626539327}. Best is trial 33 with value: 0.5925963824918212.\n",
      "[I 2023-12-05 19:33:58,141] Trial 35 finished with value: 0.5765102756230206 and parameters: {'model__n_estimators': 216, 'model__max_depth': 9, 'model__learning_rate': 0.7495702390961507, 'model__gamma': 8.913800539568577, 'model__reg_lambda': 0.9049926721321003, 'model__min_child_weight': 0.43552464041460515}. Best is trial 33 with value: 0.5925963824918212.\n",
      "[I 2023-12-05 19:33:59,458] Trial 36 finished with value: 0.5884707377440537 and parameters: {'model__n_estimators': 314, 'model__max_depth': 9, 'model__learning_rate': 0.7394800944921385, 'model__gamma': 6.496951429687149, 'model__reg_lambda': 0.5776053321389993, 'model__min_child_weight': 0.7059380648337937}. Best is trial 33 with value: 0.5925963824918212.\n",
      "[I 2023-12-05 19:34:00,673] Trial 37 finished with value: 0.5835589767866716 and parameters: {'model__n_estimators': 229, 'model__max_depth': 11, 'model__learning_rate': 0.8964815433704162, 'model__gamma': 7.4645287128332365, 'model__reg_lambda': 0.4505148931938304, 'model__min_child_weight': 0.35608081775589123}. Best is trial 33 with value: 0.5925963824918212.\n",
      "[I 2023-12-05 19:34:01,848] Trial 38 finished with value: 0.5905665365940195 and parameters: {'model__n_estimators': 196, 'model__max_depth': 13, 'model__learning_rate': 1.1634635816207506, 'model__gamma': 5.814164727451161, 'model__reg_lambda': 0.9186173275613974, 'model__min_child_weight': 0.01980083166967339}. Best is trial 33 with value: 0.5925963824918212.\n",
      "[I 2023-12-05 19:34:02,940] Trial 39 finished with value: 0.5851019555059965 and parameters: {'model__n_estimators': 191, 'model__max_depth': 14, 'model__learning_rate': 1.1947996248127848, 'model__gamma': 5.320219018600448, 'model__reg_lambda': 0.9301243625642299, 'model__min_child_weight': 0.26794162935818433}. Best is trial 33 with value: 0.5925963824918212.\n",
      "[I 2023-12-05 19:34:04,271] Trial 40 finished with value: 0.584645129741306 and parameters: {'model__n_estimators': 354, 'model__max_depth': 13, 'model__learning_rate': 1.2183984981874545, 'model__gamma': 7.198243369599366, 'model__reg_lambda': 0.8699929496678224, 'model__min_child_weight': 0.5739358916073761}. Best is trial 33 with value: 0.5925963824918212.\n",
      "[I 2023-12-05 19:34:05,537] Trial 41 finished with value: 0.588915947130258 and parameters: {'model__n_estimators': 255, 'model__max_depth': 12, 'model__learning_rate': 0.988515340822598, 'model__gamma': 5.998364226918791, 'model__reg_lambda': 0.952034776050439, 'model__min_child_weight': 0.1357244315229943}. Best is trial 33 with value: 0.5925963824918212.\n",
      "[I 2023-12-05 19:34:06,738] Trial 42 finished with value: 0.582694113092123 and parameters: {'model__n_estimators': 253, 'model__max_depth': 12, 'model__learning_rate': 1.0042671805435615, 'model__gamma': 4.181617640210273, 'model__reg_lambda': 0.960627082780179, 'model__min_child_weight': 0.2516399618339182}. Best is trial 33 with value: 0.5925963824918212.\n",
      "[I 2023-12-05 19:34:07,861] Trial 43 finished with value: 0.5800944120620141 and parameters: {'model__n_estimators': 203, 'model__max_depth': 14, 'model__learning_rate': 1.1347879866897836, 'model__gamma': 8.38106284340252, 'model__reg_lambda': 0.922648323986079, 'model__min_child_weight': 0.720093719733625}. Best is trial 33 with value: 0.5925963824918212.\n",
      "[I 2023-12-05 19:34:09,319] Trial 44 finished with value: 0.5894937978197224 and parameters: {'model__n_estimators': 424, 'model__max_depth': 13, 'model__learning_rate': 1.0559618462603066, 'model__gamma': 7.330879432181611, 'model__reg_lambda': 0.9512440853523568, 'model__min_child_weight': 0.9732788549365315}. Best is trial 33 with value: 0.5925963824918212.\n",
      "[I 2023-12-05 19:34:10,801] Trial 45 finished with value: 0.5842294338523235 and parameters: {'model__n_estimators': 442, 'model__max_depth': 7, 'model__learning_rate': 1.2859522753753891, 'model__gamma': 7.593994264600787, 'model__reg_lambda': 0.879617341553803, 'model__min_child_weight': 1.034296899762832}. Best is trial 33 with value: 0.5925963824918212.\n",
      "[I 2023-12-05 19:34:12,294] Trial 46 finished with value: 0.566580741243959 and parameters: {'model__n_estimators': 418, 'model__max_depth': 15, 'model__learning_rate': 1.0877935041508773, 'model__gamma': 3.138039601052572, 'model__reg_lambda': 0.9903941028253374, 'model__min_child_weight': 0.9820824830731765}. Best is trial 33 with value: 0.5925963824918212.\n",
      "[I 2023-12-05 19:34:13,734] Trial 47 finished with value: 0.5826950026327903 and parameters: {'model__n_estimators': 415, 'model__max_depth': 10, 'model__learning_rate': 1.0655246988241354, 'model__gamma': 5.041832095917075, 'model__reg_lambda': 0.7958146718082736, 'model__min_child_weight': 1.48952207995079}. Best is trial 33 with value: 0.5925963824918212.\n",
      "[I 2023-12-05 19:34:15,296] Trial 48 finished with value: 0.5800478042650103 and parameters: {'model__n_estimators': 484, 'model__max_depth': 13, 'model__learning_rate': 0.8599423281136538, 'model__gamma': 9.402849732802775, 'model__reg_lambda': 0.8318178466354499, 'model__min_child_weight': 1.8744498892178014}. Best is trial 33 with value: 0.5925963824918212.\n",
      "[I 2023-12-05 19:34:16,706] Trial 49 finished with value: 0.5745456565870914 and parameters: {'model__n_estimators': 400, 'model__max_depth': 8, 'model__learning_rate': 1.3035692672204997, 'model__gamma': 8.20318430842043, 'model__reg_lambda': 0.9838600192625616, 'model__min_child_weight': 1.1383784612208798}. Best is trial 33 with value: 0.5925963824918212.\n",
      "[I 2023-12-05 19:34:18,215] Trial 50 finished with value: 0.580466583225886 and parameters: {'model__n_estimators': 458, 'model__max_depth': 15, 'model__learning_rate': 0.9463408285723405, 'model__gamma': 7.110097017724021, 'model__reg_lambda': 0.8958489074026617, 'model__min_child_weight': 0.9728753551577846}. Best is trial 33 with value: 0.5925963824918212.\n",
      "[I 2023-12-05 19:34:19,398] Trial 51 finished with value: 0.5865003059390006 and parameters: {'model__n_estimators': 229, 'model__max_depth': 12, 'model__learning_rate': 0.9641126415183151, 'model__gamma': 5.691475664445136, 'model__reg_lambda': 0.957087854932889, 'model__min_child_weight': 0.24750915810783686}. Best is trial 33 with value: 0.5925963824918212.\n",
      "[I 2023-12-05 19:34:20,474] Trial 52 finished with value: 0.5881051443370634 and parameters: {'model__n_estimators': 173, 'model__max_depth': 13, 'model__learning_rate': 1.0782605554284037, 'model__gamma': 5.850607655611258, 'model__reg_lambda': 0.9410694034095085, 'model__min_child_weight': 0.22325052401092618}. Best is trial 33 with value: 0.5925963824918212.\n",
      "[I 2023-12-05 19:34:21,726] Trial 53 finished with value: 0.5869763673663992 and parameters: {'model__n_estimators': 291, 'model__max_depth': 9, 'model__learning_rate': 0.8565308676887199, 'model__gamma': 4.247099139480822, 'model__reg_lambda': 0.8908952767137063, 'model__min_child_weight': 0.6445324045996104}. Best is trial 33 with value: 0.5925963824918212.\n",
      "[I 2023-12-05 19:34:23,025] Trial 54 finished with value: 0.5776257965684204 and parameters: {'model__n_estimators': 321, 'model__max_depth': 12, 'model__learning_rate': 1.044378627865347, 'model__gamma': 6.866656475927018, 'model__reg_lambda': 0.9931274610036833, 'model__min_child_weight': 0.010120750593747715}. Best is trial 33 with value: 0.5925963824918212.\n",
      "[I 2023-12-05 19:34:24,643] Trial 55 finished with value: 0.5868045469047386 and parameters: {'model__n_estimators': 499, 'model__max_depth': 14, 'model__learning_rate': 0.9712386774564338, 'model__gamma': 5.201654744593693, 'model__reg_lambda': 0.9270558249488253, 'model__min_child_weight': 0.4704222115522187}. Best is trial 33 with value: 0.5925963824918212.\n",
      "[I 2023-12-05 19:34:25,826] Trial 56 finished with value: 0.572206174180394 and parameters: {'model__n_estimators': 228, 'model__max_depth': 10, 'model__learning_rate': 0.7903596522807594, 'model__gamma': 3.1205789515938545, 'model__reg_lambda': 0.8436721821132831, 'model__min_child_weight': 0.8784892409163635}. Best is trial 33 with value: 0.5925963824918212.\n",
      "[I 2023-12-05 19:34:27,079] Trial 57 finished with value: 0.5686781496382349 and parameters: {'model__n_estimators': 270, 'model__max_depth': 11, 'model__learning_rate': 1.1299319179305096, 'model__gamma': 4.3249744639180765, 'model__reg_lambda': 0.7743875288380137, 'model__min_child_weight': 0.13618409357869166}. Best is trial 33 with value: 0.5925963824918212.\n",
      "[I 2023-12-05 19:34:28,444] Trial 58 finished with value: 0.5956876546410725 and parameters: {'model__n_estimators': 351, 'model__max_depth': 13, 'model__learning_rate': 1.0342276462144266, 'model__gamma': 5.872665951471784, 'model__reg_lambda': 0.8170227517737564, 'model__min_child_weight': 0.6524949433272975}. Best is trial 58 with value: 0.5956876546410725.\n",
      "[I 2023-12-05 19:34:29,803] Trial 59 finished with value: 0.5812089609269356 and parameters: {'model__n_estimators': 345, 'model__max_depth': 16, 'model__learning_rate': 0.9130980752076006, 'model__gamma': 6.525287529287928, 'model__reg_lambda': 0.8198627527382953, 'model__min_child_weight': 1.160330668978118}. Best is trial 58 with value: 0.5956876546410725.\n",
      "[I 2023-12-05 19:34:31,215] Trial 60 finished with value: 0.5804192490211431 and parameters: {'model__n_estimators': 395, 'model__max_depth': 7, 'model__learning_rate': 1.0451051670643077, 'model__gamma': 10.024515228044086, 'model__reg_lambda': 0.7438433160189999, 'model__min_child_weight': 0.7236544952791208}. Best is trial 58 with value: 0.5956876546410725.\n",
      "[I 2023-12-05 19:34:32,481] Trial 61 finished with value: 0.5910105412900483 and parameters: {'model__n_estimators': 307, 'model__max_depth': 13, 'model__learning_rate': 0.9769895640351685, 'model__gamma': 5.778886030907646, 'model__reg_lambda': 0.8706876488681529, 'model__min_child_weight': 0.482354187629904}. Best is trial 58 with value: 0.5956876546410725.\n",
      "[I 2023-12-05 19:34:33,858] Trial 62 finished with value: 0.5797112815248984 and parameters: {'model__n_estimators': 369, 'model__max_depth': 13, 'model__learning_rate': 1.0219667628629368, 'model__gamma': 7.797154968110404, 'model__reg_lambda': 0.7614410827932856, 'model__min_child_weight': 0.5220959999340794}. Best is trial 58 with value: 0.5956876546410725.\n",
      "[I 2023-12-05 19:34:35,164] Trial 63 finished with value: 0.5882997273492927 and parameters: {'model__n_estimators': 302, 'model__max_depth': 15, 'model__learning_rate': 0.8922757352982396, 'model__gamma': 5.341181702775119, 'model__reg_lambda': 0.8587466745065819, 'model__min_child_weight': 0.868702561965699}. Best is trial 58 with value: 0.5956876546410725.\n",
      "[I 2023-12-05 19:34:36,571] Trial 64 finished with value: 0.5632179842729758 and parameters: {'model__n_estimators': 361, 'model__max_depth': 14, 'model__learning_rate': 1.1062829641595473, 'model__gamma': 3.6555495275448746, 'model__reg_lambda': 0.9025220615618345, 'model__min_child_weight': 0.4080846057907929}. Best is trial 58 with value: 0.5956876546410725.\n",
      "[I 2023-12-05 19:34:37,936] Trial 65 finished with value: 0.5837185759322938 and parameters: {'model__n_estimators': 336, 'model__max_depth': 13, 'model__learning_rate': 0.9550348594806228, 'model__gamma': 4.494830635618393, 'model__reg_lambda': 0.8137972032020575, 'model__min_child_weight': 0.5721879085590994}. Best is trial 58 with value: 0.5956876546410725.\n",
      "[I 2023-12-05 19:34:39,285] Trial 66 finished with value: 0.5887968114655558 and parameters: {'model__n_estimators': 317, 'model__max_depth': 11, 'model__learning_rate': 0.8182790335695498, 'model__gamma': 5.749933649721529, 'model__reg_lambda': 0.7281719814271397, 'model__min_child_weight': 1.2925045350780402}. Best is trial 58 with value: 0.5956876546410725.\n",
      "[I 2023-12-05 19:34:40,759] Trial 67 finished with value: 0.5888027235282933 and parameters: {'model__n_estimators': 437, 'model__max_depth': 10, 'model__learning_rate': 0.7804846093826432, 'model__gamma': 6.569205975902309, 'model__reg_lambda': 0.7022123906478307, 'model__min_child_weight': 0.8220184310888857}. Best is trial 58 with value: 0.5956876546410725.\n",
      "[I 2023-12-05 19:34:41,850] Trial 68 finished with value: 0.5738691697790677 and parameters: {'model__n_estimators': 139, 'model__max_depth': 13, 'model__learning_rate': 0.8489166302478088, 'model__gamma': 2.5294854957340975, 'model__reg_lambda': 0.7723757661080107, 'model__min_child_weight': 0.6667562032426186}. Best is trial 58 with value: 0.5956876546410725.\n",
      "[I 2023-12-05 19:34:43,102] Trial 69 finished with value: 0.5738115094399293 and parameters: {'model__n_estimators': 282, 'model__max_depth': 12, 'model__learning_rate': 1.1723368656617805, 'model__gamma': 4.717729485686732, 'model__reg_lambda': 0.8659706447853499, 'model__min_child_weight': 0.3870604712513461}. Best is trial 58 with value: 0.5956876546410725.\n",
      "[I 2023-12-05 19:34:44,427] Trial 70 finished with value: 0.5655348999768978 and parameters: {'model__n_estimators': 332, 'model__max_depth': 6, 'model__learning_rate': 0.682686534985578, 'model__gamma': 7.11635966343656, 'model__reg_lambda': 0.832725323558329, 'model__min_child_weight': 0.21298204324404751}. Best is trial 58 with value: 0.5956876546410725.\n",
      "[I 2023-12-05 19:34:45,642] Trial 71 finished with value: 0.5804018621637032 and parameters: {'model__n_estimators': 258, 'model__max_depth': 12, 'model__learning_rate': 0.9751729866866555, 'model__gamma': 6.108656130417584, 'model__reg_lambda': 0.9585614939336027, 'model__min_child_weight': 0.006939473007502028}. Best is trial 58 with value: 0.5956876546410725.\n",
      "[I 2023-12-05 19:34:46,897] Trial 72 finished with value: 0.5891252341442346 and parameters: {'model__n_estimators': 290, 'model__max_depth': 14, 'model__learning_rate': 1.0040104028042356, 'model__gamma': 5.658651853887779, 'model__reg_lambda': 0.9438514020780413, 'model__min_child_weight': 0.19460862082319286}. Best is trial 58 with value: 0.5956876546410725.\n",
      "[I 2023-12-05 19:34:48,196] Trial 73 finished with value: 0.5933574862707938 and parameters: {'model__n_estimators': 301, 'model__max_depth': 15, 'model__learning_rate': 1.035760150105445, 'model__gamma': 5.111245015057516, 'model__reg_lambda': 0.9191530554582878, 'model__min_child_weight': 0.4802740384462447}. Best is trial 58 with value: 0.5956876546410725.\n",
      "[I 2023-12-05 19:34:49,516] Trial 74 finished with value: 0.577739920213676 and parameters: {'model__n_estimators': 307, 'model__max_depth': 16, 'model__learning_rate': 1.0619414132932812, 'model__gamma': 3.74810264194642, 'model__reg_lambda': 0.902280589216805, 'model__min_child_weight': 0.5084389315702943}. Best is trial 58 with value: 0.5956876546410725.\n",
      "[I 2023-12-05 19:34:50,860] Trial 75 finished with value: 0.5917609804507078 and parameters: {'model__n_estimators': 362, 'model__max_depth': 9, 'model__learning_rate': 0.8943892748523626, 'model__gamma': 5.167132903715836, 'model__reg_lambda': 0.7968111135898737, 'model__min_child_weight': 0.9379119013169641}. Best is trial 58 with value: 0.5956876546410725.\n",
      "[I 2023-12-05 19:34:52,268] Trial 76 finished with value: 0.5805762134124786 and parameters: {'model__n_estimators': 384, 'model__max_depth': 8, 'model__learning_rate': 0.9337819612784305, 'model__gamma': 4.99992795266033, 'model__reg_lambda': 0.7893636609612197, 'model__min_child_weight': 0.32525568969436625}. Best is trial 58 with value: 0.5956876546410725.\n",
      "[I 2023-12-05 19:34:53,653] Trial 77 finished with value: 0.5879128419999028 and parameters: {'model__n_estimators': 348, 'model__max_depth': 9, 'model__learning_rate': 0.9021438172919647, 'model__gamma': 4.038193394678688, 'model__reg_lambda': 0.7535269647784284, 'model__min_child_weight': 0.7441417742481923}. Best is trial 58 with value: 0.5956876546410725.\n",
      "[I 2023-12-05 19:34:55,059] Trial 78 finished with value: 0.5791363786754554 and parameters: {'model__n_estimators': 361, 'model__max_depth': 9, 'model__learning_rate': 0.7682462133488894, 'model__gamma': 3.080238297670302, 'model__reg_lambda': 0.8140148405430998, 'model__min_child_weight': 0.49150847714092794}. Best is trial 58 with value: 0.5956876546410725.\n",
      "[I 2023-12-05 19:34:56,392] Trial 79 finished with value: 0.5901532298751174 and parameters: {'model__n_estimators': 326, 'model__max_depth': 10, 'model__learning_rate': 0.8339760195894796, 'model__gamma': 6.445945440229755, 'model__reg_lambda': 0.8515571847046968, 'model__min_child_weight': 0.6230386970273466}. Best is trial 58 with value: 0.5956876546410725.\n",
      "[I 2023-12-05 19:34:57,696] Trial 80 finished with value: 0.5744542135601709 and parameters: {'model__n_estimators': 326, 'model__max_depth': 8, 'model__learning_rate': 0.8400522443020131, 'model__gamma': 4.697396667559944, 'model__reg_lambda': 0.8638558980355168, 'model__min_child_weight': 0.5974361363687468}. Best is trial 58 with value: 0.5956876546410725.\n",
      "[I 2023-12-05 19:34:58,995] Trial 81 finished with value: 0.5936839257940175 and parameters: {'model__n_estimators': 310, 'model__max_depth': 10, 'model__learning_rate': 0.8783396602427952, 'model__gamma': 5.430576221867288, 'model__reg_lambda': 0.8361381634081145, 'model__min_child_weight': 0.8940991030410708}. Best is trial 58 with value: 0.5956876546410725.\n",
      "[I 2023-12-05 19:35:00,301] Trial 82 finished with value: 0.5947775670508165 and parameters: {'model__n_estimators': 310, 'model__max_depth': 10, 'model__learning_rate': 0.8768439944056046, 'model__gamma': 5.58268752700684, 'model__reg_lambda': 0.8445259274110745, 'model__min_child_weight': 0.8973479664695976}. Best is trial 58 with value: 0.5956876546410725.\n",
      "[I 2023-12-05 19:35:01,606] Trial 83 finished with value: 0.5899455459329858 and parameters: {'model__n_estimators': 311, 'model__max_depth': 10, 'model__learning_rate': 0.8701875972589291, 'model__gamma': 6.424555840004474, 'model__reg_lambda': 0.8512667915800979, 'model__min_child_weight': 0.8622938382619421}. Best is trial 58 with value: 0.5956876546410725.\n",
      "[I 2023-12-05 19:35:02,942] Trial 84 finished with value: 0.5918397531932941 and parameters: {'model__n_estimators': 338, 'model__max_depth': 10, 'model__learning_rate': 0.8109031234314739, 'model__gamma': 6.652492695175188, 'model__reg_lambda': 0.8883463408837426, 'model__min_child_weight': 1.0379595899572476}. Best is trial 58 with value: 0.5956876546410725.\n",
      "[I 2023-12-05 19:35:04,304] Trial 85 finished with value: 0.5868072620041164 and parameters: {'model__n_estimators': 340, 'model__max_depth': 15, 'model__learning_rate': 0.9313954669297744, 'model__gamma': 5.247701669195221, 'model__reg_lambda': 0.9130569687694452, 'model__min_child_weight': 1.0727100234826237}. Best is trial 58 with value: 0.5956876546410725.\n",
      "[I 2023-12-05 19:35:05,577] Trial 86 finished with value: 0.5997965414802233 and parameters: {'model__n_estimators': 280, 'model__max_depth': 9, 'model__learning_rate': 0.7366429120665584, 'model__gamma': 5.631759124494792, 'model__reg_lambda': 0.8858265360739246, 'model__min_child_weight': 0.932779331327533}. Best is trial 86 with value: 0.5997965414802233.\n",
      "[I 2023-12-05 19:35:06,849] Trial 87 finished with value: 0.5935371338396533 and parameters: {'model__n_estimators': 294, 'model__max_depth': 9, 'model__learning_rate': 0.7419781421138212, 'model__gamma': 5.5281385581918085, 'model__reg_lambda': 0.8719146719830031, 'model__min_child_weight': 1.1693230571387963}. Best is trial 86 with value: 0.5997965414802233.\n",
      "[I 2023-12-05 19:35:08,085] Trial 88 finished with value: 0.5907161422483245 and parameters: {'model__n_estimators': 281, 'model__max_depth': 9, 'model__learning_rate': 0.7260326927709833, 'model__gamma': 4.455376736458312, 'model__reg_lambda': 0.8831740024481856, 'model__min_child_weight': 1.1891221414581907}. Best is trial 86 with value: 0.5997965414802233.\n",
      "[I 2023-12-05 19:35:09,368] Trial 89 finished with value: 0.5850742664182746 and parameters: {'model__n_estimators': 299, 'model__max_depth': 8, 'model__learning_rate': 0.7589569324986728, 'model__gamma': 5.459898158105666, 'model__reg_lambda': 0.8109576468436329, 'model__min_child_weight': 1.3606143791090364}. Best is trial 86 with value: 0.5997965414802233.\n",
      "[I 2023-12-05 19:35:10,617] Trial 90 finished with value: 0.589709732291494 and parameters: {'model__n_estimators': 288, 'model__max_depth': 9, 'model__learning_rate': 0.8161662658466394, 'model__gamma': 7.746604891642168, 'model__reg_lambda': 0.8415807717294375, 'model__min_child_weight': 0.9902228579721508}. Best is trial 86 with value: 0.5997965414802233.\n",
      "[I 2023-12-05 19:35:11,809] Trial 91 finished with value: 0.5787858020025609 and parameters: {'model__n_estimators': 243, 'model__max_depth': 10, 'model__learning_rate': 0.6690485979324274, 'model__gamma': 6.8742509951501525, 'model__reg_lambda': 0.8819775195946444, 'model__min_child_weight': 0.9269666062645482}. Best is trial 86 with value: 0.5997965414802233.\n",
      "[I 2023-12-05 19:35:13,087] Trial 92 finished with value: 0.5929059363833151 and parameters: {'model__n_estimators': 306, 'model__max_depth': 9, 'model__learning_rate': 0.8815509652955605, 'model__gamma': 5.477396132726058, 'model__reg_lambda': 0.8020739718860386, 'model__min_child_weight': 0.7639762562921892}. Best is trial 86 with value: 0.5997965414802233.\n",
      "[I 2023-12-05 19:35:14,303] Trial 93 finished with value: 0.5827171796849777 and parameters: {'model__n_estimators': 269, 'model__max_depth': 8, 'model__learning_rate': 0.7916174359899084, 'model__gamma': 4.864957948405978, 'model__reg_lambda': 0.7843304465609346, 'model__min_child_weight': 1.0877036303187344}. Best is trial 86 with value: 0.5997965414802233.\n",
      "[I 2023-12-05 19:35:15,596] Trial 94 finished with value: 0.5766257552796683 and parameters: {'model__n_estimators': 296, 'model__max_depth': 9, 'model__learning_rate': 0.8772849139041136, 'model__gamma': 4.08002760082598, 'model__reg_lambda': 0.8016684765551498, 'model__min_child_weight': 0.8157721108195319}. Best is trial 86 with value: 0.5997965414802233.\n",
      "[I 2023-12-05 19:35:16,970] Trial 95 finished with value: 0.5900155773550269 and parameters: {'model__n_estimators': 358, 'model__max_depth': 10, 'model__learning_rate': 0.7169848115325992, 'model__gamma': 6.141215110406716, 'model__reg_lambda': 0.8298517300703648, 'model__min_child_weight': 0.7518503392094444}. Best is trial 86 with value: 0.5997965414802233.\n",
      "[I 2023-12-05 19:35:18,285] Trial 96 finished with value: 0.5902485279778619 and parameters: {'model__n_estimators': 315, 'model__max_depth': 9, 'model__learning_rate': 0.7588935023530258, 'model__gamma': 5.329825184608934, 'model__reg_lambda': 0.9184538150318828, 'model__min_child_weight': 1.213589275526275}. Best is trial 86 with value: 0.5997965414802233.\n",
      "[I 2023-12-05 19:35:19,629] Trial 97 finished with value: 0.5868869486715462 and parameters: {'model__n_estimators': 333, 'model__max_depth': 11, 'model__learning_rate': 0.8050050843775788, 'model__gamma': 4.913296277850756, 'model__reg_lambda': 0.8900522343672979, 'model__min_child_weight': 0.912304198222158}. Best is trial 86 with value: 0.5997965414802233.\n",
      "[I 2023-12-05 19:35:20,828] Trial 98 finished with value: 0.5801241312321889 and parameters: {'model__n_estimators': 263, 'model__max_depth': 7, 'model__learning_rate': 0.9053757603872846, 'model__gamma': 6.749542599949381, 'model__reg_lambda': 0.7365734956076347, 'model__min_child_weight': 1.1340666496452458}. Best is trial 86 with value: 0.5997965414802233.\n",
      "[I 2023-12-05 19:35:22,211] Trial 99 finished with value: 0.5842033962175583 and parameters: {'model__n_estimators': 371, 'model__max_depth': 8, 'model__learning_rate': 0.8759913441869899, 'model__gamma': 6.135188324812918, 'model__reg_lambda': 0.8359735825762412, 'model__min_child_weight': 1.0091596022727154}. Best is trial 86 with value: 0.5997965414802233.\n",
      "[I 2023-12-05 19:35:23,450] Trial 100 finished with value: 0.5854199555793501 and parameters: {'model__n_estimators': 284, 'model__max_depth': 9, 'model__learning_rate': 0.6973061226799482, 'model__gamma': 5.630263763940252, 'model__reg_lambda': 0.7687806114504468, 'model__min_child_weight': 0.6750262297111718}. Best is trial 86 with value: 0.5997965414802233.\n",
      "[I 2023-12-05 19:35:24,750] Trial 101 finished with value: 0.5878001918983017 and parameters: {'model__n_estimators': 302, 'model__max_depth': 10, 'model__learning_rate': 0.932264168467968, 'model__gamma': 5.748878771320783, 'model__reg_lambda': 0.8581063680438217, 'model__min_child_weight': 0.46008471672321205}. Best is trial 86 with value: 0.5997965414802233.\n",
      "[I 2023-12-05 19:35:26,045] Trial 102 finished with value: 0.5930582015197193 and parameters: {'model__n_estimators': 276, 'model__max_depth': 11, 'model__learning_rate': 0.9706741098909054, 'model__gamma': 5.295343846746029, 'model__reg_lambda': 0.8763933921117937, 'model__min_child_weight': 0.7917364233220319}. Best is trial 86 with value: 0.5997965414802233.\n",
      "[I 2023-12-05 19:35:27,312] Trial 103 finished with value: 0.5794519552576546 and parameters: {'model__n_estimators': 273, 'model__max_depth': 10, 'model__learning_rate': 0.8306587191257053, 'model__gamma': 4.611585817337851, 'model__reg_lambda': 0.9311471290130054, 'model__min_child_weight': 0.7921031092202779}. Best is trial 86 with value: 0.5997965414802233.\n",
      "[I 2023-12-05 19:35:28,652] Trial 104 finished with value: 0.5830174828032791 and parameters: {'model__n_estimators': 322, 'model__max_depth': 11, 'model__learning_rate': 0.7440382910368196, 'model__gamma': 3.501815559800427, 'model__reg_lambda': 0.9763758974942987, 'model__min_child_weight': 0.9385895800295173}. Best is trial 86 with value: 0.5997965414802233.\n",
      "[I 2023-12-05 19:35:29,856] Trial 105 finished with value: 0.5756697355397609 and parameters: {'model__n_estimators': 247, 'model__max_depth': 9, 'model__learning_rate': 0.866205606938069, 'model__gamma': 4.021103769742406, 'model__reg_lambda': 0.7996518988521328, 'model__min_child_weight': 0.6367384069196435}. Best is trial 86 with value: 0.5997965414802233.\n",
      "[I 2023-12-05 19:35:31,189] Trial 106 finished with value: 0.5884524859433273 and parameters: {'model__n_estimators': 341, 'model__max_depth': 11, 'model__learning_rate': 1.0198297336160533, 'model__gamma': 5.285285788600218, 'model__reg_lambda': 0.8819811023805533, 'model__min_child_weight': 1.0392880209165694}. Best is trial 86 with value: 0.5997965414802233.\n",
      "[I 2023-12-05 19:35:32,422] Trial 107 finished with value: 0.5910892268016962 and parameters: {'model__n_estimators': 276, 'model__max_depth': 10, 'model__learning_rate': 0.7896869674620836, 'model__gamma': 7.254681360542033, 'model__reg_lambda': 0.8218774017537287, 'model__min_child_weight': 1.289440003608449}. Best is trial 86 with value: 0.5997965414802233.\n",
      "[I 2023-12-05 19:35:33,698] Trial 108 finished with value: 0.5892723179443174 and parameters: {'model__n_estimators': 294, 'model__max_depth': 10, 'model__learning_rate': 0.9539401631321544, 'model__gamma': 6.176503904355918, 'model__reg_lambda': 0.7108120620970917, 'model__min_child_weight': 0.299453401167021}. Best is trial 86 with value: 0.5997965414802233.\n",
      "[I 2023-12-05 19:35:34,877] Trial 109 finished with value: 0.5876707983351392 and parameters: {'model__n_estimators': 237, 'model__max_depth': 9, 'model__learning_rate': 0.9037699202444969, 'model__gamma': 4.372451960880719, 'model__reg_lambda': 0.8974898989750182, 'model__min_child_weight': 0.783843003998561}. Best is trial 86 with value: 0.5997965414802233.\n",
      "[I 2023-12-05 19:35:36,292] Trial 110 finished with value: 0.5797110557044435 and parameters: {'model__n_estimators': 389, 'model__max_depth': 8, 'model__learning_rate': 0.9963677583862708, 'model__gamma': 6.762358653685478, 'model__reg_lambda': 0.9149106685345715, 'model__min_child_weight': 0.7165051006725975}. Best is trial 86 with value: 0.5997965414802233.\n",
      "[I 2023-12-05 19:35:37,510] Trial 111 finished with value: 0.5897332858097593 and parameters: {'model__n_estimators': 278, 'model__max_depth': 10, 'model__learning_rate': 0.787770483889331, 'model__gamma': 7.137451726930353, 'model__reg_lambda': 0.8238199299066087, 'model__min_child_weight': 1.2662921510321687}. Best is trial 86 with value: 0.5997965414802233.\n",
      "[I 2023-12-05 19:35:38,815] Trial 112 finished with value: 0.5783423906141124 and parameters: {'model__n_estimators': 310, 'model__max_depth': 11, 'model__learning_rate': 0.8211100188188725, 'model__gamma': 5.055099007860992, 'model__reg_lambda': 0.7544948254436757, 'model__min_child_weight': 1.1221143913861198}. Best is trial 86 with value: 0.5997965414802233.\n",
      "[I 2023-12-05 19:35:40,034] Trial 113 finished with value: 0.5924337124287444 and parameters: {'model__n_estimators': 261, 'model__max_depth': 10, 'model__learning_rate': 0.8448402873254336, 'model__gamma': 5.592166373293992, 'model__reg_lambda': 0.8701574820123762, 'model__min_child_weight': 1.3730855765816048}. Best is trial 86 with value: 0.5997965414802233.\n",
      "[I 2023-12-05 19:35:41,245] Trial 114 finished with value: 0.5939249481862444 and parameters: {'model__n_estimators': 262, 'model__max_depth': 9, 'model__learning_rate': 0.855045688158995, 'model__gamma': 5.499777512174855, 'model__reg_lambda': 0.8451196348222098, 'model__min_child_weight': 0.8751839206699491}. Best is trial 86 with value: 0.5997965414802233.\n",
      "[I 2023-12-05 19:35:42,388] Trial 115 finished with value: 0.5929930971056 and parameters: {'model__n_estimators': 221, 'model__max_depth': 10, 'model__learning_rate': 0.8421362188965902, 'model__gamma': 5.574827291910572, 'model__reg_lambda': 0.8683186791938414, 'model__min_child_weight': 1.388897834353411}. Best is trial 86 with value: 0.5997965414802233.\n",
      "[I 2023-12-05 19:35:43,523] Trial 116 finished with value: 0.5912469129415006 and parameters: {'model__n_estimators': 213, 'model__max_depth': 9, 'model__learning_rate': 0.8655188276289512, 'model__gamma': 5.494695819020065, 'model__reg_lambda': 0.8531373456588012, 'model__min_child_weight': 1.6741179809907716}. Best is trial 86 with value: 0.5997965414802233.\n",
      "[I 2023-12-05 19:35:44,745] Trial 117 finished with value: 0.5931659489924423 and parameters: {'model__n_estimators': 260, 'model__max_depth': 11, 'model__learning_rate': 0.7445712667838167, 'model__gamma': 5.924913787542092, 'model__reg_lambda': 0.8682922219840491, 'model__min_child_weight': 1.4714715972372872}. Best is trial 86 with value: 0.5997965414802233.\n",
      "[I 2023-12-05 19:35:45,965] Trial 118 finished with value: 0.5859916019174187 and parameters: {'model__n_estimators': 256, 'model__max_depth': 11, 'model__learning_rate': 0.7235804315004408, 'model__gamma': 4.901985934728318, 'model__reg_lambda': 0.9361259753687177, 'model__min_child_weight': 0.8421554240781705}. Best is trial 86 with value: 0.5997965414802233.\n",
      "[I 2023-12-05 19:35:47,147] Trial 119 finished with value: 0.5900043966377616 and parameters: {'model__n_estimators': 235, 'model__max_depth': 8, 'model__learning_rate': 0.6272950895792734, 'model__gamma': 5.970850430157864, 'model__reg_lambda': 0.9110878109033461, 'model__min_child_weight': 0.5501742439635646}. Best is trial 86 with value: 0.5997965414802233.\n",
      "[I 2023-12-05 19:35:48,322] Trial 120 finished with value: 0.5804481265831501 and parameters: {'model__n_estimators': 220, 'model__max_depth': 11, 'model__learning_rate': 0.6564598074095341, 'model__gamma': 4.013104188680083, 'model__reg_lambda': 0.842299447877038, 'model__min_child_weight': 1.4342881262076617}. Best is trial 86 with value: 0.5997965414802233.\n",
      "[I 2023-12-05 19:35:49,576] Trial 121 finished with value: 0.5971229154179507 and parameters: {'model__n_estimators': 262, 'model__max_depth': 10, 'model__learning_rate': 0.8439934496857069, 'model__gamma': 5.680548148432709, 'model__reg_lambda': 0.8635795844103465, 'model__min_child_weight': 1.4353410716593245}. Best is trial 86 with value: 0.5997965414802233.\n",
      "[I 2023-12-05 19:35:50,762] Trial 122 finished with value: 0.5917980992446366 and parameters: {'model__n_estimators': 248, 'model__max_depth': 10, 'model__learning_rate': 0.7636166160080787, 'model__gamma': 6.302058473159171, 'model__reg_lambda': 0.8689564083636601, 'model__min_child_weight': 1.6114423257994481}. Best is trial 86 with value: 0.5997965414802233.\n",
      "[I 2023-12-05 19:35:52,145] Trial 123 finished with value: 0.5888435506885606 and parameters: {'model__n_estimators': 291, 'model__max_depth': 9, 'model__learning_rate': 0.9325217737527063, 'model__gamma': 4.641999876827683, 'model__reg_lambda': 0.8076787396813174, 'model__min_child_weight': 1.5357037793584598}. Best is trial 86 with value: 0.5997965414802233.\n",
      "[I 2023-12-05 19:35:53,471] Trial 124 finished with value: 0.5887735010632056 and parameters: {'model__n_estimators': 264, 'model__max_depth': 9, 'model__learning_rate': 0.6930605230026372, 'model__gamma': 5.466449352724864, 'model__reg_lambda': 0.776873913957222, 'model__min_child_weight': 1.8158302877636356}. Best is trial 86 with value: 0.5997965414802233.\n",
      "[I 2023-12-05 19:35:54,722] Trial 125 finished with value: 0.5899210578452143 and parameters: {'model__n_estimators': 271, 'model__max_depth': 10, 'model__learning_rate': 0.7493980418922597, 'model__gamma': 5.9796236358296655, 'model__reg_lambda': 0.9650103681325758, 'model__min_child_weight': 1.1720658012025282}. Best is trial 86 with value: 0.5997965414802233.\n",
      "[I 2023-12-05 19:35:55,938] Trial 126 finished with value: 0.5851545026805004 and parameters: {'model__n_estimators': 250, 'model__max_depth': 12, 'model__learning_rate': 0.9728592134122134, 'model__gamma': 4.580775263638316, 'model__reg_lambda': 0.8420620800233605, 'model__min_child_weight': 1.4749562795674962}. Best is trial 86 with value: 0.5997965414802233.\n",
      "[I 2023-12-05 19:35:57,109] Trial 127 finished with value: 0.5840953761183076 and parameters: {'model__n_estimators': 225, 'model__max_depth': 11, 'model__learning_rate': 0.84151305353569, 'model__gamma': 5.043644950414543, 'model__reg_lambda': 0.9006118670538737, 'model__min_child_weight': 1.244735100411868}. Best is trial 86 with value: 0.5997965414802233.\n",
      "[I 2023-12-05 19:35:58,378] Trial 128 finished with value: 0.5847515159734635 and parameters: {'model__n_estimators': 287, 'model__max_depth': 16, 'model__learning_rate': 0.8909416717886738, 'model__gamma': 3.806372625791897, 'model__reg_lambda': 0.9397000629865598, 'model__min_child_weight': 1.3878642653018796}. Best is trial 86 with value: 0.5997965414802233.\n",
      "[I 2023-12-05 19:35:59,651] Trial 129 finished with value: 0.5810536994030917 and parameters: {'model__n_estimators': 299, 'model__max_depth': 9, 'model__learning_rate': 1.0363925409811543, 'model__gamma': 7.513264546240409, 'model__reg_lambda': 0.8790310518219644, 'model__min_child_weight': 0.36777279081159564}. Best is trial 86 with value: 0.5997965414802233.\n",
      "[I 2023-12-05 19:36:00,775] Trial 130 finished with value: 0.5926126563961283 and parameters: {'model__n_estimators': 206, 'model__max_depth': 10, 'model__learning_rate': 0.7784699968245663, 'model__gamma': 6.318676792624198, 'model__reg_lambda': 0.8615114264092092, 'model__min_child_weight': 0.8971814550620822}. Best is trial 86 with value: 0.5997965414802233.\n",
      "[I 2023-12-05 19:36:01,892] Trial 131 finished with value: 0.5935798775763617 and parameters: {'model__n_estimators': 199, 'model__max_depth': 10, 'model__learning_rate': 0.7759148922499752, 'model__gamma': 6.50769895036277, 'model__reg_lambda': 0.8611566603007701, 'model__min_child_weight': 0.8654177215435216}. Best is trial 86 with value: 0.5997965414802233.\n",
      "[I 2023-12-05 19:36:03,004] Trial 132 finished with value: 0.5950080581389039 and parameters: {'model__n_estimators': 189, 'model__max_depth': 10, 'model__learning_rate': 0.7374307025915114, 'model__gamma': 6.4906191661797195, 'model__reg_lambda': 0.8576052254439567, 'model__min_child_weight': 0.8809369870245082}. Best is trial 86 with value: 0.5997965414802233.\n",
      "[I 2023-12-05 19:36:04,115] Trial 133 finished with value: 0.5905200197057067 and parameters: {'model__n_estimators': 183, 'model__max_depth': 10, 'model__learning_rate': 0.7264511591110542, 'model__gamma': 5.808779436326009, 'model__reg_lambda': 0.8286964341568276, 'model__min_child_weight': 1.070893119547945}. Best is trial 86 with value: 0.5997965414802233.\n",
      "[I 2023-12-05 19:36:05,191] Trial 134 finished with value: 0.5893051954494093 and parameters: {'model__n_estimators': 173, 'model__max_depth': 11, 'model__learning_rate': 0.8110360133411659, 'model__gamma': 5.533647966407458, 'model__reg_lambda': 0.8484274641450752, 'model__min_child_weight': 0.7029295821099764}. Best is trial 86 with value: 0.5997965414802233.\n",
      "[I 2023-12-05 19:36:06,292] Trial 135 finished with value: 0.587248223395988 and parameters: {'model__n_estimators': 189, 'model__max_depth': 10, 'model__learning_rate': 0.9181687034222906, 'model__gamma': 6.711274409578724, 'model__reg_lambda': 0.8979986432761494, 'model__min_child_weight': 0.964871237216472}. Best is trial 86 with value: 0.5997965414802233.\n",
      "[I 2023-12-05 19:36:07,399] Trial 136 finished with value: 0.5801035335789454 and parameters: {'model__n_estimators': 199, 'model__max_depth': 11, 'model__learning_rate': 0.6815868843630186, 'model__gamma': 7.97845385816343, 'model__reg_lambda': 0.9200012713128325, 'model__min_child_weight': 0.6168760377218119}. Best is trial 86 with value: 0.5997965414802233.\n",
      "[I 2023-12-05 19:36:08,462] Trial 137 finished with value: 0.5920656039087442 and parameters: {'model__n_estimators': 154, 'model__max_depth': 10, 'model__learning_rate': 0.8536184876499555, 'model__gamma': 6.376483870605145, 'model__reg_lambda': 0.8111692036418532, 'model__min_child_weight': 0.7956017729827959}. Best is trial 86 with value: 0.5997965414802233.\n",
      "[I 2023-12-05 19:36:09,530] Trial 138 finished with value: 0.5913603422553722 and parameters: {'model__n_estimators': 165, 'model__max_depth': 12, 'model__learning_rate': 0.7460285882865466, 'model__gamma': 5.978518147294259, 'model__reg_lambda': 0.8816919310347245, 'model__min_child_weight': 0.8895593630596678}. Best is trial 86 with value: 0.5997965414802233.\n",
      "[I 2023-12-05 19:36:10,656] Trial 139 finished with value: 0.591314117031193 and parameters: {'model__n_estimators': 211, 'model__max_depth': 9, 'model__learning_rate': 0.7036927383676506, 'model__gamma': 7.089898613794447, 'model__reg_lambda': 0.7889911762580057, 'model__min_child_weight': 1.2299384297020852}. Best is trial 86 with value: 0.5997965414802233.\n",
      "[I 2023-12-05 19:36:11,978] Trial 140 finished with value: 0.5835601928000005 and parameters: {'model__n_estimators': 316, 'model__max_depth': 11, 'model__learning_rate': 0.9535829741960818, 'model__gamma': 5.1922062003365435, 'model__reg_lambda': 0.8635267573927492, 'model__min_child_weight': 1.111899495528087}. Best is trial 86 with value: 0.5997965414802233.\n",
      "[I 2023-12-05 19:36:13,111] Trial 141 finished with value: 0.591867770792494 and parameters: {'model__n_estimators': 203, 'model__max_depth': 10, 'model__learning_rate': 0.78417983138507, 'model__gamma': 6.3064431563333425, 'model__reg_lambda': 0.8667319474441083, 'model__min_child_weight': 0.8874416323506815}. Best is trial 86 with value: 0.5997965414802233.\n",
      "[I 2023-12-05 19:36:14,208] Trial 142 finished with value: 0.5890206855378647 and parameters: {'model__n_estimators': 183, 'model__max_depth': 10, 'model__learning_rate': 0.7746631262258308, 'model__gamma': 6.413578617820232, 'model__reg_lambda': 0.8339883381988847, 'model__min_child_weight': 0.9886685990018113}. Best is trial 86 with value: 0.5997965414802233.\n",
      "[I 2023-12-05 19:36:15,307] Trial 143 finished with value: 0.5968338287158208 and parameters: {'model__n_estimators': 193, 'model__max_depth': 9, 'model__learning_rate': 0.8289355738127958, 'model__gamma': 5.773598277620746, 'model__reg_lambda': 0.8562255553133234, 'model__min_child_weight': 0.7209775243146598}. Best is trial 86 with value: 0.5997965414802233.\n",
      "[I 2023-12-05 19:36:16,409] Trial 144 finished with value: 0.5918105286548109 and parameters: {'model__n_estimators': 196, 'model__max_depth': 9, 'model__learning_rate': 0.8178788336799565, 'model__gamma': 5.776454299098739, 'model__reg_lambda': 0.8218317116851268, 'model__min_child_weight': 0.732109670628277}. Best is trial 86 with value: 0.5997965414802233.\n",
      "[I 2023-12-05 19:36:17,594] Trial 145 finished with value: 0.5813102700525629 and parameters: {'model__n_estimators': 236, 'model__max_depth': 8, 'model__learning_rate': 0.8843016327296469, 'model__gamma': 4.7106488222639875, 'model__reg_lambda': 0.8992280398923511, 'model__min_child_weight': 0.6039288242994608}. Best is trial 86 with value: 0.5997965414802233.\n",
      "[I 2023-12-05 19:36:18,865] Trial 146 finished with value: 0.58521000102858 and parameters: {'model__n_estimators': 304, 'model__max_depth': 9, 'model__learning_rate': 0.8569401827739066, 'model__gamma': 4.340152375601425, 'model__reg_lambda': 0.8480278106958246, 'model__min_child_weight': 0.8421083808574111}. Best is trial 86 with value: 0.5997965414802233.\n",
      "[I 2023-12-05 19:36:20,123] Trial 147 finished with value: 0.5854284659127093 and parameters: {'model__n_estimators': 277, 'model__max_depth': 9, 'model__learning_rate': 0.9983040288395704, 'model__gamma': 5.363025825476177, 'model__reg_lambda': 0.9340422351853279, 'model__min_child_weight': 1.3482891017907486}. Best is trial 86 with value: 0.5997965414802233.\n",
      "[I 2023-12-05 19:36:21,181] Trial 148 finished with value: 0.560145535754215 and parameters: {'model__n_estimators': 171, 'model__max_depth': 3, 'model__learning_rate': 0.8290732386549176, 'model__gamma': 6.955490049516504, 'model__reg_lambda': 0.8815989581134305, 'model__min_child_weight': 0.5093443379383168}. Best is trial 86 with value: 0.5997965414802233.\n",
      "[I 2023-12-05 19:36:22,427] Trial 149 finished with value: 0.5847506126922724 and parameters: {'model__n_estimators': 284, 'model__max_depth': 10, 'model__learning_rate': 0.9064219947865801, 'model__gamma': 5.96876621709888, 'model__reg_lambda': 0.9076879750842853, 'model__min_child_weight': 0.709332974583218}. Best is trial 86 with value: 0.5997965414802233.\n",
      "[I 2023-12-05 19:36:23,591] Trial 150 finished with value: 0.5815969562463067 and parameters: {'model__n_estimators': 218, 'model__max_depth': 8, 'model__learning_rate': 0.7334410628460227, 'model__gamma': 4.982828227352325, 'model__reg_lambda': 0.8177605674661712, 'model__min_child_weight': 1.1320156827937875}. Best is trial 86 with value: 0.5997965414802233.\n",
      "[I 2023-12-05 19:36:24,712] Trial 151 finished with value: 0.590737929301619 and parameters: {'model__n_estimators': 206, 'model__max_depth': 10, 'model__learning_rate': 0.7934429028605742, 'model__gamma': 6.570685362232053, 'model__reg_lambda': 0.862852033481834, 'model__min_child_weight': 0.8985989802117619}. Best is trial 86 with value: 0.5997965414802233.\n",
      "[I 2023-12-05 19:36:25,818] Trial 152 finished with value: 0.5943015435369693 and parameters: {'model__n_estimators': 188, 'model__max_depth': 10, 'model__learning_rate': 0.7528854761450551, 'model__gamma': 5.6029128683952045, 'model__reg_lambda': 0.8550068671776949, 'model__min_child_weight': 1.0410794956314844}. Best is trial 86 with value: 0.5997965414802233.\n",
      "[I 2023-12-05 19:36:26,933] Trial 153 finished with value: 0.5814356298456562 and parameters: {'model__n_estimators': 181, 'model__max_depth': 9, 'model__learning_rate': 0.6627080408405744, 'model__gamma': 5.560071780032609, 'model__reg_lambda': 0.8442660470165096, 'model__min_child_weight': 0.7947198804526663}. Best is trial 86 with value: 0.5997965414802233.\n",
      "[I 2023-12-05 19:36:28,074] Trial 154 finished with value: 0.5881763983875784 and parameters: {'model__n_estimators': 194, 'model__max_depth': 11, 'model__learning_rate': 0.7564621524759586, 'model__gamma': 5.279262767061357, 'model__reg_lambda': 0.7844979117876493, 'model__min_child_weight': 1.0273711837778234}. Best is trial 86 with value: 0.5997965414802233.\n",
      "[I 2023-12-05 19:36:29,133] Trial 155 finished with value: 0.5893263047589667 and parameters: {'model__n_estimators': 165, 'model__max_depth': 9, 'model__learning_rate': 0.8135432619134607, 'model__gamma': 5.827972877962347, 'model__reg_lambda': 0.8738093586021586, 'model__min_child_weight': 1.1831594879677307}. Best is trial 86 with value: 0.5997965414802233.\n",
      "[I 2023-12-05 19:36:30,256] Trial 156 finished with value: 0.5841668911737669 and parameters: {'model__n_estimators': 189, 'model__max_depth': 10, 'model__learning_rate': 0.7177592399445578, 'model__gamma': 4.792788723576347, 'model__reg_lambda': 0.8099766425647615, 'model__min_child_weight': 1.0199529505752776}. Best is trial 86 with value: 0.5997965414802233.\n",
      "[I 2023-12-05 19:36:31,597] Trial 157 finished with value: 0.5869934283881688 and parameters: {'model__n_estimators': 293, 'model__max_depth': 10, 'model__learning_rate': 0.8754834810075176, 'model__gamma': 7.40022658656676, 'model__reg_lambda': 0.8456893006630475, 'model__min_child_weight': 0.6556499441728758}. Best is trial 86 with value: 0.5997965414802233.\n",
      "[I 2023-12-05 19:36:33,221] Trial 158 finished with value: 0.5798442667154766 and parameters: {'model__n_estimators': 307, 'model__max_depth': 14, 'model__learning_rate': 0.6017047032695246, 'model__gamma': 4.273102523740036, 'model__reg_lambda': 0.9565819532867602, 'model__min_child_weight': 1.505524971216192}. Best is trial 86 with value: 0.5997965414802233.\n",
      "[I 2023-12-05 19:36:34,228] Trial 159 finished with value: 0.5815601983998901 and parameters: {'model__n_estimators': 134, 'model__max_depth': 9, 'model__learning_rate': 0.8457322665901615, 'model__gamma': 6.712488392172885, 'model__reg_lambda': 0.8902907933537552, 'model__min_child_weight': 2.040639533854703}. Best is trial 86 with value: 0.5997965414802233.\n",
      "[I 2023-12-05 19:36:35,439] Trial 160 finished with value: 0.586198456738608 and parameters: {'model__n_estimators': 259, 'model__max_depth': 11, 'model__learning_rate': 0.9185477334171552, 'model__gamma': 5.465643596973568, 'model__reg_lambda': 0.9256316957471074, 'model__min_child_weight': 1.3108627158229247}. Best is trial 86 with value: 0.5997965414802233.\n",
      "[I 2023-12-05 19:36:36,576] Trial 161 finished with value: 0.5925854861424723 and parameters: {'model__n_estimators': 213, 'model__max_depth': 10, 'model__learning_rate': 0.7955780552902596, 'model__gamma': 6.156376926333289, 'model__reg_lambda': 0.8681573349034207, 'model__min_child_weight': 0.8479608165140684}. Best is trial 86 with value: 0.5997965414802233.\n",
      "[I 2023-12-05 19:36:37,890] Trial 162 finished with value: 0.5914871409907949 and parameters: {'model__n_estimators': 323, 'model__max_depth': 10, 'model__learning_rate': 0.7632913531031543, 'model__gamma': 6.179659607983652, 'model__reg_lambda': 0.8553337294830097, 'model__min_child_weight': 0.9485228988860597}. Best is trial 86 with value: 0.5997965414802233.\n",
      "[I 2023-12-05 19:36:39,068] Trial 163 finished with value: 0.5794316038129537 and parameters: {'model__n_estimators': 224, 'model__max_depth': 15, 'model__learning_rate': 0.774046377808533, 'model__gamma': 5.125702883853822, 'model__reg_lambda': 0.8309003189948713, 'model__min_child_weight': 0.7438132059720951}. Best is trial 86 with value: 0.5997965414802233.\n",
      "[I 2023-12-05 19:36:40,212] Trial 164 finished with value: 0.5991613088294664 and parameters: {'model__n_estimators': 205, 'model__max_depth': 10, 'model__learning_rate': 0.706758568165252, 'model__gamma': 5.726788540051402, 'model__reg_lambda': 0.8875773348150842, 'model__min_child_weight': 1.0698419023641135}. Best is trial 86 with value: 0.5997965414802233.\n",
      "[I 2023-12-05 19:36:41,442] Trial 165 finished with value: 0.5907618967300678 and parameters: {'model__n_estimators': 271, 'model__max_depth': 10, 'model__learning_rate': 0.6452920447968674, 'model__gamma': 5.618518134081924, 'model__reg_lambda': 0.8945326433867249, 'model__min_child_weight': 1.0831453791420957}. Best is trial 86 with value: 0.5997965414802233.\n",
      "[I 2023-12-05 19:36:42,646] Trial 166 finished with value: 0.591785449343732 and parameters: {'model__n_estimators': 239, 'model__max_depth': 11, 'model__learning_rate': 0.6851749609697457, 'model__gamma': 4.702257466224385, 'model__reg_lambda': 0.9133436305566296, 'model__min_child_weight': 1.215081861946116}. Best is trial 86 with value: 0.5997965414802233.\n",
      "[I 2023-12-05 19:36:43,748] Trial 167 finished with value: 0.5908543763041385 and parameters: {'model__n_estimators': 192, 'model__max_depth': 9, 'model__learning_rate': 0.7095734179824378, 'model__gamma': 5.778257970269054, 'model__reg_lambda': 0.8013733442310935, 'model__min_child_weight': 0.5391974129080062}. Best is trial 86 with value: 0.5997965414802233.\n",
      "[I 2023-12-05 19:36:45,014] Trial 168 finished with value: 0.5876872853483527 and parameters: {'model__n_estimators': 284, 'model__max_depth': 9, 'model__learning_rate': 1.0981847018442854, 'model__gamma': 5.224959037065208, 'model__reg_lambda': 0.8867890708616086, 'model__min_child_weight': 0.9894606676780145}. Best is trial 86 with value: 0.5997965414802233.\n",
      "[I 2023-12-05 19:36:46,297] Trial 169 finished with value: 0.592474912154473 and parameters: {'model__n_estimators': 296, 'model__max_depth': 12, 'model__learning_rate': 0.7344013746345709, 'model__gamma': 6.696879525243578, 'model__reg_lambda': 0.8306648170537484, 'model__min_child_weight': 1.2718789870011018}. Best is trial 86 with value: 0.5997965414802233.\n",
      "[I 2023-12-05 19:36:47,502] Trial 170 finished with value: 0.5976421605470991 and parameters: {'model__n_estimators': 254, 'model__max_depth': 10, 'model__learning_rate': 1.0254836322539496, 'model__gamma': 5.89286204619407, 'model__reg_lambda': 0.7656189492575893, 'model__min_child_weight': 0.8002821146038022}. Best is trial 86 with value: 0.5997965414802233.\n",
      "[I 2023-12-05 19:36:48,729] Trial 171 finished with value: 0.5828148633153019 and parameters: {'model__n_estimators': 253, 'model__max_depth': 10, 'model__learning_rate': 1.0309016392337493, 'model__gamma': 5.511103537168434, 'model__reg_lambda': 0.7725445460706415, 'model__min_child_weight': 0.7905020447736635}. Best is trial 86 with value: 0.5997965414802233.\n",
      "[I 2023-12-05 19:36:49,980] Trial 172 finished with value: 0.5896883316543378 and parameters: {'model__n_estimators': 273, 'model__max_depth': 10, 'model__learning_rate': 1.063539553827804, 'model__gamma': 6.009909229487462, 'model__reg_lambda': 0.852786948801804, 'model__min_child_weight': 0.6761883500719303}. Best is trial 86 with value: 0.5997965414802233.\n",
      "[I 2023-12-05 19:36:51,125] Trial 173 finished with value: 0.5894089818132112 and parameters: {'model__n_estimators': 229, 'model__max_depth': 10, 'model__learning_rate': 0.9914540796747838, 'model__gamma': 5.003564682877766, 'model__reg_lambda': 0.8012275608548679, 'model__min_child_weight': 0.9051664104150435}. Best is trial 86 with value: 0.5997965414802233.\n",
      "[I 2023-12-05 19:36:52,219] Trial 174 finished with value: 0.5823015285616818 and parameters: {'model__n_estimators': 180, 'model__max_depth': 10, 'model__learning_rate': 0.9417932535481467, 'model__gamma': 8.434622999542203, 'model__reg_lambda': 0.7502444942105557, 'model__min_child_weight': 1.0982587320898827}. Best is trial 86 with value: 0.5997965414802233.\n",
      "[I 2023-12-05 19:36:53,416] Trial 175 finished with value: 0.5911303393627587 and parameters: {'model__n_estimators': 260, 'model__max_depth': 11, 'model__learning_rate': 0.8189848122185466, 'model__gamma': 6.373849894800818, 'model__reg_lambda': 0.8773170474866003, 'model__min_child_weight': 0.45688974787643927}. Best is trial 86 with value: 0.5997965414802233.\n",
      "[I 2023-12-05 19:36:54,611] Trial 176 finished with value: 0.5896724161814209 and parameters: {'model__n_estimators': 248, 'model__max_depth': 9, 'model__learning_rate': 1.0249300656691307, 'model__gamma': 5.8664436455588795, 'model__reg_lambda': 0.8281294631690699, 'model__min_child_weight': 1.4209620307844366}. Best is trial 86 with value: 0.5997965414802233.\n",
      "[I 2023-12-05 19:36:55,574] Trial 177 finished with value: 0.5870820756335471 and parameters: {'model__n_estimators': 91, 'model__max_depth': 9, 'model__learning_rate': 0.8715715092010895, 'model__gamma': 4.437210086277627, 'model__reg_lambda': 0.6474151121661227, 'model__min_child_weight': 0.9765490193362361}. Best is trial 86 with value: 0.5997965414802233.\n",
      "[I 2023-12-05 19:36:56,698] Trial 178 finished with value: 0.5878986874713432 and parameters: {'model__n_estimators': 200, 'model__max_depth': 10, 'model__learning_rate': 0.9759349647147553, 'model__gamma': 6.883507414526717, 'model__reg_lambda': 0.9121370922679816, 'model__min_child_weight': 0.7858391268808427}. Best is trial 86 with value: 0.5997965414802233.\n",
      "[I 2023-12-05 19:36:57,973] Trial 179 finished with value: 0.5877259507991608 and parameters: {'model__n_estimators': 315, 'model__max_depth': 8, 'model__learning_rate': 0.8358918695727001, 'model__gamma': 5.339840192113626, 'model__reg_lambda': 0.8494394094876517, 'model__min_child_weight': 0.6313304272191409}. Best is trial 86 with value: 0.5997965414802233.\n",
      "[I 2023-12-05 19:36:59,206] Trial 180 finished with value: 0.5913280293901669 and parameters: {'model__n_estimators': 264, 'model__max_depth': 11, 'model__learning_rate': 0.7458415742458375, 'model__gamma': 6.195358437305309, 'model__reg_lambda': 0.8153748619133938, 'model__min_child_weight': 1.5978018669182958}. Best is trial 86 with value: 0.5997965414802233.\n",
      "[I 2023-12-05 19:37:00,345] Trial 181 finished with value: 0.5903195040859929 and parameters: {'model__n_estimators': 204, 'model__max_depth': 10, 'model__learning_rate': 0.7876677205752478, 'model__gamma': 6.413502564358564, 'model__reg_lambda': 0.8643015841354664, 'model__min_child_weight': 0.8857188337392531}. Best is trial 86 with value: 0.5997965414802233.\n",
      "[I 2023-12-05 19:37:01,521] Trial 182 finished with value: 0.5937326300203398 and parameters: {'model__n_estimators': 214, 'model__max_depth': 10, 'model__learning_rate': 0.7647432752936212, 'model__gamma': 5.862858698747999, 'model__reg_lambda': 0.8731270773765212, 'model__min_child_weight': 0.8661767164333809}. Best is trial 86 with value: 0.5997965414802233.\n",
      "[I 2023-12-05 19:37:02,679] Trial 183 finished with value: 0.5859983386879484 and parameters: {'model__n_estimators': 219, 'model__max_depth': 9, 'model__learning_rate': 0.6925656717143052, 'model__gamma': 5.7862466720141335, 'model__reg_lambda': 0.8839024529115206, 'model__min_child_weight': 1.0443644499455558}. Best is trial 86 with value: 0.5997965414802233.\n",
      "[I 2023-12-05 19:37:03,803] Trial 184 finished with value: 0.5850387261718847 and parameters: {'model__n_estimators': 188, 'model__max_depth': 10, 'model__learning_rate': 0.8903505359272593, 'model__gamma': 4.868598764027858, 'model__reg_lambda': 0.837288578142082, 'model__min_child_weight': 0.7353165918447918}. Best is trial 86 with value: 0.5997965414802233.\n",
      "[I 2023-12-05 19:37:05,053] Trial 185 finished with value: 0.5878856098697965 and parameters: {'model__n_estimators': 280, 'model__max_depth': 10, 'model__learning_rate': 0.72148978813266, 'model__gamma': 5.509897402932978, 'model__reg_lambda': 0.9402441821439392, 'model__min_child_weight': 1.178546877364736}. Best is trial 86 with value: 0.5997965414802233.\n",
      "[I 2023-12-05 19:37:06,125] Trial 186 finished with value: 0.5888115729736596 and parameters: {'model__n_estimators': 173, 'model__max_depth': 9, 'model__learning_rate': 0.8021388764287808, 'model__gamma': 5.135803646317306, 'model__reg_lambda': 0.8972123258736416, 'model__min_child_weight': 0.8333126161819189}. Best is trial 86 with value: 0.5997965414802233.\n",
      "[I 2023-12-05 19:37:07,295] Trial 187 finished with value: 0.5863263372327676 and parameters: {'model__n_estimators': 230, 'model__max_depth': 11, 'model__learning_rate': 1.085181754690827, 'model__gamma': 7.244411689934064, 'model__reg_lambda': 0.8617268838683017, 'model__min_child_weight': 0.6085021402046327}. Best is trial 86 with value: 0.5997965414802233.\n",
      "[I 2023-12-05 19:37:08,562] Trial 188 finished with value: 0.5950863004922569 and parameters: {'model__n_estimators': 303, 'model__max_depth': 9, 'model__learning_rate': 0.8458663686337979, 'model__gamma': 5.966705868304667, 'model__reg_lambda': 0.7908237978894149, 'model__min_child_weight': 2.813140664332367}. Best is trial 86 with value: 0.5997965414802233.\n",
      "[I 2023-12-05 19:37:09,673] Trial 189 finished with value: 0.5732562658988686 and parameters: {'model__n_estimators': 211, 'model__max_depth': 10, 'model__learning_rate': 0.844812179194562, 'model__gamma': 11.910405599834721, 'model__reg_lambda': 0.8742015919875018, 'model__min_child_weight': 2.9922996029914035}. Best is trial 86 with value: 0.5997965414802233.\n",
      "[I 2023-12-05 19:37:10,973] Trial 190 finished with value: 0.589174343354197 and parameters: {'model__n_estimators': 289, 'model__max_depth': 11, 'model__learning_rate': 0.6705158123826795, 'model__gamma': 6.0269008617449416, 'model__reg_lambda': 0.5983583711342417, 'model__min_child_weight': 2.556317137801181}. Best is trial 86 with value: 0.5997965414802233.\n",
      "[I 2023-12-05 19:37:12,252] Trial 191 finished with value: 0.5867749962578648 and parameters: {'model__n_estimators': 302, 'model__max_depth': 9, 'model__learning_rate': 0.7608398437165188, 'model__gamma': 5.64717967176401, 'model__reg_lambda': 0.8043197560833125, 'model__min_child_weight': 0.918230802857658}. Best is trial 86 with value: 0.5997965414802233.\n",
      "[I 2023-12-05 19:37:13,547] Trial 192 finished with value: 0.5892804250625756 and parameters: {'model__n_estimators': 308, 'model__max_depth': 9, 'model__learning_rate': 0.873881378907055, 'model__gamma': 5.31188177935751, 'model__reg_lambda': 0.7862795003274324, 'model__min_child_weight': 1.08004358423157}. Best is trial 86 with value: 0.5997965414802233.\n",
      "[I 2023-12-05 19:37:14,736] Trial 193 finished with value: 0.5906238455905866 and parameters: {'model__n_estimators': 244, 'model__max_depth': 10, 'model__learning_rate': 0.8103640994700028, 'model__gamma': 6.47677708051783, 'model__reg_lambda': 0.8316667165825706, 'model__min_child_weight': 0.7132128813175045}. Best is trial 86 with value: 0.5997965414802233.\n",
      "[I 2023-12-05 19:37:16,051] Trial 194 finished with value: 0.5877368024827543 and parameters: {'model__n_estimators': 328, 'model__max_depth': 8, 'model__learning_rate': 0.915478612739433, 'model__gamma': 5.99639058373757, 'model__reg_lambda': 0.8380844242870787, 'model__min_child_weight': 0.9772206208491089}. Best is trial 86 with value: 0.5997965414802233.\n",
      "[I 2023-12-05 19:37:17,332] Trial 195 finished with value: 0.5909209981122066 and parameters: {'model__n_estimators': 294, 'model__max_depth': 9, 'model__learning_rate': 0.951081353672525, 'model__gamma': 4.814853215776929, 'model__reg_lambda': 0.770669295277939, 'model__min_child_weight': 0.8689173754641362}. Best is trial 86 with value: 0.5997965414802233.\n",
      "[I 2023-12-05 19:37:18,572] Trial 196 finished with value: 0.6008859266669034 and parameters: {'model__n_estimators': 267, 'model__max_depth': 10, 'model__learning_rate': 0.8464451387426583, 'model__gamma': 5.658289096412993, 'model__reg_lambda': 0.7391002631726475, 'model__min_child_weight': 1.2873014097593116}. Best is trial 196 with value: 0.6008859266669034.\n",
      "[I 2023-12-05 19:37:19,818] Trial 197 finished with value: 0.5878017689506232 and parameters: {'model__n_estimators': 274, 'model__max_depth': 10, 'model__learning_rate': 0.837558907602273, 'model__gamma': 6.73477067964098, 'model__reg_lambda': 0.6808583794727058, 'model__min_child_weight': 1.4035055700568007}. Best is trial 196 with value: 0.6008859266669034.\n",
      "[I 2023-12-05 19:37:21,027] Trial 198 finished with value: 0.5895424394838333 and parameters: {'model__n_estimators': 259, 'model__max_depth': 10, 'model__learning_rate': 0.7465758365565762, 'model__gamma': 5.777630774867925, 'model__reg_lambda': 0.7250623486590078, 'model__min_child_weight': 1.310700872598002}. Best is trial 196 with value: 0.6008859266669034.\n",
      "[I 2023-12-05 19:37:22,302] Trial 199 finished with value: 0.5936164122948422 and parameters: {'model__n_estimators': 267, 'model__max_depth': 10, 'model__learning_rate': 1.0549489475093565, 'model__gamma': 6.147792712136883, 'model__reg_lambda': 0.7435132390740007, 'model__min_child_weight': 1.198709034619752}. Best is trial 196 with value: 0.6008859266669034.\n",
      "[I 2023-12-05 19:37:23,890] Trial 200 finished with value: 0.5823974357089989 and parameters: {'model__n_estimators': 284, 'model__max_depth': 10, 'model__learning_rate': 1.059245235968581, 'model__gamma': 6.29254282828195, 'model__reg_lambda': 0.698530303003156, 'model__min_child_weight': 1.1713488803907994}. Best is trial 196 with value: 0.6008859266669034.\n",
      "[I 2023-12-05 19:37:25,125] Trial 201 finished with value: 0.5853517615372495 and parameters: {'model__n_estimators': 269, 'model__max_depth': 10, 'model__learning_rate': 1.0272495230408343, 'model__gamma': 5.555159818422601, 'model__reg_lambda': 0.7351616612705725, 'model__min_child_weight': 1.5085084795421155}. Best is trial 196 with value: 0.6008859266669034.\n",
      "[I 2023-12-05 19:37:26,786] Trial 202 finished with value: 0.5837073952937998 and parameters: {'model__n_estimators': 253, 'model__max_depth': 10, 'model__learning_rate': 1.0923501483971183, 'model__gamma': 5.996090365113291, 'model__reg_lambda': 0.7511599293945097, 'model__min_child_weight': 1.2013169298694295}. Best is trial 196 with value: 0.6008859266669034.\n",
      "[I 2023-12-05 19:37:27,923] Trial 203 finished with value: 0.5839952321518844 and parameters: {'model__n_estimators': 198, 'model__max_depth': 11, 'model__learning_rate': 1.1298510091141012, 'model__gamma': 5.140760262823674, 'model__reg_lambda': 0.7618620915452212, 'model__min_child_weight': 1.3440402308976287}. Best is trial 196 with value: 0.6008859266669034.\n",
      "[I 2023-12-05 19:37:29,159] Trial 204 finished with value: 0.5856219627755079 and parameters: {'model__n_estimators': 262, 'model__max_depth': 10, 'model__learning_rate': 0.792312946131609, 'model__gamma': 6.9936622860741835, 'model__reg_lambda': 0.8773299884583838, 'model__min_child_weight': 1.0262946292669515}. Best is trial 196 with value: 0.6008859266669034.\n",
      "[I 2023-12-05 19:37:30,448] Trial 205 finished with value: 0.5789911854922979 and parameters: {'model__n_estimators': 278, 'model__max_depth': 10, 'model__learning_rate': 1.0543314640762773, 'model__gamma': 4.52781032391988, 'model__reg_lambda': 0.8521076134840986, 'model__min_child_weight': 1.7015740673196806}. Best is trial 196 with value: 0.6008859266669034.\n",
      "[I 2023-12-05 19:37:31,688] Trial 206 finished with value: 0.5854506587434691 and parameters: {'model__n_estimators': 268, 'model__max_depth': 5, 'model__learning_rate': 0.9905582961940134, 'model__gamma': 6.19553299037292, 'model__reg_lambda': 0.9098325530906843, 'model__min_child_weight': 1.26372924812913}. Best is trial 196 with value: 0.6008859266669034.\n",
      "[I 2023-12-05 19:37:32,872] Trial 207 finished with value: 0.5927903238585062 and parameters: {'model__n_estimators': 236, 'model__max_depth': 9, 'model__learning_rate': 0.7114389286873248, 'model__gamma': 5.670790727577263, 'model__reg_lambda': 0.7879365784101339, 'model__min_child_weight': 1.1152966231323367}. Best is trial 196 with value: 0.6008859266669034.\n",
      "[I 2023-12-05 19:37:34,153] Trial 208 finished with value: 0.5796799948999694 and parameters: {'model__n_estimators': 286, 'model__max_depth': 11, 'model__learning_rate': 0.8577423247959265, 'model__gamma': 5.12636003223738, 'model__reg_lambda': 0.5198160062401413, 'model__min_child_weight': 0.9465978209815179}. Best is trial 196 with value: 0.6008859266669034.\n",
      "[I 2023-12-05 19:37:35,340] Trial 209 finished with value: 0.593591939863351 and parameters: {'model__n_estimators': 248, 'model__max_depth': 10, 'model__learning_rate': 0.7779854241932976, 'model__gamma': 6.478658350820314, 'model__reg_lambda': 0.8183405191197899, 'model__min_child_weight': 1.4616675540634834}. Best is trial 196 with value: 0.6008859266669034.\n",
      "[I 2023-12-05 19:37:36,532] Trial 210 finished with value: 0.5908053385052117 and parameters: {'model__n_estimators': 245, 'model__max_depth': 14, 'model__learning_rate': 0.7673383036525149, 'model__gamma': 6.638788874836883, 'model__reg_lambda': 0.822739258195717, 'model__min_child_weight': 1.4473646366194206}. Best is trial 196 with value: 0.6008859266669034.\n",
      "[I 2023-12-05 19:37:37,730] Trial 211 finished with value: 0.5927013971903866 and parameters: {'model__n_estimators': 255, 'model__max_depth': 10, 'model__learning_rate': 0.8273824503521334, 'model__gamma': 5.948124176871368, 'model__reg_lambda': 0.861142902489862, 'model__min_child_weight': 1.5924484777675505}. Best is trial 196 with value: 0.6008859266669034.\n",
      "[I 2023-12-05 19:37:38,884] Trial 212 finished with value: 0.5950538713113083 and parameters: {'model__n_estimators': 209, 'model__max_depth': 10, 'model__learning_rate': 0.7322434833891731, 'model__gamma': 5.4123155605527105, 'model__reg_lambda': 0.8898587073209614, 'model__min_child_weight': 1.4609707247802923}. Best is trial 196 with value: 0.6008859266669034.\n",
      "[I 2023-12-05 19:37:39,865] Trial 213 finished with value: 0.5933512013364327 and parameters: {'model__n_estimators': 106, 'model__max_depth': 10, 'model__learning_rate': 0.7418982089514766, 'model__gamma': 6.489352451134351, 'model__reg_lambda': 0.8961358335151017, 'model__min_child_weight': 1.480619987334458}. Best is trial 196 with value: 0.6008859266669034.\n",
      "[I 2023-12-05 19:37:40,845] Trial 214 finished with value: 0.588390115253813 and parameters: {'model__n_estimators': 115, 'model__max_depth': 10, 'model__learning_rate': 0.7471162053538584, 'model__gamma': 6.468586414231827, 'model__reg_lambda': 0.8968671964188657, 'model__min_child_weight': 1.5400237304719906}. Best is trial 196 with value: 0.6008859266669034.\n",
      "[I 2023-12-05 19:37:42,023] Trial 215 finished with value: 0.5885114662508174 and parameters: {'model__n_estimators': 209, 'model__max_depth': 10, 'model__learning_rate': 0.7309778279379784, 'model__gamma': 6.925606676672887, 'model__reg_lambda': 0.47137606592731524, 'model__min_child_weight': 1.4201635779617054}. Best is trial 196 with value: 0.6008859266669034.\n",
      "[I 2023-12-05 19:37:43,113] Trial 216 finished with value: 0.5831975630391211 and parameters: {'model__n_estimators': 189, 'model__max_depth': 9, 'model__learning_rate': 0.7721906245667304, 'model__gamma': 7.653668904431726, 'model__reg_lambda': 0.9236866078073638, 'model__min_child_weight': 1.670774374181151}. Best is trial 196 with value: 0.6008859266669034.\n",
      "[I 2023-12-05 19:37:44,332] Trial 217 finished with value: 0.5901333170183094 and parameters: {'model__n_estimators': 265, 'model__max_depth': 10, 'model__learning_rate': 0.7241627059625487, 'model__gamma': 6.184856254660429, 'model__reg_lambda': 0.7231959895737017, 'model__min_child_weight': 1.3056758207861776}. Best is trial 196 with value: 0.6008859266669034.\n",
      "[I 2023-12-05 19:37:45,258] Trial 218 finished with value: 0.5880038248133792 and parameters: {'model__n_estimators': 58, 'model__max_depth': 9, 'model__learning_rate': 0.6872848722339039, 'model__gamma': 6.598195473145015, 'model__reg_lambda': 0.8162814993398637, 'model__min_child_weight': 1.7366129483306114}. Best is trial 196 with value: 0.6008859266669034.\n",
      "[I 2023-12-05 19:37:46,230] Trial 219 finished with value: 0.5914374621792813 and parameters: {'model__n_estimators': 101, 'model__max_depth': 10, 'model__learning_rate': 0.6997145398158824, 'model__gamma': 5.805791786876788, 'model__reg_lambda': 0.8442284315619825, 'model__min_child_weight': 1.5203080605841313}. Best is trial 196 with value: 0.6008859266669034.\n",
      "[I 2023-12-05 19:37:47,264] Trial 220 finished with value: 0.5857776986755807 and parameters: {'model__n_estimators': 147, 'model__max_depth': 10, 'model__learning_rate': 0.7842019096134426, 'model__gamma': 7.267048159615553, 'model__reg_lambda': 0.8905487436156556, 'model__min_child_weight': 1.1222212697101057}. Best is trial 196 with value: 0.6008859266669034.\n",
      "[I 2023-12-05 19:37:48,212] Trial 221 finished with value: 0.5897305028078283 and parameters: {'model__n_estimators': 74, 'model__max_depth': 10, 'model__learning_rate': 0.7484802476497784, 'model__gamma': 5.317857630971912, 'model__reg_lambda': 0.8786218723620383, 'model__min_child_weight': 1.9068609410518822}. Best is trial 196 with value: 0.6008859266669034.\n",
      "[I 2023-12-05 19:37:49,445] Trial 222 finished with value: 0.5879034730926737 and parameters: {'model__n_estimators': 270, 'model__max_depth': 15, 'model__learning_rate': 0.8025409913831112, 'model__gamma': 5.519659667900645, 'model__reg_lambda': 0.855720445888174, 'model__min_child_weight': 0.7677642880648148}. Best is trial 196 with value: 0.6008859266669034.\n",
      "[I 2023-12-05 19:37:50,711] Trial 223 finished with value: 0.5856107354606339 and parameters: {'model__n_estimators': 280, 'model__max_depth': 11, 'model__learning_rate': 1.0128887057076787, 'model__gamma': 4.874339273750595, 'model__reg_lambda': 0.5615109044028863, 'model__min_child_weight': 0.8260916476606346}. Best is trial 196 with value: 0.6008859266669034.\n",
      "[I 2023-12-05 19:37:52,086] Trial 224 finished with value: 0.5525469965651844 and parameters: {'model__n_estimators': 299, 'model__max_depth': 10, 'model__learning_rate': 0.6415032125008522, 'model__gamma': 1.5251178138293113, 'model__reg_lambda': 0.8951192959539039, 'model__min_child_weight': 1.2532936026115764}. Best is trial 196 with value: 0.6008859266669034.\n",
      "[I 2023-12-05 19:37:53,285] Trial 225 finished with value: 0.5835705048626957 and parameters: {'model__n_estimators': 252, 'model__max_depth': 9, 'model__learning_rate': 0.7633439845851683, 'model__gamma': 6.116354316086101, 'model__reg_lambda': 0.9184287770123639, 'model__min_child_weight': 4.442019573055305}. Best is trial 196 with value: 0.6008859266669034.\n",
      "[I 2023-12-05 19:37:54,415] Trial 226 finished with value: 0.5882272265375473 and parameters: {'model__n_estimators': 201, 'model__max_depth': 11, 'model__learning_rate': 0.8124153129100373, 'model__gamma': 5.316711571570275, 'model__reg_lambda': 0.8398549220151518, 'model__min_child_weight': 1.00518668758144}. Best is trial 196 with value: 0.6008859266669034.\n",
      "[I 2023-12-05 19:37:55,649] Trial 227 finished with value: 0.5889928788878198 and parameters: {'model__n_estimators': 242, 'model__max_depth': 10, 'model__learning_rate': 0.7161009103833242, 'model__gamma': 5.835146353898413, 'model__reg_lambda': 0.8690464772830986, 'model__min_child_weight': 0.5941775037044299}. Best is trial 196 with value: 0.6008859266669034.\n",
      "[I 2023-12-05 19:37:56,930] Trial 228 finished with value: 0.5924888897233618 and parameters: {'model__n_estimators': 293, 'model__max_depth': 10, 'model__learning_rate': 1.0535436111957392, 'model__gamma': 6.186501618395148, 'model__reg_lambda': 0.995104103527711, 'model__min_child_weight': 1.4512580115742248}. Best is trial 196 with value: 0.6008859266669034.\n",
      "[I 2023-12-05 19:37:58,259] Trial 229 finished with value: 0.5858858072334681 and parameters: {'model__n_estimators': 319, 'model__max_depth': 13, 'model__learning_rate': 0.6678600539361578, 'model__gamma': 4.936580353765544, 'model__reg_lambda': 0.7883698818962418, 'model__min_child_weight': 0.9472140875453173}. Best is trial 196 with value: 0.6008859266669034.\n",
      "[I 2023-12-05 19:37:59,488] Trial 230 finished with value: 0.5854940523030684 and parameters: {'model__n_estimators': 275, 'model__max_depth': 9, 'model__learning_rate': 0.7752364887454045, 'model__gamma': 6.518301256109522, 'model__reg_lambda': 0.8105716065826131, 'model__min_child_weight': 2.9502952198919066}. Best is trial 196 with value: 0.6008859266669034.\n",
      "[I 2023-12-05 19:38:00,671] Trial 231 finished with value: 0.5960452804999153 and parameters: {'model__n_estimators': 222, 'model__max_depth': 16, 'model__learning_rate': 0.8505809885438818, 'model__gamma': 5.589286293908383, 'model__reg_lambda': 0.8725741692235955, 'model__min_child_weight': 1.6043893383246033}. Best is trial 196 with value: 0.6008859266669034.\n",
      "[I 2023-12-05 19:38:01,841] Trial 232 finished with value: 0.5915485084296784 and parameters: {'model__n_estimators': 221, 'model__max_depth': 15, 'model__learning_rate': 0.8569801927213273, 'model__gamma': 5.635967337811312, 'model__reg_lambda': 0.8810006764200055, 'model__min_child_weight': 1.292234454898111}. Best is trial 196 with value: 0.6008859266669034.\n",
      "[I 2023-12-05 19:38:03,036] Trial 233 finished with value: 0.5848037407742479 and parameters: {'model__n_estimators': 212, 'model__max_depth': 16, 'model__learning_rate': 0.2769156520608575, 'model__gamma': 5.331404550093064, 'model__reg_lambda': 0.3725324845642349, 'model__min_child_weight': 1.6085918322321278}. Best is trial 196 with value: 0.6008859266669034.\n",
      "[I 2023-12-05 19:38:04,503] Trial 234 finished with value: 0.5963785156387137 and parameters: {'model__n_estimators': 409, 'model__max_depth': 10, 'model__learning_rate': 0.8955627287430756, 'model__gamma': 5.8688720420225735, 'model__reg_lambda': 0.8512008504433307, 'model__min_child_weight': 1.5616409396093462}. Best is trial 196 with value: 0.6008859266669034.\n",
      "[I 2023-12-05 19:38:05,956] Trial 235 finished with value: 0.5871351421191546 and parameters: {'model__n_estimators': 419, 'model__max_depth': 10, 'model__learning_rate': 0.898312836618469, 'model__gamma': 5.928163003340845, 'model__reg_lambda': 0.848633938051793, 'model__min_child_weight': 1.5457706063729637}. Best is trial 196 with value: 0.6008859266669034.\n",
      "[I 2023-12-05 19:38:07,445] Trial 236 finished with value: 0.5928023294873418 and parameters: {'model__n_estimators': 397, 'model__max_depth': 16, 'model__learning_rate': 0.8235146325748005, 'model__gamma': 6.298531979016612, 'model__reg_lambda': 0.8299717105153495, 'model__min_child_weight': 1.5170287761339987}. Best is trial 196 with value: 0.6008859266669034.\n",
      "[I 2023-12-05 19:38:08,983] Trial 237 finished with value: 0.5926979035867745 and parameters: {'model__n_estimators': 439, 'model__max_depth': 10, 'model__learning_rate': 0.8741569631696442, 'model__gamma': 5.796670642448836, 'model__reg_lambda': 0.859441977880625, 'model__min_child_weight': 1.4037269970124238}. Best is trial 196 with value: 0.6008859266669034.\n",
      "[I 2023-12-05 19:38:10,549] Trial 238 finished with value: 0.5848901888984145 and parameters: {'model__n_estimators': 467, 'model__max_depth': 16, 'model__learning_rate': 0.9256396162684036, 'model__gamma': 6.743701939863763, 'model__reg_lambda': 0.7671973660543291, 'model__min_child_weight': 1.6657559898101106}. Best is trial 196 with value: 0.6008859266669034.\n",
      "[I 2023-12-05 19:38:12,020] Trial 239 finished with value: 0.5930659622391167 and parameters: {'model__n_estimators': 411, 'model__max_depth': 10, 'model__learning_rate': 0.803567059008496, 'model__gamma': 5.610428855888284, 'model__reg_lambda': 0.8998089543907204, 'model__min_child_weight': 1.3695513074344918}. Best is trial 196 with value: 0.6008859266669034.\n",
      "[I 2023-12-05 19:38:13,198] Trial 240 finished with value: 0.5790152503176001 and parameters: {'model__n_estimators': 234, 'model__max_depth': 9, 'model__learning_rate': 1.109918147913551, 'model__gamma': 6.278024026446486, 'model__reg_lambda': 0.19271945751114916, 'model__min_child_weight': 1.201561020859816}. Best is trial 196 with value: 0.6008859266669034.\n",
      "[I 2023-12-05 19:38:14,633] Trial 241 finished with value: 0.5897454135710587 and parameters: {'model__n_estimators': 399, 'model__max_depth': 10, 'model__learning_rate': 0.8104520046315242, 'model__gamma': 5.647452443735005, 'model__reg_lambda': 0.894351877180904, 'model__min_child_weight': 1.3575063370261466}. Best is trial 196 with value: 0.6008859266669034.\n",
      "[I 2023-12-05 19:38:16,089] Trial 242 finished with value: 0.5891644526167119 and parameters: {'model__n_estimators': 412, 'model__max_depth': 10, 'model__learning_rate': 0.8512007326857794, 'model__gamma': 5.44875645888656, 'model__reg_lambda': 0.9093211180087211, 'model__min_child_weight': 1.7898229599887707}. Best is trial 196 with value: 0.6008859266669034.\n",
      "[I 2023-12-05 19:38:17,226] Trial 243 finished with value: 0.5903110630725455 and parameters: {'model__n_estimators': 196, 'model__max_depth': 10, 'model__learning_rate': 0.741157359494404, 'model__gamma': 5.956286975233985, 'model__reg_lambda': 0.9365318237083273, 'model__min_child_weight': 1.4328422671969292}. Best is trial 196 with value: 0.6008859266669034.\n",
      "[I 2023-12-05 19:38:18,722] Trial 244 finished with value: 0.5844951370097515 and parameters: {'model__n_estimators': 413, 'model__max_depth': 10, 'model__learning_rate': 0.7924838183518824, 'model__gamma': 4.893779662995101, 'model__reg_lambda': 0.6978663649820036, 'model__min_child_weight': 1.342688378444597}. Best is trial 196 with value: 0.6008859266669034.\n",
      "[I 2023-12-05 19:38:20,193] Trial 245 finished with value: 0.5885258104115947 and parameters: {'model__n_estimators': 406, 'model__max_depth': 10, 'model__learning_rate': 0.7626981870395269, 'model__gamma': 5.204087536382454, 'model__reg_lambda': 0.874083559513122, 'model__min_child_weight': 1.620735236900591}. Best is trial 196 with value: 0.6008859266669034.\n",
      "[I 2023-12-05 19:38:21,685] Trial 246 finished with value: 0.5848208517792606 and parameters: {'model__n_estimators': 433, 'model__max_depth': 9, 'model__learning_rate': 0.8343538497375924, 'model__gamma': 5.7024481556948645, 'model__reg_lambda': 0.8514068600158932, 'model__min_child_weight': 2.710659776209733}. Best is trial 196 with value: 0.6008859266669034.\n",
      "[I 2023-12-05 19:38:23,180] Trial 247 finished with value: 0.5934918770561493 and parameters: {'model__n_estimators': 428, 'model__max_depth': 10, 'model__learning_rate': 0.8928013525144928, 'model__gamma': 6.295782961075235, 'model__reg_lambda': 0.8242697627617344, 'model__min_child_weight': 1.5201929563040208}. Best is trial 196 with value: 0.6008859266669034.\n",
      "[I 2023-12-05 19:38:24,658] Trial 248 finished with value: 0.5813170176904591 and parameters: {'model__n_estimators': 427, 'model__max_depth': 9, 'model__learning_rate': 0.8792778396594866, 'model__gamma': 6.979976421362833, 'model__reg_lambda': 0.8224940070599771, 'model__min_child_weight': 2.299740810330076}. Best is trial 196 with value: 0.6008859266669034.\n",
      "[I 2023-12-05 19:38:25,782] Trial 249 finished with value: 0.5863770215424814 and parameters: {'model__n_estimators': 206, 'model__max_depth': 10, 'model__learning_rate': 0.9172257427048052, 'model__gamma': 6.468674628134528, 'model__reg_lambda': 0.8085101175474225, 'model__min_child_weight': 1.559153235945521}. Best is trial 196 with value: 0.6008859266669034.\n",
      "[I 2023-12-05 19:38:27,016] Trial 250 finished with value: 0.5898205738435701 and parameters: {'model__n_estimators': 262, 'model__max_depth': 16, 'model__learning_rate': 0.8687526831170673, 'model__gamma': 6.1100009220861, 'model__reg_lambda': 0.7371760888134234, 'model__min_child_weight': 3.1654554666138717}. Best is trial 196 with value: 0.6008859266669034.\n",
      "[I 2023-12-05 19:38:28,156] Trial 251 finished with value: 0.5937507934054895 and parameters: {'model__n_estimators': 218, 'model__max_depth': 9, 'model__learning_rate': 0.7039795814471238, 'model__gamma': 6.545851149486769, 'model__reg_lambda': 0.8284378425894467, 'model__min_child_weight': 1.4885181150032147}. Best is trial 196 with value: 0.6008859266669034.\n",
      "[I 2023-12-05 19:38:29,391] Trial 252 finished with value: 0.5927671455266239 and parameters: {'model__n_estimators': 218, 'model__max_depth': 9, 'model__learning_rate': 0.6986974425243815, 'model__gamma': 6.995619160000728, 'model__reg_lambda': 0.7984914725446863, 'model__min_child_weight': 1.0724007479268265}. Best is trial 196 with value: 0.6008859266669034.\n",
      "[I 2023-12-05 19:38:30,621] Trial 253 finished with value: 0.5696591231476346 and parameters: {'model__n_estimators': 209, 'model__max_depth': 9, 'model__learning_rate': 0.9024372448805269, 'model__gamma': 19.284528119572666, 'model__reg_lambda': 0.8320718832710612, 'model__min_child_weight': 0.8465714748154574}. Best is trial 196 with value: 0.6008859266669034.\n",
      "[I 2023-12-05 19:38:31,809] Trial 254 finished with value: 0.5949190062478499 and parameters: {'model__n_estimators': 231, 'model__max_depth': 9, 'model__learning_rate': 0.7197738521301983, 'model__gamma': 6.5574215157461175, 'model__reg_lambda': 0.8325212896090626, 'model__min_child_weight': 1.7323653289184138}. Best is trial 196 with value: 0.6008859266669034.\n",
      "[I 2023-12-05 19:38:32,994] Trial 255 finished with value: 0.5900518545394782 and parameters: {'model__n_estimators': 228, 'model__max_depth': 8, 'model__learning_rate': 1.1832824304444314, 'model__gamma': 7.273166468126901, 'model__reg_lambda': 0.7805370329903543, 'model__min_child_weight': 1.7939060580333335}. Best is trial 196 with value: 0.6008859266669034.\n",
      "[I 2023-12-05 19:38:34,153] Trial 256 finished with value: 0.5844279074048102 and parameters: {'model__n_estimators': 218, 'model__max_depth': 15, 'model__learning_rate': 0.9557829987507775, 'model__gamma': 7.909834711871879, 'model__reg_lambda': 0.8223310922632756, 'model__min_child_weight': 1.6057322525753217}. Best is trial 196 with value: 0.6008859266669034.\n",
      "[I 2023-12-05 19:38:35,342] Trial 257 finished with value: 0.5819827231995358 and parameters: {'model__n_estimators': 228, 'model__max_depth': 9, 'model__learning_rate': 1.1471781272527832, 'model__gamma': 4.493211375390885, 'model__reg_lambda': 0.837116241126407, 'model__min_child_weight': 1.7010104039660037}. Best is trial 196 with value: 0.6008859266669034.\n",
      "[I 2023-12-05 19:38:36,574] Trial 258 finished with value: 0.5706359312623 and parameters: {'model__n_estimators': 248, 'model__max_depth': 9, 'model__learning_rate': 0.7084110069903163, 'model__gamma': 3.343724786314184, 'model__reg_lambda': 0.7536408827728661, 'model__min_child_weight': 1.150464420490611}. Best is trial 196 with value: 0.6008859266669034.\n",
      "[I 2023-12-05 19:38:38,075] Trial 259 finished with value: 0.5804984559003243 and parameters: {'model__n_estimators': 449, 'model__max_depth': 9, 'model__learning_rate': 0.6663215951695344, 'model__gamma': 6.683093545563332, 'model__reg_lambda': 0.7968664598420193, 'model__min_child_weight': 1.90677737470032}. Best is trial 196 with value: 0.6008859266669034.\n",
      "[I 2023-12-05 19:38:39,166] Trial 260 finished with value: 0.5852069808037477 and parameters: {'model__n_estimators': 183, 'model__max_depth': 9, 'model__learning_rate': 1.0120617083253292, 'model__gamma': 6.142911515074824, 'model__reg_lambda': 0.8502293981539111, 'model__min_child_weight': 0.9088251655293208}. Best is trial 196 with value: 0.6008859266669034.\n",
      "[I 2023-12-05 19:38:40,297] Trial 261 finished with value: 0.5798685017563499 and parameters: {'model__n_estimators': 198, 'model__max_depth': 8, 'model__learning_rate': 1.074061165643589, 'model__gamma': 5.307424256046782, 'model__reg_lambda': 0.631779464754273, 'model__min_child_weight': 0.6964250059143784}. Best is trial 196 with value: 0.6008859266669034.\n",
      "[I 2023-12-05 19:38:41,465] Trial 262 finished with value: 0.589717088658442 and parameters: {'model__n_estimators': 239, 'model__max_depth': 9, 'model__learning_rate': 0.8487174953318974, 'model__gamma': 7.527532101880126, 'model__reg_lambda': 0.8377426790948586, 'model__min_child_weight': 1.0286329835486994}. Best is trial 196 with value: 0.6008859266669034.\n",
      "[I 2023-12-05 19:38:42,581] Trial 263 finished with value: 0.5953106727647158 and parameters: {'model__n_estimators': 187, 'model__max_depth': 10, 'model__learning_rate': 0.8924453345188944, 'model__gamma': 5.943633826670538, 'model__reg_lambda': 0.8123087692824374, 'model__min_child_weight': 1.508745322964289}. Best is trial 196 with value: 0.6008859266669034.\n",
      "[I 2023-12-05 19:38:43,678] Trial 264 finished with value: 0.5959814565930631 and parameters: {'model__n_estimators': 188, 'model__max_depth': 10, 'model__learning_rate': 0.8880721680367868, 'model__gamma': 6.398031063004278, 'model__reg_lambda': 0.8100893421269014, 'model__min_child_weight': 1.5415089053077473}. Best is trial 196 with value: 0.6008859266669034.\n",
      "[I 2023-12-05 19:38:44,770] Trial 265 finished with value: 0.5892901000447224 and parameters: {'model__n_estimators': 179, 'model__max_depth': 10, 'model__learning_rate': 0.8314564478699666, 'model__gamma': 6.731021843381446, 'model__reg_lambda': 0.7979847370128436, 'model__min_child_weight': 1.671919851204981}. Best is trial 196 with value: 0.6008859266669034.\n",
      "[I 2023-12-05 19:38:45,863] Trial 266 finished with value: 0.5699048845815455 and parameters: {'model__n_estimators': 190, 'model__max_depth': 6, 'model__learning_rate': 0.9276874703907311, 'model__gamma': 5.775209870739969, 'model__reg_lambda': 0.7849095222108208, 'model__min_child_weight': 1.2499289307564925}. Best is trial 196 with value: 0.6008859266669034.\n",
      "[I 2023-12-05 19:38:46,979] Trial 267 finished with value: 0.5950773490490373 and parameters: {'model__n_estimators': 191, 'model__max_depth': 10, 'model__learning_rate': 0.8825914970644914, 'model__gamma': 5.914382590578825, 'model__reg_lambda': 0.8144913651227649, 'model__min_child_weight': 1.613127948444395}. Best is trial 196 with value: 0.6008859266669034.\n",
      "[I 2023-12-05 19:38:48,068] Trial 268 finished with value: 0.5801849352674749 and parameters: {'model__n_estimators': 168, 'model__max_depth': 7, 'model__learning_rate': 0.8552765363125687, 'model__gamma': 6.096994072457239, 'model__reg_lambda': 0.8094584080387183, 'model__min_child_weight': 1.7440445697060365}. Best is trial 196 with value: 0.6008859266669034.\n",
      "[I 2023-12-05 19:38:49,175] Trial 269 finished with value: 0.5794392939974811 and parameters: {'model__n_estimators': 196, 'model__max_depth': 10, 'model__learning_rate': 0.8932946104449878, 'model__gamma': 8.416564227311651, 'model__reg_lambda': 0.7802138316092279, 'model__min_child_weight': 1.5621413377242042}. Best is trial 196 with value: 0.6008859266669034.\n",
      "[I 2023-12-05 19:38:50,277] Trial 270 finished with value: 0.5840352025698665 and parameters: {'model__n_estimators': 176, 'model__max_depth': 10, 'model__learning_rate': 0.6192429450598927, 'model__gamma': 6.532261451844857, 'model__reg_lambda': 0.7664720056545044, 'model__min_child_weight': 1.4475197572162553}. Best is trial 196 with value: 0.6008859266669034.\n",
      "[I 2023-12-05 19:38:51,372] Trial 271 finished with value: 0.5926992160835896 and parameters: {'model__n_estimators': 186, 'model__max_depth': 10, 'model__learning_rate': 1.231395340720835, 'model__gamma': 6.98328775526879, 'model__reg_lambda': 0.811000309995052, 'model__min_child_weight': 1.5907166237918973}. Best is trial 196 with value: 0.6008859266669034.\n",
      "[I 2023-12-05 19:38:52,441] Trial 272 finished with value: 0.5941486060665971 and parameters: {'model__n_estimators': 159, 'model__max_depth': 10, 'model__learning_rate': 0.8813896304310652, 'model__gamma': 5.8658473290125075, 'model__reg_lambda': 0.844860617951915, 'model__min_child_weight': 1.66169969442975}. Best is trial 196 with value: 0.6008859266669034.\n",
      "[I 2023-12-05 19:38:53,498] Trial 273 finished with value: 0.5866914977947499 and parameters: {'model__n_estimators': 156, 'model__max_depth': 10, 'model__learning_rate': 0.8852090972406287, 'model__gamma': 5.923539546176662, 'model__reg_lambda': 0.8225357005466771, 'model__min_child_weight': 1.667199545273}. Best is trial 196 with value: 0.6008859266669034.\n",
      "[I 2023-12-05 19:38:54,642] Trial 274 finished with value: 0.5932388478043318 and parameters: {'model__n_estimators': 212, 'model__max_depth': 11, 'model__learning_rate': 0.9375284792120057, 'model__gamma': 5.407474183432874, 'model__reg_lambda': 0.8394830659676062, 'model__min_child_weight': 1.8569765399775215}. Best is trial 196 with value: 0.6008859266669034.\n",
      "[I 2023-12-05 19:38:55,794] Trial 275 finished with value: 0.5837727273187152 and parameters: {'model__n_estimators': 204, 'model__max_depth': 10, 'model__learning_rate': 0.9033394074735054, 'model__gamma': 4.903466131125104, 'model__reg_lambda': 0.7523659316409396, 'model__min_child_weight': 1.7487020864795269}. Best is trial 196 with value: 0.6008859266669034.\n",
      "[I 2023-12-05 19:38:56,949] Trial 276 finished with value: 0.5863800631300322 and parameters: {'model__n_estimators': 225, 'model__max_depth': 10, 'model__learning_rate': 0.8657022056416125, 'model__gamma': 9.232818744961193, 'model__reg_lambda': 0.7108137433994783, 'model__min_child_weight': 1.526461203025735}. Best is trial 196 with value: 0.6008859266669034.\n",
      "[I 2023-12-05 19:38:58,039] Trial 277 finished with value: 0.5913553850132744 and parameters: {'model__n_estimators': 180, 'model__max_depth': 11, 'model__learning_rate': 0.968698709158874, 'model__gamma': 5.783124988614519, 'model__reg_lambda': 0.8093747853406354, 'model__min_child_weight': 1.6354599959095555}. Best is trial 196 with value: 0.6008859266669034.\n",
      "[I 2023-12-05 19:38:59,310] Trial 278 finished with value: 0.5368454655931901 and parameters: {'model__n_estimators': 192, 'model__max_depth': 10, 'model__learning_rate': 0.9155798776077679, 'model__gamma': 0.5012026001745635, 'model__reg_lambda': 0.8565544665800345, 'model__min_child_weight': 1.4454441573032457}. Best is trial 196 with value: 0.6008859266669034.\n",
      "[I 2023-12-05 19:39:00,848] Trial 279 finished with value: 0.5829703956413581 and parameters: {'model__n_estimators': 216, 'model__max_depth': 9, 'model__learning_rate': 0.8316511158806962, 'model__gamma': 6.171239908954942, 'model__reg_lambda': 0.7889815083492677, 'model__min_child_weight': 1.8040685272993018}. Best is trial 196 with value: 0.6008859266669034.\n",
      "[I 2023-12-05 19:39:01,937] Trial 280 finished with value: 0.5814177192307868 and parameters: {'model__n_estimators': 164, 'model__max_depth': 10, 'model__learning_rate': 0.868051699167005, 'model__gamma': 5.435002091564738, 'model__reg_lambda': 0.5405527032310425, 'model__min_child_weight': 2.150746947727456}. Best is trial 196 with value: 0.6008859266669034.\n",
      "[I 2023-12-05 19:39:03,231] Trial 281 finished with value: 0.5786444314162933 and parameters: {'model__n_estimators': 204, 'model__max_depth': 10, 'model__learning_rate': 0.9454231884297823, 'model__gamma': 4.125359864311984, 'model__reg_lambda': 0.6570766951432498, 'model__min_child_weight': 2.7825144915811664}. Best is trial 196 with value: 0.6008859266669034.\n",
      "[I 2023-12-05 19:39:04,339] Trial 282 finished with value: 0.590977271401797 and parameters: {'model__n_estimators': 134, 'model__max_depth': 11, 'model__learning_rate': 0.8859154025990021, 'model__gamma': 5.067064084469746, 'model__reg_lambda': 0.8373889136358919, 'model__min_child_weight': 1.9334888632911964}. Best is trial 196 with value: 0.6008859266669034.\n",
      "[I 2023-12-05 19:39:05,518] Trial 283 finished with value: 0.5927162447068455 and parameters: {'model__n_estimators': 237, 'model__max_depth': 9, 'model__learning_rate': 0.8259477104143572, 'model__gamma': 5.942605229677445, 'model__reg_lambda': 0.8202300655487733, 'model__min_child_weight': 1.7171100052510988}. Best is trial 196 with value: 0.6008859266669034.\n",
      "[I 2023-12-05 19:39:06,718] Trial 284 finished with value: 0.5976036608145752 and parameters: {'model__n_estimators': 253, 'model__max_depth': 10, 'model__learning_rate': 0.8551211872809495, 'model__gamma': 6.591628368640416, 'model__reg_lambda': 0.7672938844323075, 'model__min_child_weight': 1.3786656452436963}. Best is trial 196 with value: 0.6008859266669034.\n",
      "[I 2023-12-05 19:39:07,813] Trial 285 finished with value: 0.5916029546077719 and parameters: {'model__n_estimators': 186, 'model__max_depth': 9, 'model__learning_rate': 0.853207127398605, 'model__gamma': 5.771467925841644, 'model__reg_lambda': 0.7334386287364137, 'model__min_child_weight': 1.3151408190247242}. Best is trial 196 with value: 0.6008859266669034.\n",
      "[I 2023-12-05 19:39:08,911] Trial 286 finished with value: 0.5895073398489276 and parameters: {'model__n_estimators': 177, 'model__max_depth': 10, 'model__learning_rate': 0.5593278724190025, 'model__gamma': 6.287736022326835, 'model__reg_lambda': 0.7643906876941632, 'model__min_child_weight': 2.4607859294303016}. Best is trial 196 with value: 0.6008859266669034.\n",
      "[I 2023-12-05 19:39:10,271] Trial 287 finished with value: 0.5831277556096983 and parameters: {'model__n_estimators': 348, 'model__max_depth': 10, 'model__learning_rate': 0.9057591450875874, 'model__gamma': 11.6980672956582, 'model__reg_lambda': 0.7472501782484896, 'model__min_child_weight': 1.6130464794877668}. Best is trial 196 with value: 0.6008859266669034.\n",
      "[I 2023-12-05 19:39:11,396] Trial 288 finished with value: 0.5889210988006388 and parameters: {'model__n_estimators': 207, 'model__max_depth': 9, 'model__learning_rate': 0.8730624527333749, 'model__gamma': 7.2541444171991465, 'model__reg_lambda': 0.7785495520940725, 'model__min_child_weight': 1.3448556314051934}. Best is trial 196 with value: 0.6008859266669034.\n",
      "[I 2023-12-05 19:39:12,516] Trial 289 finished with value: 0.5695670749207018 and parameters: {'model__n_estimators': 191, 'model__max_depth': 11, 'model__learning_rate': 1.486087936856765, 'model__gamma': 10.784064157953758, 'model__reg_lambda': 0.8610957563157053, 'model__min_child_weight': 2.681072885710178}. Best is trial 196 with value: 0.6008859266669034.\n",
      "[I 2023-12-05 19:39:13,683] Trial 290 finished with value: 0.5675571077976864 and parameters: {'model__n_estimators': 222, 'model__max_depth': 8, 'model__learning_rate': 1.343956515845918, 'model__gamma': 5.354459122370763, 'model__reg_lambda': 0.7953081299350484, 'model__min_child_weight': 1.5332279996178224}. Best is trial 196 with value: 0.6008859266669034.\n",
      "[I 2023-12-05 19:39:15,087] Trial 291 finished with value: 0.5755466973148659 and parameters: {'model__n_estimators': 378, 'model__max_depth': 10, 'model__learning_rate': 0.9262273096169963, 'model__gamma': 6.737813471661417, 'model__reg_lambda': 0.873144780549113, 'model__min_child_weight': 2.326005730658622}. Best is trial 196 with value: 0.6008859266669034.\n",
      "[I 2023-12-05 19:39:16,291] Trial 292 finished with value: 0.5841434557176236 and parameters: {'model__n_estimators': 253, 'model__max_depth': 10, 'model__learning_rate': 0.9818955370632667, 'model__gamma': 5.585880244705444, 'model__reg_lambda': 0.6791909821252964, 'model__min_child_weight': 2.583453212537424}. Best is trial 196 with value: 0.6008859266669034.\n",
      "[I 2023-12-05 19:39:17,413] Trial 293 finished with value: 0.5891786959077434 and parameters: {'model__n_estimators': 159, 'model__max_depth': 9, 'model__learning_rate': 0.8353541051927471, 'model__gamma': 2.5062748448508305, 'model__reg_lambda': 0.8450416428210445, 'model__min_child_weight': 0.9629831088205639}. Best is trial 196 with value: 0.6008859266669034.\n",
      "[I 2023-12-05 19:39:18,534] Trial 294 finished with value: 0.5868588048901149 and parameters: {'model__n_estimators': 198, 'model__max_depth': 9, 'model__learning_rate': 0.6483398020806181, 'model__gamma': 4.685671325149681, 'model__reg_lambda': 0.5975569558273574, 'model__min_child_weight': 0.7979813001373172}. Best is trial 196 with value: 0.6008859266669034.\n",
      "[I 2023-12-05 19:39:19,686] Trial 295 finished with value: 0.5845611814856134 and parameters: {'model__n_estimators': 212, 'model__max_depth': 10, 'model__learning_rate': 0.809913526414356, 'model__gamma': 6.047803405011456, 'model__reg_lambda': 0.7234005509818179, 'model__min_child_weight': 3.557005050817541}. Best is trial 196 with value: 0.6008859266669034.\n",
      "[I 2023-12-05 19:39:20,760] Trial 296 finished with value: 0.5793644299825192 and parameters: {'model__n_estimators': 172, 'model__max_depth': 10, 'model__learning_rate': 0.8921521370500898, 'model__gamma': 8.868750130589863, 'model__reg_lambda': 0.5701108517054012, 'model__min_child_weight': 1.9963593456220305}. Best is trial 196 with value: 0.6008859266669034.\n",
      "[I 2023-12-05 19:39:21,942] Trial 297 finished with value: 0.5863031274185149 and parameters: {'model__n_estimators': 230, 'model__max_depth': 10, 'model__learning_rate': 0.8550306586440138, 'model__gamma': 5.1691697023914775, 'model__reg_lambda': 0.7662145168553037, 'model__min_child_weight': 1.2151105336453312}. Best is trial 196 with value: 0.6008859266669034.\n",
      "[I 2023-12-05 19:39:23,229] Trial 298 finished with value: 0.5629545132552318 and parameters: {'model__n_estimators': 264, 'model__max_depth': 11, 'model__learning_rate': 0.9336289175390009, 'model__gamma': 2.027332208603485, 'model__reg_lambda': 0.8492477964033186, 'model__min_child_weight': 1.394422834890283}. Best is trial 196 with value: 0.6008859266669034.\n",
      "[I 2023-12-05 19:39:24,362] Trial 299 finished with value: 0.5906903220247923 and parameters: {'model__n_estimators': 197, 'model__max_depth': 10, 'model__learning_rate': 0.6922367998644892, 'model__gamma': 6.340974383263313, 'model__reg_lambda': 0.8070177952826867, 'model__min_child_weight': 1.0995670614766728}. Best is trial 196 with value: 0.6008859266669034.\n",
      "[I 2023-12-05 19:39:25,600] Trial 300 finished with value: 0.5830020242251754 and parameters: {'model__n_estimators': 254, 'model__max_depth': 9, 'model__learning_rate': 0.7227069315545582, 'model__gamma': 5.666465354424274, 'model__reg_lambda': 0.8308574518354276, 'model__min_child_weight': 0.661818047813886}. Best is trial 196 with value: 0.6008859266669034.\n",
      "[I 2023-12-05 19:39:26,819] Trial 301 finished with value: 0.5893470968724941 and parameters: {'model__n_estimators': 216, 'model__max_depth': 8, 'model__learning_rate': 0.8005789785170676, 'model__gamma': 6.8763947479599485, 'model__reg_lambda': 0.8739883194812771, 'model__min_child_weight': 1.7872272354626495}. Best is trial 196 with value: 0.6008859266669034.\n",
      "[I 2023-12-05 19:39:28,158] Trial 302 finished with value: 0.581791264947904 and parameters: {'model__n_estimators': 335, 'model__max_depth': 10, 'model__learning_rate': 1.0389718512408543, 'model__gamma': 9.661095244384775, 'model__reg_lambda': 0.6981241751605238, 'model__min_child_weight': 0.8891166503876272}. Best is trial 196 with value: 0.6008859266669034.\n",
      "[I 2023-12-05 19:39:29,258] Trial 303 finished with value: 0.5856571484050681 and parameters: {'model__n_estimators': 184, 'model__max_depth': 9, 'model__learning_rate': 0.874017793477334, 'model__gamma': 7.6435561020388985, 'model__reg_lambda': 0.9684771869147093, 'model__min_child_weight': 2.200062250423164}. Best is trial 196 with value: 0.6008859266669034.\n",
      "[I 2023-12-05 19:39:30,539] Trial 304 finished with value: 0.5720610674986814 and parameters: {'model__n_estimators': 269, 'model__max_depth': 14, 'model__learning_rate': 0.9633925992859925, 'model__gamma': 2.9039325515162684, 'model__reg_lambda': 0.8582934270063924, 'model__min_child_weight': 1.456137859977628}. Best is trial 196 with value: 0.6008859266669034.\n",
      "[I 2023-12-05 19:39:32,112] Trial 305 finished with value: 0.58975265838268 and parameters: {'model__n_estimators': 478, 'model__max_depth': 11, 'model__learning_rate': 1.0929250499859449, 'model__gamma': 6.05436365198256, 'model__reg_lambda': 0.793669462109456, 'model__min_child_weight': 1.021563838384946}. Best is trial 196 with value: 0.6008859266669034.\n",
      "[I 2023-12-05 19:39:33,311] Trial 306 finished with value: 0.5922063152475274 and parameters: {'model__n_estimators': 242, 'model__max_depth': 10, 'model__learning_rate': 0.8393380170095202, 'model__gamma': 5.02178248695894, 'model__reg_lambda': 0.8838294162301246, 'model__min_child_weight': 1.6453299459206279}. Best is trial 196 with value: 0.6008859266669034.\n",
      "[I 2023-12-05 19:39:34,452] Trial 307 finished with value: 0.590922350087584 and parameters: {'model__n_estimators': 204, 'model__max_depth': 10, 'model__learning_rate': 1.1187895763332476, 'model__gamma': 6.538875517259295, 'model__reg_lambda': 0.8275353404971669, 'model__min_child_weight': 1.3118096144217808}. Best is trial 196 with value: 0.6008859266669034.\n",
      "[I 2023-12-05 19:39:35,503] Trial 308 finished with value: 0.5876795300058487 and parameters: {'model__n_estimators': 147, 'model__max_depth': 7, 'model__learning_rate': 0.6851342867616221, 'model__gamma': 4.564855364544158, 'model__reg_lambda': 0.8493373324683668, 'model__min_child_weight': 0.8008605742867969}. Best is trial 196 with value: 0.6008859266669034.\n",
      "[I 2023-12-05 19:39:36,804] Trial 309 finished with value: 0.5847422512883733 and parameters: {'model__n_estimators': 313, 'model__max_depth': 9, 'model__learning_rate': 0.9952636011489508, 'model__gamma': 5.539843179523786, 'model__reg_lambda': 0.8074544754111135, 'model__min_child_weight': 2.425879214106124}. Best is trial 196 with value: 0.6008859266669034.\n",
      "[I 2023-12-05 19:39:37,934] Trial 310 finished with value: 0.5925263495943469 and parameters: {'model__n_estimators': 191, 'model__max_depth': 10, 'model__learning_rate': 0.9004131368338124, 'model__gamma': 6.072526440338021, 'model__reg_lambda': 0.7715131182177006, 'model__min_child_weight': 1.5397188236765147}. Best is trial 196 with value: 0.6008859266669034.\n",
      "[I 2023-12-05 19:39:39,097] Trial 311 finished with value: 0.5654297173929563 and parameters: {'model__n_estimators': 224, 'model__max_depth': 2, 'model__learning_rate': 0.7886068147702641, 'model__gamma': 3.5335944293153325, 'model__reg_lambda': 0.6047734098976814, 'model__min_child_weight': 1.1737243903305452}. Best is trial 196 with value: 0.6008859266669034.\n",
      "[I 2023-12-05 19:39:40,310] Trial 312 finished with value: 0.5898615679780789 and parameters: {'model__n_estimators': 258, 'model__max_depth': 9, 'model__learning_rate': 0.8559700107896143, 'model__gamma': 5.219572372662413, 'model__reg_lambda': 0.735028047991084, 'model__min_child_weight': 1.86533316081325}. Best is trial 196 with value: 0.6008859266669034.\n",
      "[I 2023-12-05 19:39:41,498] Trial 313 finished with value: 0.5896455460839174 and parameters: {'model__n_estimators': 233, 'model__max_depth': 11, 'model__learning_rate': 0.733019651349267, 'model__gamma': 5.684654025883996, 'model__reg_lambda': 0.8826319255970013, 'model__min_child_weight': 3.063508831814384}. Best is trial 196 with value: 0.6008859266669034.\n",
      "[I 2023-12-05 19:39:42,581] Trial 314 finished with value: 0.576806988033116 and parameters: {'model__n_estimators': 171, 'model__max_depth': 10, 'model__learning_rate': 0.9195148815117199, 'model__gamma': 3.9825682163331986, 'model__reg_lambda': 0.8282017952348867, 'model__min_child_weight': 2.8771485867102404}. Best is trial 196 with value: 0.6008859266669034.\n",
      "[I 2023-12-05 19:39:43,730] Trial 315 finished with value: 0.5863823098237746 and parameters: {'model__n_estimators': 211, 'model__max_depth': 10, 'model__learning_rate': 0.8220111535214404, 'model__gamma': 7.137578559193125, 'model__reg_lambda': 0.491794227786981, 'model__min_child_weight': 1.7136987642558719}. Best is trial 196 with value: 0.6008859266669034.\n",
      "[I 2023-12-05 19:39:44,942] Trial 316 finished with value: 0.5999815906867869 and parameters: {'model__n_estimators': 245, 'model__max_depth': 9, 'model__learning_rate': 0.76344800334144, 'model__gamma': 6.43178194451712, 'model__reg_lambda': 0.863445372052715, 'model__min_child_weight': 0.7329050771005298}. Best is trial 196 with value: 0.6008859266669034.\n",
      "[I 2023-12-05 19:39:46,130] Trial 317 finished with value: 0.5957344391499352 and parameters: {'model__n_estimators': 240, 'model__max_depth': 9, 'model__learning_rate': 0.7694807488012204, 'model__gamma': 6.481466059898718, 'model__reg_lambda': 0.8690551246341292, 'model__min_child_weight': 0.7179688091245565}. Best is trial 196 with value: 0.6008859266669034.\n",
      "[I 2023-12-05 19:39:47,331] Trial 318 finished with value: 0.5884803426801598 and parameters: {'model__n_estimators': 245, 'model__max_depth': 9, 'model__learning_rate': 0.7589492462278107, 'model__gamma': 6.779279687757627, 'model__reg_lambda': 0.8739254747665407, 'model__min_child_weight': 0.6044347100624323}. Best is trial 196 with value: 0.6008859266669034.\n",
      "[I 2023-12-05 19:39:48,511] Trial 319 finished with value: 0.5816448793978681 and parameters: {'model__n_estimators': 237, 'model__max_depth': 9, 'model__learning_rate': 0.7794540589736453, 'model__gamma': 12.86137382239011, 'model__reg_lambda': 0.9042043299431116, 'model__min_child_weight': 0.7056773819344676}. Best is trial 196 with value: 0.6008859266669034.\n",
      "[I 2023-12-05 19:39:49,760] Trial 320 finished with value: 0.5644142170499499 and parameters: {'model__n_estimators': 243, 'model__max_depth': 8, 'model__learning_rate': 0.7234556883036254, 'model__gamma': 1.2958315385601535, 'model__reg_lambda': 0.8660008585852409, 'model__min_child_weight': 0.7299404772555257}. Best is trial 196 with value: 0.6008859266669034.\n",
      "[I 2023-12-05 19:39:50,943] Trial 321 finished with value: 0.5914428244185176 and parameters: {'model__n_estimators': 226, 'model__max_depth': 9, 'model__learning_rate': 0.7741887588491582, 'model__gamma': 6.422351521537624, 'model__reg_lambda': 0.8484202671329049, 'model__min_child_weight': 0.8001581494970338}. Best is trial 196 with value: 0.6008859266669034.\n",
      "[I 2023-12-05 19:39:52,165] Trial 322 finished with value: 0.5798248143835947 and parameters: {'model__n_estimators': 250, 'model__max_depth': 9, 'model__learning_rate': 0.47232942678031187, 'model__gamma': 7.186107194601756, 'model__reg_lambda': 0.8903932193056462, 'model__min_child_weight': 0.6167627840590365}. Best is trial 196 with value: 0.6008859266669034.\n",
      "[I 2023-12-05 19:39:53,341] Trial 323 finished with value: 0.5876556449834018 and parameters: {'model__n_estimators': 232, 'model__max_depth': 9, 'model__learning_rate': 0.7119267641402502, 'model__gamma': 7.855183293477178, 'model__reg_lambda': 0.9208377597780989, 'model__min_child_weight': 0.5124096767446554}. Best is trial 196 with value: 0.6008859266669034.\n",
      "[I 2023-12-05 19:39:54,491] Trial 324 finished with value: 0.5856529140709487 and parameters: {'model__n_estimators': 216, 'model__max_depth': 8, 'model__learning_rate': 0.8025480060495533, 'model__gamma': 6.643946195211292, 'model__reg_lambda': 0.4281521463365448, 'model__min_child_weight': 0.3537945639568093}. Best is trial 196 with value: 0.6008859266669034.\n",
      "[I 2023-12-05 19:39:55,718] Trial 325 finished with value: 0.5885831860158766 and parameters: {'model__n_estimators': 243, 'model__max_depth': 9, 'model__learning_rate': 0.674154241909338, 'model__gamma': 5.9327126862011434, 'model__reg_lambda': 0.858890854137563, 'model__min_child_weight': 0.8955629837216746}. Best is trial 196 with value: 0.6008859266669034.\n",
      "[I 2023-12-05 19:39:57,107] Trial 326 finished with value: 0.5814889560052631 and parameters: {'model__n_estimators': 366, 'model__max_depth': 9, 'model__learning_rate': 0.7455623300069856, 'model__gamma': 7.377391767940531, 'model__reg_lambda': 0.8390687084566223, 'model__min_child_weight': 2.5362053734494627}. Best is trial 196 with value: 0.6008859266669034.\n",
      "[I 2023-12-05 19:39:58,247] Trial 327 finished with value: 0.5923669689233313 and parameters: {'model__n_estimators': 201, 'model__max_depth': 12, 'model__learning_rate': 0.824220966640245, 'model__gamma': 6.344507538854043, 'model__reg_lambda': 0.8895536975971279, 'model__min_child_weight': 1.5798863424363803}. Best is trial 196 with value: 0.6008859266669034.\n",
      "[I 2023-12-05 19:39:59,461] Trial 328 finished with value: 0.5879805045367934 and parameters: {'model__n_estimators': 254, 'model__max_depth': 9, 'model__learning_rate': 0.6302614786190088, 'model__gamma': 6.891339198113437, 'model__reg_lambda': 0.949813371180127, 'model__min_child_weight': 1.4719805141155877}. Best is trial 196 with value: 0.6008859266669034.\n",
      "[I 2023-12-05 19:40:00,587] Trial 329 finished with value: 0.5851740422476109 and parameters: {'model__n_estimators': 186, 'model__max_depth': 9, 'model__learning_rate': 0.7716578719035737, 'model__gamma': 5.728461423888011, 'model__reg_lambda': 0.8149086430712525, 'model__min_child_weight': 0.551375886113832}. Best is trial 196 with value: 0.6008859266669034.\n",
      "[I 2023-12-05 19:40:02,117] Trial 330 finished with value: 0.5736732611646528 and parameters: {'model__n_estimators': 225, 'model__max_depth': 9, 'model__learning_rate': 0.039963102590029775, 'model__gamma': 6.404023787159546, 'model__reg_lambda': 0.8709438442264787, 'model__min_child_weight': 0.44155020122035116}. Best is trial 196 with value: 0.6008859266669034.\n",
      "[I 2023-12-05 19:40:03,747] Trial 331 finished with value: 0.5812491261107652 and parameters: {'model__n_estimators': 497, 'model__max_depth': 8, 'model__learning_rate': 0.7483209254650289, 'model__gamma': 4.9905698379001855, 'model__reg_lambda': 0.7890099974333908, 'model__min_child_weight': 0.7873869091403813}. Best is trial 196 with value: 0.6008859266669034.\n",
      "[I 2023-12-05 19:40:05,247] Trial 332 finished with value: 0.5501518744223807 and parameters: {'model__n_estimators': 260, 'model__max_depth': 10, 'model__learning_rate': 0.6965050672465124, 'model__gamma': 0.2732583139140452, 'model__reg_lambda': 0.9064393036697902, 'model__min_child_weight': 1.4249779894735919}. Best is trial 196 with value: 0.6008859266669034.\n",
      "[I 2023-12-05 19:40:06,386] Trial 333 finished with value: 0.5883496117160646 and parameters: {'model__n_estimators': 206, 'model__max_depth': 9, 'model__learning_rate': 0.8112192426395013, 'model__gamma': 5.988374653216258, 'model__reg_lambda': 0.6528408572923518, 'model__min_child_weight': 2.037967924383696}. Best is trial 196 with value: 0.6008859266669034.\n",
      "[I 2023-12-05 19:40:07,817] Trial 334 finished with value: 0.5734507784097203 and parameters: {'model__n_estimators': 238, 'model__max_depth': 10, 'model__learning_rate': 0.06877229335227975, 'model__gamma': 5.398145053494644, 'model__reg_lambda': 0.8481635995768466, 'model__min_child_weight': 0.9533431704686399}. Best is trial 196 with value: 0.6008859266669034.\n",
      "[I 2023-12-05 19:40:08,963] Trial 335 finished with value: 0.5770072926149955 and parameters: {'model__n_estimators': 216, 'model__max_depth': 8, 'model__learning_rate': 0.8534954364323695, 'model__gamma': 8.13979828050981, 'model__reg_lambda': 0.03775915305478528, 'model__min_child_weight': 3.2607052042157973}. Best is trial 196 with value: 0.6008859266669034.\n",
      "[I 2023-12-05 19:40:10,167] Trial 336 finished with value: 0.5849483351980889 and parameters: {'model__n_estimators': 196, 'model__max_depth': 9, 'model__learning_rate': 0.7220449873748106, 'model__gamma': 6.796944542375646, 'model__reg_lambda': 0.8250314148030184, 'model__min_child_weight': 0.6857656901344983}. Best is trial 196 with value: 0.6008859266669034.\n",
      "[I 2023-12-05 19:40:11,631] Trial 337 finished with value: 0.5958854046606843 and parameters: {'model__n_estimators': 389, 'model__max_depth': 10, 'model__learning_rate': 0.8831230942048061, 'model__gamma': 4.39959075916769, 'model__reg_lambda': 0.8564931879776895, 'model__min_child_weight': 1.6716969846681446}. Best is trial 196 with value: 0.6008859266669034.\n",
      "[I 2023-12-05 19:40:12,738] Trial 338 finished with value: 0.5882584021010773 and parameters: {'model__n_estimators': 179, 'model__max_depth': 13, 'model__learning_rate': 0.8787939042397241, 'model__gamma': 4.26701553170994, 'model__reg_lambda': 0.8553850614389223, 'model__min_child_weight': 1.7516703289780131}. Best is trial 196 with value: 0.6008859266669034.\n",
      "[I 2023-12-05 19:40:14,180] Trial 339 finished with value: 0.5867898564658741 and parameters: {'model__n_estimators': 378, 'model__max_depth': 10, 'model__learning_rate': 0.9023439499192284, 'model__gamma': 3.7830240040169016, 'model__reg_lambda': 0.7944243974424329, 'model__min_child_weight': 1.6308049641030735}. Best is trial 196 with value: 0.6008859266669034.\n",
      "[I 2023-12-05 19:40:15,629] Trial 340 finished with value: 0.5768686661008957 and parameters: {'model__n_estimators': 389, 'model__max_depth': 11, 'model__learning_rate': 0.9441164987902556, 'model__gamma': 4.578553825997223, 'model__reg_lambda': 0.5300297863065512, 'model__min_child_weight': 1.8366134439444546}. Best is trial 196 with value: 0.6008859266669034.\n",
      "[I 2023-12-05 19:40:16,728] Trial 341 finished with value: 0.5779706700928118 and parameters: {'model__n_estimators': 159, 'model__max_depth': 9, 'model__learning_rate': 0.852441896421729, 'model__gamma': 2.212979409412932, 'model__reg_lambda': 0.8134124321187889, 'model__min_child_weight': 1.6863375507839207}. Best is trial 196 with value: 0.6008859266669034.\n",
      "[I 2023-12-05 19:40:17,928] Trial 342 finished with value: 0.588540674670848 and parameters: {'model__n_estimators': 254, 'model__max_depth': 8, 'model__learning_rate': 0.885391981934523, 'model__gamma': 4.846541844476013, 'model__reg_lambda': 0.8372863816274304, 'model__min_child_weight': 1.5246308212292754}. Best is trial 196 with value: 0.6008859266669034.\n",
      "[I 2023-12-05 19:40:19,179] Trial 343 finished with value: 0.5794831008152946 and parameters: {'model__n_estimators': 266, 'model__max_depth': 10, 'model__learning_rate': 0.8343795960407809, 'model__gamma': 3.4971694830242126, 'model__reg_lambda': 0.4988566988628026, 'model__min_child_weight': 1.3493847260585226}. Best is trial 196 with value: 0.6008859266669034.\n",
      "[I 2023-12-05 19:40:20,661] Trial 344 finished with value: 0.584168135810174 and parameters: {'model__n_estimators': 406, 'model__max_depth': 9, 'model__learning_rate': 0.6541777525722611, 'model__gamma': 4.188154663053835, 'model__reg_lambda': 0.8660528547743853, 'model__min_child_weight': 1.5486157194484471}. Best is trial 196 with value: 0.6008859266669034.\n",
      "[I 2023-12-05 19:40:21,963] Trial 345 finished with value: 0.5936435724852215 and parameters: {'model__n_estimators': 247, 'model__max_depth': 10, 'model__learning_rate': 0.9205010942491753, 'model__gamma': 5.38427077133412, 'model__reg_lambda': 0.9748414608809667, 'model__min_child_weight': 1.9375117691591355}. Best is trial 196 with value: 0.6008859266669034.\n",
      "[I 2023-12-05 19:40:23,388] Trial 346 finished with value: 0.5598790861942178 and parameters: {'model__n_estimators': 361, 'model__max_depth': 3, 'model__learning_rate': 0.8078956713160278, 'model__gamma': 6.257246440769199, 'model__reg_lambda': 0.9265777988257502, 'model__min_child_weight': 1.6439237897525079}. Best is trial 196 with value: 0.6008859266669034.\n",
      "[I 2023-12-05 19:40:24,890] Trial 347 finished with value: 0.5716969790054385 and parameters: {'model__n_estimators': 392, 'model__max_depth': 11, 'model__learning_rate': 0.9603785911507191, 'model__gamma': 3.191369123465214, 'model__reg_lambda': 0.7751912823466909, 'model__min_child_weight': 1.7866567816320782}. Best is trial 196 with value: 0.6008859266669034.\n",
      "[I 2023-12-05 19:40:26,023] Trial 348 finished with value: 0.5930125092573927 and parameters: {'model__n_estimators': 188, 'model__max_depth': 10, 'model__learning_rate': 0.860129671380207, 'model__gamma': 7.559852238797137, 'model__reg_lambda': 0.6224720316282512, 'model__min_child_weight': 1.4018474254858573}. Best is trial 196 with value: 0.6008859266669034.\n",
      "[I 2023-12-05 19:40:27,391] Trial 349 finished with value: 0.5882675175465572 and parameters: {'model__n_estimators': 352, 'model__max_depth': 9, 'model__learning_rate': 0.8954934505317198, 'model__gamma': 4.856240294991401, 'model__reg_lambda': 0.8854188178975725, 'model__min_child_weight': 1.2529538230997228}. Best is trial 196 with value: 0.6008859266669034.\n",
      "[I 2023-12-05 19:40:28,618] Trial 350 finished with value: 0.593334348846174 and parameters: {'model__n_estimators': 234, 'model__max_depth': 10, 'model__learning_rate': 0.7997102174147415, 'model__gamma': 5.688828003547694, 'model__reg_lambda': 0.8337112039203023, 'model__min_child_weight': 1.4836462889308337}. Best is trial 196 with value: 0.6008859266669034.\n",
      "[I 2023-12-05 19:40:29,629] Trial 351 finished with value: 0.5743451619424548 and parameters: {'model__n_estimators': 125, 'model__max_depth': 10, 'model__learning_rate': 1.1510954830198747, 'model__gamma': 6.552148076199677, 'model__reg_lambda': 0.585017195840313, 'model__min_child_weight': 2.8923195052286244}. Best is trial 196 with value: 0.6008859266669034.\n",
      "[I 2023-12-05 19:40:30,728] Trial 352 finished with value: 0.5867701840343201 and parameters: {'model__n_estimators': 181, 'model__max_depth': 9, 'model__learning_rate': 0.8391996876233991, 'model__gamma': 7.155506324175314, 'model__reg_lambda': 0.8019154026944695, 'model__min_child_weight': 2.2321618907329928}. Best is trial 196 with value: 0.6008859266669034.\n",
      "[I 2023-12-05 19:40:31,853] Trial 353 finished with value: 0.5883636738452674 and parameters: {'model__n_estimators': 192, 'model__max_depth': 10, 'model__learning_rate': 0.8729786657055639, 'model__gamma': 6.057667920134494, 'model__reg_lambda': 0.5483068220510271, 'model__min_child_weight': 1.5936140264165974}. Best is trial 196 with value: 0.6008859266669034.\n",
      "[I 2023-12-05 19:40:32,944] Trial 354 finished with value: 0.5888999705322299 and parameters: {'model__n_estimators': 174, 'model__max_depth': 14, 'model__learning_rate': 0.9384019441856477, 'model__gamma': 5.1600652003423075, 'model__reg_lambda': 0.8570221426088079, 'model__min_child_weight': 1.043164095522}. Best is trial 196 with value: 0.6008859266669034.\n",
      "[I 2023-12-05 19:40:34,207] Trial 355 finished with value: 0.5831493705367561 and parameters: {'model__n_estimators': 273, 'model__max_depth': 11, 'model__learning_rate': 0.6811791325629191, 'model__gamma': 8.785428884226791, 'model__reg_lambda': 0.8174580015988963, 'model__min_child_weight': 2.0346749111892803}. Best is trial 196 with value: 0.6008859266669034.\n",
      "[I 2023-12-05 19:40:35,443] Trial 356 finished with value: 0.5814478001769181 and parameters: {'model__n_estimators': 256, 'model__max_depth': 9, 'model__learning_rate': 0.7844588532359588, 'model__gamma': 4.567170170630357, 'model__reg_lambda': 0.9997217722086302, 'model__min_child_weight': 2.7884417342068692}. Best is trial 196 with value: 0.6008859266669034.\n",
      "[I 2023-12-05 19:40:36,706] Trial 357 finished with value: 0.5895102629763671 and parameters: {'model__n_estimators': 278, 'model__max_depth': 10, 'model__learning_rate': 0.7369155578814955, 'model__gamma': 5.599515416733176, 'model__reg_lambda': 0.9011623083175773, 'model__min_child_weight': 0.6772288025617574}. Best is trial 196 with value: 0.6008859266669034.\n",
      "[I 2023-12-05 19:40:37,903] Trial 358 finished with value: 0.5860719529814606 and parameters: {'model__n_estimators': 240, 'model__max_depth': 8, 'model__learning_rate': 0.9944938514524825, 'model__gamma': 6.462837046751567, 'model__reg_lambda': 0.7563743765513316, 'model__min_child_weight': 1.6707712243140418}. Best is trial 196 with value: 0.6008859266669034.\n",
      "[I 2023-12-05 19:40:38,992] Trial 359 finished with value: 0.5793505673374624 and parameters: {'model__n_estimators': 168, 'model__max_depth': 10, 'model__learning_rate': 0.5976442522235854, 'model__gamma': 5.980904165934142, 'model__reg_lambda': 0.8412749199169528, 'model__min_child_weight': 4.934841582470669}. Best is trial 196 with value: 0.6008859266669034.\n",
      "[I 2023-12-05 19:40:40,111] Trial 360 finished with value: 0.5860780684898725 and parameters: {'model__n_estimators': 202, 'model__max_depth': 9, 'model__learning_rate': 0.9012706896244992, 'model__gamma': 10.251296013060191, 'model__reg_lambda': 0.8704219956478444, 'model__min_child_weight': 1.340475071770731}. Best is trial 196 with value: 0.6008859266669034.\n",
      "[I 2023-12-05 19:40:41,633] Trial 361 finished with value: 0.5574662017125254 and parameters: {'model__n_estimators': 422, 'model__max_depth': 9, 'model__learning_rate': 1.2036771414807812, 'model__gamma': 2.5346957073252474, 'model__reg_lambda': 0.8847958138719052, 'model__min_child_weight': 2.635531867717512}. Best is trial 196 with value: 0.6008859266669034.\n",
      "[I 2023-12-05 19:40:42,801] Trial 362 finished with value: 0.5752147876203273 and parameters: {'model__n_estimators': 223, 'model__max_depth': 5, 'model__learning_rate': 0.834770484693947, 'model__gamma': 6.933755174089098, 'model__reg_lambda': 0.8029002797469564, 'model__min_child_weight': 1.4829028222028908}. Best is trial 196 with value: 0.6008859266669034.\n",
      "[I 2023-12-05 19:40:44,056] Trial 363 finished with value: 0.5849906172965668 and parameters: {'model__n_estimators': 263, 'model__max_depth': 10, 'model__learning_rate': 0.7044806103566604, 'model__gamma': 5.258300885660383, 'model__reg_lambda': 0.8271672255672088, 'model__min_child_weight': 1.0998083194525798}. Best is trial 196 with value: 0.6008859266669034.\n",
      "[I 2023-12-05 19:40:45,479] Trial 364 finished with value: 0.5876908276850652 and parameters: {'model__n_estimators': 370, 'model__max_depth': 10, 'model__learning_rate': 0.8715006529590474, 'model__gamma': 4.033236367654516, 'model__reg_lambda': 0.7840580679335242, 'model__min_child_weight': 2.510547152814644}. Best is trial 196 with value: 0.6008859266669034.\n",
      "[I 2023-12-05 19:40:46,695] Trial 365 finished with value: 0.5891535033602555 and parameters: {'model__n_estimators': 245, 'model__max_depth': 11, 'model__learning_rate': 0.7572582290593168, 'model__gamma': 6.215858380572688, 'model__reg_lambda': 0.8502023012925054, 'model__min_child_weight': 1.7436113323668425}. Best is trial 196 with value: 0.6008859266669034.\n",
      "[I 2023-12-05 19:40:47,873] Trial 366 finished with value: 0.5763902858355594 and parameters: {'model__n_estimators': 230, 'model__max_depth': 10, 'model__learning_rate': 1.2403403803420565, 'model__gamma': 5.694893740512483, 'model__reg_lambda': 0.9118261087860287, 'model__min_child_weight': 0.8374525971446962}. Best is trial 196 with value: 0.6008859266669034.\n",
      "[I 2023-12-05 19:40:49,037] Trial 367 finished with value: 0.5791580901814528 and parameters: {'model__n_estimators': 209, 'model__max_depth': 9, 'model__learning_rate': 0.9230261796177707, 'model__gamma': 3.045889228369458, 'model__reg_lambda': 0.6724327881276679, 'model__min_child_weight': 0.5416491477520645}. Best is trial 196 with value: 0.6008859266669034.\n",
      "[I 2023-12-05 19:40:50,465] Trial 368 finished with value: 0.5919374696565118 and parameters: {'model__n_estimators': 383, 'model__max_depth': 9, 'model__learning_rate': 0.808819232486913, 'model__gamma': 6.639748556358402, 'model__reg_lambda': 0.7192446016190686, 'model__min_child_weight': 1.4119959476137145}. Best is trial 196 with value: 0.6008859266669034.\n",
      "[I 2023-12-05 19:40:51,584] Trial 369 finished with value: 0.5926398535513895 and parameters: {'model__n_estimators': 194, 'model__max_depth': 10, 'model__learning_rate': 0.8521788419345951, 'model__gamma': 5.337034251959399, 'model__reg_lambda': 0.8571318144507375, 'model__min_child_weight': 0.9634608416828248}. Best is trial 196 with value: 0.6008859266669034.\n",
      "[I 2023-12-05 19:40:52,839] Trial 370 finished with value: 0.5800994208224488 and parameters: {'model__n_estimators': 285, 'model__max_depth': 12, 'model__learning_rate': 1.028300036508004, 'model__gamma': 8.013114967277948, 'model__reg_lambda': 0.5759240630893169, 'model__min_child_weight': 2.8168261168574413}. Best is trial 196 with value: 0.6008859266669034.\n",
      "[I 2023-12-05 19:40:54,375] Trial 371 finished with value: 0.5518217059693923 and parameters: {'model__n_estimators': 402, 'model__max_depth': 10, 'model__learning_rate': 1.1277077414003205, 'model__gamma': 1.3362682179858894, 'model__reg_lambda': 0.9505533468119213, 'model__min_child_weight': 1.245944288940068}. Best is trial 196 with value: 0.6008859266669034.\n",
      "[I 2023-12-05 19:40:55,626] Trial 372 finished with value: 0.5833004852408313 and parameters: {'model__n_estimators': 254, 'model__max_depth': 9, 'model__learning_rate': 0.6577445705300344, 'model__gamma': 4.851128272009463, 'model__reg_lambda': 0.8198540701187249, 'model__min_child_weight': 0.09057945405387813}. Best is trial 196 with value: 0.6008859266669034.\n",
      "[I 2023-12-05 19:40:56,984] Trial 373 finished with value: 0.5809639415123974 and parameters: {'model__n_estimators': 330, 'model__max_depth': 11, 'model__learning_rate': 0.9594140572978898, 'model__gamma': 5.8692221705303185, 'model__reg_lambda': 0.2737691010527578, 'model__min_child_weight': 2.36793344607237}. Best is trial 196 with value: 0.6008859266669034.\n",
      "[I 2023-12-05 19:40:58,088] Trial 374 finished with value: 0.5810154267243286 and parameters: {'model__n_estimators': 177, 'model__max_depth': 10, 'model__learning_rate': 0.7896140703747797, 'model__gamma': 6.274140539929363, 'model__reg_lambda': 0.8847864707172527, 'model__min_child_weight': 3.0650231414115314}. Best is trial 196 with value: 0.6008859266669034.\n",
      "[I 2023-12-05 19:40:59,271] Trial 375 finished with value: 0.5876170204076171 and parameters: {'model__n_estimators': 220, 'model__max_depth': 9, 'model__learning_rate': 0.7261200409974741, 'model__gamma': 6.984419704896621, 'model__reg_lambda': 0.7642927871228056, 'model__min_child_weight': 0.7384594429258118}. Best is trial 196 with value: 0.6008859266669034.\n",
      "[I 2023-12-05 19:41:00,546] Trial 376 finished with value: 0.5682257855272499 and parameters: {'model__n_estimators': 272, 'model__max_depth': 10, 'model__learning_rate': 1.4026927247187904, 'model__gamma': 7.525583636370328, 'model__reg_lambda': 0.8371369330046764, 'model__min_child_weight': 2.0992898327812055}. Best is trial 196 with value: 0.6008859266669034.\n",
      "[I 2023-12-05 19:41:01,670] Trial 377 finished with value: 0.578993061703639 and parameters: {'model__n_estimators': 185, 'model__max_depth': 11, 'model__learning_rate': 0.8974559004405539, 'model__gamma': 8.4757885572468, 'model__reg_lambda': 0.8688791016656395, 'model__min_child_weight': 1.5817440499035842}. Best is trial 196 with value: 0.6008859266669034.\n",
      "[I 2023-12-05 19:41:02,869] Trial 378 finished with value: 0.5880129676835217 and parameters: {'model__n_estimators': 233, 'model__max_depth': 8, 'model__learning_rate': 0.8201150060024127, 'model__gamma': 5.441777082271144, 'model__reg_lambda': 0.47157393080411036, 'model__min_child_weight': 1.9526119873540506}. Best is trial 196 with value: 0.6008859266669034.\n",
      "[I 2023-12-05 19:41:04,045] Trial 379 finished with value: 0.5481292521269221 and parameters: {'model__n_estimators': 199, 'model__max_depth': 10, 'model__learning_rate': 1.1723070074997979, 'model__gamma': 2.763667337101923, 'model__reg_lambda': 0.8028998731573787, 'model__min_child_weight': 0.8858379120421616}. Best is trial 196 with value: 0.6008859266669034.\n",
      "[I 2023-12-05 19:41:05,256] Trial 380 finished with value: 0.5808851703894472 and parameters: {'model__n_estimators': 249, 'model__max_depth': 9, 'model__learning_rate': 1.0760680798221933, 'model__gamma': 3.7035198754196585, 'model__reg_lambda': 0.9278844778428497, 'model__min_child_weight': 0.6226758798469232}. Best is trial 196 with value: 0.6008859266669034.\n",
      "[I 2023-12-05 19:41:06,489] Trial 381 finished with value: 0.5931728243044704 and parameters: {'model__n_estimators': 262, 'model__max_depth': 10, 'model__learning_rate': 0.759279297061454, 'model__gamma': 5.8708069865090735, 'model__reg_lambda': 0.8959747617946623, 'model__min_child_weight': 1.790010534139727}. Best is trial 196 with value: 0.6008859266669034.\n",
      "[I 2023-12-05 19:41:07,558] Trial 382 finished with value: 0.5830930642427032 and parameters: {'model__n_estimators': 164, 'model__max_depth': 9, 'model__learning_rate': 0.8816540755942889, 'model__gamma': 9.832884244978722, 'model__reg_lambda': 0.8375057392966544, 'model__min_child_weight': 2.6965540735090996}. Best is trial 196 with value: 0.6008859266669034.\n",
      "[I 2023-12-05 19:41:08,702] Trial 383 finished with value: 0.5910887259848683 and parameters: {'model__n_estimators': 210, 'model__max_depth': 10, 'model__learning_rate': 0.7042380252396844, 'model__gamma': 4.336921381044798, 'model__reg_lambda': 0.7827043008887451, 'model__min_child_weight': 1.1293153939730116}. Best is trial 196 with value: 0.6008859266669034.\n",
      "[I 2023-12-05 19:41:10,204] Trial 384 finished with value: 0.5700112038229145 and parameters: {'model__n_estimators': 343, 'model__max_depth': 15, 'model__learning_rate': 0.584335702083103, 'model__gamma': 13.10534208234648, 'model__reg_lambda': 0.8600965140225955, 'model__min_child_weight': 1.8601462785023613}. Best is trial 196 with value: 0.6008859266669034.\n",
      "[I 2023-12-05 19:41:11,420] Trial 385 finished with value: 0.5812687708131259 and parameters: {'model__n_estimators': 194, 'model__max_depth': 9, 'model__learning_rate': 0.8388466670352885, 'model__gamma': 5.017529002526274, 'model__reg_lambda': 0.8178505310718701, 'model__min_child_weight': 3.6162222705284948}. Best is trial 196 with value: 0.6008859266669034.\n",
      "[I 2023-12-05 19:41:12,573] Trial 386 finished with value: 0.5831428453331977 and parameters: {'model__n_estimators': 222, 'model__max_depth': 10, 'model__learning_rate': 0.9122729801370697, 'model__gamma': 6.464147394076348, 'model__reg_lambda': 0.7443117534957076, 'model__min_child_weight': 1.502791029382609}. Best is trial 196 with value: 0.6008859266669034.\n",
      "[I 2023-12-05 19:41:13,761] Trial 387 finished with value: 0.586663424461468 and parameters: {'model__n_estimators': 241, 'model__max_depth': 8, 'model__learning_rate': 0.779025409346565, 'model__gamma': 6.009601371268241, 'model__reg_lambda': 0.8723105197197668, 'model__min_child_weight': 1.3551531436873825}. Best is trial 196 with value: 0.6008859266669034.\n",
      "[I 2023-12-05 19:41:15,018] Trial 388 finished with value: 0.5921744514869145 and parameters: {'model__n_estimators': 259, 'model__max_depth': 11, 'model__learning_rate': 0.8640658698062197, 'model__gamma': 5.6019875373514525, 'model__reg_lambda': 0.8413599607913056, 'model__min_child_weight': 2.6042040871269965}. Best is trial 196 with value: 0.6008859266669034.\n",
      "[I 2023-12-05 19:41:16,120] Trial 389 finished with value: 0.5702120695546228 and parameters: {'model__n_estimators': 183, 'model__max_depth': 10, 'model__learning_rate': 0.6741665865001165, 'model__gamma': 6.8664245475989985, 'model__reg_lambda': 0.6948740142022327, 'model__min_child_weight': 3.2882324678532684}. Best is trial 196 with value: 0.6008859266669034.\n",
      "[I 2023-12-05 19:41:17,273] Trial 390 finished with value: 0.5850150592471481 and parameters: {'model__n_estimators': 207, 'model__max_depth': 9, 'model__learning_rate': 0.9401161404856246, 'model__gamma': 6.327615638266213, 'model__reg_lambda': 0.6304985163406875, 'model__min_child_weight': 0.41558572947601014}. Best is trial 196 with value: 0.6008859266669034.\n",
      "[I 2023-12-05 19:41:18,563] Trial 391 finished with value: 0.5901526762470517 and parameters: {'model__n_estimators': 277, 'model__max_depth': 10, 'model__learning_rate': 0.5274463718898355, 'model__gamma': 4.623747013398303, 'model__reg_lambda': 0.9076097425646675, 'model__min_child_weight': 1.6321011925723672}. Best is trial 196 with value: 0.6008859266669034.\n",
      "[I 2023-12-05 19:41:19,753] Trial 392 finished with value: 0.5827759596194674 and parameters: {'model__n_estimators': 228, 'model__max_depth': 9, 'model__learning_rate': 0.7350007278759467, 'model__gamma': 5.407638066525473, 'model__reg_lambda': 0.8033184776261721, 'model__min_child_weight': 0.21944467072461793}. Best is trial 196 with value: 0.6008859266669034.\n",
      "[I 2023-12-05 19:41:20,952] Trial 393 finished with value: 0.5675584653933623 and parameters: {'model__n_estimators': 246, 'model__max_depth': 10, 'model__learning_rate': 0.9790844026757104, 'model__gamma': 7.2067191127122685, 'model__reg_lambda': 0.43500804046536, 'model__min_child_weight': 3.9370670579485525}. Best is trial 196 with value: 0.6008859266669034.\n",
      "[I 2023-12-05 19:41:22,016] Trial 394 finished with value: 0.5901839011086722 and parameters: {'model__n_estimators': 154, 'model__max_depth': 9, 'model__learning_rate': 0.6322564798607634, 'model__gamma': 6.045272261854673, 'model__reg_lambda': 0.8854955049118939, 'model__min_child_weight': 2.1228843333837037}. Best is trial 196 with value: 0.6008859266669034.\n",
      "[I 2023-12-05 19:41:23,185] Trial 395 finished with value: 0.5749790177668926 and parameters: {'model__n_estimators': 202, 'model__max_depth': 10, 'model__learning_rate': 0.32697623934034686, 'model__gamma': 5.034399272220615, 'model__reg_lambda': 0.7767998454330904, 'model__min_child_weight': 0.9874755093183712}. Best is trial 196 with value: 0.6008859266669034.\n",
      "[I 2023-12-05 19:41:24,307] Trial 396 finished with value: 0.5668066314947122 and parameters: {'model__n_estimators': 190, 'model__max_depth': 13, 'model__learning_rate': 0.8176735250848242, 'model__gamma': 17.55104034794165, 'model__reg_lambda': 0.8207752893537803, 'model__min_child_weight': 1.6817214422984137}. Best is trial 196 with value: 0.6008859266669034.\n",
      "[I 2023-12-05 19:41:25,860] Trial 397 finished with value: 0.5875217969937162 and parameters: {'model__n_estimators': 267, 'model__max_depth': 11, 'model__learning_rate': 0.8503544059252931, 'model__gamma': 6.65242636510574, 'model__reg_lambda': 0.8472892168020385, 'model__min_child_weight': 0.7543537724822584}. Best is trial 196 with value: 0.6008859266669034.\n",
      "[I 2023-12-05 19:41:27,075] Trial 398 finished with value: 0.5895999414837583 and parameters: {'model__n_estimators': 219, 'model__max_depth': 10, 'model__learning_rate': 0.8868968236492308, 'model__gamma': 5.70544637334228, 'model__reg_lambda': 0.863308085053777, 'model__min_child_weight': 1.4723529815207155}. Best is trial 196 with value: 0.6008859266669034.\n",
      "[I 2023-12-05 19:41:28,271] Trial 399 finished with value: 0.5739033934554334 and parameters: {'model__n_estimators': 237, 'model__max_depth': 9, 'model__learning_rate': 1.2797135657381609, 'model__gamma': 6.341302344233684, 'model__reg_lambda': 0.7916311152007199, 'model__min_child_weight': 0.8696270907862167}. Best is trial 196 with value: 0.6008859266669034.\n",
      "[I 2023-12-05 19:41:29,541] Trial 400 finished with value: 0.5784868496534893 and parameters: {'model__n_estimators': 287, 'model__max_depth': 10, 'model__learning_rate': 0.7869389254235596, 'model__gamma': 9.555772625824897, 'model__reg_lambda': 0.9313320185528389, 'model__min_child_weight': 1.2661774895772724}. Best is trial 196 with value: 0.6008859266669034.\n",
      "[I 2023-12-05 19:41:30,977] Trial 401 finished with value: 0.5814188406114401 and parameters: {'model__n_estimators': 322, 'model__max_depth': 12, 'model__learning_rate': 0.7573019461640492, 'model__gamma': 5.2252131178021575, 'model__reg_lambda': 0.5187676949321915, 'model__min_child_weight': 1.0237728252397376}. Best is trial 196 with value: 0.6008859266669034.\n",
      "[I 2023-12-05 19:41:32,205] Trial 402 finished with value: 0.5803421305796376 and parameters: {'model__n_estimators': 251, 'model__max_depth': 9, 'model__learning_rate': 0.6957627123413344, 'model__gamma': 5.782639334831044, 'model__reg_lambda': 0.4023186355862884, 'model__min_child_weight': 2.9906490939134835}. Best is trial 196 with value: 0.6008859266669034.\n",
      "[I 2023-12-05 19:41:33,370] Trial 403 finished with value: 0.5800251005382869 and parameters: {'model__n_estimators': 200, 'model__max_depth': 10, 'model__learning_rate': 0.917335700668602, 'model__gamma': 4.470585499776436, 'model__reg_lambda': 0.8297071168366803, 'model__min_child_weight': 1.1564017802489843}. Best is trial 196 with value: 0.6008859266669034.\n",
      "[I 2023-12-05 19:41:34,462] Trial 404 finished with value: 0.5854088521451006 and parameters: {'model__n_estimators': 173, 'model__max_depth': 11, 'model__learning_rate': 0.8228938402546965, 'model__gamma': 7.478025248981115, 'model__reg_lambda': 0.879304785817911, 'model__min_child_weight': 2.3208852144053522}. Best is trial 196 with value: 0.6008859266669034.\n",
      "[I 2023-12-05 19:41:35,721] Trial 405 finished with value: 0.5802229832973571 and parameters: {'model__n_estimators': 269, 'model__max_depth': 10, 'model__learning_rate': 1.0187917940802091, 'model__gamma': 10.141128070752867, 'model__reg_lambda': 0.8530322652272285, 'model__min_child_weight': 0.6506080061473554}. Best is trial 196 with value: 0.6008859266669034.\n",
      "[I 2023-12-05 19:41:36,746] Trial 406 finished with value: 0.5725513502801501 and parameters: {'model__n_estimators': 138, 'model__max_depth': 8, 'model__learning_rate': 0.8627094118729268, 'model__gamma': 14.856589188118942, 'model__reg_lambda': 0.7591271660234048, 'model__min_child_weight': 1.5541508700249977}. Best is trial 196 with value: 0.6008859266669034.\n",
      "[I 2023-12-05 19:41:37,916] Trial 407 finished with value: 0.5834958087979193 and parameters: {'model__n_estimators': 215, 'model__max_depth': 13, 'model__learning_rate': 0.7291938388033612, 'model__gamma': 6.776751396681775, 'model__reg_lambda': 0.9065006646237027, 'model__min_child_weight': 1.389679158407652}. Best is trial 196 with value: 0.6008859266669034.\n",
      "[I 2023-12-05 19:41:39,132] Trial 408 finished with value: 0.5884838013819996 and parameters: {'model__n_estimators': 259, 'model__max_depth': 9, 'model__learning_rate': 0.7996607364050048, 'model__gamma': 6.160433908369701, 'model__reg_lambda': 0.8109606450020905, 'model__min_child_weight': 2.7299503326290306}. Best is trial 196 with value: 0.6008859266669034.\n",
      "[I 2023-12-05 19:41:40,248] Trial 409 finished with value: 0.5899797564132828 and parameters: {'model__n_estimators': 184, 'model__max_depth': 11, 'model__learning_rate': 0.9489760694359596, 'model__gamma': 5.4869891080865205, 'model__reg_lambda': 0.8377917002601747, 'model__min_child_weight': 0.7563829126639461}. Best is trial 196 with value: 0.6008859266669034.\n",
      "[I 2023-12-05 19:41:41,547] Trial 410 finished with value: 0.5793377469409788 and parameters: {'model__n_estimators': 300, 'model__max_depth': 10, 'model__learning_rate': 1.0863275659392373, 'model__gamma': 4.838000192088787, 'model__reg_lambda': 0.888911277188877, 'model__min_child_weight': 1.8498521869402216}. Best is trial 196 with value: 0.6008859266669034.\n",
      "[I 2023-12-05 19:41:42,948] Trial 411 finished with value: 0.5580521454666626 and parameters: {'model__n_estimators': 235, 'model__max_depth': 14, 'model__learning_rate': 0.8415826978743245, 'model__gamma': 0.9974468052550067, 'model__reg_lambda': 0.7162790167159555, 'model__min_child_weight': 0.5052078500489741}. Best is trial 196 with value: 0.6008859266669034.\n",
      "[I 2023-12-05 19:41:44,079] Trial 412 finished with value: 0.5802710135901253 and parameters: {'model__n_estimators': 208, 'model__max_depth': 4, 'model__learning_rate': 0.883993685294332, 'model__gamma': 6.012739789351457, 'model__reg_lambda': 0.8646004518574154, 'model__min_child_weight': 1.7099942538476074}. Best is trial 196 with value: 0.6008859266669034.\n",
      "[I 2023-12-05 19:41:45,542] Trial 413 finished with value: 0.5836179258114529 and parameters: {'model__n_estimators': 418, 'model__max_depth': 9, 'model__learning_rate': 0.9981249473323581, 'model__gamma': 10.856890718980402, 'model__reg_lambda': 0.5500080562989204, 'model__min_child_weight': 1.554977994095098}. Best is trial 196 with value: 0.6008859266669034.\n",
      "[I 2023-12-05 19:41:46,744] Trial 414 finished with value: 0.574851748094904 and parameters: {'model__n_estimators': 194, 'model__max_depth': 10, 'model__learning_rate': 0.7608300283589813, 'model__gamma': 2.116701701192971, 'model__reg_lambda': 0.7996373425106633, 'model__min_child_weight': 0.28973981394090037}. Best is trial 196 with value: 0.6008859266669034.\n",
      "[I 2023-12-05 19:41:47,947] Trial 415 finished with value: 0.580699112213439 and parameters: {'model__n_estimators': 249, 'model__max_depth': 9, 'model__learning_rate': 1.0590057567171451, 'model__gamma': 7.89644861770822, 'model__reg_lambda': 0.616964679676533, 'model__min_child_weight': 0.9295517033369757}. Best is trial 196 with value: 0.6008859266669034.\n",
      "[I 2023-12-05 19:41:49,393] Trial 416 finished with value: 0.5846191432600859 and parameters: {'model__n_estimators': 391, 'model__max_depth': 10, 'model__learning_rate': 0.9044215634131916, 'model__gamma': 6.612217709724058, 'model__reg_lambda': 0.7414664675512179, 'model__min_child_weight': 2.5081702851935086}. Best is trial 196 with value: 0.6008859266669034.\n",
      "[I 2023-12-05 19:41:50,615] Trial 417 finished with value: 0.5834610409523682 and parameters: {'model__n_estimators': 229, 'model__max_depth': 10, 'model__learning_rate': 0.6994562801561053, 'model__gamma': 3.759600696708824, 'model__reg_lambda': 0.9564092922806848, 'model__min_child_weight': 1.269640541993568}. Best is trial 196 with value: 0.6008859266669034.\n",
      "[I 2023-12-05 19:41:51,891] Trial 418 finished with value: 0.589501018993966 and parameters: {'model__n_estimators': 279, 'model__max_depth': 9, 'model__learning_rate': 0.7954302533626638, 'model__gamma': 5.441166561924803, 'model__reg_lambda': 0.8192557698920321, 'model__min_child_weight': 0.8124212722104471}. Best is trial 196 with value: 0.6008859266669034.\n",
      "[I 2023-12-05 19:41:52,974] Trial 419 finished with value: 0.5865079891028782 and parameters: {'model__n_estimators': 167, 'model__max_depth': 10, 'model__learning_rate': 0.8317991476928319, 'model__gamma': 7.125984407149827, 'model__reg_lambda': 0.8476165688886105, 'model__min_child_weight': 1.0713338800080425}. Best is trial 196 with value: 0.6008859266669034.\n",
      "[I 2023-12-05 19:41:54,175] Trial 420 finished with value: 0.5829027744281869 and parameters: {'model__n_estimators': 241, 'model__max_depth': 8, 'model__learning_rate': 0.6692010200737374, 'model__gamma': 6.263097067751498, 'model__reg_lambda': 0.6566798458714641, 'model__min_child_weight': 1.3538351468176903}. Best is trial 196 with value: 0.6008859266669034.\n",
      "[I 2023-12-05 19:41:55,269] Trial 421 finished with value: 0.5666408750756344 and parameters: {'model__n_estimators': 189, 'model__max_depth': 6, 'model__learning_rate': 1.1864164149916452, 'model__gamma': 9.285471417477586, 'model__reg_lambda': 0.7682793172124439, 'model__min_child_weight': 1.4452936997846089}. Best is trial 196 with value: 0.6008859266669034.\n",
      "[I 2023-12-05 19:41:56,489] Trial 422 finished with value: 0.5953086994747524 and parameters: {'model__n_estimators': 259, 'model__max_depth': 9, 'model__learning_rate': 1.1170199560340468, 'model__gamma': 5.742961592951854, 'model__reg_lambda': 0.8708984309502138, 'model__min_child_weight': 1.6379720722880453}. Best is trial 196 with value: 0.6008859266669034.\n",
      "[I 2023-12-05 19:41:57,732] Trial 423 finished with value: 0.5733790993731709 and parameters: {'model__n_estimators': 264, 'model__max_depth': 11, 'model__learning_rate': 1.1478689493759564, 'model__gamma': 5.1295319345881065, 'model__reg_lambda': 0.5837373827827186, 'model__min_child_weight': 1.7200076891176896}. Best is trial 196 with value: 0.6008859266669034.\n",
      "[I 2023-12-05 19:41:58,964] Trial 424 finished with value: 0.5957483733385811 and parameters: {'model__n_estimators': 254, 'model__max_depth': 10, 'model__learning_rate': 1.0319750748637815, 'model__gamma': 5.753604253168683, 'model__reg_lambda': 0.9117974304203089, 'model__min_child_weight': 1.9570415253108497}. Best is trial 196 with value: 0.6008859266669034.\n",
      "[I 2023-12-05 19:42:00,187] Trial 425 finished with value: 0.5943202829046673 and parameters: {'model__n_estimators': 256, 'model__max_depth': 10, 'model__learning_rate': 1.0734081419635495, 'model__gamma': 5.874593646129406, 'model__reg_lambda': 0.9137095080998933, 'model__min_child_weight': 1.9505875169781917}. Best is trial 196 with value: 0.6008859266669034.\n",
      "[I 2023-12-05 19:42:01,420] Trial 426 finished with value: 0.5872815787498651 and parameters: {'model__n_estimators': 253, 'model__max_depth': 10, 'model__learning_rate': 1.0891577034845563, 'model__gamma': 8.483043307332387, 'model__reg_lambda': 0.9245879852092695, 'model__min_child_weight': 2.0187416693675106}. Best is trial 196 with value: 0.6008859266669034.\n",
      "[I 2023-12-05 19:42:02,796] Trial 427 finished with value: 0.5413031456986752 and parameters: {'model__n_estimators': 253, 'model__max_depth': 10, 'model__learning_rate': 1.1150431736411297, 'model__gamma': 0.8474976834271271, 'model__reg_lambda': 0.9428657305353041, 'model__min_child_weight': 1.7980814267510925}. Best is trial 196 with value: 0.6008859266669034.\n",
      "[I 2023-12-05 19:42:04,022] Trial 428 finished with value: 0.5945734431689131 and parameters: {'model__n_estimators': 260, 'model__max_depth': 10, 'model__learning_rate': 1.1205390830109432, 'model__gamma': 5.78631644463631, 'model__reg_lambda': 0.9151998748884215, 'model__min_child_weight': 2.090256916824704}. Best is trial 196 with value: 0.6008859266669034.\n",
      "[I 2023-12-05 19:42:05,270] Trial 429 finished with value: 0.5959012782270532 and parameters: {'model__n_estimators': 277, 'model__max_depth': 10, 'model__learning_rate': 1.1006752514348088, 'model__gamma': 5.768581784708177, 'model__reg_lambda': 0.917426235482897, 'model__min_child_weight': 2.033584939374325}. Best is trial 196 with value: 0.6008859266669034.\n",
      "[I 2023-12-05 19:42:06,516] Trial 430 finished with value: 0.5860326256679557 and parameters: {'model__n_estimators': 274, 'model__max_depth': 10, 'model__learning_rate': 1.1623288264098484, 'model__gamma': 5.2426191006418605, 'model__reg_lambda': 0.9329169406794515, 'model__min_child_weight': 1.9198160497104821}. Best is trial 196 with value: 0.6008859266669034.\n",
      "[I 2023-12-05 19:42:07,799] Trial 431 finished with value: 0.5851475186595956 and parameters: {'model__n_estimators': 290, 'model__max_depth': 11, 'model__learning_rate': 1.141771810837924, 'model__gamma': 5.698939567246668, 'model__reg_lambda': 0.9691880973189877, 'model__min_child_weight': 2.1255102434703588}. Best is trial 196 with value: 0.6008859266669034.\n",
      "[I 2023-12-05 19:42:09,028] Trial 432 finished with value: 0.58833771492334 and parameters: {'model__n_estimators': 270, 'model__max_depth': 10, 'model__learning_rate': 1.0909234047407765, 'model__gamma': 4.700964682541433, 'model__reg_lambda': 0.9231033829657793, 'model__min_child_weight': 1.914075562625562}. Best is trial 196 with value: 0.6008859266669034.\n",
      "[I 2023-12-05 19:42:10,298] Trial 433 finished with value: 0.5892798798325525 and parameters: {'model__n_estimators': 285, 'model__max_depth': 11, 'model__learning_rate': 1.1143793820697423, 'model__gamma': 6.270169671536431, 'model__reg_lambda': 0.9038432707045927, 'model__min_child_weight': 2.08334566231569}. Best is trial 196 with value: 0.6008859266669034.\n",
      "[I 2023-12-05 19:42:11,524] Trial 434 finished with value: 0.5809483296249794 and parameters: {'model__n_estimators': 266, 'model__max_depth': 10, 'model__learning_rate': 1.0347532221821738, 'model__gamma': 8.961414658478532, 'model__reg_lambda': 0.9407409483690432, 'model__min_child_weight': 2.2676133337462665}. Best is trial 196 with value: 0.6008859266669034.\n",
      "[I 2023-12-05 19:42:12,805] Trial 435 finished with value: 0.5700869136165339 and parameters: {'model__n_estimators': 262, 'model__max_depth': 10, 'model__learning_rate': 1.1419006432600194, 'model__gamma': 3.3654435318237965, 'model__reg_lambda': 0.8956989154561873, 'model__min_child_weight': 2.0221249245614423}. Best is trial 196 with value: 0.6008859266669034.\n",
      "[I 2023-12-05 19:42:14,077] Trial 436 finished with value: 0.591516229693335 and parameters: {'model__n_estimators': 276, 'model__max_depth': 10, 'model__learning_rate': 1.0487368204058096, 'model__gamma': 5.764663944367133, 'model__reg_lambda': 0.9125407645461772, 'model__min_child_weight': 2.095478950347158}. Best is trial 196 with value: 0.6008859266669034.\n",
      "[I 2023-12-05 19:42:15,301] Trial 437 finished with value: 0.5832326939923286 and parameters: {'model__n_estimators': 244, 'model__max_depth': 12, 'model__learning_rate': 1.1073389464309977, 'model__gamma': 4.2685259931095025, 'model__reg_lambda': 0.9572271092817441, 'model__min_child_weight': 1.8241959105516221}. Best is trial 196 with value: 0.6008859266669034.\n",
      "[I 2023-12-05 19:42:16,614] Trial 438 finished with value: 0.5846708387673326 and parameters: {'model__n_estimators': 310, 'model__max_depth': 16, 'model__learning_rate': 1.0756483166088093, 'model__gamma': 5.090064349765854, 'model__reg_lambda': 0.8869469921277149, 'model__min_child_weight': 1.949214271037763}. Best is trial 196 with value: 0.6008859266669034.\n",
      "[I 2023-12-05 19:42:17,827] Trial 439 finished with value: 0.5830431324745817 and parameters: {'model__n_estimators': 256, 'model__max_depth': 11, 'model__learning_rate': 1.0318914031230306, 'model__gamma': 6.366703890406424, 'model__reg_lambda': 0.9002289384653758, 'model__min_child_weight': 2.191844811198127}. Best is trial 196 with value: 0.6008859266669034.\n",
      "[I 2023-12-05 19:42:19,087] Trial 440 finished with value: 0.5981712613472446 and parameters: {'model__n_estimators': 280, 'model__max_depth': 10, 'model__learning_rate': 1.1779833925352101, 'model__gamma': 6.0227073311307455, 'model__reg_lambda': 0.9400527623730337, 'model__min_child_weight': 1.8729377078452127}. Best is trial 196 with value: 0.6008859266669034.\n",
      "[I 2023-12-05 19:42:20,355] Trial 441 finished with value: 0.5877372943638719 and parameters: {'model__n_estimators': 281, 'model__max_depth': 9, 'model__learning_rate': 1.2180843079999086, 'model__gamma': 6.9153269295786695, 'model__reg_lambda': 0.971339629805186, 'model__min_child_weight': 2.4076896405455392}. Best is trial 196 with value: 0.6008859266669034.\n",
      "[I 2023-12-05 19:42:21,641] Trial 442 finished with value: 0.5974240041631587 and parameters: {'model__n_estimators': 295, 'model__max_depth': 10, 'model__learning_rate': 1.1744082084541676, 'model__gamma': 6.099602790733441, 'model__reg_lambda': 0.976136720736117, 'model__min_child_weight': 1.8530548659907768}. Best is trial 196 with value: 0.6008859266669034.\n",
      "[I 2023-12-05 19:42:22,951] Trial 443 finished with value: 0.5815953433999093 and parameters: {'model__n_estimators': 294, 'model__max_depth': 10, 'model__learning_rate': 1.1709444185725637, 'model__gamma': 10.353636163267106, 'model__reg_lambda': 0.9634908148282301, 'model__min_child_weight': 1.8649249315470242}. Best is trial 196 with value: 0.6008859266669034.\n",
      "[I 2023-12-05 19:42:24,436] Trial 444 finished with value: 0.5911657668067455 and parameters: {'model__n_estimators': 297, 'model__max_depth': 9, 'model__learning_rate': 1.158090981157507, 'model__gamma': 6.561377249660065, 'model__reg_lambda': 0.9855613713568983, 'model__min_child_weight': 1.7937917880719778}. Best is trial 196 with value: 0.6008859266669034.\n",
      "[I 2023-12-05 19:42:25,768] Trial 445 finished with value: 0.5701818864091432 and parameters: {'model__n_estimators': 286, 'model__max_depth': 10, 'model__learning_rate': 1.0522901710106778, 'model__gamma': 2.9524351990721485, 'model__reg_lambda': 0.9510457008002013, 'model__min_child_weight': 1.628383212666779}. Best is trial 196 with value: 0.6008859266669034.\n",
      "[I 2023-12-05 19:42:27,034] Trial 446 finished with value: 0.6019805085459401 and parameters: {'model__n_estimators': 283, 'model__max_depth': 11, 'model__learning_rate': 1.194337879268167, 'model__gamma': 6.0995330233879566, 'model__reg_lambda': 0.9392086443594734, 'model__min_child_weight': 1.727550780168248}. Best is trial 446 with value: 0.6019805085459401.\n",
      "[I 2023-12-05 19:42:28,304] Trial 447 finished with value: 0.5934850782287555 and parameters: {'model__n_estimators': 290, 'model__max_depth': 11, 'model__learning_rate': 1.1920432054209027, 'model__gamma': 6.099857608560313, 'model__reg_lambda': 0.9453342987891327, 'model__min_child_weight': 1.8843186843511148}. Best is trial 446 with value: 0.6019805085459401.\n",
      "[I 2023-12-05 19:42:29,570] Trial 448 finished with value: 0.5826474557514933 and parameters: {'model__n_estimators': 274, 'model__max_depth': 12, 'model__learning_rate': 1.1973145656062427, 'model__gamma': 5.429778912789606, 'model__reg_lambda': 0.9852212485816682, 'model__min_child_weight': 1.7185928459132012}. Best is trial 446 with value: 0.6019805085459401.\n",
      "[I 2023-12-05 19:42:30,860] Trial 449 finished with value: 0.5826098424708049 and parameters: {'model__n_estimators': 283, 'model__max_depth': 11, 'model__learning_rate': 1.2327783412776512, 'model__gamma': 6.0220427191825525, 'model__reg_lambda': 0.9936791192642535, 'model__min_child_weight': 1.998896689040878}. Best is trial 446 with value: 0.6019805085459401.\n",
      "[I 2023-12-05 19:42:32,169] Trial 450 finished with value: 0.5806280791688415 and parameters: {'model__n_estimators': 298, 'model__max_depth': 11, 'model__learning_rate': 1.2012755187929058, 'model__gamma': 6.147992409708395, 'model__reg_lambda': 0.9782137898342447, 'model__min_child_weight': 2.2183238777513856}. Best is trial 446 with value: 0.6019805085459401.\n",
      "[I 2023-12-05 19:42:33,423] Trial 451 finished with value: 0.5794087284999946 and parameters: {'model__n_estimators': 279, 'model__max_depth': 10, 'model__learning_rate': 1.1326053640955474, 'model__gamma': 9.824965145876618, 'model__reg_lambda': 0.9358498874775699, 'model__min_child_weight': 1.802044945312002}. Best is trial 446 with value: 0.6019805085459401.\n",
      "[I 2023-12-05 19:42:34,737] Trial 452 finished with value: 0.5909386950184929 and parameters: {'model__n_estimators': 290, 'model__max_depth': 10, 'model__learning_rate': 1.1671235456603206, 'model__gamma': 5.537656512873029, 'model__reg_lambda': 0.9577006339692042, 'model__min_child_weight': 1.7143416549269628}. Best is trial 446 with value: 0.6019805085459401.\n",
      "[I 2023-12-05 19:42:35,972] Trial 453 finished with value: 0.5797257219477587 and parameters: {'model__n_estimators': 268, 'model__max_depth': 10, 'model__learning_rate': 1.2092488146478113, 'model__gamma': 4.918312841462159, 'model__reg_lambda': 0.9277954901958565, 'model__min_child_weight': 1.6349496707410158}. Best is trial 446 with value: 0.6019805085459401.\n",
      "[I 2023-12-05 19:42:37,244] Trial 454 finished with value: 0.5936013456280347 and parameters: {'model__n_estimators': 279, 'model__max_depth': 10, 'model__learning_rate': 1.2463850822409646, 'model__gamma': 6.77895781458378, 'model__reg_lambda': 0.9297005831323347, 'model__min_child_weight': 1.6093101670133074}. Best is trial 446 with value: 0.6019805085459401.\n",
      "[I 2023-12-05 19:42:38,497] Trial 455 finished with value: 0.578374377805068 and parameters: {'model__n_estimators': 269, 'model__max_depth': 15, 'model__learning_rate': 1.178780103127382, 'model__gamma': 7.335913453889296, 'model__reg_lambda': 0.4664878770605934, 'model__min_child_weight': 1.9621989423118456}. Best is trial 446 with value: 0.6019805085459401.\n",
      "[I 2023-12-05 19:42:39,764] Trial 456 finished with value: 0.590665143762038 and parameters: {'model__n_estimators': 283, 'model__max_depth': 11, 'model__learning_rate': 0.9986094448611572, 'model__gamma': 5.905584633711883, 'model__reg_lambda': 0.9700406950553276, 'model__min_child_weight': 2.426949140484069}. Best is trial 446 with value: 0.6019805085459401.\n",
      "[I 2023-12-05 19:42:41,080] Trial 457 finished with value: 0.589714853014743 and parameters: {'model__n_estimators': 303, 'model__max_depth': 10, 'model__learning_rate': 1.144359299025045, 'model__gamma': 6.397138405575828, 'model__reg_lambda': 0.31897158627752814, 'model__min_child_weight': 0.15239154428280255}. Best is trial 446 with value: 0.6019805085459401.\n",
      "[I 2023-12-05 19:42:42,725] Trial 458 finished with value: 0.5445546733689218 and parameters: {'model__n_estimators': 270, 'model__max_depth': 13, 'model__learning_rate': 0.9732081822036952, 'model__gamma': 0.09716458957305107, 'model__reg_lambda': 0.9054954983265611, 'model__min_child_weight': 1.8679023734431959}. Best is trial 446 with value: 0.6019805085459401.\n",
      "[I 2023-12-05 19:42:44,262] Trial 459 finished with value: 0.5709381793960058 and parameters: {'model__n_estimators': 447, 'model__max_depth': 10, 'model__learning_rate': 1.2477915621087083, 'model__gamma': 5.347304395183669, 'model__reg_lambda': 0.5174459558108357, 'model__min_child_weight': 1.5542158632578225}. Best is trial 446 with value: 0.6019805085459401.\n",
      "[I 2023-12-05 19:42:45,518] Trial 460 finished with value: 0.5851107822246047 and parameters: {'model__n_estimators': 264, 'model__max_depth': 14, 'model__learning_rate': 1.113801206707853, 'model__gamma': 5.711535927245646, 'model__reg_lambda': 0.6330099528809071, 'model__min_child_weight': 1.7393425660938184}. Best is trial 446 with value: 0.6019805085459401.\n",
      "[I 2023-12-05 19:42:46,996] Trial 461 finished with value: 0.562277874642108 and parameters: {'model__n_estimators': 407, 'model__max_depth': 10, 'model__learning_rate': 1.2766436000408765, 'model__gamma': 3.8778728103923745, 'model__reg_lambda': 0.9999101058959527, 'model__min_child_weight': 1.5298106862106955}. Best is trial 446 with value: 0.6019805085459401.\n",
      "[I 2023-12-05 19:42:48,293] Trial 462 finished with value: 0.5823223484720378 and parameters: {'model__n_estimators': 293, 'model__max_depth': 10, 'model__learning_rate': 1.2109036144511371, 'model__gamma': 6.1766736426167785, 'model__reg_lambda': 0.8836496078046793, 'model__min_child_weight': 0.5665124564106104}. Best is trial 446 with value: 0.6019805085459401.\n",
      "[I 2023-12-05 19:42:49,561] Trial 463 finished with value: 0.5836302974034129 and parameters: {'model__n_estimators': 273, 'model__max_depth': 11, 'model__learning_rate': 1.0069913566982813, 'model__gamma': 4.710264980070575, 'model__reg_lambda': 0.5574735740601567, 'model__min_child_weight': 1.432547592808298}. Best is trial 446 with value: 0.6019805085459401.\n",
      "[I 2023-12-05 19:42:50,829] Trial 464 finished with value: 0.5829692926205804 and parameters: {'model__n_estimators': 275, 'model__max_depth': 10, 'model__learning_rate': 1.1653195974368422, 'model__gamma': 6.850978753071563, 'model__reg_lambda': 0.924348432708328, 'model__min_child_weight': 2.8585978545799633}. Best is trial 446 with value: 0.6019805085459401.\n",
      "[I 2023-12-05 19:42:52,086] Trial 465 finished with value: 0.5843805093618838 and parameters: {'model__n_estimators': 284, 'model__max_depth': 9, 'model__learning_rate': 1.1278583585790705, 'model__gamma': 8.174263890516487, 'model__reg_lambda': 0.9412351572860167, 'model__min_child_weight': 1.8129946479192072}. Best is trial 446 with value: 0.6019805085459401.\n",
      "[I 2023-12-05 19:42:53,333] Trial 466 finished with value: 0.5781877336715219 and parameters: {'model__n_estimators': 249, 'model__max_depth': 11, 'model__learning_rate': 1.055616084145596, 'model__gamma': 5.237233178604507, 'model__reg_lambda': 0.6851575008974842, 'model__min_child_weight': 3.4016341523095632}. Best is trial 446 with value: 0.6019805085459401.\n",
      "[I 2023-12-05 19:42:54,811] Trial 467 finished with value: 0.5686177245327098 and parameters: {'model__n_estimators': 429, 'model__max_depth': 10, 'model__learning_rate': 1.0918213462100383, 'model__gamma': 19.652734806997668, 'model__reg_lambda': 0.896283010307063, 'model__min_child_weight': 3.0926725446471157}. Best is trial 446 with value: 0.6019805085459401.\n",
      "[I 2023-12-05 19:42:56,073] Trial 468 finished with value: 0.5735183288331396 and parameters: {'model__n_estimators': 260, 'model__max_depth': 9, 'model__learning_rate': 0.3723023171842222, 'model__gamma': 11.22814162464656, 'model__reg_lambda': 0.7327296784616455, 'model__min_child_weight': 1.70024212073323}. Best is trial 446 with value: 0.6019805085459401.\n",
      "[I 2023-12-05 19:42:57,382] Trial 469 finished with value: 0.5782707121086743 and parameters: {'model__n_estimators': 294, 'model__max_depth': 10, 'model__learning_rate': 0.9671789731624475, 'model__gamma': 4.215197183153761, 'model__reg_lambda': 0.7014007977472865, 'model__min_child_weight': 1.5872790254883526}. Best is trial 446 with value: 0.6019805085459401.\n",
      "[I 2023-12-05 19:42:58,594] Trial 470 finished with value: 0.5768993771087622 and parameters: {'model__n_estimators': 249, 'model__max_depth': 10, 'model__learning_rate': 1.1890089612011874, 'model__gamma': 8.798779193385176, 'model__reg_lambda': 0.9478287462846733, 'model__min_child_weight': 2.8918538924975326}. Best is trial 446 with value: 0.6019805085459401.\n",
      "[I 2023-12-05 19:43:00,013] Trial 471 finished with value: 0.5732723770947064 and parameters: {'model__n_estimators': 375, 'model__max_depth': 9, 'model__learning_rate': 1.3243013845915712, 'model__gamma': 6.479118979581314, 'model__reg_lambda': 0.8784447032693382, 'model__min_child_weight': 0.66856486660755}. Best is trial 446 with value: 0.6019805085459401.\n",
      "[I 2023-12-05 19:43:01,736] Trial 472 finished with value: 0.5574176654277258 and parameters: {'model__n_estimators': 398, 'model__max_depth': 10, 'model__learning_rate': 0.46239453646666806, 'model__gamma': 0.590142129448548, 'model__reg_lambda': 0.5995834357559859, 'model__min_child_weight': 0.4576091251149299}. Best is trial 446 with value: 0.6019805085459401.\n",
      "[I 2023-12-05 19:43:03,186] Trial 473 finished with value: 0.5904030912813815 and parameters: {'model__n_estimators': 385, 'model__max_depth': 10, 'model__learning_rate': 1.2651796390413719, 'model__gamma': 7.757770621565691, 'model__reg_lambda': 0.9122704534158016, 'model__min_child_weight': 2.6416800887370844}. Best is trial 446 with value: 0.6019805085459401.\n",
      "[I 2023-12-05 19:43:04,425] Trial 474 finished with value: 0.5687021117638642 and parameters: {'model__n_estimators': 276, 'model__max_depth': 12, 'model__learning_rate': 1.2987562770484575, 'model__gamma': 15.111563667236648, 'model__reg_lambda': 0.7526049823395993, 'model__min_child_weight': 2.0104322290673458}. Best is trial 446 with value: 0.6019805085459401.\n",
      "[I 2023-12-05 19:43:05,999] Trial 475 finished with value: 0.5517304821930814 and parameters: {'model__n_estimators': 457, 'model__max_depth': 9, 'model__learning_rate': 1.0194704663513865, 'model__gamma': 1.938712816451364, 'model__reg_lambda': 0.9758194688981052, 'model__min_child_weight': 1.3422432858061897}. Best is trial 446 with value: 0.6019805085459401.\n",
      "[I 2023-12-05 19:43:07,418] Trial 476 finished with value: 0.5554638876518618 and parameters: {'model__n_estimators': 356, 'model__max_depth': 11, 'model__learning_rate': 1.4371989100120919, 'model__gamma': 5.7312289412182995, 'model__reg_lambda': 0.8736590494298204, 'model__min_child_weight': 3.9977623106807703}. Best is trial 446 with value: 0.6019805085459401.\n",
      "[I 2023-12-05 19:43:08,852] Trial 477 finished with value: 0.5805619718395486 and parameters: {'model__n_estimators': 304, 'model__max_depth': 8, 'model__learning_rate': 1.1515631537988535, 'model__gamma': 6.081650929561075, 'model__reg_lambda': 0.8897291710915962, 'model__min_child_weight': 2.34953913120267}. Best is trial 446 with value: 0.6019805085459401.\n",
      "[I 2023-12-05 19:43:10,286] Trial 478 finished with value: 0.5902972375445257 and parameters: {'model__n_estimators': 258, 'model__max_depth': 9, 'model__learning_rate': 0.5221320779296201, 'model__gamma': 7.162005640700156, 'model__reg_lambda': 0.7790061736980138, 'model__min_child_weight': 2.2406436776307173}. Best is trial 446 with value: 0.6019805085459401.\n",
      "[I 2023-12-05 19:43:11,746] Trial 479 finished with value: 0.5794460877930544 and parameters: {'model__n_estimators': 264, 'model__max_depth': 10, 'model__learning_rate': 0.09111447963700159, 'model__gamma': 5.071978970922888, 'model__reg_lambda': 0.5368172721564037, 'model__min_child_weight': 1.4744757197347682}. Best is trial 446 with value: 0.6019805085459401.\n",
      "[I 2023-12-05 19:43:13,029] Trial 480 finished with value: 0.5813620425303262 and parameters: {'model__n_estimators': 285, 'model__max_depth': 7, 'model__learning_rate': 0.9287859452202096, 'model__gamma': 5.457302374103121, 'model__reg_lambda': 0.7111804945252606, 'model__min_child_weight': 1.8892545969928476}. Best is trial 446 with value: 0.6019805085459401.\n",
      "[I 2023-12-05 19:43:14,186] Trial 481 finished with value: 0.5705474733057112 and parameters: {'model__n_estimators': 178, 'model__max_depth': 10, 'model__learning_rate': 1.0701198162405245, 'model__gamma': 2.7224128363972566, 'model__reg_lambda': 0.9146624250226283, 'model__min_child_weight': 2.5515679919966945}. Best is trial 446 with value: 0.6019805085459401.\n",
      "[I 2023-12-05 19:43:15,369] Trial 482 finished with value: 0.5621693685290038 and parameters: {'model__n_estimators': 199, 'model__max_depth': 10, 'model__learning_rate': 0.15800272613186694, 'model__gamma': 12.24661542306751, 'model__reg_lambda': 0.48345445714539986, 'model__min_child_weight': 1.6616621654293937}. Best is trial 446 with value: 0.6019805085459401.\n",
      "[I 2023-12-05 19:43:16,594] Trial 483 finished with value: 0.5784832881517452 and parameters: {'model__n_estimators': 245, 'model__max_depth': 9, 'model__learning_rate': 1.2081282888746505, 'model__gamma': 6.388217740040897, 'model__reg_lambda': 0.36534269339914904, 'model__min_child_weight': 1.5923592257080827}. Best is trial 446 with value: 0.6019805085459401.\n",
      "[I 2023-12-05 19:43:17,837] Trial 484 finished with value: 0.5809166839583785 and parameters: {'model__n_estimators': 265, 'model__max_depth': 10, 'model__learning_rate': 1.229228780050625, 'model__gamma': 5.919575236397707, 'model__reg_lambda': 0.8710607069311246, 'model__min_child_weight': 2.9267452632666595}. Best is trial 446 with value: 0.6019805085459401.\n",
      "[I 2023-12-05 19:43:19,077] Trial 485 finished with value: 0.5733334357691493 and parameters: {'model__n_estimators': 277, 'model__max_depth': 9, 'model__learning_rate': 1.1051320772283153, 'model__gamma': 16.03896526283596, 'model__reg_lambda': 0.6476142826758233, 'model__min_child_weight': 1.7786258809668642}. Best is trial 446 with value: 0.6019805085459401.\n",
      "[I 2023-12-05 19:43:20,315] Trial 486 finished with value: 0.5825591815504201 and parameters: {'model__n_estimators': 250, 'model__max_depth': 11, 'model__learning_rate': 1.033479833868659, 'model__gamma': 6.666070702218567, 'model__reg_lambda': 0.9568023272440745, 'model__min_child_weight': 0.37390547173269195}. Best is trial 446 with value: 0.6019805085459401.\n",
      "[I 2023-12-05 19:43:21,650] Trial 487 finished with value: 0.5817770240309806 and parameters: {'model__n_estimators': 309, 'model__max_depth': 10, 'model__learning_rate': 0.9933473809625788, 'model__gamma': 5.57949483393757, 'model__reg_lambda': 0.24313341858825133, 'model__min_child_weight': 1.4268972678467438}. Best is trial 446 with value: 0.6019805085459401.\n",
      "[I 2023-12-05 19:43:22,888] Trial 488 finished with value: 0.5781284351353808 and parameters: {'model__n_estimators': 238, 'model__max_depth': 11, 'model__learning_rate': 0.2896831441205635, 'model__gamma': 9.414317492358752, 'model__reg_lambda': 0.14854982946649775, 'model__min_child_weight': 1.269217813682733}. Best is trial 446 with value: 0.6019805085459401.\n",
      "[I 2023-12-05 19:43:24,439] Trial 489 finished with value: 0.5738826247867582 and parameters: {'model__n_estimators': 293, 'model__max_depth': 10, 'model__learning_rate': 0.2515926608459894, 'model__gamma': 5.074434646456476, 'model__reg_lambda': 0.5699099643587162, 'model__min_child_weight': 0.6100430925941169}. Best is trial 446 with value: 0.6019805085459401.\n",
      "[I 2023-12-05 19:43:25,754] Trial 490 finished with value: 0.5791603858320238 and parameters: {'model__n_estimators': 269, 'model__max_depth': 9, 'model__learning_rate': 0.17212708729619275, 'model__gamma': 6.073877787429094, 'model__reg_lambda': 0.9024174252107913, 'model__min_child_weight': 1.5019451876358842}. Best is trial 446 with value: 0.6019805085459401.\n",
      "[I 2023-12-05 19:43:26,943] Trial 491 finished with value: 0.5890426912859985 and parameters: {'model__n_estimators': 193, 'model__max_depth': 10, 'model__learning_rate': 0.9485357436104431, 'model__gamma': 4.643398271542444, 'model__reg_lambda': 0.7680716346194858, 'model__min_child_weight': 0.725948689310164}. Best is trial 446 with value: 0.6019805085459401.\n",
      "[I 2023-12-05 19:43:28,187] Trial 492 finished with value: 0.5915316317935242 and parameters: {'model__n_estimators': 258, 'model__max_depth': 9, 'model__learning_rate': 0.6129158599481964, 'model__gamma': 5.5806851343531445, 'model__reg_lambda': 0.9425493229127163, 'model__min_child_weight': 1.9664908785228217}. Best is trial 446 with value: 0.6019805085459401.\n",
      "[I 2023-12-05 19:43:29,338] Trial 493 finished with value: 0.5830707012704563 and parameters: {'model__n_estimators': 203, 'model__max_depth': 10, 'model__learning_rate': 0.8133739119643854, 'model__gamma': 7.125265148058695, 'model__reg_lambda': 0.8658324091778407, 'model__min_child_weight': 3.251238811953971}. Best is trial 446 with value: 0.6019805085459401.\n",
      "[I 2023-12-05 19:43:30,822] Trial 494 finished with value: 0.5855070481842782 and parameters: {'model__n_estimators': 415, 'model__max_depth': 10, 'model__learning_rate': 1.1212509789251879, 'model__gamma': 6.34393104297148, 'model__reg_lambda': 0.8905845299697063, 'model__min_child_weight': 2.812266776832544}. Best is trial 446 with value: 0.6019805085459401.\n",
      "[I 2023-12-05 19:43:32,093] Trial 495 finished with value: 0.5974023944593889 and parameters: {'model__n_estimators': 283, 'model__max_depth': 16, 'model__learning_rate': 1.1748919421673845, 'model__gamma': 5.891810735211372, 'model__reg_lambda': 0.791413701889186, 'model__min_child_weight': 1.6403747190434264}. Best is trial 446 with value: 0.6019805085459401.\n",
      "[I 2023-12-05 19:43:33,367] Trial 496 finished with value: 0.5785018066588077 and parameters: {'model__n_estimators': 286, 'model__max_depth': 16, 'model__learning_rate': 1.173053434624795, 'model__gamma': 5.181506388725191, 'model__reg_lambda': 0.7879207766918123, 'model__min_child_weight': 1.6748033420188322}. Best is trial 446 with value: 0.6019805085459401.\n",
      "[I 2023-12-05 19:43:34,650] Trial 497 finished with value: 0.5835136690790877 and parameters: {'model__n_estimators': 279, 'model__max_depth': 16, 'model__learning_rate': 1.198918729273402, 'model__gamma': 5.845069543135057, 'model__reg_lambda': 0.7608056720100296, 'model__min_child_weight': 1.600095254798462}. Best is trial 446 with value: 0.6019805085459401.\n",
      "[I 2023-12-05 19:43:35,949] Trial 498 finished with value: 0.5812090080009353 and parameters: {'model__n_estimators': 300, 'model__max_depth': 9, 'model__learning_rate': 1.1478070309988033, 'model__gamma': 4.395623760358061, 'model__reg_lambda': 0.7945995482294261, 'model__min_child_weight': 1.7858862443351218}. Best is trial 446 with value: 0.6019805085459401.\n",
      "[I 2023-12-05 19:43:37,234] Trial 499 finished with value: 0.5749202695166826 and parameters: {'model__n_estimators': 289, 'model__max_depth': 16, 'model__learning_rate': 1.2468087741625862, 'model__gamma': 5.4863062019718996, 'model__reg_lambda': 0.7341131521097979, 'model__min_child_weight': 1.8623906495906668}. Best is trial 446 with value: 0.6019805085459401.\n"
     ]
    }
   ],
   "source": [
    "study_xgb.optimize(optuna_optimize, n_trials=500)"
   ],
   "metadata": {
    "collapsed": false,
    "ExecuteTime": {
     "end_time": "2023-12-05T16:43:37.289729500Z",
     "start_time": "2023-12-05T16:32:55.575119500Z"
    }
   }
  },
  {
   "cell_type": "code",
   "execution_count": 19,
   "outputs": [
    {
     "name": "stdout",
     "output_type": "stream",
     "text": [
      "Наилучшие значения гиперпараметров XGBoost: {'model__n_estimators': 283, 'model__max_depth': 11, 'model__learning_rate': 1.194337879268167, 'model__gamma': 6.0995330233879566, 'model__reg_lambda': 0.9392086443594734, 'model__min_child_weight': 1.727550780168248}\n",
      "f1_score на обучающем наборе: 0.602\n"
     ]
    }
   ],
   "source": [
    "print(\"Наилучшие значения гиперпараметров XGBoost: {}\".format(study_xgb.best_params))\n",
    "print(\"f1_score на обучающем наборе: {:.3f}\". format(study_xgb.best_value))"
   ],
   "metadata": {
    "collapsed": false,
    "ExecuteTime": {
     "end_time": "2023-12-05T16:43:37.383045700Z",
     "start_time": "2023-12-05T16:43:37.251860600Z"
    }
   }
  },
  {
   "cell_type": "code",
   "execution_count": 20,
   "outputs": [],
   "source": [
    "with mlflow.start_run(nested=True,\n",
    "                      run_name='xgb_pipeline_imbalanced'):\n",
    "\n",
    "    best_params = study_xgb.best_params\n",
    "    best_score = study_xgb.best_value\n",
    "    mlflow.log_params(best_params)\n",
    "\n",
    "    pipe.set_params(**best_params)\n",
    "    pipe.fit(X_train, y_train)\n",
    "    pred_proba = pipe.predict_proba(X_test)[:, 1]\n",
    "    roc_auc_xgb_imb = roc_auc_score(y_test, pred_proba)\n",
    "    \n",
    "    mlflow.log_metrics({\n",
    "        'f1_cv': best_score,\n",
    "        'roc_auc': roc_auc_xgb_imb,\n",
    "        'balanced_accuracy': balanced_accuracy_score(y_test, np.round(pred_proba)),\n",
    "        'f1': f1_score(y_test, np.round(pred_proba))\n",
    "    })\n",
    "\n",
    "    mlflow.sklearn.log_model(pipe, 'xgb_pipeline_imbalanced')"
   ],
   "metadata": {
    "collapsed": false,
    "ExecuteTime": {
     "end_time": "2023-12-05T16:43:46.013122100Z",
     "start_time": "2023-12-05T16:43:37.266848400Z"
    }
   }
  },
  {
   "cell_type": "markdown",
   "source": [
    "# 3. Обучение моделей с учётом дисбаланса классов\n",
    "## 3.1 Назначение разных весов классам (cost-sensitive learning)\n",
    "### 3.1.1 Модель XGBoost"
   ],
   "metadata": {
    "collapsed": false
   }
  },
  {
   "cell_type": "code",
   "execution_count": 21,
   "outputs": [],
   "source": [
    "cat_pipeline = Pipeline([\n",
    "    ('enc', OneHotEncoder(handle_unknown='error', drop='first'))\n",
    "])\n",
    "\n",
    "num_pipeline = Pipeline([\n",
    "    ('imp', SimpleImputer(fill_value=-1, add_indicator=True)),\n",
    "    ('pt', PowerTransformer())\n",
    "])\n",
    "\n",
    "preprocessor = ColumnTransformer([\n",
    "    (\"cat\", cat_pipeline, categorical_features),\n",
    "    (\"num\", num_pipeline, numeric_features)\n",
    "\n",
    "], remainder='passthrough')"
   ],
   "metadata": {
    "collapsed": false,
    "ExecuteTime": {
     "end_time": "2023-12-05T16:43:46.048195Z",
     "start_time": "2023-12-05T16:43:46.018208500Z"
    }
   }
  },
  {
   "cell_type": "code",
   "execution_count": 22,
   "outputs": [],
   "source": [
    "def optuna_optimize(trial):\n",
    "    param = {\n",
    "        'n_estimators': trial.suggest_int('n_estimators', 50, 500),\n",
    "        'max_depth': trial.suggest_int('max_depth', 2, 16),\n",
    "        'learning_rate': trial.suggest_float('learning_rate', 0.01, 1.0),\n",
    "        'gamma': trial.suggest_float('gamma', 0.0, 20.0),\n",
    "        'reg_lambda': trial.suggest_float('reg_lambda', 0.0, 1.0),\n",
    "        'min_child_weight': trial.suggest_float('min_child_weight', 0.0, 5.0)\n",
    "    }\n",
    "\n",
    "    estimator = xgb.XGBClassifier(**param, \n",
    "                                  scale_pos_weight=3.91,\n",
    "                                  random_state=12345)\n",
    "    \n",
    "    xgb_pipe = Pipeline([\n",
    "        ('preprocessor', preprocessor),\n",
    "        ('model', estimator)\n",
    "    ])\n",
    "\n",
    "    score = cross_val_score(xgb_pipe, X_train, y_train, cv=5, scoring='f1').mean()\n",
    "    return score"
   ],
   "metadata": {
    "collapsed": false,
    "ExecuteTime": {
     "end_time": "2023-12-05T16:43:46.077552500Z",
     "start_time": "2023-12-05T16:43:46.035528200Z"
    }
   }
  },
  {
   "cell_type": "code",
   "execution_count": 23,
   "outputs": [
    {
     "name": "stderr",
     "output_type": "stream",
     "text": [
      "[I 2023-12-05 19:43:46,046] A new study created in memory with name: XGBoost Optuna Optimization Class Weight\n"
     ]
    }
   ],
   "source": [
    "study_xgb_cw = optuna.create_study(study_name=\"XGBoost Optuna Optimization Class Weight\",\n",
    "                                direction='maximize')"
   ],
   "metadata": {
    "collapsed": false,
    "ExecuteTime": {
     "end_time": "2023-12-05T16:43:46.077552500Z",
     "start_time": "2023-12-05T16:43:46.048923700Z"
    }
   }
  },
  {
   "cell_type": "code",
   "execution_count": 24,
   "outputs": [
    {
     "name": "stderr",
     "output_type": "stream",
     "text": [
      "[I 2023-12-05 19:43:47,762] Trial 0 finished with value: 0.578608562794247 and parameters: {'n_estimators': 372, 'max_depth': 13, 'learning_rate': 0.4104000041706681, 'gamma': 0.5274295020858877, 'reg_lambda': 0.03741214866282383, 'min_child_weight': 4.65668287251482}. Best is trial 0 with value: 0.578608562794247.\n",
      "[I 2023-12-05 19:43:48,901] Trial 1 finished with value: 0.5786755204460124 and parameters: {'n_estimators': 188, 'max_depth': 16, 'learning_rate': 0.8170634268216561, 'gamma': 7.256431161374232, 'reg_lambda': 0.9597939587443973, 'min_child_weight': 2.8931373711815493}. Best is trial 1 with value: 0.5786755204460124.\n",
      "[I 2023-12-05 19:43:49,879] Trial 2 finished with value: 0.6047322257169843 and parameters: {'n_estimators': 108, 'max_depth': 13, 'learning_rate': 0.20183936231878846, 'gamma': 16.695240030054848, 'reg_lambda': 0.5742969199684046, 'min_child_weight': 1.154510969817455}. Best is trial 2 with value: 0.6047322257169843.\n",
      "[I 2023-12-05 19:43:51,348] Trial 3 finished with value: 0.601576143441999 and parameters: {'n_estimators': 422, 'max_depth': 6, 'learning_rate': 0.4677399563273502, 'gamma': 19.29513840433392, 'reg_lambda': 0.006198298764767185, 'min_child_weight': 1.6207371182459418}. Best is trial 2 with value: 0.6047322257169843.\n",
      "[I 2023-12-05 19:43:53,358] Trial 4 finished with value: 0.6008381174981741 and parameters: {'n_estimators': 247, 'max_depth': 5, 'learning_rate': 0.02249926964455829, 'gamma': 16.77756528597203, 'reg_lambda': 0.8390521659993841, 'min_child_weight': 4.711101733926914}. Best is trial 2 with value: 0.6047322257169843.\n",
      "[I 2023-12-05 19:43:54,677] Trial 5 finished with value: 0.6107533492851879 and parameters: {'n_estimators': 253, 'max_depth': 13, 'learning_rate': 0.19104830451803628, 'gamma': 9.703451038287977, 'reg_lambda': 0.25741069574578623, 'min_child_weight': 1.395085358462358}. Best is trial 5 with value: 0.6107533492851879.\n",
      "[I 2023-12-05 19:43:55,748] Trial 6 finished with value: 0.5873259009081925 and parameters: {'n_estimators': 187, 'max_depth': 9, 'learning_rate': 0.8498569373223194, 'gamma': 13.871881125072207, 'reg_lambda': 0.3785359338724763, 'min_child_weight': 4.983275851597867}. Best is trial 5 with value: 0.6107533492851879.\n",
      "[I 2023-12-05 19:43:56,870] Trial 7 finished with value: 0.6046717543980435 and parameters: {'n_estimators': 171, 'max_depth': 5, 'learning_rate': 0.18032894088551954, 'gamma': 2.891855590839767, 'reg_lambda': 0.06209536800077009, 'min_child_weight': 3.2456181682226886}. Best is trial 5 with value: 0.6107533492851879.\n",
      "[I 2023-12-05 19:43:57,829] Trial 8 finished with value: 0.586787348227043 and parameters: {'n_estimators': 72, 'max_depth': 10, 'learning_rate': 0.4120806091691348, 'gamma': 5.439807065290562, 'reg_lambda': 0.9576220406370237, 'min_child_weight': 3.1876863304147145}. Best is trial 5 with value: 0.6107533492851879.\n",
      "[I 2023-12-05 19:43:59,603] Trial 9 finished with value: 0.6077500302027546 and parameters: {'n_estimators': 491, 'max_depth': 15, 'learning_rate': 0.11926069591811254, 'gamma': 8.558010572198116, 'reg_lambda': 0.8309203464428004, 'min_child_weight': 3.6409949952991507}. Best is trial 5 with value: 0.6107533492851879.\n",
      "[I 2023-12-05 19:44:00,892] Trial 10 finished with value: 0.598848209860161 and parameters: {'n_estimators': 318, 'max_depth': 2, 'learning_rate': 0.6500179880970567, 'gamma': 10.34815717054255, 'reg_lambda': 0.29180693837009225, 'min_child_weight': 0.07071872821373404}. Best is trial 5 with value: 0.6107533492851879.\n",
      "[I 2023-12-05 19:44:02,893] Trial 11 finished with value: 0.6081079114090917 and parameters: {'n_estimators': 476, 'max_depth': 16, 'learning_rate': 0.049918005727530176, 'gamma': 10.372980990181318, 'reg_lambda': 0.6645949089309802, 'min_child_weight': 2.079368194118101}. Best is trial 5 with value: 0.6107533492851879.\n",
      "[I 2023-12-05 19:44:05,039] Trial 12 finished with value: 0.6069120076400557 and parameters: {'n_estimators': 297, 'max_depth': 13, 'learning_rate': 0.02301162453700064, 'gamma': 11.298881468140637, 'reg_lambda': 0.6215223668435463, 'min_child_weight': 2.1335379808117176}. Best is trial 5 with value: 0.6107533492851879.\n",
      "[I 2023-12-05 19:44:06,649] Trial 13 finished with value: 0.6002517792069422 and parameters: {'n_estimators': 494, 'max_depth': 11, 'learning_rate': 0.2774209437876415, 'gamma': 11.775897353815223, 'reg_lambda': 0.4435327274563266, 'min_child_weight': 2.020364610830059}. Best is trial 5 with value: 0.6107533492851879.\n",
      "[I 2023-12-05 19:44:08,161] Trial 14 finished with value: 0.5964828111420781 and parameters: {'n_estimators': 356, 'max_depth': 16, 'learning_rate': 0.2839265280568337, 'gamma': 7.237996194660482, 'reg_lambda': 0.22771903002622407, 'min_child_weight': 1.0929549259921418}. Best is trial 5 with value: 0.6107533492851879.\n",
      "[I 2023-12-05 19:44:10,217] Trial 15 finished with value: 0.6052228763793164 and parameters: {'n_estimators': 242, 'max_depth': 14, 'learning_rate': 0.01864469612098371, 'gamma': 13.295960199615365, 'reg_lambda': 0.5646275167097285, 'min_child_weight': 2.3588429923211556}. Best is trial 5 with value: 0.6107533492851879.\n",
      "[I 2023-12-05 19:44:11,795] Trial 16 finished with value: 0.5981526046179725 and parameters: {'n_estimators': 419, 'max_depth': 11, 'learning_rate': 0.2994070296529181, 'gamma': 8.097008645611758, 'reg_lambda': 0.7156310210616665, 'min_child_weight': 1.3486261727016664}. Best is trial 5 with value: 0.6107533492851879.\n",
      "[I 2023-12-05 19:44:13,395] Trial 17 finished with value: 0.6021084369531426 and parameters: {'n_estimators': 423, 'max_depth': 8, 'learning_rate': 0.12830035075143123, 'gamma': 9.49052130214496, 'reg_lambda': 0.4324159242226034, 'min_child_weight': 0.5513812387202257}. Best is trial 5 with value: 0.6107533492851879.\n",
      "[I 2023-12-05 19:44:14,656] Trial 18 finished with value: 0.5840187756009848 and parameters: {'n_estimators': 249, 'max_depth': 12, 'learning_rate': 0.5762015630685604, 'gamma': 6.021852213394583, 'reg_lambda': 0.18248217111828935, 'min_child_weight': 1.764558670351167}. Best is trial 5 with value: 0.6107533492851879.\n",
      "[I 2023-12-05 19:44:15,744] Trial 19 finished with value: 0.5992095412295808 and parameters: {'n_estimators': 142, 'max_depth': 15, 'learning_rate': 0.3495808652218073, 'gamma': 9.596148169834287, 'reg_lambda': 0.37440354152374666, 'min_child_weight': 2.5551410849348546}. Best is trial 5 with value: 0.6107533492851879.\n",
      "[I 2023-12-05 19:44:17,379] Trial 20 finished with value: 0.6022712784317616 and parameters: {'n_estimators': 354, 'max_depth': 14, 'learning_rate': 0.20492181688060757, 'gamma': 4.8443662154192735, 'reg_lambda': 0.5309259478267712, 'min_child_weight': 0.7993447698225404}. Best is trial 5 with value: 0.6107533492851879.\n",
      "[I 2023-12-05 19:44:19,181] Trial 21 finished with value: 0.6046351260553474 and parameters: {'n_estimators': 500, 'max_depth': 16, 'learning_rate': 0.11609403240054265, 'gamma': 9.504116032354798, 'reg_lambda': 0.7240392162219533, 'min_child_weight': 3.6541257717980025}. Best is trial 5 with value: 0.6107533492851879.\n",
      "[I 2023-12-05 19:44:21,005] Trial 22 finished with value: 0.6069877095681561 and parameters: {'n_estimators': 457, 'max_depth': 15, 'learning_rate': 0.10451147279854914, 'gamma': 7.899244929031551, 'reg_lambda': 0.6745199000907857, 'min_child_weight': 1.7823924874652874}. Best is trial 5 with value: 0.6107533492851879.\n",
      "[I 2023-12-05 19:44:22,695] Trial 23 finished with value: 0.6074700165888179 and parameters: {'n_estimators': 454, 'max_depth': 14, 'learning_rate': 0.10153870000603758, 'gamma': 12.106288583290464, 'reg_lambda': 0.8059115497939626, 'min_child_weight': 2.5516161728745077}. Best is trial 5 with value: 0.6107533492851879.\n",
      "[I 2023-12-05 19:44:24,209] Trial 24 finished with value: 0.6050889942646395 and parameters: {'n_estimators': 389, 'max_depth': 15, 'learning_rate': 0.2562995475174557, 'gamma': 8.653870739747799, 'reg_lambda': 0.8065740404912096, 'min_child_weight': 3.8734260753273606}. Best is trial 5 with value: 0.6107533492851879.\n",
      "[I 2023-12-05 19:44:25,597] Trial 25 finished with value: 0.607362123544268 and parameters: {'n_estimators': 309, 'max_depth': 12, 'learning_rate': 0.1641721600189835, 'gamma': 10.80392649821962, 'reg_lambda': 0.6200773078017828, 'min_child_weight': 1.4785989328753986}. Best is trial 5 with value: 0.6107533492851879.\n",
      "[I 2023-12-05 19:44:27,343] Trial 26 finished with value: 0.6078008489690453 and parameters: {'n_estimators': 462, 'max_depth': 16, 'learning_rate': 0.07928695882900536, 'gamma': 12.639565859851286, 'reg_lambda': 0.5005225952994299, 'min_child_weight': 2.1094890899752077}. Best is trial 5 with value: 0.6107533492851879.\n",
      "[I 2023-12-05 19:44:29,140] Trial 27 finished with value: 0.6071947228839827 and parameters: {'n_estimators': 459, 'max_depth': 16, 'learning_rate': 0.05811320771207118, 'gamma': 13.533758671723234, 'reg_lambda': 0.4921388558948304, 'min_child_weight': 1.9762358446589035}. Best is trial 5 with value: 0.6107533492851879.\n",
      "[I 2023-12-05 19:44:30,528] Trial 28 finished with value: 0.6027819219886066 and parameters: {'n_estimators': 334, 'max_depth': 14, 'learning_rate': 0.21718684210113226, 'gamma': 12.635658987999847, 'reg_lambda': 0.49906990227581893, 'min_child_weight': 1.5108194654422367}. Best is trial 5 with value: 0.6107533492851879.\n",
      "[I 2023-12-05 19:44:31,990] Trial 29 finished with value: 0.6019933109838084 and parameters: {'n_estimators': 392, 'max_depth': 12, 'learning_rate': 0.35928614237490625, 'gamma': 14.769438916791897, 'reg_lambda': 0.33694815095455316, 'min_child_weight': 2.3393417726156827}. Best is trial 5 with value: 0.6107533492851879.\n",
      "[I 2023-12-05 19:44:33,489] Trial 30 finished with value: 0.6024638407390042 and parameters: {'n_estimators': 279, 'max_depth': 8, 'learning_rate': 0.06390982024500018, 'gamma': 11.329265454345782, 'reg_lambda': 0.42324123329209057, 'min_child_weight': 1.8948614508723434}. Best is trial 5 with value: 0.6107533492851879.\n",
      "[I 2023-12-05 19:44:35,177] Trial 31 finished with value: 0.6040976142687093 and parameters: {'n_estimators': 474, 'max_depth': 15, 'learning_rate': 0.13922346482496611, 'gamma': 10.433538367184543, 'reg_lambda': 0.6359766617372242, 'min_child_weight': 2.738653072303299}. Best is trial 5 with value: 0.6107533492851879.\n",
      "[I 2023-12-05 19:44:37,033] Trial 32 finished with value: 0.6076258581131203 and parameters: {'n_estimators': 440, 'max_depth': 16, 'learning_rate': 0.08061312698344711, 'gamma': 8.53981067812658, 'reg_lambda': 0.5454613630271233, 'min_child_weight': 2.131534249373849}. Best is trial 5 with value: 0.6107533492851879.\n",
      "[I 2023-12-05 19:44:38,393] Trial 33 finished with value: 0.6028258555424131 and parameters: {'n_estimators': 219, 'max_depth': 13, 'learning_rate': 0.16867668508460476, 'gamma': 6.836303138163958, 'reg_lambda': 0.4835634625318897, 'min_child_weight': 2.763738786599534}. Best is trial 5 with value: 0.6107533492851879.\n",
      "[I 2023-12-05 19:44:40,032] Trial 34 finished with value: 0.6052531377776538 and parameters: {'n_estimators': 485, 'max_depth': 15, 'learning_rate': 0.24070967414551567, 'gamma': 9.59477832474453, 'reg_lambda': 0.7408216713284954, 'min_child_weight': 4.013643329128498}. Best is trial 5 with value: 0.6107533492851879.\n",
      "[I 2023-12-05 19:44:42,802] Trial 35 finished with value: 0.6052502622965198 and parameters: {'n_estimators': 399, 'max_depth': 16, 'learning_rate': 0.013900183007646297, 'gamma': 12.062498519771072, 'reg_lambda': 0.9116482798273147, 'min_child_weight': 2.2982831721499473}. Best is trial 5 with value: 0.6107533492851879.\n",
      "[I 2023-12-05 19:44:44,472] Trial 36 finished with value: 0.6071722142939393 and parameters: {'n_estimators': 470, 'max_depth': 13, 'learning_rate': 0.18560227244350158, 'gamma': 10.753058507289945, 'reg_lambda': 0.5782390427340999, 'min_child_weight': 1.6697792583053772}. Best is trial 5 with value: 0.6107533492851879.\n",
      "[I 2023-12-05 19:44:46,146] Trial 37 finished with value: 0.6045402521048002 and parameters: {'n_estimators': 435, 'max_depth': 14, 'learning_rate': 0.06973786091308834, 'gamma': 15.389491773581836, 'reg_lambda': 0.7631168058438864, 'min_child_weight': 3.0092535707319454}. Best is trial 5 with value: 0.6107533492851879.\n",
      "[I 2023-12-05 19:44:47,296] Trial 38 finished with value: 0.5954994545296092 and parameters: {'n_estimators': 216, 'max_depth': 2, 'learning_rate': 0.15080683842305226, 'gamma': 12.904771670206793, 'reg_lambda': 0.872382868606081, 'min_child_weight': 1.2752819244181728}. Best is trial 5 with value: 0.6107533492851879.\n",
      "[I 2023-12-05 19:44:48,451] Trial 39 finished with value: 0.6042498888969765 and parameters: {'n_estimators': 141, 'max_depth': 15, 'learning_rate': 0.2126748636135402, 'gamma': 8.691118346568148, 'reg_lambda': 0.9931555530772442, 'min_child_weight': 4.383362241125332}. Best is trial 5 with value: 0.6107533492851879.\n",
      "[I 2023-12-05 19:44:49,950] Trial 40 finished with value: 0.6049786184940802 and parameters: {'n_estimators': 376, 'max_depth': 13, 'learning_rate': 0.12382838191246351, 'gamma': 14.163372594957947, 'reg_lambda': 0.6517222839688191, 'min_child_weight': 3.019600409364249}. Best is trial 5 with value: 0.6107533492851879.\n",
      "[I 2023-12-05 19:44:51,829] Trial 41 finished with value: 0.6078291963221163 and parameters: {'n_estimators': 441, 'max_depth': 16, 'learning_rate': 0.07868292335995943, 'gamma': 8.383793264197973, 'reg_lambda': 0.5604377593520696, 'min_child_weight': 2.2207486088500876}. Best is trial 5 with value: 0.6107533492851879.\n",
      "[I 2023-12-05 19:44:53,658] Trial 42 finished with value: 0.6078755044287203 and parameters: {'n_estimators': 418, 'max_depth': 16, 'learning_rate': 0.06101622388630799, 'gamma': 10.086332780934509, 'reg_lambda': 0.5846009271351913, 'min_child_weight': 2.0969643581243047}. Best is trial 5 with value: 0.6107533492851879.\n",
      "[I 2023-12-05 19:44:55,512] Trial 43 finished with value: 0.6088952478553121 and parameters: {'n_estimators': 409, 'max_depth': 16, 'learning_rate': 0.058604425856803526, 'gamma': 10.350134126695055, 'reg_lambda': 0.5896770881103202, 'min_child_weight': 2.07229594788002}. Best is trial 5 with value: 0.6107533492851879.\n",
      "[I 2023-12-05 19:44:59,174] Trial 44 finished with value: 0.6087072819737518 and parameters: {'n_estimators': 409, 'max_depth': 16, 'learning_rate': 0.010443635113632777, 'gamma': 10.165431523007708, 'reg_lambda': 0.6835793078676056, 'min_child_weight': 1.6610235147546994}. Best is trial 5 with value: 0.6107533492851879.\n",
      "[I 2023-12-05 19:45:02,767] Trial 45 finished with value: 0.6101235801999039 and parameters: {'n_estimators': 410, 'max_depth': 14, 'learning_rate': 0.01349469267770053, 'gamma': 10.137955810024923, 'reg_lambda': 0.6704019217424748, 'min_child_weight': 1.6582318568404468}. Best is trial 5 with value: 0.6107533492851879.\n",
      "[I 2023-12-05 19:45:05,022] Trial 46 finished with value: 0.6059938843784725 and parameters: {'n_estimators': 342, 'max_depth': 14, 'learning_rate': 0.022148882652132162, 'gamma': 11.316280036367573, 'reg_lambda': 0.68883128161861, 'min_child_weight': 1.6414835694149372}. Best is trial 5 with value: 0.6107533492851879.\n",
      "[I 2023-12-05 19:45:08,126] Trial 47 finished with value: 0.6056079027031549 and parameters: {'n_estimators': 283, 'max_depth': 10, 'learning_rate': 0.010900270199647621, 'gamma': 10.308703640956073, 'reg_lambda': 0.6727873303209825, 'min_child_weight': 1.1128785516418676}. Best is trial 5 with value: 0.6107533492851879.\n",
      "[I 2023-12-05 19:45:09,633] Trial 48 finished with value: 0.6068310029828957 and parameters: {'n_estimators': 364, 'max_depth': 11, 'learning_rate': 0.1613017376766985, 'gamma': 11.690343710708845, 'reg_lambda': 0.6069157141488525, 'min_child_weight': 1.8102095870502377}. Best is trial 5 with value: 0.6107533492851879.\n",
      "[I 2023-12-05 19:45:11,850] Trial 49 finished with value: 0.6051737231955923 and parameters: {'n_estimators': 405, 'max_depth': 15, 'learning_rate': 0.04432515065471414, 'gamma': 7.4425297536098505, 'reg_lambda': 0.7680510752834331, 'min_child_weight': 1.4946844874899314}. Best is trial 5 with value: 0.6107533492851879.\n",
      "[I 2023-12-05 19:45:13,401] Trial 50 finished with value: 0.6050173324629581 and parameters: {'n_estimators': 326, 'max_depth': 13, 'learning_rate': 0.10457165327908836, 'gamma': 9.106028703947407, 'reg_lambda': 0.6428903716094123, 'min_child_weight': 1.9246074282338985}. Best is trial 5 with value: 0.6107533492851879.\n",
      "[I 2023-12-05 19:45:15,330] Trial 51 finished with value: 0.6102567539556109 and parameters: {'n_estimators': 410, 'max_depth': 16, 'learning_rate': 0.046912206950102946, 'gamma': 10.033274635224851, 'reg_lambda': 0.5846697633682811, 'min_child_weight': 1.9915080397074771}. Best is trial 5 with value: 0.6107533492851879.\n",
      "[I 2023-12-05 19:45:16,980] Trial 52 finished with value: 0.5960143925784875 and parameters: {'n_estimators': 377, 'max_depth': 4, 'learning_rate': 0.042463250666635956, 'gamma': 9.855834426908215, 'reg_lambda': 0.7035522506480172, 'min_child_weight': 1.6620092325930027}. Best is trial 5 with value: 0.6107533492851879.\n",
      "[I 2023-12-05 19:45:18,932] Trial 53 finished with value: 0.6038593621052666 and parameters: {'n_estimators': 412, 'max_depth': 15, 'learning_rate': 0.04305494796852545, 'gamma': 10.980361702194074, 'reg_lambda': 0.6026258180007986, 'min_child_weight': 1.3657031726247002}. Best is trial 5 with value: 0.6107533492851879.\n",
      "[I 2023-12-05 19:45:20,613] Trial 54 finished with value: 0.6063454231825605 and parameters: {'n_estimators': 433, 'max_depth': 14, 'learning_rate': 0.1397621078994325, 'gamma': 9.252033466201638, 'reg_lambda': 0.679144911328321, 'min_child_weight': 1.8905913117865192}. Best is trial 5 with value: 0.6107533492851879.\n",
      "[I 2023-12-05 19:45:21,750] Trial 55 finished with value: 0.6078325366772489 and parameters: {'n_estimators': 76, 'max_depth': 16, 'learning_rate': 0.09903700272174626, 'gamma': 10.205318846301724, 'reg_lambda': 0.6373898485291942, 'min_child_weight': 2.4143708327194457}. Best is trial 5 with value: 0.6107533492851879.\n",
      "[I 2023-12-05 19:45:24,719] Trial 56 finished with value: 0.6084790238735623 and parameters: {'n_estimators': 380, 'max_depth': 14, 'learning_rate': 0.02014644941120229, 'gamma': 7.783980124272037, 'reg_lambda': 0.5324542891712976, 'min_child_weight': 0.9376096394129145}. Best is trial 5 with value: 0.6107533492851879.\n",
      "[I 2023-12-05 19:45:28,626] Trial 57 finished with value: 0.6067613766439972 and parameters: {'n_estimators': 264, 'max_depth': 12, 'learning_rate': 0.011141809552920094, 'gamma': 7.506384407089489, 'reg_lambda': 0.538268860421145, 'min_child_weight': 1.1453857974846855}. Best is trial 5 with value: 0.6107533492851879.\n",
      "[I 2023-12-05 19:45:30,142] Trial 58 finished with value: 0.6050398013647194 and parameters: {'n_estimators': 307, 'max_depth': 14, 'learning_rate': 0.1847181574224202, 'gamma': 6.65918682416427, 'reg_lambda': 0.5863639786111395, 'min_child_weight': 0.9684242713024263}. Best is trial 5 with value: 0.6107533492851879.\n",
      "[I 2023-12-05 19:45:31,943] Trial 59 finished with value: 0.6047533100612059 and parameters: {'n_estimators': 376, 'max_depth': 7, 'learning_rate': 0.10430212818062828, 'gamma': 8.032822849251883, 'reg_lambda': 0.529930360606595, 'min_child_weight': 0.8297433149503233}. Best is trial 5 with value: 0.6107533492851879.\n",
      "[I 2023-12-05 19:45:33,991] Trial 60 finished with value: 0.6085757270069092 and parameters: {'n_estimators': 390, 'max_depth': 15, 'learning_rate': 0.042443395389998084, 'gamma': 9.130298408711333, 'reg_lambda': 0.4535434680460805, 'min_child_weight': 1.318657006109301}. Best is trial 5 with value: 0.6107533492851879.\n",
      "[I 2023-12-05 19:45:35,898] Trial 61 finished with value: 0.6088136926319863 and parameters: {'n_estimators': 349, 'max_depth': 15, 'learning_rate': 0.04628584604294385, 'gamma': 9.15154688678117, 'reg_lambda': 0.44323605451390957, 'min_child_weight': 1.3470414062719844}. Best is trial 5 with value: 0.6107533492851879.\n",
      "[I 2023-12-05 19:45:37,632] Trial 62 finished with value: 0.6068245302099919 and parameters: {'n_estimators': 351, 'max_depth': 15, 'learning_rate': 0.07831781391687051, 'gamma': 9.129336886657779, 'reg_lambda': 0.45009632698442414, 'min_child_weight': 1.2936592676289667}. Best is trial 5 with value: 0.6107533492851879.\n",
      "[I 2023-12-05 19:45:39,492] Trial 63 finished with value: 0.6098045121989084 and parameters: {'n_estimators': 399, 'max_depth': 15, 'learning_rate': 0.050449907467926866, 'gamma': 10.844964744611735, 'reg_lambda': 0.38031729219368693, 'min_child_weight': 1.7283001948892238}. Best is trial 5 with value: 0.6107533492851879.\n",
      "[I 2023-12-05 19:45:41,154] Trial 64 finished with value: 0.607425908814209 and parameters: {'n_estimators': 409, 'max_depth': 16, 'learning_rate': 0.1349536037808279, 'gamma': 10.894812059759213, 'reg_lambda': 0.276734609837963, 'min_child_weight': 1.5239110147415527}. Best is trial 5 with value: 0.6107533492851879.\n",
      "[I 2023-12-05 19:45:42,828] Trial 65 finished with value: 0.6074274522271027 and parameters: {'n_estimators': 424, 'max_depth': 15, 'learning_rate': 0.09431573919587288, 'gamma': 12.147828138548714, 'reg_lambda': 0.40413795416654075, 'min_child_weight': 1.7159632582940363}. Best is trial 5 with value: 0.6107533492851879.\n",
      "[I 2023-12-05 19:45:44,707] Trial 66 finished with value: 0.6061229670994699 and parameters: {'n_estimators': 361, 'max_depth': 13, 'learning_rate': 0.04821751292323653, 'gamma': 9.827909770696701, 'reg_lambda': 0.3589812906427666, 'min_child_weight': 1.988839502275086}. Best is trial 5 with value: 0.6107533492851879.\n",
      "[I 2023-12-05 19:45:46,067] Trial 67 finished with value: 0.6038826827964444 and parameters: {'n_estimators': 230, 'max_depth': 15, 'learning_rate': 0.1157353192799851, 'gamma': 11.412587716707788, 'reg_lambda': 0.3993460977172179, 'min_child_weight': 1.8090802454431256}. Best is trial 5 with value: 0.6107533492851879.\n",
      "[I 2023-12-05 19:45:47,723] Trial 68 finished with value: 0.6037885519216608 and parameters: {'n_estimators': 445, 'max_depth': 16, 'learning_rate': 0.1546292223056935, 'gamma': 10.561598181359734, 'reg_lambda': 0.32265398047111454, 'min_child_weight': 1.5925619417547299}. Best is trial 5 with value: 0.6107533492851879.\n",
      "[I 2023-12-05 19:45:49,464] Trial 69 finished with value: 0.609174897245865 and parameters: {'n_estimators': 395, 'max_depth': 14, 'learning_rate': 0.07441938804534927, 'gamma': 9.88236206903562, 'reg_lambda': 0.47224193061001224, 'min_child_weight': 2.2056439741561213}. Best is trial 5 with value: 0.6107533492851879.\n",
      "[I 2023-12-05 19:45:50,902] Trial 70 finished with value: 0.5976466883280236 and parameters: {'n_estimators': 340, 'max_depth': 12, 'learning_rate': 0.22840161723016528, 'gamma': 8.649122649738437, 'reg_lambda': 0.48057690366276984, 'min_child_weight': 2.2491949127431985}. Best is trial 5 with value: 0.6107533492851879.\n",
      "[I 2023-12-05 19:45:52,706] Trial 71 finished with value: 0.6084351166541854 and parameters: {'n_estimators': 400, 'max_depth': 14, 'learning_rate': 0.07237544469430944, 'gamma': 9.65083251875121, 'reg_lambda': 0.3910520706070172, 'min_child_weight': 2.0303517069511217}. Best is trial 5 with value: 0.6107533492851879.\n",
      "[I 2023-12-05 19:45:54,658] Trial 72 finished with value: 0.6030501167888792 and parameters: {'n_estimators': 427, 'max_depth': 15, 'learning_rate': 0.04542919093660715, 'gamma': 10.798583550112092, 'reg_lambda': 0.4221660100614357, 'min_child_weight': 1.8518170942928907}. Best is trial 5 with value: 0.6107533492851879.\n",
      "[I 2023-12-05 19:45:56,234] Trial 73 finished with value: 0.6053165991155126 and parameters: {'n_estimators': 389, 'max_depth': 16, 'learning_rate': 0.18819586516274583, 'gamma': 10.061081732685512, 'reg_lambda': 0.5982707220557745, 'min_child_weight': 1.44629739166371}. Best is trial 5 with value: 0.6107533492851879.\n",
      "[I 2023-12-05 19:45:58,164] Trial 74 finished with value: 0.6058308411446071 and parameters: {'n_estimators': 450, 'max_depth': 14, 'learning_rate': 0.12021622867456444, 'gamma': 11.60638188476154, 'reg_lambda': 0.4662978196126622, 'min_child_weight': 2.5062293152062107}. Best is trial 5 with value: 0.6107533492851879.\n",
      "[I 2023-12-05 19:45:59,586] Trial 75 finished with value: 0.6080888035653527 and parameters: {'n_estimators': 259, 'max_depth': 15, 'learning_rate': 0.08431276052965168, 'gamma': 12.126258575797749, 'reg_lambda': 0.5237036357097727, 'min_child_weight': 1.7130261320978701}. Best is trial 5 with value: 0.6107533492851879.\n",
      "[I 2023-12-05 19:46:02,958] Trial 76 finished with value: 0.6051812017700547 and parameters: {'n_estimators': 295, 'max_depth': 13, 'learning_rate': 0.01246901040895565, 'gamma': 8.900558103995333, 'reg_lambda': 0.16968403563428947, 'min_child_weight': 2.0564210935211724}. Best is trial 5 with value: 0.6107533492851879.\n",
      "[I 2023-12-05 19:46:04,755] Trial 77 finished with value: 0.6094519851128883 and parameters: {'n_estimators': 412, 'max_depth': 16, 'learning_rate': 0.060700938016910275, 'gamma': 10.983919462492985, 'reg_lambda': 0.5019203481564367, 'min_child_weight': 2.2027974773825094}. Best is trial 5 with value: 0.6107533492851879.\n",
      "[I 2023-12-05 19:46:06,268] Trial 78 finished with value: 0.6041404277490601 and parameters: {'n_estimators': 366, 'max_depth': 14, 'learning_rate': 0.1415734471531919, 'gamma': 11.040831160151594, 'reg_lambda': 0.5579931183356871, 'min_child_weight': 2.2544224448281924}. Best is trial 5 with value: 0.6107533492851879.\n",
      "[I 2023-12-05 19:46:07,830] Trial 79 finished with value: 0.6046157243618462 and parameters: {'n_estimators': 198, 'max_depth': 16, 'learning_rate': 0.06580163380664189, 'gamma': 8.190713050768856, 'reg_lambda': 0.4501777913702604, 'min_child_weight': 2.20270141319108}. Best is trial 5 with value: 0.6107533492851879.\n",
      "[I 2023-12-05 19:46:09,569] Trial 80 finished with value: 0.6099051669653869 and parameters: {'n_estimators': 422, 'max_depth': 15, 'learning_rate': 0.09747058622090854, 'gamma': 9.540891230525764, 'reg_lambda': 0.5047176961878449, 'min_child_weight': 2.469640107395001}. Best is trial 5 with value: 0.6107533492851879.\n",
      "[I 2023-12-05 19:46:11,271] Trial 81 finished with value: 0.6096177587711556 and parameters: {'n_estimators': 422, 'max_depth': 15, 'learning_rate': 0.10140155788200426, 'gamma': 9.496223863658852, 'reg_lambda': 0.4956723700551045, 'min_child_weight': 2.387597634335207}. Best is trial 5 with value: 0.6107533492851879.\n",
      "[I 2023-12-05 19:46:13,010] Trial 82 finished with value: 0.6083288035174601 and parameters: {'n_estimators': 420, 'max_depth': 16, 'learning_rate': 0.09751508645817594, 'gamma': 9.585676871338544, 'reg_lambda': 0.48377594522090905, 'min_child_weight': 2.4074296150038004}. Best is trial 5 with value: 0.6107533492851879.\n",
      "[I 2023-12-05 19:46:14,713] Trial 83 finished with value: 0.603916119228492 and parameters: {'n_estimators': 483, 'max_depth': 15, 'learning_rate': 0.16671684094261308, 'gamma': 10.526023623591733, 'reg_lambda': 0.4978735650393965, 'min_child_weight': 2.5607123360293165}. Best is trial 5 with value: 0.6107533492851879.\n",
      "[I 2023-12-05 19:46:16,426] Trial 84 finished with value: 0.6033236379528356 and parameters: {'n_estimators': 467, 'max_depth': 14, 'learning_rate': 0.12386889271973262, 'gamma': 11.236342546616362, 'reg_lambda': 0.5132501076372725, 'min_child_weight': 2.1225463982304236}. Best is trial 5 with value: 0.6107533492851879.\n",
      "[I 2023-12-05 19:46:18,166] Trial 85 finished with value: 0.6089859056790352 and parameters: {'n_estimators': 435, 'max_depth': 10, 'learning_rate': 0.0874857526913933, 'gamma': 9.706234111421592, 'reg_lambda': 0.5585364303042509, 'min_child_weight': 2.6730214666091836}. Best is trial 5 with value: 0.6107533492851879.\n",
      "[I 2023-12-05 19:46:19,876] Trial 86 finished with value: 0.6014901722990359 and parameters: {'n_estimators': 453, 'max_depth': 6, 'learning_rate': 0.09414741022973296, 'gamma': 8.583841899529613, 'reg_lambda': 0.561739684463369, 'min_child_weight': 2.6529069681705955}. Best is trial 5 with value: 0.6107533492851879.\n",
      "[I 2023-12-05 19:46:21,461] Trial 87 finished with value: 0.6064590727978607 and parameters: {'n_estimators': 433, 'max_depth': 10, 'learning_rate': 0.20300804469396433, 'gamma': 9.940308222470996, 'reg_lambda': 0.5099918251986553, 'min_child_weight': 2.7912343934051904}. Best is trial 5 with value: 0.6107533492851879.\n",
      "[I 2023-12-05 19:46:23,005] Trial 88 finished with value: 0.6008253906632521 and parameters: {'n_estimators': 396, 'max_depth': 8, 'learning_rate': 0.1452281577587829, 'gamma': 9.532084699691541, 'reg_lambda': 0.5479224226004116, 'min_child_weight': 2.450016062542507}. Best is trial 5 with value: 0.6107533492851879.\n",
      "[I 2023-12-05 19:46:24,558] Trial 89 finished with value: 0.6002888393099233 and parameters: {'n_estimators': 442, 'max_depth': 13, 'learning_rate': 0.25181224783654316, 'gamma': 11.927363633448266, 'reg_lambda': 0.4239622512567389, 'min_child_weight': 2.342393490313248}. Best is trial 5 with value: 0.6107533492851879.\n",
      "[I 2023-12-05 19:46:26,298] Trial 90 finished with value: 0.6050837007448836 and parameters: {'n_estimators': 385, 'max_depth': 9, 'learning_rate': 0.07581202852077402, 'gamma': 8.259725386081064, 'reg_lambda': 0.4690901867735971, 'min_child_weight': 2.5400662335796356}. Best is trial 5 with value: 0.6107533492851879.\n",
      "[I 2023-12-05 19:46:28,344] Trial 91 finished with value: 0.6054566796244831 and parameters: {'n_estimators': 413, 'max_depth': 15, 'learning_rate': 0.03903015420310499, 'gamma': 10.415759336976434, 'reg_lambda': 0.6250500661227971, 'min_child_weight': 1.9242536035386142}. Best is trial 5 with value: 0.6107533492851879.\n",
      "[I 2023-12-05 19:46:29,968] Trial 92 finished with value: 0.6092813647946472 and parameters: {'n_estimators': 402, 'max_depth': 14, 'learning_rate': 0.11982007157983168, 'gamma': 10.57873801730592, 'reg_lambda': 0.5767721760888486, 'min_child_weight': 2.1909909363923696}. Best is trial 5 with value: 0.6107533492851879.\n",
      "[I 2023-12-05 19:46:31,574] Trial 93 finished with value: 0.6077917702896984 and parameters: {'n_estimators': 402, 'max_depth': 11, 'learning_rate': 0.12348402294392517, 'gamma': 11.11450435746016, 'reg_lambda': 0.5115632951913023, 'min_child_weight': 2.2015002417415523}. Best is trial 5 with value: 0.6107533492851879.\n",
      "[I 2023-12-05 19:46:33,188] Trial 94 finished with value: 0.5992760745214379 and parameters: {'n_estimators': 429, 'max_depth': 14, 'learning_rate': 0.18087373982183416, 'gamma': 9.432645502240678, 'reg_lambda': 0.565430104975894, 'min_child_weight': 2.3085605781554293}. Best is trial 5 with value: 0.6107533492851879.\n",
      "[I 2023-12-05 19:46:35,331] Trial 95 finished with value: 0.605769995560719 and parameters: {'n_estimators': 461, 'max_depth': 13, 'learning_rate': 0.03369537512379667, 'gamma': 10.756876289646476, 'reg_lambda': 0.6091608802254622, 'min_child_weight': 2.6459097207039837}. Best is trial 5 with value: 0.6107533492851879.\n",
      "[I 2023-12-05 19:46:37,198] Trial 96 finished with value: 0.607084965092789 and parameters: {'n_estimators': 417, 'max_depth': 12, 'learning_rate': 0.06603123821429509, 'gamma': 8.829189117380883, 'reg_lambda': 0.5747317962355905, 'min_child_weight': 1.9792510312192335}. Best is trial 5 with value: 0.6107533492851879.\n",
      "[I 2023-12-05 19:46:38,810] Trial 97 finished with value: 0.6043397681635108 and parameters: {'n_estimators': 371, 'max_depth': 10, 'learning_rate': 0.10796726948257344, 'gamma': 9.982393715913796, 'reg_lambda': 0.47234216796306877, 'min_child_weight': 2.369278636423607}. Best is trial 5 with value: 0.6107533492851879.\n",
      "[I 2023-12-05 19:46:40,357] Trial 98 finished with value: 0.6042843177139071 and parameters: {'n_estimators': 401, 'max_depth': 14, 'learning_rate': 0.15909913630566308, 'gamma': 11.47280468353689, 'reg_lambda': 0.5443835124789099, 'min_child_weight': 2.1871178700576306}. Best is trial 5 with value: 0.6107533492851879.\n",
      "[I 2023-12-05 19:46:42,081] Trial 99 finished with value: 0.606119458173775 and parameters: {'n_estimators': 443, 'max_depth': 15, 'learning_rate': 0.08673951497297208, 'gamma': 12.534795981521395, 'reg_lambda': 0.6485889361089515, 'min_child_weight': 1.8033598840729046}. Best is trial 5 with value: 0.6107533492851879.\n",
      "[I 2023-12-05 19:46:43,977] Trial 100 finished with value: 0.6096507974657406 and parameters: {'n_estimators': 428, 'max_depth': 13, 'learning_rate': 0.061309808439954386, 'gamma': 9.298424890296625, 'reg_lambda': 0.49765850865894984, 'min_child_weight': 2.860847268620917}. Best is trial 5 with value: 0.6107533492851879.\n",
      "[I 2023-12-05 19:46:46,328] Trial 101 finished with value: 0.6055980410095161 and parameters: {'n_estimators': 426, 'max_depth': 13, 'learning_rate': 0.02714659213920674, 'gamma': 9.478139447326285, 'reg_lambda': 0.4833995134051868, 'min_child_weight': 2.9656896786969926}. Best is trial 5 with value: 0.6107533492851879.\n",
      "[I 2023-12-05 19:46:47,937] Trial 102 finished with value: 0.6034827966946883 and parameters: {'n_estimators': 392, 'max_depth': 11, 'learning_rate': 0.1294723763538611, 'gamma': 10.362472328653666, 'reg_lambda': 0.5226071293926424, 'min_child_weight': 2.8345897862502127}. Best is trial 5 with value: 0.6107533492851879.\n",
      "[I 2023-12-05 19:46:49,834] Trial 103 finished with value: 0.6067668900769785 and parameters: {'n_estimators': 435, 'max_depth': 12, 'learning_rate': 0.060494676263356056, 'gamma': 9.061991409733062, 'reg_lambda': 0.5011577792161396, 'min_child_weight': 2.652388788377441}. Best is trial 5 with value: 0.6107533492851879.\n",
      "[I 2023-12-05 19:46:52,032] Trial 104 finished with value: 0.60859648841246 and parameters: {'n_estimators': 415, 'max_depth': 14, 'learning_rate': 0.03032466452399906, 'gamma': 9.842559648866855, 'reg_lambda': 0.5848394093918687, 'min_child_weight': 2.463503700831598}. Best is trial 5 with value: 0.6107533492851879.\n",
      "[I 2023-12-05 19:46:53,526] Trial 105 finished with value: 0.5951788067273347 and parameters: {'n_estimators': 382, 'max_depth': 3, 'learning_rate': 0.0901857180609529, 'gamma': 10.6683306404114, 'reg_lambda': 0.62819774838913, 'min_child_weight': 2.8743510536485877}. Best is trial 5 with value: 0.6107533492851879.\n",
      "[I 2023-12-05 19:46:55,492] Trial 106 finished with value: 0.6119865428937046 and parameters: {'n_estimators': 451, 'max_depth': 13, 'learning_rate': 0.06026160338410679, 'gamma': 8.433281440714994, 'reg_lambda': 0.5388883741264767, 'min_child_weight': 2.342918004926608}. Best is trial 106 with value: 0.6119865428937046.\n",
      "[I 2023-12-05 19:46:57,336] Trial 107 finished with value: 0.6070886372279686 and parameters: {'n_estimators': 481, 'max_depth': 13, 'learning_rate': 0.11216590080339264, 'gamma': 8.620364502341065, 'reg_lambda': 0.43117776888737114, 'min_child_weight': 2.0285348165856103}. Best is trial 106 with value: 0.6119865428937046.\n",
      "[I 2023-12-05 19:46:59,419] Trial 108 finished with value: 0.6072004242749374 and parameters: {'n_estimators': 493, 'max_depth': 15, 'learning_rate': 0.0634274404201768, 'gamma': 7.780910160089592, 'reg_lambda': 0.49925000400989933, 'min_child_weight': 1.9175916844873426}. Best is trial 106 with value: 0.6119865428937046.\n",
      "[I 2023-12-05 19:47:01,186] Trial 109 finished with value: 0.6061852352697485 and parameters: {'n_estimators': 242, 'max_depth': 14, 'learning_rate': 0.05542604716684589, 'gamma': 8.336493820260056, 'reg_lambda': 0.5273703903114406, 'min_child_weight': 2.2872677989129526}. Best is trial 106 with value: 0.6119865428937046.\n",
      "[I 2023-12-05 19:47:03,366] Trial 110 finished with value: 0.609586118225421 and parameters: {'n_estimators': 451, 'max_depth': 13, 'learning_rate': 0.03525891393723926, 'gamma': 10.142173086628322, 'reg_lambda': 0.4558718131477298, 'min_child_weight': 2.104034168866162}. Best is trial 106 with value: 0.6119865428937046.\n",
      "[I 2023-12-05 19:47:05,634] Trial 111 finished with value: 0.6082021320948234 and parameters: {'n_estimators': 468, 'max_depth': 13, 'learning_rate': 0.03222633253410471, 'gamma': 10.220039718961798, 'reg_lambda': 0.46279930932129437, 'min_child_weight': 2.3884772144223665}. Best is trial 106 with value: 0.6119865428937046.\n",
      "[I 2023-12-05 19:47:09,568] Trial 112 finished with value: 0.6078548253127682 and parameters: {'n_estimators': 455, 'max_depth': 14, 'learning_rate': 0.010659863119562678, 'gamma': 9.282255454546863, 'reg_lambda': 0.41376280408827165, 'min_child_weight': 2.1092370871713833}. Best is trial 106 with value: 0.6119865428937046.\n",
      "[I 2023-12-05 19:47:11,444] Trial 113 finished with value: 0.6056497670460809 and parameters: {'n_estimators': 447, 'max_depth': 12, 'learning_rate': 0.0583890679129394, 'gamma': 11.038716122689559, 'reg_lambda': 0.44003130284661707, 'min_child_weight': 1.7639681120415815}. Best is trial 106 with value: 0.6119865428937046.\n",
      "[I 2023-12-05 19:47:13,098] Trial 114 finished with value: 0.6078161082453059 and parameters: {'n_estimators': 405, 'max_depth': 13, 'learning_rate': 0.10831033181300193, 'gamma': 11.737867633186596, 'reg_lambda': 0.4867726990182102, 'min_child_weight': 1.5666649531343657}. Best is trial 106 with value: 0.6119865428937046.\n",
      "[I 2023-12-05 19:47:15,337] Trial 115 finished with value: 0.6069576928291671 and parameters: {'n_estimators': 418, 'max_depth': 15, 'learning_rate': 0.033642407130047666, 'gamma': 8.914883235168615, 'reg_lambda': 0.45998276700759305, 'min_child_weight': 2.1796009553934996}. Best is trial 106 with value: 0.6119865428937046.\n",
      "[I 2023-12-05 19:47:17,020] Trial 116 finished with value: 0.6073417636409356 and parameters: {'n_estimators': 426, 'max_depth': 14, 'learning_rate': 0.13921340397517615, 'gamma': 10.002460649973086, 'reg_lambda': 0.3933874591628716, 'min_child_weight': 1.956591396542633}. Best is trial 106 with value: 0.6119865428937046.\n",
      "[I 2023-12-05 19:47:18,533] Trial 117 finished with value: 0.6079600571320628 and parameters: {'n_estimators': 269, 'max_depth': 13, 'learning_rate': 0.0739563123618199, 'gamma': 10.501685808386137, 'reg_lambda': 0.5423241085025725, 'min_child_weight': 2.5132945271062153}. Best is trial 106 with value: 0.6119865428937046.\n",
      "[I 2023-12-05 19:47:20,492] Trial 118 finished with value: 0.609174654202554 and parameters: {'n_estimators': 397, 'max_depth': 16, 'learning_rate': 0.0480514411476034, 'gamma': 9.33532238782972, 'reg_lambda': 0.5158486376988104, 'min_child_weight': 2.2887998036285513}. Best is trial 106 with value: 0.6119865428937046.\n",
      "[I 2023-12-05 19:47:22,290] Trial 119 finished with value: 0.6058094177785962 and parameters: {'n_estimators': 459, 'max_depth': 12, 'learning_rate': 0.0839398872693142, 'gamma': 10.827549771700152, 'reg_lambda': 0.43711238295631966, 'min_child_weight': 1.822537680527479}. Best is trial 106 with value: 0.6119865428937046.\n",
      "[I 2023-12-05 19:47:23,889] Trial 120 finished with value: 0.6082086535654361 and parameters: {'n_estimators': 252, 'max_depth': 16, 'learning_rate': 0.1046123728561123, 'gamma': 9.808949988794826, 'reg_lambda': 0.37137394711404154, 'min_child_weight': 2.0932563964564053}. Best is trial 106 with value: 0.6119865428937046.\n",
      "[I 2023-12-05 19:47:25,887] Trial 121 finished with value: 0.6105041778392432 and parameters: {'n_estimators': 395, 'max_depth': 16, 'learning_rate': 0.04391824852088759, 'gamma': 9.302762560554765, 'reg_lambda': 0.5377604189049972, 'min_child_weight': 2.310375189805532}. Best is trial 106 with value: 0.6119865428937046.\n",
      "[I 2023-12-05 19:47:27,893] Trial 122 finished with value: 0.6092077749723962 and parameters: {'n_estimators': 409, 'max_depth': 16, 'learning_rate': 0.05404613423649598, 'gamma': 8.980014346577063, 'reg_lambda': 0.539318968988363, 'min_child_weight': 2.175989661202927}. Best is trial 106 with value: 0.6119865428937046.\n",
      "[I 2023-12-05 19:47:30,312] Trial 123 finished with value: 0.608552930644686 and parameters: {'n_estimators': 407, 'max_depth': 16, 'learning_rate': 0.031541190185320145, 'gamma': 8.01799576040241, 'reg_lambda': 0.5759212570157917, 'min_child_weight': 2.0061487975459786}. Best is trial 106 with value: 0.6119865428937046.\n",
      "[I 2023-12-05 19:47:32,333] Trial 124 finished with value: 0.6066629413499739 and parameters: {'n_estimators': 422, 'max_depth': 16, 'learning_rate': 0.049969797813110915, 'gamma': 9.062990667759683, 'reg_lambda': 0.5369756024090866, 'min_child_weight': 2.3783732527454604}. Best is trial 106 with value: 0.6119865428937046.\n",
      "[I 2023-12-05 19:47:35,006] Trial 125 finished with value: 0.60639157147042 and parameters: {'n_estimators': 436, 'max_depth': 15, 'learning_rate': 0.0234379566612413, 'gamma': 8.56051579839203, 'reg_lambda': 0.5912113200206633, 'min_child_weight': 1.691099826070615}. Best is trial 106 with value: 0.6119865428937046.\n",
      "[I 2023-12-05 19:47:36,583] Trial 126 finished with value: 0.6031503124943716 and parameters: {'n_estimators': 385, 'max_depth': 16, 'learning_rate': 0.12560633012641698, 'gamma': 11.306421101855054, 'reg_lambda': 0.6151933365598914, 'min_child_weight': 2.5687578929049826}. Best is trial 106 with value: 0.6119865428937046.\n",
      "[I 2023-12-05 19:47:38,582] Trial 127 finished with value: 0.6110544344932591 and parameters: {'n_estimators': 473, 'max_depth': 15, 'learning_rate': 0.09148824115481946, 'gamma': 10.224354361699572, 'reg_lambda': 0.503607146965352, 'min_child_weight': 2.437282373478785}. Best is trial 106 with value: 0.6119865428937046.\n",
      "[I 2023-12-05 19:47:40,257] Trial 128 finished with value: 0.6051398657398643 and parameters: {'n_estimators': 471, 'max_depth': 15, 'learning_rate': 0.1643539182155409, 'gamma': 10.277740544394199, 'reg_lambda': 0.49654379174436636, 'min_child_weight': 2.727671030654625}. Best is trial 106 with value: 0.6119865428937046.\n",
      "[I 2023-12-05 19:47:41,997] Trial 129 finished with value: 0.6093697399793164 and parameters: {'n_estimators': 448, 'max_depth': 15, 'learning_rate': 0.09379757932516528, 'gamma': 10.708846154571129, 'reg_lambda': 0.5606851574246748, 'min_child_weight': 2.442424904111581}. Best is trial 106 with value: 0.6119865428937046.\n",
      "[I 2023-12-05 19:47:44,188] Trial 130 finished with value: 0.6095033741401906 and parameters: {'n_estimators': 450, 'max_depth': 15, 'learning_rate': 0.09035558794410371, 'gamma': 9.405801751383311, 'reg_lambda': 0.6617450748175343, 'min_child_weight': 2.477292213146565}. Best is trial 106 with value: 0.6119865428937046.\n",
      "[I 2023-12-05 19:47:46,036] Trial 131 finished with value: 0.6116860951566229 and parameters: {'n_estimators': 449, 'max_depth': 15, 'learning_rate': 0.07805586772150619, 'gamma': 9.470547388650782, 'reg_lambda': 0.6598463587485063, 'min_child_weight': 2.463938483059376}. Best is trial 106 with value: 0.6119865428937046.\n",
      "[I 2023-12-05 19:47:47,932] Trial 132 finished with value: 0.606584019677923 and parameters: {'n_estimators': 475, 'max_depth': 15, 'learning_rate': 0.0711207056314839, 'gamma': 9.48792168005628, 'reg_lambda': 0.6718233664520616, 'min_child_weight': 2.569236043408184}. Best is trial 106 with value: 0.6119865428937046.\n",
      "[I 2023-12-05 19:47:51,188] Trial 133 finished with value: 0.6093020496181578 and parameters: {'n_estimators': 490, 'max_depth': 15, 'learning_rate': 0.013609462828094906, 'gamma': 10.079007911879563, 'reg_lambda': 0.6543158903616745, 'min_child_weight': 2.34550035064848}. Best is trial 106 with value: 0.6119865428937046.\n",
      "[I 2023-12-05 19:47:53,066] Trial 134 finished with value: 0.610123624744814 and parameters: {'n_estimators': 466, 'max_depth': 16, 'learning_rate': 0.07753879397156302, 'gamma': 9.40002030550571, 'reg_lambda': 0.6995426515704344, 'min_child_weight': 2.7496049460147933}. Best is trial 106 with value: 0.6119865428937046.\n",
      "[I 2023-12-05 19:47:54,860] Trial 135 finished with value: 0.6021636475841705 and parameters: {'n_estimators': 499, 'max_depth': 15, 'learning_rate': 0.14658070757678132, 'gamma': 8.370955083816707, 'reg_lambda': 0.6967131447149829, 'min_child_weight': 2.7792339119070095}. Best is trial 106 with value: 0.6119865428937046.\n",
      "[I 2023-12-05 19:47:56,705] Trial 136 finished with value: 0.6060178071512652 and parameters: {'n_estimators': 461, 'max_depth': 16, 'learning_rate': 0.08938768755030956, 'gamma': 9.556527558634789, 'reg_lambda': 0.6656482252446787, 'min_child_weight': 2.9321279644086644}. Best is trial 106 with value: 0.6119865428937046.\n",
      "[I 2023-12-05 19:47:58,961] Trial 137 finished with value: 0.6078013266253803 and parameters: {'n_estimators': 452, 'max_depth': 16, 'learning_rate': 0.03650983049796644, 'gamma': 8.76233987090404, 'reg_lambda': 0.7251894705502476, 'min_child_weight': 3.151876159517508}. Best is trial 106 with value: 0.6119865428937046.\n",
      "[I 2023-12-05 19:48:00,769] Trial 138 finished with value: 0.6067974944754257 and parameters: {'n_estimators': 465, 'max_depth': 15, 'learning_rate': 0.10436893958783991, 'gamma': 9.220245939630193, 'reg_lambda': 0.7142330453166058, 'min_child_weight': 2.4834584425595825}. Best is trial 106 with value: 0.6119865428937046.\n",
      "[I 2023-12-05 19:48:02,776] Trial 139 finished with value: 0.6073418121721141 and parameters: {'n_estimators': 477, 'max_depth': 14, 'learning_rate': 0.07760072329282633, 'gamma': 7.681478734833895, 'reg_lambda': 0.6395076975318505, 'min_child_weight': 2.701014352719664}. Best is trial 106 with value: 0.6119865428937046.\n",
      "[I 2023-12-05 19:48:04,931] Trial 140 finished with value: 0.6058049240125299 and parameters: {'n_estimators': 442, 'max_depth': 15, 'learning_rate': 0.04552040094759427, 'gamma': 8.06922560860772, 'reg_lambda': 0.6954481028973494, 'min_child_weight': 2.863680492923175}. Best is trial 106 with value: 0.6119865428937046.\n",
      "[I 2023-12-05 19:48:06,806] Trial 141 finished with value: 0.6067579787346381 and parameters: {'n_estimators': 429, 'max_depth': 16, 'learning_rate': 0.06544329250886702, 'gamma': 9.769706184620183, 'reg_lambda': 0.5136632683151492, 'min_child_weight': 2.297107253887}. Best is trial 106 with value: 0.6119865428937046.\n",
      "[I 2023-12-05 19:48:08,408] Trial 142 finished with value: 0.6100406604538199 and parameters: {'n_estimators': 229, 'max_depth': 16, 'learning_rate': 0.056726283385016146, 'gamma': 10.202014418029654, 'reg_lambda': 0.6081527850150245, 'min_child_weight': 2.4551383901018924}. Best is trial 106 with value: 0.6119865428937046.\n",
      "[I 2023-12-05 19:48:09,562] Trial 143 finished with value: 0.6045370381896894 and parameters: {'n_estimators': 173, 'max_depth': 15, 'learning_rate': 0.29863895657481976, 'gamma': 10.107747890990257, 'reg_lambda': 0.6165010496588932, 'min_child_weight': 2.630202189263063}. Best is trial 106 with value: 0.6119865428937046.\n",
      "[I 2023-12-05 19:48:11,039] Trial 144 finished with value: 0.6064986523667872 and parameters: {'n_estimators': 228, 'max_depth': 16, 'learning_rate': 0.11267559803359414, 'gamma': 7.145451258411867, 'reg_lambda': 0.5960207112012315, 'min_child_weight': 2.454581900352056}. Best is trial 106 with value: 0.6119865428937046.\n",
      "[I 2023-12-05 19:48:12,508] Trial 145 finished with value: 0.6070867645957267 and parameters: {'n_estimators': 221, 'max_depth': 16, 'learning_rate': 0.08356264382393169, 'gamma': 9.242818124393416, 'reg_lambda': 0.6785406480258267, 'min_child_weight': 2.6171706913830475}. Best is trial 106 with value: 0.6119865428937046.\n",
      "[I 2023-12-05 19:48:13,893] Trial 146 finished with value: 0.6022867587225382 and parameters: {'n_estimators': 234, 'max_depth': 15, 'learning_rate': 0.13268050623394617, 'gamma': 8.712401649647177, 'reg_lambda': 0.6575702184296143, 'min_child_weight': 2.5572732835057153}. Best is trial 106 with value: 0.6119865428937046.\n",
      "[I 2023-12-05 19:48:16,747] Trial 147 finished with value: 0.604746105657865 and parameters: {'n_estimators': 212, 'max_depth': 14, 'learning_rate': 0.011592389958511945, 'gamma': 9.64837319221339, 'reg_lambda': 0.6254531032742794, 'min_child_weight': 2.7548899144467796}. Best is trial 106 with value: 0.6119865428937046.\n",
      "[I 2023-12-05 19:48:18,815] Trial 148 finished with value: 0.6076437022815403 and parameters: {'n_estimators': 483, 'max_depth': 16, 'learning_rate': 0.045604469700758696, 'gamma': 10.346046672695385, 'reg_lambda': 0.6008427304475668, 'min_child_weight': 2.40703070849244}. Best is trial 106 with value: 0.6119865428937046.\n",
      "[I 2023-12-05 19:48:20,246] Trial 149 finished with value: 0.6046755708707248 and parameters: {'n_estimators': 283, 'max_depth': 15, 'learning_rate': 0.192857689762781, 'gamma': 8.333447204892282, 'reg_lambda': 0.5497294049816169, 'min_child_weight': 2.2794178154261298}. Best is trial 106 with value: 0.6119865428937046.\n",
      "[I 2023-12-05 19:48:22,582] Trial 150 finished with value: 0.6103558011337458 and parameters: {'n_estimators': 444, 'max_depth': 13, 'learning_rate': 0.031422959877523166, 'gamma': 9.338052885249759, 'reg_lambda': 0.46023879324033506, 'min_child_weight': 2.5154177830601148}. Best is trial 106 with value: 0.6119865428937046.\n",
      "[I 2023-12-05 19:48:24,774] Trial 151 finished with value: 0.6093299882904454 and parameters: {'n_estimators': 451, 'max_depth': 13, 'learning_rate': 0.03660994099102536, 'gamma': 9.4043375335634, 'reg_lambda': 0.45469448215920727, 'min_child_weight': 2.506588772115291}. Best is trial 106 with value: 0.6119865428937046.\n",
      "[I 2023-12-05 19:48:26,300] Trial 152 finished with value: 0.6067655465978432 and parameters: {'n_estimators': 205, 'max_depth': 13, 'learning_rate': 0.06538049619773542, 'gamma': 8.951236292110098, 'reg_lambda': 0.48813467957304146, 'min_child_weight': 2.725959142937369}. Best is trial 106 with value: 0.6119865428937046.\n",
      "[I 2023-12-05 19:48:28,746] Trial 153 finished with value: 0.6103863765173376 and parameters: {'n_estimators': 437, 'max_depth': 13, 'learning_rate': 0.024375718986166584, 'gamma': 9.936016376691276, 'reg_lambda': 0.32722013792684457, 'min_child_weight': 2.3757704227251772}. Best is trial 106 with value: 0.6119865428937046.\n",
      "[I 2023-12-05 19:48:32,587] Trial 154 finished with value: 0.606969776381048 and parameters: {'n_estimators': 441, 'max_depth': 13, 'learning_rate': 0.010245649961505583, 'gamma': 9.98792388408612, 'reg_lambda': 0.3402610076777494, 'min_child_weight': 2.361263765144389}. Best is trial 106 with value: 0.6119865428937046.\n",
      "[I 2023-12-05 19:48:34,858] Trial 155 finished with value: 0.6070792221301001 and parameters: {'n_estimators': 432, 'max_depth': 13, 'learning_rate': 0.02886680115297713, 'gamma': 10.402781365848558, 'reg_lambda': 0.29343147733113806, 'min_child_weight': 1.5796755528725994}. Best is trial 106 with value: 0.6119865428937046.\n",
      "[I 2023-12-05 19:48:36,841] Trial 156 finished with value: 0.6103860010879288 and parameters: {'n_estimators': 461, 'max_depth': 13, 'learning_rate': 0.05455075691937655, 'gamma': 9.827505045910437, 'reg_lambda': 0.4175248335899139, 'min_child_weight': 2.08729683686358}. Best is trial 106 with value: 0.6119865428937046.\n",
      "[I 2023-12-05 19:48:38,815] Trial 157 finished with value: 0.6083627108843167 and parameters: {'n_estimators': 464, 'max_depth': 12, 'learning_rate': 0.057622455744372414, 'gamma': 9.721657154778914, 'reg_lambda': 0.42243431292493233, 'min_child_weight': 2.8401086130058535}. Best is trial 106 with value: 0.6119865428937046.\n",
      "[I 2023-12-05 19:48:40,561] Trial 158 finished with value: 0.6078726051276299 and parameters: {'n_estimators': 422, 'max_depth': 12, 'learning_rate': 0.07385114871188467, 'gamma': 10.83200148910026, 'reg_lambda': 0.4140316988842086, 'min_child_weight': 2.6137492482381846}. Best is trial 106 with value: 0.6119865428937046.\n",
      "[I 2023-12-05 19:48:41,835] Trial 159 finished with value: 0.6028843934278181 and parameters: {'n_estimators': 253, 'max_depth': 14, 'learning_rate': 0.3832574179503497, 'gamma': 8.819709523381013, 'reg_lambda': 0.39277712088141303, 'min_child_weight': 1.8805998405952358}. Best is trial 106 with value: 0.6119865428937046.\n",
      "[I 2023-12-05 19:48:43,566] Trial 160 finished with value: 0.608715019585528 and parameters: {'n_estimators': 439, 'max_depth': 14, 'learning_rate': 0.10119714610215036, 'gamma': 11.107777038869482, 'reg_lambda': 0.3753464599309154, 'min_child_weight': 2.3269302777271705}. Best is trial 106 with value: 0.6119865428937046.\n",
      "[I 2023-12-05 19:48:45,642] Trial 161 finished with value: 0.6074362568868497 and parameters: {'n_estimators': 457, 'max_depth': 13, 'learning_rate': 0.043683677568441076, 'gamma': 10.043068091775348, 'reg_lambda': 0.4717427358912806, 'min_child_weight': 2.0937813098428246}. Best is trial 106 with value: 0.6119865428937046.\n",
      "[I 2023-12-05 19:48:47,923] Trial 162 finished with value: 0.6056822465685141 and parameters: {'n_estimators': 472, 'max_depth': 13, 'learning_rate': 0.02975705733755424, 'gamma': 10.39537433723533, 'reg_lambda': 0.44236713119059284, 'min_child_weight': 2.2499514913878067}. Best is trial 106 with value: 0.6119865428937046.\n",
      "[I 2023-12-05 19:48:49,463] Trial 163 finished with value: 0.593778739333471 and parameters: {'n_estimators': 436, 'max_depth': 13, 'learning_rate': 0.48688389985541025, 'gamma': 9.822218333904978, 'reg_lambda': 0.3590429097551597, 'min_child_weight': 2.0618495748949015}. Best is trial 106 with value: 0.6119865428937046.\n",
      "[I 2023-12-05 19:48:51,302] Trial 164 finished with value: 0.6105937928908145 and parameters: {'n_estimators': 422, 'max_depth': 12, 'learning_rate': 0.0665714693603294, 'gamma': 9.249195588908504, 'reg_lambda': 0.4781703039947754, 'min_child_weight': 2.4188138436090947}. Best is trial 106 with value: 0.6119865428937046.\n",
      "[I 2023-12-05 19:48:52,896] Trial 165 finished with value: 0.6088888632796925 and parameters: {'n_estimators': 241, 'max_depth': 12, 'learning_rate': 0.06632399248280516, 'gamma': 8.950673688494549, 'reg_lambda': 0.5293962929242007, 'min_child_weight': 2.4247711347415066}. Best is trial 106 with value: 0.6119865428937046.\n",
      "[I 2023-12-05 19:48:54,827] Trial 166 finished with value: 0.6066890550983131 and parameters: {'n_estimators': 418, 'max_depth': 11, 'learning_rate': 0.05450945316903387, 'gamma': 9.261078376606113, 'reg_lambda': 0.48154042573550754, 'min_child_weight': 1.4228007675758343}. Best is trial 106 with value: 0.6119865428937046.\n",
      "[I 2023-12-05 19:48:56,670] Trial 167 finished with value: 0.606611836564904 and parameters: {'n_estimators': 428, 'max_depth': 14, 'learning_rate': 0.08322291230416096, 'gamma': 8.522250708949134, 'reg_lambda': 0.5275451272834797, 'min_child_weight': 2.5173164048580228}. Best is trial 106 with value: 0.6119865428937046.\n",
      "[I 2023-12-05 19:48:58,339] Trial 168 finished with value: 0.6060304257439552 and parameters: {'n_estimators': 411, 'max_depth': 12, 'learning_rate': 0.11418830009123085, 'gamma': 9.541711821907288, 'reg_lambda': 0.23677420287453693, 'min_child_weight': 2.6611999046183867}. Best is trial 106 with value: 0.6119865428937046.\n",
      "[I 2023-12-05 19:48:59,429] Trial 169 finished with value: 0.6035011010332222 and parameters: {'n_estimators': 108, 'max_depth': 16, 'learning_rate': 0.2265511157746164, 'gamma': 9.25771515005249, 'reg_lambda': 0.5166454210568074, 'min_child_weight': 3.0433569900843778}. Best is trial 106 with value: 0.6119865428937046.\n",
      "[I 2023-12-05 19:49:01,039] Trial 170 finished with value: 0.5927532003744714 and parameters: {'n_estimators': 444, 'max_depth': 14, 'learning_rate': 0.44475608877276446, 'gamma': 8.004598051109722, 'reg_lambda': 0.4939780994995794, 'min_child_weight': 2.3650492226569586}. Best is trial 106 with value: 0.6119865428937046.\n",
      "[I 2023-12-05 19:49:03,393] Trial 171 finished with value: 0.606455510602388 and parameters: {'n_estimators': 457, 'max_depth': 13, 'learning_rate': 0.028266786552654393, 'gamma': 10.138103499834294, 'reg_lambda': 0.45603756732422734, 'min_child_weight': 2.158860243469174}. Best is trial 106 with value: 0.6119865428937046.\n",
      "[I 2023-12-05 19:49:05,317] Trial 172 finished with value: 0.6091633201257658 and parameters: {'n_estimators': 425, 'max_depth': 13, 'learning_rate': 0.04842784462004032, 'gamma': 10.580679388737074, 'reg_lambda': 0.468549136677242, 'min_child_weight': 2.249949119509013}. Best is trial 106 with value: 0.6119865428937046.\n",
      "[I 2023-12-05 19:49:08,628] Trial 173 finished with value: 0.6069319623161051 and parameters: {'n_estimators': 447, 'max_depth': 12, 'learning_rate': 0.013115922172028154, 'gamma': 9.783159707322504, 'reg_lambda': 0.4146947547846145, 'min_child_weight': 1.9860308919348726}. Best is trial 106 with value: 0.6119865428937046.\n",
      "[I 2023-12-05 19:49:10,490] Trial 174 finished with value: 0.6088737093343479 and parameters: {'n_estimators': 465, 'max_depth': 13, 'learning_rate': 0.0783559926376983, 'gamma': 10.101541412975521, 'reg_lambda': 0.4360590593835657, 'min_child_weight': 2.4642684630381244}. Best is trial 106 with value: 0.6119865428937046.\n",
      "[I 2023-12-05 19:49:12,354] Trial 175 finished with value: 0.6051778888227546 and parameters: {'n_estimators': 433, 'max_depth': 13, 'learning_rate': 0.05320533769317779, 'gamma': 11.474865465035617, 'reg_lambda': 0.5073305717390283, 'min_child_weight': 2.1132261868308473}. Best is trial 106 with value: 0.6119865428937046.\n",
      "[I 2023-12-05 19:49:14,794] Trial 176 finished with value: 0.6101774245403698 and parameters: {'n_estimators': 478, 'max_depth': 16, 'learning_rate': 0.029918690026003076, 'gamma': 9.134969612085552, 'reg_lambda': 0.40290290738221024, 'min_child_weight': 1.7687312114799583}. Best is trial 106 with value: 0.6119865428937046.\n",
      "[I 2023-12-05 19:49:16,691] Trial 177 finished with value: 0.6065749343743437 and parameters: {'n_estimators': 484, 'max_depth': 16, 'learning_rate': 0.09499272662620718, 'gamma': 8.970807116119087, 'reg_lambda': 0.3963603046591185, 'min_child_weight': 1.8355394848778341}. Best is trial 106 with value: 0.6119865428937046.\n",
      "[I 2023-12-05 19:49:18,629] Trial 178 finished with value: 0.607753081678364 and parameters: {'n_estimators': 477, 'max_depth': 16, 'learning_rate': 0.0682839954810302, 'gamma': 9.51747792109697, 'reg_lambda': 0.556924534360624, 'min_child_weight': 1.7085372569641166}. Best is trial 106 with value: 0.6119865428937046.\n",
      "[I 2023-12-05 19:49:21,136] Trial 179 finished with value: 0.6072008799691335 and parameters: {'n_estimators': 500, 'max_depth': 16, 'learning_rate': 0.032097450345982666, 'gamma': 8.529844914614332, 'reg_lambda': 0.3778649693547584, 'min_child_weight': 1.4861536993700994}. Best is trial 106 with value: 0.6119865428937046.\n",
      "[I 2023-12-05 19:49:25,245] Trial 180 finished with value: 0.6059324089290338 and parameters: {'n_estimators': 470, 'max_depth': 15, 'learning_rate': 0.01061150290959939, 'gamma': 9.079548306957024, 'reg_lambda': 0.3421038681599815, 'min_child_weight': 1.210322054424991}. Best is trial 106 with value: 0.6119865428937046.\n",
      "[I 2023-12-05 19:49:27,359] Trial 181 finished with value: 0.6083701043461325 and parameters: {'n_estimators': 456, 'max_depth': 16, 'learning_rate': 0.03930430949550294, 'gamma': 10.622349894016617, 'reg_lambda': 0.44876974092545857, 'min_child_weight': 1.8990315724292923}. Best is trial 106 with value: 0.6119865428937046.\n",
      "[I 2023-12-05 19:49:28,972] Trial 182 finished with value: 0.6069383143049293 and parameters: {'n_estimators': 419, 'max_depth': 15, 'learning_rate': 0.26522490911976887, 'gamma': 9.599475738609762, 'reg_lambda': 0.4267289037533073, 'min_child_weight': 1.612123674766359}. Best is trial 106 with value: 0.6119865428937046.\n",
      "[I 2023-12-05 19:49:30,980] Trial 183 finished with value: 0.6075124578155163 and parameters: {'n_estimators': 490, 'max_depth': 14, 'learning_rate': 0.05604063458673864, 'gamma': 10.043474651641347, 'reg_lambda': 0.47782605093219366, 'min_child_weight': 2.572854808981876}. Best is trial 106 with value: 0.6119865428937046.\n",
      "[I 2023-12-05 19:49:32,796] Trial 184 finished with value: 0.6110567796999945 and parameters: {'n_estimators': 445, 'max_depth': 16, 'learning_rate': 0.09697105832845263, 'gamma': 9.38145964828764, 'reg_lambda': 0.4063550768963161, 'min_child_weight': 1.7306467413189823}. Best is trial 106 with value: 0.6119865428937046.\n",
      "[I 2023-12-05 19:49:34,447] Trial 185 finished with value: 0.6082198732016046 and parameters: {'n_estimators': 399, 'max_depth': 16, 'learning_rate': 0.13091224390838718, 'gamma': 9.263878243607047, 'reg_lambda': 0.40699459211749067, 'min_child_weight': 1.631336250857442}. Best is trial 106 with value: 0.6119865428937046.\n",
      "[I 2023-12-05 19:49:36,240] Trial 186 finished with value: 0.6026737126014439 and parameters: {'n_estimators': 436, 'max_depth': 16, 'learning_rate': 0.09973960275499852, 'gamma': 8.704840861764467, 'reg_lambda': 0.31339107465025035, 'min_child_weight': 1.8137319835571444}. Best is trial 106 with value: 0.6119865428937046.\n",
      "[I 2023-12-05 19:49:38,104] Trial 187 finished with value: 0.6046971915535952 and parameters: {'n_estimators': 412, 'max_depth': 15, 'learning_rate': 0.08425331672912625, 'gamma': 8.207569433457266, 'reg_lambda': 0.39655745632498857, 'min_child_weight': 1.3756081943430816}. Best is trial 106 with value: 0.6119865428937046.\n",
      "[I 2023-12-05 19:49:39,847] Trial 188 finished with value: 0.6095394046031478 and parameters: {'n_estimators': 442, 'max_depth': 16, 'learning_rate': 0.11258026689990511, 'gamma': 9.656443120206477, 'reg_lambda': 0.37435896560896903, 'min_child_weight': 1.707142845024152}. Best is trial 106 with value: 0.6119865428937046.\n",
      "[I 2023-12-05 19:49:41,782] Trial 189 finished with value: 0.6096810182132755 and parameters: {'n_estimators': 463, 'max_depth': 15, 'learning_rate': 0.06573235073603373, 'gamma': 9.077546930845205, 'reg_lambda': 0.35919978726601737, 'min_child_weight': 2.3793650064830474}. Best is trial 106 with value: 0.6119865428937046.\n",
      "[I 2023-12-05 19:49:43,843] Trial 190 finished with value: 0.608074075202161 and parameters: {'n_estimators': 462, 'max_depth': 15, 'learning_rate': 0.06788218132500289, 'gamma': 7.519435991258202, 'reg_lambda': 0.35564588619203386, 'min_child_weight': 1.4685956821363713}. Best is trial 106 with value: 0.6119865428937046.\n",
      "[I 2023-12-05 19:49:45,490] Trial 191 finished with value: 0.5965748970245722 and parameters: {'n_estimators': 475, 'max_depth': 16, 'learning_rate': 0.34040033927765295, 'gamma': 9.157488879016329, 'reg_lambda': 0.3150678402644035, 'min_child_weight': 2.345930463368752}. Best is trial 106 with value: 0.6119865428937046.\n",
      "[I 2023-12-05 19:49:47,192] Trial 192 finished with value: 0.6023353053030636 and parameters: {'n_estimators': 450, 'max_depth': 15, 'learning_rate': 0.15703285973939612, 'gamma': 8.709321845655243, 'reg_lambda': 0.35343800470424486, 'min_child_weight': 2.4121962610851178}. Best is trial 106 with value: 0.6119865428937046.\n",
      "[I 2023-12-05 19:49:49,145] Trial 193 finished with value: 0.6087475137849656 and parameters: {'n_estimators': 428, 'max_depth': 16, 'learning_rate': 0.053805780916693975, 'gamma': 9.565792387990875, 'reg_lambda': 0.6411943076760991, 'min_child_weight': 2.542599286149944}. Best is trial 106 with value: 0.6119865428937046.\n",
      "[I 2023-12-05 19:49:50,955] Trial 194 finished with value: 0.6090907183996492 and parameters: {'n_estimators': 466, 'max_depth': 15, 'learning_rate': 0.08237486696892901, 'gamma': 10.373299103283015, 'reg_lambda': 0.3731825893269042, 'min_child_weight': 2.2559406620629296}. Best is trial 106 with value: 0.6119865428937046.\n",
      "[I 2023-12-05 19:49:53,516] Trial 195 finished with value: 0.6089024577393033 and parameters: {'n_estimators': 419, 'max_depth': 15, 'learning_rate': 0.02887892062544966, 'gamma': 9.880109478233493, 'reg_lambda': 0.3347535604647229, 'min_child_weight': 2.454894891251519}. Best is trial 106 with value: 0.6119865428937046.\n",
      "[I 2023-12-05 19:49:55,076] Trial 196 finished with value: 0.5859508888036556 and parameters: {'n_estimators': 455, 'max_depth': 9, 'learning_rate': 0.5262367994144068, 'gamma': 9.004577312272714, 'reg_lambda': 0.7116077418782055, 'min_child_weight': 2.7738595978941394}. Best is trial 106 with value: 0.6119865428937046.\n",
      "[I 2023-12-05 19:49:56,993] Trial 197 finished with value: 0.6052967858210975 and parameters: {'n_estimators': 485, 'max_depth': 14, 'learning_rate': 0.09570995649580367, 'gamma': 8.354413312017453, 'reg_lambda': 0.7451042898522298, 'min_child_weight': 2.6192083444921166}. Best is trial 106 with value: 0.6119865428937046.\n",
      "[I 2023-12-05 19:49:58,651] Trial 198 finished with value: 0.6043006990366894 and parameters: {'n_estimators': 443, 'max_depth': 16, 'learning_rate': 0.06761112501311461, 'gamma': 19.73090930770293, 'reg_lambda': 0.5773861147282191, 'min_child_weight': 1.5531870382154342}. Best is trial 106 with value: 0.6119865428937046.\n",
      "[I 2023-12-05 19:50:00,583] Trial 199 finished with value: 0.6080851641846043 and parameters: {'n_estimators': 407, 'max_depth': 15, 'learning_rate': 0.046982256345200715, 'gamma': 10.888680620883978, 'reg_lambda': 0.3900338525587855, 'min_child_weight': 1.762095855349466}. Best is trial 106 with value: 0.6119865428937046.\n",
      "[I 2023-12-05 19:50:02,301] Trial 200 finished with value: 0.6039429757337607 and parameters: {'n_estimators': 433, 'max_depth': 16, 'learning_rate': 0.12035848380247963, 'gamma': 9.42057256981155, 'reg_lambda': 0.5016796923651494, 'min_child_weight': 1.9870643371587973}. Best is trial 106 with value: 0.6119865428937046.\n",
      "[I 2023-12-05 19:50:04,668] Trial 201 finished with value: 0.6070683558745652 and parameters: {'n_estimators': 448, 'max_depth': 13, 'learning_rate': 0.027488717342188426, 'gamma': 10.098175893422493, 'reg_lambda': 0.45702606956090375, 'min_child_weight': 2.1512882058327603}. Best is trial 106 with value: 0.6119865428937046.\n",
      "[I 2023-12-05 19:50:06,780] Trial 202 finished with value: 0.6060359595988369 and parameters: {'n_estimators': 460, 'max_depth': 13, 'learning_rate': 0.041653616283349654, 'gamma': 9.824046982819759, 'reg_lambda': 0.4273272692324614, 'min_child_weight': 2.3058189845698984}. Best is trial 106 with value: 0.6119865428937046.\n",
      "[I 2023-12-05 19:50:10,370] Trial 203 finished with value: 0.6079168441598876 and parameters: {'n_estimators': 453, 'max_depth': 13, 'learning_rate': 0.010532694110528318, 'gamma': 10.517352199819499, 'reg_lambda': 0.6813360377806063, 'min_child_weight': 2.202155686690377}. Best is trial 106 with value: 0.6119865428937046.\n",
      "[I 2023-12-05 19:50:11,959] Trial 204 finished with value: 0.6032714292040101 and parameters: {'n_estimators': 266, 'max_depth': 14, 'learning_rate': 0.0710355275713194, 'gamma': 9.27031110716563, 'reg_lambda': 0.4849484718475951, 'min_child_weight': 2.3962502838442106}. Best is trial 106 with value: 0.6119865428937046.\n",
      "[I 2023-12-05 19:50:14,265] Trial 205 finished with value: 0.6087524819582726 and parameters: {'n_estimators': 471, 'max_depth': 12, 'learning_rate': 0.030656653281874263, 'gamma': 10.25263257860091, 'reg_lambda': 0.5439951995205197, 'min_child_weight': 2.0346602310550357}. Best is trial 106 with value: 0.6119865428937046.\n",
      "[I 2023-12-05 19:50:15,765] Trial 206 finished with value: 0.5892083202357348 and parameters: {'n_estimators': 425, 'max_depth': 16, 'learning_rate': 0.6311408572992723, 'gamma': 9.738581359450723, 'reg_lambda': 0.4124923833647725, 'min_child_weight': 2.4940203602466835}. Best is trial 106 with value: 0.6119865428937046.\n",
      "[I 2023-12-05 19:50:19,720] Trial 207 finished with value: 0.5884374149474322 and parameters: {'n_estimators': 393, 'max_depth': 15, 'learning_rate': 0.05439186096503646, 'gamma': 1.1693505153693984, 'reg_lambda': 0.4398827816935296, 'min_child_weight': 1.9051982587201435}. Best is trial 106 with value: 0.6119865428937046.\n",
      "[I 2023-12-05 19:50:21,511] Trial 208 finished with value: 0.6038199498391209 and parameters: {'n_estimators': 441, 'max_depth': 13, 'learning_rate': 0.09583459152769691, 'gamma': 8.83962074792672, 'reg_lambda': 0.2556676691823127, 'min_child_weight': 2.7085961622646484}. Best is trial 106 with value: 0.6119865428937046.\n",
      "[I 2023-12-05 19:50:23,201] Trial 209 finished with value: 0.6024783616764025 and parameters: {'n_estimators': 479, 'max_depth': 15, 'learning_rate': 0.1765371287521088, 'gamma': 11.051771531273756, 'reg_lambda': 0.2866528319415349, 'min_child_weight': 2.320186936528409}. Best is trial 106 with value: 0.6119865428937046.\n",
      "[I 2023-12-05 19:50:25,083] Trial 210 finished with value: 0.6060215408879609 and parameters: {'n_estimators': 465, 'max_depth': 14, 'learning_rate': 0.0767115819196076, 'gamma': 9.298536293979602, 'reg_lambda': 0.521142565065571, 'min_child_weight': 2.10478130448065}. Best is trial 106 with value: 0.6119865428937046.\n",
      "[I 2023-12-05 19:50:26,802] Trial 211 finished with value: 0.6036809982079221 and parameters: {'n_estimators': 440, 'max_depth': 16, 'learning_rate': 0.11856059475126648, 'gamma': 9.679544295463371, 'reg_lambda': 0.3815173744868006, 'min_child_weight': 1.6598488465506718}. Best is trial 106 with value: 0.6119865428937046.\n",
      "[I 2023-12-05 19:50:28,505] Trial 212 finished with value: 0.6056816453321352 and parameters: {'n_estimators': 451, 'max_depth': 16, 'learning_rate': 0.1423170554764422, 'gamma': 9.963831624877203, 'reg_lambda': 0.37409876598677133, 'min_child_weight': 1.7339241825800544}. Best is trial 106 with value: 0.6119865428937046.\n",
      "[I 2023-12-05 19:50:30,241] Trial 213 finished with value: 0.6127457783811163 and parameters: {'n_estimators': 433, 'max_depth': 16, 'learning_rate': 0.10817271026042681, 'gamma': 9.576214156317599, 'reg_lambda': 0.3612559063105001, 'min_child_weight': 1.7561208554201568}. Best is trial 213 with value: 0.6127457783811163.\n",
      "[I 2023-12-05 19:50:32,155] Trial 214 finished with value: 0.6084519571607252 and parameters: {'n_estimators': 414, 'max_depth': 16, 'learning_rate': 0.05186961857381509, 'gamma': 10.31437756094623, 'reg_lambda': 0.3321638739820637, 'min_child_weight': 1.8647976141538285}. Best is trial 213 with value: 0.6127457783811163.\n",
      "[I 2023-12-05 19:50:33,975] Trial 215 finished with value: 0.6103810813571323 and parameters: {'n_estimators': 434, 'max_depth': 15, 'learning_rate': 0.08938507251481453, 'gamma': 9.058859485888425, 'reg_lambda': 0.353035320152735, 'min_child_weight': 2.2324851898931533}. Best is trial 213 with value: 0.6127457783811163.\n",
      "[I 2023-12-05 19:50:35,597] Trial 216 finished with value: 0.6079993601664642 and parameters: {'n_estimators': 426, 'max_depth': 15, 'learning_rate': 0.20779447800865933, 'gamma': 8.922908142481953, 'reg_lambda': 0.3149138418637848, 'min_child_weight': 2.251254031584286}. Best is trial 213 with value: 0.6127457783811163.\n",
      "[I 2023-12-05 19:50:37,356] Trial 217 finished with value: 0.6084937553249101 and parameters: {'n_estimators': 417, 'max_depth': 15, 'learning_rate': 0.09925211620119075, 'gamma': 8.58720600316748, 'reg_lambda': 0.3526348401797874, 'min_child_weight': 2.533320913308169}. Best is trial 213 with value: 0.6127457783811163.\n",
      "[I 2023-12-05 19:50:39,215] Trial 218 finished with value: 0.6035983249949668 and parameters: {'n_estimators': 432, 'max_depth': 16, 'learning_rate': 0.07192607805054615, 'gamma': 9.298450862047956, 'reg_lambda': 0.40232917602971385, 'min_child_weight': 2.39551255678575}. Best is trial 213 with value: 0.6127457783811163.\n",
      "[I 2023-12-05 19:50:41,035] Trial 219 finished with value: 0.6075442181948068 and parameters: {'n_estimators': 435, 'max_depth': 15, 'learning_rate': 0.10733688924147604, 'gamma': 7.9567364331667, 'reg_lambda': 0.34823584229071997, 'min_child_weight': 1.2690806817989206}. Best is trial 213 with value: 0.6127457783811163.\n",
      "[I 2023-12-05 19:50:42,568] Trial 220 finished with value: 0.5822463684385945 and parameters: {'n_estimators': 424, 'max_depth': 16, 'learning_rate': 0.7580798057375395, 'gamma': 9.462443913369912, 'reg_lambda': 0.29779171826744716, 'min_child_weight': 1.5506781541773633}. Best is trial 213 with value: 0.6127457783811163.\n",
      "[I 2023-12-05 19:50:44,819] Trial 221 finished with value: 0.6125101346938894 and parameters: {'n_estimators': 457, 'max_depth': 13, 'learning_rate': 0.035456701077266395, 'gamma': 9.089948174126224, 'reg_lambda': 0.1881174671069995, 'min_child_weight': 2.1837533162497267}. Best is trial 213 with value: 0.6127457783811163.\n",
      "[I 2023-12-05 19:50:46,692] Trial 222 finished with value: 0.6071145042605851 and parameters: {'n_estimators': 459, 'max_depth': 15, 'learning_rate': 0.08333721087749389, 'gamma': 8.97634802298516, 'reg_lambda': 0.33399954928223596, 'min_child_weight': 2.21742223928964}. Best is trial 213 with value: 0.6127457783811163.\n",
      "[I 2023-12-05 19:50:48,742] Trial 223 finished with value: 0.607828595689984 and parameters: {'n_estimators': 445, 'max_depth': 16, 'learning_rate': 0.056242070575882624, 'gamma': 8.532719939856793, 'reg_lambda': 0.12457266087588542, 'min_child_weight': 1.7766771110187662}. Best is trial 213 with value: 0.6127457783811163.\n",
      "[I 2023-12-05 19:50:51,088] Trial 224 finished with value: 0.6086301469609362 and parameters: {'n_estimators': 406, 'max_depth': 14, 'learning_rate': 0.027219782050875094, 'gamma': 9.622505043634481, 'reg_lambda': 0.16003743874068113, 'min_child_weight': 2.324827912298379}. Best is trial 213 with value: 0.6127457783811163.\n",
      "[I 2023-12-05 19:50:52,966] Trial 225 finished with value: 0.6039379392971214 and parameters: {'n_estimators': 470, 'max_depth': 13, 'learning_rate': 0.08438752663172192, 'gamma': 9.172234938276564, 'reg_lambda': 0.3688444473842859, 'min_child_weight': 1.9875787776041491}. Best is trial 213 with value: 0.6127457783811163.\n",
      "[I 2023-12-05 19:50:55,092] Trial 226 finished with value: 0.6094316052136335 and parameters: {'n_estimators': 436, 'max_depth': 13, 'learning_rate': 0.04263301991716835, 'gamma': 8.820614925164154, 'reg_lambda': 0.354374955586658, 'min_child_weight': 2.4409321891413924}. Best is trial 213 with value: 0.6127457783811163.\n",
      "[I 2023-12-05 19:50:56,727] Trial 227 finished with value: 0.6092224011798559 and parameters: {'n_estimators': 236, 'max_depth': 16, 'learning_rate': 0.05798284843483528, 'gamma': 9.964834833743705, 'reg_lambda': 0.2628406556184944, 'min_child_weight': 2.172434136073876}. Best is trial 213 with value: 0.6127457783811163.\n",
      "[I 2023-12-05 19:50:58,479] Trial 228 finished with value: 0.605598606634471 and parameters: {'n_estimators': 459, 'max_depth': 15, 'learning_rate': 0.12952811415659019, 'gamma': 9.405788322446119, 'reg_lambda': 0.27088152221635853, 'min_child_weight': 2.5849009427198943}. Best is trial 213 with value: 0.6127457783811163.\n",
      "[I 2023-12-05 19:51:00,200] Trial 229 finished with value: 0.608737732918292 and parameters: {'n_estimators': 417, 'max_depth': 16, 'learning_rate': 0.09294201919510887, 'gamma': 10.64166448222925, 'reg_lambda': 0.3890498231622145, 'min_child_weight': 2.9519722682266143}. Best is trial 213 with value: 0.6127457783811163.\n",
      "[I 2023-12-05 19:51:01,731] Trial 230 finished with value: 0.5989676798245835 and parameters: {'n_estimators': 401, 'max_depth': 6, 'learning_rate': 0.2353251694121627, 'gamma': 8.248158852483357, 'reg_lambda': 0.30842713220245327, 'min_child_weight': 2.3255301888890303}. Best is trial 213 with value: 0.6127457783811163.\n",
      "[I 2023-12-05 19:51:04,065] Trial 231 finished with value: 0.6076347586942099 and parameters: {'n_estimators': 450, 'max_depth': 13, 'learning_rate': 0.029262766798621432, 'gamma': 10.164090998228234, 'reg_lambda': 0.24787283284829537, 'min_child_weight': 2.071675271323884}. Best is trial 213 with value: 0.6127457783811163.\n",
      "[I 2023-12-05 19:51:06,196] Trial 232 finished with value: 0.608923414495935 and parameters: {'n_estimators': 444, 'max_depth': 12, 'learning_rate': 0.03872463466378668, 'gamma': 9.805327064372202, 'reg_lambda': 0.46446941233072103, 'min_child_weight': 1.9566661241055363}. Best is trial 213 with value: 0.6127457783811163.\n",
      "[I 2023-12-05 19:51:07,799] Trial 233 finished with value: 0.6085519936010865 and parameters: {'n_estimators': 276, 'max_depth': 13, 'learning_rate': 0.06932343723327461, 'gamma': 9.142454100084082, 'reg_lambda': 0.6941236008576069, 'min_child_weight': 2.2503871011048666}. Best is trial 213 with value: 0.6127457783811163.\n",
      "[I 2023-12-05 19:51:11,078] Trial 234 finished with value: 0.6084590287846101 and parameters: {'n_estimators': 429, 'max_depth': 13, 'learning_rate': 0.012947958353064858, 'gamma': 9.651978079838548, 'reg_lambda': 0.48593384327971595, 'min_child_weight': 4.919612300627958}. Best is trial 213 with value: 0.6127457783811163.\n",
      "[I 2023-12-05 19:51:12,872] Trial 235 finished with value: 0.6084075610554535 and parameters: {'n_estimators': 299, 'max_depth': 14, 'learning_rate': 0.04661935245722386, 'gamma': 10.256759563872308, 'reg_lambda': 0.20442234683785496, 'min_child_weight': 2.418979299919589}. Best is trial 213 with value: 0.6127457783811163.\n",
      "[I 2023-12-05 19:51:14,777] Trial 236 finished with value: 0.6099243936953401 and parameters: {'n_estimators': 458, 'max_depth': 15, 'learning_rate': 0.06921671128461754, 'gamma': 9.92902629658817, 'reg_lambda': 0.2152780953836669, 'min_child_weight': 0.43051537561276554}. Best is trial 213 with value: 0.6127457783811163.\n",
      "[I 2023-12-05 19:51:17,235] Trial 237 finished with value: 0.6047560300456277 and parameters: {'n_estimators': 474, 'max_depth': 15, 'learning_rate': 0.06886934878326585, 'gamma': 4.6643181949615204, 'reg_lambda': 0.21403015160107525, 'min_child_weight': 0.8365588679576996}. Best is trial 213 with value: 0.6127457783811163.\n",
      "[I 2023-12-05 19:51:18,916] Trial 238 finished with value: 0.5998606859045763 and parameters: {'n_estimators': 464, 'max_depth': 15, 'learning_rate': 0.2584977900275702, 'gamma': 9.252843413458615, 'reg_lambda': 0.22379146854636853, 'min_child_weight': 1.619759793701694}. Best is trial 213 with value: 0.6127457783811163.\n",
      "[I 2023-12-05 19:51:20,765] Trial 239 finished with value: 0.6089234094999122 and parameters: {'n_estimators': 481, 'max_depth': 16, 'learning_rate': 0.10917773082479054, 'gamma': 8.835033538912533, 'reg_lambda': 0.286739620263304, 'min_child_weight': 0.8786315261161844}. Best is trial 213 with value: 0.6127457783811163.\n",
      "[I 2023-12-05 19:51:22,656] Trial 240 finished with value: 0.6048879996790362 and parameters: {'n_estimators': 457, 'max_depth': 15, 'learning_rate': 0.07867090720320839, 'gamma': 9.789964551370279, 'reg_lambda': 0.23484654958184825, 'min_child_weight': 0.46183710324472027}. Best is trial 213 with value: 0.6127457783811163.\n",
      "[I 2023-12-05 19:51:24,730] Trial 241 finished with value: 0.6079842645498641 and parameters: {'n_estimators': 449, 'max_depth': 14, 'learning_rate': 0.04208368833235383, 'gamma': 10.494751625727368, 'reg_lambda': 0.20281399214019266, 'min_child_weight': 0.6465611019241785}. Best is trial 213 with value: 0.6127457783811163.\n",
      "[I 2023-12-05 19:51:26,663] Trial 242 finished with value: 0.608716990647206 and parameters: {'n_estimators': 437, 'max_depth': 13, 'learning_rate': 0.05670221812065876, 'gamma': 9.99563968099416, 'reg_lambda': 0.5031154156962581, 'min_child_weight': 0.06973859492489742}. Best is trial 213 with value: 0.6127457783811163.\n",
      "[I 2023-12-05 19:51:29,100] Trial 243 finished with value: 0.607557967359412 and parameters: {'n_estimators': 450, 'max_depth': 15, 'learning_rate': 0.02937042558440374, 'gamma': 9.470300568456844, 'reg_lambda': 0.6140738543988217, 'min_child_weight': 1.7052955741881883}. Best is trial 213 with value: 0.6127457783811163.\n",
      "[I 2023-12-05 19:51:30,485] Trial 244 finished with value: 0.6097689741636099 and parameters: {'n_estimators': 194, 'max_depth': 13, 'learning_rate': 0.08975186348242706, 'gamma': 10.148446169754678, 'reg_lambda': 0.6615558104821221, 'min_child_weight': 0.3703785364429155}. Best is trial 213 with value: 0.6127457783811163.\n",
      "[I 2023-12-05 19:51:31,842] Trial 245 finished with value: 0.6057671987881577 and parameters: {'n_estimators': 190, 'max_depth': 16, 'learning_rate': 0.09365272166529869, 'gamma': 10.766930084462109, 'reg_lambda': 0.6619195287893488, 'min_child_weight': 0.33894649163776247}. Best is trial 213 with value: 0.6127457783811163.\n",
      "[I 2023-12-05 19:51:33,123] Trial 246 finished with value: 0.604521946062907 and parameters: {'n_estimators': 191, 'max_depth': 12, 'learning_rate': 0.15075239282713754, 'gamma': 9.776827925480626, 'reg_lambda': 0.639341568549987, 'min_child_weight': 0.45405767004813147}. Best is trial 213 with value: 0.6127457783811163.\n",
      "[I 2023-12-05 19:51:34,847] Trial 247 finished with value: 0.6088291327056812 and parameters: {'n_estimators': 411, 'max_depth': 15, 'learning_rate': 0.11741914393027693, 'gamma': 9.030948040055597, 'reg_lambda': 0.535024158776318, 'min_child_weight': 0.2709330352167396}. Best is trial 213 with value: 0.6127457783811163.\n",
      "[I 2023-12-05 19:51:36,763] Trial 248 finished with value: 0.6072436789353359 and parameters: {'n_estimators': 202, 'max_depth': 13, 'learning_rate': 0.0707002920352926, 'gamma': 9.43392460446299, 'reg_lambda': 0.5992248496592882, 'min_child_weight': 0.6809137709722168}. Best is trial 213 with value: 0.6127457783811163.\n",
      "[I 2023-12-05 19:51:38,497] Trial 249 finished with value: 0.6048313190285045 and parameters: {'n_estimators': 423, 'max_depth': 14, 'learning_rate': 0.09525062178265326, 'gamma': 10.20478922299895, 'reg_lambda': 0.6785622015985713, 'min_child_weight': 1.1994918672349288}. Best is trial 213 with value: 0.6127457783811163.\n",
      "[I 2023-12-05 19:51:40,264] Trial 250 finished with value: 0.6033604026079903 and parameters: {'n_estimators': 467, 'max_depth': 16, 'learning_rate': 0.06176651323843065, 'gamma': 17.12335034191186, 'reg_lambda': 0.18028131094678662, 'min_child_weight': 0.338141706356172}. Best is trial 213 with value: 0.6127457783811163.\n",
      "[I 2023-12-05 19:51:43,090] Trial 251 finished with value: 0.6034793257746193 and parameters: {'n_estimators': 151, 'max_depth': 15, 'learning_rate': 0.01019190716986607, 'gamma': 8.792782846505823, 'reg_lambda': 0.7020500569976791, 'min_child_weight': 0.16558332215607235}. Best is trial 213 with value: 0.6127457783811163.\n",
      "[I 2023-12-05 19:51:44,379] Trial 252 finished with value: 0.6084176355015639 and parameters: {'n_estimators': 176, 'max_depth': 16, 'learning_rate': 0.13069004606179632, 'gamma': 9.520494929926658, 'reg_lambda': 0.5683354011699744, 'min_child_weight': 1.0033184285617824}. Best is trial 213 with value: 0.6127457783811163.\n",
      "[I 2023-12-05 19:51:46,190] Trial 253 finished with value: 0.6052350491769755 and parameters: {'n_estimators': 430, 'max_depth': 13, 'learning_rate': 0.0848523003870623, 'gamma': 9.969676957308105, 'reg_lambda': 0.7282096365170377, 'min_child_weight': 0.14598832302004938}. Best is trial 213 with value: 0.6127457783811163.\n",
      "[I 2023-12-05 19:51:47,443] Trial 254 finished with value: 0.6032014170432834 and parameters: {'n_estimators': 228, 'max_depth': 15, 'learning_rate': 0.39166273952601327, 'gamma': 8.442960390591962, 'reg_lambda': 0.6466727129037287, 'min_child_weight': 1.3482731951371938}. Best is trial 213 with value: 0.6127457783811163.\n",
      "[I 2023-12-05 19:51:49,145] Trial 255 finished with value: 0.6033534025181764 and parameters: {'n_estimators': 489, 'max_depth': 14, 'learning_rate': 0.1969146434583619, 'gamma': 10.610346497089328, 'reg_lambda': 0.3344463086216771, 'min_child_weight': 2.487945124192725}. Best is trial 213 with value: 0.6127457783811163.\n",
      "[I 2023-12-05 19:51:50,387] Trial 256 finished with value: 0.6109934912219919 and parameters: {'n_estimators': 153, 'max_depth': 13, 'learning_rate': 0.10588738880806166, 'gamma': 11.183373221546969, 'reg_lambda': 0.4110126121493369, 'min_child_weight': 1.8482259255257592}. Best is trial 213 with value: 0.6127457783811163.\n",
      "[I 2023-12-05 19:51:51,716] Trial 257 finished with value: 0.6079103330293523 and parameters: {'n_estimators': 67, 'max_depth': 13, 'learning_rate': 0.05404774039895899, 'gamma': 10.396137417714, 'reg_lambda': 0.40394950787937095, 'min_child_weight': 1.8321063197148728}. Best is trial 213 with value: 0.6127457783811163.\n",
      "[I 2023-12-05 19:51:52,851] Trial 258 finished with value: 0.5987978929620363 and parameters: {'n_estimators': 154, 'max_depth': 13, 'learning_rate': 0.3369684741080461, 'gamma': 11.186879979335835, 'reg_lambda': 0.4221193491355335, 'min_child_weight': 1.0360652195948332}. Best is trial 213 with value: 0.6127457783811163.\n",
      "[I 2023-12-05 19:51:53,944] Trial 259 finished with value: 0.6034835959481242 and parameters: {'n_estimators': 95, 'max_depth': 7, 'learning_rate': 0.10773505880218513, 'gamma': 11.579476503712867, 'reg_lambda': 0.362017937022833, 'min_child_weight': 0.7571117994019871}. Best is trial 213 with value: 0.6127457783811163.\n",
      "[I 2023-12-05 19:51:55,288] Trial 260 finished with value: 0.6058810700619767 and parameters: {'n_estimators': 118, 'max_depth': 13, 'learning_rate': 0.07940407674418157, 'gamma': 9.098956847612474, 'reg_lambda': 0.3925786329625251, 'min_child_weight': 0.5487359429476278}. Best is trial 213 with value: 0.6127457783811163.\n",
      "[I 2023-12-05 19:51:56,497] Trial 261 finished with value: 0.60577746645857 and parameters: {'n_estimators': 165, 'max_depth': 13, 'learning_rate': 0.15934253534233905, 'gamma': 11.075436978812007, 'reg_lambda': 0.324590858395676, 'min_child_weight': 1.9059030377301054}. Best is trial 213 with value: 0.6127457783811163.\n",
      "[I 2023-12-05 19:51:58,333] Trial 262 finished with value: 0.6049319990895837 and parameters: {'n_estimators': 254, 'max_depth': 12, 'learning_rate': 0.031077341714452127, 'gamma': 11.814836750938195, 'reg_lambda': 0.6207043605196894, 'min_child_weight': 1.7860928817730894}. Best is trial 213 with value: 0.6127457783811163.\n",
      "[I 2023-12-05 19:52:00,195] Trial 263 finished with value: 0.6042521024194605 and parameters: {'n_estimators': 461, 'max_depth': 16, 'learning_rate': 0.07255347082794429, 'gamma': 10.740709781046672, 'reg_lambda': 0.3776959835188834, 'min_child_weight': 1.4456308965213518}. Best is trial 213 with value: 0.6127457783811163.\n",
      "[I 2023-12-05 19:52:01,743] Trial 264 finished with value: 0.6080799425746235 and parameters: {'n_estimators': 139, 'max_depth': 14, 'learning_rate': 0.048565084078885615, 'gamma': 9.885597619888703, 'reg_lambda': 0.4134082899772423, 'min_child_weight': 1.5509057469766925}. Best is trial 213 with value: 0.6127457783811163.\n",
      "[I 2023-12-05 19:52:03,345] Trial 265 finished with value: 0.5974895951480699 and parameters: {'n_estimators': 443, 'max_depth': 12, 'learning_rate': 0.3217593173341014, 'gamma': 10.284627794636048, 'reg_lambda': 0.6623594413094787, 'min_child_weight': 1.6473336339447047}. Best is trial 213 with value: 0.6127457783811163.\n",
      "[I 2023-12-05 19:52:04,539] Trial 266 finished with value: 0.5667857852489508 and parameters: {'n_estimators': 218, 'max_depth': 16, 'learning_rate': 0.9838711906600133, 'gamma': 9.25072379200755, 'reg_lambda': 0.24555435374167242, 'min_child_weight': 1.88112487479369}. Best is trial 213 with value: 0.6127457783811163.\n",
      "[I 2023-12-05 19:52:05,755] Trial 267 finished with value: 0.6020291514539454 and parameters: {'n_estimators': 211, 'max_depth': 5, 'learning_rate': 0.17556117262810164, 'gamma': 8.508914739434069, 'reg_lambda': 0.43662207754266236, 'min_child_weight': 1.2063500032880972}. Best is trial 213 with value: 0.6127457783811163.\n",
      "[I 2023-12-05 19:52:06,906] Trial 268 finished with value: 0.5981338150871737 and parameters: {'n_estimators': 180, 'max_depth': 13, 'learning_rate': 0.4401513325047781, 'gamma': 9.6631733285987, 'reg_lambda': 0.2773626293117774, 'min_child_weight': 2.037351221927743}. Best is trial 213 with value: 0.6127457783811163.\n",
      "[I 2023-12-05 19:52:08,623] Trial 269 finished with value: 0.6031164745122943 and parameters: {'n_estimators': 455, 'max_depth': 13, 'learning_rate': 0.13568866223012974, 'gamma': 8.919061232043294, 'reg_lambda': 0.19786431699063872, 'min_child_weight': 2.692220230731001}. Best is trial 213 with value: 0.6127457783811163.\n",
      "[I 2023-12-05 19:52:10,061] Trial 270 finished with value: 0.6046251742988059 and parameters: {'n_estimators': 244, 'max_depth': 16, 'learning_rate': 0.10568188812858167, 'gamma': 10.12156260825494, 'reg_lambda': 0.5894966203775983, 'min_child_weight': 0.0267262651923183}. Best is trial 213 with value: 0.6127457783811163.\n",
      "[I 2023-12-05 19:52:12,317] Trial 271 finished with value: 0.6065489724465167 and parameters: {'n_estimators': 476, 'max_depth': 14, 'learning_rate': 0.02920759701601888, 'gamma': 11.230125028751562, 'reg_lambda': 0.36029379227978775, 'min_child_weight': 1.7624456860804598}. Best is trial 213 with value: 0.6127457783811163.\n",
      "[I 2023-12-05 19:52:13,675] Trial 272 finished with value: 0.6056898472997222 and parameters: {'n_estimators': 134, 'max_depth': 15, 'learning_rate': 0.05954512863129115, 'gamma': 12.268572726455572, 'reg_lambda': 0.5495806203596224, 'min_child_weight': 2.183205166885003}. Best is trial 213 with value: 0.6127457783811163.\n",
      "[I 2023-12-05 19:52:15,193] Trial 273 finished with value: 0.6013711705855376 and parameters: {'n_estimators': 388, 'max_depth': 16, 'learning_rate': 0.2700091075738741, 'gamma': 9.54453116272423, 'reg_lambda': 0.685923666692652, 'min_child_weight': 1.146854496030652}. Best is trial 213 with value: 0.6127457783811163.\n",
      "[I 2023-12-05 19:52:16,788] Trial 274 finished with value: 0.6029938595880054 and parameters: {'n_estimators': 439, 'max_depth': 12, 'learning_rate': 0.24177364102554044, 'gamma': 10.569702270159308, 'reg_lambda': 0.39053026883873365, 'min_child_weight': 1.079989852386734}. Best is trial 213 with value: 0.6127457783811163.\n",
      "[I 2023-12-05 19:52:18,467] Trial 275 finished with value: 0.6083797785219532 and parameters: {'n_estimators': 328, 'max_depth': 13, 'learning_rate': 0.09222985079144005, 'gamma': 8.000981064839012, 'reg_lambda': 0.1536359749456781, 'min_child_weight': 0.9545798605202309}. Best is trial 213 with value: 0.6127457783811163.\n",
      "[I 2023-12-05 19:52:20,597] Trial 276 finished with value: 0.6083760877362092 and parameters: {'n_estimators': 470, 'max_depth': 16, 'learning_rate': 0.04495050584041862, 'gamma': 9.184498704866915, 'reg_lambda': 0.52405500636683, 'min_child_weight': 2.615595324966306}. Best is trial 213 with value: 0.6127457783811163.\n",
      "[I 2023-12-05 19:52:22,456] Trial 277 finished with value: 0.6070437969463339 and parameters: {'n_estimators': 458, 'max_depth': 14, 'learning_rate': 0.0760668314951048, 'gamma': 9.95563744840822, 'reg_lambda': 0.23147249922280672, 'min_child_weight': 3.0613844996978914}. Best is trial 213 with value: 0.6127457783811163.\n",
      "[I 2023-12-05 19:52:24,239] Trial 278 finished with value: 0.6055105343197174 and parameters: {'n_estimators': 445, 'max_depth': 16, 'learning_rate': 0.11971323810529683, 'gamma': 8.613394814936346, 'reg_lambda': 0.6298840774672002, 'min_child_weight': 2.8467100915632058}. Best is trial 213 with value: 0.6127457783811163.\n",
      "[I 2023-12-05 19:52:26,137] Trial 279 finished with value: 0.6093716671682243 and parameters: {'n_estimators': 405, 'max_depth': 15, 'learning_rate': 0.061338851911349294, 'gamma': 9.440615253175444, 'reg_lambda': 0.4118283592698226, 'min_child_weight': 2.386419876080568}. Best is trial 213 with value: 0.6127457783811163.\n",
      "[I 2023-12-05 19:52:27,273] Trial 280 finished with value: 0.6024094040175688 and parameters: {'n_estimators': 166, 'max_depth': 13, 'learning_rate': 0.3589354629094626, 'gamma': 10.370047167368957, 'reg_lambda': 0.18808755706573443, 'min_child_weight': 1.9503458559064761}. Best is trial 213 with value: 0.6127457783811163.\n",
      "[I 2023-12-05 19:52:29,798] Trial 281 finished with value: 0.6089669020972355 and parameters: {'n_estimators': 434, 'max_depth': 15, 'learning_rate': 0.023570101303493803, 'gamma': 9.812689569057287, 'reg_lambda': 0.339855964565908, 'min_child_weight': 2.2857507981921734}. Best is trial 213 with value: 0.6127457783811163.\n",
      "[I 2023-12-05 19:52:31,469] Trial 282 finished with value: 0.6038655264511548 and parameters: {'n_estimators': 419, 'max_depth': 11, 'learning_rate': 0.09262425112776965, 'gamma': 13.105711220357888, 'reg_lambda': 0.3001932176964225, 'min_child_weight': 0.9027734780099326}. Best is trial 213 with value: 0.6127457783811163.\n",
      "[I 2023-12-05 19:52:33,971] Trial 283 finished with value: 0.6076216109359477 and parameters: {'n_estimators': 451, 'max_depth': 13, 'learning_rate': 0.045519015961432624, 'gamma': 10.86502002846156, 'reg_lambda': 0.8182539279432927, 'min_child_weight': 1.7010608556288846}. Best is trial 213 with value: 0.6127457783811163.\n",
      "[I 2023-12-05 19:52:35,612] Trial 284 finished with value: 0.6077980788887976 and parameters: {'n_estimators': 263, 'max_depth': 16, 'learning_rate': 0.07331495874889632, 'gamma': 8.949621466982176, 'reg_lambda': 0.5138984699692308, 'min_child_weight': 2.1399403144018074}. Best is trial 213 with value: 0.6127457783811163.\n",
      "[I 2023-12-05 19:52:40,143] Trial 285 finished with value: 0.6087493367028836 and parameters: {'n_estimators': 465, 'max_depth': 14, 'learning_rate': 0.010788932171257364, 'gamma': 7.624698549588531, 'reg_lambda': 0.21887478644862876, 'min_child_weight': 2.5234866574654116}. Best is trial 213 with value: 0.6127457783811163.\n",
      "[I 2023-12-05 19:52:42,025] Trial 286 finished with value: 0.608287187579497 and parameters: {'n_estimators': 477, 'max_depth': 15, 'learning_rate': 0.11445408106584, 'gamma': 8.261565556484328, 'reg_lambda': 0.44234381028546155, 'min_child_weight': 1.4937237210689753}. Best is trial 213 with value: 0.6127457783811163.\n",
      "[I 2023-12-05 19:52:43,579] Trial 287 finished with value: 0.601704382378831 and parameters: {'n_estimators': 430, 'max_depth': 16, 'learning_rate': 0.3152396374215465, 'gamma': 14.308064538577614, 'reg_lambda': 0.46871430568656036, 'min_child_weight': 0.7895944914860656}. Best is trial 213 with value: 0.6127457783811163.\n",
      "[I 2023-12-05 19:52:45,699] Trial 288 finished with value: 0.6075737378909364 and parameters: {'n_estimators': 443, 'max_depth': 13, 'learning_rate': 0.03938147140429038, 'gamma': 9.35294139553941, 'reg_lambda': 0.7694305755699293, 'min_child_weight': 3.4215978389427892}. Best is trial 213 with value: 0.6127457783811163.\n",
      "[I 2023-12-05 19:52:47,208] Trial 289 finished with value: 0.5918252320198568 and parameters: {'n_estimators': 413, 'max_depth': 15, 'learning_rate': 0.5377285773389123, 'gamma': 11.484049001809153, 'reg_lambda': 0.3764197120615948, 'min_child_weight': 1.8378584381314251}. Best is trial 213 with value: 0.6127457783811163.\n",
      "[I 2023-12-05 19:52:49,119] Trial 290 finished with value: 0.6058173799441243 and parameters: {'n_estimators': 455, 'max_depth': 12, 'learning_rate': 0.06149948065349603, 'gamma': 9.953717279199404, 'reg_lambda': 0.5739536448378082, 'min_child_weight': 2.0690300482325035}. Best is trial 213 with value: 0.6127457783811163.\n",
      "[I 2023-12-05 19:52:50,768] Trial 291 finished with value: 0.6046564293020229 and parameters: {'n_estimators': 400, 'max_depth': 16, 'learning_rate': 0.14980608132776072, 'gamma': 8.66927049011581, 'reg_lambda': 0.8599619894331624, 'min_child_weight': 0.23137749172474348}. Best is trial 213 with value: 0.6127457783811163.\n",
      "[I 2023-12-05 19:52:52,586] Trial 292 finished with value: 0.607068815658099 and parameters: {'n_estimators': 468, 'max_depth': 13, 'learning_rate': 0.09634049092047928, 'gamma': 9.603403840026013, 'reg_lambda': 0.2570649899342619, 'min_child_weight': 1.2786020804998222}. Best is trial 213 with value: 0.6127457783811163.\n",
      "[I 2023-12-05 19:52:54,147] Trial 293 finished with value: 0.6090278468056253 and parameters: {'n_estimators': 287, 'max_depth': 14, 'learning_rate': 0.08084826493105672, 'gamma': 10.309806972795464, 'reg_lambda': 0.6554379555820716, 'min_child_weight': 2.787583541955225}. Best is trial 213 with value: 0.6127457783811163.\n",
      "[I 2023-12-05 19:52:56,774] Trial 294 finished with value: 0.6065761861295252 and parameters: {'n_estimators': 487, 'max_depth': 15, 'learning_rate': 0.026653468803962382, 'gamma': 9.251638522058515, 'reg_lambda': 0.3575804551204241, 'min_child_weight': 0.39869789115644494}. Best is trial 213 with value: 0.6127457783811163.\n",
      "[I 2023-12-05 19:52:58,378] Trial 295 finished with value: 0.6045821017569211 and parameters: {'n_estimators': 422, 'max_depth': 16, 'learning_rate': 0.21911092179519556, 'gamma': 10.851355986572887, 'reg_lambda': 0.32178894720971146, 'min_child_weight': 0.5634637411793542}. Best is trial 213 with value: 0.6127457783811163.\n",
      "[I 2023-12-05 19:53:00,124] Trial 296 finished with value: 0.6073416956956874 and parameters: {'n_estimators': 435, 'max_depth': 14, 'learning_rate': 0.1300330381881915, 'gamma': 8.941479496909123, 'reg_lambda': 0.4831245104112596, 'min_child_weight': 2.4591515488741944}. Best is trial 213 with value: 0.6127457783811163.\n",
      "[I 2023-12-05 19:53:01,840] Trial 297 finished with value: 0.6039709130436461 and parameters: {'n_estimators': 446, 'max_depth': 15, 'learning_rate': 0.057324158439535255, 'gamma': 18.6173233095738, 'reg_lambda': 0.4000525975572582, 'min_child_weight': 2.3233311455384915}. Best is trial 213 with value: 0.6127457783811163.\n",
      "[I 2023-12-05 19:53:04,056] Trial 298 finished with value: 0.6055010473660664 and parameters: {'n_estimators': 461, 'max_depth': 13, 'learning_rate': 0.041896868629705174, 'gamma': 12.652627184005148, 'reg_lambda': 0.5528591344569616, 'min_child_weight': 1.5806923577897918}. Best is trial 213 with value: 0.6127457783811163.\n",
      "[I 2023-12-05 19:53:05,679] Trial 299 finished with value: 0.6064892486150446 and parameters: {'n_estimators': 427, 'max_depth': 16, 'learning_rate': 0.19425730376781178, 'gamma': 9.82030099452467, 'reg_lambda': 0.42312863485529284, 'min_child_weight': 1.386258183629024}. Best is trial 213 with value: 0.6127457783811163.\n",
      "[I 2023-12-05 19:53:07,294] Trial 300 finished with value: 0.6045877494691189 and parameters: {'n_estimators': 225, 'max_depth': 13, 'learning_rate': 0.07950113369462919, 'gamma': 7.259727419532698, 'reg_lambda': 0.6976704081127242, 'min_child_weight': 0.014121558514008536}. Best is trial 213 with value: 0.6127457783811163.\n",
      "[I 2023-12-05 19:53:08,930] Trial 301 finished with value: 0.6098073552183262 and parameters: {'n_estimators': 376, 'max_depth': 16, 'learning_rate': 0.10173303079185211, 'gamma': 10.241073685189868, 'reg_lambda': 0.5328327326943115, 'min_child_weight': 2.5844441334295767}. Best is trial 213 with value: 0.6127457783811163.\n",
      "[I 2023-12-05 19:53:10,572] Trial 302 finished with value: 0.6056714524323323 and parameters: {'n_estimators': 378, 'max_depth': 16, 'learning_rate': 0.10139320863851109, 'gamma': 10.586448822919102, 'reg_lambda': 0.6118768337333778, 'min_child_weight': 2.5822557960818315}. Best is trial 213 with value: 0.6127457783811163.\n",
      "[I 2023-12-05 19:53:12,190] Trial 303 finished with value: 0.6080158660158312 and parameters: {'n_estimators': 404, 'max_depth': 16, 'learning_rate': 0.13495558796293436, 'gamma': 10.222614921624933, 'reg_lambda': 0.5341326469784307, 'min_child_weight': 2.5139315173605317}. Best is trial 213 with value: 0.6127457783811163.\n",
      "[I 2023-12-05 19:53:13,858] Trial 304 finished with value: 0.6129681383356063 and parameters: {'n_estimators': 393, 'max_depth': 16, 'learning_rate': 0.10514697772046398, 'gamma': 10.97972191468206, 'reg_lambda': 0.5712973658634395, 'min_child_weight': 1.7554727232429925}. Best is trial 304 with value: 0.6129681383356063.\n",
      "[I 2023-12-05 19:53:15,408] Trial 305 finished with value: 0.6097462553276769 and parameters: {'n_estimators': 369, 'max_depth': 16, 'learning_rate': 0.11797375088746159, 'gamma': 11.17709162426354, 'reg_lambda': 0.5641081294175807, 'min_child_weight': 1.6858085626971835}. Best is trial 304 with value: 0.6129681383356063.\n",
      "[I 2023-12-05 19:53:16,770] Trial 306 finished with value: 0.5963700105263655 and parameters: {'n_estimators': 312, 'max_depth': 16, 'learning_rate': 0.4085131930019318, 'gamma': 11.492938866842502, 'reg_lambda': 0.5654370940579169, 'min_child_weight': 1.7691149124532561}. Best is trial 304 with value: 0.6129681383356063.\n",
      "[I 2023-12-05 19:53:18,355] Trial 307 finished with value: 0.6061196081081228 and parameters: {'n_estimators': 393, 'max_depth': 16, 'learning_rate': 0.15844155614638677, 'gamma': 10.640154477989402, 'reg_lambda': 0.5909892006504609, 'min_child_weight': 1.9960275327618229}. Best is trial 304 with value: 0.6129681383356063.\n",
      "[I 2023-12-05 19:53:19,964] Trial 308 finished with value: 0.6054435717120974 and parameters: {'n_estimators': 389, 'max_depth': 16, 'learning_rate': 0.1093095372789307, 'gamma': 11.83554398126881, 'reg_lambda': 0.5453040418528465, 'min_child_weight': 1.8762223399202742}. Best is trial 304 with value: 0.6129681383356063.\n",
      "[I 2023-12-05 19:53:21,463] Trial 309 finished with value: 0.592955956309628 and parameters: {'n_estimators': 393, 'max_depth': 3, 'learning_rate': 0.08710354509166698, 'gamma': 11.026841577306975, 'reg_lambda': 0.6775180137572078, 'min_child_weight': 1.611568346162056}. Best is trial 304 with value: 0.6129681383356063.\n",
      "[I 2023-12-05 19:53:23,116] Trial 310 finished with value: 0.6087153908474476 and parameters: {'n_estimators': 398, 'max_depth': 16, 'learning_rate': 0.12895485203409524, 'gamma': 10.21563912749649, 'reg_lambda': 0.5901278447954337, 'min_child_weight': 0.28911568767417317}. Best is trial 304 with value: 0.6129681383356063.\n",
      "[I 2023-12-05 19:53:24,666] Trial 311 finished with value: 0.5901759223146679 and parameters: {'n_estimators': 380, 'max_depth': 16, 'learning_rate': 0.46397415964692407, 'gamma': 6.4296806823602495, 'reg_lambda': 0.5150178803137792, 'min_child_weight': 0.14270859326275254}. Best is trial 304 with value: 0.6129681383356063.\n",
      "[I 2023-12-05 19:53:27,129] Trial 312 finished with value: 0.6081570629870139 and parameters: {'n_estimators': 409, 'max_depth': 16, 'learning_rate': 0.02295048208129659, 'gamma': 10.896460229400219, 'reg_lambda': 0.18722960359525742, 'min_child_weight': 0.45494181139691536}. Best is trial 304 with value: 0.6129681383356063.\n",
      "[I 2023-12-05 19:53:28,826] Trial 313 finished with value: 0.6029901851001768 and parameters: {'n_estimators': 412, 'max_depth': 16, 'learning_rate': 0.1675592373124204, 'gamma': 10.01733851426575, 'reg_lambda': 0.7233774425055576, 'min_child_weight': 1.7769302559002187}. Best is trial 304 with value: 0.6129681383356063.\n",
      "[I 2023-12-05 19:53:30,499] Trial 314 finished with value: 0.6112464655414265 and parameters: {'n_estimators': 385, 'max_depth': 16, 'learning_rate': 0.09272846906137093, 'gamma': 10.480489098370455, 'reg_lambda': 0.6398573030428721, 'min_child_weight': 1.9490789690598058}. Best is trial 304 with value: 0.6129681383356063.\n",
      "[I 2023-12-05 19:53:32,009] Trial 315 finished with value: 0.6037238153439053 and parameters: {'n_estimators': 355, 'max_depth': 16, 'learning_rate': 0.10600704236751743, 'gamma': 15.714620663330106, 'reg_lambda': 0.6308657273793125, 'min_child_weight': 1.8824643531882894}. Best is trial 304 with value: 0.6129681383356063.\n",
      "[I 2023-12-05 19:53:33,595] Trial 316 finished with value: 0.6033722443294207 and parameters: {'n_estimators': 379, 'max_depth': 16, 'learning_rate': 0.14144814483650864, 'gamma': 10.517169584561694, 'reg_lambda': 0.07712299072714845, 'min_child_weight': 1.9296769220762309}. Best is trial 304 with value: 0.6129681383356063.\n",
      "[I 2023-12-05 19:53:35,125] Trial 317 finished with value: 0.6014545995338645 and parameters: {'n_estimators': 399, 'max_depth': 16, 'learning_rate': 0.21226309148835554, 'gamma': 12.006700959911889, 'reg_lambda': 0.21927995951248475, 'min_child_weight': 2.055223216300027}. Best is trial 304 with value: 0.6129681383356063.\n",
      "[I 2023-12-05 19:53:36,969] Trial 318 finished with value: 0.6086764168539842 and parameters: {'n_estimators': 364, 'max_depth': 15, 'learning_rate': 0.0446809661979766, 'gamma': 11.3026252318189, 'reg_lambda': 0.6075942141074178, 'min_child_weight': 2.176709221173025}. Best is trial 304 with value: 0.6129681383356063.\n",
      "[I 2023-12-05 19:53:38,044] Trial 319 finished with value: 0.6048647053607301 and parameters: {'n_estimators': 81, 'max_depth': 16, 'learning_rate': 0.2562061633891971, 'gamma': 9.533442774496724, 'reg_lambda': 0.2714634187593326, 'min_child_weight': 2.6836411465933385}. Best is trial 304 with value: 0.6129681383356063.\n",
      "[I 2023-12-05 19:53:39,693] Trial 320 finished with value: 0.6060834392012091 and parameters: {'n_estimators': 386, 'max_depth': 15, 'learning_rate': 0.06469054193328276, 'gamma': 13.591145070558012, 'reg_lambda': 0.9250885904489826, 'min_child_weight': 1.716736343714455}. Best is trial 304 with value: 0.6129681383356063.\n",
      "[I 2023-12-05 19:53:42,698] Trial 321 finished with value: 0.6067227525576442 and parameters: {'n_estimators': 385, 'max_depth': 16, 'learning_rate': 0.013548099023855743, 'gamma': 10.8350832147693, 'reg_lambda': 0.451435838791336, 'min_child_weight': 1.4433013812838154}. Best is trial 304 with value: 0.6129681383356063.\n",
      "[I 2023-12-05 19:53:44,257] Trial 322 finished with value: 0.6033735592186733 and parameters: {'n_estimators': 397, 'max_depth': 15, 'learning_rate': 0.2766341941649664, 'gamma': 9.869584153990651, 'reg_lambda': 0.3868603920005119, 'min_child_weight': 1.9538954181560615}. Best is trial 304 with value: 0.6129681383356063.\n",
      "[I 2023-12-05 19:53:45,689] Trial 323 finished with value: 0.5897801326757174 and parameters: {'n_estimators': 374, 'max_depth': 16, 'learning_rate': 0.5757289556431889, 'gamma': 10.460605619126778, 'reg_lambda': 0.1686398336256973, 'min_child_weight': 2.2371689631876044}. Best is trial 304 with value: 0.6129681383356063.\n",
      "[I 2023-12-05 19:53:47,488] Trial 324 finished with value: 0.6075295650025028 and parameters: {'n_estimators': 418, 'max_depth': 16, 'learning_rate': 0.08315837936739198, 'gamma': 9.612402212149128, 'reg_lambda': 0.5331440375488039, 'min_child_weight': 1.8044846019203742}. Best is trial 304 with value: 0.6129681383356063.\n",
      "[I 2023-12-05 19:53:49,720] Trial 325 finished with value: 0.6067985172838238 and parameters: {'n_estimators': 406, 'max_depth': 15, 'learning_rate': 0.04101221506415807, 'gamma': 7.897793199803125, 'reg_lambda': 0.5000042593608605, 'min_child_weight': 1.0675390867864827}. Best is trial 304 with value: 0.6129681383356063.\n",
      "[I 2023-12-05 19:53:50,740] Trial 326 finished with value: 0.5978306229039987 and parameters: {'n_estimators': 55, 'max_depth': 16, 'learning_rate': 0.2971495524718779, 'gamma': 8.463993671581449, 'reg_lambda': 0.4085756323783244, 'min_child_weight': 2.4208232389440143}. Best is trial 304 with value: 0.6129681383356063.\n",
      "[I 2023-12-05 19:53:52,202] Trial 327 finished with value: 0.6076262938011749 and parameters: {'n_estimators': 272, 'max_depth': 15, 'learning_rate': 0.10887449172417997, 'gamma': 10.243042904524112, 'reg_lambda': 0.433443096916891, 'min_child_weight': 1.6457547402698074}. Best is trial 304 with value: 0.6129681383356063.\n",
      "[I 2023-12-05 19:53:54,013] Trial 328 finished with value: 0.5932212169377908 and parameters: {'n_estimators': 391, 'max_depth': 16, 'learning_rate': 0.2296937692689512, 'gamma': 3.1985213612148673, 'reg_lambda': 0.5816171717794395, 'min_child_weight': 2.587783407808879}. Best is trial 304 with value: 0.6129681383356063.\n",
      "[I 2023-12-05 19:53:55,584] Trial 329 finished with value: 0.596022010097764 and parameters: {'n_estimators': 437, 'max_depth': 16, 'learning_rate': 0.3552863524841936, 'gamma': 11.266338375064299, 'reg_lambda': 0.20661168985636957, 'min_child_weight': 1.512388450016939}. Best is trial 304 with value: 0.6129681383356063.\n",
      "[I 2023-12-05 19:53:57,514] Trial 330 finished with value: 0.6081028692465302 and parameters: {'n_estimators': 450, 'max_depth': 15, 'learning_rate': 0.06430129977006907, 'gamma': 9.767464354024554, 'reg_lambda': 0.46115087339058636, 'min_child_weight': 2.124200607778671}. Best is trial 304 with value: 0.6129681383356063.\n",
      "[I 2023-12-05 19:53:59,165] Trial 331 finished with value: 0.6044249017530139 and parameters: {'n_estimators': 342, 'max_depth': 14, 'learning_rate': 0.09076494669157142, 'gamma': 9.227072498614277, 'reg_lambda': 0.29077705541589693, 'min_child_weight': 2.0151083588023404}. Best is trial 304 with value: 0.6129681383356063.\n",
      "[I 2023-12-05 19:54:02,854] Trial 332 finished with value: 0.6087269975229521 and parameters: {'n_estimators': 415, 'max_depth': 16, 'learning_rate': 0.010035439543876958, 'gamma': 10.681379761395531, 'reg_lambda': 0.6420960200448038, 'min_child_weight': 0.6756355910922263}. Best is trial 304 with value: 0.6129681383356063.\n",
      "[I 2023-12-05 19:54:04,595] Trial 333 finished with value: 0.6057360030492049 and parameters: {'n_estimators': 476, 'max_depth': 15, 'learning_rate': 0.12224475805221408, 'gamma': 12.32834678580959, 'reg_lambda': 0.5544972340506459, 'min_child_weight': 2.282463960685673}. Best is trial 304 with value: 0.6129681383356063.\n",
      "[I 2023-12-05 19:54:06,810] Trial 334 finished with value: 0.6066422537842631 and parameters: {'n_estimators': 453, 'max_depth': 15, 'learning_rate': 0.03494410105440006, 'gamma': 9.995226350481751, 'reg_lambda': 0.24584299763149237, 'min_child_weight': 1.8592527635126932}. Best is trial 304 with value: 0.6129681383356063.\n",
      "[I 2023-12-05 19:54:08,534] Trial 335 finished with value: 0.602562852216652 and parameters: {'n_estimators': 494, 'max_depth': 9, 'learning_rate': 0.18322323963402454, 'gamma': 8.812313308163205, 'reg_lambda': 0.30510472561901647, 'min_child_weight': 2.490520689341848}. Best is trial 304 with value: 0.6129681383356063.\n",
      "[I 2023-12-05 19:54:10,486] Trial 336 finished with value: 0.6102914698345704 and parameters: {'n_estimators': 440, 'max_depth': 16, 'learning_rate': 0.057194986306071026, 'gamma': 9.476682141322634, 'reg_lambda': 0.5094192375264007, 'min_child_weight': 2.3691306273621233}. Best is trial 304 with value: 0.6129681383356063.\n",
      "[I 2023-12-05 19:54:12,364] Trial 337 finished with value: 0.6085666028110431 and parameters: {'n_estimators': 435, 'max_depth': 16, 'learning_rate': 0.06992591888517088, 'gamma': 9.18809268385952, 'reg_lambda': 0.5129896469337862, 'min_child_weight': 2.3462406167069036}. Best is trial 304 with value: 0.6129681383356063.\n",
      "[I 2023-12-05 19:54:14,070] Trial 338 finished with value: 0.6100730595234667 and parameters: {'n_estimators': 438, 'max_depth': 16, 'learning_rate': 0.14284265221290737, 'gamma': 9.643329935104447, 'reg_lambda': 0.5004837315651552, 'min_child_weight': 2.646541929352423}. Best is trial 304 with value: 0.6129681383356063.\n",
      "[I 2023-12-05 19:54:15,609] Trial 339 finished with value: 0.5871839824563031 and parameters: {'n_estimators': 441, 'max_depth': 16, 'learning_rate': 0.7276922425230372, 'gamma': 9.523526057006208, 'reg_lambda': 0.5117135456114791, 'min_child_weight': 2.694105486059336}. Best is trial 304 with value: 0.6129681383356063.\n",
      "[I 2023-12-05 19:54:17,204] Trial 340 finished with value: 0.5970698337795024 and parameters: {'n_estimators': 428, 'max_depth': 16, 'learning_rate': 0.38367907970468784, 'gamma': 8.277314024644928, 'reg_lambda': 0.48317136288988066, 'min_child_weight': 2.222436973390171}. Best is trial 304 with value: 0.6129681383356063.\n",
      "[I 2023-12-05 19:54:18,787] Trial 341 finished with value: 0.6013238336456905 and parameters: {'n_estimators': 445, 'max_depth': 16, 'learning_rate': 0.3734807828677482, 'gamma': 8.954277936871648, 'reg_lambda': 0.44806794021552393, 'min_child_weight': 4.49334035781189}. Best is trial 304 with value: 0.6129681383356063.\n",
      "[I 2023-12-05 19:54:20,437] Trial 342 finished with value: 0.5985064516985641 and parameters: {'n_estimators': 456, 'max_depth': 16, 'learning_rate': 0.2836910082817825, 'gamma': 9.512350425830382, 'reg_lambda': 0.47451254367450535, 'min_child_weight': 2.3533902299478706}. Best is trial 304 with value: 0.6129681383356063.\n",
      "[I 2023-12-05 19:54:22,145] Trial 343 finished with value: 0.6052257583858116 and parameters: {'n_estimators': 438, 'max_depth': 16, 'learning_rate': 0.13512070509789764, 'gamma': 8.6665820331985, 'reg_lambda': 0.4975686409423217, 'min_child_weight': 2.1202947186820964}. Best is trial 304 with value: 0.6129681383356063.\n",
      "[I 2023-12-05 19:54:24,133] Trial 344 finished with value: 0.6051272502565501 and parameters: {'n_estimators': 428, 'max_depth': 12, 'learning_rate': 0.050461599047926, 'gamma': 9.287834597850578, 'reg_lambda': 0.4778377394678519, 'min_child_weight': 2.4652678026118933}. Best is trial 304 with value: 0.6129681383356063.\n",
      "[I 2023-12-05 19:54:25,868] Trial 345 finished with value: 0.6043987842257159 and parameters: {'n_estimators': 466, 'max_depth': 14, 'learning_rate': 0.1478642653404743, 'gamma': 9.93557801966614, 'reg_lambda': 0.6070317855719887, 'min_child_weight': 0.9040079616646967}. Best is trial 304 with value: 0.6129681383356063.\n",
      "[I 2023-12-05 19:54:27,724] Trial 346 finished with value: 0.6076740783988249 and parameters: {'n_estimators': 446, 'max_depth': 16, 'learning_rate': 0.07863376387942556, 'gamma': 9.670835115355711, 'reg_lambda': 0.42038257801574996, 'min_child_weight': 1.3512396625990353}. Best is trial 304 with value: 0.6129681383356063.\n",
      "[I 2023-12-05 19:54:30,029] Trial 347 finished with value: 0.6068457838912494 and parameters: {'n_estimators': 422, 'max_depth': 11, 'learning_rate': 0.030572807291522747, 'gamma': 9.056757856295983, 'reg_lambda': 0.15028787786790604, 'min_child_weight': 2.2641767843472005}. Best is trial 304 with value: 0.6129681383356063.\n",
      "[I 2023-12-05 19:54:31,747] Trial 348 finished with value: 0.6043118514602522 and parameters: {'n_estimators': 482, 'max_depth': 12, 'learning_rate': 0.11912015195786993, 'gamma': 12.985962208064326, 'reg_lambda': 0.6290888307619837, 'min_child_weight': 2.37954586792782}. Best is trial 304 with value: 0.6129681383356063.\n",
      "[I 2023-12-05 19:54:33,779] Trial 349 finished with value: 0.6081563157901474 and parameters: {'n_estimators': 460, 'max_depth': 16, 'learning_rate': 0.05928702913659912, 'gamma': 8.710722101545002, 'reg_lambda': 0.23346715706896026, 'min_child_weight': 2.0396802972104457}. Best is trial 304 with value: 0.6129681383356063.\n",
      "[I 2023-12-05 19:54:35,603] Trial 350 finished with value: 0.6088431773036709 and parameters: {'n_estimators': 437, 'max_depth': 16, 'learning_rate': 0.09523105080503344, 'gamma': 8.104052264454932, 'reg_lambda': 0.4949162526746516, 'min_child_weight': 2.772831865085316}. Best is trial 304 with value: 0.6129681383356063.\n",
      "[I 2023-12-05 19:54:37,287] Trial 351 finished with value: 0.6035557123595744 and parameters: {'n_estimators': 452, 'max_depth': 16, 'learning_rate': 0.17189078598990704, 'gamma': 9.43172073298361, 'reg_lambda': 0.5244170529647855, 'min_child_weight': 1.1412789072564538}. Best is trial 304 with value: 0.6129681383356063.\n",
      "[I 2023-12-05 19:54:39,339] Trial 352 finished with value: 0.6068824352310044 and parameters: {'n_estimators': 430, 'max_depth': 15, 'learning_rate': 0.07735148671110019, 'gamma': 5.8330476041750075, 'reg_lambda': 0.3305464652053951, 'min_child_weight': 2.6604543772276155}. Best is trial 304 with value: 0.6129681383356063.\n",
      "[I 2023-12-05 19:54:41,371] Trial 353 finished with value: 0.6074562026122947 and parameters: {'n_estimators': 471, 'max_depth': 13, 'learning_rate': 0.05085310389577774, 'gamma': 9.862284021004138, 'reg_lambda': 0.26287488624279265, 'min_child_weight': 2.5399248259738214}. Best is trial 304 with value: 0.6129681383356063.\n",
      "[I 2023-12-05 19:54:43,752] Trial 354 finished with value: 0.6100704879076376 and parameters: {'n_estimators': 448, 'max_depth': 14, 'learning_rate': 0.029368008242275735, 'gamma': 9.125255482646994, 'reg_lambda': 0.7083004938424325, 'min_child_weight': 2.1957827214069607}. Best is trial 304 with value: 0.6129681383356063.\n",
      "[I 2023-12-05 19:54:46,034] Trial 355 finished with value: 0.6088338240690411 and parameters: {'n_estimators': 446, 'max_depth': 14, 'learning_rate': 0.036403466611310074, 'gamma': 8.400938254601977, 'reg_lambda': 0.7327647480064488, 'min_child_weight': 2.1782615058280257}. Best is trial 304 with value: 0.6129681383356063.\n",
      "[I 2023-12-05 19:54:48,808] Trial 356 finished with value: 0.6084361754776137 and parameters: {'n_estimators': 457, 'max_depth': 13, 'learning_rate': 0.027141076018939315, 'gamma': 7.731553733202861, 'reg_lambda': 0.18436687502107177, 'min_child_weight': 0.7992693885542625}. Best is trial 304 with value: 0.6129681383356063.\n",
      "[I 2023-12-05 19:54:50,436] Trial 357 finished with value: 0.5888935251089547 and parameters: {'n_estimators': 466, 'max_depth': 14, 'learning_rate': 0.5069044225716011, 'gamma': 8.993953774113617, 'reg_lambda': 0.7156443244291749, 'min_child_weight': 1.9697047462950168}. Best is trial 304 with value: 0.6129681383356063.\n",
      "[I 2023-12-05 19:54:52,977] Trial 358 finished with value: 0.5865027839475475 and parameters: {'n_estimators': 443, 'max_depth': 13, 'learning_rate': 0.305306769674654, 'gamma': 0.11595455266227717, 'reg_lambda': 0.7510024125716945, 'min_child_weight': 2.081673358624247}. Best is trial 304 with value: 0.6129681383356063.\n",
      "[I 2023-12-05 19:54:56,300] Trial 359 finished with value: 0.6058689557687711 and parameters: {'n_estimators': 453, 'max_depth': 8, 'learning_rate': 0.012518835541969756, 'gamma': 9.226234281986802, 'reg_lambda': 0.6640816920762801, 'min_child_weight': 0.5370993824884804}. Best is trial 304 with value: 0.6129681383356063.\n",
      "[I 2023-12-05 19:54:58,257] Trial 360 finished with value: 0.6068455239814436 and parameters: {'n_estimators': 440, 'max_depth': 16, 'learning_rate': 0.052098999984016986, 'gamma': 10.31288629980254, 'reg_lambda': 0.6936827131140478, 'min_child_weight': 2.1985192876703157}. Best is trial 304 with value: 0.6129681383356063.\n",
      "[I 2023-12-05 19:55:00,639] Trial 361 finished with value: 0.6102055428503418 and parameters: {'n_estimators': 474, 'max_depth': 13, 'learning_rate': 0.030879118494115516, 'gamma': 9.64933232791299, 'reg_lambda': 0.6787551092095493, 'min_child_weight': 1.8433688885136532}. Best is trial 304 with value: 0.6129681383356063.\n",
      "[I 2023-12-05 19:55:03,634] Trial 362 finished with value: 0.6088781364464755 and parameters: {'n_estimators': 480, 'max_depth': 13, 'learning_rate': 0.027370345994610603, 'gamma': 8.817610393671204, 'reg_lambda': 0.675372617840428, 'min_child_weight': 1.818767484216822}. Best is trial 304 with value: 0.6129681383356063.\n",
      "[I 2023-12-05 19:55:06,010] Trial 363 finished with value: 0.6101447359968797 and parameters: {'n_estimators': 486, 'max_depth': 12, 'learning_rate': 0.03162623984983586, 'gamma': 9.470960170382007, 'reg_lambda': 0.6937328554806027, 'min_child_weight': 1.939802799695153}. Best is trial 304 with value: 0.6129681383356063.\n",
      "[I 2023-12-05 19:55:09,607] Trial 364 finished with value: 0.6092483873914561 and parameters: {'n_estimators': 500, 'max_depth': 12, 'learning_rate': 0.012512057080826658, 'gamma': 9.561307683725781, 'reg_lambda': 0.7093213921550571, 'min_child_weight': 1.9339135223278574}. Best is trial 304 with value: 0.6129681383356063.\n",
      "[I 2023-12-05 19:55:11,998] Trial 365 finished with value: 0.6073343342154839 and parameters: {'n_estimators': 483, 'max_depth': 11, 'learning_rate': 0.03340809551863005, 'gamma': 8.476127502655645, 'reg_lambda': 0.6937058234158158, 'min_child_weight': 1.6784557820666066}. Best is trial 304 with value: 0.6129681383356063.\n",
      "[I 2023-12-05 19:55:14,248] Trial 366 finished with value: 0.6088672596573502 and parameters: {'n_estimators': 486, 'max_depth': 12, 'learning_rate': 0.038265976945070806, 'gamma': 9.168442765536966, 'reg_lambda': 0.7109366872443685, 'min_child_weight': 1.8550768370076416}. Best is trial 304 with value: 0.6129681383356063.\n",
      "[I 2023-12-05 19:55:15,868] Trial 367 finished with value: 0.5908940090952244 and parameters: {'n_estimators': 471, 'max_depth': 13, 'learning_rate': 0.6514183392504319, 'gamma': 8.884941930031232, 'reg_lambda': 0.6810547887122671, 'min_child_weight': 1.9664870404391617}. Best is trial 304 with value: 0.6129681383356063.\n",
      "[I 2023-12-05 19:55:20,035] Trial 368 finished with value: 0.6103897072419853 and parameters: {'n_estimators': 491, 'max_depth': 12, 'learning_rate': 0.010300191925625663, 'gamma': 9.545978455686624, 'reg_lambda': 0.6562050366680372, 'min_child_weight': 1.7569352357194237}. Best is trial 304 with value: 0.6129681383356063.\n",
      "[I 2023-12-05 19:55:21,685] Trial 369 finished with value: 0.5944645236841634 and parameters: {'n_estimators': 481, 'max_depth': 12, 'learning_rate': 0.44259979220306567, 'gamma': 9.576189187142669, 'reg_lambda': 0.6629744390065245, 'min_child_weight': 1.7882383475370491}. Best is trial 304 with value: 0.6129681383356063.\n",
      "[I 2023-12-05 19:55:28,144] Trial 370 finished with value: 0.6051385915209725 and parameters: {'n_estimators': 500, 'max_depth': 12, 'learning_rate': 0.010796028804173338, 'gamma': 4.934944701431707, 'reg_lambda': 0.6383863181874759, 'min_child_weight': 1.72628955955822}. Best is trial 304 with value: 0.6129681383356063.\n",
      "[I 2023-12-05 19:55:32,372] Trial 371 finished with value: 0.603673169201096 and parameters: {'n_estimators': 486, 'max_depth': 11, 'learning_rate': 0.050034782253113454, 'gamma': 1.3573097318995444, 'reg_lambda': 0.66214675060586, 'min_child_weight': 1.6211349160250978}. Best is trial 304 with value: 0.6129681383356063.\n",
      "[I 2023-12-05 19:55:34,467] Trial 372 finished with value: 0.6120759523845548 and parameters: {'n_estimators': 494, 'max_depth': 12, 'learning_rate': 0.06662693258139783, 'gamma': 9.769617232639174, 'reg_lambda': 0.6512631189704514, 'min_child_weight': 1.8957874914874715}. Best is trial 304 with value: 0.6129681383356063.\n",
      "[I 2023-12-05 19:55:36,628] Trial 373 finished with value: 0.6058408774889712 and parameters: {'n_estimators': 490, 'max_depth': 12, 'learning_rate': 0.06127201440375087, 'gamma': 10.053461631939445, 'reg_lambda': 0.6852300036012344, 'min_child_weight': 3.796165108610583}. Best is trial 304 with value: 0.6129681383356063.\n",
      "[I 2023-12-05 19:55:40,200] Trial 374 finished with value: 0.6058042162409565 and parameters: {'n_estimators': 490, 'max_depth': 11, 'learning_rate': 0.011013736909323571, 'gamma': 11.769075973629906, 'reg_lambda': 0.6433118244580808, 'min_child_weight': 1.8645695739749666}. Best is trial 304 with value: 0.6129681383356063.\n",
      "[I 2023-12-05 19:55:43,207] Trial 375 finished with value: 0.6094570899412068 and parameters: {'n_estimators': 494, 'max_depth': 12, 'learning_rate': 0.04081245515311479, 'gamma': 9.357872775404616, 'reg_lambda': 0.6523343748697411, 'min_child_weight': 1.7310658876673792}. Best is trial 304 with value: 0.6129681383356063.\n",
      "[I 2023-12-05 19:55:45,589] Trial 376 finished with value: 0.6011816248933147 and parameters: {'n_estimators': 477, 'max_depth': 12, 'learning_rate': 0.2448153533061861, 'gamma': 10.489462056309668, 'reg_lambda': 0.6734663515855175, 'min_child_weight': 1.968408209259399}. Best is trial 304 with value: 0.6129681383356063.\n",
      "[I 2023-12-05 19:55:48,227] Trial 377 finished with value: 0.6084653177718766 and parameters: {'n_estimators': 473, 'max_depth': 10, 'learning_rate': 0.07297967641827367, 'gamma': 9.838458294103184, 'reg_lambda': 0.6304781935657691, 'min_child_weight': 1.8796391698869912}. Best is trial 304 with value: 0.6129681383356063.\n",
      "[I 2023-12-05 19:55:50,029] Trial 378 finished with value: 0.5935929443993777 and parameters: {'n_estimators': 492, 'max_depth': 12, 'learning_rate': 0.43074523397348413, 'gamma': 8.23467880546521, 'reg_lambda': 0.1299506482376651, 'min_child_weight': 2.078144371566127}. Best is trial 304 with value: 0.6129681383356063.\n",
      "[I 2023-12-05 19:55:52,869] Trial 379 finished with value: 0.6073237681426786 and parameters: {'n_estimators': 491, 'max_depth': 12, 'learning_rate': 0.02734635787016881, 'gamma': 13.484714672249655, 'reg_lambda': 0.6507166136906142, 'min_child_weight': 1.515336129740459}. Best is trial 304 with value: 0.6129681383356063.\n",
      "[I 2023-12-05 19:55:55,452] Trial 380 finished with value: 0.6045973177803463 and parameters: {'n_estimators': 478, 'max_depth': 13, 'learning_rate': 0.050561031509124915, 'gamma': 8.641983433384945, 'reg_lambda': 0.3429801103926361, 'min_child_weight': 1.6217603716806146}. Best is trial 304 with value: 0.6129681383356063.\n",
      "[I 2023-12-05 19:55:58,401] Trial 381 finished with value: 0.6087564408538351 and parameters: {'n_estimators': 497, 'max_depth': 12, 'learning_rate': 0.0858666504242133, 'gamma': 9.72347058387706, 'reg_lambda': 0.6945951559795743, 'min_child_weight': 1.8017447169203464}. Best is trial 304 with value: 0.6129681383356063.\n",
      "[I 2023-12-05 19:56:00,371] Trial 382 finished with value: 0.6058019248539398 and parameters: {'n_estimators': 473, 'max_depth': 13, 'learning_rate': 0.3143324501371906, 'gamma': 14.630515926810341, 'reg_lambda': 0.9719090962023488, 'min_child_weight': 2.0205915626654485}. Best is trial 304 with value: 0.6129681383356063.\n",
      "[I 2023-12-05 19:56:02,191] Trial 383 finished with value: 0.6075657109372308 and parameters: {'n_estimators': 128, 'max_depth': 12, 'learning_rate': 0.06310161634274991, 'gamma': 10.830869197877803, 'reg_lambda': 0.7702156923383221, 'min_child_weight': 1.7478803791811361}. Best is trial 304 with value: 0.6129681383356063.\n",
      "[I 2023-12-05 19:56:04,178] Trial 384 finished with value: 0.6057069366769264 and parameters: {'n_estimators': 481, 'max_depth': 13, 'learning_rate': 0.18768073907814342, 'gamma': 7.275238352897402, 'reg_lambda': 0.37907589863197577, 'min_child_weight': 1.9126719095974316}. Best is trial 304 with value: 0.6129681383356063.\n",
      "[I 2023-12-05 19:56:06,112] Trial 385 finished with value: 0.6018982330801566 and parameters: {'n_estimators': 464, 'max_depth': 11, 'learning_rate': 0.28206235964168724, 'gamma': 10.182506107080943, 'reg_lambda': 0.43187170234395544, 'min_child_weight': 2.001134172268695}. Best is trial 304 with value: 0.6129681383356063.\n",
      "[I 2023-12-05 19:56:09,578] Trial 386 finished with value: 0.6085978724956199 and parameters: {'n_estimators': 468, 'max_depth': 13, 'learning_rate': 0.030537574397617055, 'gamma': 9.31000246582191, 'reg_lambda': 0.3052232303964538, 'min_child_weight': 2.303564911104402}. Best is trial 304 with value: 0.6129681383356063.\n",
      "[I 2023-12-05 19:56:12,298] Trial 387 finished with value: 0.6053677935578097 and parameters: {'n_estimators': 487, 'max_depth': 12, 'learning_rate': 0.09376284952961703, 'gamma': 8.87321925912787, 'reg_lambda': 0.5767869465346498, 'min_child_weight': 2.1010911896263944}. Best is trial 304 with value: 0.6129681383356063.\n",
      "[I 2023-12-05 19:56:14,687] Trial 388 finished with value: 0.6085655727277398 and parameters: {'n_estimators': 500, 'max_depth': 13, 'learning_rate': 0.04996875042871268, 'gamma': 9.899877182090203, 'reg_lambda': 0.6222030105505235, 'min_child_weight': 1.5457259599412958}. Best is trial 304 with value: 0.6129681383356063.\n",
      "[I 2023-12-05 19:56:16,505] Trial 389 finished with value: 0.6048708248158244 and parameters: {'n_estimators': 471, 'max_depth': 7, 'learning_rate': 0.07389361950373867, 'gamma': 10.464592019163643, 'reg_lambda': 0.677377897126063, 'min_child_weight': 1.7005405489472356}. Best is trial 304 with value: 0.6129681383356063.\n",
      "[I 2023-12-05 19:56:18,403] Trial 390 finished with value: 0.6090950940083498 and parameters: {'n_estimators': 486, 'max_depth': 13, 'learning_rate': 0.11213075039310383, 'gamma': 9.40327117971856, 'reg_lambda': 0.7329162150943171, 'min_child_weight': 2.9125771555996622}. Best is trial 304 with value: 0.6129681383356063.\n",
      "[I 2023-12-05 19:56:21,438] Trial 391 finished with value: 0.6043771124859733 and parameters: {'n_estimators': 319, 'max_depth': 13, 'learning_rate': 0.011400277593981666, 'gamma': 11.45798652538067, 'reg_lambda': 0.40400461369041923, 'min_child_weight': 3.263570394089689}. Best is trial 304 with value: 0.6129681383356063.\n",
      "[I 2023-12-05 19:56:23,047] Trial 392 finished with value: 0.5732493039343599 and parameters: {'n_estimators': 462, 'max_depth': 12, 'learning_rate': 0.8702125669955216, 'gamma': 7.98018200013391, 'reg_lambda': 0.6569424937591963, 'min_child_weight': 1.8550102185916204}. Best is trial 304 with value: 0.6129681383356063.\n",
      "[I 2023-12-05 19:56:24,749] Trial 393 finished with value: 0.5993466729854978 and parameters: {'n_estimators': 479, 'max_depth': 13, 'learning_rate': 0.20734235430266007, 'gamma': 10.892733216523098, 'reg_lambda': 0.36854606553364283, 'min_child_weight': 1.7905392051588505}. Best is trial 304 with value: 0.6129681383356063.\n",
      "[I 2023-12-05 19:56:26,574] Trial 394 finished with value: 0.605875400953403 and parameters: {'n_estimators': 408, 'max_depth': 12, 'learning_rate': 0.041910397355429674, 'gamma': 16.720478285309333, 'reg_lambda': 0.6011137047227317, 'min_child_weight': 4.151103608780562}. Best is trial 304 with value: 0.6129681383356063.\n",
      "[I 2023-12-05 19:56:28,560] Trial 395 finished with value: 0.6032863766347427 and parameters: {'n_estimators': 417, 'max_depth': 13, 'learning_rate': 0.08111942665681032, 'gamma': 9.05993066234736, 'reg_lambda': 0.5653348571461865, 'min_child_weight': 1.9244500001638225}. Best is trial 304 with value: 0.6129681383356063.\n",
      "[I 2023-12-05 19:56:30,728] Trial 396 finished with value: 0.605145122252704 and parameters: {'n_estimators': 461, 'max_depth': 11, 'learning_rate': 0.06412736252208773, 'gamma': 9.733826229212925, 'reg_lambda': 0.02517481171511382, 'min_child_weight': 2.1609361237733764}. Best is trial 304 with value: 0.6129681383356063.\n",
      "[I 2023-12-05 19:56:32,524] Trial 397 finished with value: 0.60297339466187 and parameters: {'n_estimators': 429, 'max_depth': 13, 'learning_rate': 0.1008511646131502, 'gamma': 8.593304708309514, 'reg_lambda': 0.44848222636419677, 'min_child_weight': 1.6497750157910283}. Best is trial 304 with value: 0.6129681383356063.\n",
      "[I 2023-12-05 19:56:34,196] Trial 398 finished with value: 0.6006030746766058 and parameters: {'n_estimators': 493, 'max_depth': 12, 'learning_rate': 0.40991467707222934, 'gamma': 10.188986832526881, 'reg_lambda': 0.27476219956931097, 'min_child_weight': 2.295007047196729}. Best is trial 304 with value: 0.6129681383356063.\n",
      "[I 2023-12-05 19:56:35,300] Trial 399 finished with value: 0.6079963324141476 and parameters: {'n_estimators': 96, 'max_depth': 14, 'learning_rate': 0.22598432724262535, 'gamma': 9.418309187721878, 'reg_lambda': 0.35052947532246004, 'min_child_weight': 2.032955430172445}. Best is trial 304 with value: 0.6129681383356063.\n",
      "[I 2023-12-05 19:56:37,567] Trial 400 finished with value: 0.6073159527004173 and parameters: {'n_estimators': 472, 'max_depth': 13, 'learning_rate': 0.03159321777754773, 'gamma': 10.569804388294664, 'reg_lambda': 0.31491338354675513, 'min_child_weight': 2.380280702356855}. Best is trial 304 with value: 0.6129681383356063.\n",
      "[I 2023-12-05 19:56:39,777] Trial 401 finished with value: 0.6054821931706594 and parameters: {'n_estimators': 450, 'max_depth': 12, 'learning_rate': 0.0524079556101461, 'gamma': 7.552166262149282, 'reg_lambda': 0.3934705892524304, 'min_child_weight': 1.5569635742244734}. Best is trial 304 with value: 0.6129681383356063.\n",
      "[I 2023-12-05 19:56:41,164] Trial 402 finished with value: 0.5995238119783112 and parameters: {'n_estimators': 302, 'max_depth': 14, 'learning_rate': 0.2524526034207564, 'gamma': 9.947806564496096, 'reg_lambda': 0.5531041094234835, 'min_child_weight': 1.4223360842983994}. Best is trial 304 with value: 0.6129681383356063.\n",
      "[I 2023-12-05 19:56:42,790] Trial 403 finished with value: 0.6045201828186417 and parameters: {'n_estimators': 422, 'max_depth': 13, 'learning_rate': 0.12615467387487428, 'gamma': 12.736221434452606, 'reg_lambda': 0.6430706039330308, 'min_child_weight': 1.7912248365519623}. Best is trial 304 with value: 0.6129681383356063.\n",
      "[I 2023-12-05 19:56:45,273] Trial 404 finished with value: 0.6081350641260014 and parameters: {'n_estimators': 479, 'max_depth': 13, 'learning_rate': 0.029770920309250624, 'gamma': 9.120892274091728, 'reg_lambda': 0.6886019783042182, 'min_child_weight': 1.8908606450323997}. Best is trial 304 with value: 0.6129681383356063.\n",
      "[I 2023-12-05 19:56:46,895] Trial 405 finished with value: 0.5958918150248194 and parameters: {'n_estimators': 461, 'max_depth': 13, 'learning_rate': 0.4932342018469848, 'gamma': 9.570237536822724, 'reg_lambda': 0.6208197162137145, 'min_child_weight': 2.2644213949478105}. Best is trial 304 with value: 0.6129681383356063.\n",
      "[I 2023-12-05 19:56:48,742] Trial 406 finished with value: 0.6076664745141688 and parameters: {'n_estimators': 454, 'max_depth': 10, 'learning_rate': 0.07970612119972054, 'gamma': 8.6365112735316, 'reg_lambda': 0.4117812230900928, 'min_child_weight': 2.1074335518483682}. Best is trial 304 with value: 0.6129681383356063.\n",
      "[I 2023-12-05 19:56:50,372] Trial 407 finished with value: 0.6050822893561649 and parameters: {'n_estimators': 433, 'max_depth': 16, 'learning_rate': 0.16735816825688335, 'gamma': 11.134501970334739, 'reg_lambda': 0.4665839638818917, 'min_child_weight': 1.2733905957090021}. Best is trial 304 with value: 0.6129681383356063.\n",
      "[I 2023-12-05 19:56:52,595] Trial 408 finished with value: 0.6060391348621466 and parameters: {'n_estimators': 486, 'max_depth': 13, 'learning_rate': 0.06077453559613393, 'gamma': 6.393836911945443, 'reg_lambda': 0.6699123424756539, 'min_child_weight': 2.394376570581207}. Best is trial 304 with value: 0.6129681383356063.\n",
      "[I 2023-12-05 19:56:54,176] Trial 409 finished with value: 0.6049358388472903 and parameters: {'n_estimators': 405, 'max_depth': 12, 'learning_rate': 0.09547243668721789, 'gamma': 18.69969725752525, 'reg_lambda': 0.719848206472238, 'min_child_weight': 1.6975216341996606}. Best is trial 304 with value: 0.6129681383356063.\n",
      "[I 2023-12-05 19:56:56,600] Trial 410 finished with value: 0.6042946066932975 and parameters: {'n_estimators': 465, 'max_depth': 14, 'learning_rate': 0.02183655620978949, 'gamma': 12.204983330256006, 'reg_lambda': 0.4258064923466427, 'min_child_weight': 3.5586679796864917}. Best is trial 304 with value: 0.6129681383356063.\n",
      "[I 2023-12-05 19:56:58,627] Trial 411 finished with value: 0.6081376401377292 and parameters: {'n_estimators': 416, 'max_depth': 12, 'learning_rate': 0.04589098491863585, 'gamma': 10.266886865924207, 'reg_lambda': 0.10649121371040177, 'min_child_weight': 1.9535572332853464}. Best is trial 304 with value: 0.6129681383356063.\n",
      "[I 2023-12-05 19:57:00,425] Trial 412 finished with value: 0.61130431698181 and parameters: {'n_estimators': 440, 'max_depth': 16, 'learning_rate': 0.11635893418981152, 'gamma': 9.308172724243601, 'reg_lambda': 0.5309911844123383, 'min_child_weight': 2.470893564237251}. Best is trial 304 with value: 0.6129681383356063.\n",
      "[I 2023-12-05 19:57:02,030] Trial 413 finished with value: 0.5960706807747191 and parameters: {'n_estimators': 444, 'max_depth': 16, 'learning_rate': 0.33261518090534214, 'gamma': 8.927921382558752, 'reg_lambda': 0.5398479670020483, 'min_child_weight': 2.453127800172896}. Best is trial 304 with value: 0.6129681383356063.\n",
      "[I 2023-12-05 19:57:03,671] Trial 414 finished with value: 0.593469237341871 and parameters: {'n_estimators': 437, 'max_depth': 16, 'learning_rate': 0.363272622385573, 'gamma': 9.26277112291449, 'reg_lambda': 0.5277170781173653, 'min_child_weight': 2.5558714842900137}. Best is trial 304 with value: 0.6129681383356063.\n",
      "[I 2023-12-05 19:57:05,236] Trial 415 finished with value: 0.5979697469857574 and parameters: {'n_estimators': 453, 'max_depth': 11, 'learning_rate': 0.46924688684632737, 'gamma': 15.981464530173534, 'reg_lambda': 0.5730201990478838, 'min_child_weight': 2.246889228430637}. Best is trial 304 with value: 0.6129681383356063.\n",
      "[I 2023-12-05 19:57:06,847] Trial 416 finished with value: 0.6064708796727164 and parameters: {'n_estimators': 446, 'max_depth': 16, 'learning_rate': 0.14165028098389768, 'gamma': 15.216823391890891, 'reg_lambda': 0.07652541476769459, 'min_child_weight': 2.4415215419325786}. Best is trial 304 with value: 0.6129681383356063.\n",
      "[I 2023-12-05 19:57:08,735] Trial 417 finished with value: 0.603957187729487 and parameters: {'n_estimators': 469, 'max_depth': 16, 'learning_rate': 0.11503198796558162, 'gamma': 8.37120629048742, 'reg_lambda': 0.5159448813878331, 'min_child_weight': 2.3627435941511723}. Best is trial 304 with value: 0.6129681383356063.\n",
      "[I 2023-12-05 19:57:10,551] Trial 418 finished with value: 0.6047360544804418 and parameters: {'n_estimators': 458, 'max_depth': 16, 'learning_rate': 0.1048853655612848, 'gamma': 9.57137384519929, 'reg_lambda': 0.28286673623025993, 'min_child_weight': 2.1455373821332335}. Best is trial 304 with value: 0.6129681383356063.\n",
      "[I 2023-12-05 19:57:12,271] Trial 419 finished with value: 0.607261305298463 and parameters: {'n_estimators': 431, 'max_depth': 16, 'learning_rate': 0.12182369238518412, 'gamma': 8.77496875944671, 'reg_lambda': 0.5459157230566337, 'min_child_weight': 4.692705775132204}. Best is trial 304 with value: 0.6129681383356063.\n",
      "[I 2023-12-05 19:57:14,089] Trial 420 finished with value: 0.6049749572267056 and parameters: {'n_estimators': 476, 'max_depth': 16, 'learning_rate': 0.15783026162829822, 'gamma': 7.972996609383911, 'reg_lambda': 0.4561434203568633, 'min_child_weight': 2.5257270786872903}. Best is trial 304 with value: 0.6129681383356063.\n",
      "[I 2023-12-05 19:57:16,021] Trial 421 finished with value: 0.6060591911758026 and parameters: {'n_estimators': 441, 'max_depth': 16, 'learning_rate': 0.08283360994485922, 'gamma': 7.1358575315305535, 'reg_lambda': 0.9035763265315476, 'min_child_weight': 2.0087126649907754}. Best is trial 304 with value: 0.6129681383356063.\n",
      "[I 2023-12-05 19:57:18,008] Trial 422 finished with value: 0.609655513685278 and parameters: {'n_estimators': 494, 'max_depth': 16, 'learning_rate': 0.07025018186014483, 'gamma': 9.246966844580493, 'reg_lambda': 0.3764464742244694, 'min_child_weight': 2.293793556841384}. Best is trial 304 with value: 0.6129681383356063.\n",
      "[I 2023-12-05 19:57:19,555] Trial 423 finished with value: 0.6115267085122904 and parameters: {'n_estimators': 290, 'max_depth': 16, 'learning_rate': 0.09593789864549826, 'gamma': 9.749926133500884, 'reg_lambda': 0.32626599328867995, 'min_child_weight': 2.123761466667772}. Best is trial 304 with value: 0.6129681383356063.\n",
      "[I 2023-12-05 19:57:21,161] Trial 424 finished with value: 0.606877658617461 and parameters: {'n_estimators': 345, 'max_depth': 16, 'learning_rate': 0.10139180618133142, 'gamma': 9.848806703711642, 'reg_lambda': 0.3196131162308627, 'min_child_weight': 4.995083859179421}. Best is trial 304 with value: 0.6129681383356063.\n",
      "[I 2023-12-05 19:57:22,684] Trial 425 finished with value: 0.6090476540250078 and parameters: {'n_estimators': 328, 'max_depth': 12, 'learning_rate': 0.13230774935592116, 'gamma': 9.983561491174184, 'reg_lambda': 0.35118837102386585, 'min_child_weight': 2.1110993850563546}. Best is trial 304 with value: 0.6129681383356063.\n",
      "[I 2023-12-05 19:57:24,271] Trial 426 finished with value: 0.5962795805980433 and parameters: {'n_estimators': 438, 'max_depth': 2, 'learning_rate': 0.09158102975471578, 'gamma': 13.803549140541763, 'reg_lambda': 0.5889885011079814, 'min_child_weight': 2.183326430008041}. Best is trial 304 with value: 0.6129681383356063.\n",
      "[I 2023-12-05 19:57:25,959] Trial 427 finished with value: 0.6082183946338182 and parameters: {'n_estimators': 426, 'max_depth': 16, 'learning_rate': 0.11528819711043448, 'gamma': 10.53827690051282, 'reg_lambda': 0.3240925708555558, 'min_child_weight': 2.0053841982579677}. Best is trial 304 with value: 0.6129681383356063.\n",
      "[I 2023-12-05 19:57:27,573] Trial 428 finished with value: 0.5968510934682468 and parameters: {'n_estimators': 449, 'max_depth': 12, 'learning_rate': 0.4237639912448429, 'gamma': 9.635183279991368, 'reg_lambda': 0.3702617061160424, 'min_child_weight': 1.8697475176962526}. Best is trial 304 with value: 0.6129681383356063.\n",
      "[I 2023-12-05 19:57:29,242] Trial 429 finished with value: 0.6069640466082082 and parameters: {'n_estimators': 423, 'max_depth': 6, 'learning_rate': 0.15692990064207074, 'gamma': 9.02561991280647, 'reg_lambda': 0.2949357064136088, 'min_child_weight': 2.234743914126161}. Best is trial 304 with value: 0.6129681383356063.\n",
      "[I 2023-12-05 19:57:30,990] Trial 430 finished with value: 0.6019117840089276 and parameters: {'n_estimators': 500, 'max_depth': 11, 'learning_rate': 0.3413752376549275, 'gamma': 17.781803761800766, 'reg_lambda': 0.33910233118107885, 'min_child_weight': 2.347729985925809}. Best is trial 304 with value: 0.6129681383356063.\n",
      "[I 2023-12-05 19:57:32,963] Trial 431 finished with value: 0.6078131245965902 and parameters: {'n_estimators': 433, 'max_depth': 16, 'learning_rate': 0.069418824453834, 'gamma': 10.244885700216392, 'reg_lambda': 0.39369025445996764, 'min_child_weight': 2.0805632175155577}. Best is trial 304 with value: 0.6129681383356063.\n",
      "[I 2023-12-05 19:57:34,728] Trial 432 finished with value: 0.6055676756593573 and parameters: {'n_estimators': 485, 'max_depth': 13, 'learning_rate': 0.18725390330899905, 'gamma': 8.30748428724067, 'reg_lambda': 0.5520431734322402, 'min_child_weight': 1.9256176862853829}. Best is trial 304 with value: 0.6129681383356063.\n",
      "[I 2023-12-05 19:57:36,094] Trial 433 finished with value: 0.6028463623734495 and parameters: {'n_estimators': 294, 'max_depth': 16, 'learning_rate': 0.46638208519897206, 'gamma': 6.98768412711841, 'reg_lambda': 0.26539235824933366, 'min_child_weight': 4.834045785821024}. Best is trial 304 with value: 0.6129681383356063.\n",
      "[I 2023-12-05 19:57:37,908] Trial 434 finished with value: 0.6073155336786735 and parameters: {'n_estimators': 362, 'max_depth': 15, 'learning_rate': 0.05058571432217755, 'gamma': 11.822884550123845, 'reg_lambda': 0.018353772997983908, 'min_child_weight': 1.8044048973423694}. Best is trial 304 with value: 0.6129681383356063.\n",
      "[I 2023-12-05 19:57:39,428] Trial 435 finished with value: 0.6071596416806448 and parameters: {'n_estimators': 315, 'max_depth': 13, 'learning_rate': 0.08959099086207443, 'gamma': 13.411702344439451, 'reg_lambda': 0.24534673431599838, 'min_child_weight': 2.056449471808579}. Best is trial 304 with value: 0.6129681383356063.\n",
      "[I 2023-12-05 19:57:41,036] Trial 436 finished with value: 0.5973254901134089 and parameters: {'n_estimators': 454, 'max_depth': 12, 'learning_rate': 0.404686920939331, 'gamma': 9.396248906502386, 'reg_lambda': 0.49683842210788376, 'min_child_weight': 2.1958768492916945}. Best is trial 304 with value: 0.6129681383356063.\n",
      "[I 2023-12-05 19:57:42,279] Trial 437 finished with value: 0.6053876033452893 and parameters: {'n_estimators': 156, 'max_depth': 16, 'learning_rate': 0.14240789988262761, 'gamma': 9.911867031826286, 'reg_lambda': 0.4326529136697525, 'min_child_weight': 1.6003241408090103}. Best is trial 304 with value: 0.6129681383356063.\n",
      "[I 2023-12-05 19:57:43,861] Trial 438 finished with value: 0.5914680857868545 and parameters: {'n_estimators': 444, 'max_depth': 16, 'learning_rate': 0.598808699016698, 'gamma': 11.124284684994016, 'reg_lambda': 0.3036873946912652, 'min_child_weight': 2.4183571663009347}. Best is trial 304 with value: 0.6129681383356063.\n",
      "[I 2023-12-05 19:57:45,187] Trial 439 finished with value: 0.5923624975997266 and parameters: {'n_estimators': 289, 'max_depth': 11, 'learning_rate': 0.5398460943785681, 'gamma': 8.9150002185823, 'reg_lambda': 0.9984429902012202, 'min_child_weight': 1.7326274082419106}. Best is trial 304 with value: 0.6129681383356063.\n",
      "[I 2023-12-05 19:57:47,079] Trial 440 finished with value: 0.6064737272698285 and parameters: {'n_estimators': 424, 'max_depth': 13, 'learning_rate': 0.064927986577406, 'gamma': 9.650538899691412, 'reg_lambda': 0.4730163718559338, 'min_child_weight': 1.415315293276837}. Best is trial 304 with value: 0.6129681383356063.\n",
      "[I 2023-12-05 19:57:48,742] Trial 441 finished with value: 0.6031097762069431 and parameters: {'n_estimators': 478, 'max_depth': 15, 'learning_rate': 0.3511546924197868, 'gamma': 10.785422303895448, 'reg_lambda': 0.1920931958157793, 'min_child_weight': 1.9725607641012646}. Best is trial 304 with value: 0.6129681383356063.\n",
      "[I 2023-12-05 19:57:50,203] Trial 442 finished with value: 0.5992792376603229 and parameters: {'n_estimators': 336, 'max_depth': 16, 'learning_rate': 0.29224227345505294, 'gamma': 8.63309905314676, 'reg_lambda': 0.5264580049779969, 'min_child_weight': 2.29824353601817}. Best is trial 304 with value: 0.6129681383356063.\n",
      "[I 2023-12-05 19:57:51,820] Trial 443 finished with value: 0.6067083635144842 and parameters: {'n_estimators': 440, 'max_depth': 13, 'learning_rate': 0.11041225067932275, 'gamma': 17.46743235038056, 'reg_lambda': 0.1390606295529065, 'min_child_weight': 2.1316943848706162}. Best is trial 304 with value: 0.6129681383356063.\n",
      "[I 2023-12-05 19:57:55,533] Trial 444 finished with value: 0.6096628636246437 and parameters: {'n_estimators': 391, 'max_depth': 16, 'learning_rate': 0.01125090297092305, 'gamma': 9.225429953955235, 'reg_lambda': 0.3528370113607456, 'min_child_weight': 2.485608195787447}. Best is trial 304 with value: 0.6129681383356063.\n",
      "[I 2023-12-05 19:57:57,443] Trial 445 finished with value: 0.6063090930909308 and parameters: {'n_estimators': 456, 'max_depth': 10, 'learning_rate': 0.04331872752344809, 'gamma': 14.840966384197626, 'reg_lambda': 0.8251253636938742, 'min_child_weight': 1.8565726956491966}. Best is trial 304 with value: 0.6129681383356063.\n",
      "[I 2023-12-05 19:57:59,209] Trial 446 finished with value: 0.6081809830439247 and parameters: {'n_estimators': 492, 'max_depth': 13, 'learning_rate': 0.20442247007533826, 'gamma': 10.174263837536738, 'reg_lambda': 0.331159767366817, 'min_child_weight': 1.2169958971369508}. Best is trial 304 with value: 0.6129681383356063.\n",
      "[I 2023-12-05 19:58:01,059] Trial 447 finished with value: 0.611189004343573 and parameters: {'n_estimators': 466, 'max_depth': 12, 'learning_rate': 0.08384717540414377, 'gamma': 9.670993934114717, 'reg_lambda': 0.6110631639663603, 'min_child_weight': 2.233150102079622}. Best is trial 304 with value: 0.6129681383356063.\n",
      "[I 2023-12-05 19:58:02,837] Trial 448 finished with value: 0.6089325750120047 and parameters: {'n_estimators': 463, 'max_depth': 15, 'learning_rate': 0.09050582343909369, 'gamma': 11.439137875330177, 'reg_lambda': 0.5816683656719975, 'min_child_weight': 2.2529384243739456}. Best is trial 304 with value: 0.6129681383356063.\n",
      "[I 2023-12-05 19:58:04,555] Trial 449 finished with value: 0.6050994968122825 and parameters: {'n_estimators': 449, 'max_depth': 16, 'learning_rate': 0.11808909239838955, 'gamma': 12.467091495108232, 'reg_lambda': 0.6126562498519905, 'min_child_weight': 2.337211929386392}. Best is trial 304 with value: 0.6129681383356063.\n",
      "[I 2023-12-05 19:58:07,103] Trial 450 finished with value: 0.5969736556889821 and parameters: {'n_estimators': 434, 'max_depth': 12, 'learning_rate': 0.07902723753407881, 'gamma': 2.3405931648593175, 'reg_lambda': 0.11453899577216356, 'min_child_weight': 2.422030312905856}. Best is trial 304 with value: 0.6129681383356063.\n",
      "[I 2023-12-05 19:58:09,708] Trial 451 finished with value: 0.6014061492090268 and parameters: {'n_estimators': 467, 'max_depth': 14, 'learning_rate': 0.26258136096285634, 'gamma': 10.543939929220096, 'reg_lambda': 0.563782251890255, 'min_child_weight': 2.1877173490383974}. Best is trial 304 with value: 0.6129681383356063.\n",
      "[I 2023-12-05 19:58:12,565] Trial 452 finished with value: 0.6092864424857647 and parameters: {'n_estimators': 454, 'max_depth': 16, 'learning_rate': 0.10305781245353986, 'gamma': 9.902514355017018, 'reg_lambda': 0.6138130840679377, 'min_child_weight': 2.5819285058235772}. Best is trial 304 with value: 0.6129681383356063.\n",
      "[I 2023-12-05 19:58:14,280] Trial 453 finished with value: 0.6055386305844394 and parameters: {'n_estimators': 414, 'max_depth': 13, 'learning_rate': 0.13534809640602882, 'gamma': 10.292848214595985, 'reg_lambda': 0.41094334859209364, 'min_child_weight': 2.351187044230727}. Best is trial 304 with value: 0.6129681383356063.\n",
      "[I 2023-12-05 19:58:15,508] Trial 454 finished with value: 0.6053191261130778 and parameters: {'n_estimators': 117, 'max_depth': 15, 'learning_rate': 0.22795602103726867, 'gamma': 9.083909393875551, 'reg_lambda': 0.59599790092228, 'min_child_weight': 2.086520022829987}. Best is trial 304 with value: 0.6129681383356063.\n",
      "[I 2023-12-05 19:58:17,516] Trial 455 finished with value: 0.6065370065188312 and parameters: {'n_estimators': 460, 'max_depth': 16, 'learning_rate': 0.06890769233329683, 'gamma': 7.72012026180424, 'reg_lambda': 0.44449174578133566, 'min_child_weight': 4.237848138762232}. Best is trial 304 with value: 0.6129681383356063.\n",
      "[I 2023-12-05 19:58:19,247] Trial 456 finished with value: 0.6052308060132019 and parameters: {'n_estimators': 400, 'max_depth': 8, 'learning_rate': 0.10290502141450433, 'gamma': 9.755452805160804, 'reg_lambda': 0.17948137630462235, 'min_child_weight': 2.252843951488384}. Best is trial 304 with value: 0.6129681383356063.\n",
      "[I 2023-12-05 19:58:21,311] Trial 457 finished with value: 0.6085352840257798 and parameters: {'n_estimators': 446, 'max_depth': 13, 'learning_rate': 0.05702826431743617, 'gamma': 8.403725961672754, 'reg_lambda': 0.36940119381699277, 'min_child_weight': 1.3503048218259157}. Best is trial 304 with value: 0.6129681383356063.\n",
      "[I 2023-12-05 19:58:23,007] Trial 458 finished with value: 0.609340300975718 and parameters: {'n_estimators': 471, 'max_depth': 12, 'learning_rate': 0.17760352521460315, 'gamma': 10.922149842006633, 'reg_lambda': 0.6363636073203823, 'min_child_weight': 4.497409525761928}. Best is trial 304 with value: 0.6129681383356063.\n",
      "[I 2023-12-05 19:58:24,556] Trial 459 finished with value: 0.6040991611317814 and parameters: {'n_estimators': 206, 'max_depth': 16, 'learning_rate': 0.08164848932992755, 'gamma': 9.465098416429964, 'reg_lambda': 0.05051632897323263, 'min_child_weight': 1.4922876603733037}. Best is trial 304 with value: 0.6129681383356063.\n",
      "[I 2023-12-05 19:58:25,727] Trial 460 finished with value: 0.5962563035427493 and parameters: {'n_estimators': 180, 'max_depth': 4, 'learning_rate': 0.5234828650567751, 'gamma': 8.755359067700265, 'reg_lambda': 0.5396132202344428, 'min_child_weight': 2.441689699007523}. Best is trial 304 with value: 0.6129681383356063.\n",
      "[I 2023-12-05 19:58:27,692] Trial 461 finished with value: 0.599665830468423 and parameters: {'n_estimators': 422, 'max_depth': 15, 'learning_rate': 0.12027709974426988, 'gamma': 5.958020985461152, 'reg_lambda': 0.38550612283765157, 'min_child_weight': 0.999839243774117}. Best is trial 304 with value: 0.6129681383356063.\n",
      "[I 2023-12-05 19:58:29,567] Trial 462 finished with value: 0.5928990961077163 and parameters: {'n_estimators': 433, 'max_depth': 13, 'learning_rate': 0.40250341490327446, 'gamma': 10.015627869903476, 'reg_lambda': 0.16578190928673875, 'min_child_weight': 1.7153002951464216}. Best is trial 304 with value: 0.6129681383356063.\n",
      "[I 2023-12-05 19:58:31,196] Trial 463 finished with value: 0.5971938819886594 and parameters: {'n_estimators': 442, 'max_depth': 16, 'learning_rate': 0.29740476617441863, 'gamma': 9.216798070035928, 'reg_lambda': 0.5976610839581622, 'min_child_weight': 2.5130397510731157}. Best is trial 304 with value: 0.6129681383356063.\n",
      "[I 2023-12-05 19:58:33,067] Trial 464 finished with value: 0.6072308056500618 and parameters: {'n_estimators': 458, 'max_depth': 14, 'learning_rate': 0.04826921440626539, 'gamma': 15.717215336903884, 'reg_lambda': 0.49112355512341216, 'min_child_weight': 2.14531468507815}. Best is trial 304 with value: 0.6129681383356063.\n",
      "[I 2023-12-05 19:58:34,678] Trial 465 finished with value: 0.6051265037368521 and parameters: {'n_estimators': 386, 'max_depth': 16, 'learning_rate': 0.15456039359718027, 'gamma': 10.588867938872598, 'reg_lambda': 0.42538942151087134, 'min_child_weight': 3.2751133702585}. Best is trial 304 with value: 0.6129681383356063.\n",
      "[I 2023-12-05 19:58:36,339] Trial 466 finished with value: 0.6033731056867775 and parameters: {'n_estimators': 352, 'max_depth': 12, 'learning_rate': 0.08771040287152447, 'gamma': 9.63431521671321, 'reg_lambda': 0.20351332892950286, 'min_child_weight': 1.6317331624445055}. Best is trial 304 with value: 0.6129681383356063.\n",
      "[I 2023-12-05 19:58:38,193] Trial 467 finished with value: 0.6087577318778554 and parameters: {'n_estimators': 409, 'max_depth': 15, 'learning_rate': 0.0661467828590193, 'gamma': 10.152645888182668, 'reg_lambda': 0.28397764995358754, 'min_child_weight': 2.0320739445519576}. Best is trial 304 with value: 0.6129681383356063.\n",
      "[I 2023-12-05 19:58:40,967] Trial 468 finished with value: 0.6083391412649297 and parameters: {'n_estimators': 278, 'max_depth': 13, 'learning_rate': 0.02833802431138904, 'gamma': 8.205961947369055, 'reg_lambda': 0.5147380019823852, 'min_child_weight': 1.803310848429293}. Best is trial 304 with value: 0.6129681383356063.\n",
      "[I 2023-12-05 19:58:42,642] Trial 469 finished with value: 0.6027256286481926 and parameters: {'n_estimators': 472, 'max_depth': 9, 'learning_rate': 0.12952384944387899, 'gamma': 19.674354490616654, 'reg_lambda': 0.32273558177878353, 'min_child_weight': 2.3060204659823826}. Best is trial 304 with value: 0.6129681383356063.\n",
      "[I 2023-12-05 19:58:44,429] Trial 470 finished with value: 0.6083024852850178 and parameters: {'n_estimators': 427, 'max_depth': 16, 'learning_rate': 0.10601957397868167, 'gamma': 8.903208712272859, 'reg_lambda': 0.45632293014497194, 'min_child_weight': 2.181913509440805}. Best is trial 304 with value: 0.6129681383356063.\n",
      "[I 2023-12-05 19:58:46,405] Trial 471 finished with value: 0.6086219773034914 and parameters: {'n_estimators': 449, 'max_depth': 16, 'learning_rate': 0.046614138120482825, 'gamma': 11.597519732217757, 'reg_lambda': 0.35203139176856474, 'min_child_weight': 2.6444438722659926}. Best is trial 304 with value: 0.6129681383356063.\n",
      "[I 2023-12-05 19:58:48,242] Trial 472 finished with value: 0.6070856897440723 and parameters: {'n_estimators': 436, 'max_depth': 15, 'learning_rate': 0.08059577994826118, 'gamma': 9.707531591377457, 'reg_lambda': 0.22368648169258865, 'min_child_weight': 3.0626761939580107}. Best is trial 304 with value: 0.6129681383356063.\n",
      "[I 2023-12-05 19:58:52,371] Trial 473 finished with value: 0.6102614985274659 and parameters: {'n_estimators': 465, 'max_depth': 12, 'learning_rate': 0.01033351296559025, 'gamma': 10.42902439943071, 'reg_lambda': 0.40718758742158245, 'min_child_weight': 1.9535156212007236}. Best is trial 304 with value: 0.6129681383356063.\n",
      "[I 2023-12-05 19:58:54,123] Trial 474 finished with value: 0.5929344041106569 and parameters: {'n_estimators': 458, 'max_depth': 12, 'learning_rate': 0.3366856653803153, 'gamma': 3.785694859190862, 'reg_lambda': 0.47920928136525615, 'min_child_weight': 2.026559495910803}. Best is trial 304 with value: 0.6129681383356063.\n",
      "[I 2023-12-05 19:58:56,911] Trial 475 finished with value: 0.6058703685112523 and parameters: {'n_estimators': 449, 'max_depth': 12, 'learning_rate': 0.012303938606042241, 'gamma': 16.053112199914175, 'reg_lambda': 0.39233412330196465, 'min_child_weight': 4.053444914911635}. Best is trial 304 with value: 0.6129681383356063.\n",
      "[I 2023-12-05 19:58:58,361] Trial 476 finished with value: 0.5888588243794948 and parameters: {'n_estimators': 371, 'max_depth': 12, 'learning_rate': 0.6841104802394654, 'gamma': 10.965701355341906, 'reg_lambda': 0.8071089950452833, 'min_child_weight': 1.9120616179494985}. Best is trial 304 with value: 0.6129681383356063.\n",
      "[I 2023-12-05 19:58:59,934] Trial 477 finished with value: 0.6050709677982609 and parameters: {'n_estimators': 249, 'max_depth': 11, 'learning_rate': 0.06332706537293532, 'gamma': 10.248139656515407, 'reg_lambda': 0.1496600385908795, 'min_child_weight': 2.099059686371949}. Best is trial 304 with value: 0.6129681383356063.\n",
      "[I 2023-12-05 19:59:01,762] Trial 478 finished with value: 0.601922566849676 and parameters: {'n_estimators': 466, 'max_depth': 12, 'learning_rate': 0.20681732271905254, 'gamma': 10.489741678280717, 'reg_lambda': 0.845970065818541, 'min_child_weight': 1.088627452793943}. Best is trial 304 with value: 0.6129681383356063.\n",
      "[I 2023-12-05 19:59:03,863] Trial 479 finished with value: 0.6054124610975723 and parameters: {'n_estimators': 443, 'max_depth': 12, 'learning_rate': 0.034503526566398955, 'gamma': 12.009273004783623, 'reg_lambda': 0.6285470641302738, 'min_child_weight': 2.3564160563773453}. Best is trial 304 with value: 0.6129681383356063.\n",
      "[I 2023-12-05 19:59:05,703] Trial 480 finished with value: 0.6055337663005812 and parameters: {'n_estimators': 416, 'max_depth': 13, 'learning_rate': 0.09216560272319559, 'gamma': 11.067063152380518, 'reg_lambda': 0.8775117462526772, 'min_child_weight': 2.5208072006629942}. Best is trial 304 with value: 0.6129681383356063.\n",
      "[I 2023-12-05 19:59:07,317] Trial 481 finished with value: 0.589554666783618 and parameters: {'n_estimators': 434, 'max_depth': 11, 'learning_rate': 0.5600150609608316, 'gamma': 6.684635412828323, 'reg_lambda': 0.5517396635844477, 'min_child_weight': 2.262602691028153}. Best is trial 304 with value: 0.6129681383356063.\n",
      "[I 2023-12-05 19:59:09,045] Trial 482 finished with value: 0.6026253072706181 and parameters: {'n_estimators': 454, 'max_depth': 13, 'learning_rate': 0.14162624000667023, 'gamma': 10.033964249673748, 'reg_lambda': 0.9483339246266901, 'min_child_weight': 1.9704007476231484}. Best is trial 304 with value: 0.6129681383356063.\n",
      "[I 2023-12-05 19:59:10,990] Trial 483 finished with value: 0.6060753048242227 and parameters: {'n_estimators': 464, 'max_depth': 12, 'learning_rate': 0.053997525447849706, 'gamma': 11.401984141258914, 'reg_lambda': 0.5746158111399143, 'min_child_weight': 2.4439411004876996}. Best is trial 304 with value: 0.6129681383356063.\n",
      "[I 2023-12-05 19:59:12,636] Trial 484 finished with value: 0.6049648232489009 and parameters: {'n_estimators': 427, 'max_depth': 13, 'learning_rate': 0.11735164806749467, 'gamma': 12.840033420514112, 'reg_lambda': 0.23602646847592815, 'min_child_weight': 2.1992717937808632}. Best is trial 304 with value: 0.6129681383356063.\n",
      "[I 2023-12-05 19:59:14,221] Trial 485 finished with value: 0.5957694713968593 and parameters: {'n_estimators': 442, 'max_depth': 12, 'learning_rate': 0.5995052072496081, 'gamma': 10.82653151587508, 'reg_lambda': 0.4163974152590224, 'min_child_weight': 2.047934555075786}. Best is trial 304 with value: 0.6129681383356063.\n",
      "[I 2023-12-05 19:59:15,789] Trial 486 finished with value: 0.5959545334069862 and parameters: {'n_estimators': 405, 'max_depth': 14, 'learning_rate': 0.4173650836125259, 'gamma': 10.55212056145187, 'reg_lambda': 0.2635531141603486, 'min_child_weight': 1.8215865451654711}. Best is trial 304 with value: 0.6129681383356063.\n",
      "[I 2023-12-05 19:59:19,431] Trial 487 finished with value: 0.6088343709499162 and parameters: {'n_estimators': 452, 'max_depth': 13, 'learning_rate': 0.011101289951099658, 'gamma': 9.49587974123415, 'reg_lambda': 0.29897887020810177, 'min_child_weight': 4.57078499586753}. Best is trial 304 with value: 0.6129681383356063.\n",
      "[I 2023-12-05 19:59:20,952] Trial 488 finished with value: 0.600243321958608 and parameters: {'n_estimators': 395, 'max_depth': 11, 'learning_rate': 0.31850989167663835, 'gamma': 13.106856460814534, 'reg_lambda': 0.09448697119223022, 'min_child_weight': 2.347528225312814}. Best is trial 304 with value: 0.6129681383356063.\n",
      "[I 2023-12-05 19:59:22,508] Trial 489 finished with value: 0.5896177808589601 and parameters: {'n_estimators': 471, 'max_depth': 13, 'learning_rate': 0.9521844491154643, 'gamma': 18.089962547010106, 'reg_lambda': 0.3405102500955942, 'min_child_weight': 2.60549221610134}. Best is trial 304 with value: 0.6129681383356063.\n",
      "[I 2023-12-05 19:59:23,851] Trial 490 finished with value: 0.6022275004137784 and parameters: {'n_estimators': 258, 'max_depth': 14, 'learning_rate': 0.26816930638736386, 'gamma': 9.88706418872389, 'reg_lambda': 0.4440979583166916, 'min_child_weight': 1.91852201587874}. Best is trial 304 with value: 0.6129681383356063.\n",
      "[I 2023-12-05 19:59:24,793] Trial 491 finished with value: 0.5953192206754672 and parameters: {'n_estimators': 52, 'max_depth': 12, 'learning_rate': 0.5122021683362399, 'gamma': 10.413968556854446, 'reg_lambda': 0.5196163220462983, 'min_child_weight': 2.1489471904467665}. Best is trial 304 with value: 0.6129681383356063.\n",
      "[I 2023-12-05 19:59:26,689] Trial 492 finished with value: 0.607574164055603 and parameters: {'n_estimators': 461, 'max_depth': 13, 'learning_rate': 0.07457617969611417, 'gamma': 9.325598792241632, 'reg_lambda': 0.6501820283068663, 'min_child_weight': 1.5561800384142817}. Best is trial 304 with value: 0.6129681383356063.\n",
      "[I 2023-12-05 19:59:28,269] Trial 493 finished with value: 0.604690101703885 and parameters: {'n_estimators': 438, 'max_depth': 12, 'learning_rate': 0.2436925277134579, 'gamma': 14.128544933045319, 'reg_lambda': 0.6079859465936907, 'min_child_weight': 2.260200434127635}. Best is trial 304 with value: 0.6129681383356063.\n",
      "[I 2023-12-05 19:59:29,794] Trial 494 finished with value: 0.589880041281807 and parameters: {'n_estimators': 380, 'max_depth': 14, 'learning_rate': 0.7109893631666275, 'gamma': 10.109752695946925, 'reg_lambda': 0.371234753429852, 'min_child_weight': 3.7629179651875666}. Best is trial 304 with value: 0.6129681383356063.\n",
      "[I 2023-12-05 19:59:31,732] Trial 495 finished with value: 0.5740074185833182 and parameters: {'n_estimators': 420, 'max_depth': 13, 'learning_rate': 0.37309254539766035, 'gamma': 0.84776939505511, 'reg_lambda': 0.06317451740656946, 'min_child_weight': 2.4205568756554157}. Best is trial 304 with value: 0.6129681383356063.\n",
      "[I 2023-12-05 19:59:33,452] Trial 496 finished with value: 0.5698130675588399 and parameters: {'n_estimators': 477, 'max_depth': 15, 'learning_rate': 0.7431608293931695, 'gamma': 5.594395831763947, 'reg_lambda': 0.3136488391534946, 'min_child_weight': 2.0639913438105246}. Best is trial 304 with value: 0.6129681383356063.\n",
      "[I 2023-12-05 19:59:34,536] Trial 497 finished with value: 0.6046226858033136 and parameters: {'n_estimators': 83, 'max_depth': 12, 'learning_rate': 0.09760803138922845, 'gamma': 16.54638677090694, 'reg_lambda': 0.5013603795902216, 'min_child_weight': 1.6648958771729558}. Best is trial 304 with value: 0.6129681383356063.\n",
      "[I 2023-12-05 19:59:36,102] Trial 498 finished with value: 0.5838138884286688 and parameters: {'n_estimators': 431, 'max_depth': 15, 'learning_rate': 0.8185004355447774, 'gamma': 9.70543198170875, 'reg_lambda': 0.4058005789479262, 'min_child_weight': 2.738516075781253}. Best is trial 304 with value: 0.6129681383356063.\n",
      "[I 2023-12-05 19:59:38,903] Trial 499 finished with value: 0.6056376208058181 and parameters: {'n_estimators': 447, 'max_depth': 16, 'learning_rate': 0.03433521540984399, 'gamma': 6.117507285759417, 'reg_lambda': 0.533751045024401, 'min_child_weight': 1.348878994368831}. Best is trial 304 with value: 0.6129681383356063.\n"
     ]
    }
   ],
   "source": [
    "study_xgb_cw.optimize(optuna_optimize, n_trials=500)"
   ],
   "metadata": {
    "collapsed": false,
    "ExecuteTime": {
     "end_time": "2023-12-05T16:59:38.924366600Z",
     "start_time": "2023-12-05T16:43:46.059976500Z"
    }
   }
  },
  {
   "cell_type": "code",
   "execution_count": 25,
   "outputs": [
    {
     "name": "stdout",
     "output_type": "stream",
     "text": [
      "Наилучшие значения гиперпараметров XGBoost: {'n_estimators': 393, 'max_depth': 16, 'learning_rate': 0.10514697772046398, 'gamma': 10.97972191468206, 'reg_lambda': 0.5712973658634395, 'min_child_weight': 1.7554727232429925}\n",
      "f1_score на обучающем наборе: 0.613\n"
     ]
    }
   ],
   "source": [
    "print(\"Наилучшие значения гиперпараметров XGBoost: {}\".format(study_xgb_cw.best_params))\n",
    "print(\"f1_score на обучающем наборе: {:.3f}\". format(study_xgb_cw.best_value))"
   ],
   "metadata": {
    "collapsed": false,
    "ExecuteTime": {
     "end_time": "2023-12-05T16:59:39.107878Z",
     "start_time": "2023-12-05T16:59:38.935915800Z"
    }
   }
  },
  {
   "cell_type": "code",
   "execution_count": 26,
   "outputs": [],
   "source": [
    "with mlflow.start_run(nested=True,\n",
    "                      run_name='xgb_pipeline_class_weight'):\n",
    "\n",
    "    best_params = study_xgb_cw.best_params\n",
    "    best_score = study_xgb_cw.best_value\n",
    "    mlflow.log_params(best_params)\n",
    "\n",
    "    xgb_pipe_cw = Pipeline([\n",
    "        ('preprocessor', preprocessor),\n",
    "        ('model', xgb.XGBClassifier(**best_params,\n",
    "                                    scale_pos_weight=3.91,\n",
    "                                    random_state=12345))\n",
    "    ])\n",
    "\n",
    "    xgb_pipe_cw.fit(X_train, y_train) \n",
    "\n",
    "    pred_proba = xgb_pipe_cw.predict_proba(X_test)[:, 1]\n",
    "    roc_auc_xgb_cw = roc_auc_score(y_test, pred_proba)\n",
    "    \n",
    "    mlflow.log_metrics({\n",
    "        'f1_cv': best_score,\n",
    "        'roc_auc': roc_auc_xgb_cw,\n",
    "        'balanced_accuracy': balanced_accuracy_score(y_test, np.round(pred_proba, 0)),\n",
    "        'f1': f1_score(y_test, np.round(pred_proba, 0))\n",
    "    })\n",
    "\n",
    "    mlflow.sklearn.log_model(xgb_pipe_cw, 'xgb_pipeline_class_weight')"
   ],
   "metadata": {
    "collapsed": false,
    "ExecuteTime": {
     "end_time": "2023-12-05T16:59:46.200975900Z",
     "start_time": "2023-12-05T16:59:38.957616100Z"
    }
   }
  },
  {
   "cell_type": "markdown",
   "source": [
    "### 3.1.2 Случайный лес"
   ],
   "metadata": {
    "collapsed": false
   }
  },
  {
   "cell_type": "code",
   "execution_count": 27,
   "outputs": [],
   "source": [
    "def optuna_optimize(trial):\n",
    "    param = {\n",
    "        'n_estimators': trial.suggest_int('n_estimators', 50, 300), \n",
    "        'max_depth': trial.suggest_int('max_depth', 2, 10), \n",
    "        'min_samples_leaf': trial.suggest_int('min_samples_leaf', 2, 8)\n",
    "    }\n",
    "\n",
    "    estimator = RandomForestClassifier(**param, \n",
    "                                       class_weight='balanced',\n",
    "                                       random_state=12345)\n",
    "\n",
    "    rf_pipe = Pipeline([\n",
    "        ('preprocessor', preprocessor),\n",
    "        ('model', estimator)\n",
    "    ])\n",
    "\n",
    "    score = cross_val_score(rf_pipe, X_train, y_train, cv=5, scoring='f1').mean()\n",
    "    return score"
   ],
   "metadata": {
    "collapsed": false,
    "ExecuteTime": {
     "end_time": "2023-12-05T16:59:46.260870600Z",
     "start_time": "2023-12-05T16:59:46.214133100Z"
    }
   }
  },
  {
   "cell_type": "code",
   "execution_count": 28,
   "outputs": [
    {
     "name": "stderr",
     "output_type": "stream",
     "text": [
      "[I 2023-12-05 19:59:46,233] A new study created in memory with name: RandomForest Optuna Optimization Class Weight\n"
     ]
    }
   ],
   "source": [
    "study_rf = optuna.create_study(study_name=\"RandomForest Optuna Optimization Class Weight\",\n",
    "                                direction='maximize')"
   ],
   "metadata": {
    "collapsed": false,
    "ExecuteTime": {
     "end_time": "2023-12-05T16:59:46.260870600Z",
     "start_time": "2023-12-05T16:59:46.233228900Z"
    }
   }
  },
  {
   "cell_type": "code",
   "execution_count": 29,
   "outputs": [
    {
     "name": "stderr",
     "output_type": "stream",
     "text": [
      "[I 2023-12-05 19:59:50,734] Trial 0 finished with value: 0.5707156385621088 and parameters: {'n_estimators': 155, 'max_depth': 4, 'min_samples_leaf': 6}. Best is trial 0 with value: 0.5707156385621088.\n",
      "[I 2023-12-05 19:59:56,266] Trial 1 finished with value: 0.5637731930406615 and parameters: {'n_estimators': 235, 'max_depth': 3, 'min_samples_leaf': 5}. Best is trial 0 with value: 0.5707156385621088.\n",
      "[I 2023-12-05 19:59:58,989] Trial 2 finished with value: 0.559858082076176 and parameters: {'n_estimators': 106, 'max_depth': 3, 'min_samples_leaf': 4}. Best is trial 0 with value: 0.5707156385621088.\n",
      "[I 2023-12-05 20:00:13,888] Trial 3 finished with value: 0.6202614686946377 and parameters: {'n_estimators': 257, 'max_depth': 10, 'min_samples_leaf': 2}. Best is trial 3 with value: 0.6202614686946377.\n",
      "[I 2023-12-05 20:00:24,966] Trial 4 finished with value: 0.6066285264363109 and parameters: {'n_estimators': 268, 'max_depth': 7, 'min_samples_leaf': 6}. Best is trial 3 with value: 0.6202614686946377.\n",
      "[I 2023-12-05 20:00:33,454] Trial 5 finished with value: 0.6010465399104703 and parameters: {'n_estimators': 168, 'max_depth': 7, 'min_samples_leaf': 8}. Best is trial 3 with value: 0.6202614686946377.\n",
      "[I 2023-12-05 20:00:36,657] Trial 6 finished with value: 0.6067150968081759 and parameters: {'n_estimators': 61, 'max_depth': 8, 'min_samples_leaf': 8}. Best is trial 3 with value: 0.6202614686946377.\n",
      "[I 2023-12-05 20:00:45,020] Trial 7 finished with value: 0.6061029883547772 and parameters: {'n_estimators': 197, 'max_depth': 7, 'min_samples_leaf': 4}. Best is trial 3 with value: 0.6202614686946377.\n",
      "[I 2023-12-05 20:00:51,071] Trial 8 finished with value: 0.5925866721817707 and parameters: {'n_estimators': 162, 'max_depth': 6, 'min_samples_leaf': 7}. Best is trial 3 with value: 0.6202614686946377.\n",
      "[I 2023-12-05 20:00:59,096] Trial 9 finished with value: 0.5853970612215884 and parameters: {'n_estimators': 247, 'max_depth': 5, 'min_samples_leaf': 7}. Best is trial 3 with value: 0.6202614686946377.\n",
      "[I 2023-12-05 20:01:15,958] Trial 10 finished with value: 0.6193462659431164 and parameters: {'n_estimators': 299, 'max_depth': 10, 'min_samples_leaf': 2}. Best is trial 3 with value: 0.6202614686946377.\n",
      "[I 2023-12-05 20:01:33,064] Trial 11 finished with value: 0.6193462659431164 and parameters: {'n_estimators': 299, 'max_depth': 10, 'min_samples_leaf': 2}. Best is trial 3 with value: 0.6202614686946377.\n",
      "[I 2023-12-05 20:01:49,755] Trial 12 finished with value: 0.6185202926288642 and parameters: {'n_estimators': 296, 'max_depth': 10, 'min_samples_leaf': 2}. Best is trial 3 with value: 0.6202614686946377.\n",
      "[I 2023-12-05 20:02:01,327] Trial 13 finished with value: 0.6145408082979852 and parameters: {'n_estimators': 220, 'max_depth': 9, 'min_samples_leaf': 3}. Best is trial 3 with value: 0.6202614686946377.\n",
      "[I 2023-12-05 20:02:15,054] Trial 14 finished with value: 0.6141399601423843 and parameters: {'n_estimators': 265, 'max_depth': 9, 'min_samples_leaf': 3}. Best is trial 3 with value: 0.6202614686946377.\n",
      "[I 2023-12-05 20:02:26,911] Trial 15 finished with value: 0.6205894696090746 and parameters: {'n_estimators': 205, 'max_depth': 10, 'min_samples_leaf': 2}. Best is trial 15 with value: 0.6205894696090746.\n",
      "[I 2023-12-05 20:02:33,793] Trial 16 finished with value: 0.6183183886030619 and parameters: {'n_estimators': 129, 'max_depth': 9, 'min_samples_leaf': 3}. Best is trial 15 with value: 0.6205894696090746.\n",
      "[I 2023-12-05 20:02:43,284] Trial 17 finished with value: 0.609880934624442 and parameters: {'n_estimators': 203, 'max_depth': 8, 'min_samples_leaf': 4}. Best is trial 15 with value: 0.6205894696090746.\n",
      "[I 2023-12-05 20:02:47,137] Trial 18 finished with value: 0.5424195836505191 and parameters: {'n_estimators': 197, 'max_depth': 2, 'min_samples_leaf': 2}. Best is trial 15 with value: 0.6205894696090746.\n",
      "[I 2023-12-05 20:02:59,233] Trial 19 finished with value: 0.6107846412181815 and parameters: {'n_estimators': 257, 'max_depth': 8, 'min_samples_leaf': 3}. Best is trial 15 with value: 0.6205894696090746.\n",
      "[I 2023-12-05 20:03:11,577] Trial 20 finished with value: 0.6195963932855431 and parameters: {'n_estimators': 221, 'max_depth': 10, 'min_samples_leaf': 5}. Best is trial 15 with value: 0.6205894696090746.\n",
      "[I 2023-12-05 20:03:23,631] Trial 21 finished with value: 0.6199534858967128 and parameters: {'n_estimators': 218, 'max_depth': 10, 'min_samples_leaf': 5}. Best is trial 15 with value: 0.6205894696090746.\n",
      "[I 2023-12-05 20:03:35,179] Trial 22 finished with value: 0.617835147955472 and parameters: {'n_estimators': 224, 'max_depth': 9, 'min_samples_leaf': 4}. Best is trial 15 with value: 0.6205894696090746.\n",
      "[I 2023-12-05 20:03:46,884] Trial 23 finished with value: 0.6199774384636657 and parameters: {'n_estimators': 187, 'max_depth': 10, 'min_samples_leaf': 2}. Best is trial 15 with value: 0.6205894696090746.\n",
      "[I 2023-12-05 20:03:56,646] Trial 24 finished with value: 0.6161424193819933 and parameters: {'n_estimators': 184, 'max_depth': 9, 'min_samples_leaf': 2}. Best is trial 15 with value: 0.6205894696090746.\n",
      "[I 2023-12-05 20:04:03,511] Trial 25 finished with value: 0.6097605288407015 and parameters: {'n_estimators': 142, 'max_depth': 8, 'min_samples_leaf': 3}. Best is trial 15 with value: 0.6205894696090746.\n",
      "[I 2023-12-05 20:04:14,005] Trial 26 finished with value: 0.6189238766258012 and parameters: {'n_estimators': 181, 'max_depth': 10, 'min_samples_leaf': 2}. Best is trial 15 with value: 0.6205894696090746.\n",
      "[I 2023-12-05 20:04:18,587] Trial 27 finished with value: 0.5922270214680821 and parameters: {'n_estimators': 116, 'max_depth': 6, 'min_samples_leaf': 3}. Best is trial 15 with value: 0.6205894696090746.\n",
      "[I 2023-12-05 20:04:31,377] Trial 28 finished with value: 0.6150777208250657 and parameters: {'n_estimators': 244, 'max_depth': 9, 'min_samples_leaf': 2}. Best is trial 15 with value: 0.6205894696090746.\n",
      "[I 2023-12-05 20:04:40,374] Trial 29 finished with value: 0.5867231089720759 and parameters: {'n_estimators': 278, 'max_depth': 5, 'min_samples_leaf': 3}. Best is trial 15 with value: 0.6205894696090746.\n",
      "[I 2023-12-05 20:04:52,149] Trial 30 finished with value: 0.6205894696090746 and parameters: {'n_estimators': 205, 'max_depth': 10, 'min_samples_leaf': 2}. Best is trial 15 with value: 0.6205894696090746.\n",
      "[I 2023-12-05 20:05:03,991] Trial 31 finished with value: 0.6195762080345626 and parameters: {'n_estimators': 206, 'max_depth': 10, 'min_samples_leaf': 2}. Best is trial 15 with value: 0.6205894696090746.\n",
      "[I 2023-12-05 20:05:12,196] Trial 32 finished with value: 0.6160907744144888 and parameters: {'n_estimators': 149, 'max_depth': 9, 'min_samples_leaf': 2}. Best is trial 15 with value: 0.6205894696090746.\n",
      "[I 2023-12-05 20:05:22,597] Trial 33 finished with value: 0.6141228974408498 and parameters: {'n_estimators': 183, 'max_depth': 10, 'min_samples_leaf': 3}. Best is trial 15 with value: 0.6205894696090746.\n",
      "[I 2023-12-05 20:05:33,876] Trial 34 finished with value: 0.6122644519701206 and parameters: {'n_estimators': 241, 'max_depth': 8, 'min_samples_leaf': 4}. Best is trial 15 with value: 0.6205894696090746.\n",
      "[I 2023-12-05 20:05:43,032] Trial 35 finished with value: 0.6169371566144786 and parameters: {'n_estimators': 172, 'max_depth': 9, 'min_samples_leaf': 2}. Best is trial 15 with value: 0.6205894696090746.\n",
      "[I 2023-12-05 20:05:50,871] Trial 36 finished with value: 0.573486599969087 and parameters: {'n_estimators': 280, 'max_depth': 4, 'min_samples_leaf': 3}. Best is trial 15 with value: 0.6205894696090746.\n",
      "[I 2023-12-05 20:05:54,370] Trial 37 finished with value: 0.6019185164600437 and parameters: {'n_estimators': 75, 'max_depth': 7, 'min_samples_leaf': 6}. Best is trial 15 with value: 0.6205894696090746.\n",
      "[I 2023-12-05 20:06:07,788] Trial 38 finished with value: 0.6190485327211495 and parameters: {'n_estimators': 233, 'max_depth': 10, 'min_samples_leaf': 2}. Best is trial 15 with value: 0.6205894696090746.\n",
      "[I 2023-12-05 20:06:15,428] Trial 39 finished with value: 0.6096431464355863 and parameters: {'n_estimators': 161, 'max_depth': 8, 'min_samples_leaf': 4}. Best is trial 15 with value: 0.6205894696090746.\n",
      "[I 2023-12-05 20:06:26,029] Trial 40 finished with value: 0.6222205279940789 and parameters: {'n_estimators': 193, 'max_depth': 10, 'min_samples_leaf': 5}. Best is trial 40 with value: 0.6222205279940789.\n",
      "[I 2023-12-05 20:06:36,374] Trial 41 finished with value: 0.6154392540113844 and parameters: {'n_estimators': 193, 'max_depth': 10, 'min_samples_leaf': 7}. Best is trial 40 with value: 0.6222205279940789.\n",
      "[I 2023-12-05 20:06:47,153] Trial 42 finished with value: 0.6171453992293607 and parameters: {'n_estimators': 212, 'max_depth': 9, 'min_samples_leaf': 5}. Best is trial 40 with value: 0.6222205279940789.\n",
      "[I 2023-12-05 20:06:59,332] Trial 43 finished with value: 0.6153580337538308 and parameters: {'n_estimators': 232, 'max_depth': 10, 'min_samples_leaf': 8}. Best is trial 40 with value: 0.6222205279940789.\n",
      "[I 2023-12-05 20:07:10,237] Trial 44 finished with value: 0.620823026068975 and parameters: {'n_estimators': 189, 'max_depth': 10, 'min_samples_leaf': 2}. Best is trial 40 with value: 0.6222205279940789.\n",
      "[I 2023-12-05 20:07:18,032] Trial 45 finished with value: 0.6143032864854997 and parameters: {'n_estimators': 152, 'max_depth': 9, 'min_samples_leaf': 6}. Best is trial 40 with value: 0.6222205279940789.\n",
      "[I 2023-12-05 20:07:27,780] Trial 46 finished with value: 0.6154585171251872 and parameters: {'n_estimators': 171, 'max_depth': 10, 'min_samples_leaf': 7}. Best is trial 40 with value: 0.6222205279940789.\n",
      "[I 2023-12-05 20:07:41,068] Trial 47 finished with value: 0.6147396955357792 and parameters: {'n_estimators': 253, 'max_depth': 9, 'min_samples_leaf': 2}. Best is trial 40 with value: 0.6222205279940789.\n",
      "[I 2023-12-05 20:07:52,694] Trial 48 finished with value: 0.6167149339986837 and parameters: {'n_estimators': 206, 'max_depth': 10, 'min_samples_leaf': 3}. Best is trial 40 with value: 0.6222205279940789.\n",
      "[I 2023-12-05 20:08:02,012] Trial 49 finished with value: 0.6120619531351779 and parameters: {'n_estimators': 194, 'max_depth': 8, 'min_samples_leaf': 2}. Best is trial 40 with value: 0.6222205279940789.\n",
      "[I 2023-12-05 20:08:05,485] Trial 50 finished with value: 0.56168970340381 and parameters: {'n_estimators': 141, 'max_depth': 3, 'min_samples_leaf': 3}. Best is trial 40 with value: 0.6222205279940789.\n",
      "[I 2023-12-05 20:08:16,601] Trial 51 finished with value: 0.6205673921279472 and parameters: {'n_estimators': 192, 'max_depth': 10, 'min_samples_leaf': 2}. Best is trial 40 with value: 0.6222205279940789.\n",
      "[I 2023-12-05 20:08:26,184] Trial 52 finished with value: 0.6188580761617972 and parameters: {'n_estimators': 165, 'max_depth': 10, 'min_samples_leaf': 2}. Best is trial 40 with value: 0.6222205279940789.\n",
      "[I 2023-12-05 20:08:40,176] Trial 53 finished with value: 0.6158952939532127 and parameters: {'n_estimators': 214, 'max_depth': 9, 'min_samples_leaf': 2}. Best is trial 40 with value: 0.6222205279940789.\n",
      "[I 2023-12-05 20:08:53,331] Trial 54 finished with value: 0.6159582432896673 and parameters: {'n_estimators': 227, 'max_depth': 10, 'min_samples_leaf': 3}. Best is trial 40 with value: 0.6222205279940789.\n",
      "[I 2023-12-05 20:09:04,837] Trial 55 finished with value: 0.6216866413583108 and parameters: {'n_estimators': 201, 'max_depth': 10, 'min_samples_leaf': 2}. Best is trial 40 with value: 0.6222205279940789.\n",
      "[I 2023-12-05 20:09:14,982] Trial 56 finished with value: 0.6191404788050049 and parameters: {'n_estimators': 177, 'max_depth': 10, 'min_samples_leaf': 2}. Best is trial 40 with value: 0.6222205279940789.\n",
      "[I 2023-12-05 20:09:25,486] Trial 57 finished with value: 0.6124347633028446 and parameters: {'n_estimators': 201, 'max_depth': 9, 'min_samples_leaf': 2}. Best is trial 40 with value: 0.6222205279940789.\n",
      "[I 2023-12-05 20:09:36,092] Trial 58 finished with value: 0.6169975556096723 and parameters: {'n_estimators': 190, 'max_depth': 10, 'min_samples_leaf': 4}. Best is trial 40 with value: 0.6222205279940789.\n",
      "[I 2023-12-05 20:09:47,282] Trial 59 finished with value: 0.6141589635277072 and parameters: {'n_estimators': 212, 'max_depth': 9, 'min_samples_leaf': 3}. Best is trial 40 with value: 0.6222205279940789.\n",
      "[I 2023-12-05 20:09:54,754] Trial 60 finished with value: 0.5940397479162299 and parameters: {'n_estimators': 200, 'max_depth': 6, 'min_samples_leaf': 2}. Best is trial 40 with value: 0.6222205279940789.\n",
      "[I 2023-12-05 20:10:04,879] Trial 61 finished with value: 0.6191383076609898 and parameters: {'n_estimators': 176, 'max_depth': 10, 'min_samples_leaf': 2}. Best is trial 40 with value: 0.6222205279940789.\n",
      "[I 2023-12-05 20:10:15,689] Trial 62 finished with value: 0.620823026068975 and parameters: {'n_estimators': 189, 'max_depth': 10, 'min_samples_leaf': 2}. Best is trial 40 with value: 0.6222205279940789.\n",
      "[I 2023-12-05 20:10:26,510] Trial 63 finished with value: 0.6211874135477469 and parameters: {'n_estimators': 188, 'max_depth': 10, 'min_samples_leaf': 2}. Best is trial 40 with value: 0.6222205279940789.\n",
      "[I 2023-12-05 20:10:35,010] Trial 64 finished with value: 0.6196377616243357 and parameters: {'n_estimators': 161, 'max_depth': 9, 'min_samples_leaf': 2}. Best is trial 40 with value: 0.6222205279940789.\n",
      "[I 2023-12-05 20:10:46,781] Trial 65 finished with value: 0.6203784468288419 and parameters: {'n_estimators': 207, 'max_depth': 10, 'min_samples_leaf': 2}. Best is trial 40 with value: 0.6222205279940789.\n",
      "[I 2023-12-05 20:10:57,547] Trial 66 finished with value: 0.6151323664589978 and parameters: {'n_estimators': 184, 'max_depth': 10, 'min_samples_leaf': 3}. Best is trial 40 with value: 0.6222205279940789.\n",
      "[I 2023-12-05 20:11:08,886] Trial 67 finished with value: 0.6146723084267514 and parameters: {'n_estimators': 217, 'max_depth': 9, 'min_samples_leaf': 2}. Best is trial 40 with value: 0.6222205279940789.\n",
      "[I 2023-12-05 20:11:21,479] Trial 68 finished with value: 0.6167566574824235 and parameters: {'n_estimators': 226, 'max_depth': 10, 'min_samples_leaf': 3}. Best is trial 40 with value: 0.6222205279940789.\n",
      "[I 2023-12-05 20:11:33,339] Trial 69 finished with value: 0.6203797846614777 and parameters: {'n_estimators': 199, 'max_depth': 10, 'min_samples_leaf': 2}. Best is trial 40 with value: 0.6222205279940789.\n",
      "[I 2023-12-05 20:11:42,519] Trial 70 finished with value: 0.6179347693835344 and parameters: {'n_estimators': 178, 'max_depth': 9, 'min_samples_leaf': 4}. Best is trial 40 with value: 0.6222205279940789.\n",
      "[I 2023-12-05 20:11:53,544] Trial 71 finished with value: 0.6193536205430731 and parameters: {'n_estimators': 193, 'max_depth': 10, 'min_samples_leaf': 2}. Best is trial 40 with value: 0.6222205279940789.\n",
      "[I 2023-12-05 20:12:04,345] Trial 72 finished with value: 0.6211874135477469 and parameters: {'n_estimators': 188, 'max_depth': 10, 'min_samples_leaf': 2}. Best is trial 40 with value: 0.6222205279940789.\n",
      "[I 2023-12-05 20:12:14,116] Trial 73 finished with value: 0.6208678400752612 and parameters: {'n_estimators': 170, 'max_depth': 10, 'min_samples_leaf': 2}. Best is trial 40 with value: 0.6222205279940789.\n",
      "[I 2023-12-05 20:12:23,626] Trial 74 finished with value: 0.6128204174414188 and parameters: {'n_estimators': 168, 'max_depth': 10, 'min_samples_leaf': 3}. Best is trial 40 with value: 0.6222205279940789.\n",
      "[I 2023-12-05 20:12:31,878] Trial 75 finished with value: 0.6191400642933911 and parameters: {'n_estimators': 156, 'max_depth': 9, 'min_samples_leaf': 2}. Best is trial 40 with value: 0.6222205279940789.\n",
      "[I 2023-12-05 20:12:40,275] Trial 76 finished with value: 0.6176253079553893 and parameters: {'n_estimators': 145, 'max_depth': 10, 'min_samples_leaf': 2}. Best is trial 40 with value: 0.6222205279940789.\n",
      "[I 2023-12-05 20:12:50,088] Trial 77 finished with value: 0.6157915689251674 and parameters: {'n_estimators': 181, 'max_depth': 9, 'min_samples_leaf': 3}. Best is trial 40 with value: 0.6222205279940789.\n",
      "[I 2023-12-05 20:12:54,589] Trial 78 finished with value: 0.5829689298587839 and parameters: {'n_estimators': 133, 'max_depth': 5, 'min_samples_leaf': 2}. Best is trial 40 with value: 0.6222205279940789.\n",
      "[I 2023-12-05 20:12:58,324] Trial 79 finished with value: 0.5421684549347517 and parameters: {'n_estimators': 188, 'max_depth': 2, 'min_samples_leaf': 2}. Best is trial 40 with value: 0.6222205279940789.\n",
      "[I 2023-12-05 20:13:07,769] Trial 80 finished with value: 0.6233072601256503 and parameters: {'n_estimators': 171, 'max_depth': 10, 'min_samples_leaf': 5}. Best is trial 80 with value: 0.6233072601256503.\n",
      "[I 2023-12-05 20:13:18,169] Trial 81 finished with value: 0.621931394113724 and parameters: {'n_estimators': 169, 'max_depth': 10, 'min_samples_leaf': 5}. Best is trial 80 with value: 0.6233072601256503.\n",
      "[I 2023-12-05 20:13:27,691] Trial 82 finished with value: 0.6246429364146927 and parameters: {'n_estimators': 173, 'max_depth': 10, 'min_samples_leaf': 5}. Best is trial 82 with value: 0.6246429364146927.\n",
      "[I 2023-12-05 20:13:36,386] Trial 83 finished with value: 0.6213325416381573 and parameters: {'n_estimators': 157, 'max_depth': 10, 'min_samples_leaf': 5}. Best is trial 82 with value: 0.6246429364146927.\n",
      "[I 2023-12-05 20:13:45,152] Trial 84 finished with value: 0.6213325416381573 and parameters: {'n_estimators': 157, 'max_depth': 10, 'min_samples_leaf': 5}. Best is trial 82 with value: 0.6246429364146927.\n",
      "[I 2023-12-05 20:13:52,067] Trial 85 finished with value: 0.6229131304658191 and parameters: {'n_estimators': 122, 'max_depth': 10, 'min_samples_leaf': 5}. Best is trial 82 with value: 0.6246429364146927.\n",
      "[I 2023-12-05 20:13:57,208] Trial 86 finished with value: 0.6106338248839431 and parameters: {'n_estimators': 96, 'max_depth': 9, 'min_samples_leaf': 5}. Best is trial 82 with value: 0.6246429364146927.\n",
      "[I 2023-12-05 20:14:03,644] Trial 87 finished with value: 0.623245370890747 and parameters: {'n_estimators': 114, 'max_depth': 10, 'min_samples_leaf': 5}. Best is trial 82 with value: 0.6246429364146927.\n",
      "[I 2023-12-05 20:14:09,799] Trial 88 finished with value: 0.622693968049302 and parameters: {'n_estimators': 109, 'max_depth': 10, 'min_samples_leaf': 5}. Best is trial 82 with value: 0.6246429364146927.\n",
      "[I 2023-12-05 20:14:14,451] Trial 89 finished with value: 0.6040096421711234 and parameters: {'n_estimators': 107, 'max_depth': 7, 'min_samples_leaf': 5}. Best is trial 82 with value: 0.6246429364146927.\n",
      "[I 2023-12-05 20:14:19,032] Trial 90 finished with value: 0.6132503526770912 and parameters: {'n_estimators': 83, 'max_depth': 9, 'min_samples_leaf': 5}. Best is trial 82 with value: 0.6246429364146927.\n",
      "[I 2023-12-05 20:14:25,741] Trial 91 finished with value: 0.6225397964495254 and parameters: {'n_estimators': 120, 'max_depth': 10, 'min_samples_leaf': 5}. Best is trial 82 with value: 0.6246429364146927.\n",
      "[I 2023-12-05 20:14:32,351] Trial 92 finished with value: 0.6114514012999495 and parameters: {'n_estimators': 120, 'max_depth': 10, 'min_samples_leaf': 6}. Best is trial 82 with value: 0.6246429364146927.\n",
      "[I 2023-12-05 20:14:39,170] Trial 93 finished with value: 0.6229131304658191 and parameters: {'n_estimators': 122, 'max_depth': 10, 'min_samples_leaf': 5}. Best is trial 82 with value: 0.6246429364146927.\n",
      "[I 2023-12-05 20:14:45,719] Trial 94 finished with value: 0.6229327209939994 and parameters: {'n_estimators': 117, 'max_depth': 10, 'min_samples_leaf': 5}. Best is trial 82 with value: 0.6246429364146927.\n",
      "[I 2023-12-05 20:14:52,413] Trial 95 finished with value: 0.6225397964495254 and parameters: {'n_estimators': 120, 'max_depth': 10, 'min_samples_leaf': 5}. Best is trial 82 with value: 0.6246429364146927.\n",
      "[I 2023-12-05 20:14:59,175] Trial 96 finished with value: 0.6225397964495254 and parameters: {'n_estimators': 120, 'max_depth': 10, 'min_samples_leaf': 5}. Best is trial 82 with value: 0.6246429364146927.\n",
      "[I 2023-12-05 20:15:05,619] Trial 97 finished with value: 0.6155812036459738 and parameters: {'n_estimators': 119, 'max_depth': 9, 'min_samples_leaf': 5}. Best is trial 82 with value: 0.6246429364146927.\n",
      "[I 2023-12-05 20:15:11,732] Trial 98 finished with value: 0.613807720055927 and parameters: {'n_estimators': 109, 'max_depth': 10, 'min_samples_leaf': 6}. Best is trial 82 with value: 0.6246429364146927.\n",
      "[I 2023-12-05 20:15:17,262] Trial 99 finished with value: 0.6201631357325124 and parameters: {'n_estimators': 97, 'max_depth': 10, 'min_samples_leaf': 5}. Best is trial 82 with value: 0.6246429364146927.\n"
     ]
    }
   ],
   "source": [
    "study_rf.optimize(optuna_optimize, n_trials=100)"
   ],
   "metadata": {
    "collapsed": false,
    "ExecuteTime": {
     "end_time": "2023-12-05T17:15:17.286068800Z",
     "start_time": "2023-12-05T16:59:46.245235900Z"
    }
   }
  },
  {
   "cell_type": "code",
   "execution_count": 30,
   "outputs": [
    {
     "name": "stdout",
     "output_type": "stream",
     "text": [
      "Наилучшие значения гиперпараметров Random Forest: {'n_estimators': 173, 'max_depth': 10, 'min_samples_leaf': 5}\n",
      "f1_score на обучающем наборе: 0.625\n"
     ]
    }
   ],
   "source": [
    "print(\"Наилучшие значения гиперпараметров Random Forest: {}\".format(study_rf.best_params))\n",
    "print(\"f1_score на обучающем наборе: {:.3f}\". format(study_rf.best_value))"
   ],
   "metadata": {
    "collapsed": false,
    "ExecuteTime": {
     "end_time": "2023-12-05T17:15:17.364227500Z",
     "start_time": "2023-12-05T17:15:17.273264600Z"
    }
   }
  },
  {
   "cell_type": "code",
   "execution_count": 31,
   "outputs": [],
   "source": [
    "with mlflow.start_run(nested=True,\n",
    "                      run_name='rf_pipeline_class_weight'):\n",
    "\n",
    "    best_params = study_rf.best_params\n",
    "    best_score = study_rf.best_value\n",
    "    mlflow.log_params(best_params)\n",
    "\n",
    "    rf_pipe_cw = Pipeline([\n",
    "        ('preprocessor', preprocessor),\n",
    "        ('model', RandomForestClassifier(**best_params,\n",
    "                                         class_weight='balanced',\n",
    "                                         random_state=12345))\n",
    "    ])\n",
    "\n",
    "    rf_pipe_cw.fit(X_train, y_train)\n",
    "\n",
    "    pred_proba = rf_pipe_cw.predict_proba(X_test)[:, 1]\n",
    "    roc_auc_rf_cw = roc_auc_score(y_test, pred_proba)\n",
    "    \n",
    "    mlflow.log_metrics({\n",
    "        'f1_cv': best_score,\n",
    "        'roc_auc': roc_auc_rf_cw,\n",
    "        'balanced_accuracy': balanced_accuracy_score(y_test, np.round(pred_proba, 0)),\n",
    "        'f1': f1_score(y_test, np.round(pred_proba, 0))\n",
    "    })\n",
    "    \n",
    "    mlflow.sklearn.log_model(rf_pipe_cw, 'rf_pipeline_class_weight')"
   ],
   "metadata": {
    "collapsed": false,
    "ExecuteTime": {
     "end_time": "2023-12-05T17:15:28.049364Z",
     "start_time": "2023-12-05T17:15:17.301688100Z"
    }
   }
  },
  {
   "cell_type": "markdown",
   "source": [
    "### 3.1.3 Логистическая регрессия"
   ],
   "metadata": {
    "collapsed": false
   }
  },
  {
   "cell_type": "code",
   "execution_count": 32,
   "outputs": [],
   "source": [
    "cat_pipeline = Pipeline([\n",
    "    ('enc', OneHotEncoder(handle_unknown='error', drop='first'))\n",
    "])\n",
    "\n",
    "num_pipeline = Pipeline([\n",
    "    ('imp', SimpleImputer(fill_value=-1, add_indicator=True)),\n",
    "    ('pt', PowerTransformer()),\n",
    "    ('scal', StandardScaler())\n",
    "])\n",
    "\n",
    "preprocessor = ColumnTransformer([\n",
    "    (\"cat\", cat_pipeline, categorical_features),\n",
    "    (\"num\", num_pipeline, numeric_features)\n",
    "], remainder='passthrough')"
   ],
   "metadata": {
    "collapsed": false,
    "ExecuteTime": {
     "end_time": "2023-12-05T17:15:28.065839400Z",
     "start_time": "2023-12-05T17:15:28.052174400Z"
    }
   }
  },
  {
   "cell_type": "code",
   "execution_count": 33,
   "outputs": [],
   "source": [
    "def optuna_optimize(trial):\n",
    "    param = {\n",
    "        'solver': trial.suggest_categorical('solver', ['lbfgs', 'saga'])\n",
    "    }\n",
    "    \n",
    "    if param['solver'] == 'lbfgs':\n",
    "        param['penalty'] = 'l2' \n",
    "\n",
    "    if param['solver'] == 'saga':\n",
    "        param['penalty'] = 'elasticnet' \n",
    "        param['C'] = trial.suggest_float('C', 0.01, 100) \n",
    "        param['l1_ratio'] = trial.suggest_float('l1_ratio', 0, 1)\n",
    "        param['max_iter'] = 1000 \n",
    "        \n",
    "    estimator = LogisticRegression(**param,  \n",
    "                                   class_weight='balanced',\n",
    "                                   random_state=12345)\n",
    "\n",
    "    log_reg_pipe = Pipeline([\n",
    "        ('preprocessor', preprocessor),\n",
    "        ('model', estimator)\n",
    "    ])\n",
    "    \n",
    "    score = cross_val_score(log_reg_pipe, X_train, y_train, cv=5, scoring='f1').mean()\n",
    "    return score"
   ],
   "metadata": {
    "collapsed": false,
    "ExecuteTime": {
     "end_time": "2023-12-05T17:15:28.113291700Z",
     "start_time": "2023-12-05T17:15:28.065839400Z"
    }
   }
  },
  {
   "cell_type": "code",
   "execution_count": 34,
   "outputs": [
    {
     "name": "stderr",
     "output_type": "stream",
     "text": [
      "[I 2023-12-05 20:15:28,082] A new study created in memory with name: LogisticRegression Optuna Optimization Class Weight\n"
     ]
    }
   ],
   "source": [
    "study_log_reg = optuna.create_study(study_name=\"LogisticRegression Optuna Optimization Class Weight\",\n",
    "                                direction='maximize')"
   ],
   "metadata": {
    "collapsed": false,
    "ExecuteTime": {
     "end_time": "2023-12-05T17:15:28.113291700Z",
     "start_time": "2023-12-05T17:15:28.082235400Z"
    }
   }
  },
  {
   "cell_type": "code",
   "execution_count": 35,
   "outputs": [
    {
     "name": "stderr",
     "output_type": "stream",
     "text": [
      "[I 2023-12-05 20:15:28,612] Trial 0 finished with value: 0.49096987218775245 and parameters: {'solver': 'lbfgs'}. Best is trial 0 with value: 0.49096987218775245.\n",
      "[I 2023-12-05 20:15:29,106] Trial 1 finished with value: 0.49096987218775245 and parameters: {'solver': 'lbfgs'}. Best is trial 0 with value: 0.49096987218775245.\n",
      "[I 2023-12-05 20:15:29,724] Trial 2 finished with value: 0.4910843408008952 and parameters: {'solver': 'saga', 'C': 50.817347931905715, 'l1_ratio': 0.10036234139932876}. Best is trial 2 with value: 0.4910843408008952.\n",
      "[I 2023-12-05 20:15:30,215] Trial 3 finished with value: 0.49096987218775245 and parameters: {'solver': 'lbfgs'}. Best is trial 2 with value: 0.4910843408008952.\n",
      "[I 2023-12-05 20:15:30,813] Trial 4 finished with value: 0.4910843408008952 and parameters: {'solver': 'saga', 'C': 92.97341245585613, 'l1_ratio': 0.6080721113908467}. Best is trial 2 with value: 0.4910843408008952.\n",
      "[I 2023-12-05 20:15:31,482] Trial 5 finished with value: 0.4910843408008952 and parameters: {'solver': 'saga', 'C': 86.90423408644227, 'l1_ratio': 0.9145520577058577}. Best is trial 2 with value: 0.4910843408008952.\n",
      "[I 2023-12-05 20:15:31,969] Trial 6 finished with value: 0.49096987218775245 and parameters: {'solver': 'lbfgs'}. Best is trial 2 with value: 0.4910843408008952.\n",
      "[I 2023-12-05 20:15:32,558] Trial 7 finished with value: 0.4910843408008952 and parameters: {'solver': 'saga', 'C': 66.30156194369764, 'l1_ratio': 0.9368965852420352}. Best is trial 2 with value: 0.4910843408008952.\n",
      "[I 2023-12-05 20:15:33,044] Trial 8 finished with value: 0.49096987218775245 and parameters: {'solver': 'lbfgs'}. Best is trial 2 with value: 0.4910843408008952.\n",
      "[I 2023-12-05 20:15:33,634] Trial 9 finished with value: 0.4910843408008952 and parameters: {'solver': 'saga', 'C': 11.652717612728692, 'l1_ratio': 0.35722446990921153}. Best is trial 2 with value: 0.4910843408008952.\n",
      "[I 2023-12-05 20:15:34,251] Trial 10 finished with value: 0.4910843408008952 and parameters: {'solver': 'saga', 'C': 40.61796584688073, 'l1_ratio': 0.0003948463883225589}. Best is trial 2 with value: 0.4910843408008952.\n",
      "[I 2023-12-05 20:15:34,859] Trial 11 finished with value: 0.4910843408008952 and parameters: {'solver': 'saga', 'C': 96.31536631722736, 'l1_ratio': 0.49669311227372137}. Best is trial 2 with value: 0.4910843408008952.\n",
      "[I 2023-12-05 20:15:35,476] Trial 12 finished with value: 0.4910843408008952 and parameters: {'solver': 'saga', 'C': 59.69347502533439, 'l1_ratio': 0.009722832443409907}. Best is trial 2 with value: 0.4910843408008952.\n",
      "[I 2023-12-05 20:15:36,077] Trial 13 finished with value: 0.4910843408008952 and parameters: {'solver': 'saga', 'C': 80.89294278423486, 'l1_ratio': 0.3208312602204499}. Best is trial 2 with value: 0.4910843408008952.\n",
      "[I 2023-12-05 20:15:36,693] Trial 14 finished with value: 0.4910843408008952 and parameters: {'solver': 'saga', 'C': 42.29277318460167, 'l1_ratio': 0.6990561413825357}. Best is trial 2 with value: 0.4910843408008952.\n",
      "[I 2023-12-05 20:15:37,300] Trial 15 finished with value: 0.4910843408008952 and parameters: {'solver': 'saga', 'C': 98.93297121137289, 'l1_ratio': 0.6836424208166076}. Best is trial 2 with value: 0.4910843408008952.\n",
      "[I 2023-12-05 20:15:37,930] Trial 16 finished with value: 0.4910843408008952 and parameters: {'solver': 'saga', 'C': 72.03816999656576, 'l1_ratio': 0.19307057006686557}. Best is trial 2 with value: 0.4910843408008952.\n",
      "[I 2023-12-05 20:15:38,573] Trial 17 finished with value: 0.4910843408008952 and parameters: {'solver': 'saga', 'C': 53.905331946788905, 'l1_ratio': 0.5531787802336976}. Best is trial 2 with value: 0.4910843408008952.\n",
      "[I 2023-12-05 20:15:39,209] Trial 18 finished with value: 0.4910843408008952 and parameters: {'solver': 'saga', 'C': 78.83107728779206, 'l1_ratio': 0.22887743022676443}. Best is trial 2 with value: 0.4910843408008952.\n",
      "[I 2023-12-05 20:15:39,841] Trial 19 finished with value: 0.4910843408008952 and parameters: {'solver': 'saga', 'C': 30.666277708575727, 'l1_ratio': 0.46722977839772184}. Best is trial 2 with value: 0.4910843408008952.\n",
      "[I 2023-12-05 20:15:40,477] Trial 20 finished with value: 0.4910843408008952 and parameters: {'solver': 'saga', 'C': 65.16084030357291, 'l1_ratio': 0.09540978557775681}. Best is trial 2 with value: 0.4910843408008952.\n",
      "[I 2023-12-05 20:15:41,118] Trial 21 finished with value: 0.4910843408008952 and parameters: {'solver': 'saga', 'C': 87.77007635315462, 'l1_ratio': 0.9757949257138135}. Best is trial 2 with value: 0.4910843408008952.\n",
      "[I 2023-12-05 20:15:41,754] Trial 22 finished with value: 0.4910843408008952 and parameters: {'solver': 'saga', 'C': 90.60654679957065, 'l1_ratio': 0.8218081241789668}. Best is trial 2 with value: 0.4910843408008952.\n",
      "[I 2023-12-05 20:15:42,393] Trial 23 finished with value: 0.4910843408008952 and parameters: {'solver': 'saga', 'C': 79.68120617166943, 'l1_ratio': 0.8182967274127857}. Best is trial 2 with value: 0.4910843408008952.\n",
      "[I 2023-12-05 20:15:43,040] Trial 24 finished with value: 0.4910843408008952 and parameters: {'solver': 'saga', 'C': 86.90966354685177, 'l1_ratio': 0.5830266255243775}. Best is trial 2 with value: 0.4910843408008952.\n",
      "[I 2023-12-05 20:15:43,674] Trial 25 finished with value: 0.4910843408008952 and parameters: {'solver': 'saga', 'C': 73.53048595937565, 'l1_ratio': 0.3828672559314799}. Best is trial 2 with value: 0.4910843408008952.\n",
      "[I 2023-12-05 20:15:44,185] Trial 26 finished with value: 0.49096987218775245 and parameters: {'solver': 'lbfgs'}. Best is trial 2 with value: 0.4910843408008952.\n",
      "[I 2023-12-05 20:15:44,830] Trial 27 finished with value: 0.4910843408008952 and parameters: {'solver': 'saga', 'C': 99.9252752535711, 'l1_ratio': 0.6393748084426565}. Best is trial 2 with value: 0.4910843408008952.\n",
      "[I 2023-12-05 20:15:45,469] Trial 28 finished with value: 0.4910843408008952 and parameters: {'solver': 'saga', 'C': 87.81041476661986, 'l1_ratio': 0.4220423023496679}. Best is trial 2 with value: 0.4910843408008952.\n",
      "[I 2023-12-05 20:15:45,973] Trial 29 finished with value: 0.49096987218775245 and parameters: {'solver': 'lbfgs'}. Best is trial 2 with value: 0.4910843408008952.\n",
      "[I 2023-12-05 20:15:46,613] Trial 30 finished with value: 0.4910843408008952 and parameters: {'solver': 'saga', 'C': 57.44324644801577, 'l1_ratio': 0.5392610510361675}. Best is trial 2 with value: 0.4910843408008952.\n",
      "[I 2023-12-05 20:15:47,261] Trial 31 finished with value: 0.4910843408008952 and parameters: {'solver': 'saga', 'C': 67.07260225013174, 'l1_ratio': 0.9907175450313574}. Best is trial 2 with value: 0.4910843408008952.\n",
      "[I 2023-12-05 20:15:47,902] Trial 32 finished with value: 0.4910843408008952 and parameters: {'solver': 'saga', 'C': 65.50173584751059, 'l1_ratio': 0.9055937373677764}. Best is trial 2 with value: 0.4910843408008952.\n",
      "[I 2023-12-05 20:15:48,525] Trial 33 finished with value: 0.4910843408008952 and parameters: {'solver': 'saga', 'C': 48.87939540689193, 'l1_ratio': 0.7817049896765279}. Best is trial 2 with value: 0.4910843408008952.\n",
      "[I 2023-12-05 20:15:49,029] Trial 34 finished with value: 0.49096987218775245 and parameters: {'solver': 'lbfgs'}. Best is trial 2 with value: 0.4910843408008952.\n",
      "[I 2023-12-05 20:15:49,522] Trial 35 finished with value: 0.49096987218775245 and parameters: {'solver': 'lbfgs'}. Best is trial 2 with value: 0.4910843408008952.\n",
      "[I 2023-12-05 20:15:50,157] Trial 36 finished with value: 0.4910843408008952 and parameters: {'solver': 'saga', 'C': 74.81236093964881, 'l1_ratio': 0.8947443124764585}. Best is trial 2 with value: 0.4910843408008952.\n",
      "[I 2023-12-05 20:15:50,801] Trial 37 finished with value: 0.4910843408008952 and parameters: {'solver': 'saga', 'C': 83.42345634958579, 'l1_ratio': 0.7479811876757251}. Best is trial 2 with value: 0.4910843408008952.\n",
      "[I 2023-12-05 20:15:51,306] Trial 38 finished with value: 0.49096987218775245 and parameters: {'solver': 'lbfgs'}. Best is trial 2 with value: 0.4910843408008952.\n",
      "[I 2023-12-05 20:15:51,943] Trial 39 finished with value: 0.4910843408008952 and parameters: {'solver': 'saga', 'C': 92.73363571248635, 'l1_ratio': 0.6220096416009493}. Best is trial 2 with value: 0.4910843408008952.\n",
      "[I 2023-12-05 20:15:52,577] Trial 40 finished with value: 0.4910745477730824 and parameters: {'solver': 'saga', 'C': 1.0472078343919122, 'l1_ratio': 0.8922012755248656}. Best is trial 2 with value: 0.4910843408008952.\n",
      "[I 2023-12-05 20:15:53,213] Trial 41 finished with value: 0.4910843408008952 and parameters: {'solver': 'saga', 'C': 29.006118005585883, 'l1_ratio': 0.289641547969651}. Best is trial 2 with value: 0.4910843408008952.\n",
      "[I 2023-12-05 20:15:53,859] Trial 42 finished with value: 0.4910843408008952 and parameters: {'solver': 'saga', 'C': 92.7520976986469, 'l1_ratio': 0.4193066260162606}. Best is trial 2 with value: 0.4910843408008952.\n",
      "[I 2023-12-05 20:15:54,492] Trial 43 finished with value: 0.4910843408008952 and parameters: {'solver': 'saga', 'C': 50.901908948549796, 'l1_ratio': 0.7300843241423948}. Best is trial 2 with value: 0.4910843408008952.\n",
      "[I 2023-12-05 20:15:55,138] Trial 44 finished with value: 0.4910843408008952 and parameters: {'solver': 'saga', 'C': 60.19774813417607, 'l1_ratio': 0.4921181922239471}. Best is trial 2 with value: 0.4910843408008952.\n",
      "[I 2023-12-05 20:15:55,797] Trial 45 finished with value: 0.4910843408008952 and parameters: {'solver': 'saga', 'C': 83.34516800065484, 'l1_ratio': 0.021211581312416447}. Best is trial 2 with value: 0.4910843408008952.\n",
      "[I 2023-12-05 20:15:56,434] Trial 46 finished with value: 0.4910843408008952 and parameters: {'solver': 'saga', 'C': 96.11396311363104, 'l1_ratio': 0.3295010925924873}. Best is trial 2 with value: 0.4910843408008952.\n",
      "[I 2023-12-05 20:15:57,090] Trial 47 finished with value: 0.4910843408008952 and parameters: {'solver': 'saga', 'C': 44.7093845648506, 'l1_ratio': 0.640670086454252}. Best is trial 2 with value: 0.4910843408008952.\n",
      "[I 2023-12-05 20:15:57,735] Trial 48 finished with value: 0.4910843408008952 and parameters: {'solver': 'saga', 'C': 71.90541528852019, 'l1_ratio': 0.687507089432663}. Best is trial 2 with value: 0.4910843408008952.\n",
      "[I 2023-12-05 20:15:58,240] Trial 49 finished with value: 0.49096987218775245 and parameters: {'solver': 'lbfgs'}. Best is trial 2 with value: 0.4910843408008952.\n",
      "[I 2023-12-05 20:15:58,881] Trial 50 finished with value: 0.4910843408008952 and parameters: {'solver': 'saga', 'C': 94.7663679810002, 'l1_ratio': 0.5125133635970408}. Best is trial 2 with value: 0.4910843408008952.\n",
      "[I 2023-12-05 20:15:59,512] Trial 51 finished with value: 0.4910843408008952 and parameters: {'solver': 'saga', 'C': 33.9719601767088, 'l1_ratio': 0.14636928717724246}. Best is trial 2 with value: 0.4910843408008952.\n",
      "[I 2023-12-05 20:16:00,167] Trial 52 finished with value: 0.4910843408008952 and parameters: {'solver': 'saga', 'C': 41.27735160046302, 'l1_ratio': 0.04767002932233852}. Best is trial 2 with value: 0.4910843408008952.\n",
      "[I 2023-12-05 20:16:00,818] Trial 53 finished with value: 0.4910843408008952 and parameters: {'solver': 'saga', 'C': 77.46749078806945, 'l1_ratio': 0.07004681749820497}. Best is trial 2 with value: 0.4910843408008952.\n",
      "[I 2023-12-05 20:16:01,454] Trial 54 finished with value: 0.4910843408008952 and parameters: {'solver': 'saga', 'C': 58.32880407343527, 'l1_ratio': 0.1563608242961233}. Best is trial 2 with value: 0.4910843408008952.\n",
      "[I 2023-12-05 20:16:02,088] Trial 55 finished with value: 0.4910843408008952 and parameters: {'solver': 'saga', 'C': 69.66602584936439, 'l1_ratio': 0.10917137784741775}. Best is trial 2 with value: 0.4910843408008952.\n",
      "[I 2023-12-05 20:16:02,724] Trial 56 finished with value: 0.4910843408008952 and parameters: {'solver': 'saga', 'C': 83.09413051549083, 'l1_ratio': 0.23842747929592567}. Best is trial 2 with value: 0.4910843408008952.\n",
      "[I 2023-12-05 20:16:03,363] Trial 57 finished with value: 0.4910843408008952 and parameters: {'solver': 'saga', 'C': 63.3756020634423, 'l1_ratio': 0.052080094275771205}. Best is trial 2 with value: 0.4910843408008952.\n",
      "[I 2023-12-05 20:16:03,997] Trial 58 finished with value: 0.4910843408008952 and parameters: {'solver': 'saga', 'C': 76.35546519830729, 'l1_ratio': 0.024065147024925702}. Best is trial 2 with value: 0.4910843408008952.\n",
      "[I 2023-12-05 20:16:04,634] Trial 59 finished with value: 0.4910843408008952 and parameters: {'solver': 'saga', 'C': 98.91428671254312, 'l1_ratio': 0.09418373324377016}. Best is trial 2 with value: 0.4910843408008952.\n",
      "[I 2023-12-05 20:16:05,266] Trial 60 finished with value: 0.4910843408008952 and parameters: {'solver': 'saga', 'C': 89.91117198694558, 'l1_ratio': 0.9484008889534166}. Best is trial 2 with value: 0.4910843408008952.\n",
      "[I 2023-12-05 20:16:05,904] Trial 61 finished with value: 0.4910843408008952 and parameters: {'solver': 'saga', 'C': 87.94208250875072, 'l1_ratio': 0.5700028405031085}. Best is trial 2 with value: 0.4910843408008952.\n",
      "[I 2023-12-05 20:16:06,535] Trial 62 finished with value: 0.4910843408008952 and parameters: {'solver': 'saga', 'C': 95.92079275190704, 'l1_ratio': 0.45335911996280476}. Best is trial 2 with value: 0.4910843408008952.\n",
      "[I 2023-12-05 20:16:07,167] Trial 63 finished with value: 0.4910843408008952 and parameters: {'solver': 'saga', 'C': 99.97874411252243, 'l1_ratio': 0.0024673523940030705}. Best is trial 2 with value: 0.4910843408008952.\n",
      "[I 2023-12-05 20:16:07,803] Trial 64 finished with value: 0.4910843408008952 and parameters: {'solver': 'saga', 'C': 85.21269139626978, 'l1_ratio': 0.5431319860483549}. Best is trial 2 with value: 0.4910843408008952.\n",
      "[I 2023-12-05 20:16:08,308] Trial 65 finished with value: 0.49096987218775245 and parameters: {'solver': 'lbfgs'}. Best is trial 2 with value: 0.4910843408008952.\n",
      "[I 2023-12-05 20:16:08,950] Trial 66 finished with value: 0.4910843408008952 and parameters: {'solver': 'saga', 'C': 90.57254443915622, 'l1_ratio': 0.3815262373129437}. Best is trial 2 with value: 0.4910843408008952.\n",
      "[I 2023-12-05 20:16:09,584] Trial 67 finished with value: 0.4910843408008952 and parameters: {'solver': 'saga', 'C': 80.87528344865129, 'l1_ratio': 0.823248100044465}. Best is trial 2 with value: 0.4910843408008952.\n",
      "[I 2023-12-05 20:16:10,215] Trial 68 finished with value: 0.4910843408008952 and parameters: {'solver': 'saga', 'C': 80.08048800437943, 'l1_ratio': 0.6107401445226368}. Best is trial 2 with value: 0.4910843408008952.\n",
      "[I 2023-12-05 20:16:10,842] Trial 69 finished with value: 0.4910843408008952 and parameters: {'solver': 'saga', 'C': 55.628964484658106, 'l1_ratio': 0.5025646978946258}. Best is trial 2 with value: 0.4910843408008952.\n",
      "[I 2023-12-05 20:16:11,474] Trial 70 finished with value: 0.4910843408008952 and parameters: {'solver': 'saga', 'C': 62.11004355784792, 'l1_ratio': 0.997488259761004}. Best is trial 2 with value: 0.4910843408008952.\n",
      "[I 2023-12-05 20:16:12,099] Trial 71 finished with value: 0.4910843408008952 and parameters: {'solver': 'saga', 'C': 68.35492168088021, 'l1_ratio': 0.005653854610168228}. Best is trial 2 with value: 0.4910843408008952.\n",
      "[I 2023-12-05 20:16:12,755] Trial 72 finished with value: 0.4910843408008952 and parameters: {'solver': 'saga', 'C': 53.78480689551209, 'l1_ratio': 0.22699732661045616}. Best is trial 2 with value: 0.4910843408008952.\n",
      "[I 2023-12-05 20:16:13,389] Trial 73 finished with value: 0.4910843408008952 and parameters: {'solver': 'saga', 'C': 66.22158483343847, 'l1_ratio': 0.08380429074820682}. Best is trial 2 with value: 0.4910843408008952.\n",
      "[I 2023-12-05 20:16:14,025] Trial 74 finished with value: 0.4910843408008952 and parameters: {'solver': 'saga', 'C': 73.95093778410654, 'l1_ratio': 0.04695564427043531}. Best is trial 2 with value: 0.4910843408008952.\n",
      "[I 2023-12-05 20:16:14,527] Trial 75 finished with value: 0.49096987218775245 and parameters: {'solver': 'lbfgs'}. Best is trial 2 with value: 0.4910843408008952.\n",
      "[I 2023-12-05 20:16:15,155] Trial 76 finished with value: 0.4910843408008952 and parameters: {'solver': 'saga', 'C': 71.24806810542978, 'l1_ratio': 0.13356573680497835}. Best is trial 2 with value: 0.4910843408008952.\n",
      "[I 2023-12-05 20:16:15,790] Trial 77 finished with value: 0.4910843408008952 and parameters: {'solver': 'saga', 'C': 60.72411509001444, 'l1_ratio': 0.8673575400065792}. Best is trial 2 with value: 0.4910843408008952.\n",
      "[I 2023-12-05 20:16:16,699] Trial 78 finished with value: 0.4910843408008952 and parameters: {'solver': 'saga', 'C': 87.14239956315312, 'l1_ratio': 0.9419948798602439}. Best is trial 2 with value: 0.4910843408008952.\n",
      "[I 2023-12-05 20:16:17,473] Trial 79 finished with value: 0.4910843408008952 and parameters: {'solver': 'saga', 'C': 52.6967267758069, 'l1_ratio': 0.7232081243483635}. Best is trial 2 with value: 0.4910843408008952.\n",
      "[I 2023-12-05 20:16:18,128] Trial 80 finished with value: 0.4910843408008952 and parameters: {'solver': 'saga', 'C': 93.33515113851118, 'l1_ratio': 0.5741347859704288}. Best is trial 2 with value: 0.4910843408008952.\n",
      "[I 2023-12-05 20:16:18,763] Trial 81 finished with value: 0.4910843408008952 and parameters: {'solver': 'saga', 'C': 57.31709100786052, 'l1_ratio': 0.35431020589907547}. Best is trial 2 with value: 0.4910843408008952.\n",
      "[I 2023-12-05 20:16:19,394] Trial 82 finished with value: 0.4910843408008952 and parameters: {'solver': 'saga', 'C': 90.73883009950337, 'l1_ratio': 0.31589646924895154}. Best is trial 2 with value: 0.4910843408008952.\n",
      "[I 2023-12-05 20:16:20,034] Trial 83 finished with value: 0.4910843408008952 and parameters: {'solver': 'saga', 'C': 63.288631286477, 'l1_ratio': 0.27680767149726293}. Best is trial 2 with value: 0.4910843408008952.\n",
      "[I 2023-12-05 20:16:20,664] Trial 84 finished with value: 0.4910843408008952 and parameters: {'solver': 'saga', 'C': 19.001784593592753, 'l1_ratio': 0.6631608185630378}. Best is trial 2 with value: 0.4910843408008952.\n",
      "[I 2023-12-05 20:16:21,160] Trial 85 finished with value: 0.49096987218775245 and parameters: {'solver': 'lbfgs'}. Best is trial 2 with value: 0.4910843408008952.\n",
      "[I 2023-12-05 20:16:21,805] Trial 86 finished with value: 0.4910843408008952 and parameters: {'solver': 'saga', 'C': 49.38170016419288, 'l1_ratio': 0.4332553072589883}. Best is trial 2 with value: 0.4910843408008952.\n",
      "[I 2023-12-05 20:16:22,432] Trial 87 finished with value: 0.4910843408008952 and parameters: {'solver': 'saga', 'C': 77.80735908630591, 'l1_ratio': 0.18119097660838246}. Best is trial 2 with value: 0.4910843408008952.\n",
      "[I 2023-12-05 20:16:23,077] Trial 88 finished with value: 0.4910843408008952 and parameters: {'solver': 'saga', 'C': 67.40636905953436, 'l1_ratio': 0.46231224963650075}. Best is trial 2 with value: 0.4910843408008952.\n",
      "[I 2023-12-05 20:16:23,708] Trial 89 finished with value: 0.4910843408008952 and parameters: {'solver': 'saga', 'C': 85.2136729440615, 'l1_ratio': 0.38640920290014236}. Best is trial 2 with value: 0.4910843408008952.\n",
      "[I 2023-12-05 20:16:24,342] Trial 90 finished with value: 0.4910843408008952 and parameters: {'solver': 'saga', 'C': 58.76963265067096, 'l1_ratio': 0.5353568435440544}. Best is trial 2 with value: 0.4910843408008952.\n",
      "[I 2023-12-05 20:16:24,971] Trial 91 finished with value: 0.4910843408008952 and parameters: {'solver': 'saga', 'C': 47.70455201092389, 'l1_ratio': 0.5985176603963129}. Best is trial 2 with value: 0.4910843408008952.\n",
      "[I 2023-12-05 20:16:25,614] Trial 92 finished with value: 0.4910843408008952 and parameters: {'solver': 'saga', 'C': 39.92345840919905, 'l1_ratio': 0.47521109517303417}. Best is trial 2 with value: 0.4910843408008952.\n",
      "[I 2023-12-05 20:16:26,245] Trial 93 finished with value: 0.4910843408008952 and parameters: {'solver': 'saga', 'C': 52.14765223418101, 'l1_ratio': 0.6924048401009895}. Best is trial 2 with value: 0.4910843408008952.\n",
      "[I 2023-12-05 20:16:26,890] Trial 94 finished with value: 0.4910843408008952 and parameters: {'solver': 'saga', 'C': 55.64877941077127, 'l1_ratio': 0.034714955424291837}. Best is trial 2 with value: 0.4910843408008952.\n",
      "[I 2023-12-05 20:16:27,539] Trial 95 finished with value: 0.4910843408008952 and parameters: {'solver': 'saga', 'C': 46.58101105420846, 'l1_ratio': 0.06725000388219624}. Best is trial 2 with value: 0.4910843408008952.\n",
      "[I 2023-12-05 20:16:28,183] Trial 96 finished with value: 0.4910843408008952 and parameters: {'solver': 'saga', 'C': 63.844198243227396, 'l1_ratio': 0.5583679107778895}. Best is trial 2 with value: 0.4910843408008952.\n",
      "[I 2023-12-05 20:16:28,813] Trial 97 finished with value: 0.4910843408008952 and parameters: {'solver': 'saga', 'C': 50.91424793775063, 'l1_ratio': 0.6438735652245466}. Best is trial 2 with value: 0.4910843408008952.\n",
      "[I 2023-12-05 20:16:29,309] Trial 98 finished with value: 0.49096987218775245 and parameters: {'solver': 'lbfgs'}. Best is trial 2 with value: 0.4910843408008952.\n",
      "[I 2023-12-05 20:16:29,951] Trial 99 finished with value: 0.4910843408008952 and parameters: {'solver': 'saga', 'C': 96.29389230682014, 'l1_ratio': 0.1132686224287187}. Best is trial 2 with value: 0.4910843408008952.\n"
     ]
    }
   ],
   "source": [
    "study_log_reg.optimize(optuna_optimize, n_trials=100)"
   ],
   "metadata": {
    "collapsed": false,
    "ExecuteTime": {
     "end_time": "2023-12-05T17:16:29.975688600Z",
     "start_time": "2023-12-05T17:15:28.099034400Z"
    }
   }
  },
  {
   "cell_type": "code",
   "execution_count": 36,
   "outputs": [
    {
     "name": "stdout",
     "output_type": "stream",
     "text": [
      "Наилучшие значения гиперпараметров Logistic Regression: {'solver': 'saga', 'C': 50.817347931905715, 'l1_ratio': 0.10036234139932876}\n",
      "f1_score на обучающем наборе: 0.491\n"
     ]
    }
   ],
   "source": [
    "print(\"Наилучшие значения гиперпараметров Logistic Regression: {}\".format(study_log_reg.best_params))\n",
    "print(\"f1_score на обучающем наборе: {:.3f}\". format(study_log_reg.best_value))"
   ],
   "metadata": {
    "collapsed": false,
    "ExecuteTime": {
     "end_time": "2023-12-05T17:16:30.070929700Z",
     "start_time": "2023-12-05T17:16:29.966151300Z"
    }
   }
  },
  {
   "cell_type": "code",
   "execution_count": 37,
   "outputs": [],
   "source": [
    "with mlflow.start_run(nested=True,\n",
    "                      run_name='log_reg_pipeline_class_weight'):\n",
    "\n",
    "    best_params = study_log_reg.best_params\n",
    "    best_score = study_log_reg.best_value\n",
    "    mlflow.log_params(best_params)\n",
    "\n",
    "    log_reg_pipe_cw = Pipeline([\n",
    "        ('preprocessor', preprocessor),\n",
    "        ('model', LogisticRegression(**best_params,\n",
    "                                     class_weight='balanced',\n",
    "                                     random_state=12345))\n",
    "    ])\n",
    "\n",
    "    log_reg_pipe_cw.fit(X_train, y_train)\n",
    "\n",
    "    pred_proba = log_reg_pipe_cw.predict_proba(X_test)[:, 1]\n",
    "    roc_auc_lr_cw = roc_auc_score(y_test, pred_proba)\n",
    "    \n",
    "    mlflow.log_metrics({\n",
    "        'f1_cv': best_score,\n",
    "        'roc_auc': roc_auc_lr_cw,\n",
    "        'balanced_accuracy': balanced_accuracy_score(y_test, np.round(pred_proba, 0)),\n",
    "        'f1': f1_score(y_test, np.round(pred_proba, 0))\n",
    "    })\n",
    "    \n",
    "    mlflow.sklearn.log_model(log_reg_pipe_cw, 'log_reg_pipeline_class_weight')"
   ],
   "metadata": {
    "collapsed": false,
    "ExecuteTime": {
     "end_time": "2023-12-05T17:16:34.494504900Z",
     "start_time": "2023-12-05T17:16:29.992403500Z"
    }
   }
  },
  {
   "cell_type": "markdown",
   "source": [
    "### 3.1.4 Метод опорных векторов"
   ],
   "metadata": {
    "collapsed": false
   }
  },
  {
   "cell_type": "code",
   "execution_count": 38,
   "outputs": [],
   "source": [
    "def optuna_optimize(trial):\n",
    "\n",
    "    param = {\n",
    "        'C': trial.suggest_float('C', 0.01, 3)  # какие значения может принимать С \n",
    "    }\n",
    " \n",
    "    estimator = SVC(**param, \n",
    "                    class_weight='balanced',\n",
    "                    random_state=12345,\n",
    "                    probability=True)\n",
    "    \n",
    "    svc_pipe = Pipeline([\n",
    "        ('preprocessor', preprocessor),\n",
    "        ('model', estimator)\n",
    "    ])\n",
    "    \n",
    "    score = cross_val_score(svc_pipe, X_train, y_train, cv=5, scoring='f1').mean()\n",
    "    return score"
   ],
   "metadata": {
    "collapsed": false,
    "ExecuteTime": {
     "end_time": "2023-12-05T17:16:34.517417200Z",
     "start_time": "2023-12-05T17:16:34.498672300Z"
    }
   }
  },
  {
   "cell_type": "code",
   "execution_count": 39,
   "outputs": [
    {
     "name": "stderr",
     "output_type": "stream",
     "text": [
      "[I 2023-12-05 20:16:34,508] A new study created in memory with name: SVC Optuna Optimization Class Weight\n"
     ]
    }
   ],
   "source": [
    "study_svc = optuna.create_study(study_name=\"SVC Optuna Optimization Class Weight\",\n",
    "                                    direction='maximize')"
   ],
   "metadata": {
    "collapsed": false,
    "ExecuteTime": {
     "end_time": "2023-12-05T17:16:34.615278100Z",
     "start_time": "2023-12-05T17:16:34.513706Z"
    }
   }
  },
  {
   "cell_type": "code",
   "execution_count": 40,
   "outputs": [
    {
     "name": "stderr",
     "output_type": "stream",
     "text": [
      "[I 2023-12-05 20:17:16,195] Trial 0 finished with value: 0.578993844117864 and parameters: {'C': 2.646346357172228}. Best is trial 0 with value: 0.578993844117864.\n",
      "[I 2023-12-05 20:17:59,621] Trial 1 finished with value: 0.578081368322346 and parameters: {'C': 2.796094466754614}. Best is trial 0 with value: 0.578993844117864.\n",
      "[I 2023-12-05 20:18:40,911] Trial 2 finished with value: 0.5779896813866602 and parameters: {'C': 2.0509175549938354}. Best is trial 0 with value: 0.578993844117864.\n",
      "[I 2023-12-05 20:19:22,351] Trial 3 finished with value: 0.57787162830032 and parameters: {'C': 2.010308986367758}. Best is trial 0 with value: 0.578993844117864.\n",
      "[I 2023-12-05 20:20:05,101] Trial 4 finished with value: 0.5755749096228858 and parameters: {'C': 0.7790106316237156}. Best is trial 0 with value: 0.578993844117864.\n",
      "[I 2023-12-05 20:20:46,455] Trial 5 finished with value: 0.5796296232126892 and parameters: {'C': 1.6077751326009273}. Best is trial 5 with value: 0.5796296232126892.\n",
      "[I 2023-12-05 20:21:28,071] Trial 6 finished with value: 0.579142140068793 and parameters: {'C': 1.5649171490489098}. Best is trial 5 with value: 0.5796296232126892.\n",
      "[I 2023-12-05 20:22:14,900] Trial 7 finished with value: 0.5556354224543425 and parameters: {'C': 0.16701591204489527}. Best is trial 5 with value: 0.5796296232126892.\n",
      "[I 2023-12-05 20:22:56,168] Trial 8 finished with value: 0.5792967468632824 and parameters: {'C': 1.6694141770199984}. Best is trial 5 with value: 0.5796296232126892.\n",
      "[I 2023-12-05 20:23:39,949] Trial 9 finished with value: 0.567583355736594 and parameters: {'C': 0.5082688890290317}. Best is trial 5 with value: 0.5796296232126892.\n"
     ]
    }
   ],
   "source": [
    "study_svc.optimize(optuna_optimize, n_trials=10)"
   ],
   "metadata": {
    "collapsed": false,
    "ExecuteTime": {
     "end_time": "2023-12-05T17:23:39.970802600Z",
     "start_time": "2023-12-05T17:16:34.524626Z"
    }
   }
  },
  {
   "cell_type": "code",
   "execution_count": 41,
   "outputs": [
    {
     "name": "stdout",
     "output_type": "stream",
     "text": [
      "Наилучшие значения гиперпараметров SVC: {'C': 1.6077751326009273}\n",
      "f1_score на обучающем наборе: 0.580\n"
     ]
    }
   ],
   "source": [
    "print(\"Наилучшие значения гиперпараметров SVC: {}\".format(study_svc.best_params))\n",
    "print(\"f1_score на обучающем наборе: {:.3f}\". format(study_svc.best_value))"
   ],
   "metadata": {
    "collapsed": false,
    "ExecuteTime": {
     "end_time": "2023-12-05T17:23:40.017510100Z",
     "start_time": "2023-12-05T17:23:39.976477Z"
    }
   }
  },
  {
   "cell_type": "code",
   "execution_count": 42,
   "outputs": [],
   "source": [
    "with mlflow.start_run(nested=True,\n",
    "                      run_name='svc_pipeline_class_weight'):\n",
    "\n",
    "    best_params = study_svc.best_params\n",
    "    best_score = study_svc.best_value\n",
    "    mlflow.log_params(best_params)\n",
    "\n",
    "    svc_pipe_cw = Pipeline([\n",
    "        ('preprocessor', preprocessor),\n",
    "        ('model', SVC(**best_params,\n",
    "                      class_weight='balanced',\n",
    "                      random_state=12345,\n",
    "                      probability=True))\n",
    "    ])\n",
    "\n",
    "    svc_pipe_cw.fit(X_train, y_train)\n",
    "\n",
    "    pred_proba = svc_pipe_cw.predict_proba(X_test)[:, 1]\n",
    "    roc_auc_svc_cw = roc_auc_score(y_test, pred_proba)\n",
    "    \n",
    "    mlflow.log_metrics({\n",
    "        'f1_cv': best_score,\n",
    "        'roc_auc': roc_auc_svc_cw,\n",
    "        'balanced_accuracy': balanced_accuracy_score(y_test, np.round(pred_proba, 0)),\n",
    "        'f1': f1_score(y_test, np.round(pred_proba, 0))\n",
    "    })\n",
    "    \n",
    "    mlflow.sklearn.log_model(svc_pipe_cw, 'svc_pipeline_class_weight')"
   ],
   "metadata": {
    "collapsed": false,
    "ExecuteTime": {
     "end_time": "2023-12-05T17:23:57.323707100Z",
     "start_time": "2023-12-05T17:23:39.983709300Z"
    }
   }
  },
  {
   "cell_type": "markdown",
   "source": [
    "## 3.2 Генерация синтетических данных (SMOTE)\n",
    "### 3.2.1 Модель XGBoost"
   ],
   "metadata": {
    "collapsed": false
   }
  },
  {
   "cell_type": "code",
   "execution_count": 43,
   "outputs": [],
   "source": [
    "cat_pipeline = Pipeline([\n",
    "    ('enc', OneHotEncoder(handle_unknown='error', drop='first'))\n",
    "])\n",
    "\n",
    "num_pipeline = Pipeline([\n",
    "    ('imp', SimpleImputer(fill_value=-1, add_indicator=True)),\n",
    "    ('pt', PowerTransformer())\n",
    "])\n",
    "\n",
    "preprocessor = ColumnTransformer([\n",
    "    (\"cat\", cat_pipeline, categorical_features),\n",
    "    (\"num\", num_pipeline, numeric_features)\n",
    "], remainder='passthrough')"
   ],
   "metadata": {
    "collapsed": false,
    "ExecuteTime": {
     "end_time": "2023-12-05T17:23:57.345552100Z",
     "start_time": "2023-12-05T17:23:57.323707100Z"
    }
   }
  },
  {
   "cell_type": "code",
   "execution_count": 44,
   "outputs": [],
   "source": [
    "def optuna_optimize(trial):\n",
    "    param = {\n",
    "        'n_estimators': trial.suggest_int('n_estimators', 50, 500),\n",
    "        'max_depth': trial.suggest_int('max_depth', 2, 16),\n",
    "        'learning_rate': trial.suggest_float('learning_rate', 0.01, 1.0),\n",
    "        'gamma': trial.suggest_float('gamma', 0.0, 20.0),\n",
    "        'reg_lambda': trial.suggest_float('reg_lambda', 0.0, 1.0),\n",
    "        'min_child_weight': trial.suggest_float('min_child_weight', 0.0, 5.0)\n",
    "    }\n",
    "\n",
    "    estimator = xgb.XGBClassifier(**param,\n",
    "                                  random_state=12345)\n",
    "\n",
    "    xgb_pipe = Pipeline([\n",
    "        ('preprocessor', preprocessor),\n",
    "        ('smote', SMOTE(random_state=12345)),\n",
    "        ('model', estimator)\n",
    "    ])\n",
    "\n",
    "    score = cross_val_score(xgb_pipe, X_train, y_train, cv=5, scoring='f1').mean()\n",
    "    return score"
   ],
   "metadata": {
    "collapsed": false,
    "ExecuteTime": {
     "end_time": "2023-12-05T17:23:57.395220400Z",
     "start_time": "2023-12-05T17:23:57.336042800Z"
    }
   }
  },
  {
   "cell_type": "code",
   "execution_count": 45,
   "outputs": [
    {
     "name": "stderr",
     "output_type": "stream",
     "text": [
      "[I 2023-12-05 20:23:57,369] A new study created in memory with name: XGBoost Optuna Optimization SMOTE\n"
     ]
    }
   ],
   "source": [
    "study_xgb_smote = optuna.create_study(study_name=\"XGBoost Optuna Optimization SMOTE\",\n",
    "                                direction='maximize')"
   ],
   "metadata": {
    "collapsed": false,
    "ExecuteTime": {
     "end_time": "2023-12-05T17:23:57.400801700Z",
     "start_time": "2023-12-05T17:23:57.369023100Z"
    }
   }
  },
  {
   "cell_type": "code",
   "execution_count": 46,
   "outputs": [
    {
     "name": "stderr",
     "output_type": "stream",
     "text": [
      "[I 2023-12-05 20:23:59,196] Trial 0 finished with value: 0.6158681413508295 and parameters: {'n_estimators': 407, 'max_depth': 6, 'learning_rate': 0.40816272806851456, 'gamma': 8.897148933520988, 'reg_lambda': 0.3273213299521369, 'min_child_weight': 1.8814450690982831}. Best is trial 0 with value: 0.6158681413508295.\n",
      "[I 2023-12-05 20:24:01,402] Trial 1 finished with value: 0.60846209372543 and parameters: {'n_estimators': 492, 'max_depth': 8, 'learning_rate': 0.35971790553329275, 'gamma': 5.469796564507772, 'reg_lambda': 0.11651917118580857, 'min_child_weight': 0.2928489277149965}. Best is trial 0 with value: 0.6158681413508295.\n",
      "[I 2023-12-05 20:24:03,368] Trial 2 finished with value: 0.5967897875299674 and parameters: {'n_estimators': 418, 'max_depth': 13, 'learning_rate': 0.9065547939720656, 'gamma': 7.855309790760581, 'reg_lambda': 0.7410629876793037, 'min_child_weight': 0.10289113027311281}. Best is trial 0 with value: 0.6158681413508295.\n",
      "[I 2023-12-05 20:24:04,672] Trial 3 finished with value: 0.6098474322238883 and parameters: {'n_estimators': 142, 'max_depth': 10, 'learning_rate': 0.8698947128901098, 'gamma': 14.524355885006443, 'reg_lambda': 0.1357719347274149, 'min_child_weight': 2.5205993647307374}. Best is trial 0 with value: 0.6158681413508295.\n",
      "[I 2023-12-05 20:24:06,770] Trial 4 finished with value: 0.6155348675848977 and parameters: {'n_estimators': 347, 'max_depth': 5, 'learning_rate': 0.08606243947233268, 'gamma': 4.590677302978598, 'reg_lambda': 0.7484948080398938, 'min_child_weight': 4.030570861211898}. Best is trial 0 with value: 0.6158681413508295.\n",
      "[I 2023-12-05 20:24:07,898] Trial 5 finished with value: 0.5792025606410325 and parameters: {'n_estimators': 54, 'max_depth': 2, 'learning_rate': 0.044497074643844725, 'gamma': 19.443372787316093, 'reg_lambda': 0.11238351347971709, 'min_child_weight': 1.5795169154768984}. Best is trial 0 with value: 0.6158681413508295.\n",
      "[I 2023-12-05 20:24:09,769] Trial 6 finished with value: 0.5583243580092084 and parameters: {'n_estimators': 230, 'max_depth': 12, 'learning_rate': 0.9462996027527342, 'gamma': 0.7787796253124779, 'reg_lambda': 0.571523975193518, 'min_child_weight': 3.721385518926616}. Best is trial 0 with value: 0.6158681413508295.\n",
      "[I 2023-12-05 20:24:11,523] Trial 7 finished with value: 0.5954746174842092 and parameters: {'n_estimators': 388, 'max_depth': 3, 'learning_rate': 0.8008369530710576, 'gamma': 5.650799459585578, 'reg_lambda': 0.17570022086311277, 'min_child_weight': 3.574583362600903}. Best is trial 0 with value: 0.6158681413508295.\n",
      "[I 2023-12-05 20:24:13,067] Trial 8 finished with value: 0.6009600396386353 and parameters: {'n_estimators': 269, 'max_depth': 9, 'learning_rate': 0.848363251814346, 'gamma': 9.409239063295969, 'reg_lambda': 0.034980073557883684, 'min_child_weight': 2.1716020535154135}. Best is trial 0 with value: 0.6158681413508295.\n",
      "[I 2023-12-05 20:24:14,292] Trial 9 finished with value: 0.6136104216955605 and parameters: {'n_estimators': 99, 'max_depth': 3, 'learning_rate': 0.6921393787256032, 'gamma': 1.5202872638742626, 'reg_lambda': 0.8825526173067845, 'min_child_weight': 2.6724661778600147}. Best is trial 0 with value: 0.6158681413508295.\n",
      "[I 2023-12-05 20:24:16,310] Trial 10 finished with value: 0.6161856185102746 and parameters: {'n_estimators': 475, 'max_depth': 16, 'learning_rate': 0.4453197259697737, 'gamma': 13.369439706409706, 'reg_lambda': 0.3680657936088204, 'min_child_weight': 4.4677032469223334}. Best is trial 10 with value: 0.6161856185102746.\n",
      "[I 2023-12-05 20:24:18,434] Trial 11 finished with value: 0.61744683417353 and parameters: {'n_estimators': 490, 'max_depth': 16, 'learning_rate': 0.46134531765288395, 'gamma': 12.043222965968049, 'reg_lambda': 0.375846128986144, 'min_child_weight': 4.7556517652322725}. Best is trial 11 with value: 0.61744683417353.\n",
      "[I 2023-12-05 20:24:20,501] Trial 12 finished with value: 0.6048451021060706 and parameters: {'n_estimators': 492, 'max_depth': 16, 'learning_rate': 0.5205705127444565, 'gamma': 13.14812241760767, 'reg_lambda': 0.413906726694415, 'min_child_weight': 4.6917222880839775}. Best is trial 11 with value: 0.61744683417353.\n",
      "[I 2023-12-05 20:24:22,244] Trial 13 finished with value: 0.6138897265930646 and parameters: {'n_estimators': 330, 'max_depth': 16, 'learning_rate': 0.5553216009183602, 'gamma': 12.265756285743516, 'reg_lambda': 0.3110802062949341, 'min_child_weight': 4.824093598372391}. Best is trial 11 with value: 0.61744683417353.\n",
      "[I 2023-12-05 20:24:24,257] Trial 14 finished with value: 0.6227458304684969 and parameters: {'n_estimators': 452, 'max_depth': 14, 'learning_rate': 0.29888197298587593, 'gamma': 17.485125932807062, 'reg_lambda': 0.4670287882403783, 'min_child_weight': 4.778571659311533}. Best is trial 14 with value: 0.6227458304684969.\n",
      "[I 2023-12-05 20:24:26,367] Trial 15 finished with value: 0.6205722314289804 and parameters: {'n_estimators': 441, 'max_depth': 13, 'learning_rate': 0.26513577464704374, 'gamma': 17.325672832334714, 'reg_lambda': 0.5346323038359626, 'min_child_weight': 4.99334009566976}. Best is trial 14 with value: 0.6227458304684969.\n",
      "[I 2023-12-05 20:24:27,893] Trial 16 finished with value: 0.6192602162276543 and parameters: {'n_estimators': 193, 'max_depth': 13, 'learning_rate': 0.2551832252988819, 'gamma': 18.117001070357077, 'reg_lambda': 0.5485809842518937, 'min_child_weight': 4.280359060473568}. Best is trial 14 with value: 0.6227458304684969.\n",
      "[I 2023-12-05 20:24:29,673] Trial 17 finished with value: 0.6231782867223383 and parameters: {'n_estimators': 319, 'max_depth': 11, 'learning_rate': 0.24536552414118773, 'gamma': 16.619156218725635, 'reg_lambda': 0.5234646839517872, 'min_child_weight': 3.3905061752393197}. Best is trial 17 with value: 0.6231782867223383.\n",
      "[I 2023-12-05 20:24:31,503] Trial 18 finished with value: 0.6193189061293992 and parameters: {'n_estimators': 315, 'max_depth': 12, 'learning_rate': 0.17800968038884976, 'gamma': 15.698668282318886, 'reg_lambda': 0.643209772739862, 'min_child_weight': 3.235774995706814}. Best is trial 17 with value: 0.6231782867223383.\n",
      "[I 2023-12-05 20:24:33,455] Trial 19 finished with value: 0.6181656519474548 and parameters: {'n_estimators': 361, 'max_depth': 11, 'learning_rate': 0.15076489755376488, 'gamma': 16.36245474863373, 'reg_lambda': 0.2526132004548729, 'min_child_weight': 4.084373211141259}. Best is trial 17 with value: 0.6231782867223383.\n",
      "[I 2023-12-05 20:24:37,285] Trial 20 finished with value: 0.6144403795919893 and parameters: {'n_estimators': 287, 'max_depth': 14, 'learning_rate': 0.012396555855143598, 'gamma': 19.65209761143843, 'reg_lambda': 0.4550372855285864, 'min_child_weight': 3.1999114972691656}. Best is trial 17 with value: 0.6231782867223383.\n",
      "[I 2023-12-05 20:24:39,302] Trial 21 finished with value: 0.6209356540094715 and parameters: {'n_estimators': 448, 'max_depth': 14, 'learning_rate': 0.2875120661037924, 'gamma': 17.30838712737322, 'reg_lambda': 0.5019732586754885, 'min_child_weight': 4.451398367865802}. Best is trial 17 with value: 0.6231782867223383.\n",
      "[I 2023-12-05 20:24:41,311] Trial 22 finished with value: 0.6201396219262214 and parameters: {'n_estimators': 451, 'max_depth': 14, 'learning_rate': 0.2998034020784454, 'gamma': 17.65513344274751, 'reg_lambda': 0.4702275603989532, 'min_child_weight': 4.307007160146965}. Best is trial 17 with value: 0.6231782867223383.\n",
      "[I 2023-12-05 20:24:43,182] Trial 23 finished with value: 0.6238726291459906 and parameters: {'n_estimators': 378, 'max_depth': 14, 'learning_rate': 0.3411058894101475, 'gamma': 15.64687449798376, 'reg_lambda': 0.4607664417434653, 'min_child_weight': 3.868107024801876}. Best is trial 23 with value: 0.6238726291459906.\n",
      "[I 2023-12-05 20:24:45,039] Trial 24 finished with value: 0.6155789302948914 and parameters: {'n_estimators': 381, 'max_depth': 10, 'learning_rate': 0.34438179109011513, 'gamma': 14.94915636263186, 'reg_lambda': 0.6112614879942943, 'min_child_weight': 3.713422133682564}. Best is trial 23 with value: 0.6238726291459906.\n",
      "[I 2023-12-05 20:24:46,804] Trial 25 finished with value: 0.6154572409983873 and parameters: {'n_estimators': 302, 'max_depth': 8, 'learning_rate': 0.20049764802210615, 'gamma': 15.885953736401508, 'reg_lambda': 0.4522986594513473, 'min_child_weight': 3.8973560406971792}. Best is trial 23 with value: 0.6238726291459906.\n",
      "[I 2023-12-05 20:24:48,549] Trial 26 finished with value: 0.6143521296085227 and parameters: {'n_estimators': 249, 'max_depth': 15, 'learning_rate': 0.12548450841770672, 'gamma': 18.72147674116006, 'reg_lambda': 0.24422948085622906, 'min_child_weight': 3.231500523213329}. Best is trial 23 with value: 0.6238726291459906.\n",
      "[I 2023-12-05 20:24:50,437] Trial 27 finished with value: 0.6237246988892905 and parameters: {'n_estimators': 357, 'max_depth': 11, 'learning_rate': 0.21685022065752121, 'gamma': 14.432978984131768, 'reg_lambda': 0.4285561013529818, 'min_child_weight': 4.518362081656852}. Best is trial 23 with value: 0.6238726291459906.\n",
      "[I 2023-12-05 20:24:52,107] Trial 28 finished with value: 0.6235094272343519 and parameters: {'n_estimators': 221, 'max_depth': 11, 'learning_rate': 0.1989881328183483, 'gamma': 11.460136218687662, 'reg_lambda': 0.39363577765245583, 'min_child_weight': 4.128440143897197}. Best is trial 23 with value: 0.6238726291459906.\n",
      "[I 2023-12-05 20:24:53,510] Trial 29 finished with value: 0.6151092072273514 and parameters: {'n_estimators': 177, 'max_depth': 6, 'learning_rate': 0.38862273906157213, 'gamma': 10.84340445635653, 'reg_lambda': 0.34296725116110655, 'min_child_weight': 3.972767538018667}. Best is trial 23 with value: 0.6238726291459906.\n",
      "[I 2023-12-05 20:24:55,213] Trial 30 finished with value: 0.6213179055966995 and parameters: {'n_estimators': 225, 'max_depth': 7, 'learning_rate': 0.11466623117367208, 'gamma': 14.442942338246796, 'reg_lambda': 0.2827715712960077, 'min_child_weight': 4.413327021590438}. Best is trial 23 with value: 0.6238726291459906.\n",
      "[I 2023-12-05 20:24:57,154] Trial 31 finished with value: 0.6230339209781264 and parameters: {'n_estimators': 352, 'max_depth': 11, 'learning_rate': 0.20391005590313074, 'gamma': 13.536950606183897, 'reg_lambda': 0.40571046549207823, 'min_child_weight': 3.517914308370923}. Best is trial 23 with value: 0.6238726291459906.\n",
      "[I 2023-12-05 20:24:59,190] Trial 32 finished with value: 0.6225937254596711 and parameters: {'n_estimators': 406, 'max_depth': 10, 'learning_rate': 0.21946421195332633, 'gamma': 11.078906692819352, 'reg_lambda': 0.3415890688177947, 'min_child_weight': 4.084394591089235}. Best is trial 23 with value: 0.6238726291459906.\n",
      "[I 2023-12-05 20:25:00,850] Trial 33 finished with value: 0.6231100478490539 and parameters: {'n_estimators': 265, 'max_depth': 12, 'learning_rate': 0.34999433027078586, 'gamma': 15.463170868027227, 'reg_lambda': 0.41689656584585627, 'min_child_weight': 2.990536009675992}. Best is trial 23 with value: 0.6238726291459906.\n",
      "[I 2023-12-05 20:25:02,666] Trial 34 finished with value: 0.6173232781473146 and parameters: {'n_estimators': 324, 'max_depth': 11, 'learning_rate': 0.2349886761617597, 'gamma': 14.256168688934498, 'reg_lambda': 0.5344619580319812, 'min_child_weight': 3.53188588027861}. Best is trial 23 with value: 0.6238726291459906.\n",
      "[I 2023-12-05 20:25:04,744] Trial 35 finished with value: 0.6165163619489524 and parameters: {'n_estimators': 371, 'max_depth': 9, 'learning_rate': 0.09569550784019326, 'gamma': 16.310174877278765, 'reg_lambda': 0.6022886705132308, 'min_child_weight': 3.836572448492154}. Best is trial 23 with value: 0.6238726291459906.\n",
      "[I 2023-12-05 20:25:06,765] Trial 36 finished with value: 0.6194017572345376 and parameters: {'n_estimators': 415, 'max_depth': 9, 'learning_rate': 0.3358601954220857, 'gamma': 8.669426245145546, 'reg_lambda': 0.6697229163176295, 'min_child_weight': 4.1787017395249}. Best is trial 23 with value: 0.6238726291459906.\n",
      "[I 2023-12-05 20:25:08,450] Trial 37 finished with value: 0.6242443381788105 and parameters: {'n_estimators': 202, 'max_depth': 12, 'learning_rate': 0.1561439158271075, 'gamma': 12.055881153486757, 'reg_lambda': 0.5048048956832425, 'min_child_weight': 4.434143854486848}. Best is trial 37 with value: 0.6242443381788105.\n",
      "[I 2023-12-05 20:25:10,079] Trial 38 finished with value: 0.627409496131605 and parameters: {'n_estimators': 158, 'max_depth': 12, 'learning_rate': 0.15826252460153967, 'gamma': 10.504352550732081, 'reg_lambda': 0.4977022037125753, 'min_child_weight': 4.559059548030514}. Best is trial 38 with value: 0.627409496131605.\n",
      "[I 2023-12-05 20:25:11,972] Trial 39 finished with value: 0.6232718298501843 and parameters: {'n_estimators': 137, 'max_depth': 12, 'learning_rate': 0.08033466605431108, 'gamma': 9.953431825113757, 'reg_lambda': 0.4886044224216032, 'min_child_weight': 4.525157131706082}. Best is trial 38 with value: 0.627409496131605.\n",
      "[I 2023-12-05 20:25:14,318] Trial 40 finished with value: 0.6243798854397997 and parameters: {'n_estimators': 138, 'max_depth': 13, 'learning_rate': 0.03937276894041618, 'gamma': 12.283701836386532, 'reg_lambda': 0.6964622012533778, 'min_child_weight': 4.5572457365935115}. Best is trial 38 with value: 0.627409496131605.\n",
      "[I 2023-12-05 20:25:16,421] Trial 41 finished with value: 0.6237173635849945 and parameters: {'n_estimators': 123, 'max_depth': 13, 'learning_rate': 0.04594476503886207, 'gamma': 12.6340626887615, 'reg_lambda': 0.7104468737656852, 'min_child_weight': 4.987826121661235}. Best is trial 38 with value: 0.627409496131605.\n",
      "[I 2023-12-05 20:25:18,010] Trial 42 finished with value: 0.6205731887923565 and parameters: {'n_estimators': 170, 'max_depth': 15, 'learning_rate': 0.15542564942757756, 'gamma': 13.824060707729373, 'reg_lambda': 0.5772352715724054, 'min_child_weight': 4.572150925042755}. Best is trial 38 with value: 0.627409496131605.\n",
      "[I 2023-12-05 20:25:19,539] Trial 43 finished with value: 0.6252505466857178 and parameters: {'n_estimators': 93, 'max_depth': 12, 'learning_rate': 0.1477636646775911, 'gamma': 10.342714569635291, 'reg_lambda': 0.8320859120714441, 'min_child_weight': 4.64135726370025}. Best is trial 38 with value: 0.627409496131605.\n",
      "[I 2023-12-05 20:25:21,314] Trial 44 finished with value: 0.6270518675529255 and parameters: {'n_estimators': 52, 'max_depth': 15, 'learning_rate': 0.06811462355425751, 'gamma': 10.344528130531875, 'reg_lambda': 0.8208106331994944, 'min_child_weight': 4.686586911843177}. Best is trial 38 with value: 0.627409496131605.\n",
      "[I 2023-12-05 20:25:23,140] Trial 45 finished with value: 0.625462204759073 and parameters: {'n_estimators': 52, 'max_depth': 15, 'learning_rate': 0.05668495052463158, 'gamma': 10.392805302138855, 'reg_lambda': 0.8069915200381909, 'min_child_weight': 4.653048494263956}. Best is trial 38 with value: 0.627409496131605.\n",
      "[I 2023-12-05 20:25:25,470] Trial 46 finished with value: 0.6089044593137949 and parameters: {'n_estimators': 65, 'max_depth': 15, 'learning_rate': 0.01943057654696023, 'gamma': 10.44296854631058, 'reg_lambda': 0.8134738371033151, 'min_child_weight': 4.7176129145982495}. Best is trial 38 with value: 0.627409496131605.\n",
      "[I 2023-12-05 20:25:27,576] Trial 47 finished with value: 0.6263184879045636 and parameters: {'n_estimators': 81, 'max_depth': 15, 'learning_rate': 0.05792085498848876, 'gamma': 8.828371493591415, 'reg_lambda': 0.9714869244546939, 'min_child_weight': 4.879571742232335}. Best is trial 38 with value: 0.627409496131605.\n",
      "[I 2023-12-05 20:25:29,563] Trial 48 finished with value: 0.625175230313003 and parameters: {'n_estimators': 81, 'max_depth': 15, 'learning_rate': 0.07306385512538352, 'gamma': 7.906012210741879, 'reg_lambda': 0.9860419250134018, 'min_child_weight': 4.862039983261916}. Best is trial 38 with value: 0.627409496131605.\n",
      "[I 2023-12-05 20:25:31,228] Trial 49 finished with value: 0.6271958902422872 and parameters: {'n_estimators': 104, 'max_depth': 16, 'learning_rate': 0.12076606386844803, 'gamma': 9.65027739302551, 'reg_lambda': 0.8150896726552982, 'min_child_weight': 4.998213859655863}. Best is trial 38 with value: 0.627409496131605.\n",
      "[I 2023-12-05 20:25:33,138] Trial 50 finished with value: 0.6265490146978355 and parameters: {'n_estimators': 56, 'max_depth': 16, 'learning_rate': 0.06877639227518978, 'gamma': 9.342840483349153, 'reg_lambda': 0.9172125245633488, 'min_child_weight': 4.949576463007922}. Best is trial 38 with value: 0.627409496131605.\n",
      "[I 2023-12-05 20:25:34,961] Trial 51 finished with value: 0.622093754763093 and parameters: {'n_estimators': 50, 'max_depth': 16, 'learning_rate': 0.07124555900879981, 'gamma': 8.49178970857946, 'reg_lambda': 0.9380495063321328, 'min_child_weight': 4.983473430989962}. Best is trial 38 with value: 0.627409496131605.\n",
      "[I 2023-12-05 20:25:36,789] Trial 52 finished with value: 0.6259914104718783 and parameters: {'n_estimators': 111, 'max_depth': 15, 'learning_rate': 0.08458547073872774, 'gamma': 9.564900681962362, 'reg_lambda': 0.8801201605018347, 'min_child_weight': 4.779867023053949}. Best is trial 38 with value: 0.627409496131605.\n",
      "[I 2023-12-05 20:25:38,488] Trial 53 finished with value: 0.6214917412011345 and parameters: {'n_estimators': 112, 'max_depth': 16, 'learning_rate': 0.11604038431747986, 'gamma': 9.389727895429234, 'reg_lambda': 0.9054407724815945, 'min_child_weight': 4.827217876967638}. Best is trial 38 with value: 0.627409496131605.\n",
      "[I 2023-12-05 20:25:41,490] Trial 54 finished with value: 0.6064791919788822 and parameters: {'n_estimators': 74, 'max_depth': 16, 'learning_rate': 0.017051529233793966, 'gamma': 6.6874839506257295, 'reg_lambda': 0.9947992926165521, 'min_child_weight': 4.288991476226748}. Best is trial 38 with value: 0.627409496131605.\n",
      "[I 2023-12-05 20:25:43,247] Trial 55 finished with value: 0.6258428893388667 and parameters: {'n_estimators': 100, 'max_depth': 15, 'learning_rate': 0.09558518751927497, 'gamma': 9.623652338903124, 'reg_lambda': 0.887727341075912, 'min_child_weight': 4.989337247387062}. Best is trial 38 with value: 0.627409496131605.\n",
      "[I 2023-12-05 20:25:45,358] Trial 56 finished with value: 0.622403054410096 and parameters: {'n_estimators': 153, 'max_depth': 16, 'learning_rate': 0.11570760584303853, 'gamma': 7.481099913537931, 'reg_lambda': 0.8495172288839298, 'min_child_weight': 4.776146305662589}. Best is trial 38 with value: 0.627409496131605.\n",
      "[I 2023-12-05 20:25:47,575] Trial 57 finished with value: 0.6263763252111227 and parameters: {'n_estimators': 117, 'max_depth': 14, 'learning_rate': 0.056393068288984896, 'gamma': 9.042404149343152, 'reg_lambda': 0.7805390794954914, 'min_child_weight': 4.282299122512894}. Best is trial 38 with value: 0.627409496131605.\n",
      "[I 2023-12-05 20:25:49,772] Trial 58 finished with value: 0.6264171299224265 and parameters: {'n_estimators': 72, 'max_depth': 14, 'learning_rate': 0.04711205894648459, 'gamma': 8.796999212421365, 'reg_lambda': 0.7689872567692076, 'min_child_weight': 4.3451888876307425}. Best is trial 38 with value: 0.627409496131605.\n",
      "[I 2023-12-05 20:25:52,160] Trial 59 finished with value: 0.6077923813680856 and parameters: {'n_estimators': 68, 'max_depth': 14, 'learning_rate': 0.012751840725210295, 'gamma': 11.638483304012682, 'reg_lambda': 0.7596446898520595, 'min_child_weight': 4.257529181183791}. Best is trial 38 with value: 0.627409496131605.\n",
      "[I 2023-12-05 20:25:53,609] Trial 60 finished with value: 0.6231247351603931 and parameters: {'n_estimators': 93, 'max_depth': 13, 'learning_rate': 0.18237811654246394, 'gamma': 10.94339435335592, 'reg_lambda': 0.7758280981882257, 'min_child_weight': 4.350597276559894}. Best is trial 38 with value: 0.627409496131605.\n",
      "[I 2023-12-05 20:25:55,798] Trial 61 finished with value: 0.6277558576047607 and parameters: {'n_estimators': 81, 'max_depth': 14, 'learning_rate': 0.05532579626780425, 'gamma': 9.07292812047971, 'reg_lambda': 0.7806708737895036, 'min_child_weight': 4.638293525518572}. Best is trial 61 with value: 0.6277558576047607.\n",
      "[I 2023-12-05 20:25:58,254] Trial 62 finished with value: 0.6267231385883751 and parameters: {'n_estimators': 119, 'max_depth': 14, 'learning_rate': 0.04510910832367372, 'gamma': 8.894278986189585, 'reg_lambda': 0.7352635801267338, 'min_child_weight': 4.6562224493381725}. Best is trial 61 with value: 0.6277558576047607.\n",
      "[I 2023-12-05 20:26:00,063] Trial 63 finished with value: 0.6210512833889972 and parameters: {'n_estimators': 156, 'max_depth': 14, 'learning_rate': 0.13197031037840795, 'gamma': 8.261924056178023, 'reg_lambda': 0.7411467343494946, 'min_child_weight': 4.620911765809119}. Best is trial 61 with value: 0.6277558576047607.\n",
      "[I 2023-12-05 20:26:01,619] Trial 64 finished with value: 0.6223479338761331 and parameters: {'n_estimators': 64, 'max_depth': 16, 'learning_rate': 0.1574655240092358, 'gamma': 7.470004994796524, 'reg_lambda': 0.8455197269811301, 'min_child_weight': 4.685581090265134}. Best is trial 61 with value: 0.6277558576047607.\n",
      "[I 2023-12-05 20:26:04,339] Trial 65 finished with value: 0.6294614044130895 and parameters: {'n_estimators': 128, 'max_depth': 13, 'learning_rate': 0.03427648252728815, 'gamma': 9.95443467536591, 'reg_lambda': 0.7167485490076151, 'min_child_weight': 4.076670447789878}. Best is trial 65 with value: 0.6294614044130895.\n",
      "[I 2023-12-05 20:26:06,081] Trial 66 finished with value: 0.6217863993321224 and parameters: {'n_estimators': 92, 'max_depth': 13, 'learning_rate': 0.09995710804698243, 'gamma': 9.811051464447793, 'reg_lambda': 0.7152392571707831, 'min_child_weight': 4.041101512861409}. Best is trial 65 with value: 0.6294614044130895.\n",
      "[I 2023-12-05 20:26:07,452] Trial 67 finished with value: 0.6137636060043784 and parameters: {'n_estimators': 128, 'max_depth': 4, 'learning_rate': 0.12889750736955435, 'gamma': 11.483363666561498, 'reg_lambda': 0.8053825894526793, 'min_child_weight': 4.529478310060378}. Best is trial 65 with value: 0.6294614044130895.\n",
      "[I 2023-12-05 20:26:09,213] Trial 68 finished with value: 0.6264225766272193 and parameters: {'n_estimators': 106, 'max_depth': 13, 'learning_rate': 0.09124041387179768, 'gamma': 9.940030890180779, 'reg_lambda': 0.7242296051221707, 'min_child_weight': 4.817367241020162}. Best is trial 65 with value: 0.6294614044130895.\n",
      "[I 2023-12-05 20:26:10,848] Trial 69 finished with value: 0.6227614423342841 and parameters: {'n_estimators': 154, 'max_depth': 14, 'learning_rate': 0.17609240706256135, 'gamma': 9.29284254782454, 'reg_lambda': 0.6681791978144679, 'min_child_weight': 4.447601212230426}. Best is trial 65 with value: 0.6294614044130895.\n",
      "[I 2023-12-05 20:26:15,075] Trial 70 finished with value: 0.6142713138592566 and parameters: {'n_estimators': 176, 'max_depth': 15, 'learning_rate': 0.011536870252388955, 'gamma': 10.596804409506536, 'reg_lambda': 0.7457664430532045, 'min_child_weight': 4.160999640731865}. Best is trial 65 with value: 0.6294614044130895.\n",
      "[I 2023-12-05 20:26:16,871] Trial 71 finished with value: 0.6262337793163898 and parameters: {'n_estimators': 99, 'max_depth': 13, 'learning_rate': 0.08592688623624736, 'gamma': 9.955747027473587, 'reg_lambda': 0.8560470980260461, 'min_child_weight': 4.805405026011774}. Best is trial 65 with value: 0.6294614044130895.\n",
      "[I 2023-12-05 20:26:19,196] Trial 72 finished with value: 0.6266909238233154 and parameters: {'n_estimators': 106, 'max_depth': 13, 'learning_rate': 0.041680067276781946, 'gamma': 11.070653956452697, 'reg_lambda': 0.8023227170836985, 'min_child_weight': 4.992600220387247}. Best is trial 65 with value: 0.6294614044130895.\n",
      "[I 2023-12-05 20:26:21,594] Trial 73 finished with value: 0.6231508641162226 and parameters: {'n_estimators': 83, 'max_depth': 14, 'learning_rate': 0.051837016393200167, 'gamma': 11.094029724442297, 'reg_lambda': 0.7890471671957752, 'min_child_weight': 4.664866686399239}. Best is trial 65 with value: 0.6294614044130895.\n",
      "[I 2023-12-05 20:26:24,179] Trial 74 finished with value: 0.6265828870431033 and parameters: {'n_estimators': 131, 'max_depth': 16, 'learning_rate': 0.039850650003110714, 'gamma': 9.233890555627822, 'reg_lambda': 0.828503252447787, 'min_child_weight': 4.962027032029049}. Best is trial 65 with value: 0.6294614044130895.\n",
      "[I 2023-12-05 20:26:26,968] Trial 75 finished with value: 0.6226389211094616 and parameters: {'n_estimators': 130, 'max_depth': 15, 'learning_rate': 0.03834178816320738, 'gamma': 8.191885544677238, 'reg_lambda': 0.8250322545415446, 'min_child_weight': 4.46809221940019}. Best is trial 65 with value: 0.6294614044130895.\n",
      "[I 2023-12-05 20:26:28,734] Trial 76 finished with value: 0.6234204352879263 and parameters: {'n_estimators': 193, 'max_depth': 12, 'learning_rate': 0.11492363930985794, 'gamma': 12.868434243684865, 'reg_lambda': 0.7941620367682762, 'min_child_weight': 4.861776503638711}. Best is trial 65 with value: 0.6294614044130895.\n",
      "[I 2023-12-05 20:26:31,264] Trial 77 finished with value: 0.622739812342852 and parameters: {'n_estimators': 144, 'max_depth': 14, 'learning_rate': 0.034598984854980704, 'gamma': 11.809230493695653, 'reg_lambda': 0.7482901033750262, 'min_child_weight': 4.695979832201226}. Best is trial 65 with value: 0.6294614044130895.\n",
      "[I 2023-12-05 20:26:32,903] Trial 78 finished with value: 0.6264537227776056 and parameters: {'n_estimators': 163, 'max_depth': 13, 'learning_rate': 0.14670712782776635, 'gamma': 11.166616218631198, 'reg_lambda': 0.8622303580834016, 'min_child_weight': 4.5577117039427515}. Best is trial 65 with value: 0.6294614044130895.\n",
      "[I 2023-12-05 20:26:35,546] Trial 79 finished with value: 0.62884193181571 and parameters: {'n_estimators': 124, 'max_depth': 16, 'learning_rate': 0.033462092653329514, 'gamma': 10.558486597023668, 'reg_lambda': 0.8259688549954579, 'min_child_weight': 4.986888046766895}. Best is trial 65 with value: 0.6294614044130895.\n",
      "[I 2023-12-05 20:26:37,229] Trial 80 finished with value: 0.6252172874732115 and parameters: {'n_estimators': 117, 'max_depth': 12, 'learning_rate': 0.10921240638141141, 'gamma': 10.42387983011496, 'reg_lambda': 0.6875561038772983, 'min_child_weight': 4.16856312863443}. Best is trial 65 with value: 0.6294614044130895.\n",
      "[I 2023-12-05 20:26:39,911] Trial 81 finished with value: 0.6242105112012977 and parameters: {'n_estimators': 131, 'max_depth': 16, 'learning_rate': 0.03815081141248644, 'gamma': 8.991620434403323, 'reg_lambda': 0.7912484456001273, 'min_child_weight': 4.896595924390231}. Best is trial 65 with value: 0.6294614044130895.\n",
      "[I 2023-12-05 20:26:43,244] Trial 82 finished with value: 0.6216542200795006 and parameters: {'n_estimators': 144, 'max_depth': 15, 'learning_rate': 0.07521778721831293, 'gamma': 10.13427953351845, 'reg_lambda': 0.8267239169784372, 'min_child_weight': 4.977102213567506}. Best is trial 65 with value: 0.6294614044130895.\n",
      "[I 2023-12-05 20:26:45,961] Trial 83 finished with value: 0.6243614519788171 and parameters: {'n_estimators': 105, 'max_depth': 16, 'learning_rate': 0.029413232790179527, 'gamma': 10.724447367860375, 'reg_lambda': 0.7339535802553036, 'min_child_weight': 4.678673220094628}. Best is trial 65 with value: 0.6294614044130895.\n",
      "[I 2023-12-05 20:26:47,233] Trial 84 finished with value: 0.605290083477691 and parameters: {'n_estimators': 86, 'max_depth': 2, 'learning_rate': 0.07427906580394937, 'gamma': 12.188275782048823, 'reg_lambda': 0.7665486665216199, 'min_child_weight': 4.4197963422961175}. Best is trial 65 with value: 0.6294614044130895.\n",
      "[I 2023-12-05 20:26:48,825] Trial 85 finished with value: 0.624666959381692 and parameters: {'n_estimators': 120, 'max_depth': 15, 'learning_rate': 0.12515512909510434, 'gamma': 11.327056458824092, 'reg_lambda': 0.8671079908963405, 'min_child_weight': 4.779932191497343}. Best is trial 65 with value: 0.6294614044130895.\n",
      "[I 2023-12-05 20:26:53,576] Trial 86 finished with value: 0.6185020224577216 and parameters: {'n_estimators': 196, 'max_depth': 16, 'learning_rate': 0.010308136099615742, 'gamma': 9.927235577673391, 'reg_lambda': 0.8289623540005756, 'min_child_weight': 4.99447407745569}. Best is trial 65 with value: 0.6294614044130895.\n",
      "[I 2023-12-05 20:26:55,829] Trial 87 finished with value: 0.624524590256455 and parameters: {'n_estimators': 140, 'max_depth': 14, 'learning_rate': 0.0574098444026712, 'gamma': 9.233519494040719, 'reg_lambda': 0.8095165725608442, 'min_child_weight': 4.565864013503119}. Best is trial 65 with value: 0.6294614044130895.\n",
      "[I 2023-12-05 20:26:57,524] Trial 88 finished with value: 0.6241943469526209 and parameters: {'n_estimators': 105, 'max_depth': 10, 'learning_rate': 0.09355087945785763, 'gamma': 11.754298741290288, 'reg_lambda': 0.6414313666715413, 'min_child_weight': 4.8731450176072535}. Best is trial 65 with value: 0.6294614044130895.\n",
      "[I 2023-12-05 20:27:00,335] Trial 89 finished with value: 0.625491264824914 and parameters: {'n_estimators': 209, 'max_depth': 13, 'learning_rate': 0.034152488984035674, 'gamma': 10.56683465198989, 'reg_lambda': 0.8853133902613854, 'min_child_weight': 4.750674526328694}. Best is trial 65 with value: 0.6294614044130895.\n",
      "[I 2023-12-05 20:27:01,832] Trial 90 finished with value: 0.6184283245384985 and parameters: {'n_estimators': 77, 'max_depth': 15, 'learning_rate': 0.18109997031196373, 'gamma': 8.600136533095464, 'reg_lambda': 0.839778708260467, 'min_child_weight': 4.416472231089474}. Best is trial 65 with value: 0.6294614044130895.\n",
      "[I 2023-12-05 20:27:03,693] Trial 91 finished with value: 0.6244187288348964 and parameters: {'n_estimators': 58, 'max_depth': 16, 'learning_rate': 0.06869648928637864, 'gamma': 9.507571028095553, 'reg_lambda': 0.8939689746981956, 'min_child_weight': 4.883522927711231}. Best is trial 65 with value: 0.6294614044130895.\n",
      "[I 2023-12-05 20:27:05,679] Trial 92 finished with value: 0.6286937528955069 and parameters: {'n_estimators': 65, 'max_depth': 16, 'learning_rate': 0.05766314221360343, 'gamma': 9.407974772746257, 'reg_lambda': 0.914975261477174, 'min_child_weight': 4.617037130785099}. Best is trial 65 with value: 0.6294614044130895.\n",
      "[I 2023-12-05 20:27:07,332] Trial 93 finished with value: 0.6246077287185292 and parameters: {'n_estimators': 87, 'max_depth': 15, 'learning_rate': 0.10541782866345438, 'gamma': 10.135923567452227, 'reg_lambda': 0.9242058715324465, 'min_child_weight': 4.6187104481625525}. Best is trial 65 with value: 0.6294614044130895.\n",
      "[I 2023-12-05 20:27:09,691] Trial 94 finished with value: 0.6157408982554766 and parameters: {'n_estimators': 68, 'max_depth': 16, 'learning_rate': 0.03240314074018304, 'gamma': 8.952009322496739, 'reg_lambda': 0.870910544223328, 'min_child_weight': 4.708439236809473}. Best is trial 65 with value: 0.6294614044130895.\n",
      "[I 2023-12-05 20:27:11,862] Trial 95 finished with value: 0.6246018794331675 and parameters: {'n_estimators': 122, 'max_depth': 16, 'learning_rate': 0.051345469938198475, 'gamma': 10.93239194007845, 'reg_lambda': 0.9446227276984597, 'min_child_weight': 4.507565658661008}. Best is trial 65 with value: 0.6294614044130895.\n",
      "[I 2023-12-05 20:27:13,453] Trial 96 finished with value: 0.6198393079791222 and parameters: {'n_estimators': 97, 'max_depth': 14, 'learning_rate': 0.13864320920133905, 'gamma': 9.63928407421716, 'reg_lambda': 0.7614070810910577, 'min_child_weight': 4.241136426237523}. Best is trial 65 with value: 0.6294614044130895.\n",
      "[I 2023-12-05 20:27:15,463] Trial 97 finished with value: 0.6251318677119391 and parameters: {'n_estimators': 184, 'max_depth': 15, 'learning_rate': 0.09054889700032723, 'gamma': 10.704034325558595, 'reg_lambda': 0.8019458762339495, 'min_child_weight': 3.9608835757989698}. Best is trial 65 with value: 0.6294614044130895.\n",
      "[I 2023-12-05 20:27:17,562] Trial 98 finished with value: 0.6272486109101845 and parameters: {'n_estimators': 112, 'max_depth': 14, 'learning_rate': 0.06866090229101372, 'gamma': 8.289254602273108, 'reg_lambda': 0.8447688139554179, 'min_child_weight': 4.369587446393556}. Best is trial 65 with value: 0.6294614044130895.\n",
      "[I 2023-12-05 20:27:19,646] Trial 99 finished with value: 0.6236653367414873 and parameters: {'n_estimators': 109, 'max_depth': 14, 'learning_rate': 0.07184911208887741, 'gamma': 7.898216624340189, 'reg_lambda': 0.8526335951629224, 'min_child_weight': 4.3834498008963605}. Best is trial 65 with value: 0.6294614044130895.\n",
      "[I 2023-12-05 20:27:21,221] Trial 100 finished with value: 0.6258037151198597 and parameters: {'n_estimators': 60, 'max_depth': 13, 'learning_rate': 0.1358755799882392, 'gamma': 8.168351645236877, 'reg_lambda': 0.9009555725310631, 'min_child_weight': 4.591315126466208}. Best is trial 65 with value: 0.6294614044130895.\n",
      "[I 2023-12-05 20:27:25,142] Trial 101 finished with value: 0.6131413769238694 and parameters: {'n_estimators': 132, 'max_depth': 15, 'learning_rate': 0.012501348166893706, 'gamma': 8.490374979775318, 'reg_lambda': 0.8317591702766254, 'min_child_weight': 4.9043871639735475}. Best is trial 65 with value: 0.6294614044130895.\n",
      "[I 2023-12-05 20:27:27,674] Trial 102 finished with value: 0.6247106389999164 and parameters: {'n_estimators': 239, 'max_depth': 16, 'learning_rate': 0.05208360140137859, 'gamma': 8.999166587414246, 'reg_lambda': 0.8163424060530998, 'min_child_weight': 4.760060705292786}. Best is trial 65 with value: 0.6294614044130895.\n",
      "[I 2023-12-05 20:27:29,418] Trial 103 finished with value: 0.6212039890446398 and parameters: {'n_estimators': 115, 'max_depth': 14, 'learning_rate': 0.10933803713934306, 'gamma': 9.470991750870134, 'reg_lambda': 0.7790963503282383, 'min_child_weight': 4.509236982993269}. Best is trial 65 with value: 0.6294614044130895.\n",
      "[I 2023-12-05 20:27:32,315] Trial 104 finished with value: 0.6275091675854249 and parameters: {'n_estimators': 149, 'max_depth': 15, 'learning_rate': 0.030278318693655257, 'gamma': 10.28022466233633, 'reg_lambda': 0.7309397454432784, 'min_child_weight': 4.998606106144026}. Best is trial 65 with value: 0.6294614044130895.\n",
      "[I 2023-12-05 20:27:34,397] Trial 105 finished with value: 0.623913963150123 and parameters: {'n_estimators': 149, 'max_depth': 13, 'learning_rate': 0.06330015398921034, 'gamma': 11.378029318443614, 'reg_lambda': 0.7162939140176029, 'min_child_weight': 4.358009169402695}. Best is trial 65 with value: 0.6294614044130895.\n",
      "[I 2023-12-05 20:27:36,192] Trial 106 finished with value: 0.6192985379225627 and parameters: {'n_estimators': 162, 'max_depth': 8, 'learning_rate': 0.0866763485965868, 'gamma': 10.194514359204753, 'reg_lambda': 0.7321125754115827, 'min_child_weight': 4.802781671758911}. Best is trial 65 with value: 0.6294614044130895.\n",
      "[I 2023-12-05 20:27:38,584] Trial 107 finished with value: 0.6144431466562323 and parameters: {'n_estimators': 71, 'max_depth': 15, 'learning_rate': 0.02795446414256747, 'gamma': 9.814698111024946, 'reg_lambda': 0.7516361766359436, 'min_child_weight': 4.642851863086642}. Best is trial 65 with value: 0.6294614044130895.\n",
      "[I 2023-12-05 20:27:40,237] Trial 108 finished with value: 0.6260058796124026 and parameters: {'n_estimators': 86, 'max_depth': 14, 'learning_rate': 0.10761426922781757, 'gamma': 10.274840132174884, 'reg_lambda': 0.7854587484346855, 'min_child_weight': 4.084335922886395}. Best is trial 65 with value: 0.6294614044130895.\n",
      "[I 2023-12-05 20:27:41,634] Trial 109 finished with value: 0.6230167670373427 and parameters: {'n_estimators': 51, 'max_depth': 12, 'learning_rate': 0.1560226738262563, 'gamma': 10.792101322051746, 'reg_lambda': 0.8728675885096496, 'min_child_weight': 4.880552686365299}. Best is trial 65 with value: 0.6294614044130895.\n",
      "[I 2023-12-05 20:27:43,541] Trial 110 finished with value: 0.6225011628327644 and parameters: {'n_estimators': 98, 'max_depth': 14, 'learning_rate': 0.06507325415590066, 'gamma': 11.138544483436137, 'reg_lambda': 0.7037488377925755, 'min_child_weight': 4.240006062733878}. Best is trial 65 with value: 0.6294614044130895.\n",
      "[I 2023-12-05 20:27:46,374] Trial 111 finished with value: 0.6269822401788802 and parameters: {'n_estimators': 125, 'max_depth': 16, 'learning_rate': 0.03376822601621377, 'gamma': 9.239774247362032, 'reg_lambda': 0.8453934025157829, 'min_child_weight': 4.930306050458353}. Best is trial 65 with value: 0.6294614044130895.\n",
      "[I 2023-12-05 20:27:50,408] Trial 112 finished with value: 0.6245073618519273 and parameters: {'n_estimators': 122, 'max_depth': 15, 'learning_rate': 0.02821463464983977, 'gamma': 8.667308271391077, 'reg_lambda': 0.8449651905499985, 'min_child_weight': 4.748326194374222}. Best is trial 65 with value: 0.6294614044130895.\n",
      "[I 2023-12-05 20:27:52,829] Trial 113 finished with value: 0.6274529351573375 and parameters: {'n_estimators': 168, 'max_depth': 15, 'learning_rate': 0.04828408919275634, 'gamma': 9.823520711533842, 'reg_lambda': 0.8034235144455378, 'min_child_weight': 4.98991852109258}. Best is trial 65 with value: 0.6294614044130895.\n",
      "[I 2023-12-05 20:27:54,848] Trial 114 finished with value: 0.6257497659766396 and parameters: {'n_estimators': 167, 'max_depth': 15, 'learning_rate': 0.0853039749016871, 'gamma': 9.68717965587895, 'reg_lambda': 0.7732790736842279, 'min_child_weight': 4.630935053286151}. Best is trial 65 with value: 0.6294614044130895.\n",
      "[I 2023-12-05 20:27:57,398] Trial 115 finished with value: 0.6277389350446858 and parameters: {'n_estimators': 179, 'max_depth': 16, 'learning_rate': 0.05646248487604345, 'gamma': 7.45719365431038, 'reg_lambda': 0.8150208317328087, 'min_child_weight': 4.884401373143116}. Best is trial 65 with value: 0.6294614044130895.\n",
      "[I 2023-12-05 20:27:59,299] Trial 116 finished with value: 0.6273440094534912 and parameters: {'n_estimators': 179, 'max_depth': 16, 'learning_rate': 0.12895535917443723, 'gamma': 7.438956178604678, 'reg_lambda': 0.9106295256212122, 'min_child_weight': 4.8918374751094715}. Best is trial 65 with value: 0.6294614044130895.\n",
      "[I 2023-12-05 20:28:01,267] Trial 117 finished with value: 0.6182308499529698 and parameters: {'n_estimators': 183, 'max_depth': 16, 'learning_rate': 0.12037766839065359, 'gamma': 6.694571226220909, 'reg_lambda': 0.9094474823840044, 'min_child_weight': 4.836311183906807}. Best is trial 65 with value: 0.6294614044130895.\n",
      "[I 2023-12-05 20:28:03,018] Trial 118 finished with value: 0.6222859968946819 and parameters: {'n_estimators': 179, 'max_depth': 16, 'learning_rate': 0.17073578961167407, 'gamma': 7.493461961123897, 'reg_lambda': 0.86853584459712, 'min_child_weight': 4.7269325669491025}. Best is trial 65 with value: 0.6294614044130895.\n",
      "[I 2023-12-05 20:28:04,780] Trial 119 finished with value: 0.614678336824827 and parameters: {'n_estimators': 213, 'max_depth': 15, 'learning_rate': 0.1942995077905678, 'gamma': 8.161670734068329, 'reg_lambda': 0.9511097933194952, 'min_child_weight': 4.48274212350757}. Best is trial 65 with value: 0.6294614044130895.\n",
      "[I 2023-12-05 20:28:06,613] Trial 120 finished with value: 0.6196030573779211 and parameters: {'n_estimators': 172, 'max_depth': 16, 'learning_rate': 0.13554915788667032, 'gamma': 7.420557604339963, 'reg_lambda': 0.9226698769587233, 'min_child_weight': 4.833274894442057}. Best is trial 65 with value: 0.6294614044130895.\n",
      "[I 2023-12-05 20:28:09,111] Trial 121 finished with value: 0.6256716851684538 and parameters: {'n_estimators': 159, 'max_depth': 16, 'learning_rate': 0.06401195136951177, 'gamma': 9.296463638788925, 'reg_lambda': 0.8888202034231093, 'min_child_weight': 4.919668943488582}. Best is trial 65 with value: 0.6294614044130895.\n",
      "[I 2023-12-05 20:28:13,446] Trial 122 finished with value: 0.6112872073872591 and parameters: {'n_estimators': 150, 'max_depth': 16, 'learning_rate': 0.010294126950693025, 'gamma': 8.522751284727745, 'reg_lambda': 0.8482704913253273, 'min_child_weight': 4.9899264951486435}. Best is trial 65 with value: 0.6294614044130895.\n",
      "[I 2023-12-05 20:28:15,254] Trial 123 finished with value: 0.6248110542308473 and parameters: {'n_estimators': 139, 'max_depth': 16, 'learning_rate': 0.09718642523163076, 'gamma': 10.290415657515112, 'reg_lambda': 0.8047449190115936, 'min_child_weight': 4.736793106427999}. Best is trial 65 with value: 0.6294614044130895.\n",
      "[I 2023-12-05 20:28:17,253] Trial 124 finished with value: 0.625839198043446 and parameters: {'n_estimators': 189, 'max_depth': 15, 'learning_rate': 0.08474221866273039, 'gamma': 9.777727480737276, 'reg_lambda': 0.8161092834754301, 'min_child_weight': 4.572822904285424}. Best is trial 65 with value: 0.6294614044130895.\n",
      "[I 2023-12-05 20:28:19,485] Trial 125 finished with value: 0.614022099448988 and parameters: {'n_estimators': 279, 'max_depth': 7, 'learning_rate': 0.058524214323443666, 'gamma': 9.276534455967319, 'reg_lambda': 0.8590800820444974, 'min_child_weight': 4.886059340652281}. Best is trial 65 with value: 0.6294614044130895.\n",
      "[I 2023-12-05 20:28:22,701] Trial 126 finished with value: 0.6267466492403193 and parameters: {'n_estimators': 166, 'max_depth': 15, 'learning_rate': 0.024679440896301263, 'gamma': 10.52388289152996, 'reg_lambda': 0.894396910498622, 'min_child_weight': 4.806741565974868}. Best is trial 65 with value: 0.6294614044130895.\n",
      "[I 2023-12-05 20:28:24,502] Trial 127 finished with value: 0.621597402079471 and parameters: {'n_estimators': 148, 'max_depth': 16, 'learning_rate': 0.11995503207040457, 'gamma': 7.8563700205608376, 'reg_lambda': 0.9627535156009227, 'min_child_weight': 4.997126114815833}. Best is trial 65 with value: 0.6294614044130895.\n",
      "[I 2023-12-05 20:28:25,923] Trial 128 finished with value: 0.6207869899902363 and parameters: {'n_estimators': 78, 'max_depth': 15, 'learning_rate': 0.22538999490527506, 'gamma': 8.947734475455666, 'reg_lambda': 0.9298748995613909, 'min_child_weight': 4.686708768688462}. Best is trial 65 with value: 0.6294614044130895.\n",
      "[I 2023-12-05 20:28:28,348] Trial 129 finished with value: 0.6248099706779524 and parameters: {'n_estimators': 130, 'max_depth': 16, 'learning_rate': 0.04563207415819251, 'gamma': 10.068002972105077, 'reg_lambda': 0.7651452915926422, 'min_child_weight': 4.366643400797909}. Best is trial 65 with value: 0.6294614044130895.\n",
      "[I 2023-12-05 20:28:30,102] Trial 130 finished with value: 0.6245068268843506 and parameters: {'n_estimators': 140, 'max_depth': 15, 'learning_rate': 0.1635573183685858, 'gamma': 6.984767477737686, 'reg_lambda': 0.7866243504968841, 'min_child_weight': 4.487759838757556}. Best is trial 65 with value: 0.6294614044130895.\n",
      "[I 2023-12-05 20:28:33,002] Trial 131 finished with value: 0.62818823576946 and parameters: {'n_estimators': 166, 'max_depth': 15, 'learning_rate': 0.030604686914536675, 'gamma': 10.576056244946997, 'reg_lambda': 0.908248310517268, 'min_child_weight': 4.803930627454239}. Best is trial 65 with value: 0.6294614044130895.\n",
      "[I 2023-12-05 20:28:36,060] Trial 132 finished with value: 0.6254553048831214 and parameters: {'n_estimators': 173, 'max_depth': 15, 'learning_rate': 0.029820837885311938, 'gamma': 9.653696189234411, 'reg_lambda': 0.9034812616167943, 'min_child_weight': 4.916314295152462}. Best is trial 65 with value: 0.6294614044130895.\n",
      "[I 2023-12-05 20:28:38,328] Trial 133 finished with value: 0.6205151906684325 and parameters: {'n_estimators': 198, 'max_depth': 16, 'learning_rate': 0.06906750786471844, 'gamma': 8.378376032026615, 'reg_lambda': 0.8423796603934945, 'min_child_weight': 4.620806352286142}. Best is trial 65 with value: 0.6294614044130895.\n",
      "[I 2023-12-05 20:28:40,104] Trial 134 finished with value: 0.6225650577376067 and parameters: {'n_estimators': 154, 'max_depth': 16, 'learning_rate': 0.09996630860379939, 'gamma': 11.714815827105113, 'reg_lambda': 0.8830244686399311, 'min_child_weight': 4.802091840627946}. Best is trial 65 with value: 0.6294614044130895.\n",
      "[I 2023-12-05 20:28:42,780] Trial 135 finished with value: 0.6206133262845309 and parameters: {'n_estimators': 93, 'max_depth': 15, 'learning_rate': 0.04933571673537242, 'gamma': 6.114095401344736, 'reg_lambda': 0.9271955333839793, 'min_child_weight': 4.555508040908557}. Best is trial 65 with value: 0.6294614044130895.\n",
      "[I 2023-12-05 20:28:46,690] Trial 136 finished with value: 0.6145736432113565 and parameters: {'n_estimators': 156, 'max_depth': 16, 'learning_rate': 0.011361138739423668, 'gamma': 10.622422364071127, 'reg_lambda': 0.8229310443110468, 'min_child_weight': 4.894848224136191}. Best is trial 65 with value: 0.6294614044130895.\n",
      "[I 2023-12-05 20:28:48,782] Trial 137 finished with value: 0.6247413041754628 and parameters: {'n_estimators': 208, 'max_depth': 15, 'learning_rate': 0.08621000487336847, 'gamma': 8.899503704495208, 'reg_lambda': 0.8631653565013386, 'min_child_weight': 4.741424820153743}. Best is trial 65 with value: 0.6294614044130895.\n",
      "[I 2023-12-05 20:28:50,933] Trial 138 finished with value: 0.6222588234383308 and parameters: {'n_estimators': 472, 'max_depth': 14, 'learning_rate': 0.26088784163181794, 'gamma': 9.989478690163693, 'reg_lambda': 0.9808289489956075, 'min_child_weight': 4.3120046167652815}. Best is trial 65 with value: 0.6294614044130895.\n",
      "[I 2023-12-05 20:28:52,587] Trial 139 finished with value: 0.6219979034137424 and parameters: {'n_estimators': 111, 'max_depth': 16, 'learning_rate': 0.13713068596542366, 'gamma': 9.383784595482819, 'reg_lambda': 0.9429831834253997, 'min_child_weight': 4.691606432291131}. Best is trial 65 with value: 0.6294614044130895.\n",
      "[I 2023-12-05 20:28:54,887] Trial 140 finished with value: 0.6296203474848328 and parameters: {'n_estimators': 339, 'max_depth': 14, 'learning_rate': 0.07493016285058016, 'gamma': 10.839947361113301, 'reg_lambda': 0.7946914885123417, 'min_child_weight': 4.998602242882309}. Best is trial 140 with value: 0.6296203474848328.\n",
      "[I 2023-12-05 20:28:57,534] Trial 141 finished with value: 0.6278328152017827 and parameters: {'n_estimators': 307, 'max_depth': 14, 'learning_rate': 0.07018043173815174, 'gamma': 10.345974252231688, 'reg_lambda': 0.8007800670117584, 'min_child_weight': 4.999896052751245}. Best is trial 140 with value: 0.6296203474848328.\n",
      "[I 2023-12-05 20:28:59,887] Trial 142 finished with value: 0.6258059856534732 and parameters: {'n_estimators': 344, 'max_depth': 14, 'learning_rate': 0.07300704117839069, 'gamma': 10.888390291150099, 'reg_lambda': 0.7988291752597203, 'min_child_weight': 4.824943169983946}. Best is trial 140 with value: 0.6296203474848328.\n",
      "[I 2023-12-05 20:29:02,283] Trial 143 finished with value: 0.6255995731724081 and parameters: {'n_estimators': 261, 'max_depth': 14, 'learning_rate': 0.05355648509755311, 'gamma': 11.27076274684884, 'reg_lambda': 0.7428417943808894, 'min_child_weight': 4.968390421191372}. Best is trial 140 with value: 0.6296203474848328.\n",
      "[I 2023-12-05 20:29:04,373] Trial 144 finished with value: 0.6212334220984296 and parameters: {'n_estimators': 290, 'max_depth': 13, 'learning_rate': 0.10586948880824015, 'gamma': 10.225001608354312, 'reg_lambda': 0.7575786627577582, 'min_child_weight': 4.866045041073192}. Best is trial 140 with value: 0.6296203474848328.\n",
      "[I 2023-12-05 20:29:06,658] Trial 145 finished with value: 0.622875429441767 and parameters: {'n_estimators': 327, 'max_depth': 14, 'learning_rate': 0.07944556858449837, 'gamma': 10.529676394905719, 'reg_lambda': 0.8148078946529578, 'min_child_weight': 4.640265559414667}. Best is trial 140 with value: 0.6296203474848328.\n",
      "[I 2023-12-05 20:29:08,619] Trial 146 finished with value: 0.6222522309334364 and parameters: {'n_estimators': 302, 'max_depth': 14, 'learning_rate': 0.12742255812268902, 'gamma': 12.220641811413335, 'reg_lambda': 0.7826451233300963, 'min_child_weight': 3.7208783742588}. Best is trial 140 with value: 0.6296203474848328.\n",
      "[I 2023-12-05 20:29:11,325] Trial 147 finished with value: 0.6251172001460437 and parameters: {'n_estimators': 337, 'max_depth': 15, 'learning_rate': 0.04676677210274144, 'gamma': 10.89818077784515, 'reg_lambda': 0.8236583025262624, 'min_child_weight': 4.990939119949465}. Best is trial 140 with value: 0.6296203474848328.\n",
      "[I 2023-12-05 20:29:13,633] Trial 148 finished with value: 0.6271972607246822 and parameters: {'n_estimators': 314, 'max_depth': 14, 'learning_rate': 0.0701671332681679, 'gamma': 11.420701555381033, 'reg_lambda': 0.7273322939945293, 'min_child_weight': 4.772043833489721}. Best is trial 140 with value: 0.6296203474848328.\n",
      "[I 2023-12-05 20:29:15,704] Trial 149 finished with value: 0.6222180261319388 and parameters: {'n_estimators': 312, 'max_depth': 13, 'learning_rate': 0.10188420267822276, 'gamma': 11.599770530836526, 'reg_lambda': 0.7194246227839776, 'min_child_weight': 4.999572789732021}. Best is trial 140 with value: 0.6296203474848328.\n",
      "[I 2023-12-05 20:29:18,777] Trial 150 finished with value: 0.6253786846406959 and parameters: {'n_estimators': 370, 'max_depth': 14, 'learning_rate': 0.03236615649957683, 'gamma': 12.467821011871399, 'reg_lambda': 0.5106428292301477, 'min_child_weight': 4.771270987746552}. Best is trial 140 with value: 0.6296203474848328.\n",
      "[I 2023-12-05 20:29:21,118] Trial 151 finished with value: 0.6263464560513958 and parameters: {'n_estimators': 311, 'max_depth': 14, 'learning_rate': 0.06456557933617038, 'gamma': 12.019604603118331, 'reg_lambda': 0.6801713911958338, 'min_child_weight': 4.450002353964471}. Best is trial 140 with value: 0.6296203474848328.\n",
      "[I 2023-12-05 20:29:23,416] Trial 152 finished with value: 0.6262337570902874 and parameters: {'n_estimators': 350, 'max_depth': 15, 'learning_rate': 0.07696898021956045, 'gamma': 11.302346982609743, 'reg_lambda': 0.7905741222186746, 'min_child_weight': 4.836307266777356}. Best is trial 140 with value: 0.6296203474848328.\n",
      "[I 2023-12-05 20:29:25,431] Trial 153 finished with value: 0.6227919551269393 and parameters: {'n_estimators': 334, 'max_depth': 13, 'learning_rate': 0.1521348473056685, 'gamma': 10.27889473106373, 'reg_lambda': 0.7677011563074314, 'min_child_weight': 4.588179309796553}. Best is trial 140 with value: 0.6296203474848328.\n",
      "[I 2023-12-05 20:29:31,355] Trial 154 finished with value: 0.62714700563075 and parameters: {'n_estimators': 302, 'max_depth': 15, 'learning_rate': 0.010722915335811045, 'gamma': 9.85442376032388, 'reg_lambda': 0.7314852677652178, 'min_child_weight': 4.6931709988300705}. Best is trial 140 with value: 0.6296203474848328.\n",
      "[I 2023-12-05 20:29:34,903] Trial 155 finished with value: 0.6268232819375221 and parameters: {'n_estimators': 304, 'max_depth': 15, 'learning_rate': 0.02748111017550411, 'gamma': 9.695022366522274, 'reg_lambda': 0.7019779371727997, 'min_child_weight': 4.712563917313385}. Best is trial 140 with value: 0.6296203474848328.\n",
      "[I 2023-12-05 20:29:40,553] Trial 156 finished with value: 0.6274733731183597 and parameters: {'n_estimators': 278, 'max_depth': 14, 'learning_rate': 0.010613217672189975, 'gamma': 9.79800345011932, 'reg_lambda': 0.7449753341916873, 'min_child_weight': 4.8846550301464235}. Best is trial 140 with value: 0.6296203474848328.\n",
      "[I 2023-12-05 20:29:42,287] Trial 157 finished with value: 0.6159113089569631 and parameters: {'n_estimators': 281, 'max_depth': 14, 'learning_rate': 0.42822533869228485, 'gamma': 8.500096141237373, 'reg_lambda': 0.7533375388388697, 'min_child_weight': 4.897556122976635}. Best is trial 140 with value: 0.6296203474848328.\n",
      "[I 2023-12-05 20:29:44,762] Trial 158 finished with value: 0.6264596055108891 and parameters: {'n_estimators': 286, 'max_depth': 13, 'learning_rate': 0.0561418045478138, 'gamma': 10.740873390710272, 'reg_lambda': 0.5488392751658586, 'min_child_weight': 4.809375119114866}. Best is trial 140 with value: 0.6296203474848328.\n",
      "[I 2023-12-05 20:29:47,348] Trial 159 finished with value: 0.6268036890221982 and parameters: {'n_estimators': 257, 'max_depth': 14, 'learning_rate': 0.042488591877395177, 'gamma': 11.452790127514099, 'reg_lambda': 0.4857587292925703, 'min_child_weight': 4.998101284969164}. Best is trial 140 with value: 0.6296203474848328.\n",
      "[I 2023-12-05 20:29:49,618] Trial 160 finished with value: 0.6222118782483451 and parameters: {'n_estimators': 295, 'max_depth': 12, 'learning_rate': 0.09287466984225307, 'gamma': 8.078218008493263, 'reg_lambda': 0.7309324904019963, 'min_child_weight': 4.5231586804187875}. Best is trial 140 with value: 0.6296203474848328.\n",
      "[I 2023-12-05 20:29:54,822] Trial 161 finished with value: 0.625868737729679 and parameters: {'n_estimators': 315, 'max_depth': 14, 'learning_rate': 0.014326371823634124, 'gamma': 9.712711799269444, 'reg_lambda': 0.6952711202810267, 'min_child_weight': 4.742766742708734}. Best is trial 140 with value: 0.6296203474848328.\n",
      "[I 2023-12-05 20:29:58,242] Trial 162 finished with value: 0.62679311447765 and parameters: {'n_estimators': 268, 'max_depth': 15, 'learning_rate': 0.026427425605297285, 'gamma': 10.195018175166384, 'reg_lambda': 0.6717468448108839, 'min_child_weight': 4.880031390539497}. Best is trial 140 with value: 0.6296203474848328.\n",
      "[I 2023-12-05 20:30:03,948] Trial 163 finished with value: 0.628644271113892 and parameters: {'n_estimators': 324, 'max_depth': 14, 'learning_rate': 0.012710145556265276, 'gamma': 9.924264400291811, 'reg_lambda': 0.7298683280092217, 'min_child_weight': 2.469865407451198}. Best is trial 140 with value: 0.6296203474848328.\n",
      "[I 2023-12-05 20:30:07,161] Trial 164 finished with value: 0.6260460993086341 and parameters: {'n_estimators': 323, 'max_depth': 14, 'learning_rate': 0.048504384502700656, 'gamma': 9.043281336481082, 'reg_lambda': 0.7707272910189689, 'min_child_weight': 2.122963868527161}. Best is trial 140 with value: 0.6296203474848328.\n",
      "[I 2023-12-05 20:30:09,533] Trial 165 finished with value: 0.625637942804695 and parameters: {'n_estimators': 319, 'max_depth': 13, 'learning_rate': 0.07582397066887543, 'gamma': 10.489130616522099, 'reg_lambda': 0.7091229762483171, 'min_child_weight': 2.7404903066961857}. Best is trial 140 with value: 0.6296203474848328.\n",
      "[I 2023-12-05 20:30:11,479] Trial 166 finished with value: 0.6196976815597715 and parameters: {'n_estimators': 359, 'max_depth': 14, 'learning_rate': 0.2821071220136164, 'gamma': 9.443786961543516, 'reg_lambda': 0.7475494728462635, 'min_child_weight': 4.919009037837168}. Best is trial 140 with value: 0.6296203474848328.\n",
      "[I 2023-12-05 20:30:13,600] Trial 167 finished with value: 0.6245739005240126 and parameters: {'n_estimators': 338, 'max_depth': 14, 'learning_rate': 0.1124460074555029, 'gamma': 10.996524802468178, 'reg_lambda': 0.7992299909443659, 'min_child_weight': 3.6117802218084663}. Best is trial 140 with value: 0.6296203474848328.\n",
      "[I 2023-12-05 20:30:15,253] Trial 168 finished with value: 0.61743488060398 and parameters: {'n_estimators': 236, 'max_depth': 13, 'learning_rate': 0.4862090116180975, 'gamma': 8.733144542642481, 'reg_lambda': 0.659803472104461, 'min_child_weight': 2.3843809786955505}. Best is trial 140 with value: 0.6296203474848328.\n",
      "[I 2023-12-05 20:30:17,860] Trial 169 finished with value: 0.6267095427894628 and parameters: {'n_estimators': 182, 'max_depth': 16, 'learning_rate': 0.04073707480922577, 'gamma': 9.961022405441934, 'reg_lambda': 0.43914341893306075, 'min_child_weight': 4.803203707542493}. Best is trial 140 with value: 0.6296203474848328.\n",
      "[I 2023-12-05 20:30:19,406] Trial 170 finished with value: 0.6102038962552674 and parameters: {'n_estimators': 171, 'max_depth': 15, 'learning_rate': 0.39052858472037855, 'gamma': 7.727151674799534, 'reg_lambda': 0.7822445235256843, 'min_child_weight': 4.598611844984401}. Best is trial 140 with value: 0.6296203474848328.\n",
      "[I 2023-12-05 20:30:25,041] Trial 171 finished with value: 0.625284154039045 and parameters: {'n_estimators': 299, 'max_depth': 15, 'learning_rate': 0.011148252839874903, 'gamma': 9.940993022923662, 'reg_lambda': 0.7368327998154349, 'min_child_weight': 4.679418678719688}. Best is trial 140 with value: 0.6296203474848328.\n",
      "[I 2023-12-05 20:30:28,741] Trial 172 finished with value: 0.6147320328914481 and parameters: {'n_estimators': 329, 'max_depth': 5, 'learning_rate': 0.01038572058646195, 'gamma': 10.588548334770216, 'reg_lambda': 0.8355005900918031, 'min_child_weight': 4.911291866895844}. Best is trial 140 with value: 0.6296203474848328.\n",
      "[I 2023-12-05 20:30:31,237] Trial 173 finished with value: 0.6234279945554033 and parameters: {'n_estimators': 272, 'max_depth': 15, 'learning_rate': 0.05661698540927215, 'gamma': 9.78358756938527, 'reg_lambda': 0.7088998491109272, 'min_child_weight': 3.8769876708706956}. Best is trial 140 with value: 0.6296203474848328.\n",
      "[I 2023-12-05 20:30:34,517] Trial 174 finished with value: 0.6222229497463155 and parameters: {'n_estimators': 394, 'max_depth': 9, 'learning_rate': 0.03267164691766106, 'gamma': 9.240813092997149, 'reg_lambda': 0.7237984409972331, 'min_child_weight': 4.815452899867431}. Best is trial 140 with value: 0.6296203474848328.\n",
      "[I 2023-12-05 20:30:36,848] Trial 175 finished with value: 0.6237761891956424 and parameters: {'n_estimators': 290, 'max_depth': 14, 'learning_rate': 0.06791774406550093, 'gamma': 10.369678666218368, 'reg_lambda': 0.7523342557521264, 'min_child_weight': 4.39809220512727}. Best is trial 140 with value: 0.6296203474848328.\n",
      "[I 2023-12-05 20:30:38,684] Trial 176 finished with value: 0.6207240018326357 and parameters: {'n_estimators': 312, 'max_depth': 16, 'learning_rate': 0.23948284718715318, 'gamma': 10.94096550347217, 'reg_lambda': 0.9084182037099783, 'min_child_weight': 4.172312207533422}. Best is trial 140 with value: 0.6296203474848328.\n",
      "[I 2023-12-05 20:30:42,085] Trial 177 finished with value: 0.6274356185428456 and parameters: {'n_estimators': 307, 'max_depth': 15, 'learning_rate': 0.029876609239851575, 'gamma': 9.524008799061136, 'reg_lambda': 0.8060749308085077, 'min_child_weight': 3.3635866502400646}. Best is trial 140 with value: 0.6296203474848328.\n",
      "[I 2023-12-05 20:30:44,476] Trial 178 finished with value: 0.6237129117919392 and parameters: {'n_estimators': 344, 'max_depth': 16, 'learning_rate': 0.08788435733442745, 'gamma': 8.813052092399076, 'reg_lambda': 0.8099726771656786, 'min_child_weight': 3.9875834212680825}. Best is trial 140 with value: 0.6296203474848328.\n",
      "[I 2023-12-05 20:30:47,058] Trial 179 finished with value: 0.6230728896964379 and parameters: {'n_estimators': 145, 'max_depth': 14, 'learning_rate': 0.050530031475173764, 'gamma': 7.22426860391275, 'reg_lambda': 0.864898961425799, 'min_child_weight': 4.243771360608191}. Best is trial 140 with value: 0.6296203474848328.\n",
      "[I 2023-12-05 20:30:48,558] Trial 180 finished with value: 0.6084256530581127 and parameters: {'n_estimators': 164, 'max_depth': 15, 'learning_rate': 0.5464662055008683, 'gamma': 8.304768567292491, 'reg_lambda': 0.9616280859568006, 'min_child_weight': 3.2442751892576513}. Best is trial 140 with value: 0.6296203474848328.\n",
      "[I 2023-12-05 20:30:52,157] Trial 181 finished with value: 0.6275929288906242 and parameters: {'n_estimators': 319, 'max_depth': 15, 'learning_rate': 0.026539471905505686, 'gamma': 9.506703906771724, 'reg_lambda': 0.7754000624787716, 'min_child_weight': 4.998033684618099}. Best is trial 140 with value: 0.6296203474848328.\n",
      "[I 2023-12-05 20:30:55,138] Trial 182 finished with value: 0.6270101461429805 and parameters: {'n_estimators': 324, 'max_depth': 15, 'learning_rate': 0.03841378218741029, 'gamma': 9.591670770457851, 'reg_lambda': 0.7680748335611985, 'min_child_weight': 4.998681627500809}. Best is trial 140 with value: 0.6296203474848328.\n",
      "[I 2023-12-05 20:30:57,700] Trial 183 finished with value: 0.6265956548355167 and parameters: {'n_estimators': 333, 'max_depth': 14, 'learning_rate': 0.06697574333817419, 'gamma': 9.227811244959423, 'reg_lambda': 0.7939802304579537, 'min_child_weight': 4.888781151832751}. Best is trial 140 with value: 0.6296203474848328.\n",
      "[I 2023-12-05 20:31:01,226] Trial 184 finished with value: 0.6268464255120418 and parameters: {'n_estimators': 310, 'max_depth': 16, 'learning_rate': 0.02579329371249499, 'gamma': 10.199179644176581, 'reg_lambda': 0.8479442429960723, 'min_child_weight': 4.777514639459623}. Best is trial 140 with value: 0.6296203474848328.\n",
      "[I 2023-12-05 20:31:03,230] Trial 185 finished with value: 0.6135681687965835 and parameters: {'n_estimators': 318, 'max_depth': 15, 'learning_rate': 0.32642612045096986, 'gamma': 9.481877994333075, 'reg_lambda': 0.8249789731086128, 'min_child_weight': 4.871664578528294}. Best is trial 140 with value: 0.6296203474848328.\n",
      "[I 2023-12-05 20:31:05,130] Trial 186 finished with value: 0.6218298073678572 and parameters: {'n_estimators': 138, 'max_depth': 16, 'learning_rate': 0.08445057659787075, 'gamma': 10.092890632702998, 'reg_lambda': 0.8016386574513831, 'min_child_weight': 3.350177276028467}. Best is trial 140 with value: 0.6296203474848328.\n",
      "[I 2023-12-05 20:31:07,354] Trial 187 finished with value: 0.6286265967486091 and parameters: {'n_estimators': 189, 'max_depth': 14, 'learning_rate': 0.05716296641821558, 'gamma': 10.554799905660937, 'reg_lambda': 0.7697633524438776, 'min_child_weight': 3.591672401273614}. Best is trial 140 with value: 0.6296203474848328.\n",
      "[I 2023-12-05 20:31:09,713] Trial 188 finished with value: 0.6280063032036256 and parameters: {'n_estimators': 175, 'max_depth': 13, 'learning_rate': 0.049131018490543396, 'gamma': 11.314805667712244, 'reg_lambda': 0.7737033203749746, 'min_child_weight': 3.134450268152937}. Best is trial 140 with value: 0.6296203474848328.\n",
      "[I 2023-12-05 20:31:12,419] Trial 189 finished with value: 0.6252002838891161 and parameters: {'n_estimators': 184, 'max_depth': 13, 'learning_rate': 0.04201770432938108, 'gamma': 10.757042397888958, 'reg_lambda': 0.7837753143155164, 'min_child_weight': 3.5935843368964564}. Best is trial 140 with value: 0.6296203474848328.\n",
      "[I 2023-12-05 20:31:15,823] Trial 190 finished with value: 0.6265811312233156 and parameters: {'n_estimators': 195, 'max_depth': 14, 'learning_rate': 0.03107958988526249, 'gamma': 7.7848545253571135, 'reg_lambda': 0.7590751385272344, 'min_child_weight': 3.319811966128781}. Best is trial 140 with value: 0.6296203474848328.\n",
      "[I 2023-12-05 20:31:17,989] Trial 191 finished with value: 0.62413933650318 and parameters: {'n_estimators': 176, 'max_depth': 14, 'learning_rate': 0.05803451667193793, 'gamma': 11.264319231848134, 'reg_lambda': 0.7668153349648592, 'min_child_weight': 3.4045860432680493}. Best is trial 140 with value: 0.6296203474848328.\n",
      "[I 2023-12-05 20:31:20,113] Trial 192 finished with value: 0.6256443760115653 and parameters: {'n_estimators': 166, 'max_depth': 13, 'learning_rate': 0.06320948986437935, 'gamma': 10.522233998963378, 'reg_lambda': 0.7421995497625444, 'min_child_weight': 3.5232173120042045}. Best is trial 140 with value: 0.6296203474848328.\n",
      "[I 2023-12-05 20:31:23,121] Trial 193 finished with value: 0.6233088650593802 and parameters: {'n_estimators': 157, 'max_depth': 14, 'learning_rate': 0.02823136725861355, 'gamma': 10.82845044566351, 'reg_lambda': 0.7833657706104064, 'min_child_weight': 2.941876661713838}. Best is trial 140 with value: 0.6296203474848328.\n",
      "[I 2023-12-05 20:31:25,089] Trial 194 finished with value: 0.6231014139141344 and parameters: {'n_estimators': 188, 'max_depth': 13, 'learning_rate': 0.07993673201472673, 'gamma': 11.671592207761188, 'reg_lambda': 0.810845179434401, 'min_child_weight': 3.1203933468943523}. Best is trial 140 with value: 0.6296203474848328.\n",
      "[I 2023-12-05 20:31:27,452] Trial 195 finished with value: 0.6239795433308728 and parameters: {'n_estimators': 175, 'max_depth': 14, 'learning_rate': 0.04825863623344937, 'gamma': 12.04348952729417, 'reg_lambda': 0.875094299732564, 'min_child_weight': 3.3820886370175924}. Best is trial 140 with value: 0.6296203474848328.\n",
      "[I 2023-12-05 20:31:31,247] Trial 196 finished with value: 0.6117594126721346 and parameters: {'n_estimators': 149, 'max_depth': 11, 'learning_rate': 0.011241110308965734, 'gamma': 11.122041219442195, 'reg_lambda': 0.6919443213946135, 'min_child_weight': 3.7676613056073824}. Best is trial 140 with value: 0.6296203474848328.\n",
      "[I 2023-12-05 20:31:33,413] Trial 197 finished with value: 0.6237775105133931 and parameters: {'n_estimators': 163, 'max_depth': 15, 'learning_rate': 0.05928249205333573, 'gamma': 11.546464336990216, 'reg_lambda': 0.8381778571925577, 'min_child_weight': 3.6413225358350374}. Best is trial 140 with value: 0.6296203474848328.\n",
      "[I 2023-12-05 20:31:35,253] Trial 198 finished with value: 0.625315931006474 and parameters: {'n_estimators': 304, 'max_depth': 10, 'learning_rate': 0.20522279173048436, 'gamma': 10.283630321701347, 'reg_lambda': 0.723356408625683, 'min_child_weight': 3.9585450023749083}. Best is trial 140 with value: 0.6296203474848328.\n",
      "[I 2023-12-05 20:31:37,094] Trial 199 finished with value: 0.6296485785863662 and parameters: {'n_estimators': 131, 'max_depth': 12, 'learning_rate': 0.0967759028478555, 'gamma': 9.994538741541254, 'reg_lambda': 0.7759621780505426, 'min_child_weight': 3.7399320704535772}. Best is trial 199 with value: 0.6296485785863662.\n",
      "[I 2023-12-05 20:31:39,056] Trial 200 finished with value: 0.6228766698017351 and parameters: {'n_estimators': 219, 'max_depth': 12, 'learning_rate': 0.10198261675417067, 'gamma': 9.895480037364752, 'reg_lambda': 0.7978345973107446, 'min_child_weight': 3.823542381760803}. Best is trial 199 with value: 0.6296485785863662.\n",
      "[I 2023-12-05 20:31:41,021] Trial 201 finished with value: 0.6246734495528942 and parameters: {'n_estimators': 158, 'max_depth': 12, 'learning_rate': 0.07605060384525641, 'gamma': 10.592378908619336, 'reg_lambda': 0.7714911562121803, 'min_child_weight': 3.6992886267769087}. Best is trial 199 with value: 0.6296485785863662.\n",
      "[I 2023-12-05 20:31:42,674] Trial 202 finished with value: 0.6150085371900726 and parameters: {'n_estimators': 248, 'max_depth': 14, 'learning_rate': 0.6501538768558854, 'gamma': 9.071566612628946, 'reg_lambda': 0.7479954974946673, 'min_child_weight': 3.764361108402955}. Best is trial 199 with value: 0.6296485785863662.\n",
      "[I 2023-12-05 20:31:45,286] Trial 203 finished with value: 0.6229415362575409 and parameters: {'n_estimators': 135, 'max_depth': 11, 'learning_rate': 0.03849237490563214, 'gamma': 9.556905123489795, 'reg_lambda': 0.8137346122197112, 'min_child_weight': 3.4967869295349603}. Best is trial 199 with value: 0.6296485785863662.\n",
      "[I 2023-12-05 20:31:47,080] Trial 204 finished with value: 0.6264191518222006 and parameters: {'n_estimators': 130, 'max_depth': 13, 'learning_rate': 0.10105087770122212, 'gamma': 10.101137634274556, 'reg_lambda': 0.7758826073461959, 'min_child_weight': 4.090271335208783}. Best is trial 199 with value: 0.6296485785863662.\n",
      "[I 2023-12-05 20:31:49,757] Trial 205 finished with value: 0.6206452970722081 and parameters: {'n_estimators': 120, 'max_depth': 14, 'learning_rate': 0.02687261031068917, 'gamma': 12.806491772023575, 'reg_lambda': 0.9134580715614679, 'min_child_weight': 1.048640469274265}. Best is trial 199 with value: 0.6296485785863662.\n",
      "[I 2023-12-05 20:31:51,911] Trial 206 finished with value: 0.6242098032753907 and parameters: {'n_estimators': 146, 'max_depth': 12, 'learning_rate': 0.055223844827285685, 'gamma': 11.25223201174389, 'reg_lambda': 0.7528355433435727, 'min_child_weight': 3.497914526682027}. Best is trial 199 with value: 0.6296485785863662.\n",
      "[I 2023-12-05 20:31:54,015] Trial 207 finished with value: 0.6239309711198393 and parameters: {'n_estimators': 201, 'max_depth': 13, 'learning_rate': 0.0837880489099833, 'gamma': 8.751169666672567, 'reg_lambda': 0.9381625447587613, 'min_child_weight': 4.891722010112252}. Best is trial 199 with value: 0.6296485785863662.\n",
      "[I 2023-12-05 20:31:56,029] Trial 208 finished with value: 0.6268314278317448 and parameters: {'n_estimators': 294, 'max_depth': 14, 'learning_rate': 0.1260544474129343, 'gamma': 10.427006906001681, 'reg_lambda': 0.4638682202676253, 'min_child_weight': 3.8506190400136577}. Best is trial 199 with value: 0.6296485785863662.\n",
      "[I 2023-12-05 20:32:01,880] Trial 209 finished with value: 0.6283973780376 and parameters: {'n_estimators': 340, 'max_depth': 15, 'learning_rate': 0.010307789757762057, 'gamma': 10.977341657975137, 'reg_lambda': 0.7939441872630918, 'min_child_weight': 4.9984309224770325}. Best is trial 199 with value: 0.6296485785863662.\n",
      "[I 2023-12-05 20:32:07,681] Trial 210 finished with value: 0.6265881299101538 and parameters: {'n_estimators': 371, 'max_depth': 15, 'learning_rate': 0.011216199376242318, 'gamma': 10.832630798070811, 'reg_lambda': 0.9993769529610406, 'min_child_weight': 4.9596160503242315}. Best is trial 199 with value: 0.6296485785863662.\n",
      "[I 2023-12-05 20:32:10,652] Trial 211 finished with value: 0.6246609720565651 and parameters: {'n_estimators': 340, 'max_depth': 15, 'learning_rate': 0.04062154741315094, 'gamma': 9.896655845574802, 'reg_lambda': 0.7914425024349349, 'min_child_weight': 4.769815559228874}. Best is trial 199 with value: 0.6296485785863662.\n",
      "[I 2023-12-05 20:32:13,876] Trial 212 finished with value: 0.6276362718394494 and parameters: {'n_estimators': 355, 'max_depth': 15, 'learning_rate': 0.030580609286512683, 'gamma': 11.104729393735639, 'reg_lambda': 0.8323637526134519, 'min_child_weight': 4.988169043406532}. Best is trial 199 with value: 0.6296485785863662.\n",
      "[I 2023-12-05 20:32:20,252] Trial 213 finished with value: 0.605688508771755 and parameters: {'n_estimators': 367, 'max_depth': 15, 'learning_rate': 0.027528250830272643, 'gamma': 2.9052221765021136, 'reg_lambda': 0.8260135632713238, 'min_child_weight': 4.990063614849311}. Best is trial 199 with value: 0.6296485785863662.\n",
      "[I 2023-12-05 20:32:23,185] Trial 214 finished with value: 0.6268684036370749 and parameters: {'n_estimators': 351, 'max_depth': 15, 'learning_rate': 0.041462228874266246, 'gamma': 10.4717482787901, 'reg_lambda': 0.8366781860755614, 'min_child_weight': 4.9005995096784085}. Best is trial 199 with value: 0.6296485785863662.\n",
      "[I 2023-12-05 20:32:28,863] Trial 215 finished with value: 0.6279956855100005 and parameters: {'n_estimators': 347, 'max_depth': 15, 'learning_rate': 0.01086406028703546, 'gamma': 11.026822225211276, 'reg_lambda': 0.886611365104595, 'min_child_weight': 4.987545640692344}. Best is trial 199 with value: 0.6296485785863662.\n",
      "[I 2023-12-05 20:32:33,866] Trial 216 finished with value: 0.6262009452233881 and parameters: {'n_estimators': 343, 'max_depth': 15, 'learning_rate': 0.013821241210290948, 'gamma': 11.025965799783028, 'reg_lambda': 0.8842586035475769, 'min_child_weight': 4.912290923534451}. Best is trial 199 with value: 0.6296485785863662.\n",
      "[I 2023-12-05 20:32:39,538] Trial 217 finished with value: 0.6237684330329093 and parameters: {'n_estimators': 358, 'max_depth': 15, 'learning_rate': 0.010314362437511049, 'gamma': 11.979488684328649, 'reg_lambda': 0.8041933536173154, 'min_child_weight': 4.845622896119711}. Best is trial 199 with value: 0.6296485785863662.\n",
      "[I 2023-12-05 20:32:42,741] Trial 218 finished with value: 0.6262421765318403 and parameters: {'n_estimators': 330, 'max_depth': 16, 'learning_rate': 0.03035501835787094, 'gamma': 10.893313874157885, 'reg_lambda': 0.897888660430301, 'min_child_weight': 4.978735194494365}. Best is trial 199 with value: 0.6296485785863662.\n",
      "[I 2023-12-05 20:32:45,365] Trial 219 finished with value: 0.6236789416365862 and parameters: {'n_estimators': 347, 'max_depth': 15, 'learning_rate': 0.054570578335327045, 'gamma': 10.156616802586486, 'reg_lambda': 0.7794365415841413, 'min_child_weight': 4.99206855033001}. Best is trial 199 with value: 0.6296485785863662.\n",
      "[I 2023-12-05 20:32:48,494] Trial 220 finished with value: 0.6274499203504744 and parameters: {'n_estimators': 353, 'max_depth': 15, 'learning_rate': 0.04372530427220148, 'gamma': 9.758918467024008, 'reg_lambda': 0.8546465397437293, 'min_child_weight': 3.646593606189703}. Best is trial 199 with value: 0.6296485785863662.\n",
      "[I 2023-12-05 20:32:51,531] Trial 221 finished with value: 0.6254503865586688 and parameters: {'n_estimators': 353, 'max_depth': 15, 'learning_rate': 0.04201329269687362, 'gamma': 9.60138337959943, 'reg_lambda': 0.8556307160191102, 'min_child_weight': 3.644662976037152}. Best is trial 199 with value: 0.6296485785863662.\n",
      "[I 2023-12-05 20:32:55,070] Trial 222 finished with value: 0.6253631275589056 and parameters: {'n_estimators': 364, 'max_depth': 15, 'learning_rate': 0.02730858559040062, 'gamma': 10.45733497560403, 'reg_lambda': 0.816106842589424, 'min_child_weight': 3.881306121121904}. Best is trial 199 with value: 0.6296485785863662.\n",
      "[I 2023-12-05 20:32:57,811] Trial 223 finished with value: 0.6258825321991983 and parameters: {'n_estimators': 332, 'max_depth': 16, 'learning_rate': 0.05178591814152732, 'gamma': 9.384249101408452, 'reg_lambda': 0.8770163591116422, 'min_child_weight': 3.696383782032706}. Best is trial 199 with value: 0.6296485785863662.\n",
      "[I 2023-12-05 20:33:02,176] Trial 224 finished with value: 0.6182276651406114 and parameters: {'n_estimators': 359, 'max_depth': 15, 'learning_rate': 0.027371903149575896, 'gamma': 6.749642389221348, 'reg_lambda': 0.4786788924842195, 'min_child_weight': 3.446298765167327}. Best is trial 199 with value: 0.6296485785863662.\n",
      "[I 2023-12-05 20:33:04,663] Trial 225 finished with value: 0.6271049463119656 and parameters: {'n_estimators': 323, 'max_depth': 15, 'learning_rate': 0.06346660211316793, 'gamma': 10.010949688166033, 'reg_lambda': 0.5234329644338098, 'min_child_weight': 3.581435759377707}. Best is trial 199 with value: 0.6296485785863662.\n",
      "[I 2023-12-05 20:33:07,060] Trial 226 finished with value: 0.6221706375367096 and parameters: {'n_estimators': 176, 'max_depth': 16, 'learning_rate': 0.043661198400200316, 'gamma': 11.176285233697927, 'reg_lambda': 0.9165379771819608, 'min_child_weight': 4.002768670221767}. Best is trial 199 with value: 0.6296485785863662.\n",
      "[I 2023-12-05 20:33:09,397] Trial 227 finished with value: 0.6253739981200818 and parameters: {'n_estimators': 344, 'max_depth': 15, 'learning_rate': 0.07785311026487671, 'gamma': 10.53436522246174, 'reg_lambda': 0.6095657006682117, 'min_child_weight': 4.863685966903898}. Best is trial 199 with value: 0.6296485785863662.\n",
      "[I 2023-12-05 20:33:10,901] Trial 228 finished with value: 0.6017769992558977 and parameters: {'n_estimators': 189, 'max_depth': 16, 'learning_rate': 0.9430757093932269, 'gamma': 9.828749555578666, 'reg_lambda': 0.7944238969742798, 'min_child_weight': 4.998681627490442}. Best is trial 199 with value: 0.6296485785863662.\n",
      "[I 2023-12-05 20:33:12,334] Trial 229 finished with value: 0.619825743872984 and parameters: {'n_estimators': 167, 'max_depth': 15, 'learning_rate': 0.4446670051585474, 'gamma': 11.703023641196053, 'reg_lambda': 0.7649592435885033, 'min_child_weight': 4.735358914674111}. Best is trial 199 with value: 0.6296485785863662.\n",
      "[I 2023-12-05 20:33:17,779] Trial 230 finished with value: 0.6269924253760681 and parameters: {'n_estimators': 388, 'max_depth': 16, 'learning_rate': 0.012906519878734637, 'gamma': 10.801952711271257, 'reg_lambda': 0.5686675184810385, 'min_child_weight': 3.569547303836066}. Best is trial 199 with value: 0.6296485785863662.\n",
      "[I 2023-12-05 20:33:20,371] Trial 231 finished with value: 0.6240473019593693 and parameters: {'n_estimators': 338, 'max_depth': 14, 'learning_rate': 0.06272180032928977, 'gamma': 9.34903565741877, 'reg_lambda': 0.8416048701807727, 'min_child_weight': 3.4298722045156103}. Best is trial 199 with value: 0.6296485785863662.\n",
      "[I 2023-12-05 20:33:23,223] Trial 232 finished with value: 0.6247400829117191 and parameters: {'n_estimators': 351, 'max_depth': 14, 'learning_rate': 0.04331462972415913, 'gamma': 10.12413926871334, 'reg_lambda': 0.8588146473479814, 'min_child_weight': 4.836961213294703}. Best is trial 199 with value: 0.6296485785863662.\n",
      "[I 2023-12-05 20:33:25,283] Trial 233 finished with value: 0.6221764510279311 and parameters: {'n_estimators': 64, 'max_depth': 14, 'learning_rate': 0.09394632528103994, 'gamma': 7.599433815100087, 'reg_lambda': 0.8228729099630431, 'min_child_weight': 2.55713238299067}. Best is trial 199 with value: 0.6296485785863662.\n",
      "[I 2023-12-05 20:33:26,854] Trial 234 finished with value: 0.609334714925774 and parameters: {'n_estimators': 152, 'max_depth': 15, 'learning_rate': 0.37645839160180683, 'gamma': 7.03104584716011, 'reg_lambda': 0.6351122361515644, 'min_child_weight': 3.1166282788248125}. Best is trial 199 with value: 0.6296485785863662.\n",
      "[I 2023-12-05 20:33:30,080] Trial 235 finished with value: 0.6270736542183124 and parameters: {'n_estimators': 181, 'max_depth': 11, 'learning_rate': 0.02768475437510447, 'gamma': 9.594261702036482, 'reg_lambda': 0.8047495967530514, 'min_child_weight': 3.287333081429518}. Best is trial 199 with value: 0.6296485785863662.\n",
      "[I 2023-12-05 20:33:32,163] Trial 236 finished with value: 0.6266577284382038 and parameters: {'n_estimators': 127, 'max_depth': 14, 'learning_rate': 0.0665533769343231, 'gamma': 9.076961720422208, 'reg_lambda': 0.893426165216088, 'min_child_weight': 3.766486552123717}. Best is trial 199 with value: 0.6296485785863662.\n",
      "[I 2023-12-05 20:33:34,142] Trial 237 finished with value: 0.6208681035537706 and parameters: {'n_estimators': 328, 'max_depth': 15, 'learning_rate': 0.2515870517936235, 'gamma': 8.535663474206972, 'reg_lambda': 0.8585739030200671, 'min_child_weight': 4.997149370962667}. Best is trial 199 with value: 0.6296485785863662.\n",
      "[I 2023-12-05 20:33:37,101] Trial 238 finished with value: 0.6284478430890272 and parameters: {'n_estimators': 378, 'max_depth': 14, 'learning_rate': 0.0411114994288199, 'gamma': 10.289413196004244, 'reg_lambda': 0.8351727886194551, 'min_child_weight': 4.880059016761083}. Best is trial 199 with value: 0.6296485785863662.\n",
      "[I 2023-12-05 20:33:40,624] Trial 239 finished with value: 0.6239710625380808 and parameters: {'n_estimators': 386, 'max_depth': 13, 'learning_rate': 0.028307456460433263, 'gamma': 10.351038861548215, 'reg_lambda': 0.39976859332842535, 'min_child_weight': 4.87158166333993}. Best is trial 199 with value: 0.6296485785863662.\n",
      "[I 2023-12-05 20:33:42,573] Trial 240 finished with value: 0.6209698334611101 and parameters: {'n_estimators': 370, 'max_depth': 16, 'learning_rate': 0.28557135858218063, 'gamma': 10.808442801856357, 'reg_lambda': 0.5016678394604965, 'min_child_weight': 4.802013793398475}. Best is trial 199 with value: 0.6296485785863662.\n",
      "[I 2023-12-05 20:33:46,907] Trial 241 finished with value: 0.614883621956497 and parameters: {'n_estimators': 166, 'max_depth': 14, 'learning_rate': 0.010069772530521652, 'gamma': 9.813754844075234, 'reg_lambda': 0.8354742048050683, 'min_child_weight': 4.664131247241057}. Best is trial 199 with value: 0.6296485785863662.\n",
      "[I 2023-12-05 20:33:49,867] Trial 242 finished with value: 0.6233447626831331 and parameters: {'n_estimators': 410, 'max_depth': 14, 'learning_rate': 0.0457716400865521, 'gamma': 10.160851436347386, 'reg_lambda': 0.7853282907040399, 'min_child_weight': 4.899520550719496}. Best is trial 199 with value: 0.6296485785863662.\n",
      "[I 2023-12-05 20:33:51,757] Trial 243 finished with value: 0.6223202494843151 and parameters: {'n_estimators': 380, 'max_depth': 14, 'learning_rate': 0.30634270768005434, 'gamma': 16.914116850519637, 'reg_lambda': 0.8095578913911506, 'min_child_weight': 4.7520912437081195}. Best is trial 199 with value: 0.6296485785863662.\n",
      "[I 2023-12-05 20:33:53,705] Trial 244 finished with value: 0.6248897716372123 and parameters: {'n_estimators': 113, 'max_depth': 12, 'learning_rate': 0.06285274627014434, 'gamma': 11.426692499351132, 'reg_lambda': 0.82994256407627, 'min_child_weight': 4.89813236556612}. Best is trial 199 with value: 0.6296485785863662.\n",
      "[I 2023-12-05 20:33:55,553] Trial 245 finished with value: 0.6279896221404626 and parameters: {'n_estimators': 141, 'max_depth': 14, 'learning_rate': 0.08247018223898923, 'gamma': 10.666606334682767, 'reg_lambda': 0.7587744650230347, 'min_child_weight': 4.993749109444442}. Best is trial 199 with value: 0.6296485785863662.\n",
      "[I 2023-12-05 20:33:57,378] Trial 246 finished with value: 0.6287773988186165 and parameters: {'n_estimators': 141, 'max_depth': 15, 'learning_rate': 0.08854232196168701, 'gamma': 10.609169338135302, 'reg_lambda': 0.7589546258539956, 'min_child_weight': 4.998166882783968}. Best is trial 199 with value: 0.6296485785863662.\n",
      "[I 2023-12-05 20:33:59,251] Trial 247 finished with value: 0.6250905101431579 and parameters: {'n_estimators': 137, 'max_depth': 15, 'learning_rate': 0.08487776505009006, 'gamma': 10.653263105754565, 'reg_lambda': 0.7515272676388479, 'min_child_weight': 4.970118608247777}. Best is trial 199 with value: 0.6296485785863662.\n",
      "[I 2023-12-05 20:34:01,601] Trial 248 finished with value: 0.6251450863143159 and parameters: {'n_estimators': 146, 'max_depth': 15, 'learning_rate': 0.046938934976572796, 'gamma': 11.058689589173254, 'reg_lambda': 0.7379506715488049, 'min_child_weight': 4.089197187645956}. Best is trial 199 with value: 0.6296485785863662.\n",
      "[I 2023-12-05 20:34:04,510] Trial 249 finished with value: 0.6272724703069825 and parameters: {'n_estimators': 157, 'max_depth': 14, 'learning_rate': 0.02943399893271757, 'gamma': 10.486593498894289, 'reg_lambda': 0.762279637961848, 'min_child_weight': 4.983918670350469}. Best is trial 199 with value: 0.6296485785863662.\n",
      "[I 2023-12-05 20:34:06,588] Trial 250 finished with value: 0.625082082211755 and parameters: {'n_estimators': 395, 'max_depth': 10, 'learning_rate': 0.1801921197861497, 'gamma': 10.129003207869426, 'reg_lambda': 0.783743993152778, 'min_child_weight': 4.817159099246987}. Best is trial 199 with value: 0.6296485785863662.\n",
      "[I 2023-12-05 20:34:08,347] Trial 251 finished with value: 0.6275648090710236 and parameters: {'n_estimators': 144, 'max_depth': 15, 'learning_rate': 0.10450638760389383, 'gamma': 10.9719560098236, 'reg_lambda': 0.7624441502550651, 'min_child_weight': 3.4830683030009153}. Best is trial 199 with value: 0.6296485785863662.\n",
      "[I 2023-12-05 20:34:10,112] Trial 252 finished with value: 0.623964751524753 and parameters: {'n_estimators': 141, 'max_depth': 15, 'learning_rate': 0.10250754172366933, 'gamma': 11.190938367832523, 'reg_lambda': 0.7585169653477037, 'min_child_weight': 3.491342149856778}. Best is trial 199 with value: 0.6296485785863662.\n",
      "[I 2023-12-05 20:34:12,060] Trial 253 finished with value: 0.625987602998426 and parameters: {'n_estimators': 142, 'max_depth': 15, 'learning_rate': 0.07380474938720896, 'gamma': 10.90278610160972, 'reg_lambda': 0.7157706862581134, 'min_child_weight': 3.6353205871104066}. Best is trial 199 with value: 0.6296485785863662.\n",
      "[I 2023-12-05 20:34:13,429] Trial 254 finished with value: 0.612100240797504 and parameters: {'n_estimators': 137, 'max_depth': 15, 'learning_rate': 0.8281438413952631, 'gamma': 11.372609362466541, 'reg_lambda': 0.7738205341335754, 'min_child_weight': 3.364943758416215}. Best is trial 199 with value: 0.6296485785863662.\n",
      "[I 2023-12-05 20:34:15,664] Trial 255 finished with value: 0.6257867598263236 and parameters: {'n_estimators': 124, 'max_depth': 15, 'learning_rate': 0.051920946608490025, 'gamma': 9.835521246192831, 'reg_lambda': 0.7378208726525243, 'min_child_weight': 3.544519198496537}. Best is trial 199 with value: 0.6296485785863662.\n",
      "[I 2023-12-05 20:34:19,113] Trial 256 finished with value: 0.6266459001094382 and parameters: {'n_estimators': 425, 'max_depth': 14, 'learning_rate': 0.030255822939794536, 'gamma': 10.59010363241796, 'reg_lambda': 0.7944922421881727, 'min_child_weight': 4.992568947285804}. Best is trial 199 with value: 0.6296485785863662.\n",
      "[I 2023-12-05 20:34:21,105] Trial 257 finished with value: 0.609384098802494 and parameters: {'n_estimators': 320, 'max_depth': 14, 'learning_rate': 0.3566665041438428, 'gamma': 5.228137081367618, 'reg_lambda': 0.7637579078337512, 'min_child_weight': 3.672610277369484}. Best is trial 199 with value: 0.6296485785863662.\n",
      "[I 2023-12-05 20:34:22,929] Trial 258 finished with value: 0.6270225928133586 and parameters: {'n_estimators': 150, 'max_depth': 15, 'learning_rate': 0.08533641697604183, 'gamma': 11.76097952051565, 'reg_lambda': 0.730086653306466, 'min_child_weight': 4.899771710900828}. Best is trial 199 with value: 0.6296485785863662.\n",
      "[I 2023-12-05 20:34:29,364] Trial 259 finished with value: 0.6275884031886313 and parameters: {'n_estimators': 361, 'max_depth': 15, 'learning_rate': 0.010360255610047345, 'gamma': 9.475816148193218, 'reg_lambda': 0.7840745666146893, 'min_child_weight': 4.999867590429029}. Best is trial 199 with value: 0.6296485785863662.\n",
      "[I 2023-12-05 20:34:31,996] Trial 260 finished with value: 0.6253817751806612 and parameters: {'n_estimators': 353, 'max_depth': 14, 'learning_rate': 0.055499361885929833, 'gamma': 10.228081513737367, 'reg_lambda': 0.7728432142052566, 'min_child_weight': 4.885090453124972}. Best is trial 199 with value: 0.6296485785863662.\n",
      "[I 2023-12-05 20:34:37,435] Trial 261 finished with value: 0.6245276563227884 and parameters: {'n_estimators': 357, 'max_depth': 15, 'learning_rate': 0.013174635294106084, 'gamma': 10.99595005141272, 'reg_lambda': 0.7042525970192309, 'min_child_weight': 3.8319819145509424}. Best is trial 199 with value: 0.6296485785863662.\n",
      "[I 2023-12-05 20:34:39,659] Trial 262 finished with value: 0.6217702136752784 and parameters: {'n_estimators': 349, 'max_depth': 14, 'learning_rate': 0.10827513352337977, 'gamma': 9.35779224143768, 'reg_lambda': 0.7837194335950144, 'min_child_weight': 4.801187952594342}. Best is trial 199 with value: 0.6296485785863662.\n",
      "[I 2023-12-05 20:34:41,545] Trial 263 finished with value: 0.6093374100310985 and parameters: {'n_estimators': 364, 'max_depth': 15, 'learning_rate': 0.47541870513307727, 'gamma': 10.407803231072732, 'reg_lambda': 0.7507243688605523, 'min_child_weight': 4.990511415005934}. Best is trial 199 with value: 0.6296485785863662.\n",
      "[I 2023-12-05 20:34:44,904] Trial 264 finished with value: 0.6265502644169624 and parameters: {'n_estimators': 372, 'max_depth': 15, 'learning_rate': 0.04266933621300084, 'gamma': 9.852059213804255, 'reg_lambda': 0.7976603430602889, 'min_child_weight': 4.90451539855255}. Best is trial 199 with value: 0.6296485785863662.\n",
      "[I 2023-12-05 20:34:46,798] Trial 265 finished with value: 0.6169017306479129 and parameters: {'n_estimators': 378, 'max_depth': 14, 'learning_rate': 0.5992579870930295, 'gamma': 11.505374087164476, 'reg_lambda': 0.35130309831833095, 'min_child_weight': 4.738790854133978}. Best is trial 199 with value: 0.6296485785863662.\n",
      "[I 2023-12-05 20:34:49,566] Trial 266 finished with value: 0.6188127410794934 and parameters: {'n_estimators': 341, 'max_depth': 15, 'learning_rate': 0.06999810543822005, 'gamma': 6.193225039323533, 'reg_lambda': 0.7430614285247046, 'min_child_weight': 4.832758852651246}. Best is trial 199 with value: 0.6296485785863662.\n",
      "[I 2023-12-05 20:34:55,460] Trial 267 finished with value: 0.6235437433990547 and parameters: {'n_estimators': 335, 'max_depth': 13, 'learning_rate': 0.010391948282673254, 'gamma': 10.716976110467513, 'reg_lambda': 0.6879002222282914, 'min_child_weight': 3.9053215843947027}. Best is trial 199 with value: 0.6296485785863662.\n",
      "[I 2023-12-05 20:34:57,344] Trial 268 finished with value: 0.6141586297571162 and parameters: {'n_estimators': 359, 'max_depth': 14, 'learning_rate': 0.5182094330113015, 'gamma': 10.074476277150993, 'reg_lambda': 0.7206898420713461, 'min_child_weight': 4.1664714815474095}. Best is trial 199 with value: 0.6296485785863662.\n",
      "[I 2023-12-05 20:34:58,746] Trial 269 finished with value: 0.6209765610108062 and parameters: {'n_estimators': 131, 'max_depth': 15, 'learning_rate': 0.4178369762622197, 'gamma': 11.09707909331943, 'reg_lambda': 0.817879721855267, 'min_child_weight': 4.994641246482387}. Best is trial 199 with value: 0.6296485785863662.\n",
      "[I 2023-12-05 20:35:01,747] Trial 270 finished with value: 0.6234744738899097 and parameters: {'n_estimators': 156, 'max_depth': 16, 'learning_rate': 0.03342770871237212, 'gamma': 8.923183852685185, 'reg_lambda': 0.7676600350321028, 'min_child_weight': 4.019148623549032}. Best is trial 199 with value: 0.6296485785863662.\n",
      "[I 2023-12-05 20:35:03,825] Trial 271 finished with value: 0.6280074934448414 and parameters: {'n_estimators': 134, 'max_depth': 14, 'learning_rate': 0.054593726471248216, 'gamma': 12.455523585829244, 'reg_lambda': 0.030221423247906887, 'min_child_weight': 3.170240798302524}. Best is trial 199 with value: 0.6296485785863662.\n",
      "[I 2023-12-05 20:35:05,596] Trial 272 finished with value: 0.6246368756155839 and parameters: {'n_estimators': 133, 'max_depth': 14, 'learning_rate': 0.09091288396167493, 'gamma': 12.445386357895824, 'reg_lambda': 0.19209708390859817, 'min_child_weight': 3.0620359042500325}. Best is trial 199 with value: 0.6296485785863662.\n",
      "[I 2023-12-05 20:35:07,614] Trial 273 finished with value: 0.6230909725165945 and parameters: {'n_estimators': 144, 'max_depth': 13, 'learning_rate': 0.06338950181104441, 'gamma': 11.412604551771564, 'reg_lambda': 0.29386720752231016, 'min_child_weight': 2.9349917326989527}. Best is trial 199 with value: 0.6296485785863662.\n",
      "[I 2023-12-05 20:35:08,857] Trial 274 finished with value: 0.6149818726040969 and parameters: {'n_estimators': 77, 'max_depth': 14, 'learning_rate': 0.7908318290288392, 'gamma': 13.15987252478887, 'reg_lambda': 0.36550248148967507, 'min_child_weight': 3.188627476789878}. Best is trial 199 with value: 0.6296485785863662.\n",
      "[I 2023-12-05 20:35:10,541] Trial 275 finished with value: 0.6232951498755848 and parameters: {'n_estimators': 123, 'max_depth': 14, 'learning_rate': 0.11761238075849234, 'gamma': 10.62083773268854, 'reg_lambda': 0.43264115204851095, 'min_child_weight': 2.8357682766626366}. Best is trial 199 with value: 0.6296485785863662.\n",
      "[I 2023-12-05 20:35:14,257] Trial 276 finished with value: 0.6112483590578512 and parameters: {'n_estimators': 153, 'max_depth': 14, 'learning_rate': 0.011058926915359084, 'gamma': 12.14663273705195, 'reg_lambda': 0.5273637254975788, 'min_child_weight': 3.0493441462802284}. Best is trial 199 with value: 0.6296485785863662.\n",
      "[I 2023-12-05 20:35:16,144] Trial 277 finished with value: 0.6255361336439641 and parameters: {'n_estimators': 116, 'max_depth': 14, 'learning_rate': 0.07672735658324686, 'gamma': 11.012780775501536, 'reg_lambda': 0.3291361039986687, 'min_child_weight': 2.3690230821911755}. Best is trial 199 with value: 0.6296485785863662.\n",
      "[I 2023-12-05 20:35:18,049] Trial 278 finished with value: 0.6220936406578678 and parameters: {'n_estimators': 134, 'max_depth': 8, 'learning_rate': 0.05547321133237969, 'gamma': 13.239766927455763, 'reg_lambda': 0.023214922544841875, 'min_child_weight': 4.898615754829662}. Best is trial 199 with value: 0.6296485785863662.\n",
      "[I 2023-12-05 20:35:19,562] Trial 279 finished with value: 0.6169256953167619 and parameters: {'n_estimators': 164, 'max_depth': 13, 'learning_rate': 0.2737257919890997, 'gamma': 11.96049110579836, 'reg_lambda': 0.32014212166629513, 'min_child_weight': 2.6866513777543255}. Best is trial 199 with value: 0.6296485785863662.\n",
      "[I 2023-12-05 20:35:22,145] Trial 280 finished with value: 0.620750013287594 and parameters: {'n_estimators': 127, 'max_depth': 14, 'learning_rate': 0.03076185873672242, 'gamma': 12.71163268810794, 'reg_lambda': 0.7866904122298848, 'min_child_weight': 3.2117419257678588}. Best is trial 199 with value: 0.6296485785863662.\n",
      "[I 2023-12-05 20:35:23,870] Trial 281 finished with value: 0.6236325336737383 and parameters: {'n_estimators': 167, 'max_depth': 15, 'learning_rate': 0.13879103171838147, 'gamma': 10.33467071809873, 'reg_lambda': 0.7443423903995449, 'min_child_weight': 3.2353319239949756}. Best is trial 199 with value: 0.6296485785863662.\n",
      "[I 2023-12-05 20:35:25,449] Trial 282 finished with value: 0.6264426785747885 and parameters: {'n_estimators': 57, 'max_depth': 16, 'learning_rate': 0.09275136427960956, 'gamma': 11.895030697365996, 'reg_lambda': 0.6410733786458273, 'min_child_weight': 4.7028353900796525}. Best is trial 199 with value: 0.6296485785863662.\n",
      "[I 2023-12-05 20:35:27,497] Trial 283 finished with value: 0.6190218055495972 and parameters: {'n_estimators': 148, 'max_depth': 15, 'learning_rate': 0.050644083605604115, 'gamma': 14.030786504870028, 'reg_lambda': 0.02243610327077144, 'min_child_weight': 4.84073985427652}. Best is trial 199 with value: 0.6296485785863662.\n",
      "[I 2023-12-05 20:35:28,968] Trial 284 finished with value: 0.6193267101052096 and parameters: {'n_estimators': 140, 'max_depth': 14, 'learning_rate': 0.3260004414041199, 'gamma': 9.130674668580143, 'reg_lambda': 0.27864217274764586, 'min_child_weight': 4.998377872503328}. Best is trial 199 with value: 0.6296485785863662.\n",
      "[I 2023-12-05 20:35:32,198] Trial 285 finished with value: 0.6270288433516994 and parameters: {'n_estimators': 280, 'max_depth': 16, 'learning_rate': 0.030068637098506767, 'gamma': 12.468780613711186, 'reg_lambda': 0.3870273422971095, 'min_child_weight': 4.627426670884497}. Best is trial 199 with value: 0.6296485785863662.\n",
      "[I 2023-12-05 20:35:34,619] Trial 286 finished with value: 0.6266774928465136 and parameters: {'n_estimators': 328, 'max_depth': 13, 'learning_rate': 0.07465585482748424, 'gamma': 10.169348862918948, 'reg_lambda': 0.1700898896600393, 'min_child_weight': 4.774711498798026}. Best is trial 199 with value: 0.6296485785863662.\n",
      "[I 2023-12-05 20:35:36,366] Trial 287 finished with value: 0.6193153344274893 and parameters: {'n_estimators': 249, 'max_depth': 14, 'learning_rate': 0.24148231139324103, 'gamma': 9.566059473402085, 'reg_lambda': 0.9340685193382, 'min_child_weight': 4.898626703074306}. Best is trial 199 with value: 0.6296485785863662.\n",
      "[I 2023-12-05 20:35:37,775] Trial 288 finished with value: 0.6223801449050758 and parameters: {'n_estimators': 67, 'max_depth': 15, 'learning_rate': 0.19511143849517912, 'gamma': 10.694605304307101, 'reg_lambda': 0.07430549773890752, 'min_child_weight': 4.299829159957744}. Best is trial 199 with value: 0.6296485785863662.\n",
      "[I 2023-12-05 20:35:39,610] Trial 289 finished with value: 0.6192431905529557 and parameters: {'n_estimators': 337, 'max_depth': 15, 'learning_rate': 0.306876705672569, 'gamma': 11.587754072876436, 'reg_lambda': 0.15091075298955858, 'min_child_weight': 3.452049941807131}. Best is trial 199 with value: 0.6296485785863662.\n",
      "[I 2023-12-05 20:35:43,134] Trial 290 finished with value: 0.6094053937436359 and parameters: {'n_estimators': 158, 'max_depth': 14, 'learning_rate': 0.010605157399838451, 'gamma': 14.594976292924278, 'reg_lambda': 0.08263104667588428, 'min_child_weight': 4.896288981627844}. Best is trial 199 with value: 0.6296485785863662.\n",
      "[I 2023-12-05 20:35:45,403] Trial 291 finished with value: 0.6247859036081795 and parameters: {'n_estimators': 173, 'max_depth': 16, 'learning_rate': 0.05220233426587618, 'gamma': 11.094002182927879, 'reg_lambda': 0.590324741810243, 'min_child_weight': 2.8698813855864693}. Best is trial 199 with value: 0.6296485785863662.\n",
      "[I 2023-12-05 20:35:48,158] Trial 292 finished with value: 0.6251595085458848 and parameters: {'n_estimators': 122, 'max_depth': 13, 'learning_rate': 0.0321249957566207, 'gamma': 9.868949949720824, 'reg_lambda': 0.4329072564044465, 'min_child_weight': 4.995345756736265}. Best is trial 199 with value: 0.6296485785863662.\n",
      "[I 2023-12-05 20:35:49,858] Trial 293 finished with value: 0.6254698248278182 and parameters: {'n_estimators': 107, 'max_depth': 15, 'learning_rate': 0.10374808967433016, 'gamma': 10.461499606833826, 'reg_lambda': 0.5750996100339593, 'min_child_weight': 4.774883108199256}. Best is trial 199 with value: 0.6296485785863662.\n",
      "[I 2023-12-05 20:35:51,617] Trial 294 finished with value: 0.6200765480214188 and parameters: {'n_estimators': 318, 'max_depth': 14, 'learning_rate': 0.37087260641223896, 'gamma': 19.909965127566874, 'reg_lambda': 0.22806997821488542, 'min_child_weight': 2.590898162873257}. Best is trial 199 with value: 0.6296485785863662.\n",
      "[I 2023-12-05 20:35:53,424] Trial 295 finished with value: 0.6197965072323467 and parameters: {'n_estimators': 137, 'max_depth': 15, 'learning_rate': 0.06879238983061942, 'gamma': 15.264800944666032, 'reg_lambda': 0.6762376938631055, 'min_child_weight': 3.7607339741784886}. Best is trial 199 with value: 0.6296485785863662.\n",
      "[I 2023-12-05 20:35:56,021] Trial 296 finished with value: 0.6225085586396188 and parameters: {'n_estimators': 190, 'max_depth': 16, 'learning_rate': 0.04435410659307622, 'gamma': 9.445194110951398, 'reg_lambda': 0.036666031450160765, 'min_child_weight': 4.52975654627145}. Best is trial 199 with value: 0.6296485785863662.\n",
      "[I 2023-12-05 20:35:57,895] Trial 297 finished with value: 0.6250815111742047 and parameters: {'n_estimators': 151, 'max_depth': 15, 'learning_rate': 0.08766379288881937, 'gamma': 10.790292841868109, 'reg_lambda': 0.4563732209538263, 'min_child_weight': 4.998717737451761}. Best is trial 199 with value: 0.6296485785863662.\n",
      "[I 2023-12-05 20:35:59,402] Trial 298 finished with value: 0.6222527742199315 and parameters: {'n_estimators': 87, 'max_depth': 14, 'learning_rate': 0.15833726584002145, 'gamma': 10.155220455187937, 'reg_lambda': 0.13714568738172989, 'min_child_weight': 4.692559040026204}. Best is trial 199 with value: 0.6296485785863662.\n",
      "[I 2023-12-05 20:36:01,248] Trial 299 finished with value: 0.6136631845377144 and parameters: {'n_estimators': 347, 'max_depth': 15, 'learning_rate': 0.44757148683412334, 'gamma': 13.380704247901047, 'reg_lambda': 0.25271262718269977, 'min_child_weight': 3.1753501865295632}. Best is trial 199 with value: 0.6296485785863662.\n",
      "[I 2023-12-05 20:36:03,138] Trial 300 finished with value: 0.6197368689666869 and parameters: {'n_estimators': 173, 'max_depth': 14, 'learning_rate': 0.060373384042653015, 'gamma': 17.674601483490235, 'reg_lambda': 0.8046041521655142, 'min_child_weight': 4.847525915190133}. Best is trial 199 with value: 0.6296485785863662.\n",
      "[I 2023-12-05 20:36:04,634] Trial 301 finished with value: 0.6268029461965161 and parameters: {'n_estimators': 130, 'max_depth': 16, 'learning_rate': 0.2176934596709223, 'gamma': 11.308454732880701, 'reg_lambda': 0.6243511488407371, 'min_child_weight': 3.318907547900581}. Best is trial 199 with value: 0.6296485785863662.\n",
      "[I 2023-12-05 20:36:11,485] Trial 302 finished with value: 0.6264142018489472 and parameters: {'n_estimators': 375, 'max_depth': 13, 'learning_rate': 0.010422286151928268, 'gamma': 8.80043899245231, 'reg_lambda': 0.9661329596414533, 'min_child_weight': 3.0479536491906165}. Best is trial 199 with value: 0.6296485785863662.\n",
      "[I 2023-12-05 20:36:13,303] Trial 303 finished with value: 0.6224050757887358 and parameters: {'n_estimators': 160, 'max_depth': 14, 'learning_rate': 0.1164227307623029, 'gamma': 9.786395149923806, 'reg_lambda': 0.7672179032301715, 'min_child_weight': 4.916222010845027}. Best is trial 199 with value: 0.6296485785863662.\n",
      "[I 2023-12-05 20:36:16,239] Trial 304 finished with value: 0.6215371252186745 and parameters: {'n_estimators': 332, 'max_depth': 15, 'learning_rate': 0.030188017713619807, 'gamma': 13.530564553402169, 'reg_lambda': 0.6515535919625206, 'min_child_weight': 4.798203303889899}. Best is trial 199 with value: 0.6296485785863662.\n",
      "[I 2023-12-05 20:36:19,390] Trial 305 finished with value: 0.624708806571969 and parameters: {'n_estimators': 365, 'max_depth': 14, 'learning_rate': 0.04327690475161362, 'gamma': 7.967825667107869, 'reg_lambda': 0.8239666832625886, 'min_child_weight': 4.622658682491112}. Best is trial 199 with value: 0.6296485785863662.\n",
      "[I 2023-12-05 20:36:21,420] Trial 306 finished with value: 0.6260109970013565 and parameters: {'n_estimators': 145, 'max_depth': 15, 'learning_rate': 0.07619627153031289, 'gamma': 9.223811488985223, 'reg_lambda': 0.718527372250819, 'min_child_weight': 4.904492589413244}. Best is trial 199 with value: 0.6296485785863662.\n",
      "[I 2023-12-05 20:36:24,917] Trial 307 finished with value: 0.6274210106827771 and parameters: {'n_estimators': 325, 'max_depth': 16, 'learning_rate': 0.027296791066847903, 'gamma': 10.49727718740302, 'reg_lambda': 0.7810147151410546, 'min_child_weight': 2.457683945857893}. Best is trial 199 with value: 0.6296485785863662.\n",
      "[I 2023-12-05 20:36:26,659] Trial 308 finished with value: 0.6055785403142279 and parameters: {'n_estimators': 342, 'max_depth': 4, 'learning_rate': 0.3992288886325698, 'gamma': 16.05637714064683, 'reg_lambda': 0.6990893870302828, 'min_child_weight': 2.762767196155325}. Best is trial 199 with value: 0.6296485785863662.\n",
      "[I 2023-12-05 20:36:28,117] Trial 309 finished with value: 0.6237517095064498 and parameters: {'n_estimators': 116, 'max_depth': 15, 'learning_rate': 0.2613300244582205, 'gamma': 10.856270908882484, 'reg_lambda': 0.1175529121881198, 'min_child_weight': 3.5685349090870764}. Best is trial 199 with value: 0.6296485785863662.\n",
      "[I 2023-12-05 20:36:30,228] Trial 310 finished with value: 0.6240789348082809 and parameters: {'n_estimators': 137, 'max_depth': 13, 'learning_rate': 0.05182690622577968, 'gamma': 11.755788617825603, 'reg_lambda': 0.7523249178881442, 'min_child_weight': 4.725269958166043}. Best is trial 199 with value: 0.6296485785863662.\n",
      "[I 2023-12-05 20:36:32,134] Trial 311 finished with value: 0.6229731999495322 and parameters: {'n_estimators': 181, 'max_depth': 14, 'learning_rate': 0.09921902018043888, 'gamma': 10.070092330485458, 'reg_lambda': 0.7962928384771252, 'min_child_weight': 4.040600263526592}. Best is trial 199 with value: 0.6296485785863662.\n",
      "[I 2023-12-05 20:36:34,177] Trial 312 finished with value: 0.6255166195123223 and parameters: {'n_estimators': 150, 'max_depth': 15, 'learning_rate': 0.06394400376320977, 'gamma': 11.25131562710795, 'reg_lambda': 0.6623078641429355, 'min_child_weight': 3.2799322438076817}. Best is trial 199 with value: 0.6296485785863662.\n",
      "[I 2023-12-05 20:36:37,322] Trial 313 finished with value: 0.6244934391396146 and parameters: {'n_estimators': 259, 'max_depth': 14, 'learning_rate': 0.03140018485011137, 'gamma': 9.61895210672225, 'reg_lambda': 0.7363630451549991, 'min_child_weight': 4.196275672867861}. Best is trial 199 with value: 0.6296485785863662.\n",
      "[I 2023-12-05 20:36:39,106] Trial 314 finished with value: 0.6278587512247115 and parameters: {'n_estimators': 309, 'max_depth': 16, 'learning_rate': 0.4865658733827317, 'gamma': 10.277955781263447, 'reg_lambda': 0.540403905326424, 'min_child_weight': 0.09894862035681617}. Best is trial 199 with value: 0.6296485785863662.\n",
      "[I 2023-12-05 20:36:40,823] Trial 315 finished with value: 0.602331076229688 and parameters: {'n_estimators': 302, 'max_depth': 16, 'learning_rate': 0.9652256000165266, 'gamma': 10.36673117403725, 'reg_lambda': 0.5013150038416108, 'min_child_weight': 1.4874099058491952}. Best is trial 199 with value: 0.6296485785863662.\n",
      "[I 2023-12-05 20:36:42,581] Trial 316 finished with value: 0.610968029308299 and parameters: {'n_estimators': 315, 'max_depth': 16, 'learning_rate': 0.5420315390530263, 'gamma': 12.292656273762834, 'reg_lambda': 0.8738491089127759, 'min_child_weight': 0.1602692261007073}. Best is trial 199 with value: 0.6296485785863662.\n",
      "[I 2023-12-05 20:36:44,275] Trial 317 finished with value: 0.6192274950193831 and parameters: {'n_estimators': 288, 'max_depth': 16, 'learning_rate': 0.4299538430011991, 'gamma': 12.788218897287512, 'reg_lambda': 0.5872918095525057, 'min_child_weight': 0.7375677717216886}. Best is trial 199 with value: 0.6296485785863662.\n",
      "[I 2023-12-05 20:36:46,037] Trial 318 finished with value: 0.6189178713485426 and parameters: {'n_estimators': 311, 'max_depth': 16, 'learning_rate': 0.49423366222633514, 'gamma': 10.800198675329247, 'reg_lambda': 0.538127188440668, 'min_child_weight': 1.5277051786707372}. Best is trial 199 with value: 0.6296485785863662.\n",
      "[I 2023-12-05 20:36:48,296] Trial 319 finished with value: 0.5867992213124478 and parameters: {'n_estimators': 271, 'max_depth': 16, 'learning_rate': 0.4593173681042704, 'gamma': 1.6477357444436525, 'reg_lambda': 0.3307982870409957, 'min_child_weight': 2.128519234988098}. Best is trial 199 with value: 0.6296485785863662.\n",
      "[I 2023-12-05 20:36:49,490] Trial 320 finished with value: 0.610213873401912 and parameters: {'n_estimators': 50, 'max_depth': 13, 'learning_rate': 0.9898488769679411, 'gamma': 11.529252874580193, 'reg_lambda': 0.41687633277674474, 'min_child_weight': 2.9191313178596583}. Best is trial 199 with value: 0.6296485785863662.\n",
      "[I 2023-12-05 20:36:51,331] Trial 321 finished with value: 0.6155884538711582 and parameters: {'n_estimators': 321, 'max_depth': 14, 'learning_rate': 0.3423334170033352, 'gamma': 10.305059836143705, 'reg_lambda': 0.7037079134456677, 'min_child_weight': 0.7051100307261857}. Best is trial 199 with value: 0.6296485785863662.\n",
      "[I 2023-12-05 20:36:53,036] Trial 322 finished with value: 0.6147877910034995 and parameters: {'n_estimators': 306, 'max_depth': 7, 'learning_rate': 0.4822287164758515, 'gamma': 8.52690017550189, 'reg_lambda': 0.385476647011788, 'min_child_weight': 1.8103573169352}. Best is trial 199 with value: 0.6296485785863662.\n",
      "[I 2023-12-05 20:36:54,639] Trial 323 finished with value: 0.6220595073893819 and parameters: {'n_estimators': 231, 'max_depth': 16, 'learning_rate': 0.2325315466862983, 'gamma': 19.261886204104123, 'reg_lambda': 0.4503815257321422, 'min_child_weight': 2.6850842740750087}. Best is trial 199 with value: 0.6296485785863662.\n",
      "[I 2023-12-05 20:36:56,715] Trial 324 finished with value: 0.6233000667348733 and parameters: {'n_estimators': 359, 'max_depth': 14, 'learning_rate': 0.15095376092455648, 'gamma': 11.124669265002709, 'reg_lambda': 0.4690409922982693, 'min_child_weight': 1.6544492327888034}. Best is trial 199 with value: 0.6296485785863662.\n",
      "[I 2023-12-05 20:36:58,435] Trial 325 finished with value: 0.6164660396916773 and parameters: {'n_estimators': 294, 'max_depth': 15, 'learning_rate': 0.7780685199265225, 'gamma': 10.620745945697571, 'reg_lambda': 0.35333016119944055, 'min_child_weight': 4.4229287847828775}. Best is trial 199 with value: 0.6296485785863662.\n",
      "[I 2023-12-05 20:36:59,836] Trial 326 finished with value: 0.61425919663458 and parameters: {'n_estimators': 128, 'max_depth': 14, 'learning_rate': 0.5234937887680426, 'gamma': 9.14515524357487, 'reg_lambda': 0.5475757579461479, 'min_child_weight': 2.996387094271133}. Best is trial 199 with value: 0.6296485785863662.\n",
      "[I 2023-12-05 20:37:01,788] Trial 327 finished with value: 0.587080777349594 and parameters: {'n_estimators': 339, 'max_depth': 15, 'learning_rate': 0.7561010366888328, 'gamma': 4.459565416903542, 'reg_lambda': 0.5940537842002657, 'min_child_weight': 2.0464351540281682}. Best is trial 199 with value: 0.6296485785863662.\n",
      "[I 2023-12-05 20:37:03,072] Trial 328 finished with value: 0.6009673326805041 and parameters: {'n_estimators': 72, 'max_depth': 16, 'learning_rate': 0.8928254659057893, 'gamma': 10.047318402175287, 'reg_lambda': 0.7598025383469649, 'min_child_weight': 0.08085651680848027}. Best is trial 199 with value: 0.6296485785863662.\n",
      "[I 2023-12-05 20:37:04,977] Trial 329 finished with value: 0.6190478528438942 and parameters: {'n_estimators': 395, 'max_depth': 13, 'learning_rate': 0.5690781672398054, 'gamma': 10.90820253110428, 'reg_lambda': 0.19886367387552698, 'min_child_weight': 0.4018821370978416}. Best is trial 199 with value: 0.6296485785863662.\n",
      "[I 2023-12-05 20:37:06,482] Trial 330 finished with value: 0.6198261139182676 and parameters: {'n_estimators': 101, 'max_depth': 12, 'learning_rate': 0.1960435836392328, 'gamma': 9.577614115363218, 'reg_lambda': 0.2957021209519157, 'min_child_weight': 3.429024288522439}. Best is trial 199 with value: 0.6296485785863662.\n",
      "[I 2023-12-05 20:37:08,514] Trial 331 finished with value: 0.6248749519326656 and parameters: {'n_estimators': 329, 'max_depth': 15, 'learning_rate': 0.12673950551137497, 'gamma': 11.812883192779063, 'reg_lambda': 0.6203227709654818, 'min_child_weight': 3.9487044474132746}. Best is trial 199 with value: 0.6296485785863662.\n",
      "[I 2023-12-05 20:37:10,353] Trial 332 finished with value: 0.6034570684562688 and parameters: {'n_estimators': 347, 'max_depth': 14, 'learning_rate': 0.8380839208094175, 'gamma': 10.37728246595065, 'reg_lambda': 0.679686984296768, 'min_child_weight': 1.4121196111570091}. Best is trial 199 with value: 0.6296485785863662.\n",
      "[I 2023-12-05 20:37:12,246] Trial 333 finished with value: 0.616024776075329 and parameters: {'n_estimators': 381, 'max_depth': 16, 'learning_rate': 0.46115118919886655, 'gamma': 11.250673913611175, 'reg_lambda': 0.7303078149122779, 'min_child_weight': 2.307749071264174}. Best is trial 199 with value: 0.6296485785863662.\n",
      "[I 2023-12-05 20:37:13,755] Trial 334 finished with value: 0.6205945735123269 and parameters: {'n_estimators': 143, 'max_depth': 15, 'learning_rate': 0.3029158654561789, 'gamma': 9.868537062895037, 'reg_lambda': 0.8393263169547531, 'min_child_weight': 1.0900730189997336}. Best is trial 199 with value: 0.6296485785863662.\n",
      "[I 2023-12-05 20:37:15,147] Trial 335 finished with value: 0.6147833089988524 and parameters: {'n_estimators': 120, 'max_depth': 14, 'learning_rate': 0.40931384443282987, 'gamma': 10.696884145802407, 'reg_lambda': 0.7815243081905366, 'min_child_weight': 3.1339247831957775}. Best is trial 199 with value: 0.6296485785863662.\n",
      "[I 2023-12-05 20:37:16,677] Trial 336 finished with value: 0.6157719768081469 and parameters: {'n_estimators': 201, 'max_depth': 15, 'learning_rate': 0.5734547288713602, 'gamma': 9.296025953190547, 'reg_lambda': 0.9052084900608274, 'min_child_weight': 2.8269303810097837}. Best is trial 199 with value: 0.6296485785863662.\n",
      "[I 2023-12-05 20:37:20,614] Trial 337 finished with value: 0.6143007853350548 and parameters: {'n_estimators': 133, 'max_depth': 14, 'learning_rate': 0.010060079654164746, 'gamma': 10.095115824181558, 'reg_lambda': 0.5737701508850085, 'min_child_weight': 2.586065104749853}. Best is trial 199 with value: 0.6296485785863662.\n",
      "[I 2023-12-05 20:37:23,102] Trial 338 finished with value: 0.6240709264892215 and parameters: {'n_estimators': 362, 'max_depth': 13, 'learning_rate': 0.08279542102280142, 'gamma': 8.85316742639123, 'reg_lambda': 0.5641869637783823, 'min_child_weight': 2.714356730350985}. Best is trial 199 with value: 0.6296485785863662.\n",
      "[I 2023-12-05 20:37:24,958] Trial 339 finished with value: 0.6166969186326577 and parameters: {'n_estimators': 333, 'max_depth': 15, 'learning_rate': 0.28479484491591756, 'gamma': 12.049869941390355, 'reg_lambda': 0.39675860913155336, 'min_child_weight': 3.8232266149725334}. Best is trial 199 with value: 0.6296485785863662.\n",
      "[I 2023-12-05 20:37:26,839] Trial 340 finished with value: 0.6159927518062311 and parameters: {'n_estimators': 313, 'max_depth': 14, 'learning_rate': 0.36736858350049706, 'gamma': 8.235918880705563, 'reg_lambda': 0.8117025706368884, 'min_child_weight': 0.313892477152421}. Best is trial 199 with value: 0.6296485785863662.\n",
      "[I 2023-12-05 20:37:28,631] Trial 341 finished with value: 0.5936355136007366 and parameters: {'n_estimators': 299, 'max_depth': 16, 'learning_rate': 0.8687308312039127, 'gamma': 6.340222569239725, 'reg_lambda': 0.4137957637761014, 'min_child_weight': 1.8834596160188468}. Best is trial 199 with value: 0.6296485785863662.\n",
      "[I 2023-12-05 20:37:29,934] Trial 342 finished with value: 0.6077870745134953 and parameters: {'n_estimators': 60, 'max_depth': 15, 'learning_rate': 0.6931227739424725, 'gamma': 7.102453858781485, 'reg_lambda': 0.6185306027836006, 'min_child_weight': 3.7341587667436196}. Best is trial 199 with value: 0.6296485785863662.\n",
      "[I 2023-12-05 20:37:31,367] Trial 343 finished with value: 0.6184413349798695 and parameters: {'n_estimators': 155, 'max_depth': 14, 'learning_rate': 0.5079859094051358, 'gamma': 10.504896051644453, 'reg_lambda': 0.7520453515427642, 'min_child_weight': 2.9411568365573855}. Best is trial 199 with value: 0.6296485785863662.\n",
      "[I 2023-12-05 20:37:33,543] Trial 344 finished with value: 0.6238082547071764 and parameters: {'n_estimators': 353, 'max_depth': 16, 'learning_rate': 0.10622638190616962, 'gamma': 11.49461169259674, 'reg_lambda': 0.5115321023886813, 'min_child_weight': 2.272828317186507}. Best is trial 199 with value: 0.6296485785863662.\n",
      "[I 2023-12-05 20:37:36,266] Trial 345 finished with value: 0.5779717147326977 and parameters: {'n_estimators': 140, 'max_depth': 13, 'learning_rate': 0.34223289420960756, 'gamma': 0.26219381828353505, 'reg_lambda': 0.48425344559888006, 'min_child_weight': 4.081942219893614}. Best is trial 199 with value: 0.6296485785863662.\n",
      "[I 2023-12-05 20:37:39,021] Trial 346 finished with value: 0.6252727131122131 and parameters: {'n_estimators': 322, 'max_depth': 15, 'learning_rate': 0.061474060935536735, 'gamma': 10.96459796173776, 'reg_lambda': 0.7722277939357325, 'min_child_weight': 3.1006283494669837}. Best is trial 199 with value: 0.6296485785863662.\n",
      "[I 2023-12-05 20:37:40,326] Trial 347 finished with value: 0.6085228239459656 and parameters: {'n_estimators': 92, 'max_depth': 14, 'learning_rate': 0.6509838856392761, 'gamma': 9.619227514816744, 'reg_lambda': 0.9560481580163703, 'min_child_weight': 2.5124026526962115}. Best is trial 199 with value: 0.6296485785863662.\n",
      "[I 2023-12-05 20:37:41,807] Trial 348 finished with value: 0.6223373826190078 and parameters: {'n_estimators': 125, 'max_depth': 16, 'learning_rate': 0.24938963506477535, 'gamma': 10.176375643578762, 'reg_lambda': 0.7177732671994045, 'min_child_weight': 3.374699827469617}. Best is trial 199 with value: 0.6296485785863662.\n",
      "[I 2023-12-05 20:37:43,846] Trial 349 finished with value: 0.6233617659639065 and parameters: {'n_estimators': 369, 'max_depth': 11, 'learning_rate': 0.18350911502056622, 'gamma': 10.675111430231619, 'reg_lambda': 0.923310263722263, 'min_child_weight': 3.2618079768900703}. Best is trial 199 with value: 0.6296485785863662.\n",
      "[I 2023-12-05 20:37:45,183] Trial 350 finished with value: 0.6225662726480549 and parameters: {'n_estimators': 110, 'max_depth': 14, 'learning_rate': 0.42828853247857285, 'gamma': 13.832066698065912, 'reg_lambda': 0.3705973017865075, 'min_child_weight': 3.9233628579512363}. Best is trial 199 with value: 0.6296485785863662.\n",
      "[I 2023-12-05 20:37:48,348] Trial 351 finished with value: 0.6228376873927784 and parameters: {'n_estimators': 344, 'max_depth': 15, 'learning_rate': 0.02800238269861061, 'gamma': 12.990602130013468, 'reg_lambda': 0.817910059402856, 'min_child_weight': 2.007483302360539}. Best is trial 199 with value: 0.6296485785863662.\n",
      "[I 2023-12-05 20:37:49,858] Trial 352 finished with value: 0.6226172281347259 and parameters: {'n_estimators': 162, 'max_depth': 14, 'learning_rate': 0.3796073871317118, 'gamma': 9.827841808204926, 'reg_lambda': 0.6036195436655035, 'min_child_weight': 3.5458589104284766}. Best is trial 199 with value: 0.6296485785863662.\n",
      "[I 2023-12-05 20:37:52,170] Trial 353 finished with value: 0.6255496210531016 and parameters: {'n_estimators': 147, 'max_depth': 15, 'learning_rate': 0.04764927560789253, 'gamma': 11.2847151679919, 'reg_lambda': 0.789044692772289, 'min_child_weight': 2.4375999989889308}. Best is trial 199 with value: 0.6296485785863662.\n",
      "[I 2023-12-05 20:37:54,007] Trial 354 finished with value: 0.6182219034832553 and parameters: {'n_estimators': 134, 'max_depth': 15, 'learning_rate': 0.14100442343791164, 'gamma': 7.6534100103423865, 'reg_lambda': 0.3039938912939051, 'min_child_weight': 1.266666327379387}. Best is trial 199 with value: 0.6296485785863662.\n",
      "[I 2023-12-05 20:37:56,263] Trial 355 finished with value: 0.6246107127261971 and parameters: {'n_estimators': 336, 'max_depth': 13, 'learning_rate': 0.08660750657288857, 'gamma': 10.368699783777185, 'reg_lambda': 0.8807992941012738, 'min_child_weight': 4.314577895120455}. Best is trial 199 with value: 0.6296485785863662.\n",
      "[I 2023-12-05 20:37:59,240] Trial 356 finished with value: 0.6114040658080041 and parameters: {'n_estimators': 77, 'max_depth': 16, 'learning_rate': 0.010108574630375637, 'gamma': 9.206416829549568, 'reg_lambda': 0.5534606465361278, 'min_child_weight': 3.001833518945229}. Best is trial 199 with value: 0.6296485785863662.\n",
      "[I 2023-12-05 20:38:01,778] Trial 357 finished with value: 0.6144710260377952 and parameters: {'n_estimators': 277, 'max_depth': 14, 'learning_rate': 0.03387751687753403, 'gamma': 18.598318997871523, 'reg_lambda': 0.5220393986282449, 'min_child_weight': 1.705073623865874}. Best is trial 199 with value: 0.6296485785863662.\n",
      "[I 2023-12-05 20:38:03,642] Trial 358 finished with value: 0.6186554458909296 and parameters: {'n_estimators': 174, 'max_depth': 12, 'learning_rate': 0.06834182743035444, 'gamma': 15.626628474290536, 'reg_lambda': 0.739832242289688, 'min_child_weight': 4.513036547496304}. Best is trial 199 with value: 0.6296485785863662.\n",
      "[I 2023-12-05 20:38:05,464] Trial 359 finished with value: 0.6208432889194779 and parameters: {'n_estimators': 326, 'max_depth': 16, 'learning_rate': 0.3956209866751155, 'gamma': 10.80457182156034, 'reg_lambda': 0.847404241720939, 'min_child_weight': 4.238167685832114}. Best is trial 199 with value: 0.6296485785863662.\n",
      "[I 2023-12-05 20:38:07,307] Trial 360 finished with value: 0.6260770293456412 and parameters: {'n_estimators': 188, 'max_depth': 15, 'learning_rate': 0.11556743681936213, 'gamma': 12.467089754583867, 'reg_lambda': 0.7617841579634229, 'min_child_weight': 2.854388117172058}. Best is trial 199 with value: 0.6296485785863662.\n",
      "[I 2023-12-05 20:38:10,203] Trial 361 finished with value: 0.6283138332880301 and parameters: {'n_estimators': 350, 'max_depth': 14, 'learning_rate': 0.04483381028919769, 'gamma': 9.992135796914868, 'reg_lambda': 0.7985182806971299, 'min_child_weight': 2.3117396540044397}. Best is trial 199 with value: 0.6296485785863662.\n",
      "[I 2023-12-05 20:38:12,203] Trial 362 finished with value: 0.6255168243287903 and parameters: {'n_estimators': 369, 'max_depth': 14, 'learning_rate': 0.23254501310910852, 'gamma': 11.607763951945545, 'reg_lambda': 0.806851700779445, 'min_child_weight': 2.1339448691501564}. Best is trial 199 with value: 0.6296485785863662.\n",
      "[I 2023-12-05 20:38:14,641] Trial 363 finished with value: 0.625332146459627 and parameters: {'n_estimators': 356, 'max_depth': 14, 'learning_rate': 0.0792280390904023, 'gamma': 10.104412988727654, 'reg_lambda': 0.002520063925937458, 'min_child_weight': 1.808262046732518}. Best is trial 199 with value: 0.6296485785863662.\n",
      "[I 2023-12-05 20:38:17,255] Trial 364 finished with value: 0.6242920859352945 and parameters: {'n_estimators': 348, 'max_depth': 13, 'learning_rate': 0.051916501324462516, 'gamma': 11.104779801112908, 'reg_lambda': 0.8267513540714558, 'min_child_weight': 3.454608861815399}. Best is trial 199 with value: 0.6296485785863662.\n",
      "[I 2023-12-05 20:38:19,188] Trial 365 finished with value: 0.6179486192920518 and parameters: {'n_estimators': 343, 'max_depth': 15, 'learning_rate': 0.33963915499818154, 'gamma': 9.435096310620258, 'reg_lambda': 0.6520353643304411, 'min_child_weight': 1.9950751072019703}. Best is trial 199 with value: 0.6296485785863662.\n",
      "[I 2023-12-05 20:38:21,166] Trial 366 finished with value: 0.6213745528162103 and parameters: {'n_estimators': 357, 'max_depth': 15, 'learning_rate': 0.2628554773007573, 'gamma': 10.365781222264122, 'reg_lambda': 0.7912276304399358, 'min_child_weight': 2.663823446699927}. Best is trial 199 with value: 0.6296485785863662.\n",
      "[I 2023-12-05 20:38:22,674] Trial 367 finished with value: 0.6186406747430182 and parameters: {'n_estimators': 125, 'max_depth': 6, 'learning_rate': 0.09713900675335985, 'gamma': 16.5493308267859, 'reg_lambda': 0.23164949339536625, 'min_child_weight': 2.5076652253493084}. Best is trial 199 with value: 0.6296485785863662.\n",
      "[I 2023-12-05 20:38:24,561] Trial 368 finished with value: 0.613147368306324 and parameters: {'n_estimators': 334, 'max_depth': 16, 'learning_rate': 0.3999660229100894, 'gamma': 8.559491531460226, 'reg_lambda': 0.3369260629807234, 'min_child_weight': 2.3245098344112654}. Best is trial 199 with value: 0.6296485785863662.\n",
      "[I 2023-12-05 20:38:26,035] Trial 369 finished with value: 0.598641150693609 and parameters: {'n_estimators': 145, 'max_depth': 14, 'learning_rate': 0.5975874936045298, 'gamma': 6.681847051962001, 'reg_lambda': 0.26280137599587156, 'min_child_weight': 3.659451696224198}. Best is trial 199 with value: 0.6296485785863662.\n",
      "[I 2023-12-05 20:38:27,640] Trial 370 finished with value: 0.621039420793253 and parameters: {'n_estimators': 158, 'max_depth': 15, 'learning_rate': 0.17248126331096925, 'gamma': 10.8661331675103, 'reg_lambda': 0.8634399898546209, 'min_child_weight': 3.2001056080352206}. Best is trial 199 with value: 0.6296485785863662.\n",
      "[I 2023-12-05 20:38:29,782] Trial 371 finished with value: 0.6154360162439583 and parameters: {'n_estimators': 465, 'max_depth': 14, 'learning_rate': 0.3545988319862563, 'gamma': 9.862845142361493, 'reg_lambda': 0.4404684401117873, 'min_child_weight': 2.36442529317784}. Best is trial 199 with value: 0.6296485785863662.\n",
      "[I 2023-12-05 20:38:31,611] Trial 372 finished with value: 0.6093720603501563 and parameters: {'n_estimators': 382, 'max_depth': 2, 'learning_rate': 0.2206492717441218, 'gamma': 8.90822860485745, 'reg_lambda': 0.776275384424356, 'min_child_weight': 3.7426135901150768}. Best is trial 199 with value: 0.6296485785863662.\n",
      "[I 2023-12-05 20:38:34,673] Trial 373 finished with value: 0.617654478132202 and parameters: {'n_estimators': 495, 'max_depth': 16, 'learning_rate': 0.042599962349744655, 'gamma': 12.064199862898171, 'reg_lambda': 0.8356092688087982, 'min_child_weight': 2.256752906621586}. Best is trial 199 with value: 0.6296485785863662.\n",
      "[I 2023-12-05 20:38:37,191] Trial 374 finished with value: 0.6278398846982979 and parameters: {'n_estimators': 362, 'max_depth': 15, 'learning_rate': 0.06669485814355502, 'gamma': 10.505777670475378, 'reg_lambda': 0.891553274162726, 'min_child_weight': 1.3425504697071506}. Best is trial 199 with value: 0.6296485785863662.\n",
      "[I 2023-12-05 20:38:39,656] Trial 375 finished with value: 0.6222122360780136 and parameters: {'n_estimators': 376, 'max_depth': 15, 'learning_rate': 0.07549970168909784, 'gamma': 11.233605641507983, 'reg_lambda': 0.9334503771284887, 'min_child_weight': 0.4791928369763727}. Best is trial 199 with value: 0.6296485785863662.\n",
      "[I 2023-12-05 20:38:41,562] Trial 376 finished with value: 0.6103341740113226 and parameters: {'n_estimators': 367, 'max_depth': 13, 'learning_rate': 0.485738996415664, 'gamma': 10.614247386295768, 'reg_lambda': 0.8987568173758621, 'min_child_weight': 0.0017632753466493983}. Best is trial 199 with value: 0.6296485785863662.\n",
      "[I 2023-12-05 20:38:44,043] Trial 377 finished with value: 0.6233273869984443 and parameters: {'n_estimators': 362, 'max_depth': 14, 'learning_rate': 0.0633682300876979, 'gamma': 11.65553528067614, 'reg_lambda': 0.8755386061549014, 'min_child_weight': 0.8169279657000028}. Best is trial 199 with value: 0.6296485785863662.\n",
      "[I 2023-12-05 20:38:46,139] Trial 378 finished with value: 0.6246493013931983 and parameters: {'n_estimators': 351, 'max_depth': 9, 'learning_rate': 0.12372486859217764, 'gamma': 10.101521027304273, 'reg_lambda': 0.8092017747779782, 'min_child_weight': 3.3347622292755568}. Best is trial 199 with value: 0.6296485785863662.\n",
      "[I 2023-12-05 20:38:48,529] Trial 379 finished with value: 0.6238642573112338 and parameters: {'n_estimators': 389, 'max_depth': 12, 'learning_rate': 0.09092359208332693, 'gamma': 9.60558917142434, 'reg_lambda': 0.8935394069403967, 'min_child_weight': 2.5260209291656417}. Best is trial 199 with value: 0.6296485785863662.\n",
      "[I 2023-12-05 20:38:50,434] Trial 380 finished with value: 0.6058070431775501 and parameters: {'n_estimators': 353, 'max_depth': 15, 'learning_rate': 0.719419517826007, 'gamma': 8.152668857852927, 'reg_lambda': 0.4901878709019343, 'min_child_weight': 1.382369595160789}. Best is trial 199 with value: 0.6296485785863662.\n",
      "[I 2023-12-05 20:38:52,434] Trial 381 finished with value: 0.6278296504598725 and parameters: {'n_estimators': 363, 'max_depth': 16, 'learning_rate': 0.20900482428755002, 'gamma': 11.091859384200028, 'reg_lambda': 0.8570322673230713, 'min_child_weight': 1.577157647398427}. Best is trial 199 with value: 0.6296485785863662.\n",
      "[I 2023-12-05 20:38:55,271] Trial 382 finished with value: 0.6236255515029173 and parameters: {'n_estimators': 377, 'max_depth': 16, 'learning_rate': 0.048356395137166955, 'gamma': 10.527866966102001, 'reg_lambda': 0.8506234132428082, 'min_child_weight': 1.6645523738504826}. Best is trial 199 with value: 0.6296485785863662.\n",
      "[I 2023-12-05 20:39:00,343] Trial 383 finished with value: 0.6200079028675327 and parameters: {'n_estimators': 370, 'max_depth': 16, 'learning_rate': 0.02726481340476907, 'gamma': 5.729476738257794, 'reg_lambda': 0.8587506013349736, 'min_child_weight': 0.959695068420084}. Best is trial 199 with value: 0.6296485785863662.\n",
      "[I 2023-12-05 20:39:02,427] Trial 384 finished with value: 0.6252056461911573 and parameters: {'n_estimators': 401, 'max_depth': 16, 'learning_rate': 0.2131529902592395, 'gamma': 11.308210687590021, 'reg_lambda': 0.8310277256209865, 'min_child_weight': 1.2102393671790515}. Best is trial 199 with value: 0.6296485785863662.\n",
      "[I 2023-12-05 20:39:04,768] Trial 385 finished with value: 0.6274813116265985 and parameters: {'n_estimators': 212, 'max_depth': 16, 'learning_rate': 0.06423653089759204, 'gamma': 9.114941814889683, 'reg_lambda': 0.875620670566895, 'min_child_weight': 2.772495293817817}. Best is trial 199 with value: 0.6296485785863662.\n",
      "[I 2023-12-05 20:39:06,840] Trial 386 finished with value: 0.6264256028866095 and parameters: {'n_estimators': 344, 'max_depth': 16, 'learning_rate': 0.16134271829428387, 'gamma': 10.016769030202827, 'reg_lambda': 0.9198140859226717, 'min_child_weight': 1.4236409522414304}. Best is trial 199 with value: 0.6296485785863662.\n",
      "[I 2023-12-05 20:39:08,804] Trial 387 finished with value: 0.6275584590315644 and parameters: {'n_estimators': 364, 'max_depth': 16, 'learning_rate': 0.27506994765344805, 'gamma': 10.884653163835358, 'reg_lambda': 0.07606125259404066, 'min_child_weight': 1.3316198279247522}. Best is trial 199 with value: 0.6296485785863662.\n",
      "[I 2023-12-05 20:39:10,808] Trial 388 finished with value: 0.6224610402189157 and parameters: {'n_estimators': 361, 'max_depth': 13, 'learning_rate': 0.1919546147154334, 'gamma': 12.232937054461432, 'reg_lambda': 0.7976347322505507, 'min_child_weight': 1.5841135753407307}. Best is trial 199 with value: 0.6296485785863662.\n",
      "[I 2023-12-05 20:39:12,706] Trial 389 finished with value: 0.6174488000343196 and parameters: {'n_estimators': 354, 'max_depth': 14, 'learning_rate': 0.31021019847442105, 'gamma': 12.81030508520722, 'reg_lambda': 0.14891491712698907, 'min_child_weight': 2.181710062834912}. Best is trial 199 with value: 0.6296485785863662.\n",
      "[I 2023-12-05 20:39:14,404] Trial 390 finished with value: 0.611843756678713 and parameters: {'n_estimators': 336, 'max_depth': 3, 'learning_rate': 0.3277783995829492, 'gamma': 10.491216502289934, 'reg_lambda': 0.5487689529830917, 'min_child_weight': 0.5034875620300957}. Best is trial 199 with value: 0.6296485785863662.\n",
      "[I 2023-12-05 20:39:16,406] Trial 391 finished with value: 0.6217605808143102 and parameters: {'n_estimators': 350, 'max_depth': 16, 'learning_rate': 0.14154616276161952, 'gamma': 13.824368820852966, 'reg_lambda': 0.22337531724093834, 'min_child_weight': 0.6010585626785538}. Best is trial 199 with value: 0.6296485785863662.\n",
      "[I 2023-12-05 20:39:18,989] Trial 392 finished with value: 0.6184913435754888 and parameters: {'n_estimators': 320, 'max_depth': 14, 'learning_rate': 0.04092865997774222, 'gamma': 14.551109492347452, 'reg_lambda': 0.8222794943914791, 'min_child_weight': 2.4619634302164446}. Best is trial 199 with value: 0.6296485785863662.\n",
      "[I 2023-12-05 20:39:21,448] Trial 393 finished with value: 0.6272848307742102 and parameters: {'n_estimators': 372, 'max_depth': 15, 'learning_rate': 0.07237859432478494, 'gamma': 11.79433379213501, 'reg_lambda': 0.4596103628521118, 'min_child_weight': 1.5025692351226578}. Best is trial 199 with value: 0.6296485785863662.\n",
      "[I 2023-12-05 20:39:24,397] Trial 394 finished with value: 0.6263732421403254 and parameters: {'n_estimators': 103, 'max_depth': 14, 'learning_rate': 0.026009621362542593, 'gamma': 9.669576217640666, 'reg_lambda': 0.9755910625086323, 'min_child_weight': 1.1862875393668748}. Best is trial 199 with value: 0.6296485785863662.\n",
      "[I 2023-12-05 20:39:27,357] Trial 395 finished with value: 0.6217523199317405 and parameters: {'n_estimators': 307, 'max_depth': 16, 'learning_rate': 0.05649606323092554, 'gamma': 7.204042534062204, 'reg_lambda': 0.6667265058387658, 'min_child_weight': 0.9563494202339526}. Best is trial 199 with value: 0.6296485785863662.\n",
      "[I 2023-12-05 20:39:29,166] Trial 396 finished with value: 0.6165518112318311 and parameters: {'n_estimators': 328, 'max_depth': 14, 'learning_rate': 0.5268355612181546, 'gamma': 11.106864929582754, 'reg_lambda': 0.3514808658733081, 'min_child_weight': 0.16329215830777066}. Best is trial 199 with value: 0.6296485785863662.\n",
      "[I 2023-12-05 20:39:30,978] Trial 397 finished with value: 0.6264471726584444 and parameters: {'n_estimators': 67, 'max_depth': 13, 'learning_rate': 0.08136085437511792, 'gamma': 10.314147202155622, 'reg_lambda': 0.9076434097783691, 'min_child_weight': 2.014338994176232}. Best is trial 199 with value: 0.6296485785863662.\n",
      "[I 2023-12-05 20:39:34,108] Trial 398 finished with value: 0.6250564051618797 and parameters: {'n_estimators': 342, 'max_depth': 15, 'learning_rate': 0.04368945812648435, 'gamma': 8.59141395660822, 'reg_lambda': 0.6043378814454878, 'min_child_weight': 0.8604712611380083}. Best is trial 199 with value: 0.6296485785863662.\n",
      "[I 2023-12-05 20:39:35,511] Trial 399 finished with value: 0.5989464554204591 and parameters: {'n_estimators': 84, 'max_depth': 16, 'learning_rate': 0.816997072005619, 'gamma': 9.379708893720938, 'reg_lambda': 0.1897372796981761, 'min_child_weight': 0.6690538291149042}. Best is trial 199 with value: 0.6296485785863662.\n",
      "[I 2023-12-05 20:39:37,452] Trial 400 finished with value: 0.6245934308270489 and parameters: {'n_estimators': 199, 'max_depth': 15, 'learning_rate': 0.10388098557186745, 'gamma': 9.948269905622213, 'reg_lambda': 0.2864698130811998, 'min_child_weight': 2.2429936823493453}. Best is trial 199 with value: 0.6296485785863662.\n",
      "[I 2023-12-05 20:39:39,298] Trial 401 finished with value: 0.6227659086418983 and parameters: {'n_estimators': 364, 'max_depth': 14, 'learning_rate': 0.4427070703834048, 'gamma': 15.123494651638836, 'reg_lambda': 0.9479274161057824, 'min_child_weight': 1.6915688667451012}. Best is trial 199 with value: 0.6296485785863662.\n",
      "[I 2023-12-05 20:39:45,656] Trial 402 finished with value: 0.6278012630469404 and parameters: {'n_estimators': 384, 'max_depth': 16, 'learning_rate': 0.0106684507887152, 'gamma': 10.755174805182197, 'reg_lambda': 0.1041593125184509, 'min_child_weight': 2.40667242581962}. Best is trial 199 with value: 0.6296485785863662.\n",
      "[I 2023-12-05 20:39:49,134] Trial 403 finished with value: 0.6253453796102012 and parameters: {'n_estimators': 314, 'max_depth': 16, 'learning_rate': 0.02679607843027923, 'gamma': 11.422114170414991, 'reg_lambda': 0.06920318002795789, 'min_child_weight': 0.26123863652926005}. Best is trial 199 with value: 0.6296485785863662.\n",
      "[I 2023-12-05 20:39:50,578] Trial 404 finished with value: 0.6267282681013525 and parameters: {'n_estimators': 113, 'max_depth': 16, 'learning_rate': 0.29394155761794305, 'gamma': 10.775266624425967, 'reg_lambda': 0.4267556973318442, 'min_child_weight': 1.0020045095982633}. Best is trial 199 with value: 0.6296485785863662.\n",
      "[I 2023-12-05 20:39:53,401] Trial 405 finished with value: 0.6257512118197777 and parameters: {'n_estimators': 388, 'max_depth': 16, 'learning_rate': 0.06194394062776486, 'gamma': 11.055143594981775, 'reg_lambda': 0.09853255910528347, 'min_child_weight': 2.6588971583102996}. Best is trial 199 with value: 0.6296485785863662.\n",
      "[I 2023-12-05 20:39:55,733] Trial 406 finished with value: 0.6244018776165919 and parameters: {'n_estimators': 416, 'max_depth': 16, 'learning_rate': 0.1207293177242263, 'gamma': 10.514469320416074, 'reg_lambda': 0.1168098680028478, 'min_child_weight': 2.4202502988973915}. Best is trial 199 with value: 0.6296485785863662.\n",
      "[I 2023-12-05 20:39:58,001] Trial 407 finished with value: 0.609711460755073 and parameters: {'n_estimators': 382, 'max_depth': 16, 'learning_rate': 0.5047001043166482, 'gamma': 18.06349038001901, 'reg_lambda': 0.0070631696546266665, 'min_child_weight': 1.912325057047792}. Best is trial 199 with value: 0.6296485785863662.\n",
      "[I 2023-12-05 20:40:00,308] Trial 408 finished with value: 0.6265668183932682 and parameters: {'n_estimators': 378, 'max_depth': 13, 'learning_rate': 0.09297934215321343, 'gamma': 11.632894393370712, 'reg_lambda': 0.8899897020196651, 'min_child_weight': 0.5102986978491688}. Best is trial 199 with value: 0.6296485785863662.\n",
      "[I 2023-12-05 20:40:02,152] Trial 409 finished with value: 0.6183508865489017 and parameters: {'n_estimators': 180, 'max_depth': 16, 'learning_rate': 0.16991237354625272, 'gamma': 7.963863335440072, 'reg_lambda': 0.043981477780002165, 'min_child_weight': 2.4007844600999086}. Best is trial 199 with value: 0.6296485785863662.\n",
      "[I 2023-12-05 20:40:06,346] Trial 410 finished with value: 0.6121701060627556 and parameters: {'n_estimators': 118, 'max_depth': 14, 'learning_rate': 0.042575089233005604, 'gamma': 4.223872877421436, 'reg_lambda': 0.0918388629742665, 'min_child_weight': 0.2611651968914418}. Best is trial 199 with value: 0.6296485785863662.\n",
      "[I 2023-12-05 20:40:09,806] Trial 411 finished with value: 0.623434892135277 and parameters: {'n_estimators': 338, 'max_depth': 14, 'learning_rate': 0.027624860257922882, 'gamma': 10.695388578254269, 'reg_lambda': 0.855205538847124, 'min_child_weight': 2.3434772250315743}. Best is trial 199 with value: 0.6296485785863662.\n",
      "[I 2023-12-05 20:40:12,355] Trial 412 finished with value: 0.6256685555975133 and parameters: {'n_estimators': 400, 'max_depth': 13, 'learning_rate': 0.07680497503887, 'gamma': 10.216115069575848, 'reg_lambda': 0.11454732061349748, 'min_child_weight': 2.5914148508143073}. Best is trial 199 with value: 0.6296485785863662.\n",
      "[I 2023-12-05 20:40:14,279] Trial 413 finished with value: 0.6093479871118086 and parameters: {'n_estimators': 389, 'max_depth': 16, 'learning_rate': 0.6227538798326245, 'gamma': 11.067044426292195, 'reg_lambda': 0.03094971517104503, 'min_child_weight': 0.794387022388154}. Best is trial 199 with value: 0.6296485785863662.\n",
      "[I 2023-12-05 20:40:16,070] Trial 414 finished with value: 0.6246754946134105 and parameters: {'n_estimators': 325, 'max_depth': 14, 'learning_rate': 0.46557242093819245, 'gamma': 11.398724428798452, 'reg_lambda': 0.276591632615624, 'min_child_weight': 1.14413474957824}. Best is trial 199 with value: 0.6296485785863662.\n",
      "[I 2023-12-05 20:40:19,217] Trial 415 finished with value: 0.6189324577630456 and parameters: {'n_estimators': 345, 'max_depth': 16, 'learning_rate': 0.048354238172684534, 'gamma': 7.521244402892938, 'reg_lambda': 0.6320064647215834, 'min_child_weight': 2.0903167196778294}. Best is trial 199 with value: 0.6296485785863662.\n",
      "[I 2023-12-05 20:40:20,725] Trial 416 finished with value: 0.6257671577951996 and parameters: {'n_estimators': 98, 'max_depth': 15, 'learning_rate': 0.21378678699722767, 'gamma': 10.357777065788703, 'reg_lambda': 0.05731250183138949, 'min_child_weight': 0.8588806805980322}. Best is trial 199 with value: 0.6296485785863662.\n",
      "[I 2023-12-05 20:40:22,488] Trial 417 finished with value: 0.6069180859797443 and parameters: {'n_estimators': 317, 'max_depth': 14, 'learning_rate': 0.5476649436737694, 'gamma': 13.342814232330266, 'reg_lambda': 0.04580547630337691, 'min_child_weight': 2.191886565414604}. Best is trial 199 with value: 0.6296485785863662.\n",
      "[I 2023-12-05 20:40:27,042] Trial 418 finished with value: 0.6171210622741883 and parameters: {'n_estimators': 184, 'max_depth': 16, 'learning_rate': 0.011876971783810102, 'gamma': 10.69811956957548, 'reg_lambda': 0.15435355430053965, 'min_child_weight': 1.432366792678896}. Best is trial 199 with value: 0.6296485785863662.\n",
      "[I 2023-12-05 20:40:29,249] Trial 419 finished with value: 0.6245341012198027 and parameters: {'n_estimators': 195, 'max_depth': 15, 'learning_rate': 0.05897364520761045, 'gamma': 11.922114035778485, 'reg_lambda': 0.39841412030690304, 'min_child_weight': 1.1503903547573742}. Best is trial 199 with value: 0.6296485785863662.\n",
      "[I 2023-12-05 20:40:31,624] Trial 420 finished with value: 0.627225988633835 and parameters: {'n_estimators': 374, 'max_depth': 12, 'learning_rate': 0.09212198503627378, 'gamma': 9.876545238512856, 'reg_lambda': 0.8332071657873626, 'min_child_weight': 1.7764937369893035}. Best is trial 199 with value: 0.6296485785863662.\n",
      "[I 2023-12-05 20:40:33,633] Trial 421 finished with value: 0.6227549549923663 and parameters: {'n_estimators': 332, 'max_depth': 14, 'learning_rate': 0.1449826489805809, 'gamma': 12.287117404994767, 'reg_lambda': 0.3744188395420408, 'min_child_weight': 1.886050608747666}. Best is trial 199 with value: 0.6296485785863662.\n",
      "[I 2023-12-05 20:40:35,676] Trial 422 finished with value: 0.6179861176818621 and parameters: {'n_estimators': 430, 'max_depth': 15, 'learning_rate': 0.3883932148341846, 'gamma': 10.919799733043607, 'reg_lambda': 0.6900094079080689, 'min_child_weight': 2.4962689499931554}. Best is trial 199 with value: 0.6296485785863662.\n",
      "[I 2023-12-05 20:40:38,403] Trial 423 finished with value: 0.6140718384638225 and parameters: {'n_estimators': 57, 'max_depth': 14, 'learning_rate': 0.029898388491202677, 'gamma': 6.565541964474385, 'reg_lambda': 0.8087239715963551, 'min_child_weight': 1.3447905031285285}. Best is trial 199 with value: 0.6296485785863662.\n",
      "[I 2023-12-05 20:40:40,645] Trial 424 finished with value: 0.6170970063409639 and parameters: {'n_estimators': 354, 'max_depth': 10, 'learning_rate': 0.06893745868041434, 'gamma': 17.141403586600255, 'reg_lambda': 0.040409946710854044, 'min_child_weight': 0.6306021476200935}. Best is trial 199 with value: 0.6296485785863662.\n",
      "[I 2023-12-05 20:40:42,179] Trial 425 finished with value: 0.6028410746676881 and parameters: {'n_estimators': 169, 'max_depth': 13, 'learning_rate': 0.8635223655712417, 'gamma': 5.597076079273467, 'reg_lambda': 0.8717553620107739, 'min_child_weight': 3.954398527394635}. Best is trial 199 with value: 0.6296485785863662.\n",
      "[I 2023-12-05 20:40:43,628] Trial 426 finished with value: 0.6191132963454 and parameters: {'n_estimators': 130, 'max_depth': 16, 'learning_rate': 0.41528736978397657, 'gamma': 10.264711494538469, 'reg_lambda': 0.004823043221334294, 'min_child_weight': 2.2591514577705425}. Best is trial 199 with value: 0.6296485785863662.\n",
      "[I 2023-12-05 20:40:45,345] Trial 427 finished with value: 0.6235442788517791 and parameters: {'n_estimators': 297, 'max_depth': 11, 'learning_rate': 0.369457842628186, 'gamma': 15.653075885944222, 'reg_lambda': 0.07127469508208423, 'min_child_weight': 2.609564032557318}. Best is trial 199 with value: 0.6296485785863662.\n",
      "[I 2023-12-05 20:40:48,743] Trial 428 finished with value: 0.6216349455566077 and parameters: {'n_estimators': 346, 'max_depth': 15, 'learning_rate': 0.044557749588770415, 'gamma': 7.117971565801186, 'reg_lambda': 0.13168746695301783, 'min_child_weight': 1.5704366632309257}. Best is trial 199 with value: 0.6296485785863662.\n",
      "[I 2023-12-05 20:40:50,461] Trial 429 finished with value: 0.60622005360374 and parameters: {'n_estimators': 306, 'max_depth': 16, 'learning_rate': 0.7446220574040657, 'gamma': 11.427894182540122, 'reg_lambda': 0.7923591064832471, 'min_child_weight': 1.944189940910238}. Best is trial 199 with value: 0.6296485785863662.\n",
      "[I 2023-12-05 20:40:51,893] Trial 430 finished with value: 0.6114479470443485 and parameters: {'n_estimators': 70, 'max_depth': 14, 'learning_rate': 0.11794705995770097, 'gamma': 19.2207459498883, 'reg_lambda': 0.8405307034708605, 'min_child_weight': 1.3351383798358543}. Best is trial 199 with value: 0.6296485785863662.\n",
      "[I 2023-12-05 20:40:53,465] Trial 431 finished with value: 0.6098971299450986 and parameters: {'n_estimators': 224, 'max_depth': 15, 'learning_rate': 0.6845375265235792, 'gamma': 9.820793797205832, 'reg_lambda': 0.02394385719409608, 'min_child_weight': 3.0529498472161305}. Best is trial 199 with value: 0.6296485785863662.\n",
      "[I 2023-12-05 20:40:57,009] Trial 432 finished with value: 0.6227967856649668 and parameters: {'n_estimators': 364, 'max_depth': 14, 'learning_rate': 0.024499856409729737, 'gamma': 12.619388689116056, 'reg_lambda': 0.30377273105422664, 'min_child_weight': 1.083276656639848}. Best is trial 199 with value: 0.6296485785863662.\n",
      "[I 2023-12-05 20:41:00,173] Trial 433 finished with value: 0.6200478446233125 and parameters: {'n_estimators': 384, 'max_depth': 13, 'learning_rate': 0.07799792473485914, 'gamma': 5.104696017723379, 'reg_lambda': 0.644465328300389, 'min_child_weight': 0.35269851113448836}. Best is trial 199 with value: 0.6296485785863662.\n",
      "[I 2023-12-05 20:41:01,607] Trial 434 finished with value: 0.6197036054682062 and parameters: {'n_estimators': 120, 'max_depth': 15, 'learning_rate': 0.5607180423478932, 'gamma': 10.618257293764886, 'reg_lambda': 0.08925662838429793, 'min_child_weight': 1.2362056508517747}. Best is trial 199 with value: 0.6296485785863662.\n",
      "[I 2023-12-05 20:41:04,448] Trial 435 finished with value: 0.6209891646195932 and parameters: {'n_estimators': 329, 'max_depth': 16, 'learning_rate': 0.05530442919177593, 'gamma': 8.969582859534441, 'reg_lambda': 0.23949771222557537, 'min_child_weight': 0.9164280102578384}. Best is trial 199 with value: 0.6296485785863662.\n",
      "[I 2023-12-05 20:41:07,488] Trial 436 finished with value: 0.6256798608568246 and parameters: {'n_estimators': 407, 'max_depth': 14, 'learning_rate': 0.039486123003285564, 'gamma': 11.084543860271694, 'reg_lambda': 0.7723026242742208, 'min_child_weight': 4.1118902455229644}. Best is trial 199 with value: 0.6296485785863662.\n",
      "[I 2023-12-05 20:41:10,918] Trial 437 finished with value: 0.6134733580325205 and parameters: {'n_estimators': 107, 'max_depth': 15, 'learning_rate': 0.013334559924137554, 'gamma': 10.120324494676298, 'reg_lambda': 0.5825528974603158, 'min_child_weight': 1.0308420948217751}. Best is trial 199 with value: 0.6296485785863662.\n",
      "[I 2023-12-05 20:41:12,790] Trial 438 finished with value: 0.6122303361442419 and parameters: {'n_estimators': 338, 'max_depth': 16, 'learning_rate': 0.5901973402892995, 'gamma': 9.582732273022481, 'reg_lambda': 0.17033099484973713, 'min_child_weight': 1.2589419373339616}. Best is trial 199 with value: 0.6296485785863662.\n",
      "[I 2023-12-05 20:41:14,981] Trial 439 finished with value: 0.6233709556830624 and parameters: {'n_estimators': 356, 'max_depth': 15, 'learning_rate': 0.10203798608192155, 'gamma': 11.84491884350798, 'reg_lambda': 0.06365908068854065, 'min_child_weight': 0.5707861022831713}. Best is trial 199 with value: 0.6296485785863662.\n",
      "[I 2023-12-05 20:41:16,879] Trial 440 finished with value: 0.6207164623396543 and parameters: {'n_estimators': 322, 'max_depth': 13, 'learning_rate': 0.1849453105535017, 'gamma': 14.596930341681913, 'reg_lambda': 0.4810982795450389, 'min_child_weight': 2.7633072589628376}. Best is trial 199 with value: 0.6296485785863662.\n",
      "[I 2023-12-05 20:41:19,433] Trial 441 finished with value: 0.62968640900569 and parameters: {'n_estimators': 373, 'max_depth': 14, 'learning_rate': 0.06799695837186305, 'gamma': 10.468409983283754, 'reg_lambda': 0.5245414229896669, 'min_child_weight': 1.786290468778316}. Best is trial 441 with value: 0.62968640900569.\n",
      "[I 2023-12-05 20:41:21,435] Trial 442 finished with value: 0.6259565797728446 and parameters: {'n_estimators': 368, 'max_depth': 14, 'learning_rate': 0.2552658035726519, 'gamma': 10.675506248964416, 'reg_lambda': 0.5123742001211774, 'min_child_weight': 1.5530986272250333}. Best is trial 441 with value: 0.62968640900569.\n",
      "[I 2023-12-05 20:41:23,316] Trial 443 finished with value: 0.6121846008723393 and parameters: {'n_estimators': 382, 'max_depth': 14, 'learning_rate': 0.9244704926622391, 'gamma': 11.238417058028482, 'reg_lambda': 0.5074141308247639, 'min_child_weight': 0.42540215097859424}. Best is trial 441 with value: 0.62968640900569.\n",
      "[I 2023-12-05 20:41:25,767] Trial 444 finished with value: 0.6279258827799199 and parameters: {'n_estimators': 390, 'max_depth': 14, 'learning_rate': 0.08345889789026888, 'gamma': 10.388044825798005, 'reg_lambda': 0.4677120950924217, 'min_child_weight': 1.7650060331599284}. Best is trial 441 with value: 0.62968640900569.\n",
      "[I 2023-12-05 20:41:28,178] Trial 445 finished with value: 0.6258124866624539 and parameters: {'n_estimators': 396, 'max_depth': 13, 'learning_rate': 0.08944560580981144, 'gamma': 10.286113860657158, 'reg_lambda': 0.5618501716688301, 'min_child_weight': 1.8278976781106728}. Best is trial 441 with value: 0.62968640900569.\n",
      "[I 2023-12-05 20:41:30,433] Trial 446 finished with value: 0.6253453182434895 and parameters: {'n_estimators': 391, 'max_depth': 14, 'learning_rate': 0.12450032287409882, 'gamma': 10.384918703660471, 'reg_lambda': 0.545707955703746, 'min_child_weight': 1.937446717665404}. Best is trial 441 with value: 0.62968640900569.\n",
      "[I 2023-12-05 20:41:32,967] Trial 447 finished with value: 0.6247912118107598 and parameters: {'n_estimators': 379, 'max_depth': 14, 'learning_rate': 0.07538756583758655, 'gamma': 9.987434131372435, 'reg_lambda': 0.457807092932716, 'min_child_weight': 1.6794352271667887}. Best is trial 441 with value: 0.62968640900569.\n",
      "[I 2023-12-05 20:41:35,421] Trial 448 finished with value: 0.6273394845836687 and parameters: {'n_estimators': 400, 'max_depth': 14, 'learning_rate': 0.10372072698690975, 'gamma': 10.742060665327621, 'reg_lambda': 0.3603709962899626, 'min_child_weight': 1.6072168297853855}. Best is trial 441 with value: 0.62968640900569.\n",
      "[I 2023-12-05 20:41:37,871] Trial 449 finished with value: 0.615322740410476 and parameters: {'n_estimators': 385, 'max_depth': 14, 'learning_rate': 0.14435631831474227, 'gamma': 5.9538068739538925, 'reg_lambda': 0.2193882562687809, 'min_child_weight': 2.0959213353364206}. Best is trial 441 with value: 0.62968640900569.\n",
      "[I 2023-12-05 20:41:40,488] Trial 450 finished with value: 0.6262081973912126 and parameters: {'n_estimators': 374, 'max_depth': 13, 'learning_rate': 0.06321157531393681, 'gamma': 10.45081416224826, 'reg_lambda': 0.4143382794360403, 'min_child_weight': 1.737871646994773}. Best is trial 441 with value: 0.62968640900569.\n",
      "[I 2023-12-05 20:41:42,457] Trial 451 finished with value: 0.6205363995985775 and parameters: {'n_estimators': 395, 'max_depth': 14, 'learning_rate': 0.47574865672765176, 'gamma': 10.09801992981365, 'reg_lambda': 0.662218586481782, 'min_child_weight': 1.7817089515344593}. Best is trial 441 with value: 0.62968640900569.\n",
      "[I 2023-12-05 20:41:44,642] Trial 452 finished with value: 0.6236494048156217 and parameters: {'n_estimators': 131, 'max_depth': 14, 'learning_rate': 0.08589663270696656, 'gamma': 6.830457221945743, 'reg_lambda': 0.47904021026661886, 'min_child_weight': 1.8210280797264704}. Best is trial 441 with value: 0.62968640900569.\n",
      "[I 2023-12-05 20:41:46,317] Trial 453 finished with value: 0.6258673778476751 and parameters: {'n_estimators': 90, 'max_depth': 13, 'learning_rate': 0.11325624180387209, 'gamma': 10.799317853356538, 'reg_lambda': 0.10702346995612354, 'min_child_weight': 0.6898473981017409}. Best is trial 441 with value: 0.62968640900569.\n",
      "[I 2023-12-05 20:41:48,318] Trial 454 finished with value: 0.6210744514715177 and parameters: {'n_estimators': 372, 'max_depth': 14, 'learning_rate': 0.24875932460932712, 'gamma': 9.819365216336035, 'reg_lambda': 0.43512380404288203, 'min_child_weight': 1.438721513653543}. Best is trial 441 with value: 0.62968640900569.\n",
      "[I 2023-12-05 20:41:49,781] Trial 455 finished with value: 0.619162546554879 and parameters: {'n_estimators': 137, 'max_depth': 12, 'learning_rate': 0.3160935750852629, 'gamma': 11.502552949684981, 'reg_lambda': 0.5755049943864565, 'min_child_weight': 1.7387157674121483}. Best is trial 441 with value: 0.62968640900569.\n",
      "[I 2023-12-05 20:41:51,346] Trial 456 finished with value: 0.6254582968161556 and parameters: {'n_estimators': 175, 'max_depth': 14, 'learning_rate': 0.2071917424041469, 'gamma': 13.163782672648114, 'reg_lambda': 0.5235151315130854, 'min_child_weight': 2.2210232011642836}. Best is trial 441 with value: 0.62968640900569.\n",
      "[I 2023-12-05 20:41:53,623] Trial 457 finished with value: 0.5799921380356621 and parameters: {'n_estimators': 191, 'max_depth': 13, 'learning_rate': 0.3255293231458727, 'gamma': 1.2987134184724916, 'reg_lambda': 0.20953409628346154, 'min_child_weight': 1.6372727172001478}. Best is trial 441 with value: 0.62968640900569.\n",
      "[I 2023-12-05 20:41:55,549] Trial 458 finished with value: 0.6189751042764573 and parameters: {'n_estimators': 406, 'max_depth': 14, 'learning_rate': 0.36046427931154046, 'gamma': 16.739766573121592, 'reg_lambda': 0.13744212660549449, 'min_child_weight': 1.9815243199175891}. Best is trial 441 with value: 0.62968640900569.\n",
      "[I 2023-12-05 20:41:57,968] Trial 459 finished with value: 0.6216381351280192 and parameters: {'n_estimators': 386, 'max_depth': 14, 'learning_rate': 0.06200528002831329, 'gamma': 14.08761542884676, 'reg_lambda': 0.2389826940016225, 'min_child_weight': 4.600627446404436}. Best is trial 441 with value: 0.62968640900569.\n",
      "[I 2023-12-05 20:41:59,452] Trial 460 finished with value: 0.6141925870933461 and parameters: {'n_estimators': 122, 'max_depth': 16, 'learning_rate': 0.4351976405096953, 'gamma': 7.6048558578031304, 'reg_lambda': 0.056666983943427604, 'min_child_weight': 4.367545235910332}. Best is trial 441 with value: 0.62968640900569.\n",
      "[I 2023-12-05 20:42:01,263] Trial 461 finished with value: 0.6016556085240529 and parameters: {'n_estimators': 165, 'max_depth': 14, 'learning_rate': 0.45350295960165943, 'gamma': 3.8469955245119696, 'reg_lambda': 0.5333683747634043, 'min_child_weight': 0.7515862189244942}. Best is trial 441 with value: 0.62968640900569.\n",
      "[I 2023-12-05 20:42:02,592] Trial 462 finished with value: 0.6238150728760316 and parameters: {'n_estimators': 83, 'max_depth': 14, 'learning_rate': 0.4910585366902056, 'gamma': 9.297245726611377, 'reg_lambda': 0.3732263614097573, 'min_child_weight': 1.541727254743876}. Best is trial 441 with value: 0.62968640900569.\n",
      "[I 2023-12-05 20:42:04,303] Trial 463 finished with value: 0.627775252962417 and parameters: {'n_estimators': 63, 'max_depth': 16, 'learning_rate': 0.08397490597880966, 'gamma': 11.002105736632982, 'reg_lambda': 0.6157103357431362, 'min_child_weight': 2.8943522749716966}. Best is trial 441 with value: 0.62968640900569.\n",
      "[I 2023-12-05 20:42:05,831] Trial 464 finished with value: 0.6247992536220588 and parameters: {'n_estimators': 62, 'max_depth': 13, 'learning_rate': 0.12695179628497996, 'gamma': 11.020396564748149, 'reg_lambda': 0.3141631584833944, 'min_child_weight': 2.3808072641167173}. Best is trial 441 with value: 0.62968640900569.\n",
      "[I 2023-12-05 20:42:08,110] Trial 465 finished with value: 0.6286853925133323 and parameters: {'n_estimators': 376, 'max_depth': 16, 'learning_rate': 0.10044972025109764, 'gamma': 10.593654141073717, 'reg_lambda': 0.6104540334367048, 'min_child_weight': 3.174469313717613}. Best is trial 441 with value: 0.62968640900569.\n",
      "[I 2023-12-05 20:42:10,000] Trial 466 finished with value: 0.603134279021341 and parameters: {'n_estimators': 382, 'max_depth': 16, 'learning_rate': 0.8876710598413344, 'gamma': 10.928924543798487, 'reg_lambda': 0.6992147468659778, 'min_child_weight': 2.974887089958035}. Best is trial 441 with value: 0.62968640900569.\n",
      "[I 2023-12-05 20:42:12,264] Trial 467 finished with value: 0.6278019586132398 and parameters: {'n_estimators': 371, 'max_depth': 16, 'learning_rate': 0.10563237879380735, 'gamma': 10.515722976573107, 'reg_lambda': 0.6102679280521572, 'min_child_weight': 3.0490278864498457}. Best is trial 441 with value: 0.62968640900569.\n",
      "[I 2023-12-05 20:42:14,385] Trial 468 finished with value: 0.6296117902213898 and parameters: {'n_estimators': 375, 'max_depth': 16, 'learning_rate': 0.1618849346342842, 'gamma': 10.508638259498612, 'reg_lambda': 0.6218992694331025, 'min_child_weight': 2.077741112241531}. Best is trial 441 with value: 0.62968640900569.\n",
      "[I 2023-12-05 20:42:16,467] Trial 469 finished with value: 0.6274105633124053 and parameters: {'n_estimators': 374, 'max_depth': 16, 'learning_rate': 0.17576788465383497, 'gamma': 10.365076873534575, 'reg_lambda': 0.581216122529649, 'min_child_weight': 2.1815964994873216}. Best is trial 441 with value: 0.62968640900569.\n",
      "[I 2023-12-05 20:42:18,651] Trial 470 finished with value: 0.6252808576594113 and parameters: {'n_estimators': 365, 'max_depth': 16, 'learning_rate': 0.13072372961097634, 'gamma': 10.368247080439767, 'reg_lambda': 0.5930845794428395, 'min_child_weight': 3.051262520966815}. Best is trial 441 with value: 0.62968640900569.\n",
      "[I 2023-12-05 20:42:20,727] Trial 471 finished with value: 0.622256530101985 and parameters: {'n_estimators': 373, 'max_depth': 8, 'learning_rate': 0.11337248821129417, 'gamma': 13.623620382329255, 'reg_lambda': 0.6332113670830449, 'min_child_weight': 3.2381843964064463}. Best is trial 441 with value: 0.62968640900569.\n",
      "[I 2023-12-05 20:42:22,855] Trial 472 finished with value: 0.627442648998963 and parameters: {'n_estimators': 363, 'max_depth': 16, 'learning_rate': 0.1519154663263684, 'gamma': 10.04511988233719, 'reg_lambda': 0.5383542861324536, 'min_child_weight': 3.15454804151357}. Best is trial 441 with value: 0.62968640900569.\n",
      "[I 2023-12-05 20:42:24,918] Trial 473 finished with value: 0.62869361576447 and parameters: {'n_estimators': 360, 'max_depth': 16, 'learning_rate': 0.1558821752917942, 'gamma': 10.485432455148489, 'reg_lambda': 0.5597789646196961, 'min_child_weight': 3.1327145685221676}. Best is trial 441 with value: 0.62968640900569.\n",
      "[I 2023-12-05 20:42:26,975] Trial 474 finished with value: 0.6275724806834747 and parameters: {'n_estimators': 359, 'max_depth': 16, 'learning_rate': 0.1500825495633052, 'gamma': 11.372818743079035, 'reg_lambda': 0.26010962548524036, 'min_child_weight': 3.820937823126285}. Best is trial 441 with value: 0.62968640900569.\n",
      "[I 2023-12-05 20:42:29,047] Trial 475 finished with value: 0.6262861030591255 and parameters: {'n_estimators': 352, 'max_depth': 16, 'learning_rate': 0.17397014750256679, 'gamma': 9.795847323018648, 'reg_lambda': 0.5642923612840127, 'min_child_weight': 1.9115023141585508}. Best is trial 441 with value: 0.62968640900569.\n",
      "[I 2023-12-05 20:42:30,899] Trial 476 finished with value: 0.619303694064816 and parameters: {'n_estimators': 360, 'max_depth': 16, 'learning_rate': 0.5226266958971084, 'gamma': 10.457321954137212, 'reg_lambda': 0.5282827822791556, 'min_child_weight': 3.1916836567863265}. Best is trial 441 with value: 0.62968640900569.\n",
      "[I 2023-12-05 20:42:32,870] Trial 477 finished with value: 0.6280534758755768 and parameters: {'n_estimators': 366, 'max_depth': 16, 'learning_rate': 0.20851548719624474, 'gamma': 14.820632118530575, 'reg_lambda': 0.5498667857871239, 'min_child_weight': 2.0932866167961866}. Best is trial 441 with value: 0.62968640900569.\n",
      "[I 2023-12-05 20:42:34,886] Trial 478 finished with value: 0.6224955149800995 and parameters: {'n_estimators': 391, 'max_depth': 15, 'learning_rate': 0.20038532906719603, 'gamma': 14.436690273804412, 'reg_lambda': 0.5512729855383282, 'min_child_weight': 2.0718085665585546}. Best is trial 441 with value: 0.62968640900569.\n",
      "[I 2023-12-05 20:42:36,962] Trial 479 finished with value: 0.6255641231099607 and parameters: {'n_estimators': 349, 'max_depth': 13, 'learning_rate': 0.16732923101181368, 'gamma': 9.91753113397813, 'reg_lambda': 0.49838647803055813, 'min_child_weight': 2.2855156023272936}. Best is trial 441 with value: 0.62968640900569.\n",
      "[I 2023-12-05 20:42:39,035] Trial 480 finished with value: 0.6240257995730287 and parameters: {'n_estimators': 378, 'max_depth': 16, 'learning_rate': 0.13044661451971135, 'gamma': 13.624006370634273, 'reg_lambda': 0.5570214368179144, 'min_child_weight': 1.8535526980820374}. Best is trial 441 with value: 0.62968640900569.\n",
      "[I 2023-12-05 20:42:40,886] Trial 481 finished with value: 0.6117630775744767 and parameters: {'n_estimators': 367, 'max_depth': 15, 'learning_rate': 0.6362880399248645, 'gamma': 13.850275562781334, 'reg_lambda': 0.17954248985329357, 'min_child_weight': 2.0179109378011284}. Best is trial 441 with value: 0.62968640900569.\n",
      "[I 2023-12-05 20:42:42,792] Trial 482 finished with value: 0.6211879751360658 and parameters: {'n_estimators': 240, 'max_depth': 16, 'learning_rate': 0.09615354394557754, 'gamma': 14.959732014524386, 'reg_lambda': 0.6044020891712298, 'min_child_weight': 3.2548587277548284}. Best is trial 441 with value: 0.62968640900569.\n",
      "[I 2023-12-05 20:42:44,688] Trial 483 finished with value: 0.6199604800669792 and parameters: {'n_estimators': 375, 'max_depth': 14, 'learning_rate': 0.3852848732708678, 'gamma': 14.825196756791723, 'reg_lambda': 0.5777078328040729, 'min_child_weight': 2.0720918734815306}. Best is trial 441 with value: 0.62968640900569.\n",
      "[I 2023-12-05 20:42:46,885] Trial 484 finished with value: 0.6273693356495667 and parameters: {'n_estimators': 343, 'max_depth': 12, 'learning_rate': 0.09148133534582692, 'gamma': 12.092589153361388, 'reg_lambda': 0.5442887151477401, 'min_child_weight': 4.042444266217792}. Best is trial 441 with value: 0.62968640900569.\n",
      "[I 2023-12-05 20:42:49,029] Trial 485 finished with value: 0.6169993577098574 and parameters: {'n_estimators': 358, 'max_depth': 15, 'learning_rate': 0.07360734815877092, 'gamma': 17.966142621226204, 'reg_lambda': 0.6578563036998968, 'min_child_weight': 2.125464525076237}. Best is trial 441 with value: 0.62968640900569.\n",
      "[I 2023-12-05 20:42:51,094] Trial 486 finished with value: 0.6171353207948682 and parameters: {'n_estimators': 369, 'max_depth': 14, 'learning_rate': 0.13507718768974358, 'gamma': 14.220902036620345, 'reg_lambda': 0.5208290487448959, 'min_child_weight': 0.10102969599488278}. Best is trial 441 with value: 0.62968640900569.\n",
      "[I 2023-12-05 20:42:53,254] Trial 487 finished with value: 0.6260779956716443 and parameters: {'n_estimators': 390, 'max_depth': 15, 'learning_rate': 0.15133558475189937, 'gamma': 10.069635256517655, 'reg_lambda': 0.7215391693707767, 'min_child_weight': 4.214178485960065}. Best is trial 441 with value: 0.62968640900569.\n",
      "[I 2023-12-05 20:42:54,796] Trial 488 finished with value: 0.617420709037687 and parameters: {'n_estimators': 127, 'max_depth': 16, 'learning_rate': 0.22579542106900602, 'gamma': 9.552459751414258, 'reg_lambda': 0.6316737605164355, 'min_child_weight': 3.323842297763782}. Best is trial 441 with value: 0.62968640900569.\n",
      "[I 2023-12-05 20:42:56,634] Trial 489 finished with value: 0.6155132748485244 and parameters: {'n_estimators': 353, 'max_depth': 14, 'learning_rate': 0.4043424538612418, 'gamma': 12.927251819911078, 'reg_lambda': 0.6839913680227288, 'min_child_weight': 3.4156163179011934}. Best is trial 441 with value: 0.62968640900569.\n",
      "[I 2023-12-05 20:42:58,063] Trial 490 finished with value: 0.6217257322145826 and parameters: {'n_estimators': 138, 'max_depth': 12, 'learning_rate': 0.2913298796465212, 'gamma': 17.500484629841644, 'reg_lambda': 0.4990059586273893, 'min_child_weight': 0.4259191942950217}. Best is trial 441 with value: 0.62968640900569.\n",
      "[I 2023-12-05 20:43:00,110] Trial 491 finished with value: 0.6257273420707661 and parameters: {'n_estimators': 341, 'max_depth': 13, 'learning_rate': 0.10144493681794231, 'gamma': 14.776903224890601, 'reg_lambda': 0.9389371009179883, 'min_child_weight': 3.5991780849811534}. Best is trial 441 with value: 0.62968640900569.\n",
      "[I 2023-12-05 20:43:01,428] Trial 492 finished with value: 0.6047713212953841 and parameters: {'n_estimators': 113, 'max_depth': 7, 'learning_rate': 0.8106092301411673, 'gamma': 14.280816173601576, 'reg_lambda': 0.5591517713863126, 'min_child_weight': 0.3233604239792749}. Best is trial 441 with value: 0.62968640900569.\n",
      "[I 2023-12-05 20:43:02,908] Trial 493 finished with value: 0.608232164500101 and parameters: {'n_estimators': 148, 'max_depth': 16, 'learning_rate': 0.5658996602425103, 'gamma': 15.610804749954175, 'reg_lambda': 0.2066096035825139, 'min_child_weight': 3.138338484173437}. Best is trial 441 with value: 0.62968640900569.\n",
      "[I 2023-12-05 20:43:04,885] Trial 494 finished with value: 0.6106028387073951 and parameters: {'n_estimators': 379, 'max_depth': 15, 'learning_rate': 0.5024120341131347, 'gamma': 13.33422876776766, 'reg_lambda': 0.5262948434449013, 'min_child_weight': 2.2850324539674403}. Best is trial 441 with value: 0.62968640900569.\n",
      "[I 2023-12-05 20:43:07,275] Trial 495 finished with value: 0.6202041120370737 and parameters: {'n_estimators': 364, 'max_depth': 14, 'learning_rate': 0.07037622066982625, 'gamma': 12.366491159027342, 'reg_lambda': 0.5931825154196654, 'min_child_weight': 0.21323477430579052}. Best is trial 441 with value: 0.62968640900569.\n",
      "[I 2023-12-05 20:43:09,365] Trial 496 finished with value: 0.6216869744790477 and parameters: {'n_estimators': 350, 'max_depth': 14, 'learning_rate': 0.1731164851721688, 'gamma': 15.841666591491851, 'reg_lambda': 0.34184710958065523, 'min_child_weight': 3.8412217843902066}. Best is trial 441 with value: 0.62968640900569.\n",
      "[I 2023-12-05 20:43:11,311] Trial 497 finished with value: 0.6187790473710739 and parameters: {'n_estimators': 334, 'max_depth': 15, 'learning_rate': 0.23953618849875247, 'gamma': 10.57937904508258, 'reg_lambda': 0.7082995083624237, 'min_child_weight': 0.8851391979200067}. Best is trial 441 with value: 0.62968640900569.\n",
      "[I 2023-12-05 20:43:13,220] Trial 498 finished with value: 0.6103832782155194 and parameters: {'n_estimators': 396, 'max_depth': 16, 'learning_rate': 0.8455961107020735, 'gamma': 11.741470358137247, 'reg_lambda': 0.3272679679570772, 'min_child_weight': 2.205487134767391}. Best is trial 441 with value: 0.62968640900569.\n",
      "[I 2023-12-05 20:43:15,199] Trial 499 finished with value: 0.6153309777574766 and parameters: {'n_estimators': 379, 'max_depth': 15, 'learning_rate': 0.19255671970947702, 'gamma': 15.98775160906193, 'reg_lambda': 0.675116764463169, 'min_child_weight': 3.9555994746616467}. Best is trial 441 with value: 0.62968640900569.\n"
     ]
    }
   ],
   "source": [
    "study_xgb_smote.optimize(optuna_optimize, n_trials=500)"
   ],
   "metadata": {
    "collapsed": false,
    "ExecuteTime": {
     "end_time": "2023-12-05T17:43:15.230741900Z",
     "start_time": "2023-12-05T17:23:57.388964600Z"
    }
   }
  },
  {
   "cell_type": "code",
   "execution_count": 47,
   "outputs": [
    {
     "name": "stdout",
     "output_type": "stream",
     "text": [
      "Наилучшие значения гиперпараметров XGBoost: {'n_estimators': 373, 'max_depth': 14, 'learning_rate': 0.06799695837186305, 'gamma': 10.468409983283754, 'reg_lambda': 0.5245414229896669, 'min_child_weight': 1.786290468778316}\n",
      "f1_score на обучающем наборе: 0.630\n"
     ]
    }
   ],
   "source": [
    "print(\"Наилучшие значения гиперпараметров XGBoost: {}\".format(study_xgb_smote.best_params))\n",
    "print(\"f1_score на обучающем наборе: {:.3f}\". format(study_xgb_smote.best_value))"
   ],
   "metadata": {
    "collapsed": false,
    "ExecuteTime": {
     "end_time": "2023-12-05T17:43:15.375521Z",
     "start_time": "2023-12-05T17:43:15.217084800Z"
    }
   }
  },
  {
   "cell_type": "code",
   "execution_count": 48,
   "outputs": [],
   "source": [
    "with mlflow.start_run(nested=True,\n",
    "                      run_name='xgb_pipeline_smote'):\n",
    "\n",
    "    best_params = study_xgb_smote.best_params\n",
    "    best_score = study_xgb_smote.best_value\n",
    "    mlflow.log_params(best_params)\n",
    "\n",
    "    xgb_pipe_sm = Pipeline([\n",
    "        ('preprocessor', preprocessor),\n",
    "        ('smote', SMOTE(random_state=12345)),\n",
    "        ('model', xgb.XGBClassifier(**best_params,\n",
    "                                    random_state=12345))\n",
    "    ])\n",
    "\n",
    "    xgb_pipe_sm.fit(X_train, y_train)\n",
    "\n",
    "    pred_proba = xgb_pipe_sm.predict_proba(X_test)[:, 1]\n",
    "    roc_auc_xgb_sm = roc_auc_score(y_test, pred_proba)\n",
    "    \n",
    "    mlflow.log_metrics({\n",
    "        'f1_cv': best_score,\n",
    "        'roc_auc': roc_auc_xgb_sm,\n",
    "        'balanced_accuracy': balanced_accuracy_score(y_test, np.round(pred_proba, 0)),\n",
    "        'f1': f1_score(y_test, np.round(pred_proba, 0))\n",
    "    })\n",
    "\n",
    "    mlflow.sklearn.log_model(xgb_pipe_sm, 'xgb_pipeline_smote')"
   ],
   "metadata": {
    "collapsed": false,
    "ExecuteTime": {
     "end_time": "2023-12-05T17:43:20.573138200Z",
     "start_time": "2023-12-05T17:43:15.244102900Z"
    }
   }
  },
  {
   "cell_type": "markdown",
   "source": [
    "### 3.2.2 Случайный лес"
   ],
   "metadata": {
    "collapsed": false
   }
  },
  {
   "cell_type": "code",
   "execution_count": 49,
   "outputs": [],
   "source": [
    "def optuna_optimize(trial):\n",
    "    param = {\n",
    "        'n_estimators': trial.suggest_int('n_estimators', 50, 300),\n",
    "        'max_depth': trial.suggest_int('max_depth', 2, 10),\n",
    "        'min_samples_leaf': trial.suggest_int('min_samples_leaf', 2, 8)\n",
    "    }\n",
    "\n",
    "    estimator = RandomForestClassifier(**param,\n",
    "                                       random_state=12345)\n",
    "\n",
    "    rf_pipe = Pipeline([\n",
    "        ('preprocessor', preprocessor),\n",
    "        ('smote', SMOTE(random_state=12345)),\n",
    "        ('model', estimator)\n",
    "    ])\n",
    "\n",
    "    score = cross_val_score(rf_pipe, X_train, y_train, cv=5, scoring='f1').mean()\n",
    "    return score"
   ],
   "metadata": {
    "collapsed": false,
    "ExecuteTime": {
     "end_time": "2023-12-05T17:43:20.597225Z",
     "start_time": "2023-12-05T17:43:20.580812400Z"
    }
   }
  },
  {
   "cell_type": "code",
   "execution_count": 50,
   "outputs": [
    {
     "name": "stderr",
     "output_type": "stream",
     "text": [
      "[I 2023-12-05 20:43:20,593] A new study created in memory with name: RandomForest Optuna Optimization SMOTE\n"
     ]
    }
   ],
   "source": [
    "study_rf_smote = optuna.create_study(study_name=\"RandomForest Optuna Optimization SMOTE\",\n",
    "                               direction='maximize')"
   ],
   "metadata": {
    "collapsed": false,
    "ExecuteTime": {
     "end_time": "2023-12-05T17:43:20.682413400Z",
     "start_time": "2023-12-05T17:43:20.591617800Z"
    }
   }
  },
  {
   "cell_type": "code",
   "execution_count": 51,
   "outputs": [
    {
     "name": "stderr",
     "output_type": "stream",
     "text": [
      "[I 2023-12-05 20:43:39,550] Trial 0 finished with value: 0.6080486269603129 and parameters: {'n_estimators': 219, 'max_depth': 8, 'min_samples_leaf': 7}. Best is trial 0 with value: 0.6080486269603129.\n",
      "[I 2023-12-05 20:43:49,078] Trial 1 finished with value: 0.590381807684803 and parameters: {'n_estimators': 152, 'max_depth': 5, 'min_samples_leaf': 3}. Best is trial 0 with value: 0.6080486269603129.\n",
      "[I 2023-12-05 20:43:57,960] Trial 2 finished with value: 0.5669809521352999 and parameters: {'n_estimators': 208, 'max_depth': 3, 'min_samples_leaf': 8}. Best is trial 0 with value: 0.6080486269603129.\n",
      "[I 2023-12-05 20:44:10,936] Trial 3 finished with value: 0.6090225887862953 and parameters: {'n_estimators': 133, 'max_depth': 9, 'min_samples_leaf': 2}. Best is trial 3 with value: 0.6090225887862953.\n",
      "[I 2023-12-05 20:44:13,620] Trial 4 finished with value: 0.5656130645133965 and parameters: {'n_estimators': 52, 'max_depth': 3, 'min_samples_leaf': 6}. Best is trial 3 with value: 0.6090225887862953.\n",
      "[I 2023-12-05 20:44:33,366] Trial 5 finished with value: 0.6083127523306872 and parameters: {'n_estimators': 188, 'max_depth': 10, 'min_samples_leaf': 3}. Best is trial 3 with value: 0.6090225887862953.\n",
      "[I 2023-12-05 20:44:42,402] Trial 6 finished with value: 0.569771500327891 and parameters: {'n_estimators': 212, 'max_depth': 3, 'min_samples_leaf': 5}. Best is trial 3 with value: 0.6090225887862953.\n",
      "[I 2023-12-05 20:44:50,873] Trial 7 finished with value: 0.5876357645347574 and parameters: {'n_estimators': 135, 'max_depth': 5, 'min_samples_leaf': 6}. Best is trial 3 with value: 0.6090225887862953.\n",
      "[I 2023-12-05 20:45:03,191] Trial 8 finished with value: 0.5907567585905775 and parameters: {'n_estimators': 200, 'max_depth': 5, 'min_samples_leaf': 7}. Best is trial 3 with value: 0.6090225887862953.\n",
      "[I 2023-12-05 20:45:21,580] Trial 9 finished with value: 0.6064698927944605 and parameters: {'n_estimators': 230, 'max_depth': 7, 'min_samples_leaf': 8}. Best is trial 3 with value: 0.6090225887862953.\n",
      "[I 2023-12-05 20:45:51,482] Trial 10 finished with value: 0.6055474051834071 and parameters: {'n_estimators': 287, 'max_depth': 10, 'min_samples_leaf': 2}. Best is trial 3 with value: 0.6090225887862953.\n",
      "[I 2023-12-05 20:46:02,157] Trial 11 finished with value: 0.6059912931000903 and parameters: {'n_estimators': 96, 'max_depth': 10, 'min_samples_leaf': 3}. Best is trial 3 with value: 0.6090225887862953.\n",
      "[I 2023-12-05 20:46:14,101] Trial 12 finished with value: 0.6072481163331862 and parameters: {'n_estimators': 121, 'max_depth': 9, 'min_samples_leaf': 2}. Best is trial 3 with value: 0.6090225887862953.\n",
      "[I 2023-12-05 20:46:29,151] Trial 13 finished with value: 0.602538637217203 and parameters: {'n_estimators': 169, 'max_depth': 8, 'min_samples_leaf': 4}. Best is trial 3 with value: 0.6090225887862953.\n",
      "[I 2023-12-05 20:46:54,517] Trial 14 finished with value: 0.6092551938144979 and parameters: {'n_estimators': 265, 'max_depth': 9, 'min_samples_leaf': 3}. Best is trial 14 with value: 0.6092551938144979.\n",
      "[I 2023-12-05 20:47:15,138] Trial 15 finished with value: 0.6053631383440312 and parameters: {'n_estimators': 262, 'max_depth': 7, 'min_samples_leaf': 4}. Best is trial 14 with value: 0.6092551938144979.\n",
      "[I 2023-12-05 20:47:24,013] Trial 16 finished with value: 0.6033509542126145 and parameters: {'n_estimators': 98, 'max_depth': 8, 'min_samples_leaf': 2}. Best is trial 14 with value: 0.6092551938144979.\n",
      "[I 2023-12-05 20:47:48,221] Trial 17 finished with value: 0.6098090478229798 and parameters: {'n_estimators': 254, 'max_depth': 9, 'min_samples_leaf': 4}. Best is trial 17 with value: 0.6098090478229798.\n",
      "[I 2023-12-05 20:48:05,412] Trial 18 finished with value: 0.5972429547814192 and parameters: {'n_estimators': 246, 'max_depth': 6, 'min_samples_leaf': 4}. Best is trial 17 with value: 0.6098090478229798.\n",
      "[I 2023-12-05 20:48:33,082] Trial 19 finished with value: 0.6084124215594489 and parameters: {'n_estimators': 294, 'max_depth': 9, 'min_samples_leaf': 5}. Best is trial 17 with value: 0.6098090478229798.\n",
      "[I 2023-12-05 20:48:53,694] Trial 20 finished with value: 0.6047805972250557 and parameters: {'n_estimators': 264, 'max_depth': 7, 'min_samples_leaf': 4}. Best is trial 17 with value: 0.6098090478229798.\n",
      "[I 2023-12-05 20:49:19,168] Trial 21 finished with value: 0.6099757422473882 and parameters: {'n_estimators': 268, 'max_depth': 9, 'min_samples_leaf': 3}. Best is trial 21 with value: 0.6099757422473882.\n",
      "[I 2023-12-05 20:49:45,345] Trial 22 finished with value: 0.6093751267509697 and parameters: {'n_estimators': 273, 'max_depth': 9, 'min_samples_leaf': 3}. Best is trial 21 with value: 0.6099757422473882.\n",
      "[I 2023-12-05 20:50:06,674] Trial 23 finished with value: 0.606010214921129 and parameters: {'n_estimators': 246, 'max_depth': 8, 'min_samples_leaf': 5}. Best is trial 21 with value: 0.6099757422473882.\n",
      "[I 2023-12-05 20:50:36,329] Trial 24 finished with value: 0.6076533496495296 and parameters: {'n_estimators': 289, 'max_depth': 10, 'min_samples_leaf': 3}. Best is trial 21 with value: 0.6099757422473882.\n",
      "[I 2023-12-05 20:50:59,274] Trial 25 finished with value: 0.6096851432730548 and parameters: {'n_estimators': 242, 'max_depth': 9, 'min_samples_leaf': 4}. Best is trial 21 with value: 0.6099757422473882.\n",
      "[I 2023-12-05 20:51:15,841] Trial 26 finished with value: 0.5960915342460607 and parameters: {'n_estimators': 236, 'max_depth': 6, 'min_samples_leaf': 4}. Best is trial 21 with value: 0.6099757422473882.\n",
      "[I 2023-12-05 20:51:24,108] Trial 27 finished with value: 0.5431598923293313 and parameters: {'n_estimators': 248, 'max_depth': 2, 'min_samples_leaf': 5}. Best is trial 21 with value: 0.6099757422473882.\n",
      "[I 2023-12-05 20:51:39,034] Trial 28 finished with value: 0.6037525214211764 and parameters: {'n_estimators': 186, 'max_depth': 7, 'min_samples_leaf': 4}. Best is trial 21 with value: 0.6099757422473882.\n",
      "[I 2023-12-05 20:51:58,811] Trial 29 finished with value: 0.6076410616844868 and parameters: {'n_estimators': 226, 'max_depth': 8, 'min_samples_leaf': 6}. Best is trial 21 with value: 0.6099757422473882.\n",
      "[I 2023-12-05 20:52:24,559] Trial 30 finished with value: 0.6063400902756018 and parameters: {'n_estimators': 299, 'max_depth': 8, 'min_samples_leaf': 5}. Best is trial 21 with value: 0.6099757422473882.\n",
      "[I 2023-12-05 20:52:50,877] Trial 31 finished with value: 0.6095596569307713 and parameters: {'n_estimators': 277, 'max_depth': 9, 'min_samples_leaf': 3}. Best is trial 21 with value: 0.6099757422473882.\n",
      "[I 2023-12-05 20:53:16,979] Trial 32 finished with value: 0.6090201472900275 and parameters: {'n_estimators': 272, 'max_depth': 9, 'min_samples_leaf': 3}. Best is trial 21 with value: 0.6099757422473882.\n",
      "[I 2023-12-05 20:53:45,220] Trial 33 finished with value: 0.6065107059586101 and parameters: {'n_estimators': 277, 'max_depth': 10, 'min_samples_leaf': 4}. Best is trial 21 with value: 0.6099757422473882.\n",
      "[I 2023-12-05 20:54:11,427] Trial 34 finished with value: 0.6089716424946565 and parameters: {'n_estimators': 252, 'max_depth': 9, 'min_samples_leaf': 2}. Best is trial 21 with value: 0.6099757422473882.\n",
      "[I 2023-12-05 20:54:31,804] Trial 35 finished with value: 0.606105716242039 and parameters: {'n_estimators': 220, 'max_depth': 8, 'min_samples_leaf': 3}. Best is trial 21 with value: 0.6099757422473882.\n",
      "[I 2023-12-05 20:55:00,273] Trial 36 finished with value: 0.6063209929248906 and parameters: {'n_estimators': 279, 'max_depth': 10, 'min_samples_leaf': 4}. Best is trial 21 with value: 0.6099757422473882.\n",
      "[I 2023-12-05 20:55:23,550] Trial 37 finished with value: 0.6100289330291968 and parameters: {'n_estimators': 240, 'max_depth': 9, 'min_samples_leaf': 3}. Best is trial 37 with value: 0.6100289330291968.\n",
      "[I 2023-12-05 20:55:44,565] Trial 38 finished with value: 0.6093925460847569 and parameters: {'n_estimators': 202, 'max_depth': 10, 'min_samples_leaf': 3}. Best is trial 37 with value: 0.6100289330291968.\n",
      "[I 2023-12-05 20:55:58,893] Trial 39 finished with value: 0.6041128283608703 and parameters: {'n_estimators': 158, 'max_depth': 8, 'min_samples_leaf': 2}. Best is trial 37 with value: 0.6100289330291968.\n",
      "[I 2023-12-05 20:56:13,729] Trial 40 finished with value: 0.5971398851158307 and parameters: {'n_estimators': 210, 'max_depth': 6, 'min_samples_leaf': 4}. Best is trial 37 with value: 0.6100289330291968.\n",
      "[I 2023-12-05 20:56:36,354] Trial 41 finished with value: 0.6093116407153967 and parameters: {'n_estimators': 236, 'max_depth': 9, 'min_samples_leaf': 3}. Best is trial 37 with value: 0.6100289330291968.\n",
      "[I 2023-12-05 20:56:49,817] Trial 42 finished with value: 0.5817907916340493 and parameters: {'n_estimators': 260, 'max_depth': 4, 'min_samples_leaf': 3}. Best is trial 37 with value: 0.6100289330291968.\n",
      "[I 2023-12-05 20:57:16,869] Trial 43 finished with value: 0.6102941765328325 and parameters: {'n_estimators': 282, 'max_depth': 9, 'min_samples_leaf': 2}. Best is trial 43 with value: 0.6102941765328325.\n",
      "[I 2023-12-05 20:57:41,497] Trial 44 finished with value: 0.6080161029737163 and parameters: {'n_estimators': 235, 'max_depth': 10, 'min_samples_leaf': 2}. Best is trial 43 with value: 0.6102941765328325.\n",
      "[I 2023-12-05 20:58:05,966] Trial 45 finished with value: 0.6102903297050345 and parameters: {'n_estimators': 255, 'max_depth': 9, 'min_samples_leaf': 2}. Best is trial 43 with value: 0.6102941765328325.\n",
      "[I 2023-12-05 20:58:32,786] Trial 46 finished with value: 0.6106166678662004 and parameters: {'n_estimators': 259, 'max_depth': 9, 'min_samples_leaf': 2}. Best is trial 46 with value: 0.6106166678662004.\n",
      "[I 2023-12-05 20:58:55,708] Trial 47 finished with value: 0.603067684638611 and parameters: {'n_estimators': 287, 'max_depth': 7, 'min_samples_leaf': 2}. Best is trial 46 with value: 0.6106166678662004.\n",
      "[I 2023-12-05 20:59:15,211] Trial 48 finished with value: 0.6066917993339737 and parameters: {'n_estimators': 219, 'max_depth': 8, 'min_samples_leaf': 2}. Best is trial 46 with value: 0.6106166678662004.\n",
      "[I 2023-12-05 20:59:46,410] Trial 49 finished with value: 0.6060992024839098 and parameters: {'n_estimators': 299, 'max_depth': 10, 'min_samples_leaf': 2}. Best is trial 46 with value: 0.6106166678662004.\n",
      "[I 2023-12-05 20:59:52,499] Trial 50 finished with value: 0.6083384067852413 and parameters: {'n_estimators': 58, 'max_depth': 9, 'min_samples_leaf': 2}. Best is trial 46 with value: 0.6106166678662004.\n",
      "[I 2023-12-05 21:00:17,367] Trial 51 finished with value: 0.6106920089742156 and parameters: {'n_estimators': 256, 'max_depth': 9, 'min_samples_leaf': 2}. Best is trial 51 with value: 0.6106920089742156.\n",
      "[I 2023-12-05 21:00:39,763] Trial 52 finished with value: 0.605215356745419 and parameters: {'n_estimators': 256, 'max_depth': 8, 'min_samples_leaf': 2}. Best is trial 51 with value: 0.6106920089742156.\n",
      "[I 2023-12-05 21:01:05,353] Trial 53 finished with value: 0.6097249676276593 and parameters: {'n_estimators': 267, 'max_depth': 9, 'min_samples_leaf': 2}. Best is trial 51 with value: 0.6106920089742156.\n",
      "[I 2023-12-05 21:01:34,526] Trial 54 finished with value: 0.6056148448585789 and parameters: {'n_estimators': 282, 'max_depth': 10, 'min_samples_leaf': 2}. Best is trial 51 with value: 0.6106920089742156.\n",
      "[I 2023-12-05 21:01:53,272] Trial 55 finished with value: 0.6110418693396718 and parameters: {'n_estimators': 191, 'max_depth': 9, 'min_samples_leaf': 2}. Best is trial 55 with value: 0.6110418693396718.\n",
      "[I 2023-12-05 21:02:11,962] Trial 56 finished with value: 0.6121463328499617 and parameters: {'n_estimators': 192, 'max_depth': 9, 'min_samples_leaf': 2}. Best is trial 56 with value: 0.6121463328499617.\n",
      "[I 2023-12-05 21:02:24,471] Trial 57 finished with value: 0.6015843518086793 and parameters: {'n_estimators': 139, 'max_depth': 8, 'min_samples_leaf': 2}. Best is trial 56 with value: 0.6121463328499617.\n",
      "[I 2023-12-05 21:02:39,657] Trial 58 finished with value: 0.6055244325952747 and parameters: {'n_estimators': 191, 'max_depth': 7, 'min_samples_leaf': 8}. Best is trial 56 with value: 0.6121463328499617.\n",
      "[I 2023-12-05 21:02:56,740] Trial 59 finished with value: 0.6071606145064169 and parameters: {'n_estimators': 163, 'max_depth': 10, 'min_samples_leaf': 2}. Best is trial 56 with value: 0.6121463328499617.\n",
      "[I 2023-12-05 21:03:13,967] Trial 60 finished with value: 0.6052480495434084 and parameters: {'n_estimators': 179, 'max_depth': 9, 'min_samples_leaf': 7}. Best is trial 56 with value: 0.6121463328499617.\n",
      "[I 2023-12-05 21:03:32,699] Trial 61 finished with value: 0.6113801431528817 and parameters: {'n_estimators': 193, 'max_depth': 9, 'min_samples_leaf': 2}. Best is trial 56 with value: 0.6121463328499617.\n",
      "[I 2023-12-05 21:03:52,707] Trial 62 finished with value: 0.6098285761096961 and parameters: {'n_estimators': 197, 'max_depth': 9, 'min_samples_leaf': 2}. Best is trial 56 with value: 0.6121463328499617.\n",
      "[I 2023-12-05 21:04:10,078] Trial 63 finished with value: 0.6126581763828005 and parameters: {'n_estimators': 178, 'max_depth': 9, 'min_samples_leaf': 2}. Best is trial 63 with value: 0.6126581763828005.\n",
      "[I 2023-12-05 21:04:19,390] Trial 64 finished with value: 0.5831515825062121 and parameters: {'n_estimators': 176, 'max_depth': 4, 'min_samples_leaf': 2}. Best is trial 63 with value: 0.6126581763828005.\n",
      "[I 2023-12-05 21:04:32,349] Trial 65 finished with value: 0.6016884255477899 and parameters: {'n_estimators': 144, 'max_depth': 8, 'min_samples_leaf': 2}. Best is trial 63 with value: 0.6126581763828005.\n",
      "[I 2023-12-05 21:04:45,646] Trial 66 finished with value: 0.6085759737005486 and parameters: {'n_estimators': 125, 'max_depth': 10, 'min_samples_leaf': 3}. Best is trial 63 with value: 0.6126581763828005.\n",
      "[I 2023-12-05 21:05:03,532] Trial 67 finished with value: 0.6134413344529344 and parameters: {'n_estimators': 184, 'max_depth': 9, 'min_samples_leaf': 2}. Best is trial 67 with value: 0.6134413344529344.\n",
      "[I 2023-12-05 21:05:19,941] Trial 68 finished with value: 0.6039552575003055 and parameters: {'n_estimators': 182, 'max_depth': 8, 'min_samples_leaf': 2}. Best is trial 67 with value: 0.6134413344529344.\n",
      "[I 2023-12-05 21:05:36,083] Trial 69 finished with value: 0.609607834066849 and parameters: {'n_estimators': 169, 'max_depth': 9, 'min_samples_leaf': 6}. Best is trial 67 with value: 0.6134413344529344.\n",
      "[I 2023-12-05 21:05:56,345] Trial 70 finished with value: 0.6096861107254138 and parameters: {'n_estimators': 194, 'max_depth': 10, 'min_samples_leaf': 3}. Best is trial 67 with value: 0.6134413344529344.\n",
      "[I 2023-12-05 21:06:16,113] Trial 71 finished with value: 0.6107422022075413 and parameters: {'n_estimators': 203, 'max_depth': 9, 'min_samples_leaf': 2}. Best is trial 67 with value: 0.6134413344529344.\n",
      "[I 2023-12-05 21:06:35,804] Trial 72 finished with value: 0.6103836481647766 and parameters: {'n_estimators': 204, 'max_depth': 9, 'min_samples_leaf': 2}. Best is trial 67 with value: 0.6134413344529344.\n",
      "[I 2023-12-05 21:06:56,896] Trial 73 finished with value: 0.6094775791288025 and parameters: {'n_estimators': 217, 'max_depth': 9, 'min_samples_leaf': 2}. Best is trial 67 with value: 0.6134413344529344.\n",
      "[I 2023-12-05 21:07:10,401] Trial 74 finished with value: 0.6046993744220485 and parameters: {'n_estimators': 151, 'max_depth': 8, 'min_samples_leaf': 2}. Best is trial 67 with value: 0.6134413344529344.\n",
      "[I 2023-12-05 21:07:29,834] Trial 75 finished with value: 0.607502262509456 and parameters: {'n_estimators': 185, 'max_depth': 10, 'min_samples_leaf': 2}. Best is trial 67 with value: 0.6134413344529344.\n",
      "[I 2023-12-05 21:07:46,287] Trial 76 finished with value: 0.6095370016368201 and parameters: {'n_estimators': 169, 'max_depth': 9, 'min_samples_leaf': 3}. Best is trial 67 with value: 0.6134413344529344.\n",
      "[I 2023-12-05 21:08:06,382] Trial 77 finished with value: 0.6107512022926429 and parameters: {'n_estimators': 208, 'max_depth': 9, 'min_samples_leaf': 2}. Best is trial 67 with value: 0.6134413344529344.\n",
      "[I 2023-12-05 21:08:24,882] Trial 78 finished with value: 0.6050111611832153 and parameters: {'n_estimators': 209, 'max_depth': 8, 'min_samples_leaf': 3}. Best is trial 67 with value: 0.6134413344529344.\n",
      "[I 2023-12-05 21:08:43,267] Trial 79 finished with value: 0.61094830342116 and parameters: {'n_estimators': 190, 'max_depth': 9, 'min_samples_leaf': 2}. Best is trial 67 with value: 0.6134413344529344.\n",
      "[I 2023-12-05 21:09:03,231] Trial 80 finished with value: 0.6069885937571404 and parameters: {'n_estimators': 191, 'max_depth': 10, 'min_samples_leaf': 2}. Best is trial 67 with value: 0.6134413344529344.\n",
      "[I 2023-12-05 21:09:22,919] Trial 81 finished with value: 0.610924283917841 and parameters: {'n_estimators': 202, 'max_depth': 9, 'min_samples_leaf': 2}. Best is trial 67 with value: 0.6134413344529344.\n",
      "[I 2023-12-05 21:09:42,308] Trial 82 finished with value: 0.610379676703376 and parameters: {'n_estimators': 200, 'max_depth': 9, 'min_samples_leaf': 2}. Best is trial 67 with value: 0.6134413344529344.\n",
      "[I 2023-12-05 21:09:59,204] Trial 83 finished with value: 0.6112300691534087 and parameters: {'n_estimators': 174, 'max_depth': 9, 'min_samples_leaf': 2}. Best is trial 67 with value: 0.6134413344529344.\n",
      "[I 2023-12-05 21:10:14,302] Trial 84 finished with value: 0.6046935005696639 and parameters: {'n_estimators': 170, 'max_depth': 8, 'min_samples_leaf': 2}. Best is trial 67 with value: 0.6134413344529344.\n",
      "[I 2023-12-05 21:10:35,950] Trial 85 finished with value: 0.6096215906590069 and parameters: {'n_estimators': 226, 'max_depth': 9, 'min_samples_leaf': 2}. Best is trial 67 with value: 0.6134413344529344.\n",
      "[I 2023-12-05 21:10:55,483] Trial 86 finished with value: 0.6083127523306872 and parameters: {'n_estimators': 188, 'max_depth': 10, 'min_samples_leaf': 3}. Best is trial 67 with value: 0.6134413344529344.\n",
      "[I 2023-12-05 21:11:01,121] Trial 87 finished with value: 0.5445978329951895 and parameters: {'n_estimators': 163, 'max_depth': 2, 'min_samples_leaf': 2}. Best is trial 67 with value: 0.6134413344529344.\n",
      "[I 2023-12-05 21:11:21,602] Trial 88 finished with value: 0.6100577765663905 and parameters: {'n_estimators': 213, 'max_depth': 9, 'min_samples_leaf': 3}. Best is trial 67 with value: 0.6134413344529344.\n",
      "[I 2023-12-05 21:11:37,641] Trial 89 finished with value: 0.6028396069276781 and parameters: {'n_estimators': 179, 'max_depth': 8, 'min_samples_leaf': 2}. Best is trial 67 with value: 0.6134413344529344.\n",
      "[I 2023-12-05 21:11:54,500] Trial 90 finished with value: 0.6110471918380151 and parameters: {'n_estimators': 173, 'max_depth': 9, 'min_samples_leaf': 2}. Best is trial 67 with value: 0.6134413344529344.\n",
      "[I 2023-12-05 21:12:11,392] Trial 91 finished with value: 0.6112300691534087 and parameters: {'n_estimators': 174, 'max_depth': 9, 'min_samples_leaf': 2}. Best is trial 67 with value: 0.6134413344529344.\n",
      "[I 2023-12-05 21:12:26,484] Trial 92 finished with value: 0.6103723032393014 and parameters: {'n_estimators': 155, 'max_depth': 9, 'min_samples_leaf': 2}. Best is trial 67 with value: 0.6134413344529344.\n",
      "[I 2023-12-05 21:12:43,639] Trial 93 finished with value: 0.6122922914302071 and parameters: {'n_estimators': 176, 'max_depth': 9, 'min_samples_leaf': 2}. Best is trial 67 with value: 0.6134413344529344.\n",
      "[I 2023-12-05 21:13:00,605] Trial 94 finished with value: 0.6124085660621741 and parameters: {'n_estimators': 175, 'max_depth': 9, 'min_samples_leaf': 2}. Best is trial 67 with value: 0.6134413344529344.\n",
      "[I 2023-12-05 21:13:19,099] Trial 95 finished with value: 0.6082555706786992 and parameters: {'n_estimators': 175, 'max_depth': 10, 'min_samples_leaf': 2}. Best is trial 67 with value: 0.6134413344529344.\n",
      "[I 2023-12-05 21:13:32,761] Trial 96 finished with value: 0.6031978097585102 and parameters: {'n_estimators': 149, 'max_depth': 8, 'min_samples_leaf': 2}. Best is trial 67 with value: 0.6134413344529344.\n",
      "[I 2023-12-05 21:13:43,108] Trial 97 finished with value: 0.5914367755966052 and parameters: {'n_estimators': 164, 'max_depth': 5, 'min_samples_leaf': 3}. Best is trial 67 with value: 0.6134413344529344.\n",
      "[I 2023-12-05 21:14:01,083] Trial 98 finished with value: 0.6128458751103733 and parameters: {'n_estimators': 183, 'max_depth': 9, 'min_samples_leaf': 2}. Best is trial 67 with value: 0.6134413344529344.\n",
      "[I 2023-12-05 21:14:20,209] Trial 99 finished with value: 0.607856057395625 and parameters: {'n_estimators': 183, 'max_depth': 10, 'min_samples_leaf': 2}. Best is trial 67 with value: 0.6134413344529344.\n"
     ]
    }
   ],
   "source": [
    "study_rf_smote.optimize(optuna_optimize, n_trials=100)"
   ],
   "metadata": {
    "collapsed": false,
    "ExecuteTime": {
     "end_time": "2023-12-05T18:14:20.231107900Z",
     "start_time": "2023-12-05T17:43:20.607117Z"
    }
   }
  },
  {
   "cell_type": "code",
   "execution_count": 52,
   "outputs": [
    {
     "name": "stdout",
     "output_type": "stream",
     "text": [
      "Наилучшие значения гиперпараметров RandomForest: {'n_estimators': 184, 'max_depth': 9, 'min_samples_leaf': 2}\n",
      "f1_score на обучающем наборе: 0.613\n"
     ]
    }
   ],
   "source": [
    "print(\"Наилучшие значения гиперпараметров RandomForest: {}\".format(study_rf_smote.best_params))\n",
    "print(\"f1_score на обучающем наборе: {:.3f}\". format(study_rf_smote.best_value))"
   ],
   "metadata": {
    "collapsed": false,
    "ExecuteTime": {
     "end_time": "2023-12-05T18:14:20.318429200Z",
     "start_time": "2023-12-05T18:14:20.231107900Z"
    }
   }
  },
  {
   "cell_type": "code",
   "execution_count": 53,
   "outputs": [],
   "source": [
    "with mlflow.start_run(nested=True,\n",
    "                      run_name='rf_pipeline_smote'):\n",
    "\n",
    "    best_params = study_rf_smote.best_params\n",
    "    best_score = study_rf_smote.best_value\n",
    "    mlflow.log_params(best_params)\n",
    "\n",
    "    rf_pipe_sm = Pipeline([\n",
    "        ('preprocessor', preprocessor),\n",
    "        ('smote', SMOTE(random_state=12345)),\n",
    "        ('model', RandomForestClassifier(**best_params,\n",
    "                                         random_state=12345))\n",
    "    ])\n",
    "\n",
    "    rf_pipe_sm.fit(X_train, y_train)\n",
    "\n",
    "    pred_proba = rf_pipe_sm.predict_proba(X_test)[:, 1]\n",
    "    roc_auc_rf_sm = roc_auc_score(y_test, pred_proba)\n",
    "    \n",
    "    mlflow.log_metrics({\n",
    "        'f1_cv': best_score,\n",
    "        'roc_auc': roc_auc_rf_sm,\n",
    "        'balanced_accuracy': balanced_accuracy_score(y_test, np.round(pred_proba, 0)),\n",
    "        'f1': f1_score(y_test, np.round(pred_proba, 0))\n",
    "    })\n",
    "    \n",
    "    mlflow.sklearn.log_model(rf_pipe_sm, 'rf_pipeline_smote')"
   ],
   "metadata": {
    "collapsed": false,
    "ExecuteTime": {
     "end_time": "2023-12-05T18:14:29.347840800Z",
     "start_time": "2023-12-05T18:14:20.239456800Z"
    }
   }
  },
  {
   "cell_type": "markdown",
   "source": [
    "### 3.2.3 Логистическая регрессия"
   ],
   "metadata": {
    "collapsed": false
   }
  },
  {
   "cell_type": "code",
   "execution_count": 54,
   "outputs": [],
   "source": [
    "cat_pipeline = Pipeline([\n",
    "    ('enc', OneHotEncoder(handle_unknown='error', drop='first'))\n",
    "])\n",
    "\n",
    "num_pipeline = Pipeline([\n",
    "    ('imp', SimpleImputer(fill_value=-1, add_indicator=True)),\n",
    "    ('pt', PowerTransformer()),\n",
    "    ('scal', StandardScaler())\n",
    "])\n",
    "\n",
    "preprocessor = ColumnTransformer([\n",
    "    (\"cat\", cat_pipeline, categorical_features),\n",
    "    (\"num\", num_pipeline, numeric_features)\n",
    "], remainder='passthrough')"
   ],
   "metadata": {
    "collapsed": false,
    "ExecuteTime": {
     "end_time": "2023-12-05T18:14:29.390186700Z",
     "start_time": "2023-12-05T18:14:29.355696200Z"
    }
   }
  },
  {
   "cell_type": "code",
   "execution_count": 55,
   "outputs": [],
   "source": [
    "def optuna_optimize(trial):\n",
    "    param = {\n",
    "        'solver': trial.suggest_categorical('solver', ['lbfgs', 'saga'])\n",
    "    }\n",
    "\n",
    "    if param['solver'] == 'lbfgs':\n",
    "        param['penalty'] = 'l2' \n",
    "\n",
    "    if param['solver'] == 'saga':\n",
    "        param['penalty'] = 'elasticnet' \n",
    "        param['C'] = trial.suggest_float('C', 0.01, 100) # какие тут значения?\n",
    "        param['l1_ratio'] = trial.suggest_float('l1_ratio', 0, 1)\n",
    "        param['max_iter'] = 1000 \n",
    "\n",
    "    estimator = LogisticRegression(**param,\n",
    "                                   random_state=12345)\n",
    "\n",
    "    log_reg_pipe = Pipeline([\n",
    "        ('preprocessor', preprocessor),\n",
    "        ('smote', SMOTE(random_state=12345)),\n",
    "        ('model', estimator)\n",
    "    ])\n",
    "\n",
    "    score = cross_val_score(log_reg_pipe, X_train, y_train, cv=5, scoring='f1').mean()\n",
    "    return score"
   ],
   "metadata": {
    "collapsed": false,
    "ExecuteTime": {
     "end_time": "2023-12-05T18:14:29.447996300Z",
     "start_time": "2023-12-05T18:14:29.383629600Z"
    }
   }
  },
  {
   "cell_type": "code",
   "execution_count": 56,
   "outputs": [
    {
     "name": "stderr",
     "output_type": "stream",
     "text": [
      "[I 2023-12-05 21:14:29,406] A new study created in memory with name: LogisticRegression Optuna Optimization SMOTE\n"
     ]
    }
   ],
   "source": [
    "study_log_reg_smote = optuna.create_study(study_name=\"LogisticRegression Optuna Optimization SMOTE\",\n",
    "                                    direction='maximize')"
   ],
   "metadata": {
    "collapsed": false,
    "ExecuteTime": {
     "end_time": "2023-12-05T18:14:29.447996300Z",
     "start_time": "2023-12-05T18:14:29.405121100Z"
    }
   }
  },
  {
   "cell_type": "code",
   "execution_count": 57,
   "outputs": [
    {
     "name": "stderr",
     "output_type": "stream",
     "text": [
      "[I 2023-12-05 21:14:30,185] Trial 0 finished with value: 0.4931691414132686 and parameters: {'solver': 'lbfgs'}. Best is trial 0 with value: 0.4931691414132686.\n",
      "[I 2023-12-05 21:14:31,074] Trial 1 finished with value: 0.49305864444463354 and parameters: {'solver': 'saga', 'C': 57.217825239986155, 'l1_ratio': 0.2809208372349804}. Best is trial 0 with value: 0.4931691414132686.\n",
      "[I 2023-12-05 21:14:31,951] Trial 2 finished with value: 0.49305864444463354 and parameters: {'solver': 'saga', 'C': 89.41957140433833, 'l1_ratio': 0.657038911209046}. Best is trial 0 with value: 0.4931691414132686.\n",
      "[I 2023-12-05 21:14:32,645] Trial 3 finished with value: 0.4931691414132686 and parameters: {'solver': 'lbfgs'}. Best is trial 0 with value: 0.4931691414132686.\n",
      "[I 2023-12-05 21:14:33,337] Trial 4 finished with value: 0.4931691414132686 and parameters: {'solver': 'lbfgs'}. Best is trial 0 with value: 0.4931691414132686.\n",
      "[I 2023-12-05 21:14:34,019] Trial 5 finished with value: 0.4931691414132686 and parameters: {'solver': 'lbfgs'}. Best is trial 0 with value: 0.4931691414132686.\n",
      "[I 2023-12-05 21:14:34,699] Trial 6 finished with value: 0.4931691414132686 and parameters: {'solver': 'lbfgs'}. Best is trial 0 with value: 0.4931691414132686.\n",
      "[I 2023-12-05 21:14:35,554] Trial 7 finished with value: 0.49305864444463354 and parameters: {'solver': 'saga', 'C': 98.70990431435261, 'l1_ratio': 0.8000950240292695}. Best is trial 0 with value: 0.4931691414132686.\n",
      "[I 2023-12-05 21:14:36,230] Trial 8 finished with value: 0.4931691414132686 and parameters: {'solver': 'lbfgs'}. Best is trial 0 with value: 0.4931691414132686.\n",
      "[I 2023-12-05 21:14:36,942] Trial 9 finished with value: 0.4931691414132686 and parameters: {'solver': 'lbfgs'}. Best is trial 0 with value: 0.4931691414132686.\n",
      "[I 2023-12-05 21:14:37,812] Trial 10 finished with value: 0.49305864444463354 and parameters: {'solver': 'saga', 'C': 10.748444282155234, 'l1_ratio': 0.05031331731183075}. Best is trial 0 with value: 0.4931691414132686.\n",
      "[I 2023-12-05 21:14:38,488] Trial 11 finished with value: 0.4931691414132686 and parameters: {'solver': 'lbfgs'}. Best is trial 0 with value: 0.4931691414132686.\n",
      "[I 2023-12-05 21:14:39,167] Trial 12 finished with value: 0.4931691414132686 and parameters: {'solver': 'lbfgs'}. Best is trial 0 with value: 0.4931691414132686.\n",
      "[I 2023-12-05 21:14:39,840] Trial 13 finished with value: 0.4931691414132686 and parameters: {'solver': 'lbfgs'}. Best is trial 0 with value: 0.4931691414132686.\n",
      "[I 2023-12-05 21:14:40,514] Trial 14 finished with value: 0.4931691414132686 and parameters: {'solver': 'lbfgs'}. Best is trial 0 with value: 0.4931691414132686.\n",
      "[I 2023-12-05 21:14:41,189] Trial 15 finished with value: 0.4931691414132686 and parameters: {'solver': 'lbfgs'}. Best is trial 0 with value: 0.4931691414132686.\n",
      "[I 2023-12-05 21:14:41,873] Trial 16 finished with value: 0.4931691414132686 and parameters: {'solver': 'lbfgs'}. Best is trial 0 with value: 0.4931691414132686.\n",
      "[I 2023-12-05 21:14:42,539] Trial 17 finished with value: 0.4931691414132686 and parameters: {'solver': 'lbfgs'}. Best is trial 0 with value: 0.4931691414132686.\n",
      "[I 2023-12-05 21:14:43,403] Trial 18 finished with value: 0.49305864444463354 and parameters: {'solver': 'saga', 'C': 5.3341523488720455, 'l1_ratio': 0.9854929753906153}. Best is trial 0 with value: 0.4931691414132686.\n",
      "[I 2023-12-05 21:14:44,085] Trial 19 finished with value: 0.4931691414132686 and parameters: {'solver': 'lbfgs'}. Best is trial 0 with value: 0.4931691414132686.\n",
      "[I 2023-12-05 21:14:44,762] Trial 20 finished with value: 0.4931691414132686 and parameters: {'solver': 'lbfgs'}. Best is trial 0 with value: 0.4931691414132686.\n",
      "[I 2023-12-05 21:14:45,435] Trial 21 finished with value: 0.4931691414132686 and parameters: {'solver': 'lbfgs'}. Best is trial 0 with value: 0.4931691414132686.\n",
      "[I 2023-12-05 21:14:46,123] Trial 22 finished with value: 0.4931691414132686 and parameters: {'solver': 'lbfgs'}. Best is trial 0 with value: 0.4931691414132686.\n",
      "[I 2023-12-05 21:14:46,810] Trial 23 finished with value: 0.4931691414132686 and parameters: {'solver': 'lbfgs'}. Best is trial 0 with value: 0.4931691414132686.\n",
      "[I 2023-12-05 21:14:47,486] Trial 24 finished with value: 0.4931691414132686 and parameters: {'solver': 'lbfgs'}. Best is trial 0 with value: 0.4931691414132686.\n",
      "[I 2023-12-05 21:14:48,162] Trial 25 finished with value: 0.4931691414132686 and parameters: {'solver': 'lbfgs'}. Best is trial 0 with value: 0.4931691414132686.\n",
      "[I 2023-12-05 21:14:49,026] Trial 26 finished with value: 0.49305864444463354 and parameters: {'solver': 'saga', 'C': 41.94593157189381, 'l1_ratio': 0.42701591689769774}. Best is trial 0 with value: 0.4931691414132686.\n",
      "[I 2023-12-05 21:14:49,701] Trial 27 finished with value: 0.4931691414132686 and parameters: {'solver': 'lbfgs'}. Best is trial 0 with value: 0.4931691414132686.\n",
      "[I 2023-12-05 21:14:50,368] Trial 28 finished with value: 0.4931691414132686 and parameters: {'solver': 'lbfgs'}. Best is trial 0 with value: 0.4931691414132686.\n",
      "[I 2023-12-05 21:14:51,227] Trial 29 finished with value: 0.49305864444463354 and parameters: {'solver': 'saga', 'C': 67.8379491163041, 'l1_ratio': 0.05098403449678679}. Best is trial 0 with value: 0.4931691414132686.\n",
      "[I 2023-12-05 21:14:51,897] Trial 30 finished with value: 0.4931691414132686 and parameters: {'solver': 'lbfgs'}. Best is trial 0 with value: 0.4931691414132686.\n",
      "[I 2023-12-05 21:14:52,574] Trial 31 finished with value: 0.4931691414132686 and parameters: {'solver': 'lbfgs'}. Best is trial 0 with value: 0.4931691414132686.\n",
      "[I 2023-12-05 21:14:53,250] Trial 32 finished with value: 0.4931691414132686 and parameters: {'solver': 'lbfgs'}. Best is trial 0 with value: 0.4931691414132686.\n",
      "[I 2023-12-05 21:14:53,942] Trial 33 finished with value: 0.4931691414132686 and parameters: {'solver': 'lbfgs'}. Best is trial 0 with value: 0.4931691414132686.\n",
      "[I 2023-12-05 21:14:54,801] Trial 34 finished with value: 0.49305864444463354 and parameters: {'solver': 'saga', 'C': 32.783374423593315, 'l1_ratio': 0.5440477557253028}. Best is trial 0 with value: 0.4931691414132686.\n",
      "[I 2023-12-05 21:14:55,471] Trial 35 finished with value: 0.4931691414132686 and parameters: {'solver': 'lbfgs'}. Best is trial 0 with value: 0.4931691414132686.\n",
      "[I 2023-12-05 21:14:56,165] Trial 36 finished with value: 0.4931691414132686 and parameters: {'solver': 'lbfgs'}. Best is trial 0 with value: 0.4931691414132686.\n",
      "[I 2023-12-05 21:14:56,870] Trial 37 finished with value: 0.4931691414132686 and parameters: {'solver': 'lbfgs'}. Best is trial 0 with value: 0.4931691414132686.\n",
      "[I 2023-12-05 21:14:57,734] Trial 38 finished with value: 0.49305864444463354 and parameters: {'solver': 'saga', 'C': 74.74208478224351, 'l1_ratio': 0.28846937688530383}. Best is trial 0 with value: 0.4931691414132686.\n",
      "[I 2023-12-05 21:14:58,407] Trial 39 finished with value: 0.4931691414132686 and parameters: {'solver': 'lbfgs'}. Best is trial 0 with value: 0.4931691414132686.\n",
      "[I 2023-12-05 21:14:59,084] Trial 40 finished with value: 0.4931691414132686 and parameters: {'solver': 'lbfgs'}. Best is trial 0 with value: 0.4931691414132686.\n",
      "[I 2023-12-05 21:14:59,764] Trial 41 finished with value: 0.4931691414132686 and parameters: {'solver': 'lbfgs'}. Best is trial 0 with value: 0.4931691414132686.\n",
      "[I 2023-12-05 21:15:00,446] Trial 42 finished with value: 0.4931691414132686 and parameters: {'solver': 'lbfgs'}. Best is trial 0 with value: 0.4931691414132686.\n",
      "[I 2023-12-05 21:15:01,123] Trial 43 finished with value: 0.4931691414132686 and parameters: {'solver': 'lbfgs'}. Best is trial 0 with value: 0.4931691414132686.\n",
      "[I 2023-12-05 21:15:01,811] Trial 44 finished with value: 0.4931691414132686 and parameters: {'solver': 'lbfgs'}. Best is trial 0 with value: 0.4931691414132686.\n",
      "[I 2023-12-05 21:15:02,478] Trial 45 finished with value: 0.4931691414132686 and parameters: {'solver': 'lbfgs'}. Best is trial 0 with value: 0.4931691414132686.\n",
      "[I 2023-12-05 21:15:03,177] Trial 46 finished with value: 0.4931691414132686 and parameters: {'solver': 'lbfgs'}. Best is trial 0 with value: 0.4931691414132686.\n",
      "[I 2023-12-05 21:15:04,041] Trial 47 finished with value: 0.49305864444463354 and parameters: {'solver': 'saga', 'C': 26.489133812337137, 'l1_ratio': 0.8501771319231989}. Best is trial 0 with value: 0.4931691414132686.\n",
      "[I 2023-12-05 21:15:04,727] Trial 48 finished with value: 0.4931691414132686 and parameters: {'solver': 'lbfgs'}. Best is trial 0 with value: 0.4931691414132686.\n",
      "[I 2023-12-05 21:15:05,407] Trial 49 finished with value: 0.4931691414132686 and parameters: {'solver': 'lbfgs'}. Best is trial 0 with value: 0.4931691414132686.\n",
      "[I 2023-12-05 21:15:06,094] Trial 50 finished with value: 0.4931691414132686 and parameters: {'solver': 'lbfgs'}. Best is trial 0 with value: 0.4931691414132686.\n",
      "[I 2023-12-05 21:15:06,786] Trial 51 finished with value: 0.4931691414132686 and parameters: {'solver': 'lbfgs'}. Best is trial 0 with value: 0.4931691414132686.\n",
      "[I 2023-12-05 21:15:07,447] Trial 52 finished with value: 0.4931691414132686 and parameters: {'solver': 'lbfgs'}. Best is trial 0 with value: 0.4931691414132686.\n",
      "[I 2023-12-05 21:15:08,137] Trial 53 finished with value: 0.4931691414132686 and parameters: {'solver': 'lbfgs'}. Best is trial 0 with value: 0.4931691414132686.\n",
      "[I 2023-12-05 21:15:08,807] Trial 54 finished with value: 0.4931691414132686 and parameters: {'solver': 'lbfgs'}. Best is trial 0 with value: 0.4931691414132686.\n",
      "[I 2023-12-05 21:15:09,506] Trial 55 finished with value: 0.4931691414132686 and parameters: {'solver': 'lbfgs'}. Best is trial 0 with value: 0.4931691414132686.\n",
      "[I 2023-12-05 21:15:10,193] Trial 56 finished with value: 0.4931691414132686 and parameters: {'solver': 'lbfgs'}. Best is trial 0 with value: 0.4931691414132686.\n",
      "[I 2023-12-05 21:15:10,946] Trial 57 finished with value: 0.4931691414132686 and parameters: {'solver': 'lbfgs'}. Best is trial 0 with value: 0.4931691414132686.\n",
      "[I 2023-12-05 21:15:12,024] Trial 58 finished with value: 0.49305864444463354 and parameters: {'solver': 'saga', 'C': 53.921419311723014, 'l1_ratio': 0.9887133916028482}. Best is trial 0 with value: 0.4931691414132686.\n",
      "[I 2023-12-05 21:15:12,722] Trial 59 finished with value: 0.4931691414132686 and parameters: {'solver': 'lbfgs'}. Best is trial 0 with value: 0.4931691414132686.\n",
      "[I 2023-12-05 21:15:13,404] Trial 60 finished with value: 0.4931691414132686 and parameters: {'solver': 'lbfgs'}. Best is trial 0 with value: 0.4931691414132686.\n",
      "[I 2023-12-05 21:15:14,091] Trial 61 finished with value: 0.4931691414132686 and parameters: {'solver': 'lbfgs'}. Best is trial 0 with value: 0.4931691414132686.\n",
      "[I 2023-12-05 21:15:14,773] Trial 62 finished with value: 0.4931691414132686 and parameters: {'solver': 'lbfgs'}. Best is trial 0 with value: 0.4931691414132686.\n",
      "[I 2023-12-05 21:15:15,451] Trial 63 finished with value: 0.4931691414132686 and parameters: {'solver': 'lbfgs'}. Best is trial 0 with value: 0.4931691414132686.\n",
      "[I 2023-12-05 21:15:16,123] Trial 64 finished with value: 0.4931691414132686 and parameters: {'solver': 'lbfgs'}. Best is trial 0 with value: 0.4931691414132686.\n",
      "[I 2023-12-05 21:15:16,816] Trial 65 finished with value: 0.4931691414132686 and parameters: {'solver': 'lbfgs'}. Best is trial 0 with value: 0.4931691414132686.\n",
      "[I 2023-12-05 21:15:17,495] Trial 66 finished with value: 0.4931691414132686 and parameters: {'solver': 'lbfgs'}. Best is trial 0 with value: 0.4931691414132686.\n",
      "[I 2023-12-05 21:15:18,358] Trial 67 finished with value: 0.49305864444463354 and parameters: {'solver': 'saga', 'C': 19.041439043984965, 'l1_ratio': 0.6654269532679188}. Best is trial 0 with value: 0.4931691414132686.\n",
      "[I 2023-12-05 21:15:19,039] Trial 68 finished with value: 0.4931691414132686 and parameters: {'solver': 'lbfgs'}. Best is trial 0 with value: 0.4931691414132686.\n",
      "[I 2023-12-05 21:15:19,716] Trial 69 finished with value: 0.4931691414132686 and parameters: {'solver': 'lbfgs'}. Best is trial 0 with value: 0.4931691414132686.\n",
      "[I 2023-12-05 21:15:20,388] Trial 70 finished with value: 0.4931691414132686 and parameters: {'solver': 'lbfgs'}. Best is trial 0 with value: 0.4931691414132686.\n",
      "[I 2023-12-05 21:15:21,072] Trial 71 finished with value: 0.4931691414132686 and parameters: {'solver': 'lbfgs'}. Best is trial 0 with value: 0.4931691414132686.\n",
      "[I 2023-12-05 21:15:21,763] Trial 72 finished with value: 0.4931691414132686 and parameters: {'solver': 'lbfgs'}. Best is trial 0 with value: 0.4931691414132686.\n",
      "[I 2023-12-05 21:15:22,445] Trial 73 finished with value: 0.4931691414132686 and parameters: {'solver': 'lbfgs'}. Best is trial 0 with value: 0.4931691414132686.\n",
      "[I 2023-12-05 21:15:23,126] Trial 74 finished with value: 0.4931691414132686 and parameters: {'solver': 'lbfgs'}. Best is trial 0 with value: 0.4931691414132686.\n",
      "[I 2023-12-05 21:15:23,819] Trial 75 finished with value: 0.4931691414132686 and parameters: {'solver': 'lbfgs'}. Best is trial 0 with value: 0.4931691414132686.\n",
      "[I 2023-12-05 21:15:24,500] Trial 76 finished with value: 0.4931691414132686 and parameters: {'solver': 'lbfgs'}. Best is trial 0 with value: 0.4931691414132686.\n",
      "[I 2023-12-05 21:15:25,357] Trial 77 finished with value: 0.49305864444463354 and parameters: {'solver': 'saga', 'C': 1.8592645889829456, 'l1_ratio': 0.21557967923853816}. Best is trial 0 with value: 0.4931691414132686.\n",
      "[I 2023-12-05 21:15:26,033] Trial 78 finished with value: 0.4931691414132686 and parameters: {'solver': 'lbfgs'}. Best is trial 0 with value: 0.4931691414132686.\n",
      "[I 2023-12-05 21:15:26,722] Trial 79 finished with value: 0.4931691414132686 and parameters: {'solver': 'lbfgs'}. Best is trial 0 with value: 0.4931691414132686.\n",
      "[I 2023-12-05 21:15:27,397] Trial 80 finished with value: 0.4931691414132686 and parameters: {'solver': 'lbfgs'}. Best is trial 0 with value: 0.4931691414132686.\n",
      "[I 2023-12-05 21:15:28,080] Trial 81 finished with value: 0.4931691414132686 and parameters: {'solver': 'lbfgs'}. Best is trial 0 with value: 0.4931691414132686.\n",
      "[I 2023-12-05 21:15:28,772] Trial 82 finished with value: 0.4931691414132686 and parameters: {'solver': 'lbfgs'}. Best is trial 0 with value: 0.4931691414132686.\n",
      "[I 2023-12-05 21:15:29,466] Trial 83 finished with value: 0.4931691414132686 and parameters: {'solver': 'lbfgs'}. Best is trial 0 with value: 0.4931691414132686.\n",
      "[I 2023-12-05 21:15:30,151] Trial 84 finished with value: 0.4931691414132686 and parameters: {'solver': 'lbfgs'}. Best is trial 0 with value: 0.4931691414132686.\n",
      "[I 2023-12-05 21:15:30,816] Trial 85 finished with value: 0.4931691414132686 and parameters: {'solver': 'lbfgs'}. Best is trial 0 with value: 0.4931691414132686.\n",
      "[I 2023-12-05 21:15:31,500] Trial 86 finished with value: 0.4931691414132686 and parameters: {'solver': 'lbfgs'}. Best is trial 0 with value: 0.4931691414132686.\n",
      "[I 2023-12-05 21:15:32,178] Trial 87 finished with value: 0.4931691414132686 and parameters: {'solver': 'lbfgs'}. Best is trial 0 with value: 0.4931691414132686.\n",
      "[I 2023-12-05 21:15:32,858] Trial 88 finished with value: 0.4931691414132686 and parameters: {'solver': 'lbfgs'}. Best is trial 0 with value: 0.4931691414132686.\n",
      "[I 2023-12-05 21:15:33,727] Trial 89 finished with value: 0.49305864444463354 and parameters: {'solver': 'saga', 'C': 40.01130420139317, 'l1_ratio': 0.49605677783820873}. Best is trial 0 with value: 0.4931691414132686.\n",
      "[I 2023-12-05 21:15:34,401] Trial 90 finished with value: 0.4931691414132686 and parameters: {'solver': 'lbfgs'}. Best is trial 0 with value: 0.4931691414132686.\n",
      "[I 2023-12-05 21:15:35,077] Trial 91 finished with value: 0.4931691414132686 and parameters: {'solver': 'lbfgs'}. Best is trial 0 with value: 0.4931691414132686.\n",
      "[I 2023-12-05 21:15:35,759] Trial 92 finished with value: 0.4931691414132686 and parameters: {'solver': 'lbfgs'}. Best is trial 0 with value: 0.4931691414132686.\n",
      "[I 2023-12-05 21:15:36,427] Trial 93 finished with value: 0.4931691414132686 and parameters: {'solver': 'lbfgs'}. Best is trial 0 with value: 0.4931691414132686.\n",
      "[I 2023-12-05 21:15:37,107] Trial 94 finished with value: 0.4931691414132686 and parameters: {'solver': 'lbfgs'}. Best is trial 0 with value: 0.4931691414132686.\n",
      "[I 2023-12-05 21:15:37,791] Trial 95 finished with value: 0.4931691414132686 and parameters: {'solver': 'lbfgs'}. Best is trial 0 with value: 0.4931691414132686.\n",
      "[I 2023-12-05 21:15:38,486] Trial 96 finished with value: 0.4931691414132686 and parameters: {'solver': 'lbfgs'}. Best is trial 0 with value: 0.4931691414132686.\n",
      "[I 2023-12-05 21:15:39,197] Trial 97 finished with value: 0.4931691414132686 and parameters: {'solver': 'lbfgs'}. Best is trial 0 with value: 0.4931691414132686.\n",
      "[I 2023-12-05 21:15:39,873] Trial 98 finished with value: 0.4931691414132686 and parameters: {'solver': 'lbfgs'}. Best is trial 0 with value: 0.4931691414132686.\n",
      "[I 2023-12-05 21:15:40,547] Trial 99 finished with value: 0.4931691414132686 and parameters: {'solver': 'lbfgs'}. Best is trial 0 with value: 0.4931691414132686.\n"
     ]
    }
   ],
   "source": [
    "study_log_reg_smote.optimize(optuna_optimize, n_trials=100)"
   ],
   "metadata": {
    "collapsed": false,
    "ExecuteTime": {
     "end_time": "2023-12-05T18:15:40.571945100Z",
     "start_time": "2023-12-05T18:14:29.418757300Z"
    }
   }
  },
  {
   "cell_type": "code",
   "execution_count": 58,
   "outputs": [
    {
     "name": "stdout",
     "output_type": "stream",
     "text": [
      "Наилучшие значения гиперпараметров Logistic Regression: {'solver': 'lbfgs'}\n",
      "f1_score на обучающем наборе: 0.493\n"
     ]
    }
   ],
   "source": [
    "print(\"Наилучшие значения гиперпараметров Logistic Regression: {}\".format(study_log_reg_smote.best_params))\n",
    "print(\"f1_score на обучающем наборе: {:.3f}\". format(study_log_reg_smote.best_value))"
   ],
   "metadata": {
    "collapsed": false,
    "ExecuteTime": {
     "end_time": "2023-12-05T18:15:40.625493600Z",
     "start_time": "2023-12-05T18:15:40.566509200Z"
    }
   }
  },
  {
   "cell_type": "code",
   "execution_count": 59,
   "outputs": [],
   "source": [
    "with mlflow.start_run(nested=True,\n",
    "                      run_name='log_reg_pipeline_smote'):\n",
    "\n",
    "    best_params = study_log_reg_smote.best_params\n",
    "    best_score = study_log_reg_smote.best_value\n",
    "    mlflow.log_params(best_params)\n",
    "\n",
    "    log_reg_pipe_sm = Pipeline([\n",
    "        ('preprocessor', preprocessor),\n",
    "        ('smote', SMOTE(random_state=12345)),\n",
    "        ('model', LogisticRegression(**best_params,\n",
    "                                     random_state=12345))\n",
    "    ])\n",
    "\n",
    "    log_reg_pipe_sm.fit(X_train, y_train)\n",
    "\n",
    "    pred_proba = log_reg_pipe_sm.predict_proba(X_test)[:, 1]\n",
    "    roc_auc_lr_sm = roc_auc_score(y_test, pred_proba)\n",
    "    \n",
    "    mlflow.log_metrics({\n",
    "        'f1_cv': best_score,\n",
    "        'roc_auc': roc_auc_lr_sm,\n",
    "        'balanced_accuracy': balanced_accuracy_score(y_test, np.round(pred_proba, 0)),\n",
    "        'f1': f1_score(y_test, np.round(pred_proba, 0))\n",
    "    })\n",
    "\n",
    "    mlflow.sklearn.log_model(log_reg_pipe_sm, 'log_reg_pipeline_smote')"
   ],
   "metadata": {
    "collapsed": false,
    "ExecuteTime": {
     "end_time": "2023-12-05T18:15:45.202547400Z",
     "start_time": "2023-12-05T18:15:40.579893300Z"
    }
   }
  },
  {
   "cell_type": "markdown",
   "source": [
    "### 3.2.4 Метод опорных векторов"
   ],
   "metadata": {
    "collapsed": false
   }
  },
  {
   "cell_type": "code",
   "execution_count": 60,
   "outputs": [],
   "source": [
    "def optuna_optimize(trial):\n",
    "\n",
    "    param = {\n",
    "        'C': trial.suggest_float('C', 0.01, 3)  \n",
    "    }\n",
    "\n",
    "    estimator = SVC(**param,\n",
    "                    random_state=12345,\n",
    "                    probability=True)\n",
    "\n",
    "    svc_pipe = Pipeline([\n",
    "        ('preprocessor', preprocessor),\n",
    "        ('smote', SMOTE(random_state=12345)),\n",
    "        ('model', estimator)\n",
    "    ])\n",
    "\n",
    "    score = cross_val_score(svc_pipe, X_train, y_train, cv=5, scoring='f1').mean()\n",
    "    \n",
    "    return score"
   ],
   "metadata": {
    "collapsed": false,
    "ExecuteTime": {
     "end_time": "2023-12-05T18:15:45.219099900Z",
     "start_time": "2023-12-05T18:15:45.208692100Z"
    }
   }
  },
  {
   "cell_type": "code",
   "execution_count": 61,
   "outputs": [
    {
     "name": "stderr",
     "output_type": "stream",
     "text": [
      "[I 2023-12-05 21:15:45,219] A new study created in memory with name: SVC Optuna Optimization SMOTE\n"
     ]
    }
   ],
   "source": [
    "study_svc_smote = optuna.create_study(study_name=\"SVC Optuna Optimization SMOTE\",\n",
    "                                direction='maximize')"
   ],
   "metadata": {
    "collapsed": false,
    "ExecuteTime": {
     "end_time": "2023-12-05T18:15:45.299473300Z",
     "start_time": "2023-12-05T18:15:45.219099900Z"
    }
   }
  },
  {
   "cell_type": "code",
   "execution_count": 62,
   "outputs": [
    {
     "name": "stderr",
     "output_type": "stream",
     "text": [
      "[I 2023-12-05 21:17:16,652] Trial 0 finished with value: 0.5744988438860321 and parameters: {'C': 1.8548086852225694}. Best is trial 0 with value: 0.5744988438860321.\n",
      "[I 2023-12-05 21:18:47,151] Trial 1 finished with value: 0.5764932152244103 and parameters: {'C': 1.3625219838190432}. Best is trial 1 with value: 0.5764932152244103.\n",
      "[I 2023-12-05 21:20:37,430] Trial 2 finished with value: 0.5724763002118598 and parameters: {'C': 2.173562093729938}. Best is trial 1 with value: 0.5764932152244103.\n",
      "[I 2023-12-05 21:22:49,715] Trial 3 finished with value: 0.5728576480296741 and parameters: {'C': 2.992730595298434}. Best is trial 1 with value: 0.5764932152244103.\n",
      "[I 2023-12-05 21:25:06,672] Trial 4 finished with value: 0.5751268826319214 and parameters: {'C': 1.116124106755829}. Best is trial 1 with value: 0.5764932152244103.\n",
      "[I 2023-12-05 21:27:58,208] Trial 5 finished with value: 0.5758169694310095 and parameters: {'C': 1.2790053206971725}. Best is trial 1 with value: 0.5764932152244103.\n",
      "[I 2023-12-05 21:29:52,660] Trial 6 finished with value: 0.5620652599155292 and parameters: {'C': 0.19533119422446021}. Best is trial 1 with value: 0.5764932152244103.\n",
      "[I 2023-12-05 21:31:46,188] Trial 7 finished with value: 0.573360247228317 and parameters: {'C': 2.249399516842158}. Best is trial 1 with value: 0.5764932152244103.\n",
      "[I 2023-12-05 21:33:39,378] Trial 8 finished with value: 0.5734081528668151 and parameters: {'C': 2.008923447670876}. Best is trial 1 with value: 0.5764932152244103.\n",
      "[I 2023-12-05 21:35:24,120] Trial 9 finished with value: 0.5717419948044581 and parameters: {'C': 2.1225767397083484}. Best is trial 1 with value: 0.5764932152244103.\n"
     ]
    }
   ],
   "source": [
    "study_svc_smote.optimize(optuna_optimize, n_trials=10)"
   ],
   "metadata": {
    "collapsed": false,
    "ExecuteTime": {
     "end_time": "2023-12-05T18:35:24.184432200Z",
     "start_time": "2023-12-05T18:15:45.235932200Z"
    }
   }
  },
  {
   "cell_type": "code",
   "execution_count": 63,
   "outputs": [
    {
     "name": "stdout",
     "output_type": "stream",
     "text": [
      "Наилучшие значения гиперпараметров SVC: {'C': 1.3625219838190432}\n",
      "f1_score на обучающем наборе: 0.576\n"
     ]
    }
   ],
   "source": [
    "print(\"Наилучшие значения гиперпараметров SVC: {}\".format(study_svc_smote.best_params))\n",
    "print(\"f1_score на обучающем наборе: {:.3f}\". format(study_svc_smote.best_value))"
   ],
   "metadata": {
    "collapsed": false,
    "ExecuteTime": {
     "end_time": "2023-12-05T18:35:24.259677300Z",
     "start_time": "2023-12-05T18:35:24.225353300Z"
    }
   }
  },
  {
   "cell_type": "code",
   "execution_count": 64,
   "outputs": [],
   "source": [
    "with mlflow.start_run(nested=True,\n",
    "                      run_name='svc_pipeline_smote'):\n",
    "\n",
    "    best_params = study_svc_smote.best_params\n",
    "    best_score = study_svc_smote.best_value\n",
    "    mlflow.log_params(best_params)\n",
    "\n",
    "    svc_pipe_sm = Pipeline([\n",
    "        ('preprocessor', preprocessor),\n",
    "        ('smote', SMOTE(random_state=12345)),\n",
    "        ('model', SVC(**best_params,\n",
    "                      random_state=12345,\n",
    "                      probability=True))\n",
    "    ])\n",
    "\n",
    "    svc_pipe_sm.fit(X_train, y_train)\n",
    "    pred_proba = svc_pipe_sm.predict_proba(X_test)[:, 1]\n",
    "    roc_auc_svc_sm = roc_auc_score(y_test, pred_proba)\n",
    "    \n",
    "    mlflow.log_metrics({\n",
    "        'f1_cv': best_score,\n",
    "        'roc_auc': roc_auc_svc_sm,\n",
    "        'balanced_accuracy': balanced_accuracy_score(y_test, np.round(pred_proba, 0)),\n",
    "        'f1': f1_score(y_test, np.round(pred_proba, 0))\n",
    "    })\n",
    "\n",
    "    mlflow.sklearn.log_model(svc_pipe_sm, 'svc_pipeline_smote')"
   ],
   "metadata": {
    "collapsed": false,
    "ExecuteTime": {
     "end_time": "2023-12-05T18:36:09.889773900Z",
     "start_time": "2023-12-05T18:35:24.294989800Z"
    }
   }
  },
  {
   "cell_type": "code",
   "execution_count": 65,
   "outputs": [],
   "source": [
    "colNames = [\"XGBoost\", \"Random Forest\", \"Logistic Regression\", \"SVC\"]\n",
    "f1_results = {\"Imbalanced\":[study_xgb.best_value, '-', '-', '-'],\n",
    "           \"Class Weight\":[study_xgb_cw.best_value, \n",
    "                           study_rf.best_value, \n",
    "                           study_log_reg.best_value, \n",
    "                           study_svc.best_value],\n",
    "           \"SMOTE\":[study_xgb_smote.best_value, \n",
    "                    study_rf_smote.best_value, \n",
    "                    study_log_reg_smote.best_value, \n",
    "                    study_svc_smote.best_value]}"
   ],
   "metadata": {
    "collapsed": false,
    "ExecuteTime": {
     "end_time": "2023-12-05T18:36:09.937681600Z",
     "start_time": "2023-12-05T18:36:09.910689900Z"
    }
   }
  },
  {
   "cell_type": "code",
   "execution_count": 66,
   "outputs": [],
   "source": [
    "# результаты метрики f1 score на кросс-валидации:\n",
    "f1_table = pd.DataFrame.from_dict(f1_results, orient='index', columns=colNames)"
   ],
   "metadata": {
    "collapsed": false,
    "ExecuteTime": {
     "end_time": "2023-12-05T18:36:09.983952100Z",
     "start_time": "2023-12-05T18:36:09.927572Z"
    }
   }
  },
  {
   "cell_type": "code",
   "execution_count": 67,
   "outputs": [
    {
     "data": {
      "text/plain": "               XGBoost Random Forest Logistic Regression       SVC\nImbalanced    0.601981             -                   -         -\nClass Weight  0.612968      0.624643            0.491084   0.57963\nSMOTE         0.629686      0.613441            0.493169  0.576493",
      "text/html": "<div>\n<style scoped>\n    .dataframe tbody tr th:only-of-type {\n        vertical-align: middle;\n    }\n\n    .dataframe tbody tr th {\n        vertical-align: top;\n    }\n\n    .dataframe thead th {\n        text-align: right;\n    }\n</style>\n<table border=\"1\" class=\"dataframe\">\n  <thead>\n    <tr style=\"text-align: right;\">\n      <th></th>\n      <th>XGBoost</th>\n      <th>Random Forest</th>\n      <th>Logistic Regression</th>\n      <th>SVC</th>\n    </tr>\n  </thead>\n  <tbody>\n    <tr>\n      <th>Imbalanced</th>\n      <td>0.601981</td>\n      <td>-</td>\n      <td>-</td>\n      <td>-</td>\n    </tr>\n    <tr>\n      <th>Class Weight</th>\n      <td>0.612968</td>\n      <td>0.624643</td>\n      <td>0.491084</td>\n      <td>0.57963</td>\n    </tr>\n    <tr>\n      <th>SMOTE</th>\n      <td>0.629686</td>\n      <td>0.613441</td>\n      <td>0.493169</td>\n      <td>0.576493</td>\n    </tr>\n  </tbody>\n</table>\n</div>"
     },
     "execution_count": 67,
     "metadata": {},
     "output_type": "execute_result"
    }
   ],
   "source": [
    "f1_table"
   ],
   "metadata": {
    "collapsed": false,
    "ExecuteTime": {
     "end_time": "2023-12-05T18:36:10.064940Z",
     "start_time": "2023-12-05T18:36:09.969599100Z"
    }
   }
  },
  {
   "cell_type": "code",
   "execution_count": 68,
   "outputs": [],
   "source": [
    "roc_auc_results = {\"Imbalanced\":[roc_auc_xgb_imb, '-', '-', '-'],\n",
    "           \"Class Weight\":[roc_auc_xgb_cw,\n",
    "                           roc_auc_rf_cw,\n",
    "                           roc_auc_lr_cw,\n",
    "                           roc_auc_svc_cw],\n",
    "           \"SMOTE\":[roc_auc_xgb_sm,\n",
    "                    roc_auc_rf_sm,\n",
    "                    roc_auc_lr_sm,\n",
    "                    roc_auc_svc_sm]}"
   ],
   "metadata": {
    "collapsed": false,
    "ExecuteTime": {
     "end_time": "2023-12-05T18:36:10.071107400Z",
     "start_time": "2023-12-05T18:36:10.055566200Z"
    }
   }
  },
  {
   "cell_type": "code",
   "execution_count": 69,
   "outputs": [],
   "source": [
    "# результаты метрики roc_auc на тесте:\n",
    "roc_auc_table = pd.DataFrame.from_dict(roc_auc_results, orient='index', columns=colNames)"
   ],
   "metadata": {
    "collapsed": false,
    "ExecuteTime": {
     "end_time": "2023-12-05T18:36:10.082808300Z",
     "start_time": "2023-12-05T18:36:10.068630400Z"
    }
   }
  },
  {
   "cell_type": "code",
   "execution_count": 70,
   "outputs": [
    {
     "data": {
      "text/plain": "               XGBoost Random Forest Logistic Regression       SVC\nImbalanced    0.852621             -                   -         -\nClass Weight  0.867047      0.869182             0.78855  0.844294\nSMOTE         0.869714      0.860318            0.787663    0.8291",
      "text/html": "<div>\n<style scoped>\n    .dataframe tbody tr th:only-of-type {\n        vertical-align: middle;\n    }\n\n    .dataframe tbody tr th {\n        vertical-align: top;\n    }\n\n    .dataframe thead th {\n        text-align: right;\n    }\n</style>\n<table border=\"1\" class=\"dataframe\">\n  <thead>\n    <tr style=\"text-align: right;\">\n      <th></th>\n      <th>XGBoost</th>\n      <th>Random Forest</th>\n      <th>Logistic Regression</th>\n      <th>SVC</th>\n    </tr>\n  </thead>\n  <tbody>\n    <tr>\n      <th>Imbalanced</th>\n      <td>0.852621</td>\n      <td>-</td>\n      <td>-</td>\n      <td>-</td>\n    </tr>\n    <tr>\n      <th>Class Weight</th>\n      <td>0.867047</td>\n      <td>0.869182</td>\n      <td>0.78855</td>\n      <td>0.844294</td>\n    </tr>\n    <tr>\n      <th>SMOTE</th>\n      <td>0.869714</td>\n      <td>0.860318</td>\n      <td>0.787663</td>\n      <td>0.8291</td>\n    </tr>\n  </tbody>\n</table>\n</div>"
     },
     "execution_count": 70,
     "metadata": {},
     "output_type": "execute_result"
    }
   ],
   "source": [
    "roc_auc_table"
   ],
   "metadata": {
    "collapsed": false,
    "ExecuteTime": {
     "end_time": "2023-12-05T18:36:10.222056Z",
     "start_time": "2023-12-05T18:36:10.080797100Z"
    }
   }
  },
  {
   "cell_type": "markdown",
   "source": [
    "# 4. Тестирование лучшей модели\n",
    "\n",
    "Лучший результат метрики f1 на кросс-валидации показывает модель XGBoost с применением техники SMOTE, на втором месте - алгоритм Random Forest с назначением большего веса меньшему классу. При этом метрика ROC-AUC у первой равна 0,87, у второй - 0,869. Протестируем обе эти модели.\n"
   ],
   "metadata": {
    "collapsed": false
   }
  },
  {
   "cell_type": "code",
   "execution_count": 71,
   "outputs": [
    {
     "data": {
      "text/plain": "Downloading artifacts:   0%|          | 0/5 [00:00<?, ?it/s]",
      "application/vnd.jupyter.widget-view+json": {
       "version_major": 2,
       "version_minor": 0,
       "model_id": "fd636afb75b74dbd8c45598ac90402b3"
      }
     },
     "metadata": {},
     "output_type": "display_data"
    }
   ],
   "source": [
    "best_model_xgb = mlflow.sklearn.load_model('runs:/19b43c13b59844d08026e3194c36de0e/xgb_pipeline_smote')"
   ],
   "metadata": {
    "collapsed": false,
    "ExecuteTime": {
     "end_time": "2023-12-05T18:41:19.949976700Z",
     "start_time": "2023-12-05T18:41:19.294075400Z"
    }
   }
  },
  {
   "cell_type": "code",
   "execution_count": 72,
   "outputs": [
    {
     "data": {
      "text/plain": "Downloading artifacts:   0%|          | 0/5 [00:00<?, ?it/s]",
      "application/vnd.jupyter.widget-view+json": {
       "version_major": 2,
       "version_minor": 0,
       "model_id": "beb98544a9d94147bc67c5f1c92ba102"
      }
     },
     "metadata": {},
     "output_type": "display_data"
    }
   ],
   "source": [
    "best_model_rf = mlflow.sklearn.load_model('runs:/c98cc19674934828bb5f46c184b4ae0a/rf_pipeline_class_weight')"
   ],
   "metadata": {
    "collapsed": false,
    "ExecuteTime": {
     "end_time": "2023-12-05T18:42:19.014498600Z",
     "start_time": "2023-12-05T18:42:16.437816400Z"
    }
   }
  },
  {
   "cell_type": "code",
   "execution_count": 73,
   "outputs": [],
   "source": [
    "# joblib.dump(best_model, 'best_model.pkl')"
   ],
   "metadata": {
    "collapsed": false,
    "ExecuteTime": {
     "end_time": "2023-12-05T18:42:19.053010Z",
     "start_time": "2023-12-05T18:42:19.014498600Z"
    }
   }
  },
  {
   "cell_type": "code",
   "execution_count": 93,
   "outputs": [
    {
     "name": "stdout",
     "output_type": "stream",
     "text": [
      "Результаты метрик модели XGBoost:\n",
      "\n",
      "ROC-AUC: 0.8697\n",
      "f1 score: 0.6315\n",
      "Balanced accuracy: 0.7719\n",
      "\n",
      "Результаты метрик модели Random Forest:\n",
      "\n",
      "ROC-AUC: 0.8692\n",
      "f1 score: 0.6467\n",
      "Balanced accuracy: 0.7941\n"
     ]
    }
   ],
   "source": [
    "pred_proba_xgb_smote = best_model_xgb.predict_proba(X_test)[:, 1]\n",
    "pred_proba_rf_cw = best_model_rf.predict_proba(X_test)[:, 1]\n",
    "print('Результаты метрик модели XGBoost:')\n",
    "print()\n",
    "print('ROC-AUC: {:.4f}'.format(roc_auc_score(y_test, pred_proba_xgb_smote)))\n",
    "print('f1 score: {:.4f}'.format(f1_score(y_test, np.round(pred_proba_xgb_smote))))\n",
    "print('Balanced accuracy: {:.4f}'.format(balanced_accuracy_score(y_test, np.round(pred_proba_xgb_smote))))\n",
    "print()\n",
    "print('Результаты метрик модели Random Forest:')\n",
    "print()\n",
    "print('ROC-AUC: {:.4f}'.format(roc_auc_score(y_test, pred_proba_rf_cw)))\n",
    "print('f1 score: {:.4f}'.format(f1_score(y_test, np.round(pred_proba_rf_cw))))\n",
    "print('Balanced accuracy: {:.4f}'.format(balanced_accuracy_score(y_test, np.round(pred_proba_rf_cw))))"
   ],
   "metadata": {
    "collapsed": false,
    "ExecuteTime": {
     "end_time": "2023-12-05T18:55:16.103009800Z",
     "start_time": "2023-12-05T18:55:15.941235700Z"
    }
   }
  },
  {
   "cell_type": "code",
   "execution_count": 94,
   "outputs": [
    {
     "data": {
      "text/plain": "<Figure size 1000x800 with 1 Axes>",
      "image/png": "[encoded data removed]"
     },
     "metadata": {},
     "output_type": "display_data"
    }
   ],
   "source": [
    "plt.figure(figsize=(10, 8))\n",
    "\n",
    "fpr, tpr, thresholds = roc_curve(y_test, pred_proba_xgb_smote)\n",
    "plt.plot(fpr, tpr, label=f'XGBClassifier: {round(roc_auc_score(y_test, pred_proba_xgb_smote), 4)}')\n",
    "\n",
    "fpr, tpr, thresholds = roc_curve(y_test, pred_proba_rf_cw)\n",
    "plt.plot(fpr, tpr, label=f'RandomForest: {round(roc_auc_score(y_test, pred_proba_rf_cw), 4)}')\n",
    "\n",
    "plt.plot([0, 1], [0, 1], linestyle='--', label='coin')\n",
    "\n",
    "plt.xlim([-0.02, 1.0])\n",
    "plt.ylim([0.0, 1.05])\n",
    "\n",
    "plt.xlabel('False Positive Rate')\n",
    "plt.ylabel('True Positive Rate')\n",
    "\n",
    "plt.title('ROC-кривая')\n",
    "\n",
    "plt.legend(loc='lower right')\n",
    "\n",
    "plt.show()"
   ],
   "metadata": {
    "collapsed": false,
    "ExecuteTime": {
     "end_time": "2023-12-05T18:55:49.448140300Z",
     "start_time": "2023-12-05T18:55:49.134629800Z"
    }
   }
  },
  {
   "cell_type": "markdown",
   "source": [
    "В ходе работы над проектом были проделаны следующие шаги:\n",
    "\n",
    "1) Подготовлены данные к исследованию, а именно:\n",
    "\n",
    "- убраны из данных неинформативные столбцы с номером строки, номером ID и фамилией клиента;\n",
    "\n",
    "- обработаны пропуски в столбце Tenure - период, в течение которого человек является клиентом банка;\n",
    "\n",
    "- сделано кодирование категориальных признаков методом One-Hot Encoding, подходящим для разных видов ML;;\n",
    "\n",
    "- данные поделены на тренировочную, валидационную и тестовую выборки;\n",
    "\n",
    "- проверен датасет на сбалансированность классов в таргете (20% положительных ответов);\n",
    "\n",
    "- выполнена трансформация Йео-Джонсона;\n",
    "\n",
    "- сделано масштабирование численных для моделей SVM и логистической регрессии.\n",
    "\n",
    "2) Проведено исследование задачи: построены четыре модели классификации: XGBoost, Случайный лес, Метод опорных векторов и Логистическая регрессия.\n",
    "\n",
    "3) Устранен дисбаланс классов двумя способами: с помощью применения техники SMOTE и добавления модели гиперпараметра class_weight. На новых данных модель XGBoost показала результат выше при применении техники SMOTE. Подбор гиперпараметров с изменением веса редкого класса помог довести показатель F1-меры до 0,63. Добавление гиперпараметра class_weight оказалось чуть менее эффективно. Наилучшее качество достигается при использовании гиперпараметров:\n",
    "- n_estimators=35, \n",
    "- max_depth=16, \n",
    "- min_samples_leaf=5.\n",
    "\n",
    "4) Проведено тестирование финальной модели на тестовой выборке. Можно подтвердить, что нам получилось справиться с дисбалансом классов и удалось получить метрику f1 > 0.59."
   ],
   "metadata": {
    "collapsed": false
   }
  },
  {
   "cell_type": "code",
   "execution_count": null,
   "outputs": [],
   "source": [],
   "metadata": {
    "collapsed": false
   }
  }
 ],
 "metadata": {
  "kernelspec": {
   "display_name": "Python 3",
   "language": "python",
   "name": "python3"
  },
  "language_info": {
   "codemirror_mode": {
    "name": "ipython",
    "version": 2
   },
   "file_extension": ".py",
   "mimetype": "text/x-python",
   "name": "python",
   "nbconvert_exporter": "python",
   "pygments_lexer": "ipython2",
   "version": "2.7.6"
  }
 },
 "nbformat": 4,
 "nbformat_minor": 0
}
